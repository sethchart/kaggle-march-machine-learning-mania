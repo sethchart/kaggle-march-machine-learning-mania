{
 "cells": [
  {
   "cell_type": "markdown",
   "id": "58ddc3e2",
   "metadata": {
    "papermill": {
     "duration": 0.014483,
     "end_time": "2022-03-15T21:39:47.548521",
     "exception": false,
     "start_time": "2022-03-15T21:39:47.534038",
     "status": "completed"
    },
    "tags": []
   },
   "source": [
    "# Goal\n",
    "In this notebook, we will reformat the data contained in `MNCAATourneyCompactResults.csv` to better match the required submission format."
   ]
  },
  {
   "cell_type": "markdown",
   "id": "5d54f841",
   "metadata": {
    "papermill": {
     "duration": 0.013089,
     "end_time": "2022-03-15T21:39:47.577676",
     "exception": false,
     "start_time": "2022-03-15T21:39:47.564587",
     "status": "completed"
    },
    "tags": []
   },
   "source": [
    "## Imports"
   ]
  },
  {
   "cell_type": "code",
   "execution_count": 1,
   "id": "e0f04c5b",
   "metadata": {
    "execution": {
     "iopub.execute_input": "2022-03-15T21:39:47.614065Z",
     "iopub.status.busy": "2022-03-15T21:39:47.606561Z",
     "iopub.status.idle": "2022-03-15T21:39:47.635574Z",
     "shell.execute_reply": "2022-03-15T21:39:47.636262Z",
     "shell.execute_reply.started": "2022-03-15T21:33:35.580555Z"
    },
    "papermill": {
     "duration": 0.046195,
     "end_time": "2022-03-15T21:39:47.636731",
     "exception": false,
     "start_time": "2022-03-15T21:39:47.590536",
     "status": "completed"
    },
    "tags": []
   },
   "outputs": [
    {
     "name": "stdout",
     "output_type": "stream",
     "text": [
      "/kaggle/input/mens-march-mania-2022/MDataFiles_Stage2/Conferences.csv\n",
      "/kaggle/input/mens-march-mania-2022/MDataFiles_Stage2/MMasseyOrdinals_thruDay128.csv\n",
      "/kaggle/input/mens-march-mania-2022/MDataFiles_Stage2/MNCAATourneySeedRoundSlots.csv\n",
      "/kaggle/input/mens-march-mania-2022/MDataFiles_Stage2/MRegularSeasonDetailedResults.csv\n",
      "/kaggle/input/mens-march-mania-2022/MDataFiles_Stage2/MNCAATourneyCompactResults.csv\n",
      "/kaggle/input/mens-march-mania-2022/MDataFiles_Stage2/MGameCities.csv\n",
      "/kaggle/input/mens-march-mania-2022/MDataFiles_Stage2/MSampleSubmissionStage2.csv\n",
      "/kaggle/input/mens-march-mania-2022/MDataFiles_Stage2/MSeasons.csv\n",
      "/kaggle/input/mens-march-mania-2022/MDataFiles_Stage2/MSecondaryTourneyTeams.csv\n",
      "/kaggle/input/mens-march-mania-2022/MDataFiles_Stage2/Cities.csv\n",
      "/kaggle/input/mens-march-mania-2022/MDataFiles_Stage2/MTeamSpellings.csv\n",
      "/kaggle/input/mens-march-mania-2022/MDataFiles_Stage2/MRegularSeasonCompactResults.csv\n",
      "/kaggle/input/mens-march-mania-2022/MDataFiles_Stage2/MSecondaryTourneyCompactResults.csv\n",
      "/kaggle/input/mens-march-mania-2022/MDataFiles_Stage2/MNCAATourneySlots.csv\n",
      "/kaggle/input/mens-march-mania-2022/MDataFiles_Stage2/MNCAATourneySeeds.csv\n",
      "/kaggle/input/mens-march-mania-2022/MDataFiles_Stage2/MTeamCoaches.csv\n",
      "/kaggle/input/mens-march-mania-2022/MDataFiles_Stage2/MConferenceTourneyGames.csv\n",
      "/kaggle/input/mens-march-mania-2022/MDataFiles_Stage2/MNCAATourneyDetailedResults.csv\n",
      "/kaggle/input/mens-march-mania-2022/MDataFiles_Stage2/MTeamConferences.csv\n",
      "/kaggle/input/mens-march-mania-2022/MDataFiles_Stage2/MTeams.csv\n",
      "/kaggle/input/mens-march-mania-2022/MDataFiles_Stage1/Conferences.csv\n",
      "/kaggle/input/mens-march-mania-2022/MDataFiles_Stage1/MNCAATourneySeedRoundSlots.csv\n",
      "/kaggle/input/mens-march-mania-2022/MDataFiles_Stage1/MRegularSeasonDetailedResults.csv\n",
      "/kaggle/input/mens-march-mania-2022/MDataFiles_Stage1/MNCAATourneyCompactResults.csv\n",
      "/kaggle/input/mens-march-mania-2022/MDataFiles_Stage1/MGameCities.csv\n",
      "/kaggle/input/mens-march-mania-2022/MDataFiles_Stage1/MSeasons.csv\n",
      "/kaggle/input/mens-march-mania-2022/MDataFiles_Stage1/MSecondaryTourneyTeams.csv\n",
      "/kaggle/input/mens-march-mania-2022/MDataFiles_Stage1/Cities.csv\n",
      "/kaggle/input/mens-march-mania-2022/MDataFiles_Stage1/MTeamSpellings.csv\n",
      "/kaggle/input/mens-march-mania-2022/MDataFiles_Stage1/MRegularSeasonCompactResults.csv\n",
      "/kaggle/input/mens-march-mania-2022/MDataFiles_Stage1/MMasseyOrdinals.csv\n",
      "/kaggle/input/mens-march-mania-2022/MDataFiles_Stage1/MSecondaryTourneyCompactResults.csv\n",
      "/kaggle/input/mens-march-mania-2022/MDataFiles_Stage1/MNCAATourneySlots.csv\n",
      "/kaggle/input/mens-march-mania-2022/MDataFiles_Stage1/MNCAATourneySeeds.csv\n",
      "/kaggle/input/mens-march-mania-2022/MDataFiles_Stage1/MTeamCoaches.csv\n",
      "/kaggle/input/mens-march-mania-2022/MDataFiles_Stage1/MConferenceTourneyGames.csv\n",
      "/kaggle/input/mens-march-mania-2022/MDataFiles_Stage1/MNCAATourneyDetailedResults.csv\n",
      "/kaggle/input/mens-march-mania-2022/MDataFiles_Stage1/MSampleSubmissionStage1.csv\n",
      "/kaggle/input/mens-march-mania-2022/MDataFiles_Stage1/MTeamConferences.csv\n",
      "/kaggle/input/mens-march-mania-2022/MDataFiles_Stage1/MTeams.csv\n"
     ]
    }
   ],
   "source": [
    "# This Python 3 environment comes with many helpful analytics libraries installed\n",
    "# It is defined by the kaggle/python Docker image: https://github.com/kaggle/docker-python\n",
    "# For example, here's several helpful packages to load\n",
    "\n",
    "import numpy as np # linear algebra\n",
    "import pandas as pd # data processing, CSV file I/O (e.g. pd.read_csv)\n",
    "\n",
    "# Input data files are available in the read-only \"../input/\" directory\n",
    "# For example, running this (by clicking run or pressing Shift+Enter) will list all files under the input directory\n",
    "\n",
    "import os\n",
    "for dirname, _, filenames in os.walk('/kaggle/input'):\n",
    "    for filename in filenames:\n",
    "        print(os.path.join(dirname, filename))\n",
    "\n",
    "# You can write up to 20GB to the current directory (/kaggle/working/) that gets preserved as output when you create a version using \"Save & Run All\" \n",
    "# You can also write temporary files to /kaggle/temp/, but they won't be saved outside of the current session"
   ]
  },
  {
   "cell_type": "markdown",
   "id": "9f4b2959",
   "metadata": {
    "papermill": {
     "duration": 0.013807,
     "end_time": "2022-03-15T21:39:47.664424",
     "exception": false,
     "start_time": "2022-03-15T21:39:47.650617",
     "status": "completed"
    },
    "tags": []
   },
   "source": [
    "## Read in the data"
   ]
  },
  {
   "cell_type": "code",
   "execution_count": 2,
   "id": "4f9a3b5d",
   "metadata": {
    "execution": {
     "iopub.execute_input": "2022-03-15T21:39:47.694128Z",
     "iopub.status.busy": "2022-03-15T21:39:47.693425Z",
     "iopub.status.idle": "2022-03-15T21:39:47.728788Z",
     "shell.execute_reply": "2022-03-15T21:39:47.729470Z",
     "shell.execute_reply.started": "2022-03-15T21:34:48.876288Z"
    },
    "papermill": {
     "duration": 0.052135,
     "end_time": "2022-03-15T21:39:47.729658",
     "exception": false,
     "start_time": "2022-03-15T21:39:47.677523",
     "status": "completed"
    },
    "tags": []
   },
   "outputs": [
    {
     "data": {
      "text/html": [
       "<div>\n",
       "<style scoped>\n",
       "    .dataframe tbody tr th:only-of-type {\n",
       "        vertical-align: middle;\n",
       "    }\n",
       "\n",
       "    .dataframe tbody tr th {\n",
       "        vertical-align: top;\n",
       "    }\n",
       "\n",
       "    .dataframe thead th {\n",
       "        text-align: right;\n",
       "    }\n",
       "</style>\n",
       "<table border=\"1\" class=\"dataframe\">\n",
       "  <thead>\n",
       "    <tr style=\"text-align: right;\">\n",
       "      <th></th>\n",
       "      <th>Season</th>\n",
       "      <th>DayNum</th>\n",
       "      <th>WTeamID</th>\n",
       "      <th>WScore</th>\n",
       "      <th>LTeamID</th>\n",
       "      <th>LScore</th>\n",
       "      <th>WLoc</th>\n",
       "      <th>NumOT</th>\n",
       "    </tr>\n",
       "  </thead>\n",
       "  <tbody>\n",
       "    <tr>\n",
       "      <th>0</th>\n",
       "      <td>1985</td>\n",
       "      <td>136</td>\n",
       "      <td>1116</td>\n",
       "      <td>63</td>\n",
       "      <td>1234</td>\n",
       "      <td>54</td>\n",
       "      <td>N</td>\n",
       "      <td>0</td>\n",
       "    </tr>\n",
       "    <tr>\n",
       "      <th>1</th>\n",
       "      <td>1985</td>\n",
       "      <td>136</td>\n",
       "      <td>1120</td>\n",
       "      <td>59</td>\n",
       "      <td>1345</td>\n",
       "      <td>58</td>\n",
       "      <td>N</td>\n",
       "      <td>0</td>\n",
       "    </tr>\n",
       "    <tr>\n",
       "      <th>2</th>\n",
       "      <td>1985</td>\n",
       "      <td>136</td>\n",
       "      <td>1207</td>\n",
       "      <td>68</td>\n",
       "      <td>1250</td>\n",
       "      <td>43</td>\n",
       "      <td>N</td>\n",
       "      <td>0</td>\n",
       "    </tr>\n",
       "    <tr>\n",
       "      <th>3</th>\n",
       "      <td>1985</td>\n",
       "      <td>136</td>\n",
       "      <td>1229</td>\n",
       "      <td>58</td>\n",
       "      <td>1425</td>\n",
       "      <td>55</td>\n",
       "      <td>N</td>\n",
       "      <td>0</td>\n",
       "    </tr>\n",
       "    <tr>\n",
       "      <th>4</th>\n",
       "      <td>1985</td>\n",
       "      <td>136</td>\n",
       "      <td>1242</td>\n",
       "      <td>49</td>\n",
       "      <td>1325</td>\n",
       "      <td>38</td>\n",
       "      <td>N</td>\n",
       "      <td>0</td>\n",
       "    </tr>\n",
       "  </tbody>\n",
       "</table>\n",
       "</div>"
      ],
      "text/plain": [
       "   Season  DayNum  WTeamID  WScore  LTeamID  LScore WLoc  NumOT\n",
       "0    1985     136     1116      63     1234      54    N      0\n",
       "1    1985     136     1120      59     1345      58    N      0\n",
       "2    1985     136     1207      68     1250      43    N      0\n",
       "3    1985     136     1229      58     1425      55    N      0\n",
       "4    1985     136     1242      49     1325      38    N      0"
      ]
     },
     "execution_count": 2,
     "metadata": {},
     "output_type": "execute_result"
    }
   ],
   "source": [
    "df = pd.read_csv('/kaggle/input/mens-march-mania-2022/MDataFiles_Stage1/MNCAATourneyCompactResults.csv')\n",
    "df.head()"
   ]
  },
  {
   "cell_type": "markdown",
   "id": "698cc2c8",
   "metadata": {
    "papermill": {
     "duration": 0.013881,
     "end_time": "2022-03-15T21:39:47.758467",
     "exception": false,
     "start_time": "2022-03-15T21:39:47.744586",
     "status": "completed"
    },
    "tags": []
   },
   "source": [
    "## Making a sample row "
   ]
  },
  {
   "cell_type": "code",
   "execution_count": 3,
   "id": "b521c381",
   "metadata": {
    "execution": {
     "iopub.execute_input": "2022-03-15T21:39:47.796127Z",
     "iopub.status.busy": "2022-03-15T21:39:47.795440Z",
     "iopub.status.idle": "2022-03-15T21:39:47.797978Z",
     "shell.execute_reply": "2022-03-15T21:39:47.798586Z",
     "shell.execute_reply.started": "2022-03-15T21:34:51.015385Z"
    },
    "papermill": {
     "duration": 0.024195,
     "end_time": "2022-03-15T21:39:47.798755",
     "exception": false,
     "start_time": "2022-03-15T21:39:47.774560",
     "status": "completed"
    },
    "tags": []
   },
   "outputs": [
    {
     "data": {
      "text/plain": [
       "Season     1985\n",
       "DayNum      136\n",
       "WTeamID    1116\n",
       "WScore       63\n",
       "LTeamID    1234\n",
       "LScore       54\n",
       "WLoc          N\n",
       "NumOT         0\n",
       "Name: 0, dtype: object"
      ]
     },
     "execution_count": 3,
     "metadata": {},
     "output_type": "execute_result"
    }
   ],
   "source": [
    "row = df.iloc[0]\n",
    "row"
   ]
  },
  {
   "cell_type": "markdown",
   "id": "35b6e73a",
   "metadata": {
    "papermill": {
     "duration": 0.013909,
     "end_time": "2022-03-15T21:39:47.826490",
     "exception": false,
     "start_time": "2022-03-15T21:39:47.812581",
     "status": "completed"
    },
    "tags": []
   },
   "source": [
    "## Row parser"
   ]
  },
  {
   "cell_type": "code",
   "execution_count": 4,
   "id": "1fe3cdcf",
   "metadata": {
    "execution": {
     "iopub.execute_input": "2022-03-15T21:39:47.866446Z",
     "iopub.status.busy": "2022-03-15T21:39:47.858685Z",
     "iopub.status.idle": "2022-03-15T21:39:47.872244Z",
     "shell.execute_reply": "2022-03-15T21:39:47.872998Z",
     "shell.execute_reply.started": "2022-03-15T21:34:51.737747Z"
    },
    "papermill": {
     "duration": 0.032662,
     "end_time": "2022-03-15T21:39:47.873253",
     "exception": false,
     "start_time": "2022-03-15T21:39:47.840591",
     "status": "completed"
    },
    "tags": []
   },
   "outputs": [
    {
     "data": {
      "text/plain": [
       "{'Season': 1985, 'LowID': 1116, 'HighID': 1234, 'Win': 1}"
      ]
     },
     "execution_count": 4,
     "metadata": {},
     "output_type": "execute_result"
    }
   ],
   "source": [
    "def parse_row(row):\n",
    "    season = row['Season']\n",
    "    winning_team_id = row['WTeamID']\n",
    "    losing_team_id = row['LTeamID']\n",
    "    if winning_team_id < losing_team_id:\n",
    "        small_id = winning_team_id\n",
    "        big_id = losing_team_id\n",
    "        outcome = 1\n",
    "    elif losing_team_id < winning_team_id:\n",
    "        small_id = losing_team_id\n",
    "        big_id = winning_team_id\n",
    "        outcome = 0\n",
    "    record = {\n",
    "        'Season': season,\n",
    "        'LowID': small_id,\n",
    "        'HighID': big_id,\n",
    "        'Win': outcome\n",
    "    }\n",
    "    return record\n",
    "\n",
    "parse_row(row)"
   ]
  },
  {
   "cell_type": "markdown",
   "id": "58ad2d7e",
   "metadata": {
    "papermill": {
     "duration": 0.014557,
     "end_time": "2022-03-15T21:39:47.903895",
     "exception": false,
     "start_time": "2022-03-15T21:39:47.889338",
     "status": "completed"
    },
    "tags": []
   },
   "source": [
    "## Data Frame Parser"
   ]
  },
  {
   "cell_type": "code",
   "execution_count": 5,
   "id": "36cae9c7",
   "metadata": {
    "execution": {
     "iopub.execute_input": "2022-03-15T21:39:47.937486Z",
     "iopub.status.busy": "2022-03-15T21:39:47.936748Z",
     "iopub.status.idle": "2022-03-15T21:39:47.948498Z",
     "shell.execute_reply": "2022-03-15T21:39:47.949069Z",
     "shell.execute_reply.started": "2022-03-15T21:34:52.509583Z"
    },
    "papermill": {
     "duration": 0.030892,
     "end_time": "2022-03-15T21:39:47.949300",
     "exception": false,
     "start_time": "2022-03-15T21:39:47.918408",
     "status": "completed"
    },
    "tags": []
   },
   "outputs": [
    {
     "data": {
      "text/html": [
       "<div>\n",
       "<style scoped>\n",
       "    .dataframe tbody tr th:only-of-type {\n",
       "        vertical-align: middle;\n",
       "    }\n",
       "\n",
       "    .dataframe tbody tr th {\n",
       "        vertical-align: top;\n",
       "    }\n",
       "\n",
       "    .dataframe thead th {\n",
       "        text-align: right;\n",
       "    }\n",
       "</style>\n",
       "<table border=\"1\" class=\"dataframe\">\n",
       "  <thead>\n",
       "    <tr style=\"text-align: right;\">\n",
       "      <th></th>\n",
       "      <th>Season</th>\n",
       "      <th>LowID</th>\n",
       "      <th>HighID</th>\n",
       "      <th>Win</th>\n",
       "    </tr>\n",
       "  </thead>\n",
       "  <tbody>\n",
       "    <tr>\n",
       "      <th>0</th>\n",
       "      <td>1985</td>\n",
       "      <td>1116</td>\n",
       "      <td>1234</td>\n",
       "      <td>1</td>\n",
       "    </tr>\n",
       "    <tr>\n",
       "      <th>1</th>\n",
       "      <td>1985</td>\n",
       "      <td>1120</td>\n",
       "      <td>1345</td>\n",
       "      <td>1</td>\n",
       "    </tr>\n",
       "    <tr>\n",
       "      <th>2</th>\n",
       "      <td>1985</td>\n",
       "      <td>1207</td>\n",
       "      <td>1250</td>\n",
       "      <td>1</td>\n",
       "    </tr>\n",
       "    <tr>\n",
       "      <th>3</th>\n",
       "      <td>1985</td>\n",
       "      <td>1229</td>\n",
       "      <td>1425</td>\n",
       "      <td>1</td>\n",
       "    </tr>\n",
       "    <tr>\n",
       "      <th>4</th>\n",
       "      <td>1985</td>\n",
       "      <td>1242</td>\n",
       "      <td>1325</td>\n",
       "      <td>1</td>\n",
       "    </tr>\n",
       "  </tbody>\n",
       "</table>\n",
       "</div>"
      ],
      "text/plain": [
       "   Season  LowID  HighID  Win\n",
       "0    1985   1116    1234    1\n",
       "1    1985   1120    1345    1\n",
       "2    1985   1207    1250    1\n",
       "3    1985   1229    1425    1\n",
       "4    1985   1242    1325    1"
      ]
     },
     "execution_count": 5,
     "metadata": {},
     "output_type": "execute_result"
    }
   ],
   "source": [
    "def parse_dataframe(df):\n",
    "    input_rows = df.to_records()\n",
    "    output_rows = [parse_row(input_row) for input_row in input_rows]\n",
    "    out_df = pd.DataFrame(output_rows)\n",
    "    return out_df\n",
    "    \n",
    "parse_dataframe(df[:5])"
   ]
  },
  {
   "cell_type": "markdown",
   "id": "501b5d4c",
   "metadata": {
    "papermill": {
     "duration": 0.015014,
     "end_time": "2022-03-15T21:39:47.980048",
     "exception": false,
     "start_time": "2022-03-15T21:39:47.965034",
     "status": "completed"
    },
    "tags": []
   },
   "source": [
    "## Make and Write Tournament Outcomes"
   ]
  },
  {
   "cell_type": "code",
   "execution_count": 6,
   "id": "53f42ee0",
   "metadata": {
    "execution": {
     "iopub.execute_input": "2022-03-15T21:39:48.045382Z",
     "iopub.status.busy": "2022-03-15T21:39:48.023351Z",
     "iopub.status.idle": "2022-03-15T21:39:48.067691Z",
     "shell.execute_reply": "2022-03-15T21:39:48.068373Z",
     "shell.execute_reply.started": "2022-03-15T21:37:31.909633Z"
    },
    "papermill": {
     "duration": 0.072971,
     "end_time": "2022-03-15T21:39:48.068622",
     "exception": false,
     "start_time": "2022-03-15T21:39:47.995651",
     "status": "completed"
    },
    "tags": []
   },
   "outputs": [],
   "source": [
    "outcomes = parse_dataframe(df)\n",
    "outcomes.to_csv('/kaggle/working/tournament_outcomes.csv')"
   ]
  },
  {
   "cell_type": "code",
   "execution_count": null,
   "id": "bb52cb27",
   "metadata": {
    "papermill": {
     "duration": 0.015702,
     "end_time": "2022-03-15T21:39:48.099388",
     "exception": false,
     "start_time": "2022-03-15T21:39:48.083686",
     "status": "completed"
    },
    "tags": []
   },
   "outputs": [],
   "source": []
  }
 ],
 "metadata": {
  "kernelspec": {
   "display_name": "Python 3",
   "language": "python",
   "name": "python3"
  },
  "language_info": {
   "codemirror_mode": {
    "name": "ipython",
    "version": 3
   },
   "file_extension": ".py",
   "mimetype": "text/x-python",
   "name": "python",
   "nbconvert_exporter": "python",
   "pygments_lexer": "ipython3",
   "version": "3.7.12"
  },
  "papermill": {
   "default_parameters": {},
   "duration": 13.305716,
   "end_time": "2022-03-15T21:39:48.829870",
   "environment_variables": {},
   "exception": null,
   "input_path": "__notebook__.ipynb",
   "output_path": "__notebook__.ipynb",
   "parameters": {},
   "start_time": "2022-03-15T21:39:35.524154",
   "version": "2.3.3"
  }
 },
 "nbformat": 4,
 "nbformat_minor": 5
}
