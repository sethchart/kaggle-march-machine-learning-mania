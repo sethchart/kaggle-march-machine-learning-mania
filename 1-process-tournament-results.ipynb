{
 "cells": [
  {
   "cell_type": "markdown",
   "id": "8fce5577",
   "metadata": {
    "papermill": {
     "duration": 0.004857,
     "end_time": "2023-03-02T15:50:20.164064",
     "exception": false,
     "start_time": "2023-03-02T15:50:20.159207",
     "status": "completed"
    },
    "tags": []
   },
   "source": [
    "# Goal\n",
    "In this notebook, we will reformat the data contained in `MNCAATourneyCompactResults.csv` to better match the required submission format."
   ]
  },
  {
   "cell_type": "markdown",
   "id": "33a4c458",
   "metadata": {
    "papermill": {
     "duration": 0.003495,
     "end_time": "2023-03-02T15:50:20.171662",
     "exception": false,
     "start_time": "2023-03-02T15:50:20.168167",
     "status": "completed"
    },
    "tags": []
   },
   "source": [
    "## Imports"
   ]
  },
  {
   "cell_type": "code",
   "execution_count": 1,
   "id": "0749a6d1",
   "metadata": {
    "execution": {
     "iopub.execute_input": "2023-03-02T15:50:20.181597Z",
     "iopub.status.busy": "2023-03-02T15:50:20.181008Z",
     "iopub.status.idle": "2023-03-02T15:50:20.200008Z",
     "shell.execute_reply": "2023-03-02T15:50:20.198305Z"
    },
    "papermill": {
     "duration": 0.027773,
     "end_time": "2023-03-02T15:50:20.203229",
     "exception": false,
     "start_time": "2023-03-02T15:50:20.175456",
     "status": "completed"
    },
    "tags": []
   },
   "outputs": [
    {
     "name": "stdout",
     "output_type": "stream",
     "text": [
      "/kaggle/input/march-machine-learning-mania-2023/Conferences.csv\n",
      "/kaggle/input/march-machine-learning-mania-2023/WNCAATourneyDetailedResults.csv\n",
      "/kaggle/input/march-machine-learning-mania-2023/WRegularSeasonCompactResults.csv\n",
      "/kaggle/input/march-machine-learning-mania-2023/MNCAATourneySeedRoundSlots.csv\n",
      "/kaggle/input/march-machine-learning-mania-2023/MRegularSeasonDetailedResults.csv\n",
      "/kaggle/input/march-machine-learning-mania-2023/MNCAATourneyCompactResults.csv\n",
      "/kaggle/input/march-machine-learning-mania-2023/MGameCities.csv\n",
      "/kaggle/input/march-machine-learning-mania-2023/WGameCities.csv\n",
      "/kaggle/input/march-machine-learning-mania-2023/MSeasons.csv\n",
      "/kaggle/input/march-machine-learning-mania-2023/WNCAATourneySlots.csv\n",
      "/kaggle/input/march-machine-learning-mania-2023/MSecondaryTourneyTeams.csv\n",
      "/kaggle/input/march-machine-learning-mania-2023/Cities.csv\n",
      "/kaggle/input/march-machine-learning-mania-2023/SampleSubmission2023.csv\n",
      "/kaggle/input/march-machine-learning-mania-2023/MTeamSpellings.csv\n",
      "/kaggle/input/march-machine-learning-mania-2023/MRegularSeasonCompactResults.csv\n",
      "/kaggle/input/march-machine-learning-mania-2023/MMasseyOrdinals.csv\n",
      "/kaggle/input/march-machine-learning-mania-2023/MSecondaryTourneyCompactResults.csv\n",
      "/kaggle/input/march-machine-learning-mania-2023/WTeams.csv\n",
      "/kaggle/input/march-machine-learning-mania-2023/MNCAATourneySlots.csv\n",
      "/kaggle/input/march-machine-learning-mania-2023/MNCAATourneySeeds.csv\n",
      "/kaggle/input/march-machine-learning-mania-2023/WNCAATourneyCompactResults.csv\n",
      "/kaggle/input/march-machine-learning-mania-2023/WSeasons.csv\n",
      "/kaggle/input/march-machine-learning-mania-2023/WNCAATourneySeeds.csv\n",
      "/kaggle/input/march-machine-learning-mania-2023/MTeamCoaches.csv\n",
      "/kaggle/input/march-machine-learning-mania-2023/MConferenceTourneyGames.csv\n",
      "/kaggle/input/march-machine-learning-mania-2023/WRegularSeasonDetailedResults.csv\n",
      "/kaggle/input/march-machine-learning-mania-2023/MNCAATourneyDetailedResults.csv\n",
      "/kaggle/input/march-machine-learning-mania-2023/WTeamSpellings.csv\n",
      "/kaggle/input/march-machine-learning-mania-2023/MTeamConferences.csv\n",
      "/kaggle/input/march-machine-learning-mania-2023/MTeams.csv\n",
      "/kaggle/input/march-machine-learning-mania-2023/WTeamConferences.csv\n"
     ]
    }
   ],
   "source": [
    "# This Python 3 environment comes with many helpful analytics libraries installed\n",
    "# It is defined by the kaggle/python Docker image: https://github.com/kaggle/docker-python\n",
    "# For example, here's several helpful packages to load\n",
    "\n",
    "import numpy as np # linear algebra\n",
    "import pandas as pd # data processing, CSV file I/O (e.g. pd.read_csv)\n",
    "\n",
    "# Input data files are available in the read-only \"../input/\" directory\n",
    "# For example, running this (by clicking run or pressing Shift+Enter) will list all files under the input directory\n",
    "\n",
    "import os\n",
    "for dirname, _, filenames in os.walk('/kaggle/input'):\n",
    "    for filename in filenames:\n",
    "        print(os.path.join(dirname, filename))\n",
    "\n",
    "# You can write up to 20GB to the current directory (/kaggle/working/) that gets preserved as output when you create a version using \"Save & Run All\" \n",
    "# You can also write temporary files to /kaggle/temp/, but they won't be saved outside of the current session"
   ]
  },
  {
   "cell_type": "markdown",
   "id": "222b651c",
   "metadata": {
    "papermill": {
     "duration": 0.003547,
     "end_time": "2023-03-02T15:50:20.210838",
     "exception": false,
     "start_time": "2023-03-02T15:50:20.207291",
     "status": "completed"
    },
    "tags": []
   },
   "source": [
    "## Read in the data"
   ]
  },
  {
   "cell_type": "code",
   "execution_count": 2,
   "id": "c99c3d89",
   "metadata": {
    "execution": {
     "iopub.execute_input": "2023-03-02T15:50:20.221521Z",
     "iopub.status.busy": "2023-03-02T15:50:20.220792Z",
     "iopub.status.idle": "2023-03-02T15:50:20.268476Z",
     "shell.execute_reply": "2023-03-02T15:50:20.267190Z"
    },
    "papermill": {
     "duration": 0.055975,
     "end_time": "2023-03-02T15:50:20.271006",
     "exception": false,
     "start_time": "2023-03-02T15:50:20.215031",
     "status": "completed"
    },
    "tags": []
   },
   "outputs": [
    {
     "data": {
      "text/html": [
       "<div>\n",
       "<style scoped>\n",
       "    .dataframe tbody tr th:only-of-type {\n",
       "        vertical-align: middle;\n",
       "    }\n",
       "\n",
       "    .dataframe tbody tr th {\n",
       "        vertical-align: top;\n",
       "    }\n",
       "\n",
       "    .dataframe thead th {\n",
       "        text-align: right;\n",
       "    }\n",
       "</style>\n",
       "<table border=\"1\" class=\"dataframe\">\n",
       "  <thead>\n",
       "    <tr style=\"text-align: right;\">\n",
       "      <th></th>\n",
       "      <th>Season</th>\n",
       "      <th>DayNum</th>\n",
       "      <th>WTeamID</th>\n",
       "      <th>WScore</th>\n",
       "      <th>LTeamID</th>\n",
       "      <th>LScore</th>\n",
       "      <th>WLoc</th>\n",
       "      <th>NumOT</th>\n",
       "    </tr>\n",
       "  </thead>\n",
       "  <tbody>\n",
       "    <tr>\n",
       "      <th>0</th>\n",
       "      <td>1985</td>\n",
       "      <td>136</td>\n",
       "      <td>1116</td>\n",
       "      <td>63</td>\n",
       "      <td>1234</td>\n",
       "      <td>54</td>\n",
       "      <td>N</td>\n",
       "      <td>0</td>\n",
       "    </tr>\n",
       "    <tr>\n",
       "      <th>1</th>\n",
       "      <td>1985</td>\n",
       "      <td>136</td>\n",
       "      <td>1120</td>\n",
       "      <td>59</td>\n",
       "      <td>1345</td>\n",
       "      <td>58</td>\n",
       "      <td>N</td>\n",
       "      <td>0</td>\n",
       "    </tr>\n",
       "    <tr>\n",
       "      <th>2</th>\n",
       "      <td>1985</td>\n",
       "      <td>136</td>\n",
       "      <td>1207</td>\n",
       "      <td>68</td>\n",
       "      <td>1250</td>\n",
       "      <td>43</td>\n",
       "      <td>N</td>\n",
       "      <td>0</td>\n",
       "    </tr>\n",
       "    <tr>\n",
       "      <th>3</th>\n",
       "      <td>1985</td>\n",
       "      <td>136</td>\n",
       "      <td>1229</td>\n",
       "      <td>58</td>\n",
       "      <td>1425</td>\n",
       "      <td>55</td>\n",
       "      <td>N</td>\n",
       "      <td>0</td>\n",
       "    </tr>\n",
       "    <tr>\n",
       "      <th>4</th>\n",
       "      <td>1985</td>\n",
       "      <td>136</td>\n",
       "      <td>1242</td>\n",
       "      <td>49</td>\n",
       "      <td>1325</td>\n",
       "      <td>38</td>\n",
       "      <td>N</td>\n",
       "      <td>0</td>\n",
       "    </tr>\n",
       "  </tbody>\n",
       "</table>\n",
       "</div>"
      ],
      "text/plain": [
       "   Season  DayNum  WTeamID  WScore  LTeamID  LScore WLoc  NumOT\n",
       "0    1985     136     1116      63     1234      54    N      0\n",
       "1    1985     136     1120      59     1345      58    N      0\n",
       "2    1985     136     1207      68     1250      43    N      0\n",
       "3    1985     136     1229      58     1425      55    N      0\n",
       "4    1985     136     1242      49     1325      38    N      0"
      ]
     },
     "execution_count": 2,
     "metadata": {},
     "output_type": "execute_result"
    }
   ],
   "source": [
    "base_path = \"/kaggle/input/march-machine-learning-mania-2023/\"\n",
    "df = pd.read_csv(base_path+\"MNCAATourneyCompactResults.csv\")\n",
    "df.head()"
   ]
  },
  {
   "cell_type": "markdown",
   "id": "49dd2e6f",
   "metadata": {
    "papermill": {
     "duration": 0.003933,
     "end_time": "2023-03-02T15:50:20.279229",
     "exception": false,
     "start_time": "2023-03-02T15:50:20.275296",
     "status": "completed"
    },
    "tags": []
   },
   "source": [
    "## Making a sample row "
   ]
  },
  {
   "cell_type": "code",
   "execution_count": 3,
   "id": "ac64ad5f",
   "metadata": {
    "execution": {
     "iopub.execute_input": "2023-03-02T15:50:20.290105Z",
     "iopub.status.busy": "2023-03-02T15:50:20.289327Z",
     "iopub.status.idle": "2023-03-02T15:50:20.297185Z",
     "shell.execute_reply": "2023-03-02T15:50:20.296053Z"
    },
    "papermill": {
     "duration": 0.016338,
     "end_time": "2023-03-02T15:50:20.299967",
     "exception": false,
     "start_time": "2023-03-02T15:50:20.283629",
     "status": "completed"
    },
    "tags": []
   },
   "outputs": [
    {
     "data": {
      "text/plain": [
       "Season     1985\n",
       "DayNum      136\n",
       "WTeamID    1116\n",
       "WScore       63\n",
       "LTeamID    1234\n",
       "LScore       54\n",
       "WLoc          N\n",
       "NumOT         0\n",
       "Name: 0, dtype: object"
      ]
     },
     "execution_count": 3,
     "metadata": {},
     "output_type": "execute_result"
    }
   ],
   "source": [
    "row = df.iloc[0]\n",
    "row"
   ]
  },
  {
   "cell_type": "markdown",
   "id": "1405b947",
   "metadata": {
    "papermill": {
     "duration": 0.003844,
     "end_time": "2023-03-02T15:50:20.308048",
     "exception": false,
     "start_time": "2023-03-02T15:50:20.304204",
     "status": "completed"
    },
    "tags": []
   },
   "source": [
    "## Row parser"
   ]
  },
  {
   "cell_type": "code",
   "execution_count": 4,
   "id": "03e79cce",
   "metadata": {
    "execution": {
     "iopub.execute_input": "2023-03-02T15:50:20.318327Z",
     "iopub.status.busy": "2023-03-02T15:50:20.317927Z",
     "iopub.status.idle": "2023-03-02T15:50:20.331139Z",
     "shell.execute_reply": "2023-03-02T15:50:20.329582Z"
    },
    "papermill": {
     "duration": 0.021849,
     "end_time": "2023-03-02T15:50:20.334078",
     "exception": false,
     "start_time": "2023-03-02T15:50:20.312229",
     "status": "completed"
    },
    "tags": []
   },
   "outputs": [
    {
     "data": {
      "text/plain": [
       "{'Season': 1985, 'LowID': 1116, 'HighID': 1234, 'Win': 1}"
      ]
     },
     "execution_count": 4,
     "metadata": {},
     "output_type": "execute_result"
    }
   ],
   "source": [
    "def parse_row(row):\n",
    "    season = row['Season']\n",
    "    winning_team_id = row['WTeamID']\n",
    "    losing_team_id = row['LTeamID']\n",
    "    if winning_team_id < losing_team_id:\n",
    "        small_id = winning_team_id\n",
    "        big_id = losing_team_id\n",
    "        outcome = 1\n",
    "    elif losing_team_id < winning_team_id:\n",
    "        small_id = losing_team_id\n",
    "        big_id = winning_team_id\n",
    "        outcome = 0\n",
    "    record = {\n",
    "        'Season': season,\n",
    "        'LowID': small_id,\n",
    "        'HighID': big_id,\n",
    "        'Win': outcome\n",
    "    }\n",
    "    return record\n",
    "\n",
    "parse_row(row)"
   ]
  },
  {
   "cell_type": "markdown",
   "id": "5f92a3ae",
   "metadata": {
    "papermill": {
     "duration": 0.003974,
     "end_time": "2023-03-02T15:50:20.342402",
     "exception": false,
     "start_time": "2023-03-02T15:50:20.338428",
     "status": "completed"
    },
    "tags": []
   },
   "source": [
    "## Data Frame Parser"
   ]
  },
  {
   "cell_type": "code",
   "execution_count": 5,
   "id": "d0a5a4dd",
   "metadata": {
    "execution": {
     "iopub.execute_input": "2023-03-02T15:50:20.352983Z",
     "iopub.status.busy": "2023-03-02T15:50:20.352556Z",
     "iopub.status.idle": "2023-03-02T15:50:20.367296Z",
     "shell.execute_reply": "2023-03-02T15:50:20.366066Z"
    },
    "papermill": {
     "duration": 0.023289,
     "end_time": "2023-03-02T15:50:20.369972",
     "exception": false,
     "start_time": "2023-03-02T15:50:20.346683",
     "status": "completed"
    },
    "tags": []
   },
   "outputs": [
    {
     "data": {
      "text/html": [
       "<div>\n",
       "<style scoped>\n",
       "    .dataframe tbody tr th:only-of-type {\n",
       "        vertical-align: middle;\n",
       "    }\n",
       "\n",
       "    .dataframe tbody tr th {\n",
       "        vertical-align: top;\n",
       "    }\n",
       "\n",
       "    .dataframe thead th {\n",
       "        text-align: right;\n",
       "    }\n",
       "</style>\n",
       "<table border=\"1\" class=\"dataframe\">\n",
       "  <thead>\n",
       "    <tr style=\"text-align: right;\">\n",
       "      <th></th>\n",
       "      <th>Season</th>\n",
       "      <th>LowID</th>\n",
       "      <th>HighID</th>\n",
       "      <th>Win</th>\n",
       "    </tr>\n",
       "  </thead>\n",
       "  <tbody>\n",
       "    <tr>\n",
       "      <th>0</th>\n",
       "      <td>1985</td>\n",
       "      <td>1116</td>\n",
       "      <td>1234</td>\n",
       "      <td>1</td>\n",
       "    </tr>\n",
       "    <tr>\n",
       "      <th>1</th>\n",
       "      <td>1985</td>\n",
       "      <td>1120</td>\n",
       "      <td>1345</td>\n",
       "      <td>1</td>\n",
       "    </tr>\n",
       "    <tr>\n",
       "      <th>2</th>\n",
       "      <td>1985</td>\n",
       "      <td>1207</td>\n",
       "      <td>1250</td>\n",
       "      <td>1</td>\n",
       "    </tr>\n",
       "    <tr>\n",
       "      <th>3</th>\n",
       "      <td>1985</td>\n",
       "      <td>1229</td>\n",
       "      <td>1425</td>\n",
       "      <td>1</td>\n",
       "    </tr>\n",
       "    <tr>\n",
       "      <th>4</th>\n",
       "      <td>1985</td>\n",
       "      <td>1242</td>\n",
       "      <td>1325</td>\n",
       "      <td>1</td>\n",
       "    </tr>\n",
       "  </tbody>\n",
       "</table>\n",
       "</div>"
      ],
      "text/plain": [
       "   Season  LowID  HighID  Win\n",
       "0    1985   1116    1234    1\n",
       "1    1985   1120    1345    1\n",
       "2    1985   1207    1250    1\n",
       "3    1985   1229    1425    1\n",
       "4    1985   1242    1325    1"
      ]
     },
     "execution_count": 5,
     "metadata": {},
     "output_type": "execute_result"
    }
   ],
   "source": [
    "def parse_dataframe(df):\n",
    "    input_rows = df.to_records()\n",
    "    output_rows = [parse_row(input_row) for input_row in input_rows]\n",
    "    out_df = pd.DataFrame(output_rows)\n",
    "    return out_df\n",
    "    \n",
    "parse_dataframe(df[:5])"
   ]
  },
  {
   "cell_type": "markdown",
   "id": "4838925e",
   "metadata": {
    "papermill": {
     "duration": 0.004256,
     "end_time": "2023-03-02T15:50:20.378803",
     "exception": false,
     "start_time": "2023-03-02T15:50:20.374547",
     "status": "completed"
    },
    "tags": []
   },
   "source": [
    "## Make and Write Tournament Outcomes"
   ]
  },
  {
   "cell_type": "code",
   "execution_count": 6,
   "id": "2d33d658",
   "metadata": {
    "execution": {
     "iopub.execute_input": "2023-03-02T15:50:20.389585Z",
     "iopub.status.busy": "2023-03-02T15:50:20.389164Z",
     "iopub.status.idle": "2023-03-02T15:50:20.427199Z",
     "shell.execute_reply": "2023-03-02T15:50:20.425844Z"
    },
    "papermill": {
     "duration": 0.047282,
     "end_time": "2023-03-02T15:50:20.430616",
     "exception": false,
     "start_time": "2023-03-02T15:50:20.383334",
     "status": "completed"
    },
    "tags": []
   },
   "outputs": [],
   "source": [
    "outcomes = parse_dataframe(df)\n",
    "outcomes.to_csv('/kaggle/working/tournament_outcomes.csv')"
   ]
  },
  {
   "cell_type": "code",
   "execution_count": null,
   "id": "07262225",
   "metadata": {
    "papermill": {
     "duration": 0.004321,
     "end_time": "2023-03-02T15:50:20.439787",
     "exception": false,
     "start_time": "2023-03-02T15:50:20.435466",
     "status": "completed"
    },
    "tags": []
   },
   "outputs": [],
   "source": []
  }
 ],
 "metadata": {
  "kernelspec": {
   "display_name": "Python 3",
   "language": "python",
   "name": "python3"
  },
  "language_info": {
   "codemirror_mode": {
    "name": "ipython",
    "version": 3
   },
   "file_extension": ".py",
   "mimetype": "text/x-python",
   "name": "python",
   "nbconvert_exporter": "python",
   "pygments_lexer": "ipython3",
   "version": "3.7.12"
  },
  "papermill": {
   "default_parameters": {},
   "duration": 12.329961,
   "end_time": "2023-03-02T15:50:21.167180",
   "environment_variables": {},
   "exception": null,
   "input_path": "__notebook__.ipynb",
   "output_path": "__notebook__.ipynb",
   "parameters": {},
   "start_time": "2023-03-02T15:50:08.837219",
   "version": "2.4.0"
  }
 },
 "nbformat": 4,
 "nbformat_minor": 5
}
