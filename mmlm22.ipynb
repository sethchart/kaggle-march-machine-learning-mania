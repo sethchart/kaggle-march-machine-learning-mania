{
 "cells": [
  {
   "cell_type": "markdown",
   "id": "unlike-tribune",
   "metadata": {
    "papermill": {
     "duration": 0.040276,
     "end_time": "2022-03-17T03:26:12.769704",
     "exception": false,
     "start_time": "2022-03-17T03:26:12.729428",
     "status": "completed"
    },
    "tags": []
   },
   "source": [
    "Welcome to the **[30 Days of ML competition](https://www.kaggle.com/c/30-days-of-ml/overview)**!  In this notebook, you\"ll learn how to make your first submission.\n",
    "\n",
    "Before getting started, make your own editable copy of this notebook by clicking on the **Copy and Edit** button.\n",
    "\n",
    "# Step 1: Import helpful libraries\n",
    "\n",
    "We begin by importing the libraries we\"ll need.  Some of them will be familiar from the **[Intro to Machine Learning](https://www.kaggle.com/learn/intro-to-machine-learning)** course and the **[Intermediate Machine Learning](https://www.kaggle.com/learn/intermediate-machine-learning)** course."
   ]
  },
  {
   "cell_type": "code",
   "execution_count": 1,
   "id": "executive-combining",
   "metadata": {
    "execution": {
     "iopub.execute_input": "2022-03-17T03:26:12.860648Z",
     "iopub.status.busy": "2022-03-17T03:26:12.859613Z",
     "iopub.status.idle": "2022-03-17T03:26:12.869515Z",
     "shell.execute_reply": "2022-03-17T03:26:12.868811Z",
     "shell.execute_reply.started": "2022-03-17T03:09:57.232776Z"
    },
    "papermill": {
     "duration": 0.057966,
     "end_time": "2022-03-17T03:26:12.869678",
     "exception": false,
     "start_time": "2022-03-17T03:26:12.811712",
     "status": "completed"
    },
    "tags": []
   },
   "outputs": [],
   "source": [
    "from typing import List, Tuple\n",
    "# Familiar imports\n",
    "import numpy as np\n",
    "import pandas as pd\n",
    "\n",
    "pd.set_option(\"display.max_columns\", None)\n",
    "\n",
    "def load_raw_data(filename: str, stage: int = 1) -> pd.DataFrame:\n",
    "    path = f\"/kaggle/input/mens-march-mania-2022/MDataFiles_Stage{stage}/\"\n",
    "    return pd.read_csv(path+filename)\n",
    "\n",
    "stage = 1"
   ]
  },
  {
   "cell_type": "markdown",
   "id": "beneficial-princeton",
   "metadata": {
    "papermill": {
     "duration": 0.037782,
     "end_time": "2022-03-17T03:26:12.946760",
     "exception": false,
     "start_time": "2022-03-17T03:26:12.908978",
     "status": "completed"
    },
    "tags": []
   },
   "source": [
    "# Step 2: Load the data\n",
    "\n",
    "Next, we\"ll load the raw data."
   ]
  },
  {
   "cell_type": "markdown",
   "id": "maritime-shakespeare",
   "metadata": {
    "papermill": {
     "duration": 0.038825,
     "end_time": "2022-03-17T03:26:13.023466",
     "exception": false,
     "start_time": "2022-03-17T03:26:12.984641",
     "status": "completed"
    },
    "tags": []
   },
   "source": [
    "## Regular Season Detailed Results\n",
    "\n",
    "This file provides team-level box scores for many regular seasons of historical data, starting with the 2003 season. All games listed in the MRegularSeasonCompactResults file since the 2003 season should exactly be present in the MRegularSeasonDetailedResults file.\n",
    "\n",
    "### Regular Season Compact Results\n",
    "\n",
    "This file identifies the game-by-game results for many seasons of historical data, starting with the 1985 season (the first year the NCAA® had a 64-team tournament). For each season, the file includes all games played from DayNum 0 through 132. It is important to realize that the \"Regular Season\" games are simply defined to be all games played on DayNum=132 or earlier (DayNum=132 is Selection Sunday, and there are always a few conference tournament finals actually played early in the day on Selection Sunday itself). Thus a game played on or before Selection Sunday will show up here whether it was a pre-season tournament, a non-conference game, a regular conference game, a conference tournament game, or whatever.\n",
    "\n",
    "* Season - this is the year of the associated entry in MSeasons.csv (the year in which the final tournament occurs). For example, during the 2016 season, there were regular season games played between November 2015 and March 2016, and all of those games will show up with a Season of 2016.\n",
    "* DayNum - this integer always ranges from 0 to 132, and tells you what day the game was played on. It represents an offset from the \"DayZero\" date in the \"MSeasons.csv\" file. For example, the first game in the file was DayNum=20. Combined with the fact from the \"MSeasons.csv\" file that day zero was 10/29/1984 that year, this means the first game was played 20 days later, or 11/18/1984. There are no teams that ever played more than one game on a given date, so you can use this fact if you need a unique key (combining Season and DayNum and WTeamID). In order to accomplish this uniqueness, we had to adjust one game's date. In March 2008, the SEC postseason tournament had to reschedule one game (Georgia-Kentucky) to a subsequent day because of a tornado, so Georgia had to actually play two games on the same day. In order to enforce this uniqueness, we moved the game date for the Georgia-Kentucky game back to its original scheduled date.\n",
    "* WTeamID - this identifies the id number of the team that won the game, as listed in the \"MTeams.csv\" file. No matter whether the game was won by the home team or visiting team, or if it was a neutral-site game, the \"WTeamID\" always identifies the winning team.\n",
    "* WScore - this identifies the number of points scored by the winning team.\n",
    "* LTeamID - this identifies the id number of the team that lost the game.\n",
    "* LScore - this identifies the number of points scored by the losing team. Thus you can be confident that WScore will be greater than LScore for all games listed.\n",
    "* WLoc - this identifies the \"location\" of the winning team. If the winning team was the home team, this value will be \"H\". If the winning team was the visiting team, this value will be \"A\". If it was played on a neutral court, then this value will be \"N\". Sometimes it is unclear whether the site should be considered neutral, since it is near one team's home court, or even on their court during a tournament, but for this determination we have simply used the Kenneth Massey data in its current state, where the \"@\" sign is either listed with the winning team, the losing team, or neither team. If you would like to investigate this factor more closely, we invite you to explore Data Section 3, which provides the city that each game was played in, irrespective of whether it was considered to be a neutral site.\n",
    "* NumOT - this indicates the number of overtime periods in the game, an integer 0 or higher.\n"
   ]
  },
  {
   "cell_type": "code",
   "execution_count": 2,
   "id": "natural-balance",
   "metadata": {
    "execution": {
     "iopub.execute_input": "2022-03-17T03:26:13.109326Z",
     "iopub.status.busy": "2022-03-17T03:26:13.108588Z",
     "iopub.status.idle": "2022-03-17T03:26:13.478590Z",
     "shell.execute_reply": "2022-03-17T03:26:13.479168Z",
     "shell.execute_reply.started": "2022-03-17T03:09:57.273536Z"
    },
    "papermill": {
     "duration": 0.417868,
     "end_time": "2022-03-17T03:26:13.479383",
     "exception": false,
     "start_time": "2022-03-17T03:26:13.061515",
     "status": "completed"
    },
    "tags": []
   },
   "outputs": [
    {
     "data": {
      "text/html": [
       "<div>\n",
       "<style scoped>\n",
       "    .dataframe tbody tr th:only-of-type {\n",
       "        vertical-align: middle;\n",
       "    }\n",
       "\n",
       "    .dataframe tbody tr th {\n",
       "        vertical-align: top;\n",
       "    }\n",
       "\n",
       "    .dataframe thead th {\n",
       "        text-align: right;\n",
       "    }\n",
       "</style>\n",
       "<table border=\"1\" class=\"dataframe\">\n",
       "  <thead>\n",
       "    <tr style=\"text-align: right;\">\n",
       "      <th></th>\n",
       "      <th>Season</th>\n",
       "      <th>DayNum</th>\n",
       "      <th>WTeamID</th>\n",
       "      <th>WScore</th>\n",
       "      <th>LTeamID</th>\n",
       "      <th>LScore</th>\n",
       "      <th>WLoc</th>\n",
       "      <th>NumOT</th>\n",
       "      <th>WFGM</th>\n",
       "      <th>WFGA</th>\n",
       "      <th>WFGM3</th>\n",
       "      <th>WFGA3</th>\n",
       "      <th>WFTM</th>\n",
       "      <th>WFTA</th>\n",
       "      <th>WOR</th>\n",
       "      <th>WDR</th>\n",
       "      <th>WAst</th>\n",
       "      <th>WTO</th>\n",
       "      <th>WStl</th>\n",
       "      <th>WBlk</th>\n",
       "      <th>WPF</th>\n",
       "      <th>LFGM</th>\n",
       "      <th>LFGA</th>\n",
       "      <th>LFGM3</th>\n",
       "      <th>LFGA3</th>\n",
       "      <th>LFTM</th>\n",
       "      <th>LFTA</th>\n",
       "      <th>LOR</th>\n",
       "      <th>LDR</th>\n",
       "      <th>LAst</th>\n",
       "      <th>LTO</th>\n",
       "      <th>LStl</th>\n",
       "      <th>LBlk</th>\n",
       "      <th>LPF</th>\n",
       "    </tr>\n",
       "  </thead>\n",
       "  <tbody>\n",
       "    <tr>\n",
       "      <th>100418</th>\n",
       "      <td>2022</td>\n",
       "      <td>98</td>\n",
       "      <td>1400</td>\n",
       "      <td>79</td>\n",
       "      <td>1242</td>\n",
       "      <td>76</td>\n",
       "      <td>H</td>\n",
       "      <td>0</td>\n",
       "      <td>28</td>\n",
       "      <td>67</td>\n",
       "      <td>3</td>\n",
       "      <td>20</td>\n",
       "      <td>20</td>\n",
       "      <td>23</td>\n",
       "      <td>14</td>\n",
       "      <td>18</td>\n",
       "      <td>8</td>\n",
       "      <td>6</td>\n",
       "      <td>7</td>\n",
       "      <td>2</td>\n",
       "      <td>21</td>\n",
       "      <td>28</td>\n",
       "      <td>48</td>\n",
       "      <td>5</td>\n",
       "      <td>13</td>\n",
       "      <td>15</td>\n",
       "      <td>23</td>\n",
       "      <td>5</td>\n",
       "      <td>24</td>\n",
       "      <td>10</td>\n",
       "      <td>15</td>\n",
       "      <td>3</td>\n",
       "      <td>5</td>\n",
       "      <td>21</td>\n",
       "    </tr>\n",
       "    <tr>\n",
       "      <th>100419</th>\n",
       "      <td>2022</td>\n",
       "      <td>98</td>\n",
       "      <td>1411</td>\n",
       "      <td>66</td>\n",
       "      <td>1126</td>\n",
       "      <td>63</td>\n",
       "      <td>A</td>\n",
       "      <td>0</td>\n",
       "      <td>24</td>\n",
       "      <td>59</td>\n",
       "      <td>2</td>\n",
       "      <td>20</td>\n",
       "      <td>16</td>\n",
       "      <td>28</td>\n",
       "      <td>12</td>\n",
       "      <td>27</td>\n",
       "      <td>9</td>\n",
       "      <td>19</td>\n",
       "      <td>10</td>\n",
       "      <td>5</td>\n",
       "      <td>19</td>\n",
       "      <td>20</td>\n",
       "      <td>49</td>\n",
       "      <td>8</td>\n",
       "      <td>21</td>\n",
       "      <td>15</td>\n",
       "      <td>24</td>\n",
       "      <td>5</td>\n",
       "      <td>23</td>\n",
       "      <td>10</td>\n",
       "      <td>19</td>\n",
       "      <td>13</td>\n",
       "      <td>2</td>\n",
       "      <td>23</td>\n",
       "    </tr>\n",
       "    <tr>\n",
       "      <th>100420</th>\n",
       "      <td>2022</td>\n",
       "      <td>98</td>\n",
       "      <td>1422</td>\n",
       "      <td>68</td>\n",
       "      <td>1441</td>\n",
       "      <td>49</td>\n",
       "      <td>A</td>\n",
       "      <td>0</td>\n",
       "      <td>23</td>\n",
       "      <td>56</td>\n",
       "      <td>13</td>\n",
       "      <td>32</td>\n",
       "      <td>9</td>\n",
       "      <td>13</td>\n",
       "      <td>11</td>\n",
       "      <td>22</td>\n",
       "      <td>11</td>\n",
       "      <td>15</td>\n",
       "      <td>11</td>\n",
       "      <td>1</td>\n",
       "      <td>13</td>\n",
       "      <td>18</td>\n",
       "      <td>53</td>\n",
       "      <td>5</td>\n",
       "      <td>24</td>\n",
       "      <td>8</td>\n",
       "      <td>11</td>\n",
       "      <td>10</td>\n",
       "      <td>18</td>\n",
       "      <td>5</td>\n",
       "      <td>16</td>\n",
       "      <td>8</td>\n",
       "      <td>2</td>\n",
       "      <td>12</td>\n",
       "    </tr>\n",
       "    <tr>\n",
       "      <th>100421</th>\n",
       "      <td>2022</td>\n",
       "      <td>98</td>\n",
       "      <td>1438</td>\n",
       "      <td>69</td>\n",
       "      <td>1181</td>\n",
       "      <td>68</td>\n",
       "      <td>A</td>\n",
       "      <td>0</td>\n",
       "      <td>31</td>\n",
       "      <td>65</td>\n",
       "      <td>2</td>\n",
       "      <td>12</td>\n",
       "      <td>5</td>\n",
       "      <td>9</td>\n",
       "      <td>10</td>\n",
       "      <td>20</td>\n",
       "      <td>16</td>\n",
       "      <td>5</td>\n",
       "      <td>10</td>\n",
       "      <td>2</td>\n",
       "      <td>17</td>\n",
       "      <td>22</td>\n",
       "      <td>52</td>\n",
       "      <td>6</td>\n",
       "      <td>17</td>\n",
       "      <td>18</td>\n",
       "      <td>22</td>\n",
       "      <td>11</td>\n",
       "      <td>25</td>\n",
       "      <td>14</td>\n",
       "      <td>14</td>\n",
       "      <td>3</td>\n",
       "      <td>9</td>\n",
       "      <td>11</td>\n",
       "    </tr>\n",
       "    <tr>\n",
       "      <th>100422</th>\n",
       "      <td>2022</td>\n",
       "      <td>98</td>\n",
       "      <td>1439</td>\n",
       "      <td>74</td>\n",
       "      <td>1338</td>\n",
       "      <td>47</td>\n",
       "      <td>H</td>\n",
       "      <td>0</td>\n",
       "      <td>29</td>\n",
       "      <td>55</td>\n",
       "      <td>13</td>\n",
       "      <td>27</td>\n",
       "      <td>3</td>\n",
       "      <td>6</td>\n",
       "      <td>9</td>\n",
       "      <td>26</td>\n",
       "      <td>20</td>\n",
       "      <td>8</td>\n",
       "      <td>6</td>\n",
       "      <td>1</td>\n",
       "      <td>12</td>\n",
       "      <td>15</td>\n",
       "      <td>40</td>\n",
       "      <td>10</td>\n",
       "      <td>20</td>\n",
       "      <td>7</td>\n",
       "      <td>9</td>\n",
       "      <td>0</td>\n",
       "      <td>18</td>\n",
       "      <td>11</td>\n",
       "      <td>11</td>\n",
       "      <td>3</td>\n",
       "      <td>6</td>\n",
       "      <td>14</td>\n",
       "    </tr>\n",
       "  </tbody>\n",
       "</table>\n",
       "</div>"
      ],
      "text/plain": [
       "        Season  DayNum  WTeamID  WScore  LTeamID  LScore WLoc  NumOT  WFGM  \\\n",
       "100418    2022      98     1400      79     1242      76    H      0    28   \n",
       "100419    2022      98     1411      66     1126      63    A      0    24   \n",
       "100420    2022      98     1422      68     1441      49    A      0    23   \n",
       "100421    2022      98     1438      69     1181      68    A      0    31   \n",
       "100422    2022      98     1439      74     1338      47    H      0    29   \n",
       "\n",
       "        WFGA  WFGM3  WFGA3  WFTM  WFTA  WOR  WDR  WAst  WTO  WStl  WBlk  WPF  \\\n",
       "100418    67      3     20    20    23   14   18     8    6     7     2   21   \n",
       "100419    59      2     20    16    28   12   27     9   19    10     5   19   \n",
       "100420    56     13     32     9    13   11   22    11   15    11     1   13   \n",
       "100421    65      2     12     5     9   10   20    16    5    10     2   17   \n",
       "100422    55     13     27     3     6    9   26    20    8     6     1   12   \n",
       "\n",
       "        LFGM  LFGA  LFGM3  LFGA3  LFTM  LFTA  LOR  LDR  LAst  LTO  LStl  LBlk  \\\n",
       "100418    28    48      5     13    15    23    5   24    10   15     3     5   \n",
       "100419    20    49      8     21    15    24    5   23    10   19    13     2   \n",
       "100420    18    53      5     24     8    11   10   18     5   16     8     2   \n",
       "100421    22    52      6     17    18    22   11   25    14   14     3     9   \n",
       "100422    15    40     10     20     7     9    0   18    11   11     3     6   \n",
       "\n",
       "        LPF  \n",
       "100418   21  \n",
       "100419   23  \n",
       "100420   12  \n",
       "100421   11  \n",
       "100422   14  "
      ]
     },
     "execution_count": 2,
     "metadata": {},
     "output_type": "execute_result"
    }
   ],
   "source": [
    "MRegularSeasonDetailedResults = load_raw_data(\"MRegularSeasonDetailedResults.csv\", stage)\n",
    "MRegularSeasonDetailedResults.tail()"
   ]
  },
  {
   "cell_type": "markdown",
   "id": "helpful-reserve",
   "metadata": {
    "papermill": {
     "duration": 0.039013,
     "end_time": "2022-03-17T03:26:13.558087",
     "exception": false,
     "start_time": "2022-03-17T03:26:13.519074",
     "status": "completed"
    },
    "tags": []
   },
   "source": [
    "## Tourney Detailed Results\n",
    "This file provides team-level box scores for many NCAA® tournaments, starting with the 2003 season. All games listed in the MNCAATourneyCompactResults file since the 2003 season should exactly be present in the MNCAATourneyDetailedResults file.\n",
    "\n",
    "### Tourney Compact Results\n",
    "\n",
    "This file identifies the game-by-game NCAA® tournament results for all seasons of historical data. The data is formatted exactly like the MRegularSeasonCompactResults data. All games will show up as neutral site (so WLoc is always N). Note that this tournament game data also includes the play-in games (which always occurred on day 134/135) for those years that had play-in games. Thus each season you will see between 63 and 67 games listed, depending on how many play-in games there were.\n",
    "\n",
    "Because of the consistent structure of the NCAA® tournament schedule, you can actually tell what round a game was, depending on the exact DayNum. Thus:\n",
    "\n",
    "* DayNum=134 or 135 (Tue/Wed) - play-in games to get the tournament field down to the final 64 teams\n",
    "* DayNum=136 or 137 (Thu/Fri) - Round 1, to bring the tournament field from 64 teams to 32 teams\n",
    "* DayNum=138 or 139 (Sat/Sun) - Round 2, to bring the tournament field from 32 teams to 16 teams\n",
    "* DayNum=143 or 144 (Thu/Fri) - Round 3, otherwise known as \"Sweet Sixteen\", to bring the tournament field from 16 teams to 8 teams\n",
    "* DayNum=145 or 146 (Sat/Sun) - Round 4, otherwise known as \"Elite Eight\" or \"regional finals\", to bring the tournament field from 8 teams to 4 teams\n",
    "* DayNum=152 (Sat) - Round 5, otherwise known as \"Final Four\" or \"national semifinals\", to bring the tournament field from 4 teams to 2 teams\n",
    "* DayNum=154 (Mon) - Round 6, otherwise known as \"national final\" or \"national championship\", to bring the tournament field from 2 teams to 1 champion team\n",
    "\n",
    "Special note: Each year, there are also going to be other games that happened after Selection Sunday, which are not part of the NCAA® Tournament. This includes tournaments like the postseason NIT, the CBI, the CIT, and the Vegas 16. Such games are not listed in the Regular Season or the NCAA® Tourney files; they can be found in the \"Secondary Tourney\" data files within Data Section 6. Although they would not be games you would ever be predicting directly for the NCAA® tournament, and they would not be games you would have data from at the time of predicting NCAA® tournament outcomes, you may nevertheless wish to make use of these games for model optimization, depending on your methodology. The more games that you can test your predictions against, the better your optimized model might eventually become, depending on how applicable all those games are. A similar argument might be advanced in favor of optimizing your predictions against conference tournament games, which might be viewed as reasonable proxies for NCAA® tournament games."
   ]
  },
  {
   "cell_type": "code",
   "execution_count": 3,
   "id": "married-white",
   "metadata": {
    "execution": {
     "iopub.execute_input": "2022-03-17T03:26:13.643736Z",
     "iopub.status.busy": "2022-03-17T03:26:13.643051Z",
     "iopub.status.idle": "2022-03-17T03:26:13.680252Z",
     "shell.execute_reply": "2022-03-17T03:26:13.680950Z",
     "shell.execute_reply.started": "2022-03-17T03:09:57.491217Z"
    },
    "papermill": {
     "duration": 0.083727,
     "end_time": "2022-03-17T03:26:13.681115",
     "exception": false,
     "start_time": "2022-03-17T03:26:13.597388",
     "status": "completed"
    },
    "tags": []
   },
   "outputs": [
    {
     "data": {
      "text/html": [
       "<div>\n",
       "<style scoped>\n",
       "    .dataframe tbody tr th:only-of-type {\n",
       "        vertical-align: middle;\n",
       "    }\n",
       "\n",
       "    .dataframe tbody tr th {\n",
       "        vertical-align: top;\n",
       "    }\n",
       "\n",
       "    .dataframe thead th {\n",
       "        text-align: right;\n",
       "    }\n",
       "</style>\n",
       "<table border=\"1\" class=\"dataframe\">\n",
       "  <thead>\n",
       "    <tr style=\"text-align: right;\">\n",
       "      <th></th>\n",
       "      <th>Season</th>\n",
       "      <th>DayNum</th>\n",
       "      <th>WTeamID</th>\n",
       "      <th>WScore</th>\n",
       "      <th>LTeamID</th>\n",
       "      <th>LScore</th>\n",
       "      <th>WLoc</th>\n",
       "      <th>NumOT</th>\n",
       "      <th>WFGM</th>\n",
       "      <th>WFGA</th>\n",
       "      <th>WFGM3</th>\n",
       "      <th>WFGA3</th>\n",
       "      <th>WFTM</th>\n",
       "      <th>WFTA</th>\n",
       "      <th>WOR</th>\n",
       "      <th>WDR</th>\n",
       "      <th>WAst</th>\n",
       "      <th>WTO</th>\n",
       "      <th>WStl</th>\n",
       "      <th>WBlk</th>\n",
       "      <th>WPF</th>\n",
       "      <th>LFGM</th>\n",
       "      <th>LFGA</th>\n",
       "      <th>LFGM3</th>\n",
       "      <th>LFGA3</th>\n",
       "      <th>LFTM</th>\n",
       "      <th>LFTA</th>\n",
       "      <th>LOR</th>\n",
       "      <th>LDR</th>\n",
       "      <th>LAst</th>\n",
       "      <th>LTO</th>\n",
       "      <th>LStl</th>\n",
       "      <th>LBlk</th>\n",
       "      <th>LPF</th>\n",
       "    </tr>\n",
       "  </thead>\n",
       "  <tbody>\n",
       "    <tr>\n",
       "      <th>1176</th>\n",
       "      <td>2021</td>\n",
       "      <td>148</td>\n",
       "      <td>1211</td>\n",
       "      <td>85</td>\n",
       "      <td>1425</td>\n",
       "      <td>66</td>\n",
       "      <td>N</td>\n",
       "      <td>0</td>\n",
       "      <td>33</td>\n",
       "      <td>66</td>\n",
       "      <td>7</td>\n",
       "      <td>21</td>\n",
       "      <td>12</td>\n",
       "      <td>17</td>\n",
       "      <td>11</td>\n",
       "      <td>27</td>\n",
       "      <td>21</td>\n",
       "      <td>9</td>\n",
       "      <td>6</td>\n",
       "      <td>3</td>\n",
       "      <td>16</td>\n",
       "      <td>24</td>\n",
       "      <td>62</td>\n",
       "      <td>4</td>\n",
       "      <td>15</td>\n",
       "      <td>14</td>\n",
       "      <td>19</td>\n",
       "      <td>7</td>\n",
       "      <td>20</td>\n",
       "      <td>9</td>\n",
       "      <td>9</td>\n",
       "      <td>7</td>\n",
       "      <td>0</td>\n",
       "      <td>13</td>\n",
       "    </tr>\n",
       "    <tr>\n",
       "      <th>1177</th>\n",
       "      <td>2021</td>\n",
       "      <td>148</td>\n",
       "      <td>1417</td>\n",
       "      <td>51</td>\n",
       "      <td>1276</td>\n",
       "      <td>49</td>\n",
       "      <td>N</td>\n",
       "      <td>0</td>\n",
       "      <td>21</td>\n",
       "      <td>54</td>\n",
       "      <td>3</td>\n",
       "      <td>13</td>\n",
       "      <td>6</td>\n",
       "      <td>7</td>\n",
       "      <td>6</td>\n",
       "      <td>21</td>\n",
       "      <td>12</td>\n",
       "      <td>8</td>\n",
       "      <td>5</td>\n",
       "      <td>2</td>\n",
       "      <td>14</td>\n",
       "      <td>20</td>\n",
       "      <td>51</td>\n",
       "      <td>3</td>\n",
       "      <td>11</td>\n",
       "      <td>6</td>\n",
       "      <td>11</td>\n",
       "      <td>8</td>\n",
       "      <td>24</td>\n",
       "      <td>12</td>\n",
       "      <td>14</td>\n",
       "      <td>5</td>\n",
       "      <td>3</td>\n",
       "      <td>11</td>\n",
       "    </tr>\n",
       "    <tr>\n",
       "      <th>1178</th>\n",
       "      <td>2021</td>\n",
       "      <td>152</td>\n",
       "      <td>1124</td>\n",
       "      <td>78</td>\n",
       "      <td>1222</td>\n",
       "      <td>59</td>\n",
       "      <td>N</td>\n",
       "      <td>0</td>\n",
       "      <td>29</td>\n",
       "      <td>55</td>\n",
       "      <td>11</td>\n",
       "      <td>24</td>\n",
       "      <td>9</td>\n",
       "      <td>13</td>\n",
       "      <td>11</td>\n",
       "      <td>17</td>\n",
       "      <td>23</td>\n",
       "      <td>8</td>\n",
       "      <td>6</td>\n",
       "      <td>0</td>\n",
       "      <td>18</td>\n",
       "      <td>21</td>\n",
       "      <td>55</td>\n",
       "      <td>6</td>\n",
       "      <td>19</td>\n",
       "      <td>11</td>\n",
       "      <td>16</td>\n",
       "      <td>13</td>\n",
       "      <td>12</td>\n",
       "      <td>10</td>\n",
       "      <td>10</td>\n",
       "      <td>4</td>\n",
       "      <td>5</td>\n",
       "      <td>10</td>\n",
       "    </tr>\n",
       "    <tr>\n",
       "      <th>1179</th>\n",
       "      <td>2021</td>\n",
       "      <td>152</td>\n",
       "      <td>1211</td>\n",
       "      <td>93</td>\n",
       "      <td>1417</td>\n",
       "      <td>90</td>\n",
       "      <td>N</td>\n",
       "      <td>1</td>\n",
       "      <td>37</td>\n",
       "      <td>63</td>\n",
       "      <td>7</td>\n",
       "      <td>21</td>\n",
       "      <td>12</td>\n",
       "      <td>20</td>\n",
       "      <td>4</td>\n",
       "      <td>19</td>\n",
       "      <td>25</td>\n",
       "      <td>10</td>\n",
       "      <td>8</td>\n",
       "      <td>3</td>\n",
       "      <td>16</td>\n",
       "      <td>34</td>\n",
       "      <td>59</td>\n",
       "      <td>8</td>\n",
       "      <td>17</td>\n",
       "      <td>14</td>\n",
       "      <td>21</td>\n",
       "      <td>7</td>\n",
       "      <td>24</td>\n",
       "      <td>21</td>\n",
       "      <td>9</td>\n",
       "      <td>4</td>\n",
       "      <td>1</td>\n",
       "      <td>16</td>\n",
       "    </tr>\n",
       "    <tr>\n",
       "      <th>1180</th>\n",
       "      <td>2021</td>\n",
       "      <td>154</td>\n",
       "      <td>1124</td>\n",
       "      <td>86</td>\n",
       "      <td>1211</td>\n",
       "      <td>70</td>\n",
       "      <td>N</td>\n",
       "      <td>0</td>\n",
       "      <td>30</td>\n",
       "      <td>67</td>\n",
       "      <td>10</td>\n",
       "      <td>23</td>\n",
       "      <td>16</td>\n",
       "      <td>18</td>\n",
       "      <td>14</td>\n",
       "      <td>20</td>\n",
       "      <td>18</td>\n",
       "      <td>7</td>\n",
       "      <td>8</td>\n",
       "      <td>5</td>\n",
       "      <td>19</td>\n",
       "      <td>25</td>\n",
       "      <td>49</td>\n",
       "      <td>5</td>\n",
       "      <td>17</td>\n",
       "      <td>15</td>\n",
       "      <td>21</td>\n",
       "      <td>1</td>\n",
       "      <td>16</td>\n",
       "      <td>16</td>\n",
       "      <td>14</td>\n",
       "      <td>4</td>\n",
       "      <td>3</td>\n",
       "      <td>17</td>\n",
       "    </tr>\n",
       "  </tbody>\n",
       "</table>\n",
       "</div>"
      ],
      "text/plain": [
       "      Season  DayNum  WTeamID  WScore  LTeamID  LScore WLoc  NumOT  WFGM  \\\n",
       "1176    2021     148     1211      85     1425      66    N      0    33   \n",
       "1177    2021     148     1417      51     1276      49    N      0    21   \n",
       "1178    2021     152     1124      78     1222      59    N      0    29   \n",
       "1179    2021     152     1211      93     1417      90    N      1    37   \n",
       "1180    2021     154     1124      86     1211      70    N      0    30   \n",
       "\n",
       "      WFGA  WFGM3  WFGA3  WFTM  WFTA  WOR  WDR  WAst  WTO  WStl  WBlk  WPF  \\\n",
       "1176    66      7     21    12    17   11   27    21    9     6     3   16   \n",
       "1177    54      3     13     6     7    6   21    12    8     5     2   14   \n",
       "1178    55     11     24     9    13   11   17    23    8     6     0   18   \n",
       "1179    63      7     21    12    20    4   19    25   10     8     3   16   \n",
       "1180    67     10     23    16    18   14   20    18    7     8     5   19   \n",
       "\n",
       "      LFGM  LFGA  LFGM3  LFGA3  LFTM  LFTA  LOR  LDR  LAst  LTO  LStl  LBlk  \\\n",
       "1176    24    62      4     15    14    19    7   20     9    9     7     0   \n",
       "1177    20    51      3     11     6    11    8   24    12   14     5     3   \n",
       "1178    21    55      6     19    11    16   13   12    10   10     4     5   \n",
       "1179    34    59      8     17    14    21    7   24    21    9     4     1   \n",
       "1180    25    49      5     17    15    21    1   16    16   14     4     3   \n",
       "\n",
       "      LPF  \n",
       "1176   13  \n",
       "1177   11  \n",
       "1178   10  \n",
       "1179   16  \n",
       "1180   17  "
      ]
     },
     "execution_count": 3,
     "metadata": {},
     "output_type": "execute_result"
    }
   ],
   "source": [
    "MNCAATourneyDetailedResults = load_raw_data(\"MNCAATourneyDetailedResults.csv\", stage)\n",
    "MNCAATourneyDetailedResults.tail()"
   ]
  },
  {
   "cell_type": "markdown",
   "id": "coordinate-couple",
   "metadata": {
    "execution": {
     "iopub.execute_input": "2022-03-16T21:52:34.253854Z",
     "iopub.status.busy": "2022-03-16T21:52:34.253529Z",
     "iopub.status.idle": "2022-03-16T21:52:34.259329Z",
     "shell.execute_reply": "2022-03-16T21:52:34.256654Z",
     "shell.execute_reply.started": "2022-03-16T21:52:34.253824Z"
    },
    "papermill": {
     "duration": 0.040049,
     "end_time": "2022-03-17T03:26:13.761601",
     "exception": false,
     "start_time": "2022-03-17T03:26:13.721552",
     "status": "completed"
    },
    "tags": []
   },
   "source": [
    "## Rankings\n",
    "This file lists out rankings (e.g. #1, #2, #3, ..., #N) of teams going back to the 2002-2003 season, under a large number of different ranking system methodologies. The information was gathered by Kenneth Massey and provided on his College Basketball Ranking Composite page.\n",
    "\n",
    "Note that a rating system is more precise than a ranking system, because a rating system can provide insight about the strength gap between two adjacently-ranked teams. A ranking system will just tell you who is #1 or who is #2, but a rating system might tell you whether the gap between #1 and #2 is large or small. Nevertheless, it can be hard to compare two different rating systems that are expressed in different scales, so it can be very useful to express all the systems in terms of their ordinal ranking (1, 2, 3, ..., N) of teams.\n",
    "\n",
    "* Season - this is the year of the associated entry in MSeasons.csv (the year in which the final tournament occurs)\n",
    "* RankingDayNum - this integer always ranges from 0 to 133, and is expressed in the same terms as a game's DayNum (where DayZero is found in the MSeasons.csv file). The RankingDayNum is intended to tell you the first day that it is appropriate to use the rankings for predicting games. For example, if RankingDayNum is 110, then the rankings ought to be based upon game outcomes up through DayNum=109, and so you can use the rankings to make predictions of games on DayNum=110 or later. The final pre-tournament rankings each year have a RankingDayNum of 133, and can thus be used to make predictions of the games from the NCAA® tournament, which start on DayNum=134 (the Tuesday after Selection Sunday).\n",
    "* SystemName - this is the (usually) 3-letter abbreviation for each distinct ranking system. These systems may evolve from year to year, but as a general rule they retain their meaning across the years. Near the top of the Massey composite page, you can find slightly longer labels describing each system, along with links to the underlying pages where the latest rankings are provided (and sometimes the calculation is described).\n",
    "* TeamID - this is the ID of the team being ranked, as described in MTeams.csv.\n",
    "* OrdinalRank - this is the overall ranking of the team in the underlying system. Most systems from recent seasons provide a complete ranking from #1 through #351, but more recently they go higher because additional teams were added to Division I in recent years.\n",
    "\n",
    "Disclaimer: you ought to be careful about your methodology when using or evaluating these ranking systems. They are presented on a weekly basis, and given a consistent date on the Massey Composite page that typically is a Sunday; that is how the ranking systems can be compared against each other on this page. However, these systems each follow their own timeline and some systems may be released on a Sunday and others on a Saturday or Monday or even Tuesday. You should remember that if a ranking is released on a Tuesday, and was calculated based on games played through Monday, it will make the system look unusually good at predicting if you use that system to forecast the very games played on Monday that already inform the rankings. To avoid this methodological trap, we have typically used a conservative RankingDayNum of Wednesday to represent the rankings that were released at approximately the end of the weekend, a few days before, even though those rankings are represented on the composite page as being on a Sunday. For some of the older years, a more precise timestamp was known for each ranking system that allowed a more precise assignment of a RankingDayNum. By convention, the final pre-tournament rankings are always expressed as RankingDayNum=133, even though sometimes the rankings for individual systems are not released until Tuesday (DayNum=134) or even Wednesday or Thursday. If you decide to use some rankings from these Massey Ordinals to inform your predictions, be forewarned that we have no control over when they are released, and not all systems may turn out to be available in time to make pre-tournament predictions by our submission deadline. In such a situation, you may wish to use the rankings from DayNum=128 or you may need to dig into the details of the actual source of the rankings, by following the respective links on the Massey Composite Page. We may also be able to provide partial releases of the final pre-tournament Massey Ordinals on the forums, so that as systems come in on Monday or Tuesday you can use them right away.\n"
   ]
  },
  {
   "cell_type": "code",
   "execution_count": 4,
   "id": "timely-credit",
   "metadata": {
    "execution": {
     "iopub.execute_input": "2022-03-17T03:26:13.934073Z",
     "iopub.status.busy": "2022-03-17T03:26:13.924530Z",
     "iopub.status.idle": "2022-03-17T03:26:16.664527Z",
     "shell.execute_reply": "2022-03-17T03:26:16.665402Z",
     "shell.execute_reply.started": "2022-03-17T03:09:57.525732Z"
    },
    "papermill": {
     "duration": 2.841708,
     "end_time": "2022-03-17T03:26:16.665634",
     "exception": false,
     "start_time": "2022-03-17T03:26:13.823926",
     "status": "completed"
    },
    "tags": []
   },
   "outputs": [
    {
     "data": {
      "text/html": [
       "<div>\n",
       "<style scoped>\n",
       "    .dataframe tbody tr th:only-of-type {\n",
       "        vertical-align: middle;\n",
       "    }\n",
       "\n",
       "    .dataframe tbody tr th {\n",
       "        vertical-align: top;\n",
       "    }\n",
       "\n",
       "    .dataframe thead th {\n",
       "        text-align: right;\n",
       "    }\n",
       "</style>\n",
       "<table border=\"1\" class=\"dataframe\">\n",
       "  <thead>\n",
       "    <tr style=\"text-align: right;\">\n",
       "      <th></th>\n",
       "      <th>Season</th>\n",
       "      <th>RankingDayNum</th>\n",
       "      <th>SystemName</th>\n",
       "      <th>TeamID</th>\n",
       "      <th>OrdinalRank</th>\n",
       "    </tr>\n",
       "  </thead>\n",
       "  <tbody>\n",
       "    <tr>\n",
       "      <th>4521715</th>\n",
       "      <td>2022</td>\n",
       "      <td>100</td>\n",
       "      <td>WOL</td>\n",
       "      <td>1468</td>\n",
       "      <td>183</td>\n",
       "    </tr>\n",
       "    <tr>\n",
       "      <th>4521716</th>\n",
       "      <td>2022</td>\n",
       "      <td>100</td>\n",
       "      <td>WOL</td>\n",
       "      <td>1469</td>\n",
       "      <td>259</td>\n",
       "    </tr>\n",
       "    <tr>\n",
       "      <th>4521717</th>\n",
       "      <td>2022</td>\n",
       "      <td>100</td>\n",
       "      <td>WOL</td>\n",
       "      <td>1470</td>\n",
       "      <td>209</td>\n",
       "    </tr>\n",
       "    <tr>\n",
       "      <th>4521718</th>\n",
       "      <td>2022</td>\n",
       "      <td>100</td>\n",
       "      <td>WOL</td>\n",
       "      <td>1471</td>\n",
       "      <td>270</td>\n",
       "    </tr>\n",
       "    <tr>\n",
       "      <th>4521719</th>\n",
       "      <td>2022</td>\n",
       "      <td>100</td>\n",
       "      <td>WOL</td>\n",
       "      <td>1472</td>\n",
       "      <td>296</td>\n",
       "    </tr>\n",
       "  </tbody>\n",
       "</table>\n",
       "</div>"
      ],
      "text/plain": [
       "         Season  RankingDayNum SystemName  TeamID  OrdinalRank\n",
       "4521715    2022            100        WOL    1468          183\n",
       "4521716    2022            100        WOL    1469          259\n",
       "4521717    2022            100        WOL    1470          209\n",
       "4521718    2022            100        WOL    1471          270\n",
       "4521719    2022            100        WOL    1472          296"
      ]
     },
     "execution_count": 4,
     "metadata": {},
     "output_type": "execute_result"
    }
   ],
   "source": [
    "MMasseyOrdinals = load_raw_data(\"MMasseyOrdinals.csv\", stage)\n",
    "MMasseyOrdinals.tail()"
   ]
  },
  {
   "cell_type": "markdown",
   "id": "arabic-alfred",
   "metadata": {
    "papermill": {
     "duration": 0.039965,
     "end_time": "2022-03-17T03:26:16.746010",
     "exception": false,
     "start_time": "2022-03-17T03:26:16.706045",
     "status": "completed"
    },
    "tags": []
   },
   "source": [
    "## Tourney Seeds\n",
    "\n",
    "This file identifies the seeds for all teams in each NCAA® tournament, for all seasons of historical data. Thus, there are between 64-68 rows for each year, depending on whether there were any play-in games and how many there were. In recent years the structure has settled at 68 total teams, with four \"play-in\" games leading to the final field of 64 teams entering Round 1 on Thursday of the first week (by definition, that is DayNum=136 each season). We will not know the seeds of the respective tournament teams, or even exactly which 68 teams it will be, until Selection Sunday on March 13, 2022 (DayNum=132).\n",
    "\n",
    "* Season - the year that the tournament was played in\n",
    "* Seed - this is a 3/4-character identifier of the seed, where the first character is either W, X, Y, or Z (identifying the region the team was in) and the next two digits (either 01, 02, ..., 15, or 16) tell you the seed within the region. For play-in teams, there is a fourth character (a or b) to further distinguish the seeds, since teams that face each other in the play-in games will have seeds with the same first three characters. The \"a\" and \"b\" are assigned based on which Team ID is lower numerically. As an example of the format of the seed, the first record in the file is seed W01 from 1985, which means we are looking at the #1 seed in the W region (which we can see from the \"MSeasons.csv\" file was the East region).\n",
    "* TeamID - this identifies the id number of the team, as specified in the MTeams.csv file\n"
   ]
  },
  {
   "cell_type": "code",
   "execution_count": 5,
   "id": "olive-video",
   "metadata": {
    "execution": {
     "iopub.execute_input": "2022-03-17T03:26:16.834041Z",
     "iopub.status.busy": "2022-03-17T03:26:16.833319Z",
     "iopub.status.idle": "2022-03-17T03:26:16.855041Z",
     "shell.execute_reply": "2022-03-17T03:26:16.854424Z",
     "shell.execute_reply.started": "2022-03-17T03:09:59.534580Z"
    },
    "papermill": {
     "duration": 0.06869,
     "end_time": "2022-03-17T03:26:16.855178",
     "exception": false,
     "start_time": "2022-03-17T03:26:16.786488",
     "status": "completed"
    },
    "tags": []
   },
   "outputs": [
    {
     "data": {
      "text/html": [
       "<div>\n",
       "<style scoped>\n",
       "    .dataframe tbody tr th:only-of-type {\n",
       "        vertical-align: middle;\n",
       "    }\n",
       "\n",
       "    .dataframe tbody tr th {\n",
       "        vertical-align: top;\n",
       "    }\n",
       "\n",
       "    .dataframe thead th {\n",
       "        text-align: right;\n",
       "    }\n",
       "</style>\n",
       "<table border=\"1\" class=\"dataframe\">\n",
       "  <thead>\n",
       "    <tr style=\"text-align: right;\">\n",
       "      <th></th>\n",
       "      <th>Season</th>\n",
       "      <th>Seed</th>\n",
       "      <th>TeamID</th>\n",
       "    </tr>\n",
       "  </thead>\n",
       "  <tbody>\n",
       "    <tr>\n",
       "      <th>2349</th>\n",
       "      <td>2021</td>\n",
       "      <td>Z12</td>\n",
       "      <td>1457</td>\n",
       "    </tr>\n",
       "    <tr>\n",
       "      <th>2350</th>\n",
       "      <td>2021</td>\n",
       "      <td>Z13</td>\n",
       "      <td>1317</td>\n",
       "    </tr>\n",
       "    <tr>\n",
       "      <th>2351</th>\n",
       "      <td>2021</td>\n",
       "      <td>Z14</td>\n",
       "      <td>1159</td>\n",
       "    </tr>\n",
       "    <tr>\n",
       "      <th>2352</th>\n",
       "      <td>2021</td>\n",
       "      <td>Z15</td>\n",
       "      <td>1331</td>\n",
       "    </tr>\n",
       "    <tr>\n",
       "      <th>2353</th>\n",
       "      <td>2021</td>\n",
       "      <td>Z16</td>\n",
       "      <td>1216</td>\n",
       "    </tr>\n",
       "  </tbody>\n",
       "</table>\n",
       "</div>"
      ],
      "text/plain": [
       "      Season Seed  TeamID\n",
       "2349    2021  Z12    1457\n",
       "2350    2021  Z13    1317\n",
       "2351    2021  Z14    1159\n",
       "2352    2021  Z15    1331\n",
       "2353    2021  Z16    1216"
      ]
     },
     "execution_count": 5,
     "metadata": {},
     "output_type": "execute_result"
    }
   ],
   "source": [
    "MNCAATourneySeeds = load_raw_data(\"MNCAATourneySeeds.csv\", stage)\n",
    "MNCAATourneySeeds.tail()"
   ]
  },
  {
   "cell_type": "markdown",
   "id": "matched-august",
   "metadata": {
    "papermill": {
     "duration": 0.040785,
     "end_time": "2022-03-17T03:26:16.936895",
     "exception": false,
     "start_time": "2022-03-17T03:26:16.896110",
     "status": "completed"
    },
    "tags": []
   },
   "source": [
    "# Step 3: Prepare the data\n",
    "\n"
   ]
  },
  {
   "cell_type": "markdown",
   "id": "several-regard",
   "metadata": {
    "papermill": {
     "duration": 0.041077,
     "end_time": "2022-03-17T03:26:17.018607",
     "exception": false,
     "start_time": "2022-03-17T03:26:16.977530",
     "status": "completed"
    },
    "tags": []
   },
   "source": [
    "## Feature Engineering"
   ]
  },
  {
   "cell_type": "markdown",
   "id": "rough-syria",
   "metadata": {
    "execution": {
     "iopub.execute_input": "2022-03-16T22:25:27.151896Z",
     "iopub.status.busy": "2022-03-16T22:25:27.151557Z",
     "iopub.status.idle": "2022-03-16T22:25:27.156784Z",
     "shell.execute_reply": "2022-03-16T22:25:27.155871Z",
     "shell.execute_reply.started": "2022-03-16T22:25:27.151863Z"
    },
    "papermill": {
     "duration": 0.041693,
     "end_time": "2022-03-17T03:26:17.101333",
     "exception": false,
     "start_time": "2022-03-17T03:26:17.059640",
     "status": "completed"
    },
    "tags": []
   },
   "source": [
    "### Detailed Results"
   ]
  },
  {
   "cell_type": "code",
   "execution_count": 6,
   "id": "clean-tooth",
   "metadata": {
    "execution": {
     "iopub.execute_input": "2022-03-17T03:26:17.233075Z",
     "iopub.status.busy": "2022-03-17T03:26:17.221837Z",
     "iopub.status.idle": "2022-03-17T03:26:17.238650Z",
     "shell.execute_reply": "2022-03-17T03:26:17.237923Z",
     "shell.execute_reply.started": "2022-03-17T03:09:59.551778Z"
    },
    "papermill": {
     "duration": 0.096711,
     "end_time": "2022-03-17T03:26:17.238815",
     "exception": false,
     "start_time": "2022-03-17T03:26:17.142104",
     "status": "completed"
    },
    "tags": []
   },
   "outputs": [],
   "source": [
    "def process_detailed_results(df_in: pd.DataFrame) -> pd.DataFrame:\n",
    "    df = df_in.copy()\n",
    "    df = clean_detailed_results(df)\n",
    "    df = aggregate_detailed_results(df)\n",
    "    df = compute_percentages(df)\n",
    "    return df\n",
    "\n",
    "def clean_detailed_results(df: pd.DataFrame) -> pd.DataFrame:\n",
    "    return df.drop([\"WLoc\", \"DayNum\"], axis=1)\n",
    "\n",
    "def reshape_detailed_results(df: pd.DataFrame) -> pd.DataFrame:\n",
    "    winner_columns, looser_columns = split_winner_and_looser_columns(df)\n",
    "    df_winner = df.copy()\n",
    "    df_winner = df_winner[winner_columns]\n",
    "    df_winner.columns = clean_column_names(df_winner)\n",
    "    df_winner[\"Win\"] = 1\n",
    "    df_looser = df.copy()\n",
    "    df_looser = df_looser[looser_columns]\n",
    "    df_looser.columns = clean_column_names(df_looser)\n",
    "    df_looser[\"Win\"] = 0\n",
    "    return pd.concat([df_winner, df_looser], ignore_index=True)\n",
    "\n",
    "def aggregate_detailed_results(df: pd.DataFrame) -> pd.DataFrame:\n",
    "    df = reshape_detailed_results(df)\n",
    "    df_agg = df.groupby([\"Season\", \"TeamID\"]).agg(\"mean\")\n",
    "    return df_agg.reset_index()\n",
    "\n",
    "def compute_percentages(df_in: pd.DataFrame) -> pd.DataFrame:\n",
    "    df = df_in.copy()\n",
    "    df[\"FGP\"] =  df[\"FGM\"] / df[\"FGA\"]\n",
    "    df[\"FGP3\"] =  df[\"FGM3\"] / df[\"FGA3\"]\n",
    "    df[\"FTP\"] =  df[\"FTM\"] / df[\"FTA\"]\n",
    "    return df\n",
    "\n",
    "def split_winner_and_looser_columns(df: pd.DataFrame) -> Tuple[List[str], List[str]]:\n",
    "    winner_columns = [name for name in df.columns if not name.startswith(\"L\")]\n",
    "    looser_columns = [name for name in df.columns if not name.startswith(\"W\")]\n",
    "    return winner_columns, looser_columns\n",
    "\n",
    "def clean_column_names(df: pd.DataFrame) -> List[str]:\n",
    "    column_names = [\n",
    "        name[1:] if \n",
    "        name.startswith(\"L\") or name.startswith(\"W\")\n",
    "        else name \n",
    "        for name in df.columns\n",
    "    ]\n",
    "    return column_names\n",
    "\n",
    "# Test data\n",
    "test_df = pd.DataFrame([\n",
    "    {\"Season\": 1, \"WTeamID\": \"A\", \"LTeamID\": \"B\", \"stat1\": 1, \"Wstat2\": 2, \"Lstat2\": 3 },\n",
    "    {\"Season\": 1, \"WTeamID\": \"A\", \"LTeamID\": \"B\", \"stat1\": 4, \"Wstat2\": 5, \"Lstat2\": 6 },\n",
    "])\n",
    "expected_column_names = [\n",
    "    \"Season\", \"TeamID\", \"TeamID\", \"stat1\", \"stat2\", \"stat2\"\n",
    "]\n",
    "expected_column_split = (\n",
    "    [\"Season\", \"WTeamID\", \"stat1\", \"Wstat2\"], \n",
    "    [\"Season\", \"LTeamID\", \"stat1\", \"Lstat2\"]\n",
    ")\n",
    "expected_reshaped_df = pd.DataFrame([\n",
    "    { \"Season\": 1, \"TeamID\": \"A\", \"stat1\": 1, \"stat2\": 2, \"Win\": 1 },\n",
    "    { \"Season\": 1, \"TeamID\": \"A\", \"stat1\": 4, \"stat2\": 5, \"Win\": 1 },\n",
    "    { \"Season\": 1, \"TeamID\": \"B\", \"stat1\": 1, \"stat2\": 3, \"Win\": 0 },\n",
    "    { \"Season\": 1, \"TeamID\": \"B\", \"stat1\": 4, \"stat2\": 6, \"Win\": 0 },\n",
    "    \n",
    "])\n",
    "expected_aggregated_df = pd.DataFrame([\n",
    "    {\"Season\": 1, \"TeamID\": \"A\", \"stat1\": 2.5, \"stat2\": 3.5, \"Win\": 1.0 },\n",
    "    {\"Season\": 1, \"TeamID\": \"B\",\"stat1\": 2.5, \"stat2\": 4.5, \"Win\": 0.0 },\n",
    "])\n",
    "test_df_copy = test_df.copy()\n",
    "\n",
    "# Tests\n",
    "assert clean_column_names(test_df) == expected_column_names, \"Function clean_column_names failed.\"\n",
    "assert split_winner_and_looser_columns(test_df) == expected_column_split, \"Function split_winner_and_looser_columns failed.\"\n",
    "assert expected_reshaped_df.equals(reshape_detailed_results(test_df)), \"Function reshape_detailed_results failed.\"\n",
    "assert expected_aggregated_df.equals(aggregate_detailed_results(test_df)), \"Function aggregate_detailed_results failed.\""
   ]
  },
  {
   "cell_type": "code",
   "execution_count": 7,
   "id": "departmental-tablet",
   "metadata": {
    "execution": {
     "iopub.execute_input": "2022-03-17T03:26:17.324916Z",
     "iopub.status.busy": "2022-03-17T03:26:17.323435Z",
     "iopub.status.idle": "2022-03-17T03:26:17.491967Z",
     "shell.execute_reply": "2022-03-17T03:26:17.491370Z",
     "shell.execute_reply.started": "2022-03-17T03:09:59.591768Z"
    },
    "papermill": {
     "duration": 0.21239,
     "end_time": "2022-03-17T03:26:17.492114",
     "exception": false,
     "start_time": "2022-03-17T03:26:17.279724",
     "status": "completed"
    },
    "tags": []
   },
   "outputs": [
    {
     "data": {
      "text/html": [
       "<div>\n",
       "<style scoped>\n",
       "    .dataframe tbody tr th:only-of-type {\n",
       "        vertical-align: middle;\n",
       "    }\n",
       "\n",
       "    .dataframe tbody tr th {\n",
       "        vertical-align: top;\n",
       "    }\n",
       "\n",
       "    .dataframe thead th {\n",
       "        text-align: right;\n",
       "    }\n",
       "</style>\n",
       "<table border=\"1\" class=\"dataframe\">\n",
       "  <thead>\n",
       "    <tr style=\"text-align: right;\">\n",
       "      <th></th>\n",
       "      <th>Season</th>\n",
       "      <th>TeamID</th>\n",
       "      <th>Score</th>\n",
       "      <th>NumOT</th>\n",
       "      <th>FGM</th>\n",
       "      <th>FGA</th>\n",
       "      <th>FGM3</th>\n",
       "      <th>FGA3</th>\n",
       "      <th>FTM</th>\n",
       "      <th>FTA</th>\n",
       "      <th>OR</th>\n",
       "      <th>DR</th>\n",
       "      <th>Ast</th>\n",
       "      <th>TO</th>\n",
       "      <th>Stl</th>\n",
       "      <th>Blk</th>\n",
       "      <th>PF</th>\n",
       "      <th>Win</th>\n",
       "      <th>FGP</th>\n",
       "      <th>FGP3</th>\n",
       "      <th>FTP</th>\n",
       "    </tr>\n",
       "  </thead>\n",
       "  <tbody>\n",
       "    <tr>\n",
       "      <th>6887</th>\n",
       "      <td>2022</td>\n",
       "      <td>1468</td>\n",
       "      <td>66.600000</td>\n",
       "      <td>0.050000</td>\n",
       "      <td>25.050000</td>\n",
       "      <td>54.850000</td>\n",
       "      <td>7.150000</td>\n",
       "      <td>22.100000</td>\n",
       "      <td>9.350000</td>\n",
       "      <td>12.550000</td>\n",
       "      <td>5.900000</td>\n",
       "      <td>20.650000</td>\n",
       "      <td>13.300000</td>\n",
       "      <td>9.750000</td>\n",
       "      <td>4.850000</td>\n",
       "      <td>1.600000</td>\n",
       "      <td>16.050000</td>\n",
       "      <td>0.450000</td>\n",
       "      <td>0.456700</td>\n",
       "      <td>0.323529</td>\n",
       "      <td>0.745020</td>\n",
       "    </tr>\n",
       "    <tr>\n",
       "      <th>6888</th>\n",
       "      <td>2022</td>\n",
       "      <td>1469</td>\n",
       "      <td>69.526316</td>\n",
       "      <td>0.000000</td>\n",
       "      <td>24.105263</td>\n",
       "      <td>58.473684</td>\n",
       "      <td>6.473684</td>\n",
       "      <td>21.631579</td>\n",
       "      <td>14.842105</td>\n",
       "      <td>21.473684</td>\n",
       "      <td>8.736842</td>\n",
       "      <td>23.631579</td>\n",
       "      <td>14.631579</td>\n",
       "      <td>15.052632</td>\n",
       "      <td>6.210526</td>\n",
       "      <td>2.315789</td>\n",
       "      <td>19.842105</td>\n",
       "      <td>0.368421</td>\n",
       "      <td>0.412241</td>\n",
       "      <td>0.299270</td>\n",
       "      <td>0.691176</td>\n",
       "    </tr>\n",
       "    <tr>\n",
       "      <th>6889</th>\n",
       "      <td>2022</td>\n",
       "      <td>1470</td>\n",
       "      <td>63.428571</td>\n",
       "      <td>0.047619</td>\n",
       "      <td>22.619048</td>\n",
       "      <td>54.904762</td>\n",
       "      <td>5.142857</td>\n",
       "      <td>16.666667</td>\n",
       "      <td>13.047619</td>\n",
       "      <td>17.571429</td>\n",
       "      <td>7.380952</td>\n",
       "      <td>19.095238</td>\n",
       "      <td>10.142857</td>\n",
       "      <td>10.190476</td>\n",
       "      <td>8.190476</td>\n",
       "      <td>2.142857</td>\n",
       "      <td>18.380952</td>\n",
       "      <td>0.380952</td>\n",
       "      <td>0.411969</td>\n",
       "      <td>0.308571</td>\n",
       "      <td>0.742547</td>\n",
       "    </tr>\n",
       "    <tr>\n",
       "      <th>6890</th>\n",
       "      <td>2022</td>\n",
       "      <td>1471</td>\n",
       "      <td>67.100000</td>\n",
       "      <td>0.050000</td>\n",
       "      <td>22.700000</td>\n",
       "      <td>52.400000</td>\n",
       "      <td>8.100000</td>\n",
       "      <td>23.700000</td>\n",
       "      <td>13.600000</td>\n",
       "      <td>18.600000</td>\n",
       "      <td>4.800000</td>\n",
       "      <td>21.950000</td>\n",
       "      <td>11.950000</td>\n",
       "      <td>13.250000</td>\n",
       "      <td>5.500000</td>\n",
       "      <td>1.600000</td>\n",
       "      <td>15.050000</td>\n",
       "      <td>0.400000</td>\n",
       "      <td>0.433206</td>\n",
       "      <td>0.341772</td>\n",
       "      <td>0.731183</td>\n",
       "    </tr>\n",
       "    <tr>\n",
       "      <th>6891</th>\n",
       "      <td>2022</td>\n",
       "      <td>1472</td>\n",
       "      <td>72.736842</td>\n",
       "      <td>0.000000</td>\n",
       "      <td>26.105263</td>\n",
       "      <td>60.000000</td>\n",
       "      <td>10.736842</td>\n",
       "      <td>30.052632</td>\n",
       "      <td>9.789474</td>\n",
       "      <td>12.631579</td>\n",
       "      <td>5.736842</td>\n",
       "      <td>19.368421</td>\n",
       "      <td>11.842105</td>\n",
       "      <td>7.947368</td>\n",
       "      <td>4.842105</td>\n",
       "      <td>1.157895</td>\n",
       "      <td>17.000000</td>\n",
       "      <td>0.263158</td>\n",
       "      <td>0.435088</td>\n",
       "      <td>0.357268</td>\n",
       "      <td>0.775000</td>\n",
       "    </tr>\n",
       "  </tbody>\n",
       "</table>\n",
       "</div>"
      ],
      "text/plain": [
       "      Season  TeamID      Score     NumOT        FGM        FGA       FGM3  \\\n",
       "6887    2022    1468  66.600000  0.050000  25.050000  54.850000   7.150000   \n",
       "6888    2022    1469  69.526316  0.000000  24.105263  58.473684   6.473684   \n",
       "6889    2022    1470  63.428571  0.047619  22.619048  54.904762   5.142857   \n",
       "6890    2022    1471  67.100000  0.050000  22.700000  52.400000   8.100000   \n",
       "6891    2022    1472  72.736842  0.000000  26.105263  60.000000  10.736842   \n",
       "\n",
       "           FGA3        FTM        FTA        OR         DR        Ast  \\\n",
       "6887  22.100000   9.350000  12.550000  5.900000  20.650000  13.300000   \n",
       "6888  21.631579  14.842105  21.473684  8.736842  23.631579  14.631579   \n",
       "6889  16.666667  13.047619  17.571429  7.380952  19.095238  10.142857   \n",
       "6890  23.700000  13.600000  18.600000  4.800000  21.950000  11.950000   \n",
       "6891  30.052632   9.789474  12.631579  5.736842  19.368421  11.842105   \n",
       "\n",
       "             TO       Stl       Blk         PF       Win       FGP      FGP3  \\\n",
       "6887   9.750000  4.850000  1.600000  16.050000  0.450000  0.456700  0.323529   \n",
       "6888  15.052632  6.210526  2.315789  19.842105  0.368421  0.412241  0.299270   \n",
       "6889  10.190476  8.190476  2.142857  18.380952  0.380952  0.411969  0.308571   \n",
       "6890  13.250000  5.500000  1.600000  15.050000  0.400000  0.433206  0.341772   \n",
       "6891   7.947368  4.842105  1.157895  17.000000  0.263158  0.435088  0.357268   \n",
       "\n",
       "           FTP  \n",
       "6887  0.745020  \n",
       "6888  0.691176  \n",
       "6889  0.742547  \n",
       "6890  0.731183  \n",
       "6891  0.775000  "
      ]
     },
     "execution_count": 7,
     "metadata": {},
     "output_type": "execute_result"
    }
   ],
   "source": [
    "ProcessedMRegularSeasonDetailedResults = process_detailed_results(\n",
    "    MRegularSeasonDetailedResults\n",
    ")\n",
    "ProcessedMRegularSeasonDetailedResults.tail()"
   ]
  },
  {
   "cell_type": "code",
   "execution_count": 8,
   "id": "welsh-tutorial",
   "metadata": {
    "execution": {
     "iopub.execute_input": "2022-03-17T03:26:17.586975Z",
     "iopub.status.busy": "2022-03-17T03:26:17.585823Z",
     "iopub.status.idle": "2022-03-17T03:26:17.622201Z",
     "shell.execute_reply": "2022-03-17T03:26:17.621645Z",
     "shell.execute_reply.started": "2022-03-17T03:09:59.702200Z"
    },
    "papermill": {
     "duration": 0.088045,
     "end_time": "2022-03-17T03:26:17.622348",
     "exception": false,
     "start_time": "2022-03-17T03:26:17.534303",
     "status": "completed"
    },
    "tags": []
   },
   "outputs": [
    {
     "data": {
      "text/html": [
       "<div>\n",
       "<style scoped>\n",
       "    .dataframe tbody tr th:only-of-type {\n",
       "        vertical-align: middle;\n",
       "    }\n",
       "\n",
       "    .dataframe tbody tr th {\n",
       "        vertical-align: top;\n",
       "    }\n",
       "\n",
       "    .dataframe thead th {\n",
       "        text-align: right;\n",
       "    }\n",
       "</style>\n",
       "<table border=\"1\" class=\"dataframe\">\n",
       "  <thead>\n",
       "    <tr style=\"text-align: right;\">\n",
       "      <th></th>\n",
       "      <th>Season</th>\n",
       "      <th>TeamID</th>\n",
       "      <th>Score</th>\n",
       "      <th>NumOT</th>\n",
       "      <th>FGM</th>\n",
       "      <th>FGA</th>\n",
       "      <th>FGM3</th>\n",
       "      <th>FGA3</th>\n",
       "      <th>FTM</th>\n",
       "      <th>FTA</th>\n",
       "      <th>OR</th>\n",
       "      <th>DR</th>\n",
       "      <th>Ast</th>\n",
       "      <th>TO</th>\n",
       "      <th>Stl</th>\n",
       "      <th>Blk</th>\n",
       "      <th>PF</th>\n",
       "      <th>Win</th>\n",
       "      <th>FGP</th>\n",
       "      <th>FGP3</th>\n",
       "      <th>FTP</th>\n",
       "    </tr>\n",
       "  </thead>\n",
       "  <tbody>\n",
       "    <tr>\n",
       "      <th>1194</th>\n",
       "      <td>2021</td>\n",
       "      <td>1439</td>\n",
       "      <td>70.0</td>\n",
       "      <td>1.0</td>\n",
       "      <td>24.0</td>\n",
       "      <td>57.0</td>\n",
       "      <td>7.0</td>\n",
       "      <td>23.0</td>\n",
       "      <td>15.0</td>\n",
       "      <td>21.0</td>\n",
       "      <td>6.0</td>\n",
       "      <td>16.0</td>\n",
       "      <td>11.0</td>\n",
       "      <td>11.0</td>\n",
       "      <td>6.0</td>\n",
       "      <td>2.0</td>\n",
       "      <td>24.0</td>\n",
       "      <td>0.0</td>\n",
       "      <td>0.421053</td>\n",
       "      <td>0.304348</td>\n",
       "      <td>0.714286</td>\n",
       "    </tr>\n",
       "    <tr>\n",
       "      <th>1195</th>\n",
       "      <td>2021</td>\n",
       "      <td>1452</td>\n",
       "      <td>78.0</td>\n",
       "      <td>0.0</td>\n",
       "      <td>29.0</td>\n",
       "      <td>66.5</td>\n",
       "      <td>10.0</td>\n",
       "      <td>22.0</td>\n",
       "      <td>10.0</td>\n",
       "      <td>13.0</td>\n",
       "      <td>13.0</td>\n",
       "      <td>17.5</td>\n",
       "      <td>17.0</td>\n",
       "      <td>10.0</td>\n",
       "      <td>9.0</td>\n",
       "      <td>2.5</td>\n",
       "      <td>15.5</td>\n",
       "      <td>0.5</td>\n",
       "      <td>0.436090</td>\n",
       "      <td>0.454545</td>\n",
       "      <td>0.769231</td>\n",
       "    </tr>\n",
       "    <tr>\n",
       "      <th>1196</th>\n",
       "      <td>2021</td>\n",
       "      <td>1455</td>\n",
       "      <td>52.0</td>\n",
       "      <td>0.0</td>\n",
       "      <td>19.0</td>\n",
       "      <td>56.0</td>\n",
       "      <td>3.0</td>\n",
       "      <td>18.0</td>\n",
       "      <td>11.0</td>\n",
       "      <td>22.0</td>\n",
       "      <td>10.0</td>\n",
       "      <td>23.0</td>\n",
       "      <td>7.0</td>\n",
       "      <td>8.0</td>\n",
       "      <td>7.0</td>\n",
       "      <td>7.0</td>\n",
       "      <td>13.0</td>\n",
       "      <td>0.0</td>\n",
       "      <td>0.339286</td>\n",
       "      <td>0.166667</td>\n",
       "      <td>0.500000</td>\n",
       "    </tr>\n",
       "    <tr>\n",
       "      <th>1197</th>\n",
       "      <td>2021</td>\n",
       "      <td>1457</td>\n",
       "      <td>63.0</td>\n",
       "      <td>0.0</td>\n",
       "      <td>21.0</td>\n",
       "      <td>58.0</td>\n",
       "      <td>7.0</td>\n",
       "      <td>22.0</td>\n",
       "      <td>14.0</td>\n",
       "      <td>19.0</td>\n",
       "      <td>9.0</td>\n",
       "      <td>25.0</td>\n",
       "      <td>13.0</td>\n",
       "      <td>10.0</td>\n",
       "      <td>0.0</td>\n",
       "      <td>0.0</td>\n",
       "      <td>23.0</td>\n",
       "      <td>0.0</td>\n",
       "      <td>0.362069</td>\n",
       "      <td>0.318182</td>\n",
       "      <td>0.736842</td>\n",
       "    </tr>\n",
       "    <tr>\n",
       "      <th>1198</th>\n",
       "      <td>2021</td>\n",
       "      <td>1458</td>\n",
       "      <td>74.0</td>\n",
       "      <td>0.0</td>\n",
       "      <td>28.0</td>\n",
       "      <td>58.0</td>\n",
       "      <td>10.5</td>\n",
       "      <td>24.0</td>\n",
       "      <td>7.5</td>\n",
       "      <td>9.5</td>\n",
       "      <td>7.0</td>\n",
       "      <td>24.5</td>\n",
       "      <td>14.0</td>\n",
       "      <td>9.5</td>\n",
       "      <td>2.5</td>\n",
       "      <td>6.5</td>\n",
       "      <td>14.5</td>\n",
       "      <td>0.5</td>\n",
       "      <td>0.482759</td>\n",
       "      <td>0.437500</td>\n",
       "      <td>0.789474</td>\n",
       "    </tr>\n",
       "  </tbody>\n",
       "</table>\n",
       "</div>"
      ],
      "text/plain": [
       "      Season  TeamID  Score  NumOT   FGM   FGA  FGM3  FGA3   FTM   FTA    OR  \\\n",
       "1194    2021    1439   70.0    1.0  24.0  57.0   7.0  23.0  15.0  21.0   6.0   \n",
       "1195    2021    1452   78.0    0.0  29.0  66.5  10.0  22.0  10.0  13.0  13.0   \n",
       "1196    2021    1455   52.0    0.0  19.0  56.0   3.0  18.0  11.0  22.0  10.0   \n",
       "1197    2021    1457   63.0    0.0  21.0  58.0   7.0  22.0  14.0  19.0   9.0   \n",
       "1198    2021    1458   74.0    0.0  28.0  58.0  10.5  24.0   7.5   9.5   7.0   \n",
       "\n",
       "        DR   Ast    TO  Stl  Blk    PF  Win       FGP      FGP3       FTP  \n",
       "1194  16.0  11.0  11.0  6.0  2.0  24.0  0.0  0.421053  0.304348  0.714286  \n",
       "1195  17.5  17.0  10.0  9.0  2.5  15.5  0.5  0.436090  0.454545  0.769231  \n",
       "1196  23.0   7.0   8.0  7.0  7.0  13.0  0.0  0.339286  0.166667  0.500000  \n",
       "1197  25.0  13.0  10.0  0.0  0.0  23.0  0.0  0.362069  0.318182  0.736842  \n",
       "1198  24.5  14.0   9.5  2.5  6.5  14.5  0.5  0.482759  0.437500  0.789474  "
      ]
     },
     "execution_count": 8,
     "metadata": {},
     "output_type": "execute_result"
    }
   ],
   "source": [
    "ProcessedMNCAATourneyDetailedResults = process_detailed_results(\n",
    "    MNCAATourneyDetailedResults\n",
    ")\n",
    "ProcessedMNCAATourneyDetailedResults.tail()"
   ]
  },
  {
   "cell_type": "markdown",
   "id": "republican-mexico",
   "metadata": {
    "papermill": {
     "duration": 0.041793,
     "end_time": "2022-03-17T03:26:17.706410",
     "exception": false,
     "start_time": "2022-03-17T03:26:17.664617",
     "status": "completed"
    },
    "tags": []
   },
   "source": [
    "### Rankings"
   ]
  },
  {
   "cell_type": "code",
   "execution_count": 9,
   "id": "previous-google",
   "metadata": {
    "execution": {
     "iopub.execute_input": "2022-03-17T03:26:17.798577Z",
     "iopub.status.busy": "2022-03-17T03:26:17.797876Z",
     "iopub.status.idle": "2022-03-17T03:26:17.802374Z",
     "shell.execute_reply": "2022-03-17T03:26:17.803233Z",
     "shell.execute_reply.started": "2022-03-17T03:09:59.738106Z"
    },
    "papermill": {
     "duration": 0.05436,
     "end_time": "2022-03-17T03:26:17.803397",
     "exception": false,
     "start_time": "2022-03-17T03:26:17.749037",
     "status": "completed"
    },
    "tags": []
   },
   "outputs": [],
   "source": [
    "def process_rankings(df_in:pd.DataFrame) -> pd.DataFrame:\n",
    "    df = df_in.copy()\n",
    "    mask = df[\"RankingDayNum\"] == df[\"RankingDayNum\"].max()\n",
    "    df = df[mask]\n",
    "    df.drop([\"SystemName\", \"RankingDayNum\"], axis=1, inplace=True)\n",
    "    df = df.groupby([\"Season\", \"TeamID\"]).agg(\"mean\")\n",
    "    return df.reset_index()"
   ]
  },
  {
   "cell_type": "code",
   "execution_count": 10,
   "id": "hundred-quantum",
   "metadata": {
    "execution": {
     "iopub.execute_input": "2022-03-17T03:26:17.896038Z",
     "iopub.status.busy": "2022-03-17T03:26:17.894518Z",
     "iopub.status.idle": "2022-03-17T03:26:18.047351Z",
     "shell.execute_reply": "2022-03-17T03:26:18.047953Z",
     "shell.execute_reply.started": "2022-03-17T03:09:59.748646Z"
    },
    "papermill": {
     "duration": 0.201009,
     "end_time": "2022-03-17T03:26:18.048153",
     "exception": false,
     "start_time": "2022-03-17T03:26:17.847144",
     "status": "completed"
    },
    "tags": []
   },
   "outputs": [
    {
     "data": {
      "text/html": [
       "<div>\n",
       "<style scoped>\n",
       "    .dataframe tbody tr th:only-of-type {\n",
       "        vertical-align: middle;\n",
       "    }\n",
       "\n",
       "    .dataframe tbody tr th {\n",
       "        vertical-align: top;\n",
       "    }\n",
       "\n",
       "    .dataframe thead th {\n",
       "        text-align: right;\n",
       "    }\n",
       "</style>\n",
       "<table border=\"1\" class=\"dataframe\">\n",
       "  <thead>\n",
       "    <tr style=\"text-align: right;\">\n",
       "      <th></th>\n",
       "      <th>Season</th>\n",
       "      <th>TeamID</th>\n",
       "      <th>OrdinalRank</th>\n",
       "    </tr>\n",
       "  </thead>\n",
       "  <tbody>\n",
       "    <tr>\n",
       "      <th>6175</th>\n",
       "      <td>2021</td>\n",
       "      <td>1467</td>\n",
       "      <td>239.823529</td>\n",
       "    </tr>\n",
       "    <tr>\n",
       "      <th>6176</th>\n",
       "      <td>2021</td>\n",
       "      <td>1468</td>\n",
       "      <td>180.620000</td>\n",
       "    </tr>\n",
       "    <tr>\n",
       "      <th>6177</th>\n",
       "      <td>2021</td>\n",
       "      <td>1469</td>\n",
       "      <td>315.142857</td>\n",
       "    </tr>\n",
       "    <tr>\n",
       "      <th>6178</th>\n",
       "      <td>2021</td>\n",
       "      <td>1470</td>\n",
       "      <td>254.367347</td>\n",
       "    </tr>\n",
       "    <tr>\n",
       "      <th>6179</th>\n",
       "      <td>2021</td>\n",
       "      <td>1471</td>\n",
       "      <td>255.620000</td>\n",
       "    </tr>\n",
       "  </tbody>\n",
       "</table>\n",
       "</div>"
      ],
      "text/plain": [
       "      Season  TeamID  OrdinalRank\n",
       "6175    2021    1467   239.823529\n",
       "6176    2021    1468   180.620000\n",
       "6177    2021    1469   315.142857\n",
       "6178    2021    1470   254.367347\n",
       "6179    2021    1471   255.620000"
      ]
     },
     "execution_count": 10,
     "metadata": {},
     "output_type": "execute_result"
    }
   ],
   "source": [
    "ProcessedMMasseyOrdinals = process_rankings(MMasseyOrdinals)\n",
    "ProcessedMMasseyOrdinals.tail()"
   ]
  },
  {
   "cell_type": "markdown",
   "id": "declared-thermal",
   "metadata": {
    "papermill": {
     "duration": 0.042271,
     "end_time": "2022-03-17T03:26:18.133304",
     "exception": false,
     "start_time": "2022-03-17T03:26:18.091033",
     "status": "completed"
    },
    "tags": []
   },
   "source": [
    "### Seeds"
   ]
  },
  {
   "cell_type": "code",
   "execution_count": 11,
   "id": "broke-forest",
   "metadata": {
    "execution": {
     "iopub.execute_input": "2022-03-17T03:26:18.225156Z",
     "iopub.status.busy": "2022-03-17T03:26:18.224330Z",
     "iopub.status.idle": "2022-03-17T03:26:18.229083Z",
     "shell.execute_reply": "2022-03-17T03:26:18.228405Z",
     "shell.execute_reply.started": "2022-03-17T03:09:59.917679Z"
    },
    "papermill": {
     "duration": 0.053965,
     "end_time": "2022-03-17T03:26:18.229242",
     "exception": false,
     "start_time": "2022-03-17T03:26:18.175277",
     "status": "completed"
    },
    "tags": []
   },
   "outputs": [],
   "source": [
    "def process_seeds(df_in: pd.DataFrame) -> pd.DataFrame:\n",
    "    df = df_in.copy()\n",
    "    mask = df[\"Season\"] > 2002\n",
    "    df = df[mask]\n",
    "    df[\"Seed\"] = df[\"Seed\"].str.replace(r\"\\D+\",\"\")\n",
    "    df[\"Seed\"] = df[\"Seed\"].astype(int)\n",
    "    return df"
   ]
  },
  {
   "cell_type": "code",
   "execution_count": 12,
   "id": "recent-dominican",
   "metadata": {
    "execution": {
     "iopub.execute_input": "2022-03-17T03:26:18.329605Z",
     "iopub.status.busy": "2022-03-17T03:26:18.328327Z",
     "iopub.status.idle": "2022-03-17T03:26:18.333876Z",
     "shell.execute_reply": "2022-03-17T03:26:18.333302Z",
     "shell.execute_reply.started": "2022-03-17T03:09:59.924956Z"
    },
    "papermill": {
     "duration": 0.062323,
     "end_time": "2022-03-17T03:26:18.334028",
     "exception": false,
     "start_time": "2022-03-17T03:26:18.271705",
     "status": "completed"
    },
    "tags": []
   },
   "outputs": [
    {
     "data": {
      "text/html": [
       "<div>\n",
       "<style scoped>\n",
       "    .dataframe tbody tr th:only-of-type {\n",
       "        vertical-align: middle;\n",
       "    }\n",
       "\n",
       "    .dataframe tbody tr th {\n",
       "        vertical-align: top;\n",
       "    }\n",
       "\n",
       "    .dataframe thead th {\n",
       "        text-align: right;\n",
       "    }\n",
       "</style>\n",
       "<table border=\"1\" class=\"dataframe\">\n",
       "  <thead>\n",
       "    <tr style=\"text-align: right;\">\n",
       "      <th></th>\n",
       "      <th>Season</th>\n",
       "      <th>Seed</th>\n",
       "      <th>TeamID</th>\n",
       "    </tr>\n",
       "  </thead>\n",
       "  <tbody>\n",
       "    <tr>\n",
       "      <th>2349</th>\n",
       "      <td>2021</td>\n",
       "      <td>12</td>\n",
       "      <td>1457</td>\n",
       "    </tr>\n",
       "    <tr>\n",
       "      <th>2350</th>\n",
       "      <td>2021</td>\n",
       "      <td>13</td>\n",
       "      <td>1317</td>\n",
       "    </tr>\n",
       "    <tr>\n",
       "      <th>2351</th>\n",
       "      <td>2021</td>\n",
       "      <td>14</td>\n",
       "      <td>1159</td>\n",
       "    </tr>\n",
       "    <tr>\n",
       "      <th>2352</th>\n",
       "      <td>2021</td>\n",
       "      <td>15</td>\n",
       "      <td>1331</td>\n",
       "    </tr>\n",
       "    <tr>\n",
       "      <th>2353</th>\n",
       "      <td>2021</td>\n",
       "      <td>16</td>\n",
       "      <td>1216</td>\n",
       "    </tr>\n",
       "  </tbody>\n",
       "</table>\n",
       "</div>"
      ],
      "text/plain": [
       "      Season  Seed  TeamID\n",
       "2349    2021    12    1457\n",
       "2350    2021    13    1317\n",
       "2351    2021    14    1159\n",
       "2352    2021    15    1331\n",
       "2353    2021    16    1216"
      ]
     },
     "execution_count": 12,
     "metadata": {},
     "output_type": "execute_result"
    }
   ],
   "source": [
    "ProcessedMNCAATourneySeeds = process_seeds(MNCAATourneySeeds)\n",
    "ProcessedMNCAATourneySeeds.tail()"
   ]
  },
  {
   "cell_type": "markdown",
   "id": "fancy-jacket",
   "metadata": {
    "execution": {
     "iopub.execute_input": "2022-03-17T02:19:13.394565Z",
     "iopub.status.busy": "2022-03-17T02:19:13.394252Z",
     "iopub.status.idle": "2022-03-17T02:19:13.398990Z",
     "shell.execute_reply": "2022-03-17T02:19:13.397787Z",
     "shell.execute_reply.started": "2022-03-17T02:19:13.394538Z"
    },
    "papermill": {
     "duration": 0.04292,
     "end_time": "2022-03-17T03:26:18.422024",
     "exception": false,
     "start_time": "2022-03-17T03:26:18.379104",
     "status": "completed"
    },
    "tags": []
   },
   "source": [
    "## Merge features"
   ]
  },
  {
   "cell_type": "code",
   "execution_count": 13,
   "id": "printable-sentence",
   "metadata": {
    "execution": {
     "iopub.execute_input": "2022-03-17T03:26:18.518414Z",
     "iopub.status.busy": "2022-03-17T03:26:18.517253Z",
     "iopub.status.idle": "2022-03-17T03:26:18.582554Z",
     "shell.execute_reply": "2022-03-17T03:26:18.583127Z",
     "shell.execute_reply.started": "2022-03-17T03:10:13.912702Z"
    },
    "papermill": {
     "duration": 0.118224,
     "end_time": "2022-03-17T03:26:18.583332",
     "exception": false,
     "start_time": "2022-03-17T03:26:18.465108",
     "status": "completed"
    },
    "tags": []
   },
   "outputs": [
    {
     "data": {
      "text/html": [
       "<div>\n",
       "<style scoped>\n",
       "    .dataframe tbody tr th:only-of-type {\n",
       "        vertical-align: middle;\n",
       "    }\n",
       "\n",
       "    .dataframe tbody tr th {\n",
       "        vertical-align: top;\n",
       "    }\n",
       "\n",
       "    .dataframe thead th {\n",
       "        text-align: right;\n",
       "    }\n",
       "</style>\n",
       "<table border=\"1\" class=\"dataframe\">\n",
       "  <thead>\n",
       "    <tr style=\"text-align: right;\">\n",
       "      <th></th>\n",
       "      <th>Season</th>\n",
       "      <th>TeamID</th>\n",
       "      <th>ScoreReg</th>\n",
       "      <th>NumOTReg</th>\n",
       "      <th>FGMReg</th>\n",
       "      <th>FGAReg</th>\n",
       "      <th>FGM3Reg</th>\n",
       "      <th>FGA3Reg</th>\n",
       "      <th>FTMReg</th>\n",
       "      <th>FTAReg</th>\n",
       "      <th>ORReg</th>\n",
       "      <th>DRReg</th>\n",
       "      <th>AstReg</th>\n",
       "      <th>TOReg</th>\n",
       "      <th>StlReg</th>\n",
       "      <th>BlkReg</th>\n",
       "      <th>PFReg</th>\n",
       "      <th>WinReg</th>\n",
       "      <th>FGPReg</th>\n",
       "      <th>FGP3Reg</th>\n",
       "      <th>FTPReg</th>\n",
       "      <th>ScoreTou</th>\n",
       "      <th>NumOTTou</th>\n",
       "      <th>FGMTou</th>\n",
       "      <th>FGATou</th>\n",
       "      <th>FGM3Tou</th>\n",
       "      <th>FGA3Tou</th>\n",
       "      <th>FTMTou</th>\n",
       "      <th>FTATou</th>\n",
       "      <th>ORTou</th>\n",
       "      <th>DRTou</th>\n",
       "      <th>AstTou</th>\n",
       "      <th>TOTou</th>\n",
       "      <th>StlTou</th>\n",
       "      <th>BlkTou</th>\n",
       "      <th>PFTou</th>\n",
       "      <th>WinTou</th>\n",
       "      <th>FGPTou</th>\n",
       "      <th>FGP3Tou</th>\n",
       "      <th>FTPTou</th>\n",
       "      <th>OrdinalRank</th>\n",
       "      <th>Seed</th>\n",
       "    </tr>\n",
       "  </thead>\n",
       "  <tbody>\n",
       "    <tr>\n",
       "      <th>1194</th>\n",
       "      <td>2021</td>\n",
       "      <td>1439</td>\n",
       "      <td>72.142857</td>\n",
       "      <td>0.095238</td>\n",
       "      <td>25.428571</td>\n",
       "      <td>56.333333</td>\n",
       "      <td>8.238095</td>\n",
       "      <td>23.095238</td>\n",
       "      <td>13.047619</td>\n",
       "      <td>18.714286</td>\n",
       "      <td>7.857143</td>\n",
       "      <td>24.523810</td>\n",
       "      <td>14.380952</td>\n",
       "      <td>11.047619</td>\n",
       "      <td>4.761905</td>\n",
       "      <td>3.952381</td>\n",
       "      <td>2.285714</td>\n",
       "      <td>0.714286</td>\n",
       "      <td>0.451395</td>\n",
       "      <td>0.356701</td>\n",
       "      <td>0.697201</td>\n",
       "      <td>70.0</td>\n",
       "      <td>1.0</td>\n",
       "      <td>24.0</td>\n",
       "      <td>57.0</td>\n",
       "      <td>7.0</td>\n",
       "      <td>23.0</td>\n",
       "      <td>15.0</td>\n",
       "      <td>21.0</td>\n",
       "      <td>6.0</td>\n",
       "      <td>16.0</td>\n",
       "      <td>11.0</td>\n",
       "      <td>11.0</td>\n",
       "      <td>6.0</td>\n",
       "      <td>2.0</td>\n",
       "      <td>24.0</td>\n",
       "      <td>0.0</td>\n",
       "      <td>0.421053</td>\n",
       "      <td>0.304348</td>\n",
       "      <td>0.714286</td>\n",
       "      <td>47.388889</td>\n",
       "      <td>10</td>\n",
       "    </tr>\n",
       "    <tr>\n",
       "      <th>1195</th>\n",
       "      <td>2021</td>\n",
       "      <td>1452</td>\n",
       "      <td>77.296296</td>\n",
       "      <td>0.111111</td>\n",
       "      <td>26.333333</td>\n",
       "      <td>61.481481</td>\n",
       "      <td>7.259259</td>\n",
       "      <td>20.333333</td>\n",
       "      <td>17.370370</td>\n",
       "      <td>24.222222</td>\n",
       "      <td>11.888889</td>\n",
       "      <td>23.000000</td>\n",
       "      <td>13.777778</td>\n",
       "      <td>11.629630</td>\n",
       "      <td>7.481481</td>\n",
       "      <td>2.851852</td>\n",
       "      <td>4.222222</td>\n",
       "      <td>0.666667</td>\n",
       "      <td>0.428313</td>\n",
       "      <td>0.357013</td>\n",
       "      <td>0.717125</td>\n",
       "      <td>78.0</td>\n",
       "      <td>0.0</td>\n",
       "      <td>29.0</td>\n",
       "      <td>66.5</td>\n",
       "      <td>10.0</td>\n",
       "      <td>22.0</td>\n",
       "      <td>10.0</td>\n",
       "      <td>13.0</td>\n",
       "      <td>13.0</td>\n",
       "      <td>17.5</td>\n",
       "      <td>17.0</td>\n",
       "      <td>10.0</td>\n",
       "      <td>9.0</td>\n",
       "      <td>2.5</td>\n",
       "      <td>15.5</td>\n",
       "      <td>0.5</td>\n",
       "      <td>0.436090</td>\n",
       "      <td>0.454545</td>\n",
       "      <td>0.769231</td>\n",
       "      <td>20.222222</td>\n",
       "      <td>3</td>\n",
       "    </tr>\n",
       "    <tr>\n",
       "      <th>1196</th>\n",
       "      <td>2021</td>\n",
       "      <td>1455</td>\n",
       "      <td>71.894737</td>\n",
       "      <td>0.105263</td>\n",
       "      <td>23.894737</td>\n",
       "      <td>59.000000</td>\n",
       "      <td>8.368421</td>\n",
       "      <td>24.263158</td>\n",
       "      <td>15.736842</td>\n",
       "      <td>22.526316</td>\n",
       "      <td>9.000000</td>\n",
       "      <td>23.473684</td>\n",
       "      <td>12.842105</td>\n",
       "      <td>10.578947</td>\n",
       "      <td>5.736842</td>\n",
       "      <td>3.421053</td>\n",
       "      <td>3.578947</td>\n",
       "      <td>0.736842</td>\n",
       "      <td>0.404996</td>\n",
       "      <td>0.344902</td>\n",
       "      <td>0.698598</td>\n",
       "      <td>52.0</td>\n",
       "      <td>0.0</td>\n",
       "      <td>19.0</td>\n",
       "      <td>56.0</td>\n",
       "      <td>3.0</td>\n",
       "      <td>18.0</td>\n",
       "      <td>11.0</td>\n",
       "      <td>22.0</td>\n",
       "      <td>10.0</td>\n",
       "      <td>23.0</td>\n",
       "      <td>7.0</td>\n",
       "      <td>8.0</td>\n",
       "      <td>7.0</td>\n",
       "      <td>7.0</td>\n",
       "      <td>13.0</td>\n",
       "      <td>0.0</td>\n",
       "      <td>0.339286</td>\n",
       "      <td>0.166667</td>\n",
       "      <td>0.500000</td>\n",
       "      <td>57.307692</td>\n",
       "      <td>11</td>\n",
       "    </tr>\n",
       "    <tr>\n",
       "      <th>1197</th>\n",
       "      <td>2021</td>\n",
       "      <td>1457</td>\n",
       "      <td>79.541667</td>\n",
       "      <td>0.000000</td>\n",
       "      <td>28.083333</td>\n",
       "      <td>60.958333</td>\n",
       "      <td>8.458333</td>\n",
       "      <td>23.958333</td>\n",
       "      <td>14.916667</td>\n",
       "      <td>21.750000</td>\n",
       "      <td>11.208333</td>\n",
       "      <td>26.458333</td>\n",
       "      <td>15.041667</td>\n",
       "      <td>13.666667</td>\n",
       "      <td>7.750000</td>\n",
       "      <td>2.375000</td>\n",
       "      <td>3.500000</td>\n",
       "      <td>0.958333</td>\n",
       "      <td>0.460697</td>\n",
       "      <td>0.353043</td>\n",
       "      <td>0.685824</td>\n",
       "      <td>63.0</td>\n",
       "      <td>0.0</td>\n",
       "      <td>21.0</td>\n",
       "      <td>58.0</td>\n",
       "      <td>7.0</td>\n",
       "      <td>22.0</td>\n",
       "      <td>14.0</td>\n",
       "      <td>19.0</td>\n",
       "      <td>9.0</td>\n",
       "      <td>25.0</td>\n",
       "      <td>13.0</td>\n",
       "      <td>10.0</td>\n",
       "      <td>0.0</td>\n",
       "      <td>0.0</td>\n",
       "      <td>23.0</td>\n",
       "      <td>0.0</td>\n",
       "      <td>0.362069</td>\n",
       "      <td>0.318182</td>\n",
       "      <td>0.736842</td>\n",
       "      <td>66.711538</td>\n",
       "      <td>12</td>\n",
       "    </tr>\n",
       "    <tr>\n",
       "      <th>1198</th>\n",
       "      <td>2021</td>\n",
       "      <td>1458</td>\n",
       "      <td>69.620690</td>\n",
       "      <td>0.068966</td>\n",
       "      <td>24.517241</td>\n",
       "      <td>58.275862</td>\n",
       "      <td>8.551724</td>\n",
       "      <td>23.758621</td>\n",
       "      <td>12.034483</td>\n",
       "      <td>15.689655</td>\n",
       "      <td>6.689655</td>\n",
       "      <td>24.034483</td>\n",
       "      <td>13.310345</td>\n",
       "      <td>8.586207</td>\n",
       "      <td>5.862069</td>\n",
       "      <td>3.793103</td>\n",
       "      <td>4.172414</td>\n",
       "      <td>0.586207</td>\n",
       "      <td>0.420710</td>\n",
       "      <td>0.359942</td>\n",
       "      <td>0.767033</td>\n",
       "      <td>74.0</td>\n",
       "      <td>0.0</td>\n",
       "      <td>28.0</td>\n",
       "      <td>58.0</td>\n",
       "      <td>10.5</td>\n",
       "      <td>24.0</td>\n",
       "      <td>7.5</td>\n",
       "      <td>9.5</td>\n",
       "      <td>7.0</td>\n",
       "      <td>24.5</td>\n",
       "      <td>14.0</td>\n",
       "      <td>9.5</td>\n",
       "      <td>2.5</td>\n",
       "      <td>6.5</td>\n",
       "      <td>14.5</td>\n",
       "      <td>0.5</td>\n",
       "      <td>0.482759</td>\n",
       "      <td>0.437500</td>\n",
       "      <td>0.789474</td>\n",
       "      <td>27.961538</td>\n",
       "      <td>9</td>\n",
       "    </tr>\n",
       "  </tbody>\n",
       "</table>\n",
       "</div>"
      ],
      "text/plain": [
       "      Season  TeamID   ScoreReg  NumOTReg     FGMReg     FGAReg   FGM3Reg  \\\n",
       "1194    2021    1439  72.142857  0.095238  25.428571  56.333333  8.238095   \n",
       "1195    2021    1452  77.296296  0.111111  26.333333  61.481481  7.259259   \n",
       "1196    2021    1455  71.894737  0.105263  23.894737  59.000000  8.368421   \n",
       "1197    2021    1457  79.541667  0.000000  28.083333  60.958333  8.458333   \n",
       "1198    2021    1458  69.620690  0.068966  24.517241  58.275862  8.551724   \n",
       "\n",
       "        FGA3Reg     FTMReg     FTAReg      ORReg      DRReg     AstReg  \\\n",
       "1194  23.095238  13.047619  18.714286   7.857143  24.523810  14.380952   \n",
       "1195  20.333333  17.370370  24.222222  11.888889  23.000000  13.777778   \n",
       "1196  24.263158  15.736842  22.526316   9.000000  23.473684  12.842105   \n",
       "1197  23.958333  14.916667  21.750000  11.208333  26.458333  15.041667   \n",
       "1198  23.758621  12.034483  15.689655   6.689655  24.034483  13.310345   \n",
       "\n",
       "          TOReg    StlReg    BlkReg     PFReg    WinReg    FGPReg   FGP3Reg  \\\n",
       "1194  11.047619  4.761905  3.952381  2.285714  0.714286  0.451395  0.356701   \n",
       "1195  11.629630  7.481481  2.851852  4.222222  0.666667  0.428313  0.357013   \n",
       "1196  10.578947  5.736842  3.421053  3.578947  0.736842  0.404996  0.344902   \n",
       "1197  13.666667  7.750000  2.375000  3.500000  0.958333  0.460697  0.353043   \n",
       "1198   8.586207  5.862069  3.793103  4.172414  0.586207  0.420710  0.359942   \n",
       "\n",
       "        FTPReg  ScoreTou  NumOTTou  FGMTou  FGATou  FGM3Tou  FGA3Tou  FTMTou  \\\n",
       "1194  0.697201      70.0       1.0    24.0    57.0      7.0     23.0    15.0   \n",
       "1195  0.717125      78.0       0.0    29.0    66.5     10.0     22.0    10.0   \n",
       "1196  0.698598      52.0       0.0    19.0    56.0      3.0     18.0    11.0   \n",
       "1197  0.685824      63.0       0.0    21.0    58.0      7.0     22.0    14.0   \n",
       "1198  0.767033      74.0       0.0    28.0    58.0     10.5     24.0     7.5   \n",
       "\n",
       "      FTATou  ORTou  DRTou  AstTou  TOTou  StlTou  BlkTou  PFTou  WinTou  \\\n",
       "1194    21.0    6.0   16.0    11.0   11.0     6.0     2.0   24.0     0.0   \n",
       "1195    13.0   13.0   17.5    17.0   10.0     9.0     2.5   15.5     0.5   \n",
       "1196    22.0   10.0   23.0     7.0    8.0     7.0     7.0   13.0     0.0   \n",
       "1197    19.0    9.0   25.0    13.0   10.0     0.0     0.0   23.0     0.0   \n",
       "1198     9.5    7.0   24.5    14.0    9.5     2.5     6.5   14.5     0.5   \n",
       "\n",
       "        FGPTou   FGP3Tou    FTPTou  OrdinalRank  Seed  \n",
       "1194  0.421053  0.304348  0.714286    47.388889    10  \n",
       "1195  0.436090  0.454545  0.769231    20.222222     3  \n",
       "1196  0.339286  0.166667  0.500000    57.307692    11  \n",
       "1197  0.362069  0.318182  0.736842    66.711538    12  \n",
       "1198  0.482759  0.437500  0.789474    27.961538     9  "
      ]
     },
     "execution_count": 13,
     "metadata": {},
     "output_type": "execute_result"
    }
   ],
   "source": [
    "features = pd.merge(\n",
    "    ProcessedMRegularSeasonDetailedResults,\n",
    "    ProcessedMNCAATourneyDetailedResults,\n",
    "    how=\"inner\",\n",
    "    on=[\"Season\", \"TeamID\"],\n",
    "    suffixes=(\"Reg\", \"Tou\")\n",
    ")\n",
    "\n",
    "features = features.merge(\n",
    "    ProcessedMMasseyOrdinals,\n",
    "    how=\"inner\",\n",
    "    on=[\"Season\", \"TeamID\"]\n",
    ")\n",
    "\n",
    "features = features.merge(\n",
    "    ProcessedMNCAATourneySeeds,\n",
    "    how=\"inner\",\n",
    "    on=[\"Season\", \"TeamID\"]\n",
    ")\n",
    "\n",
    "features.tail()"
   ]
  },
  {
   "cell_type": "markdown",
   "id": "relevant-marking",
   "metadata": {
    "papermill": {
     "duration": 0.043871,
     "end_time": "2022-03-17T03:26:18.672121",
     "exception": false,
     "start_time": "2022-03-17T03:26:18.628250",
     "status": "completed"
    },
    "tags": []
   },
   "source": [
    "## Build Dataset"
   ]
  },
  {
   "cell_type": "code",
   "execution_count": 14,
   "id": "perfect-yahoo",
   "metadata": {
    "execution": {
     "iopub.execute_input": "2022-03-17T03:26:18.768204Z",
     "iopub.status.busy": "2022-03-17T03:26:18.767106Z",
     "iopub.status.idle": "2022-03-17T03:26:18.770604Z",
     "shell.execute_reply": "2022-03-17T03:26:18.770082Z",
     "shell.execute_reply.started": "2022-03-17T03:10:16.193649Z"
    },
    "papermill": {
     "duration": 0.05524,
     "end_time": "2022-03-17T03:26:18.770780",
     "exception": false,
     "start_time": "2022-03-17T03:26:18.715540",
     "status": "completed"
    },
    "tags": []
   },
   "outputs": [],
   "source": [
    "def get_outcomes(df):\n",
    "    input_rows = df.to_records()\n",
    "    output_rows = [parse_row(input_row) for input_row in input_rows]\n",
    "    out_df = pd.DataFrame(output_rows)\n",
    "    return out_df\n",
    "\n",
    "def parse_row(row):\n",
    "    season = row['Season']\n",
    "    winning_team_id = row['WTeamID']\n",
    "    losing_team_id = row['LTeamID']\n",
    "    if winning_team_id < losing_team_id:\n",
    "        small_id = winning_team_id\n",
    "        big_id = losing_team_id\n",
    "        outcome = 1\n",
    "    elif losing_team_id < winning_team_id:\n",
    "        small_id = losing_team_id\n",
    "        big_id = winning_team_id\n",
    "        outcome = 0\n",
    "    record = {\n",
    "        \"ID\": f\"{season}_{small_id}_{big_id}\",\n",
    "        'Season': season,\n",
    "        'LowID': small_id,\n",
    "        'HighID': big_id,\n",
    "        'Win': outcome\n",
    "    }\n",
    "    return record"
   ]
  },
  {
   "cell_type": "code",
   "execution_count": 15,
   "id": "logical-begin",
   "metadata": {
    "execution": {
     "iopub.execute_input": "2022-03-17T03:26:18.870613Z",
     "iopub.status.busy": "2022-03-17T03:26:18.866829Z",
     "iopub.status.idle": "2022-03-17T03:26:18.901568Z",
     "shell.execute_reply": "2022-03-17T03:26:18.902158Z",
     "shell.execute_reply.started": "2022-03-17T03:10:17.584519Z"
    },
    "papermill": {
     "duration": 0.087329,
     "end_time": "2022-03-17T03:26:18.902350",
     "exception": false,
     "start_time": "2022-03-17T03:26:18.815021",
     "status": "completed"
    },
    "tags": []
   },
   "outputs": [
    {
     "data": {
      "text/html": [
       "<div>\n",
       "<style scoped>\n",
       "    .dataframe tbody tr th:only-of-type {\n",
       "        vertical-align: middle;\n",
       "    }\n",
       "\n",
       "    .dataframe tbody tr th {\n",
       "        vertical-align: top;\n",
       "    }\n",
       "\n",
       "    .dataframe thead th {\n",
       "        text-align: right;\n",
       "    }\n",
       "</style>\n",
       "<table border=\"1\" class=\"dataframe\">\n",
       "  <thead>\n",
       "    <tr style=\"text-align: right;\">\n",
       "      <th></th>\n",
       "      <th>ID</th>\n",
       "      <th>Season</th>\n",
       "      <th>LowID</th>\n",
       "      <th>HighID</th>\n",
       "      <th>Win</th>\n",
       "    </tr>\n",
       "  </thead>\n",
       "  <tbody>\n",
       "    <tr>\n",
       "      <th>1176</th>\n",
       "      <td>2021_1211_1425</td>\n",
       "      <td>2021</td>\n",
       "      <td>1211</td>\n",
       "      <td>1425</td>\n",
       "      <td>1</td>\n",
       "    </tr>\n",
       "    <tr>\n",
       "      <th>1177</th>\n",
       "      <td>2021_1276_1417</td>\n",
       "      <td>2021</td>\n",
       "      <td>1276</td>\n",
       "      <td>1417</td>\n",
       "      <td>0</td>\n",
       "    </tr>\n",
       "    <tr>\n",
       "      <th>1178</th>\n",
       "      <td>2021_1124_1222</td>\n",
       "      <td>2021</td>\n",
       "      <td>1124</td>\n",
       "      <td>1222</td>\n",
       "      <td>1</td>\n",
       "    </tr>\n",
       "    <tr>\n",
       "      <th>1179</th>\n",
       "      <td>2021_1211_1417</td>\n",
       "      <td>2021</td>\n",
       "      <td>1211</td>\n",
       "      <td>1417</td>\n",
       "      <td>1</td>\n",
       "    </tr>\n",
       "    <tr>\n",
       "      <th>1180</th>\n",
       "      <td>2021_1124_1211</td>\n",
       "      <td>2021</td>\n",
       "      <td>1124</td>\n",
       "      <td>1211</td>\n",
       "      <td>1</td>\n",
       "    </tr>\n",
       "  </tbody>\n",
       "</table>\n",
       "</div>"
      ],
      "text/plain": [
       "                  ID  Season  LowID  HighID  Win\n",
       "1176  2021_1211_1425    2021   1211    1425    1\n",
       "1177  2021_1276_1417    2021   1276    1417    0\n",
       "1178  2021_1124_1222    2021   1124    1222    1\n",
       "1179  2021_1211_1417    2021   1211    1417    1\n",
       "1180  2021_1124_1211    2021   1124    1211    1"
      ]
     },
     "execution_count": 15,
     "metadata": {},
     "output_type": "execute_result"
    }
   ],
   "source": [
    "outcomes = get_outcomes(MNCAATourneyDetailedResults)\n",
    "outcomes.tail()"
   ]
  },
  {
   "cell_type": "code",
   "execution_count": 16,
   "id": "built-twelve",
   "metadata": {
    "execution": {
     "iopub.execute_input": "2022-03-17T03:26:18.996243Z",
     "iopub.status.busy": "2022-03-17T03:26:18.995096Z",
     "iopub.status.idle": "2022-03-17T03:26:19.098035Z",
     "shell.execute_reply": "2022-03-17T03:26:19.098562Z",
     "shell.execute_reply.started": "2022-03-17T03:18:33.598514Z"
    },
    "papermill": {
     "duration": 0.151245,
     "end_time": "2022-03-17T03:26:19.098776",
     "exception": false,
     "start_time": "2022-03-17T03:26:18.947531",
     "status": "completed"
    },
    "tags": []
   },
   "outputs": [
    {
     "data": {
      "text/html": [
       "<div>\n",
       "<style scoped>\n",
       "    .dataframe tbody tr th:only-of-type {\n",
       "        vertical-align: middle;\n",
       "    }\n",
       "\n",
       "    .dataframe tbody tr th {\n",
       "        vertical-align: top;\n",
       "    }\n",
       "\n",
       "    .dataframe thead th {\n",
       "        text-align: right;\n",
       "    }\n",
       "</style>\n",
       "<table border=\"1\" class=\"dataframe\">\n",
       "  <thead>\n",
       "    <tr style=\"text-align: right;\">\n",
       "      <th></th>\n",
       "      <th>Win</th>\n",
       "      <th>ScoreRegHigh</th>\n",
       "      <th>NumOTRegHigh</th>\n",
       "      <th>FGMRegHigh</th>\n",
       "      <th>FGARegHigh</th>\n",
       "      <th>FGM3RegHigh</th>\n",
       "      <th>FGA3RegHigh</th>\n",
       "      <th>FTMRegHigh</th>\n",
       "      <th>FTARegHigh</th>\n",
       "      <th>ORRegHigh</th>\n",
       "      <th>DRRegHigh</th>\n",
       "      <th>AstRegHigh</th>\n",
       "      <th>TORegHigh</th>\n",
       "      <th>StlRegHigh</th>\n",
       "      <th>BlkRegHigh</th>\n",
       "      <th>PFRegHigh</th>\n",
       "      <th>WinRegHigh</th>\n",
       "      <th>FGPRegHigh</th>\n",
       "      <th>FGP3RegHigh</th>\n",
       "      <th>FTPRegHigh</th>\n",
       "      <th>ScoreTouHigh</th>\n",
       "      <th>NumOTTouHigh</th>\n",
       "      <th>FGMTouHigh</th>\n",
       "      <th>FGATouHigh</th>\n",
       "      <th>FGM3TouHigh</th>\n",
       "      <th>FGA3TouHigh</th>\n",
       "      <th>FTMTouHigh</th>\n",
       "      <th>FTATouHigh</th>\n",
       "      <th>ORTouHigh</th>\n",
       "      <th>DRTouHigh</th>\n",
       "      <th>AstTouHigh</th>\n",
       "      <th>TOTouHigh</th>\n",
       "      <th>StlTouHigh</th>\n",
       "      <th>BlkTouHigh</th>\n",
       "      <th>PFTouHigh</th>\n",
       "      <th>WinTouHigh</th>\n",
       "      <th>FGPTouHigh</th>\n",
       "      <th>FGP3TouHigh</th>\n",
       "      <th>FTPTouHigh</th>\n",
       "      <th>OrdinalRankHigh</th>\n",
       "      <th>SeedHigh</th>\n",
       "      <th>ScoreRegLow</th>\n",
       "      <th>NumOTRegLow</th>\n",
       "      <th>FGMRegLow</th>\n",
       "      <th>FGARegLow</th>\n",
       "      <th>FGM3RegLow</th>\n",
       "      <th>FGA3RegLow</th>\n",
       "      <th>FTMRegLow</th>\n",
       "      <th>FTARegLow</th>\n",
       "      <th>ORRegLow</th>\n",
       "      <th>DRRegLow</th>\n",
       "      <th>AstRegLow</th>\n",
       "      <th>TORegLow</th>\n",
       "      <th>StlRegLow</th>\n",
       "      <th>BlkRegLow</th>\n",
       "      <th>PFRegLow</th>\n",
       "      <th>WinRegLow</th>\n",
       "      <th>FGPRegLow</th>\n",
       "      <th>FGP3RegLow</th>\n",
       "      <th>FTPRegLow</th>\n",
       "      <th>ScoreTouLow</th>\n",
       "      <th>NumOTTouLow</th>\n",
       "      <th>FGMTouLow</th>\n",
       "      <th>FGATouLow</th>\n",
       "      <th>FGM3TouLow</th>\n",
       "      <th>FGA3TouLow</th>\n",
       "      <th>FTMTouLow</th>\n",
       "      <th>FTATouLow</th>\n",
       "      <th>ORTouLow</th>\n",
       "      <th>DRTouLow</th>\n",
       "      <th>AstTouLow</th>\n",
       "      <th>TOTouLow</th>\n",
       "      <th>StlTouLow</th>\n",
       "      <th>BlkTouLow</th>\n",
       "      <th>PFTouLow</th>\n",
       "      <th>WinTouLow</th>\n",
       "      <th>FGPTouLow</th>\n",
       "      <th>FGP3TouLow</th>\n",
       "      <th>FTPTouLow</th>\n",
       "      <th>OrdinalRankLow</th>\n",
       "      <th>SeedLow</th>\n",
       "    </tr>\n",
       "    <tr>\n",
       "      <th>ID</th>\n",
       "      <th></th>\n",
       "      <th></th>\n",
       "      <th></th>\n",
       "      <th></th>\n",
       "      <th></th>\n",
       "      <th></th>\n",
       "      <th></th>\n",
       "      <th></th>\n",
       "      <th></th>\n",
       "      <th></th>\n",
       "      <th></th>\n",
       "      <th></th>\n",
       "      <th></th>\n",
       "      <th></th>\n",
       "      <th></th>\n",
       "      <th></th>\n",
       "      <th></th>\n",
       "      <th></th>\n",
       "      <th></th>\n",
       "      <th></th>\n",
       "      <th></th>\n",
       "      <th></th>\n",
       "      <th></th>\n",
       "      <th></th>\n",
       "      <th></th>\n",
       "      <th></th>\n",
       "      <th></th>\n",
       "      <th></th>\n",
       "      <th></th>\n",
       "      <th></th>\n",
       "      <th></th>\n",
       "      <th></th>\n",
       "      <th></th>\n",
       "      <th></th>\n",
       "      <th></th>\n",
       "      <th></th>\n",
       "      <th></th>\n",
       "      <th></th>\n",
       "      <th></th>\n",
       "      <th></th>\n",
       "      <th></th>\n",
       "      <th></th>\n",
       "      <th></th>\n",
       "      <th></th>\n",
       "      <th></th>\n",
       "      <th></th>\n",
       "      <th></th>\n",
       "      <th></th>\n",
       "      <th></th>\n",
       "      <th></th>\n",
       "      <th></th>\n",
       "      <th></th>\n",
       "      <th></th>\n",
       "      <th></th>\n",
       "      <th></th>\n",
       "      <th></th>\n",
       "      <th></th>\n",
       "      <th></th>\n",
       "      <th></th>\n",
       "      <th></th>\n",
       "      <th></th>\n",
       "      <th></th>\n",
       "      <th></th>\n",
       "      <th></th>\n",
       "      <th></th>\n",
       "      <th></th>\n",
       "      <th></th>\n",
       "      <th></th>\n",
       "      <th></th>\n",
       "      <th></th>\n",
       "      <th></th>\n",
       "      <th></th>\n",
       "      <th></th>\n",
       "      <th></th>\n",
       "      <th></th>\n",
       "      <th></th>\n",
       "      <th></th>\n",
       "      <th></th>\n",
       "      <th></th>\n",
       "      <th></th>\n",
       "      <th></th>\n",
       "    </tr>\n",
       "  </thead>\n",
       "  <tbody>\n",
       "    <tr>\n",
       "      <th>2021_1242_1425</th>\n",
       "      <td>0</td>\n",
       "      <td>74.758621</td>\n",
       "      <td>0.137931</td>\n",
       "      <td>27.172414</td>\n",
       "      <td>58.172414</td>\n",
       "      <td>6.310345</td>\n",
       "      <td>18.137931</td>\n",
       "      <td>14.103448</td>\n",
       "      <td>21.793103</td>\n",
       "      <td>10.482759</td>\n",
       "      <td>25.827586</td>\n",
       "      <td>13.655172</td>\n",
       "      <td>12.103448</td>\n",
       "      <td>4.793103</td>\n",
       "      <td>5.241379</td>\n",
       "      <td>4.482759</td>\n",
       "      <td>0.758621</td>\n",
       "      <td>0.467101</td>\n",
       "      <td>0.347909</td>\n",
       "      <td>0.647152</td>\n",
       "      <td>76.25</td>\n",
       "      <td>0.0</td>\n",
       "      <td>29.00</td>\n",
       "      <td>57.50</td>\n",
       "      <td>7.75</td>\n",
       "      <td>17.0</td>\n",
       "      <td>10.50</td>\n",
       "      <td>15.75</td>\n",
       "      <td>7.50</td>\n",
       "      <td>24.50</td>\n",
       "      <td>15.5</td>\n",
       "      <td>10.75</td>\n",
       "      <td>4.50</td>\n",
       "      <td>3.75</td>\n",
       "      <td>12.00</td>\n",
       "      <td>0.75</td>\n",
       "      <td>0.504348</td>\n",
       "      <td>0.455882</td>\n",
       "      <td>0.666667</td>\n",
       "      <td>16.796296</td>\n",
       "      <td>6</td>\n",
       "      <td>72.518519</td>\n",
       "      <td>0.037037</td>\n",
       "      <td>26.111111</td>\n",
       "      <td>59.740741</td>\n",
       "      <td>7.259259</td>\n",
       "      <td>21.481481</td>\n",
       "      <td>13.037037</td>\n",
       "      <td>18.222222</td>\n",
       "      <td>10.074074</td>\n",
       "      <td>24.925926</td>\n",
       "      <td>13.629630</td>\n",
       "      <td>11.962963</td>\n",
       "      <td>6.703704</td>\n",
       "      <td>4.037037</td>\n",
       "      <td>3.518519</td>\n",
       "      <td>0.703704</td>\n",
       "      <td>0.437074</td>\n",
       "      <td>0.337931</td>\n",
       "      <td>0.715447</td>\n",
       "      <td>72.000000</td>\n",
       "      <td>0.0</td>\n",
       "      <td>26.0</td>\n",
       "      <td>66.500000</td>\n",
       "      <td>9.000000</td>\n",
       "      <td>27.5</td>\n",
       "      <td>11.0</td>\n",
       "      <td>14.000000</td>\n",
       "      <td>8.500000</td>\n",
       "      <td>20.500000</td>\n",
       "      <td>16.0</td>\n",
       "      <td>6.0</td>\n",
       "      <td>7.5</td>\n",
       "      <td>2.500000</td>\n",
       "      <td>16.5</td>\n",
       "      <td>0.500000</td>\n",
       "      <td>0.390977</td>\n",
       "      <td>0.327273</td>\n",
       "      <td>0.785714</td>\n",
       "      <td>16.092593</td>\n",
       "      <td>3</td>\n",
       "    </tr>\n",
       "    <tr>\n",
       "      <th>2021_1332_1425</th>\n",
       "      <td>0</td>\n",
       "      <td>74.758621</td>\n",
       "      <td>0.137931</td>\n",
       "      <td>27.172414</td>\n",
       "      <td>58.172414</td>\n",
       "      <td>6.310345</td>\n",
       "      <td>18.137931</td>\n",
       "      <td>14.103448</td>\n",
       "      <td>21.793103</td>\n",
       "      <td>10.482759</td>\n",
       "      <td>25.827586</td>\n",
       "      <td>13.655172</td>\n",
       "      <td>12.103448</td>\n",
       "      <td>4.793103</td>\n",
       "      <td>5.241379</td>\n",
       "      <td>4.482759</td>\n",
       "      <td>0.758621</td>\n",
       "      <td>0.467101</td>\n",
       "      <td>0.347909</td>\n",
       "      <td>0.647152</td>\n",
       "      <td>76.25</td>\n",
       "      <td>0.0</td>\n",
       "      <td>29.00</td>\n",
       "      <td>57.50</td>\n",
       "      <td>7.75</td>\n",
       "      <td>17.0</td>\n",
       "      <td>10.50</td>\n",
       "      <td>15.75</td>\n",
       "      <td>7.50</td>\n",
       "      <td>24.50</td>\n",
       "      <td>15.5</td>\n",
       "      <td>10.75</td>\n",
       "      <td>4.50</td>\n",
       "      <td>3.75</td>\n",
       "      <td>12.00</td>\n",
       "      <td>0.75</td>\n",
       "      <td>0.504348</td>\n",
       "      <td>0.455882</td>\n",
       "      <td>0.666667</td>\n",
       "      <td>16.796296</td>\n",
       "      <td>6</td>\n",
       "      <td>74.384615</td>\n",
       "      <td>0.000000</td>\n",
       "      <td>27.500000</td>\n",
       "      <td>58.230769</td>\n",
       "      <td>8.384615</td>\n",
       "      <td>22.115385</td>\n",
       "      <td>11.000000</td>\n",
       "      <td>15.615385</td>\n",
       "      <td>8.192308</td>\n",
       "      <td>22.500000</td>\n",
       "      <td>13.307692</td>\n",
       "      <td>11.000000</td>\n",
       "      <td>7.461538</td>\n",
       "      <td>3.615385</td>\n",
       "      <td>5.192308</td>\n",
       "      <td>0.769231</td>\n",
       "      <td>0.472259</td>\n",
       "      <td>0.379130</td>\n",
       "      <td>0.704433</td>\n",
       "      <td>81.500000</td>\n",
       "      <td>0.0</td>\n",
       "      <td>32.0</td>\n",
       "      <td>68.500000</td>\n",
       "      <td>8.000000</td>\n",
       "      <td>23.0</td>\n",
       "      <td>9.5</td>\n",
       "      <td>11.500000</td>\n",
       "      <td>11.500000</td>\n",
       "      <td>18.000000</td>\n",
       "      <td>20.0</td>\n",
       "      <td>10.5</td>\n",
       "      <td>7.0</td>\n",
       "      <td>4.500000</td>\n",
       "      <td>13.5</td>\n",
       "      <td>0.500000</td>\n",
       "      <td>0.467153</td>\n",
       "      <td>0.347826</td>\n",
       "      <td>0.826087</td>\n",
       "      <td>28.735849</td>\n",
       "      <td>7</td>\n",
       "    </tr>\n",
       "    <tr>\n",
       "      <th>2021_1329_1333</th>\n",
       "      <td>0</td>\n",
       "      <td>69.107143</td>\n",
       "      <td>0.071429</td>\n",
       "      <td>23.857143</td>\n",
       "      <td>56.071429</td>\n",
       "      <td>6.892857</td>\n",
       "      <td>19.892857</td>\n",
       "      <td>14.500000</td>\n",
       "      <td>19.071429</td>\n",
       "      <td>9.214286</td>\n",
       "      <td>21.535714</td>\n",
       "      <td>14.178571</td>\n",
       "      <td>11.000000</td>\n",
       "      <td>5.821429</td>\n",
       "      <td>3.178571</td>\n",
       "      <td>5.535714</td>\n",
       "      <td>0.571429</td>\n",
       "      <td>0.425478</td>\n",
       "      <td>0.346499</td>\n",
       "      <td>0.760300</td>\n",
       "      <td>69.00</td>\n",
       "      <td>0.0</td>\n",
       "      <td>22.75</td>\n",
       "      <td>51.25</td>\n",
       "      <td>6.75</td>\n",
       "      <td>17.5</td>\n",
       "      <td>16.75</td>\n",
       "      <td>21.25</td>\n",
       "      <td>8.25</td>\n",
       "      <td>28.25</td>\n",
       "      <td>13.5</td>\n",
       "      <td>11.75</td>\n",
       "      <td>3.75</td>\n",
       "      <td>5.00</td>\n",
       "      <td>18.25</td>\n",
       "      <td>0.75</td>\n",
       "      <td>0.443902</td>\n",
       "      <td>0.385714</td>\n",
       "      <td>0.788235</td>\n",
       "      <td>76.788462</td>\n",
       "      <td>12</td>\n",
       "      <td>77.071429</td>\n",
       "      <td>0.178571</td>\n",
       "      <td>27.678571</td>\n",
       "      <td>59.142857</td>\n",
       "      <td>6.392857</td>\n",
       "      <td>18.892857</td>\n",
       "      <td>15.321429</td>\n",
       "      <td>21.500000</td>\n",
       "      <td>9.285714</td>\n",
       "      <td>25.928571</td>\n",
       "      <td>13.178571</td>\n",
       "      <td>15.642857</td>\n",
       "      <td>7.285714</td>\n",
       "      <td>4.357143</td>\n",
       "      <td>5.142857</td>\n",
       "      <td>0.714286</td>\n",
       "      <td>0.467995</td>\n",
       "      <td>0.338374</td>\n",
       "      <td>0.712625</td>\n",
       "      <td>69.500000</td>\n",
       "      <td>0.0</td>\n",
       "      <td>20.5</td>\n",
       "      <td>59.500000</td>\n",
       "      <td>5.500000</td>\n",
       "      <td>20.5</td>\n",
       "      <td>23.0</td>\n",
       "      <td>33.500000</td>\n",
       "      <td>10.500000</td>\n",
       "      <td>20.500000</td>\n",
       "      <td>6.5</td>\n",
       "      <td>10.0</td>\n",
       "      <td>9.5</td>\n",
       "      <td>4.500000</td>\n",
       "      <td>23.0</td>\n",
       "      <td>0.500000</td>\n",
       "      <td>0.344538</td>\n",
       "      <td>0.268293</td>\n",
       "      <td>0.686567</td>\n",
       "      <td>21.759259</td>\n",
       "      <td>4</td>\n",
       "    </tr>\n",
       "    <tr>\n",
       "      <th>2021_1260_1333</th>\n",
       "      <td>0</td>\n",
       "      <td>69.107143</td>\n",
       "      <td>0.071429</td>\n",
       "      <td>23.857143</td>\n",
       "      <td>56.071429</td>\n",
       "      <td>6.892857</td>\n",
       "      <td>19.892857</td>\n",
       "      <td>14.500000</td>\n",
       "      <td>19.071429</td>\n",
       "      <td>9.214286</td>\n",
       "      <td>21.535714</td>\n",
       "      <td>14.178571</td>\n",
       "      <td>11.000000</td>\n",
       "      <td>5.821429</td>\n",
       "      <td>3.178571</td>\n",
       "      <td>5.535714</td>\n",
       "      <td>0.571429</td>\n",
       "      <td>0.425478</td>\n",
       "      <td>0.346499</td>\n",
       "      <td>0.760300</td>\n",
       "      <td>69.00</td>\n",
       "      <td>0.0</td>\n",
       "      <td>22.75</td>\n",
       "      <td>51.25</td>\n",
       "      <td>6.75</td>\n",
       "      <td>17.5</td>\n",
       "      <td>16.75</td>\n",
       "      <td>21.25</td>\n",
       "      <td>8.25</td>\n",
       "      <td>28.25</td>\n",
       "      <td>13.5</td>\n",
       "      <td>11.75</td>\n",
       "      <td>3.75</td>\n",
       "      <td>5.00</td>\n",
       "      <td>18.25</td>\n",
       "      <td>0.75</td>\n",
       "      <td>0.443902</td>\n",
       "      <td>0.385714</td>\n",
       "      <td>0.788235</td>\n",
       "      <td>76.788462</td>\n",
       "      <td>12</td>\n",
       "      <td>70.538462</td>\n",
       "      <td>0.076923</td>\n",
       "      <td>25.961538</td>\n",
       "      <td>52.192308</td>\n",
       "      <td>6.884615</td>\n",
       "      <td>19.307692</td>\n",
       "      <td>11.730769</td>\n",
       "      <td>16.000000</td>\n",
       "      <td>6.423077</td>\n",
       "      <td>23.692308</td>\n",
       "      <td>15.538462</td>\n",
       "      <td>11.384615</td>\n",
       "      <td>7.115385</td>\n",
       "      <td>2.307692</td>\n",
       "      <td>4.538462</td>\n",
       "      <td>0.846154</td>\n",
       "      <td>0.497421</td>\n",
       "      <td>0.356574</td>\n",
       "      <td>0.733173</td>\n",
       "      <td>66.666667</td>\n",
       "      <td>0.0</td>\n",
       "      <td>23.0</td>\n",
       "      <td>52.666667</td>\n",
       "      <td>6.666667</td>\n",
       "      <td>20.0</td>\n",
       "      <td>14.0</td>\n",
       "      <td>20.333333</td>\n",
       "      <td>9.666667</td>\n",
       "      <td>19.666667</td>\n",
       "      <td>16.0</td>\n",
       "      <td>9.0</td>\n",
       "      <td>7.0</td>\n",
       "      <td>2.666667</td>\n",
       "      <td>15.0</td>\n",
       "      <td>0.666667</td>\n",
       "      <td>0.436709</td>\n",
       "      <td>0.333333</td>\n",
       "      <td>0.688525</td>\n",
       "      <td>23.851852</td>\n",
       "      <td>8</td>\n",
       "    </tr>\n",
       "    <tr>\n",
       "      <th>2021_1234_1332</th>\n",
       "      <td>0</td>\n",
       "      <td>74.384615</td>\n",
       "      <td>0.000000</td>\n",
       "      <td>27.500000</td>\n",
       "      <td>58.230769</td>\n",
       "      <td>8.384615</td>\n",
       "      <td>22.115385</td>\n",
       "      <td>11.000000</td>\n",
       "      <td>15.615385</td>\n",
       "      <td>8.192308</td>\n",
       "      <td>22.500000</td>\n",
       "      <td>13.307692</td>\n",
       "      <td>11.000000</td>\n",
       "      <td>7.461538</td>\n",
       "      <td>3.615385</td>\n",
       "      <td>5.192308</td>\n",
       "      <td>0.769231</td>\n",
       "      <td>0.472259</td>\n",
       "      <td>0.379130</td>\n",
       "      <td>0.704433</td>\n",
       "      <td>81.50</td>\n",
       "      <td>0.0</td>\n",
       "      <td>32.00</td>\n",
       "      <td>68.50</td>\n",
       "      <td>8.00</td>\n",
       "      <td>23.0</td>\n",
       "      <td>9.50</td>\n",
       "      <td>11.50</td>\n",
       "      <td>11.50</td>\n",
       "      <td>18.00</td>\n",
       "      <td>20.0</td>\n",
       "      <td>10.50</td>\n",
       "      <td>7.00</td>\n",
       "      <td>4.50</td>\n",
       "      <td>13.50</td>\n",
       "      <td>0.50</td>\n",
       "      <td>0.467153</td>\n",
       "      <td>0.347826</td>\n",
       "      <td>0.826087</td>\n",
       "      <td>28.735849</td>\n",
       "      <td>7</td>\n",
       "      <td>83.758621</td>\n",
       "      <td>0.034483</td>\n",
       "      <td>29.758621</td>\n",
       "      <td>63.448276</td>\n",
       "      <td>9.758621</td>\n",
       "      <td>25.275862</td>\n",
       "      <td>14.482759</td>\n",
       "      <td>20.310345</td>\n",
       "      <td>10.172414</td>\n",
       "      <td>27.827586</td>\n",
       "      <td>19.000000</td>\n",
       "      <td>9.137931</td>\n",
       "      <td>5.586207</td>\n",
       "      <td>4.517241</td>\n",
       "      <td>3.724138</td>\n",
       "      <td>0.724138</td>\n",
       "      <td>0.469022</td>\n",
       "      <td>0.386085</td>\n",
       "      <td>0.713073</td>\n",
       "      <td>83.000000</td>\n",
       "      <td>0.0</td>\n",
       "      <td>30.0</td>\n",
       "      <td>61.000000</td>\n",
       "      <td>9.000000</td>\n",
       "      <td>23.5</td>\n",
       "      <td>14.0</td>\n",
       "      <td>19.000000</td>\n",
       "      <td>9.000000</td>\n",
       "      <td>21.500000</td>\n",
       "      <td>19.5</td>\n",
       "      <td>8.5</td>\n",
       "      <td>5.5</td>\n",
       "      <td>5.000000</td>\n",
       "      <td>14.0</td>\n",
       "      <td>0.500000</td>\n",
       "      <td>0.491803</td>\n",
       "      <td>0.382979</td>\n",
       "      <td>0.736842</td>\n",
       "      <td>8.055556</td>\n",
       "      <td>2</td>\n",
       "    </tr>\n",
       "  </tbody>\n",
       "</table>\n",
       "</div>"
      ],
      "text/plain": [
       "                Win  ScoreRegHigh  NumOTRegHigh  FGMRegHigh  FGARegHigh  \\\n",
       "ID                                                                        \n",
       "2021_1242_1425    0     74.758621      0.137931   27.172414   58.172414   \n",
       "2021_1332_1425    0     74.758621      0.137931   27.172414   58.172414   \n",
       "2021_1329_1333    0     69.107143      0.071429   23.857143   56.071429   \n",
       "2021_1260_1333    0     69.107143      0.071429   23.857143   56.071429   \n",
       "2021_1234_1332    0     74.384615      0.000000   27.500000   58.230769   \n",
       "\n",
       "                FGM3RegHigh  FGA3RegHigh  FTMRegHigh  FTARegHigh  ORRegHigh  \\\n",
       "ID                                                                            \n",
       "2021_1242_1425     6.310345    18.137931   14.103448   21.793103  10.482759   \n",
       "2021_1332_1425     6.310345    18.137931   14.103448   21.793103  10.482759   \n",
       "2021_1329_1333     6.892857    19.892857   14.500000   19.071429   9.214286   \n",
       "2021_1260_1333     6.892857    19.892857   14.500000   19.071429   9.214286   \n",
       "2021_1234_1332     8.384615    22.115385   11.000000   15.615385   8.192308   \n",
       "\n",
       "                DRRegHigh  AstRegHigh  TORegHigh  StlRegHigh  BlkRegHigh  \\\n",
       "ID                                                                         \n",
       "2021_1242_1425  25.827586   13.655172  12.103448    4.793103    5.241379   \n",
       "2021_1332_1425  25.827586   13.655172  12.103448    4.793103    5.241379   \n",
       "2021_1329_1333  21.535714   14.178571  11.000000    5.821429    3.178571   \n",
       "2021_1260_1333  21.535714   14.178571  11.000000    5.821429    3.178571   \n",
       "2021_1234_1332  22.500000   13.307692  11.000000    7.461538    3.615385   \n",
       "\n",
       "                PFRegHigh  WinRegHigh  FGPRegHigh  FGP3RegHigh  FTPRegHigh  \\\n",
       "ID                                                                           \n",
       "2021_1242_1425   4.482759    0.758621    0.467101     0.347909    0.647152   \n",
       "2021_1332_1425   4.482759    0.758621    0.467101     0.347909    0.647152   \n",
       "2021_1329_1333   5.535714    0.571429    0.425478     0.346499    0.760300   \n",
       "2021_1260_1333   5.535714    0.571429    0.425478     0.346499    0.760300   \n",
       "2021_1234_1332   5.192308    0.769231    0.472259     0.379130    0.704433   \n",
       "\n",
       "                ScoreTouHigh  NumOTTouHigh  FGMTouHigh  FGATouHigh  \\\n",
       "ID                                                                   \n",
       "2021_1242_1425         76.25           0.0       29.00       57.50   \n",
       "2021_1332_1425         76.25           0.0       29.00       57.50   \n",
       "2021_1329_1333         69.00           0.0       22.75       51.25   \n",
       "2021_1260_1333         69.00           0.0       22.75       51.25   \n",
       "2021_1234_1332         81.50           0.0       32.00       68.50   \n",
       "\n",
       "                FGM3TouHigh  FGA3TouHigh  FTMTouHigh  FTATouHigh  ORTouHigh  \\\n",
       "ID                                                                            \n",
       "2021_1242_1425         7.75         17.0       10.50       15.75       7.50   \n",
       "2021_1332_1425         7.75         17.0       10.50       15.75       7.50   \n",
       "2021_1329_1333         6.75         17.5       16.75       21.25       8.25   \n",
       "2021_1260_1333         6.75         17.5       16.75       21.25       8.25   \n",
       "2021_1234_1332         8.00         23.0        9.50       11.50      11.50   \n",
       "\n",
       "                DRTouHigh  AstTouHigh  TOTouHigh  StlTouHigh  BlkTouHigh  \\\n",
       "ID                                                                         \n",
       "2021_1242_1425      24.50        15.5      10.75        4.50        3.75   \n",
       "2021_1332_1425      24.50        15.5      10.75        4.50        3.75   \n",
       "2021_1329_1333      28.25        13.5      11.75        3.75        5.00   \n",
       "2021_1260_1333      28.25        13.5      11.75        3.75        5.00   \n",
       "2021_1234_1332      18.00        20.0      10.50        7.00        4.50   \n",
       "\n",
       "                PFTouHigh  WinTouHigh  FGPTouHigh  FGP3TouHigh  FTPTouHigh  \\\n",
       "ID                                                                           \n",
       "2021_1242_1425      12.00        0.75    0.504348     0.455882    0.666667   \n",
       "2021_1332_1425      12.00        0.75    0.504348     0.455882    0.666667   \n",
       "2021_1329_1333      18.25        0.75    0.443902     0.385714    0.788235   \n",
       "2021_1260_1333      18.25        0.75    0.443902     0.385714    0.788235   \n",
       "2021_1234_1332      13.50        0.50    0.467153     0.347826    0.826087   \n",
       "\n",
       "                OrdinalRankHigh  SeedHigh  ScoreRegLow  NumOTRegLow  \\\n",
       "ID                                                                    \n",
       "2021_1242_1425        16.796296         6    72.518519     0.037037   \n",
       "2021_1332_1425        16.796296         6    74.384615     0.000000   \n",
       "2021_1329_1333        76.788462        12    77.071429     0.178571   \n",
       "2021_1260_1333        76.788462        12    70.538462     0.076923   \n",
       "2021_1234_1332        28.735849         7    83.758621     0.034483   \n",
       "\n",
       "                FGMRegLow  FGARegLow  FGM3RegLow  FGA3RegLow  FTMRegLow  \\\n",
       "ID                                                                        \n",
       "2021_1242_1425  26.111111  59.740741    7.259259   21.481481  13.037037   \n",
       "2021_1332_1425  27.500000  58.230769    8.384615   22.115385  11.000000   \n",
       "2021_1329_1333  27.678571  59.142857    6.392857   18.892857  15.321429   \n",
       "2021_1260_1333  25.961538  52.192308    6.884615   19.307692  11.730769   \n",
       "2021_1234_1332  29.758621  63.448276    9.758621   25.275862  14.482759   \n",
       "\n",
       "                FTARegLow   ORRegLow   DRRegLow  AstRegLow   TORegLow  \\\n",
       "ID                                                                      \n",
       "2021_1242_1425  18.222222  10.074074  24.925926  13.629630  11.962963   \n",
       "2021_1332_1425  15.615385   8.192308  22.500000  13.307692  11.000000   \n",
       "2021_1329_1333  21.500000   9.285714  25.928571  13.178571  15.642857   \n",
       "2021_1260_1333  16.000000   6.423077  23.692308  15.538462  11.384615   \n",
       "2021_1234_1332  20.310345  10.172414  27.827586  19.000000   9.137931   \n",
       "\n",
       "                StlRegLow  BlkRegLow  PFRegLow  WinRegLow  FGPRegLow  \\\n",
       "ID                                                                     \n",
       "2021_1242_1425   6.703704   4.037037  3.518519   0.703704   0.437074   \n",
       "2021_1332_1425   7.461538   3.615385  5.192308   0.769231   0.472259   \n",
       "2021_1329_1333   7.285714   4.357143  5.142857   0.714286   0.467995   \n",
       "2021_1260_1333   7.115385   2.307692  4.538462   0.846154   0.497421   \n",
       "2021_1234_1332   5.586207   4.517241  3.724138   0.724138   0.469022   \n",
       "\n",
       "                FGP3RegLow  FTPRegLow  ScoreTouLow  NumOTTouLow  FGMTouLow  \\\n",
       "ID                                                                           \n",
       "2021_1242_1425    0.337931   0.715447    72.000000          0.0       26.0   \n",
       "2021_1332_1425    0.379130   0.704433    81.500000          0.0       32.0   \n",
       "2021_1329_1333    0.338374   0.712625    69.500000          0.0       20.5   \n",
       "2021_1260_1333    0.356574   0.733173    66.666667          0.0       23.0   \n",
       "2021_1234_1332    0.386085   0.713073    83.000000          0.0       30.0   \n",
       "\n",
       "                FGATouLow  FGM3TouLow  FGA3TouLow  FTMTouLow  FTATouLow  \\\n",
       "ID                                                                        \n",
       "2021_1242_1425  66.500000    9.000000        27.5       11.0  14.000000   \n",
       "2021_1332_1425  68.500000    8.000000        23.0        9.5  11.500000   \n",
       "2021_1329_1333  59.500000    5.500000        20.5       23.0  33.500000   \n",
       "2021_1260_1333  52.666667    6.666667        20.0       14.0  20.333333   \n",
       "2021_1234_1332  61.000000    9.000000        23.5       14.0  19.000000   \n",
       "\n",
       "                 ORTouLow   DRTouLow  AstTouLow  TOTouLow  StlTouLow  \\\n",
       "ID                                                                     \n",
       "2021_1242_1425   8.500000  20.500000       16.0       6.0        7.5   \n",
       "2021_1332_1425  11.500000  18.000000       20.0      10.5        7.0   \n",
       "2021_1329_1333  10.500000  20.500000        6.5      10.0        9.5   \n",
       "2021_1260_1333   9.666667  19.666667       16.0       9.0        7.0   \n",
       "2021_1234_1332   9.000000  21.500000       19.5       8.5        5.5   \n",
       "\n",
       "                BlkTouLow  PFTouLow  WinTouLow  FGPTouLow  FGP3TouLow  \\\n",
       "ID                                                                      \n",
       "2021_1242_1425   2.500000      16.5   0.500000   0.390977    0.327273   \n",
       "2021_1332_1425   4.500000      13.5   0.500000   0.467153    0.347826   \n",
       "2021_1329_1333   4.500000      23.0   0.500000   0.344538    0.268293   \n",
       "2021_1260_1333   2.666667      15.0   0.666667   0.436709    0.333333   \n",
       "2021_1234_1332   5.000000      14.0   0.500000   0.491803    0.382979   \n",
       "\n",
       "                FTPTouLow  OrdinalRankLow  SeedLow  \n",
       "ID                                                  \n",
       "2021_1242_1425   0.785714       16.092593        3  \n",
       "2021_1332_1425   0.826087       28.735849        7  \n",
       "2021_1329_1333   0.686567       21.759259        4  \n",
       "2021_1260_1333   0.688525       23.851852        8  \n",
       "2021_1234_1332   0.736842        8.055556        2  "
      ]
     },
     "execution_count": 16,
     "metadata": {},
     "output_type": "execute_result"
    }
   ],
   "source": [
    "data = pd.merge(\n",
    "    outcomes, \n",
    "    features, \n",
    "    how=\"inner\", \n",
    "    left_on=[\"Season\", \"HighID\"], \n",
    "    right_on=[\"Season\", \"TeamID\"]\n",
    ")\n",
    "data = pd.merge(\n",
    "    data, \n",
    "    features, \n",
    "    how=\"inner\", \n",
    "    left_on=[\"Season\", \"LowID\"], \n",
    "    right_on=[\"Season\", \"TeamID\"],\n",
    "    suffixes=(\"High\", \"Low\")\n",
    ")\n",
    "data.drop(\n",
    "    [\"Season\", \"HighID\", \"LowID\",\"TeamIDHigh\",\"TeamIDLow\"], \n",
    "    axis=1, \n",
    "    inplace=True\n",
    ")\n",
    "data.set_index(\"ID\", inplace=True)\n",
    "data.tail()"
   ]
  },
  {
   "cell_type": "markdown",
   "id": "dental-squad",
   "metadata": {
    "papermill": {
     "duration": 0.046654,
     "end_time": "2022-03-17T03:26:19.191938",
     "exception": false,
     "start_time": "2022-03-17T03:26:19.145284",
     "status": "completed"
    },
    "tags": []
   },
   "source": [
    "## Train Test Split "
   ]
  },
  {
   "cell_type": "code",
   "execution_count": 17,
   "id": "other-wright",
   "metadata": {
    "execution": {
     "iopub.execute_input": "2022-03-17T03:26:19.290750Z",
     "iopub.status.busy": "2022-03-17T03:26:19.290014Z",
     "iopub.status.idle": "2022-03-17T03:26:20.224159Z",
     "shell.execute_reply": "2022-03-17T03:26:20.224990Z",
     "shell.execute_reply.started": "2022-03-17T03:19:52.513803Z"
    },
    "papermill": {
     "duration": 0.987096,
     "end_time": "2022-03-17T03:26:20.225174",
     "exception": false,
     "start_time": "2022-03-17T03:26:19.238078",
     "status": "completed"
    },
    "tags": []
   },
   "outputs": [
    {
     "data": {
      "text/plain": [
       "(885, 80)"
      ]
     },
     "execution_count": 17,
     "metadata": {},
     "output_type": "execute_result"
    }
   ],
   "source": [
    "# For splitting data\n",
    "from sklearn.model_selection import train_test_split\n",
    "\n",
    "# Create train, validate, and test sets.\n",
    "X = data.copy().drop(\"Win\", axis=1)\n",
    "y = data[\"Win\"]\n",
    "X_train, X_valid, y_train, y_valid = train_test_split(X, y, random_state=0)\n",
    "\n",
    "X_train.shape"
   ]
  },
  {
   "cell_type": "markdown",
   "id": "quality-dietary",
   "metadata": {
    "papermill": {
     "duration": 0.046379,
     "end_time": "2022-03-17T03:26:20.318274",
     "exception": false,
     "start_time": "2022-03-17T03:26:20.271895",
     "status": "completed"
    },
    "tags": []
   },
   "source": [
    "### Partition Features \n",
    "Here we partition our features into three groups:\n",
    " - Numerical\n",
    " - Categorical High Carnality\n",
    " - Categorical Low Cardnality"
   ]
  },
  {
   "cell_type": "code",
   "execution_count": 18,
   "id": "vanilla-serbia",
   "metadata": {
    "execution": {
     "iopub.execute_input": "2022-03-17T03:26:20.419503Z",
     "iopub.status.busy": "2022-03-17T03:26:20.418378Z",
     "iopub.status.idle": "2022-03-17T03:26:20.421272Z",
     "shell.execute_reply": "2022-03-17T03:26:20.421773Z",
     "shell.execute_reply.started": "2022-03-17T03:19:56.997290Z"
    },
    "papermill": {
     "duration": 0.056776,
     "end_time": "2022-03-17T03:26:20.421944",
     "exception": false,
     "start_time": "2022-03-17T03:26:20.365168",
     "status": "completed"
    },
    "tags": []
   },
   "outputs": [],
   "source": [
    "def partition_features(df: pd.DataFrame, cardnality_threshold: int) -> Tuple[pd.DataFrame]:\n",
    "    cat_cols = [name for name, data_type in df.dtypes.items() if data_type == object]\n",
    "    num_cols = list(set(df.columns) - set(cat_cols))\n",
    "    col_cardnality = {col_name: X_train[col_name].nunique() for col_name in cat_cols}\n",
    "    cat_cols_high = []\n",
    "    cat_cols_low = []\n",
    "    for name, cardnality in col_cardnality.items():\n",
    "        if cardnality > cardnality_threshold:\n",
    "            cat_cols_high.append(name)\n",
    "        else:\n",
    "            cat_cols_low.append(name)\n",
    "    return num_cols, cat_cols_high, cat_cols_low"
   ]
  },
  {
   "cell_type": "code",
   "execution_count": 19,
   "id": "moral-royal",
   "metadata": {
    "execution": {
     "iopub.execute_input": "2022-03-17T03:26:20.520957Z",
     "iopub.status.busy": "2022-03-17T03:26:20.519975Z",
     "iopub.status.idle": "2022-03-17T03:26:20.526104Z",
     "shell.execute_reply": "2022-03-17T03:26:20.525202Z",
     "shell.execute_reply.started": "2022-03-17T03:19:58.585588Z"
    },
    "papermill": {
     "duration": 0.058131,
     "end_time": "2022-03-17T03:26:20.526346",
     "exception": false,
     "start_time": "2022-03-17T03:26:20.468215",
     "status": "completed"
    },
    "tags": []
   },
   "outputs": [
    {
     "name": "stdout",
     "output_type": "stream",
     "text": [
      "['TORegHigh', 'BlkRegHigh', 'StlTouLow', 'OrdinalRankHigh', 'DRRegHigh', 'FGM3TouHigh', 'FTMTouHigh', 'ORTouLow', 'ScoreTouHigh', 'FTPTouLow', 'FGA3RegLow', 'FTARegLow', 'AstRegHigh', 'TOTouHigh', 'FGP3TouLow', 'PFTouHigh', 'TOTouLow', 'BlkTouLow', 'AstTouLow', 'NumOTTouLow', 'PFRegLow', 'StlRegHigh', 'AstTouHigh', 'ORRegLow', 'AstRegLow', 'FGA3RegHigh', 'WinTouHigh', 'DRTouLow', 'FGM3TouLow', 'DRRegLow', 'FGPRegLow', 'FGP3RegLow', 'TORegLow', 'FGARegLow', 'BlkTouHigh', 'FGARegHigh', 'WinRegLow', 'StlRegLow', 'ORTouHigh', 'PFRegHigh', 'StlTouHigh', 'ScoreTouLow', 'FGA3TouHigh', 'FTPRegLow', 'OrdinalRankLow', 'SeedLow', 'FGMTouLow', 'FGP3RegHigh', 'NumOTRegLow', 'FGMRegHigh', 'FGPTouLow', 'FGATouHigh', 'FGPTouHigh', 'FGMTouHigh', 'WinTouLow', 'FTPTouHigh', 'ORRegHigh', 'NumOTTouHigh', 'FGPRegHigh', 'FGA3TouLow', 'WinRegHigh', 'FGMRegLow', 'FTPRegHigh', 'FTMTouLow', 'FTMRegHigh', 'FGM3RegLow', 'FTATouLow', 'FTARegHigh', 'SeedHigh', 'FGATouLow', 'FTMRegLow', 'PFTouLow', 'BlkRegLow', 'ScoreRegLow', 'DRTouHigh', 'FTATouHigh', 'NumOTRegHigh', 'FGP3TouHigh', 'ScoreRegHigh', 'FGM3RegHigh']\n",
      "[]\n",
      "[]\n"
     ]
    }
   ],
   "source": [
    "num_cols, cat_cols_high, cat_cols_low = partition_features(X_train, 10)\n",
    "print(num_cols)\n",
    "print(cat_cols_high)\n",
    "print(cat_cols_low)"
   ]
  },
  {
   "cell_type": "markdown",
   "id": "elect-boards",
   "metadata": {
    "papermill": {
     "duration": 0.045582,
     "end_time": "2022-03-17T03:26:20.619540",
     "exception": false,
     "start_time": "2022-03-17T03:26:20.573958",
     "status": "completed"
    },
    "tags": []
   },
   "source": [
    "### Data preperation pipelines"
   ]
  },
  {
   "cell_type": "code",
   "execution_count": 20,
   "id": "smart-demand",
   "metadata": {
    "execution": {
     "iopub.execute_input": "2022-03-17T03:26:20.720224Z",
     "iopub.status.busy": "2022-03-17T03:26:20.719417Z",
     "iopub.status.idle": "2022-03-17T03:26:20.885272Z",
     "shell.execute_reply": "2022-03-17T03:26:20.884625Z",
     "shell.execute_reply.started": "2022-03-17T03:20:02.461951Z"
    },
    "papermill": {
     "duration": 0.220345,
     "end_time": "2022-03-17T03:26:20.885434",
     "exception": false,
     "start_time": "2022-03-17T03:26:20.665089",
     "status": "completed"
    },
    "tags": []
   },
   "outputs": [],
   "source": [
    "from sklearn.compose import ColumnTransformer\n",
    "from sklearn.pipeline import Pipeline\n",
    "from sklearn.impute import SimpleImputer\n",
    "from sklearn.preprocessing import OneHotEncoder\n",
    "from sklearn.preprocessing import OrdinalEncoder\n",
    "\n",
    "# Preprocessing for numerical data\n",
    "numerical_transformer = SimpleImputer(strategy=\"median\")\n",
    "\n",
    "# Preprocessing for high cardnality categorical data\n",
    "cat_high_transformer = Pipeline(steps=[\n",
    "    (\"imputer\", SimpleImputer(strategy=\"most_frequent\")),\n",
    "    (\"onehot\", OrdinalEncoder(handle_unknown=\"ignore\"))\n",
    "])\n",
    "\n",
    "# Preprocessing for low cardnality categorical data\n",
    "cat_low_transformer = Pipeline(steps=[\n",
    "    (\"imputer\", SimpleImputer(strategy=\"most_frequent\")),\n",
    "    (\"onehot\", OneHotEncoder(handle_unknown=\"ignore\"))\n",
    "])\n",
    "\n",
    "# Bundle preprocessing for numerical and categorical data\n",
    "preprocessor = ColumnTransformer(\n",
    "    transformers=[\n",
    "        (\"num\", numerical_transformer, num_cols),\n",
    "        (\"cat_high\", cat_high_transformer, cat_cols_high),\n",
    "        (\"cat_low\", cat_low_transformer, cat_cols_low)\n",
    "    ])"
   ]
  },
  {
   "cell_type": "markdown",
   "id": "regulated-bangladesh",
   "metadata": {
    "papermill": {
     "duration": 0.045004,
     "end_time": "2022-03-17T03:26:20.977567",
     "exception": false,
     "start_time": "2022-03-17T03:26:20.932563",
     "status": "completed"
    },
    "tags": []
   },
   "source": [
    "### Preprocess Data"
   ]
  },
  {
   "cell_type": "code",
   "execution_count": 21,
   "id": "gentle-collapse",
   "metadata": {
    "execution": {
     "iopub.execute_input": "2022-03-17T03:26:21.083592Z",
     "iopub.status.busy": "2022-03-17T03:26:21.082445Z",
     "iopub.status.idle": "2022-03-17T03:26:21.101608Z",
     "shell.execute_reply": "2022-03-17T03:26:21.101064Z",
     "shell.execute_reply.started": "2022-03-17T03:20:14.489777Z"
    },
    "papermill": {
     "duration": 0.077806,
     "end_time": "2022-03-17T03:26:21.101789",
     "exception": false,
     "start_time": "2022-03-17T03:26:21.023983",
     "status": "completed"
    },
    "tags": []
   },
   "outputs": [],
   "source": [
    "X_train_processed = preprocessor.fit_transform(X_train)\n",
    "X_valid_processed = preprocessor.transform(X_valid)"
   ]
  },
  {
   "cell_type": "markdown",
   "id": "interracial-gather",
   "metadata": {
    "papermill": {
     "duration": 0.046175,
     "end_time": "2022-03-17T03:26:21.193746",
     "exception": false,
     "start_time": "2022-03-17T03:26:21.147571",
     "status": "completed"
    },
    "tags": []
   },
   "source": [
    "# Step 4: Train a model\n",
    "\n",
    "Now that the data is prepared, the next step is to train a model.  \n",
    "\n",
    "If you took the **[Intro to Machine Learning](https://www.kaggle.com/learn/intro-to-machine-learning)** courses, then you learned about **[Random Forests](https://www.kaggle.com/dansbecker/random-forests)**.  In the code cell below, we fit a random forest model to the data."
   ]
  },
  {
   "cell_type": "markdown",
   "id": "regulated-chess",
   "metadata": {
    "papermill": {
     "duration": 0.046612,
     "end_time": "2022-03-17T03:26:21.286741",
     "exception": false,
     "start_time": "2022-03-17T03:26:21.240129",
     "status": "completed"
    },
    "tags": []
   },
   "source": []
  },
  {
   "cell_type": "markdown",
   "id": "rental-personality",
   "metadata": {
    "papermill": {
     "duration": 0.046025,
     "end_time": "2022-03-17T03:26:21.378793",
     "exception": false,
     "start_time": "2022-03-17T03:26:21.332768",
     "status": "completed"
    },
    "tags": []
   },
   "source": [
    "### Setup Hyperparameter Tuning\n",
    "See https://www.kaggle.com/prashant111/a-guide-on-xgboost-hyperparameters-tuning"
   ]
  },
  {
   "cell_type": "code",
   "execution_count": 22,
   "id": "built-providence",
   "metadata": {
    "execution": {
     "iopub.execute_input": "2022-03-17T03:26:21.477567Z",
     "iopub.status.busy": "2022-03-17T03:26:21.476703Z",
     "iopub.status.idle": "2022-03-17T03:26:22.082898Z",
     "shell.execute_reply": "2022-03-17T03:26:22.082034Z",
     "shell.execute_reply.started": "2022-03-17T03:20:18.617871Z"
    },
    "papermill": {
     "duration": 0.657883,
     "end_time": "2022-03-17T03:26:22.083047",
     "exception": false,
     "start_time": "2022-03-17T03:26:21.425164",
     "status": "completed"
    },
    "tags": []
   },
   "outputs": [],
   "source": [
    "from hyperopt import STATUS_OK, Trials, fmin, hp, tpe\n",
    "from sklearn.metrics import mean_squared_error\n",
    "from xgboost import XGBRegressor\n",
    "import numpy as np"
   ]
  },
  {
   "cell_type": "code",
   "execution_count": 23,
   "id": "familiar-perception",
   "metadata": {
    "execution": {
     "iopub.execute_input": "2022-03-17T03:26:22.187384Z",
     "iopub.status.busy": "2022-03-17T03:26:22.186164Z",
     "iopub.status.idle": "2022-03-17T03:26:22.189958Z",
     "shell.execute_reply": "2022-03-17T03:26:22.189352Z",
     "shell.execute_reply.started": "2022-03-17T03:20:19.873374Z"
    },
    "papermill": {
     "duration": 0.059017,
     "end_time": "2022-03-17T03:26:22.190102",
     "exception": false,
     "start_time": "2022-03-17T03:26:22.131085",
     "status": "completed"
    },
    "tags": []
   },
   "outputs": [],
   "source": [
    "space={\n",
    "    \"n_estimators\": hp.quniform(\"n_estimators\", 1000, 2000, 250),\n",
    "    \"learning_rate\": hp.uniform(\"learning_rate\", 0.1, 0.2),\n",
    "    \"max_depth\": hp.quniform(\"max_depth\", 2, 8, 1),\n",
    "    \"reg_lambda\": hp.uniform(\"reg_lambda\", 50, 150),\n",
    "    \"colsample_bytree\": hp.uniform(\"colsample_bytree\", 0.5, 1),\n",
    "    \"tree_method\": \"gpu_hist\",\n",
    "    \"random_state\": 42\n",
    "}\n",
    "\n",
    "def objective(space):\n",
    "    regressor=XGBRegressor(\n",
    "        n_estimators = int(space[\"n_estimators\"]),\n",
    "        learning_rate = space[\"learning_rate\"],\n",
    "        max_depth = int(space[\"max_depth\"]),\n",
    "        reg_lambda = space[\"reg_lambda\"],\n",
    "        colsample_bytree = space[\"colsample_bytree\"],\n",
    "        tree_method = \"gpu_hist\",\n",
    "        random_state = 42\n",
    "    )\n",
    "    evaluation = [(X_valid_processed, y_valid)]\n",
    "    regressor.fit(\n",
    "        X_train_processed, y_train,\n",
    "        eval_set=evaluation,\n",
    "        early_stopping_rounds=10,\n",
    "        verbose=False\n",
    "    )\n",
    "    preds = regressor.predict(X_valid_processed)\n",
    "    score = mean_squared_error(y_valid, preds, squared=False)\n",
    "    return {\"loss\": score, \"status\": STATUS_OK }"
   ]
  },
  {
   "cell_type": "code",
   "execution_count": 24,
   "id": "introductory-valley",
   "metadata": {
    "execution": {
     "iopub.execute_input": "2022-03-17T03:26:22.294460Z",
     "iopub.status.busy": "2022-03-17T03:26:22.293388Z",
     "iopub.status.idle": "2022-03-17T03:27:34.181274Z",
     "shell.execute_reply": "2022-03-17T03:27:34.182115Z",
     "shell.execute_reply.started": "2022-03-17T03:22:04.806989Z"
    },
    "papermill": {
     "duration": 71.945936,
     "end_time": "2022-03-17T03:27:34.182420",
     "exception": false,
     "start_time": "2022-03-17T03:26:22.236484",
     "status": "completed"
    },
    "tags": []
   },
   "outputs": [
    {
     "name": "stdout",
     "output_type": "stream",
     "text": [
      "  0%|          | 0/100 [00:00<?, ?trial/s, best loss=?]"
     ]
    },
    {
     "name": "stderr",
     "output_type": "stream",
     "text": [
      "/opt/conda/lib/python3.7/site-packages/xgboost/data.py:114: UserWarning: Use subset (sliced data) of np.ndarray is not recommended because it will generate extra copies and increase memory consumption\n",
      "  \"because it will generate extra copies and increase \" +\n",
      "\n"
     ]
    },
    {
     "name": "stdout",
     "output_type": "stream",
     "text": [
      "  3%|▎         | 3/100 [00:03<01:25,  1.14trial/s, best loss: 0.10480949202912682]"
     ]
    },
    {
     "name": "stderr",
     "output_type": "stream",
     "text": [
      "/opt/conda/lib/python3.7/site-packages/xgboost/data.py:114: UserWarning: Use subset (sliced data) of np.ndarray is not recommended because it will generate extra copies and increase memory consumption\n",
      "  \"because it will generate extra copies and increase \" +\n",
      "\n",
      "/opt/conda/lib/python3.7/site-packages/xgboost/data.py:114: UserWarning: Use subset (sliced data) of np.ndarray is not recommended because it will generate extra copies and increase memory consumption\n",
      "  \"because it will generate extra copies and increase \" +\n",
      "\n"
     ]
    },
    {
     "name": "stdout",
     "output_type": "stream",
     "text": [
      "  4%|▍         | 4/100 [00:04<01:25,  1.12trial/s, best loss: 0.10480949202912682]"
     ]
    },
    {
     "name": "stderr",
     "output_type": "stream",
     "text": [
      "/opt/conda/lib/python3.7/site-packages/xgboost/data.py:114: UserWarning: Use subset (sliced data) of np.ndarray is not recommended because it will generate extra copies and increase memory consumption\n",
      "  \"because it will generate extra copies and increase \" +\n",
      "\n"
     ]
    },
    {
     "name": "stdout",
     "output_type": "stream",
     "text": [
      "  5%|▌         | 5/100 [00:04<01:01,  1.54trial/s, best loss: 0.10480949202912682]"
     ]
    },
    {
     "name": "stderr",
     "output_type": "stream",
     "text": [
      "/opt/conda/lib/python3.7/site-packages/xgboost/data.py:114: UserWarning: Use subset (sliced data) of np.ndarray is not recommended because it will generate extra copies and increase memory consumption\n",
      "  \"because it will generate extra copies and increase \" +\n",
      "\n"
     ]
    },
    {
     "name": "stdout",
     "output_type": "stream",
     "text": [
      "  6%|▌         | 6/100 [00:04<00:51,  1.83trial/s, best loss: 0.08961345565080762]"
     ]
    },
    {
     "name": "stderr",
     "output_type": "stream",
     "text": [
      "/opt/conda/lib/python3.7/site-packages/xgboost/data.py:114: UserWarning: Use subset (sliced data) of np.ndarray is not recommended because it will generate extra copies and increase memory consumption\n",
      "  \"because it will generate extra copies and increase \" +\n",
      "\n"
     ]
    },
    {
     "name": "stdout",
     "output_type": "stream",
     "text": [
      "  7%|▋         | 7/100 [00:06<01:19,  1.16trial/s, best loss: 0.08961345565080762]"
     ]
    },
    {
     "name": "stderr",
     "output_type": "stream",
     "text": [
      "/opt/conda/lib/python3.7/site-packages/xgboost/data.py:114: UserWarning: Use subset (sliced data) of np.ndarray is not recommended because it will generate extra copies and increase memory consumption\n",
      "  \"because it will generate extra copies and increase \" +\n",
      "\n"
     ]
    },
    {
     "name": "stdout",
     "output_type": "stream",
     "text": [
      "  8%|▊         | 8/100 [00:07<01:18,  1.17trial/s, best loss: 0.08961345565080762]"
     ]
    },
    {
     "name": "stderr",
     "output_type": "stream",
     "text": [
      "/opt/conda/lib/python3.7/site-packages/xgboost/data.py:114: UserWarning: Use subset (sliced data) of np.ndarray is not recommended because it will generate extra copies and increase memory consumption\n",
      "  \"because it will generate extra copies and increase \" +\n",
      "\n"
     ]
    },
    {
     "name": "stdout",
     "output_type": "stream",
     "text": [
      "  9%|▉         | 9/100 [00:07<01:09,  1.31trial/s, best loss: 0.08961345565080762]"
     ]
    },
    {
     "name": "stderr",
     "output_type": "stream",
     "text": [
      "/opt/conda/lib/python3.7/site-packages/xgboost/data.py:114: UserWarning: Use subset (sliced data) of np.ndarray is not recommended because it will generate extra copies and increase memory consumption\n",
      "  \"because it will generate extra copies and increase \" +\n",
      "\n"
     ]
    },
    {
     "name": "stdout",
     "output_type": "stream",
     "text": [
      " 10%|█         | 10/100 [00:08<00:56,  1.59trial/s, best loss: 0.08961345565080762]"
     ]
    },
    {
     "name": "stderr",
     "output_type": "stream",
     "text": [
      "/opt/conda/lib/python3.7/site-packages/xgboost/data.py:114: UserWarning: Use subset (sliced data) of np.ndarray is not recommended because it will generate extra copies and increase memory consumption\n",
      "  \"because it will generate extra copies and increase \" +\n",
      "\n"
     ]
    },
    {
     "name": "stdout",
     "output_type": "stream",
     "text": [
      " 11%|█         | 11/100 [00:08<00:54,  1.62trial/s, best loss: 0.08961345565080762]"
     ]
    },
    {
     "name": "stderr",
     "output_type": "stream",
     "text": [
      "/opt/conda/lib/python3.7/site-packages/xgboost/data.py:114: UserWarning: Use subset (sliced data) of np.ndarray is not recommended because it will generate extra copies and increase memory consumption\n",
      "  \"because it will generate extra copies and increase \" +\n",
      "\n"
     ]
    },
    {
     "name": "stdout",
     "output_type": "stream",
     "text": [
      " 12%|█▏        | 12/100 [00:09<00:55,  1.59trial/s, best loss: 0.08961345565080762]"
     ]
    },
    {
     "name": "stderr",
     "output_type": "stream",
     "text": [
      "/opt/conda/lib/python3.7/site-packages/xgboost/data.py:114: UserWarning: Use subset (sliced data) of np.ndarray is not recommended because it will generate extra copies and increase memory consumption\n",
      "  \"because it will generate extra copies and increase \" +\n",
      "\n"
     ]
    },
    {
     "name": "stdout",
     "output_type": "stream",
     "text": [
      " 13%|█▎        | 13/100 [00:10<00:57,  1.51trial/s, best loss: 0.08961345565080762]"
     ]
    },
    {
     "name": "stderr",
     "output_type": "stream",
     "text": [
      "/opt/conda/lib/python3.7/site-packages/xgboost/data.py:114: UserWarning: Use subset (sliced data) of np.ndarray is not recommended because it will generate extra copies and increase memory consumption\n",
      "  \"because it will generate extra copies and increase \" +\n",
      "\n"
     ]
    },
    {
     "name": "stdout",
     "output_type": "stream",
     "text": [
      " 14%|█▍        | 14/100 [00:10<00:51,  1.67trial/s, best loss: 0.08961345565080762]"
     ]
    },
    {
     "name": "stderr",
     "output_type": "stream",
     "text": [
      "/opt/conda/lib/python3.7/site-packages/xgboost/data.py:114: UserWarning: Use subset (sliced data) of np.ndarray is not recommended because it will generate extra copies and increase memory consumption\n",
      "  \"because it will generate extra copies and increase \" +\n",
      "\n"
     ]
    },
    {
     "name": "stdout",
     "output_type": "stream",
     "text": [
      " 15%|█▌        | 15/100 [00:11<01:01,  1.37trial/s, best loss: 0.08659337911018074]"
     ]
    },
    {
     "name": "stderr",
     "output_type": "stream",
     "text": [
      "/opt/conda/lib/python3.7/site-packages/xgboost/data.py:114: UserWarning: Use subset (sliced data) of np.ndarray is not recommended because it will generate extra copies and increase memory consumption\n",
      "  \"because it will generate extra copies and increase \" +\n",
      "\n"
     ]
    },
    {
     "name": "stdout",
     "output_type": "stream",
     "text": [
      " 16%|█▌        | 16/100 [00:11<00:48,  1.73trial/s, best loss: 0.08659337911018074]"
     ]
    },
    {
     "name": "stderr",
     "output_type": "stream",
     "text": [
      "/opt/conda/lib/python3.7/site-packages/xgboost/data.py:114: UserWarning: Use subset (sliced data) of np.ndarray is not recommended because it will generate extra copies and increase memory consumption\n",
      "  \"because it will generate extra copies and increase \" +\n",
      "\n"
     ]
    },
    {
     "name": "stdout",
     "output_type": "stream",
     "text": [
      " 17%|█▋        | 17/100 [00:12<00:48,  1.73trial/s, best loss: 0.08659337911018074]"
     ]
    },
    {
     "name": "stderr",
     "output_type": "stream",
     "text": [
      "/opt/conda/lib/python3.7/site-packages/xgboost/data.py:114: UserWarning: Use subset (sliced data) of np.ndarray is not recommended because it will generate extra copies and increase memory consumption\n",
      "  \"because it will generate extra copies and increase \" +\n",
      "\n"
     ]
    },
    {
     "name": "stdout",
     "output_type": "stream",
     "text": [
      " 18%|█▊        | 18/100 [00:13<00:49,  1.67trial/s, best loss: 0.08659337911018074]"
     ]
    },
    {
     "name": "stderr",
     "output_type": "stream",
     "text": [
      "/opt/conda/lib/python3.7/site-packages/xgboost/data.py:114: UserWarning: Use subset (sliced data) of np.ndarray is not recommended because it will generate extra copies and increase memory consumption\n",
      "  \"because it will generate extra copies and increase \" +\n",
      "\n"
     ]
    },
    {
     "name": "stdout",
     "output_type": "stream",
     "text": [
      " 19%|█▉        | 19/100 [00:14<01:09,  1.17trial/s, best loss: 0.08659337911018074]"
     ]
    },
    {
     "name": "stderr",
     "output_type": "stream",
     "text": [
      "/opt/conda/lib/python3.7/site-packages/xgboost/data.py:114: UserWarning: Use subset (sliced data) of np.ndarray is not recommended because it will generate extra copies and increase memory consumption\n",
      "  \"because it will generate extra copies and increase \" +\n",
      "\n"
     ]
    },
    {
     "name": "stdout",
     "output_type": "stream",
     "text": [
      " 20%|██        | 20/100 [00:14<00:52,  1.51trial/s, best loss: 0.08659337911018074]"
     ]
    },
    {
     "name": "stderr",
     "output_type": "stream",
     "text": [
      "/opt/conda/lib/python3.7/site-packages/xgboost/data.py:114: UserWarning: Use subset (sliced data) of np.ndarray is not recommended because it will generate extra copies and increase memory consumption\n",
      "  \"because it will generate extra copies and increase \" +\n",
      "\n"
     ]
    },
    {
     "name": "stdout",
     "output_type": "stream",
     "text": [
      " 21%|██        | 21/100 [00:14<00:42,  1.85trial/s, best loss: 0.08659337911018074]"
     ]
    },
    {
     "name": "stderr",
     "output_type": "stream",
     "text": [
      "/opt/conda/lib/python3.7/site-packages/xgboost/data.py:114: UserWarning: Use subset (sliced data) of np.ndarray is not recommended because it will generate extra copies and increase memory consumption\n",
      "  \"because it will generate extra copies and increase \" +\n",
      "\n"
     ]
    },
    {
     "name": "stdout",
     "output_type": "stream",
     "text": [
      " 22%|██▏       | 22/100 [00:15<00:37,  2.05trial/s, best loss: 0.08659337911018074]"
     ]
    },
    {
     "name": "stderr",
     "output_type": "stream",
     "text": [
      "/opt/conda/lib/python3.7/site-packages/xgboost/data.py:114: UserWarning: Use subset (sliced data) of np.ndarray is not recommended because it will generate extra copies and increase memory consumption\n",
      "  \"because it will generate extra copies and increase \" +\n",
      "\n"
     ]
    },
    {
     "name": "stdout",
     "output_type": "stream",
     "text": [
      " 23%|██▎       | 23/100 [00:15<00:31,  2.44trial/s, best loss: 0.08659337911018074]"
     ]
    },
    {
     "name": "stderr",
     "output_type": "stream",
     "text": [
      "/opt/conda/lib/python3.7/site-packages/xgboost/data.py:114: UserWarning: Use subset (sliced data) of np.ndarray is not recommended because it will generate extra copies and increase memory consumption\n",
      "  \"because it will generate extra copies and increase \" +\n",
      "\n"
     ]
    },
    {
     "name": "stdout",
     "output_type": "stream",
     "text": [
      " 24%|██▍       | 24/100 [00:17<01:00,  1.26trial/s, best loss: 0.08659337911018074]"
     ]
    },
    {
     "name": "stderr",
     "output_type": "stream",
     "text": [
      "/opt/conda/lib/python3.7/site-packages/xgboost/data.py:114: UserWarning: Use subset (sliced data) of np.ndarray is not recommended because it will generate extra copies and increase memory consumption\n",
      "  \"because it will generate extra copies and increase \" +\n",
      "\n"
     ]
    },
    {
     "name": "stdout",
     "output_type": "stream",
     "text": [
      " 25%|██▌       | 25/100 [00:17<00:48,  1.54trial/s, best loss: 0.08659337911018074]"
     ]
    },
    {
     "name": "stderr",
     "output_type": "stream",
     "text": [
      "/opt/conda/lib/python3.7/site-packages/xgboost/data.py:114: UserWarning: Use subset (sliced data) of np.ndarray is not recommended because it will generate extra copies and increase memory consumption\n",
      "  \"because it will generate extra copies and increase \" +\n",
      "\n"
     ]
    },
    {
     "name": "stdout",
     "output_type": "stream",
     "text": [
      " 26%|██▌       | 26/100 [00:17<00:40,  1.83trial/s, best loss: 0.0846298868850495] "
     ]
    },
    {
     "name": "stderr",
     "output_type": "stream",
     "text": [
      "/opt/conda/lib/python3.7/site-packages/xgboost/data.py:114: UserWarning: Use subset (sliced data) of np.ndarray is not recommended because it will generate extra copies and increase memory consumption\n",
      "  \"because it will generate extra copies and increase \" +\n",
      "\n"
     ]
    },
    {
     "name": "stdout",
     "output_type": "stream",
     "text": [
      " 27%|██▋       | 27/100 [00:18<00:45,  1.59trial/s, best loss: 0.0846298868850495]"
     ]
    },
    {
     "name": "stderr",
     "output_type": "stream",
     "text": [
      "/opt/conda/lib/python3.7/site-packages/xgboost/data.py:114: UserWarning: Use subset (sliced data) of np.ndarray is not recommended because it will generate extra copies and increase memory consumption\n",
      "  \"because it will generate extra copies and increase \" +\n",
      "\n"
     ]
    },
    {
     "name": "stdout",
     "output_type": "stream",
     "text": [
      " 28%|██▊       | 28/100 [00:19<00:40,  1.79trial/s, best loss: 0.0846298868850495]"
     ]
    },
    {
     "name": "stderr",
     "output_type": "stream",
     "text": [
      "/opt/conda/lib/python3.7/site-packages/xgboost/data.py:114: UserWarning: Use subset (sliced data) of np.ndarray is not recommended because it will generate extra copies and increase memory consumption\n",
      "  \"because it will generate extra copies and increase \" +\n",
      "\n"
     ]
    },
    {
     "name": "stdout",
     "output_type": "stream",
     "text": [
      " 29%|██▉       | 29/100 [00:19<00:39,  1.78trial/s, best loss: 0.08153141331574872]"
     ]
    },
    {
     "name": "stderr",
     "output_type": "stream",
     "text": [
      "/opt/conda/lib/python3.7/site-packages/xgboost/data.py:114: UserWarning: Use subset (sliced data) of np.ndarray is not recommended because it will generate extra copies and increase memory consumption\n",
      "  \"because it will generate extra copies and increase \" +\n",
      "\n"
     ]
    },
    {
     "name": "stdout",
     "output_type": "stream",
     "text": [
      " 30%|███       | 30/100 [00:20<00:38,  1.80trial/s, best loss: 0.08117143454037618]"
     ]
    },
    {
     "name": "stderr",
     "output_type": "stream",
     "text": [
      "/opt/conda/lib/python3.7/site-packages/xgboost/data.py:114: UserWarning: Use subset (sliced data) of np.ndarray is not recommended because it will generate extra copies and increase memory consumption\n",
      "  \"because it will generate extra copies and increase \" +\n",
      "\n"
     ]
    },
    {
     "name": "stdout",
     "output_type": "stream",
     "text": [
      " 31%|███       | 31/100 [00:20<00:37,  1.85trial/s, best loss: 0.08117143454037618]"
     ]
    },
    {
     "name": "stderr",
     "output_type": "stream",
     "text": [
      "/opt/conda/lib/python3.7/site-packages/xgboost/data.py:114: UserWarning: Use subset (sliced data) of np.ndarray is not recommended because it will generate extra copies and increase memory consumption\n",
      "  \"because it will generate extra copies and increase \" +\n",
      "\n"
     ]
    },
    {
     "name": "stdout",
     "output_type": "stream",
     "text": [
      " 32%|███▏      | 32/100 [00:21<00:34,  1.98trial/s, best loss: 0.08017171775905638]"
     ]
    },
    {
     "name": "stderr",
     "output_type": "stream",
     "text": [
      "/opt/conda/lib/python3.7/site-packages/xgboost/data.py:114: UserWarning: Use subset (sliced data) of np.ndarray is not recommended because it will generate extra copies and increase memory consumption\n",
      "  \"because it will generate extra copies and increase \" +\n",
      "\n"
     ]
    },
    {
     "name": "stdout",
     "output_type": "stream",
     "text": [
      " 33%|███▎      | 33/100 [00:21<00:33,  2.03trial/s, best loss: 0.08017171775905638]"
     ]
    },
    {
     "name": "stderr",
     "output_type": "stream",
     "text": [
      "/opt/conda/lib/python3.7/site-packages/xgboost/data.py:114: UserWarning: Use subset (sliced data) of np.ndarray is not recommended because it will generate extra copies and increase memory consumption\n",
      "  \"because it will generate extra copies and increase \" +\n",
      "\n"
     ]
    },
    {
     "name": "stdout",
     "output_type": "stream",
     "text": [
      " 34%|███▍      | 34/100 [00:21<00:29,  2.23trial/s, best loss: 0.08017171775905638]"
     ]
    },
    {
     "name": "stderr",
     "output_type": "stream",
     "text": [
      "/opt/conda/lib/python3.7/site-packages/xgboost/data.py:114: UserWarning: Use subset (sliced data) of np.ndarray is not recommended because it will generate extra copies and increase memory consumption\n",
      "  \"because it will generate extra copies and increase \" +\n",
      "\n"
     ]
    },
    {
     "name": "stdout",
     "output_type": "stream",
     "text": [
      " 35%|███▌      | 35/100 [00:22<00:26,  2.46trial/s, best loss: 0.08017171775905638]"
     ]
    },
    {
     "name": "stderr",
     "output_type": "stream",
     "text": [
      "/opt/conda/lib/python3.7/site-packages/xgboost/data.py:114: UserWarning: Use subset (sliced data) of np.ndarray is not recommended because it will generate extra copies and increase memory consumption\n",
      "  \"because it will generate extra copies and increase \" +\n",
      "\n"
     ]
    },
    {
     "name": "stdout",
     "output_type": "stream",
     "text": [
      " 36%|███▌      | 36/100 [00:23<00:36,  1.76trial/s, best loss: 0.08017171775905638]"
     ]
    },
    {
     "name": "stderr",
     "output_type": "stream",
     "text": [
      "/opt/conda/lib/python3.7/site-packages/xgboost/data.py:114: UserWarning: Use subset (sliced data) of np.ndarray is not recommended because it will generate extra copies and increase memory consumption\n",
      "  \"because it will generate extra copies and increase \" +\n",
      "\n"
     ]
    },
    {
     "name": "stdout",
     "output_type": "stream",
     "text": [
      " 37%|███▋      | 37/100 [00:23<00:35,  1.79trial/s, best loss: 0.08017171775905638]"
     ]
    },
    {
     "name": "stderr",
     "output_type": "stream",
     "text": [
      "/opt/conda/lib/python3.7/site-packages/xgboost/data.py:114: UserWarning: Use subset (sliced data) of np.ndarray is not recommended because it will generate extra copies and increase memory consumption\n",
      "  \"because it will generate extra copies and increase \" +\n",
      "\n"
     ]
    },
    {
     "name": "stdout",
     "output_type": "stream",
     "text": [
      " 38%|███▊      | 38/100 [00:24<00:30,  2.04trial/s, best loss: 0.08017171775905638]"
     ]
    },
    {
     "name": "stderr",
     "output_type": "stream",
     "text": [
      "/opt/conda/lib/python3.7/site-packages/xgboost/data.py:114: UserWarning: Use subset (sliced data) of np.ndarray is not recommended because it will generate extra copies and increase memory consumption\n",
      "  \"because it will generate extra copies and increase \" +\n",
      "\n"
     ]
    },
    {
     "name": "stdout",
     "output_type": "stream",
     "text": [
      " 39%|███▉      | 39/100 [00:24<00:28,  2.17trial/s, best loss: 0.08017171775905638]"
     ]
    },
    {
     "name": "stderr",
     "output_type": "stream",
     "text": [
      "/opt/conda/lib/python3.7/site-packages/xgboost/data.py:114: UserWarning: Use subset (sliced data) of np.ndarray is not recommended because it will generate extra copies and increase memory consumption\n",
      "  \"because it will generate extra copies and increase \" +\n",
      "\n"
     ]
    },
    {
     "name": "stdout",
     "output_type": "stream",
     "text": [
      " 40%|████      | 40/100 [00:26<01:04,  1.08s/trial, best loss: 0.08017171775905638]"
     ]
    },
    {
     "name": "stderr",
     "output_type": "stream",
     "text": [
      "/opt/conda/lib/python3.7/site-packages/xgboost/data.py:114: UserWarning: Use subset (sliced data) of np.ndarray is not recommended because it will generate extra copies and increase memory consumption\n",
      "  \"because it will generate extra copies and increase \" +\n",
      "\n"
     ]
    },
    {
     "name": "stdout",
     "output_type": "stream",
     "text": [
      " 41%|████      | 41/100 [00:27<01:01,  1.05s/trial, best loss: 0.08017171775905638]"
     ]
    },
    {
     "name": "stderr",
     "output_type": "stream",
     "text": [
      "/opt/conda/lib/python3.7/site-packages/xgboost/data.py:114: UserWarning: Use subset (sliced data) of np.ndarray is not recommended because it will generate extra copies and increase memory consumption\n",
      "  \"because it will generate extra copies and increase \" +\n",
      "\n"
     ]
    },
    {
     "name": "stdout",
     "output_type": "stream",
     "text": [
      " 43%|████▎     | 43/100 [00:28<00:35,  1.62trial/s, best loss: 0.08017171775905638]"
     ]
    },
    {
     "name": "stderr",
     "output_type": "stream",
     "text": [
      "/opt/conda/lib/python3.7/site-packages/xgboost/data.py:114: UserWarning: Use subset (sliced data) of np.ndarray is not recommended because it will generate extra copies and increase memory consumption\n",
      "  \"because it will generate extra copies and increase \" +\n",
      "\n",
      "/opt/conda/lib/python3.7/site-packages/xgboost/data.py:114: UserWarning: Use subset (sliced data) of np.ndarray is not recommended because it will generate extra copies and increase memory consumption\n",
      "  \"because it will generate extra copies and increase \" +\n",
      "\n"
     ]
    },
    {
     "name": "stdout",
     "output_type": "stream",
     "text": [
      " 44%|████▍     | 44/100 [00:28<00:28,  1.98trial/s, best loss: 0.08017171775905638]"
     ]
    },
    {
     "name": "stderr",
     "output_type": "stream",
     "text": [
      "/opt/conda/lib/python3.7/site-packages/xgboost/data.py:114: UserWarning: Use subset (sliced data) of np.ndarray is not recommended because it will generate extra copies and increase memory consumption\n",
      "  \"because it will generate extra copies and increase \" +\n",
      "\n"
     ]
    },
    {
     "name": "stdout",
     "output_type": "stream",
     "text": [
      " 45%|████▌     | 45/100 [00:29<00:35,  1.56trial/s, best loss: 0.08017171775905638]"
     ]
    },
    {
     "name": "stderr",
     "output_type": "stream",
     "text": [
      "/opt/conda/lib/python3.7/site-packages/xgboost/data.py:114: UserWarning: Use subset (sliced data) of np.ndarray is not recommended because it will generate extra copies and increase memory consumption\n",
      "  \"because it will generate extra copies and increase \" +\n",
      "\n"
     ]
    },
    {
     "name": "stdout",
     "output_type": "stream",
     "text": [
      " 46%|████▌     | 46/100 [00:30<00:32,  1.66trial/s, best loss: 0.08017171775905638]"
     ]
    },
    {
     "name": "stderr",
     "output_type": "stream",
     "text": [
      "/opt/conda/lib/python3.7/site-packages/xgboost/data.py:114: UserWarning: Use subset (sliced data) of np.ndarray is not recommended because it will generate extra copies and increase memory consumption\n",
      "  \"because it will generate extra copies and increase \" +\n",
      "\n"
     ]
    },
    {
     "name": "stdout",
     "output_type": "stream",
     "text": [
      " 47%|████▋     | 47/100 [00:30<00:35,  1.50trial/s, best loss: 0.08017171775905638]"
     ]
    },
    {
     "name": "stderr",
     "output_type": "stream",
     "text": [
      "/opt/conda/lib/python3.7/site-packages/xgboost/data.py:114: UserWarning: Use subset (sliced data) of np.ndarray is not recommended because it will generate extra copies and increase memory consumption\n",
      "  \"because it will generate extra copies and increase \" +\n",
      "\n"
     ]
    },
    {
     "name": "stdout",
     "output_type": "stream",
     "text": [
      " 48%|████▊     | 48/100 [00:31<00:36,  1.41trial/s, best loss: 0.08017171775905638]"
     ]
    },
    {
     "name": "stderr",
     "output_type": "stream",
     "text": [
      "/opt/conda/lib/python3.7/site-packages/xgboost/data.py:114: UserWarning: Use subset (sliced data) of np.ndarray is not recommended because it will generate extra copies and increase memory consumption\n",
      "  \"because it will generate extra copies and increase \" +\n",
      "\n"
     ]
    },
    {
     "name": "stdout",
     "output_type": "stream",
     "text": [
      " 49%|████▉     | 49/100 [00:32<00:31,  1.61trial/s, best loss: 0.08017171775905638]"
     ]
    },
    {
     "name": "stderr",
     "output_type": "stream",
     "text": [
      "/opt/conda/lib/python3.7/site-packages/xgboost/data.py:114: UserWarning: Use subset (sliced data) of np.ndarray is not recommended because it will generate extra copies and increase memory consumption\n",
      "  \"because it will generate extra copies and increase \" +\n",
      "\n"
     ]
    },
    {
     "name": "stdout",
     "output_type": "stream",
     "text": [
      " 50%|█████     | 50/100 [00:32<00:26,  1.90trial/s, best loss: 0.08017171775905638]"
     ]
    },
    {
     "name": "stderr",
     "output_type": "stream",
     "text": [
      "/opt/conda/lib/python3.7/site-packages/xgboost/data.py:114: UserWarning: Use subset (sliced data) of np.ndarray is not recommended because it will generate extra copies and increase memory consumption\n",
      "  \"because it will generate extra copies and increase \" +\n",
      "\n"
     ]
    },
    {
     "name": "stdout",
     "output_type": "stream",
     "text": [
      " 51%|█████     | 51/100 [00:33<00:39,  1.24trial/s, best loss: 0.08017171775905638]"
     ]
    },
    {
     "name": "stderr",
     "output_type": "stream",
     "text": [
      "/opt/conda/lib/python3.7/site-packages/xgboost/data.py:114: UserWarning: Use subset (sliced data) of np.ndarray is not recommended because it will generate extra copies and increase memory consumption\n",
      "  \"because it will generate extra copies and increase \" +\n",
      "\n"
     ]
    },
    {
     "name": "stdout",
     "output_type": "stream",
     "text": [
      " 52%|█████▏    | 52/100 [00:34<00:34,  1.39trial/s, best loss: 0.08017171775905638]"
     ]
    },
    {
     "name": "stderr",
     "output_type": "stream",
     "text": [
      "/opt/conda/lib/python3.7/site-packages/xgboost/data.py:114: UserWarning: Use subset (sliced data) of np.ndarray is not recommended because it will generate extra copies and increase memory consumption\n",
      "  \"because it will generate extra copies and increase \" +\n",
      "\n"
     ]
    },
    {
     "name": "stdout",
     "output_type": "stream",
     "text": [
      " 53%|█████▎    | 53/100 [00:34<00:31,  1.49trial/s, best loss: 0.08017171775905638]"
     ]
    },
    {
     "name": "stderr",
     "output_type": "stream",
     "text": [
      "/opt/conda/lib/python3.7/site-packages/xgboost/data.py:114: UserWarning: Use subset (sliced data) of np.ndarray is not recommended because it will generate extra copies and increase memory consumption\n",
      "  \"because it will generate extra copies and increase \" +\n",
      "\n"
     ]
    },
    {
     "name": "stdout",
     "output_type": "stream",
     "text": [
      " 54%|█████▍    | 54/100 [00:35<00:24,  1.84trial/s, best loss: 0.08017171775905638]"
     ]
    },
    {
     "name": "stderr",
     "output_type": "stream",
     "text": [
      "/opt/conda/lib/python3.7/site-packages/xgboost/data.py:114: UserWarning: Use subset (sliced data) of np.ndarray is not recommended because it will generate extra copies and increase memory consumption\n",
      "  \"because it will generate extra copies and increase \" +\n",
      "\n"
     ]
    },
    {
     "name": "stdout",
     "output_type": "stream",
     "text": [
      " 55%|█████▌    | 55/100 [00:35<00:20,  2.21trial/s, best loss: 0.08017171775905638]"
     ]
    },
    {
     "name": "stderr",
     "output_type": "stream",
     "text": [
      "/opt/conda/lib/python3.7/site-packages/xgboost/data.py:114: UserWarning: Use subset (sliced data) of np.ndarray is not recommended because it will generate extra copies and increase memory consumption\n",
      "  \"because it will generate extra copies and increase \" +\n",
      "\n"
     ]
    },
    {
     "name": "stdout",
     "output_type": "stream",
     "text": [
      " 56%|█████▌    | 56/100 [00:36<00:21,  2.02trial/s, best loss: 0.08017171775905638]"
     ]
    },
    {
     "name": "stderr",
     "output_type": "stream",
     "text": [
      "/opt/conda/lib/python3.7/site-packages/xgboost/data.py:114: UserWarning: Use subset (sliced data) of np.ndarray is not recommended because it will generate extra copies and increase memory consumption\n",
      "  \"because it will generate extra copies and increase \" +\n",
      "\n"
     ]
    },
    {
     "name": "stdout",
     "output_type": "stream",
     "text": [
      " 57%|█████▋    | 57/100 [00:36<00:21,  1.96trial/s, best loss: 0.08017171775905638]"
     ]
    },
    {
     "name": "stderr",
     "output_type": "stream",
     "text": [
      "/opt/conda/lib/python3.7/site-packages/xgboost/data.py:114: UserWarning: Use subset (sliced data) of np.ndarray is not recommended because it will generate extra copies and increase memory consumption\n",
      "  \"because it will generate extra copies and increase \" +\n",
      "\n"
     ]
    },
    {
     "name": "stdout",
     "output_type": "stream",
     "text": [
      " 58%|█████▊    | 58/100 [00:38<00:38,  1.09trial/s, best loss: 0.08017171775905638]"
     ]
    },
    {
     "name": "stderr",
     "output_type": "stream",
     "text": [
      "/opt/conda/lib/python3.7/site-packages/xgboost/data.py:114: UserWarning: Use subset (sliced data) of np.ndarray is not recommended because it will generate extra copies and increase memory consumption\n",
      "  \"because it will generate extra copies and increase \" +\n",
      "\n"
     ]
    },
    {
     "name": "stdout",
     "output_type": "stream",
     "text": [
      " 59%|█████▉    | 59/100 [00:38<00:30,  1.33trial/s, best loss: 0.08017171775905638]"
     ]
    },
    {
     "name": "stderr",
     "output_type": "stream",
     "text": [
      "/opt/conda/lib/python3.7/site-packages/xgboost/data.py:114: UserWarning: Use subset (sliced data) of np.ndarray is not recommended because it will generate extra copies and increase memory consumption\n",
      "  \"because it will generate extra copies and increase \" +\n",
      "\n"
     ]
    },
    {
     "name": "stdout",
     "output_type": "stream",
     "text": [
      " 60%|██████    | 60/100 [00:39<00:24,  1.64trial/s, best loss: 0.08017171775905638]"
     ]
    },
    {
     "name": "stderr",
     "output_type": "stream",
     "text": [
      "/opt/conda/lib/python3.7/site-packages/xgboost/data.py:114: UserWarning: Use subset (sliced data) of np.ndarray is not recommended because it will generate extra copies and increase memory consumption\n",
      "  \"because it will generate extra copies and increase \" +\n",
      "\n"
     ]
    },
    {
     "name": "stdout",
     "output_type": "stream",
     "text": [
      " 61%|██████    | 61/100 [00:40<00:32,  1.18trial/s, best loss: 0.08017171775905638]"
     ]
    },
    {
     "name": "stderr",
     "output_type": "stream",
     "text": [
      "/opt/conda/lib/python3.7/site-packages/xgboost/data.py:114: UserWarning: Use subset (sliced data) of np.ndarray is not recommended because it will generate extra copies and increase memory consumption\n",
      "  \"because it will generate extra copies and increase \" +\n",
      "\n"
     ]
    },
    {
     "name": "stdout",
     "output_type": "stream",
     "text": [
      " 62%|██████▏   | 62/100 [00:41<00:29,  1.30trial/s, best loss: 0.08017171775905638]"
     ]
    },
    {
     "name": "stderr",
     "output_type": "stream",
     "text": [
      "/opt/conda/lib/python3.7/site-packages/xgboost/data.py:114: UserWarning: Use subset (sliced data) of np.ndarray is not recommended because it will generate extra copies and increase memory consumption\n",
      "  \"because it will generate extra copies and increase \" +\n",
      "\n"
     ]
    },
    {
     "name": "stdout",
     "output_type": "stream",
     "text": [
      " 63%|██████▎   | 63/100 [00:41<00:25,  1.44trial/s, best loss: 0.08017171775905638]"
     ]
    },
    {
     "name": "stderr",
     "output_type": "stream",
     "text": [
      "/opt/conda/lib/python3.7/site-packages/xgboost/data.py:114: UserWarning: Use subset (sliced data) of np.ndarray is not recommended because it will generate extra copies and increase memory consumption\n",
      "  \"because it will generate extra copies and increase \" +\n",
      "\n"
     ]
    },
    {
     "name": "stdout",
     "output_type": "stream",
     "text": [
      " 64%|██████▍   | 64/100 [00:42<00:22,  1.62trial/s, best loss: 0.08017171775905638]"
     ]
    },
    {
     "name": "stderr",
     "output_type": "stream",
     "text": [
      "/opt/conda/lib/python3.7/site-packages/xgboost/data.py:114: UserWarning: Use subset (sliced data) of np.ndarray is not recommended because it will generate extra copies and increase memory consumption\n",
      "  \"because it will generate extra copies and increase \" +\n",
      "\n"
     ]
    },
    {
     "name": "stdout",
     "output_type": "stream",
     "text": [
      " 65%|██████▌   | 65/100 [00:43<00:26,  1.30trial/s, best loss: 0.08017171775905638]"
     ]
    },
    {
     "name": "stderr",
     "output_type": "stream",
     "text": [
      "/opt/conda/lib/python3.7/site-packages/xgboost/data.py:114: UserWarning: Use subset (sliced data) of np.ndarray is not recommended because it will generate extra copies and increase memory consumption\n",
      "  \"because it will generate extra copies and increase \" +\n",
      "\n"
     ]
    },
    {
     "name": "stdout",
     "output_type": "stream",
     "text": [
      " 66%|██████▌   | 66/100 [00:43<00:23,  1.45trial/s, best loss: 0.08017171775905638]"
     ]
    },
    {
     "name": "stderr",
     "output_type": "stream",
     "text": [
      "/opt/conda/lib/python3.7/site-packages/xgboost/data.py:114: UserWarning: Use subset (sliced data) of np.ndarray is not recommended because it will generate extra copies and increase memory consumption\n",
      "  \"because it will generate extra copies and increase \" +\n",
      "\n"
     ]
    },
    {
     "name": "stdout",
     "output_type": "stream",
     "text": [
      " 67%|██████▋   | 67/100 [00:44<00:20,  1.59trial/s, best loss: 0.0798579325140304] "
     ]
    },
    {
     "name": "stderr",
     "output_type": "stream",
     "text": [
      "/opt/conda/lib/python3.7/site-packages/xgboost/data.py:114: UserWarning: Use subset (sliced data) of np.ndarray is not recommended because it will generate extra copies and increase memory consumption\n",
      "  \"because it will generate extra copies and increase \" +\n",
      "\n"
     ]
    },
    {
     "name": "stdout",
     "output_type": "stream",
     "text": [
      " 68%|██████▊   | 68/100 [00:44<00:21,  1.49trial/s, best loss: 0.07751216406290526]"
     ]
    },
    {
     "name": "stderr",
     "output_type": "stream",
     "text": [
      "/opt/conda/lib/python3.7/site-packages/xgboost/data.py:114: UserWarning: Use subset (sliced data) of np.ndarray is not recommended because it will generate extra copies and increase memory consumption\n",
      "  \"because it will generate extra copies and increase \" +\n",
      "\n"
     ]
    },
    {
     "name": "stdout",
     "output_type": "stream",
     "text": [
      " 69%|██████▉   | 69/100 [00:45<00:23,  1.31trial/s, best loss: 0.07751216406290526]"
     ]
    },
    {
     "name": "stderr",
     "output_type": "stream",
     "text": [
      "/opt/conda/lib/python3.7/site-packages/xgboost/data.py:114: UserWarning: Use subset (sliced data) of np.ndarray is not recommended because it will generate extra copies and increase memory consumption\n",
      "  \"because it will generate extra copies and increase \" +\n",
      "\n"
     ]
    },
    {
     "name": "stdout",
     "output_type": "stream",
     "text": [
      " 70%|███████   | 70/100 [00:46<00:25,  1.19trial/s, best loss: 0.07751216406290526]"
     ]
    },
    {
     "name": "stderr",
     "output_type": "stream",
     "text": [
      "/opt/conda/lib/python3.7/site-packages/xgboost/data.py:114: UserWarning: Use subset (sliced data) of np.ndarray is not recommended because it will generate extra copies and increase memory consumption\n",
      "  \"because it will generate extra copies and increase \" +\n",
      "\n"
     ]
    },
    {
     "name": "stdout",
     "output_type": "stream",
     "text": [
      " 71%|███████   | 71/100 [00:48<00:26,  1.08trial/s, best loss: 0.07751216406290526]"
     ]
    },
    {
     "name": "stderr",
     "output_type": "stream",
     "text": [
      "/opt/conda/lib/python3.7/site-packages/xgboost/data.py:114: UserWarning: Use subset (sliced data) of np.ndarray is not recommended because it will generate extra copies and increase memory consumption\n",
      "  \"because it will generate extra copies and increase \" +\n",
      "\n"
     ]
    },
    {
     "name": "stdout",
     "output_type": "stream",
     "text": [
      " 72%|███████▏  | 72/100 [00:48<00:25,  1.11trial/s, best loss: 0.07751216406290526]"
     ]
    },
    {
     "name": "stderr",
     "output_type": "stream",
     "text": [
      "/opt/conda/lib/python3.7/site-packages/xgboost/data.py:114: UserWarning: Use subset (sliced data) of np.ndarray is not recommended because it will generate extra copies and increase memory consumption\n",
      "  \"because it will generate extra copies and increase \" +\n",
      "\n"
     ]
    },
    {
     "name": "stdout",
     "output_type": "stream",
     "text": [
      " 73%|███████▎  | 73/100 [00:49<00:23,  1.17trial/s, best loss: 0.07751216406290526]"
     ]
    },
    {
     "name": "stderr",
     "output_type": "stream",
     "text": [
      "/opt/conda/lib/python3.7/site-packages/xgboost/data.py:114: UserWarning: Use subset (sliced data) of np.ndarray is not recommended because it will generate extra copies and increase memory consumption\n",
      "  \"because it will generate extra copies and increase \" +\n",
      "\n"
     ]
    },
    {
     "name": "stdout",
     "output_type": "stream",
     "text": [
      " 74%|███████▍  | 74/100 [00:50<00:23,  1.09trial/s, best loss: 0.07751216406290526]"
     ]
    },
    {
     "name": "stderr",
     "output_type": "stream",
     "text": [
      "/opt/conda/lib/python3.7/site-packages/xgboost/data.py:114: UserWarning: Use subset (sliced data) of np.ndarray is not recommended because it will generate extra copies and increase memory consumption\n",
      "  \"because it will generate extra copies and increase \" +\n",
      "\n"
     ]
    },
    {
     "name": "stdout",
     "output_type": "stream",
     "text": [
      " 75%|███████▌  | 75/100 [00:51<00:20,  1.21trial/s, best loss: 0.07751216406290526]"
     ]
    },
    {
     "name": "stderr",
     "output_type": "stream",
     "text": [
      "/opt/conda/lib/python3.7/site-packages/xgboost/data.py:114: UserWarning: Use subset (sliced data) of np.ndarray is not recommended because it will generate extra copies and increase memory consumption\n",
      "  \"because it will generate extra copies and increase \" +\n",
      "\n"
     ]
    },
    {
     "name": "stdout",
     "output_type": "stream",
     "text": [
      " 76%|███████▌  | 76/100 [00:51<00:16,  1.42trial/s, best loss: 0.07751216406290526]"
     ]
    },
    {
     "name": "stderr",
     "output_type": "stream",
     "text": [
      "/opt/conda/lib/python3.7/site-packages/xgboost/data.py:114: UserWarning: Use subset (sliced data) of np.ndarray is not recommended because it will generate extra copies and increase memory consumption\n",
      "  \"because it will generate extra copies and increase \" +\n",
      "\n"
     ]
    },
    {
     "name": "stdout",
     "output_type": "stream",
     "text": [
      " 77%|███████▋  | 77/100 [00:52<00:15,  1.46trial/s, best loss: 0.07751216406290526]"
     ]
    },
    {
     "name": "stderr",
     "output_type": "stream",
     "text": [
      "/opt/conda/lib/python3.7/site-packages/xgboost/data.py:114: UserWarning: Use subset (sliced data) of np.ndarray is not recommended because it will generate extra copies and increase memory consumption\n",
      "  \"because it will generate extra copies and increase \" +\n",
      "\n"
     ]
    },
    {
     "name": "stdout",
     "output_type": "stream",
     "text": [
      " 78%|███████▊  | 78/100 [00:53<00:17,  1.25trial/s, best loss: 0.07751216406290526]"
     ]
    },
    {
     "name": "stderr",
     "output_type": "stream",
     "text": [
      "/opt/conda/lib/python3.7/site-packages/xgboost/data.py:114: UserWarning: Use subset (sliced data) of np.ndarray is not recommended because it will generate extra copies and increase memory consumption\n",
      "  \"because it will generate extra copies and increase \" +\n",
      "\n"
     ]
    },
    {
     "name": "stdout",
     "output_type": "stream",
     "text": [
      " 79%|███████▉  | 79/100 [00:54<00:18,  1.17trial/s, best loss: 0.07751216406290526]"
     ]
    },
    {
     "name": "stderr",
     "output_type": "stream",
     "text": [
      "/opt/conda/lib/python3.7/site-packages/xgboost/data.py:114: UserWarning: Use subset (sliced data) of np.ndarray is not recommended because it will generate extra copies and increase memory consumption\n",
      "  \"because it will generate extra copies and increase \" +\n",
      "\n"
     ]
    },
    {
     "name": "stdout",
     "output_type": "stream",
     "text": [
      " 80%|████████  | 80/100 [00:55<00:18,  1.09trial/s, best loss: 0.07751216406290526]"
     ]
    },
    {
     "name": "stderr",
     "output_type": "stream",
     "text": [
      "/opt/conda/lib/python3.7/site-packages/xgboost/data.py:114: UserWarning: Use subset (sliced data) of np.ndarray is not recommended because it will generate extra copies and increase memory consumption\n",
      "  \"because it will generate extra copies and increase \" +\n",
      "\n"
     ]
    },
    {
     "name": "stdout",
     "output_type": "stream",
     "text": [
      " 81%|████████  | 81/100 [00:56<00:15,  1.26trial/s, best loss: 0.07751216406290526]"
     ]
    },
    {
     "name": "stderr",
     "output_type": "stream",
     "text": [
      "/opt/conda/lib/python3.7/site-packages/xgboost/data.py:114: UserWarning: Use subset (sliced data) of np.ndarray is not recommended because it will generate extra copies and increase memory consumption\n",
      "  \"because it will generate extra copies and increase \" +\n",
      "\n"
     ]
    },
    {
     "name": "stdout",
     "output_type": "stream",
     "text": [
      " 82%|████████▏ | 82/100 [00:57<00:17,  1.01trial/s, best loss: 0.07751216406290526]"
     ]
    },
    {
     "name": "stderr",
     "output_type": "stream",
     "text": [
      "/opt/conda/lib/python3.7/site-packages/xgboost/data.py:114: UserWarning: Use subset (sliced data) of np.ndarray is not recommended because it will generate extra copies and increase memory consumption\n",
      "  \"because it will generate extra copies and increase \" +\n",
      "\n"
     ]
    },
    {
     "name": "stdout",
     "output_type": "stream",
     "text": [
      " 83%|████████▎ | 83/100 [00:57<00:14,  1.18trial/s, best loss: 0.07751216406290526]"
     ]
    },
    {
     "name": "stderr",
     "output_type": "stream",
     "text": [
      "/opt/conda/lib/python3.7/site-packages/xgboost/data.py:114: UserWarning: Use subset (sliced data) of np.ndarray is not recommended because it will generate extra copies and increase memory consumption\n",
      "  \"because it will generate extra copies and increase \" +\n",
      "\n"
     ]
    },
    {
     "name": "stdout",
     "output_type": "stream",
     "text": [
      " 84%|████████▍ | 84/100 [00:58<00:12,  1.23trial/s, best loss: 0.07751216406290526]"
     ]
    },
    {
     "name": "stderr",
     "output_type": "stream",
     "text": [
      "/opt/conda/lib/python3.7/site-packages/xgboost/data.py:114: UserWarning: Use subset (sliced data) of np.ndarray is not recommended because it will generate extra copies and increase memory consumption\n",
      "  \"because it will generate extra copies and increase \" +\n",
      "\n"
     ]
    },
    {
     "name": "stdout",
     "output_type": "stream",
     "text": [
      " 85%|████████▌ | 85/100 [00:59<00:10,  1.40trial/s, best loss: 0.07751216406290526]"
     ]
    },
    {
     "name": "stderr",
     "output_type": "stream",
     "text": [
      "/opt/conda/lib/python3.7/site-packages/xgboost/data.py:114: UserWarning: Use subset (sliced data) of np.ndarray is not recommended because it will generate extra copies and increase memory consumption\n",
      "  \"because it will generate extra copies and increase \" +\n",
      "\n"
     ]
    },
    {
     "name": "stdout",
     "output_type": "stream",
     "text": [
      " 86%|████████▌ | 86/100 [01:00<00:12,  1.08trial/s, best loss: 0.07751216406290526]"
     ]
    },
    {
     "name": "stderr",
     "output_type": "stream",
     "text": [
      "/opt/conda/lib/python3.7/site-packages/xgboost/data.py:114: UserWarning: Use subset (sliced data) of np.ndarray is not recommended because it will generate extra copies and increase memory consumption\n",
      "  \"because it will generate extra copies and increase \" +\n",
      "\n"
     ]
    },
    {
     "name": "stdout",
     "output_type": "stream",
     "text": [
      " 87%|████████▋ | 87/100 [01:01<00:11,  1.11trial/s, best loss: 0.07751216406290526]"
     ]
    },
    {
     "name": "stderr",
     "output_type": "stream",
     "text": [
      "/opt/conda/lib/python3.7/site-packages/xgboost/data.py:114: UserWarning: Use subset (sliced data) of np.ndarray is not recommended because it will generate extra copies and increase memory consumption\n",
      "  \"because it will generate extra copies and increase \" +\n",
      "\n"
     ]
    },
    {
     "name": "stdout",
     "output_type": "stream",
     "text": [
      " 88%|████████▊ | 88/100 [01:02<00:12,  1.00s/trial, best loss: 0.07751216406290526]"
     ]
    },
    {
     "name": "stderr",
     "output_type": "stream",
     "text": [
      "/opt/conda/lib/python3.7/site-packages/xgboost/data.py:114: UserWarning: Use subset (sliced data) of np.ndarray is not recommended because it will generate extra copies and increase memory consumption\n",
      "  \"because it will generate extra copies and increase \" +\n",
      "\n"
     ]
    },
    {
     "name": "stdout",
     "output_type": "stream",
     "text": [
      " 89%|████████▉ | 89/100 [01:02<00:08,  1.30trial/s, best loss: 0.07751216406290526]"
     ]
    },
    {
     "name": "stderr",
     "output_type": "stream",
     "text": [
      "/opt/conda/lib/python3.7/site-packages/xgboost/data.py:114: UserWarning: Use subset (sliced data) of np.ndarray is not recommended because it will generate extra copies and increase memory consumption\n",
      "  \"because it will generate extra copies and increase \" +\n",
      "\n"
     ]
    },
    {
     "name": "stdout",
     "output_type": "stream",
     "text": [
      " 90%|█████████ | 90/100 [01:04<00:09,  1.07trial/s, best loss: 0.07751216406290526]"
     ]
    },
    {
     "name": "stderr",
     "output_type": "stream",
     "text": [
      "/opt/conda/lib/python3.7/site-packages/xgboost/data.py:114: UserWarning: Use subset (sliced data) of np.ndarray is not recommended because it will generate extra copies and increase memory consumption\n",
      "  \"because it will generate extra copies and increase \" +\n",
      "\n"
     ]
    },
    {
     "name": "stdout",
     "output_type": "stream",
     "text": [
      " 91%|█████████ | 91/100 [01:04<00:07,  1.15trial/s, best loss: 0.07751216406290526]"
     ]
    },
    {
     "name": "stderr",
     "output_type": "stream",
     "text": [
      "/opt/conda/lib/python3.7/site-packages/xgboost/data.py:114: UserWarning: Use subset (sliced data) of np.ndarray is not recommended because it will generate extra copies and increase memory consumption\n",
      "  \"because it will generate extra copies and increase \" +\n",
      "\n"
     ]
    },
    {
     "name": "stdout",
     "output_type": "stream",
     "text": [
      " 93%|█████████▎| 93/100 [01:07<00:06,  1.02trial/s, best loss: 0.07751216406290526]"
     ]
    },
    {
     "name": "stderr",
     "output_type": "stream",
     "text": [
      "/opt/conda/lib/python3.7/site-packages/xgboost/data.py:114: UserWarning: Use subset (sliced data) of np.ndarray is not recommended because it will generate extra copies and increase memory consumption\n",
      "  \"because it will generate extra copies and increase \" +\n",
      "\n",
      "/opt/conda/lib/python3.7/site-packages/xgboost/data.py:114: UserWarning: Use subset (sliced data) of np.ndarray is not recommended because it will generate extra copies and increase memory consumption\n",
      "  \"because it will generate extra copies and increase \" +\n",
      "\n"
     ]
    },
    {
     "name": "stdout",
     "output_type": "stream",
     "text": [
      " 94%|█████████▍| 94/100 [01:08<00:05,  1.20trial/s, best loss: 0.07751216406290526]"
     ]
    },
    {
     "name": "stderr",
     "output_type": "stream",
     "text": [
      "/opt/conda/lib/python3.7/site-packages/xgboost/data.py:114: UserWarning: Use subset (sliced data) of np.ndarray is not recommended because it will generate extra copies and increase memory consumption\n",
      "  \"because it will generate extra copies and increase \" +\n",
      "\n"
     ]
    },
    {
     "name": "stdout",
     "output_type": "stream",
     "text": [
      " 95%|█████████▌| 95/100 [01:08<00:03,  1.51trial/s, best loss: 0.07751216406290526]"
     ]
    },
    {
     "name": "stderr",
     "output_type": "stream",
     "text": [
      "/opt/conda/lib/python3.7/site-packages/xgboost/data.py:114: UserWarning: Use subset (sliced data) of np.ndarray is not recommended because it will generate extra copies and increase memory consumption\n",
      "  \"because it will generate extra copies and increase \" +\n",
      "\n"
     ]
    },
    {
     "name": "stdout",
     "output_type": "stream",
     "text": [
      " 96%|█████████▌| 96/100 [01:09<00:02,  1.45trial/s, best loss: 0.07751216406290526]"
     ]
    },
    {
     "name": "stderr",
     "output_type": "stream",
     "text": [
      "/opt/conda/lib/python3.7/site-packages/xgboost/data.py:114: UserWarning: Use subset (sliced data) of np.ndarray is not recommended because it will generate extra copies and increase memory consumption\n",
      "  \"because it will generate extra copies and increase \" +\n",
      "\n"
     ]
    },
    {
     "name": "stdout",
     "output_type": "stream",
     "text": [
      " 97%|█████████▋| 97/100 [01:10<00:02,  1.17trial/s, best loss: 0.07751216406290526]"
     ]
    },
    {
     "name": "stderr",
     "output_type": "stream",
     "text": [
      "/opt/conda/lib/python3.7/site-packages/xgboost/data.py:114: UserWarning: Use subset (sliced data) of np.ndarray is not recommended because it will generate extra copies and increase memory consumption\n",
      "  \"because it will generate extra copies and increase \" +\n",
      "\n"
     ]
    },
    {
     "name": "stdout",
     "output_type": "stream",
     "text": [
      " 98%|█████████▊| 98/100 [01:10<00:01,  1.33trial/s, best loss: 0.07751216406290526]"
     ]
    },
    {
     "name": "stderr",
     "output_type": "stream",
     "text": [
      "/opt/conda/lib/python3.7/site-packages/xgboost/data.py:114: UserWarning: Use subset (sliced data) of np.ndarray is not recommended because it will generate extra copies and increase memory consumption\n",
      "  \"because it will generate extra copies and increase \" +\n",
      "\n"
     ]
    },
    {
     "name": "stdout",
     "output_type": "stream",
     "text": [
      " 99%|█████████▉| 99/100 [01:11<00:00,  1.66trial/s, best loss: 0.07751216406290526]"
     ]
    },
    {
     "name": "stderr",
     "output_type": "stream",
     "text": [
      "/opt/conda/lib/python3.7/site-packages/xgboost/data.py:114: UserWarning: Use subset (sliced data) of np.ndarray is not recommended because it will generate extra copies and increase memory consumption\n",
      "  \"because it will generate extra copies and increase \" +\n",
      "\n"
     ]
    },
    {
     "name": "stdout",
     "output_type": "stream",
     "text": [
      "100%|██████████| 100/100 [01:11<00:00,  1.39trial/s, best loss: 0.07751216406290526]\n"
     ]
    },
    {
     "name": "stderr",
     "output_type": "stream",
     "text": [
      "/opt/conda/lib/python3.7/site-packages/xgboost/data.py:114: UserWarning: Use subset (sliced data) of np.ndarray is not recommended because it will generate extra copies and increase memory consumption\n",
      "  \"because it will generate extra copies and increase \" +\n",
      "\n"
     ]
    }
   ],
   "source": [
    "trials = Trials()\n",
    "\n",
    "best_hyperparams = fmin(fn = objective,\n",
    "                        space = space,\n",
    "                        algo = tpe.suggest,\n",
    "                        max_evals = 100,\n",
    "                        trials = trials)"
   ]
  },
  {
   "cell_type": "code",
   "execution_count": 25,
   "id": "essential-effectiveness",
   "metadata": {
    "execution": {
     "iopub.execute_input": "2022-03-17T03:27:34.422212Z",
     "iopub.status.busy": "2022-03-17T03:27:34.421179Z",
     "iopub.status.idle": "2022-03-17T03:27:34.424414Z",
     "shell.execute_reply": "2022-03-17T03:27:34.424939Z",
     "shell.execute_reply.started": "2022-03-17T03:24:09.016803Z"
    },
    "papermill": {
     "duration": 0.125439,
     "end_time": "2022-03-17T03:27:34.425105",
     "exception": false,
     "start_time": "2022-03-17T03:27:34.299666",
     "status": "completed"
    },
    "tags": []
   },
   "outputs": [],
   "source": [
    "best_hyperparams ={'colsample_bytree': 0.9052809808863597,\n",
    " 'learning_rate': 0.11050144053428085,\n",
    " 'max_depth': 6.0,\n",
    " 'n_estimators': 1250.0,\n",
    " 'reg_lambda': 52.85031032434385}"
   ]
  },
  {
   "cell_type": "code",
   "execution_count": 26,
   "id": "empty-buffalo",
   "metadata": {
    "execution": {
     "iopub.execute_input": "2022-03-17T03:27:34.661086Z",
     "iopub.status.busy": "2022-03-17T03:27:34.660132Z",
     "iopub.status.idle": "2022-03-17T03:27:35.367153Z",
     "shell.execute_reply": "2022-03-17T03:27:35.368056Z",
     "shell.execute_reply.started": "2022-03-17T03:24:28.195682Z"
    },
    "papermill": {
     "duration": 0.828366,
     "end_time": "2022-03-17T03:27:35.368324",
     "exception": false,
     "start_time": "2022-03-17T03:27:34.539958",
     "status": "completed"
    },
    "tags": []
   },
   "outputs": [
    {
     "name": "stdout",
     "output_type": "stream",
     "text": [
      "RMSE: 0.08303197446044762\n"
     ]
    },
    {
     "name": "stderr",
     "output_type": "stream",
     "text": [
      "/opt/conda/lib/python3.7/site-packages/xgboost/data.py:114: UserWarning: Use subset (sliced data) of np.ndarray is not recommended because it will generate extra copies and increase memory consumption\n",
      "  \"because it will generate extra copies and increase \" +\n"
     ]
    }
   ],
   "source": [
    "# Define model\n",
    "model = XGBRegressor(\n",
    "    n_estimators = int(best_hyperparams[\"n_estimators\"]),\n",
    "    max_depth = int(best_hyperparams[\"max_depth\"]),\n",
    "    learning_rate = best_hyperparams[\"learning_rate\"],\n",
    "    colsample_bytree = best_hyperparams[\"colsample_bytree\"],\n",
    "    reg_lambda = best_hyperparams[\"reg_lambda\"], \n",
    "    tree_method = \"gpu_hist\",\n",
    "    random_state = 42\n",
    ")\n",
    "model.fit(X_train_processed, y_train,\n",
    "          early_stopping_rounds=10, \n",
    "          eval_set=[(X_valid_processed, y_valid)],\n",
    "          verbose=False)\n",
    "preds = model.predict(X_valid_processed)\n",
    "print(\"RMSE:\", mean_squared_error(y_valid, preds, squared=False))"
   ]
  },
  {
   "cell_type": "markdown",
   "id": "vanilla-channel",
   "metadata": {
    "papermill": {
     "duration": 0.114008,
     "end_time": "2022-03-17T03:27:35.599713",
     "exception": false,
     "start_time": "2022-03-17T03:27:35.485705",
     "status": "completed"
    },
    "tags": []
   },
   "source": [
    "In the code cell above, we set `squared=False` to get the root mean squared error (RMSE) on the validation data.\n",
    "\n",
    "# Step 5: Submit to the competition\n",
    "\n",
    "We\"ll begin by using the trained model to generate predictions, which we\"ll save to a CSV file."
   ]
  },
  {
   "cell_type": "code",
   "execution_count": 27,
   "id": "devoted-dragon",
   "metadata": {
    "execution": {
     "iopub.execute_input": "2022-03-17T03:27:35.842213Z",
     "iopub.status.busy": "2022-03-17T03:27:35.835746Z",
     "iopub.status.idle": "2022-03-17T03:27:36.022761Z",
     "shell.execute_reply": "2022-03-17T03:27:36.023605Z",
     "shell.execute_reply.started": "2022-03-17T03:25:05.591439Z"
    },
    "papermill": {
     "duration": 0.309298,
     "end_time": "2022-03-17T03:27:36.023911",
     "exception": false,
     "start_time": "2022-03-17T03:27:35.714613",
     "status": "completed"
    },
    "tags": []
   },
   "outputs": [
    {
     "name": "stderr",
     "output_type": "stream",
     "text": [
      "/opt/conda/lib/python3.7/site-packages/xgboost/data.py:114: UserWarning: Use subset (sliced data) of np.ndarray is not recommended because it will generate extra copies and increase memory consumption\n",
      "  \"because it will generate extra copies and increase \" +\n"
     ]
    }
   ],
   "source": [
    "# Use the model to generate predictions\n",
    "\n",
    "predictions = model.predict(X)\n",
    "\n",
    "# Save the predictions to a CSV file\n",
    "output = pd.DataFrame({\"ID\": X.index,\n",
    "                       \"Pred\": predictions})\n",
    "output.to_csv(\"submission.csv\", index=False)"
   ]
  },
  {
   "cell_type": "markdown",
   "id": "mexican-swift",
   "metadata": {
    "papermill": {
     "duration": 0.114514,
     "end_time": "2022-03-17T03:27:36.256218",
     "exception": false,
     "start_time": "2022-03-17T03:27:36.141704",
     "status": "completed"
    },
    "tags": []
   },
   "source": [
    "Once you have run the code cell above, follow the instructions below to submit to the competition:\n",
    "1. Begin by clicking on the **Save Version** button in the top right corner of the window.  This will generate a pop-up window.  \n",
    "2. Ensure that the **Save and Run All** option is selected, and then click on the **Save** button.\n",
    "3. This generates a window in the bottom left corner of the notebook.  After it has finished running, click on the number to the right of the **Save Version** button.  This pulls up a list of versions on the right of the screen.  Click on the ellipsis **(...)** to the right of the most recent version, and select **Open in Viewer**.  This brings you into view mode of the same page. You will need to scroll down to get back to these instructions.\n",
    "4. Click on the **Output** tab on the right of the screen.  Then, click on the file you would like to submit, and click on the **Submit** button to submit your results to the leaderboard.\n",
    "\n",
    "You have now successfully submitted to the competition!\n",
    "\n",
    "If you want to keep working to improve your performance, select the **Edit** button in the top right of the screen. Then you can change your code and repeat the process. There\"s a lot of room to improve, and you will climb up the leaderboard as you work."
   ]
  },
  {
   "cell_type": "markdown",
   "id": "composite-latin",
   "metadata": {
    "papermill": {
     "duration": 0.115615,
     "end_time": "2022-03-17T03:27:36.484724",
     "exception": false,
     "start_time": "2022-03-17T03:27:36.369109",
     "status": "completed"
    },
    "tags": []
   },
   "source": [
    "# Step 6: Keep Learning!\n",
    "\n",
    "If you\"re not sure what to do next, you can begin by trying out more model types!\n",
    "1. If you took the **[Intermediate Machine Learning](https://www.kaggle.com/learn/intermediate-machine-learning)** course, then you learned about **[XGBoost](https://www.kaggle.com/alexisbcook/xgboost)**.  Try training a model with XGBoost, to improve over the performance you got here.\n",
    "\n",
    "2. Take the time to learn about **Light GBM (LGBM)**, which is similar to XGBoost, since they both use gradient boosting to iteratively add decision trees to an ensemble.  In case you\"re not sure how to get started, **[here\"s a notebook](https://www.kaggle.com/svyatoslavsokolov/tps-feb-2021-lgbm-simple-version)** that trains a model on a similar dataset."
   ]
  },
  {
   "cell_type": "code",
   "execution_count": null,
   "id": "mysterious-wiring",
   "metadata": {
    "papermill": {
     "duration": 0.113572,
     "end_time": "2022-03-17T03:27:36.713114",
     "exception": false,
     "start_time": "2022-03-17T03:27:36.599542",
     "status": "completed"
    },
    "tags": []
   },
   "outputs": [],
   "source": []
  },
  {
   "cell_type": "code",
   "execution_count": null,
   "id": "prescribed-cache",
   "metadata": {
    "papermill": {
     "duration": 0.11343,
     "end_time": "2022-03-17T03:27:36.942869",
     "exception": false,
     "start_time": "2022-03-17T03:27:36.829439",
     "status": "completed"
    },
    "tags": []
   },
   "outputs": [],
   "source": []
  }
 ],
 "metadata": {
  "kernelspec": {
   "display_name": "Python 3",
   "language": "python",
   "name": "python3"
  },
  "language_info": {
   "codemirror_mode": {
    "name": "ipython",
    "version": 3
   },
   "file_extension": ".py",
   "mimetype": "text/x-python",
   "name": "python",
   "nbconvert_exporter": "python",
   "pygments_lexer": "ipython3",
   "version": "3.7.10"
  },
  "papermill": {
   "default_parameters": {},
   "duration": 94.857486,
   "end_time": "2022-03-17T03:27:39.059598",
   "environment_variables": {},
   "exception": null,
   "input_path": "__notebook__.ipynb",
   "output_path": "__notebook__.ipynb",
   "parameters": {},
   "start_time": "2022-03-17T03:26:04.202112",
   "version": "2.3.3"
  }
 },
 "nbformat": 4,
 "nbformat_minor": 5
}
