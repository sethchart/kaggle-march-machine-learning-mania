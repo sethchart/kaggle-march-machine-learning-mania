{
 "cells": [
  {
   "cell_type": "markdown",
   "id": "f25af77c",
   "metadata": {
    "papermill": {
     "duration": 0.005513,
     "end_time": "2023-03-15T19:52:53.600231",
     "exception": false,
     "start_time": "2023-03-15T19:52:53.594718",
     "status": "completed"
    },
    "tags": []
   },
   "source": [
    "# Imports and Utilities"
   ]
  },
  {
   "cell_type": "code",
   "execution_count": 1,
   "id": "7246866b",
   "metadata": {
    "execution": {
     "iopub.execute_input": "2023-03-15T19:52:53.612381Z",
     "iopub.status.busy": "2023-03-15T19:52:53.611857Z",
     "iopub.status.idle": "2023-03-15T19:52:57.107264Z",
     "shell.execute_reply": "2023-03-15T19:52:57.106060Z"
    },
    "papermill": {
     "duration": 3.505412,
     "end_time": "2023-03-15T19:52:57.110456",
     "exception": false,
     "start_time": "2023-03-15T19:52:53.605044",
     "status": "completed"
    },
    "tags": []
   },
   "outputs": [
    {
     "data": {
      "text/html": [
       "<style type='text/css'>\n",
       ".datatable table.frame { margin-bottom: 0; }\n",
       ".datatable table.frame thead { border-bottom: none; }\n",
       ".datatable table.frame tr.coltypes td {  color: #FFFFFF;  line-height: 6px;  padding: 0 0.5em;}\n",
       ".datatable .bool    { background: #DDDD99; }\n",
       ".datatable .object  { background: #565656; }\n",
       ".datatable .int     { background: #5D9E5D; }\n",
       ".datatable .float   { background: #4040CC; }\n",
       ".datatable .str     { background: #CC4040; }\n",
       ".datatable .time    { background: #40CC40; }\n",
       ".datatable .row_index {  background: var(--jp-border-color3);  border-right: 1px solid var(--jp-border-color0);  color: var(--jp-ui-font-color3);  font-size: 9px;}\n",
       ".datatable .frame tbody td { text-align: left; }\n",
       ".datatable .frame tr.coltypes .row_index {  background: var(--jp-border-color0);}\n",
       ".datatable th:nth-child(2) { padding-left: 12px; }\n",
       ".datatable .hellipsis {  color: var(--jp-cell-editor-border-color);}\n",
       ".datatable .vellipsis {  background: var(--jp-layout-color0);  color: var(--jp-cell-editor-border-color);}\n",
       ".datatable .na {  color: var(--jp-cell-editor-border-color);  font-size: 80%;}\n",
       ".datatable .sp {  opacity: 0.25;}\n",
       ".datatable .footer { font-size: 9px; }\n",
       ".datatable .frame_dimensions {  background: var(--jp-border-color3);  border-top: 1px solid var(--jp-border-color0);  color: var(--jp-ui-font-color3);  display: inline-block;  opacity: 0.6;  padding: 1px 10px 1px 5px;}\n",
       "</style>\n"
      ],
      "text/plain": [
       "<IPython.core.display.HTML object>"
      ]
     },
     "metadata": {},
     "output_type": "display_data"
    }
   ],
   "source": [
    "from typing import List, Tuple\n",
    "import numpy as np\n",
    "import pandas as pd\n",
    "from IPython.display import Markdown\n",
    "import optuna\n",
    "import lightgbm as lgb\n",
    "from sklearn.metrics import roc_auc_score, brier_score_loss\n",
    "from sklearn.model_selection import cross_val_score\n",
    "\n",
    "COMPETITION_NAME = \"march-machine-learning-mania-2023\"\n",
    "VERBOSE = False\n",
    "\n",
    "pd.set_option(\"display.max_columns\", None)\n",
    "\n",
    "def show_df(df: pd.DataFrame, name: str = \"DataFrame\", verbose: bool = VERBOSE):\n",
    "    if verbose:\n",
    "        display(Markdown(f\"## {name}\"))\n",
    "        display(Markdown(\"### Head\"))\n",
    "        display(df.head())\n",
    "        display(Markdown(\"### Tail\"))\n",
    "        display(df.tail())\n",
    "        display(Markdown(\"### Description\"))\n",
    "        display(df.describe())\n",
    "\n",
    "\n",
    "def extract_data(filename: str, competition_name:str = COMPETITION_NAME) -> pd.DataFrame:\n",
    "    mens_filepath = f\"/kaggle/input/{competition_name}/M{filename}.csv\"\n",
    "    womens_filepath = f\"/kaggle/input/{competition_name}/W{filename}.csv\"\n",
    "    try:\n",
    "        df_mens = pd.read_csv(mens_filepath)\n",
    "    except FileNotFoundError:\n",
    "        df_mens = None\n",
    "    try:\n",
    "        df_womens = pd.read_csv(womens_filepath)\n",
    "    except FileNotFoundError:\n",
    "        df_womens = None\n",
    "    df = pd.concat([df_mens, df_womens])\n",
    "    show_df(df, filename)\n",
    "    return df\n",
    "\n",
    "\n",
    "def get_team_features(detailed_results: pd.DataFrame) -> pd.DataFrame:\n",
    "    df = detailed_results.copy()\n",
    "    df = clean_detailed_results(df)\n",
    "    df = transform_game_to_team(df)\n",
    "    df = transform_team_results(df)\n",
    "    show_df(df)\n",
    "    return df\n",
    "\n",
    "\n",
    "def get_seed_features(df_in: pd.DataFrame) -> pd.DataFrame:\n",
    "    df = df_in.copy()\n",
    "    mask = df[\"Season\"] > 2002\n",
    "    df = df[mask]\n",
    "    df[\"Seed\"] = df[\"Seed\"].str.replace(r\"\\D+\",\"\", regex=True)\n",
    "    df[\"Seed\"] = df[\"Seed\"].astype(int)\n",
    "    show_df(df)\n",
    "    return df\n",
    "\n",
    "\n",
    "def get_ranking_features(df_in:pd.DataFrame) -> pd.DataFrame:\n",
    "    df = df_in.copy()\n",
    "    mask = df[\"RankingDayNum\"] == df[\"RankingDayNum\"].max()\n",
    "    df = df[mask]\n",
    "    df.drop([\"SystemName\", \"RankingDayNum\"], axis=1, inplace=True)\n",
    "    df = df.groupby([\"Season\", \"TeamID\"]).agg(\"median\")\n",
    "    df = df.reset_index()\n",
    "    show_df(df)\n",
    "    return df\n",
    "\n",
    "\n",
    "def get_game_outcomes(df):\n",
    "    input_rows = df.to_records()\n",
    "    output_rows = []\n",
    "    for input_row in input_rows:\n",
    "        output_rows.extend(parse_row(input_row))\n",
    "    out_df = pd.DataFrame(output_rows)\n",
    "    return out_df\n",
    "\n",
    "def parse_row(row):\n",
    "    season = row['Season']\n",
    "    winning_team_id = row['WTeamID']\n",
    "    losing_team_id = row['LTeamID']\n",
    "    if winning_team_id < losing_team_id:\n",
    "        small_id = winning_team_id\n",
    "        big_id = losing_team_id\n",
    "        outcome = True\n",
    "    elif losing_team_id < winning_team_id:\n",
    "        small_id = losing_team_id\n",
    "        big_id = winning_team_id\n",
    "        outcome = False\n",
    "    records = [\n",
    "        {\n",
    "            \"ID\": f\"{season}_{small_id}_{big_id}\",\n",
    "            'Season': season,\n",
    "            'LowID': small_id,\n",
    "            'HighID': big_id,\n",
    "            'Win': outcome\n",
    "        },\n",
    "        {\n",
    "            \"ID\": f\"{season}_{big_id}_{small_id}\",\n",
    "            'Season': season,\n",
    "            'LowID': big_id,\n",
    "            'HighID': small_id,\n",
    "            'Win': not outcome\n",
    "        },\n",
    "    ]\n",
    "    return records\n",
    "\n",
    "\n",
    "def clean_detailed_results(df: pd.DataFrame) -> pd.DataFrame:\n",
    "    return df.drop([\"WLoc\", \"DayNum\"], axis=1)\n",
    "\n",
    "\n",
    "def transform_game_to_team(game_results: pd.DataFrame) -> pd.DataFrame:\n",
    "    winners = rename_columns(game_results, \"W\")\n",
    "    loosers = rename_columns(game_results, \"L\")\n",
    "    team_results = pd.concat((winners, loosers))\n",
    "    team_results.drop([\"TeamIDOpp\"], axis=1, inplace=True)\n",
    "    return team_results\n",
    "\n",
    "\n",
    "def transform_team_results(df: pd.DataFrame) -> pd.DataFrame:\n",
    "    df = df.groupby([\"Season\", \"TeamID\"]).median()\n",
    "    df[\"FGP\"] =  df[\"FGM\"] / df[\"FGA\"]\n",
    "    df[\"FGP3\"] =  df[\"FGM3\"] / df[\"FGA3\"]\n",
    "    df[\"FTP\"] =  df[\"FTM\"] / df[\"FTA\"]\n",
    "    df[\"FGPOpp\"] =  df[\"FGMOpp\"] / df[\"FGAOpp\"]\n",
    "    df[\"FGP3Opp\"] =  df[\"FGM3Opp\"] / df[\"FGA3Opp\"]\n",
    "    df[\"FTPOpp\"] =  df[\"FTMOpp\"] / df[\"FTAOpp\"]\n",
    "    return df.reset_index()\n",
    "    \n",
    "    \n",
    "def rename_columns(df: pd.DataFrame, team_prefix: str) -> pd.DataFrame:\n",
    "    df = df.copy()\n",
    "    df.columns =  (rename_column(column_name, team_prefix) for column_name in df.columns)\n",
    "    return df\n",
    "\n",
    "\n",
    "def rename_column(column_name: str, team_prefix: str) -> pd.DataFrame:\n",
    "    if team_prefix == \"W\":\n",
    "        opponent_prefix = \"L\"\n",
    "    elif team_prefix == \"L\":\n",
    "        opponent_prefix = \"W\"\n",
    "    else:\n",
    "        raise ValueError\n",
    "    if column_name.startswith(team_prefix):\n",
    "        column_name = column_name.lstrip(team_prefix)\n",
    "    elif column_name.startswith(opponent_prefix):\n",
    "        column_name = f\"{column_name.lstrip(opponent_prefix)}Opp\"\n",
    "    return column_name\n",
    "\n",
    "\n",
    "def split_winner_and_looser_columns(df: pd.DataFrame) -> Tuple[List[str], List[str]]:\n",
    "    winner_columns = [name for name in df.columns if not name.startswith(\"L\")]\n",
    "    looser_columns = [name for name in df.columns if not name.startswith(\"W\")]\n",
    "    return winner_columns, looser_columns\n",
    "\n",
    "\n",
    "def merge_features(\n",
    "    season_features: pd.DataFrame, \n",
    "    tournament_features: pd.DataFrame, \n",
    "    seed_features: pd.DataFrame, \n",
    "    ranking_features: pd.DataFrame\n",
    ") -> pd.DataFrame:\n",
    "    features = pd.merge(\n",
    "        season_features,\n",
    "        tournament_features,\n",
    "        how=\"inner\",\n",
    "        on=[\"Season\", \"TeamID\"],\n",
    "        suffixes=(\"Reg\", \"Tou\")\n",
    "    )\n",
    "    features = features.merge(\n",
    "        seed_features,\n",
    "        how=\"inner\",\n",
    "        on=[\"Season\", \"TeamID\"]\n",
    "    )\n",
    "    features = features.merge(\n",
    "        ranking_features,\n",
    "        how=\"left\",\n",
    "        on=[\"Season\", \"TeamID\"],\n",
    "    )\n",
    "    show_df(features)\n",
    "    return features\n",
    "\n",
    "\n",
    "def merge_outcomes_with_features(outcomes: pd.DataFrame, features: pd.DataFrame, how: str = \"inner\") -> pd.DataFrame:\n",
    "    feature_names = [name for name in features.columns if name not in [\"Season\", \"TeamID\", \"Gender\"]]\n",
    "    data = pd.merge(\n",
    "        outcomes, \n",
    "        features, \n",
    "        how=how, \n",
    "        left_on=[\"Season\", \"HighID\"], \n",
    "        right_on=[\"Season\", \"TeamID\"]\n",
    "    )\n",
    "    data = pd.merge(\n",
    "        data, \n",
    "        features, \n",
    "        how=how, \n",
    "        left_on=[\"Season\", \"LowID\"], \n",
    "        right_on=[\"Season\", \"TeamID\"],\n",
    "        suffixes=(\"High\", \"Low\")\n",
    "    )\n",
    "    for name in feature_names:\n",
    "        data[f\"{name}Diff\"] = data[f\"{name}High\"] - data[f\"{name}Low\"]\n",
    "        data.drop([f\"{name}High\", f\"{name}Low\"], axis=1, inplace=True)\n",
    "    data.drop(\n",
    "        [\"Season\", \"HighID\", \"LowID\",\"TeamIDHigh\",\"TeamIDLow\"], \n",
    "        axis=1, \n",
    "        inplace=True\n",
    "    )\n",
    "    data.set_index(\"ID\", inplace=True)\n",
    "    show_df(data)\n",
    "    return data\n",
    "\n",
    "\n",
    "def get_submission_outcomes() -> pd.DataFrame:\n",
    "    sample_submission = pd.read_csv(f\"/kaggle/input/{COMPETITION_NAME}/SampleSubmission2023.csv\")\n",
    "    df = sample_submission.copy()\n",
    "    df.drop(\"Pred\", axis=1, inplace=True)\n",
    "    df[[\"Season\", \"LowID\", \"HighID\"]] = df[\"ID\"].str.split(\"_\", expand=True)\n",
    "    df[[\"Season\", \"LowID\", \"HighID\"]] = df[[\"Season\", \"LowID\", \"HighID\"]].astype(int)\n",
    "    show_df(df)\n",
    "    return df\n",
    "\n",
    "\n",
    "def objective(trial: optuna.Trial, X_train, y_train):\n",
    "    params = {\n",
    "        \"objective\": \"binary\",\n",
    "        \"metric\": \"roc_auc\",\n",
    "        \"verbosity\": -1,\n",
    "        \"boosting_type\": \"gbdt\",\n",
    "        \"lambda_l1\": trial.suggest_float(\"lambda_l1\", 1e-8, 10.0, log=True),\n",
    "        \"lambda_l2\": trial.suggest_float(\"lambda_l2\", 1e-8, 10.0, log=True),\n",
    "        \"num_leaves\": trial.suggest_int(\"num_leaves\", 2, 256),\n",
    "        \"feature_fraction\": trial.suggest_float(\"feature_fraction\", 0.4, 1.0),\n",
    "        \"bagging_fraction\": trial.suggest_float(\"bagging_fraction\", 0.4, 1.0),\n",
    "        \"bagging_freq\": trial.suggest_int(\"bagging_freq\", 1, 7),\n",
    "        \"min_child_samples\": trial.suggest_int(\"min_child_samples\", 5, 100),\n",
    "    }\n",
    "    model = lgb.LGBMClassifier(**params)\n",
    "    score = np.mean(cross_val_score(model, X_train, y_train, scoring=\"roc_auc\", cv=5))\n",
    "    return score\n",
    "\n",
    "\n",
    "def run_study(X_train, y_train):\n",
    "    study = optuna.create_study(direction=\"maximize\")\n",
    "    study.optimize(lambda trial: objective(trial, X_train, y_train), n_trials=100)\n",
    "    return study\n",
    "\n",
    "\n",
    "def train_optimized_model(study, X, y):\n",
    "    params = study.best_params\n",
    "    model = lgb.LGBMClassifier(\n",
    "        objective=\"binary\",\n",
    "        metric=\"roc_auc\",\n",
    "        verbosity=-1,\n",
    "        boosting_type=\"gbdt\",\n",
    "        **params\n",
    "    )\n",
    "    model = model.fit(X, y)\n",
    "    return model"
   ]
  },
  {
   "cell_type": "markdown",
   "id": "d3ce8d04",
   "metadata": {
    "papermill": {
     "duration": 0.004281,
     "end_time": "2023-03-15T19:52:57.119619",
     "exception": false,
     "start_time": "2023-03-15T19:52:57.115338",
     "status": "completed"
    },
    "tags": []
   },
   "source": [
    "# Load Data"
   ]
  },
  {
   "cell_type": "code",
   "execution_count": 2,
   "id": "99216e8d",
   "metadata": {
    "execution": {
     "iopub.execute_input": "2023-03-15T19:52:57.130521Z",
     "iopub.status.busy": "2023-03-15T19:52:57.130120Z",
     "iopub.status.idle": "2023-03-15T19:53:00.778583Z",
     "shell.execute_reply": "2023-03-15T19:53:00.777404Z"
    },
    "papermill": {
     "duration": 3.657665,
     "end_time": "2023-03-15T19:53:00.781686",
     "exception": false,
     "start_time": "2023-03-15T19:52:57.124021",
     "status": "completed"
    },
    "tags": []
   },
   "outputs": [],
   "source": [
    "season_results = extract_data(\"RegularSeasonDetailedResults\")\n",
    "tournament_results = extract_data(\"NCAATourneyDetailedResults\")\n",
    "seeds = extract_data(\"NCAATourneySeeds\")\n",
    "rankings = extract_data(\"MasseyOrdinals_thru_Season2023_Day128\")"
   ]
  },
  {
   "cell_type": "markdown",
   "id": "0d2a1255",
   "metadata": {
    "papermill": {
     "duration": 0.004648,
     "end_time": "2023-03-15T19:53:00.791390",
     "exception": false,
     "start_time": "2023-03-15T19:53:00.786742",
     "status": "completed"
    },
    "tags": []
   },
   "source": [
    "# Transform Data"
   ]
  },
  {
   "cell_type": "code",
   "execution_count": 3,
   "id": "fac41077",
   "metadata": {
    "execution": {
     "iopub.execute_input": "2023-03-15T19:53:00.803249Z",
     "iopub.status.busy": "2023-03-15T19:53:00.802089Z",
     "iopub.status.idle": "2023-03-15T19:53:01.701500Z",
     "shell.execute_reply": "2023-03-15T19:53:01.700364Z"
    },
    "papermill": {
     "duration": 0.908531,
     "end_time": "2023-03-15T19:53:01.704632",
     "exception": false,
     "start_time": "2023-03-15T19:53:00.796101",
     "status": "completed"
    },
    "tags": []
   },
   "outputs": [],
   "source": [
    "season_team_features = get_team_features(season_results)\n",
    "\n",
    "tournament_results[\"Season\"] += 1\n",
    "tournament_team_features = get_team_features(tournament_results)\n",
    "\n",
    "seed_features = get_seed_features(seeds)\n",
    "\n",
    "ranking_features = get_ranking_features(rankings)"
   ]
  },
  {
   "cell_type": "markdown",
   "id": "514f97e8",
   "metadata": {
    "execution": {
     "iopub.execute_input": "2022-03-17T02:19:13.394565Z",
     "iopub.status.busy": "2022-03-17T02:19:13.394252Z",
     "iopub.status.idle": "2022-03-17T02:19:13.39899Z",
     "shell.execute_reply": "2022-03-17T02:19:13.397787Z",
     "shell.execute_reply.started": "2022-03-17T02:19:13.394538Z"
    },
    "papermill": {
     "duration": 0.004471,
     "end_time": "2023-03-15T19:53:01.714108",
     "exception": false,
     "start_time": "2023-03-15T19:53:01.709637",
     "status": "completed"
    },
    "tags": []
   },
   "source": [
    "## Merge features"
   ]
  },
  {
   "cell_type": "code",
   "execution_count": 4,
   "id": "d613883a",
   "metadata": {
    "execution": {
     "iopub.execute_input": "2023-03-15T19:53:01.725805Z",
     "iopub.status.busy": "2023-03-15T19:53:01.725106Z",
     "iopub.status.idle": "2023-03-15T19:53:01.750299Z",
     "shell.execute_reply": "2023-03-15T19:53:01.749034Z"
    },
    "papermill": {
     "duration": 0.034438,
     "end_time": "2023-03-15T19:53:01.753392",
     "exception": false,
     "start_time": "2023-03-15T19:53:01.718954",
     "status": "completed"
    },
    "tags": []
   },
   "outputs": [],
   "source": [
    "features = merge_features(season_team_features, tournament_team_features, seed_features, ranking_features)"
   ]
  },
  {
   "cell_type": "markdown",
   "id": "3abe4d21",
   "metadata": {
    "papermill": {
     "duration": 0.005018,
     "end_time": "2023-03-15T19:53:01.764053",
     "exception": false,
     "start_time": "2023-03-15T19:53:01.759035",
     "status": "completed"
    },
    "tags": []
   },
   "source": [
    "## Build Datasets"
   ]
  },
  {
   "cell_type": "code",
   "execution_count": 5,
   "id": "4bc8ac7c",
   "metadata": {
    "execution": {
     "iopub.execute_input": "2023-03-15T19:53:01.776332Z",
     "iopub.status.busy": "2023-03-15T19:53:01.775892Z",
     "iopub.status.idle": "2023-03-15T19:53:02.479427Z",
     "shell.execute_reply": "2023-03-15T19:53:02.475611Z"
    },
    "papermill": {
     "duration": 0.713576,
     "end_time": "2023-03-15T19:53:02.482860",
     "exception": false,
     "start_time": "2023-03-15T19:53:01.769284",
     "status": "completed"
    },
    "tags": []
   },
   "outputs": [],
   "source": [
    "from sklearn.model_selection import train_test_split\n",
    "\n",
    "data = extract_data(\"NCAATourneyCompactResults\")\n",
    "data_train, data_valid = train_test_split(data, random_state=0, test_size=0.1)\n",
    "\n",
    "outcomes = get_game_outcomes(data)\n",
    "outcomes_train = get_game_outcomes(data_train)\n",
    "outcomes_valid = get_game_outcomes(data_valid)\n",
    "outcomes_submission = get_submission_outcomes()"
   ]
  },
  {
   "cell_type": "code",
   "execution_count": 6,
   "id": "24fa4f96",
   "metadata": {
    "execution": {
     "iopub.execute_input": "2023-03-15T19:53:02.495816Z",
     "iopub.status.busy": "2023-03-15T19:53:02.495417Z",
     "iopub.status.idle": "2023-03-15T19:53:02.941632Z",
     "shell.execute_reply": "2023-03-15T19:53:02.940309Z"
    },
    "papermill": {
     "duration": 0.455822,
     "end_time": "2023-03-15T19:53:02.944792",
     "exception": false,
     "start_time": "2023-03-15T19:53:02.488970",
     "status": "completed"
    },
    "tags": []
   },
   "outputs": [],
   "source": [
    "features_train = merge_outcomes_with_features(outcomes_train, features)\n",
    "features_valid = merge_outcomes_with_features(outcomes_valid, features)\n",
    "features_full = merge_outcomes_with_features(outcomes, features)"
   ]
  },
  {
   "cell_type": "code",
   "execution_count": 7,
   "id": "91fb5703",
   "metadata": {
    "execution": {
     "iopub.execute_input": "2023-03-15T19:53:02.957796Z",
     "iopub.status.busy": "2023-03-15T19:53:02.956677Z",
     "iopub.status.idle": "2023-03-15T19:53:12.616218Z",
     "shell.execute_reply": "2023-03-15T19:53:12.615034Z"
    },
    "papermill": {
     "duration": 9.669176,
     "end_time": "2023-03-15T19:53:12.619379",
     "exception": false,
     "start_time": "2023-03-15T19:53:02.950203",
     "status": "completed"
    },
    "tags": []
   },
   "outputs": [],
   "source": [
    "y_train = features_train[\"Win\"]\n",
    "X_train = features_train.drop(\"Win\", axis=1)\n",
    "y_valid = features_valid[\"Win\"]\n",
    "X_valid = features_valid.drop(\"Win\", axis=1)\n",
    "y = features_full[\"Win\"]\n",
    "X = features_full.drop(\"Win\", axis=1)\n",
    "X_submission = merge_outcomes_with_features(outcomes_submission, features, how=\"left\").fillna(0)"
   ]
  },
  {
   "cell_type": "markdown",
   "id": "74b54700",
   "metadata": {
    "papermill": {
     "duration": 0.004397,
     "end_time": "2023-03-15T19:53:12.628802",
     "exception": false,
     "start_time": "2023-03-15T19:53:12.624405",
     "status": "completed"
    },
    "tags": []
   },
   "source": [
    "# Step 4: Train a model\n"
   ]
  },
  {
   "cell_type": "code",
   "execution_count": 8,
   "id": "255ca1c4",
   "metadata": {
    "execution": {
     "iopub.execute_input": "2023-03-15T19:53:12.639866Z",
     "iopub.status.busy": "2023-03-15T19:53:12.639138Z",
     "iopub.status.idle": "2023-03-15T19:54:12.696155Z",
     "shell.execute_reply": "2023-03-15T19:54:12.695078Z"
    },
    "papermill": {
     "duration": 60.065778,
     "end_time": "2023-03-15T19:54:12.699166",
     "exception": false,
     "start_time": "2023-03-15T19:53:12.633388",
     "status": "completed"
    },
    "tags": []
   },
   "outputs": [
    {
     "name": "stderr",
     "output_type": "stream",
     "text": [
      "\u001b[32m[I 2023-03-15 19:53:12,641]\u001b[0m A new study created in memory with name: no-name-f36b7f1a-7481-4c17-b702-a68c31a685d2\u001b[0m\n"
     ]
    },
    {
     "name": "stdout",
     "output_type": "stream",
     "text": [
      "[LightGBM] [Warning] bagging_fraction is set=0.9790623191528176, subsample=1.0 will be ignored. Current value: bagging_fraction=0.9790623191528176\n",
      "[LightGBM] [Warning] lambda_l1 is set=0.005336196346899993, reg_alpha=0.0 will be ignored. Current value: lambda_l1=0.005336196346899993\n",
      "[LightGBM] [Warning] feature_fraction is set=0.6878851478876501, colsample_bytree=1.0 will be ignored. Current value: feature_fraction=0.6878851478876501\n",
      "[LightGBM] [Warning] lambda_l2 is set=5.8279407579683e-05, reg_lambda=0.0 will be ignored. Current value: lambda_l2=5.8279407579683e-05\n",
      "[LightGBM] [Warning] bagging_freq is set=3, subsample_freq=0 will be ignored. Current value: bagging_freq=3\n",
      "[LightGBM] [Warning] bagging_fraction is set=0.9790623191528176, subsample=1.0 will be ignored. Current value: bagging_fraction=0.9790623191528176\n",
      "[LightGBM] [Warning] lambda_l1 is set=0.005336196346899993, reg_alpha=0.0 will be ignored. Current value: lambda_l1=0.005336196346899993\n",
      "[LightGBM] [Warning] feature_fraction is set=0.6878851478876501, colsample_bytree=1.0 will be ignored. Current value: feature_fraction=0.6878851478876501\n",
      "[LightGBM] [Warning] lambda_l2 is set=5.8279407579683e-05, reg_lambda=0.0 will be ignored. Current value: lambda_l2=5.8279407579683e-05\n",
      "[LightGBM] [Warning] bagging_freq is set=3, subsample_freq=0 will be ignored. Current value: bagging_freq=3\n",
      "[LightGBM] [Warning] bagging_fraction is set=0.9790623191528176, subsample=1.0 will be ignored. Current value: bagging_fraction=0.9790623191528176\n",
      "[LightGBM] [Warning] lambda_l1 is set=0.005336196346899993, reg_alpha=0.0 will be ignored. Current value: lambda_l1=0.005336196346899993\n",
      "[LightGBM] [Warning] feature_fraction is set=0.6878851478876501, colsample_bytree=1.0 will be ignored. Current value: feature_fraction=0.6878851478876501\n",
      "[LightGBM] [Warning] lambda_l2 is set=5.8279407579683e-05, reg_lambda=0.0 will be ignored. Current value: lambda_l2=5.8279407579683e-05\n",
      "[LightGBM] [Warning] bagging_freq is set=3, subsample_freq=0 will be ignored. Current value: bagging_freq=3\n",
      "[LightGBM] [Warning] bagging_fraction is set=0.9790623191528176, subsample=1.0 will be ignored. Current value: bagging_fraction=0.9790623191528176\n",
      "[LightGBM] [Warning] lambda_l1 is set=0.005336196346899993, reg_alpha=0.0 will be ignored. Current value: lambda_l1=0.005336196346899993\n",
      "[LightGBM] [Warning] feature_fraction is set=0.6878851478876501, colsample_bytree=1.0 will be ignored. Current value: feature_fraction=0.6878851478876501\n",
      "[LightGBM] [Warning] lambda_l2 is set=5.8279407579683e-05, reg_lambda=0.0 will be ignored. Current value: lambda_l2=5.8279407579683e-05\n",
      "[LightGBM] [Warning] bagging_freq is set=3, subsample_freq=0 will be ignored. Current value: bagging_freq=3\n"
     ]
    },
    {
     "name": "stderr",
     "output_type": "stream",
     "text": [
      "\u001b[32m[I 2023-03-15 19:53:13,364]\u001b[0m Trial 0 finished with value: 0.7459189468160761 and parameters: {'lambda_l1': 0.005336196346899993, 'lambda_l2': 5.8279407579683e-05, 'num_leaves': 85, 'feature_fraction': 0.6878851478876501, 'bagging_fraction': 0.9790623191528176, 'bagging_freq': 3, 'min_child_samples': 75}. Best is trial 0 with value: 0.7459189468160761.\u001b[0m\n"
     ]
    },
    {
     "name": "stdout",
     "output_type": "stream",
     "text": [
      "[LightGBM] [Warning] bagging_fraction is set=0.9790623191528176, subsample=1.0 will be ignored. Current value: bagging_fraction=0.9790623191528176\n",
      "[LightGBM] [Warning] lambda_l1 is set=0.005336196346899993, reg_alpha=0.0 will be ignored. Current value: lambda_l1=0.005336196346899993\n",
      "[LightGBM] [Warning] feature_fraction is set=0.6878851478876501, colsample_bytree=1.0 will be ignored. Current value: feature_fraction=0.6878851478876501\n",
      "[LightGBM] [Warning] lambda_l2 is set=5.8279407579683e-05, reg_lambda=0.0 will be ignored. Current value: lambda_l2=5.8279407579683e-05\n",
      "[LightGBM] [Warning] bagging_freq is set=3, subsample_freq=0 will be ignored. Current value: bagging_freq=3\n",
      "[LightGBM] [Warning] bagging_fraction is set=0.5416017760438439, subsample=1.0 will be ignored. Current value: bagging_fraction=0.5416017760438439\n",
      "[LightGBM] [Warning] lambda_l1 is set=0.34549202613780483, reg_alpha=0.0 will be ignored. Current value: lambda_l1=0.34549202613780483\n",
      "[LightGBM] [Warning] feature_fraction is set=0.9455395056642674, colsample_bytree=1.0 will be ignored. Current value: feature_fraction=0.9455395056642674\n",
      "[LightGBM] [Warning] lambda_l2 is set=0.03235389294398412, reg_lambda=0.0 will be ignored. Current value: lambda_l2=0.03235389294398412\n",
      "[LightGBM] [Warning] bagging_freq is set=1, subsample_freq=0 will be ignored. Current value: bagging_freq=1\n",
      "[LightGBM] [Warning] bagging_fraction is set=0.5416017760438439, subsample=1.0 will be ignored. Current value: bagging_fraction=0.5416017760438439\n",
      "[LightGBM] [Warning] lambda_l1 is set=0.34549202613780483, reg_alpha=0.0 will be ignored. Current value: lambda_l1=0.34549202613780483\n",
      "[LightGBM] [Warning] feature_fraction is set=0.9455395056642674, colsample_bytree=1.0 will be ignored. Current value: feature_fraction=0.9455395056642674\n",
      "[LightGBM] [Warning] lambda_l2 is set=0.03235389294398412, reg_lambda=0.0 will be ignored. Current value: lambda_l2=0.03235389294398412\n",
      "[LightGBM] [Warning] bagging_freq is set=1, subsample_freq=0 will be ignored. Current value: bagging_freq=1\n",
      "[LightGBM] [Warning] bagging_fraction is set=0.5416017760438439, subsample=1.0 will be ignored. Current value: bagging_fraction=0.5416017760438439\n",
      "[LightGBM] [Warning] lambda_l1 is set=0.34549202613780483, reg_alpha=0.0 will be ignored. Current value: lambda_l1=0.34549202613780483\n",
      "[LightGBM] [Warning] feature_fraction is set=0.9455395056642674, colsample_bytree=1.0 will be ignored. Current value: feature_fraction=0.9455395056642674\n",
      "[LightGBM] [Warning] lambda_l2 is set=0.03235389294398412, reg_lambda=0.0 will be ignored. Current value: lambda_l2=0.03235389294398412\n",
      "[LightGBM] [Warning] bagging_freq is set=1, subsample_freq=0 will be ignored. Current value: bagging_freq=1\n",
      "[LightGBM] [Warning] bagging_fraction is set=0.5416017760438439, subsample=1.0 will be ignored. Current value: bagging_fraction=0.5416017760438439\n",
      "[LightGBM] [Warning] lambda_l1 is set=0.34549202613780483, reg_alpha=0.0 will be ignored. Current value: lambda_l1=0.34549202613780483\n",
      "[LightGBM] [Warning] feature_fraction is set=0.9455395056642674, colsample_bytree=1.0 will be ignored. Current value: feature_fraction=0.9455395056642674\n",
      "[LightGBM] [Warning] lambda_l2 is set=0.03235389294398412, reg_lambda=0.0 will be ignored. Current value: lambda_l2=0.03235389294398412\n",
      "[LightGBM] [Warning] bagging_freq is set=1, subsample_freq=0 will be ignored. Current value: bagging_freq=1\n",
      "[LightGBM] [Warning] bagging_fraction is set=0.5416017760438439, subsample=1.0 will be ignored. Current value: bagging_fraction=0.5416017760438439\n",
      "[LightGBM] [Warning] lambda_l1 is set=0.34549202613780483, reg_alpha=0.0 will be ignored. Current value: lambda_l1=0.34549202613780483\n",
      "[LightGBM] [Warning] feature_fraction is set=0.9455395056642674, colsample_bytree=1.0 will be ignored. Current value: feature_fraction=0.9455395056642674\n",
      "[LightGBM] [Warning] lambda_l2 is set=0.03235389294398412, reg_lambda=0.0 will be ignored. Current value: lambda_l2=0.03235389294398412\n",
      "[LightGBM] [Warning] bagging_freq is set=1, subsample_freq=0 will be ignored. Current value: bagging_freq=1\n"
     ]
    },
    {
     "name": "stderr",
     "output_type": "stream",
     "text": [
      "\u001b[32m[I 2023-03-15 19:53:14,239]\u001b[0m Trial 1 finished with value: 0.7450804179871164 and parameters: {'lambda_l1': 0.34549202613780483, 'lambda_l2': 0.03235389294398412, 'num_leaves': 83, 'feature_fraction': 0.9455395056642674, 'bagging_fraction': 0.5416017760438439, 'bagging_freq': 1, 'min_child_samples': 29}. Best is trial 0 with value: 0.7459189468160761.\u001b[0m\n"
     ]
    },
    {
     "name": "stdout",
     "output_type": "stream",
     "text": [
      "[LightGBM] [Warning] bagging_fraction is set=0.8144566614963602, subsample=1.0 will be ignored. Current value: bagging_fraction=0.8144566614963602\n",
      "[LightGBM] [Warning] lambda_l1 is set=9.228562114324456, reg_alpha=0.0 will be ignored. Current value: lambda_l1=9.228562114324456\n",
      "[LightGBM] [Warning] feature_fraction is set=0.6424671812046476, colsample_bytree=1.0 will be ignored. Current value: feature_fraction=0.6424671812046476\n",
      "[LightGBM] [Warning] lambda_l2 is set=0.13944629542127346, reg_lambda=0.0 will be ignored. Current value: lambda_l2=0.13944629542127346\n",
      "[LightGBM] [Warning] bagging_freq is set=2, subsample_freq=0 will be ignored. Current value: bagging_freq=2\n",
      "[LightGBM] [Warning] bagging_fraction is set=0.8144566614963602, subsample=1.0 will be ignored. Current value: bagging_fraction=0.8144566614963602\n",
      "[LightGBM] [Warning] lambda_l1 is set=9.228562114324456, reg_alpha=0.0 will be ignored. Current value: lambda_l1=9.228562114324456\n",
      "[LightGBM] [Warning] feature_fraction is set=0.6424671812046476, colsample_bytree=1.0 will be ignored. Current value: feature_fraction=0.6424671812046476\n",
      "[LightGBM] [Warning] lambda_l2 is set=0.13944629542127346, reg_lambda=0.0 will be ignored. Current value: lambda_l2=0.13944629542127346\n",
      "[LightGBM] [Warning] bagging_freq is set=2, subsample_freq=0 will be ignored. Current value: bagging_freq=2\n",
      "[LightGBM] [Warning] bagging_fraction is set=0.8144566614963602, subsample=1.0 will be ignored. Current value: bagging_fraction=0.8144566614963602\n",
      "[LightGBM] [Warning] lambda_l1 is set=9.228562114324456, reg_alpha=0.0 will be ignored. Current value: lambda_l1=9.228562114324456\n",
      "[LightGBM] [Warning] feature_fraction is set=0.6424671812046476, colsample_bytree=1.0 will be ignored. Current value: feature_fraction=0.6424671812046476\n",
      "[LightGBM] [Warning] lambda_l2 is set=0.13944629542127346, reg_lambda=0.0 will be ignored. Current value: lambda_l2=0.13944629542127346\n",
      "[LightGBM] [Warning] bagging_freq is set=2, subsample_freq=0 will be ignored. Current value: bagging_freq=2\n",
      "[LightGBM] [Warning] bagging_fraction is set=0.8144566614963602, subsample=1.0 will be ignored. Current value: bagging_fraction=0.8144566614963602\n",
      "[LightGBM] [Warning] lambda_l1 is set=9.228562114324456, reg_alpha=0.0 will be ignored. Current value: lambda_l1=9.228562114324456\n",
      "[LightGBM] [Warning] feature_fraction is set=0.6424671812046476, colsample_bytree=1.0 will be ignored. Current value: feature_fraction=0.6424671812046476\n",
      "[LightGBM] [Warning] lambda_l2 is set=0.13944629542127346, reg_lambda=0.0 will be ignored. Current value: lambda_l2=0.13944629542127346\n",
      "[LightGBM] [Warning] bagging_freq is set=2, subsample_freq=0 will be ignored. Current value: bagging_freq=2\n"
     ]
    },
    {
     "name": "stderr",
     "output_type": "stream",
     "text": [
      "\u001b[32m[I 2023-03-15 19:53:15,280]\u001b[0m Trial 2 finished with value: 0.7682617356062332 and parameters: {'lambda_l1': 9.228562114324456, 'lambda_l2': 0.13944629542127346, 'num_leaves': 102, 'feature_fraction': 0.6424671812046476, 'bagging_fraction': 0.8144566614963602, 'bagging_freq': 2, 'min_child_samples': 20}. Best is trial 2 with value: 0.7682617356062332.\u001b[0m\n"
     ]
    },
    {
     "name": "stdout",
     "output_type": "stream",
     "text": [
      "[LightGBM] [Warning] bagging_fraction is set=0.8144566614963602, subsample=1.0 will be ignored. Current value: bagging_fraction=0.8144566614963602\n",
      "[LightGBM] [Warning] lambda_l1 is set=9.228562114324456, reg_alpha=0.0 will be ignored. Current value: lambda_l1=9.228562114324456\n",
      "[LightGBM] [Warning] feature_fraction is set=0.6424671812046476, colsample_bytree=1.0 will be ignored. Current value: feature_fraction=0.6424671812046476\n",
      "[LightGBM] [Warning] lambda_l2 is set=0.13944629542127346, reg_lambda=0.0 will be ignored. Current value: lambda_l2=0.13944629542127346\n",
      "[LightGBM] [Warning] bagging_freq is set=2, subsample_freq=0 will be ignored. Current value: bagging_freq=2\n",
      "[LightGBM] [Warning] bagging_fraction is set=0.9931829028505946, subsample=1.0 will be ignored. Current value: bagging_fraction=0.9931829028505946\n",
      "[LightGBM] [Warning] lambda_l1 is set=1.2973743707499544e-08, reg_alpha=0.0 will be ignored. Current value: lambda_l1=1.2973743707499544e-08\n",
      "[LightGBM] [Warning] feature_fraction is set=0.6997522252430173, colsample_bytree=1.0 will be ignored. Current value: feature_fraction=0.6997522252430173\n",
      "[LightGBM] [Warning] lambda_l2 is set=9.436165351428764e-06, reg_lambda=0.0 will be ignored. Current value: lambda_l2=9.436165351428764e-06\n",
      "[LightGBM] [Warning] bagging_freq is set=2, subsample_freq=0 will be ignored. Current value: bagging_freq=2\n",
      "[LightGBM] [Warning] bagging_fraction is set=0.9931829028505946, subsample=1.0 will be ignored. Current value: bagging_fraction=0.9931829028505946\n",
      "[LightGBM] [Warning] lambda_l1 is set=1.2973743707499544e-08, reg_alpha=0.0 will be ignored. Current value: lambda_l1=1.2973743707499544e-08\n",
      "[LightGBM] [Warning] feature_fraction is set=0.6997522252430173, colsample_bytree=1.0 will be ignored. Current value: feature_fraction=0.6997522252430173\n",
      "[LightGBM] [Warning] lambda_l2 is set=9.436165351428764e-06, reg_lambda=0.0 will be ignored. Current value: lambda_l2=9.436165351428764e-06\n",
      "[LightGBM] [Warning] bagging_freq is set=2, subsample_freq=0 will be ignored. Current value: bagging_freq=2\n",
      "[LightGBM] [Warning] bagging_fraction is set=0.9931829028505946, subsample=1.0 will be ignored. Current value: bagging_fraction=0.9931829028505946\n",
      "[LightGBM] [Warning] lambda_l1 is set=1.2973743707499544e-08, reg_alpha=0.0 will be ignored. Current value: lambda_l1=1.2973743707499544e-08\n",
      "[LightGBM] [Warning] feature_fraction is set=0.6997522252430173, colsample_bytree=1.0 will be ignored. Current value: feature_fraction=0.6997522252430173\n",
      "[LightGBM] [Warning] lambda_l2 is set=9.436165351428764e-06, reg_lambda=0.0 will be ignored. Current value: lambda_l2=9.436165351428764e-06\n",
      "[LightGBM] [Warning] bagging_freq is set=2, subsample_freq=0 will be ignored. Current value: bagging_freq=2\n",
      "[LightGBM] [Warning] bagging_fraction is set=0.9931829028505946, subsample=1.0 will be ignored. Current value: bagging_fraction=0.9931829028505946\n",
      "[LightGBM] [Warning] lambda_l1 is set=1.2973743707499544e-08, reg_alpha=0.0 will be ignored. Current value: lambda_l1=1.2973743707499544e-08\n",
      "[LightGBM] [Warning] feature_fraction is set=0.6997522252430173, colsample_bytree=1.0 will be ignored. Current value: feature_fraction=0.6997522252430173\n",
      "[LightGBM] [Warning] lambda_l2 is set=9.436165351428764e-06, reg_lambda=0.0 will be ignored. Current value: lambda_l2=9.436165351428764e-06\n",
      "[LightGBM] [Warning] bagging_freq is set=2, subsample_freq=0 will be ignored. Current value: bagging_freq=2\n",
      "[LightGBM] [Warning] bagging_fraction is set=0.9931829028505946, subsample=1.0 will be ignored. Current value: bagging_fraction=0.9931829028505946\n",
      "[LightGBM] [Warning] lambda_l1 is set=1.2973743707499544e-08, reg_alpha=0.0 will be ignored. Current value: lambda_l1=1.2973743707499544e-08\n",
      "[LightGBM] [Warning] feature_fraction is set=0.6997522252430173, colsample_bytree=1.0 will be ignored. Current value: feature_fraction=0.6997522252430173\n",
      "[LightGBM] [Warning] lambda_l2 is set=9.436165351428764e-06, reg_lambda=0.0 will be ignored. Current value: lambda_l2=9.436165351428764e-06\n",
      "[LightGBM] [Warning] bagging_freq is set=2, subsample_freq=0 will be ignored. Current value: bagging_freq=2\n"
     ]
    },
    {
     "name": "stderr",
     "output_type": "stream",
     "text": [
      "\u001b[32m[I 2023-03-15 19:53:16,019]\u001b[0m Trial 3 finished with value: 0.7417063664671321 and parameters: {'lambda_l1': 1.2973743707499544e-08, 'lambda_l2': 9.436165351428764e-06, 'num_leaves': 93, 'feature_fraction': 0.6997522252430173, 'bagging_fraction': 0.9931829028505946, 'bagging_freq': 2, 'min_child_samples': 69}. Best is trial 2 with value: 0.7682617356062332.\u001b[0m\n"
     ]
    },
    {
     "name": "stdout",
     "output_type": "stream",
     "text": [
      "[LightGBM] [Warning] bagging_fraction is set=0.5541056132174602, subsample=1.0 will be ignored. Current value: bagging_fraction=0.5541056132174602\n",
      "[LightGBM] [Warning] lambda_l1 is set=0.4919463646329871, reg_alpha=0.0 will be ignored. Current value: lambda_l1=0.4919463646329871\n",
      "[LightGBM] [Warning] feature_fraction is set=0.9753837922509475, colsample_bytree=1.0 will be ignored. Current value: feature_fraction=0.9753837922509475\n",
      "[LightGBM] [Warning] lambda_l2 is set=0.016137882087548776, reg_lambda=0.0 will be ignored. Current value: lambda_l2=0.016137882087548776\n",
      "[LightGBM] [Warning] bagging_freq is set=1, subsample_freq=0 will be ignored. Current value: bagging_freq=1\n",
      "[LightGBM] [Warning] bagging_fraction is set=0.5541056132174602, subsample=1.0 will be ignored. Current value: bagging_fraction=0.5541056132174602\n",
      "[LightGBM] [Warning] lambda_l1 is set=0.4919463646329871, reg_alpha=0.0 will be ignored. Current value: lambda_l1=0.4919463646329871\n",
      "[LightGBM] [Warning] feature_fraction is set=0.9753837922509475, colsample_bytree=1.0 will be ignored. Current value: feature_fraction=0.9753837922509475\n",
      "[LightGBM] [Warning] lambda_l2 is set=0.016137882087548776, reg_lambda=0.0 will be ignored. Current value: lambda_l2=0.016137882087548776\n",
      "[LightGBM] [Warning] bagging_freq is set=1, subsample_freq=0 will be ignored. Current value: bagging_freq=1\n",
      "[LightGBM] [Warning] bagging_fraction is set=0.5541056132174602, subsample=1.0 will be ignored. Current value: bagging_fraction=0.5541056132174602\n",
      "[LightGBM] [Warning] lambda_l1 is set=0.4919463646329871, reg_alpha=0.0 will be ignored. Current value: lambda_l1=0.4919463646329871\n",
      "[LightGBM] [Warning] feature_fraction is set=0.9753837922509475, colsample_bytree=1.0 will be ignored. Current value: feature_fraction=0.9753837922509475\n",
      "[LightGBM] [Warning] lambda_l2 is set=0.016137882087548776, reg_lambda=0.0 will be ignored. Current value: lambda_l2=0.016137882087548776\n",
      "[LightGBM] [Warning] bagging_freq is set=1, subsample_freq=0 will be ignored. Current value: bagging_freq=1\n"
     ]
    },
    {
     "name": "stderr",
     "output_type": "stream",
     "text": [
      "\u001b[32m[I 2023-03-15 19:53:16,482]\u001b[0m Trial 4 finished with value: 0.7535161940664332 and parameters: {'lambda_l1': 0.4919463646329871, 'lambda_l2': 0.016137882087548776, 'num_leaves': 82, 'feature_fraction': 0.9753837922509475, 'bagging_fraction': 0.5541056132174602, 'bagging_freq': 1, 'min_child_samples': 95}. Best is trial 2 with value: 0.7682617356062332.\u001b[0m\n"
     ]
    },
    {
     "name": "stdout",
     "output_type": "stream",
     "text": [
      "[LightGBM] [Warning] bagging_fraction is set=0.5541056132174602, subsample=1.0 will be ignored. Current value: bagging_fraction=0.5541056132174602\n",
      "[LightGBM] [Warning] lambda_l1 is set=0.4919463646329871, reg_alpha=0.0 will be ignored. Current value: lambda_l1=0.4919463646329871\n",
      "[LightGBM] [Warning] feature_fraction is set=0.9753837922509475, colsample_bytree=1.0 will be ignored. Current value: feature_fraction=0.9753837922509475\n",
      "[LightGBM] [Warning] lambda_l2 is set=0.016137882087548776, reg_lambda=0.0 will be ignored. Current value: lambda_l2=0.016137882087548776\n",
      "[LightGBM] [Warning] bagging_freq is set=1, subsample_freq=0 will be ignored. Current value: bagging_freq=1\n",
      "[LightGBM] [Warning] bagging_fraction is set=0.5541056132174602, subsample=1.0 will be ignored. Current value: bagging_fraction=0.5541056132174602\n",
      "[LightGBM] [Warning] lambda_l1 is set=0.4919463646329871, reg_alpha=0.0 will be ignored. Current value: lambda_l1=0.4919463646329871\n",
      "[LightGBM] [Warning] feature_fraction is set=0.9753837922509475, colsample_bytree=1.0 will be ignored. Current value: feature_fraction=0.9753837922509475\n",
      "[LightGBM] [Warning] lambda_l2 is set=0.016137882087548776, reg_lambda=0.0 will be ignored. Current value: lambda_l2=0.016137882087548776\n",
      "[LightGBM] [Warning] bagging_freq is set=1, subsample_freq=0 will be ignored. Current value: bagging_freq=1\n",
      "[LightGBM] [Warning] bagging_fraction is set=0.7456212045636127, subsample=1.0 will be ignored. Current value: bagging_fraction=0.7456212045636127\n",
      "[LightGBM] [Warning] lambda_l1 is set=4.565896688530319e-08, reg_alpha=0.0 will be ignored. Current value: lambda_l1=4.565896688530319e-08\n",
      "[LightGBM] [Warning] feature_fraction is set=0.6323114298958775, colsample_bytree=1.0 will be ignored. Current value: feature_fraction=0.6323114298958775\n",
      "[LightGBM] [Warning] lambda_l2 is set=3.500489431994821e-08, reg_lambda=0.0 will be ignored. Current value: lambda_l2=3.500489431994821e-08\n",
      "[LightGBM] [Warning] bagging_freq is set=1, subsample_freq=0 will be ignored. Current value: bagging_freq=1\n",
      "[LightGBM] [Warning] bagging_fraction is set=0.7456212045636127, subsample=1.0 will be ignored. Current value: bagging_fraction=0.7456212045636127\n",
      "[LightGBM] [Warning] lambda_l1 is set=4.565896688530319e-08, reg_alpha=0.0 will be ignored. Current value: lambda_l1=4.565896688530319e-08\n",
      "[LightGBM] [Warning] feature_fraction is set=0.6323114298958775, colsample_bytree=1.0 will be ignored. Current value: feature_fraction=0.6323114298958775\n",
      "[LightGBM] [Warning] lambda_l2 is set=3.500489431994821e-08, reg_lambda=0.0 will be ignored. Current value: lambda_l2=3.500489431994821e-08\n",
      "[LightGBM] [Warning] bagging_freq is set=1, subsample_freq=0 will be ignored. Current value: bagging_freq=1\n",
      "[LightGBM] [Warning] bagging_fraction is set=0.7456212045636127, subsample=1.0 will be ignored. Current value: bagging_fraction=0.7456212045636127\n",
      "[LightGBM] [Warning] lambda_l1 is set=4.565896688530319e-08, reg_alpha=0.0 will be ignored. Current value: lambda_l1=4.565896688530319e-08\n",
      "[LightGBM] [Warning] feature_fraction is set=0.6323114298958775, colsample_bytree=1.0 will be ignored. Current value: feature_fraction=0.6323114298958775\n",
      "[LightGBM] [Warning] lambda_l2 is set=3.500489431994821e-08, reg_lambda=0.0 will be ignored. Current value: lambda_l2=3.500489431994821e-08\n",
      "[LightGBM] [Warning] bagging_freq is set=1, subsample_freq=0 will be ignored. Current value: bagging_freq=1\n",
      "[LightGBM] [Warning] bagging_fraction is set=0.7456212045636127, subsample=1.0 will be ignored. Current value: bagging_fraction=0.7456212045636127\n",
      "[LightGBM] [Warning] lambda_l1 is set=4.565896688530319e-08, reg_alpha=0.0 will be ignored. Current value: lambda_l1=4.565896688530319e-08\n",
      "[LightGBM] [Warning] feature_fraction is set=0.6323114298958775, colsample_bytree=1.0 will be ignored. Current value: feature_fraction=0.6323114298958775\n",
      "[LightGBM] [Warning] lambda_l2 is set=3.500489431994821e-08, reg_lambda=0.0 will be ignored. Current value: lambda_l2=3.500489431994821e-08\n",
      "[LightGBM] [Warning] bagging_freq is set=1, subsample_freq=0 will be ignored. Current value: bagging_freq=1\n",
      "[LightGBM] [Warning] bagging_fraction is set=0.7456212045636127, subsample=1.0 will be ignored. Current value: bagging_fraction=0.7456212045636127\n",
      "[LightGBM] [Warning] lambda_l1 is set=4.565896688530319e-08, reg_alpha=0.0 will be ignored. Current value: lambda_l1=4.565896688530319e-08\n",
      "[LightGBM] [Warning] feature_fraction is set=0.6323114298958775, colsample_bytree=1.0 will be ignored. Current value: feature_fraction=0.6323114298958775\n",
      "[LightGBM] [Warning] lambda_l2 is set=3.500489431994821e-08, reg_lambda=0.0 will be ignored. Current value: lambda_l2=3.500489431994821e-08\n",
      "[LightGBM] [Warning] bagging_freq is set=1, subsample_freq=0 will be ignored. Current value: bagging_freq=1\n"
     ]
    },
    {
     "name": "stderr",
     "output_type": "stream",
     "text": [
      "\u001b[32m[I 2023-03-15 19:53:17,035]\u001b[0m Trial 5 finished with value: 0.7514059770638718 and parameters: {'lambda_l1': 4.565896688530319e-08, 'lambda_l2': 3.500489431994821e-08, 'num_leaves': 247, 'feature_fraction': 0.6323114298958775, 'bagging_fraction': 0.7456212045636127, 'bagging_freq': 1, 'min_child_samples': 74}. Best is trial 2 with value: 0.7682617356062332.\u001b[0m\n"
     ]
    },
    {
     "name": "stdout",
     "output_type": "stream",
     "text": [
      "[LightGBM] [Warning] bagging_fraction is set=0.6954253894336063, subsample=1.0 will be ignored. Current value: bagging_fraction=0.6954253894336063\n",
      "[LightGBM] [Warning] lambda_l1 is set=2.71848914854202, reg_alpha=0.0 will be ignored. Current value: lambda_l1=2.71848914854202\n",
      "[LightGBM] [Warning] feature_fraction is set=0.513457565324115, colsample_bytree=1.0 will be ignored. Current value: feature_fraction=0.513457565324115\n",
      "[LightGBM] [Warning] lambda_l2 is set=0.00015741768932184318, reg_lambda=0.0 will be ignored. Current value: lambda_l2=0.00015741768932184318\n",
      "[LightGBM] [Warning] bagging_freq is set=5, subsample_freq=0 will be ignored. Current value: bagging_freq=5\n",
      "[LightGBM] [Warning] bagging_fraction is set=0.6954253894336063, subsample=1.0 will be ignored. Current value: bagging_fraction=0.6954253894336063\n",
      "[LightGBM] [Warning] lambda_l1 is set=2.71848914854202, reg_alpha=0.0 will be ignored. Current value: lambda_l1=2.71848914854202\n",
      "[LightGBM] [Warning] feature_fraction is set=0.513457565324115, colsample_bytree=1.0 will be ignored. Current value: feature_fraction=0.513457565324115\n",
      "[LightGBM] [Warning] lambda_l2 is set=0.00015741768932184318, reg_lambda=0.0 will be ignored. Current value: lambda_l2=0.00015741768932184318\n",
      "[LightGBM] [Warning] bagging_freq is set=5, subsample_freq=0 will be ignored. Current value: bagging_freq=5\n",
      "[LightGBM] [Warning] bagging_fraction is set=0.6954253894336063, subsample=1.0 will be ignored. Current value: bagging_fraction=0.6954253894336063\n",
      "[LightGBM] [Warning] lambda_l1 is set=2.71848914854202, reg_alpha=0.0 will be ignored. Current value: lambda_l1=2.71848914854202\n",
      "[LightGBM] [Warning] feature_fraction is set=0.513457565324115, colsample_bytree=1.0 will be ignored. Current value: feature_fraction=0.513457565324115\n",
      "[LightGBM] [Warning] lambda_l2 is set=0.00015741768932184318, reg_lambda=0.0 will be ignored. Current value: lambda_l2=0.00015741768932184318\n",
      "[LightGBM] [Warning] bagging_freq is set=5, subsample_freq=0 will be ignored. Current value: bagging_freq=5\n",
      "[LightGBM] [Warning] bagging_fraction is set=0.6954253894336063, subsample=1.0 will be ignored. Current value: bagging_fraction=0.6954253894336063\n",
      "[LightGBM] [Warning] lambda_l1 is set=2.71848914854202, reg_alpha=0.0 will be ignored. Current value: lambda_l1=2.71848914854202\n",
      "[LightGBM] [Warning] feature_fraction is set=0.513457565324115, colsample_bytree=1.0 will be ignored. Current value: feature_fraction=0.513457565324115\n",
      "[LightGBM] [Warning] lambda_l2 is set=0.00015741768932184318, reg_lambda=0.0 will be ignored. Current value: lambda_l2=0.00015741768932184318\n",
      "[LightGBM] [Warning] bagging_freq is set=5, subsample_freq=0 will be ignored. Current value: bagging_freq=5\n"
     ]
    },
    {
     "name": "stderr",
     "output_type": "stream",
     "text": [
      "\u001b[32m[I 2023-03-15 19:53:18,004]\u001b[0m Trial 6 finished with value: 0.7411743028369822 and parameters: {'lambda_l1': 2.71848914854202, 'lambda_l2': 0.00015741768932184318, 'num_leaves': 223, 'feature_fraction': 0.513457565324115, 'bagging_fraction': 0.6954253894336063, 'bagging_freq': 5, 'min_child_samples': 9}. Best is trial 2 with value: 0.7682617356062332.\u001b[0m\n"
     ]
    },
    {
     "name": "stdout",
     "output_type": "stream",
     "text": [
      "[LightGBM] [Warning] bagging_fraction is set=0.6954253894336063, subsample=1.0 will be ignored. Current value: bagging_fraction=0.6954253894336063\n",
      "[LightGBM] [Warning] lambda_l1 is set=2.71848914854202, reg_alpha=0.0 will be ignored. Current value: lambda_l1=2.71848914854202\n",
      "[LightGBM] [Warning] feature_fraction is set=0.513457565324115, colsample_bytree=1.0 will be ignored. Current value: feature_fraction=0.513457565324115\n",
      "[LightGBM] [Warning] lambda_l2 is set=0.00015741768932184318, reg_lambda=0.0 will be ignored. Current value: lambda_l2=0.00015741768932184318\n",
      "[LightGBM] [Warning] bagging_freq is set=5, subsample_freq=0 will be ignored. Current value: bagging_freq=5\n",
      "[LightGBM] [Warning] bagging_fraction is set=0.5957686412704597, subsample=1.0 will be ignored. Current value: bagging_fraction=0.5957686412704597\n",
      "[LightGBM] [Warning] lambda_l1 is set=0.0004278745341905984, reg_alpha=0.0 will be ignored. Current value: lambda_l1=0.0004278745341905984\n",
      "[LightGBM] [Warning] feature_fraction is set=0.75517447734934, colsample_bytree=1.0 will be ignored. Current value: feature_fraction=0.75517447734934\n",
      "[LightGBM] [Warning] lambda_l2 is set=1.452895902650947e-06, reg_lambda=0.0 will be ignored. Current value: lambda_l2=1.452895902650947e-06\n",
      "[LightGBM] [Warning] bagging_freq is set=6, subsample_freq=0 will be ignored. Current value: bagging_freq=6\n",
      "[LightGBM] [Warning] bagging_fraction is set=0.5957686412704597, subsample=1.0 will be ignored. Current value: bagging_fraction=0.5957686412704597\n",
      "[LightGBM] [Warning] lambda_l1 is set=0.0004278745341905984, reg_alpha=0.0 will be ignored. Current value: lambda_l1=0.0004278745341905984\n",
      "[LightGBM] [Warning] feature_fraction is set=0.75517447734934, colsample_bytree=1.0 will be ignored. Current value: feature_fraction=0.75517447734934\n",
      "[LightGBM] [Warning] lambda_l2 is set=1.452895902650947e-06, reg_lambda=0.0 will be ignored. Current value: lambda_l2=1.452895902650947e-06\n",
      "[LightGBM] [Warning] bagging_freq is set=6, subsample_freq=0 will be ignored. Current value: bagging_freq=6\n",
      "[LightGBM] [Warning] bagging_fraction is set=0.5957686412704597, subsample=1.0 will be ignored. Current value: bagging_fraction=0.5957686412704597\n",
      "[LightGBM] [Warning] lambda_l1 is set=0.0004278745341905984, reg_alpha=0.0 will be ignored. Current value: lambda_l1=0.0004278745341905984\n",
      "[LightGBM] [Warning] feature_fraction is set=0.75517447734934, colsample_bytree=1.0 will be ignored. Current value: feature_fraction=0.75517447734934\n",
      "[LightGBM] [Warning] lambda_l2 is set=1.452895902650947e-06, reg_lambda=0.0 will be ignored. Current value: lambda_l2=1.452895902650947e-06\n",
      "[LightGBM] [Warning] bagging_freq is set=6, subsample_freq=0 will be ignored. Current value: bagging_freq=6\n",
      "[LightGBM] [Warning] bagging_fraction is set=0.5957686412704597, subsample=1.0 will be ignored. Current value: bagging_fraction=0.5957686412704597\n",
      "[LightGBM] [Warning] lambda_l1 is set=0.0004278745341905984, reg_alpha=0.0 will be ignored. Current value: lambda_l1=0.0004278745341905984\n",
      "[LightGBM] [Warning] feature_fraction is set=0.75517447734934, colsample_bytree=1.0 will be ignored. Current value: feature_fraction=0.75517447734934\n",
      "[LightGBM] [Warning] lambda_l2 is set=1.452895902650947e-06, reg_lambda=0.0 will be ignored. Current value: lambda_l2=1.452895902650947e-06\n",
      "[LightGBM] [Warning] bagging_freq is set=6, subsample_freq=0 will be ignored. Current value: bagging_freq=6\n",
      "[LightGBM] [Warning] bagging_fraction is set=0.5957686412704597, subsample=1.0 will be ignored. Current value: bagging_fraction=0.5957686412704597\n",
      "[LightGBM] [Warning] lambda_l1 is set=0.0004278745341905984, reg_alpha=0.0 will be ignored. Current value: lambda_l1=0.0004278745341905984\n",
      "[LightGBM] [Warning] feature_fraction is set=0.75517447734934, colsample_bytree=1.0 will be ignored. Current value: feature_fraction=0.75517447734934\n",
      "[LightGBM] [Warning] lambda_l2 is set=1.452895902650947e-06, reg_lambda=0.0 will be ignored. Current value: lambda_l2=1.452895902650947e-06\n",
      "[LightGBM] [Warning] bagging_freq is set=6, subsample_freq=0 will be ignored. Current value: bagging_freq=6\n"
     ]
    },
    {
     "name": "stderr",
     "output_type": "stream",
     "text": [
      "\u001b[32m[I 2023-03-15 19:53:18,923]\u001b[0m Trial 7 finished with value: 0.7350856480043084 and parameters: {'lambda_l1': 0.0004278745341905984, 'lambda_l2': 1.452895902650947e-06, 'num_leaves': 51, 'feature_fraction': 0.75517447734934, 'bagging_fraction': 0.5957686412704597, 'bagging_freq': 6, 'min_child_samples': 26}. Best is trial 2 with value: 0.7682617356062332.\u001b[0m\n"
     ]
    },
    {
     "name": "stdout",
     "output_type": "stream",
     "text": [
      "[LightGBM] [Warning] bagging_fraction is set=0.7912092973657112, subsample=1.0 will be ignored. Current value: bagging_fraction=0.7912092973657112\n",
      "[LightGBM] [Warning] lambda_l1 is set=2.41645177667437, reg_alpha=0.0 will be ignored. Current value: lambda_l1=2.41645177667437\n",
      "[LightGBM] [Warning] feature_fraction is set=0.9821049388632659, colsample_bytree=1.0 will be ignored. Current value: feature_fraction=0.9821049388632659\n",
      "[LightGBM] [Warning] lambda_l2 is set=0.03491186696189261, reg_lambda=0.0 will be ignored. Current value: lambda_l2=0.03491186696189261\n",
      "[LightGBM] [Warning] bagging_freq is set=7, subsample_freq=0 will be ignored. Current value: bagging_freq=7\n",
      "[LightGBM] [Warning] bagging_fraction is set=0.7912092973657112, subsample=1.0 will be ignored. Current value: bagging_fraction=0.7912092973657112\n",
      "[LightGBM] [Warning] lambda_l1 is set=2.41645177667437, reg_alpha=0.0 will be ignored. Current value: lambda_l1=2.41645177667437\n",
      "[LightGBM] [Warning] feature_fraction is set=0.9821049388632659, colsample_bytree=1.0 will be ignored. Current value: feature_fraction=0.9821049388632659\n",
      "[LightGBM] [Warning] lambda_l2 is set=0.03491186696189261, reg_lambda=0.0 will be ignored. Current value: lambda_l2=0.03491186696189261\n",
      "[LightGBM] [Warning] bagging_freq is set=7, subsample_freq=0 will be ignored. Current value: bagging_freq=7\n",
      "[LightGBM] [Warning] bagging_fraction is set=0.7912092973657112, subsample=1.0 will be ignored. Current value: bagging_fraction=0.7912092973657112\n",
      "[LightGBM] [Warning] lambda_l1 is set=2.41645177667437, reg_alpha=0.0 will be ignored. Current value: lambda_l1=2.41645177667437\n",
      "[LightGBM] [Warning] feature_fraction is set=0.9821049388632659, colsample_bytree=1.0 will be ignored. Current value: feature_fraction=0.9821049388632659\n",
      "[LightGBM] [Warning] lambda_l2 is set=0.03491186696189261, reg_lambda=0.0 will be ignored. Current value: lambda_l2=0.03491186696189261\n",
      "[LightGBM] [Warning] bagging_freq is set=7, subsample_freq=0 will be ignored. Current value: bagging_freq=7\n",
      "[LightGBM] [Warning] bagging_fraction is set=0.7912092973657112, subsample=1.0 will be ignored. Current value: bagging_fraction=0.7912092973657112\n",
      "[LightGBM] [Warning] lambda_l1 is set=2.41645177667437, reg_alpha=0.0 will be ignored. Current value: lambda_l1=2.41645177667437\n",
      "[LightGBM] [Warning] feature_fraction is set=0.9821049388632659, colsample_bytree=1.0 will be ignored. Current value: feature_fraction=0.9821049388632659\n",
      "[LightGBM] [Warning] lambda_l2 is set=0.03491186696189261, reg_lambda=0.0 will be ignored. Current value: lambda_l2=0.03491186696189261\n",
      "[LightGBM] [Warning] bagging_freq is set=7, subsample_freq=0 will be ignored. Current value: bagging_freq=7\n",
      "[LightGBM] [Warning] bagging_fraction is set=0.7912092973657112, subsample=1.0 will be ignored. Current value: bagging_fraction=0.7912092973657112\n",
      "[LightGBM] [Warning] lambda_l1 is set=2.41645177667437, reg_alpha=0.0 will be ignored. Current value: lambda_l1=2.41645177667437\n",
      "[LightGBM] [Warning] feature_fraction is set=0.9821049388632659, colsample_bytree=1.0 will be ignored. Current value: feature_fraction=0.9821049388632659\n",
      "[LightGBM] [Warning] lambda_l2 is set=0.03491186696189261, reg_lambda=0.0 will be ignored. Current value: lambda_l2=0.03491186696189261\n",
      "[LightGBM] [Warning] bagging_freq is set=7, subsample_freq=0 will be ignored. Current value: bagging_freq=7\n"
     ]
    },
    {
     "name": "stderr",
     "output_type": "stream",
     "text": [
      "\u001b[32m[I 2023-03-15 19:53:20,467]\u001b[0m Trial 8 finished with value: 0.7479131713581475 and parameters: {'lambda_l1': 2.41645177667437, 'lambda_l2': 0.03491186696189261, 'num_leaves': 213, 'feature_fraction': 0.9821049388632659, 'bagging_fraction': 0.7912092973657112, 'bagging_freq': 7, 'min_child_samples': 8}. Best is trial 2 with value: 0.7682617356062332.\u001b[0m\n"
     ]
    },
    {
     "name": "stdout",
     "output_type": "stream",
     "text": [
      "[LightGBM] [Warning] bagging_fraction is set=0.4579443319807814, subsample=1.0 will be ignored. Current value: bagging_fraction=0.4579443319807814\n",
      "[LightGBM] [Warning] lambda_l1 is set=0.00039256277394450565, reg_alpha=0.0 will be ignored. Current value: lambda_l1=0.00039256277394450565\n",
      "[LightGBM] [Warning] feature_fraction is set=0.49016643778108027, colsample_bytree=1.0 will be ignored. Current value: feature_fraction=0.49016643778108027\n",
      "[LightGBM] [Warning] lambda_l2 is set=8.264644241896802e-06, reg_lambda=0.0 will be ignored. Current value: lambda_l2=8.264644241896802e-06\n",
      "[LightGBM] [Warning] bagging_freq is set=3, subsample_freq=0 will be ignored. Current value: bagging_freq=3\n",
      "[LightGBM] [Warning] bagging_fraction is set=0.4579443319807814, subsample=1.0 will be ignored. Current value: bagging_fraction=0.4579443319807814\n",
      "[LightGBM] [Warning] lambda_l1 is set=0.00039256277394450565, reg_alpha=0.0 will be ignored. Current value: lambda_l1=0.00039256277394450565\n",
      "[LightGBM] [Warning] feature_fraction is set=0.49016643778108027, colsample_bytree=1.0 will be ignored. Current value: feature_fraction=0.49016643778108027\n",
      "[LightGBM] [Warning] lambda_l2 is set=8.264644241896802e-06, reg_lambda=0.0 will be ignored. Current value: lambda_l2=8.264644241896802e-06\n",
      "[LightGBM] [Warning] bagging_freq is set=3, subsample_freq=0 will be ignored. Current value: bagging_freq=3\n",
      "[LightGBM] [Warning] bagging_fraction is set=0.4579443319807814, subsample=1.0 will be ignored. Current value: bagging_fraction=0.4579443319807814\n",
      "[LightGBM] [Warning] lambda_l1 is set=0.00039256277394450565, reg_alpha=0.0 will be ignored. Current value: lambda_l1=0.00039256277394450565\n",
      "[LightGBM] [Warning] feature_fraction is set=0.49016643778108027, colsample_bytree=1.0 will be ignored. Current value: feature_fraction=0.49016643778108027\n",
      "[LightGBM] [Warning] lambda_l2 is set=8.264644241896802e-06, reg_lambda=0.0 will be ignored. Current value: lambda_l2=8.264644241896802e-06\n",
      "[LightGBM] [Warning] bagging_freq is set=3, subsample_freq=0 will be ignored. Current value: bagging_freq=3\n"
     ]
    },
    {
     "name": "stderr",
     "output_type": "stream",
     "text": [
      "\u001b[32m[I 2023-03-15 19:53:20,827]\u001b[0m Trial 9 finished with value: 0.7586971906349897 and parameters: {'lambda_l1': 0.00039256277394450565, 'lambda_l2': 8.264644241896802e-06, 'num_leaves': 231, 'feature_fraction': 0.49016643778108027, 'bagging_fraction': 0.4579443319807814, 'bagging_freq': 3, 'min_child_samples': 82}. Best is trial 2 with value: 0.7682617356062332.\u001b[0m\n"
     ]
    },
    {
     "name": "stdout",
     "output_type": "stream",
     "text": [
      "[LightGBM] [Warning] bagging_fraction is set=0.4579443319807814, subsample=1.0 will be ignored. Current value: bagging_fraction=0.4579443319807814\n",
      "[LightGBM] [Warning] lambda_l1 is set=0.00039256277394450565, reg_alpha=0.0 will be ignored. Current value: lambda_l1=0.00039256277394450565\n",
      "[LightGBM] [Warning] feature_fraction is set=0.49016643778108027, colsample_bytree=1.0 will be ignored. Current value: feature_fraction=0.49016643778108027\n",
      "[LightGBM] [Warning] lambda_l2 is set=8.264644241896802e-06, reg_lambda=0.0 will be ignored. Current value: lambda_l2=8.264644241896802e-06\n",
      "[LightGBM] [Warning] bagging_freq is set=3, subsample_freq=0 will be ignored. Current value: bagging_freq=3\n",
      "[LightGBM] [Warning] bagging_fraction is set=0.4579443319807814, subsample=1.0 will be ignored. Current value: bagging_fraction=0.4579443319807814\n",
      "[LightGBM] [Warning] lambda_l1 is set=0.00039256277394450565, reg_alpha=0.0 will be ignored. Current value: lambda_l1=0.00039256277394450565\n",
      "[LightGBM] [Warning] feature_fraction is set=0.49016643778108027, colsample_bytree=1.0 will be ignored. Current value: feature_fraction=0.49016643778108027\n",
      "[LightGBM] [Warning] lambda_l2 is set=8.264644241896802e-06, reg_lambda=0.0 will be ignored. Current value: lambda_l2=8.264644241896802e-06\n",
      "[LightGBM] [Warning] bagging_freq is set=3, subsample_freq=0 will be ignored. Current value: bagging_freq=3\n",
      "[LightGBM] [Warning] bagging_fraction is set=0.857454300435189, subsample=1.0 will be ignored. Current value: bagging_fraction=0.857454300435189\n",
      "[LightGBM] [Warning] lambda_l1 is set=0.024156813461944183, reg_alpha=0.0 will be ignored. Current value: lambda_l1=0.024156813461944183\n",
      "[LightGBM] [Warning] feature_fraction is set=0.4245661966071606, colsample_bytree=1.0 will be ignored. Current value: feature_fraction=0.4245661966071606\n",
      "[LightGBM] [Warning] lambda_l2 is set=8.051393659073694, reg_lambda=0.0 will be ignored. Current value: lambda_l2=8.051393659073694\n",
      "[LightGBM] [Warning] bagging_freq is set=4, subsample_freq=0 will be ignored. Current value: bagging_freq=4\n",
      "[LightGBM] [Warning] bagging_fraction is set=0.857454300435189, subsample=1.0 will be ignored. Current value: bagging_fraction=0.857454300435189\n",
      "[LightGBM] [Warning] lambda_l1 is set=0.024156813461944183, reg_alpha=0.0 will be ignored. Current value: lambda_l1=0.024156813461944183\n",
      "[LightGBM] [Warning] feature_fraction is set=0.4245661966071606, colsample_bytree=1.0 will be ignored. Current value: feature_fraction=0.4245661966071606\n",
      "[LightGBM] [Warning] lambda_l2 is set=8.051393659073694, reg_lambda=0.0 will be ignored. Current value: lambda_l2=8.051393659073694\n",
      "[LightGBM] [Warning] bagging_freq is set=4, subsample_freq=0 will be ignored. Current value: bagging_freq=4\n",
      "[LightGBM] [Warning] bagging_fraction is set=0.857454300435189, subsample=1.0 will be ignored. Current value: bagging_fraction=0.857454300435189\n",
      "[LightGBM] [Warning] lambda_l1 is set=0.024156813461944183, reg_alpha=0.0 will be ignored. Current value: lambda_l1=0.024156813461944183\n",
      "[LightGBM] [Warning] feature_fraction is set=0.4245661966071606, colsample_bytree=1.0 will be ignored. Current value: feature_fraction=0.4245661966071606\n",
      "[LightGBM] [Warning] lambda_l2 is set=8.051393659073694, reg_lambda=0.0 will be ignored. Current value: lambda_l2=8.051393659073694\n",
      "[LightGBM] [Warning] bagging_freq is set=4, subsample_freq=0 will be ignored. Current value: bagging_freq=4\n",
      "[LightGBM] [Warning] bagging_fraction is set=0.857454300435189, subsample=1.0 will be ignored. Current value: bagging_fraction=0.857454300435189\n",
      "[LightGBM] [Warning] lambda_l1 is set=0.024156813461944183, reg_alpha=0.0 will be ignored. Current value: lambda_l1=0.024156813461944183\n",
      "[LightGBM] [Warning] feature_fraction is set=0.4245661966071606, colsample_bytree=1.0 will be ignored. Current value: feature_fraction=0.4245661966071606\n",
      "[LightGBM] [Warning] lambda_l2 is set=8.051393659073694, reg_lambda=0.0 will be ignored. Current value: lambda_l2=8.051393659073694\n",
      "[LightGBM] [Warning] bagging_freq is set=4, subsample_freq=0 will be ignored. Current value: bagging_freq=4\n",
      "[LightGBM] [Warning] bagging_fraction is set=0.857454300435189, subsample=1.0 will be ignored. Current value: bagging_fraction=0.857454300435189\n",
      "[LightGBM] [Warning] lambda_l1 is set=0.024156813461944183, reg_alpha=0.0 will be ignored. Current value: lambda_l1=0.024156813461944183\n",
      "[LightGBM] [Warning] feature_fraction is set=0.4245661966071606, colsample_bytree=1.0 will be ignored. Current value: feature_fraction=0.4245661966071606\n",
      "[LightGBM] [Warning] lambda_l2 is set=8.051393659073694, reg_lambda=0.0 will be ignored. Current value: lambda_l2=8.051393659073694\n",
      "[LightGBM] [Warning] bagging_freq is set=4, subsample_freq=0 will be ignored. Current value: bagging_freq=4\n"
     ]
    },
    {
     "name": "stderr",
     "output_type": "stream",
     "text": [
      "\u001b[32m[I 2023-03-15 19:53:21,193]\u001b[0m Trial 10 finished with value: 0.7745865179477619 and parameters: {'lambda_l1': 0.024156813461944183, 'lambda_l2': 8.051393659073694, 'num_leaves': 3, 'feature_fraction': 0.4245661966071606, 'bagging_fraction': 0.857454300435189, 'bagging_freq': 4, 'min_child_samples': 48}. Best is trial 10 with value: 0.7745865179477619.\u001b[0m\n"
     ]
    },
    {
     "name": "stdout",
     "output_type": "stream",
     "text": [
      "[LightGBM] [Warning] bagging_fraction is set=0.8522739231453806, subsample=1.0 will be ignored. Current value: bagging_fraction=0.8522739231453806\n",
      "[LightGBM] [Warning] lambda_l1 is set=0.023854273662583993, reg_alpha=0.0 will be ignored. Current value: lambda_l1=0.023854273662583993\n",
      "[LightGBM] [Warning] feature_fraction is set=0.4057363529816282, colsample_bytree=1.0 will be ignored. Current value: feature_fraction=0.4057363529816282\n",
      "[LightGBM] [Warning] lambda_l2 is set=8.082774227000215, reg_lambda=0.0 will be ignored. Current value: lambda_l2=8.082774227000215\n",
      "[LightGBM] [Warning] bagging_freq is set=4, subsample_freq=0 will be ignored. Current value: bagging_freq=4\n",
      "[LightGBM] [Warning] bagging_fraction is set=0.8522739231453806, subsample=1.0 will be ignored. Current value: bagging_fraction=0.8522739231453806\n",
      "[LightGBM] [Warning] lambda_l1 is set=0.023854273662583993, reg_alpha=0.0 will be ignored. Current value: lambda_l1=0.023854273662583993\n",
      "[LightGBM] [Warning] feature_fraction is set=0.4057363529816282, colsample_bytree=1.0 will be ignored. Current value: feature_fraction=0.4057363529816282\n",
      "[LightGBM] [Warning] lambda_l2 is set=8.082774227000215, reg_lambda=0.0 will be ignored. Current value: lambda_l2=8.082774227000215\n",
      "[LightGBM] [Warning] bagging_freq is set=4, subsample_freq=0 will be ignored. Current value: bagging_freq=4\n",
      "[LightGBM] [Warning] bagging_fraction is set=0.8522739231453806, subsample=1.0 will be ignored. Current value: bagging_fraction=0.8522739231453806\n",
      "[LightGBM] [Warning] lambda_l1 is set=0.023854273662583993, reg_alpha=0.0 will be ignored. Current value: lambda_l1=0.023854273662583993\n",
      "[LightGBM] [Warning] feature_fraction is set=0.4057363529816282, colsample_bytree=1.0 will be ignored. Current value: feature_fraction=0.4057363529816282\n",
      "[LightGBM] [Warning] lambda_l2 is set=8.082774227000215, reg_lambda=0.0 will be ignored. Current value: lambda_l2=8.082774227000215\n",
      "[LightGBM] [Warning] bagging_freq is set=4, subsample_freq=0 will be ignored. Current value: bagging_freq=4\n",
      "[LightGBM] [Warning] bagging_fraction is set=0.8522739231453806, subsample=1.0 will be ignored. Current value: bagging_fraction=0.8522739231453806\n",
      "[LightGBM] [Warning] lambda_l1 is set=0.023854273662583993, reg_alpha=0.0 will be ignored. Current value: lambda_l1=0.023854273662583993\n",
      "[LightGBM] [Warning] feature_fraction is set=0.4057363529816282, colsample_bytree=1.0 will be ignored. Current value: feature_fraction=0.4057363529816282\n",
      "[LightGBM] [Warning] lambda_l2 is set=8.082774227000215, reg_lambda=0.0 will be ignored. Current value: lambda_l2=8.082774227000215\n",
      "[LightGBM] [Warning] bagging_freq is set=4, subsample_freq=0 will be ignored. Current value: bagging_freq=4\n"
     ]
    },
    {
     "name": "stderr",
     "output_type": "stream",
     "text": [
      "\u001b[32m[I 2023-03-15 19:53:21,758]\u001b[0m Trial 11 finished with value: 0.7446123055572815 and parameters: {'lambda_l1': 0.023854273662583993, 'lambda_l2': 8.082774227000215, 'num_leaves': 11, 'feature_fraction': 0.4057363529816282, 'bagging_fraction': 0.8522739231453806, 'bagging_freq': 4, 'min_child_samples': 47}. Best is trial 10 with value: 0.7745865179477619.\u001b[0m\n"
     ]
    },
    {
     "name": "stdout",
     "output_type": "stream",
     "text": [
      "[LightGBM] [Warning] bagging_fraction is set=0.8522739231453806, subsample=1.0 will be ignored. Current value: bagging_fraction=0.8522739231453806\n",
      "[LightGBM] [Warning] lambda_l1 is set=0.023854273662583993, reg_alpha=0.0 will be ignored. Current value: lambda_l1=0.023854273662583993\n",
      "[LightGBM] [Warning] feature_fraction is set=0.4057363529816282, colsample_bytree=1.0 will be ignored. Current value: feature_fraction=0.4057363529816282\n",
      "[LightGBM] [Warning] lambda_l2 is set=8.082774227000215, reg_lambda=0.0 will be ignored. Current value: lambda_l2=8.082774227000215\n",
      "[LightGBM] [Warning] bagging_freq is set=4, subsample_freq=0 will be ignored. Current value: bagging_freq=4\n",
      "[LightGBM] [Warning] bagging_fraction is set=0.8777969701221726, subsample=1.0 will be ignored. Current value: bagging_fraction=0.8777969701221726\n",
      "[LightGBM] [Warning] lambda_l1 is set=7.599657480789207, reg_alpha=0.0 will be ignored. Current value: lambda_l1=7.599657480789207\n",
      "[LightGBM] [Warning] feature_fraction is set=0.40932084768866267, colsample_bytree=1.0 will be ignored. Current value: feature_fraction=0.40932084768866267\n",
      "[LightGBM] [Warning] lambda_l2 is set=2.682361489876599, reg_lambda=0.0 will be ignored. Current value: lambda_l2=2.682361489876599\n",
      "[LightGBM] [Warning] bagging_freq is set=4, subsample_freq=0 will be ignored. Current value: bagging_freq=4\n",
      "[LightGBM] [Warning] bagging_fraction is set=0.8777969701221726, subsample=1.0 will be ignored. Current value: bagging_fraction=0.8777969701221726\n",
      "[LightGBM] [Warning] lambda_l1 is set=7.599657480789207, reg_alpha=0.0 will be ignored. Current value: lambda_l1=7.599657480789207\n",
      "[LightGBM] [Warning] feature_fraction is set=0.40932084768866267, colsample_bytree=1.0 will be ignored. Current value: feature_fraction=0.40932084768866267\n",
      "[LightGBM] [Warning] lambda_l2 is set=2.682361489876599, reg_lambda=0.0 will be ignored. Current value: lambda_l2=2.682361489876599\n",
      "[LightGBM] [Warning] bagging_freq is set=4, subsample_freq=0 will be ignored. Current value: bagging_freq=4\n",
      "[LightGBM] [Warning] bagging_fraction is set=0.8777969701221726, subsample=1.0 will be ignored. Current value: bagging_fraction=0.8777969701221726\n",
      "[LightGBM] [Warning] lambda_l1 is set=7.599657480789207, reg_alpha=0.0 will be ignored. Current value: lambda_l1=7.599657480789207\n",
      "[LightGBM] [Warning] feature_fraction is set=0.40932084768866267, colsample_bytree=1.0 will be ignored. Current value: feature_fraction=0.40932084768866267\n",
      "[LightGBM] [Warning] lambda_l2 is set=2.682361489876599, reg_lambda=0.0 will be ignored. Current value: lambda_l2=2.682361489876599\n",
      "[LightGBM] [Warning] bagging_freq is set=4, subsample_freq=0 will be ignored. Current value: bagging_freq=4\n",
      "[LightGBM] [Warning] bagging_fraction is set=0.8777969701221726, subsample=1.0 will be ignored. Current value: bagging_fraction=0.8777969701221726\n",
      "[LightGBM] [Warning] lambda_l1 is set=7.599657480789207, reg_alpha=0.0 will be ignored. Current value: lambda_l1=7.599657480789207\n",
      "[LightGBM] [Warning] feature_fraction is set=0.40932084768866267, colsample_bytree=1.0 will be ignored. Current value: feature_fraction=0.40932084768866267\n",
      "[LightGBM] [Warning] lambda_l2 is set=2.682361489876599, reg_lambda=0.0 will be ignored. Current value: lambda_l2=2.682361489876599\n",
      "[LightGBM] [Warning] bagging_freq is set=4, subsample_freq=0 will be ignored. Current value: bagging_freq=4\n"
     ]
    },
    {
     "name": "stderr",
     "output_type": "stream",
     "text": [
      "\u001b[32m[I 2023-03-15 19:53:22,252]\u001b[0m Trial 12 finished with value: 0.7606763982960155 and parameters: {'lambda_l1': 7.599657480789207, 'lambda_l2': 2.682361489876599, 'num_leaves': 157, 'feature_fraction': 0.40932084768866267, 'bagging_fraction': 0.8777969701221726, 'bagging_freq': 4, 'min_child_samples': 52}. Best is trial 10 with value: 0.7745865179477619.\u001b[0m\n"
     ]
    },
    {
     "name": "stdout",
     "output_type": "stream",
     "text": [
      "[LightGBM] [Warning] bagging_fraction is set=0.8777969701221726, subsample=1.0 will be ignored. Current value: bagging_fraction=0.8777969701221726\n",
      "[LightGBM] [Warning] lambda_l1 is set=7.599657480789207, reg_alpha=0.0 will be ignored. Current value: lambda_l1=7.599657480789207\n",
      "[LightGBM] [Warning] feature_fraction is set=0.40932084768866267, colsample_bytree=1.0 will be ignored. Current value: feature_fraction=0.40932084768866267\n",
      "[LightGBM] [Warning] lambda_l2 is set=2.682361489876599, reg_lambda=0.0 will be ignored. Current value: lambda_l2=2.682361489876599\n",
      "[LightGBM] [Warning] bagging_freq is set=4, subsample_freq=0 will be ignored. Current value: bagging_freq=4\n",
      "[LightGBM] [Warning] bagging_fraction is set=0.8418258680239835, subsample=1.0 will be ignored. Current value: bagging_fraction=0.8418258680239835\n",
      "[LightGBM] [Warning] lambda_l1 is set=0.04304296513733013, reg_alpha=0.0 will be ignored. Current value: lambda_l1=0.04304296513733013\n",
      "[LightGBM] [Warning] feature_fraction is set=0.567076299520156, colsample_bytree=1.0 will be ignored. Current value: feature_fraction=0.567076299520156\n",
      "[LightGBM] [Warning] lambda_l2 is set=0.6385701950511337, reg_lambda=0.0 will be ignored. Current value: lambda_l2=0.6385701950511337\n",
      "[LightGBM] [Warning] bagging_freq is set=3, subsample_freq=0 will be ignored. Current value: bagging_freq=3\n",
      "[LightGBM] [Warning] bagging_fraction is set=0.8418258680239835, subsample=1.0 will be ignored. Current value: bagging_fraction=0.8418258680239835\n",
      "[LightGBM] [Warning] lambda_l1 is set=0.04304296513733013, reg_alpha=0.0 will be ignored. Current value: lambda_l1=0.04304296513733013\n",
      "[LightGBM] [Warning] feature_fraction is set=0.567076299520156, colsample_bytree=1.0 will be ignored. Current value: feature_fraction=0.567076299520156\n",
      "[LightGBM] [Warning] lambda_l2 is set=0.6385701950511337, reg_lambda=0.0 will be ignored. Current value: lambda_l2=0.6385701950511337\n",
      "[LightGBM] [Warning] bagging_freq is set=3, subsample_freq=0 will be ignored. Current value: bagging_freq=3\n",
      "[LightGBM] [Warning] bagging_fraction is set=0.8418258680239835, subsample=1.0 will be ignored. Current value: bagging_fraction=0.8418258680239835\n",
      "[LightGBM] [Warning] lambda_l1 is set=0.04304296513733013, reg_alpha=0.0 will be ignored. Current value: lambda_l1=0.04304296513733013\n",
      "[LightGBM] [Warning] feature_fraction is set=0.567076299520156, colsample_bytree=1.0 will be ignored. Current value: feature_fraction=0.567076299520156\n",
      "[LightGBM] [Warning] lambda_l2 is set=0.6385701950511337, reg_lambda=0.0 will be ignored. Current value: lambda_l2=0.6385701950511337\n",
      "[LightGBM] [Warning] bagging_freq is set=3, subsample_freq=0 will be ignored. Current value: bagging_freq=3\n",
      "[LightGBM] [Warning] bagging_fraction is set=0.8418258680239835, subsample=1.0 will be ignored. Current value: bagging_fraction=0.8418258680239835\n",
      "[LightGBM] [Warning] lambda_l1 is set=0.04304296513733013, reg_alpha=0.0 will be ignored. Current value: lambda_l1=0.04304296513733013\n",
      "[LightGBM] [Warning] feature_fraction is set=0.567076299520156, colsample_bytree=1.0 will be ignored. Current value: feature_fraction=0.567076299520156\n",
      "[LightGBM] [Warning] lambda_l2 is set=0.6385701950511337, reg_lambda=0.0 will be ignored. Current value: lambda_l2=0.6385701950511337\n",
      "[LightGBM] [Warning] bagging_freq is set=3, subsample_freq=0 will be ignored. Current value: bagging_freq=3\n",
      "[LightGBM] [Warning] bagging_fraction is set=0.8418258680239835, subsample=1.0 will be ignored. Current value: bagging_fraction=0.8418258680239835\n",
      "[LightGBM] [Warning] lambda_l1 is set=0.04304296513733013, reg_alpha=0.0 will be ignored. Current value: lambda_l1=0.04304296513733013\n",
      "[LightGBM] [Warning] feature_fraction is set=0.567076299520156, colsample_bytree=1.0 will be ignored. Current value: feature_fraction=0.567076299520156\n",
      "[LightGBM] [Warning] lambda_l2 is set=0.6385701950511337, reg_lambda=0.0 will be ignored. Current value: lambda_l2=0.6385701950511337\n",
      "[LightGBM] [Warning] bagging_freq is set=3, subsample_freq=0 will be ignored. Current value: bagging_freq=3\n"
     ]
    },
    {
     "name": "stderr",
     "output_type": "stream",
     "text": [
      "\u001b[32m[I 2023-03-15 19:53:23,147]\u001b[0m Trial 13 finished with value: 0.7455702790032934 and parameters: {'lambda_l1': 0.04304296513733013, 'lambda_l2': 0.6385701950511337, 'num_leaves': 147, 'feature_fraction': 0.567076299520156, 'bagging_fraction': 0.8418258680239835, 'bagging_freq': 3, 'min_child_samples': 34}. Best is trial 10 with value: 0.7745865179477619.\u001b[0m\n"
     ]
    },
    {
     "name": "stdout",
     "output_type": "stream",
     "text": [
      "[LightGBM] [Warning] bagging_fraction is set=0.9123919766670572, subsample=1.0 will be ignored. Current value: bagging_fraction=0.9123919766670572\n",
      "[LightGBM] [Warning] lambda_l1 is set=9.097254433240508, reg_alpha=0.0 will be ignored. Current value: lambda_l1=9.097254433240508\n",
      "[LightGBM] [Warning] feature_fraction is set=0.5824966508731512, colsample_bytree=1.0 will be ignored. Current value: feature_fraction=0.5824966508731512\n",
      "[LightGBM] [Warning] lambda_l2 is set=0.4805995522743526, reg_lambda=0.0 will be ignored. Current value: lambda_l2=0.4805995522743526\n",
      "[LightGBM] [Warning] bagging_freq is set=5, subsample_freq=0 will be ignored. Current value: bagging_freq=5\n",
      "[LightGBM] [Warning] bagging_fraction is set=0.9123919766670572, subsample=1.0 will be ignored. Current value: bagging_fraction=0.9123919766670572\n",
      "[LightGBM] [Warning] lambda_l1 is set=9.097254433240508, reg_alpha=0.0 will be ignored. Current value: lambda_l1=9.097254433240508\n",
      "[LightGBM] [Warning] feature_fraction is set=0.5824966508731512, colsample_bytree=1.0 will be ignored. Current value: feature_fraction=0.5824966508731512\n",
      "[LightGBM] [Warning] lambda_l2 is set=0.4805995522743526, reg_lambda=0.0 will be ignored. Current value: lambda_l2=0.4805995522743526\n",
      "[LightGBM] [Warning] bagging_freq is set=5, subsample_freq=0 will be ignored. Current value: bagging_freq=5\n",
      "[LightGBM] [Warning] bagging_fraction is set=0.9123919766670572, subsample=1.0 will be ignored. Current value: bagging_fraction=0.9123919766670572\n",
      "[LightGBM] [Warning] lambda_l1 is set=9.097254433240508, reg_alpha=0.0 will be ignored. Current value: lambda_l1=9.097254433240508\n",
      "[LightGBM] [Warning] feature_fraction is set=0.5824966508731512, colsample_bytree=1.0 will be ignored. Current value: feature_fraction=0.5824966508731512\n",
      "[LightGBM] [Warning] lambda_l2 is set=0.4805995522743526, reg_lambda=0.0 will be ignored. Current value: lambda_l2=0.4805995522743526\n",
      "[LightGBM] [Warning] bagging_freq is set=5, subsample_freq=0 will be ignored. Current value: bagging_freq=5\n"
     ]
    },
    {
     "name": "stderr",
     "output_type": "stream",
     "text": [
      "\u001b[32m[I 2023-03-15 19:53:23,651]\u001b[0m Trial 14 finished with value: 0.7681711164964753 and parameters: {'lambda_l1': 9.097254433240508, 'lambda_l2': 0.4805995522743526, 'num_leaves': 19, 'feature_fraction': 0.5824966508731512, 'bagging_fraction': 0.9123919766670572, 'bagging_freq': 5, 'min_child_samples': 43}. Best is trial 10 with value: 0.7745865179477619.\u001b[0m\n"
     ]
    },
    {
     "name": "stdout",
     "output_type": "stream",
     "text": [
      "[LightGBM] [Warning] bagging_fraction is set=0.9123919766670572, subsample=1.0 will be ignored. Current value: bagging_fraction=0.9123919766670572\n",
      "[LightGBM] [Warning] lambda_l1 is set=9.097254433240508, reg_alpha=0.0 will be ignored. Current value: lambda_l1=9.097254433240508\n",
      "[LightGBM] [Warning] feature_fraction is set=0.5824966508731512, colsample_bytree=1.0 will be ignored. Current value: feature_fraction=0.5824966508731512\n",
      "[LightGBM] [Warning] lambda_l2 is set=0.4805995522743526, reg_lambda=0.0 will be ignored. Current value: lambda_l2=0.4805995522743526\n",
      "[LightGBM] [Warning] bagging_freq is set=5, subsample_freq=0 will be ignored. Current value: bagging_freq=5\n",
      "[LightGBM] [Warning] bagging_fraction is set=0.9123919766670572, subsample=1.0 will be ignored. Current value: bagging_fraction=0.9123919766670572\n",
      "[LightGBM] [Warning] lambda_l1 is set=9.097254433240508, reg_alpha=0.0 will be ignored. Current value: lambda_l1=9.097254433240508\n",
      "[LightGBM] [Warning] feature_fraction is set=0.5824966508731512, colsample_bytree=1.0 will be ignored. Current value: feature_fraction=0.5824966508731512\n",
      "[LightGBM] [Warning] lambda_l2 is set=0.4805995522743526, reg_lambda=0.0 will be ignored. Current value: lambda_l2=0.4805995522743526\n",
      "[LightGBM] [Warning] bagging_freq is set=5, subsample_freq=0 will be ignored. Current value: bagging_freq=5\n",
      "[LightGBM] [Warning] bagging_fraction is set=0.7118066135520447, subsample=1.0 will be ignored. Current value: bagging_fraction=0.7118066135520447\n",
      "[LightGBM] [Warning] lambda_l1 is set=0.055791974758637314, reg_alpha=0.0 will be ignored. Current value: lambda_l1=0.055791974758637314\n",
      "[LightGBM] [Warning] feature_fraction is set=0.7945147329151871, colsample_bytree=1.0 will be ignored. Current value: feature_fraction=0.7945147329151871\n",
      "[LightGBM] [Warning] lambda_l2 is set=0.002194291945414916, reg_lambda=0.0 will be ignored. Current value: lambda_l2=0.002194291945414916\n",
      "[LightGBM] [Warning] bagging_freq is set=2, subsample_freq=0 will be ignored. Current value: bagging_freq=2\n",
      "[LightGBM] [Warning] bagging_fraction is set=0.7118066135520447, subsample=1.0 will be ignored. Current value: bagging_fraction=0.7118066135520447\n",
      "[LightGBM] [Warning] lambda_l1 is set=0.055791974758637314, reg_alpha=0.0 will be ignored. Current value: lambda_l1=0.055791974758637314\n",
      "[LightGBM] [Warning] feature_fraction is set=0.7945147329151871, colsample_bytree=1.0 will be ignored. Current value: feature_fraction=0.7945147329151871\n",
      "[LightGBM] [Warning] lambda_l2 is set=0.002194291945414916, reg_lambda=0.0 will be ignored. Current value: lambda_l2=0.002194291945414916\n",
      "[LightGBM] [Warning] bagging_freq is set=2, subsample_freq=0 will be ignored. Current value: bagging_freq=2\n",
      "[LightGBM] [Warning] bagging_fraction is set=0.7118066135520447, subsample=1.0 will be ignored. Current value: bagging_fraction=0.7118066135520447\n",
      "[LightGBM] [Warning] lambda_l1 is set=0.055791974758637314, reg_alpha=0.0 will be ignored. Current value: lambda_l1=0.055791974758637314\n",
      "[LightGBM] [Warning] feature_fraction is set=0.7945147329151871, colsample_bytree=1.0 will be ignored. Current value: feature_fraction=0.7945147329151871\n",
      "[LightGBM] [Warning] lambda_l2 is set=0.002194291945414916, reg_lambda=0.0 will be ignored. Current value: lambda_l2=0.002194291945414916\n",
      "[LightGBM] [Warning] bagging_freq is set=2, subsample_freq=0 will be ignored. Current value: bagging_freq=2\n",
      "[LightGBM] [Warning] bagging_fraction is set=0.7118066135520447, subsample=1.0 will be ignored. Current value: bagging_fraction=0.7118066135520447\n",
      "[LightGBM] [Warning] lambda_l1 is set=0.055791974758637314, reg_alpha=0.0 will be ignored. Current value: lambda_l1=0.055791974758637314\n",
      "[LightGBM] [Warning] feature_fraction is set=0.7945147329151871, colsample_bytree=1.0 will be ignored. Current value: feature_fraction=0.7945147329151871\n",
      "[LightGBM] [Warning] lambda_l2 is set=0.002194291945414916, reg_lambda=0.0 will be ignored. Current value: lambda_l2=0.002194291945414916\n",
      "[LightGBM] [Warning] bagging_freq is set=2, subsample_freq=0 will be ignored. Current value: bagging_freq=2\n"
     ]
    },
    {
     "name": "stderr",
     "output_type": "stream",
     "text": [
      "\u001b[32m[I 2023-03-15 19:53:24,327]\u001b[0m Trial 15 finished with value: 0.7408959727141545 and parameters: {'lambda_l1': 0.055791974758637314, 'lambda_l2': 0.002194291945414916, 'num_leaves': 182, 'feature_fraction': 0.7945147329151871, 'bagging_fraction': 0.7118066135520447, 'bagging_freq': 2, 'min_child_samples': 63}. Best is trial 10 with value: 0.7745865179477619.\u001b[0m\n"
     ]
    },
    {
     "name": "stdout",
     "output_type": "stream",
     "text": [
      "[LightGBM] [Warning] bagging_fraction is set=0.7118066135520447, subsample=1.0 will be ignored. Current value: bagging_fraction=0.7118066135520447\n",
      "[LightGBM] [Warning] lambda_l1 is set=0.055791974758637314, reg_alpha=0.0 will be ignored. Current value: lambda_l1=0.055791974758637314\n",
      "[LightGBM] [Warning] feature_fraction is set=0.7945147329151871, colsample_bytree=1.0 will be ignored. Current value: feature_fraction=0.7945147329151871\n",
      "[LightGBM] [Warning] lambda_l2 is set=0.002194291945414916, reg_lambda=0.0 will be ignored. Current value: lambda_l2=0.002194291945414916\n",
      "[LightGBM] [Warning] bagging_freq is set=2, subsample_freq=0 will be ignored. Current value: bagging_freq=2\n",
      "[LightGBM] [Warning] bagging_fraction is set=0.791384812629222, subsample=1.0 will be ignored. Current value: bagging_fraction=0.791384812629222\n",
      "[LightGBM] [Warning] lambda_l1 is set=0.0035365942662842044, reg_alpha=0.0 will be ignored. Current value: lambda_l1=0.0035365942662842044\n",
      "[LightGBM] [Warning] feature_fraction is set=0.503419124428247, colsample_bytree=1.0 will be ignored. Current value: feature_fraction=0.503419124428247\n",
      "[LightGBM] [Warning] lambda_l2 is set=7.302570978314088, reg_lambda=0.0 will be ignored. Current value: lambda_l2=7.302570978314088\n",
      "[LightGBM] [Warning] bagging_freq is set=5, subsample_freq=0 will be ignored. Current value: bagging_freq=5\n",
      "[LightGBM] [Warning] bagging_fraction is set=0.791384812629222, subsample=1.0 will be ignored. Current value: bagging_fraction=0.791384812629222\n",
      "[LightGBM] [Warning] lambda_l1 is set=0.0035365942662842044, reg_alpha=0.0 will be ignored. Current value: lambda_l1=0.0035365942662842044\n",
      "[LightGBM] [Warning] feature_fraction is set=0.503419124428247, colsample_bytree=1.0 will be ignored. Current value: feature_fraction=0.503419124428247\n",
      "[LightGBM] [Warning] lambda_l2 is set=7.302570978314088, reg_lambda=0.0 will be ignored. Current value: lambda_l2=7.302570978314088\n",
      "[LightGBM] [Warning] bagging_freq is set=5, subsample_freq=0 will be ignored. Current value: bagging_freq=5\n",
      "[LightGBM] [Warning] bagging_fraction is set=0.791384812629222, subsample=1.0 will be ignored. Current value: bagging_fraction=0.791384812629222\n",
      "[LightGBM] [Warning] lambda_l1 is set=0.0035365942662842044, reg_alpha=0.0 will be ignored. Current value: lambda_l1=0.0035365942662842044\n",
      "[LightGBM] [Warning] feature_fraction is set=0.503419124428247, colsample_bytree=1.0 will be ignored. Current value: feature_fraction=0.503419124428247\n",
      "[LightGBM] [Warning] lambda_l2 is set=7.302570978314088, reg_lambda=0.0 will be ignored. Current value: lambda_l2=7.302570978314088\n",
      "[LightGBM] [Warning] bagging_freq is set=5, subsample_freq=0 will be ignored. Current value: bagging_freq=5\n",
      "[LightGBM] [Warning] bagging_fraction is set=0.791384812629222, subsample=1.0 will be ignored. Current value: bagging_fraction=0.791384812629222\n",
      "[LightGBM] [Warning] lambda_l1 is set=0.0035365942662842044, reg_alpha=0.0 will be ignored. Current value: lambda_l1=0.0035365942662842044\n",
      "[LightGBM] [Warning] feature_fraction is set=0.503419124428247, colsample_bytree=1.0 will be ignored. Current value: feature_fraction=0.503419124428247\n",
      "[LightGBM] [Warning] lambda_l2 is set=7.302570978314088, reg_lambda=0.0 will be ignored. Current value: lambda_l2=7.302570978314088\n",
      "[LightGBM] [Warning] bagging_freq is set=5, subsample_freq=0 will be ignored. Current value: bagging_freq=5\n",
      "[LightGBM] [Warning] bagging_fraction is set=0.791384812629222, subsample=1.0 will be ignored. Current value: bagging_fraction=0.791384812629222\n",
      "[LightGBM] [Warning] lambda_l1 is set=0.0035365942662842044, reg_alpha=0.0 will be ignored. Current value: lambda_l1=0.0035365942662842044\n",
      "[LightGBM] [Warning] feature_fraction is set=0.503419124428247, colsample_bytree=1.0 will be ignored. Current value: feature_fraction=0.503419124428247\n",
      "[LightGBM] [Warning] lambda_l2 is set=7.302570978314088, reg_lambda=0.0 will be ignored. Current value: lambda_l2=7.302570978314088\n",
      "[LightGBM] [Warning] bagging_freq is set=5, subsample_freq=0 will be ignored. Current value: bagging_freq=5\n"
     ]
    },
    {
     "name": "stderr",
     "output_type": "stream",
     "text": [
      "\u001b[32m[I 2023-03-15 19:53:25,467]\u001b[0m Trial 16 finished with value: 0.7495387918832895 and parameters: {'lambda_l1': 0.0035365942662842044, 'lambda_l2': 7.302570978314088, 'num_leaves': 115, 'feature_fraction': 0.503419124428247, 'bagging_fraction': 0.791384812629222, 'bagging_freq': 5, 'min_child_samples': 12}. Best is trial 10 with value: 0.7745865179477619.\u001b[0m\n"
     ]
    },
    {
     "name": "stdout",
     "output_type": "stream",
     "text": [
      "[LightGBM] [Warning] bagging_fraction is set=0.9450592466250605, subsample=1.0 will be ignored. Current value: bagging_fraction=0.9450592466250605\n",
      "[LightGBM] [Warning] lambda_l1 is set=2.5090462785564806e-05, reg_alpha=0.0 will be ignored. Current value: lambda_l1=2.5090462785564806e-05\n",
      "[LightGBM] [Warning] feature_fraction is set=0.6309106324584643, colsample_bytree=1.0 will be ignored. Current value: feature_fraction=0.6309106324584643\n",
      "[LightGBM] [Warning] lambda_l2 is set=0.2886749537356372, reg_lambda=0.0 will be ignored. Current value: lambda_l2=0.2886749537356372\n",
      "[LightGBM] [Warning] bagging_freq is set=2, subsample_freq=0 will be ignored. Current value: bagging_freq=2\n",
      "[LightGBM] [Warning] bagging_fraction is set=0.9450592466250605, subsample=1.0 will be ignored. Current value: bagging_fraction=0.9450592466250605\n",
      "[LightGBM] [Warning] lambda_l1 is set=2.5090462785564806e-05, reg_alpha=0.0 will be ignored. Current value: lambda_l1=2.5090462785564806e-05\n",
      "[LightGBM] [Warning] feature_fraction is set=0.6309106324584643, colsample_bytree=1.0 will be ignored. Current value: feature_fraction=0.6309106324584643\n",
      "[LightGBM] [Warning] lambda_l2 is set=0.2886749537356372, reg_lambda=0.0 will be ignored. Current value: lambda_l2=0.2886749537356372\n",
      "[LightGBM] [Warning] bagging_freq is set=2, subsample_freq=0 will be ignored. Current value: bagging_freq=2\n",
      "[LightGBM] [Warning] bagging_fraction is set=0.9450592466250605, subsample=1.0 will be ignored. Current value: bagging_fraction=0.9450592466250605\n",
      "[LightGBM] [Warning] lambda_l1 is set=2.5090462785564806e-05, reg_alpha=0.0 will be ignored. Current value: lambda_l1=2.5090462785564806e-05\n",
      "[LightGBM] [Warning] feature_fraction is set=0.6309106324584643, colsample_bytree=1.0 will be ignored. Current value: feature_fraction=0.6309106324584643\n",
      "[LightGBM] [Warning] lambda_l2 is set=0.2886749537356372, reg_lambda=0.0 will be ignored. Current value: lambda_l2=0.2886749537356372\n",
      "[LightGBM] [Warning] bagging_freq is set=2, subsample_freq=0 will be ignored. Current value: bagging_freq=2\n",
      "[LightGBM] [Warning] bagging_fraction is set=0.9450592466250605, subsample=1.0 will be ignored. Current value: bagging_fraction=0.9450592466250605\n",
      "[LightGBM] [Warning] lambda_l1 is set=2.5090462785564806e-05, reg_alpha=0.0 will be ignored. Current value: lambda_l1=2.5090462785564806e-05\n",
      "[LightGBM] [Warning] feature_fraction is set=0.6309106324584643, colsample_bytree=1.0 will be ignored. Current value: feature_fraction=0.6309106324584643\n",
      "[LightGBM] [Warning] lambda_l2 is set=0.2886749537356372, reg_lambda=0.0 will be ignored. Current value: lambda_l2=0.2886749537356372\n",
      "[LightGBM] [Warning] bagging_freq is set=2, subsample_freq=0 will be ignored. Current value: bagging_freq=2\n",
      "[LightGBM] [Warning] bagging_fraction is set=0.9450592466250605, subsample=1.0 will be ignored. Current value: bagging_fraction=0.9450592466250605\n",
      "[LightGBM] [Warning] lambda_l1 is set=2.5090462785564806e-05, reg_alpha=0.0 will be ignored. Current value: lambda_l1=2.5090462785564806e-05\n",
      "[LightGBM] [Warning] feature_fraction is set=0.6309106324584643, colsample_bytree=1.0 will be ignored. Current value: feature_fraction=0.6309106324584643\n",
      "[LightGBM] [Warning] lambda_l2 is set=0.2886749537356372, reg_lambda=0.0 will be ignored. Current value: lambda_l2=0.2886749537356372\n",
      "[LightGBM] [Warning] bagging_freq is set=2, subsample_freq=0 will be ignored. Current value: bagging_freq=2\n"
     ]
    },
    {
     "name": "stderr",
     "output_type": "stream",
     "text": [
      "\u001b[32m[I 2023-03-15 19:53:27,578]\u001b[0m Trial 17 finished with value: 0.7497679287751058 and parameters: {'lambda_l1': 2.5090462785564806e-05, 'lambda_l2': 0.2886749537356372, 'num_leaves': 49, 'feature_fraction': 0.6309106324584643, 'bagging_fraction': 0.9450592466250605, 'bagging_freq': 2, 'min_child_samples': 19}. Best is trial 10 with value: 0.7745865179477619.\u001b[0m\n"
     ]
    },
    {
     "name": "stdout",
     "output_type": "stream",
     "text": [
      "[LightGBM] [Warning] bagging_fraction is set=0.9273107632748526, subsample=1.0 will be ignored. Current value: bagging_fraction=0.9273107632748526\n",
      "[LightGBM] [Warning] lambda_l1 is set=0.40857367058020316, reg_alpha=0.0 will be ignored. Current value: lambda_l1=0.40857367058020316\n",
      "[LightGBM] [Warning] feature_fraction is set=0.4576954978147938, colsample_bytree=1.0 will be ignored. Current value: feature_fraction=0.4576954978147938\n",
      "[LightGBM] [Warning] lambda_l2 is set=0.17462703285588696, reg_lambda=0.0 will be ignored. Current value: lambda_l2=0.17462703285588696\n",
      "[LightGBM] [Warning] bagging_freq is set=7, subsample_freq=0 will be ignored. Current value: bagging_freq=7\n",
      "[LightGBM] [Warning] bagging_fraction is set=0.9273107632748526, subsample=1.0 will be ignored. Current value: bagging_fraction=0.9273107632748526\n",
      "[LightGBM] [Warning] lambda_l1 is set=0.40857367058020316, reg_alpha=0.0 will be ignored. Current value: lambda_l1=0.40857367058020316\n",
      "[LightGBM] [Warning] feature_fraction is set=0.4576954978147938, colsample_bytree=1.0 will be ignored. Current value: feature_fraction=0.4576954978147938\n",
      "[LightGBM] [Warning] lambda_l2 is set=0.17462703285588696, reg_lambda=0.0 will be ignored. Current value: lambda_l2=0.17462703285588696\n",
      "[LightGBM] [Warning] bagging_freq is set=7, subsample_freq=0 will be ignored. Current value: bagging_freq=7\n",
      "[LightGBM] [Warning] bagging_fraction is set=0.9273107632748526, subsample=1.0 will be ignored. Current value: bagging_fraction=0.9273107632748526\n",
      "[LightGBM] [Warning] lambda_l1 is set=0.40857367058020316, reg_alpha=0.0 will be ignored. Current value: lambda_l1=0.40857367058020316\n",
      "[LightGBM] [Warning] feature_fraction is set=0.4576954978147938, colsample_bytree=1.0 will be ignored. Current value: feature_fraction=0.4576954978147938\n",
      "[LightGBM] [Warning] lambda_l2 is set=0.17462703285588696, reg_lambda=0.0 will be ignored. Current value: lambda_l2=0.17462703285588696\n",
      "[LightGBM] [Warning] bagging_freq is set=7, subsample_freq=0 will be ignored. Current value: bagging_freq=7\n",
      "[LightGBM] [Warning] bagging_fraction is set=0.9273107632748526, subsample=1.0 will be ignored. Current value: bagging_fraction=0.9273107632748526\n",
      "[LightGBM] [Warning] lambda_l1 is set=0.40857367058020316, reg_alpha=0.0 will be ignored. Current value: lambda_l1=0.40857367058020316\n",
      "[LightGBM] [Warning] feature_fraction is set=0.4576954978147938, colsample_bytree=1.0 will be ignored. Current value: feature_fraction=0.4576954978147938\n",
      "[LightGBM] [Warning] lambda_l2 is set=0.17462703285588696, reg_lambda=0.0 will be ignored. Current value: lambda_l2=0.17462703285588696\n",
      "[LightGBM] [Warning] bagging_freq is set=7, subsample_freq=0 will be ignored. Current value: bagging_freq=7\n"
     ]
    },
    {
     "name": "stderr",
     "output_type": "stream",
     "text": [
      "\u001b[32m[I 2023-03-15 19:53:28,367]\u001b[0m Trial 18 finished with value: 0.7467389203035136 and parameters: {'lambda_l1': 0.40857367058020316, 'lambda_l2': 0.17462703285588696, 'num_leaves': 45, 'feature_fraction': 0.4576954978147938, 'bagging_fraction': 0.9273107632748526, 'bagging_freq': 7, 'min_child_samples': 36}. Best is trial 10 with value: 0.7745865179477619.\u001b[0m\n"
     ]
    },
    {
     "name": "stdout",
     "output_type": "stream",
     "text": [
      "[LightGBM] [Warning] bagging_fraction is set=0.9273107632748526, subsample=1.0 will be ignored. Current value: bagging_fraction=0.9273107632748526\n",
      "[LightGBM] [Warning] lambda_l1 is set=0.40857367058020316, reg_alpha=0.0 will be ignored. Current value: lambda_l1=0.40857367058020316\n",
      "[LightGBM] [Warning] feature_fraction is set=0.4576954978147938, colsample_bytree=1.0 will be ignored. Current value: feature_fraction=0.4576954978147938\n",
      "[LightGBM] [Warning] lambda_l2 is set=0.17462703285588696, reg_lambda=0.0 will be ignored. Current value: lambda_l2=0.17462703285588696\n",
      "[LightGBM] [Warning] bagging_freq is set=7, subsample_freq=0 will be ignored. Current value: bagging_freq=7\n",
      "[LightGBM] [Warning] bagging_fraction is set=0.8092838991313358, subsample=1.0 will be ignored. Current value: bagging_fraction=0.8092838991313358\n",
      "[LightGBM] [Warning] lambda_l1 is set=0.2079892783180344, reg_alpha=0.0 will be ignored. Current value: lambda_l1=0.2079892783180344\n",
      "[LightGBM] [Warning] feature_fraction is set=0.5541211240117581, colsample_bytree=1.0 will be ignored. Current value: feature_fraction=0.5541211240117581\n",
      "[LightGBM] [Warning] lambda_l2 is set=2.2340937207188776, reg_lambda=0.0 will be ignored. Current value: lambda_l2=2.2340937207188776\n",
      "[LightGBM] [Warning] bagging_freq is set=3, subsample_freq=0 will be ignored. Current value: bagging_freq=3\n",
      "[LightGBM] [Warning] bagging_fraction is set=0.8092838991313358, subsample=1.0 will be ignored. Current value: bagging_fraction=0.8092838991313358\n",
      "[LightGBM] [Warning] lambda_l1 is set=0.2079892783180344, reg_alpha=0.0 will be ignored. Current value: lambda_l1=0.2079892783180344\n",
      "[LightGBM] [Warning] feature_fraction is set=0.5541211240117581, colsample_bytree=1.0 will be ignored. Current value: feature_fraction=0.5541211240117581\n",
      "[LightGBM] [Warning] lambda_l2 is set=2.2340937207188776, reg_lambda=0.0 will be ignored. Current value: lambda_l2=2.2340937207188776\n",
      "[LightGBM] [Warning] bagging_freq is set=3, subsample_freq=0 will be ignored. Current value: bagging_freq=3\n",
      "[LightGBM] [Warning] bagging_fraction is set=0.8092838991313358, subsample=1.0 will be ignored. Current value: bagging_fraction=0.8092838991313358\n",
      "[LightGBM] [Warning] lambda_l1 is set=0.2079892783180344, reg_alpha=0.0 will be ignored. Current value: lambda_l1=0.2079892783180344\n",
      "[LightGBM] [Warning] feature_fraction is set=0.5541211240117581, colsample_bytree=1.0 will be ignored. Current value: feature_fraction=0.5541211240117581\n",
      "[LightGBM] [Warning] lambda_l2 is set=2.2340937207188776, reg_lambda=0.0 will be ignored. Current value: lambda_l2=2.2340937207188776\n",
      "[LightGBM] [Warning] bagging_freq is set=3, subsample_freq=0 will be ignored. Current value: bagging_freq=3\n",
      "[LightGBM] [Warning] bagging_fraction is set=0.8092838991313358, subsample=1.0 will be ignored. Current value: bagging_fraction=0.8092838991313358\n",
      "[LightGBM] [Warning] lambda_l1 is set=0.2079892783180344, reg_alpha=0.0 will be ignored. Current value: lambda_l1=0.2079892783180344\n",
      "[LightGBM] [Warning] feature_fraction is set=0.5541211240117581, colsample_bytree=1.0 will be ignored. Current value: feature_fraction=0.5541211240117581\n",
      "[LightGBM] [Warning] lambda_l2 is set=2.2340937207188776, reg_lambda=0.0 will be ignored. Current value: lambda_l2=2.2340937207188776\n",
      "[LightGBM] [Warning] bagging_freq is set=3, subsample_freq=0 will be ignored. Current value: bagging_freq=3\n",
      "[LightGBM] [Warning] bagging_fraction is set=0.8092838991313358, subsample=1.0 will be ignored. Current value: bagging_fraction=0.8092838991313358\n",
      "[LightGBM] [Warning] lambda_l1 is set=0.2079892783180344, reg_alpha=0.0 will be ignored. Current value: lambda_l1=0.2079892783180344\n",
      "[LightGBM] [Warning] feature_fraction is set=0.5541211240117581, colsample_bytree=1.0 will be ignored. Current value: feature_fraction=0.5541211240117581\n",
      "[LightGBM] [Warning] lambda_l2 is set=2.2340937207188776, reg_lambda=0.0 will be ignored. Current value: lambda_l2=2.2340937207188776\n",
      "[LightGBM] [Warning] bagging_freq is set=3, subsample_freq=0 will be ignored. Current value: bagging_freq=3\n"
     ]
    },
    {
     "name": "stderr",
     "output_type": "stream",
     "text": [
      "\u001b[32m[I 2023-03-15 19:53:28,998]\u001b[0m Trial 19 finished with value: 0.7463552131016246 and parameters: {'lambda_l1': 0.2079892783180344, 'lambda_l2': 2.2340937207188776, 'num_leaves': 127, 'feature_fraction': 0.5541211240117581, 'bagging_fraction': 0.8092838991313358, 'bagging_freq': 3, 'min_child_samples': 60}. Best is trial 10 with value: 0.7745865179477619.\u001b[0m\n"
     ]
    },
    {
     "name": "stdout",
     "output_type": "stream",
     "text": [
      "[LightGBM] [Warning] bagging_fraction is set=0.8857274222611122, subsample=1.0 will be ignored. Current value: bagging_fraction=0.8857274222611122\n",
      "[LightGBM] [Warning] lambda_l1 is set=1.196514491626357, reg_alpha=0.0 will be ignored. Current value: lambda_l1=1.196514491626357\n",
      "[LightGBM] [Warning] feature_fraction is set=0.4567610130084637, colsample_bytree=1.0 will be ignored. Current value: feature_fraction=0.4567610130084637\n",
      "[LightGBM] [Warning] lambda_l2 is set=0.001892112245283727, reg_lambda=0.0 will be ignored. Current value: lambda_l2=0.001892112245283727\n",
      "[LightGBM] [Warning] bagging_freq is set=6, subsample_freq=0 will be ignored. Current value: bagging_freq=6\n",
      "[LightGBM] [Warning] bagging_fraction is set=0.8857274222611122, subsample=1.0 will be ignored. Current value: bagging_fraction=0.8857274222611122\n",
      "[LightGBM] [Warning] lambda_l1 is set=1.196514491626357, reg_alpha=0.0 will be ignored. Current value: lambda_l1=1.196514491626357\n",
      "[LightGBM] [Warning] feature_fraction is set=0.4567610130084637, colsample_bytree=1.0 will be ignored. Current value: feature_fraction=0.4567610130084637\n",
      "[LightGBM] [Warning] lambda_l2 is set=0.001892112245283727, reg_lambda=0.0 will be ignored. Current value: lambda_l2=0.001892112245283727\n",
      "[LightGBM] [Warning] bagging_freq is set=6, subsample_freq=0 will be ignored. Current value: bagging_freq=6\n",
      "[LightGBM] [Warning] bagging_fraction is set=0.8857274222611122, subsample=1.0 will be ignored. Current value: bagging_fraction=0.8857274222611122\n",
      "[LightGBM] [Warning] lambda_l1 is set=1.196514491626357, reg_alpha=0.0 will be ignored. Current value: lambda_l1=1.196514491626357\n",
      "[LightGBM] [Warning] feature_fraction is set=0.4567610130084637, colsample_bytree=1.0 will be ignored. Current value: feature_fraction=0.4567610130084637\n",
      "[LightGBM] [Warning] lambda_l2 is set=0.001892112245283727, reg_lambda=0.0 will be ignored. Current value: lambda_l2=0.001892112245283727\n",
      "[LightGBM] [Warning] bagging_freq is set=6, subsample_freq=0 will be ignored. Current value: bagging_freq=6\n",
      "[LightGBM] [Warning] bagging_fraction is set=0.8857274222611122, subsample=1.0 will be ignored. Current value: bagging_fraction=0.8857274222611122\n",
      "[LightGBM] [Warning] lambda_l1 is set=1.196514491626357, reg_alpha=0.0 will be ignored. Current value: lambda_l1=1.196514491626357\n",
      "[LightGBM] [Warning] feature_fraction is set=0.4567610130084637, colsample_bytree=1.0 will be ignored. Current value: feature_fraction=0.4567610130084637\n",
      "[LightGBM] [Warning] lambda_l2 is set=0.001892112245283727, reg_lambda=0.0 will be ignored. Current value: lambda_l2=0.001892112245283727\n",
      "[LightGBM] [Warning] bagging_freq is set=6, subsample_freq=0 will be ignored. Current value: bagging_freq=6\n"
     ]
    },
    {
     "name": "stderr",
     "output_type": "stream",
     "text": [
      "\u001b[32m[I 2023-03-15 19:53:29,928]\u001b[0m Trial 20 finished with value: 0.7381900860967846 and parameters: {'lambda_l1': 1.196514491626357, 'lambda_l2': 0.001892112245283727, 'num_leaves': 171, 'feature_fraction': 0.4567610130084637, 'bagging_fraction': 0.8857274222611122, 'bagging_freq': 6, 'min_child_samples': 21}. Best is trial 10 with value: 0.7745865179477619.\u001b[0m\n"
     ]
    },
    {
     "name": "stdout",
     "output_type": "stream",
     "text": [
      "[LightGBM] [Warning] bagging_fraction is set=0.8857274222611122, subsample=1.0 will be ignored. Current value: bagging_fraction=0.8857274222611122\n",
      "[LightGBM] [Warning] lambda_l1 is set=1.196514491626357, reg_alpha=0.0 will be ignored. Current value: lambda_l1=1.196514491626357\n",
      "[LightGBM] [Warning] feature_fraction is set=0.4567610130084637, colsample_bytree=1.0 will be ignored. Current value: feature_fraction=0.4567610130084637\n",
      "[LightGBM] [Warning] lambda_l2 is set=0.001892112245283727, reg_lambda=0.0 will be ignored. Current value: lambda_l2=0.001892112245283727\n",
      "[LightGBM] [Warning] bagging_freq is set=6, subsample_freq=0 will be ignored. Current value: bagging_freq=6\n",
      "[LightGBM] [Warning] bagging_fraction is set=0.9258897282169257, subsample=1.0 will be ignored. Current value: bagging_fraction=0.9258897282169257\n",
      "[LightGBM] [Warning] lambda_l1 is set=1.8302997388583893, reg_alpha=0.0 will be ignored. Current value: lambda_l1=1.8302997388583893\n",
      "[LightGBM] [Warning] feature_fraction is set=0.6043092331442392, colsample_bytree=1.0 will be ignored. Current value: feature_fraction=0.6043092331442392\n",
      "[LightGBM] [Warning] lambda_l2 is set=0.4100260873232301, reg_lambda=0.0 will be ignored. Current value: lambda_l2=0.4100260873232301\n",
      "[LightGBM] [Warning] bagging_freq is set=5, subsample_freq=0 will be ignored. Current value: bagging_freq=5\n",
      "[LightGBM] [Warning] bagging_fraction is set=0.9258897282169257, subsample=1.0 will be ignored. Current value: bagging_fraction=0.9258897282169257\n",
      "[LightGBM] [Warning] lambda_l1 is set=1.8302997388583893, reg_alpha=0.0 will be ignored. Current value: lambda_l1=1.8302997388583893\n",
      "[LightGBM] [Warning] feature_fraction is set=0.6043092331442392, colsample_bytree=1.0 will be ignored. Current value: feature_fraction=0.6043092331442392\n",
      "[LightGBM] [Warning] lambda_l2 is set=0.4100260873232301, reg_lambda=0.0 will be ignored. Current value: lambda_l2=0.4100260873232301\n",
      "[LightGBM] [Warning] bagging_freq is set=5, subsample_freq=0 will be ignored. Current value: bagging_freq=5\n",
      "[LightGBM] [Warning] bagging_fraction is set=0.9258897282169257, subsample=1.0 will be ignored. Current value: bagging_fraction=0.9258897282169257\n",
      "[LightGBM] [Warning] lambda_l1 is set=1.8302997388583893, reg_alpha=0.0 will be ignored. Current value: lambda_l1=1.8302997388583893\n",
      "[LightGBM] [Warning] feature_fraction is set=0.6043092331442392, colsample_bytree=1.0 will be ignored. Current value: feature_fraction=0.6043092331442392\n",
      "[LightGBM] [Warning] lambda_l2 is set=0.4100260873232301, reg_lambda=0.0 will be ignored. Current value: lambda_l2=0.4100260873232301\n",
      "[LightGBM] [Warning] bagging_freq is set=5, subsample_freq=0 will be ignored. Current value: bagging_freq=5\n",
      "[LightGBM] [Warning] bagging_fraction is set=0.9258897282169257, subsample=1.0 will be ignored. Current value: bagging_fraction=0.9258897282169257\n",
      "[LightGBM] [Warning] lambda_l1 is set=1.8302997388583893, reg_alpha=0.0 will be ignored. Current value: lambda_l1=1.8302997388583893\n",
      "[LightGBM] [Warning] feature_fraction is set=0.6043092331442392, colsample_bytree=1.0 will be ignored. Current value: feature_fraction=0.6043092331442392\n",
      "[LightGBM] [Warning] lambda_l2 is set=0.4100260873232301, reg_lambda=0.0 will be ignored. Current value: lambda_l2=0.4100260873232301\n",
      "[LightGBM] [Warning] bagging_freq is set=5, subsample_freq=0 will be ignored. Current value: bagging_freq=5\n"
     ]
    },
    {
     "name": "stderr",
     "output_type": "stream",
     "text": [
      "\u001b[32m[I 2023-03-15 19:53:30,689]\u001b[0m Trial 21 finished with value: 0.7470952691646472 and parameters: {'lambda_l1': 1.8302997388583893, 'lambda_l2': 0.4100260873232301, 'num_leaves': 15, 'feature_fraction': 0.6043092331442392, 'bagging_fraction': 0.9258897282169257, 'bagging_freq': 5, 'min_child_samples': 44}. Best is trial 10 with value: 0.7745865179477619.\u001b[0m\n"
     ]
    },
    {
     "name": "stdout",
     "output_type": "stream",
     "text": [
      "[LightGBM] [Warning] bagging_fraction is set=0.9258897282169257, subsample=1.0 will be ignored. Current value: bagging_fraction=0.9258897282169257\n",
      "[LightGBM] [Warning] lambda_l1 is set=1.8302997388583893, reg_alpha=0.0 will be ignored. Current value: lambda_l1=1.8302997388583893\n",
      "[LightGBM] [Warning] feature_fraction is set=0.6043092331442392, colsample_bytree=1.0 will be ignored. Current value: feature_fraction=0.6043092331442392\n",
      "[LightGBM] [Warning] lambda_l2 is set=0.4100260873232301, reg_lambda=0.0 will be ignored. Current value: lambda_l2=0.4100260873232301\n",
      "[LightGBM] [Warning] bagging_freq is set=5, subsample_freq=0 will be ignored. Current value: bagging_freq=5\n",
      "[LightGBM] [Warning] bagging_fraction is set=0.8866323940163737, subsample=1.0 will be ignored. Current value: bagging_fraction=0.8866323940163737\n",
      "[LightGBM] [Warning] lambda_l1 is set=8.18653215645121, reg_alpha=0.0 will be ignored. Current value: lambda_l1=8.18653215645121\n",
      "[LightGBM] [Warning] feature_fraction is set=0.5596302470034582, colsample_bytree=1.0 will be ignored. Current value: feature_fraction=0.5596302470034582\n",
      "[LightGBM] [Warning] lambda_l2 is set=1.4822076821161398, reg_lambda=0.0 will be ignored. Current value: lambda_l2=1.4822076821161398\n",
      "[LightGBM] [Warning] bagging_freq is set=6, subsample_freq=0 will be ignored. Current value: bagging_freq=6\n",
      "[LightGBM] [Warning] bagging_fraction is set=0.8866323940163737, subsample=1.0 will be ignored. Current value: bagging_fraction=0.8866323940163737\n",
      "[LightGBM] [Warning] lambda_l1 is set=8.18653215645121, reg_alpha=0.0 will be ignored. Current value: lambda_l1=8.18653215645121\n",
      "[LightGBM] [Warning] feature_fraction is set=0.5596302470034582, colsample_bytree=1.0 will be ignored. Current value: feature_fraction=0.5596302470034582\n",
      "[LightGBM] [Warning] lambda_l2 is set=1.4822076821161398, reg_lambda=0.0 will be ignored. Current value: lambda_l2=1.4822076821161398\n",
      "[LightGBM] [Warning] bagging_freq is set=6, subsample_freq=0 will be ignored. Current value: bagging_freq=6\n",
      "[LightGBM] [Warning] bagging_fraction is set=0.8866323940163737, subsample=1.0 will be ignored. Current value: bagging_fraction=0.8866323940163737\n",
      "[LightGBM] [Warning] lambda_l1 is set=8.18653215645121, reg_alpha=0.0 will be ignored. Current value: lambda_l1=8.18653215645121\n",
      "[LightGBM] [Warning] feature_fraction is set=0.5596302470034582, colsample_bytree=1.0 will be ignored. Current value: feature_fraction=0.5596302470034582\n",
      "[LightGBM] [Warning] lambda_l2 is set=1.4822076821161398, reg_lambda=0.0 will be ignored. Current value: lambda_l2=1.4822076821161398\n",
      "[LightGBM] [Warning] bagging_freq is set=6, subsample_freq=0 will be ignored. Current value: bagging_freq=6\n",
      "[LightGBM] [Warning] bagging_fraction is set=0.8866323940163737, subsample=1.0 will be ignored. Current value: bagging_fraction=0.8866323940163737\n",
      "[LightGBM] [Warning] lambda_l1 is set=8.18653215645121, reg_alpha=0.0 will be ignored. Current value: lambda_l1=8.18653215645121\n",
      "[LightGBM] [Warning] feature_fraction is set=0.5596302470034582, colsample_bytree=1.0 will be ignored. Current value: feature_fraction=0.5596302470034582\n",
      "[LightGBM] [Warning] lambda_l2 is set=1.4822076821161398, reg_lambda=0.0 will be ignored. Current value: lambda_l2=1.4822076821161398\n",
      "[LightGBM] [Warning] bagging_freq is set=6, subsample_freq=0 will be ignored. Current value: bagging_freq=6\n"
     ]
    },
    {
     "name": "stderr",
     "output_type": "stream",
     "text": [
      "\u001b[32m[I 2023-03-15 19:53:31,131]\u001b[0m Trial 22 finished with value: 0.7741341991341992 and parameters: {'lambda_l1': 8.18653215645121, 'lambda_l2': 1.4822076821161398, 'num_leaves': 5, 'feature_fraction': 0.5596302470034582, 'bagging_fraction': 0.8866323940163737, 'bagging_freq': 6, 'min_child_samples': 41}. Best is trial 10 with value: 0.7745865179477619.\u001b[0m\n"
     ]
    },
    {
     "name": "stdout",
     "output_type": "stream",
     "text": [
      "[LightGBM] [Warning] bagging_fraction is set=0.8866323940163737, subsample=1.0 will be ignored. Current value: bagging_fraction=0.8866323940163737\n",
      "[LightGBM] [Warning] lambda_l1 is set=8.18653215645121, reg_alpha=0.0 will be ignored. Current value: lambda_l1=8.18653215645121\n",
      "[LightGBM] [Warning] feature_fraction is set=0.5596302470034582, colsample_bytree=1.0 will be ignored. Current value: feature_fraction=0.5596302470034582\n",
      "[LightGBM] [Warning] lambda_l2 is set=1.4822076821161398, reg_lambda=0.0 will be ignored. Current value: lambda_l2=1.4822076821161398\n",
      "[LightGBM] [Warning] bagging_freq is set=6, subsample_freq=0 will be ignored. Current value: bagging_freq=6\n",
      "[LightGBM] [Warning] bagging_fraction is set=0.8525786228918251, subsample=1.0 will be ignored. Current value: bagging_fraction=0.8525786228918251\n",
      "[LightGBM] [Warning] lambda_l1 is set=9.03817685864414, reg_alpha=0.0 will be ignored. Current value: lambda_l1=9.03817685864414\n",
      "[LightGBM] [Warning] feature_fraction is set=0.5547571575729559, colsample_bytree=1.0 will be ignored. Current value: feature_fraction=0.5547571575729559\n",
      "[LightGBM] [Warning] lambda_l2 is set=1.731497770645872, reg_lambda=0.0 will be ignored. Current value: lambda_l2=1.731497770645872\n",
      "[LightGBM] [Warning] bagging_freq is set=6, subsample_freq=0 will be ignored. Current value: bagging_freq=6\n",
      "[LightGBM] [Warning] bagging_fraction is set=0.8525786228918251, subsample=1.0 will be ignored. Current value: bagging_fraction=0.8525786228918251\n",
      "[LightGBM] [Warning] lambda_l1 is set=9.03817685864414, reg_alpha=0.0 will be ignored. Current value: lambda_l1=9.03817685864414\n",
      "[LightGBM] [Warning] feature_fraction is set=0.5547571575729559, colsample_bytree=1.0 will be ignored. Current value: feature_fraction=0.5547571575729559\n",
      "[LightGBM] [Warning] lambda_l2 is set=1.731497770645872, reg_lambda=0.0 will be ignored. Current value: lambda_l2=1.731497770645872\n",
      "[LightGBM] [Warning] bagging_freq is set=6, subsample_freq=0 will be ignored. Current value: bagging_freq=6\n",
      "[LightGBM] [Warning] bagging_fraction is set=0.8525786228918251, subsample=1.0 will be ignored. Current value: bagging_fraction=0.8525786228918251\n",
      "[LightGBM] [Warning] lambda_l1 is set=9.03817685864414, reg_alpha=0.0 will be ignored. Current value: lambda_l1=9.03817685864414\n",
      "[LightGBM] [Warning] feature_fraction is set=0.5547571575729559, colsample_bytree=1.0 will be ignored. Current value: feature_fraction=0.5547571575729559\n",
      "[LightGBM] [Warning] lambda_l2 is set=1.731497770645872, reg_lambda=0.0 will be ignored. Current value: lambda_l2=1.731497770645872\n",
      "[LightGBM] [Warning] bagging_freq is set=6, subsample_freq=0 will be ignored. Current value: bagging_freq=6\n",
      "[LightGBM] [Warning] bagging_fraction is set=0.8525786228918251, subsample=1.0 will be ignored. Current value: bagging_fraction=0.8525786228918251\n",
      "[LightGBM] [Warning] lambda_l1 is set=9.03817685864414, reg_alpha=0.0 will be ignored. Current value: lambda_l1=9.03817685864414\n",
      "[LightGBM] [Warning] feature_fraction is set=0.5547571575729559, colsample_bytree=1.0 will be ignored. Current value: feature_fraction=0.5547571575729559\n",
      "[LightGBM] [Warning] lambda_l2 is set=1.731497770645872, reg_lambda=0.0 will be ignored. Current value: lambda_l2=1.731497770645872\n",
      "[LightGBM] [Warning] bagging_freq is set=6, subsample_freq=0 will be ignored. Current value: bagging_freq=6\n"
     ]
    },
    {
     "name": "stderr",
     "output_type": "stream",
     "text": [
      "\u001b[32m[I 2023-03-15 19:53:31,629]\u001b[0m Trial 23 finished with value: 0.7688801894543522 and parameters: {'lambda_l1': 9.03817685864414, 'lambda_l2': 1.731497770645872, 'num_leaves': 32, 'feature_fraction': 0.5547571575729559, 'bagging_fraction': 0.8525786228918251, 'bagging_freq': 6, 'min_child_samples': 38}. Best is trial 10 with value: 0.7745865179477619.\u001b[0m\n"
     ]
    },
    {
     "name": "stdout",
     "output_type": "stream",
     "text": [
      "[LightGBM] [Warning] bagging_fraction is set=0.8525786228918251, subsample=1.0 will be ignored. Current value: bagging_fraction=0.8525786228918251\n",
      "[LightGBM] [Warning] lambda_l1 is set=9.03817685864414, reg_alpha=0.0 will be ignored. Current value: lambda_l1=9.03817685864414\n",
      "[LightGBM] [Warning] feature_fraction is set=0.5547571575729559, colsample_bytree=1.0 will be ignored. Current value: feature_fraction=0.5547571575729559\n",
      "[LightGBM] [Warning] lambda_l2 is set=1.731497770645872, reg_lambda=0.0 will be ignored. Current value: lambda_l2=1.731497770645872\n",
      "[LightGBM] [Warning] bagging_freq is set=6, subsample_freq=0 will be ignored. Current value: bagging_freq=6\n",
      "[LightGBM] [Warning] bagging_fraction is set=0.8622751346384462, subsample=1.0 will be ignored. Current value: bagging_fraction=0.8622751346384462\n",
      "[LightGBM] [Warning] lambda_l1 is set=0.3116085304348016, reg_alpha=0.0 will be ignored. Current value: lambda_l1=0.3116085304348016\n",
      "[LightGBM] [Warning] feature_fraction is set=0.5499162882882637, colsample_bytree=1.0 will be ignored. Current value: feature_fraction=0.5499162882882637\n",
      "[LightGBM] [Warning] lambda_l2 is set=9.129051294011564, reg_lambda=0.0 will be ignored. Current value: lambda_l2=9.129051294011564\n",
      "[LightGBM] [Warning] bagging_freq is set=6, subsample_freq=0 will be ignored. Current value: bagging_freq=6\n",
      "[LightGBM] [Warning] bagging_fraction is set=0.8622751346384462, subsample=1.0 will be ignored. Current value: bagging_fraction=0.8622751346384462\n",
      "[LightGBM] [Warning] lambda_l1 is set=0.3116085304348016, reg_alpha=0.0 will be ignored. Current value: lambda_l1=0.3116085304348016\n",
      "[LightGBM] [Warning] feature_fraction is set=0.5499162882882637, colsample_bytree=1.0 will be ignored. Current value: feature_fraction=0.5499162882882637\n",
      "[LightGBM] [Warning] lambda_l2 is set=9.129051294011564, reg_lambda=0.0 will be ignored. Current value: lambda_l2=9.129051294011564\n",
      "[LightGBM] [Warning] bagging_freq is set=6, subsample_freq=0 will be ignored. Current value: bagging_freq=6\n",
      "[LightGBM] [Warning] bagging_fraction is set=0.8622751346384462, subsample=1.0 will be ignored. Current value: bagging_fraction=0.8622751346384462\n",
      "[LightGBM] [Warning] lambda_l1 is set=0.3116085304348016, reg_alpha=0.0 will be ignored. Current value: lambda_l1=0.3116085304348016\n",
      "[LightGBM] [Warning] feature_fraction is set=0.5499162882882637, colsample_bytree=1.0 will be ignored. Current value: feature_fraction=0.5499162882882637\n",
      "[LightGBM] [Warning] lambda_l2 is set=9.129051294011564, reg_lambda=0.0 will be ignored. Current value: lambda_l2=9.129051294011564\n",
      "[LightGBM] [Warning] bagging_freq is set=6, subsample_freq=0 will be ignored. Current value: bagging_freq=6\n",
      "[LightGBM] [Warning] bagging_fraction is set=0.8622751346384462, subsample=1.0 will be ignored. Current value: bagging_fraction=0.8622751346384462\n",
      "[LightGBM] [Warning] lambda_l1 is set=0.3116085304348016, reg_alpha=0.0 will be ignored. Current value: lambda_l1=0.3116085304348016\n",
      "[LightGBM] [Warning] feature_fraction is set=0.5499162882882637, colsample_bytree=1.0 will be ignored. Current value: feature_fraction=0.5499162882882637\n",
      "[LightGBM] [Warning] lambda_l2 is set=9.129051294011564, reg_lambda=0.0 will be ignored. Current value: lambda_l2=9.129051294011564\n",
      "[LightGBM] [Warning] bagging_freq is set=6, subsample_freq=0 will be ignored. Current value: bagging_freq=6\n",
      "[LightGBM] [Warning] bagging_fraction is set=0.8622751346384462, subsample=1.0 will be ignored. Current value: bagging_fraction=0.8622751346384462\n",
      "[LightGBM] [Warning] lambda_l1 is set=0.3116085304348016, reg_alpha=0.0 will be ignored. Current value: lambda_l1=0.3116085304348016\n",
      "[LightGBM] [Warning] feature_fraction is set=0.5499162882882637, colsample_bytree=1.0 will be ignored. Current value: feature_fraction=0.5499162882882637\n",
      "[LightGBM] [Warning] lambda_l2 is set=9.129051294011564, reg_lambda=0.0 will be ignored. Current value: lambda_l2=9.129051294011564\n",
      "[LightGBM] [Warning] bagging_freq is set=6, subsample_freq=0 will be ignored. Current value: bagging_freq=6\n"
     ]
    },
    {
     "name": "stderr",
     "output_type": "stream",
     "text": [
      "\u001b[32m[I 2023-03-15 19:53:32,243]\u001b[0m Trial 24 finished with value: 0.7566626621650545 and parameters: {'lambda_l1': 0.3116085304348016, 'lambda_l2': 9.129051294011564, 'num_leaves': 31, 'feature_fraction': 0.5499162882882637, 'bagging_fraction': 0.8622751346384462, 'bagging_freq': 6, 'min_child_samples': 54}. Best is trial 10 with value: 0.7745865179477619.\u001b[0m\n"
     ]
    },
    {
     "name": "stdout",
     "output_type": "stream",
     "text": [
      "[LightGBM] [Warning] bagging_fraction is set=0.9609568602709685, subsample=1.0 will be ignored. Current value: bagging_fraction=0.9609568602709685\n",
      "[LightGBM] [Warning] lambda_l1 is set=0.09627901158633201, reg_alpha=0.0 will be ignored. Current value: lambda_l1=0.09627901158633201\n",
      "[LightGBM] [Warning] feature_fraction is set=0.5301366572925041, colsample_bytree=1.0 will be ignored. Current value: feature_fraction=0.5301366572925041\n",
      "[LightGBM] [Warning] lambda_l2 is set=1.4296485728772927, reg_lambda=0.0 will be ignored. Current value: lambda_l2=1.4296485728772927\n",
      "[LightGBM] [Warning] bagging_freq is set=6, subsample_freq=0 will be ignored. Current value: bagging_freq=6\n",
      "[LightGBM] [Warning] bagging_fraction is set=0.9609568602709685, subsample=1.0 will be ignored. Current value: bagging_fraction=0.9609568602709685\n",
      "[LightGBM] [Warning] lambda_l1 is set=0.09627901158633201, reg_alpha=0.0 will be ignored. Current value: lambda_l1=0.09627901158633201\n",
      "[LightGBM] [Warning] feature_fraction is set=0.5301366572925041, colsample_bytree=1.0 will be ignored. Current value: feature_fraction=0.5301366572925041\n",
      "[LightGBM] [Warning] lambda_l2 is set=1.4296485728772927, reg_lambda=0.0 will be ignored. Current value: lambda_l2=1.4296485728772927\n",
      "[LightGBM] [Warning] bagging_freq is set=6, subsample_freq=0 will be ignored. Current value: bagging_freq=6\n",
      "[LightGBM] [Warning] bagging_fraction is set=0.9609568602709685, subsample=1.0 will be ignored. Current value: bagging_fraction=0.9609568602709685\n",
      "[LightGBM] [Warning] lambda_l1 is set=0.09627901158633201, reg_alpha=0.0 will be ignored. Current value: lambda_l1=0.09627901158633201\n",
      "[LightGBM] [Warning] feature_fraction is set=0.5301366572925041, colsample_bytree=1.0 will be ignored. Current value: feature_fraction=0.5301366572925041\n",
      "[LightGBM] [Warning] lambda_l2 is set=1.4296485728772927, reg_lambda=0.0 will be ignored. Current value: lambda_l2=1.4296485728772927\n",
      "[LightGBM] [Warning] bagging_freq is set=6, subsample_freq=0 will be ignored. Current value: bagging_freq=6\n",
      "[LightGBM] [Warning] bagging_fraction is set=0.9609568602709685, subsample=1.0 will be ignored. Current value: bagging_fraction=0.9609568602709685\n",
      "[LightGBM] [Warning] lambda_l1 is set=0.09627901158633201, reg_alpha=0.0 will be ignored. Current value: lambda_l1=0.09627901158633201\n",
      "[LightGBM] [Warning] feature_fraction is set=0.5301366572925041, colsample_bytree=1.0 will be ignored. Current value: feature_fraction=0.5301366572925041\n",
      "[LightGBM] [Warning] lambda_l2 is set=1.4296485728772927, reg_lambda=0.0 will be ignored. Current value: lambda_l2=1.4296485728772927\n",
      "[LightGBM] [Warning] bagging_freq is set=6, subsample_freq=0 will be ignored. Current value: bagging_freq=6\n",
      "[LightGBM] [Warning] bagging_fraction is set=0.9609568602709685, subsample=1.0 will be ignored. Current value: bagging_fraction=0.9609568602709685\n",
      "[LightGBM] [Warning] lambda_l1 is set=0.09627901158633201, reg_alpha=0.0 will be ignored. Current value: lambda_l1=0.09627901158633201\n",
      "[LightGBM] [Warning] feature_fraction is set=0.5301366572925041, colsample_bytree=1.0 will be ignored. Current value: feature_fraction=0.5301366572925041\n",
      "[LightGBM] [Warning] lambda_l2 is set=1.4296485728772927, reg_lambda=0.0 will be ignored. Current value: lambda_l2=1.4296485728772927\n",
      "[LightGBM] [Warning] bagging_freq is set=6, subsample_freq=0 will be ignored. Current value: bagging_freq=6\n"
     ]
    },
    {
     "name": "stderr",
     "output_type": "stream",
     "text": [
      "\u001b[32m[I 2023-03-15 19:53:32,543]\u001b[0m Trial 25 finished with value: 0.7906928133004688 and parameters: {'lambda_l1': 0.09627901158633201, 'lambda_l2': 1.4296485728772927, 'num_leaves': 2, 'feature_fraction': 0.5301366572925041, 'bagging_fraction': 0.9609568602709685, 'bagging_freq': 6, 'min_child_samples': 38}. Best is trial 25 with value: 0.7906928133004688.\u001b[0m\n"
     ]
    },
    {
     "name": "stdout",
     "output_type": "stream",
     "text": [
      "[LightGBM] [Warning] bagging_fraction is set=0.9698503320969145, subsample=1.0 will be ignored. Current value: bagging_fraction=0.9698503320969145\n",
      "[LightGBM] [Warning] lambda_l1 is set=0.09993473494083976, reg_alpha=0.0 will be ignored. Current value: lambda_l1=0.09993473494083976\n",
      "[LightGBM] [Warning] feature_fraction is set=0.4565042877411428, colsample_bytree=1.0 will be ignored. Current value: feature_fraction=0.4565042877411428\n",
      "[LightGBM] [Warning] lambda_l2 is set=1.3427880043064337, reg_lambda=0.0 will be ignored. Current value: lambda_l2=1.3427880043064337\n",
      "[LightGBM] [Warning] bagging_freq is set=7, subsample_freq=0 will be ignored. Current value: bagging_freq=7\n",
      "[LightGBM] [Warning] bagging_fraction is set=0.9698503320969145, subsample=1.0 will be ignored. Current value: bagging_fraction=0.9698503320969145\n",
      "[LightGBM] [Warning] lambda_l1 is set=0.09993473494083976, reg_alpha=0.0 will be ignored. Current value: lambda_l1=0.09993473494083976\n",
      "[LightGBM] [Warning] feature_fraction is set=0.4565042877411428, colsample_bytree=1.0 will be ignored. Current value: feature_fraction=0.4565042877411428\n",
      "[LightGBM] [Warning] lambda_l2 is set=1.3427880043064337, reg_lambda=0.0 will be ignored. Current value: lambda_l2=1.3427880043064337\n",
      "[LightGBM] [Warning] bagging_freq is set=7, subsample_freq=0 will be ignored. Current value: bagging_freq=7\n",
      "[LightGBM] [Warning] bagging_fraction is set=0.9698503320969145, subsample=1.0 will be ignored. Current value: bagging_fraction=0.9698503320969145\n",
      "[LightGBM] [Warning] lambda_l1 is set=0.09993473494083976, reg_alpha=0.0 will be ignored. Current value: lambda_l1=0.09993473494083976\n",
      "[LightGBM] [Warning] feature_fraction is set=0.4565042877411428, colsample_bytree=1.0 will be ignored. Current value: feature_fraction=0.4565042877411428\n",
      "[LightGBM] [Warning] lambda_l2 is set=1.3427880043064337, reg_lambda=0.0 will be ignored. Current value: lambda_l2=1.3427880043064337\n",
      "[LightGBM] [Warning] bagging_freq is set=7, subsample_freq=0 will be ignored. Current value: bagging_freq=7\n",
      "[LightGBM] [Warning] bagging_fraction is set=0.9698503320969145, subsample=1.0 will be ignored. Current value: bagging_fraction=0.9698503320969145\n",
      "[LightGBM] [Warning] lambda_l1 is set=0.09993473494083976, reg_alpha=0.0 will be ignored. Current value: lambda_l1=0.09993473494083976\n",
      "[LightGBM] [Warning] feature_fraction is set=0.4565042877411428, colsample_bytree=1.0 will be ignored. Current value: feature_fraction=0.4565042877411428\n",
      "[LightGBM] [Warning] lambda_l2 is set=1.3427880043064337, reg_lambda=0.0 will be ignored. Current value: lambda_l2=1.3427880043064337\n",
      "[LightGBM] [Warning] bagging_freq is set=7, subsample_freq=0 will be ignored. Current value: bagging_freq=7\n"
     ]
    },
    {
     "name": "stderr",
     "output_type": "stream",
     "text": [
      "\u001b[32m[I 2023-03-15 19:53:32,883]\u001b[0m Trial 26 finished with value: 0.777205065004108 and parameters: {'lambda_l1': 0.09993473494083976, 'lambda_l2': 1.3427880043064337, 'num_leaves': 3, 'feature_fraction': 0.4565042877411428, 'bagging_fraction': 0.9698503320969145, 'bagging_freq': 7, 'min_child_samples': 53}. Best is trial 25 with value: 0.7906928133004688.\u001b[0m\n"
     ]
    },
    {
     "name": "stdout",
     "output_type": "stream",
     "text": [
      "[LightGBM] [Warning] bagging_fraction is set=0.9698503320969145, subsample=1.0 will be ignored. Current value: bagging_fraction=0.9698503320969145\n",
      "[LightGBM] [Warning] lambda_l1 is set=0.09993473494083976, reg_alpha=0.0 will be ignored. Current value: lambda_l1=0.09993473494083976\n",
      "[LightGBM] [Warning] feature_fraction is set=0.4565042877411428, colsample_bytree=1.0 will be ignored. Current value: feature_fraction=0.4565042877411428\n",
      "[LightGBM] [Warning] lambda_l2 is set=1.3427880043064337, reg_lambda=0.0 will be ignored. Current value: lambda_l2=1.3427880043064337\n",
      "[LightGBM] [Warning] bagging_freq is set=7, subsample_freq=0 will be ignored. Current value: bagging_freq=7\n",
      "[LightGBM] [Warning] bagging_fraction is set=0.9749686100263983, subsample=1.0 will be ignored. Current value: bagging_fraction=0.9749686100263983\n",
      "[LightGBM] [Warning] lambda_l1 is set=0.00757787092584181, reg_alpha=0.0 will be ignored. Current value: lambda_l1=0.00757787092584181\n",
      "[LightGBM] [Warning] feature_fraction is set=0.40125951298834384, colsample_bytree=1.0 will be ignored. Current value: feature_fraction=0.40125951298834384\n",
      "[LightGBM] [Warning] lambda_l2 is set=0.0993432640811918, reg_lambda=0.0 will be ignored. Current value: lambda_l2=0.0993432640811918\n",
      "[LightGBM] [Warning] bagging_freq is set=7, subsample_freq=0 will be ignored. Current value: bagging_freq=7\n",
      "[LightGBM] [Warning] bagging_fraction is set=0.9749686100263983, subsample=1.0 will be ignored. Current value: bagging_fraction=0.9749686100263983\n",
      "[LightGBM] [Warning] lambda_l1 is set=0.00757787092584181, reg_alpha=0.0 will be ignored. Current value: lambda_l1=0.00757787092584181\n",
      "[LightGBM] [Warning] feature_fraction is set=0.40125951298834384, colsample_bytree=1.0 will be ignored. Current value: feature_fraction=0.40125951298834384\n",
      "[LightGBM] [Warning] lambda_l2 is set=0.0993432640811918, reg_lambda=0.0 will be ignored. Current value: lambda_l2=0.0993432640811918\n",
      "[LightGBM] [Warning] bagging_freq is set=7, subsample_freq=0 will be ignored. Current value: bagging_freq=7\n",
      "[LightGBM] [Warning] bagging_fraction is set=0.9749686100263983, subsample=1.0 will be ignored. Current value: bagging_fraction=0.9749686100263983\n",
      "[LightGBM] [Warning] lambda_l1 is set=0.00757787092584181, reg_alpha=0.0 will be ignored. Current value: lambda_l1=0.00757787092584181\n",
      "[LightGBM] [Warning] feature_fraction is set=0.40125951298834384, colsample_bytree=1.0 will be ignored. Current value: feature_fraction=0.40125951298834384\n",
      "[LightGBM] [Warning] lambda_l2 is set=0.0993432640811918, reg_lambda=0.0 will be ignored. Current value: lambda_l2=0.0993432640811918\n",
      "[LightGBM] [Warning] bagging_freq is set=7, subsample_freq=0 will be ignored. Current value: bagging_freq=7\n"
     ]
    },
    {
     "name": "stderr",
     "output_type": "stream",
     "text": [
      "\u001b[32m[I 2023-03-15 19:53:33,157]\u001b[0m Trial 27 finished with value: 0.7854715128040487 and parameters: {'lambda_l1': 0.00757787092584181, 'lambda_l2': 0.0993432640811918, 'num_leaves': 2, 'feature_fraction': 0.40125951298834384, 'bagging_fraction': 0.9749686100263983, 'bagging_freq': 7, 'min_child_samples': 51}. Best is trial 25 with value: 0.7906928133004688.\u001b[0m\n"
     ]
    },
    {
     "name": "stdout",
     "output_type": "stream",
     "text": [
      "[LightGBM] [Warning] bagging_fraction is set=0.9749686100263983, subsample=1.0 will be ignored. Current value: bagging_fraction=0.9749686100263983\n",
      "[LightGBM] [Warning] lambda_l1 is set=0.00757787092584181, reg_alpha=0.0 will be ignored. Current value: lambda_l1=0.00757787092584181\n",
      "[LightGBM] [Warning] feature_fraction is set=0.40125951298834384, colsample_bytree=1.0 will be ignored. Current value: feature_fraction=0.40125951298834384\n",
      "[LightGBM] [Warning] lambda_l2 is set=0.0993432640811918, reg_lambda=0.0 will be ignored. Current value: lambda_l2=0.0993432640811918\n",
      "[LightGBM] [Warning] bagging_freq is set=7, subsample_freq=0 will be ignored. Current value: bagging_freq=7\n",
      "[LightGBM] [Warning] bagging_fraction is set=0.9749686100263983, subsample=1.0 will be ignored. Current value: bagging_fraction=0.9749686100263983\n",
      "[LightGBM] [Warning] lambda_l1 is set=0.00757787092584181, reg_alpha=0.0 will be ignored. Current value: lambda_l1=0.00757787092584181\n",
      "[LightGBM] [Warning] feature_fraction is set=0.40125951298834384, colsample_bytree=1.0 will be ignored. Current value: feature_fraction=0.40125951298834384\n",
      "[LightGBM] [Warning] lambda_l2 is set=0.0993432640811918, reg_lambda=0.0 will be ignored. Current value: lambda_l2=0.0993432640811918\n",
      "[LightGBM] [Warning] bagging_freq is set=7, subsample_freq=0 will be ignored. Current value: bagging_freq=7\n",
      "[LightGBM] [Warning] bagging_fraction is set=0.9967084544743334, subsample=1.0 will be ignored. Current value: bagging_fraction=0.9967084544743334\n",
      "[LightGBM] [Warning] lambda_l1 is set=0.005636474816392404, reg_alpha=0.0 will be ignored. Current value: lambda_l1=0.005636474816392404\n",
      "[LightGBM] [Warning] feature_fraction is set=0.45950304523818836, colsample_bytree=1.0 will be ignored. Current value: feature_fraction=0.45950304523818836\n",
      "[LightGBM] [Warning] lambda_l2 is set=0.07692809591046756, reg_lambda=0.0 will be ignored. Current value: lambda_l2=0.07692809591046756\n",
      "[LightGBM] [Warning] bagging_freq is set=7, subsample_freq=0 will be ignored. Current value: bagging_freq=7\n",
      "[LightGBM] [Warning] bagging_fraction is set=0.9967084544743334, subsample=1.0 will be ignored. Current value: bagging_fraction=0.9967084544743334\n",
      "[LightGBM] [Warning] lambda_l1 is set=0.005636474816392404, reg_alpha=0.0 will be ignored. Current value: lambda_l1=0.005636474816392404\n",
      "[LightGBM] [Warning] feature_fraction is set=0.45950304523818836, colsample_bytree=1.0 will be ignored. Current value: feature_fraction=0.45950304523818836\n",
      "[LightGBM] [Warning] lambda_l2 is set=0.07692809591046756, reg_lambda=0.0 will be ignored. Current value: lambda_l2=0.07692809591046756\n",
      "[LightGBM] [Warning] bagging_freq is set=7, subsample_freq=0 will be ignored. Current value: bagging_freq=7\n",
      "[LightGBM] [Warning] bagging_fraction is set=0.9967084544743334, subsample=1.0 will be ignored. Current value: bagging_fraction=0.9967084544743334\n",
      "[LightGBM] [Warning] lambda_l1 is set=0.005636474816392404, reg_alpha=0.0 will be ignored. Current value: lambda_l1=0.005636474816392404\n",
      "[LightGBM] [Warning] feature_fraction is set=0.45950304523818836, colsample_bytree=1.0 will be ignored. Current value: feature_fraction=0.45950304523818836\n",
      "[LightGBM] [Warning] lambda_l2 is set=0.07692809591046756, reg_lambda=0.0 will be ignored. Current value: lambda_l2=0.07692809591046756\n",
      "[LightGBM] [Warning] bagging_freq is set=7, subsample_freq=0 will be ignored. Current value: bagging_freq=7\n",
      "[LightGBM] [Warning] bagging_fraction is set=0.9967084544743334, subsample=1.0 will be ignored. Current value: bagging_fraction=0.9967084544743334\n",
      "[LightGBM] [Warning] lambda_l1 is set=0.005636474816392404, reg_alpha=0.0 will be ignored. Current value: lambda_l1=0.005636474816392404\n",
      "[LightGBM] [Warning] feature_fraction is set=0.45950304523818836, colsample_bytree=1.0 will be ignored. Current value: feature_fraction=0.45950304523818836\n",
      "[LightGBM] [Warning] lambda_l2 is set=0.07692809591046756, reg_lambda=0.0 will be ignored. Current value: lambda_l2=0.07692809591046756\n",
      "[LightGBM] [Warning] bagging_freq is set=7, subsample_freq=0 will be ignored. Current value: bagging_freq=7\n",
      "[LightGBM] [Warning] bagging_fraction is set=0.9967084544743334, subsample=1.0 will be ignored. Current value: bagging_fraction=0.9967084544743334\n",
      "[LightGBM] [Warning] lambda_l1 is set=0.005636474816392404, reg_alpha=0.0 will be ignored. Current value: lambda_l1=0.005636474816392404\n",
      "[LightGBM] [Warning] feature_fraction is set=0.45950304523818836, colsample_bytree=1.0 will be ignored. Current value: feature_fraction=0.45950304523818836\n",
      "[LightGBM] [Warning] lambda_l2 is set=0.07692809591046756, reg_lambda=0.0 will be ignored. Current value: lambda_l2=0.07692809591046756\n",
      "[LightGBM] [Warning] bagging_freq is set=7, subsample_freq=0 will be ignored. Current value: bagging_freq=7\n"
     ]
    },
    {
     "name": "stderr",
     "output_type": "stream",
     "text": [
      "\u001b[32m[I 2023-03-15 19:53:33,824]\u001b[0m Trial 28 finished with value: 0.7403353424884525 and parameters: {'lambda_l1': 0.005636474816392404, 'lambda_l2': 0.07692809591046756, 'num_leaves': 54, 'feature_fraction': 0.45950304523818836, 'bagging_fraction': 0.9967084544743334, 'bagging_freq': 7, 'min_child_samples': 58}. Best is trial 25 with value: 0.7906928133004688.\u001b[0m\n"
     ]
    },
    {
     "name": "stdout",
     "output_type": "stream",
     "text": [
      "[LightGBM] [Warning] bagging_fraction is set=0.9765087210609075, subsample=1.0 will be ignored. Current value: bagging_fraction=0.9765087210609075\n",
      "[LightGBM] [Warning] lambda_l1 is set=0.004962009582349095, reg_alpha=0.0 will be ignored. Current value: lambda_l1=0.004962009582349095\n",
      "[LightGBM] [Warning] feature_fraction is set=0.4045115072391363, colsample_bytree=1.0 will be ignored. Current value: feature_fraction=0.4045115072391363\n",
      "[LightGBM] [Warning] lambda_l2 is set=0.008011282958498438, reg_lambda=0.0 will be ignored. Current value: lambda_l2=0.008011282958498438\n",
      "[LightGBM] [Warning] bagging_freq is set=7, subsample_freq=0 will be ignored. Current value: bagging_freq=7\n",
      "[LightGBM] [Warning] bagging_fraction is set=0.9765087210609075, subsample=1.0 will be ignored. Current value: bagging_fraction=0.9765087210609075\n",
      "[LightGBM] [Warning] lambda_l1 is set=0.004962009582349095, reg_alpha=0.0 will be ignored. Current value: lambda_l1=0.004962009582349095\n",
      "[LightGBM] [Warning] feature_fraction is set=0.4045115072391363, colsample_bytree=1.0 will be ignored. Current value: feature_fraction=0.4045115072391363\n",
      "[LightGBM] [Warning] lambda_l2 is set=0.008011282958498438, reg_lambda=0.0 will be ignored. Current value: lambda_l2=0.008011282958498438\n",
      "[LightGBM] [Warning] bagging_freq is set=7, subsample_freq=0 will be ignored. Current value: bagging_freq=7\n",
      "[LightGBM] [Warning] bagging_fraction is set=0.9765087210609075, subsample=1.0 will be ignored. Current value: bagging_fraction=0.9765087210609075\n",
      "[LightGBM] [Warning] lambda_l1 is set=0.004962009582349095, reg_alpha=0.0 will be ignored. Current value: lambda_l1=0.004962009582349095\n",
      "[LightGBM] [Warning] feature_fraction is set=0.4045115072391363, colsample_bytree=1.0 will be ignored. Current value: feature_fraction=0.4045115072391363\n",
      "[LightGBM] [Warning] lambda_l2 is set=0.008011282958498438, reg_lambda=0.0 will be ignored. Current value: lambda_l2=0.008011282958498438\n",
      "[LightGBM] [Warning] bagging_freq is set=7, subsample_freq=0 will be ignored. Current value: bagging_freq=7\n"
     ]
    },
    {
     "name": "stderr",
     "output_type": "stream",
     "text": [
      "\u001b[32m[I 2023-03-15 19:53:34,322]\u001b[0m Trial 29 finished with value: 0.7423564075477952 and parameters: {'lambda_l1': 0.004962009582349095, 'lambda_l2': 0.008011282958498438, 'num_leaves': 68, 'feature_fraction': 0.4045115072391363, 'bagging_fraction': 0.9765087210609075, 'bagging_freq': 7, 'min_child_samples': 82}. Best is trial 25 with value: 0.7906928133004688.\u001b[0m\n"
     ]
    },
    {
     "name": "stdout",
     "output_type": "stream",
     "text": [
      "[LightGBM] [Warning] bagging_fraction is set=0.9765087210609075, subsample=1.0 will be ignored. Current value: bagging_fraction=0.9765087210609075\n",
      "[LightGBM] [Warning] lambda_l1 is set=0.004962009582349095, reg_alpha=0.0 will be ignored. Current value: lambda_l1=0.004962009582349095\n",
      "[LightGBM] [Warning] feature_fraction is set=0.4045115072391363, colsample_bytree=1.0 will be ignored. Current value: feature_fraction=0.4045115072391363\n",
      "[LightGBM] [Warning] lambda_l2 is set=0.008011282958498438, reg_lambda=0.0 will be ignored. Current value: lambda_l2=0.008011282958498438\n",
      "[LightGBM] [Warning] bagging_freq is set=7, subsample_freq=0 will be ignored. Current value: bagging_freq=7\n",
      "[LightGBM] [Warning] bagging_fraction is set=0.9765087210609075, subsample=1.0 will be ignored. Current value: bagging_fraction=0.9765087210609075\n",
      "[LightGBM] [Warning] lambda_l1 is set=0.004962009582349095, reg_alpha=0.0 will be ignored. Current value: lambda_l1=0.004962009582349095\n",
      "[LightGBM] [Warning] feature_fraction is set=0.4045115072391363, colsample_bytree=1.0 will be ignored. Current value: feature_fraction=0.4045115072391363\n",
      "[LightGBM] [Warning] lambda_l2 is set=0.008011282958498438, reg_lambda=0.0 will be ignored. Current value: lambda_l2=0.008011282958498438\n",
      "[LightGBM] [Warning] bagging_freq is set=7, subsample_freq=0 will be ignored. Current value: bagging_freq=7\n",
      "[LightGBM] [Warning] bagging_fraction is set=0.9633939449968779, subsample=1.0 will be ignored. Current value: bagging_fraction=0.9633939449968779\n",
      "[LightGBM] [Warning] lambda_l1 is set=0.06903914080152311, reg_alpha=0.0 will be ignored. Current value: lambda_l1=0.06903914080152311\n",
      "[LightGBM] [Warning] feature_fraction is set=0.5080004989934623, colsample_bytree=1.0 will be ignored. Current value: feature_fraction=0.5080004989934623\n",
      "[LightGBM] [Warning] lambda_l2 is set=0.08852656920118034, reg_lambda=0.0 will be ignored. Current value: lambda_l2=0.08852656920118034\n",
      "[LightGBM] [Warning] bagging_freq is set=7, subsample_freq=0 will be ignored. Current value: bagging_freq=7\n",
      "[LightGBM] [Warning] bagging_fraction is set=0.9633939449968779, subsample=1.0 will be ignored. Current value: bagging_fraction=0.9633939449968779\n",
      "[LightGBM] [Warning] lambda_l1 is set=0.06903914080152311, reg_alpha=0.0 will be ignored. Current value: lambda_l1=0.06903914080152311\n",
      "[LightGBM] [Warning] feature_fraction is set=0.5080004989934623, colsample_bytree=1.0 will be ignored. Current value: feature_fraction=0.5080004989934623\n",
      "[LightGBM] [Warning] lambda_l2 is set=0.08852656920118034, reg_lambda=0.0 will be ignored. Current value: lambda_l2=0.08852656920118034\n",
      "[LightGBM] [Warning] bagging_freq is set=7, subsample_freq=0 will be ignored. Current value: bagging_freq=7\n",
      "[LightGBM] [Warning] bagging_fraction is set=0.9633939449968779, subsample=1.0 will be ignored. Current value: bagging_fraction=0.9633939449968779\n",
      "[LightGBM] [Warning] lambda_l1 is set=0.06903914080152311, reg_alpha=0.0 will be ignored. Current value: lambda_l1=0.06903914080152311\n",
      "[LightGBM] [Warning] feature_fraction is set=0.5080004989934623, colsample_bytree=1.0 will be ignored. Current value: feature_fraction=0.5080004989934623\n",
      "[LightGBM] [Warning] lambda_l2 is set=0.08852656920118034, reg_lambda=0.0 will be ignored. Current value: lambda_l2=0.08852656920118034\n",
      "[LightGBM] [Warning] bagging_freq is set=7, subsample_freq=0 will be ignored. Current value: bagging_freq=7\n",
      "[LightGBM] [Warning] bagging_fraction is set=0.9633939449968779, subsample=1.0 will be ignored. Current value: bagging_fraction=0.9633939449968779\n",
      "[LightGBM] [Warning] lambda_l1 is set=0.06903914080152311, reg_alpha=0.0 will be ignored. Current value: lambda_l1=0.06903914080152311\n",
      "[LightGBM] [Warning] feature_fraction is set=0.5080004989934623, colsample_bytree=1.0 will be ignored. Current value: feature_fraction=0.5080004989934623\n",
      "[LightGBM] [Warning] lambda_l2 is set=0.08852656920118034, reg_lambda=0.0 will be ignored. Current value: lambda_l2=0.08852656920118034\n",
      "[LightGBM] [Warning] bagging_freq is set=7, subsample_freq=0 will be ignored. Current value: bagging_freq=7\n"
     ]
    },
    {
     "name": "stderr",
     "output_type": "stream",
     "text": [
      "\u001b[32m[I 2023-03-15 19:53:34,996]\u001b[0m Trial 30 finished with value: 0.7394995753847429 and parameters: {'lambda_l1': 0.06903914080152311, 'lambda_l2': 0.08852656920118034, 'num_leaves': 30, 'feature_fraction': 0.5080004989934623, 'bagging_fraction': 0.9633939449968779, 'bagging_freq': 7, 'min_child_samples': 54}. Best is trial 25 with value: 0.7906928133004688.\u001b[0m\n"
     ]
    },
    {
     "name": "stdout",
     "output_type": "stream",
     "text": [
      "[LightGBM] [Warning] bagging_fraction is set=0.9633939449968779, subsample=1.0 will be ignored. Current value: bagging_fraction=0.9633939449968779\n",
      "[LightGBM] [Warning] lambda_l1 is set=0.06903914080152311, reg_alpha=0.0 will be ignored. Current value: lambda_l1=0.06903914080152311\n",
      "[LightGBM] [Warning] feature_fraction is set=0.5080004989934623, colsample_bytree=1.0 will be ignored. Current value: feature_fraction=0.5080004989934623\n",
      "[LightGBM] [Warning] lambda_l2 is set=0.08852656920118034, reg_lambda=0.0 will be ignored. Current value: lambda_l2=0.08852656920118034\n",
      "[LightGBM] [Warning] bagging_freq is set=7, subsample_freq=0 will be ignored. Current value: bagging_freq=7\n",
      "[LightGBM] [Warning] bagging_fraction is set=0.9558207307680147, subsample=1.0 will be ignored. Current value: bagging_fraction=0.9558207307680147\n",
      "[LightGBM] [Warning] lambda_l1 is set=0.01052048123566727, reg_alpha=0.0 will be ignored. Current value: lambda_l1=0.01052048123566727\n",
      "[LightGBM] [Warning] feature_fraction is set=0.46305576415575694, colsample_bytree=1.0 will be ignored. Current value: feature_fraction=0.46305576415575694\n",
      "[LightGBM] [Warning] lambda_l2 is set=0.9599018050104693, reg_lambda=0.0 will be ignored. Current value: lambda_l2=0.9599018050104693\n",
      "[LightGBM] [Warning] bagging_freq is set=4, subsample_freq=0 will be ignored. Current value: bagging_freq=4\n",
      "[LightGBM] [Warning] bagging_fraction is set=0.9558207307680147, subsample=1.0 will be ignored. Current value: bagging_fraction=0.9558207307680147\n",
      "[LightGBM] [Warning] lambda_l1 is set=0.01052048123566727, reg_alpha=0.0 will be ignored. Current value: lambda_l1=0.01052048123566727\n",
      "[LightGBM] [Warning] feature_fraction is set=0.46305576415575694, colsample_bytree=1.0 will be ignored. Current value: feature_fraction=0.46305576415575694\n",
      "[LightGBM] [Warning] lambda_l2 is set=0.9599018050104693, reg_lambda=0.0 will be ignored. Current value: lambda_l2=0.9599018050104693\n",
      "[LightGBM] [Warning] bagging_freq is set=4, subsample_freq=0 will be ignored. Current value: bagging_freq=4\n",
      "[LightGBM] [Warning] bagging_fraction is set=0.9558207307680147, subsample=1.0 will be ignored. Current value: bagging_fraction=0.9558207307680147\n",
      "[LightGBM] [Warning] lambda_l1 is set=0.01052048123566727, reg_alpha=0.0 will be ignored. Current value: lambda_l1=0.01052048123566727\n",
      "[LightGBM] [Warning] feature_fraction is set=0.46305576415575694, colsample_bytree=1.0 will be ignored. Current value: feature_fraction=0.46305576415575694\n",
      "[LightGBM] [Warning] lambda_l2 is set=0.9599018050104693, reg_lambda=0.0 will be ignored. Current value: lambda_l2=0.9599018050104693\n",
      "[LightGBM] [Warning] bagging_freq is set=4, subsample_freq=0 will be ignored. Current value: bagging_freq=4\n",
      "[LightGBM] [Warning] bagging_fraction is set=0.9558207307680147, subsample=1.0 will be ignored. Current value: bagging_fraction=0.9558207307680147\n",
      "[LightGBM] [Warning] lambda_l1 is set=0.01052048123566727, reg_alpha=0.0 will be ignored. Current value: lambda_l1=0.01052048123566727\n",
      "[LightGBM] [Warning] feature_fraction is set=0.46305576415575694, colsample_bytree=1.0 will be ignored. Current value: feature_fraction=0.46305576415575694\n",
      "[LightGBM] [Warning] lambda_l2 is set=0.9599018050104693, reg_lambda=0.0 will be ignored. Current value: lambda_l2=0.9599018050104693\n",
      "[LightGBM] [Warning] bagging_freq is set=4, subsample_freq=0 will be ignored. Current value: bagging_freq=4\n",
      "[LightGBM] [Warning] bagging_fraction is set=0.9558207307680147, subsample=1.0 will be ignored. Current value: bagging_fraction=0.9558207307680147\n",
      "[LightGBM] [Warning] lambda_l1 is set=0.01052048123566727, reg_alpha=0.0 will be ignored. Current value: lambda_l1=0.01052048123566727\n",
      "[LightGBM] [Warning] feature_fraction is set=0.46305576415575694, colsample_bytree=1.0 will be ignored. Current value: feature_fraction=0.46305576415575694\n",
      "[LightGBM] [Warning] lambda_l2 is set=0.9599018050104693, reg_lambda=0.0 will be ignored. Current value: lambda_l2=0.9599018050104693\n",
      "[LightGBM] [Warning] bagging_freq is set=4, subsample_freq=0 will be ignored. Current value: bagging_freq=4\n"
     ]
    },
    {
     "name": "stderr",
     "output_type": "stream",
     "text": [
      "\u001b[32m[I 2023-03-15 19:53:36,429]\u001b[0m Trial 31 finished with value: 0.7586644814515628 and parameters: {'lambda_l1': 0.01052048123566727, 'lambda_l2': 0.9599018050104693, 'num_leaves': 6, 'feature_fraction': 0.46305576415575694, 'bagging_fraction': 0.9558207307680147, 'bagging_freq': 4, 'min_child_samples': 49}. Best is trial 25 with value: 0.7906928133004688.\u001b[0m\n"
     ]
    },
    {
     "name": "stdout",
     "output_type": "stream",
     "text": [
      "[LightGBM] [Warning] bagging_fraction is set=0.996386826567812, subsample=1.0 will be ignored. Current value: bagging_fraction=0.996386826567812\n",
      "[LightGBM] [Warning] lambda_l1 is set=0.0017219344992449172, reg_alpha=0.0 will be ignored. Current value: lambda_l1=0.0017219344992449172\n",
      "[LightGBM] [Warning] feature_fraction is set=0.43779649566190204, colsample_bytree=1.0 will be ignored. Current value: feature_fraction=0.43779649566190204\n",
      "[LightGBM] [Warning] lambda_l2 is set=2.5465171269826223, reg_lambda=0.0 will be ignored. Current value: lambda_l2=2.5465171269826223\n",
      "[LightGBM] [Warning] bagging_freq is set=7, subsample_freq=0 will be ignored. Current value: bagging_freq=7\n",
      "[LightGBM] [Warning] bagging_fraction is set=0.996386826567812, subsample=1.0 will be ignored. Current value: bagging_fraction=0.996386826567812\n",
      "[LightGBM] [Warning] lambda_l1 is set=0.0017219344992449172, reg_alpha=0.0 will be ignored. Current value: lambda_l1=0.0017219344992449172\n",
      "[LightGBM] [Warning] feature_fraction is set=0.43779649566190204, colsample_bytree=1.0 will be ignored. Current value: feature_fraction=0.43779649566190204\n",
      "[LightGBM] [Warning] lambda_l2 is set=2.5465171269826223, reg_lambda=0.0 will be ignored. Current value: lambda_l2=2.5465171269826223\n",
      "[LightGBM] [Warning] bagging_freq is set=7, subsample_freq=0 will be ignored. Current value: bagging_freq=7\n",
      "[LightGBM] [Warning] bagging_fraction is set=0.996386826567812, subsample=1.0 will be ignored. Current value: bagging_fraction=0.996386826567812\n",
      "[LightGBM] [Warning] lambda_l1 is set=0.0017219344992449172, reg_alpha=0.0 will be ignored. Current value: lambda_l1=0.0017219344992449172\n",
      "[LightGBM] [Warning] feature_fraction is set=0.43779649566190204, colsample_bytree=1.0 will be ignored. Current value: feature_fraction=0.43779649566190204\n",
      "[LightGBM] [Warning] lambda_l2 is set=2.5465171269826223, reg_lambda=0.0 will be ignored. Current value: lambda_l2=2.5465171269826223\n",
      "[LightGBM] [Warning] bagging_freq is set=7, subsample_freq=0 will be ignored. Current value: bagging_freq=7\n",
      "[LightGBM] [Warning] bagging_fraction is set=0.996386826567812, subsample=1.0 will be ignored. Current value: bagging_fraction=0.996386826567812\n",
      "[LightGBM] [Warning] lambda_l1 is set=0.0017219344992449172, reg_alpha=0.0 will be ignored. Current value: lambda_l1=0.0017219344992449172\n",
      "[LightGBM] [Warning] feature_fraction is set=0.43779649566190204, colsample_bytree=1.0 will be ignored. Current value: feature_fraction=0.43779649566190204\n",
      "[LightGBM] [Warning] lambda_l2 is set=2.5465171269826223, reg_lambda=0.0 will be ignored. Current value: lambda_l2=2.5465171269826223\n",
      "[LightGBM] [Warning] bagging_freq is set=7, subsample_freq=0 will be ignored. Current value: bagging_freq=7\n"
     ]
    },
    {
     "name": "stderr",
     "output_type": "stream",
     "text": [
      "\u001b[32m[I 2023-03-15 19:53:37,727]\u001b[0m Trial 32 finished with value: 0.7506609153738341 and parameters: {'lambda_l1': 0.0017219344992449172, 'lambda_l2': 2.5465171269826223, 'num_leaves': 29, 'feature_fraction': 0.43779649566190204, 'bagging_fraction': 0.996386826567812, 'bagging_freq': 7, 'min_child_samples': 29}. Best is trial 25 with value: 0.7906928133004688.\u001b[0m\n"
     ]
    },
    {
     "name": "stdout",
     "output_type": "stream",
     "text": [
      "[LightGBM] [Warning] bagging_fraction is set=0.996386826567812, subsample=1.0 will be ignored. Current value: bagging_fraction=0.996386826567812\n",
      "[LightGBM] [Warning] lambda_l1 is set=0.0017219344992449172, reg_alpha=0.0 will be ignored. Current value: lambda_l1=0.0017219344992449172\n",
      "[LightGBM] [Warning] feature_fraction is set=0.43779649566190204, colsample_bytree=1.0 will be ignored. Current value: feature_fraction=0.43779649566190204\n",
      "[LightGBM] [Warning] lambda_l2 is set=2.5465171269826223, reg_lambda=0.0 will be ignored. Current value: lambda_l2=2.5465171269826223\n",
      "[LightGBM] [Warning] bagging_freq is set=7, subsample_freq=0 will be ignored. Current value: bagging_freq=7\n",
      "[LightGBM] [Warning] bagging_fraction is set=0.9131615717887283, subsample=1.0 will be ignored. Current value: bagging_fraction=0.9131615717887283\n",
      "[LightGBM] [Warning] lambda_l1 is set=0.12552580053913562, reg_alpha=0.0 will be ignored. Current value: lambda_l1=0.12552580053913562\n",
      "[LightGBM] [Warning] feature_fraction is set=0.42770576465174814, colsample_bytree=1.0 will be ignored. Current value: feature_fraction=0.42770576465174814\n",
      "[LightGBM] [Warning] lambda_l2 is set=0.2624121129442522, reg_lambda=0.0 will be ignored. Current value: lambda_l2=0.2624121129442522\n",
      "[LightGBM] [Warning] bagging_freq is set=6, subsample_freq=0 will be ignored. Current value: bagging_freq=6\n",
      "[LightGBM] [Warning] bagging_fraction is set=0.9131615717887283, subsample=1.0 will be ignored. Current value: bagging_fraction=0.9131615717887283\n",
      "[LightGBM] [Warning] lambda_l1 is set=0.12552580053913562, reg_alpha=0.0 will be ignored. Current value: lambda_l1=0.12552580053913562\n",
      "[LightGBM] [Warning] feature_fraction is set=0.42770576465174814, colsample_bytree=1.0 will be ignored. Current value: feature_fraction=0.42770576465174814\n",
      "[LightGBM] [Warning] lambda_l2 is set=0.2624121129442522, reg_lambda=0.0 will be ignored. Current value: lambda_l2=0.2624121129442522\n",
      "[LightGBM] [Warning] bagging_freq is set=6, subsample_freq=0 will be ignored. Current value: bagging_freq=6\n",
      "[LightGBM] [Warning] bagging_fraction is set=0.9131615717887283, subsample=1.0 will be ignored. Current value: bagging_fraction=0.9131615717887283\n",
      "[LightGBM] [Warning] lambda_l1 is set=0.12552580053913562, reg_alpha=0.0 will be ignored. Current value: lambda_l1=0.12552580053913562\n",
      "[LightGBM] [Warning] feature_fraction is set=0.42770576465174814, colsample_bytree=1.0 will be ignored. Current value: feature_fraction=0.42770576465174814\n",
      "[LightGBM] [Warning] lambda_l2 is set=0.2624121129442522, reg_lambda=0.0 will be ignored. Current value: lambda_l2=0.2624121129442522\n",
      "[LightGBM] [Warning] bagging_freq is set=6, subsample_freq=0 will be ignored. Current value: bagging_freq=6\n",
      "[LightGBM] [Warning] bagging_fraction is set=0.9131615717887283, subsample=1.0 will be ignored. Current value: bagging_fraction=0.9131615717887283\n",
      "[LightGBM] [Warning] lambda_l1 is set=0.12552580053913562, reg_alpha=0.0 will be ignored. Current value: lambda_l1=0.12552580053913562\n",
      "[LightGBM] [Warning] feature_fraction is set=0.42770576465174814, colsample_bytree=1.0 will be ignored. Current value: feature_fraction=0.42770576465174814\n",
      "[LightGBM] [Warning] lambda_l2 is set=0.2624121129442522, reg_lambda=0.0 will be ignored. Current value: lambda_l2=0.2624121129442522\n",
      "[LightGBM] [Warning] bagging_freq is set=6, subsample_freq=0 will be ignored. Current value: bagging_freq=6\n",
      "[LightGBM] [Warning] bagging_fraction is set=0.9131615717887283, subsample=1.0 will be ignored. Current value: bagging_fraction=0.9131615717887283\n",
      "[LightGBM] [Warning] lambda_l1 is set=0.12552580053913562, reg_alpha=0.0 will be ignored. Current value: lambda_l1=0.12552580053913562\n",
      "[LightGBM] [Warning] feature_fraction is set=0.42770576465174814, colsample_bytree=1.0 will be ignored. Current value: feature_fraction=0.42770576465174814\n",
      "[LightGBM] [Warning] lambda_l2 is set=0.2624121129442522, reg_lambda=0.0 will be ignored. Current value: lambda_l2=0.2624121129442522\n",
      "[LightGBM] [Warning] bagging_freq is set=6, subsample_freq=0 will be ignored. Current value: bagging_freq=6\n"
     ]
    },
    {
     "name": "stderr",
     "output_type": "stream",
     "text": [
      "\u001b[32m[I 2023-03-15 19:53:37,993]\u001b[0m Trial 33 finished with value: 0.7830343765750464 and parameters: {'lambda_l1': 0.12552580053913562, 'lambda_l2': 0.2624121129442522, 'num_leaves': 2, 'feature_fraction': 0.42770576465174814, 'bagging_fraction': 0.9131615717887283, 'bagging_freq': 6, 'min_child_samples': 66}. Best is trial 25 with value: 0.7906928133004688.\u001b[0m\n"
     ]
    },
    {
     "name": "stdout",
     "output_type": "stream",
     "text": [
      "[LightGBM] [Warning] bagging_fraction is set=0.9212155707079073, subsample=1.0 will be ignored. Current value: bagging_fraction=0.9212155707079073\n",
      "[LightGBM] [Warning] lambda_l1 is set=0.07625961102491582, reg_alpha=0.0 will be ignored. Current value: lambda_l1=0.07625961102491582\n",
      "[LightGBM] [Warning] feature_fraction is set=0.4783005289660172, colsample_bytree=1.0 will be ignored. Current value: feature_fraction=0.4783005289660172\n",
      "[LightGBM] [Warning] lambda_l2 is set=0.07589639959948645, reg_lambda=0.0 will be ignored. Current value: lambda_l2=0.07589639959948645\n",
      "[LightGBM] [Warning] bagging_freq is set=6, subsample_freq=0 will be ignored. Current value: bagging_freq=6\n",
      "[LightGBM] [Warning] bagging_fraction is set=0.9212155707079073, subsample=1.0 will be ignored. Current value: bagging_fraction=0.9212155707079073\n",
      "[LightGBM] [Warning] lambda_l1 is set=0.07625961102491582, reg_alpha=0.0 will be ignored. Current value: lambda_l1=0.07625961102491582\n",
      "[LightGBM] [Warning] feature_fraction is set=0.4783005289660172, colsample_bytree=1.0 will be ignored. Current value: feature_fraction=0.4783005289660172\n",
      "[LightGBM] [Warning] lambda_l2 is set=0.07589639959948645, reg_lambda=0.0 will be ignored. Current value: lambda_l2=0.07589639959948645\n",
      "[LightGBM] [Warning] bagging_freq is set=6, subsample_freq=0 will be ignored. Current value: bagging_freq=6\n",
      "[LightGBM] [Warning] bagging_fraction is set=0.9212155707079073, subsample=1.0 will be ignored. Current value: bagging_fraction=0.9212155707079073\n",
      "[LightGBM] [Warning] lambda_l1 is set=0.07625961102491582, reg_alpha=0.0 will be ignored. Current value: lambda_l1=0.07625961102491582\n",
      "[LightGBM] [Warning] feature_fraction is set=0.4783005289660172, colsample_bytree=1.0 will be ignored. Current value: feature_fraction=0.4783005289660172\n",
      "[LightGBM] [Warning] lambda_l2 is set=0.07589639959948645, reg_lambda=0.0 will be ignored. Current value: lambda_l2=0.07589639959948645\n",
      "[LightGBM] [Warning] bagging_freq is set=6, subsample_freq=0 will be ignored. Current value: bagging_freq=6\n",
      "[LightGBM] [Warning] bagging_fraction is set=0.9212155707079073, subsample=1.0 will be ignored. Current value: bagging_fraction=0.9212155707079073\n",
      "[LightGBM] [Warning] lambda_l1 is set=0.07625961102491582, reg_alpha=0.0 will be ignored. Current value: lambda_l1=0.07625961102491582\n",
      "[LightGBM] [Warning] feature_fraction is set=0.4783005289660172, colsample_bytree=1.0 will be ignored. Current value: feature_fraction=0.4783005289660172\n",
      "[LightGBM] [Warning] lambda_l2 is set=0.07589639959948645, reg_lambda=0.0 will be ignored. Current value: lambda_l2=0.07589639959948645\n",
      "[LightGBM] [Warning] bagging_freq is set=6, subsample_freq=0 will be ignored. Current value: bagging_freq=6\n"
     ]
    },
    {
     "name": "stderr",
     "output_type": "stream",
     "text": [
      "\u001b[32m[I 2023-03-15 19:53:38,555]\u001b[0m Trial 34 finished with value: 0.7445429172103812 and parameters: {'lambda_l1': 0.07625961102491582, 'lambda_l2': 0.07589639959948645, 'num_leaves': 71, 'feature_fraction': 0.4783005289660172, 'bagging_fraction': 0.9212155707079073, 'bagging_freq': 6, 'min_child_samples': 70}. Best is trial 25 with value: 0.7906928133004688.\u001b[0m\n"
     ]
    },
    {
     "name": "stdout",
     "output_type": "stream",
     "text": [
      "[LightGBM] [Warning] bagging_fraction is set=0.9212155707079073, subsample=1.0 will be ignored. Current value: bagging_fraction=0.9212155707079073\n",
      "[LightGBM] [Warning] lambda_l1 is set=0.07625961102491582, reg_alpha=0.0 will be ignored. Current value: lambda_l1=0.07625961102491582\n",
      "[LightGBM] [Warning] feature_fraction is set=0.4783005289660172, colsample_bytree=1.0 will be ignored. Current value: feature_fraction=0.4783005289660172\n",
      "[LightGBM] [Warning] lambda_l2 is set=0.07589639959948645, reg_lambda=0.0 will be ignored. Current value: lambda_l2=0.07589639959948645\n",
      "[LightGBM] [Warning] bagging_freq is set=6, subsample_freq=0 will be ignored. Current value: bagging_freq=6\n",
      "[LightGBM] [Warning] bagging_fraction is set=0.9678162843439648, subsample=1.0 will be ignored. Current value: bagging_fraction=0.9678162843439648\n",
      "[LightGBM] [Warning] lambda_l1 is set=0.10824126694468386, reg_alpha=0.0 will be ignored. Current value: lambda_l1=0.10824126694468386\n",
      "[LightGBM] [Warning] feature_fraction is set=0.4384529275528374, colsample_bytree=1.0 will be ignored. Current value: feature_fraction=0.4384529275528374\n",
      "[LightGBM] [Warning] lambda_l2 is set=0.20227187620510753, reg_lambda=0.0 will be ignored. Current value: lambda_l2=0.20227187620510753\n",
      "[LightGBM] [Warning] bagging_freq is set=7, subsample_freq=0 will be ignored. Current value: bagging_freq=7\n",
      "[LightGBM] [Warning] bagging_fraction is set=0.9678162843439648, subsample=1.0 will be ignored. Current value: bagging_fraction=0.9678162843439648\n",
      "[LightGBM] [Warning] lambda_l1 is set=0.10824126694468386, reg_alpha=0.0 will be ignored. Current value: lambda_l1=0.10824126694468386\n",
      "[LightGBM] [Warning] feature_fraction is set=0.4384529275528374, colsample_bytree=1.0 will be ignored. Current value: feature_fraction=0.4384529275528374\n",
      "[LightGBM] [Warning] lambda_l2 is set=0.20227187620510753, reg_lambda=0.0 will be ignored. Current value: lambda_l2=0.20227187620510753\n",
      "[LightGBM] [Warning] bagging_freq is set=7, subsample_freq=0 will be ignored. Current value: bagging_freq=7\n",
      "[LightGBM] [Warning] bagging_fraction is set=0.9678162843439648, subsample=1.0 will be ignored. Current value: bagging_fraction=0.9678162843439648\n",
      "[LightGBM] [Warning] lambda_l1 is set=0.10824126694468386, reg_alpha=0.0 will be ignored. Current value: lambda_l1=0.10824126694468386\n",
      "[LightGBM] [Warning] feature_fraction is set=0.4384529275528374, colsample_bytree=1.0 will be ignored. Current value: feature_fraction=0.4384529275528374\n",
      "[LightGBM] [Warning] lambda_l2 is set=0.20227187620510753, reg_lambda=0.0 will be ignored. Current value: lambda_l2=0.20227187620510753\n",
      "[LightGBM] [Warning] bagging_freq is set=7, subsample_freq=0 will be ignored. Current value: bagging_freq=7\n",
      "[LightGBM] [Warning] bagging_fraction is set=0.9678162843439648, subsample=1.0 will be ignored. Current value: bagging_fraction=0.9678162843439648\n",
      "[LightGBM] [Warning] lambda_l1 is set=0.10824126694468386, reg_alpha=0.0 will be ignored. Current value: lambda_l1=0.10824126694468386\n",
      "[LightGBM] [Warning] feature_fraction is set=0.4384529275528374, colsample_bytree=1.0 will be ignored. Current value: feature_fraction=0.4384529275528374\n",
      "[LightGBM] [Warning] lambda_l2 is set=0.20227187620510753, reg_lambda=0.0 will be ignored. Current value: lambda_l2=0.20227187620510753\n",
      "[LightGBM] [Warning] bagging_freq is set=7, subsample_freq=0 will be ignored. Current value: bagging_freq=7\n",
      "[LightGBM] [Warning] bagging_fraction is set=0.9678162843439648, subsample=1.0 will be ignored. Current value: bagging_fraction=0.9678162843439648\n",
      "[LightGBM] [Warning] lambda_l1 is set=0.10824126694468386, reg_alpha=0.0 will be ignored. Current value: lambda_l1=0.10824126694468386\n",
      "[LightGBM] [Warning] feature_fraction is set=0.4384529275528374, colsample_bytree=1.0 will be ignored. Current value: feature_fraction=0.4384529275528374\n",
      "[LightGBM] [Warning] lambda_l2 is set=0.20227187620510753, reg_lambda=0.0 will be ignored. Current value: lambda_l2=0.20227187620510753\n",
      "[LightGBM] [Warning] bagging_freq is set=7, subsample_freq=0 will be ignored. Current value: bagging_freq=7\n"
     ]
    },
    {
     "name": "stderr",
     "output_type": "stream",
     "text": [
      "\u001b[32m[I 2023-03-15 19:53:39,147]\u001b[0m Trial 35 finished with value: 0.7453650482956704 and parameters: {'lambda_l1': 0.10824126694468386, 'lambda_l2': 0.20227187620510753, 'num_leaves': 23, 'feature_fraction': 0.4384529275528374, 'bagging_fraction': 0.9678162843439648, 'bagging_freq': 7, 'min_child_samples': 65}. Best is trial 25 with value: 0.7906928133004688.\u001b[0m\n"
     ]
    },
    {
     "name": "stdout",
     "output_type": "stream",
     "text": [
      "[LightGBM] [Warning] bagging_fraction is set=0.9400176209723689, subsample=1.0 will be ignored. Current value: bagging_fraction=0.9400176209723689\n",
      "[LightGBM] [Warning] lambda_l1 is set=0.17693594437226684, reg_alpha=0.0 will be ignored. Current value: lambda_l1=0.17693594437226684\n",
      "[LightGBM] [Warning] feature_fraction is set=0.5200008235322199, colsample_bytree=1.0 will be ignored. Current value: feature_fraction=0.5200008235322199\n",
      "[LightGBM] [Warning] lambda_l2 is set=0.013513425458662607, reg_lambda=0.0 will be ignored. Current value: lambda_l2=0.013513425458662607\n",
      "[LightGBM] [Warning] bagging_freq is set=6, subsample_freq=0 will be ignored. Current value: bagging_freq=6\n",
      "[LightGBM] [Warning] bagging_fraction is set=0.9400176209723689, subsample=1.0 will be ignored. Current value: bagging_fraction=0.9400176209723689\n",
      "[LightGBM] [Warning] lambda_l1 is set=0.17693594437226684, reg_alpha=0.0 will be ignored. Current value: lambda_l1=0.17693594437226684\n",
      "[LightGBM] [Warning] feature_fraction is set=0.5200008235322199, colsample_bytree=1.0 will be ignored. Current value: feature_fraction=0.5200008235322199\n",
      "[LightGBM] [Warning] lambda_l2 is set=0.013513425458662607, reg_lambda=0.0 will be ignored. Current value: lambda_l2=0.013513425458662607\n",
      "[LightGBM] [Warning] bagging_freq is set=6, subsample_freq=0 will be ignored. Current value: bagging_freq=6\n",
      "[LightGBM] [Warning] bagging_fraction is set=0.9400176209723689, subsample=1.0 will be ignored. Current value: bagging_fraction=0.9400176209723689\n",
      "[LightGBM] [Warning] lambda_l1 is set=0.17693594437226684, reg_alpha=0.0 will be ignored. Current value: lambda_l1=0.17693594437226684\n",
      "[LightGBM] [Warning] feature_fraction is set=0.5200008235322199, colsample_bytree=1.0 will be ignored. Current value: feature_fraction=0.5200008235322199\n",
      "[LightGBM] [Warning] lambda_l2 is set=0.013513425458662607, reg_lambda=0.0 will be ignored. Current value: lambda_l2=0.013513425458662607\n",
      "[LightGBM] [Warning] bagging_freq is set=6, subsample_freq=0 will be ignored. Current value: bagging_freq=6\n",
      "[LightGBM] [Warning] bagging_fraction is set=0.9400176209723689, subsample=1.0 will be ignored. Current value: bagging_fraction=0.9400176209723689\n",
      "[LightGBM] [Warning] lambda_l1 is set=0.17693594437226684, reg_alpha=0.0 will be ignored. Current value: lambda_l1=0.17693594437226684\n",
      "[LightGBM] [Warning] feature_fraction is set=0.5200008235322199, colsample_bytree=1.0 will be ignored. Current value: feature_fraction=0.5200008235322199\n",
      "[LightGBM] [Warning] lambda_l2 is set=0.013513425458662607, reg_lambda=0.0 will be ignored. Current value: lambda_l2=0.013513425458662607\n",
      "[LightGBM] [Warning] bagging_freq is set=6, subsample_freq=0 will be ignored. Current value: bagging_freq=6\n"
     ]
    },
    {
     "name": "stderr",
     "output_type": "stream",
     "text": [
      "\u001b[32m[I 2023-03-15 19:53:39,711]\u001b[0m Trial 36 finished with value: 0.7519685922795971 and parameters: {'lambda_l1': 0.17693594437226684, 'lambda_l2': 0.013513425458662607, 'num_leaves': 67, 'feature_fraction': 0.5200008235322199, 'bagging_fraction': 0.9400176209723689, 'bagging_freq': 6, 'min_child_samples': 76}. Best is trial 25 with value: 0.7906928133004688.\u001b[0m\n"
     ]
    },
    {
     "name": "stdout",
     "output_type": "stream",
     "text": [
      "[LightGBM] [Warning] bagging_fraction is set=0.9400176209723689, subsample=1.0 will be ignored. Current value: bagging_fraction=0.9400176209723689\n",
      "[LightGBM] [Warning] lambda_l1 is set=0.17693594437226684, reg_alpha=0.0 will be ignored. Current value: lambda_l1=0.17693594437226684\n",
      "[LightGBM] [Warning] feature_fraction is set=0.5200008235322199, colsample_bytree=1.0 will be ignored. Current value: feature_fraction=0.5200008235322199\n",
      "[LightGBM] [Warning] lambda_l2 is set=0.013513425458662607, reg_lambda=0.0 will be ignored. Current value: lambda_l2=0.013513425458662607\n",
      "[LightGBM] [Warning] bagging_freq is set=6, subsample_freq=0 will be ignored. Current value: bagging_freq=6\n",
      "[LightGBM] [Warning] bagging_fraction is set=0.9995288030545597, subsample=1.0 will be ignored. Current value: bagging_fraction=0.9995288030545597\n",
      "[LightGBM] [Warning] lambda_l1 is set=0.6107752712465531, reg_alpha=0.0 will be ignored. Current value: lambda_l1=0.6107752712465531\n",
      "[LightGBM] [Warning] feature_fraction is set=0.40347961551177036, colsample_bytree=1.0 will be ignored. Current value: feature_fraction=0.40347961551177036\n",
      "[LightGBM] [Warning] lambda_l2 is set=0.6742560251140485, reg_lambda=0.0 will be ignored. Current value: lambda_l2=0.6742560251140485\n",
      "[LightGBM] [Warning] bagging_freq is set=7, subsample_freq=0 will be ignored. Current value: bagging_freq=7\n",
      "[LightGBM] [Warning] bagging_fraction is set=0.9995288030545597, subsample=1.0 will be ignored. Current value: bagging_fraction=0.9995288030545597\n",
      "[LightGBM] [Warning] lambda_l1 is set=0.6107752712465531, reg_alpha=0.0 will be ignored. Current value: lambda_l1=0.6107752712465531\n",
      "[LightGBM] [Warning] feature_fraction is set=0.40347961551177036, colsample_bytree=1.0 will be ignored. Current value: feature_fraction=0.40347961551177036\n",
      "[LightGBM] [Warning] lambda_l2 is set=0.6742560251140485, reg_lambda=0.0 will be ignored. Current value: lambda_l2=0.6742560251140485\n",
      "[LightGBM] [Warning] bagging_freq is set=7, subsample_freq=0 will be ignored. Current value: bagging_freq=7\n",
      "[LightGBM] [Warning] bagging_fraction is set=0.9995288030545597, subsample=1.0 will be ignored. Current value: bagging_fraction=0.9995288030545597\n",
      "[LightGBM] [Warning] lambda_l1 is set=0.6107752712465531, reg_alpha=0.0 will be ignored. Current value: lambda_l1=0.6107752712465531\n",
      "[LightGBM] [Warning] feature_fraction is set=0.40347961551177036, colsample_bytree=1.0 will be ignored. Current value: feature_fraction=0.40347961551177036\n",
      "[LightGBM] [Warning] lambda_l2 is set=0.6742560251140485, reg_lambda=0.0 will be ignored. Current value: lambda_l2=0.6742560251140485\n",
      "[LightGBM] [Warning] bagging_freq is set=7, subsample_freq=0 will be ignored. Current value: bagging_freq=7\n",
      "[LightGBM] [Warning] bagging_fraction is set=0.9995288030545597, subsample=1.0 will be ignored. Current value: bagging_fraction=0.9995288030545597\n",
      "[LightGBM] [Warning] lambda_l1 is set=0.6107752712465531, reg_alpha=0.0 will be ignored. Current value: lambda_l1=0.6107752712465531\n",
      "[LightGBM] [Warning] feature_fraction is set=0.40347961551177036, colsample_bytree=1.0 will be ignored. Current value: feature_fraction=0.40347961551177036\n",
      "[LightGBM] [Warning] lambda_l2 is set=0.6742560251140485, reg_lambda=0.0 will be ignored. Current value: lambda_l2=0.6742560251140485\n",
      "[LightGBM] [Warning] bagging_freq is set=7, subsample_freq=0 will be ignored. Current value: bagging_freq=7\n"
     ]
    },
    {
     "name": "stderr",
     "output_type": "stream",
     "text": [
      "\u001b[32m[I 2023-03-15 19:53:40,168]\u001b[0m Trial 37 finished with value: 0.7463098172428315 and parameters: {'lambda_l1': 0.6107752712465531, 'lambda_l2': 0.6742560251140485, 'num_leaves': 41, 'feature_fraction': 0.40347961551177036, 'bagging_fraction': 0.9995288030545597, 'bagging_freq': 7, 'min_child_samples': 97}. Best is trial 25 with value: 0.7906928133004688.\u001b[0m\n"
     ]
    },
    {
     "name": "stdout",
     "output_type": "stream",
     "text": [
      "[LightGBM] [Warning] bagging_fraction is set=0.9995288030545597, subsample=1.0 will be ignored. Current value: bagging_fraction=0.9995288030545597\n",
      "[LightGBM] [Warning] lambda_l1 is set=0.6107752712465531, reg_alpha=0.0 will be ignored. Current value: lambda_l1=0.6107752712465531\n",
      "[LightGBM] [Warning] feature_fraction is set=0.40347961551177036, colsample_bytree=1.0 will be ignored. Current value: feature_fraction=0.40347961551177036\n",
      "[LightGBM] [Warning] lambda_l2 is set=0.6742560251140485, reg_lambda=0.0 will be ignored. Current value: lambda_l2=0.6742560251140485\n",
      "[LightGBM] [Warning] bagging_freq is set=7, subsample_freq=0 will be ignored. Current value: bagging_freq=7\n",
      "[LightGBM] [Warning] bagging_fraction is set=0.9015702613166646, subsample=1.0 will be ignored. Current value: bagging_fraction=0.9015702613166646\n",
      "[LightGBM] [Warning] lambda_l1 is set=0.017645826288945544, reg_alpha=0.0 will be ignored. Current value: lambda_l1=0.017645826288945544\n",
      "[LightGBM] [Warning] feature_fraction is set=0.47871454517239803, colsample_bytree=1.0 will be ignored. Current value: feature_fraction=0.47871454517239803\n",
      "[LightGBM] [Warning] lambda_l2 is set=0.03353382185872461, reg_lambda=0.0 will be ignored. Current value: lambda_l2=0.03353382185872461\n",
      "[LightGBM] [Warning] bagging_freq is set=5, subsample_freq=0 will be ignored. Current value: bagging_freq=5\n",
      "[LightGBM] [Warning] bagging_fraction is set=0.9015702613166646, subsample=1.0 will be ignored. Current value: bagging_fraction=0.9015702613166646\n",
      "[LightGBM] [Warning] lambda_l1 is set=0.017645826288945544, reg_alpha=0.0 will be ignored. Current value: lambda_l1=0.017645826288945544\n",
      "[LightGBM] [Warning] feature_fraction is set=0.47871454517239803, colsample_bytree=1.0 will be ignored. Current value: feature_fraction=0.47871454517239803\n",
      "[LightGBM] [Warning] lambda_l2 is set=0.03353382185872461, reg_lambda=0.0 will be ignored. Current value: lambda_l2=0.03353382185872461\n",
      "[LightGBM] [Warning] bagging_freq is set=5, subsample_freq=0 will be ignored. Current value: bagging_freq=5\n",
      "[LightGBM] [Warning] bagging_fraction is set=0.9015702613166646, subsample=1.0 will be ignored. Current value: bagging_fraction=0.9015702613166646\n",
      "[LightGBM] [Warning] lambda_l1 is set=0.017645826288945544, reg_alpha=0.0 will be ignored. Current value: lambda_l1=0.017645826288945544\n",
      "[LightGBM] [Warning] feature_fraction is set=0.47871454517239803, colsample_bytree=1.0 will be ignored. Current value: feature_fraction=0.47871454517239803\n",
      "[LightGBM] [Warning] lambda_l2 is set=0.03353382185872461, reg_lambda=0.0 will be ignored. Current value: lambda_l2=0.03353382185872461\n",
      "[LightGBM] [Warning] bagging_freq is set=5, subsample_freq=0 will be ignored. Current value: bagging_freq=5\n",
      "[LightGBM] [Warning] bagging_fraction is set=0.9015702613166646, subsample=1.0 will be ignored. Current value: bagging_fraction=0.9015702613166646\n",
      "[LightGBM] [Warning] lambda_l1 is set=0.017645826288945544, reg_alpha=0.0 will be ignored. Current value: lambda_l1=0.017645826288945544\n",
      "[LightGBM] [Warning] feature_fraction is set=0.47871454517239803, colsample_bytree=1.0 will be ignored. Current value: feature_fraction=0.47871454517239803\n",
      "[LightGBM] [Warning] lambda_l2 is set=0.03353382185872461, reg_lambda=0.0 will be ignored. Current value: lambda_l2=0.03353382185872461\n",
      "[LightGBM] [Warning] bagging_freq is set=5, subsample_freq=0 will be ignored. Current value: bagging_freq=5\n",
      "[LightGBM] [Warning] bagging_fraction is set=0.9015702613166646, subsample=1.0 will be ignored. Current value: bagging_fraction=0.9015702613166646\n",
      "[LightGBM] [Warning] lambda_l1 is set=0.017645826288945544, reg_alpha=0.0 will be ignored. Current value: lambda_l1=0.017645826288945544\n",
      "[LightGBM] [Warning] feature_fraction is set=0.47871454517239803, colsample_bytree=1.0 will be ignored. Current value: feature_fraction=0.47871454517239803\n",
      "[LightGBM] [Warning] lambda_l2 is set=0.03353382185872461, reg_lambda=0.0 will be ignored. Current value: lambda_l2=0.03353382185872461\n",
      "[LightGBM] [Warning] bagging_freq is set=5, subsample_freq=0 will be ignored. Current value: bagging_freq=5\n"
     ]
    },
    {
     "name": "stderr",
     "output_type": "stream",
     "text": [
      "\u001b[32m[I 2023-03-15 19:53:40,839]\u001b[0m Trial 38 finished with value: 0.7485002105815501 and parameters: {'lambda_l1': 0.017645826288945544, 'lambda_l2': 0.03353382185872461, 'num_leaves': 99, 'feature_fraction': 0.47871454517239803, 'bagging_fraction': 0.9015702613166646, 'bagging_freq': 5, 'min_child_samples': 58}. Best is trial 25 with value: 0.7906928133004688.\u001b[0m\n"
     ]
    },
    {
     "name": "stdout",
     "output_type": "stream",
     "text": [
      "[LightGBM] [Warning] bagging_fraction is set=0.9578476561072105, subsample=1.0 will be ignored. Current value: bagging_fraction=0.9578476561072105\n",
      "[LightGBM] [Warning] lambda_l1 is set=0.7633046343137426, reg_alpha=0.0 will be ignored. Current value: lambda_l1=0.7633046343137426\n",
      "[LightGBM] [Warning] feature_fraction is set=0.5268366467206576, colsample_bytree=1.0 will be ignored. Current value: feature_fraction=0.5268366467206576\n",
      "[LightGBM] [Warning] lambda_l2 is set=0.17177075560691596, reg_lambda=0.0 will be ignored. Current value: lambda_l2=0.17177075560691596\n",
      "[LightGBM] [Warning] bagging_freq is set=6, subsample_freq=0 will be ignored. Current value: bagging_freq=6\n",
      "[LightGBM] [Warning] bagging_fraction is set=0.9578476561072105, subsample=1.0 will be ignored. Current value: bagging_fraction=0.9578476561072105\n",
      "[LightGBM] [Warning] lambda_l1 is set=0.7633046343137426, reg_alpha=0.0 will be ignored. Current value: lambda_l1=0.7633046343137426\n",
      "[LightGBM] [Warning] feature_fraction is set=0.5268366467206576, colsample_bytree=1.0 will be ignored. Current value: feature_fraction=0.5268366467206576\n",
      "[LightGBM] [Warning] lambda_l2 is set=0.17177075560691596, reg_lambda=0.0 will be ignored. Current value: lambda_l2=0.17177075560691596\n",
      "[LightGBM] [Warning] bagging_freq is set=6, subsample_freq=0 will be ignored. Current value: bagging_freq=6\n",
      "[LightGBM] [Warning] bagging_fraction is set=0.9578476561072105, subsample=1.0 will be ignored. Current value: bagging_fraction=0.9578476561072105\n",
      "[LightGBM] [Warning] lambda_l1 is set=0.7633046343137426, reg_alpha=0.0 will be ignored. Current value: lambda_l1=0.7633046343137426\n",
      "[LightGBM] [Warning] feature_fraction is set=0.5268366467206576, colsample_bytree=1.0 will be ignored. Current value: feature_fraction=0.5268366467206576\n",
      "[LightGBM] [Warning] lambda_l2 is set=0.17177075560691596, reg_lambda=0.0 will be ignored. Current value: lambda_l2=0.17177075560691596\n",
      "[LightGBM] [Warning] bagging_freq is set=6, subsample_freq=0 will be ignored. Current value: bagging_freq=6\n",
      "[LightGBM] [Warning] bagging_fraction is set=0.9578476561072105, subsample=1.0 will be ignored. Current value: bagging_fraction=0.9578476561072105\n",
      "[LightGBM] [Warning] lambda_l1 is set=0.7633046343137426, reg_alpha=0.0 will be ignored. Current value: lambda_l1=0.7633046343137426\n",
      "[LightGBM] [Warning] feature_fraction is set=0.5268366467206576, colsample_bytree=1.0 will be ignored. Current value: feature_fraction=0.5268366467206576\n",
      "[LightGBM] [Warning] lambda_l2 is set=0.17177075560691596, reg_lambda=0.0 will be ignored. Current value: lambda_l2=0.17177075560691596\n",
      "[LightGBM] [Warning] bagging_freq is set=6, subsample_freq=0 will be ignored. Current value: bagging_freq=6\n"
     ]
    },
    {
     "name": "stderr",
     "output_type": "stream",
     "text": [
      "\u001b[32m[I 2023-03-15 19:53:41,445]\u001b[0m Trial 39 finished with value: 0.7525731511975531 and parameters: {'lambda_l1': 0.7633046343137426, 'lambda_l2': 0.17177075560691596, 'num_leaves': 18, 'feature_fraction': 0.5268366467206576, 'bagging_fraction': 0.9578476561072105, 'bagging_freq': 6, 'min_child_samples': 68}. Best is trial 25 with value: 0.7906928133004688.\u001b[0m\n"
     ]
    },
    {
     "name": "stdout",
     "output_type": "stream",
     "text": [
      "[LightGBM] [Warning] bagging_fraction is set=0.9578476561072105, subsample=1.0 will be ignored. Current value: bagging_fraction=0.9578476561072105\n",
      "[LightGBM] [Warning] lambda_l1 is set=0.7633046343137426, reg_alpha=0.0 will be ignored. Current value: lambda_l1=0.7633046343137426\n",
      "[LightGBM] [Warning] feature_fraction is set=0.5268366467206576, colsample_bytree=1.0 will be ignored. Current value: feature_fraction=0.5268366467206576\n",
      "[LightGBM] [Warning] lambda_l2 is set=0.17177075560691596, reg_lambda=0.0 will be ignored. Current value: lambda_l2=0.17177075560691596\n",
      "[LightGBM] [Warning] bagging_freq is set=6, subsample_freq=0 will be ignored. Current value: bagging_freq=6\n",
      "[LightGBM] [Warning] bagging_fraction is set=0.9048931366164854, subsample=1.0 will be ignored. Current value: bagging_fraction=0.9048931366164854\n",
      "[LightGBM] [Warning] lambda_l1 is set=0.13891714820080564, reg_alpha=0.0 will be ignored. Current value: lambda_l1=0.13891714820080564\n",
      "[LightGBM] [Warning] feature_fraction is set=0.43124166359241184, colsample_bytree=1.0 will be ignored. Current value: feature_fraction=0.43124166359241184\n",
      "[LightGBM] [Warning] lambda_l2 is set=0.04595130356030333, reg_lambda=0.0 will be ignored. Current value: lambda_l2=0.04595130356030333\n",
      "[LightGBM] [Warning] bagging_freq is set=7, subsample_freq=0 will be ignored. Current value: bagging_freq=7\n"
     ]
    },
    {
     "name": "stderr",
     "output_type": "stream",
     "text": [
      "\u001b[32m[I 2023-03-15 19:53:41,716]\u001b[0m Trial 40 finished with value: 0.7858204395285735 and parameters: {'lambda_l1': 0.13891714820080564, 'lambda_l2': 0.04595130356030333, 'num_leaves': 2, 'feature_fraction': 0.43124166359241184, 'bagging_fraction': 0.9048931366164854, 'bagging_freq': 7, 'min_child_samples': 88}. Best is trial 25 with value: 0.7906928133004688.\u001b[0m\n"
     ]
    },
    {
     "name": "stdout",
     "output_type": "stream",
     "text": [
      "[LightGBM] [Warning] bagging_fraction is set=0.9048931366164854, subsample=1.0 will be ignored. Current value: bagging_fraction=0.9048931366164854\n",
      "[LightGBM] [Warning] lambda_l1 is set=0.13891714820080564, reg_alpha=0.0 will be ignored. Current value: lambda_l1=0.13891714820080564\n",
      "[LightGBM] [Warning] feature_fraction is set=0.43124166359241184, colsample_bytree=1.0 will be ignored. Current value: feature_fraction=0.43124166359241184\n",
      "[LightGBM] [Warning] lambda_l2 is set=0.04595130356030333, reg_lambda=0.0 will be ignored. Current value: lambda_l2=0.04595130356030333\n",
      "[LightGBM] [Warning] bagging_freq is set=7, subsample_freq=0 will be ignored. Current value: bagging_freq=7\n",
      "[LightGBM] [Warning] bagging_fraction is set=0.9048931366164854, subsample=1.0 will be ignored. Current value: bagging_fraction=0.9048931366164854\n",
      "[LightGBM] [Warning] lambda_l1 is set=0.13891714820080564, reg_alpha=0.0 will be ignored. Current value: lambda_l1=0.13891714820080564\n",
      "[LightGBM] [Warning] feature_fraction is set=0.43124166359241184, colsample_bytree=1.0 will be ignored. Current value: feature_fraction=0.43124166359241184\n",
      "[LightGBM] [Warning] lambda_l2 is set=0.04595130356030333, reg_lambda=0.0 will be ignored. Current value: lambda_l2=0.04595130356030333\n",
      "[LightGBM] [Warning] bagging_freq is set=7, subsample_freq=0 will be ignored. Current value: bagging_freq=7\n",
      "[LightGBM] [Warning] bagging_fraction is set=0.9048931366164854, subsample=1.0 will be ignored. Current value: bagging_fraction=0.9048931366164854\n",
      "[LightGBM] [Warning] lambda_l1 is set=0.13891714820080564, reg_alpha=0.0 will be ignored. Current value: lambda_l1=0.13891714820080564\n",
      "[LightGBM] [Warning] feature_fraction is set=0.43124166359241184, colsample_bytree=1.0 will be ignored. Current value: feature_fraction=0.43124166359241184\n",
      "[LightGBM] [Warning] lambda_l2 is set=0.04595130356030333, reg_lambda=0.0 will be ignored. Current value: lambda_l2=0.04595130356030333\n",
      "[LightGBM] [Warning] bagging_freq is set=7, subsample_freq=0 will be ignored. Current value: bagging_freq=7\n",
      "[LightGBM] [Warning] bagging_fraction is set=0.9048931366164854, subsample=1.0 will be ignored. Current value: bagging_fraction=0.9048931366164854\n",
      "[LightGBM] [Warning] lambda_l1 is set=0.13891714820080564, reg_alpha=0.0 will be ignored. Current value: lambda_l1=0.13891714820080564\n",
      "[LightGBM] [Warning] feature_fraction is set=0.43124166359241184, colsample_bytree=1.0 will be ignored. Current value: feature_fraction=0.43124166359241184\n",
      "[LightGBM] [Warning] lambda_l2 is set=0.04595130356030333, reg_lambda=0.0 will be ignored. Current value: lambda_l2=0.04595130356030333\n",
      "[LightGBM] [Warning] bagging_freq is set=7, subsample_freq=0 will be ignored. Current value: bagging_freq=7\n",
      "[LightGBM] [Warning] bagging_fraction is set=0.9054680274531512, subsample=1.0 will be ignored. Current value: bagging_fraction=0.9054680274531512\n",
      "[LightGBM] [Warning] lambda_l1 is set=0.19691421059256184, reg_alpha=0.0 will be ignored. Current value: lambda_l1=0.19691421059256184\n",
      "[LightGBM] [Warning] feature_fraction is set=0.4402839308185982, colsample_bytree=1.0 will be ignored. Current value: feature_fraction=0.4402839308185982\n",
      "[LightGBM] [Warning] lambda_l2 is set=0.055945033189447525, reg_lambda=0.0 will be ignored. Current value: lambda_l2=0.055945033189447525\n",
      "[LightGBM] [Warning] bagging_freq is set=7, subsample_freq=0 will be ignored. Current value: bagging_freq=7\n",
      "[LightGBM] [Warning] bagging_fraction is set=0.9054680274531512, subsample=1.0 will be ignored. Current value: bagging_fraction=0.9054680274531512\n",
      "[LightGBM] [Warning] lambda_l1 is set=0.19691421059256184, reg_alpha=0.0 will be ignored. Current value: lambda_l1=0.19691421059256184\n",
      "[LightGBM] [Warning] feature_fraction is set=0.4402839308185982, colsample_bytree=1.0 will be ignored. Current value: feature_fraction=0.4402839308185982\n",
      "[LightGBM] [Warning] lambda_l2 is set=0.055945033189447525, reg_lambda=0.0 will be ignored. Current value: lambda_l2=0.055945033189447525\n",
      "[LightGBM] [Warning] bagging_freq is set=7, subsample_freq=0 will be ignored. Current value: bagging_freq=7\n",
      "[LightGBM] [Warning] bagging_fraction is set=0.9054680274531512, subsample=1.0 will be ignored. Current value: bagging_fraction=0.9054680274531512\n",
      "[LightGBM] [Warning] lambda_l1 is set=0.19691421059256184, reg_alpha=0.0 will be ignored. Current value: lambda_l1=0.19691421059256184\n",
      "[LightGBM] [Warning] feature_fraction is set=0.4402839308185982, colsample_bytree=1.0 will be ignored. Current value: feature_fraction=0.4402839308185982\n",
      "[LightGBM] [Warning] lambda_l2 is set=0.055945033189447525, reg_lambda=0.0 will be ignored. Current value: lambda_l2=0.055945033189447525\n",
      "[LightGBM] [Warning] bagging_freq is set=7, subsample_freq=0 will be ignored. Current value: bagging_freq=7\n",
      "[LightGBM] [Warning] bagging_fraction is set=0.9054680274531512, subsample=1.0 will be ignored. Current value: bagging_fraction=0.9054680274531512\n",
      "[LightGBM] [Warning] lambda_l1 is set=0.19691421059256184, reg_alpha=0.0 will be ignored. Current value: lambda_l1=0.19691421059256184\n",
      "[LightGBM] [Warning] feature_fraction is set=0.4402839308185982, colsample_bytree=1.0 will be ignored. Current value: feature_fraction=0.4402839308185982\n",
      "[LightGBM] [Warning] lambda_l2 is set=0.055945033189447525, reg_lambda=0.0 will be ignored. Current value: lambda_l2=0.055945033189447525\n",
      "[LightGBM] [Warning] bagging_freq is set=7, subsample_freq=0 will be ignored. Current value: bagging_freq=7\n",
      "[LightGBM] [Warning] bagging_fraction is set=0.9054680274531512, subsample=1.0 will be ignored. Current value: bagging_fraction=0.9054680274531512\n",
      "[LightGBM] [Warning] lambda_l1 is set=0.19691421059256184, reg_alpha=0.0 will be ignored. Current value: lambda_l1=0.19691421059256184\n",
      "[LightGBM] [Warning] feature_fraction is set=0.4402839308185982, colsample_bytree=1.0 will be ignored. Current value: feature_fraction=0.4402839308185982\n",
      "[LightGBM] [Warning] lambda_l2 is set=0.055945033189447525, reg_lambda=0.0 will be ignored. Current value: lambda_l2=0.055945033189447525\n",
      "[LightGBM] [Warning] bagging_freq is set=7, subsample_freq=0 will be ignored. Current value: bagging_freq=7\n"
     ]
    },
    {
     "name": "stderr",
     "output_type": "stream",
     "text": [
      "\u001b[32m[I 2023-03-15 19:53:41,985]\u001b[0m Trial 41 finished with value: 0.7859073475700271 and parameters: {'lambda_l1': 0.19691421059256184, 'lambda_l2': 0.055945033189447525, 'num_leaves': 2, 'feature_fraction': 0.4402839308185982, 'bagging_fraction': 0.9054680274531512, 'bagging_freq': 7, 'min_child_samples': 93}. Best is trial 25 with value: 0.7906928133004688.\u001b[0m\n"
     ]
    },
    {
     "name": "stdout",
     "output_type": "stream",
     "text": [
      "[LightGBM] [Warning] bagging_fraction is set=0.9028295443276899, subsample=1.0 will be ignored. Current value: bagging_fraction=0.9028295443276899\n",
      "[LightGBM] [Warning] lambda_l1 is set=0.2140684217021822, reg_alpha=0.0 will be ignored. Current value: lambda_l1=0.2140684217021822\n",
      "[LightGBM] [Warning] feature_fraction is set=0.42907804266990196, colsample_bytree=1.0 will be ignored. Current value: feature_fraction=0.42907804266990196\n",
      "[LightGBM] [Warning] lambda_l2 is set=0.04461270667159215, reg_lambda=0.0 will be ignored. Current value: lambda_l2=0.04461270667159215\n",
      "[LightGBM] [Warning] bagging_freq is set=7, subsample_freq=0 will be ignored. Current value: bagging_freq=7\n",
      "[LightGBM] [Warning] bagging_fraction is set=0.9028295443276899, subsample=1.0 will be ignored. Current value: bagging_fraction=0.9028295443276899\n",
      "[LightGBM] [Warning] lambda_l1 is set=0.2140684217021822, reg_alpha=0.0 will be ignored. Current value: lambda_l1=0.2140684217021822\n",
      "[LightGBM] [Warning] feature_fraction is set=0.42907804266990196, colsample_bytree=1.0 will be ignored. Current value: feature_fraction=0.42907804266990196\n",
      "[LightGBM] [Warning] lambda_l2 is set=0.04461270667159215, reg_lambda=0.0 will be ignored. Current value: lambda_l2=0.04461270667159215\n",
      "[LightGBM] [Warning] bagging_freq is set=7, subsample_freq=0 will be ignored. Current value: bagging_freq=7\n",
      "[LightGBM] [Warning] bagging_fraction is set=0.9028295443276899, subsample=1.0 will be ignored. Current value: bagging_fraction=0.9028295443276899\n",
      "[LightGBM] [Warning] lambda_l1 is set=0.2140684217021822, reg_alpha=0.0 will be ignored. Current value: lambda_l1=0.2140684217021822\n",
      "[LightGBM] [Warning] feature_fraction is set=0.42907804266990196, colsample_bytree=1.0 will be ignored. Current value: feature_fraction=0.42907804266990196\n",
      "[LightGBM] [Warning] lambda_l2 is set=0.04461270667159215, reg_lambda=0.0 will be ignored. Current value: lambda_l2=0.04461270667159215\n",
      "[LightGBM] [Warning] bagging_freq is set=7, subsample_freq=0 will be ignored. Current value: bagging_freq=7\n"
     ]
    },
    {
     "name": "stderr",
     "output_type": "stream",
     "text": [
      "\u001b[32m[I 2023-03-15 19:53:42,460]\u001b[0m Trial 42 finished with value: 0.7498570807183247 and parameters: {'lambda_l1': 0.2140684217021822, 'lambda_l2': 0.04461270667159215, 'num_leaves': 38, 'feature_fraction': 0.42907804266990196, 'bagging_fraction': 0.9028295443276899, 'bagging_freq': 7, 'min_child_samples': 90}. Best is trial 25 with value: 0.7906928133004688.\u001b[0m\n"
     ]
    },
    {
     "name": "stdout",
     "output_type": "stream",
     "text": [
      "[LightGBM] [Warning] bagging_fraction is set=0.9028295443276899, subsample=1.0 will be ignored. Current value: bagging_fraction=0.9028295443276899\n",
      "[LightGBM] [Warning] lambda_l1 is set=0.2140684217021822, reg_alpha=0.0 will be ignored. Current value: lambda_l1=0.2140684217021822\n",
      "[LightGBM] [Warning] feature_fraction is set=0.42907804266990196, colsample_bytree=1.0 will be ignored. Current value: feature_fraction=0.42907804266990196\n",
      "[LightGBM] [Warning] lambda_l2 is set=0.04461270667159215, reg_lambda=0.0 will be ignored. Current value: lambda_l2=0.04461270667159215\n",
      "[LightGBM] [Warning] bagging_freq is set=7, subsample_freq=0 will be ignored. Current value: bagging_freq=7\n",
      "[LightGBM] [Warning] bagging_fraction is set=0.9028295443276899, subsample=1.0 will be ignored. Current value: bagging_fraction=0.9028295443276899\n",
      "[LightGBM] [Warning] lambda_l1 is set=0.2140684217021822, reg_alpha=0.0 will be ignored. Current value: lambda_l1=0.2140684217021822\n",
      "[LightGBM] [Warning] feature_fraction is set=0.42907804266990196, colsample_bytree=1.0 will be ignored. Current value: feature_fraction=0.42907804266990196\n",
      "[LightGBM] [Warning] lambda_l2 is set=0.04461270667159215, reg_lambda=0.0 will be ignored. Current value: lambda_l2=0.04461270667159215\n",
      "[LightGBM] [Warning] bagging_freq is set=7, subsample_freq=0 will be ignored. Current value: bagging_freq=7\n",
      "[LightGBM] [Warning] bagging_fraction is set=0.933057953798697, subsample=1.0 will be ignored. Current value: bagging_fraction=0.933057953798697\n",
      "[LightGBM] [Warning] lambda_l1 is set=0.04219016393769883, reg_alpha=0.0 will be ignored. Current value: lambda_l1=0.04219016393769883\n",
      "[LightGBM] [Warning] feature_fraction is set=0.485165171762459, colsample_bytree=1.0 will be ignored. Current value: feature_fraction=0.485165171762459\n",
      "[LightGBM] [Warning] lambda_l2 is set=0.01452426138046203, reg_lambda=0.0 will be ignored. Current value: lambda_l2=0.01452426138046203\n",
      "[LightGBM] [Warning] bagging_freq is set=6, subsample_freq=0 will be ignored. Current value: bagging_freq=6\n",
      "[LightGBM] [Warning] bagging_fraction is set=0.933057953798697, subsample=1.0 will be ignored. Current value: bagging_fraction=0.933057953798697\n",
      "[LightGBM] [Warning] lambda_l1 is set=0.04219016393769883, reg_alpha=0.0 will be ignored. Current value: lambda_l1=0.04219016393769883\n",
      "[LightGBM] [Warning] feature_fraction is set=0.485165171762459, colsample_bytree=1.0 will be ignored. Current value: feature_fraction=0.485165171762459\n",
      "[LightGBM] [Warning] lambda_l2 is set=0.01452426138046203, reg_lambda=0.0 will be ignored. Current value: lambda_l2=0.01452426138046203\n",
      "[LightGBM] [Warning] bagging_freq is set=6, subsample_freq=0 will be ignored. Current value: bagging_freq=6\n",
      "[LightGBM] [Warning] bagging_fraction is set=0.933057953798697, subsample=1.0 will be ignored. Current value: bagging_fraction=0.933057953798697\n",
      "[LightGBM] [Warning] lambda_l1 is set=0.04219016393769883, reg_alpha=0.0 will be ignored. Current value: lambda_l1=0.04219016393769883\n",
      "[LightGBM] [Warning] feature_fraction is set=0.485165171762459, colsample_bytree=1.0 will be ignored. Current value: feature_fraction=0.485165171762459\n",
      "[LightGBM] [Warning] lambda_l2 is set=0.01452426138046203, reg_lambda=0.0 will be ignored. Current value: lambda_l2=0.01452426138046203\n",
      "[LightGBM] [Warning] bagging_freq is set=6, subsample_freq=0 will be ignored. Current value: bagging_freq=6\n"
     ]
    },
    {
     "name": "stderr",
     "output_type": "stream",
     "text": [
      "\u001b[32m[I 2023-03-15 19:53:42,978]\u001b[0m Trial 43 finished with value: 0.7557651877627954 and parameters: {'lambda_l1': 0.04219016393769883, 'lambda_l2': 0.01452426138046203, 'num_leaves': 15, 'feature_fraction': 0.485165171762459, 'bagging_fraction': 0.933057953798697, 'bagging_freq': 6, 'min_child_samples': 94}. Best is trial 25 with value: 0.7906928133004688.\u001b[0m\n"
     ]
    },
    {
     "name": "stdout",
     "output_type": "stream",
     "text": [
      "[LightGBM] [Warning] bagging_fraction is set=0.933057953798697, subsample=1.0 will be ignored. Current value: bagging_fraction=0.933057953798697\n",
      "[LightGBM] [Warning] lambda_l1 is set=0.04219016393769883, reg_alpha=0.0 will be ignored. Current value: lambda_l1=0.04219016393769883\n",
      "[LightGBM] [Warning] feature_fraction is set=0.485165171762459, colsample_bytree=1.0 will be ignored. Current value: feature_fraction=0.485165171762459\n",
      "[LightGBM] [Warning] lambda_l2 is set=0.01452426138046203, reg_lambda=0.0 will be ignored. Current value: lambda_l2=0.01452426138046203\n",
      "[LightGBM] [Warning] bagging_freq is set=6, subsample_freq=0 will be ignored. Current value: bagging_freq=6\n",
      "[LightGBM] [Warning] bagging_fraction is set=0.933057953798697, subsample=1.0 will be ignored. Current value: bagging_fraction=0.933057953798697\n",
      "[LightGBM] [Warning] lambda_l1 is set=0.04219016393769883, reg_alpha=0.0 will be ignored. Current value: lambda_l1=0.04219016393769883\n",
      "[LightGBM] [Warning] feature_fraction is set=0.485165171762459, colsample_bytree=1.0 will be ignored. Current value: feature_fraction=0.485165171762459\n",
      "[LightGBM] [Warning] lambda_l2 is set=0.01452426138046203, reg_lambda=0.0 will be ignored. Current value: lambda_l2=0.01452426138046203\n",
      "[LightGBM] [Warning] bagging_freq is set=6, subsample_freq=0 will be ignored. Current value: bagging_freq=6\n",
      "[LightGBM] [Warning] bagging_fraction is set=0.8988147219393238, subsample=1.0 will be ignored. Current value: bagging_fraction=0.8988147219393238\n",
      "[LightGBM] [Warning] lambda_l1 is set=0.748031324958581, reg_alpha=0.0 will be ignored. Current value: lambda_l1=0.748031324958581\n",
      "[LightGBM] [Warning] feature_fraction is set=0.4321500750414692, colsample_bytree=1.0 will be ignored. Current value: feature_fraction=0.4321500750414692\n",
      "[LightGBM] [Warning] lambda_l2 is set=0.00615069509869276, reg_lambda=0.0 will be ignored. Current value: lambda_l2=0.00615069509869276\n",
      "[LightGBM] [Warning] bagging_freq is set=7, subsample_freq=0 will be ignored. Current value: bagging_freq=7\n",
      "[LightGBM] [Warning] bagging_fraction is set=0.8988147219393238, subsample=1.0 will be ignored. Current value: bagging_fraction=0.8988147219393238\n",
      "[LightGBM] [Warning] lambda_l1 is set=0.748031324958581, reg_alpha=0.0 will be ignored. Current value: lambda_l1=0.748031324958581\n",
      "[LightGBM] [Warning] feature_fraction is set=0.4321500750414692, colsample_bytree=1.0 will be ignored. Current value: feature_fraction=0.4321500750414692\n",
      "[LightGBM] [Warning] lambda_l2 is set=0.00615069509869276, reg_lambda=0.0 will be ignored. Current value: lambda_l2=0.00615069509869276\n",
      "[LightGBM] [Warning] bagging_freq is set=7, subsample_freq=0 will be ignored. Current value: bagging_freq=7\n",
      "[LightGBM] [Warning] bagging_fraction is set=0.8988147219393238, subsample=1.0 will be ignored. Current value: bagging_fraction=0.8988147219393238\n",
      "[LightGBM] [Warning] lambda_l1 is set=0.748031324958581, reg_alpha=0.0 will be ignored. Current value: lambda_l1=0.748031324958581\n",
      "[LightGBM] [Warning] feature_fraction is set=0.4321500750414692, colsample_bytree=1.0 will be ignored. Current value: feature_fraction=0.4321500750414692\n",
      "[LightGBM] [Warning] lambda_l2 is set=0.00615069509869276, reg_lambda=0.0 will be ignored. Current value: lambda_l2=0.00615069509869276\n",
      "[LightGBM] [Warning] bagging_freq is set=7, subsample_freq=0 will be ignored. Current value: bagging_freq=7\n"
     ]
    },
    {
     "name": "stderr",
     "output_type": "stream",
     "text": [
      "\u001b[32m[I 2023-03-15 19:53:43,461]\u001b[0m Trial 44 finished with value: 0.7522275903256765 and parameters: {'lambda_l1': 0.748031324958581, 'lambda_l2': 0.00615069509869276, 'num_leaves': 54, 'feature_fraction': 0.4321500750414692, 'bagging_fraction': 0.8988147219393238, 'bagging_freq': 7, 'min_child_samples': 86}. Best is trial 25 with value: 0.7906928133004688.\u001b[0m\n"
     ]
    },
    {
     "name": "stdout",
     "output_type": "stream",
     "text": [
      "[LightGBM] [Warning] bagging_fraction is set=0.8988147219393238, subsample=1.0 will be ignored. Current value: bagging_fraction=0.8988147219393238\n",
      "[LightGBM] [Warning] lambda_l1 is set=0.748031324958581, reg_alpha=0.0 will be ignored. Current value: lambda_l1=0.748031324958581\n",
      "[LightGBM] [Warning] feature_fraction is set=0.4321500750414692, colsample_bytree=1.0 will be ignored. Current value: feature_fraction=0.4321500750414692\n",
      "[LightGBM] [Warning] lambda_l2 is set=0.00615069509869276, reg_lambda=0.0 will be ignored. Current value: lambda_l2=0.00615069509869276\n",
      "[LightGBM] [Warning] bagging_freq is set=7, subsample_freq=0 will be ignored. Current value: bagging_freq=7\n",
      "[LightGBM] [Warning] bagging_fraction is set=0.8988147219393238, subsample=1.0 will be ignored. Current value: bagging_fraction=0.8988147219393238\n",
      "[LightGBM] [Warning] lambda_l1 is set=0.748031324958581, reg_alpha=0.0 will be ignored. Current value: lambda_l1=0.748031324958581\n",
      "[LightGBM] [Warning] feature_fraction is set=0.4321500750414692, colsample_bytree=1.0 will be ignored. Current value: feature_fraction=0.4321500750414692\n",
      "[LightGBM] [Warning] lambda_l2 is set=0.00615069509869276, reg_lambda=0.0 will be ignored. Current value: lambda_l2=0.00615069509869276\n",
      "[LightGBM] [Warning] bagging_freq is set=7, subsample_freq=0 will be ignored. Current value: bagging_freq=7\n",
      "[LightGBM] [Warning] bagging_fraction is set=0.8170417469273994, subsample=1.0 will be ignored. Current value: bagging_fraction=0.8170417469273994\n",
      "[LightGBM] [Warning] lambda_l1 is set=0.022741397680585997, reg_alpha=0.0 will be ignored. Current value: lambda_l1=0.022741397680585997\n",
      "[LightGBM] [Warning] feature_fraction is set=0.40287169685845853, colsample_bytree=1.0 will be ignored. Current value: feature_fraction=0.40287169685845853\n",
      "[LightGBM] [Warning] lambda_l2 is set=0.032669128587040235, reg_lambda=0.0 will be ignored. Current value: lambda_l2=0.032669128587040235\n",
      "[LightGBM] [Warning] bagging_freq is set=6, subsample_freq=0 will be ignored. Current value: bagging_freq=6\n",
      "[LightGBM] [Warning] bagging_fraction is set=0.8170417469273994, subsample=1.0 will be ignored. Current value: bagging_fraction=0.8170417469273994\n",
      "[LightGBM] [Warning] lambda_l1 is set=0.022741397680585997, reg_alpha=0.0 will be ignored. Current value: lambda_l1=0.022741397680585997\n",
      "[LightGBM] [Warning] feature_fraction is set=0.40287169685845853, colsample_bytree=1.0 will be ignored. Current value: feature_fraction=0.40287169685845853\n",
      "[LightGBM] [Warning] lambda_l2 is set=0.032669128587040235, reg_lambda=0.0 will be ignored. Current value: lambda_l2=0.032669128587040235\n",
      "[LightGBM] [Warning] bagging_freq is set=6, subsample_freq=0 will be ignored. Current value: bagging_freq=6\n",
      "[LightGBM] [Warning] bagging_fraction is set=0.8170417469273994, subsample=1.0 will be ignored. Current value: bagging_fraction=0.8170417469273994\n",
      "[LightGBM] [Warning] lambda_l1 is set=0.022741397680585997, reg_alpha=0.0 will be ignored. Current value: lambda_l1=0.022741397680585997\n",
      "[LightGBM] [Warning] feature_fraction is set=0.40287169685845853, colsample_bytree=1.0 will be ignored. Current value: feature_fraction=0.40287169685845853\n",
      "[LightGBM] [Warning] lambda_l2 is set=0.032669128587040235, reg_lambda=0.0 will be ignored. Current value: lambda_l2=0.032669128587040235\n",
      "[LightGBM] [Warning] bagging_freq is set=6, subsample_freq=0 will be ignored. Current value: bagging_freq=6\n",
      "[LightGBM] [Warning] bagging_fraction is set=0.8170417469273994, subsample=1.0 will be ignored. Current value: bagging_fraction=0.8170417469273994\n",
      "[LightGBM] [Warning] lambda_l1 is set=0.022741397680585997, reg_alpha=0.0 will be ignored. Current value: lambda_l1=0.022741397680585997\n",
      "[LightGBM] [Warning] feature_fraction is set=0.40287169685845853, colsample_bytree=1.0 will be ignored. Current value: feature_fraction=0.40287169685845853\n",
      "[LightGBM] [Warning] lambda_l2 is set=0.032669128587040235, reg_lambda=0.0 will be ignored. Current value: lambda_l2=0.032669128587040235\n",
      "[LightGBM] [Warning] bagging_freq is set=6, subsample_freq=0 will be ignored. Current value: bagging_freq=6\n",
      "[LightGBM] [Warning] bagging_fraction is set=0.8170417469273994, subsample=1.0 will be ignored. Current value: bagging_fraction=0.8170417469273994\n",
      "[LightGBM] [Warning] lambda_l1 is set=0.022741397680585997, reg_alpha=0.0 will be ignored. Current value: lambda_l1=0.022741397680585997\n",
      "[LightGBM] [Warning] feature_fraction is set=0.40287169685845853, colsample_bytree=1.0 will be ignored. Current value: feature_fraction=0.40287169685845853\n",
      "[LightGBM] [Warning] lambda_l2 is set=0.032669128587040235, reg_lambda=0.0 will be ignored. Current value: lambda_l2=0.032669128587040235\n",
      "[LightGBM] [Warning] bagging_freq is set=6, subsample_freq=0 will be ignored. Current value: bagging_freq=6\n"
     ]
    },
    {
     "name": "stderr",
     "output_type": "stream",
     "text": [
      "\u001b[32m[I 2023-03-15 19:53:43,728]\u001b[0m Trial 45 finished with value: 0.7840255770279694 and parameters: {'lambda_l1': 0.022741397680585997, 'lambda_l2': 0.032669128587040235, 'num_leaves': 2, 'feature_fraction': 0.40287169685845853, 'bagging_fraction': 0.8170417469273994, 'bagging_freq': 6, 'min_child_samples': 99}. Best is trial 25 with value: 0.7906928133004688.\u001b[0m\n"
     ]
    },
    {
     "name": "stdout",
     "output_type": "stream",
     "text": [
      "[LightGBM] [Warning] bagging_fraction is set=0.8377262433102248, subsample=1.0 will be ignored. Current value: bagging_fraction=0.8377262433102248\n",
      "[LightGBM] [Warning] lambda_l1 is set=0.010879272817705968, reg_alpha=0.0 will be ignored. Current value: lambda_l1=0.010879272817705968\n",
      "[LightGBM] [Warning] feature_fraction is set=0.4031288459847192, colsample_bytree=1.0 will be ignored. Current value: feature_fraction=0.4031288459847192\n",
      "[LightGBM] [Warning] lambda_l2 is set=0.028674661763788, reg_lambda=0.0 will be ignored. Current value: lambda_l2=0.028674661763788\n",
      "[LightGBM] [Warning] bagging_freq is set=7, subsample_freq=0 will be ignored. Current value: bagging_freq=7\n",
      "[LightGBM] [Warning] bagging_fraction is set=0.8377262433102248, subsample=1.0 will be ignored. Current value: bagging_fraction=0.8377262433102248\n",
      "[LightGBM] [Warning] lambda_l1 is set=0.010879272817705968, reg_alpha=0.0 will be ignored. Current value: lambda_l1=0.010879272817705968\n",
      "[LightGBM] [Warning] feature_fraction is set=0.4031288459847192, colsample_bytree=1.0 will be ignored. Current value: feature_fraction=0.4031288459847192\n",
      "[LightGBM] [Warning] lambda_l2 is set=0.028674661763788, reg_lambda=0.0 will be ignored. Current value: lambda_l2=0.028674661763788\n",
      "[LightGBM] [Warning] bagging_freq is set=7, subsample_freq=0 will be ignored. Current value: bagging_freq=7\n",
      "[LightGBM] [Warning] bagging_fraction is set=0.8377262433102248, subsample=1.0 will be ignored. Current value: bagging_fraction=0.8377262433102248\n",
      "[LightGBM] [Warning] lambda_l1 is set=0.010879272817705968, reg_alpha=0.0 will be ignored. Current value: lambda_l1=0.010879272817705968\n",
      "[LightGBM] [Warning] feature_fraction is set=0.4031288459847192, colsample_bytree=1.0 will be ignored. Current value: feature_fraction=0.4031288459847192\n",
      "[LightGBM] [Warning] lambda_l2 is set=0.028674661763788, reg_lambda=0.0 will be ignored. Current value: lambda_l2=0.028674661763788\n",
      "[LightGBM] [Warning] bagging_freq is set=7, subsample_freq=0 will be ignored. Current value: bagging_freq=7\n"
     ]
    },
    {
     "name": "stderr",
     "output_type": "stream",
     "text": [
      "\u001b[32m[I 2023-03-15 19:53:44,143]\u001b[0m Trial 46 finished with value: 0.7471151190648799 and parameters: {'lambda_l1': 0.010879272817705968, 'lambda_l2': 0.028674661763788, 'num_leaves': 86, 'feature_fraction': 0.4031288459847192, 'bagging_fraction': 0.8377262433102248, 'bagging_freq': 7, 'min_child_samples': 99}. Best is trial 25 with value: 0.7906928133004688.\u001b[0m\n"
     ]
    },
    {
     "name": "stdout",
     "output_type": "stream",
     "text": [
      "[LightGBM] [Warning] bagging_fraction is set=0.8377262433102248, subsample=1.0 will be ignored. Current value: bagging_fraction=0.8377262433102248\n",
      "[LightGBM] [Warning] lambda_l1 is set=0.010879272817705968, reg_alpha=0.0 will be ignored. Current value: lambda_l1=0.010879272817705968\n",
      "[LightGBM] [Warning] feature_fraction is set=0.4031288459847192, colsample_bytree=1.0 will be ignored. Current value: feature_fraction=0.4031288459847192\n",
      "[LightGBM] [Warning] lambda_l2 is set=0.028674661763788, reg_lambda=0.0 will be ignored. Current value: lambda_l2=0.028674661763788\n",
      "[LightGBM] [Warning] bagging_freq is set=7, subsample_freq=0 will be ignored. Current value: bagging_freq=7\n",
      "[LightGBM] [Warning] bagging_fraction is set=0.8377262433102248, subsample=1.0 will be ignored. Current value: bagging_fraction=0.8377262433102248\n",
      "[LightGBM] [Warning] lambda_l1 is set=0.010879272817705968, reg_alpha=0.0 will be ignored. Current value: lambda_l1=0.010879272817705968\n",
      "[LightGBM] [Warning] feature_fraction is set=0.4031288459847192, colsample_bytree=1.0 will be ignored. Current value: feature_fraction=0.4031288459847192\n",
      "[LightGBM] [Warning] lambda_l2 is set=0.028674661763788, reg_lambda=0.0 will be ignored. Current value: lambda_l2=0.028674661763788\n",
      "[LightGBM] [Warning] bagging_freq is set=7, subsample_freq=0 will be ignored. Current value: bagging_freq=7\n",
      "[LightGBM] [Warning] bagging_fraction is set=0.8757619827316581, subsample=1.0 will be ignored. Current value: bagging_fraction=0.8757619827316581\n",
      "[LightGBM] [Warning] lambda_l1 is set=0.028048397018412153, reg_alpha=0.0 will be ignored. Current value: lambda_l1=0.028048397018412153\n",
      "[LightGBM] [Warning] feature_fraction is set=0.4999129673386224, colsample_bytree=1.0 will be ignored. Current value: feature_fraction=0.4999129673386224\n",
      "[LightGBM] [Warning] lambda_l2 is set=0.0033739432268597457, reg_lambda=0.0 will be ignored. Current value: lambda_l2=0.0033739432268597457\n",
      "[LightGBM] [Warning] bagging_freq is set=5, subsample_freq=0 will be ignored. Current value: bagging_freq=5\n",
      "[LightGBM] [Warning] bagging_fraction is set=0.8757619827316581, subsample=1.0 will be ignored. Current value: bagging_fraction=0.8757619827316581\n",
      "[LightGBM] [Warning] lambda_l1 is set=0.028048397018412153, reg_alpha=0.0 will be ignored. Current value: lambda_l1=0.028048397018412153\n",
      "[LightGBM] [Warning] feature_fraction is set=0.4999129673386224, colsample_bytree=1.0 will be ignored. Current value: feature_fraction=0.4999129673386224\n",
      "[LightGBM] [Warning] lambda_l2 is set=0.0033739432268597457, reg_lambda=0.0 will be ignored. Current value: lambda_l2=0.0033739432268597457\n",
      "[LightGBM] [Warning] bagging_freq is set=5, subsample_freq=0 will be ignored. Current value: bagging_freq=5\n",
      "[LightGBM] [Warning] bagging_fraction is set=0.8757619827316581, subsample=1.0 will be ignored. Current value: bagging_fraction=0.8757619827316581\n",
      "[LightGBM] [Warning] lambda_l1 is set=0.028048397018412153, reg_alpha=0.0 will be ignored. Current value: lambda_l1=0.028048397018412153\n",
      "[LightGBM] [Warning] feature_fraction is set=0.4999129673386224, colsample_bytree=1.0 will be ignored. Current value: feature_fraction=0.4999129673386224\n",
      "[LightGBM] [Warning] lambda_l2 is set=0.0033739432268597457, reg_lambda=0.0 will be ignored. Current value: lambda_l2=0.0033739432268597457\n",
      "[LightGBM] [Warning] bagging_freq is set=5, subsample_freq=0 will be ignored. Current value: bagging_freq=5\n",
      "[LightGBM] [Warning] bagging_fraction is set=0.8757619827316581, subsample=1.0 will be ignored. Current value: bagging_fraction=0.8757619827316581\n",
      "[LightGBM] [Warning] lambda_l1 is set=0.028048397018412153, reg_alpha=0.0 will be ignored. Current value: lambda_l1=0.028048397018412153\n",
      "[LightGBM] [Warning] feature_fraction is set=0.4999129673386224, colsample_bytree=1.0 will be ignored. Current value: feature_fraction=0.4999129673386224\n",
      "[LightGBM] [Warning] lambda_l2 is set=0.0033739432268597457, reg_lambda=0.0 will be ignored. Current value: lambda_l2=0.0033739432268597457\n",
      "[LightGBM] [Warning] bagging_freq is set=5, subsample_freq=0 will be ignored. Current value: bagging_freq=5\n"
     ]
    },
    {
     "name": "stderr",
     "output_type": "stream",
     "text": [
      "\u001b[32m[I 2023-03-15 19:53:44,632]\u001b[0m Trial 47 finished with value: 0.7496747205479263 and parameters: {'lambda_l1': 0.028048397018412153, 'lambda_l2': 0.0033739432268597457, 'num_leaves': 21, 'feature_fraction': 0.4999129673386224, 'bagging_fraction': 0.8757619827316581, 'bagging_freq': 5, 'min_child_samples': 91}. Best is trial 25 with value: 0.7906928133004688.\u001b[0m\n"
     ]
    },
    {
     "name": "stdout",
     "output_type": "stream",
     "text": [
      "[LightGBM] [Warning] bagging_fraction is set=0.8757619827316581, subsample=1.0 will be ignored. Current value: bagging_fraction=0.8757619827316581\n",
      "[LightGBM] [Warning] lambda_l1 is set=0.028048397018412153, reg_alpha=0.0 will be ignored. Current value: lambda_l1=0.028048397018412153\n",
      "[LightGBM] [Warning] feature_fraction is set=0.4999129673386224, colsample_bytree=1.0 will be ignored. Current value: feature_fraction=0.4999129673386224\n",
      "[LightGBM] [Warning] lambda_l2 is set=0.0033739432268597457, reg_lambda=0.0 will be ignored. Current value: lambda_l2=0.0033739432268597457\n",
      "[LightGBM] [Warning] bagging_freq is set=5, subsample_freq=0 will be ignored. Current value: bagging_freq=5\n",
      "[LightGBM] [Warning] bagging_fraction is set=0.8234075887526582, subsample=1.0 will be ignored. Current value: bagging_fraction=0.8234075887526582\n",
      "[LightGBM] [Warning] lambda_l1 is set=0.0010006023716065363, reg_alpha=0.0 will be ignored. Current value: lambda_l1=0.0010006023716065363\n",
      "[LightGBM] [Warning] feature_fraction is set=0.47917307158080114, colsample_bytree=1.0 will be ignored. Current value: feature_fraction=0.47917307158080114\n",
      "[LightGBM] [Warning] lambda_l2 is set=0.0009844181013368796, reg_lambda=0.0 will be ignored. Current value: lambda_l2=0.0009844181013368796\n",
      "[LightGBM] [Warning] bagging_freq is set=6, subsample_freq=0 will be ignored. Current value: bagging_freq=6\n",
      "[LightGBM] [Warning] bagging_fraction is set=0.8234075887526582, subsample=1.0 will be ignored. Current value: bagging_fraction=0.8234075887526582\n",
      "[LightGBM] [Warning] lambda_l1 is set=0.0010006023716065363, reg_alpha=0.0 will be ignored. Current value: lambda_l1=0.0010006023716065363\n",
      "[LightGBM] [Warning] feature_fraction is set=0.47917307158080114, colsample_bytree=1.0 will be ignored. Current value: feature_fraction=0.47917307158080114\n",
      "[LightGBM] [Warning] lambda_l2 is set=0.0009844181013368796, reg_lambda=0.0 will be ignored. Current value: lambda_l2=0.0009844181013368796\n",
      "[LightGBM] [Warning] bagging_freq is set=6, subsample_freq=0 will be ignored. Current value: bagging_freq=6\n",
      "[LightGBM] [Warning] bagging_fraction is set=0.8234075887526582, subsample=1.0 will be ignored. Current value: bagging_fraction=0.8234075887526582\n",
      "[LightGBM] [Warning] lambda_l1 is set=0.0010006023716065363, reg_alpha=0.0 will be ignored. Current value: lambda_l1=0.0010006023716065363\n",
      "[LightGBM] [Warning] feature_fraction is set=0.47917307158080114, colsample_bytree=1.0 will be ignored. Current value: feature_fraction=0.47917307158080114\n",
      "[LightGBM] [Warning] lambda_l2 is set=0.0009844181013368796, reg_lambda=0.0 will be ignored. Current value: lambda_l2=0.0009844181013368796\n",
      "[LightGBM] [Warning] bagging_freq is set=6, subsample_freq=0 will be ignored. Current value: bagging_freq=6\n",
      "[LightGBM] [Warning] bagging_fraction is set=0.8234075887526582, subsample=1.0 will be ignored. Current value: bagging_fraction=0.8234075887526582\n",
      "[LightGBM] [Warning] lambda_l1 is set=0.0010006023716065363, reg_alpha=0.0 will be ignored. Current value: lambda_l1=0.0010006023716065363\n",
      "[LightGBM] [Warning] feature_fraction is set=0.47917307158080114, colsample_bytree=1.0 will be ignored. Current value: feature_fraction=0.47917307158080114\n",
      "[LightGBM] [Warning] lambda_l2 is set=0.0009844181013368796, reg_lambda=0.0 will be ignored. Current value: lambda_l2=0.0009844181013368796\n",
      "[LightGBM] [Warning] bagging_freq is set=6, subsample_freq=0 will be ignored. Current value: bagging_freq=6\n"
     ]
    },
    {
     "name": "stderr",
     "output_type": "stream",
     "text": [
      "\u001b[32m[I 2023-03-15 19:53:45,129]\u001b[0m Trial 48 finished with value: 0.748332090556971 and parameters: {'lambda_l1': 0.0010006023716065363, 'lambda_l2': 0.0009844181013368796, 'num_leaves': 18, 'feature_fraction': 0.47917307158080114, 'bagging_fraction': 0.8234075887526582, 'bagging_freq': 6, 'min_child_samples': 80}. Best is trial 25 with value: 0.7906928133004688.\u001b[0m\n"
     ]
    },
    {
     "name": "stdout",
     "output_type": "stream",
     "text": [
      "[LightGBM] [Warning] bagging_fraction is set=0.8234075887526582, subsample=1.0 will be ignored. Current value: bagging_fraction=0.8234075887526582\n",
      "[LightGBM] [Warning] lambda_l1 is set=0.0010006023716065363, reg_alpha=0.0 will be ignored. Current value: lambda_l1=0.0010006023716065363\n",
      "[LightGBM] [Warning] feature_fraction is set=0.47917307158080114, colsample_bytree=1.0 will be ignored. Current value: feature_fraction=0.47917307158080114\n",
      "[LightGBM] [Warning] lambda_l2 is set=0.0009844181013368796, reg_lambda=0.0 will be ignored. Current value: lambda_l2=0.0009844181013368796\n",
      "[LightGBM] [Warning] bagging_freq is set=6, subsample_freq=0 will be ignored. Current value: bagging_freq=6\n",
      "[LightGBM] [Warning] bagging_fraction is set=0.9407564517683281, subsample=1.0 will be ignored. Current value: bagging_fraction=0.9407564517683281\n",
      "[LightGBM] [Warning] lambda_l1 is set=0.021101672607572973, reg_alpha=0.0 will be ignored. Current value: lambda_l1=0.021101672607572973\n",
      "[LightGBM] [Warning] feature_fraction is set=0.5286288770333174, colsample_bytree=1.0 will be ignored. Current value: feature_fraction=0.5286288770333174\n",
      "[LightGBM] [Warning] lambda_l2 is set=0.0005667685002274954, reg_lambda=0.0 will be ignored. Current value: lambda_l2=0.0005667685002274954\n",
      "[LightGBM] [Warning] bagging_freq is set=7, subsample_freq=0 will be ignored. Current value: bagging_freq=7\n",
      "[LightGBM] [Warning] bagging_fraction is set=0.9407564517683281, subsample=1.0 will be ignored. Current value: bagging_fraction=0.9407564517683281\n",
      "[LightGBM] [Warning] lambda_l1 is set=0.021101672607572973, reg_alpha=0.0 will be ignored. Current value: lambda_l1=0.021101672607572973\n",
      "[LightGBM] [Warning] feature_fraction is set=0.5286288770333174, colsample_bytree=1.0 will be ignored. Current value: feature_fraction=0.5286288770333174\n",
      "[LightGBM] [Warning] lambda_l2 is set=0.0005667685002274954, reg_lambda=0.0 will be ignored. Current value: lambda_l2=0.0005667685002274954\n",
      "[LightGBM] [Warning] bagging_freq is set=7, subsample_freq=0 will be ignored. Current value: bagging_freq=7\n",
      "[LightGBM] [Warning] bagging_fraction is set=0.9407564517683281, subsample=1.0 will be ignored. Current value: bagging_fraction=0.9407564517683281\n",
      "[LightGBM] [Warning] lambda_l1 is set=0.021101672607572973, reg_alpha=0.0 will be ignored. Current value: lambda_l1=0.021101672607572973\n",
      "[LightGBM] [Warning] feature_fraction is set=0.5286288770333174, colsample_bytree=1.0 will be ignored. Current value: feature_fraction=0.5286288770333174\n",
      "[LightGBM] [Warning] lambda_l2 is set=0.0005667685002274954, reg_lambda=0.0 will be ignored. Current value: lambda_l2=0.0005667685002274954\n",
      "[LightGBM] [Warning] bagging_freq is set=7, subsample_freq=0 will be ignored. Current value: bagging_freq=7\n",
      "[LightGBM] [Warning] bagging_fraction is set=0.9407564517683281, subsample=1.0 will be ignored. Current value: bagging_fraction=0.9407564517683281\n",
      "[LightGBM] [Warning] lambda_l1 is set=0.021101672607572973, reg_alpha=0.0 will be ignored. Current value: lambda_l1=0.021101672607572973\n",
      "[LightGBM] [Warning] feature_fraction is set=0.5286288770333174, colsample_bytree=1.0 will be ignored. Current value: feature_fraction=0.5286288770333174\n",
      "[LightGBM] [Warning] lambda_l2 is set=0.0005667685002274954, reg_lambda=0.0 will be ignored. Current value: lambda_l2=0.0005667685002274954\n",
      "[LightGBM] [Warning] bagging_freq is set=7, subsample_freq=0 will be ignored. Current value: bagging_freq=7\n"
     ]
    },
    {
     "name": "stderr",
     "output_type": "stream",
     "text": [
      "\u001b[32m[I 2023-03-15 19:53:45,652]\u001b[0m Trial 49 finished with value: 0.7453158550646589 and parameters: {'lambda_l1': 0.021101672607572973, 'lambda_l2': 0.0005667685002274954, 'num_leaves': 60, 'feature_fraction': 0.5286288770333174, 'bagging_fraction': 0.9407564517683281, 'bagging_freq': 7, 'min_child_samples': 100}. Best is trial 25 with value: 0.7906928133004688.\u001b[0m\n"
     ]
    },
    {
     "name": "stdout",
     "output_type": "stream",
     "text": [
      "[LightGBM] [Warning] bagging_fraction is set=0.9407564517683281, subsample=1.0 will be ignored. Current value: bagging_fraction=0.9407564517683281\n",
      "[LightGBM] [Warning] lambda_l1 is set=0.021101672607572973, reg_alpha=0.0 will be ignored. Current value: lambda_l1=0.021101672607572973\n",
      "[LightGBM] [Warning] feature_fraction is set=0.5286288770333174, colsample_bytree=1.0 will be ignored. Current value: feature_fraction=0.5286288770333174\n",
      "[LightGBM] [Warning] lambda_l2 is set=0.0005667685002274954, reg_lambda=0.0 will be ignored. Current value: lambda_l2=0.0005667685002274954\n",
      "[LightGBM] [Warning] bagging_freq is set=7, subsample_freq=0 will be ignored. Current value: bagging_freq=7\n",
      "[LightGBM] [Warning] bagging_fraction is set=0.872080504032676, subsample=1.0 will be ignored. Current value: bagging_fraction=0.872080504032676\n",
      "[LightGBM] [Warning] lambda_l1 is set=3.0706862191203417, reg_alpha=0.0 will be ignored. Current value: lambda_l1=3.0706862191203417\n",
      "[LightGBM] [Warning] feature_fraction is set=0.4448145093910847, colsample_bytree=1.0 will be ignored. Current value: feature_fraction=0.4448145093910847\n",
      "[LightGBM] [Warning] lambda_l2 is set=0.02038796808829609, reg_lambda=0.0 will be ignored. Current value: lambda_l2=0.02038796808829609\n",
      "[LightGBM] [Warning] bagging_freq is set=6, subsample_freq=0 will be ignored. Current value: bagging_freq=6\n",
      "[LightGBM] [Warning] bagging_fraction is set=0.872080504032676, subsample=1.0 will be ignored. Current value: bagging_fraction=0.872080504032676\n",
      "[LightGBM] [Warning] lambda_l1 is set=3.0706862191203417, reg_alpha=0.0 will be ignored. Current value: lambda_l1=3.0706862191203417\n",
      "[LightGBM] [Warning] feature_fraction is set=0.4448145093910847, colsample_bytree=1.0 will be ignored. Current value: feature_fraction=0.4448145093910847\n",
      "[LightGBM] [Warning] lambda_l2 is set=0.02038796808829609, reg_lambda=0.0 will be ignored. Current value: lambda_l2=0.02038796808829609\n",
      "[LightGBM] [Warning] bagging_freq is set=6, subsample_freq=0 will be ignored. Current value: bagging_freq=6\n",
      "[LightGBM] [Warning] bagging_fraction is set=0.872080504032676, subsample=1.0 will be ignored. Current value: bagging_fraction=0.872080504032676\n",
      "[LightGBM] [Warning] lambda_l1 is set=3.0706862191203417, reg_alpha=0.0 will be ignored. Current value: lambda_l1=3.0706862191203417\n",
      "[LightGBM] [Warning] feature_fraction is set=0.4448145093910847, colsample_bytree=1.0 will be ignored. Current value: feature_fraction=0.4448145093910847\n",
      "[LightGBM] [Warning] lambda_l2 is set=0.02038796808829609, reg_lambda=0.0 will be ignored. Current value: lambda_l2=0.02038796808829609\n",
      "[LightGBM] [Warning] bagging_freq is set=6, subsample_freq=0 will be ignored. Current value: bagging_freq=6\n",
      "[LightGBM] [Warning] bagging_fraction is set=0.872080504032676, subsample=1.0 will be ignored. Current value: bagging_fraction=0.872080504032676\n",
      "[LightGBM] [Warning] lambda_l1 is set=3.0706862191203417, reg_alpha=0.0 will be ignored. Current value: lambda_l1=3.0706862191203417\n",
      "[LightGBM] [Warning] feature_fraction is set=0.4448145093910847, colsample_bytree=1.0 will be ignored. Current value: feature_fraction=0.4448145093910847\n",
      "[LightGBM] [Warning] lambda_l2 is set=0.02038796808829609, reg_lambda=0.0 will be ignored. Current value: lambda_l2=0.02038796808829609\n",
      "[LightGBM] [Warning] bagging_freq is set=6, subsample_freq=0 will be ignored. Current value: bagging_freq=6\n"
     ]
    },
    {
     "name": "stderr",
     "output_type": "stream",
     "text": [
      "\u001b[32m[I 2023-03-15 19:53:46,112]\u001b[0m Trial 50 finished with value: 0.7533334023764646 and parameters: {'lambda_l1': 3.0706862191203417, 'lambda_l2': 0.02038796808829609, 'num_leaves': 37, 'feature_fraction': 0.4448145093910847, 'bagging_fraction': 0.872080504032676, 'bagging_freq': 6, 'min_child_samples': 87}. Best is trial 25 with value: 0.7906928133004688.\u001b[0m\n"
     ]
    },
    {
     "name": "stdout",
     "output_type": "stream",
     "text": [
      "[LightGBM] [Warning] bagging_fraction is set=0.872080504032676, subsample=1.0 will be ignored. Current value: bagging_fraction=0.872080504032676\n",
      "[LightGBM] [Warning] lambda_l1 is set=3.0706862191203417, reg_alpha=0.0 will be ignored. Current value: lambda_l1=3.0706862191203417\n",
      "[LightGBM] [Warning] feature_fraction is set=0.4448145093910847, colsample_bytree=1.0 will be ignored. Current value: feature_fraction=0.4448145093910847\n",
      "[LightGBM] [Warning] lambda_l2 is set=0.02038796808829609, reg_lambda=0.0 will be ignored. Current value: lambda_l2=0.02038796808829609\n",
      "[LightGBM] [Warning] bagging_freq is set=6, subsample_freq=0 will be ignored. Current value: bagging_freq=6\n",
      "[LightGBM] [Warning] bagging_fraction is set=0.9133442372505717, subsample=1.0 will be ignored. Current value: bagging_fraction=0.9133442372505717\n",
      "[LightGBM] [Warning] lambda_l1 is set=0.10956079405451159, reg_alpha=0.0 will be ignored. Current value: lambda_l1=0.10956079405451159\n",
      "[LightGBM] [Warning] feature_fraction is set=0.4224209431532046, colsample_bytree=1.0 will be ignored. Current value: feature_fraction=0.4224209431532046\n",
      "[LightGBM] [Warning] lambda_l2 is set=0.2748215717630676, reg_lambda=0.0 will be ignored. Current value: lambda_l2=0.2748215717630676\n",
      "[LightGBM] [Warning] bagging_freq is set=6, subsample_freq=0 will be ignored. Current value: bagging_freq=6\n",
      "[LightGBM] [Warning] bagging_fraction is set=0.9133442372505717, subsample=1.0 will be ignored. Current value: bagging_fraction=0.9133442372505717\n",
      "[LightGBM] [Warning] lambda_l1 is set=0.10956079405451159, reg_alpha=0.0 will be ignored. Current value: lambda_l1=0.10956079405451159\n",
      "[LightGBM] [Warning] feature_fraction is set=0.4224209431532046, colsample_bytree=1.0 will be ignored. Current value: feature_fraction=0.4224209431532046\n",
      "[LightGBM] [Warning] lambda_l2 is set=0.2748215717630676, reg_lambda=0.0 will be ignored. Current value: lambda_l2=0.2748215717630676\n",
      "[LightGBM] [Warning] bagging_freq is set=6, subsample_freq=0 will be ignored. Current value: bagging_freq=6\n"
     ]
    },
    {
     "name": "stderr",
     "output_type": "stream",
     "text": [
      "\u001b[32m[I 2023-03-15 19:53:46,396]\u001b[0m Trial 51 finished with value: 0.7847149726934416 and parameters: {'lambda_l1': 0.10956079405451159, 'lambda_l2': 0.2748215717630676, 'num_leaves': 2, 'feature_fraction': 0.4224209431532046, 'bagging_fraction': 0.9133442372505717, 'bagging_freq': 6, 'min_child_samples': 91}. Best is trial 25 with value: 0.7906928133004688.\u001b[0m\n"
     ]
    },
    {
     "name": "stdout",
     "output_type": "stream",
     "text": [
      "[LightGBM] [Warning] bagging_fraction is set=0.9133442372505717, subsample=1.0 will be ignored. Current value: bagging_fraction=0.9133442372505717\n",
      "[LightGBM] [Warning] lambda_l1 is set=0.10956079405451159, reg_alpha=0.0 will be ignored. Current value: lambda_l1=0.10956079405451159\n",
      "[LightGBM] [Warning] feature_fraction is set=0.4224209431532046, colsample_bytree=1.0 will be ignored. Current value: feature_fraction=0.4224209431532046\n",
      "[LightGBM] [Warning] lambda_l2 is set=0.2748215717630676, reg_lambda=0.0 will be ignored. Current value: lambda_l2=0.2748215717630676\n",
      "[LightGBM] [Warning] bagging_freq is set=6, subsample_freq=0 will be ignored. Current value: bagging_freq=6\n",
      "[LightGBM] [Warning] bagging_fraction is set=0.9133442372505717, subsample=1.0 will be ignored. Current value: bagging_fraction=0.9133442372505717\n",
      "[LightGBM] [Warning] lambda_l1 is set=0.10956079405451159, reg_alpha=0.0 will be ignored. Current value: lambda_l1=0.10956079405451159\n",
      "[LightGBM] [Warning] feature_fraction is set=0.4224209431532046, colsample_bytree=1.0 will be ignored. Current value: feature_fraction=0.4224209431532046\n",
      "[LightGBM] [Warning] lambda_l2 is set=0.2748215717630676, reg_lambda=0.0 will be ignored. Current value: lambda_l2=0.2748215717630676\n",
      "[LightGBM] [Warning] bagging_freq is set=6, subsample_freq=0 will be ignored. Current value: bagging_freq=6\n",
      "[LightGBM] [Warning] bagging_fraction is set=0.9133442372505717, subsample=1.0 will be ignored. Current value: bagging_fraction=0.9133442372505717\n",
      "[LightGBM] [Warning] lambda_l1 is set=0.10956079405451159, reg_alpha=0.0 will be ignored. Current value: lambda_l1=0.10956079405451159\n",
      "[LightGBM] [Warning] feature_fraction is set=0.4224209431532046, colsample_bytree=1.0 will be ignored. Current value: feature_fraction=0.4224209431532046\n",
      "[LightGBM] [Warning] lambda_l2 is set=0.2748215717630676, reg_lambda=0.0 will be ignored. Current value: lambda_l2=0.2748215717630676\n",
      "[LightGBM] [Warning] bagging_freq is set=6, subsample_freq=0 will be ignored. Current value: bagging_freq=6\n",
      "[LightGBM] [Warning] bagging_fraction is set=0.9744037422032691, subsample=1.0 will be ignored. Current value: bagging_fraction=0.9744037422032691\n",
      "[LightGBM] [Warning] lambda_l1 is set=0.26937110031326217, reg_alpha=0.0 will be ignored. Current value: lambda_l1=0.26937110031326217\n",
      "[LightGBM] [Warning] feature_fraction is set=0.40149064564997955, colsample_bytree=1.0 will be ignored. Current value: feature_fraction=0.40149064564997955\n",
      "[LightGBM] [Warning] lambda_l2 is set=0.085432503570527, reg_lambda=0.0 will be ignored. Current value: lambda_l2=0.085432503570527\n",
      "[LightGBM] [Warning] bagging_freq is set=5, subsample_freq=0 will be ignored. Current value: bagging_freq=5\n"
     ]
    },
    {
     "name": "stderr",
     "output_type": "stream",
     "text": [
      "\u001b[32m[I 2023-03-15 19:53:46,690]\u001b[0m Trial 52 finished with value: 0.7861137865324468 and parameters: {'lambda_l1': 0.26937110031326217, 'lambda_l2': 0.085432503570527, 'num_leaves': 2, 'feature_fraction': 0.40149064564997955, 'bagging_fraction': 0.9744037422032691, 'bagging_freq': 5, 'min_child_samples': 94}. Best is trial 25 with value: 0.7906928133004688.\u001b[0m\n"
     ]
    },
    {
     "name": "stdout",
     "output_type": "stream",
     "text": [
      "[LightGBM] [Warning] bagging_fraction is set=0.9744037422032691, subsample=1.0 will be ignored. Current value: bagging_fraction=0.9744037422032691\n",
      "[LightGBM] [Warning] lambda_l1 is set=0.26937110031326217, reg_alpha=0.0 will be ignored. Current value: lambda_l1=0.26937110031326217\n",
      "[LightGBM] [Warning] feature_fraction is set=0.40149064564997955, colsample_bytree=1.0 will be ignored. Current value: feature_fraction=0.40149064564997955\n",
      "[LightGBM] [Warning] lambda_l2 is set=0.085432503570527, reg_lambda=0.0 will be ignored. Current value: lambda_l2=0.085432503570527\n",
      "[LightGBM] [Warning] bagging_freq is set=5, subsample_freq=0 will be ignored. Current value: bagging_freq=5\n",
      "[LightGBM] [Warning] bagging_fraction is set=0.9744037422032691, subsample=1.0 will be ignored. Current value: bagging_fraction=0.9744037422032691\n",
      "[LightGBM] [Warning] lambda_l1 is set=0.26937110031326217, reg_alpha=0.0 will be ignored. Current value: lambda_l1=0.26937110031326217\n",
      "[LightGBM] [Warning] feature_fraction is set=0.40149064564997955, colsample_bytree=1.0 will be ignored. Current value: feature_fraction=0.40149064564997955\n",
      "[LightGBM] [Warning] lambda_l2 is set=0.085432503570527, reg_lambda=0.0 will be ignored. Current value: lambda_l2=0.085432503570527\n",
      "[LightGBM] [Warning] bagging_freq is set=5, subsample_freq=0 will be ignored. Current value: bagging_freq=5\n",
      "[LightGBM] [Warning] bagging_fraction is set=0.9744037422032691, subsample=1.0 will be ignored. Current value: bagging_fraction=0.9744037422032691\n",
      "[LightGBM] [Warning] lambda_l1 is set=0.26937110031326217, reg_alpha=0.0 will be ignored. Current value: lambda_l1=0.26937110031326217\n",
      "[LightGBM] [Warning] feature_fraction is set=0.40149064564997955, colsample_bytree=1.0 will be ignored. Current value: feature_fraction=0.40149064564997955\n",
      "[LightGBM] [Warning] lambda_l2 is set=0.085432503570527, reg_lambda=0.0 will be ignored. Current value: lambda_l2=0.085432503570527\n",
      "[LightGBM] [Warning] bagging_freq is set=5, subsample_freq=0 will be ignored. Current value: bagging_freq=5\n",
      "[LightGBM] [Warning] bagging_fraction is set=0.9744037422032691, subsample=1.0 will be ignored. Current value: bagging_fraction=0.9744037422032691\n",
      "[LightGBM] [Warning] lambda_l1 is set=0.26937110031326217, reg_alpha=0.0 will be ignored. Current value: lambda_l1=0.26937110031326217\n",
      "[LightGBM] [Warning] feature_fraction is set=0.40149064564997955, colsample_bytree=1.0 will be ignored. Current value: feature_fraction=0.40149064564997955\n",
      "[LightGBM] [Warning] lambda_l2 is set=0.085432503570527, reg_lambda=0.0 will be ignored. Current value: lambda_l2=0.085432503570527\n",
      "[LightGBM] [Warning] bagging_freq is set=5, subsample_freq=0 will be ignored. Current value: bagging_freq=5\n",
      "[LightGBM] [Warning] bagging_fraction is set=0.9787673273276398, subsample=1.0 will be ignored. Current value: bagging_fraction=0.9787673273276398\n",
      "[LightGBM] [Warning] lambda_l1 is set=0.28816376585566583, reg_alpha=0.0 will be ignored. Current value: lambda_l1=0.28816376585566583\n",
      "[LightGBM] [Warning] feature_fraction is set=0.43099512673606366, colsample_bytree=1.0 will be ignored. Current value: feature_fraction=0.43099512673606366\n",
      "[LightGBM] [Warning] lambda_l2 is set=0.09027776612662033, reg_lambda=0.0 will be ignored. Current value: lambda_l2=0.09027776612662033\n",
      "[LightGBM] [Warning] bagging_freq is set=5, subsample_freq=0 will be ignored. Current value: bagging_freq=5\n",
      "[LightGBM] [Warning] bagging_fraction is set=0.9787673273276398, subsample=1.0 will be ignored. Current value: bagging_fraction=0.9787673273276398\n",
      "[LightGBM] [Warning] lambda_l1 is set=0.28816376585566583, reg_alpha=0.0 will be ignored. Current value: lambda_l1=0.28816376585566583\n",
      "[LightGBM] [Warning] feature_fraction is set=0.43099512673606366, colsample_bytree=1.0 will be ignored. Current value: feature_fraction=0.43099512673606366\n",
      "[LightGBM] [Warning] lambda_l2 is set=0.09027776612662033, reg_lambda=0.0 will be ignored. Current value: lambda_l2=0.09027776612662033\n",
      "[LightGBM] [Warning] bagging_freq is set=5, subsample_freq=0 will be ignored. Current value: bagging_freq=5\n",
      "[LightGBM] [Warning] bagging_fraction is set=0.9787673273276398, subsample=1.0 will be ignored. Current value: bagging_fraction=0.9787673273276398\n",
      "[LightGBM] [Warning] lambda_l1 is set=0.28816376585566583, reg_alpha=0.0 will be ignored. Current value: lambda_l1=0.28816376585566583\n",
      "[LightGBM] [Warning] feature_fraction is set=0.43099512673606366, colsample_bytree=1.0 will be ignored. Current value: feature_fraction=0.43099512673606366\n",
      "[LightGBM] [Warning] lambda_l2 is set=0.09027776612662033, reg_lambda=0.0 will be ignored. Current value: lambda_l2=0.09027776612662033\n",
      "[LightGBM] [Warning] bagging_freq is set=5, subsample_freq=0 will be ignored. Current value: bagging_freq=5\n"
     ]
    },
    {
     "name": "stderr",
     "output_type": "stream",
     "text": [
      "\u001b[32m[I 2023-03-15 19:53:47,197]\u001b[0m Trial 53 finished with value: 0.7423565801556233 and parameters: {'lambda_l1': 0.28816376585566583, 'lambda_l2': 0.09027776612662033, 'num_leaves': 13, 'feature_fraction': 0.43099512673606366, 'bagging_fraction': 0.9787673273276398, 'bagging_freq': 5, 'min_child_samples': 93}. Best is trial 25 with value: 0.7906928133004688.\u001b[0m\n"
     ]
    },
    {
     "name": "stdout",
     "output_type": "stream",
     "text": [
      "[LightGBM] [Warning] bagging_fraction is set=0.9787673273276398, subsample=1.0 will be ignored. Current value: bagging_fraction=0.9787673273276398\n",
      "[LightGBM] [Warning] lambda_l1 is set=0.28816376585566583, reg_alpha=0.0 will be ignored. Current value: lambda_l1=0.28816376585566583\n",
      "[LightGBM] [Warning] feature_fraction is set=0.43099512673606366, colsample_bytree=1.0 will be ignored. Current value: feature_fraction=0.43099512673606366\n",
      "[LightGBM] [Warning] lambda_l2 is set=0.09027776612662033, reg_lambda=0.0 will be ignored. Current value: lambda_l2=0.09027776612662033\n",
      "[LightGBM] [Warning] bagging_freq is set=5, subsample_freq=0 will be ignored. Current value: bagging_freq=5\n",
      "[LightGBM] [Warning] bagging_fraction is set=0.9787673273276398, subsample=1.0 will be ignored. Current value: bagging_fraction=0.9787673273276398\n",
      "[LightGBM] [Warning] lambda_l1 is set=0.28816376585566583, reg_alpha=0.0 will be ignored. Current value: lambda_l1=0.28816376585566583\n",
      "[LightGBM] [Warning] feature_fraction is set=0.43099512673606366, colsample_bytree=1.0 will be ignored. Current value: feature_fraction=0.43099512673606366\n",
      "[LightGBM] [Warning] lambda_l2 is set=0.09027776612662033, reg_lambda=0.0 will be ignored. Current value: lambda_l2=0.09027776612662033\n",
      "[LightGBM] [Warning] bagging_freq is set=5, subsample_freq=0 will be ignored. Current value: bagging_freq=5\n",
      "[LightGBM] [Warning] bagging_fraction is set=0.9446017775077289, subsample=1.0 will be ignored. Current value: bagging_fraction=0.9446017775077289\n",
      "[LightGBM] [Warning] lambda_l1 is set=0.35753746620882, reg_alpha=0.0 will be ignored. Current value: lambda_l1=0.35753746620882\n",
      "[LightGBM] [Warning] feature_fraction is set=0.42606908404123545, colsample_bytree=1.0 will be ignored. Current value: feature_fraction=0.42606908404123545\n",
      "[LightGBM] [Warning] lambda_l2 is set=0.4145682916996255, reg_lambda=0.0 will be ignored. Current value: lambda_l2=0.4145682916996255\n",
      "[LightGBM] [Warning] bagging_freq is set=5, subsample_freq=0 will be ignored. Current value: bagging_freq=5\n",
      "[LightGBM] [Warning] bagging_fraction is set=0.9446017775077289, subsample=1.0 will be ignored. Current value: bagging_fraction=0.9446017775077289\n",
      "[LightGBM] [Warning] lambda_l1 is set=0.35753746620882, reg_alpha=0.0 will be ignored. Current value: lambda_l1=0.35753746620882\n",
      "[LightGBM] [Warning] feature_fraction is set=0.42606908404123545, colsample_bytree=1.0 will be ignored. Current value: feature_fraction=0.42606908404123545\n",
      "[LightGBM] [Warning] lambda_l2 is set=0.4145682916996255, reg_lambda=0.0 will be ignored. Current value: lambda_l2=0.4145682916996255\n",
      "[LightGBM] [Warning] bagging_freq is set=5, subsample_freq=0 will be ignored. Current value: bagging_freq=5\n",
      "[LightGBM] [Warning] bagging_fraction is set=0.9446017775077289, subsample=1.0 will be ignored. Current value: bagging_fraction=0.9446017775077289\n",
      "[LightGBM] [Warning] lambda_l1 is set=0.35753746620882, reg_alpha=0.0 will be ignored. Current value: lambda_l1=0.35753746620882\n",
      "[LightGBM] [Warning] feature_fraction is set=0.42606908404123545, colsample_bytree=1.0 will be ignored. Current value: feature_fraction=0.42606908404123545\n",
      "[LightGBM] [Warning] lambda_l2 is set=0.4145682916996255, reg_lambda=0.0 will be ignored. Current value: lambda_l2=0.4145682916996255\n",
      "[LightGBM] [Warning] bagging_freq is set=5, subsample_freq=0 will be ignored. Current value: bagging_freq=5\n",
      "[LightGBM] [Warning] bagging_fraction is set=0.9446017775077289, subsample=1.0 will be ignored. Current value: bagging_fraction=0.9446017775077289\n",
      "[LightGBM] [Warning] lambda_l1 is set=0.35753746620882, reg_alpha=0.0 will be ignored. Current value: lambda_l1=0.35753746620882\n",
      "[LightGBM] [Warning] feature_fraction is set=0.42606908404123545, colsample_bytree=1.0 will be ignored. Current value: feature_fraction=0.42606908404123545\n",
      "[LightGBM] [Warning] lambda_l2 is set=0.4145682916996255, reg_lambda=0.0 will be ignored. Current value: lambda_l2=0.4145682916996255\n",
      "[LightGBM] [Warning] bagging_freq is set=5, subsample_freq=0 will be ignored. Current value: bagging_freq=5\n"
     ]
    },
    {
     "name": "stderr",
     "output_type": "stream",
     "text": [
      "\u001b[32m[I 2023-03-15 19:53:48,175]\u001b[0m Trial 54 finished with value: 0.7440805871427882 and parameters: {'lambda_l1': 0.35753746620882, 'lambda_l2': 0.4145682916996255, 'num_leaves': 25, 'feature_fraction': 0.42606908404123545, 'bagging_fraction': 0.9446017775077289, 'bagging_freq': 5, 'min_child_samples': 87}. Best is trial 25 with value: 0.7906928133004688.\u001b[0m\n"
     ]
    },
    {
     "name": "stdout",
     "output_type": "stream",
     "text": [
      "[LightGBM] [Warning] bagging_fraction is set=0.9446017775077289, subsample=1.0 will be ignored. Current value: bagging_fraction=0.9446017775077289\n",
      "[LightGBM] [Warning] lambda_l1 is set=0.35753746620882, reg_alpha=0.0 will be ignored. Current value: lambda_l1=0.35753746620882\n",
      "[LightGBM] [Warning] feature_fraction is set=0.42606908404123545, colsample_bytree=1.0 will be ignored. Current value: feature_fraction=0.42606908404123545\n",
      "[LightGBM] [Warning] lambda_l2 is set=0.4145682916996255, reg_lambda=0.0 will be ignored. Current value: lambda_l2=0.4145682916996255\n",
      "[LightGBM] [Warning] bagging_freq is set=5, subsample_freq=0 will be ignored. Current value: bagging_freq=5\n",
      "[LightGBM] [Warning] bagging_fraction is set=0.9784314464241451, subsample=1.0 will be ignored. Current value: bagging_fraction=0.9784314464241451\n",
      "[LightGBM] [Warning] lambda_l1 is set=0.0647353007979224, reg_alpha=0.0 will be ignored. Current value: lambda_l1=0.0647353007979224\n",
      "[LightGBM] [Warning] feature_fraction is set=0.457052806876763, colsample_bytree=1.0 will be ignored. Current value: feature_fraction=0.457052806876763\n",
      "[LightGBM] [Warning] lambda_l2 is set=0.134319146988983, reg_lambda=0.0 will be ignored. Current value: lambda_l2=0.134319146988983\n",
      "[LightGBM] [Warning] bagging_freq is set=4, subsample_freq=0 will be ignored. Current value: bagging_freq=4\n",
      "[LightGBM] [Warning] bagging_fraction is set=0.9784314464241451, subsample=1.0 will be ignored. Current value: bagging_fraction=0.9784314464241451\n",
      "[LightGBM] [Warning] lambda_l1 is set=0.0647353007979224, reg_alpha=0.0 will be ignored. Current value: lambda_l1=0.0647353007979224\n",
      "[LightGBM] [Warning] feature_fraction is set=0.457052806876763, colsample_bytree=1.0 will be ignored. Current value: feature_fraction=0.457052806876763\n",
      "[LightGBM] [Warning] lambda_l2 is set=0.134319146988983, reg_lambda=0.0 will be ignored. Current value: lambda_l2=0.134319146988983\n",
      "[LightGBM] [Warning] bagging_freq is set=4, subsample_freq=0 will be ignored. Current value: bagging_freq=4\n",
      "[LightGBM] [Warning] bagging_fraction is set=0.9784314464241451, subsample=1.0 will be ignored. Current value: bagging_fraction=0.9784314464241451\n",
      "[LightGBM] [Warning] lambda_l1 is set=0.0647353007979224, reg_alpha=0.0 will be ignored. Current value: lambda_l1=0.0647353007979224\n",
      "[LightGBM] [Warning] feature_fraction is set=0.457052806876763, colsample_bytree=1.0 will be ignored. Current value: feature_fraction=0.457052806876763\n",
      "[LightGBM] [Warning] lambda_l2 is set=0.134319146988983, reg_lambda=0.0 will be ignored. Current value: lambda_l2=0.134319146988983\n",
      "[LightGBM] [Warning] bagging_freq is set=4, subsample_freq=0 will be ignored. Current value: bagging_freq=4\n"
     ]
    },
    {
     "name": "stderr",
     "output_type": "stream",
     "text": [
      "\u001b[32m[I 2023-03-15 19:53:48,733]\u001b[0m Trial 55 finished with value: 0.7424897470950104 and parameters: {'lambda_l1': 0.0647353007979224, 'lambda_l2': 0.134319146988983, 'num_leaves': 11, 'feature_fraction': 0.457052806876763, 'bagging_fraction': 0.9784314464241451, 'bagging_freq': 4, 'min_child_samples': 77}. Best is trial 25 with value: 0.7906928133004688.\u001b[0m\n"
     ]
    },
    {
     "name": "stdout",
     "output_type": "stream",
     "text": [
      "[LightGBM] [Warning] bagging_fraction is set=0.9784314464241451, subsample=1.0 will be ignored. Current value: bagging_fraction=0.9784314464241451\n",
      "[LightGBM] [Warning] lambda_l1 is set=0.0647353007979224, reg_alpha=0.0 will be ignored. Current value: lambda_l1=0.0647353007979224\n",
      "[LightGBM] [Warning] feature_fraction is set=0.457052806876763, colsample_bytree=1.0 will be ignored. Current value: feature_fraction=0.457052806876763\n",
      "[LightGBM] [Warning] lambda_l2 is set=0.134319146988983, reg_lambda=0.0 will be ignored. Current value: lambda_l2=0.134319146988983\n",
      "[LightGBM] [Warning] bagging_freq is set=4, subsample_freq=0 will be ignored. Current value: bagging_freq=4\n",
      "[LightGBM] [Warning] bagging_fraction is set=0.9784314464241451, subsample=1.0 will be ignored. Current value: bagging_fraction=0.9784314464241451\n",
      "[LightGBM] [Warning] lambda_l1 is set=0.0647353007979224, reg_alpha=0.0 will be ignored. Current value: lambda_l1=0.0647353007979224\n",
      "[LightGBM] [Warning] feature_fraction is set=0.457052806876763, colsample_bytree=1.0 will be ignored. Current value: feature_fraction=0.457052806876763\n",
      "[LightGBM] [Warning] lambda_l2 is set=0.134319146988983, reg_lambda=0.0 will be ignored. Current value: lambda_l2=0.134319146988983\n",
      "[LightGBM] [Warning] bagging_freq is set=4, subsample_freq=0 will be ignored. Current value: bagging_freq=4\n",
      "[LightGBM] [Warning] bagging_fraction is set=0.9181235802886141, subsample=1.0 will be ignored. Current value: bagging_fraction=0.9181235802886141\n",
      "[LightGBM] [Warning] lambda_l1 is set=1.2545442614608644, reg_alpha=0.0 will be ignored. Current value: lambda_l1=1.2545442614608644\n",
      "[LightGBM] [Warning] feature_fraction is set=0.49306006418702103, colsample_bytree=1.0 will be ignored. Current value: feature_fraction=0.49306006418702103\n",
      "[LightGBM] [Warning] lambda_l2 is set=0.4878143860586446, reg_lambda=0.0 will be ignored. Current value: lambda_l2=0.4878143860586446\n",
      "[LightGBM] [Warning] bagging_freq is set=7, subsample_freq=0 will be ignored. Current value: bagging_freq=7\n",
      "[LightGBM] [Warning] bagging_fraction is set=0.9181235802886141, subsample=1.0 will be ignored. Current value: bagging_fraction=0.9181235802886141\n",
      "[LightGBM] [Warning] lambda_l1 is set=1.2545442614608644, reg_alpha=0.0 will be ignored. Current value: lambda_l1=1.2545442614608644\n",
      "[LightGBM] [Warning] feature_fraction is set=0.49306006418702103, colsample_bytree=1.0 will be ignored. Current value: feature_fraction=0.49306006418702103\n",
      "[LightGBM] [Warning] lambda_l2 is set=0.4878143860586446, reg_lambda=0.0 will be ignored. Current value: lambda_l2=0.4878143860586446\n",
      "[LightGBM] [Warning] bagging_freq is set=7, subsample_freq=0 will be ignored. Current value: bagging_freq=7\n",
      "[LightGBM] [Warning] bagging_fraction is set=0.9181235802886141, subsample=1.0 will be ignored. Current value: bagging_fraction=0.9181235802886141\n",
      "[LightGBM] [Warning] lambda_l1 is set=1.2545442614608644, reg_alpha=0.0 will be ignored. Current value: lambda_l1=1.2545442614608644\n",
      "[LightGBM] [Warning] feature_fraction is set=0.49306006418702103, colsample_bytree=1.0 will be ignored. Current value: feature_fraction=0.49306006418702103\n",
      "[LightGBM] [Warning] lambda_l2 is set=0.4878143860586446, reg_lambda=0.0 will be ignored. Current value: lambda_l2=0.4878143860586446\n",
      "[LightGBM] [Warning] bagging_freq is set=7, subsample_freq=0 will be ignored. Current value: bagging_freq=7\n"
     ]
    },
    {
     "name": "stderr",
     "output_type": "stream",
     "text": [
      "\u001b[32m[I 2023-03-15 19:53:49,223]\u001b[0m Trial 56 finished with value: 0.7493522891250165 and parameters: {'lambda_l1': 1.2545442614608644, 'lambda_l2': 0.4878143860586446, 'num_leaves': 42, 'feature_fraction': 0.49306006418702103, 'bagging_fraction': 0.9181235802886141, 'bagging_freq': 7, 'min_child_samples': 90}. Best is trial 25 with value: 0.7906928133004688.\u001b[0m\n"
     ]
    },
    {
     "name": "stdout",
     "output_type": "stream",
     "text": [
      "[LightGBM] [Warning] bagging_fraction is set=0.9181235802886141, subsample=1.0 will be ignored. Current value: bagging_fraction=0.9181235802886141\n",
      "[LightGBM] [Warning] lambda_l1 is set=1.2545442614608644, reg_alpha=0.0 will be ignored. Current value: lambda_l1=1.2545442614608644\n",
      "[LightGBM] [Warning] feature_fraction is set=0.49306006418702103, colsample_bytree=1.0 will be ignored. Current value: feature_fraction=0.49306006418702103\n",
      "[LightGBM] [Warning] lambda_l2 is set=0.4878143860586446, reg_lambda=0.0 will be ignored. Current value: lambda_l2=0.4878143860586446\n",
      "[LightGBM] [Warning] bagging_freq is set=7, subsample_freq=0 will be ignored. Current value: bagging_freq=7\n",
      "[LightGBM] [Warning] bagging_fraction is set=0.9181235802886141, subsample=1.0 will be ignored. Current value: bagging_fraction=0.9181235802886141\n",
      "[LightGBM] [Warning] lambda_l1 is set=1.2545442614608644, reg_alpha=0.0 will be ignored. Current value: lambda_l1=1.2545442614608644\n",
      "[LightGBM] [Warning] feature_fraction is set=0.49306006418702103, colsample_bytree=1.0 will be ignored. Current value: feature_fraction=0.49306006418702103\n",
      "[LightGBM] [Warning] lambda_l2 is set=0.4878143860586446, reg_lambda=0.0 will be ignored. Current value: lambda_l2=0.4878143860586446\n",
      "[LightGBM] [Warning] bagging_freq is set=7, subsample_freq=0 will be ignored. Current value: bagging_freq=7\n",
      "[LightGBM] [Warning] bagging_fraction is set=0.9514161604673746, subsample=1.0 will be ignored. Current value: bagging_fraction=0.9514161604673746\n",
      "[LightGBM] [Warning] lambda_l1 is set=0.19487381387554437, reg_alpha=0.0 will be ignored. Current value: lambda_l1=0.19487381387554437\n",
      "[LightGBM] [Warning] feature_fraction is set=0.4182801204804511, colsample_bytree=1.0 will be ignored. Current value: feature_fraction=0.4182801204804511\n",
      "[LightGBM] [Warning] lambda_l2 is set=4.236611731117561, reg_lambda=0.0 will be ignored. Current value: lambda_l2=4.236611731117561\n",
      "[LightGBM] [Warning] bagging_freq is set=5, subsample_freq=0 will be ignored. Current value: bagging_freq=5\n",
      "[LightGBM] [Warning] bagging_fraction is set=0.9514161604673746, subsample=1.0 will be ignored. Current value: bagging_fraction=0.9514161604673746\n",
      "[LightGBM] [Warning] lambda_l1 is set=0.19487381387554437, reg_alpha=0.0 will be ignored. Current value: lambda_l1=0.19487381387554437\n",
      "[LightGBM] [Warning] feature_fraction is set=0.4182801204804511, colsample_bytree=1.0 will be ignored. Current value: feature_fraction=0.4182801204804511\n",
      "[LightGBM] [Warning] lambda_l2 is set=4.236611731117561, reg_lambda=0.0 will be ignored. Current value: lambda_l2=4.236611731117561\n",
      "[LightGBM] [Warning] bagging_freq is set=5, subsample_freq=0 will be ignored. Current value: bagging_freq=5\n",
      "[LightGBM] [Warning] bagging_fraction is set=0.9514161604673746, subsample=1.0 will be ignored. Current value: bagging_fraction=0.9514161604673746\n",
      "[LightGBM] [Warning] lambda_l1 is set=0.19487381387554437, reg_alpha=0.0 will be ignored. Current value: lambda_l1=0.19487381387554437\n",
      "[LightGBM] [Warning] feature_fraction is set=0.4182801204804511, colsample_bytree=1.0 will be ignored. Current value: feature_fraction=0.4182801204804511\n",
      "[LightGBM] [Warning] lambda_l2 is set=4.236611731117561, reg_lambda=0.0 will be ignored. Current value: lambda_l2=4.236611731117561\n",
      "[LightGBM] [Warning] bagging_freq is set=5, subsample_freq=0 will be ignored. Current value: bagging_freq=5\n"
     ]
    },
    {
     "name": "stderr",
     "output_type": "stream",
     "text": [
      "\u001b[32m[I 2023-03-15 19:53:49,729]\u001b[0m Trial 57 finished with value: 0.74623507805326 and parameters: {'lambda_l1': 0.19487381387554437, 'lambda_l2': 4.236611731117561, 'num_leaves': 202, 'feature_fraction': 0.4182801204804511, 'bagging_fraction': 0.9514161604673746, 'bagging_freq': 5, 'min_child_samples': 83}. Best is trial 25 with value: 0.7906928133004688.\u001b[0m\n"
     ]
    },
    {
     "name": "stdout",
     "output_type": "stream",
     "text": [
      "[LightGBM] [Warning] bagging_fraction is set=0.9514161604673746, subsample=1.0 will be ignored. Current value: bagging_fraction=0.9514161604673746\n",
      "[LightGBM] [Warning] lambda_l1 is set=0.19487381387554437, reg_alpha=0.0 will be ignored. Current value: lambda_l1=0.19487381387554437\n",
      "[LightGBM] [Warning] feature_fraction is set=0.4182801204804511, colsample_bytree=1.0 will be ignored. Current value: feature_fraction=0.4182801204804511\n",
      "[LightGBM] [Warning] lambda_l2 is set=4.236611731117561, reg_lambda=0.0 will be ignored. Current value: lambda_l2=4.236611731117561\n",
      "[LightGBM] [Warning] bagging_freq is set=5, subsample_freq=0 will be ignored. Current value: bagging_freq=5\n",
      "[LightGBM] [Warning] bagging_fraction is set=0.9514161604673746, subsample=1.0 will be ignored. Current value: bagging_fraction=0.9514161604673746\n",
      "[LightGBM] [Warning] lambda_l1 is set=0.19487381387554437, reg_alpha=0.0 will be ignored. Current value: lambda_l1=0.19487381387554437\n",
      "[LightGBM] [Warning] feature_fraction is set=0.4182801204804511, colsample_bytree=1.0 will be ignored. Current value: feature_fraction=0.4182801204804511\n",
      "[LightGBM] [Warning] lambda_l2 is set=4.236611731117561, reg_lambda=0.0 will be ignored. Current value: lambda_l2=4.236611731117561\n",
      "[LightGBM] [Warning] bagging_freq is set=5, subsample_freq=0 will be ignored. Current value: bagging_freq=5\n",
      "[LightGBM] [Warning] bagging_fraction is set=0.9059528056502169, subsample=1.0 will be ignored. Current value: bagging_fraction=0.9059528056502169\n",
      "[LightGBM] [Warning] lambda_l1 is set=0.048188350405041595, reg_alpha=0.0 will be ignored. Current value: lambda_l1=0.048188350405041595\n",
      "[LightGBM] [Warning] feature_fraction is set=0.40025937436660075, colsample_bytree=1.0 will be ignored. Current value: feature_fraction=0.40025937436660075\n",
      "[LightGBM] [Warning] lambda_l2 is set=0.7863735089209836, reg_lambda=0.0 will be ignored. Current value: lambda_l2=0.7863735089209836\n",
      "[LightGBM] [Warning] bagging_freq is set=6, subsample_freq=0 will be ignored. Current value: bagging_freq=6\n",
      "[LightGBM] [Warning] bagging_fraction is set=0.9059528056502169, subsample=1.0 will be ignored. Current value: bagging_fraction=0.9059528056502169\n",
      "[LightGBM] [Warning] lambda_l1 is set=0.048188350405041595, reg_alpha=0.0 will be ignored. Current value: lambda_l1=0.048188350405041595\n",
      "[LightGBM] [Warning] feature_fraction is set=0.40025937436660075, colsample_bytree=1.0 will be ignored. Current value: feature_fraction=0.40025937436660075\n",
      "[LightGBM] [Warning] lambda_l2 is set=0.7863735089209836, reg_lambda=0.0 will be ignored. Current value: lambda_l2=0.7863735089209836\n",
      "[LightGBM] [Warning] bagging_freq is set=6, subsample_freq=0 will be ignored. Current value: bagging_freq=6\n",
      "[LightGBM] [Warning] bagging_fraction is set=0.9059528056502169, subsample=1.0 will be ignored. Current value: bagging_fraction=0.9059528056502169\n",
      "[LightGBM] [Warning] lambda_l1 is set=0.048188350405041595, reg_alpha=0.0 will be ignored. Current value: lambda_l1=0.048188350405041595\n",
      "[LightGBM] [Warning] feature_fraction is set=0.40025937436660075, colsample_bytree=1.0 will be ignored. Current value: feature_fraction=0.40025937436660075\n",
      "[LightGBM] [Warning] lambda_l2 is set=0.7863735089209836, reg_lambda=0.0 will be ignored. Current value: lambda_l2=0.7863735089209836\n",
      "[LightGBM] [Warning] bagging_freq is set=6, subsample_freq=0 will be ignored. Current value: bagging_freq=6\n",
      "[LightGBM] [Warning] bagging_fraction is set=0.9059528056502169, subsample=1.0 will be ignored. Current value: bagging_fraction=0.9059528056502169\n",
      "[LightGBM] [Warning] lambda_l1 is set=0.048188350405041595, reg_alpha=0.0 will be ignored. Current value: lambda_l1=0.048188350405041595\n",
      "[LightGBM] [Warning] feature_fraction is set=0.40025937436660075, colsample_bytree=1.0 will be ignored. Current value: feature_fraction=0.40025937436660075\n",
      "[LightGBM] [Warning] lambda_l2 is set=0.7863735089209836, reg_lambda=0.0 will be ignored. Current value: lambda_l2=0.7863735089209836\n",
      "[LightGBM] [Warning] bagging_freq is set=6, subsample_freq=0 will be ignored. Current value: bagging_freq=6\n"
     ]
    },
    {
     "name": "stderr",
     "output_type": "stream",
     "text": [
      "\u001b[32m[I 2023-03-15 19:53:50,351]\u001b[0m Trial 58 finished with value: 0.7530011323073523 and parameters: {'lambda_l1': 0.048188350405041595, 'lambda_l2': 0.7863735089209836, 'num_leaves': 12, 'feature_fraction': 0.40025937436660075, 'bagging_fraction': 0.9059528056502169, 'bagging_freq': 6, 'min_child_samples': 30}. Best is trial 25 with value: 0.7906928133004688.\u001b[0m\n"
     ]
    },
    {
     "name": "stdout",
     "output_type": "stream",
     "text": [
      "[LightGBM] [Warning] bagging_fraction is set=0.9059528056502169, subsample=1.0 will be ignored. Current value: bagging_fraction=0.9059528056502169\n",
      "[LightGBM] [Warning] lambda_l1 is set=0.048188350405041595, reg_alpha=0.0 will be ignored. Current value: lambda_l1=0.048188350405041595\n",
      "[LightGBM] [Warning] feature_fraction is set=0.40025937436660075, colsample_bytree=1.0 will be ignored. Current value: feature_fraction=0.40025937436660075\n",
      "[LightGBM] [Warning] lambda_l2 is set=0.7863735089209836, reg_lambda=0.0 will be ignored. Current value: lambda_l2=0.7863735089209836\n",
      "[LightGBM] [Warning] bagging_freq is set=6, subsample_freq=0 will be ignored. Current value: bagging_freq=6\n",
      "[LightGBM] [Warning] bagging_fraction is set=0.8747882938020682, subsample=1.0 will be ignored. Current value: bagging_fraction=0.8747882938020682\n",
      "[LightGBM] [Warning] lambda_l1 is set=0.5440268834275294, reg_alpha=0.0 will be ignored. Current value: lambda_l1=0.5440268834275294\n",
      "[LightGBM] [Warning] feature_fraction is set=0.4720377405349707, colsample_bytree=1.0 will be ignored. Current value: feature_fraction=0.4720377405349707\n",
      "[LightGBM] [Warning] lambda_l2 is set=0.2176808319425092, reg_lambda=0.0 will be ignored. Current value: lambda_l2=0.2176808319425092\n",
      "[LightGBM] [Warning] bagging_freq is set=7, subsample_freq=0 will be ignored. Current value: bagging_freq=7\n",
      "[LightGBM] [Warning] bagging_fraction is set=0.8747882938020682, subsample=1.0 will be ignored. Current value: bagging_fraction=0.8747882938020682\n",
      "[LightGBM] [Warning] lambda_l1 is set=0.5440268834275294, reg_alpha=0.0 will be ignored. Current value: lambda_l1=0.5440268834275294\n",
      "[LightGBM] [Warning] feature_fraction is set=0.4720377405349707, colsample_bytree=1.0 will be ignored. Current value: feature_fraction=0.4720377405349707\n",
      "[LightGBM] [Warning] lambda_l2 is set=0.2176808319425092, reg_lambda=0.0 will be ignored. Current value: lambda_l2=0.2176808319425092\n",
      "[LightGBM] [Warning] bagging_freq is set=7, subsample_freq=0 will be ignored. Current value: bagging_freq=7\n",
      "[LightGBM] [Warning] bagging_fraction is set=0.8747882938020682, subsample=1.0 will be ignored. Current value: bagging_fraction=0.8747882938020682\n",
      "[LightGBM] [Warning] lambda_l1 is set=0.5440268834275294, reg_alpha=0.0 will be ignored. Current value: lambda_l1=0.5440268834275294\n",
      "[LightGBM] [Warning] feature_fraction is set=0.4720377405349707, colsample_bytree=1.0 will be ignored. Current value: feature_fraction=0.4720377405349707\n",
      "[LightGBM] [Warning] lambda_l2 is set=0.2176808319425092, reg_lambda=0.0 will be ignored. Current value: lambda_l2=0.2176808319425092\n",
      "[LightGBM] [Warning] bagging_freq is set=7, subsample_freq=0 will be ignored. Current value: bagging_freq=7\n",
      "[LightGBM] [Warning] bagging_fraction is set=0.8747882938020682, subsample=1.0 will be ignored. Current value: bagging_fraction=0.8747882938020682\n",
      "[LightGBM] [Warning] lambda_l1 is set=0.5440268834275294, reg_alpha=0.0 will be ignored. Current value: lambda_l1=0.5440268834275294\n",
      "[LightGBM] [Warning] feature_fraction is set=0.4720377405349707, colsample_bytree=1.0 will be ignored. Current value: feature_fraction=0.4720377405349707\n",
      "[LightGBM] [Warning] lambda_l2 is set=0.2176808319425092, reg_lambda=0.0 will be ignored. Current value: lambda_l2=0.2176808319425092\n",
      "[LightGBM] [Warning] bagging_freq is set=7, subsample_freq=0 will be ignored. Current value: bagging_freq=7\n"
     ]
    },
    {
     "name": "stderr",
     "output_type": "stream",
     "text": [
      "\u001b[32m[I 2023-03-15 19:53:50,924]\u001b[0m Trial 59 finished with value: 0.7509532267307387 and parameters: {'lambda_l1': 0.5440268834275294, 'lambda_l2': 0.2176808319425092, 'num_leaves': 256, 'feature_fraction': 0.4720377405349707, 'bagging_fraction': 0.8747882938020682, 'bagging_freq': 7, 'min_child_samples': 71}. Best is trial 25 with value: 0.7906928133004688.\u001b[0m\n"
     ]
    },
    {
     "name": "stdout",
     "output_type": "stream",
     "text": [
      "[LightGBM] [Warning] bagging_fraction is set=0.8747882938020682, subsample=1.0 will be ignored. Current value: bagging_fraction=0.8747882938020682\n",
      "[LightGBM] [Warning] lambda_l1 is set=0.5440268834275294, reg_alpha=0.0 will be ignored. Current value: lambda_l1=0.5440268834275294\n",
      "[LightGBM] [Warning] feature_fraction is set=0.4720377405349707, colsample_bytree=1.0 will be ignored. Current value: feature_fraction=0.4720377405349707\n",
      "[LightGBM] [Warning] lambda_l2 is set=0.2176808319425092, reg_lambda=0.0 will be ignored. Current value: lambda_l2=0.2176808319425092\n",
      "[LightGBM] [Warning] bagging_freq is set=7, subsample_freq=0 will be ignored. Current value: bagging_freq=7\n",
      "[LightGBM] [Warning] bagging_fraction is set=0.981108542026993, subsample=1.0 will be ignored. Current value: bagging_fraction=0.981108542026993\n",
      "[LightGBM] [Warning] lambda_l1 is set=3.231215151348018, reg_alpha=0.0 will be ignored. Current value: lambda_l1=3.231215151348018\n",
      "[LightGBM] [Warning] feature_fraction is set=0.45019012221074955, colsample_bytree=1.0 will be ignored. Current value: feature_fraction=0.45019012221074955\n",
      "[LightGBM] [Warning] lambda_l2 is set=0.04752323987176947, reg_lambda=0.0 will be ignored. Current value: lambda_l2=0.04752323987176947\n",
      "[LightGBM] [Warning] bagging_freq is set=6, subsample_freq=0 will be ignored. Current value: bagging_freq=6\n",
      "[LightGBM] [Warning] bagging_fraction is set=0.981108542026993, subsample=1.0 will be ignored. Current value: bagging_fraction=0.981108542026993\n",
      "[LightGBM] [Warning] lambda_l1 is set=3.231215151348018, reg_alpha=0.0 will be ignored. Current value: lambda_l1=3.231215151348018\n",
      "[LightGBM] [Warning] feature_fraction is set=0.45019012221074955, colsample_bytree=1.0 will be ignored. Current value: feature_fraction=0.45019012221074955\n",
      "[LightGBM] [Warning] lambda_l2 is set=0.04752323987176947, reg_lambda=0.0 will be ignored. Current value: lambda_l2=0.04752323987176947\n",
      "[LightGBM] [Warning] bagging_freq is set=6, subsample_freq=0 will be ignored. Current value: bagging_freq=6\n",
      "[LightGBM] [Warning] bagging_fraction is set=0.981108542026993, subsample=1.0 will be ignored. Current value: bagging_fraction=0.981108542026993\n",
      "[LightGBM] [Warning] lambda_l1 is set=3.231215151348018, reg_alpha=0.0 will be ignored. Current value: lambda_l1=3.231215151348018\n",
      "[LightGBM] [Warning] feature_fraction is set=0.45019012221074955, colsample_bytree=1.0 will be ignored. Current value: feature_fraction=0.45019012221074955\n",
      "[LightGBM] [Warning] lambda_l2 is set=0.04752323987176947, reg_lambda=0.0 will be ignored. Current value: lambda_l2=0.04752323987176947\n",
      "[LightGBM] [Warning] bagging_freq is set=6, subsample_freq=0 will be ignored. Current value: bagging_freq=6\n",
      "[LightGBM] [Warning] bagging_fraction is set=0.981108542026993, subsample=1.0 will be ignored. Current value: bagging_fraction=0.981108542026993\n",
      "[LightGBM] [Warning] lambda_l1 is set=3.231215151348018, reg_alpha=0.0 will be ignored. Current value: lambda_l1=3.231215151348018\n",
      "[LightGBM] [Warning] feature_fraction is set=0.45019012221074955, colsample_bytree=1.0 will be ignored. Current value: feature_fraction=0.45019012221074955\n",
      "[LightGBM] [Warning] lambda_l2 is set=0.04752323987176947, reg_lambda=0.0 will be ignored. Current value: lambda_l2=0.04752323987176947\n",
      "[LightGBM] [Warning] bagging_freq is set=6, subsample_freq=0 will be ignored. Current value: bagging_freq=6\n"
     ]
    },
    {
     "name": "stderr",
     "output_type": "stream",
     "text": [
      "\u001b[32m[I 2023-03-15 19:53:51,398]\u001b[0m Trial 60 finished with value: 0.7538519162921077 and parameters: {'lambda_l1': 3.231215151348018, 'lambda_l2': 0.04752323987176947, 'num_leaves': 25, 'feature_fraction': 0.45019012221074955, 'bagging_fraction': 0.981108542026993, 'bagging_freq': 6, 'min_child_samples': 95}. Best is trial 25 with value: 0.7906928133004688.\u001b[0m\n"
     ]
    },
    {
     "name": "stdout",
     "output_type": "stream",
     "text": [
      "[LightGBM] [Warning] bagging_fraction is set=0.981108542026993, subsample=1.0 will be ignored. Current value: bagging_fraction=0.981108542026993\n",
      "[LightGBM] [Warning] lambda_l1 is set=3.231215151348018, reg_alpha=0.0 will be ignored. Current value: lambda_l1=3.231215151348018\n",
      "[LightGBM] [Warning] feature_fraction is set=0.45019012221074955, colsample_bytree=1.0 will be ignored. Current value: feature_fraction=0.45019012221074955\n",
      "[LightGBM] [Warning] lambda_l2 is set=0.04752323987176947, reg_lambda=0.0 will be ignored. Current value: lambda_l2=0.04752323987176947\n",
      "[LightGBM] [Warning] bagging_freq is set=6, subsample_freq=0 will be ignored. Current value: bagging_freq=6\n",
      "[LightGBM] [Warning] bagging_fraction is set=0.891087403899241, subsample=1.0 will be ignored. Current value: bagging_fraction=0.891087403899241\n",
      "[LightGBM] [Warning] lambda_l1 is set=0.034505988951037694, reg_alpha=0.0 will be ignored. Current value: lambda_l1=0.034505988951037694\n",
      "[LightGBM] [Warning] feature_fraction is set=0.41611700430996523, colsample_bytree=1.0 will be ignored. Current value: feature_fraction=0.41611700430996523\n",
      "[LightGBM] [Warning] lambda_l2 is set=0.05118494431631793, reg_lambda=0.0 will be ignored. Current value: lambda_l2=0.05118494431631793\n",
      "[LightGBM] [Warning] bagging_freq is set=6, subsample_freq=0 will be ignored. Current value: bagging_freq=6\n",
      "[LightGBM] [Warning] bagging_fraction is set=0.891087403899241, subsample=1.0 will be ignored. Current value: bagging_fraction=0.891087403899241\n",
      "[LightGBM] [Warning] lambda_l1 is set=0.034505988951037694, reg_alpha=0.0 will be ignored. Current value: lambda_l1=0.034505988951037694\n",
      "[LightGBM] [Warning] feature_fraction is set=0.41611700430996523, colsample_bytree=1.0 will be ignored. Current value: feature_fraction=0.41611700430996523\n",
      "[LightGBM] [Warning] lambda_l2 is set=0.05118494431631793, reg_lambda=0.0 will be ignored. Current value: lambda_l2=0.05118494431631793\n",
      "[LightGBM] [Warning] bagging_freq is set=6, subsample_freq=0 will be ignored. Current value: bagging_freq=6\n"
     ]
    },
    {
     "name": "stderr",
     "output_type": "stream",
     "text": [
      "\u001b[32m[I 2023-03-15 19:53:51,749]\u001b[0m Trial 61 finished with value: 0.7666996347618357 and parameters: {'lambda_l1': 0.034505988951037694, 'lambda_l2': 0.05118494431631793, 'num_leaves': 4, 'feature_fraction': 0.41611700430996523, 'bagging_fraction': 0.891087403899241, 'bagging_freq': 6, 'min_child_samples': 97}. Best is trial 25 with value: 0.7906928133004688.\u001b[0m\n"
     ]
    },
    {
     "name": "stdout",
     "output_type": "stream",
     "text": [
      "[LightGBM] [Warning] bagging_fraction is set=0.891087403899241, subsample=1.0 will be ignored. Current value: bagging_fraction=0.891087403899241\n",
      "[LightGBM] [Warning] lambda_l1 is set=0.034505988951037694, reg_alpha=0.0 will be ignored. Current value: lambda_l1=0.034505988951037694\n",
      "[LightGBM] [Warning] feature_fraction is set=0.41611700430996523, colsample_bytree=1.0 will be ignored. Current value: feature_fraction=0.41611700430996523\n",
      "[LightGBM] [Warning] lambda_l2 is set=0.05118494431631793, reg_lambda=0.0 will be ignored. Current value: lambda_l2=0.05118494431631793\n",
      "[LightGBM] [Warning] bagging_freq is set=6, subsample_freq=0 will be ignored. Current value: bagging_freq=6\n",
      "[LightGBM] [Warning] bagging_fraction is set=0.891087403899241, subsample=1.0 will be ignored. Current value: bagging_fraction=0.891087403899241\n",
      "[LightGBM] [Warning] lambda_l1 is set=0.034505988951037694, reg_alpha=0.0 will be ignored. Current value: lambda_l1=0.034505988951037694\n",
      "[LightGBM] [Warning] feature_fraction is set=0.41611700430996523, colsample_bytree=1.0 will be ignored. Current value: feature_fraction=0.41611700430996523\n",
      "[LightGBM] [Warning] lambda_l2 is set=0.05118494431631793, reg_lambda=0.0 will be ignored. Current value: lambda_l2=0.05118494431631793\n",
      "[LightGBM] [Warning] bagging_freq is set=6, subsample_freq=0 will be ignored. Current value: bagging_freq=6\n",
      "[LightGBM] [Warning] bagging_fraction is set=0.891087403899241, subsample=1.0 will be ignored. Current value: bagging_fraction=0.891087403899241\n",
      "[LightGBM] [Warning] lambda_l1 is set=0.034505988951037694, reg_alpha=0.0 will be ignored. Current value: lambda_l1=0.034505988951037694\n",
      "[LightGBM] [Warning] feature_fraction is set=0.41611700430996523, colsample_bytree=1.0 will be ignored. Current value: feature_fraction=0.41611700430996523\n",
      "[LightGBM] [Warning] lambda_l2 is set=0.05118494431631793, reg_lambda=0.0 will be ignored. Current value: lambda_l2=0.05118494431631793\n",
      "[LightGBM] [Warning] bagging_freq is set=6, subsample_freq=0 will be ignored. Current value: bagging_freq=6\n",
      "[LightGBM] [Warning] bagging_fraction is set=0.934830825394083, subsample=1.0 will be ignored. Current value: bagging_fraction=0.934830825394083\n",
      "[LightGBM] [Warning] lambda_l1 is set=0.01197828670118359, reg_alpha=0.0 will be ignored. Current value: lambda_l1=0.01197828670118359\n",
      "[LightGBM] [Warning] feature_fraction is set=0.4442747410488294, colsample_bytree=1.0 will be ignored. Current value: feature_fraction=0.4442747410488294\n",
      "[LightGBM] [Warning] lambda_l2 is set=0.12130899861770876, reg_lambda=0.0 will be ignored. Current value: lambda_l2=0.12130899861770876\n",
      "[LightGBM] [Warning] bagging_freq is set=6, subsample_freq=0 will be ignored. Current value: bagging_freq=6\n",
      "[LightGBM] [Warning] bagging_fraction is set=0.934830825394083, subsample=1.0 will be ignored. Current value: bagging_fraction=0.934830825394083\n",
      "[LightGBM] [Warning] lambda_l1 is set=0.01197828670118359, reg_alpha=0.0 will be ignored. Current value: lambda_l1=0.01197828670118359\n",
      "[LightGBM] [Warning] feature_fraction is set=0.4442747410488294, colsample_bytree=1.0 will be ignored. Current value: feature_fraction=0.4442747410488294\n",
      "[LightGBM] [Warning] lambda_l2 is set=0.12130899861770876, reg_lambda=0.0 will be ignored. Current value: lambda_l2=0.12130899861770876\n",
      "[LightGBM] [Warning] bagging_freq is set=6, subsample_freq=0 will be ignored. Current value: bagging_freq=6\n",
      "[LightGBM] [Warning] bagging_fraction is set=0.934830825394083, subsample=1.0 will be ignored. Current value: bagging_fraction=0.934830825394083\n",
      "[LightGBM] [Warning] lambda_l1 is set=0.01197828670118359, reg_alpha=0.0 will be ignored. Current value: lambda_l1=0.01197828670118359\n",
      "[LightGBM] [Warning] feature_fraction is set=0.4442747410488294, colsample_bytree=1.0 will be ignored. Current value: feature_fraction=0.4442747410488294\n",
      "[LightGBM] [Warning] lambda_l2 is set=0.12130899861770876, reg_lambda=0.0 will be ignored. Current value: lambda_l2=0.12130899861770876\n",
      "[LightGBM] [Warning] bagging_freq is set=6, subsample_freq=0 will be ignored. Current value: bagging_freq=6\n",
      "[LightGBM] [Warning] bagging_fraction is set=0.934830825394083, subsample=1.0 will be ignored. Current value: bagging_fraction=0.934830825394083\n",
      "[LightGBM] [Warning] lambda_l1 is set=0.01197828670118359, reg_alpha=0.0 will be ignored. Current value: lambda_l1=0.01197828670118359\n",
      "[LightGBM] [Warning] feature_fraction is set=0.4442747410488294, colsample_bytree=1.0 will be ignored. Current value: feature_fraction=0.4442747410488294\n",
      "[LightGBM] [Warning] lambda_l2 is set=0.12130899861770876, reg_lambda=0.0 will be ignored. Current value: lambda_l2=0.12130899861770876\n",
      "[LightGBM] [Warning] bagging_freq is set=6, subsample_freq=0 will be ignored. Current value: bagging_freq=6\n"
     ]
    },
    {
     "name": "stderr",
     "output_type": "stream",
     "text": [
      "\u001b[32m[I 2023-03-15 19:53:52,080]\u001b[0m Trial 62 finished with value: 0.7763557481858918 and parameters: {'lambda_l1': 0.01197828670118359, 'lambda_l2': 0.12130899861770876, 'num_leaves': 3, 'feature_fraction': 0.4442747410488294, 'bagging_fraction': 0.934830825394083, 'bagging_freq': 6, 'min_child_samples': 85}. Best is trial 25 with value: 0.7906928133004688.\u001b[0m\n"
     ]
    },
    {
     "name": "stdout",
     "output_type": "stream",
     "text": [
      "[LightGBM] [Warning] bagging_fraction is set=0.934830825394083, subsample=1.0 will be ignored. Current value: bagging_fraction=0.934830825394083\n",
      "[LightGBM] [Warning] lambda_l1 is set=0.01197828670118359, reg_alpha=0.0 will be ignored. Current value: lambda_l1=0.01197828670118359\n",
      "[LightGBM] [Warning] feature_fraction is set=0.4442747410488294, colsample_bytree=1.0 will be ignored. Current value: feature_fraction=0.4442747410488294\n",
      "[LightGBM] [Warning] lambda_l2 is set=0.12130899861770876, reg_lambda=0.0 will be ignored. Current value: lambda_l2=0.12130899861770876\n",
      "[LightGBM] [Warning] bagging_freq is set=6, subsample_freq=0 will be ignored. Current value: bagging_freq=6\n",
      "[LightGBM] [Warning] bagging_fraction is set=0.8310065095892947, subsample=1.0 will be ignored. Current value: bagging_fraction=0.8310065095892947\n",
      "[LightGBM] [Warning] lambda_l1 is set=0.1261202551245165, reg_alpha=0.0 will be ignored. Current value: lambda_l1=0.1261202551245165\n",
      "[LightGBM] [Warning] feature_fraction is set=0.4003471861669688, colsample_bytree=1.0 will be ignored. Current value: feature_fraction=0.4003471861669688\n",
      "[LightGBM] [Warning] lambda_l2 is set=0.009008465472442379, reg_lambda=0.0 will be ignored. Current value: lambda_l2=0.009008465472442379\n",
      "[LightGBM] [Warning] bagging_freq is set=1, subsample_freq=0 will be ignored. Current value: bagging_freq=1\n",
      "[LightGBM] [Warning] bagging_fraction is set=0.8310065095892947, subsample=1.0 will be ignored. Current value: bagging_fraction=0.8310065095892947\n",
      "[LightGBM] [Warning] lambda_l1 is set=0.1261202551245165, reg_alpha=0.0 will be ignored. Current value: lambda_l1=0.1261202551245165\n",
      "[LightGBM] [Warning] feature_fraction is set=0.4003471861669688, colsample_bytree=1.0 will be ignored. Current value: feature_fraction=0.4003471861669688\n",
      "[LightGBM] [Warning] lambda_l2 is set=0.009008465472442379, reg_lambda=0.0 will be ignored. Current value: lambda_l2=0.009008465472442379\n",
      "[LightGBM] [Warning] bagging_freq is set=1, subsample_freq=0 will be ignored. Current value: bagging_freq=1\n",
      "[LightGBM] [Warning] bagging_fraction is set=0.8310065095892947, subsample=1.0 will be ignored. Current value: bagging_fraction=0.8310065095892947\n",
      "[LightGBM] [Warning] lambda_l1 is set=0.1261202551245165, reg_alpha=0.0 will be ignored. Current value: lambda_l1=0.1261202551245165\n",
      "[LightGBM] [Warning] feature_fraction is set=0.4003471861669688, colsample_bytree=1.0 will be ignored. Current value: feature_fraction=0.4003471861669688\n",
      "[LightGBM] [Warning] lambda_l2 is set=0.009008465472442379, reg_lambda=0.0 will be ignored. Current value: lambda_l2=0.009008465472442379\n",
      "[LightGBM] [Warning] bagging_freq is set=1, subsample_freq=0 will be ignored. Current value: bagging_freq=1\n",
      "[LightGBM] [Warning] bagging_fraction is set=0.8310065095892947, subsample=1.0 will be ignored. Current value: bagging_fraction=0.8310065095892947\n",
      "[LightGBM] [Warning] lambda_l1 is set=0.1261202551245165, reg_alpha=0.0 will be ignored. Current value: lambda_l1=0.1261202551245165\n",
      "[LightGBM] [Warning] feature_fraction is set=0.4003471861669688, colsample_bytree=1.0 will be ignored. Current value: feature_fraction=0.4003471861669688\n",
      "[LightGBM] [Warning] lambda_l2 is set=0.009008465472442379, reg_lambda=0.0 will be ignored. Current value: lambda_l2=0.009008465472442379\n",
      "[LightGBM] [Warning] bagging_freq is set=1, subsample_freq=0 will be ignored. Current value: bagging_freq=1\n",
      "[LightGBM] [Warning] bagging_fraction is set=0.8310065095892947, subsample=1.0 will be ignored. Current value: bagging_fraction=0.8310065095892947\n",
      "[LightGBM] [Warning] lambda_l1 is set=0.1261202551245165, reg_alpha=0.0 will be ignored. Current value: lambda_l1=0.1261202551245165\n",
      "[LightGBM] [Warning] feature_fraction is set=0.4003471861669688, colsample_bytree=1.0 will be ignored. Current value: feature_fraction=0.4003471861669688\n",
      "[LightGBM] [Warning] lambda_l2 is set=0.009008465472442379, reg_lambda=0.0 will be ignored. Current value: lambda_l2=0.009008465472442379\n",
      "[LightGBM] [Warning] bagging_freq is set=1, subsample_freq=0 will be ignored. Current value: bagging_freq=1\n"
     ]
    },
    {
     "name": "stderr",
     "output_type": "stream",
     "text": [
      "\u001b[32m[I 2023-03-15 19:53:52,513]\u001b[0m Trial 63 finished with value: 0.747273573051085 and parameters: {'lambda_l1': 0.1261202551245165, 'lambda_l2': 0.009008465472442379, 'num_leaves': 11, 'feature_fraction': 0.4003471861669688, 'bagging_fraction': 0.8310065095892947, 'bagging_freq': 1, 'min_child_samples': 91}. Best is trial 25 with value: 0.7906928133004688.\u001b[0m\n"
     ]
    },
    {
     "name": "stdout",
     "output_type": "stream",
     "text": [
      "[LightGBM] [Warning] bagging_fraction is set=0.8602533957408962, subsample=1.0 will be ignored. Current value: bagging_fraction=0.8602533957408962\n",
      "[LightGBM] [Warning] lambda_l1 is set=0.08603679898237114, reg_alpha=0.0 will be ignored. Current value: lambda_l1=0.08603679898237114\n",
      "[LightGBM] [Warning] feature_fraction is set=0.4205230570594731, colsample_bytree=1.0 will be ignored. Current value: feature_fraction=0.4205230570594731\n",
      "[LightGBM] [Warning] lambda_l2 is set=0.02575211232393331, reg_lambda=0.0 will be ignored. Current value: lambda_l2=0.02575211232393331\n",
      "[LightGBM] [Warning] bagging_freq is set=5, subsample_freq=0 will be ignored. Current value: bagging_freq=5\n",
      "[LightGBM] [Warning] bagging_fraction is set=0.8602533957408962, subsample=1.0 will be ignored. Current value: bagging_fraction=0.8602533957408962\n",
      "[LightGBM] [Warning] lambda_l1 is set=0.08603679898237114, reg_alpha=0.0 will be ignored. Current value: lambda_l1=0.08603679898237114\n",
      "[LightGBM] [Warning] feature_fraction is set=0.4205230570594731, colsample_bytree=1.0 will be ignored. Current value: feature_fraction=0.4205230570594731\n",
      "[LightGBM] [Warning] lambda_l2 is set=0.02575211232393331, reg_lambda=0.0 will be ignored. Current value: lambda_l2=0.02575211232393331\n",
      "[LightGBM] [Warning] bagging_freq is set=5, subsample_freq=0 will be ignored. Current value: bagging_freq=5\n",
      "[LightGBM] [Warning] bagging_fraction is set=0.8602533957408962, subsample=1.0 will be ignored. Current value: bagging_fraction=0.8602533957408962\n",
      "[LightGBM] [Warning] lambda_l1 is set=0.08603679898237114, reg_alpha=0.0 will be ignored. Current value: lambda_l1=0.08603679898237114\n",
      "[LightGBM] [Warning] feature_fraction is set=0.4205230570594731, colsample_bytree=1.0 will be ignored. Current value: feature_fraction=0.4205230570594731\n",
      "[LightGBM] [Warning] lambda_l2 is set=0.02575211232393331, reg_lambda=0.0 will be ignored. Current value: lambda_l2=0.02575211232393331\n",
      "[LightGBM] [Warning] bagging_freq is set=5, subsample_freq=0 will be ignored. Current value: bagging_freq=5\n",
      "[LightGBM] [Warning] bagging_fraction is set=0.8602533957408962, subsample=1.0 will be ignored. Current value: bagging_fraction=0.8602533957408962\n",
      "[LightGBM] [Warning] lambda_l1 is set=0.08603679898237114, reg_alpha=0.0 will be ignored. Current value: lambda_l1=0.08603679898237114\n",
      "[LightGBM] [Warning] feature_fraction is set=0.4205230570594731, colsample_bytree=1.0 will be ignored. Current value: feature_fraction=0.4205230570594731\n",
      "[LightGBM] [Warning] lambda_l2 is set=0.02575211232393331, reg_lambda=0.0 will be ignored. Current value: lambda_l2=0.02575211232393331\n",
      "[LightGBM] [Warning] bagging_freq is set=5, subsample_freq=0 will be ignored. Current value: bagging_freq=5\n",
      "[LightGBM] [Warning] bagging_fraction is set=0.8602533957408962, subsample=1.0 will be ignored. Current value: bagging_fraction=0.8602533957408962\n",
      "[LightGBM] [Warning] lambda_l1 is set=0.08603679898237114, reg_alpha=0.0 will be ignored. Current value: lambda_l1=0.08603679898237114\n",
      "[LightGBM] [Warning] feature_fraction is set=0.4205230570594731, colsample_bytree=1.0 will be ignored. Current value: feature_fraction=0.4205230570594731\n",
      "[LightGBM] [Warning] lambda_l2 is set=0.02575211232393331, reg_lambda=0.0 will be ignored. Current value: lambda_l2=0.02575211232393331\n",
      "[LightGBM] [Warning] bagging_freq is set=5, subsample_freq=0 will be ignored. Current value: bagging_freq=5\n"
     ]
    },
    {
     "name": "stderr",
     "output_type": "stream",
     "text": [
      "\u001b[32m[I 2023-03-15 19:53:52,786]\u001b[0m Trial 64 finished with value: 0.7821469997307318 and parameters: {'lambda_l1': 0.08603679898237114, 'lambda_l2': 0.02575211232393331, 'num_leaves': 2, 'feature_fraction': 0.4205230570594731, 'bagging_fraction': 0.8602533957408962, 'bagging_freq': 5, 'min_child_samples': 98}. Best is trial 25 with value: 0.7906928133004688.\u001b[0m\n"
     ]
    },
    {
     "name": "stdout",
     "output_type": "stream",
     "text": [
      "[LightGBM] [Warning] bagging_fraction is set=0.9223057524892404, subsample=1.0 will be ignored. Current value: bagging_fraction=0.9223057524892404\n",
      "[LightGBM] [Warning] lambda_l1 is set=0.026482091643043177, reg_alpha=0.0 will be ignored. Current value: lambda_l1=0.026482091643043177\n",
      "[LightGBM] [Warning] feature_fraction is set=0.4600984935913785, colsample_bytree=1.0 will be ignored. Current value: feature_fraction=0.4600984935913785\n",
      "[LightGBM] [Warning] lambda_l2 is set=0.3747031558966844, reg_lambda=0.0 will be ignored. Current value: lambda_l2=0.3747031558966844\n",
      "[LightGBM] [Warning] bagging_freq is set=7, subsample_freq=0 will be ignored. Current value: bagging_freq=7\n",
      "[LightGBM] [Warning] bagging_fraction is set=0.9223057524892404, subsample=1.0 will be ignored. Current value: bagging_fraction=0.9223057524892404\n",
      "[LightGBM] [Warning] lambda_l1 is set=0.026482091643043177, reg_alpha=0.0 will be ignored. Current value: lambda_l1=0.026482091643043177\n",
      "[LightGBM] [Warning] feature_fraction is set=0.4600984935913785, colsample_bytree=1.0 will be ignored. Current value: feature_fraction=0.4600984935913785\n",
      "[LightGBM] [Warning] lambda_l2 is set=0.3747031558966844, reg_lambda=0.0 will be ignored. Current value: lambda_l2=0.3747031558966844\n",
      "[LightGBM] [Warning] bagging_freq is set=7, subsample_freq=0 will be ignored. Current value: bagging_freq=7\n",
      "[LightGBM] [Warning] bagging_fraction is set=0.9223057524892404, subsample=1.0 will be ignored. Current value: bagging_fraction=0.9223057524892404\n",
      "[LightGBM] [Warning] lambda_l1 is set=0.026482091643043177, reg_alpha=0.0 will be ignored. Current value: lambda_l1=0.026482091643043177\n",
      "[LightGBM] [Warning] feature_fraction is set=0.4600984935913785, colsample_bytree=1.0 will be ignored. Current value: feature_fraction=0.4600984935913785\n",
      "[LightGBM] [Warning] lambda_l2 is set=0.3747031558966844, reg_lambda=0.0 will be ignored. Current value: lambda_l2=0.3747031558966844\n",
      "[LightGBM] [Warning] bagging_freq is set=7, subsample_freq=0 will be ignored. Current value: bagging_freq=7\n"
     ]
    },
    {
     "name": "stderr",
     "output_type": "stream",
     "text": [
      "\u001b[32m[I 2023-03-15 19:53:53,291]\u001b[0m Trial 65 finished with value: 0.7465645000932082 and parameters: {'lambda_l1': 0.026482091643043177, 'lambda_l2': 0.3747031558966844, 'num_leaves': 32, 'feature_fraction': 0.4600984935913785, 'bagging_fraction': 0.9223057524892404, 'bagging_freq': 7, 'min_child_samples': 93}. Best is trial 25 with value: 0.7906928133004688.\u001b[0m\n"
     ]
    },
    {
     "name": "stdout",
     "output_type": "stream",
     "text": [
      "[LightGBM] [Warning] bagging_fraction is set=0.9223057524892404, subsample=1.0 will be ignored. Current value: bagging_fraction=0.9223057524892404\n",
      "[LightGBM] [Warning] lambda_l1 is set=0.026482091643043177, reg_alpha=0.0 will be ignored. Current value: lambda_l1=0.026482091643043177\n",
      "[LightGBM] [Warning] feature_fraction is set=0.4600984935913785, colsample_bytree=1.0 will be ignored. Current value: feature_fraction=0.4600984935913785\n",
      "[LightGBM] [Warning] lambda_l2 is set=0.3747031558966844, reg_lambda=0.0 will be ignored. Current value: lambda_l2=0.3747031558966844\n",
      "[LightGBM] [Warning] bagging_freq is set=7, subsample_freq=0 will be ignored. Current value: bagging_freq=7\n",
      "[LightGBM] [Warning] bagging_fraction is set=0.9223057524892404, subsample=1.0 will be ignored. Current value: bagging_fraction=0.9223057524892404\n",
      "[LightGBM] [Warning] lambda_l1 is set=0.026482091643043177, reg_alpha=0.0 will be ignored. Current value: lambda_l1=0.026482091643043177\n",
      "[LightGBM] [Warning] feature_fraction is set=0.4600984935913785, colsample_bytree=1.0 will be ignored. Current value: feature_fraction=0.4600984935913785\n",
      "[LightGBM] [Warning] lambda_l2 is set=0.3747031558966844, reg_lambda=0.0 will be ignored. Current value: lambda_l2=0.3747031558966844\n",
      "[LightGBM] [Warning] bagging_freq is set=7, subsample_freq=0 will be ignored. Current value: bagging_freq=7\n",
      "[LightGBM] [Warning] bagging_fraction is set=0.7749776155764586, subsample=1.0 will be ignored. Current value: bagging_fraction=0.7749776155764586\n",
      "[LightGBM] [Warning] lambda_l1 is set=0.28520588566062494, reg_alpha=0.0 will be ignored. Current value: lambda_l1=0.28520588566062494\n",
      "[LightGBM] [Warning] feature_fraction is set=0.49392560942171815, colsample_bytree=1.0 will be ignored. Current value: feature_fraction=0.49392560942171815\n",
      "[LightGBM] [Warning] lambda_l2 is set=1.0716195286660901, reg_lambda=0.0 will be ignored. Current value: lambda_l2=1.0716195286660901\n",
      "[LightGBM] [Warning] bagging_freq is set=6, subsample_freq=0 will be ignored. Current value: bagging_freq=6\n",
      "[LightGBM] [Warning] bagging_fraction is set=0.7749776155764586, subsample=1.0 will be ignored. Current value: bagging_fraction=0.7749776155764586\n",
      "[LightGBM] [Warning] lambda_l1 is set=0.28520588566062494, reg_alpha=0.0 will be ignored. Current value: lambda_l1=0.28520588566062494\n",
      "[LightGBM] [Warning] feature_fraction is set=0.49392560942171815, colsample_bytree=1.0 will be ignored. Current value: feature_fraction=0.49392560942171815\n",
      "[LightGBM] [Warning] lambda_l2 is set=1.0716195286660901, reg_lambda=0.0 will be ignored. Current value: lambda_l2=1.0716195286660901\n",
      "[LightGBM] [Warning] bagging_freq is set=6, subsample_freq=0 will be ignored. Current value: bagging_freq=6\n",
      "[LightGBM] [Warning] bagging_fraction is set=0.7749776155764586, subsample=1.0 will be ignored. Current value: bagging_fraction=0.7749776155764586\n",
      "[LightGBM] [Warning] lambda_l1 is set=0.28520588566062494, reg_alpha=0.0 will be ignored. Current value: lambda_l1=0.28520588566062494\n",
      "[LightGBM] [Warning] feature_fraction is set=0.49392560942171815, colsample_bytree=1.0 will be ignored. Current value: feature_fraction=0.49392560942171815\n",
      "[LightGBM] [Warning] lambda_l2 is set=1.0716195286660901, reg_lambda=0.0 will be ignored. Current value: lambda_l2=1.0716195286660901\n",
      "[LightGBM] [Warning] bagging_freq is set=6, subsample_freq=0 will be ignored. Current value: bagging_freq=6\n"
     ]
    },
    {
     "name": "stderr",
     "output_type": "stream",
     "text": [
      "\u001b[32m[I 2023-03-15 19:53:53,797]\u001b[0m Trial 66 finished with value: 0.7531257551592481 and parameters: {'lambda_l1': 0.28520588566062494, 'lambda_l2': 1.0716195286660901, 'num_leaves': 21, 'feature_fraction': 0.49392560942171815, 'bagging_fraction': 0.7749776155764586, 'bagging_freq': 6, 'min_child_samples': 79}. Best is trial 25 with value: 0.7906928133004688.\u001b[0m\n"
     ]
    },
    {
     "name": "stdout",
     "output_type": "stream",
     "text": [
      "[LightGBM] [Warning] bagging_fraction is set=0.7749776155764586, subsample=1.0 will be ignored. Current value: bagging_fraction=0.7749776155764586\n",
      "[LightGBM] [Warning] lambda_l1 is set=0.28520588566062494, reg_alpha=0.0 will be ignored. Current value: lambda_l1=0.28520588566062494\n",
      "[LightGBM] [Warning] feature_fraction is set=0.49392560942171815, colsample_bytree=1.0 will be ignored. Current value: feature_fraction=0.49392560942171815\n",
      "[LightGBM] [Warning] lambda_l2 is set=1.0716195286660901, reg_lambda=0.0 will be ignored. Current value: lambda_l2=1.0716195286660901\n",
      "[LightGBM] [Warning] bagging_freq is set=6, subsample_freq=0 will be ignored. Current value: bagging_freq=6\n",
      "[LightGBM] [Warning] bagging_fraction is set=0.7749776155764586, subsample=1.0 will be ignored. Current value: bagging_fraction=0.7749776155764586\n",
      "[LightGBM] [Warning] lambda_l1 is set=0.28520588566062494, reg_alpha=0.0 will be ignored. Current value: lambda_l1=0.28520588566062494\n",
      "[LightGBM] [Warning] feature_fraction is set=0.49392560942171815, colsample_bytree=1.0 will be ignored. Current value: feature_fraction=0.49392560942171815\n",
      "[LightGBM] [Warning] lambda_l2 is set=1.0716195286660901, reg_lambda=0.0 will be ignored. Current value: lambda_l2=1.0716195286660901\n",
      "[LightGBM] [Warning] bagging_freq is set=6, subsample_freq=0 will be ignored. Current value: bagging_freq=6\n",
      "[LightGBM] [Warning] bagging_fraction is set=0.9579389957146095, subsample=1.0 will be ignored. Current value: bagging_fraction=0.9579389957146095\n",
      "[LightGBM] [Warning] lambda_l1 is set=0.007633333842077221, reg_alpha=0.0 will be ignored. Current value: lambda_l1=0.007633333842077221\n",
      "[LightGBM] [Warning] feature_fraction is set=0.4670023465751432, colsample_bytree=1.0 will be ignored. Current value: feature_fraction=0.4670023465751432\n",
      "[LightGBM] [Warning] lambda_l2 is set=0.06846671055351944, reg_lambda=0.0 will be ignored. Current value: lambda_l2=0.06846671055351944\n",
      "[LightGBM] [Warning] bagging_freq is set=7, subsample_freq=0 will be ignored. Current value: bagging_freq=7\n",
      "[LightGBM] [Warning] bagging_fraction is set=0.9579389957146095, subsample=1.0 will be ignored. Current value: bagging_fraction=0.9579389957146095\n",
      "[LightGBM] [Warning] lambda_l1 is set=0.007633333842077221, reg_alpha=0.0 will be ignored. Current value: lambda_l1=0.007633333842077221\n",
      "[LightGBM] [Warning] feature_fraction is set=0.4670023465751432, colsample_bytree=1.0 will be ignored. Current value: feature_fraction=0.4670023465751432\n",
      "[LightGBM] [Warning] lambda_l2 is set=0.06846671055351944, reg_lambda=0.0 will be ignored. Current value: lambda_l2=0.06846671055351944\n",
      "[LightGBM] [Warning] bagging_freq is set=7, subsample_freq=0 will be ignored. Current value: bagging_freq=7\n",
      "[LightGBM] [Warning] bagging_fraction is set=0.9579389957146095, subsample=1.0 will be ignored. Current value: bagging_fraction=0.9579389957146095\n",
      "[LightGBM] [Warning] lambda_l1 is set=0.007633333842077221, reg_alpha=0.0 will be ignored. Current value: lambda_l1=0.007633333842077221\n",
      "[LightGBM] [Warning] feature_fraction is set=0.4670023465751432, colsample_bytree=1.0 will be ignored. Current value: feature_fraction=0.4670023465751432\n",
      "[LightGBM] [Warning] lambda_l2 is set=0.06846671055351944, reg_lambda=0.0 will be ignored. Current value: lambda_l2=0.06846671055351944\n",
      "[LightGBM] [Warning] bagging_freq is set=7, subsample_freq=0 will be ignored. Current value: bagging_freq=7\n",
      "[LightGBM] [Warning] bagging_fraction is set=0.9579389957146095, subsample=1.0 will be ignored. Current value: bagging_fraction=0.9579389957146095\n",
      "[LightGBM] [Warning] lambda_l1 is set=0.007633333842077221, reg_alpha=0.0 will be ignored. Current value: lambda_l1=0.007633333842077221\n",
      "[LightGBM] [Warning] feature_fraction is set=0.4670023465751432, colsample_bytree=1.0 will be ignored. Current value: feature_fraction=0.4670023465751432\n",
      "[LightGBM] [Warning] lambda_l2 is set=0.06846671055351944, reg_lambda=0.0 will be ignored. Current value: lambda_l2=0.06846671055351944\n",
      "[LightGBM] [Warning] bagging_freq is set=7, subsample_freq=0 will be ignored. Current value: bagging_freq=7\n"
     ]
    },
    {
     "name": "stderr",
     "output_type": "stream",
     "text": [
      "\u001b[32m[I 2023-03-15 19:53:54,393]\u001b[0m Trial 67 finished with value: 0.743558966286239 and parameters: {'lambda_l1': 0.007633333842077221, 'lambda_l2': 0.06846671055351944, 'num_leaves': 11, 'feature_fraction': 0.4670023465751432, 'bagging_fraction': 0.9579389957146095, 'bagging_freq': 7, 'min_child_samples': 73}. Best is trial 25 with value: 0.7906928133004688.\u001b[0m\n"
     ]
    },
    {
     "name": "stdout",
     "output_type": "stream",
     "text": [
      "[LightGBM] [Warning] bagging_fraction is set=0.9579389957146095, subsample=1.0 will be ignored. Current value: bagging_fraction=0.9579389957146095\n",
      "[LightGBM] [Warning] lambda_l1 is set=0.007633333842077221, reg_alpha=0.0 will be ignored. Current value: lambda_l1=0.007633333842077221\n",
      "[LightGBM] [Warning] feature_fraction is set=0.4670023465751432, colsample_bytree=1.0 will be ignored. Current value: feature_fraction=0.4670023465751432\n",
      "[LightGBM] [Warning] lambda_l2 is set=0.06846671055351944, reg_lambda=0.0 will be ignored. Current value: lambda_l2=0.06846671055351944\n",
      "[LightGBM] [Warning] bagging_freq is set=7, subsample_freq=0 will be ignored. Current value: bagging_freq=7\n",
      "[LightGBM] [Warning] bagging_fraction is set=0.8467183806949067, subsample=1.0 will be ignored. Current value: bagging_fraction=0.8467183806949067\n",
      "[LightGBM] [Warning] lambda_l1 is set=0.0031249094956552937, reg_alpha=0.0 will be ignored. Current value: lambda_l1=0.0031249094956552937\n",
      "[LightGBM] [Warning] feature_fraction is set=0.443250061263644, colsample_bytree=1.0 will be ignored. Current value: feature_fraction=0.443250061263644\n",
      "[LightGBM] [Warning] lambda_l2 is set=3.228122941608874, reg_lambda=0.0 will be ignored. Current value: lambda_l2=3.228122941608874\n",
      "[LightGBM] [Warning] bagging_freq is set=4, subsample_freq=0 will be ignored. Current value: bagging_freq=4\n",
      "[LightGBM] [Warning] bagging_fraction is set=0.8467183806949067, subsample=1.0 will be ignored. Current value: bagging_fraction=0.8467183806949067\n",
      "[LightGBM] [Warning] lambda_l1 is set=0.0031249094956552937, reg_alpha=0.0 will be ignored. Current value: lambda_l1=0.0031249094956552937\n",
      "[LightGBM] [Warning] feature_fraction is set=0.443250061263644, colsample_bytree=1.0 will be ignored. Current value: feature_fraction=0.443250061263644\n",
      "[LightGBM] [Warning] lambda_l2 is set=3.228122941608874, reg_lambda=0.0 will be ignored. Current value: lambda_l2=3.228122941608874\n",
      "[LightGBM] [Warning] bagging_freq is set=4, subsample_freq=0 will be ignored. Current value: bagging_freq=4\n",
      "[LightGBM] [Warning] bagging_fraction is set=0.8467183806949067, subsample=1.0 will be ignored. Current value: bagging_fraction=0.8467183806949067\n",
      "[LightGBM] [Warning] lambda_l1 is set=0.0031249094956552937, reg_alpha=0.0 will be ignored. Current value: lambda_l1=0.0031249094956552937\n",
      "[LightGBM] [Warning] feature_fraction is set=0.443250061263644, colsample_bytree=1.0 will be ignored. Current value: feature_fraction=0.443250061263644\n",
      "[LightGBM] [Warning] lambda_l2 is set=3.228122941608874, reg_lambda=0.0 will be ignored. Current value: lambda_l2=3.228122941608874\n",
      "[LightGBM] [Warning] bagging_freq is set=4, subsample_freq=0 will be ignored. Current value: bagging_freq=4\n",
      "[LightGBM] [Warning] bagging_fraction is set=0.8467183806949067, subsample=1.0 will be ignored. Current value: bagging_fraction=0.8467183806949067\n",
      "[LightGBM] [Warning] lambda_l1 is set=0.0031249094956552937, reg_alpha=0.0 will be ignored. Current value: lambda_l1=0.0031249094956552937\n",
      "[LightGBM] [Warning] feature_fraction is set=0.443250061263644, colsample_bytree=1.0 will be ignored. Current value: feature_fraction=0.443250061263644\n",
      "[LightGBM] [Warning] lambda_l2 is set=3.228122941608874, reg_lambda=0.0 will be ignored. Current value: lambda_l2=3.228122941608874\n",
      "[LightGBM] [Warning] bagging_freq is set=4, subsample_freq=0 will be ignored. Current value: bagging_freq=4\n",
      "[LightGBM] [Warning] bagging_fraction is set=0.8467183806949067, subsample=1.0 will be ignored. Current value: bagging_fraction=0.8467183806949067\n",
      "[LightGBM] [Warning] lambda_l1 is set=0.0031249094956552937, reg_alpha=0.0 will be ignored. Current value: lambda_l1=0.0031249094956552937\n",
      "[LightGBM] [Warning] feature_fraction is set=0.443250061263644, colsample_bytree=1.0 will be ignored. Current value: feature_fraction=0.443250061263644\n",
      "[LightGBM] [Warning] lambda_l2 is set=3.228122941608874, reg_lambda=0.0 will be ignored. Current value: lambda_l2=3.228122941608874\n",
      "[LightGBM] [Warning] bagging_freq is set=4, subsample_freq=0 will be ignored. Current value: bagging_freq=4\n"
     ]
    },
    {
     "name": "stderr",
     "output_type": "stream",
     "text": [
      "\u001b[32m[I 2023-03-15 19:53:55,060]\u001b[0m Trial 68 finished with value: 0.7486132687089625 and parameters: {'lambda_l1': 0.0031249094956552937, 'lambda_l2': 3.228122941608874, 'num_leaves': 149, 'feature_fraction': 0.443250061263644, 'bagging_fraction': 0.8467183806949067, 'bagging_freq': 4, 'min_child_samples': 46}. Best is trial 25 with value: 0.7906928133004688.\u001b[0m\n"
     ]
    },
    {
     "name": "stdout",
     "output_type": "stream",
     "text": [
      "[LightGBM] [Warning] bagging_fraction is set=0.8898927142712145, subsample=1.0 will be ignored. Current value: bagging_fraction=0.8898927142712145\n",
      "[LightGBM] [Warning] lambda_l1 is set=0.013608663772441715, reg_alpha=0.0 will be ignored. Current value: lambda_l1=0.013608663772441715\n",
      "[LightGBM] [Warning] feature_fraction is set=0.41687401071071023, colsample_bytree=1.0 will be ignored. Current value: feature_fraction=0.41687401071071023\n",
      "[LightGBM] [Warning] lambda_l2 is set=0.2991881094017534, reg_lambda=0.0 will be ignored. Current value: lambda_l2=0.2991881094017534\n",
      "[LightGBM] [Warning] bagging_freq is set=7, subsample_freq=0 will be ignored. Current value: bagging_freq=7\n",
      "[LightGBM] [Warning] bagging_fraction is set=0.8898927142712145, subsample=1.0 will be ignored. Current value: bagging_fraction=0.8898927142712145\n",
      "[LightGBM] [Warning] lambda_l1 is set=0.013608663772441715, reg_alpha=0.0 will be ignored. Current value: lambda_l1=0.013608663772441715\n",
      "[LightGBM] [Warning] feature_fraction is set=0.41687401071071023, colsample_bytree=1.0 will be ignored. Current value: feature_fraction=0.41687401071071023\n",
      "[LightGBM] [Warning] lambda_l2 is set=0.2991881094017534, reg_lambda=0.0 will be ignored. Current value: lambda_l2=0.2991881094017534\n",
      "[LightGBM] [Warning] bagging_freq is set=7, subsample_freq=0 will be ignored. Current value: bagging_freq=7\n",
      "[LightGBM] [Warning] bagging_fraction is set=0.8898927142712145, subsample=1.0 will be ignored. Current value: bagging_fraction=0.8898927142712145\n",
      "[LightGBM] [Warning] lambda_l1 is set=0.013608663772441715, reg_alpha=0.0 will be ignored. Current value: lambda_l1=0.013608663772441715\n",
      "[LightGBM] [Warning] feature_fraction is set=0.41687401071071023, colsample_bytree=1.0 will be ignored. Current value: feature_fraction=0.41687401071071023\n",
      "[LightGBM] [Warning] lambda_l2 is set=0.2991881094017534, reg_lambda=0.0 will be ignored. Current value: lambda_l2=0.2991881094017534\n",
      "[LightGBM] [Warning] bagging_freq is set=7, subsample_freq=0 will be ignored. Current value: bagging_freq=7\n",
      "[LightGBM] [Warning] bagging_fraction is set=0.8898927142712145, subsample=1.0 will be ignored. Current value: bagging_fraction=0.8898927142712145\n",
      "[LightGBM] [Warning] lambda_l1 is set=0.013608663772441715, reg_alpha=0.0 will be ignored. Current value: lambda_l1=0.013608663772441715\n",
      "[LightGBM] [Warning] feature_fraction is set=0.41687401071071023, colsample_bytree=1.0 will be ignored. Current value: feature_fraction=0.41687401071071023\n",
      "[LightGBM] [Warning] lambda_l2 is set=0.2991881094017534, reg_lambda=0.0 will be ignored. Current value: lambda_l2=0.2991881094017534\n",
      "[LightGBM] [Warning] bagging_freq is set=7, subsample_freq=0 will be ignored. Current value: bagging_freq=7\n"
     ]
    },
    {
     "name": "stderr",
     "output_type": "stream",
     "text": [
      "\u001b[32m[I 2023-03-15 19:53:56,074]\u001b[0m Trial 69 finished with value: 0.7434601483046459 and parameters: {'lambda_l1': 0.013608663772441715, 'lambda_l2': 0.2991881094017534, 'num_leaves': 119, 'feature_fraction': 0.41687401071071023, 'bagging_fraction': 0.8898927142712145, 'bagging_freq': 7, 'min_child_samples': 23}. Best is trial 25 with value: 0.7906928133004688.\u001b[0m\n"
     ]
    },
    {
     "name": "stdout",
     "output_type": "stream",
     "text": [
      "[LightGBM] [Warning] bagging_fraction is set=0.8898927142712145, subsample=1.0 will be ignored. Current value: bagging_fraction=0.8898927142712145\n",
      "[LightGBM] [Warning] lambda_l1 is set=0.013608663772441715, reg_alpha=0.0 will be ignored. Current value: lambda_l1=0.013608663772441715\n",
      "[LightGBM] [Warning] feature_fraction is set=0.41687401071071023, colsample_bytree=1.0 will be ignored. Current value: feature_fraction=0.41687401071071023\n",
      "[LightGBM] [Warning] lambda_l2 is set=0.2991881094017534, reg_lambda=0.0 will be ignored. Current value: lambda_l2=0.2991881094017534\n",
      "[LightGBM] [Warning] bagging_freq is set=7, subsample_freq=0 will be ignored. Current value: bagging_freq=7\n",
      "[LightGBM] [Warning] bagging_fraction is set=0.9830106256416876, subsample=1.0 will be ignored. Current value: bagging_fraction=0.9830106256416876\n",
      "[LightGBM] [Warning] lambda_l1 is set=0.04074738818201876, reg_alpha=0.0 will be ignored. Current value: lambda_l1=0.04074738818201876\n",
      "[LightGBM] [Warning] feature_fraction is set=0.5145818889226002, colsample_bytree=1.0 will be ignored. Current value: feature_fraction=0.5145818889226002\n",
      "[LightGBM] [Warning] lambda_l2 is set=0.13315123496181522, reg_lambda=0.0 will be ignored. Current value: lambda_l2=0.13315123496181522\n",
      "[LightGBM] [Warning] bagging_freq is set=6, subsample_freq=0 will be ignored. Current value: bagging_freq=6\n",
      "[LightGBM] [Warning] bagging_fraction is set=0.9830106256416876, subsample=1.0 will be ignored. Current value: bagging_fraction=0.9830106256416876\n",
      "[LightGBM] [Warning] lambda_l1 is set=0.04074738818201876, reg_alpha=0.0 will be ignored. Current value: lambda_l1=0.04074738818201876\n",
      "[LightGBM] [Warning] feature_fraction is set=0.5145818889226002, colsample_bytree=1.0 will be ignored. Current value: feature_fraction=0.5145818889226002\n",
      "[LightGBM] [Warning] lambda_l2 is set=0.13315123496181522, reg_lambda=0.0 will be ignored. Current value: lambda_l2=0.13315123496181522\n",
      "[LightGBM] [Warning] bagging_freq is set=6, subsample_freq=0 will be ignored. Current value: bagging_freq=6\n",
      "[LightGBM] [Warning] bagging_fraction is set=0.9830106256416876, subsample=1.0 will be ignored. Current value: bagging_fraction=0.9830106256416876\n",
      "[LightGBM] [Warning] lambda_l1 is set=0.04074738818201876, reg_alpha=0.0 will be ignored. Current value: lambda_l1=0.04074738818201876\n",
      "[LightGBM] [Warning] feature_fraction is set=0.5145818889226002, colsample_bytree=1.0 will be ignored. Current value: feature_fraction=0.5145818889226002\n",
      "[LightGBM] [Warning] lambda_l2 is set=0.13315123496181522, reg_lambda=0.0 will be ignored. Current value: lambda_l2=0.13315123496181522\n",
      "[LightGBM] [Warning] bagging_freq is set=6, subsample_freq=0 will be ignored. Current value: bagging_freq=6\n",
      "[LightGBM] [Warning] bagging_fraction is set=0.9830106256416876, subsample=1.0 will be ignored. Current value: bagging_fraction=0.9830106256416876\n",
      "[LightGBM] [Warning] lambda_l1 is set=0.04074738818201876, reg_alpha=0.0 will be ignored. Current value: lambda_l1=0.04074738818201876\n",
      "[LightGBM] [Warning] feature_fraction is set=0.5145818889226002, colsample_bytree=1.0 will be ignored. Current value: feature_fraction=0.5145818889226002\n",
      "[LightGBM] [Warning] lambda_l2 is set=0.13315123496181522, reg_lambda=0.0 will be ignored. Current value: lambda_l2=0.13315123496181522\n",
      "[LightGBM] [Warning] bagging_freq is set=6, subsample_freq=0 will be ignored. Current value: bagging_freq=6\n"
     ]
    },
    {
     "name": "stderr",
     "output_type": "stream",
     "text": [
      "\u001b[32m[I 2023-03-15 19:53:57,069]\u001b[0m Trial 70 finished with value: 0.7398653313725084 and parameters: {'lambda_l1': 0.04074738818201876, 'lambda_l2': 0.13315123496181522, 'num_leaves': 30, 'feature_fraction': 0.5145818889226002, 'bagging_fraction': 0.9830106256416876, 'bagging_freq': 6, 'min_child_samples': 33}. Best is trial 25 with value: 0.7906928133004688.\u001b[0m\n"
     ]
    },
    {
     "name": "stdout",
     "output_type": "stream",
     "text": [
      "[LightGBM] [Warning] bagging_fraction is set=0.9830106256416876, subsample=1.0 will be ignored. Current value: bagging_fraction=0.9830106256416876\n",
      "[LightGBM] [Warning] lambda_l1 is set=0.04074738818201876, reg_alpha=0.0 will be ignored. Current value: lambda_l1=0.04074738818201876\n",
      "[LightGBM] [Warning] feature_fraction is set=0.5145818889226002, colsample_bytree=1.0 will be ignored. Current value: feature_fraction=0.5145818889226002\n",
      "[LightGBM] [Warning] lambda_l2 is set=0.13315123496181522, reg_lambda=0.0 will be ignored. Current value: lambda_l2=0.13315123496181522\n",
      "[LightGBM] [Warning] bagging_freq is set=6, subsample_freq=0 will be ignored. Current value: bagging_freq=6\n",
      "[LightGBM] [Warning] bagging_fraction is set=0.9331398356241977, subsample=1.0 will be ignored. Current value: bagging_fraction=0.9331398356241977\n",
      "[LightGBM] [Warning] lambda_l1 is set=0.10320300589192742, reg_alpha=0.0 will be ignored. Current value: lambda_l1=0.10320300589192742\n",
      "[LightGBM] [Warning] feature_fraction is set=0.42516521175502187, colsample_bytree=1.0 will be ignored. Current value: feature_fraction=0.42516521175502187\n",
      "[LightGBM] [Warning] lambda_l2 is set=0.20079454511195163, reg_lambda=0.0 will be ignored. Current value: lambda_l2=0.20079454511195163\n",
      "[LightGBM] [Warning] bagging_freq is set=6, subsample_freq=0 will be ignored. Current value: bagging_freq=6\n",
      "[LightGBM] [Warning] bagging_fraction is set=0.9331398356241977, subsample=1.0 will be ignored. Current value: bagging_fraction=0.9331398356241977\n",
      "[LightGBM] [Warning] lambda_l1 is set=0.10320300589192742, reg_alpha=0.0 will be ignored. Current value: lambda_l1=0.10320300589192742\n",
      "[LightGBM] [Warning] feature_fraction is set=0.42516521175502187, colsample_bytree=1.0 will be ignored. Current value: feature_fraction=0.42516521175502187\n",
      "[LightGBM] [Warning] lambda_l2 is set=0.20079454511195163, reg_lambda=0.0 will be ignored. Current value: lambda_l2=0.20079454511195163\n",
      "[LightGBM] [Warning] bagging_freq is set=6, subsample_freq=0 will be ignored. Current value: bagging_freq=6\n",
      "[LightGBM] [Warning] bagging_fraction is set=0.9331398356241977, subsample=1.0 will be ignored. Current value: bagging_fraction=0.9331398356241977\n",
      "[LightGBM] [Warning] lambda_l1 is set=0.10320300589192742, reg_alpha=0.0 will be ignored. Current value: lambda_l1=0.10320300589192742\n",
      "[LightGBM] [Warning] feature_fraction is set=0.42516521175502187, colsample_bytree=1.0 will be ignored. Current value: feature_fraction=0.42516521175502187\n",
      "[LightGBM] [Warning] lambda_l2 is set=0.20079454511195163, reg_lambda=0.0 will be ignored. Current value: lambda_l2=0.20079454511195163\n",
      "[LightGBM] [Warning] bagging_freq is set=6, subsample_freq=0 will be ignored. Current value: bagging_freq=6\n",
      "[LightGBM] [Warning] bagging_fraction is set=0.9331398356241977, subsample=1.0 will be ignored. Current value: bagging_fraction=0.9331398356241977\n",
      "[LightGBM] [Warning] lambda_l1 is set=0.10320300589192742, reg_alpha=0.0 will be ignored. Current value: lambda_l1=0.10320300589192742\n",
      "[LightGBM] [Warning] feature_fraction is set=0.42516521175502187, colsample_bytree=1.0 will be ignored. Current value: feature_fraction=0.42516521175502187\n",
      "[LightGBM] [Warning] lambda_l2 is set=0.20079454511195163, reg_lambda=0.0 will be ignored. Current value: lambda_l2=0.20079454511195163\n",
      "[LightGBM] [Warning] bagging_freq is set=6, subsample_freq=0 will be ignored. Current value: bagging_freq=6\n",
      "[LightGBM] [Warning] bagging_fraction is set=0.9331398356241977, subsample=1.0 will be ignored. Current value: bagging_fraction=0.9331398356241977\n",
      "[LightGBM] [Warning] lambda_l1 is set=0.10320300589192742, reg_alpha=0.0 will be ignored. Current value: lambda_l1=0.10320300589192742\n",
      "[LightGBM] [Warning] feature_fraction is set=0.42516521175502187, colsample_bytree=1.0 will be ignored. Current value: feature_fraction=0.42516521175502187\n",
      "[LightGBM] [Warning] lambda_l2 is set=0.20079454511195163, reg_lambda=0.0 will be ignored. Current value: lambda_l2=0.20079454511195163\n",
      "[LightGBM] [Warning] bagging_freq is set=6, subsample_freq=0 will be ignored. Current value: bagging_freq=6\n"
     ]
    },
    {
     "name": "stderr",
     "output_type": "stream",
     "text": [
      "\u001b[32m[I 2023-03-15 19:53:57,361]\u001b[0m Trial 71 finished with value: 0.7855735240304618 and parameters: {'lambda_l1': 0.10320300589192742, 'lambda_l2': 0.20079454511195163, 'num_leaves': 2, 'feature_fraction': 0.42516521175502187, 'bagging_fraction': 0.9331398356241977, 'bagging_freq': 6, 'min_child_samples': 89}. Best is trial 25 with value: 0.7906928133004688.\u001b[0m\n"
     ]
    },
    {
     "name": "stdout",
     "output_type": "stream",
     "text": [
      "[LightGBM] [Warning] bagging_fraction is set=0.9591408340851837, subsample=1.0 will be ignored. Current value: bagging_fraction=0.9591408340851837\n",
      "[LightGBM] [Warning] lambda_l1 is set=0.14627746837151215, reg_alpha=0.0 will be ignored. Current value: lambda_l1=0.14627746837151215\n",
      "[LightGBM] [Warning] feature_fraction is set=0.4174136888426874, colsample_bytree=1.0 will be ignored. Current value: feature_fraction=0.4174136888426874\n",
      "[LightGBM] [Warning] lambda_l2 is set=1.4995393103977501, reg_lambda=0.0 will be ignored. Current value: lambda_l2=1.4995393103977501\n",
      "[LightGBM] [Warning] bagging_freq is set=5, subsample_freq=0 will be ignored. Current value: bagging_freq=5\n",
      "[LightGBM] [Warning] bagging_fraction is set=0.9591408340851837, subsample=1.0 will be ignored. Current value: bagging_fraction=0.9591408340851837\n",
      "[LightGBM] [Warning] lambda_l1 is set=0.14627746837151215, reg_alpha=0.0 will be ignored. Current value: lambda_l1=0.14627746837151215\n",
      "[LightGBM] [Warning] feature_fraction is set=0.4174136888426874, colsample_bytree=1.0 will be ignored. Current value: feature_fraction=0.4174136888426874\n",
      "[LightGBM] [Warning] lambda_l2 is set=1.4995393103977501, reg_lambda=0.0 will be ignored. Current value: lambda_l2=1.4995393103977501\n",
      "[LightGBM] [Warning] bagging_freq is set=5, subsample_freq=0 will be ignored. Current value: bagging_freq=5\n",
      "[LightGBM] [Warning] bagging_fraction is set=0.9591408340851837, subsample=1.0 will be ignored. Current value: bagging_fraction=0.9591408340851837\n",
      "[LightGBM] [Warning] lambda_l1 is set=0.14627746837151215, reg_alpha=0.0 will be ignored. Current value: lambda_l1=0.14627746837151215\n",
      "[LightGBM] [Warning] feature_fraction is set=0.4174136888426874, colsample_bytree=1.0 will be ignored. Current value: feature_fraction=0.4174136888426874\n",
      "[LightGBM] [Warning] lambda_l2 is set=1.4995393103977501, reg_lambda=0.0 will be ignored. Current value: lambda_l2=1.4995393103977501\n",
      "[LightGBM] [Warning] bagging_freq is set=5, subsample_freq=0 will be ignored. Current value: bagging_freq=5\n"
     ]
    },
    {
     "name": "stderr",
     "output_type": "stream",
     "text": [
      "\u001b[32m[I 2023-03-15 19:53:57,882]\u001b[0m Trial 72 finished with value: 0.7510168327153973 and parameters: {'lambda_l1': 0.14627746837151215, 'lambda_l2': 1.4995393103977501, 'num_leaves': 9, 'feature_fraction': 0.4174136888426874, 'bagging_fraction': 0.9591408340851837, 'bagging_freq': 5, 'min_child_samples': 88}. Best is trial 25 with value: 0.7906928133004688.\u001b[0m\n"
     ]
    },
    {
     "name": "stdout",
     "output_type": "stream",
     "text": [
      "[LightGBM] [Warning] bagging_fraction is set=0.9591408340851837, subsample=1.0 will be ignored. Current value: bagging_fraction=0.9591408340851837\n",
      "[LightGBM] [Warning] lambda_l1 is set=0.14627746837151215, reg_alpha=0.0 will be ignored. Current value: lambda_l1=0.14627746837151215\n",
      "[LightGBM] [Warning] feature_fraction is set=0.4174136888426874, colsample_bytree=1.0 will be ignored. Current value: feature_fraction=0.4174136888426874\n",
      "[LightGBM] [Warning] lambda_l2 is set=1.4995393103977501, reg_lambda=0.0 will be ignored. Current value: lambda_l2=1.4995393103977501\n",
      "[LightGBM] [Warning] bagging_freq is set=5, subsample_freq=0 will be ignored. Current value: bagging_freq=5\n",
      "[LightGBM] [Warning] bagging_fraction is set=0.9591408340851837, subsample=1.0 will be ignored. Current value: bagging_fraction=0.9591408340851837\n",
      "[LightGBM] [Warning] lambda_l1 is set=0.14627746837151215, reg_alpha=0.0 will be ignored. Current value: lambda_l1=0.14627746837151215\n",
      "[LightGBM] [Warning] feature_fraction is set=0.4174136888426874, colsample_bytree=1.0 will be ignored. Current value: feature_fraction=0.4174136888426874\n",
      "[LightGBM] [Warning] lambda_l2 is set=1.4995393103977501, reg_lambda=0.0 will be ignored. Current value: lambda_l2=1.4995393103977501\n",
      "[LightGBM] [Warning] bagging_freq is set=5, subsample_freq=0 will be ignored. Current value: bagging_freq=5\n",
      "[LightGBM] [Warning] bagging_fraction is set=0.9161774481437758, subsample=1.0 will be ignored. Current value: bagging_fraction=0.9161774481437758\n",
      "[LightGBM] [Warning] lambda_l1 is set=0.0677628855674045, reg_alpha=0.0 will be ignored. Current value: lambda_l1=0.0677628855674045\n",
      "[LightGBM] [Warning] feature_fraction is set=0.4422796761704893, colsample_bytree=1.0 will be ignored. Current value: feature_fraction=0.4422796761704893\n",
      "[LightGBM] [Warning] lambda_l2 is set=0.6272237888505731, reg_lambda=0.0 will be ignored. Current value: lambda_l2=0.6272237888505731\n",
      "[LightGBM] [Warning] bagging_freq is set=6, subsample_freq=0 will be ignored. Current value: bagging_freq=6\n",
      "[LightGBM] [Warning] bagging_fraction is set=0.9161774481437758, subsample=1.0 will be ignored. Current value: bagging_fraction=0.9161774481437758\n",
      "[LightGBM] [Warning] lambda_l1 is set=0.0677628855674045, reg_alpha=0.0 will be ignored. Current value: lambda_l1=0.0677628855674045\n",
      "[LightGBM] [Warning] feature_fraction is set=0.4422796761704893, colsample_bytree=1.0 will be ignored. Current value: feature_fraction=0.4422796761704893\n",
      "[LightGBM] [Warning] lambda_l2 is set=0.6272237888505731, reg_lambda=0.0 will be ignored. Current value: lambda_l2=0.6272237888505731\n",
      "[LightGBM] [Warning] bagging_freq is set=6, subsample_freq=0 will be ignored. Current value: bagging_freq=6\n",
      "[LightGBM] [Warning] bagging_fraction is set=0.9161774481437758, subsample=1.0 will be ignored. Current value: bagging_fraction=0.9161774481437758\n",
      "[LightGBM] [Warning] lambda_l1 is set=0.0677628855674045, reg_alpha=0.0 will be ignored. Current value: lambda_l1=0.0677628855674045\n",
      "[LightGBM] [Warning] feature_fraction is set=0.4422796761704893, colsample_bytree=1.0 will be ignored. Current value: feature_fraction=0.4422796761704893\n",
      "[LightGBM] [Warning] lambda_l2 is set=0.6272237888505731, reg_lambda=0.0 will be ignored. Current value: lambda_l2=0.6272237888505731\n",
      "[LightGBM] [Warning] bagging_freq is set=6, subsample_freq=0 will be ignored. Current value: bagging_freq=6\n"
     ]
    },
    {
     "name": "stderr",
     "output_type": "stream",
     "text": [
      "\u001b[32m[I 2023-03-15 19:53:58,380]\u001b[0m Trial 73 finished with value: 0.7469999033396162 and parameters: {'lambda_l1': 0.0677628855674045, 'lambda_l2': 0.6272237888505731, 'num_leaves': 20, 'feature_fraction': 0.4422796761704893, 'bagging_fraction': 0.9161774481437758, 'bagging_freq': 6, 'min_child_samples': 97}. Best is trial 25 with value: 0.7906928133004688.\u001b[0m\n"
     ]
    },
    {
     "name": "stdout",
     "output_type": "stream",
     "text": [
      "[LightGBM] [Warning] bagging_fraction is set=0.9161774481437758, subsample=1.0 will be ignored. Current value: bagging_fraction=0.9161774481437758\n",
      "[LightGBM] [Warning] lambda_l1 is set=0.0677628855674045, reg_alpha=0.0 will be ignored. Current value: lambda_l1=0.0677628855674045\n",
      "[LightGBM] [Warning] feature_fraction is set=0.4422796761704893, colsample_bytree=1.0 will be ignored. Current value: feature_fraction=0.4422796761704893\n",
      "[LightGBM] [Warning] lambda_l2 is set=0.6272237888505731, reg_lambda=0.0 will be ignored. Current value: lambda_l2=0.6272237888505731\n",
      "[LightGBM] [Warning] bagging_freq is set=6, subsample_freq=0 will be ignored. Current value: bagging_freq=6\n",
      "[LightGBM] [Warning] bagging_fraction is set=0.9161774481437758, subsample=1.0 will be ignored. Current value: bagging_fraction=0.9161774481437758\n",
      "[LightGBM] [Warning] lambda_l1 is set=0.0677628855674045, reg_alpha=0.0 will be ignored. Current value: lambda_l1=0.0677628855674045\n",
      "[LightGBM] [Warning] feature_fraction is set=0.4422796761704893, colsample_bytree=1.0 will be ignored. Current value: feature_fraction=0.4422796761704893\n",
      "[LightGBM] [Warning] lambda_l2 is set=0.6272237888505731, reg_lambda=0.0 will be ignored. Current value: lambda_l2=0.6272237888505731\n",
      "[LightGBM] [Warning] bagging_freq is set=6, subsample_freq=0 will be ignored. Current value: bagging_freq=6\n",
      "[LightGBM] [Warning] bagging_fraction is set=0.9391123741230714, subsample=1.0 will be ignored. Current value: bagging_fraction=0.9391123741230714\n",
      "[LightGBM] [Warning] lambda_l1 is set=0.4078203086688506, reg_alpha=0.0 will be ignored. Current value: lambda_l1=0.4078203086688506\n",
      "[LightGBM] [Warning] feature_fraction is set=0.4626632730562678, colsample_bytree=1.0 will be ignored. Current value: feature_fraction=0.4626632730562678\n",
      "[LightGBM] [Warning] lambda_l2 is set=0.02391350609825566, reg_lambda=0.0 will be ignored. Current value: lambda_l2=0.02391350609825566\n",
      "[LightGBM] [Warning] bagging_freq is set=6, subsample_freq=0 will be ignored. Current value: bagging_freq=6\n",
      "[LightGBM] [Warning] bagging_fraction is set=0.9391123741230714, subsample=1.0 will be ignored. Current value: bagging_fraction=0.9391123741230714\n",
      "[LightGBM] [Warning] lambda_l1 is set=0.4078203086688506, reg_alpha=0.0 will be ignored. Current value: lambda_l1=0.4078203086688506\n",
      "[LightGBM] [Warning] feature_fraction is set=0.4626632730562678, colsample_bytree=1.0 will be ignored. Current value: feature_fraction=0.4626632730562678\n",
      "[LightGBM] [Warning] lambda_l2 is set=0.02391350609825566, reg_lambda=0.0 will be ignored. Current value: lambda_l2=0.02391350609825566\n",
      "[LightGBM] [Warning] bagging_freq is set=6, subsample_freq=0 will be ignored. Current value: bagging_freq=6\n",
      "[LightGBM] [Warning] bagging_fraction is set=0.9391123741230714, subsample=1.0 will be ignored. Current value: bagging_fraction=0.9391123741230714\n",
      "[LightGBM] [Warning] lambda_l1 is set=0.4078203086688506, reg_alpha=0.0 will be ignored. Current value: lambda_l1=0.4078203086688506\n",
      "[LightGBM] [Warning] feature_fraction is set=0.4626632730562678, colsample_bytree=1.0 will be ignored. Current value: feature_fraction=0.4626632730562678\n",
      "[LightGBM] [Warning] lambda_l2 is set=0.02391350609825566, reg_lambda=0.0 will be ignored. Current value: lambda_l2=0.02391350609825566\n",
      "[LightGBM] [Warning] bagging_freq is set=6, subsample_freq=0 will be ignored. Current value: bagging_freq=6\n",
      "[LightGBM] [Warning] bagging_fraction is set=0.9391123741230714, subsample=1.0 will be ignored. Current value: bagging_fraction=0.9391123741230714\n",
      "[LightGBM] [Warning] lambda_l1 is set=0.4078203086688506, reg_alpha=0.0 will be ignored. Current value: lambda_l1=0.4078203086688506\n",
      "[LightGBM] [Warning] feature_fraction is set=0.4626632730562678, colsample_bytree=1.0 will be ignored. Current value: feature_fraction=0.4626632730562678\n",
      "[LightGBM] [Warning] lambda_l2 is set=0.02391350609825566, reg_lambda=0.0 will be ignored. Current value: lambda_l2=0.02391350609825566\n",
      "[LightGBM] [Warning] bagging_freq is set=6, subsample_freq=0 will be ignored. Current value: bagging_freq=6\n",
      "[LightGBM] [Warning] bagging_fraction is set=0.9391123741230714, subsample=1.0 will be ignored. Current value: bagging_fraction=0.9391123741230714\n",
      "[LightGBM] [Warning] lambda_l1 is set=0.4078203086688506, reg_alpha=0.0 will be ignored. Current value: lambda_l1=0.4078203086688506\n",
      "[LightGBM] [Warning] feature_fraction is set=0.4626632730562678, colsample_bytree=1.0 will be ignored. Current value: feature_fraction=0.4626632730562678\n",
      "[LightGBM] [Warning] lambda_l2 is set=0.02391350609825566, reg_lambda=0.0 will be ignored. Current value: lambda_l2=0.02391350609825566\n",
      "[LightGBM] [Warning] bagging_freq is set=6, subsample_freq=0 will be ignored. Current value: bagging_freq=6\n"
     ]
    },
    {
     "name": "stderr",
     "output_type": "stream",
     "text": [
      "\u001b[32m[I 2023-03-15 19:53:59,415]\u001b[0m Trial 74 finished with value: 0.7573699227407362 and parameters: {'lambda_l1': 0.4078203086688506, 'lambda_l2': 0.02391350609825566, 'num_leaves': 9, 'feature_fraction': 0.4626632730562678, 'bagging_fraction': 0.9391123741230714, 'bagging_freq': 6, 'min_child_samples': 41}. Best is trial 25 with value: 0.7906928133004688.\u001b[0m\n"
     ]
    },
    {
     "name": "stdout",
     "output_type": "stream",
     "text": [
      "[LightGBM] [Warning] bagging_fraction is set=0.9933623863393883, subsample=1.0 will be ignored. Current value: bagging_fraction=0.9933623863393883\n",
      "[LightGBM] [Warning] lambda_l1 is set=0.14915951828262075, reg_alpha=0.0 will be ignored. Current value: lambda_l1=0.14915951828262075\n",
      "[LightGBM] [Warning] feature_fraction is set=0.4295811666933647, colsample_bytree=1.0 will be ignored. Current value: feature_fraction=0.4295811666933647\n",
      "[LightGBM] [Warning] lambda_l2 is set=0.052687284695185625, reg_lambda=0.0 will be ignored. Current value: lambda_l2=0.052687284695185625\n",
      "[LightGBM] [Warning] bagging_freq is set=7, subsample_freq=0 will be ignored. Current value: bagging_freq=7\n",
      "[LightGBM] [Warning] bagging_fraction is set=0.9933623863393883, subsample=1.0 will be ignored. Current value: bagging_fraction=0.9933623863393883\n",
      "[LightGBM] [Warning] lambda_l1 is set=0.14915951828262075, reg_alpha=0.0 will be ignored. Current value: lambda_l1=0.14915951828262075\n",
      "[LightGBM] [Warning] feature_fraction is set=0.4295811666933647, colsample_bytree=1.0 will be ignored. Current value: feature_fraction=0.4295811666933647\n",
      "[LightGBM] [Warning] lambda_l2 is set=0.052687284695185625, reg_lambda=0.0 will be ignored. Current value: lambda_l2=0.052687284695185625\n",
      "[LightGBM] [Warning] bagging_freq is set=7, subsample_freq=0 will be ignored. Current value: bagging_freq=7\n",
      "[LightGBM] [Warning] bagging_fraction is set=0.9933623863393883, subsample=1.0 will be ignored. Current value: bagging_fraction=0.9933623863393883\n",
      "[LightGBM] [Warning] lambda_l1 is set=0.14915951828262075, reg_alpha=0.0 will be ignored. Current value: lambda_l1=0.14915951828262075\n",
      "[LightGBM] [Warning] feature_fraction is set=0.4295811666933647, colsample_bytree=1.0 will be ignored. Current value: feature_fraction=0.4295811666933647\n",
      "[LightGBM] [Warning] lambda_l2 is set=0.052687284695185625, reg_lambda=0.0 will be ignored. Current value: lambda_l2=0.052687284695185625\n",
      "[LightGBM] [Warning] bagging_freq is set=7, subsample_freq=0 will be ignored. Current value: bagging_freq=7\n",
      "[LightGBM] [Warning] bagging_fraction is set=0.9933623863393883, subsample=1.0 will be ignored. Current value: bagging_fraction=0.9933623863393883\n",
      "[LightGBM] [Warning] lambda_l1 is set=0.14915951828262075, reg_alpha=0.0 will be ignored. Current value: lambda_l1=0.14915951828262075\n",
      "[LightGBM] [Warning] feature_fraction is set=0.4295811666933647, colsample_bytree=1.0 will be ignored. Current value: feature_fraction=0.4295811666933647\n",
      "[LightGBM] [Warning] lambda_l2 is set=0.052687284695185625, reg_lambda=0.0 will be ignored. Current value: lambda_l2=0.052687284695185625\n",
      "[LightGBM] [Warning] bagging_freq is set=7, subsample_freq=0 will be ignored. Current value: bagging_freq=7\n"
     ]
    },
    {
     "name": "stderr",
     "output_type": "stream",
     "text": [
      "\u001b[32m[I 2023-03-15 19:53:59,772]\u001b[0m Trial 75 finished with value: 0.7756785213723013 and parameters: {'lambda_l1': 0.14915951828262075, 'lambda_l2': 0.052687284695185625, 'num_leaves': 3, 'feature_fraction': 0.4295811666933647, 'bagging_fraction': 0.9933623863393883, 'bagging_freq': 7, 'min_child_samples': 16}. Best is trial 25 with value: 0.7906928133004688.\u001b[0m\n"
     ]
    },
    {
     "name": "stdout",
     "output_type": "stream",
     "text": [
      "[LightGBM] [Warning] bagging_fraction is set=0.9933623863393883, subsample=1.0 will be ignored. Current value: bagging_fraction=0.9933623863393883\n",
      "[LightGBM] [Warning] lambda_l1 is set=0.14915951828262075, reg_alpha=0.0 will be ignored. Current value: lambda_l1=0.14915951828262075\n",
      "[LightGBM] [Warning] feature_fraction is set=0.4295811666933647, colsample_bytree=1.0 will be ignored. Current value: feature_fraction=0.4295811666933647\n",
      "[LightGBM] [Warning] lambda_l2 is set=0.052687284695185625, reg_lambda=0.0 will be ignored. Current value: lambda_l2=0.052687284695185625\n",
      "[LightGBM] [Warning] bagging_freq is set=7, subsample_freq=0 will be ignored. Current value: bagging_freq=7\n",
      "[LightGBM] [Warning] bagging_fraction is set=0.9662770474267051, subsample=1.0 will be ignored. Current value: bagging_fraction=0.9662770474267051\n",
      "[LightGBM] [Warning] lambda_l1 is set=0.021214046621847574, reg_alpha=0.0 will be ignored. Current value: lambda_l1=0.021214046621847574\n",
      "[LightGBM] [Warning] feature_fraction is set=0.40000300233349856, colsample_bytree=1.0 will be ignored. Current value: feature_fraction=0.40000300233349856\n",
      "[LightGBM] [Warning] lambda_l2 is set=0.18672646795609613, reg_lambda=0.0 will be ignored. Current value: lambda_l2=0.18672646795609613\n",
      "[LightGBM] [Warning] bagging_freq is set=7, subsample_freq=0 will be ignored. Current value: bagging_freq=7\n",
      "[LightGBM] [Warning] bagging_fraction is set=0.9662770474267051, subsample=1.0 will be ignored. Current value: bagging_fraction=0.9662770474267051\n",
      "[LightGBM] [Warning] lambda_l1 is set=0.021214046621847574, reg_alpha=0.0 will be ignored. Current value: lambda_l1=0.021214046621847574\n",
      "[LightGBM] [Warning] feature_fraction is set=0.40000300233349856, colsample_bytree=1.0 will be ignored. Current value: feature_fraction=0.40000300233349856\n",
      "[LightGBM] [Warning] lambda_l2 is set=0.18672646795609613, reg_lambda=0.0 will be ignored. Current value: lambda_l2=0.18672646795609613\n",
      "[LightGBM] [Warning] bagging_freq is set=7, subsample_freq=0 will be ignored. Current value: bagging_freq=7\n",
      "[LightGBM] [Warning] bagging_fraction is set=0.9662770474267051, subsample=1.0 will be ignored. Current value: bagging_fraction=0.9662770474267051\n",
      "[LightGBM] [Warning] lambda_l1 is set=0.021214046621847574, reg_alpha=0.0 will be ignored. Current value: lambda_l1=0.021214046621847574\n",
      "[LightGBM] [Warning] feature_fraction is set=0.40000300233349856, colsample_bytree=1.0 will be ignored. Current value: feature_fraction=0.40000300233349856\n",
      "[LightGBM] [Warning] lambda_l2 is set=0.18672646795609613, reg_lambda=0.0 will be ignored. Current value: lambda_l2=0.18672646795609613\n",
      "[LightGBM] [Warning] bagging_freq is set=7, subsample_freq=0 will be ignored. Current value: bagging_freq=7\n",
      "[LightGBM] [Warning] bagging_fraction is set=0.9662770474267051, subsample=1.0 will be ignored. Current value: bagging_fraction=0.9662770474267051\n",
      "[LightGBM] [Warning] lambda_l1 is set=0.021214046621847574, reg_alpha=0.0 will be ignored. Current value: lambda_l1=0.021214046621847574\n",
      "[LightGBM] [Warning] feature_fraction is set=0.40000300233349856, colsample_bytree=1.0 will be ignored. Current value: feature_fraction=0.40000300233349856\n",
      "[LightGBM] [Warning] lambda_l2 is set=0.18672646795609613, reg_lambda=0.0 will be ignored. Current value: lambda_l2=0.18672646795609613\n",
      "[LightGBM] [Warning] bagging_freq is set=7, subsample_freq=0 will be ignored. Current value: bagging_freq=7\n"
     ]
    },
    {
     "name": "stderr",
     "output_type": "stream",
     "text": [
      "\u001b[32m[I 2023-03-15 19:54:00,279]\u001b[0m Trial 76 finished with value: 0.7464825113748559 and parameters: {'lambda_l1': 0.021214046621847574, 'lambda_l2': 0.18672646795609613, 'num_leaves': 49, 'feature_fraction': 0.40000300233349856, 'bagging_fraction': 0.9662770474267051, 'bagging_freq': 7, 'min_child_samples': 83}. Best is trial 25 with value: 0.7906928133004688.\u001b[0m\n"
     ]
    },
    {
     "name": "stdout",
     "output_type": "stream",
     "text": [
      "[LightGBM] [Warning] bagging_fraction is set=0.9662770474267051, subsample=1.0 will be ignored. Current value: bagging_fraction=0.9662770474267051\n",
      "[LightGBM] [Warning] lambda_l1 is set=0.021214046621847574, reg_alpha=0.0 will be ignored. Current value: lambda_l1=0.021214046621847574\n",
      "[LightGBM] [Warning] feature_fraction is set=0.40000300233349856, colsample_bytree=1.0 will be ignored. Current value: feature_fraction=0.40000300233349856\n",
      "[LightGBM] [Warning] lambda_l2 is set=0.18672646795609613, reg_lambda=0.0 will be ignored. Current value: lambda_l2=0.18672646795609613\n",
      "[LightGBM] [Warning] bagging_freq is set=7, subsample_freq=0 will be ignored. Current value: bagging_freq=7\n",
      "[LightGBM] [Warning] bagging_fraction is set=0.9024326806576126, subsample=1.0 will be ignored. Current value: bagging_fraction=0.9024326806576126\n",
      "[LightGBM] [Warning] lambda_l1 is set=0.08426155731171901, reg_alpha=0.0 will be ignored. Current value: lambda_l1=0.08426155731171901\n",
      "[LightGBM] [Warning] feature_fraction is set=0.48261650137635465, colsample_bytree=1.0 will be ignored. Current value: feature_fraction=0.48261650137635465\n",
      "[LightGBM] [Warning] lambda_l2 is set=0.08830364937945852, reg_lambda=0.0 will be ignored. Current value: lambda_l2=0.08830364937945852\n",
      "[LightGBM] [Warning] bagging_freq is set=6, subsample_freq=0 will be ignored. Current value: bagging_freq=6\n",
      "[LightGBM] [Warning] bagging_fraction is set=0.9024326806576126, subsample=1.0 will be ignored. Current value: bagging_fraction=0.9024326806576126\n",
      "[LightGBM] [Warning] lambda_l1 is set=0.08426155731171901, reg_alpha=0.0 will be ignored. Current value: lambda_l1=0.08426155731171901\n",
      "[LightGBM] [Warning] feature_fraction is set=0.48261650137635465, colsample_bytree=1.0 will be ignored. Current value: feature_fraction=0.48261650137635465\n",
      "[LightGBM] [Warning] lambda_l2 is set=0.08830364937945852, reg_lambda=0.0 will be ignored. Current value: lambda_l2=0.08830364937945852\n",
      "[LightGBM] [Warning] bagging_freq is set=6, subsample_freq=0 will be ignored. Current value: bagging_freq=6\n",
      "[LightGBM] [Warning] bagging_fraction is set=0.9024326806576126, subsample=1.0 will be ignored. Current value: bagging_fraction=0.9024326806576126\n",
      "[LightGBM] [Warning] lambda_l1 is set=0.08426155731171901, reg_alpha=0.0 will be ignored. Current value: lambda_l1=0.08426155731171901\n",
      "[LightGBM] [Warning] feature_fraction is set=0.48261650137635465, colsample_bytree=1.0 will be ignored. Current value: feature_fraction=0.48261650137635465\n",
      "[LightGBM] [Warning] lambda_l2 is set=0.08830364937945852, reg_lambda=0.0 will be ignored. Current value: lambda_l2=0.08830364937945852\n",
      "[LightGBM] [Warning] bagging_freq is set=6, subsample_freq=0 will be ignored. Current value: bagging_freq=6\n",
      "[LightGBM] [Warning] bagging_fraction is set=0.9024326806576126, subsample=1.0 will be ignored. Current value: bagging_fraction=0.9024326806576126\n",
      "[LightGBM] [Warning] lambda_l1 is set=0.08426155731171901, reg_alpha=0.0 will be ignored. Current value: lambda_l1=0.08426155731171901\n",
      "[LightGBM] [Warning] feature_fraction is set=0.48261650137635465, colsample_bytree=1.0 will be ignored. Current value: feature_fraction=0.48261650137635465\n",
      "[LightGBM] [Warning] lambda_l2 is set=0.08830364937945852, reg_lambda=0.0 will be ignored. Current value: lambda_l2=0.08830364937945852\n",
      "[LightGBM] [Warning] bagging_freq is set=6, subsample_freq=0 will be ignored. Current value: bagging_freq=6\n"
     ]
    },
    {
     "name": "stderr",
     "output_type": "stream",
     "text": [
      "\u001b[32m[I 2023-03-15 19:54:00,793]\u001b[0m Trial 77 finished with value: 0.7507763037069257 and parameters: {'lambda_l1': 0.08426155731171901, 'lambda_l2': 0.08830364937945852, 'num_leaves': 35, 'feature_fraction': 0.48261650137635465, 'bagging_fraction': 0.9024326806576126, 'bagging_freq': 6, 'min_child_samples': 95}. Best is trial 25 with value: 0.7906928133004688.\u001b[0m\n"
     ]
    },
    {
     "name": "stdout",
     "output_type": "stream",
     "text": [
      "[LightGBM] [Warning] bagging_fraction is set=0.9024326806576126, subsample=1.0 will be ignored. Current value: bagging_fraction=0.9024326806576126\n",
      "[LightGBM] [Warning] lambda_l1 is set=0.08426155731171901, reg_alpha=0.0 will be ignored. Current value: lambda_l1=0.08426155731171901\n",
      "[LightGBM] [Warning] feature_fraction is set=0.48261650137635465, colsample_bytree=1.0 will be ignored. Current value: feature_fraction=0.48261650137635465\n",
      "[LightGBM] [Warning] lambda_l2 is set=0.08830364937945852, reg_lambda=0.0 will be ignored. Current value: lambda_l2=0.08830364937945852\n",
      "[LightGBM] [Warning] bagging_freq is set=6, subsample_freq=0 will be ignored. Current value: bagging_freq=6\n",
      "[LightGBM] [Warning] bagging_fraction is set=0.9271159402179591, subsample=1.0 will be ignored. Current value: bagging_fraction=0.9271159402179591\n",
      "[LightGBM] [Warning] lambda_l1 is set=1.061356885315915, reg_alpha=0.0 will be ignored. Current value: lambda_l1=1.061356885315915\n",
      "[LightGBM] [Warning] feature_fraction is set=0.44368415809502654, colsample_bytree=1.0 will be ignored. Current value: feature_fraction=0.44368415809502654\n",
      "[LightGBM] [Warning] lambda_l2 is set=0.883148036190111, reg_lambda=0.0 will be ignored. Current value: lambda_l2=0.883148036190111\n",
      "[LightGBM] [Warning] bagging_freq is set=7, subsample_freq=0 will be ignored. Current value: bagging_freq=7\n",
      "[LightGBM] [Warning] bagging_fraction is set=0.9271159402179591, subsample=1.0 will be ignored. Current value: bagging_fraction=0.9271159402179591\n",
      "[LightGBM] [Warning] lambda_l1 is set=1.061356885315915, reg_alpha=0.0 will be ignored. Current value: lambda_l1=1.061356885315915\n",
      "[LightGBM] [Warning] feature_fraction is set=0.44368415809502654, colsample_bytree=1.0 will be ignored. Current value: feature_fraction=0.44368415809502654\n",
      "[LightGBM] [Warning] lambda_l2 is set=0.883148036190111, reg_lambda=0.0 will be ignored. Current value: lambda_l2=0.883148036190111\n",
      "[LightGBM] [Warning] bagging_freq is set=7, subsample_freq=0 will be ignored. Current value: bagging_freq=7\n",
      "[LightGBM] [Warning] bagging_fraction is set=0.9271159402179591, subsample=1.0 will be ignored. Current value: bagging_fraction=0.9271159402179591\n",
      "[LightGBM] [Warning] lambda_l1 is set=1.061356885315915, reg_alpha=0.0 will be ignored. Current value: lambda_l1=1.061356885315915\n",
      "[LightGBM] [Warning] feature_fraction is set=0.44368415809502654, colsample_bytree=1.0 will be ignored. Current value: feature_fraction=0.44368415809502654\n",
      "[LightGBM] [Warning] lambda_l2 is set=0.883148036190111, reg_lambda=0.0 will be ignored. Current value: lambda_l2=0.883148036190111\n",
      "[LightGBM] [Warning] bagging_freq is set=7, subsample_freq=0 will be ignored. Current value: bagging_freq=7\n",
      "[LightGBM] [Warning] bagging_fraction is set=0.9271159402179591, subsample=1.0 will be ignored. Current value: bagging_fraction=0.9271159402179591\n",
      "[LightGBM] [Warning] lambda_l1 is set=1.061356885315915, reg_alpha=0.0 will be ignored. Current value: lambda_l1=1.061356885315915\n",
      "[LightGBM] [Warning] feature_fraction is set=0.44368415809502654, colsample_bytree=1.0 will be ignored. Current value: feature_fraction=0.44368415809502654\n",
      "[LightGBM] [Warning] lambda_l2 is set=0.883148036190111, reg_lambda=0.0 will be ignored. Current value: lambda_l2=0.883148036190111\n",
      "[LightGBM] [Warning] bagging_freq is set=7, subsample_freq=0 will be ignored. Current value: bagging_freq=7\n",
      "[LightGBM] [Warning] bagging_fraction is set=0.9271159402179591, subsample=1.0 will be ignored. Current value: bagging_fraction=0.9271159402179591\n",
      "[LightGBM] [Warning] lambda_l1 is set=1.061356885315915, reg_alpha=0.0 will be ignored. Current value: lambda_l1=1.061356885315915\n",
      "[LightGBM] [Warning] feature_fraction is set=0.44368415809502654, colsample_bytree=1.0 will be ignored. Current value: feature_fraction=0.44368415809502654\n",
      "[LightGBM] [Warning] lambda_l2 is set=0.883148036190111, reg_lambda=0.0 will be ignored. Current value: lambda_l2=0.883148036190111\n",
      "[LightGBM] [Warning] bagging_freq is set=7, subsample_freq=0 will be ignored. Current value: bagging_freq=7\n"
     ]
    },
    {
     "name": "stderr",
     "output_type": "stream",
     "text": [
      "\u001b[32m[I 2023-03-15 19:54:01,422]\u001b[0m Trial 78 finished with value: 0.7479495916098786 and parameters: {'lambda_l1': 1.061356885315915, 'lambda_l2': 0.883148036190111, 'num_leaves': 26, 'feature_fraction': 0.44368415809502654, 'bagging_fraction': 0.9271159402179591, 'bagging_freq': 7, 'min_child_samples': 51}. Best is trial 25 with value: 0.7906928133004688.\u001b[0m\n"
     ]
    },
    {
     "name": "stdout",
     "output_type": "stream",
     "text": [
      "[LightGBM] [Warning] bagging_fraction is set=0.8640242357417224, subsample=1.0 will be ignored. Current value: bagging_fraction=0.8640242357417224\n",
      "[LightGBM] [Warning] lambda_l1 is set=0.4731240686727858, reg_alpha=0.0 will be ignored. Current value: lambda_l1=0.4731240686727858\n",
      "[LightGBM] [Warning] feature_fraction is set=0.41558093770028265, colsample_bytree=1.0 will be ignored. Current value: feature_fraction=0.41558093770028265\n",
      "[LightGBM] [Warning] lambda_l2 is set=0.014389894804855112, reg_lambda=0.0 will be ignored. Current value: lambda_l2=0.014389894804855112\n",
      "[LightGBM] [Warning] bagging_freq is set=5, subsample_freq=0 will be ignored. Current value: bagging_freq=5\n",
      "[LightGBM] [Warning] bagging_fraction is set=0.8640242357417224, subsample=1.0 will be ignored. Current value: bagging_fraction=0.8640242357417224\n",
      "[LightGBM] [Warning] lambda_l1 is set=0.4731240686727858, reg_alpha=0.0 will be ignored. Current value: lambda_l1=0.4731240686727858\n",
      "[LightGBM] [Warning] feature_fraction is set=0.41558093770028265, colsample_bytree=1.0 will be ignored. Current value: feature_fraction=0.41558093770028265\n",
      "[LightGBM] [Warning] lambda_l2 is set=0.014389894804855112, reg_lambda=0.0 will be ignored. Current value: lambda_l2=0.014389894804855112\n",
      "[LightGBM] [Warning] bagging_freq is set=5, subsample_freq=0 will be ignored. Current value: bagging_freq=5\n",
      "[LightGBM] [Warning] bagging_fraction is set=0.8640242357417224, subsample=1.0 will be ignored. Current value: bagging_fraction=0.8640242357417224\n",
      "[LightGBM] [Warning] lambda_l1 is set=0.4731240686727858, reg_alpha=0.0 will be ignored. Current value: lambda_l1=0.4731240686727858\n",
      "[LightGBM] [Warning] feature_fraction is set=0.41558093770028265, colsample_bytree=1.0 will be ignored. Current value: feature_fraction=0.41558093770028265\n",
      "[LightGBM] [Warning] lambda_l2 is set=0.014389894804855112, reg_lambda=0.0 will be ignored. Current value: lambda_l2=0.014389894804855112\n",
      "[LightGBM] [Warning] bagging_freq is set=5, subsample_freq=0 will be ignored. Current value: bagging_freq=5\n"
     ]
    },
    {
     "name": "stderr",
     "output_type": "stream",
     "text": [
      "\u001b[32m[I 2023-03-15 19:54:01,879]\u001b[0m Trial 79 finished with value: 0.7467669690755814 and parameters: {'lambda_l1': 0.4731240686727858, 'lambda_l2': 0.014389894804855112, 'num_leaves': 20, 'feature_fraction': 0.41558093770028265, 'bagging_fraction': 0.8640242357417224, 'bagging_freq': 5, 'min_child_samples': 100}. Best is trial 25 with value: 0.7906928133004688.\u001b[0m\n"
     ]
    },
    {
     "name": "stdout",
     "output_type": "stream",
     "text": [
      "[LightGBM] [Warning] bagging_fraction is set=0.8640242357417224, subsample=1.0 will be ignored. Current value: bagging_fraction=0.8640242357417224\n",
      "[LightGBM] [Warning] lambda_l1 is set=0.4731240686727858, reg_alpha=0.0 will be ignored. Current value: lambda_l1=0.4731240686727858\n",
      "[LightGBM] [Warning] feature_fraction is set=0.41558093770028265, colsample_bytree=1.0 will be ignored. Current value: feature_fraction=0.41558093770028265\n",
      "[LightGBM] [Warning] lambda_l2 is set=0.014389894804855112, reg_lambda=0.0 will be ignored. Current value: lambda_l2=0.014389894804855112\n",
      "[LightGBM] [Warning] bagging_freq is set=5, subsample_freq=0 will be ignored. Current value: bagging_freq=5\n",
      "[LightGBM] [Warning] bagging_fraction is set=0.8640242357417224, subsample=1.0 will be ignored. Current value: bagging_fraction=0.8640242357417224\n",
      "[LightGBM] [Warning] lambda_l1 is set=0.4731240686727858, reg_alpha=0.0 will be ignored. Current value: lambda_l1=0.4731240686727858\n",
      "[LightGBM] [Warning] feature_fraction is set=0.41558093770028265, colsample_bytree=1.0 will be ignored. Current value: feature_fraction=0.41558093770028265\n",
      "[LightGBM] [Warning] lambda_l2 is set=0.014389894804855112, reg_lambda=0.0 will be ignored. Current value: lambda_l2=0.014389894804855112\n",
      "[LightGBM] [Warning] bagging_freq is set=5, subsample_freq=0 will be ignored. Current value: bagging_freq=5\n",
      "[LightGBM] [Warning] bagging_fraction is set=0.9446824322629415, subsample=1.0 will be ignored. Current value: bagging_fraction=0.9446824322629415\n",
      "[LightGBM] [Warning] lambda_l1 is set=0.23536681608482637, reg_alpha=0.0 will be ignored. Current value: lambda_l1=0.23536681608482637\n",
      "[LightGBM] [Warning] feature_fraction is set=0.4783945155390559, colsample_bytree=1.0 will be ignored. Current value: feature_fraction=0.4783945155390559\n",
      "[LightGBM] [Warning] lambda_l2 is set=0.039726809427994995, reg_lambda=0.0 will be ignored. Current value: lambda_l2=0.039726809427994995\n",
      "[LightGBM] [Warning] bagging_freq is set=6, subsample_freq=0 will be ignored. Current value: bagging_freq=6\n",
      "[LightGBM] [Warning] bagging_fraction is set=0.9446824322629415, subsample=1.0 will be ignored. Current value: bagging_fraction=0.9446824322629415\n",
      "[LightGBM] [Warning] lambda_l1 is set=0.23536681608482637, reg_alpha=0.0 will be ignored. Current value: lambda_l1=0.23536681608482637\n",
      "[LightGBM] [Warning] feature_fraction is set=0.4783945155390559, colsample_bytree=1.0 will be ignored. Current value: feature_fraction=0.4783945155390559\n",
      "[LightGBM] [Warning] lambda_l2 is set=0.039726809427994995, reg_lambda=0.0 will be ignored. Current value: lambda_l2=0.039726809427994995\n",
      "[LightGBM] [Warning] bagging_freq is set=6, subsample_freq=0 will be ignored. Current value: bagging_freq=6\n",
      "[LightGBM] [Warning] bagging_fraction is set=0.9446824322629415, subsample=1.0 will be ignored. Current value: bagging_fraction=0.9446824322629415\n",
      "[LightGBM] [Warning] lambda_l1 is set=0.23536681608482637, reg_alpha=0.0 will be ignored. Current value: lambda_l1=0.23536681608482637\n",
      "[LightGBM] [Warning] feature_fraction is set=0.4783945155390559, colsample_bytree=1.0 will be ignored. Current value: feature_fraction=0.4783945155390559\n",
      "[LightGBM] [Warning] lambda_l2 is set=0.039726809427994995, reg_lambda=0.0 will be ignored. Current value: lambda_l2=0.039726809427994995\n",
      "[LightGBM] [Warning] bagging_freq is set=6, subsample_freq=0 will be ignored. Current value: bagging_freq=6\n"
     ]
    },
    {
     "name": "stderr",
     "output_type": "stream",
     "text": [
      "\u001b[32m[I 2023-03-15 19:54:02,403]\u001b[0m Trial 80 finished with value: 0.7522232751299737 and parameters: {'lambda_l1': 0.23536681608482637, 'lambda_l2': 0.039726809427994995, 'num_leaves': 15, 'feature_fraction': 0.4783945155390559, 'bagging_fraction': 0.9446824322629415, 'bagging_freq': 6, 'min_child_samples': 90}. Best is trial 25 with value: 0.7906928133004688.\u001b[0m\n"
     ]
    },
    {
     "name": "stdout",
     "output_type": "stream",
     "text": [
      "[LightGBM] [Warning] bagging_fraction is set=0.9446824322629415, subsample=1.0 will be ignored. Current value: bagging_fraction=0.9446824322629415\n",
      "[LightGBM] [Warning] lambda_l1 is set=0.23536681608482637, reg_alpha=0.0 will be ignored. Current value: lambda_l1=0.23536681608482637\n",
      "[LightGBM] [Warning] feature_fraction is set=0.4783945155390559, colsample_bytree=1.0 will be ignored. Current value: feature_fraction=0.4783945155390559\n",
      "[LightGBM] [Warning] lambda_l2 is set=0.039726809427994995, reg_lambda=0.0 will be ignored. Current value: lambda_l2=0.039726809427994995\n",
      "[LightGBM] [Warning] bagging_freq is set=6, subsample_freq=0 will be ignored. Current value: bagging_freq=6\n",
      "[LightGBM] [Warning] bagging_fraction is set=0.9446824322629415, subsample=1.0 will be ignored. Current value: bagging_fraction=0.9446824322629415\n",
      "[LightGBM] [Warning] lambda_l1 is set=0.23536681608482637, reg_alpha=0.0 will be ignored. Current value: lambda_l1=0.23536681608482637\n",
      "[LightGBM] [Warning] feature_fraction is set=0.4783945155390559, colsample_bytree=1.0 will be ignored. Current value: feature_fraction=0.4783945155390559\n",
      "[LightGBM] [Warning] lambda_l2 is set=0.039726809427994995, reg_lambda=0.0 will be ignored. Current value: lambda_l2=0.039726809427994995\n",
      "[LightGBM] [Warning] bagging_freq is set=6, subsample_freq=0 will be ignored. Current value: bagging_freq=6\n",
      "[LightGBM] [Warning] bagging_fraction is set=0.9111647988565881, subsample=1.0 will be ignored. Current value: bagging_fraction=0.9111647988565881\n",
      "[LightGBM] [Warning] lambda_l1 is set=0.13217694773530378, reg_alpha=0.0 will be ignored. Current value: lambda_l1=0.13217694773530378\n",
      "[LightGBM] [Warning] feature_fraction is set=0.4286819925040938, colsample_bytree=1.0 will be ignored. Current value: feature_fraction=0.4286819925040938\n",
      "[LightGBM] [Warning] lambda_l2 is set=0.281554214300364, reg_lambda=0.0 will be ignored. Current value: lambda_l2=0.281554214300364\n",
      "[LightGBM] [Warning] bagging_freq is set=6, subsample_freq=0 will be ignored. Current value: bagging_freq=6\n",
      "[LightGBM] [Warning] bagging_fraction is set=0.9111647988565881, subsample=1.0 will be ignored. Current value: bagging_fraction=0.9111647988565881\n",
      "[LightGBM] [Warning] lambda_l1 is set=0.13217694773530378, reg_alpha=0.0 will be ignored. Current value: lambda_l1=0.13217694773530378\n",
      "[LightGBM] [Warning] feature_fraction is set=0.4286819925040938, colsample_bytree=1.0 will be ignored. Current value: feature_fraction=0.4286819925040938\n",
      "[LightGBM] [Warning] lambda_l2 is set=0.281554214300364, reg_lambda=0.0 will be ignored. Current value: lambda_l2=0.281554214300364\n",
      "[LightGBM] [Warning] bagging_freq is set=6, subsample_freq=0 will be ignored. Current value: bagging_freq=6\n",
      "[LightGBM] [Warning] bagging_fraction is set=0.9111647988565881, subsample=1.0 will be ignored. Current value: bagging_fraction=0.9111647988565881\n",
      "[LightGBM] [Warning] lambda_l1 is set=0.13217694773530378, reg_alpha=0.0 will be ignored. Current value: lambda_l1=0.13217694773530378\n",
      "[LightGBM] [Warning] feature_fraction is set=0.4286819925040938, colsample_bytree=1.0 will be ignored. Current value: feature_fraction=0.4286819925040938\n",
      "[LightGBM] [Warning] lambda_l2 is set=0.281554214300364, reg_lambda=0.0 will be ignored. Current value: lambda_l2=0.281554214300364\n",
      "[LightGBM] [Warning] bagging_freq is set=6, subsample_freq=0 will be ignored. Current value: bagging_freq=6\n",
      "[LightGBM] [Warning] bagging_fraction is set=0.9111647988565881, subsample=1.0 will be ignored. Current value: bagging_fraction=0.9111647988565881\n",
      "[LightGBM] [Warning] lambda_l1 is set=0.13217694773530378, reg_alpha=0.0 will be ignored. Current value: lambda_l1=0.13217694773530378\n",
      "[LightGBM] [Warning] feature_fraction is set=0.4286819925040938, colsample_bytree=1.0 will be ignored. Current value: feature_fraction=0.4286819925040938\n",
      "[LightGBM] [Warning] lambda_l2 is set=0.281554214300364, reg_lambda=0.0 will be ignored. Current value: lambda_l2=0.281554214300364\n",
      "[LightGBM] [Warning] bagging_freq is set=6, subsample_freq=0 will be ignored. Current value: bagging_freq=6\n"
     ]
    },
    {
     "name": "stderr",
     "output_type": "stream",
     "text": [
      "\u001b[32m[I 2023-03-15 19:54:02,715]\u001b[0m Trial 81 finished with value: 0.7832693821330186 and parameters: {'lambda_l1': 0.13217694773530378, 'lambda_l2': 0.281554214300364, 'num_leaves': 2, 'feature_fraction': 0.4286819925040938, 'bagging_fraction': 0.9111647988565881, 'bagging_freq': 6, 'min_child_samples': 93}. Best is trial 25 with value: 0.7906928133004688.\u001b[0m\n"
     ]
    },
    {
     "name": "stdout",
     "output_type": "stream",
     "text": [
      "[LightGBM] [Warning] bagging_fraction is set=0.9111647988565881, subsample=1.0 will be ignored. Current value: bagging_fraction=0.9111647988565881\n",
      "[LightGBM] [Warning] lambda_l1 is set=0.13217694773530378, reg_alpha=0.0 will be ignored. Current value: lambda_l1=0.13217694773530378\n",
      "[LightGBM] [Warning] feature_fraction is set=0.4286819925040938, colsample_bytree=1.0 will be ignored. Current value: feature_fraction=0.4286819925040938\n",
      "[LightGBM] [Warning] lambda_l2 is set=0.281554214300364, reg_lambda=0.0 will be ignored. Current value: lambda_l2=0.281554214300364\n",
      "[LightGBM] [Warning] bagging_freq is set=6, subsample_freq=0 will be ignored. Current value: bagging_freq=6\n",
      "[LightGBM] [Warning] bagging_fraction is set=0.8879042565677975, subsample=1.0 will be ignored. Current value: bagging_fraction=0.8879042565677975\n",
      "[LightGBM] [Warning] lambda_l1 is set=0.05403094523673016, reg_alpha=0.0 will be ignored. Current value: lambda_l1=0.05403094523673016\n",
      "[LightGBM] [Warning] feature_fraction is set=0.4326274397358509, colsample_bytree=1.0 will be ignored. Current value: feature_fraction=0.4326274397358509\n",
      "[LightGBM] [Warning] lambda_l2 is set=0.2895611813565662, reg_lambda=0.0 will be ignored. Current value: lambda_l2=0.2895611813565662\n",
      "[LightGBM] [Warning] bagging_freq is set=6, subsample_freq=0 will be ignored. Current value: bagging_freq=6\n",
      "[LightGBM] [Warning] bagging_fraction is set=0.8879042565677975, subsample=1.0 will be ignored. Current value: bagging_fraction=0.8879042565677975\n",
      "[LightGBM] [Warning] lambda_l1 is set=0.05403094523673016, reg_alpha=0.0 will be ignored. Current value: lambda_l1=0.05403094523673016\n",
      "[LightGBM] [Warning] feature_fraction is set=0.4326274397358509, colsample_bytree=1.0 will be ignored. Current value: feature_fraction=0.4326274397358509\n",
      "[LightGBM] [Warning] lambda_l2 is set=0.2895611813565662, reg_lambda=0.0 will be ignored. Current value: lambda_l2=0.2895611813565662\n",
      "[LightGBM] [Warning] bagging_freq is set=6, subsample_freq=0 will be ignored. Current value: bagging_freq=6\n",
      "[LightGBM] [Warning] bagging_fraction is set=0.8879042565677975, subsample=1.0 will be ignored. Current value: bagging_fraction=0.8879042565677975\n",
      "[LightGBM] [Warning] lambda_l1 is set=0.05403094523673016, reg_alpha=0.0 will be ignored. Current value: lambda_l1=0.05403094523673016\n",
      "[LightGBM] [Warning] feature_fraction is set=0.4326274397358509, colsample_bytree=1.0 will be ignored. Current value: feature_fraction=0.4326274397358509\n",
      "[LightGBM] [Warning] lambda_l2 is set=0.2895611813565662, reg_lambda=0.0 will be ignored. Current value: lambda_l2=0.2895611813565662\n",
      "[LightGBM] [Warning] bagging_freq is set=6, subsample_freq=0 will be ignored. Current value: bagging_freq=6\n"
     ]
    },
    {
     "name": "stderr",
     "output_type": "stream",
     "text": [
      "\u001b[32m[I 2023-03-15 19:54:02,997]\u001b[0m Trial 82 finished with value: 0.7850982483757603 and parameters: {'lambda_l1': 0.05403094523673016, 'lambda_l2': 0.2895611813565662, 'num_leaves': 2, 'feature_fraction': 0.4326274397358509, 'bagging_fraction': 0.8879042565677975, 'bagging_freq': 6, 'min_child_samples': 94}. Best is trial 25 with value: 0.7906928133004688.\u001b[0m\n"
     ]
    },
    {
     "name": "stdout",
     "output_type": "stream",
     "text": [
      "[LightGBM] [Warning] bagging_fraction is set=0.8879042565677975, subsample=1.0 will be ignored. Current value: bagging_fraction=0.8879042565677975\n",
      "[LightGBM] [Warning] lambda_l1 is set=0.05403094523673016, reg_alpha=0.0 will be ignored. Current value: lambda_l1=0.05403094523673016\n",
      "[LightGBM] [Warning] feature_fraction is set=0.4326274397358509, colsample_bytree=1.0 will be ignored. Current value: feature_fraction=0.4326274397358509\n",
      "[LightGBM] [Warning] lambda_l2 is set=0.2895611813565662, reg_lambda=0.0 will be ignored. Current value: lambda_l2=0.2895611813565662\n",
      "[LightGBM] [Warning] bagging_freq is set=6, subsample_freq=0 will be ignored. Current value: bagging_freq=6\n",
      "[LightGBM] [Warning] bagging_fraction is set=0.8879042565677975, subsample=1.0 will be ignored. Current value: bagging_fraction=0.8879042565677975\n",
      "[LightGBM] [Warning] lambda_l1 is set=0.05403094523673016, reg_alpha=0.0 will be ignored. Current value: lambda_l1=0.05403094523673016\n",
      "[LightGBM] [Warning] feature_fraction is set=0.4326274397358509, colsample_bytree=1.0 will be ignored. Current value: feature_fraction=0.4326274397358509\n",
      "[LightGBM] [Warning] lambda_l2 is set=0.2895611813565662, reg_lambda=0.0 will be ignored. Current value: lambda_l2=0.2895611813565662\n",
      "[LightGBM] [Warning] bagging_freq is set=6, subsample_freq=0 will be ignored. Current value: bagging_freq=6\n",
      "[LightGBM] [Warning] bagging_fraction is set=0.8896828587667386, subsample=1.0 will be ignored. Current value: bagging_fraction=0.8896828587667386\n",
      "[LightGBM] [Warning] lambda_l1 is set=0.048553441173599624, reg_alpha=0.0 will be ignored. Current value: lambda_l1=0.048553441173599624\n",
      "[LightGBM] [Warning] feature_fraction is set=0.4539600853597048, colsample_bytree=1.0 will be ignored. Current value: feature_fraction=0.4539600853597048\n",
      "[LightGBM] [Warning] lambda_l2 is set=0.12318542605687241, reg_lambda=0.0 will be ignored. Current value: lambda_l2=0.12318542605687241\n",
      "[LightGBM] [Warning] bagging_freq is set=6, subsample_freq=0 will be ignored. Current value: bagging_freq=6\n",
      "[LightGBM] [Warning] bagging_fraction is set=0.8896828587667386, subsample=1.0 will be ignored. Current value: bagging_fraction=0.8896828587667386\n",
      "[LightGBM] [Warning] lambda_l1 is set=0.048553441173599624, reg_alpha=0.0 will be ignored. Current value: lambda_l1=0.048553441173599624\n",
      "[LightGBM] [Warning] feature_fraction is set=0.4539600853597048, colsample_bytree=1.0 will be ignored. Current value: feature_fraction=0.4539600853597048\n",
      "[LightGBM] [Warning] lambda_l2 is set=0.12318542605687241, reg_lambda=0.0 will be ignored. Current value: lambda_l2=0.12318542605687241\n",
      "[LightGBM] [Warning] bagging_freq is set=6, subsample_freq=0 will be ignored. Current value: bagging_freq=6\n",
      "[LightGBM] [Warning] bagging_fraction is set=0.8896828587667386, subsample=1.0 will be ignored. Current value: bagging_fraction=0.8896828587667386\n",
      "[LightGBM] [Warning] lambda_l1 is set=0.048553441173599624, reg_alpha=0.0 will be ignored. Current value: lambda_l1=0.048553441173599624\n",
      "[LightGBM] [Warning] feature_fraction is set=0.4539600853597048, colsample_bytree=1.0 will be ignored. Current value: feature_fraction=0.4539600853597048\n",
      "[LightGBM] [Warning] lambda_l2 is set=0.12318542605687241, reg_lambda=0.0 will be ignored. Current value: lambda_l2=0.12318542605687241\n",
      "[LightGBM] [Warning] bagging_freq is set=6, subsample_freq=0 will be ignored. Current value: bagging_freq=6\n",
      "[LightGBM] [Warning] bagging_fraction is set=0.8896828587667386, subsample=1.0 will be ignored. Current value: bagging_fraction=0.8896828587667386\n",
      "[LightGBM] [Warning] lambda_l1 is set=0.048553441173599624, reg_alpha=0.0 will be ignored. Current value: lambda_l1=0.048553441173599624\n",
      "[LightGBM] [Warning] feature_fraction is set=0.4539600853597048, colsample_bytree=1.0 will be ignored. Current value: feature_fraction=0.4539600853597048\n",
      "[LightGBM] [Warning] lambda_l2 is set=0.12318542605687241, reg_lambda=0.0 will be ignored. Current value: lambda_l2=0.12318542605687241\n",
      "[LightGBM] [Warning] bagging_freq is set=6, subsample_freq=0 will be ignored. Current value: bagging_freq=6\n"
     ]
    },
    {
     "name": "stderr",
     "output_type": "stream",
     "text": [
      "\u001b[32m[I 2023-03-15 19:54:03,512]\u001b[0m Trial 83 finished with value: 0.7494052797282462 and parameters: {'lambda_l1': 0.048553441173599624, 'lambda_l2': 0.12318542605687241, 'num_leaves': 9, 'feature_fraction': 0.4539600853597048, 'bagging_fraction': 0.8896828587667386, 'bagging_freq': 6, 'min_child_samples': 85}. Best is trial 25 with value: 0.7906928133004688.\u001b[0m\n"
     ]
    },
    {
     "name": "stdout",
     "output_type": "stream",
     "text": [
      "[LightGBM] [Warning] bagging_fraction is set=0.8896828587667386, subsample=1.0 will be ignored. Current value: bagging_fraction=0.8896828587667386\n",
      "[LightGBM] [Warning] lambda_l1 is set=0.048553441173599624, reg_alpha=0.0 will be ignored. Current value: lambda_l1=0.048553441173599624\n",
      "[LightGBM] [Warning] feature_fraction is set=0.4539600853597048, colsample_bytree=1.0 will be ignored. Current value: feature_fraction=0.4539600853597048\n",
      "[LightGBM] [Warning] lambda_l2 is set=0.12318542605687241, reg_lambda=0.0 will be ignored. Current value: lambda_l2=0.12318542605687241\n",
      "[LightGBM] [Warning] bagging_freq is set=6, subsample_freq=0 will be ignored. Current value: bagging_freq=6\n",
      "[LightGBM] [Warning] bagging_fraction is set=0.9312170111357425, subsample=1.0 will be ignored. Current value: bagging_fraction=0.9312170111357425\n",
      "[LightGBM] [Warning] lambda_l1 is set=0.032323492267637144, reg_alpha=0.0 will be ignored. Current value: lambda_l1=0.032323492267637144\n",
      "[LightGBM] [Warning] feature_fraction is set=0.4148873088264771, colsample_bytree=1.0 will be ignored. Current value: feature_fraction=0.4148873088264771\n",
      "[LightGBM] [Warning] lambda_l2 is set=0.45291531058369794, reg_lambda=0.0 will be ignored. Current value: lambda_l2=0.45291531058369794\n",
      "[LightGBM] [Warning] bagging_freq is set=5, subsample_freq=0 will be ignored. Current value: bagging_freq=5\n",
      "[LightGBM] [Warning] bagging_fraction is set=0.9312170111357425, subsample=1.0 will be ignored. Current value: bagging_fraction=0.9312170111357425\n",
      "[LightGBM] [Warning] lambda_l1 is set=0.032323492267637144, reg_alpha=0.0 will be ignored. Current value: lambda_l1=0.032323492267637144\n",
      "[LightGBM] [Warning] feature_fraction is set=0.4148873088264771, colsample_bytree=1.0 will be ignored. Current value: feature_fraction=0.4148873088264771\n",
      "[LightGBM] [Warning] lambda_l2 is set=0.45291531058369794, reg_lambda=0.0 will be ignored. Current value: lambda_l2=0.45291531058369794\n",
      "[LightGBM] [Warning] bagging_freq is set=5, subsample_freq=0 will be ignored. Current value: bagging_freq=5\n",
      "[LightGBM] [Warning] bagging_fraction is set=0.9312170111357425, subsample=1.0 will be ignored. Current value: bagging_fraction=0.9312170111357425\n",
      "[LightGBM] [Warning] lambda_l1 is set=0.032323492267637144, reg_alpha=0.0 will be ignored. Current value: lambda_l1=0.032323492267637144\n",
      "[LightGBM] [Warning] feature_fraction is set=0.4148873088264771, colsample_bytree=1.0 will be ignored. Current value: feature_fraction=0.4148873088264771\n",
      "[LightGBM] [Warning] lambda_l2 is set=0.45291531058369794, reg_lambda=0.0 will be ignored. Current value: lambda_l2=0.45291531058369794\n",
      "[LightGBM] [Warning] bagging_freq is set=5, subsample_freq=0 will be ignored. Current value: bagging_freq=5\n",
      "[LightGBM] [Warning] bagging_fraction is set=0.9312170111357425, subsample=1.0 will be ignored. Current value: bagging_fraction=0.9312170111357425\n",
      "[LightGBM] [Warning] lambda_l1 is set=0.032323492267637144, reg_alpha=0.0 will be ignored. Current value: lambda_l1=0.032323492267637144\n",
      "[LightGBM] [Warning] feature_fraction is set=0.4148873088264771, colsample_bytree=1.0 will be ignored. Current value: feature_fraction=0.4148873088264771\n",
      "[LightGBM] [Warning] lambda_l2 is set=0.45291531058369794, reg_lambda=0.0 will be ignored. Current value: lambda_l2=0.45291531058369794\n",
      "[LightGBM] [Warning] bagging_freq is set=5, subsample_freq=0 will be ignored. Current value: bagging_freq=5\n"
     ]
    },
    {
     "name": "stderr",
     "output_type": "stream",
     "text": [
      "\u001b[32m[I 2023-03-15 19:54:03,998]\u001b[0m Trial 84 finished with value: 0.7493044767566298 and parameters: {'lambda_l1': 0.032323492267637144, 'lambda_l2': 0.45291531058369794, 'num_leaves': 17, 'feature_fraction': 0.4148873088264771, 'bagging_fraction': 0.9312170111357425, 'bagging_freq': 5, 'min_child_samples': 89}. Best is trial 25 with value: 0.7906928133004688.\u001b[0m\n"
     ]
    },
    {
     "name": "stdout",
     "output_type": "stream",
     "text": [
      "[LightGBM] [Warning] bagging_fraction is set=0.9312170111357425, subsample=1.0 will be ignored. Current value: bagging_fraction=0.9312170111357425\n",
      "[LightGBM] [Warning] lambda_l1 is set=0.032323492267637144, reg_alpha=0.0 will be ignored. Current value: lambda_l1=0.032323492267637144\n",
      "[LightGBM] [Warning] feature_fraction is set=0.4148873088264771, colsample_bytree=1.0 will be ignored. Current value: feature_fraction=0.4148873088264771\n",
      "[LightGBM] [Warning] lambda_l2 is set=0.45291531058369794, reg_lambda=0.0 will be ignored. Current value: lambda_l2=0.45291531058369794\n",
      "[LightGBM] [Warning] bagging_freq is set=5, subsample_freq=0 will be ignored. Current value: bagging_freq=5\n",
      "[LightGBM] [Warning] bagging_fraction is set=0.9687335604799263, subsample=1.0 will be ignored. Current value: bagging_fraction=0.9687335604799263\n",
      "[LightGBM] [Warning] lambda_l1 is set=0.09511503500210061, reg_alpha=0.0 will be ignored. Current value: lambda_l1=0.09511503500210061\n",
      "[LightGBM] [Warning] feature_fraction is set=0.4688634155873549, colsample_bytree=1.0 will be ignored. Current value: feature_fraction=0.4688634155873549\n",
      "[LightGBM] [Warning] lambda_l2 is set=1.821265244095636, reg_lambda=0.0 will be ignored. Current value: lambda_l2=1.821265244095636\n",
      "[LightGBM] [Warning] bagging_freq is set=7, subsample_freq=0 will be ignored. Current value: bagging_freq=7\n",
      "[LightGBM] [Warning] bagging_fraction is set=0.9687335604799263, subsample=1.0 will be ignored. Current value: bagging_fraction=0.9687335604799263\n",
      "[LightGBM] [Warning] lambda_l1 is set=0.09511503500210061, reg_alpha=0.0 will be ignored. Current value: lambda_l1=0.09511503500210061\n",
      "[LightGBM] [Warning] feature_fraction is set=0.4688634155873549, colsample_bytree=1.0 will be ignored. Current value: feature_fraction=0.4688634155873549\n",
      "[LightGBM] [Warning] lambda_l2 is set=1.821265244095636, reg_lambda=0.0 will be ignored. Current value: lambda_l2=1.821265244095636\n",
      "[LightGBM] [Warning] bagging_freq is set=7, subsample_freq=0 will be ignored. Current value: bagging_freq=7\n",
      "[LightGBM] [Warning] bagging_fraction is set=0.9687335604799263, subsample=1.0 will be ignored. Current value: bagging_fraction=0.9687335604799263\n",
      "[LightGBM] [Warning] lambda_l1 is set=0.09511503500210061, reg_alpha=0.0 will be ignored. Current value: lambda_l1=0.09511503500210061\n",
      "[LightGBM] [Warning] feature_fraction is set=0.4688634155873549, colsample_bytree=1.0 will be ignored. Current value: feature_fraction=0.4688634155873549\n",
      "[LightGBM] [Warning] lambda_l2 is set=1.821265244095636, reg_lambda=0.0 will be ignored. Current value: lambda_l2=1.821265244095636\n",
      "[LightGBM] [Warning] bagging_freq is set=7, subsample_freq=0 will be ignored. Current value: bagging_freq=7\n",
      "[LightGBM] [Warning] bagging_fraction is set=0.9687335604799263, subsample=1.0 will be ignored. Current value: bagging_fraction=0.9687335604799263\n",
      "[LightGBM] [Warning] lambda_l1 is set=0.09511503500210061, reg_alpha=0.0 will be ignored. Current value: lambda_l1=0.09511503500210061\n",
      "[LightGBM] [Warning] feature_fraction is set=0.4688634155873549, colsample_bytree=1.0 will be ignored. Current value: feature_fraction=0.4688634155873549\n",
      "[LightGBM] [Warning] lambda_l2 is set=1.821265244095636, reg_lambda=0.0 will be ignored. Current value: lambda_l2=1.821265244095636\n",
      "[LightGBM] [Warning] bagging_freq is set=7, subsample_freq=0 will be ignored. Current value: bagging_freq=7\n"
     ]
    },
    {
     "name": "stderr",
     "output_type": "stream",
     "text": [
      "\u001b[32m[I 2023-03-15 19:54:04,515]\u001b[0m Trial 85 finished with value: 0.747730811187749 and parameters: {'lambda_l1': 0.09511503500210061, 'lambda_l2': 1.821265244095636, 'num_leaves': 9, 'feature_fraction': 0.4688634155873549, 'bagging_fraction': 0.9687335604799263, 'bagging_freq': 7, 'min_child_samples': 96}. Best is trial 25 with value: 0.7906928133004688.\u001b[0m\n"
     ]
    },
    {
     "name": "stdout",
     "output_type": "stream",
     "text": [
      "[LightGBM] [Warning] bagging_fraction is set=0.9687335604799263, subsample=1.0 will be ignored. Current value: bagging_fraction=0.9687335604799263\n",
      "[LightGBM] [Warning] lambda_l1 is set=0.09511503500210061, reg_alpha=0.0 will be ignored. Current value: lambda_l1=0.09511503500210061\n",
      "[LightGBM] [Warning] feature_fraction is set=0.4688634155873549, colsample_bytree=1.0 will be ignored. Current value: feature_fraction=0.4688634155873549\n",
      "[LightGBM] [Warning] lambda_l2 is set=1.821265244095636, reg_lambda=0.0 will be ignored. Current value: lambda_l2=1.821265244095636\n",
      "[LightGBM] [Warning] bagging_freq is set=7, subsample_freq=0 will be ignored. Current value: bagging_freq=7\n",
      "[LightGBM] [Warning] bagging_fraction is set=0.8820425964987089, subsample=1.0 will be ignored. Current value: bagging_fraction=0.8820425964987089\n",
      "[LightGBM] [Warning] lambda_l1 is set=0.2693834623444289, reg_alpha=0.0 will be ignored. Current value: lambda_l1=0.2693834623444289\n",
      "[LightGBM] [Warning] feature_fraction is set=0.43637621649436364, colsample_bytree=1.0 will be ignored. Current value: feature_fraction=0.43637621649436364\n",
      "[LightGBM] [Warning] lambda_l2 is set=0.23629653310382392, reg_lambda=0.0 will be ignored. Current value: lambda_l2=0.23629653310382392\n",
      "[LightGBM] [Warning] bagging_freq is set=6, subsample_freq=0 will be ignored. Current value: bagging_freq=6\n",
      "[LightGBM] [Warning] bagging_fraction is set=0.8820425964987089, subsample=1.0 will be ignored. Current value: bagging_fraction=0.8820425964987089\n",
      "[LightGBM] [Warning] lambda_l1 is set=0.2693834623444289, reg_alpha=0.0 will be ignored. Current value: lambda_l1=0.2693834623444289\n",
      "[LightGBM] [Warning] feature_fraction is set=0.43637621649436364, colsample_bytree=1.0 will be ignored. Current value: feature_fraction=0.43637621649436364\n",
      "[LightGBM] [Warning] lambda_l2 is set=0.23629653310382392, reg_lambda=0.0 will be ignored. Current value: lambda_l2=0.23629653310382392\n",
      "[LightGBM] [Warning] bagging_freq is set=6, subsample_freq=0 will be ignored. Current value: bagging_freq=6\n",
      "[LightGBM] [Warning] bagging_fraction is set=0.8820425964987089, subsample=1.0 will be ignored. Current value: bagging_fraction=0.8820425964987089\n",
      "[LightGBM] [Warning] lambda_l1 is set=0.2693834623444289, reg_alpha=0.0 will be ignored. Current value: lambda_l1=0.2693834623444289\n",
      "[LightGBM] [Warning] feature_fraction is set=0.43637621649436364, colsample_bytree=1.0 will be ignored. Current value: feature_fraction=0.43637621649436364\n",
      "[LightGBM] [Warning] lambda_l2 is set=0.23629653310382392, reg_lambda=0.0 will be ignored. Current value: lambda_l2=0.23629653310382392\n",
      "[LightGBM] [Warning] bagging_freq is set=6, subsample_freq=0 will be ignored. Current value: bagging_freq=6\n",
      "[LightGBM] [Warning] bagging_fraction is set=0.8820425964987089, subsample=1.0 will be ignored. Current value: bagging_fraction=0.8820425964987089\n",
      "[LightGBM] [Warning] lambda_l1 is set=0.2693834623444289, reg_alpha=0.0 will be ignored. Current value: lambda_l1=0.2693834623444289\n",
      "[LightGBM] [Warning] feature_fraction is set=0.43637621649436364, colsample_bytree=1.0 will be ignored. Current value: feature_fraction=0.43637621649436364\n",
      "[LightGBM] [Warning] lambda_l2 is set=0.23629653310382392, reg_lambda=0.0 will be ignored. Current value: lambda_l2=0.23629653310382392\n",
      "[LightGBM] [Warning] bagging_freq is set=6, subsample_freq=0 will be ignored. Current value: bagging_freq=6\n"
     ]
    },
    {
     "name": "stderr",
     "output_type": "stream",
     "text": [
      "\u001b[32m[I 2023-03-15 19:54:05,004]\u001b[0m Trial 86 finished with value: 0.7517283221828677 and parameters: {'lambda_l1': 0.2693834623444289, 'lambda_l2': 0.23629653310382392, 'num_leaves': 26, 'feature_fraction': 0.43637621649436364, 'bagging_fraction': 0.8820425964987089, 'bagging_freq': 6, 'min_child_samples': 92}. Best is trial 25 with value: 0.7906928133004688.\u001b[0m\n"
     ]
    },
    {
     "name": "stdout",
     "output_type": "stream",
     "text": [
      "[LightGBM] [Warning] bagging_fraction is set=0.8820425964987089, subsample=1.0 will be ignored. Current value: bagging_fraction=0.8820425964987089\n",
      "[LightGBM] [Warning] lambda_l1 is set=0.2693834623444289, reg_alpha=0.0 will be ignored. Current value: lambda_l1=0.2693834623444289\n",
      "[LightGBM] [Warning] feature_fraction is set=0.43637621649436364, colsample_bytree=1.0 will be ignored. Current value: feature_fraction=0.43637621649436364\n",
      "[LightGBM] [Warning] lambda_l2 is set=0.23629653310382392, reg_lambda=0.0 will be ignored. Current value: lambda_l2=0.23629653310382392\n",
      "[LightGBM] [Warning] bagging_freq is set=6, subsample_freq=0 will be ignored. Current value: bagging_freq=6\n",
      "[LightGBM] [Warning] bagging_fraction is set=0.9522927232590053, subsample=1.0 will be ignored. Current value: bagging_fraction=0.9522927232590053\n",
      "[LightGBM] [Warning] lambda_l1 is set=0.05616091814125676, reg_alpha=0.0 will be ignored. Current value: lambda_l1=0.05616091814125676\n",
      "[LightGBM] [Warning] feature_fraction is set=0.4973958589164525, colsample_bytree=1.0 will be ignored. Current value: feature_fraction=0.4973958589164525\n",
      "[LightGBM] [Warning] lambda_l2 is set=0.07106863938343458, reg_lambda=0.0 will be ignored. Current value: lambda_l2=0.07106863938343458\n",
      "[LightGBM] [Warning] bagging_freq is set=7, subsample_freq=0 will be ignored. Current value: bagging_freq=7\n",
      "[LightGBM] [Warning] bagging_fraction is set=0.9522927232590053, subsample=1.0 will be ignored. Current value: bagging_fraction=0.9522927232590053\n",
      "[LightGBM] [Warning] lambda_l1 is set=0.05616091814125676, reg_alpha=0.0 will be ignored. Current value: lambda_l1=0.05616091814125676\n",
      "[LightGBM] [Warning] feature_fraction is set=0.4973958589164525, colsample_bytree=1.0 will be ignored. Current value: feature_fraction=0.4973958589164525\n",
      "[LightGBM] [Warning] lambda_l2 is set=0.07106863938343458, reg_lambda=0.0 will be ignored. Current value: lambda_l2=0.07106863938343458\n",
      "[LightGBM] [Warning] bagging_freq is set=7, subsample_freq=0 will be ignored. Current value: bagging_freq=7\n",
      "[LightGBM] [Warning] bagging_fraction is set=0.9522927232590053, subsample=1.0 will be ignored. Current value: bagging_fraction=0.9522927232590053\n",
      "[LightGBM] [Warning] lambda_l1 is set=0.05616091814125676, reg_alpha=0.0 will be ignored. Current value: lambda_l1=0.05616091814125676\n",
      "[LightGBM] [Warning] feature_fraction is set=0.4973958589164525, colsample_bytree=1.0 will be ignored. Current value: feature_fraction=0.4973958589164525\n",
      "[LightGBM] [Warning] lambda_l2 is set=0.07106863938343458, reg_lambda=0.0 will be ignored. Current value: lambda_l2=0.07106863938343458\n",
      "[LightGBM] [Warning] bagging_freq is set=7, subsample_freq=0 will be ignored. Current value: bagging_freq=7\n",
      "[LightGBM] [Warning] bagging_fraction is set=0.9522927232590053, subsample=1.0 will be ignored. Current value: bagging_fraction=0.9522927232590053\n",
      "[LightGBM] [Warning] lambda_l1 is set=0.05616091814125676, reg_alpha=0.0 will be ignored. Current value: lambda_l1=0.05616091814125676\n",
      "[LightGBM] [Warning] feature_fraction is set=0.4973958589164525, colsample_bytree=1.0 will be ignored. Current value: feature_fraction=0.4973958589164525\n",
      "[LightGBM] [Warning] lambda_l2 is set=0.07106863938343458, reg_lambda=0.0 will be ignored. Current value: lambda_l2=0.07106863938343458\n",
      "[LightGBM] [Warning] bagging_freq is set=7, subsample_freq=0 will be ignored. Current value: bagging_freq=7\n",
      "[LightGBM] [Warning] bagging_fraction is set=0.9522927232590053, subsample=1.0 will be ignored. Current value: bagging_fraction=0.9522927232590053\n",
      "[LightGBM] [Warning] lambda_l1 is set=0.05616091814125676, reg_alpha=0.0 will be ignored. Current value: lambda_l1=0.05616091814125676\n",
      "[LightGBM] [Warning] feature_fraction is set=0.4973958589164525, colsample_bytree=1.0 will be ignored. Current value: feature_fraction=0.4973958589164525\n",
      "[LightGBM] [Warning] lambda_l2 is set=0.07106863938343458, reg_lambda=0.0 will be ignored. Current value: lambda_l2=0.07106863938343458\n",
      "[LightGBM] [Warning] bagging_freq is set=7, subsample_freq=0 will be ignored. Current value: bagging_freq=7\n"
     ]
    },
    {
     "name": "stderr",
     "output_type": "stream",
     "text": [
      "\u001b[32m[I 2023-03-15 19:54:05,668]\u001b[0m Trial 87 finished with value: 0.7427045575370934 and parameters: {'lambda_l1': 0.05616091814125676, 'lambda_l2': 0.07106863938343458, 'num_leaves': 16, 'feature_fraction': 0.4973958589164525, 'bagging_fraction': 0.9522927232590053, 'bagging_freq': 7, 'min_child_samples': 58}. Best is trial 25 with value: 0.7906928133004688.\u001b[0m\n"
     ]
    },
    {
     "name": "stdout",
     "output_type": "stream",
     "text": [
      "[LightGBM] [Warning] bagging_fraction is set=0.8488802863666525, subsample=1.0 will be ignored. Current value: bagging_fraction=0.8488802863666525\n",
      "[LightGBM] [Warning] lambda_l1 is set=0.01667808073209151, reg_alpha=0.0 will be ignored. Current value: lambda_l1=0.01667808073209151\n",
      "[LightGBM] [Warning] feature_fraction is set=0.40915164204129634, colsample_bytree=1.0 will be ignored. Current value: feature_fraction=0.40915164204129634\n",
      "[LightGBM] [Warning] lambda_l2 is set=0.6908308802351795, reg_lambda=0.0 will be ignored. Current value: lambda_l2=0.6908308802351795\n",
      "[LightGBM] [Warning] bagging_freq is set=6, subsample_freq=0 will be ignored. Current value: bagging_freq=6\n",
      "[LightGBM] [Warning] bagging_fraction is set=0.8488802863666525, subsample=1.0 will be ignored. Current value: bagging_fraction=0.8488802863666525\n",
      "[LightGBM] [Warning] lambda_l1 is set=0.01667808073209151, reg_alpha=0.0 will be ignored. Current value: lambda_l1=0.01667808073209151\n",
      "[LightGBM] [Warning] feature_fraction is set=0.40915164204129634, colsample_bytree=1.0 will be ignored. Current value: feature_fraction=0.40915164204129634\n",
      "[LightGBM] [Warning] lambda_l2 is set=0.6908308802351795, reg_lambda=0.0 will be ignored. Current value: lambda_l2=0.6908308802351795\n",
      "[LightGBM] [Warning] bagging_freq is set=6, subsample_freq=0 will be ignored. Current value: bagging_freq=6\n",
      "[LightGBM] [Warning] bagging_fraction is set=0.8488802863666525, subsample=1.0 will be ignored. Current value: bagging_fraction=0.8488802863666525\n",
      "[LightGBM] [Warning] lambda_l1 is set=0.01667808073209151, reg_alpha=0.0 will be ignored. Current value: lambda_l1=0.01667808073209151\n",
      "[LightGBM] [Warning] feature_fraction is set=0.40915164204129634, colsample_bytree=1.0 will be ignored. Current value: feature_fraction=0.40915164204129634\n",
      "[LightGBM] [Warning] lambda_l2 is set=0.6908308802351795, reg_lambda=0.0 will be ignored. Current value: lambda_l2=0.6908308802351795\n",
      "[LightGBM] [Warning] bagging_freq is set=6, subsample_freq=0 will be ignored. Current value: bagging_freq=6\n"
     ]
    },
    {
     "name": "stderr",
     "output_type": "stream",
     "text": [
      "\u001b[32m[I 2023-03-15 19:54:06,135]\u001b[0m Trial 88 finished with value: 0.7642936542458074 and parameters: {'lambda_l1': 0.01667808073209151, 'lambda_l2': 0.6908308802351795, 'num_leaves': 7, 'feature_fraction': 0.40915164204129634, 'bagging_fraction': 0.8488802863666525, 'bagging_freq': 6, 'min_child_samples': 37}. Best is trial 25 with value: 0.7906928133004688.\u001b[0m\n"
     ]
    },
    {
     "name": "stdout",
     "output_type": "stream",
     "text": [
      "[LightGBM] [Warning] bagging_fraction is set=0.8488802863666525, subsample=1.0 will be ignored. Current value: bagging_fraction=0.8488802863666525\n",
      "[LightGBM] [Warning] lambda_l1 is set=0.01667808073209151, reg_alpha=0.0 will be ignored. Current value: lambda_l1=0.01667808073209151\n",
      "[LightGBM] [Warning] feature_fraction is set=0.40915164204129634, colsample_bytree=1.0 will be ignored. Current value: feature_fraction=0.40915164204129634\n",
      "[LightGBM] [Warning] lambda_l2 is set=0.6908308802351795, reg_lambda=0.0 will be ignored. Current value: lambda_l2=0.6908308802351795\n",
      "[LightGBM] [Warning] bagging_freq is set=6, subsample_freq=0 will be ignored. Current value: bagging_freq=6\n",
      "[LightGBM] [Warning] bagging_fraction is set=0.8488802863666525, subsample=1.0 will be ignored. Current value: bagging_fraction=0.8488802863666525\n",
      "[LightGBM] [Warning] lambda_l1 is set=0.01667808073209151, reg_alpha=0.0 will be ignored. Current value: lambda_l1=0.01667808073209151\n",
      "[LightGBM] [Warning] feature_fraction is set=0.40915164204129634, colsample_bytree=1.0 will be ignored. Current value: feature_fraction=0.40915164204129634\n",
      "[LightGBM] [Warning] lambda_l2 is set=0.6908308802351795, reg_lambda=0.0 will be ignored. Current value: lambda_l2=0.6908308802351795\n",
      "[LightGBM] [Warning] bagging_freq is set=6, subsample_freq=0 will be ignored. Current value: bagging_freq=6\n",
      "[LightGBM] [Warning] bagging_fraction is set=0.9202458328890509, subsample=1.0 will be ignored. Current value: bagging_fraction=0.9202458328890509\n",
      "[LightGBM] [Warning] lambda_l1 is set=0.00718504925428862, reg_alpha=0.0 will be ignored. Current value: lambda_l1=0.00718504925428862\n",
      "[LightGBM] [Warning] feature_fraction is set=0.44994525489157916, colsample_bytree=1.0 will be ignored. Current value: feature_fraction=0.44994525489157916\n",
      "[LightGBM] [Warning] lambda_l2 is set=4.827844644930566, reg_lambda=0.0 will be ignored. Current value: lambda_l2=4.827844644930566\n",
      "[LightGBM] [Warning] bagging_freq is set=7, subsample_freq=0 will be ignored. Current value: bagging_freq=7\n",
      "[LightGBM] [Warning] bagging_fraction is set=0.9202458328890509, subsample=1.0 will be ignored. Current value: bagging_fraction=0.9202458328890509\n",
      "[LightGBM] [Warning] lambda_l1 is set=0.00718504925428862, reg_alpha=0.0 will be ignored. Current value: lambda_l1=0.00718504925428862\n",
      "[LightGBM] [Warning] feature_fraction is set=0.44994525489157916, colsample_bytree=1.0 will be ignored. Current value: feature_fraction=0.44994525489157916\n",
      "[LightGBM] [Warning] lambda_l2 is set=4.827844644930566, reg_lambda=0.0 will be ignored. Current value: lambda_l2=4.827844644930566\n",
      "[LightGBM] [Warning] bagging_freq is set=7, subsample_freq=0 will be ignored. Current value: bagging_freq=7\n",
      "[LightGBM] [Warning] bagging_fraction is set=0.9202458328890509, subsample=1.0 will be ignored. Current value: bagging_fraction=0.9202458328890509\n",
      "[LightGBM] [Warning] lambda_l1 is set=0.00718504925428862, reg_alpha=0.0 will be ignored. Current value: lambda_l1=0.00718504925428862\n",
      "[LightGBM] [Warning] feature_fraction is set=0.44994525489157916, colsample_bytree=1.0 will be ignored. Current value: feature_fraction=0.44994525489157916\n",
      "[LightGBM] [Warning] lambda_l2 is set=4.827844644930566, reg_lambda=0.0 will be ignored. Current value: lambda_l2=4.827844644930566\n",
      "[LightGBM] [Warning] bagging_freq is set=7, subsample_freq=0 will be ignored. Current value: bagging_freq=7\n",
      "[LightGBM] [Warning] bagging_fraction is set=0.9202458328890509, subsample=1.0 will be ignored. Current value: bagging_fraction=0.9202458328890509\n",
      "[LightGBM] [Warning] lambda_l1 is set=0.00718504925428862, reg_alpha=0.0 will be ignored. Current value: lambda_l1=0.00718504925428862\n",
      "[LightGBM] [Warning] feature_fraction is set=0.44994525489157916, colsample_bytree=1.0 will be ignored. Current value: feature_fraction=0.44994525489157916\n",
      "[LightGBM] [Warning] lambda_l2 is set=4.827844644930566, reg_lambda=0.0 will be ignored. Current value: lambda_l2=4.827844644930566\n",
      "[LightGBM] [Warning] bagging_freq is set=7, subsample_freq=0 will be ignored. Current value: bagging_freq=7\n",
      "[LightGBM] [Warning] bagging_fraction is set=0.9202458328890509, subsample=1.0 will be ignored. Current value: bagging_fraction=0.9202458328890509\n",
      "[LightGBM] [Warning] lambda_l1 is set=0.00718504925428862, reg_alpha=0.0 will be ignored. Current value: lambda_l1=0.00718504925428862\n",
      "[LightGBM] [Warning] feature_fraction is set=0.44994525489157916, colsample_bytree=1.0 will be ignored. Current value: feature_fraction=0.44994525489157916\n",
      "[LightGBM] [Warning] lambda_l2 is set=4.827844644930566, reg_lambda=0.0 will be ignored. Current value: lambda_l2=4.827844644930566\n",
      "[LightGBM] [Warning] bagging_freq is set=7, subsample_freq=0 will be ignored. Current value: bagging_freq=7\n"
     ]
    },
    {
     "name": "stderr",
     "output_type": "stream",
     "text": [
      "\u001b[32m[I 2023-03-15 19:54:06,682]\u001b[0m Trial 89 finished with value: 0.7571684031014174 and parameters: {'lambda_l1': 0.00718504925428862, 'lambda_l2': 4.827844644930566, 'num_leaves': 44, 'feature_fraction': 0.44994525489157916, 'bagging_fraction': 0.9202458328890509, 'bagging_freq': 7, 'min_child_samples': 81}. Best is trial 25 with value: 0.7906928133004688.\u001b[0m\n"
     ]
    },
    {
     "name": "stdout",
     "output_type": "stream",
     "text": [
      "[LightGBM] [Warning] bagging_fraction is set=0.8689662342397222, subsample=1.0 will be ignored. Current value: bagging_fraction=0.8689662342397222\n",
      "[LightGBM] [Warning] lambda_l1 is set=0.18914988192547053, reg_alpha=0.0 will be ignored. Current value: lambda_l1=0.18914988192547053\n",
      "[LightGBM] [Warning] feature_fraction is set=0.42815267001380247, colsample_bytree=1.0 will be ignored. Current value: feature_fraction=0.42815267001380247\n",
      "[LightGBM] [Warning] lambda_l2 is set=0.03443129271477132, reg_lambda=0.0 will be ignored. Current value: lambda_l2=0.03443129271477132\n",
      "[LightGBM] [Warning] bagging_freq is set=4, subsample_freq=0 will be ignored. Current value: bagging_freq=4\n",
      "[LightGBM] [Warning] bagging_fraction is set=0.8689662342397222, subsample=1.0 will be ignored. Current value: bagging_fraction=0.8689662342397222\n",
      "[LightGBM] [Warning] lambda_l1 is set=0.18914988192547053, reg_alpha=0.0 will be ignored. Current value: lambda_l1=0.18914988192547053\n",
      "[LightGBM] [Warning] feature_fraction is set=0.42815267001380247, colsample_bytree=1.0 will be ignored. Current value: feature_fraction=0.42815267001380247\n",
      "[LightGBM] [Warning] lambda_l2 is set=0.03443129271477132, reg_lambda=0.0 will be ignored. Current value: lambda_l2=0.03443129271477132\n",
      "[LightGBM] [Warning] bagging_freq is set=4, subsample_freq=0 will be ignored. Current value: bagging_freq=4\n",
      "[LightGBM] [Warning] bagging_fraction is set=0.8689662342397222, subsample=1.0 will be ignored. Current value: bagging_fraction=0.8689662342397222\n",
      "[LightGBM] [Warning] lambda_l1 is set=0.18914988192547053, reg_alpha=0.0 will be ignored. Current value: lambda_l1=0.18914988192547053\n",
      "[LightGBM] [Warning] feature_fraction is set=0.42815267001380247, colsample_bytree=1.0 will be ignored. Current value: feature_fraction=0.42815267001380247\n",
      "[LightGBM] [Warning] lambda_l2 is set=0.03443129271477132, reg_lambda=0.0 will be ignored. Current value: lambda_l2=0.03443129271477132\n",
      "[LightGBM] [Warning] bagging_freq is set=4, subsample_freq=0 will be ignored. Current value: bagging_freq=4\n",
      "[LightGBM] [Warning] bagging_fraction is set=0.8689662342397222, subsample=1.0 will be ignored. Current value: bagging_fraction=0.8689662342397222\n",
      "[LightGBM] [Warning] lambda_l1 is set=0.18914988192547053, reg_alpha=0.0 will be ignored. Current value: lambda_l1=0.18914988192547053\n",
      "[LightGBM] [Warning] feature_fraction is set=0.42815267001380247, colsample_bytree=1.0 will be ignored. Current value: feature_fraction=0.42815267001380247\n",
      "[LightGBM] [Warning] lambda_l2 is set=0.03443129271477132, reg_lambda=0.0 will be ignored. Current value: lambda_l2=0.03443129271477132\n",
      "[LightGBM] [Warning] bagging_freq is set=4, subsample_freq=0 will be ignored. Current value: bagging_freq=4\n",
      "[LightGBM] [Warning] bagging_fraction is set=0.8689662342397222, subsample=1.0 will be ignored. Current value: bagging_fraction=0.8689662342397222\n",
      "[LightGBM] [Warning] lambda_l1 is set=0.18914988192547053, reg_alpha=0.0 will be ignored. Current value: lambda_l1=0.18914988192547053\n",
      "[LightGBM] [Warning] feature_fraction is set=0.42815267001380247, colsample_bytree=1.0 will be ignored. Current value: feature_fraction=0.42815267001380247\n",
      "[LightGBM] [Warning] lambda_l2 is set=0.03443129271477132, reg_lambda=0.0 will be ignored. Current value: lambda_l2=0.03443129271477132\n",
      "[LightGBM] [Warning] bagging_freq is set=4, subsample_freq=0 will be ignored. Current value: bagging_freq=4\n"
     ]
    },
    {
     "name": "stderr",
     "output_type": "stream",
     "text": [
      "\u001b[32m[I 2023-03-15 19:54:08,084]\u001b[0m Trial 90 finished with value: 0.7448175362649048 and parameters: {'lambda_l1': 0.18914988192547053, 'lambda_l2': 0.03443129271477132, 'num_leaves': 35, 'feature_fraction': 0.42815267001380247, 'bagging_fraction': 0.8689662342397222, 'bagging_freq': 4, 'min_child_samples': 95}. Best is trial 25 with value: 0.7906928133004688.\u001b[0m\n"
     ]
    },
    {
     "name": "stdout",
     "output_type": "stream",
     "text": [
      "[LightGBM] [Warning] bagging_fraction is set=0.8989052222797795, subsample=1.0 will be ignored. Current value: bagging_fraction=0.8989052222797795\n",
      "[LightGBM] [Warning] lambda_l1 is set=0.12045374642464439, reg_alpha=0.0 will be ignored. Current value: lambda_l1=0.12045374642464439\n",
      "[LightGBM] [Warning] feature_fraction is set=0.43316647699416777, colsample_bytree=1.0 will be ignored. Current value: feature_fraction=0.43316647699416777\n",
      "[LightGBM] [Warning] lambda_l2 is set=0.28949478220498637, reg_lambda=0.0 will be ignored. Current value: lambda_l2=0.28949478220498637\n",
      "[LightGBM] [Warning] bagging_freq is set=6, subsample_freq=0 will be ignored. Current value: bagging_freq=6\n",
      "[LightGBM] [Warning] bagging_fraction is set=0.8989052222797795, subsample=1.0 will be ignored. Current value: bagging_fraction=0.8989052222797795\n",
      "[LightGBM] [Warning] lambda_l1 is set=0.12045374642464439, reg_alpha=0.0 will be ignored. Current value: lambda_l1=0.12045374642464439\n",
      "[LightGBM] [Warning] feature_fraction is set=0.43316647699416777, colsample_bytree=1.0 will be ignored. Current value: feature_fraction=0.43316647699416777\n",
      "[LightGBM] [Warning] lambda_l2 is set=0.28949478220498637, reg_lambda=0.0 will be ignored. Current value: lambda_l2=0.28949478220498637\n",
      "[LightGBM] [Warning] bagging_freq is set=6, subsample_freq=0 will be ignored. Current value: bagging_freq=6\n",
      "[LightGBM] [Warning] bagging_fraction is set=0.8989052222797795, subsample=1.0 will be ignored. Current value: bagging_fraction=0.8989052222797795\n",
      "[LightGBM] [Warning] lambda_l1 is set=0.12045374642464439, reg_alpha=0.0 will be ignored. Current value: lambda_l1=0.12045374642464439\n",
      "[LightGBM] [Warning] feature_fraction is set=0.43316647699416777, colsample_bytree=1.0 will be ignored. Current value: feature_fraction=0.43316647699416777\n",
      "[LightGBM] [Warning] lambda_l2 is set=0.28949478220498637, reg_lambda=0.0 will be ignored. Current value: lambda_l2=0.28949478220498637\n",
      "[LightGBM] [Warning] bagging_freq is set=6, subsample_freq=0 will be ignored. Current value: bagging_freq=6\n",
      "[LightGBM] [Warning] bagging_fraction is set=0.8989052222797795, subsample=1.0 will be ignored. Current value: bagging_fraction=0.8989052222797795\n",
      "[LightGBM] [Warning] lambda_l1 is set=0.12045374642464439, reg_alpha=0.0 will be ignored. Current value: lambda_l1=0.12045374642464439\n",
      "[LightGBM] [Warning] feature_fraction is set=0.43316647699416777, colsample_bytree=1.0 will be ignored. Current value: feature_fraction=0.43316647699416777\n",
      "[LightGBM] [Warning] lambda_l2 is set=0.28949478220498637, reg_lambda=0.0 will be ignored. Current value: lambda_l2=0.28949478220498637\n",
      "[LightGBM] [Warning] bagging_freq is set=6, subsample_freq=0 will be ignored. Current value: bagging_freq=6\n"
     ]
    },
    {
     "name": "stderr",
     "output_type": "stream",
     "text": [
      "\u001b[32m[I 2023-03-15 19:54:08,424]\u001b[0m Trial 91 finished with value: 0.772758859959817 and parameters: {'lambda_l1': 0.12045374642464439, 'lambda_l2': 0.28949478220498637, 'num_leaves': 3, 'feature_fraction': 0.43316647699416777, 'bagging_fraction': 0.8989052222797795, 'bagging_freq': 6, 'min_child_samples': 93}. Best is trial 25 with value: 0.7906928133004688.\u001b[0m\n"
     ]
    },
    {
     "name": "stdout",
     "output_type": "stream",
     "text": [
      "[LightGBM] [Warning] bagging_fraction is set=0.8989052222797795, subsample=1.0 will be ignored. Current value: bagging_fraction=0.8989052222797795\n",
      "[LightGBM] [Warning] lambda_l1 is set=0.12045374642464439, reg_alpha=0.0 will be ignored. Current value: lambda_l1=0.12045374642464439\n",
      "[LightGBM] [Warning] feature_fraction is set=0.43316647699416777, colsample_bytree=1.0 will be ignored. Current value: feature_fraction=0.43316647699416777\n",
      "[LightGBM] [Warning] lambda_l2 is set=0.28949478220498637, reg_lambda=0.0 will be ignored. Current value: lambda_l2=0.28949478220498637\n",
      "[LightGBM] [Warning] bagging_freq is set=6, subsample_freq=0 will be ignored. Current value: bagging_freq=6\n",
      "[LightGBM] [Warning] bagging_fraction is set=0.9076716720648489, subsample=1.0 will be ignored. Current value: bagging_fraction=0.9076716720648489\n",
      "[LightGBM] [Warning] lambda_l1 is set=0.7080741592783104, reg_alpha=0.0 will be ignored. Current value: lambda_l1=0.7080741592783104\n",
      "[LightGBM] [Warning] feature_fraction is set=0.42360009739590543, colsample_bytree=1.0 will be ignored. Current value: feature_fraction=0.42360009739590543\n",
      "[LightGBM] [Warning] lambda_l2 is set=0.15883373620936223, reg_lambda=0.0 will be ignored. Current value: lambda_l2=0.15883373620936223\n",
      "[LightGBM] [Warning] bagging_freq is set=6, subsample_freq=0 will be ignored. Current value: bagging_freq=6\n",
      "[LightGBM] [Warning] bagging_fraction is set=0.9076716720648489, subsample=1.0 will be ignored. Current value: bagging_fraction=0.9076716720648489\n",
      "[LightGBM] [Warning] lambda_l1 is set=0.7080741592783104, reg_alpha=0.0 will be ignored. Current value: lambda_l1=0.7080741592783104\n",
      "[LightGBM] [Warning] feature_fraction is set=0.42360009739590543, colsample_bytree=1.0 will be ignored. Current value: feature_fraction=0.42360009739590543\n",
      "[LightGBM] [Warning] lambda_l2 is set=0.15883373620936223, reg_lambda=0.0 will be ignored. Current value: lambda_l2=0.15883373620936223\n",
      "[LightGBM] [Warning] bagging_freq is set=6, subsample_freq=0 will be ignored. Current value: bagging_freq=6\n"
     ]
    },
    {
     "name": "stderr",
     "output_type": "stream",
     "text": [
      "\u001b[32m[I 2023-03-15 19:54:08,719]\u001b[0m Trial 92 finished with value: 0.7847027175376458 and parameters: {'lambda_l1': 0.7080741592783104, 'lambda_l2': 0.15883373620936223, 'num_leaves': 2, 'feature_fraction': 0.42360009739590543, 'bagging_fraction': 0.9076716720648489, 'bagging_freq': 6, 'min_child_samples': 85}. Best is trial 25 with value: 0.7906928133004688.\u001b[0m\n"
     ]
    },
    {
     "name": "stdout",
     "output_type": "stream",
     "text": [
      "[LightGBM] [Warning] bagging_fraction is set=0.9076716720648489, subsample=1.0 will be ignored. Current value: bagging_fraction=0.9076716720648489\n",
      "[LightGBM] [Warning] lambda_l1 is set=0.7080741592783104, reg_alpha=0.0 will be ignored. Current value: lambda_l1=0.7080741592783104\n",
      "[LightGBM] [Warning] feature_fraction is set=0.42360009739590543, colsample_bytree=1.0 will be ignored. Current value: feature_fraction=0.42360009739590543\n",
      "[LightGBM] [Warning] lambda_l2 is set=0.15883373620936223, reg_lambda=0.0 will be ignored. Current value: lambda_l2=0.15883373620936223\n",
      "[LightGBM] [Warning] bagging_freq is set=6, subsample_freq=0 will be ignored. Current value: bagging_freq=6\n",
      "[LightGBM] [Warning] bagging_fraction is set=0.9076716720648489, subsample=1.0 will be ignored. Current value: bagging_fraction=0.9076716720648489\n",
      "[LightGBM] [Warning] lambda_l1 is set=0.7080741592783104, reg_alpha=0.0 will be ignored. Current value: lambda_l1=0.7080741592783104\n",
      "[LightGBM] [Warning] feature_fraction is set=0.42360009739590543, colsample_bytree=1.0 will be ignored. Current value: feature_fraction=0.42360009739590543\n",
      "[LightGBM] [Warning] lambda_l2 is set=0.15883373620936223, reg_lambda=0.0 will be ignored. Current value: lambda_l2=0.15883373620936223\n",
      "[LightGBM] [Warning] bagging_freq is set=6, subsample_freq=0 will be ignored. Current value: bagging_freq=6\n",
      "[LightGBM] [Warning] bagging_fraction is set=0.9076716720648489, subsample=1.0 will be ignored. Current value: bagging_fraction=0.9076716720648489\n",
      "[LightGBM] [Warning] lambda_l1 is set=0.7080741592783104, reg_alpha=0.0 will be ignored. Current value: lambda_l1=0.7080741592783104\n",
      "[LightGBM] [Warning] feature_fraction is set=0.42360009739590543, colsample_bytree=1.0 will be ignored. Current value: feature_fraction=0.42360009739590543\n",
      "[LightGBM] [Warning] lambda_l2 is set=0.15883373620936223, reg_lambda=0.0 will be ignored. Current value: lambda_l2=0.15883373620936223\n",
      "[LightGBM] [Warning] bagging_freq is set=6, subsample_freq=0 will be ignored. Current value: bagging_freq=6\n",
      "[LightGBM] [Warning] bagging_fraction is set=0.9482057203445127, subsample=1.0 will be ignored. Current value: bagging_fraction=0.9482057203445127\n",
      "[LightGBM] [Warning] lambda_l1 is set=0.7106323866592915, reg_alpha=0.0 will be ignored. Current value: lambda_l1=0.7106323866592915\n",
      "[LightGBM] [Warning] feature_fraction is set=0.411328972630086, colsample_bytree=1.0 will be ignored. Current value: feature_fraction=0.411328972630086\n",
      "[LightGBM] [Warning] lambda_l2 is set=0.15664081019975473, reg_lambda=0.0 will be ignored. Current value: lambda_l2=0.15664081019975473\n",
      "[LightGBM] [Warning] bagging_freq is set=6, subsample_freq=0 will be ignored. Current value: bagging_freq=6\n",
      "[LightGBM] [Warning] bagging_fraction is set=0.9482057203445127, subsample=1.0 will be ignored. Current value: bagging_fraction=0.9482057203445127\n",
      "[LightGBM] [Warning] lambda_l1 is set=0.7106323866592915, reg_alpha=0.0 will be ignored. Current value: lambda_l1=0.7106323866592915\n",
      "[LightGBM] [Warning] feature_fraction is set=0.411328972630086, colsample_bytree=1.0 will be ignored. Current value: feature_fraction=0.411328972630086\n",
      "[LightGBM] [Warning] lambda_l2 is set=0.15664081019975473, reg_lambda=0.0 will be ignored. Current value: lambda_l2=0.15664081019975473\n",
      "[LightGBM] [Warning] bagging_freq is set=6, subsample_freq=0 will be ignored. Current value: bagging_freq=6\n",
      "[LightGBM] [Warning] bagging_fraction is set=0.9482057203445127, subsample=1.0 will be ignored. Current value: bagging_fraction=0.9482057203445127\n",
      "[LightGBM] [Warning] lambda_l1 is set=0.7106323866592915, reg_alpha=0.0 will be ignored. Current value: lambda_l1=0.7106323866592915\n",
      "[LightGBM] [Warning] feature_fraction is set=0.411328972630086, colsample_bytree=1.0 will be ignored. Current value: feature_fraction=0.411328972630086\n",
      "[LightGBM] [Warning] lambda_l2 is set=0.15664081019975473, reg_lambda=0.0 will be ignored. Current value: lambda_l2=0.15664081019975473\n",
      "[LightGBM] [Warning] bagging_freq is set=6, subsample_freq=0 will be ignored. Current value: bagging_freq=6\n",
      "[LightGBM] [Warning] bagging_fraction is set=0.9482057203445127, subsample=1.0 will be ignored. Current value: bagging_fraction=0.9482057203445127\n",
      "[LightGBM] [Warning] lambda_l1 is set=0.7106323866592915, reg_alpha=0.0 will be ignored. Current value: lambda_l1=0.7106323866592915\n",
      "[LightGBM] [Warning] feature_fraction is set=0.411328972630086, colsample_bytree=1.0 will be ignored. Current value: feature_fraction=0.411328972630086\n",
      "[LightGBM] [Warning] lambda_l2 is set=0.15664081019975473, reg_lambda=0.0 will be ignored. Current value: lambda_l2=0.15664081019975473\n",
      "[LightGBM] [Warning] bagging_freq is set=6, subsample_freq=0 will be ignored. Current value: bagging_freq=6\n"
     ]
    },
    {
     "name": "stderr",
     "output_type": "stream",
     "text": [
      "\u001b[32m[I 2023-03-15 19:54:09,233]\u001b[0m Trial 93 finished with value: 0.7456790219350028 and parameters: {'lambda_l1': 0.7106323866592915, 'lambda_l2': 0.15664081019975473, 'num_leaves': 15, 'feature_fraction': 0.411328972630086, 'bagging_fraction': 0.9482057203445127, 'bagging_freq': 6, 'min_child_samples': 85}. Best is trial 25 with value: 0.7906928133004688.\u001b[0m\n"
     ]
    },
    {
     "name": "stdout",
     "output_type": "stream",
     "text": [
      "[LightGBM] [Warning] bagging_fraction is set=0.9482057203445127, subsample=1.0 will be ignored. Current value: bagging_fraction=0.9482057203445127\n",
      "[LightGBM] [Warning] lambda_l1 is set=0.7106323866592915, reg_alpha=0.0 will be ignored. Current value: lambda_l1=0.7106323866592915\n",
      "[LightGBM] [Warning] feature_fraction is set=0.411328972630086, colsample_bytree=1.0 will be ignored. Current value: feature_fraction=0.411328972630086\n",
      "[LightGBM] [Warning] lambda_l2 is set=0.15664081019975473, reg_lambda=0.0 will be ignored. Current value: lambda_l2=0.15664081019975473\n",
      "[LightGBM] [Warning] bagging_freq is set=6, subsample_freq=0 will be ignored. Current value: bagging_freq=6\n",
      "[LightGBM] [Warning] bagging_fraction is set=0.9845048233253753, subsample=1.0 will be ignored. Current value: bagging_fraction=0.9845048233253753\n",
      "[LightGBM] [Warning] lambda_l1 is set=0.3871124192177969, reg_alpha=0.0 will be ignored. Current value: lambda_l1=0.3871124192177969\n",
      "[LightGBM] [Warning] feature_fraction is set=0.46864306128967903, colsample_bytree=1.0 will be ignored. Current value: feature_fraction=0.46864306128967903\n",
      "[LightGBM] [Warning] lambda_l2 is set=0.10365545408568562, reg_lambda=0.0 will be ignored. Current value: lambda_l2=0.10365545408568562\n",
      "[LightGBM] [Warning] bagging_freq is set=6, subsample_freq=0 will be ignored. Current value: bagging_freq=6\n",
      "[LightGBM] [Warning] bagging_fraction is set=0.9845048233253753, subsample=1.0 will be ignored. Current value: bagging_fraction=0.9845048233253753\n",
      "[LightGBM] [Warning] lambda_l1 is set=0.3871124192177969, reg_alpha=0.0 will be ignored. Current value: lambda_l1=0.3871124192177969\n",
      "[LightGBM] [Warning] feature_fraction is set=0.46864306128967903, colsample_bytree=1.0 will be ignored. Current value: feature_fraction=0.46864306128967903\n",
      "[LightGBM] [Warning] lambda_l2 is set=0.10365545408568562, reg_lambda=0.0 will be ignored. Current value: lambda_l2=0.10365545408568562\n",
      "[LightGBM] [Warning] bagging_freq is set=6, subsample_freq=0 will be ignored. Current value: bagging_freq=6\n",
      "[LightGBM] [Warning] bagging_fraction is set=0.9845048233253753, subsample=1.0 will be ignored. Current value: bagging_fraction=0.9845048233253753\n",
      "[LightGBM] [Warning] lambda_l1 is set=0.3871124192177969, reg_alpha=0.0 will be ignored. Current value: lambda_l1=0.3871124192177969\n",
      "[LightGBM] [Warning] feature_fraction is set=0.46864306128967903, colsample_bytree=1.0 will be ignored. Current value: feature_fraction=0.46864306128967903\n",
      "[LightGBM] [Warning] lambda_l2 is set=0.10365545408568562, reg_lambda=0.0 will be ignored. Current value: lambda_l2=0.10365545408568562\n",
      "[LightGBM] [Warning] bagging_freq is set=6, subsample_freq=0 will be ignored. Current value: bagging_freq=6\n",
      "[LightGBM] [Warning] bagging_fraction is set=0.9845048233253753, subsample=1.0 will be ignored. Current value: bagging_fraction=0.9845048233253753\n",
      "[LightGBM] [Warning] lambda_l1 is set=0.3871124192177969, reg_alpha=0.0 will be ignored. Current value: lambda_l1=0.3871124192177969\n",
      "[LightGBM] [Warning] feature_fraction is set=0.46864306128967903, colsample_bytree=1.0 will be ignored. Current value: feature_fraction=0.46864306128967903\n",
      "[LightGBM] [Warning] lambda_l2 is set=0.10365545408568562, reg_lambda=0.0 will be ignored. Current value: lambda_l2=0.10365545408568562\n",
      "[LightGBM] [Warning] bagging_freq is set=6, subsample_freq=0 will be ignored. Current value: bagging_freq=6\n"
     ]
    },
    {
     "name": "stderr",
     "output_type": "stream",
     "text": [
      "\u001b[32m[I 2023-03-15 19:54:10,179]\u001b[0m Trial 94 finished with value: 0.7436589062187148 and parameters: {'lambda_l1': 0.3871124192177969, 'lambda_l2': 0.10365545408568562, 'num_leaves': 24, 'feature_fraction': 0.46864306128967903, 'bagging_fraction': 0.9845048233253753, 'bagging_freq': 6, 'min_child_samples': 98}. Best is trial 25 with value: 0.7906928133004688.\u001b[0m\n"
     ]
    },
    {
     "name": "stdout",
     "output_type": "stream",
     "text": [
      "[LightGBM] [Warning] bagging_fraction is set=0.9845048233253753, subsample=1.0 will be ignored. Current value: bagging_fraction=0.9845048233253753\n",
      "[LightGBM] [Warning] lambda_l1 is set=0.3871124192177969, reg_alpha=0.0 will be ignored. Current value: lambda_l1=0.3871124192177969\n",
      "[LightGBM] [Warning] feature_fraction is set=0.46864306128967903, colsample_bytree=1.0 will be ignored. Current value: feature_fraction=0.46864306128967903\n",
      "[LightGBM] [Warning] lambda_l2 is set=0.10365545408568562, reg_lambda=0.0 will be ignored. Current value: lambda_l2=0.10365545408568562\n",
      "[LightGBM] [Warning] bagging_freq is set=6, subsample_freq=0 will be ignored. Current value: bagging_freq=6\n",
      "[LightGBM] [Warning] bagging_fraction is set=0.9119150062251645, subsample=1.0 will be ignored. Current value: bagging_fraction=0.9119150062251645\n",
      "[LightGBM] [Warning] lambda_l1 is set=1.6446227515476315, reg_alpha=0.0 will be ignored. Current value: lambda_l1=1.6446227515476315\n",
      "[LightGBM] [Warning] feature_fraction is set=0.4488750550752302, colsample_bytree=1.0 will be ignored. Current value: feature_fraction=0.4488750550752302\n",
      "[LightGBM] [Warning] lambda_l2 is set=0.5095301661028133, reg_lambda=0.0 will be ignored. Current value: lambda_l2=0.5095301661028133\n",
      "[LightGBM] [Warning] bagging_freq is set=5, subsample_freq=0 will be ignored. Current value: bagging_freq=5\n",
      "[LightGBM] [Warning] bagging_fraction is set=0.9119150062251645, subsample=1.0 will be ignored. Current value: bagging_fraction=0.9119150062251645\n",
      "[LightGBM] [Warning] lambda_l1 is set=1.6446227515476315, reg_alpha=0.0 will be ignored. Current value: lambda_l1=1.6446227515476315\n",
      "[LightGBM] [Warning] feature_fraction is set=0.4488750550752302, colsample_bytree=1.0 will be ignored. Current value: feature_fraction=0.4488750550752302\n",
      "[LightGBM] [Warning] lambda_l2 is set=0.5095301661028133, reg_lambda=0.0 will be ignored. Current value: lambda_l2=0.5095301661028133\n",
      "[LightGBM] [Warning] bagging_freq is set=5, subsample_freq=0 will be ignored. Current value: bagging_freq=5\n",
      "[LightGBM] [Warning] bagging_fraction is set=0.9119150062251645, subsample=1.0 will be ignored. Current value: bagging_fraction=0.9119150062251645\n",
      "[LightGBM] [Warning] lambda_l1 is set=1.6446227515476315, reg_alpha=0.0 will be ignored. Current value: lambda_l1=1.6446227515476315\n",
      "[LightGBM] [Warning] feature_fraction is set=0.4488750550752302, colsample_bytree=1.0 will be ignored. Current value: feature_fraction=0.4488750550752302\n",
      "[LightGBM] [Warning] lambda_l2 is set=0.5095301661028133, reg_lambda=0.0 will be ignored. Current value: lambda_l2=0.5095301661028133\n",
      "[LightGBM] [Warning] bagging_freq is set=5, subsample_freq=0 will be ignored. Current value: bagging_freq=5\n",
      "[LightGBM] [Warning] bagging_fraction is set=0.9119150062251645, subsample=1.0 will be ignored. Current value: bagging_fraction=0.9119150062251645\n",
      "[LightGBM] [Warning] lambda_l1 is set=1.6446227515476315, reg_alpha=0.0 will be ignored. Current value: lambda_l1=1.6446227515476315\n",
      "[LightGBM] [Warning] feature_fraction is set=0.4488750550752302, colsample_bytree=1.0 will be ignored. Current value: feature_fraction=0.4488750550752302\n",
      "[LightGBM] [Warning] lambda_l2 is set=0.5095301661028133, reg_lambda=0.0 will be ignored. Current value: lambda_l2=0.5095301661028133\n",
      "[LightGBM] [Warning] bagging_freq is set=5, subsample_freq=0 will be ignored. Current value: bagging_freq=5\n"
     ]
    },
    {
     "name": "stderr",
     "output_type": "stream",
     "text": [
      "\u001b[32m[I 2023-03-15 19:54:10,665]\u001b[0m Trial 95 finished with value: 0.7554129814895366 and parameters: {'lambda_l1': 1.6446227515476315, 'lambda_l2': 0.5095301661028133, 'num_leaves': 7, 'feature_fraction': 0.4488750550752302, 'bagging_fraction': 0.9119150062251645, 'bagging_freq': 5, 'min_child_samples': 88}. Best is trial 25 with value: 0.7906928133004688.\u001b[0m\n"
     ]
    },
    {
     "name": "stdout",
     "output_type": "stream",
     "text": [
      "[LightGBM] [Warning] bagging_fraction is set=0.9119150062251645, subsample=1.0 will be ignored. Current value: bagging_fraction=0.9119150062251645\n",
      "[LightGBM] [Warning] lambda_l1 is set=1.6446227515476315, reg_alpha=0.0 will be ignored. Current value: lambda_l1=1.6446227515476315\n",
      "[LightGBM] [Warning] feature_fraction is set=0.4488750550752302, colsample_bytree=1.0 will be ignored. Current value: feature_fraction=0.4488750550752302\n",
      "[LightGBM] [Warning] lambda_l2 is set=0.5095301661028133, reg_lambda=0.0 will be ignored. Current value: lambda_l2=0.5095301661028133\n",
      "[LightGBM] [Warning] bagging_freq is set=5, subsample_freq=0 will be ignored. Current value: bagging_freq=5\n",
      "[LightGBM] [Warning] bagging_fraction is set=0.9350839387382577, subsample=1.0 will be ignored. Current value: bagging_fraction=0.9350839387382577\n",
      "[LightGBM] [Warning] lambda_l1 is set=0.03254718965285599, reg_alpha=0.0 will be ignored. Current value: lambda_l1=0.03254718965285599\n",
      "[LightGBM] [Warning] feature_fraction is set=0.422575629757421, colsample_bytree=1.0 will be ignored. Current value: feature_fraction=0.422575629757421\n",
      "[LightGBM] [Warning] lambda_l2 is set=1.2036323240915492, reg_lambda=0.0 will be ignored. Current value: lambda_l2=1.2036323240915492\n",
      "[LightGBM] [Warning] bagging_freq is set=6, subsample_freq=0 will be ignored. Current value: bagging_freq=6\n",
      "[LightGBM] [Warning] bagging_fraction is set=0.9350839387382577, subsample=1.0 will be ignored. Current value: bagging_fraction=0.9350839387382577\n",
      "[LightGBM] [Warning] lambda_l1 is set=0.03254718965285599, reg_alpha=0.0 will be ignored. Current value: lambda_l1=0.03254718965285599\n",
      "[LightGBM] [Warning] feature_fraction is set=0.422575629757421, colsample_bytree=1.0 will be ignored. Current value: feature_fraction=0.422575629757421\n",
      "[LightGBM] [Warning] lambda_l2 is set=1.2036323240915492, reg_lambda=0.0 will be ignored. Current value: lambda_l2=1.2036323240915492\n",
      "[LightGBM] [Warning] bagging_freq is set=6, subsample_freq=0 will be ignored. Current value: bagging_freq=6\n",
      "[LightGBM] [Warning] bagging_fraction is set=0.9350839387382577, subsample=1.0 will be ignored. Current value: bagging_fraction=0.9350839387382577\n",
      "[LightGBM] [Warning] lambda_l1 is set=0.03254718965285599, reg_alpha=0.0 will be ignored. Current value: lambda_l1=0.03254718965285599\n",
      "[LightGBM] [Warning] feature_fraction is set=0.422575629757421, colsample_bytree=1.0 will be ignored. Current value: feature_fraction=0.422575629757421\n",
      "[LightGBM] [Warning] lambda_l2 is set=1.2036323240915492, reg_lambda=0.0 will be ignored. Current value: lambda_l2=1.2036323240915492\n",
      "[LightGBM] [Warning] bagging_freq is set=6, subsample_freq=0 will be ignored. Current value: bagging_freq=6\n",
      "[LightGBM] [Warning] bagging_fraction is set=0.9350839387382577, subsample=1.0 will be ignored. Current value: bagging_fraction=0.9350839387382577\n",
      "[LightGBM] [Warning] lambda_l1 is set=0.03254718965285599, reg_alpha=0.0 will be ignored. Current value: lambda_l1=0.03254718965285599\n",
      "[LightGBM] [Warning] feature_fraction is set=0.422575629757421, colsample_bytree=1.0 will be ignored. Current value: feature_fraction=0.422575629757421\n",
      "[LightGBM] [Warning] lambda_l2 is set=1.2036323240915492, reg_lambda=0.0 will be ignored. Current value: lambda_l2=1.2036323240915492\n",
      "[LightGBM] [Warning] bagging_freq is set=6, subsample_freq=0 will be ignored. Current value: bagging_freq=6\n"
     ]
    },
    {
     "name": "stderr",
     "output_type": "stream",
     "text": [
      "\u001b[32m[I 2023-03-15 19:54:11,213]\u001b[0m Trial 96 finished with value: 0.7426545875708555 and parameters: {'lambda_l1': 0.03254718965285599, 'lambda_l2': 1.2036323240915492, 'num_leaves': 14, 'feature_fraction': 0.422575629757421, 'bagging_fraction': 0.9350839387382577, 'bagging_freq': 6, 'min_child_samples': 79}. Best is trial 25 with value: 0.7906928133004688.\u001b[0m\n"
     ]
    },
    {
     "name": "stdout",
     "output_type": "stream",
     "text": [
      "[LightGBM] [Warning] bagging_fraction is set=0.9350839387382577, subsample=1.0 will be ignored. Current value: bagging_fraction=0.9350839387382577\n",
      "[LightGBM] [Warning] lambda_l1 is set=0.03254718965285599, reg_alpha=0.0 will be ignored. Current value: lambda_l1=0.03254718965285599\n",
      "[LightGBM] [Warning] feature_fraction is set=0.422575629757421, colsample_bytree=1.0 will be ignored. Current value: feature_fraction=0.422575629757421\n",
      "[LightGBM] [Warning] lambda_l2 is set=1.2036323240915492, reg_lambda=0.0 will be ignored. Current value: lambda_l2=1.2036323240915492\n",
      "[LightGBM] [Warning] bagging_freq is set=6, subsample_freq=0 will be ignored. Current value: bagging_freq=6\n",
      "[LightGBM] [Warning] bagging_fraction is set=0.96812512847953, subsample=1.0 will be ignored. Current value: bagging_fraction=0.96812512847953\n",
      "[LightGBM] [Warning] lambda_l1 is set=0.22319356727871045, reg_alpha=0.0 will be ignored. Current value: lambda_l1=0.22319356727871045\n",
      "[LightGBM] [Warning] feature_fraction is set=0.4014551497114172, colsample_bytree=1.0 will be ignored. Current value: feature_fraction=0.4014551497114172\n",
      "[LightGBM] [Warning] lambda_l2 is set=0.018872924336249847, reg_lambda=0.0 will be ignored. Current value: lambda_l2=0.018872924336249847\n",
      "[LightGBM] [Warning] bagging_freq is set=7, subsample_freq=0 will be ignored. Current value: bagging_freq=7\n",
      "[LightGBM] [Warning] bagging_fraction is set=0.96812512847953, subsample=1.0 will be ignored. Current value: bagging_fraction=0.96812512847953\n",
      "[LightGBM] [Warning] lambda_l1 is set=0.22319356727871045, reg_alpha=0.0 will be ignored. Current value: lambda_l1=0.22319356727871045\n",
      "[LightGBM] [Warning] feature_fraction is set=0.4014551497114172, colsample_bytree=1.0 will be ignored. Current value: feature_fraction=0.4014551497114172\n",
      "[LightGBM] [Warning] lambda_l2 is set=0.018872924336249847, reg_lambda=0.0 will be ignored. Current value: lambda_l2=0.018872924336249847\n",
      "[LightGBM] [Warning] bagging_freq is set=7, subsample_freq=0 will be ignored. Current value: bagging_freq=7\n",
      "[LightGBM] [Warning] bagging_fraction is set=0.96812512847953, subsample=1.0 will be ignored. Current value: bagging_fraction=0.96812512847953\n",
      "[LightGBM] [Warning] lambda_l1 is set=0.22319356727871045, reg_alpha=0.0 will be ignored. Current value: lambda_l1=0.22319356727871045\n",
      "[LightGBM] [Warning] feature_fraction is set=0.4014551497114172, colsample_bytree=1.0 will be ignored. Current value: feature_fraction=0.4014551497114172\n",
      "[LightGBM] [Warning] lambda_l2 is set=0.018872924336249847, reg_lambda=0.0 will be ignored. Current value: lambda_l2=0.018872924336249847\n",
      "[LightGBM] [Warning] bagging_freq is set=7, subsample_freq=0 will be ignored. Current value: bagging_freq=7\n",
      "[LightGBM] [Warning] bagging_fraction is set=0.96812512847953, subsample=1.0 will be ignored. Current value: bagging_fraction=0.96812512847953\n",
      "[LightGBM] [Warning] lambda_l1 is set=0.22319356727871045, reg_alpha=0.0 will be ignored. Current value: lambda_l1=0.22319356727871045\n",
      "[LightGBM] [Warning] feature_fraction is set=0.4014551497114172, colsample_bytree=1.0 will be ignored. Current value: feature_fraction=0.4014551497114172\n",
      "[LightGBM] [Warning] lambda_l2 is set=0.018872924336249847, reg_lambda=0.0 will be ignored. Current value: lambda_l2=0.018872924336249847\n",
      "[LightGBM] [Warning] bagging_freq is set=7, subsample_freq=0 will be ignored. Current value: bagging_freq=7\n"
     ]
    },
    {
     "name": "stderr",
     "output_type": "stream",
     "text": [
      "\u001b[32m[I 2023-03-15 19:54:11,673]\u001b[0m Trial 97 finished with value: 0.7448485193700505 and parameters: {'lambda_l1': 0.22319356727871045, 'lambda_l2': 0.018872924336249847, 'num_leaves': 21, 'feature_fraction': 0.4014551497114172, 'bagging_fraction': 0.96812512847953, 'bagging_freq': 7, 'min_child_samples': 100}. Best is trial 25 with value: 0.7906928133004688.\u001b[0m\n"
     ]
    },
    {
     "name": "stdout",
     "output_type": "stream",
     "text": [
      "[LightGBM] [Warning] bagging_fraction is set=0.96812512847953, subsample=1.0 will be ignored. Current value: bagging_fraction=0.96812512847953\n",
      "[LightGBM] [Warning] lambda_l1 is set=0.22319356727871045, reg_alpha=0.0 will be ignored. Current value: lambda_l1=0.22319356727871045\n",
      "[LightGBM] [Warning] feature_fraction is set=0.4014551497114172, colsample_bytree=1.0 will be ignored. Current value: feature_fraction=0.4014551497114172\n",
      "[LightGBM] [Warning] lambda_l2 is set=0.018872924336249847, reg_lambda=0.0 will be ignored. Current value: lambda_l2=0.018872924336249847\n",
      "[LightGBM] [Warning] bagging_freq is set=7, subsample_freq=0 will be ignored. Current value: bagging_freq=7\n",
      "[LightGBM] [Warning] bagging_fraction is set=0.8914468969486267, subsample=1.0 will be ignored. Current value: bagging_fraction=0.8914468969486267\n",
      "[LightGBM] [Warning] lambda_l1 is set=0.8507837592962434, reg_alpha=0.0 will be ignored. Current value: lambda_l1=0.8507837592962434\n",
      "[LightGBM] [Warning] feature_fraction is set=0.48938406284554786, colsample_bytree=1.0 will be ignored. Current value: feature_fraction=0.48938406284554786\n",
      "[LightGBM] [Warning] lambda_l2 is set=0.06850490340488277, reg_lambda=0.0 will be ignored. Current value: lambda_l2=0.06850490340488277\n",
      "[LightGBM] [Warning] bagging_freq is set=7, subsample_freq=0 will be ignored. Current value: bagging_freq=7\n",
      "[LightGBM] [Warning] bagging_fraction is set=0.8914468969486267, subsample=1.0 will be ignored. Current value: bagging_fraction=0.8914468969486267\n",
      "[LightGBM] [Warning] lambda_l1 is set=0.8507837592962434, reg_alpha=0.0 will be ignored. Current value: lambda_l1=0.8507837592962434\n",
      "[LightGBM] [Warning] feature_fraction is set=0.48938406284554786, colsample_bytree=1.0 will be ignored. Current value: feature_fraction=0.48938406284554786\n",
      "[LightGBM] [Warning] lambda_l2 is set=0.06850490340488277, reg_lambda=0.0 will be ignored. Current value: lambda_l2=0.06850490340488277\n",
      "[LightGBM] [Warning] bagging_freq is set=7, subsample_freq=0 will be ignored. Current value: bagging_freq=7\n",
      "[LightGBM] [Warning] bagging_fraction is set=0.8914468969486267, subsample=1.0 will be ignored. Current value: bagging_fraction=0.8914468969486267\n",
      "[LightGBM] [Warning] lambda_l1 is set=0.8507837592962434, reg_alpha=0.0 will be ignored. Current value: lambda_l1=0.8507837592962434\n",
      "[LightGBM] [Warning] feature_fraction is set=0.48938406284554786, colsample_bytree=1.0 will be ignored. Current value: feature_fraction=0.48938406284554786\n",
      "[LightGBM] [Warning] lambda_l2 is set=0.06850490340488277, reg_lambda=0.0 will be ignored. Current value: lambda_l2=0.06850490340488277\n",
      "[LightGBM] [Warning] bagging_freq is set=7, subsample_freq=0 will be ignored. Current value: bagging_freq=7\n",
      "[LightGBM] [Warning] bagging_fraction is set=0.8914468969486267, subsample=1.0 will be ignored. Current value: bagging_fraction=0.8914468969486267\n",
      "[LightGBM] [Warning] lambda_l1 is set=0.8507837592962434, reg_alpha=0.0 will be ignored. Current value: lambda_l1=0.8507837592962434\n",
      "[LightGBM] [Warning] feature_fraction is set=0.48938406284554786, colsample_bytree=1.0 will be ignored. Current value: feature_fraction=0.48938406284554786\n",
      "[LightGBM] [Warning] lambda_l2 is set=0.06850490340488277, reg_lambda=0.0 will be ignored. Current value: lambda_l2=0.06850490340488277\n",
      "[LightGBM] [Warning] bagging_freq is set=7, subsample_freq=0 will be ignored. Current value: bagging_freq=7\n"
     ]
    },
    {
     "name": "stderr",
     "output_type": "stream",
     "text": [
      "\u001b[32m[I 2023-03-15 19:54:12,177]\u001b[0m Trial 98 finished with value: 0.7549873305854168 and parameters: {'lambda_l1': 0.8507837592962434, 'lambda_l2': 0.06850490340488277, 'num_leaves': 188, 'feature_fraction': 0.48938406284554786, 'bagging_fraction': 0.8914468969486267, 'bagging_freq': 7, 'min_child_samples': 91}. Best is trial 25 with value: 0.7906928133004688.\u001b[0m\n"
     ]
    },
    {
     "name": "stdout",
     "output_type": "stream",
     "text": [
      "[LightGBM] [Warning] bagging_fraction is set=0.8914468969486267, subsample=1.0 will be ignored. Current value: bagging_fraction=0.8914468969486267\n",
      "[LightGBM] [Warning] lambda_l1 is set=0.8507837592962434, reg_alpha=0.0 will be ignored. Current value: lambda_l1=0.8507837592962434\n",
      "[LightGBM] [Warning] feature_fraction is set=0.48938406284554786, colsample_bytree=1.0 will be ignored. Current value: feature_fraction=0.48938406284554786\n",
      "[LightGBM] [Warning] lambda_l2 is set=0.06850490340488277, reg_lambda=0.0 will be ignored. Current value: lambda_l2=0.06850490340488277\n",
      "[LightGBM] [Warning] bagging_freq is set=7, subsample_freq=0 will be ignored. Current value: bagging_freq=7\n",
      "[LightGBM] [Warning] bagging_fraction is set=0.9986741552156729, subsample=1.0 will be ignored. Current value: bagging_fraction=0.9986741552156729\n",
      "[LightGBM] [Warning] lambda_l1 is set=0.06996858910921865, reg_alpha=0.0 will be ignored. Current value: lambda_l1=0.06996858910921865\n",
      "[LightGBM] [Warning] feature_fraction is set=0.43736816576727583, colsample_bytree=1.0 will be ignored. Current value: feature_fraction=0.43736816576727583\n",
      "[LightGBM] [Warning] lambda_l2 is set=0.17232320521776442, reg_lambda=0.0 will be ignored. Current value: lambda_l2=0.17232320521776442\n",
      "[LightGBM] [Warning] bagging_freq is set=5, subsample_freq=0 will be ignored. Current value: bagging_freq=5\n",
      "[LightGBM] [Warning] bagging_fraction is set=0.9986741552156729, subsample=1.0 will be ignored. Current value: bagging_fraction=0.9986741552156729\n",
      "[LightGBM] [Warning] lambda_l1 is set=0.06996858910921865, reg_alpha=0.0 will be ignored. Current value: lambda_l1=0.06996858910921865\n",
      "[LightGBM] [Warning] feature_fraction is set=0.43736816576727583, colsample_bytree=1.0 will be ignored. Current value: feature_fraction=0.43736816576727583\n",
      "[LightGBM] [Warning] lambda_l2 is set=0.17232320521776442, reg_lambda=0.0 will be ignored. Current value: lambda_l2=0.17232320521776442\n",
      "[LightGBM] [Warning] bagging_freq is set=5, subsample_freq=0 will be ignored. Current value: bagging_freq=5\n",
      "[LightGBM] [Warning] bagging_fraction is set=0.9986741552156729, subsample=1.0 will be ignored. Current value: bagging_fraction=0.9986741552156729\n",
      "[LightGBM] [Warning] lambda_l1 is set=0.06996858910921865, reg_alpha=0.0 will be ignored. Current value: lambda_l1=0.06996858910921865\n",
      "[LightGBM] [Warning] feature_fraction is set=0.43736816576727583, colsample_bytree=1.0 will be ignored. Current value: feature_fraction=0.43736816576727583\n",
      "[LightGBM] [Warning] lambda_l2 is set=0.17232320521776442, reg_lambda=0.0 will be ignored. Current value: lambda_l2=0.17232320521776442\n",
      "[LightGBM] [Warning] bagging_freq is set=5, subsample_freq=0 will be ignored. Current value: bagging_freq=5\n",
      "[LightGBM] [Warning] bagging_fraction is set=0.9986741552156729, subsample=1.0 will be ignored. Current value: bagging_fraction=0.9986741552156729\n",
      "[LightGBM] [Warning] lambda_l1 is set=0.06996858910921865, reg_alpha=0.0 will be ignored. Current value: lambda_l1=0.06996858910921865\n",
      "[LightGBM] [Warning] feature_fraction is set=0.43736816576727583, colsample_bytree=1.0 will be ignored. Current value: feature_fraction=0.43736816576727583\n",
      "[LightGBM] [Warning] lambda_l2 is set=0.17232320521776442, reg_lambda=0.0 will be ignored. Current value: lambda_l2=0.17232320521776442\n",
      "[LightGBM] [Warning] bagging_freq is set=5, subsample_freq=0 will be ignored. Current value: bagging_freq=5\n"
     ]
    },
    {
     "name": "stderr",
     "output_type": "stream",
     "text": [
      "\u001b[32m[I 2023-03-15 19:54:12,685]\u001b[0m Trial 99 finished with value: 0.7457908718076182 and parameters: {'lambda_l1': 0.06996858910921865, 'lambda_l2': 0.17232320521776442, 'num_leaves': 8, 'feature_fraction': 0.43736816576727583, 'bagging_fraction': 0.9986741552156729, 'bagging_freq': 5, 'min_child_samples': 84}. Best is trial 25 with value: 0.7906928133004688.\u001b[0m\n"
     ]
    },
    {
     "name": "stdout",
     "output_type": "stream",
     "text": [
      "[LightGBM] [Warning] bagging_fraction is set=0.9986741552156729, subsample=1.0 will be ignored. Current value: bagging_fraction=0.9986741552156729\n",
      "[LightGBM] [Warning] lambda_l1 is set=0.06996858910921865, reg_alpha=0.0 will be ignored. Current value: lambda_l1=0.06996858910921865\n",
      "[LightGBM] [Warning] feature_fraction is set=0.43736816576727583, colsample_bytree=1.0 will be ignored. Current value: feature_fraction=0.43736816576727583\n",
      "[LightGBM] [Warning] lambda_l2 is set=0.17232320521776442, reg_lambda=0.0 will be ignored. Current value: lambda_l2=0.17232320521776442\n",
      "[LightGBM] [Warning] bagging_freq is set=5, subsample_freq=0 will be ignored. Current value: bagging_freq=5\n"
     ]
    },
    {
     "data": {
      "text/plain": [
       "{'lambda_l1': 0.09627901158633201,\n",
       " 'lambda_l2': 1.4296485728772927,\n",
       " 'num_leaves': 2,\n",
       " 'feature_fraction': 0.5301366572925041,\n",
       " 'bagging_fraction': 0.9609568602709685,\n",
       " 'bagging_freq': 6,\n",
       " 'min_child_samples': 38}"
      ]
     },
     "execution_count": 8,
     "metadata": {},
     "output_type": "execute_result"
    }
   ],
   "source": [
    "study = run_study(X_train, y_train)\n",
    "study.best_params"
   ]
  },
  {
   "cell_type": "code",
   "execution_count": 9,
   "id": "8cc2bce2",
   "metadata": {
    "execution": {
     "iopub.execute_input": "2023-03-15T19:54:12.760185Z",
     "iopub.status.busy": "2023-03-15T19:54:12.759807Z",
     "iopub.status.idle": "2023-03-15T19:54:12.832752Z",
     "shell.execute_reply": "2023-03-15T19:54:12.831249Z"
    },
    "papermill": {
     "duration": 0.105582,
     "end_time": "2023-03-15T19:54:12.836407",
     "exception": false,
     "start_time": "2023-03-15T19:54:12.730825",
     "status": "completed"
    },
    "tags": []
   },
   "outputs": [
    {
     "name": "stdout",
     "output_type": "stream",
     "text": [
      "[LightGBM] [Warning] bagging_fraction is set=0.9609568602709685, subsample=1.0 will be ignored. Current value: bagging_fraction=0.9609568602709685\n",
      "[LightGBM] [Warning] lambda_l1 is set=0.09627901158633201, reg_alpha=0.0 will be ignored. Current value: lambda_l1=0.09627901158633201\n",
      "[LightGBM] [Warning] feature_fraction is set=0.5301366572925041, colsample_bytree=1.0 will be ignored. Current value: feature_fraction=0.5301366572925041\n",
      "[LightGBM] [Warning] lambda_l2 is set=1.4296485728772927, reg_lambda=0.0 will be ignored. Current value: lambda_l2=1.4296485728772927\n",
      "[LightGBM] [Warning] bagging_freq is set=6, subsample_freq=0 will be ignored. Current value: bagging_freq=6\n",
      "Brier Score: 0.15521970815645744\n",
      "ROC AUC: 0.8686342592592592\n",
      "Parameters\n",
      "- boosting_type: gbdt\n",
      "- class_weight: None\n",
      "- colsample_bytree: 1.0\n",
      "- importance_type: split\n",
      "- learning_rate: 0.1\n",
      "- max_depth: -1\n",
      "- min_child_samples: 38\n",
      "- min_child_weight: 0.001\n",
      "- min_split_gain: 0.0\n",
      "- n_estimators: 100\n",
      "- n_jobs: -1\n",
      "- num_leaves: 2\n",
      "- objective: binary\n",
      "- random_state: None\n",
      "- reg_alpha: 0.0\n",
      "- reg_lambda: 0.0\n",
      "- silent: warn\n",
      "- subsample: 1.0\n",
      "- subsample_for_bin: 200000\n",
      "- subsample_freq: 0\n",
      "- metric: roc_auc\n",
      "- verbosity: -1\n",
      "- lambda_l1: 0.09627901158633201\n",
      "- lambda_l2: 1.4296485728772927\n",
      "- feature_fraction: 0.5301366572925041\n",
      "- bagging_fraction: 0.9609568602709685\n",
      "- bagging_freq: 6\n",
      "Features\n",
      "- SeedDiff: 35\n",
      "- FGMRegDiff: 13\n",
      "- FGMOppRegDiff: 11\n",
      "- FGPRegDiff: 7\n",
      "- TOTouDiff: 7\n",
      "- OROppTouDiff: 7\n",
      "- FTAOppRegDiff: 6\n",
      "- AstTouDiff: 4\n",
      "- DROppRegDiff: 2\n",
      "- ScoreTouDiff: 2\n",
      "- TOOppTouDiff: 2\n",
      "- OrdinalRankDiff: 2\n",
      "- ScoreRegDiff: 1\n",
      "- OROppRegDiff: 1\n",
      "- ScoreOppRegDiff: 0\n",
      "- NumOTRegDiff: 0\n",
      "- FGARegDiff: 0\n",
      "- FGM3RegDiff: 0\n",
      "- FGA3RegDiff: 0\n",
      "- FTMRegDiff: 0\n",
      "- FTARegDiff: 0\n",
      "- ORRegDiff: 0\n",
      "- DRRegDiff: 0\n",
      "- AstRegDiff: 0\n",
      "- TORegDiff: 0\n",
      "- StlRegDiff: 0\n",
      "- BlkRegDiff: 0\n",
      "- PFRegDiff: 0\n",
      "- FGAOppRegDiff: 0\n",
      "- FGM3OppRegDiff: 0\n",
      "- FGA3OppRegDiff: 0\n",
      "- FTMOppRegDiff: 0\n",
      "- AstOppRegDiff: 0\n",
      "- TOOppRegDiff: 0\n",
      "- StlOppRegDiff: 0\n",
      "- BlkOppRegDiff: 0\n",
      "- PFOppRegDiff: 0\n",
      "- FGP3RegDiff: 0\n",
      "- FTPRegDiff: 0\n",
      "- FGPOppRegDiff: 0\n",
      "- FGP3OppRegDiff: 0\n",
      "- FTPOppRegDiff: 0\n",
      "- ScoreOppTouDiff: 0\n",
      "- NumOTTouDiff: 0\n",
      "- FGMTouDiff: 0\n",
      "- FGATouDiff: 0\n",
      "- FGM3TouDiff: 0\n",
      "- FGA3TouDiff: 0\n",
      "- FTMTouDiff: 0\n",
      "- FTATouDiff: 0\n",
      "- ORTouDiff: 0\n",
      "- DRTouDiff: 0\n",
      "- StlTouDiff: 0\n",
      "- BlkTouDiff: 0\n",
      "- PFTouDiff: 0\n",
      "- FGMOppTouDiff: 0\n",
      "- FGAOppTouDiff: 0\n",
      "- FGM3OppTouDiff: 0\n",
      "- FGA3OppTouDiff: 0\n",
      "- FTMOppTouDiff: 0\n",
      "- FTAOppTouDiff: 0\n",
      "- DROppTouDiff: 0\n",
      "- AstOppTouDiff: 0\n",
      "- StlOppTouDiff: 0\n",
      "- BlkOppTouDiff: 0\n",
      "- PFOppTouDiff: 0\n",
      "- FGPTouDiff: 0\n",
      "- FGP3TouDiff: 0\n",
      "- FTPTouDiff: 0\n",
      "- FGPOppTouDiff: 0\n",
      "- FGP3OppTouDiff: 0\n",
      "- FTPOppTouDiff: 0\n"
     ]
    }
   ],
   "source": [
    "model = train_optimized_model(study, X_train, y_train)\n",
    "preds = model.predict_proba(X_valid)[:,1]\n",
    "print(\"Brier Score:\", brier_score_loss(y_valid, preds))\n",
    "print(\"ROC AUC:\", roc_auc_score(y_valid, preds))\n",
    "print(\"Parameters\")\n",
    "print(*(f\"- {key}: {value}\" for key, value in model.get_params(deep=True).items()), sep=\"\\n\")\n",
    "print(\"Features\")\n",
    "print(*(f\"- {name}: {imp}\" for name, imp in sorted(zip(model.feature_name_, model.feature_importances_), key=lambda x: x[1], reverse=True)), sep=\"\\n\")\n"
   ]
  },
  {
   "cell_type": "markdown",
   "id": "0a8d50d3",
   "metadata": {
    "papermill": {
     "duration": 0.026704,
     "end_time": "2023-03-15T19:54:12.894410",
     "exception": false,
     "start_time": "2023-03-15T19:54:12.867706",
     "status": "completed"
    },
    "tags": []
   },
   "source": [
    "# Submit to the competition\n",
    "\n",
    "We\"ll begin by using the trained model to generate predictions, which we\"ll save to a CSV file."
   ]
  },
  {
   "cell_type": "code",
   "execution_count": 10,
   "id": "d4d2db28",
   "metadata": {
    "execution": {
     "iopub.execute_input": "2023-03-15T19:54:12.950103Z",
     "iopub.status.busy": "2023-03-15T19:54:12.949401Z",
     "iopub.status.idle": "2023-03-15T19:54:13.568993Z",
     "shell.execute_reply": "2023-03-15T19:54:13.566940Z"
    },
    "papermill": {
     "duration": 0.651413,
     "end_time": "2023-03-15T19:54:13.572637",
     "exception": false,
     "start_time": "2023-03-15T19:54:12.921224",
     "status": "completed"
    },
    "tags": []
   },
   "outputs": [
    {
     "name": "stdout",
     "output_type": "stream",
     "text": [
      "[LightGBM] [Warning] bagging_fraction is set=0.9609568602709685, subsample=1.0 will be ignored. Current value: bagging_fraction=0.9609568602709685\n",
      "[LightGBM] [Warning] lambda_l1 is set=0.09627901158633201, reg_alpha=0.0 will be ignored. Current value: lambda_l1=0.09627901158633201\n",
      "[LightGBM] [Warning] feature_fraction is set=0.5301366572925041, colsample_bytree=1.0 will be ignored. Current value: feature_fraction=0.5301366572925041\n",
      "[LightGBM] [Warning] lambda_l2 is set=1.4296485728772927, reg_lambda=0.0 will be ignored. Current value: lambda_l2=1.4296485728772927\n",
      "[LightGBM] [Warning] bagging_freq is set=6, subsample_freq=0 will be ignored. Current value: bagging_freq=6\n",
      "(130683, 2)\n"
     ]
    },
    {
     "data": {
      "text/html": [
       "<div>\n",
       "<style scoped>\n",
       "    .dataframe tbody tr th:only-of-type {\n",
       "        vertical-align: middle;\n",
       "    }\n",
       "\n",
       "    .dataframe tbody tr th {\n",
       "        vertical-align: top;\n",
       "    }\n",
       "\n",
       "    .dataframe thead th {\n",
       "        text-align: right;\n",
       "    }\n",
       "</style>\n",
       "<table border=\"1\" class=\"dataframe\">\n",
       "  <thead>\n",
       "    <tr style=\"text-align: right;\">\n",
       "      <th></th>\n",
       "      <th>Pred</th>\n",
       "    </tr>\n",
       "  </thead>\n",
       "  <tbody>\n",
       "    <tr>\n",
       "      <th>count</th>\n",
       "      <td>130683.000000</td>\n",
       "    </tr>\n",
       "    <tr>\n",
       "      <th>mean</th>\n",
       "      <td>0.496223</td>\n",
       "    </tr>\n",
       "    <tr>\n",
       "      <th>std</th>\n",
       "      <td>0.022257</td>\n",
       "    </tr>\n",
       "    <tr>\n",
       "      <th>min</th>\n",
       "      <td>0.054388</td>\n",
       "    </tr>\n",
       "    <tr>\n",
       "      <th>25%</th>\n",
       "      <td>0.496158</td>\n",
       "    </tr>\n",
       "    <tr>\n",
       "      <th>50%</th>\n",
       "      <td>0.496158</td>\n",
       "    </tr>\n",
       "    <tr>\n",
       "      <th>75%</th>\n",
       "      <td>0.496158</td>\n",
       "    </tr>\n",
       "    <tr>\n",
       "      <th>max</th>\n",
       "      <td>0.948906</td>\n",
       "    </tr>\n",
       "  </tbody>\n",
       "</table>\n",
       "</div>"
      ],
      "text/plain": [
       "                Pred\n",
       "count  130683.000000\n",
       "mean        0.496223\n",
       "std         0.022257\n",
       "min         0.054388\n",
       "25%         0.496158\n",
       "50%         0.496158\n",
       "75%         0.496158\n",
       "max         0.948906"
      ]
     },
     "execution_count": 10,
     "metadata": {},
     "output_type": "execute_result"
    }
   ],
   "source": [
    "# Use the model to generate predictions\n",
    "model.fit(X, y)\n",
    "predictions = model.predict_proba(X_submission)[:,1]\n",
    "\n",
    "# Save the predictions to a CSV file\n",
    "output = pd.DataFrame({\"ID\": X_submission.index,\n",
    "                       \"Pred\": predictions})\n",
    "output.to_csv(\"submission.csv\", index=False)\n",
    "print(output.shape)\n",
    "output.describe()"
   ]
  },
  {
   "cell_type": "code",
   "execution_count": null,
   "id": "26d48c7e",
   "metadata": {
    "papermill": {
     "duration": 0.027479,
     "end_time": "2023-03-15T19:54:13.628498",
     "exception": false,
     "start_time": "2023-03-15T19:54:13.601019",
     "status": "completed"
    },
    "tags": []
   },
   "outputs": [],
   "source": []
  }
 ],
 "metadata": {
  "kernelspec": {
   "display_name": "Python 3",
   "language": "python",
   "name": "python3"
  },
  "language_info": {
   "codemirror_mode": {
    "name": "ipython",
    "version": 3
   },
   "file_extension": ".py",
   "mimetype": "text/x-python",
   "name": "python",
   "nbconvert_exporter": "python",
   "pygments_lexer": "ipython3",
   "version": "3.7.12"
  },
  "papermill": {
   "default_parameters": {},
   "duration": 91.317454,
   "end_time": "2023-03-15T19:54:14.779310",
   "environment_variables": {},
   "exception": null,
   "input_path": "__notebook__.ipynb",
   "output_path": "__notebook__.ipynb",
   "parameters": {},
   "start_time": "2023-03-15T19:52:43.461856",
   "version": "2.4.0"
  }
 },
 "nbformat": 4,
 "nbformat_minor": 5
}
