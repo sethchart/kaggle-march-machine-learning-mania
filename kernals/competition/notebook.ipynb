{
 "cells": [
  {
   "cell_type": "markdown",
   "id": "00156215",
   "metadata": {
    "papermill": {
     "duration": 0.006011,
     "end_time": "2023-03-15T21:51:02.670271",
     "exception": false,
     "start_time": "2023-03-15T21:51:02.664260",
     "status": "completed"
    },
    "tags": []
   },
   "source": [
    "# Imports and Utilities"
   ]
  },
  {
   "cell_type": "code",
   "execution_count": 1,
   "id": "c1773b62",
   "metadata": {
    "execution": {
     "iopub.execute_input": "2023-03-15T21:51:02.681780Z",
     "iopub.status.busy": "2023-03-15T21:51:02.681240Z",
     "iopub.status.idle": "2023-03-15T21:51:04.319479Z",
     "shell.execute_reply": "2023-03-15T21:51:04.318305Z"
    },
    "papermill": {
     "duration": 1.647578,
     "end_time": "2023-03-15T21:51:04.322233",
     "exception": false,
     "start_time": "2023-03-15T21:51:02.674655",
     "status": "completed"
    },
    "tags": []
   },
   "outputs": [],
   "source": [
    "from typing import List, Tuple\n",
    "import numpy as np\n",
    "import pandas as pd\n",
    "from IPython.display import Markdown\n",
    "import optuna\n",
    "from xgboost import XGBClassifier\n",
    "from sklearn.metrics import roc_auc_score, brier_score_loss\n",
    "from sklearn.model_selection import cross_val_score\n",
    "\n",
    "COMPETITION_NAME = \"march-machine-learning-mania-2023\"\n",
    "VERBOSE = False\n",
    "SCORING = \"neg_brier_score\"\n",
    "\n",
    "pd.set_option(\"display.max_columns\", None)\n",
    "\n",
    "def show_df(df: pd.DataFrame, name: str = \"DataFrame\", verbose: bool = VERBOSE):\n",
    "    if verbose:\n",
    "        display(Markdown(f\"## {name}\"))\n",
    "        display(Markdown(\"### Head\"))\n",
    "        display(df.head())\n",
    "        display(Markdown(\"### Tail\"))\n",
    "        display(df.tail())\n",
    "        display(Markdown(\"### Description\"))\n",
    "        display(df.describe())\n",
    "\n",
    "\n",
    "def extract_data(filename: str, competition_name:str = COMPETITION_NAME) -> pd.DataFrame:\n",
    "    mens_filepath = f\"/kaggle/input/{competition_name}/M{filename}.csv\"\n",
    "    womens_filepath = f\"/kaggle/input/{competition_name}/W{filename}.csv\"\n",
    "    try:\n",
    "        df_mens = pd.read_csv(mens_filepath)\n",
    "    except FileNotFoundError:\n",
    "        df_mens = None\n",
    "    try:\n",
    "        df_womens = pd.read_csv(womens_filepath)\n",
    "    except FileNotFoundError:\n",
    "        df_womens = None\n",
    "    df = pd.concat([df_mens, df_womens])\n",
    "    show_df(df, filename)\n",
    "    return df\n",
    "\n",
    "\n",
    "def get_team_features(detailed_results: pd.DataFrame) -> pd.DataFrame:\n",
    "    df = detailed_results.copy()\n",
    "    df = clean_detailed_results(df)\n",
    "    df = transform_game_to_team(df)\n",
    "    df = transform_team_results(df)\n",
    "    show_df(df)\n",
    "    return df\n",
    "\n",
    "\n",
    "def get_seed_features(df_in: pd.DataFrame) -> pd.DataFrame:\n",
    "    df = df_in.copy()\n",
    "    mask = df[\"Season\"] > 2002\n",
    "    df = df[mask]\n",
    "    df[\"Seed\"] = df[\"Seed\"].str.replace(r\"\\D+\",\"\", regex=True)\n",
    "    df[\"Seed\"] = df[\"Seed\"].astype(int)\n",
    "    show_df(df)\n",
    "    return df\n",
    "\n",
    "\n",
    "def get_ranking_features(df_in:pd.DataFrame) -> pd.DataFrame:\n",
    "    df = df_in.copy()\n",
    "    mask = df[\"RankingDayNum\"] == df[\"RankingDayNum\"].max()\n",
    "    df = df[mask]\n",
    "    df.drop([\"SystemName\", \"RankingDayNum\"], axis=1, inplace=True)\n",
    "    df = df.groupby([\"Season\", \"TeamID\"]).agg(\"median\")\n",
    "    df = df.reset_index()\n",
    "    show_df(df)\n",
    "    return df\n",
    "\n",
    "\n",
    "def get_game_outcomes(df):\n",
    "    input_rows = df.to_records()\n",
    "    output_rows = []\n",
    "    for input_row in input_rows:\n",
    "        output_rows.extend(parse_row(input_row))\n",
    "    out_df = pd.DataFrame(output_rows)\n",
    "    return out_df\n",
    "\n",
    "def parse_row(row):\n",
    "    season = row['Season']\n",
    "    winning_team_id = row['WTeamID']\n",
    "    losing_team_id = row['LTeamID']\n",
    "    if winning_team_id < losing_team_id:\n",
    "        small_id = winning_team_id\n",
    "        big_id = losing_team_id\n",
    "        outcome = True\n",
    "    elif losing_team_id < winning_team_id:\n",
    "        small_id = losing_team_id\n",
    "        big_id = winning_team_id\n",
    "        outcome = False\n",
    "    records = [\n",
    "        {\n",
    "            \"ID\": f\"{season}_{small_id}_{big_id}\",\n",
    "            'Season': season,\n",
    "            'LowID': small_id,\n",
    "            'HighID': big_id,\n",
    "            'Win': outcome\n",
    "        },\n",
    "        {\n",
    "            \"ID\": f\"{season}_{big_id}_{small_id}\",\n",
    "            'Season': season,\n",
    "            'LowID': big_id,\n",
    "            'HighID': small_id,\n",
    "            'Win': not outcome\n",
    "        },\n",
    "    ]\n",
    "    return records\n",
    "\n",
    "\n",
    "def clean_detailed_results(df: pd.DataFrame) -> pd.DataFrame:\n",
    "    return df.drop([\"WLoc\", \"DayNum\"], axis=1)\n",
    "\n",
    "\n",
    "def transform_game_to_team(game_results: pd.DataFrame) -> pd.DataFrame:\n",
    "    winners = rename_columns(game_results, \"W\")\n",
    "    loosers = rename_columns(game_results, \"L\")\n",
    "    team_results = pd.concat((winners, loosers))\n",
    "    team_results.drop([\"TeamIDOpp\"], axis=1, inplace=True)\n",
    "    return team_results\n",
    "\n",
    "\n",
    "def transform_team_results(df: pd.DataFrame) -> pd.DataFrame:\n",
    "    df = df.groupby([\"Season\", \"TeamID\"]).median()\n",
    "    df[\"FGP\"] =  df[\"FGM\"] / df[\"FGA\"]\n",
    "    df[\"FGP3\"] =  df[\"FGM3\"] / df[\"FGA3\"]\n",
    "    df[\"FTP\"] =  df[\"FTM\"] / df[\"FTA\"]\n",
    "    df[\"FGPOpp\"] =  df[\"FGMOpp\"] / df[\"FGAOpp\"]\n",
    "    df[\"FGP3Opp\"] =  df[\"FGM3Opp\"] / df[\"FGA3Opp\"]\n",
    "    df[\"FTPOpp\"] =  df[\"FTMOpp\"] / df[\"FTAOpp\"]\n",
    "    return df.reset_index()\n",
    "    \n",
    "    \n",
    "def rename_columns(df: pd.DataFrame, team_prefix: str) -> pd.DataFrame:\n",
    "    df = df.copy()\n",
    "    df.columns =  (rename_column(column_name, team_prefix) for column_name in df.columns)\n",
    "    return df\n",
    "\n",
    "\n",
    "def rename_column(column_name: str, team_prefix: str) -> pd.DataFrame:\n",
    "    if team_prefix == \"W\":\n",
    "        opponent_prefix = \"L\"\n",
    "    elif team_prefix == \"L\":\n",
    "        opponent_prefix = \"W\"\n",
    "    else:\n",
    "        raise ValueError\n",
    "    if column_name.startswith(team_prefix):\n",
    "        column_name = column_name.lstrip(team_prefix)\n",
    "    elif column_name.startswith(opponent_prefix):\n",
    "        column_name = f\"{column_name.lstrip(opponent_prefix)}Opp\"\n",
    "    return column_name\n",
    "\n",
    "\n",
    "def split_winner_and_looser_columns(df: pd.DataFrame) -> Tuple[List[str], List[str]]:\n",
    "    winner_columns = [name for name in df.columns if not name.startswith(\"L\")]\n",
    "    looser_columns = [name for name in df.columns if not name.startswith(\"W\")]\n",
    "    return winner_columns, looser_columns\n",
    "\n",
    "\n",
    "def merge_features(\n",
    "    season_features: pd.DataFrame, \n",
    "    tournament_features: pd.DataFrame, \n",
    "    seed_features: pd.DataFrame, \n",
    "    ranking_features: pd.DataFrame\n",
    ") -> pd.DataFrame:\n",
    "    features = pd.merge(\n",
    "        season_features,\n",
    "        tournament_features,\n",
    "        how=\"inner\",\n",
    "        on=[\"Season\", \"TeamID\"],\n",
    "        suffixes=(\"Reg\", \"Tou\")\n",
    "    )\n",
    "    features = features.merge(\n",
    "        seed_features,\n",
    "        how=\"inner\",\n",
    "        on=[\"Season\", \"TeamID\"]\n",
    "    )\n",
    "    features = features.merge(\n",
    "        ranking_features,\n",
    "        how=\"left\",\n",
    "        on=[\"Season\", \"TeamID\"],\n",
    "    )\n",
    "    show_df(features)\n",
    "    return features\n",
    "\n",
    "\n",
    "def merge_outcomes_with_features(outcomes: pd.DataFrame, features: pd.DataFrame, how: str = \"inner\") -> pd.DataFrame:\n",
    "    feature_names = [name for name in features.columns if name not in [\"Season\", \"TeamID\", \"Gender\"]]\n",
    "    data = pd.merge(\n",
    "        outcomes, \n",
    "        features, \n",
    "        how=how, \n",
    "        left_on=[\"Season\", \"HighID\"], \n",
    "        right_on=[\"Season\", \"TeamID\"]\n",
    "    )\n",
    "    data = pd.merge(\n",
    "        data, \n",
    "        features, \n",
    "        how=how, \n",
    "        left_on=[\"Season\", \"LowID\"], \n",
    "        right_on=[\"Season\", \"TeamID\"],\n",
    "        suffixes=(\"High\", \"Low\")\n",
    "    )\n",
    "    for name in feature_names:\n",
    "        data[f\"{name}Diff\"] = data[f\"{name}High\"] - data[f\"{name}Low\"]\n",
    "        data.drop([f\"{name}High\", f\"{name}Low\"], axis=1, inplace=True)\n",
    "    data.drop(\n",
    "        [\"Season\", \"HighID\", \"LowID\",\"TeamIDHigh\",\"TeamIDLow\"], \n",
    "        axis=1, \n",
    "        inplace=True\n",
    "    )\n",
    "    data.set_index(\"ID\", inplace=True)\n",
    "    show_df(data)\n",
    "    return data\n",
    "\n",
    "\n",
    "def get_submission_outcomes() -> pd.DataFrame:\n",
    "    sample_submission = pd.read_csv(f\"/kaggle/input/{COMPETITION_NAME}/SampleSubmission2023.csv\")\n",
    "    df = sample_submission.copy()\n",
    "    df.drop(\"Pred\", axis=1, inplace=True)\n",
    "    df[[\"Season\", \"LowID\", \"HighID\"]] = df[\"ID\"].str.split(\"_\", expand=True)\n",
    "    df[[\"Season\", \"LowID\", \"HighID\"]] = df[[\"Season\", \"LowID\", \"HighID\"]].astype(int)\n",
    "    show_df(df)\n",
    "    return df\n",
    "\n",
    "\n",
    "def objective(trial: optuna.Trial, X_train, y_train, scoring = SCORING):\n",
    "    params = {\n",
    "        \"booster\": trial.suggest_categorical(\"booster\", [\"gbtree\", \"gblinear\", \"dart\"]),\n",
    "        # L2 regularization weight.\n",
    "        \"lambda\": trial.suggest_float(\"lambda\", 1e-8, 1.0, log=True),\n",
    "        # L1 regularization weight.\n",
    "        \"alpha\": trial.suggest_float(\"alpha\", 1e-8, 1.0, log=True),\n",
    "        # sampling ratio for training data.\n",
    "        \"subsample\": trial.suggest_float(\"subsample\", 0.2, 1.0),\n",
    "        # sampling according to each tree.\n",
    "        \"colsample_bytree\": trial.suggest_float(\"colsample_bytree\", 0.2, 1.0),\n",
    "    }\n",
    "\n",
    "    if params[\"booster\"] in [\"gbtree\", \"dart\"]:\n",
    "        # maximum depth of the tree, signifies complexity of the tree.\n",
    "        params[\"max_depth\"] = trial.suggest_int(\"max_depth\", 3, 9, step=2)\n",
    "        # minimum child weight, larger the term more conservative the tree.\n",
    "        params[\"min_child_weight\"] = trial.suggest_int(\"min_child_weight\", 2, 10)\n",
    "        params[\"eta\"] = trial.suggest_float(\"eta\", 1e-8, 1.0, log=True)\n",
    "        # defines how selective algorithm is.\n",
    "        params[\"gamma\"] = trial.suggest_float(\"gamma\", 1e-8, 1.0, log=True)\n",
    "        params[\"grow_policy\"] = trial.suggest_categorical(\"grow_policy\", [\"depthwise\", \"lossguide\"])\n",
    "\n",
    "    if params[\"booster\"] == \"dart\":\n",
    "        params[\"sample_type\"] = trial.suggest_categorical(\"sample_type\", [\"uniform\", \"weighted\"])\n",
    "        params[\"normalize_type\"] = trial.suggest_categorical(\"normalize_type\", [\"tree\", \"forest\"])\n",
    "        params[\"rate_drop\"] = trial.suggest_float(\"rate_drop\", 1e-8, 1.0, log=True)\n",
    "        params[\"skip_drop\"] = trial.suggest_float(\"skip_drop\", 1e-8, 1.0, log=True)\n",
    "\n",
    "    model = train_model(params, X_train, y_train, scoring)\n",
    "    score = np.mean(cross_val_score(model, X_train, y_train, scoring=scoring, cv=5))\n",
    "    return score\n",
    "\n",
    "\n",
    "def run_study(X_train, y_train):\n",
    "    study = optuna.create_study(direction=\"maximize\")\n",
    "    study.optimize(lambda trial: objective(trial, X_train, y_train), n_trials=100)\n",
    "    return study\n",
    "\n",
    "\n",
    "def train_model(params, X, y, scoring):\n",
    "    model = XGBClassifier(\n",
    "        objective=\"binary:logistic\",\n",
    "        tree_method=\"exact\",\n",
    "        verbosity=0,\n",
    "        boosting_type=\"gbdt\",\n",
    "        **params\n",
    "    )\n",
    "    model = model.fit(X, y)\n",
    "    return model"
   ]
  },
  {
   "cell_type": "markdown",
   "id": "8d8cb416",
   "metadata": {
    "papermill": {
     "duration": 0.003882,
     "end_time": "2023-03-15T21:51:04.330446",
     "exception": false,
     "start_time": "2023-03-15T21:51:04.326564",
     "status": "completed"
    },
    "tags": []
   },
   "source": [
    "# Load Data"
   ]
  },
  {
   "cell_type": "code",
   "execution_count": 2,
   "id": "f0ac886f",
   "metadata": {
    "execution": {
     "iopub.execute_input": "2023-03-15T21:51:04.341271Z",
     "iopub.status.busy": "2023-03-15T21:51:04.339553Z",
     "iopub.status.idle": "2023-03-15T21:51:07.892603Z",
     "shell.execute_reply": "2023-03-15T21:51:07.891460Z"
    },
    "papermill": {
     "duration": 3.561343,
     "end_time": "2023-03-15T21:51:07.895607",
     "exception": false,
     "start_time": "2023-03-15T21:51:04.334264",
     "status": "completed"
    },
    "tags": []
   },
   "outputs": [],
   "source": [
    "season_results = extract_data(\"RegularSeasonDetailedResults\")\n",
    "tournament_results = extract_data(\"NCAATourneyDetailedResults\")\n",
    "seeds = extract_data(\"NCAATourneySeeds\")\n",
    "rankings = extract_data(\"MasseyOrdinals_thru_Season2023_Day128\")"
   ]
  },
  {
   "cell_type": "markdown",
   "id": "3fd4ab0b",
   "metadata": {
    "papermill": {
     "duration": 0.004346,
     "end_time": "2023-03-15T21:51:07.904551",
     "exception": false,
     "start_time": "2023-03-15T21:51:07.900205",
     "status": "completed"
    },
    "tags": []
   },
   "source": [
    "# Transform Data"
   ]
  },
  {
   "cell_type": "code",
   "execution_count": 3,
   "id": "aace9bc6",
   "metadata": {
    "execution": {
     "iopub.execute_input": "2023-03-15T21:51:07.915136Z",
     "iopub.status.busy": "2023-03-15T21:51:07.914732Z",
     "iopub.status.idle": "2023-03-15T21:51:08.790517Z",
     "shell.execute_reply": "2023-03-15T21:51:08.789341Z"
    },
    "papermill": {
     "duration": 0.884053,
     "end_time": "2023-03-15T21:51:08.793232",
     "exception": false,
     "start_time": "2023-03-15T21:51:07.909179",
     "status": "completed"
    },
    "tags": []
   },
   "outputs": [],
   "source": [
    "season_team_features = get_team_features(season_results)\n",
    "\n",
    "tournament_results[\"Season\"] += 1\n",
    "tournament_team_features = get_team_features(tournament_results)\n",
    "\n",
    "seed_features = get_seed_features(seeds)\n",
    "\n",
    "ranking_features = get_ranking_features(rankings)"
   ]
  },
  {
   "cell_type": "markdown",
   "id": "46f161ca",
   "metadata": {
    "execution": {
     "iopub.execute_input": "2022-03-17T02:19:13.394565Z",
     "iopub.status.busy": "2022-03-17T02:19:13.394252Z",
     "iopub.status.idle": "2022-03-17T02:19:13.39899Z",
     "shell.execute_reply": "2022-03-17T02:19:13.397787Z",
     "shell.execute_reply.started": "2022-03-17T02:19:13.394538Z"
    },
    "papermill": {
     "duration": 0.004048,
     "end_time": "2023-03-15T21:51:08.801805",
     "exception": false,
     "start_time": "2023-03-15T21:51:08.797757",
     "status": "completed"
    },
    "tags": []
   },
   "source": [
    "## Merge features"
   ]
  },
  {
   "cell_type": "code",
   "execution_count": 4,
   "id": "a309dd75",
   "metadata": {
    "execution": {
     "iopub.execute_input": "2023-03-15T21:51:08.811484Z",
     "iopub.status.busy": "2023-03-15T21:51:08.811163Z",
     "iopub.status.idle": "2023-03-15T21:51:08.835670Z",
     "shell.execute_reply": "2023-03-15T21:51:08.834486Z"
    },
    "papermill": {
     "duration": 0.031945,
     "end_time": "2023-03-15T21:51:08.837930",
     "exception": false,
     "start_time": "2023-03-15T21:51:08.805985",
     "status": "completed"
    },
    "tags": []
   },
   "outputs": [],
   "source": [
    "features = merge_features(season_team_features, tournament_team_features, seed_features, ranking_features)"
   ]
  },
  {
   "cell_type": "markdown",
   "id": "c08bb657",
   "metadata": {
    "papermill": {
     "duration": 0.003818,
     "end_time": "2023-03-15T21:51:08.846172",
     "exception": false,
     "start_time": "2023-03-15T21:51:08.842354",
     "status": "completed"
    },
    "tags": []
   },
   "source": [
    "## Build Datasets"
   ]
  },
  {
   "cell_type": "code",
   "execution_count": 5,
   "id": "6b17fc67",
   "metadata": {
    "execution": {
     "iopub.execute_input": "2023-03-15T21:51:08.855433Z",
     "iopub.status.busy": "2023-03-15T21:51:08.855076Z",
     "iopub.status.idle": "2023-03-15T21:51:09.591018Z",
     "shell.execute_reply": "2023-03-15T21:51:09.589923Z"
    },
    "papermill": {
     "duration": 0.743678,
     "end_time": "2023-03-15T21:51:09.593925",
     "exception": false,
     "start_time": "2023-03-15T21:51:08.850247",
     "status": "completed"
    },
    "tags": []
   },
   "outputs": [],
   "source": [
    "from sklearn.model_selection import train_test_split\n",
    "\n",
    "data = extract_data(\"NCAATourneyCompactResults\")\n",
    "data_train, data_valid = train_test_split(data, random_state=0, test_size=0.1)\n",
    "\n",
    "outcomes = get_game_outcomes(data)\n",
    "outcomes_train = get_game_outcomes(data_train)\n",
    "outcomes_valid = get_game_outcomes(data_valid)\n",
    "outcomes_submission = get_submission_outcomes()"
   ]
  },
  {
   "cell_type": "code",
   "execution_count": 6,
   "id": "19fe212c",
   "metadata": {
    "execution": {
     "iopub.execute_input": "2023-03-15T21:51:09.606231Z",
     "iopub.status.busy": "2023-03-15T21:51:09.604506Z",
     "iopub.status.idle": "2023-03-15T21:51:10.016423Z",
     "shell.execute_reply": "2023-03-15T21:51:10.015181Z"
    },
    "papermill": {
     "duration": 0.420656,
     "end_time": "2023-03-15T21:51:10.019525",
     "exception": false,
     "start_time": "2023-03-15T21:51:09.598869",
     "status": "completed"
    },
    "tags": []
   },
   "outputs": [],
   "source": [
    "features_train = merge_outcomes_with_features(outcomes_train, features)\n",
    "features_valid = merge_outcomes_with_features(outcomes_valid, features)\n",
    "features_full = merge_outcomes_with_features(outcomes, features)"
   ]
  },
  {
   "cell_type": "code",
   "execution_count": 7,
   "id": "64d6f9d4",
   "metadata": {
    "execution": {
     "iopub.execute_input": "2023-03-15T21:51:10.030823Z",
     "iopub.status.busy": "2023-03-15T21:51:10.030128Z",
     "iopub.status.idle": "2023-03-15T21:51:19.067142Z",
     "shell.execute_reply": "2023-03-15T21:51:19.065517Z"
    },
    "papermill": {
     "duration": 9.047697,
     "end_time": "2023-03-15T21:51:19.071693",
     "exception": false,
     "start_time": "2023-03-15T21:51:10.023996",
     "status": "completed"
    },
    "tags": []
   },
   "outputs": [],
   "source": [
    "y_train = features_train[\"Win\"]\n",
    "X_train = features_train.drop(\"Win\", axis=1)\n",
    "y_valid = features_valid[\"Win\"]\n",
    "X_valid = features_valid.drop(\"Win\", axis=1)\n",
    "y = features_full[\"Win\"]\n",
    "X = features_full.drop(\"Win\", axis=1)\n",
    "X_submission = merge_outcomes_with_features(outcomes_submission, features, how=\"left\").fillna(0)"
   ]
  },
  {
   "cell_type": "markdown",
   "id": "be274496",
   "metadata": {
    "papermill": {
     "duration": 0.006925,
     "end_time": "2023-03-15T21:51:19.086220",
     "exception": false,
     "start_time": "2023-03-15T21:51:19.079295",
     "status": "completed"
    },
    "tags": []
   },
   "source": [
    "# Step 4: Train a model\n"
   ]
  },
  {
   "cell_type": "code",
   "execution_count": 8,
   "id": "41d7d0d8",
   "metadata": {
    "execution": {
     "iopub.execute_input": "2023-03-15T21:51:19.102010Z",
     "iopub.status.busy": "2023-03-15T21:51:19.101404Z",
     "iopub.status.idle": "2023-03-15T21:54:28.690269Z",
     "shell.execute_reply": "2023-03-15T21:54:28.689337Z"
    },
    "papermill": {
     "duration": 189.599737,
     "end_time": "2023-03-15T21:54:28.692967",
     "exception": false,
     "start_time": "2023-03-15T21:51:19.093230",
     "status": "completed"
    },
    "tags": []
   },
   "outputs": [
    {
     "name": "stderr",
     "output_type": "stream",
     "text": [
      "\u001b[32m[I 2023-03-15 21:51:19,104]\u001b[0m A new study created in memory with name: no-name-3d67da4c-7ed9-4a85-b898-53dc2dec9322\u001b[0m\n",
      "\u001b[32m[I 2023-03-15 21:51:23,387]\u001b[0m Trial 0 finished with value: -0.18434372681507988 and parameters: {'booster': 'gblinear', 'lambda': 1.3541307200264502e-05, 'alpha': 1.107874791885793e-06, 'subsample': 0.3030260263800013, 'colsample_bytree': 0.5034369751333039}. Best is trial 0 with value: -0.18434372681507988.\u001b[0m\n",
      "\u001b[32m[I 2023-03-15 21:51:25,614]\u001b[0m Trial 1 finished with value: -0.2499778317549481 and parameters: {'booster': 'gbtree', 'lambda': 1.022943167233302e-08, 'alpha': 0.0008950981811377106, 'subsample': 0.28083315977553913, 'colsample_bytree': 0.9356577484033892, 'max_depth': 5, 'min_child_weight': 3, 'eta': 1.9793084278476034e-06, 'gamma': 2.3453182411241426e-07, 'grow_policy': 'depthwise'}. Best is trial 0 with value: -0.18434372681507988.\u001b[0m\n",
      "\u001b[32m[I 2023-03-15 21:51:26,133]\u001b[0m Trial 2 finished with value: -0.1843581482900654 and parameters: {'booster': 'gblinear', 'lambda': 0.0004250126542978467, 'alpha': 1.4212755110514376e-07, 'subsample': 0.7676680952108328, 'colsample_bytree': 0.7456026882424198}. Best is trial 0 with value: -0.18434372681507988.\u001b[0m\n",
      "\u001b[32m[I 2023-03-15 21:51:29,367]\u001b[0m Trial 3 finished with value: -0.24994462619471633 and parameters: {'booster': 'gbtree', 'lambda': 0.026386627795812086, 'alpha': 1.0066802179769036e-07, 'subsample': 0.9113484051171719, 'colsample_bytree': 0.8536246996917833, 'max_depth': 7, 'min_child_weight': 10, 'eta': 4.715549256498407e-06, 'gamma': 0.0002719895968101345, 'grow_policy': 'lossguide'}. Best is trial 0 with value: -0.18434372681507988.\u001b[0m\n",
      "\u001b[32m[I 2023-03-15 21:51:38,845]\u001b[0m Trial 4 finished with value: -0.24991276018192207 and parameters: {'booster': 'dart', 'lambda': 0.0014609629668513565, 'alpha': 6.93001938055486e-08, 'subsample': 0.5608334670259938, 'colsample_bytree': 0.24656811149466604, 'max_depth': 3, 'min_child_weight': 5, 'eta': 6.073087105031846e-05, 'gamma': 0.00015008285795144205, 'grow_policy': 'depthwise', 'sample_type': 'uniform', 'normalize_type': 'tree', 'rate_drop': 0.23154238655076037, 'skip_drop': 6.077017853547954e-06}. Best is trial 0 with value: -0.18434372681507988.\u001b[0m\n",
      "\u001b[32m[I 2023-03-15 21:51:39,394]\u001b[0m Trial 5 finished with value: -0.18436149152107925 and parameters: {'booster': 'gblinear', 'lambda': 0.002154827776758954, 'alpha': 1.46819632835334e-06, 'subsample': 0.6769339004394999, 'colsample_bytree': 0.4847651146528407}. Best is trial 0 with value: -0.18434372681507988.\u001b[0m\n",
      "\u001b[32m[I 2023-03-15 21:51:53,345]\u001b[0m Trial 6 finished with value: -0.24999722258585874 and parameters: {'booster': 'dart', 'lambda': 1.1701367721950685e-08, 'alpha': 0.00021761867896796254, 'subsample': 0.5997307490034798, 'colsample_bytree': 0.22441025753127963, 'max_depth': 7, 'min_child_weight': 8, 'eta': 3.7902489927891164e-07, 'gamma': 0.07397077418228912, 'grow_policy': 'depthwise', 'sample_type': 'uniform', 'normalize_type': 'forest', 'rate_drop': 9.649399770634504e-06, 'skip_drop': 0.015014876324887324}. Best is trial 0 with value: -0.18434372681507988.\u001b[0m\n",
      "\u001b[32m[I 2023-03-15 21:52:07,228]\u001b[0m Trial 7 finished with value: -0.19734676651584038 and parameters: {'booster': 'dart', 'lambda': 0.06632144137046427, 'alpha': 0.46924673169140896, 'subsample': 0.7074827303044009, 'colsample_bytree': 0.6792463812707064, 'max_depth': 5, 'min_child_weight': 10, 'eta': 0.05073516945838348, 'gamma': 0.5095761602091368, 'grow_policy': 'depthwise', 'sample_type': 'uniform', 'normalize_type': 'forest', 'rate_drop': 7.685787848541195e-07, 'skip_drop': 0.5773409923939326}. Best is trial 0 with value: -0.18434372681507988.\u001b[0m\n",
      "\u001b[32m[I 2023-03-15 21:52:08,433]\u001b[0m Trial 8 finished with value: -0.2494710103534826 and parameters: {'booster': 'gbtree', 'lambda': 0.6487707580776328, 'alpha': 0.027951122535263554, 'subsample': 0.27674654165022566, 'colsample_bytree': 0.605129369985284, 'max_depth': 3, 'min_child_weight': 8, 'eta': 6.072099664602483e-05, 'gamma': 1.709133651310058e-05, 'grow_policy': 'lossguide'}. Best is trial 0 with value: -0.18434372681507988.\u001b[0m\n",
      "\u001b[32m[I 2023-03-15 21:52:11,138]\u001b[0m Trial 9 finished with value: -0.204860415444311 and parameters: {'booster': 'gbtree', 'lambda': 0.00010522173117354994, 'alpha': 0.0010124973571197559, 'subsample': 0.8201608738092963, 'colsample_bytree': 0.6790292033352611, 'max_depth': 7, 'min_child_weight': 9, 'eta': 0.06417512679586085, 'gamma': 0.009228003419262859, 'grow_policy': 'depthwise'}. Best is trial 0 with value: -0.18434372681507988.\u001b[0m\n",
      "\u001b[32m[I 2023-03-15 21:52:11,690]\u001b[0m Trial 10 finished with value: -0.1843584862434432 and parameters: {'booster': 'gblinear', 'lambda': 3.5964009053891195e-06, 'alpha': 8.874135559392047e-06, 'subsample': 0.40714677590798404, 'colsample_bytree': 0.45737139726801834}. Best is trial 0 with value: -0.18434372681507988.\u001b[0m\n",
      "\u001b[32m[I 2023-03-15 21:52:12,265]\u001b[0m Trial 11 finished with value: -0.18436027735693786 and parameters: {'booster': 'gblinear', 'lambda': 1.9019153052636163e-05, 'alpha': 1.527869889985401e-08, 'subsample': 0.9746983388226117, 'colsample_bytree': 0.8284904437715059}. Best is trial 0 with value: -0.18434372681507988.\u001b[0m\n",
      "\u001b[32m[I 2023-03-15 21:52:12,835]\u001b[0m Trial 12 finished with value: -0.18436495742168774 and parameters: {'booster': 'gblinear', 'lambda': 6.838012847603993e-07, 'alpha': 1.5700682934375193e-06, 'subsample': 0.46847555274246716, 'colsample_bytree': 0.7732277584313237}. Best is trial 0 with value: -0.18434372681507988.\u001b[0m\n",
      "\u001b[32m[I 2023-03-15 21:52:13,428]\u001b[0m Trial 13 finished with value: -0.18434742504266788 and parameters: {'booster': 'gblinear', 'lambda': 0.00028410429291290593, 'alpha': 1.9393262834252483e-05, 'subsample': 0.22211614515675365, 'colsample_bytree': 0.5016728430996309}. Best is trial 0 with value: -0.18434372681507988.\u001b[0m\n",
      "\u001b[32m[I 2023-03-15 21:52:13,988]\u001b[0m Trial 14 finished with value: -0.18436441578797758 and parameters: {'booster': 'gblinear', 'lambda': 2.8519241936795443e-05, 'alpha': 9.845358517143844e-06, 'subsample': 0.2288362014474869, 'colsample_bytree': 0.4802182374093676}. Best is trial 0 with value: -0.18434372681507988.\u001b[0m\n",
      "\u001b[32m[I 2023-03-15 21:52:14,548]\u001b[0m Trial 15 finished with value: -0.18435467007793743 and parameters: {'booster': 'gblinear', 'lambda': 1.6516175493271064e-06, 'alpha': 2.2887039943401457e-05, 'subsample': 0.2050507892442892, 'colsample_bytree': 0.3762148066518251}. Best is trial 0 with value: -0.18434372681507988.\u001b[0m\n",
      "\u001b[32m[I 2023-03-15 21:52:15,101]\u001b[0m Trial 16 finished with value: -0.18435734660661446 and parameters: {'booster': 'gblinear', 'lambda': 0.00018893889003438713, 'alpha': 1.0707277596283618e-06, 'subsample': 0.3700194669037562, 'colsample_bytree': 0.5750515502622646}. Best is trial 0 with value: -0.18434372681507988.\u001b[0m\n",
      "\u001b[32m[I 2023-03-15 21:52:15,663]\u001b[0m Trial 17 finished with value: -0.18435150454897867 and parameters: {'booster': 'gblinear', 'lambda': 0.004087686624060244, 'alpha': 6.171505048570233e-05, 'subsample': 0.37494249040974814, 'colsample_bytree': 0.34574135577924253}. Best is trial 0 with value: -0.18434372681507988.\u001b[0m\n",
      "\u001b[32m[I 2023-03-15 21:52:16,211]\u001b[0m Trial 18 finished with value: -0.18436386536142604 and parameters: {'booster': 'gblinear', 'lambda': 1.9390626556633527e-05, 'alpha': 0.00015914466252342214, 'subsample': 0.31159244618871756, 'colsample_bytree': 0.5646317156653409}. Best is trial 0 with value: -0.18434372681507988.\u001b[0m\n",
      "\u001b[32m[I 2023-03-15 21:52:32,114]\u001b[0m Trial 19 finished with value: -0.2499989235640169 and parameters: {'booster': 'dart', 'lambda': 0.0004432100986467057, 'alpha': 4.06608769317691e-06, 'subsample': 0.5059399872639895, 'colsample_bytree': 0.3777049200115254, 'max_depth': 9, 'min_child_weight': 2, 'eta': 1.1884593270809989e-07, 'gamma': 1.7062168034015554e-08, 'grow_policy': 'lossguide', 'sample_type': 'weighted', 'normalize_type': 'tree', 'rate_drop': 2.922360523868254e-08, 'skip_drop': 1.6391887155416288e-08}. Best is trial 0 with value: -0.18434372681507988.\u001b[0m\n",
      "\u001b[32m[I 2023-03-15 21:52:32,666]\u001b[0m Trial 20 finished with value: -0.18436445159241438 and parameters: {'booster': 'gblinear', 'lambda': 1.9533170134256918e-07, 'alpha': 4.314454424263163e-07, 'subsample': 0.21155556086739857, 'colsample_bytree': 0.9841475987806075}. Best is trial 0 with value: -0.18434372681507988.\u001b[0m\n",
      "\u001b[32m[I 2023-03-15 21:52:33,227]\u001b[0m Trial 21 finished with value: -0.18434697059706065 and parameters: {'booster': 'gblinear', 'lambda': 0.003538455759880908, 'alpha': 2.9994749916597873e-05, 'subsample': 0.35950457217622056, 'colsample_bytree': 0.3373219009399912}. Best is trial 0 with value: -0.18434372681507988.\u001b[0m\n",
      "\u001b[32m[I 2023-03-15 21:52:33,803]\u001b[0m Trial 22 finished with value: -0.1843554369554274 and parameters: {'booster': 'gblinear', 'lambda': 0.010386716633790576, 'alpha': 3.294053436390328e-05, 'subsample': 0.32779861250480374, 'colsample_bytree': 0.290696820303071}. Best is trial 0 with value: -0.18434372681507988.\u001b[0m\n",
      "\u001b[32m[I 2023-03-15 21:52:34,388]\u001b[0m Trial 23 finished with value: -0.1843671162869984 and parameters: {'booster': 'gblinear', 'lambda': 0.00044155289457891155, 'alpha': 4.6346823984316155e-06, 'subsample': 0.4234250260582248, 'colsample_bytree': 0.4030953986930718}. Best is trial 0 with value: -0.18434372681507988.\u001b[0m\n",
      "\u001b[32m[I 2023-03-15 21:52:34,947]\u001b[0m Trial 24 finished with value: -0.18435040126020885 and parameters: {'booster': 'gblinear', 'lambda': 9.170103500286879e-05, 'alpha': 4.855702545017946e-07, 'subsample': 0.28533678826683495, 'colsample_bytree': 0.30063696786639926}. Best is trial 0 with value: -0.18434372681507988.\u001b[0m\n",
      "\u001b[32m[I 2023-03-15 21:52:35,556]\u001b[0m Trial 25 finished with value: -0.1843526329840141 and parameters: {'booster': 'gblinear', 'lambda': 0.0015468138766287613, 'alpha': 1.651992728430921e-05, 'subsample': 0.34664162674461946, 'colsample_bytree': 0.45659391766914637}. Best is trial 0 with value: -0.18434372681507988.\u001b[0m\n",
      "\u001b[32m[I 2023-03-15 21:52:36,148]\u001b[0m Trial 26 finished with value: -0.18436121353164253 and parameters: {'booster': 'gblinear', 'lambda': 6.786694420827718e-06, 'alpha': 7.75748513182156e-05, 'subsample': 0.47868916599741723, 'colsample_bytree': 0.5347322329400668}. Best is trial 0 with value: -0.18434372681507988.\u001b[0m\n",
      "\u001b[32m[I 2023-03-15 21:52:36,708]\u001b[0m Trial 27 finished with value: -0.18436003448040122 and parameters: {'booster': 'gblinear', 'lambda': 4.4545894941205095e-05, 'alpha': 4.783539668648448e-06, 'subsample': 0.25665470142497837, 'colsample_bytree': 0.41778959497915646}. Best is trial 0 with value: -0.18434372681507988.\u001b[0m\n",
      "\u001b[32m[I 2023-03-15 21:52:50,232]\u001b[0m Trial 28 finished with value: -0.24999978727226946 and parameters: {'booster': 'dart', 'lambda': 0.00015212754447298994, 'alpha': 0.0003423597534613998, 'subsample': 0.33360333296771555, 'colsample_bytree': 0.5228813961520496, 'max_depth': 9, 'min_child_weight': 5, 'eta': 2.2653986516850463e-08, 'gamma': 2.149805617210637e-06, 'grow_policy': 'lossguide', 'sample_type': 'weighted', 'normalize_type': 'tree', 'rate_drop': 0.0027341080002032166, 'skip_drop': 0.00010839288511634024}. Best is trial 0 with value: -0.18434372681507988.\u001b[0m\n",
      "\u001b[32m[I 2023-03-15 21:52:51,657]\u001b[0m Trial 29 finished with value: -0.23987996457331806 and parameters: {'booster': 'gbtree', 'lambda': 0.004817478625626172, 'alpha': 0.0008627935220144459, 'subsample': 0.2826894479431293, 'colsample_bytree': 0.3126858575844386, 'max_depth': 3, 'min_child_weight': 6, 'eta': 0.0015271791655509742, 'gamma': 0.002654739038484801, 'grow_policy': 'lossguide'}. Best is trial 0 with value: -0.18434372681507988.\u001b[0m\n",
      "\u001b[32m[I 2023-03-15 21:52:52,563]\u001b[0m Trial 30 finished with value: -0.36622462508992965 and parameters: {'booster': 'gbtree', 'lambda': 0.0008487300328831969, 'alpha': 2.9217679484108832e-05, 'subsample': 0.25306308628871477, 'colsample_bytree': 0.4176120343404639, 'max_depth': 5, 'min_child_weight': 4, 'eta': 0.902940225409324, 'gamma': 0.9286879520122504, 'grow_policy': 'depthwise'}. Best is trial 0 with value: -0.18434372681507988.\u001b[0m\n",
      "\u001b[32m[I 2023-03-15 21:52:54,091]\u001b[0m Trial 31 finished with value: -0.18437528718196533 and parameters: {'booster': 'gblinear', 'lambda': 6.47384268695522e-05, 'alpha': 3.653649794558705e-07, 'subsample': 0.2898532868282707, 'colsample_bytree': 0.28546957433364917}. Best is trial 0 with value: -0.18434372681507988.\u001b[0m\n",
      "\u001b[32m[I 2023-03-15 21:52:54,645]\u001b[0m Trial 32 finished with value: -0.1844167290924336 and parameters: {'booster': 'gblinear', 'lambda': 0.0002674568830666509, 'alpha': 4.372955607715005e-07, 'subsample': 0.20049459587575072, 'colsample_bytree': 0.20937652148066194}. Best is trial 0 with value: -0.18434372681507988.\u001b[0m\n",
      "\u001b[32m[I 2023-03-15 21:52:55,189]\u001b[0m Trial 33 finished with value: -0.1843796847412237 and parameters: {'booster': 'gblinear', 'lambda': 7.534339397253324e-05, 'alpha': 4.100319764472362e-08, 'subsample': 0.2974112684943844, 'colsample_bytree': 0.32202662331083587}. Best is trial 0 with value: -0.18434372681507988.\u001b[0m\n",
      "\u001b[32m[I 2023-03-15 21:52:55,748]\u001b[0m Trial 34 finished with value: -0.18436458676154804 and parameters: {'booster': 'gblinear', 'lambda': 0.0007686024201619896, 'alpha': 2.235018787791936e-06, 'subsample': 0.3884661554813018, 'colsample_bytree': 0.26488580575344445}. Best is trial 0 with value: -0.18434372681507988.\u001b[0m\n",
      "\u001b[32m[I 2023-03-15 21:52:56,295]\u001b[0m Trial 35 finished with value: -0.18440359773044723 and parameters: {'booster': 'gblinear', 'lambda': 0.00020898349884962335, 'alpha': 1.1223258460267466e-07, 'subsample': 0.2475965509851408, 'colsample_bytree': 0.353432432801338}. Best is trial 0 with value: -0.18434372681507988.\u001b[0m\n",
      "\u001b[32m[I 2023-03-15 21:52:56,847]\u001b[0m Trial 36 finished with value: -0.18439707387730914 and parameters: {'booster': 'gblinear', 'lambda': 1.093570297611975e-05, 'alpha': 8.767665564486759e-07, 'subsample': 0.33771397831376804, 'colsample_bytree': 0.24762218619920706}. Best is trial 0 with value: -0.18434372681507988.\u001b[0m\n",
      "\u001b[32m[I 2023-03-15 21:53:09,671]\u001b[0m Trial 37 finished with value: -0.2499998369711879 and parameters: {'booster': 'dart', 'lambda': 3.5468648591706845e-05, 'alpha': 3.300242927533133e-07, 'subsample': 0.4252376961452693, 'colsample_bytree': 0.32540936531232106, 'max_depth': 9, 'min_child_weight': 7, 'eta': 2.0374435436923e-08, 'gamma': 1.1955338203312101e-08, 'grow_policy': 'lossguide', 'sample_type': 'weighted', 'normalize_type': 'forest', 'rate_drop': 0.0003880745930837231, 'skip_drop': 5.5150721471463815e-08}. Best is trial 0 with value: -0.18434372681507988.\u001b[0m\n",
      "\u001b[32m[I 2023-03-15 21:53:10,827]\u001b[0m Trial 38 finished with value: -0.2451684626732749 and parameters: {'booster': 'gbtree', 'lambda': 0.0020062129741414774, 'alpha': 1.821474167200102e-07, 'subsample': 0.2803673264652787, 'colsample_bytree': 0.20767836222690766, 'max_depth': 5, 'min_child_weight': 2, 'eta': 0.0007596478730054925, 'gamma': 6.322905873497781e-06, 'grow_policy': 'lossguide'}. Best is trial 0 with value: -0.18434372681507988.\u001b[0m\n",
      "\u001b[32m[I 2023-03-15 21:53:11,412]\u001b[0m Trial 39 finished with value: -0.1843616621578835 and parameters: {'booster': 'gblinear', 'lambda': 0.014956790783483855, 'alpha': 2.0767287398560286e-06, 'subsample': 0.24372942848102058, 'colsample_bytree': 0.43631479628466247}. Best is trial 0 with value: -0.18434372681507988.\u001b[0m\n",
      "\u001b[32m[I 2023-03-15 21:53:13,836]\u001b[0m Trial 40 finished with value: -0.24994566370646462 and parameters: {'booster': 'dart', 'lambda': 0.0005739863739414589, 'alpha': 4.9178364668587446e-08, 'subsample': 0.36311716983823644, 'colsample_bytree': 0.5159589236215099, 'max_depth': 7, 'min_child_weight': 6, 'eta': 5.678665370167234e-06, 'gamma': 0.000518481428732071, 'grow_policy': 'depthwise', 'sample_type': 'uniform', 'normalize_type': 'forest', 'rate_drop': 0.9743052270559351, 'skip_drop': 0.0005508838718673975}. Best is trial 0 with value: -0.18434372681507988.\u001b[0m\n",
      "\u001b[32m[I 2023-03-15 21:53:14,410]\u001b[0m Trial 41 finished with value: -0.18436084357134003 and parameters: {'booster': 'gblinear', 'lambda': 0.0048237006231853265, 'alpha': 8.771418146304821e-05, 'subsample': 0.37464482902141016, 'colsample_bytree': 0.36284388027072345}. Best is trial 0 with value: -0.18434372681507988.\u001b[0m\n",
      "\u001b[32m[I 2023-03-15 21:53:14,963]\u001b[0m Trial 42 finished with value: -0.18435192479542392 and parameters: {'booster': 'gblinear', 'lambda': 0.053978669863115676, 'alpha': 5.157704094806634e-05, 'subsample': 0.3067741367680846, 'colsample_bytree': 0.3444967076546927}. Best is trial 0 with value: -0.18434372681507988.\u001b[0m\n",
      "\u001b[32m[I 2023-03-15 21:53:15,504]\u001b[0m Trial 43 finished with value: -0.1843664183237408 and parameters: {'booster': 'gblinear', 'lambda': 9.16699860477891e-05, 'alpha': 1.811076801258055e-05, 'subsample': 0.4186217168140998, 'colsample_bytree': 0.3986412683430278}. Best is trial 0 with value: -0.18434372681507988.\u001b[0m\n",
      "\u001b[32m[I 2023-03-15 21:53:16,037]\u001b[0m Trial 44 finished with value: -0.1843673253984681 and parameters: {'booster': 'gblinear', 'lambda': 0.00335788518237497, 'alpha': 1.0455168889231131e-05, 'subsample': 0.3223449779378399, 'colsample_bytree': 0.4738192840971328}. Best is trial 0 with value: -0.18434372681507988.\u001b[0m\n",
      "\u001b[32m[I 2023-03-15 21:53:16,583]\u001b[0m Trial 45 finished with value: -0.18435071212643375 and parameters: {'booster': 'gblinear', 'lambda': 0.0013361787957740648, 'alpha': 5.1044660399921314e-05, 'subsample': 0.26187572321916913, 'colsample_bytree': 0.25022571291077633}. Best is trial 0 with value: -0.18434372681507988.\u001b[0m\n",
      "\u001b[32m[I 2023-03-15 21:53:17,135]\u001b[0m Trial 46 finished with value: -0.1843542306661386 and parameters: {'booster': 'gblinear', 'lambda': 0.0012686115050243932, 'alpha': 3.4909014208587e-06, 'subsample': 0.2409842990773725, 'colsample_bytree': 0.2461526675578187}. Best is trial 0 with value: -0.18434372681507988.\u001b[0m\n",
      "\u001b[32m[I 2023-03-15 21:53:18,080]\u001b[0m Trial 47 finished with value: -0.24999992336017565 and parameters: {'booster': 'gbtree', 'lambda': 0.0002807969163029714, 'alpha': 9.099635409095676e-07, 'subsample': 0.27086543759507825, 'colsample_bytree': 0.266688910347903, 'max_depth': 3, 'min_child_weight': 4, 'eta': 1.0932321374709697e-08, 'gamma': 3.1898143239261034e-05, 'grow_policy': 'depthwise'}. Best is trial 0 with value: -0.18434372681507988.\u001b[0m\n",
      "\u001b[32m[I 2023-03-15 21:53:18,650]\u001b[0m Trial 48 finished with value: -0.18436679476971968 and parameters: {'booster': 'gblinear', 'lambda': 0.00012237025901662063, 'alpha': 0.00019506918440372037, 'subsample': 0.2223745544404805, 'colsample_bytree': 0.30490316946629126}. Best is trial 0 with value: -0.18434372681507988.\u001b[0m\n",
      "\u001b[32m[I 2023-03-15 21:53:19,204]\u001b[0m Trial 49 finished with value: -0.18436229962851772 and parameters: {'booster': 'gblinear', 'lambda': 3.161302251468933e-05, 'alpha': 8.418447479041038e-06, 'subsample': 0.3031139811552606, 'colsample_bytree': 0.23983218242319942}. Best is trial 0 with value: -0.18434372681507988.\u001b[0m\n",
      "\u001b[32m[I 2023-03-15 21:53:19,749]\u001b[0m Trial 50 finished with value: -0.18436728992265078 and parameters: {'booster': 'gblinear', 'lambda': 0.0009611447900807729, 'alpha': 3.102049799300833e-05, 'subsample': 0.22189376060611649, 'colsample_bytree': 0.6063854424148499}. Best is trial 0 with value: -0.18434372681507988.\u001b[0m\n",
      "\u001b[32m[I 2023-03-15 21:53:20,296]\u001b[0m Trial 51 finished with value: -0.18437328474497613 and parameters: {'booster': 'gblinear', 'lambda': 0.002764317627035289, 'alpha': 7.362537344082025e-05, 'subsample': 0.356118776143631, 'colsample_bytree': 0.3324226233891612}. Best is trial 0 with value: -0.18434372681507988.\u001b[0m\n",
      "\u001b[32m[I 2023-03-15 21:53:20,849]\u001b[0m Trial 52 finished with value: -0.18437063285095018 and parameters: {'booster': 'gblinear', 'lambda': 0.009586069392771035, 'alpha': 4.474426647319755e-05, 'subsample': 0.3960165423170878, 'colsample_bytree': 0.3804318497622126}. Best is trial 0 with value: -0.18434372681507988.\u001b[0m\n",
      "\u001b[32m[I 2023-03-15 21:53:21,407]\u001b[0m Trial 53 finished with value: -0.18435033126235562 and parameters: {'booster': 'gblinear', 'lambda': 0.0006616599430402001, 'alpha': 0.00012664200114261058, 'subsample': 0.2690769173781272, 'colsample_bytree': 0.27753890111543067}. Best is trial 0 with value: -0.18434372681507988.\u001b[0m\n",
      "\u001b[32m[I 2023-03-15 21:53:21,953]\u001b[0m Trial 54 finished with value: -0.18436022015875503 and parameters: {'booster': 'gblinear', 'lambda': 0.00028942055394584024, 'alpha': 0.00032021841742712893, 'subsample': 0.20174815890292996, 'colsample_bytree': 0.28867342076925556}. Best is trial 0 with value: -0.18434372681507988.\u001b[0m\n",
      "\u001b[32m[I 2023-03-15 21:53:22,512]\u001b[0m Trial 55 finished with value: -0.1843571947377146 and parameters: {'booster': 'gblinear', 'lambda': 0.0006121559795990893, 'alpha': 1.3109185281860451e-05, 'subsample': 0.2744276982947432, 'colsample_bytree': 0.20244498945774514}. Best is trial 0 with value: -0.18434372681507988.\u001b[0m\n",
      "\u001b[32m[I 2023-03-15 21:53:23,067]\u001b[0m Trial 56 finished with value: -0.1843644271196187 and parameters: {'booster': 'gblinear', 'lambda': 0.001733639342232877, 'alpha': 8.263292844432867e-06, 'subsample': 0.3204609979062068, 'colsample_bytree': 0.27486709557313943}. Best is trial 0 with value: -0.18434372681507988.\u001b[0m\n",
      "\u001b[32m[I 2023-03-15 21:53:36,493]\u001b[0m Trial 57 finished with value: -0.24641994029875533 and parameters: {'booster': 'dart', 'lambda': 0.00010719983140727659, 'alpha': 0.00013293419622655047, 'subsample': 0.2582401312915966, 'colsample_bytree': 0.3032548213052279, 'max_depth': 9, 'min_child_weight': 8, 'eta': 0.0005451489794118442, 'gamma': 1.5440558549161694e-06, 'grow_policy': 'lossguide', 'sample_type': 'weighted', 'normalize_type': 'tree', 'rate_drop': 3.8678473630273695e-08, 'skip_drop': 3.220044675799798e-06}. Best is trial 0 with value: -0.18434372681507988.\u001b[0m\n",
      "\u001b[32m[I 2023-03-15 21:53:37,052]\u001b[0m Trial 58 finished with value: -0.18436380474984002 and parameters: {'booster': 'gblinear', 'lambda': 1.5236813848333385e-05, 'alpha': 0.0005575491743192249, 'subsample': 0.34725084955456487, 'colsample_bytree': 0.23569757559046645}. Best is trial 0 with value: -0.18434372681507988.\u001b[0m\n",
      "\u001b[32m[I 2023-03-15 21:53:37,601]\u001b[0m Trial 59 finished with value: -0.184344560789024 and parameters: {'booster': 'gblinear', 'lambda': 0.00038482392955369347, 'alpha': 0.0015963877770325536, 'subsample': 0.23243529859005432, 'colsample_bytree': 0.4534194132131961}. Best is trial 0 with value: -0.18434372681507988.\u001b[0m\n",
      "\u001b[32m[I 2023-03-15 21:53:38,799]\u001b[0m Trial 60 finished with value: -0.24999641629377917 and parameters: {'booster': 'gbtree', 'lambda': 5.117797242911661e-05, 'alpha': 0.0037957438630064184, 'subsample': 0.22360824457405984, 'colsample_bytree': 0.43193583342446357, 'max_depth': 7, 'min_child_weight': 7, 'eta': 4.3048578447663676e-07, 'gamma': 0.01602668338740604, 'grow_policy': 'depthwise'}. Best is trial 0 with value: -0.18434372681507988.\u001b[0m\n",
      "\u001b[32m[I 2023-03-15 21:53:39,354]\u001b[0m Trial 61 finished with value: -0.18435590192873635 and parameters: {'booster': 'gblinear', 'lambda': 0.00042953585312407143, 'alpha': 0.0018613067651459662, 'subsample': 0.29023739475399435, 'colsample_bytree': 0.3921015768527029}. Best is trial 0 with value: -0.18434372681507988.\u001b[0m\n",
      "\u001b[32m[I 2023-03-15 21:53:39,927]\u001b[0m Trial 62 finished with value: -0.18435119102735498 and parameters: {'booster': 'gblinear', 'lambda': 0.00016889453440161318, 'alpha': 0.00011845296234358448, 'subsample': 0.2604366619961954, 'colsample_bytree': 0.4915640952478716}. Best is trial 0 with value: -0.18434372681507988.\u001b[0m\n",
      "\u001b[32m[I 2023-03-15 21:53:40,489]\u001b[0m Trial 63 finished with value: -0.18435169239267368 and parameters: {'booster': 'gblinear', 'lambda': 0.0012716140185423468, 'alpha': 2.2726967702996994e-05, 'subsample': 0.23150613331892614, 'colsample_bytree': 0.4406683211115946}. Best is trial 0 with value: -0.18434372681507988.\u001b[0m\n",
      "\u001b[32m[I 2023-03-15 21:53:41,045]\u001b[0m Trial 64 finished with value: -0.1843455307929024 and parameters: {'booster': 'gblinear', 'lambda': 0.0003570848300790308, 'alpha': 4.2188364018005446e-05, 'subsample': 0.3136370802846038, 'colsample_bytree': 0.35839822230401547}. Best is trial 0 with value: -0.18434372681507988.\u001b[0m\n",
      "\u001b[32m[I 2023-03-15 21:53:41,616]\u001b[0m Trial 65 finished with value: -0.18436494997499808 and parameters: {'booster': 'gblinear', 'lambda': 0.0002551252715531435, 'alpha': 0.0002446921996577105, 'subsample': 0.320625603162489, 'colsample_bytree': 0.36483451077292384}. Best is trial 0 with value: -0.18434372681507988.\u001b[0m\n",
      "\u001b[32m[I 2023-03-15 21:53:42,182]\u001b[0m Trial 66 finished with value: -0.18434659979220736 and parameters: {'booster': 'gblinear', 'lambda': 0.0004732116431273784, 'alpha': 4.2544435333755995e-06, 'subsample': 0.30417107825034173, 'colsample_bytree': 0.398926861023499}. Best is trial 0 with value: -0.18434372681507988.\u001b[0m\n",
      "\u001b[32m[I 2023-03-15 21:53:42,785]\u001b[0m Trial 67 finished with value: -0.18434472720367384 and parameters: {'booster': 'gblinear', 'lambda': 0.0005788406574729828, 'alpha': 4.86555691298912e-06, 'subsample': 0.3024181137846544, 'colsample_bytree': 0.40344424025204517}. Best is trial 0 with value: -0.18434372681507988.\u001b[0m\n",
      "\u001b[32m[I 2023-03-15 21:53:43,414]\u001b[0m Trial 68 finished with value: -0.18436318794394074 and parameters: {'booster': 'gblinear', 'lambda': 0.000361216890310382, 'alpha': 5.522847716392894e-06, 'subsample': 0.3480107365862723, 'colsample_bytree': 0.455089272415923}. Best is trial 0 with value: -0.18434372681507988.\u001b[0m\n",
      "\u001b[32m[I 2023-03-15 21:53:57,636]\u001b[0m Trial 69 finished with value: -0.24983379088355345 and parameters: {'booster': 'dart', 'lambda': 0.00016942935195724115, 'alpha': 2.530745058603015e-06, 'subsample': 0.2992987124240734, 'colsample_bytree': 0.41936120665485893, 'max_depth': 5, 'min_child_weight': 3, 'eta': 1.8508335777846845e-05, 'gamma': 0.001087315702740322, 'grow_policy': 'lossguide', 'sample_type': 'weighted', 'normalize_type': 'tree', 'rate_drop': 0.00688583659787425, 'skip_drop': 0.5962186258539307}. Best is trial 0 with value: -0.18434372681507988.\u001b[0m\n",
      "\u001b[32m[I 2023-03-15 21:53:58,197]\u001b[0m Trial 70 finished with value: -0.1843549339112622 and parameters: {'booster': 'gblinear', 'lambda': 5.729695837630807e-05, 'alpha': 1.611982355554991e-05, 'subsample': 0.4431175591145853, 'colsample_bytree': 0.4001238631551033}. Best is trial 0 with value: -0.18434372681507988.\u001b[0m\n",
      "\u001b[32m[I 2023-03-15 21:53:58,759]\u001b[0m Trial 71 finished with value: -0.1843469411240959 and parameters: {'booster': 'gblinear', 'lambda': 0.0006229826523543935, 'alpha': 5.822974981244213e-06, 'subsample': 0.3737355998792475, 'colsample_bytree': 0.3729997304503202}. Best is trial 0 with value: -0.18434372681507988.\u001b[0m\n",
      "\u001b[32m[I 2023-03-15 21:53:59,329]\u001b[0m Trial 72 finished with value: -0.18436806027956004 and parameters: {'booster': 'gblinear', 'lambda': 0.0007799235676073047, 'alpha': 1.4151542994829815e-06, 'subsample': 0.38839017076865107, 'colsample_bytree': 0.36153099312724024}. Best is trial 0 with value: -0.18434372681507988.\u001b[0m\n",
      "\u001b[32m[I 2023-03-15 21:53:59,884]\u001b[0m Trial 73 finished with value: -0.184357258447917 and parameters: {'booster': 'gblinear', 'lambda': 0.00038226571972656634, 'alpha': 6.070476747549311e-06, 'subsample': 0.36186329266636513, 'colsample_bytree': 0.38969693313410214}. Best is trial 0 with value: -0.18434372681507988.\u001b[0m\n",
      "\u001b[32m[I 2023-03-15 21:54:00,440]\u001b[0m Trial 74 finished with value: -0.18436092832209722 and parameters: {'booster': 'gblinear', 'lambda': 0.0027604606017737903, 'alpha': 2.9087077950201454e-05, 'subsample': 0.33093371770594376, 'colsample_bytree': 0.4699183754812006}. Best is trial 0 with value: -0.18434372681507988.\u001b[0m\n",
      "\u001b[32m[I 2023-03-15 21:54:01,029]\u001b[0m Trial 75 finished with value: -0.1843714896244185 and parameters: {'booster': 'gblinear', 'lambda': 0.00014793248627125986, 'alpha': 2.6237965670562804e-06, 'subsample': 0.3075921714920404, 'colsample_bytree': 0.4981549235730483}. Best is trial 0 with value: -0.18434372681507988.\u001b[0m\n",
      "\u001b[32m[I 2023-03-15 21:54:01,597]\u001b[0m Trial 76 finished with value: -0.1843502815766293 and parameters: {'booster': 'gblinear', 'lambda': 0.0005253380522160799, 'alpha': 3.877200370399955e-06, 'subsample': 0.20056408217367774, 'colsample_bytree': 0.3424833289893207}. Best is trial 0 with value: -0.18434372681507988.\u001b[0m\n",
      "\u001b[32m[I 2023-03-15 21:54:03,055]\u001b[0m Trial 77 finished with value: -0.21875945315358267 and parameters: {'booster': 'gbtree', 'lambda': 0.0010460860041322025, 'alpha': 1.1970115576971417e-05, 'subsample': 0.3782960143575753, 'colsample_bytree': 0.42023410217189083, 'max_depth': 9, 'min_child_weight': 9, 'eta': 0.005150448870350282, 'gamma': 6.423433311745102e-05, 'grow_policy': 'lossguide'}. Best is trial 0 with value: -0.18434372681507988.\u001b[0m\n",
      "\u001b[32m[I 2023-03-15 21:54:03,599]\u001b[0m Trial 78 finished with value: -0.18435558784309616 and parameters: {'booster': 'gblinear', 'lambda': 0.00223340728776688, 'alpha': 8.332001402614298e-06, 'subsample': 0.3336505919346175, 'colsample_bytree': 0.46043016861125374}. Best is trial 0 with value: -0.18434372681507988.\u001b[0m\n",
      "\u001b[32m[I 2023-03-15 21:54:04,156]\u001b[0m Trial 79 finished with value: -0.18435963275917516 and parameters: {'booster': 'gblinear', 'lambda': 8.358762393560018e-05, 'alpha': 1.530499056883754e-06, 'subsample': 0.23793016944504003, 'colsample_bytree': 0.44549558082697005}. Best is trial 0 with value: -0.18434372681507988.\u001b[0m\n",
      "\u001b[32m[I 2023-03-15 21:54:04,707]\u001b[0m Trial 80 finished with value: -0.18434946930807494 and parameters: {'booster': 'gblinear', 'lambda': 0.0002196742507478604, 'alpha': 1.643178294450719e-05, 'subsample': 0.29089860044443167, 'colsample_bytree': 0.41449042792672797}. Best is trial 0 with value: -0.18434372681507988.\u001b[0m\n",
      "\u001b[32m[I 2023-03-15 21:54:05,258]\u001b[0m Trial 81 finished with value: -0.184347533763964 and parameters: {'booster': 'gblinear', 'lambda': 0.0002534899047489904, 'alpha': 1.9744003191845032e-05, 'subsample': 0.28055058568808244, 'colsample_bytree': 0.41357749469415855}. Best is trial 0 with value: -0.18434372681507988.\u001b[0m\n",
      "\u001b[32m[I 2023-03-15 21:54:05,815]\u001b[0m Trial 82 finished with value: -0.18433827582905957 and parameters: {'booster': 'gblinear', 'lambda': 0.0004491704713556265, 'alpha': 4.673747608662968e-05, 'subsample': 0.24105156550168522, 'colsample_bytree': 0.3763472673228348}. Best is trial 82 with value: -0.18433827582905957.\u001b[0m\n",
      "\u001b[32m[I 2023-03-15 21:54:06,373]\u001b[0m Trial 83 finished with value: -0.18435980670173668 and parameters: {'booster': 'gblinear', 'lambda': 0.00045197568158749805, 'alpha': 4.291735110697282e-05, 'subsample': 0.24586026308445333, 'colsample_bytree': 0.3683396838989019}. Best is trial 82 with value: -0.18433827582905957.\u001b[0m\n",
      "\u001b[32m[I 2023-03-15 21:54:06,934]\u001b[0m Trial 84 finished with value: -0.18437593742746375 and parameters: {'booster': 'gblinear', 'lambda': 0.0008142506909459354, 'alpha': 5.261221493595633e-06, 'subsample': 0.2263808741248983, 'colsample_bytree': 0.382041104180397}. Best is trial 82 with value: -0.18433827582905957.\u001b[0m\n",
      "\u001b[32m[I 2023-03-15 21:54:07,920]\u001b[0m Trial 85 finished with value: -0.18434655455647012 and parameters: {'booster': 'gblinear', 'lambda': 0.0016482906653774603, 'alpha': 7.200508969620386e-05, 'subsample': 0.31695054767012476, 'colsample_bytree': 0.3314342552488998}. Best is trial 82 with value: -0.18433827582905957.\u001b[0m\n",
      "\u001b[32m[I 2023-03-15 21:54:08,480]\u001b[0m Trial 86 finished with value: -0.18436173693668736 and parameters: {'booster': 'gblinear', 'lambda': 0.0037946072705169133, 'alpha': 7.918772521862324e-05, 'subsample': 0.31254539818403826, 'colsample_bytree': 0.32629307347807346}. Best is trial 82 with value: -0.18433827582905957.\u001b[0m\n",
      "\u001b[32m[I 2023-03-15 21:54:20,390]\u001b[0m Trial 87 finished with value: -0.24825407824814505 and parameters: {'booster': 'dart', 'lambda': 0.006162051317641058, 'alpha': 4.4620794564279135e-05, 'subsample': 0.35358436459221626, 'colsample_bytree': 0.3459420752342517, 'max_depth': 3, 'min_child_weight': 5, 'eta': 0.00023141500333225955, 'gamma': 2.067863702965595e-07, 'grow_policy': 'depthwise', 'sample_type': 'uniform', 'normalize_type': 'forest', 'rate_drop': 1.7192440657816986e-05, 'skip_drop': 0.005989193217006037}. Best is trial 82 with value: -0.18433827582905957.\u001b[0m\n",
      "\u001b[32m[I 2023-03-15 21:54:20,963]\u001b[0m Trial 88 finished with value: -0.18436632827136668 and parameters: {'booster': 'gblinear', 'lambda': 0.001223068839776474, 'alpha': 8.923289150999716e-05, 'subsample': 0.40277042537809393, 'colsample_bytree': 0.3129503110022917}. Best is trial 82 with value: -0.18433827582905957.\u001b[0m\n",
      "\u001b[32m[I 2023-03-15 21:54:21,529]\u001b[0m Trial 89 finished with value: -0.18436337085807225 and parameters: {'booster': 'gblinear', 'lambda': 0.002816688752287379, 'alpha': 3.407941395638013e-05, 'subsample': 0.33750186918504765, 'colsample_bytree': 0.3761630413942779}. Best is trial 82 with value: -0.18433827582905957.\u001b[0m\n",
      "\u001b[32m[I 2023-03-15 21:54:22,094]\u001b[0m Trial 90 finished with value: -0.18435905267273692 and parameters: {'booster': 'gblinear', 'lambda': 0.0014362900539201392, 'alpha': 3.5685092189054147e-06, 'subsample': 0.36926357259305925, 'colsample_bytree': 0.3504805233126919}. Best is trial 82 with value: -0.18433827582905957.\u001b[0m\n",
      "\u001b[32m[I 2023-03-15 21:54:22,665]\u001b[0m Trial 91 finished with value: -0.18435297812083923 and parameters: {'booster': 'gblinear', 'lambda': 0.0005729144479141776, 'alpha': 1.2980249655497372e-05, 'subsample': 0.26884908161694654, 'colsample_bytree': 0.4342219290249913}. Best is trial 82 with value: -0.18433827582905957.\u001b[0m\n",
      "\u001b[32m[I 2023-03-15 21:54:23,222]\u001b[0m Trial 92 finished with value: -0.18434571486863083 and parameters: {'booster': 'gblinear', 'lambda': 0.0003068462460770441, 'alpha': 7.1131681991952854e-06, 'subsample': 0.2525008033673722, 'colsample_bytree': 0.39041901475966834}. Best is trial 82 with value: -0.18433827582905957.\u001b[0m\n",
      "\u001b[32m[I 2023-03-15 21:54:23,786]\u001b[0m Trial 93 finished with value: -0.18436164447935283 and parameters: {'booster': 'gblinear', 'lambda': 0.00013063748267346165, 'alpha': 7.0466247395639025e-06, 'subsample': 0.301435562145817, 'colsample_bytree': 0.39149248006040205}. Best is trial 82 with value: -0.18433827582905957.\u001b[0m\n",
      "\u001b[32m[I 2023-03-15 21:54:24,340]\u001b[0m Trial 94 finished with value: -0.184364090977554 and parameters: {'booster': 'gblinear', 'lambda': 0.0017625044892060839, 'alpha': 6.493346219967542e-07, 'subsample': 0.2507102192976043, 'colsample_bytree': 0.3594334166430311}. Best is trial 82 with value: -0.18433827582905957.\u001b[0m\n",
      "\u001b[32m[I 2023-03-15 21:54:24,895]\u001b[0m Trial 95 finished with value: -0.18436170825823417 and parameters: {'booster': 'gblinear', 'lambda': 0.0007684162438520043, 'alpha': 2.1771458941081324e-05, 'subsample': 0.2861855112046762, 'colsample_bytree': 0.40364208058201473}. Best is trial 82 with value: -0.18433827582905957.\u001b[0m\n",
      "\u001b[32m[I 2023-03-15 21:54:25,456]\u001b[0m Trial 96 finished with value: -0.1843714047228948 and parameters: {'booster': 'gblinear', 'lambda': 0.00040056510352827354, 'alpha': 1.7711292149074602e-06, 'subsample': 0.318289155415229, 'colsample_bytree': 0.3205611559335674}. Best is trial 82 with value: -0.18433827582905957.\u001b[0m\n",
      "\u001b[32m[I 2023-03-15 21:54:27,555]\u001b[0m Trial 97 finished with value: -0.24972880698349614 and parameters: {'booster': 'gbtree', 'lambda': 0.00033562008280237093, 'alpha': 9.91943811784629e-06, 'subsample': 0.2594896776616144, 'colsample_bytree': 0.3395935153902359, 'max_depth': 7, 'min_child_weight': 7, 'eta': 3.540391038512213e-05, 'gamma': 0.06248484684269279, 'grow_policy': 'depthwise'}. Best is trial 82 with value: -0.18433827582905957.\u001b[0m\n",
      "\u001b[32m[I 2023-03-15 21:54:28,110]\u001b[0m Trial 98 finished with value: -0.18434943607336432 and parameters: {'booster': 'gblinear', 'lambda': 0.001957423412049083, 'alpha': 6.43075962099649e-05, 'subsample': 0.23985317756513055, 'colsample_bytree': 0.47227811260563274}. Best is trial 82 with value: -0.18433827582905957.\u001b[0m\n",
      "\u001b[32m[I 2023-03-15 21:54:28,683]\u001b[0m Trial 99 finished with value: -0.18436871208261502 and parameters: {'booster': 'gblinear', 'lambda': 0.00017241859678733263, 'alpha': 1.083078954881988e-06, 'subsample': 0.211294267282927, 'colsample_bytree': 0.37628600538128226}. Best is trial 82 with value: -0.18433827582905957.\u001b[0m\n"
     ]
    }
   ],
   "source": [
    "study = run_study(X_train, y_train)"
   ]
  },
  {
   "cell_type": "code",
   "execution_count": 9,
   "id": "3af22850",
   "metadata": {
    "execution": {
     "iopub.execute_input": "2023-03-15T21:54:28.716472Z",
     "iopub.status.busy": "2023-03-15T21:54:28.716117Z",
     "iopub.status.idle": "2023-03-15T21:54:28.824951Z",
     "shell.execute_reply": "2023-03-15T21:54:28.824135Z"
    },
    "papermill": {
     "duration": 0.122695,
     "end_time": "2023-03-15T21:54:28.827572",
     "exception": false,
     "start_time": "2023-03-15T21:54:28.704877",
     "status": "completed"
    },
    "tags": []
   },
   "outputs": [
    {
     "name": "stdout",
     "output_type": "stream",
     "text": [
      "Brier Score: 0.140594972609948\n",
      "ROC AUC: 0.8809799382716048\n",
      "Parameters\n",
      "- objective: binary:logistic\n",
      "- use_label_encoder: False\n",
      "- base_score: 0.5\n",
      "- booster: gblinear\n",
      "- callbacks: None\n",
      "- colsample_bylevel: None\n",
      "- colsample_bynode: None\n",
      "- colsample_bytree: 0.3763472673228348\n",
      "- early_stopping_rounds: None\n",
      "- enable_categorical: False\n",
      "- eval_metric: None\n",
      "- gamma: None\n",
      "- gpu_id: -1\n",
      "- grow_policy: None\n",
      "- importance_type: None\n",
      "- interaction_constraints: None\n",
      "- learning_rate: 0.5\n",
      "- max_bin: None\n",
      "- max_cat_to_onehot: None\n",
      "- max_delta_step: None\n",
      "- max_depth: None\n",
      "- max_leaves: None\n",
      "- min_child_weight: None\n",
      "- missing: nan\n",
      "- monotone_constraints: None\n",
      "- n_estimators: 100\n",
      "- n_jobs: 0\n",
      "- num_parallel_tree: None\n",
      "- predictor: None\n",
      "- random_state: 0\n",
      "- reg_alpha: 0\n",
      "- reg_lambda: 0\n",
      "- sampling_method: None\n",
      "- scale_pos_weight: 1\n",
      "- subsample: 0.24105156550168522\n",
      "- tree_method: exact\n",
      "- validate_parameters: 1\n",
      "- verbosity: 0\n",
      "- boosting_type: gbdt\n",
      "- lambda: 0.0004491704713556265\n",
      "- alpha: 4.673747608662968e-05\n"
     ]
    }
   ],
   "source": [
    "params = study.best_params\n",
    "model = train_model(params, X_train, y_train, SCORING)\n",
    "preds = model.predict_proba(X_valid)[:,1]\n",
    "print(\"Brier Score:\", brier_score_loss(y_valid, preds))\n",
    "print(\"ROC AUC:\", roc_auc_score(y_valid, preds))\n",
    "print(\"Parameters\")\n",
    "print(*(f\"- {key}: {value}\" for key, value in model.get_params(deep=True).items()), sep=\"\\n\")"
   ]
  },
  {
   "cell_type": "markdown",
   "id": "6ab2078f",
   "metadata": {
    "papermill": {
     "duration": 0.009716,
     "end_time": "2023-03-15T21:54:28.848630",
     "exception": false,
     "start_time": "2023-03-15T21:54:28.838914",
     "status": "completed"
    },
    "tags": []
   },
   "source": [
    "# Submit to the competition\n",
    "\n",
    "We\"ll begin by using the trained model to generate predictions, which we\"ll save to a CSV file."
   ]
  },
  {
   "cell_type": "code",
   "execution_count": 10,
   "id": "e56ff6ce",
   "metadata": {
    "execution": {
     "iopub.execute_input": "2023-03-15T21:54:28.869943Z",
     "iopub.status.busy": "2023-03-15T21:54:28.869607Z",
     "iopub.status.idle": "2023-03-15T21:54:29.739931Z",
     "shell.execute_reply": "2023-03-15T21:54:29.738824Z"
    },
    "papermill": {
     "duration": 0.884603,
     "end_time": "2023-03-15T21:54:29.743090",
     "exception": false,
     "start_time": "2023-03-15T21:54:28.858487",
     "status": "completed"
    },
    "tags": []
   },
   "outputs": [
    {
     "name": "stdout",
     "output_type": "stream",
     "text": [
      "(130683, 2)\n"
     ]
    },
    {
     "data": {
      "text/html": [
       "<div>\n",
       "<style scoped>\n",
       "    .dataframe tbody tr th:only-of-type {\n",
       "        vertical-align: middle;\n",
       "    }\n",
       "\n",
       "    .dataframe tbody tr th {\n",
       "        vertical-align: top;\n",
       "    }\n",
       "\n",
       "    .dataframe thead th {\n",
       "        text-align: right;\n",
       "    }\n",
       "</style>\n",
       "<table border=\"1\" class=\"dataframe\">\n",
       "  <thead>\n",
       "    <tr style=\"text-align: right;\">\n",
       "      <th></th>\n",
       "      <th>Pred</th>\n",
       "    </tr>\n",
       "  </thead>\n",
       "  <tbody>\n",
       "    <tr>\n",
       "      <th>count</th>\n",
       "      <td>130683.000000</td>\n",
       "    </tr>\n",
       "    <tr>\n",
       "      <th>mean</th>\n",
       "      <td>0.499975</td>\n",
       "    </tr>\n",
       "    <tr>\n",
       "      <th>std</th>\n",
       "      <td>0.028806</td>\n",
       "    </tr>\n",
       "    <tr>\n",
       "      <th>min</th>\n",
       "      <td>0.006626</td>\n",
       "    </tr>\n",
       "    <tr>\n",
       "      <th>25%</th>\n",
       "      <td>0.500000</td>\n",
       "    </tr>\n",
       "    <tr>\n",
       "      <th>50%</th>\n",
       "      <td>0.500000</td>\n",
       "    </tr>\n",
       "    <tr>\n",
       "      <th>75%</th>\n",
       "      <td>0.500000</td>\n",
       "    </tr>\n",
       "    <tr>\n",
       "      <th>max</th>\n",
       "      <td>0.996123</td>\n",
       "    </tr>\n",
       "  </tbody>\n",
       "</table>\n",
       "</div>"
      ],
      "text/plain": [
       "                Pred\n",
       "count  130683.000000\n",
       "mean        0.499975\n",
       "std         0.028806\n",
       "min         0.006626\n",
       "25%         0.500000\n",
       "50%         0.500000\n",
       "75%         0.500000\n",
       "max         0.996123"
      ]
     },
     "execution_count": 10,
     "metadata": {},
     "output_type": "execute_result"
    }
   ],
   "source": [
    "# Use the model to generate predictions\n",
    "model.fit(X, y)\n",
    "predictions = model.predict_proba(X_submission)[:,1]\n",
    "\n",
    "# Save the predictions to a CSV file\n",
    "output = pd.DataFrame({\"ID\": X_submission.index,\n",
    "                       \"Pred\": predictions})\n",
    "output.to_csv(\"submission.csv\", index=False)\n",
    "print(output.shape)\n",
    "output.describe()"
   ]
  },
  {
   "cell_type": "code",
   "execution_count": null,
   "id": "e366be47",
   "metadata": {
    "papermill": {
     "duration": 0.014962,
     "end_time": "2023-03-15T21:54:29.774432",
     "exception": false,
     "start_time": "2023-03-15T21:54:29.759470",
     "status": "completed"
    },
    "tags": []
   },
   "outputs": [],
   "source": []
  }
 ],
 "metadata": {
  "kernelspec": {
   "display_name": "Python 3",
   "language": "python",
   "name": "python3"
  },
  "language_info": {
   "codemirror_mode": {
    "name": "ipython",
    "version": 3
   },
   "file_extension": ".py",
   "mimetype": "text/x-python",
   "name": "python",
   "nbconvert_exporter": "python",
   "pygments_lexer": "ipython3",
   "version": "3.7.12"
  },
  "papermill": {
   "default_parameters": {},
   "duration": 218.790346,
   "end_time": "2023-03-15T21:54:31.215586",
   "environment_variables": {},
   "exception": null,
   "input_path": "__notebook__.ipynb",
   "output_path": "__notebook__.ipynb",
   "parameters": {},
   "start_time": "2023-03-15T21:50:52.425240",
   "version": "2.4.0"
  }
 },
 "nbformat": 4,
 "nbformat_minor": 5
}
