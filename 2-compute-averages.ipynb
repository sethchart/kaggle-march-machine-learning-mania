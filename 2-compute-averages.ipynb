{
 "cells": [
  {
   "cell_type": "markdown",
   "id": "712c306b",
   "metadata": {
    "papermill": {
     "duration": 0.089136,
     "end_time": "2022-03-15T21:56:04.658361",
     "exception": false,
     "start_time": "2022-03-15T21:56:04.569225",
     "status": "completed"
    },
    "tags": []
   },
   "source": [
    "# Machine Learning Madness 2021\n",
    "**Stage 1**: Use historical data to build and train models  \n",
    "**Stage 2**: Predict 2021 NCAA champtionship  \n",
    "**Evaluated by**: Log loss  \n",
    "**Predict**: Each matchup "
   ]
  },
  {
   "cell_type": "code",
   "execution_count": 1,
   "id": "7a15b3d9",
   "metadata": {
    "execution": {
     "iopub.execute_input": "2022-03-15T21:56:04.832025Z",
     "iopub.status.busy": "2022-03-15T21:56:04.831159Z",
     "iopub.status.idle": "2022-03-15T21:56:04.852082Z",
     "shell.execute_reply": "2022-03-15T21:56:04.852598Z",
     "shell.execute_reply.started": "2022-03-15T21:50:59.435731Z"
    },
    "papermill": {
     "duration": 0.114717,
     "end_time": "2022-03-15T21:56:04.852942",
     "exception": false,
     "start_time": "2022-03-15T21:56:04.738225",
     "status": "completed"
    },
    "tags": []
   },
   "outputs": [
    {
     "name": "stdout",
     "output_type": "stream",
     "text": [
      "/kaggle/input/mens-march-mania-2022/MDataFiles_Stage2/Conferences.csv\n",
      "/kaggle/input/mens-march-mania-2022/MDataFiles_Stage2/MMasseyOrdinals_thruDay128.csv\n",
      "/kaggle/input/mens-march-mania-2022/MDataFiles_Stage2/MNCAATourneySeedRoundSlots.csv\n",
      "/kaggle/input/mens-march-mania-2022/MDataFiles_Stage2/MRegularSeasonDetailedResults.csv\n",
      "/kaggle/input/mens-march-mania-2022/MDataFiles_Stage2/MNCAATourneyCompactResults.csv\n",
      "/kaggle/input/mens-march-mania-2022/MDataFiles_Stage2/MGameCities.csv\n",
      "/kaggle/input/mens-march-mania-2022/MDataFiles_Stage2/MSampleSubmissionStage2.csv\n",
      "/kaggle/input/mens-march-mania-2022/MDataFiles_Stage2/MSeasons.csv\n",
      "/kaggle/input/mens-march-mania-2022/MDataFiles_Stage2/MSecondaryTourneyTeams.csv\n",
      "/kaggle/input/mens-march-mania-2022/MDataFiles_Stage2/Cities.csv\n",
      "/kaggle/input/mens-march-mania-2022/MDataFiles_Stage2/MTeamSpellings.csv\n",
      "/kaggle/input/mens-march-mania-2022/MDataFiles_Stage2/MRegularSeasonCompactResults.csv\n",
      "/kaggle/input/mens-march-mania-2022/MDataFiles_Stage2/MSecondaryTourneyCompactResults.csv\n",
      "/kaggle/input/mens-march-mania-2022/MDataFiles_Stage2/MNCAATourneySlots.csv\n",
      "/kaggle/input/mens-march-mania-2022/MDataFiles_Stage2/MNCAATourneySeeds.csv\n",
      "/kaggle/input/mens-march-mania-2022/MDataFiles_Stage2/MTeamCoaches.csv\n",
      "/kaggle/input/mens-march-mania-2022/MDataFiles_Stage2/MConferenceTourneyGames.csv\n",
      "/kaggle/input/mens-march-mania-2022/MDataFiles_Stage2/MNCAATourneyDetailedResults.csv\n",
      "/kaggle/input/mens-march-mania-2022/MDataFiles_Stage2/MTeamConferences.csv\n",
      "/kaggle/input/mens-march-mania-2022/MDataFiles_Stage2/MTeams.csv\n",
      "/kaggle/input/mens-march-mania-2022/MDataFiles_Stage1/Conferences.csv\n",
      "/kaggle/input/mens-march-mania-2022/MDataFiles_Stage1/MNCAATourneySeedRoundSlots.csv\n",
      "/kaggle/input/mens-march-mania-2022/MDataFiles_Stage1/MRegularSeasonDetailedResults.csv\n",
      "/kaggle/input/mens-march-mania-2022/MDataFiles_Stage1/MNCAATourneyCompactResults.csv\n",
      "/kaggle/input/mens-march-mania-2022/MDataFiles_Stage1/MGameCities.csv\n",
      "/kaggle/input/mens-march-mania-2022/MDataFiles_Stage1/MSeasons.csv\n",
      "/kaggle/input/mens-march-mania-2022/MDataFiles_Stage1/MSecondaryTourneyTeams.csv\n",
      "/kaggle/input/mens-march-mania-2022/MDataFiles_Stage1/Cities.csv\n",
      "/kaggle/input/mens-march-mania-2022/MDataFiles_Stage1/MTeamSpellings.csv\n",
      "/kaggle/input/mens-march-mania-2022/MDataFiles_Stage1/MRegularSeasonCompactResults.csv\n",
      "/kaggle/input/mens-march-mania-2022/MDataFiles_Stage1/MMasseyOrdinals.csv\n",
      "/kaggle/input/mens-march-mania-2022/MDataFiles_Stage1/MSecondaryTourneyCompactResults.csv\n",
      "/kaggle/input/mens-march-mania-2022/MDataFiles_Stage1/MNCAATourneySlots.csv\n",
      "/kaggle/input/mens-march-mania-2022/MDataFiles_Stage1/MNCAATourneySeeds.csv\n",
      "/kaggle/input/mens-march-mania-2022/MDataFiles_Stage1/MTeamCoaches.csv\n",
      "/kaggle/input/mens-march-mania-2022/MDataFiles_Stage1/MConferenceTourneyGames.csv\n",
      "/kaggle/input/mens-march-mania-2022/MDataFiles_Stage1/MNCAATourneyDetailedResults.csv\n",
      "/kaggle/input/mens-march-mania-2022/MDataFiles_Stage1/MSampleSubmissionStage1.csv\n",
      "/kaggle/input/mens-march-mania-2022/MDataFiles_Stage1/MTeamConferences.csv\n",
      "/kaggle/input/mens-march-mania-2022/MDataFiles_Stage1/MTeams.csv\n"
     ]
    }
   ],
   "source": [
    "# This Python 3 environment comes with many helpful analytics libraries installed\n",
    "# It is defined by the kaggle/python Docker image: https://github.com/kaggle/docker-python\n",
    "# For example, here's several helpful packages to load\n",
    "\n",
    "import numpy as np # linear algebra\n",
    "import pandas as pd # data processing, CSV file I/O (e.g. pd.read_csv)\n",
    "\n",
    "# Input data files are available in the read-only \"../input/\" directory\n",
    "# For example, running this (by clicking run or pressing Shift+Enter) will list all files under the input directory\n",
    "\n",
    "import os\n",
    "for dirname, _, filenames in os.walk('/kaggle/input'):\n",
    "    for filename in filenames:\n",
    "        print(os.path.join(dirname, filename))\n",
    "\n",
    "# You can write up to 20GB to the current directory (/kaggle/working/) that gets preserved as output when you create a version using \"Save & Run All\" \n",
    "# You can also write temporary files to /kaggle/temp/, but they won't be saved outside of the current session"
   ]
  },
  {
   "cell_type": "code",
   "execution_count": 2,
   "id": "8e75e33b",
   "metadata": {
    "execution": {
     "iopub.execute_input": "2022-03-15T21:56:05.028891Z",
     "iopub.status.busy": "2022-03-15T21:56:05.028164Z",
     "iopub.status.idle": "2022-03-15T21:56:06.556644Z",
     "shell.execute_reply": "2022-03-15T21:56:06.556081Z",
     "shell.execute_reply.started": "2022-03-15T21:50:59.451514Z"
    },
    "papermill": {
     "duration": 1.622445,
     "end_time": "2022-03-15T21:56:06.556807",
     "exception": false,
     "start_time": "2022-03-15T21:56:04.934362",
     "status": "completed"
    },
    "tags": []
   },
   "outputs": [],
   "source": [
    "# This Python 3 environment comes with many helpful analytics libraries installed\n",
    "# It is defined by the kaggle/python Docker image: https://github.com/kaggle/docker-python\n",
    "# For example, here's several helpful packages to load\n",
    "\n",
    "import numpy as np # linear algebra\n",
    "import pandas as pd # data processing, CSV file I/O (e.g. pd.read_csv)\n",
    "\n",
    "# Input data files are available in the read-only \"../input/\" directory\n",
    "# For example, running this (by clicking run or pressing Shift+Enter) will list all files under the input directory\n",
    "\n",
    "import os\n",
    "\n",
    "# You can write up to 20GB to the current directory (/kaggle/working/) that gets preserved as output when you create a version using \"Save & Run All\" \n",
    "# You can also write temporary files to /kaggle/temp/, but they won't be saved outside of the current session\n",
    "\n",
    "import re\n",
    "\n",
    "# Matplotlib for visualization\n",
    "from matplotlib import pyplot as plt\n",
    "# display plots in the notebook\n",
    "%matplotlib inline \n",
    "\n",
    "# Seaborn for easier visualization\n",
    "import seaborn as sns\n",
    "# Scikit-Learn for Modeling\n",
    "import sklearn\n",
    "# Pickle for saving model files\n",
    "import pickle\n",
    "\n",
    "# Import Logistic Regression\n",
    "from sklearn.linear_model import LogisticRegression\n",
    "# Import RandomForestClassifier and GradientBoostingClassifer\n",
    "from sklearn.ensemble import RandomForestClassifier, GradientBoostingClassifier\n",
    "\n",
    "# Function for splitting training and test set\n",
    "from sklearn.model_selection import train_test_split\n",
    "# Function for creating model pipelines\n",
    "from sklearn.pipeline import make_pipeline\n",
    "# For standardization\n",
    "from sklearn.preprocessing import StandardScaler\n",
    "# Helper for cross-validation\n",
    "from sklearn.model_selection import GridSearchCV\n",
    "# Classification metrics (added later)\n",
    "from sklearn.metrics import roc_curve, auc\n",
    "\n",
    "from sklearn.preprocessing import LabelEncoder\n",
    "from sklearn.preprocessing import OneHotEncoder"
   ]
  },
  {
   "cell_type": "code",
   "execution_count": 3,
   "id": "3ef9ec40",
   "metadata": {
    "execution": {
     "iopub.execute_input": "2022-03-15T21:56:06.721642Z",
     "iopub.status.busy": "2022-03-15T21:56:06.720683Z",
     "iopub.status.idle": "2022-03-15T21:56:06.736475Z",
     "shell.execute_reply": "2022-03-15T21:56:06.737036Z",
     "shell.execute_reply.started": "2022-03-15T21:50:59.467992Z"
    },
    "papermill": {
     "duration": 0.099348,
     "end_time": "2022-03-15T21:56:06.737227",
     "exception": false,
     "start_time": "2022-03-15T21:56:06.637879",
     "status": "completed"
    },
    "tags": []
   },
   "outputs": [],
   "source": [
    "#read in the team data\n",
    "df_teams = pd.read_csv('/kaggle/input/mens-march-mania-2022/MDataFiles_Stage1/MTeams.csv')"
   ]
  },
  {
   "cell_type": "markdown",
   "id": "7b60d87c",
   "metadata": {
    "papermill": {
     "duration": 0.079852,
     "end_time": "2022-03-15T21:56:06.898793",
     "exception": false,
     "start_time": "2022-03-15T21:56:06.818941",
     "status": "completed"
    },
    "tags": []
   },
   "source": [
    "The MTeams.csv data has the team name, the ID number which is a 4 digit ID, the first season they were in D1 and the last season they were in D1. If the last season date is 2021, they are currently in D1. The dataset goes back to 1985 so that's the earliest year available."
   ]
  },
  {
   "cell_type": "code",
   "execution_count": 4,
   "id": "c2bae41d",
   "metadata": {
    "execution": {
     "iopub.execute_input": "2022-03-15T21:56:07.064396Z",
     "iopub.status.busy": "2022-03-15T21:56:07.063701Z",
     "iopub.status.idle": "2022-03-15T21:56:07.081589Z",
     "shell.execute_reply": "2022-03-15T21:56:07.081060Z",
     "shell.execute_reply.started": "2022-03-15T21:50:59.494497Z"
    },
    "papermill": {
     "duration": 0.101389,
     "end_time": "2022-03-15T21:56:07.081764",
     "exception": false,
     "start_time": "2022-03-15T21:56:06.980375",
     "status": "completed"
    },
    "tags": []
   },
   "outputs": [
    {
     "data": {
      "text/html": [
       "<div>\n",
       "<style scoped>\n",
       "    .dataframe tbody tr th:only-of-type {\n",
       "        vertical-align: middle;\n",
       "    }\n",
       "\n",
       "    .dataframe tbody tr th {\n",
       "        vertical-align: top;\n",
       "    }\n",
       "\n",
       "    .dataframe thead th {\n",
       "        text-align: right;\n",
       "    }\n",
       "</style>\n",
       "<table border=\"1\" class=\"dataframe\">\n",
       "  <thead>\n",
       "    <tr style=\"text-align: right;\">\n",
       "      <th></th>\n",
       "      <th>TeamID</th>\n",
       "      <th>TeamName</th>\n",
       "      <th>FirstD1Season</th>\n",
       "      <th>LastD1Season</th>\n",
       "    </tr>\n",
       "  </thead>\n",
       "  <tbody>\n",
       "    <tr>\n",
       "      <th>0</th>\n",
       "      <td>1101</td>\n",
       "      <td>Abilene Chr</td>\n",
       "      <td>2014</td>\n",
       "      <td>2022</td>\n",
       "    </tr>\n",
       "    <tr>\n",
       "      <th>1</th>\n",
       "      <td>1102</td>\n",
       "      <td>Air Force</td>\n",
       "      <td>1985</td>\n",
       "      <td>2022</td>\n",
       "    </tr>\n",
       "    <tr>\n",
       "      <th>2</th>\n",
       "      <td>1103</td>\n",
       "      <td>Akron</td>\n",
       "      <td>1985</td>\n",
       "      <td>2022</td>\n",
       "    </tr>\n",
       "    <tr>\n",
       "      <th>3</th>\n",
       "      <td>1104</td>\n",
       "      <td>Alabama</td>\n",
       "      <td>1985</td>\n",
       "      <td>2022</td>\n",
       "    </tr>\n",
       "    <tr>\n",
       "      <th>4</th>\n",
       "      <td>1105</td>\n",
       "      <td>Alabama A&amp;M</td>\n",
       "      <td>2000</td>\n",
       "      <td>2022</td>\n",
       "    </tr>\n",
       "  </tbody>\n",
       "</table>\n",
       "</div>"
      ],
      "text/plain": [
       "   TeamID     TeamName  FirstD1Season  LastD1Season\n",
       "0    1101  Abilene Chr           2014          2022\n",
       "1    1102    Air Force           1985          2022\n",
       "2    1103        Akron           1985          2022\n",
       "3    1104      Alabama           1985          2022\n",
       "4    1105  Alabama A&M           2000          2022"
      ]
     },
     "execution_count": 4,
     "metadata": {},
     "output_type": "execute_result"
    }
   ],
   "source": [
    "df_teams.head()"
   ]
  },
  {
   "cell_type": "code",
   "execution_count": 5,
   "id": "cec4a11f",
   "metadata": {
    "execution": {
     "iopub.execute_input": "2022-03-15T21:56:07.247171Z",
     "iopub.status.busy": "2022-03-15T21:56:07.246241Z",
     "iopub.status.idle": "2022-03-15T21:56:07.255260Z",
     "shell.execute_reply": "2022-03-15T21:56:07.255795Z",
     "shell.execute_reply.started": "2022-03-15T21:50:59.507244Z"
    },
    "papermill": {
     "duration": 0.092578,
     "end_time": "2022-03-15T21:56:07.255993",
     "exception": false,
     "start_time": "2022-03-15T21:56:07.163415",
     "status": "completed"
    },
    "tags": []
   },
   "outputs": [],
   "source": [
    "#read in the seasons data\n",
    "df_seasons = pd.read_csv('/kaggle/input/mens-march-mania-2022/MDataFiles_Stage1//MSeasons.csv')"
   ]
  },
  {
   "cell_type": "markdown",
   "id": "71921eae",
   "metadata": {
    "papermill": {
     "duration": 0.083285,
     "end_time": "2022-03-15T21:56:07.421049",
     "exception": false,
     "start_time": "2022-03-15T21:56:07.337764",
     "status": "completed"
    },
    "tags": []
   },
   "source": [
    "The MSeasons.csv data has the season (year) that the tournament was played, DayZero is the 0th day of the season so that the men's championship game is on day 154, whichever region comes first alphabetically is RegionW, RegionX is the region that plays RegionW in the semifinals, in the leftover 2 regions the first alphabetically is RegionY, RegionZ plays RegionY in the semifinals."
   ]
  },
  {
   "cell_type": "code",
   "execution_count": 6,
   "id": "84139fec",
   "metadata": {
    "execution": {
     "iopub.execute_input": "2022-03-15T21:56:07.586396Z",
     "iopub.status.busy": "2022-03-15T21:56:07.585415Z",
     "iopub.status.idle": "2022-03-15T21:56:07.596917Z",
     "shell.execute_reply": "2022-03-15T21:56:07.597390Z",
     "shell.execute_reply.started": "2022-03-15T21:50:59.537812Z"
    },
    "papermill": {
     "duration": 0.096294,
     "end_time": "2022-03-15T21:56:07.597565",
     "exception": false,
     "start_time": "2022-03-15T21:56:07.501271",
     "status": "completed"
    },
    "tags": []
   },
   "outputs": [
    {
     "data": {
      "text/html": [
       "<div>\n",
       "<style scoped>\n",
       "    .dataframe tbody tr th:only-of-type {\n",
       "        vertical-align: middle;\n",
       "    }\n",
       "\n",
       "    .dataframe tbody tr th {\n",
       "        vertical-align: top;\n",
       "    }\n",
       "\n",
       "    .dataframe thead th {\n",
       "        text-align: right;\n",
       "    }\n",
       "</style>\n",
       "<table border=\"1\" class=\"dataframe\">\n",
       "  <thead>\n",
       "    <tr style=\"text-align: right;\">\n",
       "      <th></th>\n",
       "      <th>Season</th>\n",
       "      <th>DayZero</th>\n",
       "      <th>RegionW</th>\n",
       "      <th>RegionX</th>\n",
       "      <th>RegionY</th>\n",
       "      <th>RegionZ</th>\n",
       "    </tr>\n",
       "  </thead>\n",
       "  <tbody>\n",
       "    <tr>\n",
       "      <th>0</th>\n",
       "      <td>1985</td>\n",
       "      <td>1984-10-29 00:00:00</td>\n",
       "      <td>East</td>\n",
       "      <td>West</td>\n",
       "      <td>Midwest</td>\n",
       "      <td>Southeast</td>\n",
       "    </tr>\n",
       "    <tr>\n",
       "      <th>1</th>\n",
       "      <td>1986</td>\n",
       "      <td>1985-10-28 00:00:00</td>\n",
       "      <td>East</td>\n",
       "      <td>Midwest</td>\n",
       "      <td>Southeast</td>\n",
       "      <td>West</td>\n",
       "    </tr>\n",
       "    <tr>\n",
       "      <th>2</th>\n",
       "      <td>1987</td>\n",
       "      <td>1986-10-27 00:00:00</td>\n",
       "      <td>East</td>\n",
       "      <td>Southeast</td>\n",
       "      <td>Midwest</td>\n",
       "      <td>West</td>\n",
       "    </tr>\n",
       "    <tr>\n",
       "      <th>3</th>\n",
       "      <td>1988</td>\n",
       "      <td>1987-11-02 00:00:00</td>\n",
       "      <td>East</td>\n",
       "      <td>Midwest</td>\n",
       "      <td>Southeast</td>\n",
       "      <td>West</td>\n",
       "    </tr>\n",
       "    <tr>\n",
       "      <th>4</th>\n",
       "      <td>1989</td>\n",
       "      <td>1988-10-31 00:00:00</td>\n",
       "      <td>East</td>\n",
       "      <td>West</td>\n",
       "      <td>Midwest</td>\n",
       "      <td>Southeast</td>\n",
       "    </tr>\n",
       "  </tbody>\n",
       "</table>\n",
       "</div>"
      ],
      "text/plain": [
       "   Season              DayZero RegionW    RegionX    RegionY    RegionZ\n",
       "0    1985  1984-10-29 00:00:00    East       West    Midwest  Southeast\n",
       "1    1986  1985-10-28 00:00:00    East    Midwest  Southeast       West\n",
       "2    1987  1986-10-27 00:00:00    East  Southeast    Midwest       West\n",
       "3    1988  1987-11-02 00:00:00    East    Midwest  Southeast       West\n",
       "4    1989  1988-10-31 00:00:00    East       West    Midwest  Southeast"
      ]
     },
     "execution_count": 6,
     "metadata": {},
     "output_type": "execute_result"
    }
   ],
   "source": [
    "df_seasons.head()"
   ]
  },
  {
   "cell_type": "code",
   "execution_count": 7,
   "id": "5157695a",
   "metadata": {
    "execution": {
     "iopub.execute_input": "2022-03-15T21:56:07.764688Z",
     "iopub.status.busy": "2022-03-15T21:56:07.763955Z",
     "iopub.status.idle": "2022-03-15T21:56:07.773203Z",
     "shell.execute_reply": "2022-03-15T21:56:07.773768Z",
     "shell.execute_reply.started": "2022-03-15T21:50:59.551988Z"
    },
    "papermill": {
     "duration": 0.094743,
     "end_time": "2022-03-15T21:56:07.773939",
     "exception": false,
     "start_time": "2022-03-15T21:56:07.679196",
     "status": "completed"
    },
    "tags": []
   },
   "outputs": [],
   "source": [
    "#read in the tournament seed data data\n",
    "df_seeds = pd.read_csv('/kaggle/input/mens-march-mania-2022/MDataFiles_Stage1/MNCAATourneySeeds.csv')"
   ]
  },
  {
   "cell_type": "markdown",
   "id": "32c44300",
   "metadata": {
    "papermill": {
     "duration": 0.080762,
     "end_time": "2022-03-15T21:56:07.936731",
     "exception": false,
     "start_time": "2022-03-15T21:56:07.855969",
     "status": "completed"
    },
    "tags": []
   },
   "source": [
    "The MNCAATourneySeeds.csv data has the season (year) the tournament was played, the team ID from MTeams.csv (df_teams), and the seed. The seed is given with the first letter (W,X,Y,Z) to specify the region and a number 01 - 16 for the seed. Play-in teams will also have an 'a' or a 'b' to distinguish which team was ranked lower ('b')."
   ]
  },
  {
   "cell_type": "code",
   "execution_count": 8,
   "id": "384637e2",
   "metadata": {
    "execution": {
     "iopub.execute_input": "2022-03-15T21:56:08.102256Z",
     "iopub.status.busy": "2022-03-15T21:56:08.101504Z",
     "iopub.status.idle": "2022-03-15T21:56:08.110865Z",
     "shell.execute_reply": "2022-03-15T21:56:08.111373Z",
     "shell.execute_reply.started": "2022-03-15T21:50:59.577337Z"
    },
    "papermill": {
     "duration": 0.0932,
     "end_time": "2022-03-15T21:56:08.111541",
     "exception": false,
     "start_time": "2022-03-15T21:56:08.018341",
     "status": "completed"
    },
    "tags": []
   },
   "outputs": [
    {
     "data": {
      "text/html": [
       "<div>\n",
       "<style scoped>\n",
       "    .dataframe tbody tr th:only-of-type {\n",
       "        vertical-align: middle;\n",
       "    }\n",
       "\n",
       "    .dataframe tbody tr th {\n",
       "        vertical-align: top;\n",
       "    }\n",
       "\n",
       "    .dataframe thead th {\n",
       "        text-align: right;\n",
       "    }\n",
       "</style>\n",
       "<table border=\"1\" class=\"dataframe\">\n",
       "  <thead>\n",
       "    <tr style=\"text-align: right;\">\n",
       "      <th></th>\n",
       "      <th>Season</th>\n",
       "      <th>Seed</th>\n",
       "      <th>TeamID</th>\n",
       "    </tr>\n",
       "  </thead>\n",
       "  <tbody>\n",
       "    <tr>\n",
       "      <th>0</th>\n",
       "      <td>1985</td>\n",
       "      <td>W01</td>\n",
       "      <td>1207</td>\n",
       "    </tr>\n",
       "    <tr>\n",
       "      <th>1</th>\n",
       "      <td>1985</td>\n",
       "      <td>W02</td>\n",
       "      <td>1210</td>\n",
       "    </tr>\n",
       "    <tr>\n",
       "      <th>2</th>\n",
       "      <td>1985</td>\n",
       "      <td>W03</td>\n",
       "      <td>1228</td>\n",
       "    </tr>\n",
       "    <tr>\n",
       "      <th>3</th>\n",
       "      <td>1985</td>\n",
       "      <td>W04</td>\n",
       "      <td>1260</td>\n",
       "    </tr>\n",
       "    <tr>\n",
       "      <th>4</th>\n",
       "      <td>1985</td>\n",
       "      <td>W05</td>\n",
       "      <td>1374</td>\n",
       "    </tr>\n",
       "  </tbody>\n",
       "</table>\n",
       "</div>"
      ],
      "text/plain": [
       "   Season Seed  TeamID\n",
       "0    1985  W01    1207\n",
       "1    1985  W02    1210\n",
       "2    1985  W03    1228\n",
       "3    1985  W04    1260\n",
       "4    1985  W05    1374"
      ]
     },
     "execution_count": 8,
     "metadata": {},
     "output_type": "execute_result"
    }
   ],
   "source": [
    "df_seeds.head()"
   ]
  },
  {
   "cell_type": "code",
   "execution_count": 9,
   "id": "eed99d24",
   "metadata": {
    "execution": {
     "iopub.execute_input": "2022-03-15T21:56:08.280002Z",
     "iopub.status.busy": "2022-03-15T21:56:08.279251Z",
     "iopub.status.idle": "2022-03-15T21:56:08.454149Z",
     "shell.execute_reply": "2022-03-15T21:56:08.453387Z",
     "shell.execute_reply.started": "2022-03-15T21:50:59.588563Z"
    },
    "papermill": {
     "duration": 0.260199,
     "end_time": "2022-03-15T21:56:08.454312",
     "exception": false,
     "start_time": "2022-03-15T21:56:08.194113",
     "status": "completed"
    },
    "tags": []
   },
   "outputs": [],
   "source": [
    "#read in the regular season results data\n",
    "df_regseason = pd.read_csv('/kaggle/input/mens-march-mania-2022/MDataFiles_Stage1/MRegularSeasonCompactResults.csv')"
   ]
  },
  {
   "cell_type": "markdown",
   "id": "b7be3972",
   "metadata": {
    "papermill": {
     "duration": 0.080881,
     "end_time": "2022-03-15T21:56:08.616470",
     "exception": false,
     "start_time": "2022-03-15T21:56:08.535589",
     "status": "completed"
    },
    "tags": []
   },
   "source": [
    "The MRegularSeasonCompactResults.csv data has the season (year) of the game, DayNum is which day of the season that the game occured (this can be combined with DayZero of the MSeasons.csv (df_seasons) data to get an exact date), WTeamID is the team ID (MTeams.csv / df_teams) of the winning team, WScore is the score of the winning team, LTeamID is the team ID of the losing team, LScore is the score of the losing Team, NumOT is the number of overtimes played in that game, and WLoc is the location of the winning team (H stands for home, A stands for away, and N is a neutral site)."
   ]
  },
  {
   "cell_type": "code",
   "execution_count": 10,
   "id": "db9a7f8a",
   "metadata": {
    "execution": {
     "iopub.execute_input": "2022-03-15T21:56:08.783110Z",
     "iopub.status.busy": "2022-03-15T21:56:08.782416Z",
     "iopub.status.idle": "2022-03-15T21:56:08.792579Z",
     "shell.execute_reply": "2022-03-15T21:56:08.793143Z",
     "shell.execute_reply.started": "2022-03-15T21:50:59.710532Z"
    },
    "papermill": {
     "duration": 0.095723,
     "end_time": "2022-03-15T21:56:08.793311",
     "exception": false,
     "start_time": "2022-03-15T21:56:08.697588",
     "status": "completed"
    },
    "tags": []
   },
   "outputs": [
    {
     "data": {
      "text/html": [
       "<div>\n",
       "<style scoped>\n",
       "    .dataframe tbody tr th:only-of-type {\n",
       "        vertical-align: middle;\n",
       "    }\n",
       "\n",
       "    .dataframe tbody tr th {\n",
       "        vertical-align: top;\n",
       "    }\n",
       "\n",
       "    .dataframe thead th {\n",
       "        text-align: right;\n",
       "    }\n",
       "</style>\n",
       "<table border=\"1\" class=\"dataframe\">\n",
       "  <thead>\n",
       "    <tr style=\"text-align: right;\">\n",
       "      <th></th>\n",
       "      <th>Season</th>\n",
       "      <th>DayNum</th>\n",
       "      <th>WTeamID</th>\n",
       "      <th>WScore</th>\n",
       "      <th>LTeamID</th>\n",
       "      <th>LScore</th>\n",
       "      <th>WLoc</th>\n",
       "      <th>NumOT</th>\n",
       "    </tr>\n",
       "  </thead>\n",
       "  <tbody>\n",
       "    <tr>\n",
       "      <th>0</th>\n",
       "      <td>1985</td>\n",
       "      <td>20</td>\n",
       "      <td>1228</td>\n",
       "      <td>81</td>\n",
       "      <td>1328</td>\n",
       "      <td>64</td>\n",
       "      <td>N</td>\n",
       "      <td>0</td>\n",
       "    </tr>\n",
       "    <tr>\n",
       "      <th>1</th>\n",
       "      <td>1985</td>\n",
       "      <td>25</td>\n",
       "      <td>1106</td>\n",
       "      <td>77</td>\n",
       "      <td>1354</td>\n",
       "      <td>70</td>\n",
       "      <td>H</td>\n",
       "      <td>0</td>\n",
       "    </tr>\n",
       "    <tr>\n",
       "      <th>2</th>\n",
       "      <td>1985</td>\n",
       "      <td>25</td>\n",
       "      <td>1112</td>\n",
       "      <td>63</td>\n",
       "      <td>1223</td>\n",
       "      <td>56</td>\n",
       "      <td>H</td>\n",
       "      <td>0</td>\n",
       "    </tr>\n",
       "    <tr>\n",
       "      <th>3</th>\n",
       "      <td>1985</td>\n",
       "      <td>25</td>\n",
       "      <td>1165</td>\n",
       "      <td>70</td>\n",
       "      <td>1432</td>\n",
       "      <td>54</td>\n",
       "      <td>H</td>\n",
       "      <td>0</td>\n",
       "    </tr>\n",
       "    <tr>\n",
       "      <th>4</th>\n",
       "      <td>1985</td>\n",
       "      <td>25</td>\n",
       "      <td>1192</td>\n",
       "      <td>86</td>\n",
       "      <td>1447</td>\n",
       "      <td>74</td>\n",
       "      <td>H</td>\n",
       "      <td>0</td>\n",
       "    </tr>\n",
       "  </tbody>\n",
       "</table>\n",
       "</div>"
      ],
      "text/plain": [
       "   Season  DayNum  WTeamID  WScore  LTeamID  LScore WLoc  NumOT\n",
       "0    1985      20     1228      81     1328      64    N      0\n",
       "1    1985      25     1106      77     1354      70    H      0\n",
       "2    1985      25     1112      63     1223      56    H      0\n",
       "3    1985      25     1165      70     1432      54    H      0\n",
       "4    1985      25     1192      86     1447      74    H      0"
      ]
     },
     "execution_count": 10,
     "metadata": {},
     "output_type": "execute_result"
    }
   ],
   "source": [
    "df_regseason.head()"
   ]
  },
  {
   "cell_type": "code",
   "execution_count": 11,
   "id": "16baec0e",
   "metadata": {
    "execution": {
     "iopub.execute_input": "2022-03-15T21:56:08.963735Z",
     "iopub.status.busy": "2022-03-15T21:56:08.963085Z",
     "iopub.status.idle": "2022-03-15T21:56:08.975362Z",
     "shell.execute_reply": "2022-03-15T21:56:08.975910Z",
     "shell.execute_reply.started": "2022-03-15T21:50:59.724627Z"
    },
    "papermill": {
     "duration": 0.098915,
     "end_time": "2022-03-15T21:56:08.976094",
     "exception": false,
     "start_time": "2022-03-15T21:56:08.877179",
     "status": "completed"
    },
    "tags": []
   },
   "outputs": [],
   "source": [
    "#read in the tournament results data\n",
    "df_tourneyresults = pd.read_csv('/kaggle/input/mens-march-mania-2022/MDataFiles_Stage1/MNCAATourneyCompactResults.csv')"
   ]
  },
  {
   "cell_type": "markdown",
   "id": "2fdd4a11",
   "metadata": {
    "papermill": {
     "duration": 0.083395,
     "end_time": "2022-03-15T21:56:09.143088",
     "exception": false,
     "start_time": "2022-03-15T21:56:09.059693",
     "status": "completed"
    },
    "tags": []
   },
   "source": [
    "The MNCAATourneyCompactResults.csv data is formatted exactly the same way as the regular season results data (MRegularSeasonCompactResults.csv / df_regseason). The site is always neutral and therefore N. DayNum 134/135 are the play-in games, DayNum 136/137 are Round 1, DayNum 138/139 are Round 2, DayNum 143/144 are Round 3 (sweet sixteen), DayNum 145/146 are Round 4 (elite eight), DayNum 152 is final four, and DayNum 154 is the championship game. "
   ]
  },
  {
   "cell_type": "code",
   "execution_count": 12,
   "id": "f3a5ffec",
   "metadata": {
    "execution": {
     "iopub.execute_input": "2022-03-15T21:56:09.319054Z",
     "iopub.status.busy": "2022-03-15T21:56:09.318383Z",
     "iopub.status.idle": "2022-03-15T21:56:09.321109Z",
     "shell.execute_reply": "2022-03-15T21:56:09.321574Z",
     "shell.execute_reply.started": "2022-03-15T21:50:59.743282Z"
    },
    "papermill": {
     "duration": 0.094943,
     "end_time": "2022-03-15T21:56:09.321754",
     "exception": false,
     "start_time": "2022-03-15T21:56:09.226811",
     "status": "completed"
    },
    "tags": []
   },
   "outputs": [
    {
     "data": {
      "text/html": [
       "<div>\n",
       "<style scoped>\n",
       "    .dataframe tbody tr th:only-of-type {\n",
       "        vertical-align: middle;\n",
       "    }\n",
       "\n",
       "    .dataframe tbody tr th {\n",
       "        vertical-align: top;\n",
       "    }\n",
       "\n",
       "    .dataframe thead th {\n",
       "        text-align: right;\n",
       "    }\n",
       "</style>\n",
       "<table border=\"1\" class=\"dataframe\">\n",
       "  <thead>\n",
       "    <tr style=\"text-align: right;\">\n",
       "      <th></th>\n",
       "      <th>Season</th>\n",
       "      <th>DayNum</th>\n",
       "      <th>WTeamID</th>\n",
       "      <th>WScore</th>\n",
       "      <th>LTeamID</th>\n",
       "      <th>LScore</th>\n",
       "      <th>WLoc</th>\n",
       "      <th>NumOT</th>\n",
       "    </tr>\n",
       "  </thead>\n",
       "  <tbody>\n",
       "    <tr>\n",
       "      <th>0</th>\n",
       "      <td>1985</td>\n",
       "      <td>136</td>\n",
       "      <td>1116</td>\n",
       "      <td>63</td>\n",
       "      <td>1234</td>\n",
       "      <td>54</td>\n",
       "      <td>N</td>\n",
       "      <td>0</td>\n",
       "    </tr>\n",
       "    <tr>\n",
       "      <th>1</th>\n",
       "      <td>1985</td>\n",
       "      <td>136</td>\n",
       "      <td>1120</td>\n",
       "      <td>59</td>\n",
       "      <td>1345</td>\n",
       "      <td>58</td>\n",
       "      <td>N</td>\n",
       "      <td>0</td>\n",
       "    </tr>\n",
       "    <tr>\n",
       "      <th>2</th>\n",
       "      <td>1985</td>\n",
       "      <td>136</td>\n",
       "      <td>1207</td>\n",
       "      <td>68</td>\n",
       "      <td>1250</td>\n",
       "      <td>43</td>\n",
       "      <td>N</td>\n",
       "      <td>0</td>\n",
       "    </tr>\n",
       "    <tr>\n",
       "      <th>3</th>\n",
       "      <td>1985</td>\n",
       "      <td>136</td>\n",
       "      <td>1229</td>\n",
       "      <td>58</td>\n",
       "      <td>1425</td>\n",
       "      <td>55</td>\n",
       "      <td>N</td>\n",
       "      <td>0</td>\n",
       "    </tr>\n",
       "    <tr>\n",
       "      <th>4</th>\n",
       "      <td>1985</td>\n",
       "      <td>136</td>\n",
       "      <td>1242</td>\n",
       "      <td>49</td>\n",
       "      <td>1325</td>\n",
       "      <td>38</td>\n",
       "      <td>N</td>\n",
       "      <td>0</td>\n",
       "    </tr>\n",
       "  </tbody>\n",
       "</table>\n",
       "</div>"
      ],
      "text/plain": [
       "   Season  DayNum  WTeamID  WScore  LTeamID  LScore WLoc  NumOT\n",
       "0    1985     136     1116      63     1234      54    N      0\n",
       "1    1985     136     1120      59     1345      58    N      0\n",
       "2    1985     136     1207      68     1250      43    N      0\n",
       "3    1985     136     1229      58     1425      55    N      0\n",
       "4    1985     136     1242      49     1325      38    N      0"
      ]
     },
     "execution_count": 12,
     "metadata": {},
     "output_type": "execute_result"
    }
   ],
   "source": [
    "df_tourneyresults.head()"
   ]
  },
  {
   "cell_type": "code",
   "execution_count": 13,
   "id": "646bff77",
   "metadata": {
    "execution": {
     "iopub.execute_input": "2022-03-15T21:56:09.491043Z",
     "iopub.status.busy": "2022-03-15T21:56:09.490361Z",
     "iopub.status.idle": "2022-03-15T21:56:09.889985Z",
     "shell.execute_reply": "2022-03-15T21:56:09.890472Z",
     "shell.execute_reply.started": "2022-03-15T21:50:59.759248Z"
    },
    "papermill": {
     "duration": 0.486689,
     "end_time": "2022-03-15T21:56:09.890697",
     "exception": false,
     "start_time": "2022-03-15T21:56:09.404008",
     "status": "completed"
    },
    "tags": []
   },
   "outputs": [],
   "source": [
    "#read in the regular season detailed results data\n",
    "df_regseasonDets = pd.read_csv('/kaggle/input/mens-march-mania-2022/MDataFiles_Stage1/MRegularSeasonDetailedResults.csv')"
   ]
  },
  {
   "cell_type": "markdown",
   "id": "c4f043aa",
   "metadata": {
    "papermill": {
     "duration": 0.084656,
     "end_time": "2022-03-15T21:56:10.058055",
     "exception": false,
     "start_time": "2022-03-15T21:56:09.973399",
     "status": "completed"
    },
    "tags": []
   },
   "source": [
    "The MRegularSeasonDetailedResults.csv data has the game by game details of regular season games since the 2002-2003 season. The first 8 columns are the same as in the compact results file (MRegularSeasonCompactResults.csv / df_regseason). WFGM is the # of field goals made by the winning team, WFGA is the # of field goals attempted by the winning team. WFGM3 is the 3 pointers made by the winning team, WFGA3 is the # of 3 pointers attempted. WFTM is the # of free throws made by the winning team, WFTA is the # of free throws attempted by the winning team. WOR is the # of offensive rebounds pulled by the winning team, WDR is the # of defensive rebounds pulled by the winning team. WAst is the # of assists by the winning team. WTO is the # of turnovers committed by the winning team. WStl is the # of steals by the winning team, WBlk is the # of blocks by the winning team. WPF is the # of personal fouls committed by the winning team. Then there are the same stats but with L instead of W for the losing team."
   ]
  },
  {
   "cell_type": "code",
   "execution_count": 14,
   "id": "b3207612",
   "metadata": {
    "execution": {
     "iopub.execute_input": "2022-03-15T21:56:10.228830Z",
     "iopub.status.busy": "2022-03-15T21:56:10.228134Z",
     "iopub.status.idle": "2022-03-15T21:56:10.249094Z",
     "shell.execute_reply": "2022-03-15T21:56:10.248381Z",
     "shell.execute_reply.started": "2022-03-15T21:51:00.049228Z"
    },
    "papermill": {
     "duration": 0.106782,
     "end_time": "2022-03-15T21:56:10.249240",
     "exception": false,
     "start_time": "2022-03-15T21:56:10.142458",
     "status": "completed"
    },
    "tags": []
   },
   "outputs": [
    {
     "data": {
      "text/html": [
       "<div>\n",
       "<style scoped>\n",
       "    .dataframe tbody tr th:only-of-type {\n",
       "        vertical-align: middle;\n",
       "    }\n",
       "\n",
       "    .dataframe tbody tr th {\n",
       "        vertical-align: top;\n",
       "    }\n",
       "\n",
       "    .dataframe thead th {\n",
       "        text-align: right;\n",
       "    }\n",
       "</style>\n",
       "<table border=\"1\" class=\"dataframe\">\n",
       "  <thead>\n",
       "    <tr style=\"text-align: right;\">\n",
       "      <th></th>\n",
       "      <th>Season</th>\n",
       "      <th>DayNum</th>\n",
       "      <th>WTeamID</th>\n",
       "      <th>WScore</th>\n",
       "      <th>LTeamID</th>\n",
       "      <th>LScore</th>\n",
       "      <th>WLoc</th>\n",
       "      <th>NumOT</th>\n",
       "      <th>WFGM</th>\n",
       "      <th>WFGA</th>\n",
       "      <th>...</th>\n",
       "      <th>LFGA3</th>\n",
       "      <th>LFTM</th>\n",
       "      <th>LFTA</th>\n",
       "      <th>LOR</th>\n",
       "      <th>LDR</th>\n",
       "      <th>LAst</th>\n",
       "      <th>LTO</th>\n",
       "      <th>LStl</th>\n",
       "      <th>LBlk</th>\n",
       "      <th>LPF</th>\n",
       "    </tr>\n",
       "  </thead>\n",
       "  <tbody>\n",
       "    <tr>\n",
       "      <th>0</th>\n",
       "      <td>2003</td>\n",
       "      <td>10</td>\n",
       "      <td>1104</td>\n",
       "      <td>68</td>\n",
       "      <td>1328</td>\n",
       "      <td>62</td>\n",
       "      <td>N</td>\n",
       "      <td>0</td>\n",
       "      <td>27</td>\n",
       "      <td>58</td>\n",
       "      <td>...</td>\n",
       "      <td>10</td>\n",
       "      <td>16</td>\n",
       "      <td>22</td>\n",
       "      <td>10</td>\n",
       "      <td>22</td>\n",
       "      <td>8</td>\n",
       "      <td>18</td>\n",
       "      <td>9</td>\n",
       "      <td>2</td>\n",
       "      <td>20</td>\n",
       "    </tr>\n",
       "    <tr>\n",
       "      <th>1</th>\n",
       "      <td>2003</td>\n",
       "      <td>10</td>\n",
       "      <td>1272</td>\n",
       "      <td>70</td>\n",
       "      <td>1393</td>\n",
       "      <td>63</td>\n",
       "      <td>N</td>\n",
       "      <td>0</td>\n",
       "      <td>26</td>\n",
       "      <td>62</td>\n",
       "      <td>...</td>\n",
       "      <td>24</td>\n",
       "      <td>9</td>\n",
       "      <td>20</td>\n",
       "      <td>20</td>\n",
       "      <td>25</td>\n",
       "      <td>7</td>\n",
       "      <td>12</td>\n",
       "      <td>8</td>\n",
       "      <td>6</td>\n",
       "      <td>16</td>\n",
       "    </tr>\n",
       "    <tr>\n",
       "      <th>2</th>\n",
       "      <td>2003</td>\n",
       "      <td>11</td>\n",
       "      <td>1266</td>\n",
       "      <td>73</td>\n",
       "      <td>1437</td>\n",
       "      <td>61</td>\n",
       "      <td>N</td>\n",
       "      <td>0</td>\n",
       "      <td>24</td>\n",
       "      <td>58</td>\n",
       "      <td>...</td>\n",
       "      <td>26</td>\n",
       "      <td>14</td>\n",
       "      <td>23</td>\n",
       "      <td>31</td>\n",
       "      <td>22</td>\n",
       "      <td>9</td>\n",
       "      <td>12</td>\n",
       "      <td>2</td>\n",
       "      <td>5</td>\n",
       "      <td>23</td>\n",
       "    </tr>\n",
       "    <tr>\n",
       "      <th>3</th>\n",
       "      <td>2003</td>\n",
       "      <td>11</td>\n",
       "      <td>1296</td>\n",
       "      <td>56</td>\n",
       "      <td>1457</td>\n",
       "      <td>50</td>\n",
       "      <td>N</td>\n",
       "      <td>0</td>\n",
       "      <td>18</td>\n",
       "      <td>38</td>\n",
       "      <td>...</td>\n",
       "      <td>22</td>\n",
       "      <td>8</td>\n",
       "      <td>15</td>\n",
       "      <td>17</td>\n",
       "      <td>20</td>\n",
       "      <td>9</td>\n",
       "      <td>19</td>\n",
       "      <td>4</td>\n",
       "      <td>3</td>\n",
       "      <td>23</td>\n",
       "    </tr>\n",
       "    <tr>\n",
       "      <th>4</th>\n",
       "      <td>2003</td>\n",
       "      <td>11</td>\n",
       "      <td>1400</td>\n",
       "      <td>77</td>\n",
       "      <td>1208</td>\n",
       "      <td>71</td>\n",
       "      <td>N</td>\n",
       "      <td>0</td>\n",
       "      <td>30</td>\n",
       "      <td>61</td>\n",
       "      <td>...</td>\n",
       "      <td>16</td>\n",
       "      <td>17</td>\n",
       "      <td>27</td>\n",
       "      <td>21</td>\n",
       "      <td>15</td>\n",
       "      <td>12</td>\n",
       "      <td>10</td>\n",
       "      <td>7</td>\n",
       "      <td>1</td>\n",
       "      <td>14</td>\n",
       "    </tr>\n",
       "  </tbody>\n",
       "</table>\n",
       "<p>5 rows × 34 columns</p>\n",
       "</div>"
      ],
      "text/plain": [
       "   Season  DayNum  WTeamID  WScore  LTeamID  LScore WLoc  NumOT  WFGM  WFGA  \\\n",
       "0    2003      10     1104      68     1328      62    N      0    27    58   \n",
       "1    2003      10     1272      70     1393      63    N      0    26    62   \n",
       "2    2003      11     1266      73     1437      61    N      0    24    58   \n",
       "3    2003      11     1296      56     1457      50    N      0    18    38   \n",
       "4    2003      11     1400      77     1208      71    N      0    30    61   \n",
       "\n",
       "   ...  LFGA3  LFTM  LFTA  LOR  LDR  LAst  LTO  LStl  LBlk  LPF  \n",
       "0  ...     10    16    22   10   22     8   18     9     2   20  \n",
       "1  ...     24     9    20   20   25     7   12     8     6   16  \n",
       "2  ...     26    14    23   31   22     9   12     2     5   23  \n",
       "3  ...     22     8    15   17   20     9   19     4     3   23  \n",
       "4  ...     16    17    27   21   15    12   10     7     1   14  \n",
       "\n",
       "[5 rows x 34 columns]"
      ]
     },
     "execution_count": 14,
     "metadata": {},
     "output_type": "execute_result"
    }
   ],
   "source": [
    "df_regseasonDets.head()"
   ]
  },
  {
   "cell_type": "code",
   "execution_count": 15,
   "id": "739b8fdc",
   "metadata": {
    "execution": {
     "iopub.execute_input": "2022-03-15T21:56:10.421798Z",
     "iopub.status.busy": "2022-03-15T21:56:10.421086Z",
     "iopub.status.idle": "2022-03-15T21:56:10.435226Z",
     "shell.execute_reply": "2022-03-15T21:56:10.434604Z",
     "shell.execute_reply.started": "2022-03-15T21:51:00.068270Z"
    },
    "papermill": {
     "duration": 0.101985,
     "end_time": "2022-03-15T21:56:10.435384",
     "exception": false,
     "start_time": "2022-03-15T21:56:10.333399",
     "status": "completed"
    },
    "tags": []
   },
   "outputs": [],
   "source": [
    "#read in the tournament detailed results data\n",
    "df_tourneyDets = pd.read_csv('/kaggle/input/mens-march-mania-2022/MDataFiles_Stage1/MNCAATourneyDetailedResults.csv')"
   ]
  },
  {
   "cell_type": "markdown",
   "id": "3fb5fddb",
   "metadata": {
    "papermill": {
     "duration": 0.082753,
     "end_time": "2022-03-15T21:56:10.600847",
     "exception": false,
     "start_time": "2022-03-15T21:56:10.518094",
     "status": "completed"
    },
    "tags": []
   },
   "source": [
    "MNCAATourneyDetailedResults.csv has the same information as the detailed regular seadon data but for the tournament."
   ]
  },
  {
   "cell_type": "code",
   "execution_count": 16,
   "id": "fafe4cb4",
   "metadata": {
    "execution": {
     "iopub.execute_input": "2022-03-15T21:56:10.773904Z",
     "iopub.status.busy": "2022-03-15T21:56:10.773240Z",
     "iopub.status.idle": "2022-03-15T21:56:10.787015Z",
     "shell.execute_reply": "2022-03-15T21:56:10.787510Z",
     "shell.execute_reply.started": "2022-03-15T21:51:00.080810Z"
    },
    "papermill": {
     "duration": 0.103591,
     "end_time": "2022-03-15T21:56:10.787706",
     "exception": false,
     "start_time": "2022-03-15T21:56:10.684115",
     "status": "completed"
    },
    "tags": []
   },
   "outputs": [
    {
     "data": {
      "text/html": [
       "<div>\n",
       "<style scoped>\n",
       "    .dataframe tbody tr th:only-of-type {\n",
       "        vertical-align: middle;\n",
       "    }\n",
       "\n",
       "    .dataframe tbody tr th {\n",
       "        vertical-align: top;\n",
       "    }\n",
       "\n",
       "    .dataframe thead th {\n",
       "        text-align: right;\n",
       "    }\n",
       "</style>\n",
       "<table border=\"1\" class=\"dataframe\">\n",
       "  <thead>\n",
       "    <tr style=\"text-align: right;\">\n",
       "      <th></th>\n",
       "      <th>Season</th>\n",
       "      <th>DayNum</th>\n",
       "      <th>WTeamID</th>\n",
       "      <th>WScore</th>\n",
       "      <th>LTeamID</th>\n",
       "      <th>LScore</th>\n",
       "      <th>WLoc</th>\n",
       "      <th>NumOT</th>\n",
       "      <th>WFGM</th>\n",
       "      <th>WFGA</th>\n",
       "      <th>...</th>\n",
       "      <th>LFGA3</th>\n",
       "      <th>LFTM</th>\n",
       "      <th>LFTA</th>\n",
       "      <th>LOR</th>\n",
       "      <th>LDR</th>\n",
       "      <th>LAst</th>\n",
       "      <th>LTO</th>\n",
       "      <th>LStl</th>\n",
       "      <th>LBlk</th>\n",
       "      <th>LPF</th>\n",
       "    </tr>\n",
       "  </thead>\n",
       "  <tbody>\n",
       "    <tr>\n",
       "      <th>0</th>\n",
       "      <td>2003</td>\n",
       "      <td>134</td>\n",
       "      <td>1421</td>\n",
       "      <td>92</td>\n",
       "      <td>1411</td>\n",
       "      <td>84</td>\n",
       "      <td>N</td>\n",
       "      <td>1</td>\n",
       "      <td>32</td>\n",
       "      <td>69</td>\n",
       "      <td>...</td>\n",
       "      <td>31</td>\n",
       "      <td>14</td>\n",
       "      <td>31</td>\n",
       "      <td>17</td>\n",
       "      <td>28</td>\n",
       "      <td>16</td>\n",
       "      <td>15</td>\n",
       "      <td>5</td>\n",
       "      <td>0</td>\n",
       "      <td>22</td>\n",
       "    </tr>\n",
       "    <tr>\n",
       "      <th>1</th>\n",
       "      <td>2003</td>\n",
       "      <td>136</td>\n",
       "      <td>1112</td>\n",
       "      <td>80</td>\n",
       "      <td>1436</td>\n",
       "      <td>51</td>\n",
       "      <td>N</td>\n",
       "      <td>0</td>\n",
       "      <td>31</td>\n",
       "      <td>66</td>\n",
       "      <td>...</td>\n",
       "      <td>16</td>\n",
       "      <td>7</td>\n",
       "      <td>7</td>\n",
       "      <td>8</td>\n",
       "      <td>26</td>\n",
       "      <td>12</td>\n",
       "      <td>17</td>\n",
       "      <td>10</td>\n",
       "      <td>3</td>\n",
       "      <td>15</td>\n",
       "    </tr>\n",
       "    <tr>\n",
       "      <th>2</th>\n",
       "      <td>2003</td>\n",
       "      <td>136</td>\n",
       "      <td>1113</td>\n",
       "      <td>84</td>\n",
       "      <td>1272</td>\n",
       "      <td>71</td>\n",
       "      <td>N</td>\n",
       "      <td>0</td>\n",
       "      <td>31</td>\n",
       "      <td>59</td>\n",
       "      <td>...</td>\n",
       "      <td>28</td>\n",
       "      <td>14</td>\n",
       "      <td>21</td>\n",
       "      <td>20</td>\n",
       "      <td>22</td>\n",
       "      <td>11</td>\n",
       "      <td>12</td>\n",
       "      <td>2</td>\n",
       "      <td>5</td>\n",
       "      <td>18</td>\n",
       "    </tr>\n",
       "    <tr>\n",
       "      <th>3</th>\n",
       "      <td>2003</td>\n",
       "      <td>136</td>\n",
       "      <td>1141</td>\n",
       "      <td>79</td>\n",
       "      <td>1166</td>\n",
       "      <td>73</td>\n",
       "      <td>N</td>\n",
       "      <td>0</td>\n",
       "      <td>29</td>\n",
       "      <td>53</td>\n",
       "      <td>...</td>\n",
       "      <td>17</td>\n",
       "      <td>12</td>\n",
       "      <td>17</td>\n",
       "      <td>14</td>\n",
       "      <td>17</td>\n",
       "      <td>20</td>\n",
       "      <td>21</td>\n",
       "      <td>6</td>\n",
       "      <td>6</td>\n",
       "      <td>21</td>\n",
       "    </tr>\n",
       "    <tr>\n",
       "      <th>4</th>\n",
       "      <td>2003</td>\n",
       "      <td>136</td>\n",
       "      <td>1143</td>\n",
       "      <td>76</td>\n",
       "      <td>1301</td>\n",
       "      <td>74</td>\n",
       "      <td>N</td>\n",
       "      <td>1</td>\n",
       "      <td>27</td>\n",
       "      <td>64</td>\n",
       "      <td>...</td>\n",
       "      <td>21</td>\n",
       "      <td>15</td>\n",
       "      <td>20</td>\n",
       "      <td>10</td>\n",
       "      <td>26</td>\n",
       "      <td>16</td>\n",
       "      <td>14</td>\n",
       "      <td>5</td>\n",
       "      <td>8</td>\n",
       "      <td>19</td>\n",
       "    </tr>\n",
       "  </tbody>\n",
       "</table>\n",
       "<p>5 rows × 34 columns</p>\n",
       "</div>"
      ],
      "text/plain": [
       "   Season  DayNum  WTeamID  WScore  LTeamID  LScore WLoc  NumOT  WFGM  WFGA  \\\n",
       "0    2003     134     1421      92     1411      84    N      1    32    69   \n",
       "1    2003     136     1112      80     1436      51    N      0    31    66   \n",
       "2    2003     136     1113      84     1272      71    N      0    31    59   \n",
       "3    2003     136     1141      79     1166      73    N      0    29    53   \n",
       "4    2003     136     1143      76     1301      74    N      1    27    64   \n",
       "\n",
       "   ...  LFGA3  LFTM  LFTA  LOR  LDR  LAst  LTO  LStl  LBlk  LPF  \n",
       "0  ...     31    14    31   17   28    16   15     5     0   22  \n",
       "1  ...     16     7     7    8   26    12   17    10     3   15  \n",
       "2  ...     28    14    21   20   22    11   12     2     5   18  \n",
       "3  ...     17    12    17   14   17    20   21     6     6   21  \n",
       "4  ...     21    15    20   10   26    16   14     5     8   19  \n",
       "\n",
       "[5 rows x 34 columns]"
      ]
     },
     "execution_count": 16,
     "metadata": {},
     "output_type": "execute_result"
    }
   ],
   "source": [
    "df_tourneyDets.head()"
   ]
  },
  {
   "cell_type": "code",
   "execution_count": 17,
   "id": "ea4b397a",
   "metadata": {
    "execution": {
     "iopub.execute_input": "2022-03-15T21:56:10.959871Z",
     "iopub.status.busy": "2022-03-15T21:56:10.959041Z",
     "iopub.status.idle": "2022-03-15T21:56:10.968469Z",
     "shell.execute_reply": "2022-03-15T21:56:10.967932Z",
     "shell.execute_reply.started": "2022-03-15T21:52:29.400358Z"
    },
    "papermill": {
     "duration": 0.097222,
     "end_time": "2022-03-15T21:56:10.968641",
     "exception": false,
     "start_time": "2022-03-15T21:56:10.871419",
     "status": "completed"
    },
    "tags": []
   },
   "outputs": [],
   "source": [
    "#read in the cities data\n",
    "df_cities = pd.read_csv('/kaggle/input/mens-march-mania-2022/MDataFiles_Stage1/Cities.csv')"
   ]
  },
  {
   "cell_type": "markdown",
   "id": "1516fd99",
   "metadata": {
    "papermill": {
     "duration": 0.084186,
     "end_time": "2022-03-15T21:56:11.137382",
     "exception": false,
     "start_time": "2022-03-15T21:56:11.053196",
     "status": "completed"
    },
    "tags": []
   },
   "source": [
    "cities.csv has the data for the cities where the games were held. CityID is a unique 4 digit number for the city, City is the text name of the city and State is the state the citie is in."
   ]
  },
  {
   "cell_type": "code",
   "execution_count": 18,
   "id": "5b06d0da",
   "metadata": {
    "execution": {
     "iopub.execute_input": "2022-03-15T21:56:11.314580Z",
     "iopub.status.busy": "2022-03-15T21:56:11.313890Z",
     "iopub.status.idle": "2022-03-15T21:56:11.317518Z",
     "shell.execute_reply": "2022-03-15T21:56:11.318005Z",
     "shell.execute_reply.started": "2022-03-15T21:52:30.871281Z"
    },
    "papermill": {
     "duration": 0.096791,
     "end_time": "2022-03-15T21:56:11.318181",
     "exception": false,
     "start_time": "2022-03-15T21:56:11.221390",
     "status": "completed"
    },
    "tags": []
   },
   "outputs": [
    {
     "data": {
      "text/html": [
       "<div>\n",
       "<style scoped>\n",
       "    .dataframe tbody tr th:only-of-type {\n",
       "        vertical-align: middle;\n",
       "    }\n",
       "\n",
       "    .dataframe tbody tr th {\n",
       "        vertical-align: top;\n",
       "    }\n",
       "\n",
       "    .dataframe thead th {\n",
       "        text-align: right;\n",
       "    }\n",
       "</style>\n",
       "<table border=\"1\" class=\"dataframe\">\n",
       "  <thead>\n",
       "    <tr style=\"text-align: right;\">\n",
       "      <th></th>\n",
       "      <th>CityID</th>\n",
       "      <th>City</th>\n",
       "      <th>State</th>\n",
       "    </tr>\n",
       "  </thead>\n",
       "  <tbody>\n",
       "    <tr>\n",
       "      <th>0</th>\n",
       "      <td>4001</td>\n",
       "      <td>Abilene</td>\n",
       "      <td>TX</td>\n",
       "    </tr>\n",
       "    <tr>\n",
       "      <th>1</th>\n",
       "      <td>4002</td>\n",
       "      <td>Akron</td>\n",
       "      <td>OH</td>\n",
       "    </tr>\n",
       "    <tr>\n",
       "      <th>2</th>\n",
       "      <td>4003</td>\n",
       "      <td>Albany</td>\n",
       "      <td>NY</td>\n",
       "    </tr>\n",
       "    <tr>\n",
       "      <th>3</th>\n",
       "      <td>4004</td>\n",
       "      <td>Albuquerque</td>\n",
       "      <td>NM</td>\n",
       "    </tr>\n",
       "    <tr>\n",
       "      <th>4</th>\n",
       "      <td>4005</td>\n",
       "      <td>Allentown</td>\n",
       "      <td>PA</td>\n",
       "    </tr>\n",
       "  </tbody>\n",
       "</table>\n",
       "</div>"
      ],
      "text/plain": [
       "   CityID         City State\n",
       "0    4001      Abilene    TX\n",
       "1    4002        Akron    OH\n",
       "2    4003       Albany    NY\n",
       "3    4004  Albuquerque    NM\n",
       "4    4005    Allentown    PA"
      ]
     },
     "execution_count": 18,
     "metadata": {},
     "output_type": "execute_result"
    }
   ],
   "source": [
    "df_cities.head()"
   ]
  },
  {
   "cell_type": "code",
   "execution_count": 19,
   "id": "13c70ff8",
   "metadata": {
    "execution": {
     "iopub.execute_input": "2022-03-15T21:56:11.489836Z",
     "iopub.status.busy": "2022-03-15T21:56:11.489220Z",
     "iopub.status.idle": "2022-03-15T21:56:11.564701Z",
     "shell.execute_reply": "2022-03-15T21:56:11.564117Z",
     "shell.execute_reply.started": "2022-03-15T21:52:32.190217Z"
    },
    "papermill": {
     "duration": 0.161938,
     "end_time": "2022-03-15T21:56:11.564842",
     "exception": false,
     "start_time": "2022-03-15T21:56:11.402904",
     "status": "completed"
    },
    "tags": []
   },
   "outputs": [],
   "source": [
    "#read in the games city data\n",
    "df_gamecities = pd.read_csv('/kaggle/input/mens-march-mania-2022/MDataFiles_Stage1/MGameCities.csv')"
   ]
  },
  {
   "cell_type": "markdown",
   "id": "d4390a19",
   "metadata": {
    "papermill": {
     "duration": 0.084474,
     "end_time": "2022-03-15T21:56:11.735069",
     "exception": false,
     "start_time": "2022-03-15T21:56:11.650595",
     "status": "completed"
    },
    "tags": []
   },
   "source": [
    "MGameCities.csv has all the game cities data since 2010. Season, DayNum, WTeamID, LTeamID, and CityID have been discussed before. CRType is either Regular for a regular season game, NCAA is a tournament game, and Secondary is a game from the secondary data."
   ]
  },
  {
   "cell_type": "code",
   "execution_count": 20,
   "id": "cc991271",
   "metadata": {
    "execution": {
     "iopub.execute_input": "2022-03-15T21:56:11.906823Z",
     "iopub.status.busy": "2022-03-15T21:56:11.906123Z",
     "iopub.status.idle": "2022-03-15T21:56:11.916554Z",
     "shell.execute_reply": "2022-03-15T21:56:11.917146Z",
     "shell.execute_reply.started": "2022-03-15T21:52:33.657448Z"
    },
    "papermill": {
     "duration": 0.098246,
     "end_time": "2022-03-15T21:56:11.917318",
     "exception": false,
     "start_time": "2022-03-15T21:56:11.819072",
     "status": "completed"
    },
    "tags": []
   },
   "outputs": [
    {
     "data": {
      "text/html": [
       "<div>\n",
       "<style scoped>\n",
       "    .dataframe tbody tr th:only-of-type {\n",
       "        vertical-align: middle;\n",
       "    }\n",
       "\n",
       "    .dataframe tbody tr th {\n",
       "        vertical-align: top;\n",
       "    }\n",
       "\n",
       "    .dataframe thead th {\n",
       "        text-align: right;\n",
       "    }\n",
       "</style>\n",
       "<table border=\"1\" class=\"dataframe\">\n",
       "  <thead>\n",
       "    <tr style=\"text-align: right;\">\n",
       "      <th></th>\n",
       "      <th>Season</th>\n",
       "      <th>DayNum</th>\n",
       "      <th>WTeamID</th>\n",
       "      <th>LTeamID</th>\n",
       "      <th>CRType</th>\n",
       "      <th>CityID</th>\n",
       "    </tr>\n",
       "  </thead>\n",
       "  <tbody>\n",
       "    <tr>\n",
       "      <th>0</th>\n",
       "      <td>2010</td>\n",
       "      <td>7</td>\n",
       "      <td>1143</td>\n",
       "      <td>1293</td>\n",
       "      <td>Regular</td>\n",
       "      <td>4027</td>\n",
       "    </tr>\n",
       "    <tr>\n",
       "      <th>1</th>\n",
       "      <td>2010</td>\n",
       "      <td>7</td>\n",
       "      <td>1314</td>\n",
       "      <td>1198</td>\n",
       "      <td>Regular</td>\n",
       "      <td>4061</td>\n",
       "    </tr>\n",
       "    <tr>\n",
       "      <th>2</th>\n",
       "      <td>2010</td>\n",
       "      <td>7</td>\n",
       "      <td>1326</td>\n",
       "      <td>1108</td>\n",
       "      <td>Regular</td>\n",
       "      <td>4080</td>\n",
       "    </tr>\n",
       "    <tr>\n",
       "      <th>3</th>\n",
       "      <td>2010</td>\n",
       "      <td>7</td>\n",
       "      <td>1393</td>\n",
       "      <td>1107</td>\n",
       "      <td>Regular</td>\n",
       "      <td>4340</td>\n",
       "    </tr>\n",
       "    <tr>\n",
       "      <th>4</th>\n",
       "      <td>2010</td>\n",
       "      <td>9</td>\n",
       "      <td>1143</td>\n",
       "      <td>1178</td>\n",
       "      <td>Regular</td>\n",
       "      <td>4027</td>\n",
       "    </tr>\n",
       "  </tbody>\n",
       "</table>\n",
       "</div>"
      ],
      "text/plain": [
       "   Season  DayNum  WTeamID  LTeamID   CRType  CityID\n",
       "0    2010       7     1143     1293  Regular    4027\n",
       "1    2010       7     1314     1198  Regular    4061\n",
       "2    2010       7     1326     1108  Regular    4080\n",
       "3    2010       7     1393     1107  Regular    4340\n",
       "4    2010       9     1143     1178  Regular    4027"
      ]
     },
     "execution_count": 20,
     "metadata": {},
     "output_type": "execute_result"
    }
   ],
   "source": [
    "df_gamecities.head()"
   ]
  },
  {
   "cell_type": "code",
   "execution_count": 21,
   "id": "9ac28a38",
   "metadata": {
    "execution": {
     "iopub.execute_input": "2022-03-15T21:56:12.092977Z",
     "iopub.status.busy": "2022-03-15T21:56:12.092332Z",
     "iopub.status.idle": "2022-03-15T21:56:15.059578Z",
     "shell.execute_reply": "2022-03-15T21:56:15.058950Z",
     "shell.execute_reply.started": "2022-03-15T21:52:34.161707Z"
    },
    "papermill": {
     "duration": 3.055629,
     "end_time": "2022-03-15T21:56:15.059753",
     "exception": false,
     "start_time": "2022-03-15T21:56:12.004124",
     "status": "completed"
    },
    "tags": []
   },
   "outputs": [],
   "source": [
    "#read in the rankings data\n",
    "df_rankings = pd.read_csv('/kaggle/input/mens-march-mania-2022/MDataFiles_Stage1/MMasseyOrdinals.csv')"
   ]
  },
  {
   "cell_type": "markdown",
   "id": "5989410d",
   "metadata": {
    "papermill": {
     "duration": 0.086165,
     "end_time": "2022-03-15T21:56:15.232422",
     "exception": false,
     "start_time": "2022-03-15T21:56:15.146257",
     "status": "completed"
    },
    "tags": []
   },
   "source": [
    "The MMasseyOrdinals.csv has ranking information from as far back as 2002. Season and TeamID have already been discussed. RankingDayNum has the day number that it is appropriate to use the ranking information for predicting games. For example, you shouldn't use a ranking on day 110 to predict a game on day 100. SystemName is a 3 letter abbreviation for the ranking system. OrdinalRank is the ranking of the teams on that day in that system. By convention the final ranking before the tournament is RankingDayNum = 133."
   ]
  },
  {
   "cell_type": "code",
   "execution_count": 22,
   "id": "629fd3d0",
   "metadata": {
    "execution": {
     "iopub.execute_input": "2022-03-15T21:56:15.416253Z",
     "iopub.status.busy": "2022-03-15T21:56:15.415563Z",
     "iopub.status.idle": "2022-03-15T21:56:15.419074Z",
     "shell.execute_reply": "2022-03-15T21:56:15.419568Z",
     "shell.execute_reply.started": "2022-03-15T21:52:37.056847Z"
    },
    "papermill": {
     "duration": 0.10222,
     "end_time": "2022-03-15T21:56:15.419770",
     "exception": false,
     "start_time": "2022-03-15T21:56:15.317550",
     "status": "completed"
    },
    "tags": []
   },
   "outputs": [
    {
     "data": {
      "text/html": [
       "<div>\n",
       "<style scoped>\n",
       "    .dataframe tbody tr th:only-of-type {\n",
       "        vertical-align: middle;\n",
       "    }\n",
       "\n",
       "    .dataframe tbody tr th {\n",
       "        vertical-align: top;\n",
       "    }\n",
       "\n",
       "    .dataframe thead th {\n",
       "        text-align: right;\n",
       "    }\n",
       "</style>\n",
       "<table border=\"1\" class=\"dataframe\">\n",
       "  <thead>\n",
       "    <tr style=\"text-align: right;\">\n",
       "      <th></th>\n",
       "      <th>Season</th>\n",
       "      <th>RankingDayNum</th>\n",
       "      <th>SystemName</th>\n",
       "      <th>TeamID</th>\n",
       "      <th>OrdinalRank</th>\n",
       "    </tr>\n",
       "  </thead>\n",
       "  <tbody>\n",
       "    <tr>\n",
       "      <th>0</th>\n",
       "      <td>2003</td>\n",
       "      <td>35</td>\n",
       "      <td>SEL</td>\n",
       "      <td>1102</td>\n",
       "      <td>159</td>\n",
       "    </tr>\n",
       "    <tr>\n",
       "      <th>1</th>\n",
       "      <td>2003</td>\n",
       "      <td>35</td>\n",
       "      <td>SEL</td>\n",
       "      <td>1103</td>\n",
       "      <td>229</td>\n",
       "    </tr>\n",
       "    <tr>\n",
       "      <th>2</th>\n",
       "      <td>2003</td>\n",
       "      <td>35</td>\n",
       "      <td>SEL</td>\n",
       "      <td>1104</td>\n",
       "      <td>12</td>\n",
       "    </tr>\n",
       "    <tr>\n",
       "      <th>3</th>\n",
       "      <td>2003</td>\n",
       "      <td>35</td>\n",
       "      <td>SEL</td>\n",
       "      <td>1105</td>\n",
       "      <td>314</td>\n",
       "    </tr>\n",
       "    <tr>\n",
       "      <th>4</th>\n",
       "      <td>2003</td>\n",
       "      <td>35</td>\n",
       "      <td>SEL</td>\n",
       "      <td>1106</td>\n",
       "      <td>260</td>\n",
       "    </tr>\n",
       "  </tbody>\n",
       "</table>\n",
       "</div>"
      ],
      "text/plain": [
       "   Season  RankingDayNum SystemName  TeamID  OrdinalRank\n",
       "0    2003             35        SEL    1102          159\n",
       "1    2003             35        SEL    1103          229\n",
       "2    2003             35        SEL    1104           12\n",
       "3    2003             35        SEL    1105          314\n",
       "4    2003             35        SEL    1106          260"
      ]
     },
     "execution_count": 22,
     "metadata": {},
     "output_type": "execute_result"
    }
   ],
   "source": [
    "df_rankings.head()"
   ]
  },
  {
   "cell_type": "code",
   "execution_count": 23,
   "id": "17fd91ab",
   "metadata": {
    "execution": {
     "iopub.execute_input": "2022-03-15T21:56:15.620306Z",
     "iopub.status.busy": "2022-03-15T21:56:15.619562Z",
     "iopub.status.idle": "2022-03-15T21:56:15.630076Z",
     "shell.execute_reply": "2022-03-15T21:56:15.629412Z",
     "shell.execute_reply.started": "2022-03-15T21:52:37.068730Z"
    },
    "papermill": {
     "duration": 0.123098,
     "end_time": "2022-03-15T21:56:15.630225",
     "exception": false,
     "start_time": "2022-03-15T21:56:15.507127",
     "status": "completed"
    },
    "tags": []
   },
   "outputs": [],
   "source": [
    "#read in the tournament slot data\n",
    "df_slots = pd.read_csv('/kaggle/input/mens-march-mania-2022/MDataFiles_Stage1/MNCAATourneySlots.csv')"
   ]
  },
  {
   "cell_type": "markdown",
   "id": "ca435e21",
   "metadata": {
    "papermill": {
     "duration": 0.085694,
     "end_time": "2022-03-15T21:56:15.809170",
     "exception": false,
     "start_time": "2022-03-15T21:56:15.723476",
     "status": "completed"
    },
    "tags": []
   },
   "source": [
    "MNCAATourneySlots.csv data can be used to identify what round a historical tournament game occured in and what seed/slot the teams that played that game were. This could be useful for simulating the progression of a bracket. Slot uniquely identifies one of the tournament games. For play-in games, it is a three-character string identifying the seed fulfilled by the winning team, such as W16 or Z13. For regular tournament games, it is a four-character string, where the first two characters tell you which round the game is (R1, R2, R3, R4, R5, or R6) and the second two characters tell you the expected seed of the favored team. For example, the R2W1 slot indicates the Round 2 game that would have the 1 seed from the W bracket, assuming that all favored teams have won up to that point. Even if that R2W1 slot were actually a game between the W09 and W16 teams, it is still considered to be the R2W1 slot. The slot names are different for the final two rounds, where R5WX identifies the national semifinal game between the winners of regions W and X, and R5YZ identifies the national semifinal game between the winners of regions Y and Z, and R6CH identifies the championship game.\n",
    "\n",
    "StrongSeed indicates the expected stronger-seeded team that plays in this game. For Round 1 games, a team seed is identified in this column (as listed in the \"Seed\" column in the MNCAATourneySeeds.csv file), whereas for subsequent games, a slot is identified in this column. In the first record of this file (slot R1W1), we see that seed W01 is the \"StrongSeed\", which during the 1985 tournament would have been Georgetown. Whereas for games from Round 2 or later, rather than a team seed, we will see a \"slot\" referenced in this column. So in the 33rd record of this file (slot R2W1), it tells us that the winners of slots R1W1 and R1W8 will face each other in Round 2. Of course, in the last few games of the tournament - the national semifinals and finals - it's not really meaningful to talk about a \"strong seed\" or \"weak seed\", since you would have #1 seeds favored to face each other, but those games are nevertheless represented in the same format for the sake of consistency. WeakSeed indicates the expected weaker-seeded team that plays in this game, assuming all favored teams have won so far. For Round 1 games, a team seed is identified in this column (as listed in the \"Seed\" column in the MNCAATourneySeeds.csv file), whereas for subsequent games, a slot is identified in this column."
   ]
  },
  {
   "cell_type": "code",
   "execution_count": 24,
   "id": "e604cc68",
   "metadata": {
    "execution": {
     "iopub.execute_input": "2022-03-15T21:56:15.997392Z",
     "iopub.status.busy": "2022-03-15T21:56:15.996698Z",
     "iopub.status.idle": "2022-03-15T21:56:16.001678Z",
     "shell.execute_reply": "2022-03-15T21:56:16.000988Z",
     "shell.execute_reply.started": "2022-03-15T21:52:39.387132Z"
    },
    "papermill": {
     "duration": 0.106543,
     "end_time": "2022-03-15T21:56:16.001827",
     "exception": false,
     "start_time": "2022-03-15T21:56:15.895284",
     "status": "completed"
    },
    "tags": []
   },
   "outputs": [
    {
     "data": {
      "text/html": [
       "<div>\n",
       "<style scoped>\n",
       "    .dataframe tbody tr th:only-of-type {\n",
       "        vertical-align: middle;\n",
       "    }\n",
       "\n",
       "    .dataframe tbody tr th {\n",
       "        vertical-align: top;\n",
       "    }\n",
       "\n",
       "    .dataframe thead th {\n",
       "        text-align: right;\n",
       "    }\n",
       "</style>\n",
       "<table border=\"1\" class=\"dataframe\">\n",
       "  <thead>\n",
       "    <tr style=\"text-align: right;\">\n",
       "      <th></th>\n",
       "      <th>Season</th>\n",
       "      <th>Slot</th>\n",
       "      <th>StrongSeed</th>\n",
       "      <th>WeakSeed</th>\n",
       "    </tr>\n",
       "  </thead>\n",
       "  <tbody>\n",
       "    <tr>\n",
       "      <th>0</th>\n",
       "      <td>1985</td>\n",
       "      <td>R1W1</td>\n",
       "      <td>W01</td>\n",
       "      <td>W16</td>\n",
       "    </tr>\n",
       "    <tr>\n",
       "      <th>1</th>\n",
       "      <td>1985</td>\n",
       "      <td>R1W2</td>\n",
       "      <td>W02</td>\n",
       "      <td>W15</td>\n",
       "    </tr>\n",
       "    <tr>\n",
       "      <th>2</th>\n",
       "      <td>1985</td>\n",
       "      <td>R1W3</td>\n",
       "      <td>W03</td>\n",
       "      <td>W14</td>\n",
       "    </tr>\n",
       "    <tr>\n",
       "      <th>3</th>\n",
       "      <td>1985</td>\n",
       "      <td>R1W4</td>\n",
       "      <td>W04</td>\n",
       "      <td>W13</td>\n",
       "    </tr>\n",
       "    <tr>\n",
       "      <th>4</th>\n",
       "      <td>1985</td>\n",
       "      <td>R1W5</td>\n",
       "      <td>W05</td>\n",
       "      <td>W12</td>\n",
       "    </tr>\n",
       "  </tbody>\n",
       "</table>\n",
       "</div>"
      ],
      "text/plain": [
       "   Season  Slot StrongSeed WeakSeed\n",
       "0    1985  R1W1        W01      W16\n",
       "1    1985  R1W2        W02      W15\n",
       "2    1985  R1W3        W03      W14\n",
       "3    1985  R1W4        W04      W13\n",
       "4    1985  R1W5        W05      W12"
      ]
     },
     "execution_count": 24,
     "metadata": {},
     "output_type": "execute_result"
    }
   ],
   "source": [
    "df_slots.head()"
   ]
  },
  {
   "cell_type": "code",
   "execution_count": 25,
   "id": "e288d37c",
   "metadata": {
    "execution": {
     "iopub.execute_input": "2022-03-15T21:56:16.187049Z",
     "iopub.status.busy": "2022-03-15T21:56:16.186336Z",
     "iopub.status.idle": "2022-03-15T21:56:16.195371Z",
     "shell.execute_reply": "2022-03-15T21:56:16.194595Z",
     "shell.execute_reply.started": "2022-03-15T21:52:40.057178Z"
    },
    "papermill": {
     "duration": 0.102605,
     "end_time": "2022-03-15T21:56:16.195518",
     "exception": false,
     "start_time": "2022-03-15T21:56:16.092913",
     "status": "completed"
    },
    "tags": []
   },
   "outputs": [],
   "source": [
    "#read in the tournament slot data\n",
    "df_seed = pd.read_csv('/kaggle/input/mens-march-mania-2022/MDataFiles_Stage1/MNCAATourneySeedRoundSlots.csv')"
   ]
  },
  {
   "cell_type": "markdown",
   "id": "c31c07bd",
   "metadata": {
    "papermill": {
     "duration": 0.086253,
     "end_time": "2022-03-15T21:56:16.368885",
     "exception": false,
     "start_time": "2022-03-15T21:56:16.282632",
     "status": "completed"
    },
    "tags": []
   },
   "source": [
    "MNCAATourneySeedRoundSlots.csv represents the bracket structure. Seed is the tournament seed of the team. GameRound is the round during the tournament that the game would occur in, where Round 0 (zero) is for the play-in games, Rounds 1/2 are for the first weekend, Rounds 3/4 are for the second weekend, and Rounds 5/6 are the national semifinals and finals. GameSlot is the game slot that the team would be playing in, during the given GameRound. The naming convention for slots is the same as in df_slots. EarlyDayNum and LateDayNum describe the earliest possible, and latest possible, DayNums that the game might be played on."
   ]
  },
  {
   "cell_type": "code",
   "execution_count": 26,
   "id": "5f4ff1b9",
   "metadata": {
    "execution": {
     "iopub.execute_input": "2022-03-15T21:56:16.556825Z",
     "iopub.status.busy": "2022-03-15T21:56:16.556141Z",
     "iopub.status.idle": "2022-03-15T21:56:16.560251Z",
     "shell.execute_reply": "2022-03-15T21:56:16.559746Z",
     "shell.execute_reply.started": "2022-03-15T21:52:41.472633Z"
    },
    "papermill": {
     "duration": 0.102073,
     "end_time": "2022-03-15T21:56:16.560392",
     "exception": false,
     "start_time": "2022-03-15T21:56:16.458319",
     "status": "completed"
    },
    "tags": []
   },
   "outputs": [
    {
     "data": {
      "text/html": [
       "<div>\n",
       "<style scoped>\n",
       "    .dataframe tbody tr th:only-of-type {\n",
       "        vertical-align: middle;\n",
       "    }\n",
       "\n",
       "    .dataframe tbody tr th {\n",
       "        vertical-align: top;\n",
       "    }\n",
       "\n",
       "    .dataframe thead th {\n",
       "        text-align: right;\n",
       "    }\n",
       "</style>\n",
       "<table border=\"1\" class=\"dataframe\">\n",
       "  <thead>\n",
       "    <tr style=\"text-align: right;\">\n",
       "      <th></th>\n",
       "      <th>Seed</th>\n",
       "      <th>GameRound</th>\n",
       "      <th>GameSlot</th>\n",
       "      <th>EarlyDayNum</th>\n",
       "      <th>LateDayNum</th>\n",
       "    </tr>\n",
       "  </thead>\n",
       "  <tbody>\n",
       "    <tr>\n",
       "      <th>0</th>\n",
       "      <td>W01</td>\n",
       "      <td>1</td>\n",
       "      <td>R1W1</td>\n",
       "      <td>136</td>\n",
       "      <td>137</td>\n",
       "    </tr>\n",
       "    <tr>\n",
       "      <th>1</th>\n",
       "      <td>W01</td>\n",
       "      <td>2</td>\n",
       "      <td>R2W1</td>\n",
       "      <td>138</td>\n",
       "      <td>139</td>\n",
       "    </tr>\n",
       "    <tr>\n",
       "      <th>2</th>\n",
       "      <td>W01</td>\n",
       "      <td>3</td>\n",
       "      <td>R3W1</td>\n",
       "      <td>143</td>\n",
       "      <td>144</td>\n",
       "    </tr>\n",
       "    <tr>\n",
       "      <th>3</th>\n",
       "      <td>W01</td>\n",
       "      <td>4</td>\n",
       "      <td>R4W1</td>\n",
       "      <td>145</td>\n",
       "      <td>146</td>\n",
       "    </tr>\n",
       "    <tr>\n",
       "      <th>4</th>\n",
       "      <td>W01</td>\n",
       "      <td>5</td>\n",
       "      <td>R5WX</td>\n",
       "      <td>152</td>\n",
       "      <td>152</td>\n",
       "    </tr>\n",
       "  </tbody>\n",
       "</table>\n",
       "</div>"
      ],
      "text/plain": [
       "  Seed  GameRound GameSlot  EarlyDayNum  LateDayNum\n",
       "0  W01          1     R1W1          136         137\n",
       "1  W01          2     R2W1          138         139\n",
       "2  W01          3     R3W1          143         144\n",
       "3  W01          4     R4W1          145         146\n",
       "4  W01          5     R5WX          152         152"
      ]
     },
     "execution_count": 26,
     "metadata": {},
     "output_type": "execute_result"
    }
   ],
   "source": [
    "df_seed.head()"
   ]
  },
  {
   "cell_type": "markdown",
   "id": "ff158f23",
   "metadata": {
    "papermill": {
     "duration": 0.086216,
     "end_time": "2022-03-15T21:56:16.733129",
     "exception": false,
     "start_time": "2022-03-15T21:56:16.646913",
     "status": "completed"
    },
    "tags": []
   },
   "source": [
    "There is a lot of data that I don't plan to use here. I want to take the regular season data of wins and losses, as well as the detailed regular season information, and the tournament seeds to predict the tournament results. So now I need to make that dataframe with just that information."
   ]
  },
  {
   "cell_type": "code",
   "execution_count": 27,
   "id": "4191e6fa",
   "metadata": {
    "execution": {
     "iopub.execute_input": "2022-03-15T21:56:16.917117Z",
     "iopub.status.busy": "2022-03-15T21:56:16.916393Z",
     "iopub.status.idle": "2022-03-15T21:56:16.919240Z",
     "shell.execute_reply": "2022-03-15T21:56:16.919733Z",
     "shell.execute_reply.started": "2022-03-15T21:52:42.450644Z"
    },
    "papermill": {
     "duration": 0.098398,
     "end_time": "2022-03-15T21:56:16.919919",
     "exception": false,
     "start_time": "2022-03-15T21:56:16.821521",
     "status": "completed"
    },
    "tags": []
   },
   "outputs": [],
   "source": [
    "df = pd.DataFrame()"
   ]
  },
  {
   "cell_type": "markdown",
   "id": "6925fd58",
   "metadata": {
    "papermill": {
     "duration": 0.09022,
     "end_time": "2022-03-15T21:56:17.099698",
     "exception": false,
     "start_time": "2022-03-15T21:56:17.009478",
     "status": "completed"
    },
    "tags": []
   },
   "source": [
    "The first thing I want to do is a little feature engineering. The detailed regular season data has stats for each game which is great. I'm going to want to turn these per game stats into averages per season. So I'll take the TeamID and compute the averages for that team. "
   ]
  },
  {
   "cell_type": "code",
   "execution_count": 28,
   "id": "bd7f69c5",
   "metadata": {
    "execution": {
     "iopub.execute_input": "2022-03-15T21:56:17.297823Z",
     "iopub.status.busy": "2022-03-15T21:56:17.297129Z",
     "iopub.status.idle": "2022-03-15T21:56:17.301377Z",
     "shell.execute_reply": "2022-03-15T21:56:17.300879Z",
     "shell.execute_reply.started": "2022-03-15T21:52:43.261165Z"
    },
    "papermill": {
     "duration": 0.112089,
     "end_time": "2022-03-15T21:56:17.301519",
     "exception": false,
     "start_time": "2022-03-15T21:56:17.189430",
     "status": "completed"
    },
    "tags": []
   },
   "outputs": [
    {
     "data": {
      "text/html": [
       "<div>\n",
       "<style scoped>\n",
       "    .dataframe tbody tr th:only-of-type {\n",
       "        vertical-align: middle;\n",
       "    }\n",
       "\n",
       "    .dataframe tbody tr th {\n",
       "        vertical-align: top;\n",
       "    }\n",
       "\n",
       "    .dataframe thead th {\n",
       "        text-align: right;\n",
       "    }\n",
       "</style>\n",
       "<table border=\"1\" class=\"dataframe\">\n",
       "  <thead>\n",
       "    <tr style=\"text-align: right;\">\n",
       "      <th></th>\n",
       "      <th>Season</th>\n",
       "      <th>DayNum</th>\n",
       "      <th>WTeamID</th>\n",
       "      <th>WScore</th>\n",
       "      <th>LTeamID</th>\n",
       "      <th>LScore</th>\n",
       "      <th>WLoc</th>\n",
       "      <th>NumOT</th>\n",
       "      <th>WFGM</th>\n",
       "      <th>WFGA</th>\n",
       "      <th>...</th>\n",
       "      <th>LFGA3</th>\n",
       "      <th>LFTM</th>\n",
       "      <th>LFTA</th>\n",
       "      <th>LOR</th>\n",
       "      <th>LDR</th>\n",
       "      <th>LAst</th>\n",
       "      <th>LTO</th>\n",
       "      <th>LStl</th>\n",
       "      <th>LBlk</th>\n",
       "      <th>LPF</th>\n",
       "    </tr>\n",
       "  </thead>\n",
       "  <tbody>\n",
       "    <tr>\n",
       "      <th>0</th>\n",
       "      <td>2003</td>\n",
       "      <td>10</td>\n",
       "      <td>1104</td>\n",
       "      <td>68</td>\n",
       "      <td>1328</td>\n",
       "      <td>62</td>\n",
       "      <td>N</td>\n",
       "      <td>0</td>\n",
       "      <td>27</td>\n",
       "      <td>58</td>\n",
       "      <td>...</td>\n",
       "      <td>10</td>\n",
       "      <td>16</td>\n",
       "      <td>22</td>\n",
       "      <td>10</td>\n",
       "      <td>22</td>\n",
       "      <td>8</td>\n",
       "      <td>18</td>\n",
       "      <td>9</td>\n",
       "      <td>2</td>\n",
       "      <td>20</td>\n",
       "    </tr>\n",
       "    <tr>\n",
       "      <th>1</th>\n",
       "      <td>2003</td>\n",
       "      <td>10</td>\n",
       "      <td>1272</td>\n",
       "      <td>70</td>\n",
       "      <td>1393</td>\n",
       "      <td>63</td>\n",
       "      <td>N</td>\n",
       "      <td>0</td>\n",
       "      <td>26</td>\n",
       "      <td>62</td>\n",
       "      <td>...</td>\n",
       "      <td>24</td>\n",
       "      <td>9</td>\n",
       "      <td>20</td>\n",
       "      <td>20</td>\n",
       "      <td>25</td>\n",
       "      <td>7</td>\n",
       "      <td>12</td>\n",
       "      <td>8</td>\n",
       "      <td>6</td>\n",
       "      <td>16</td>\n",
       "    </tr>\n",
       "    <tr>\n",
       "      <th>2</th>\n",
       "      <td>2003</td>\n",
       "      <td>11</td>\n",
       "      <td>1266</td>\n",
       "      <td>73</td>\n",
       "      <td>1437</td>\n",
       "      <td>61</td>\n",
       "      <td>N</td>\n",
       "      <td>0</td>\n",
       "      <td>24</td>\n",
       "      <td>58</td>\n",
       "      <td>...</td>\n",
       "      <td>26</td>\n",
       "      <td>14</td>\n",
       "      <td>23</td>\n",
       "      <td>31</td>\n",
       "      <td>22</td>\n",
       "      <td>9</td>\n",
       "      <td>12</td>\n",
       "      <td>2</td>\n",
       "      <td>5</td>\n",
       "      <td>23</td>\n",
       "    </tr>\n",
       "    <tr>\n",
       "      <th>3</th>\n",
       "      <td>2003</td>\n",
       "      <td>11</td>\n",
       "      <td>1296</td>\n",
       "      <td>56</td>\n",
       "      <td>1457</td>\n",
       "      <td>50</td>\n",
       "      <td>N</td>\n",
       "      <td>0</td>\n",
       "      <td>18</td>\n",
       "      <td>38</td>\n",
       "      <td>...</td>\n",
       "      <td>22</td>\n",
       "      <td>8</td>\n",
       "      <td>15</td>\n",
       "      <td>17</td>\n",
       "      <td>20</td>\n",
       "      <td>9</td>\n",
       "      <td>19</td>\n",
       "      <td>4</td>\n",
       "      <td>3</td>\n",
       "      <td>23</td>\n",
       "    </tr>\n",
       "    <tr>\n",
       "      <th>4</th>\n",
       "      <td>2003</td>\n",
       "      <td>11</td>\n",
       "      <td>1400</td>\n",
       "      <td>77</td>\n",
       "      <td>1208</td>\n",
       "      <td>71</td>\n",
       "      <td>N</td>\n",
       "      <td>0</td>\n",
       "      <td>30</td>\n",
       "      <td>61</td>\n",
       "      <td>...</td>\n",
       "      <td>16</td>\n",
       "      <td>17</td>\n",
       "      <td>27</td>\n",
       "      <td>21</td>\n",
       "      <td>15</td>\n",
       "      <td>12</td>\n",
       "      <td>10</td>\n",
       "      <td>7</td>\n",
       "      <td>1</td>\n",
       "      <td>14</td>\n",
       "    </tr>\n",
       "  </tbody>\n",
       "</table>\n",
       "<p>5 rows × 34 columns</p>\n",
       "</div>"
      ],
      "text/plain": [
       "   Season  DayNum  WTeamID  WScore  LTeamID  LScore WLoc  NumOT  WFGM  WFGA  \\\n",
       "0    2003      10     1104      68     1328      62    N      0    27    58   \n",
       "1    2003      10     1272      70     1393      63    N      0    26    62   \n",
       "2    2003      11     1266      73     1437      61    N      0    24    58   \n",
       "3    2003      11     1296      56     1457      50    N      0    18    38   \n",
       "4    2003      11     1400      77     1208      71    N      0    30    61   \n",
       "\n",
       "   ...  LFGA3  LFTM  LFTA  LOR  LDR  LAst  LTO  LStl  LBlk  LPF  \n",
       "0  ...     10    16    22   10   22     8   18     9     2   20  \n",
       "1  ...     24     9    20   20   25     7   12     8     6   16  \n",
       "2  ...     26    14    23   31   22     9   12     2     5   23  \n",
       "3  ...     22     8    15   17   20     9   19     4     3   23  \n",
       "4  ...     16    17    27   21   15    12   10     7     1   14  \n",
       "\n",
       "[5 rows x 34 columns]"
      ]
     },
     "execution_count": 28,
     "metadata": {},
     "output_type": "execute_result"
    }
   ],
   "source": [
    "df_regseasonDets.head()"
   ]
  },
  {
   "cell_type": "markdown",
   "id": "6925a324",
   "metadata": {
    "papermill": {
     "duration": 0.088564,
     "end_time": "2022-03-15T21:56:17.480860",
     "exception": false,
     "start_time": "2022-03-15T21:56:17.392296",
     "status": "completed"
    },
    "tags": []
   },
   "source": [
    "Let's start by turning all the attempts and made shots into a percentage."
   ]
  },
  {
   "cell_type": "code",
   "execution_count": 29,
   "id": "cea801a5",
   "metadata": {
    "execution": {
     "iopub.execute_input": "2022-03-15T21:56:17.670907Z",
     "iopub.status.busy": "2022-03-15T21:56:17.669821Z",
     "iopub.status.idle": "2022-03-15T21:56:17.683029Z",
     "shell.execute_reply": "2022-03-15T21:56:17.682382Z",
     "shell.execute_reply.started": "2022-03-15T21:52:44.075801Z"
    },
    "papermill": {
     "duration": 0.112698,
     "end_time": "2022-03-15T21:56:17.683173",
     "exception": false,
     "start_time": "2022-03-15T21:56:17.570475",
     "status": "completed"
    },
    "tags": []
   },
   "outputs": [],
   "source": [
    "df_regseasonDets['WFGP'] = df_regseasonDets.WFGM / df_regseasonDets.WFGA\n",
    "df_regseasonDets['WFGP3'] = df_regseasonDets.WFGM3 / df_regseasonDets.WFGA3\n",
    "df_regseasonDets['WFTP'] = df_regseasonDets.WFTM / df_regseasonDets.WFTA\n",
    "df_regseasonDets['LFGP'] = df_regseasonDets.LFGM / df_regseasonDets.LFGA\n",
    "df_regseasonDets['LFGP3'] = df_regseasonDets.LFGM3 / df_regseasonDets.LFGA3\n",
    "df_regseasonDets['LFTP'] = df_regseasonDets.LFTM / df_regseasonDets.LFTA"
   ]
  },
  {
   "cell_type": "code",
   "execution_count": 30,
   "id": "8b6bbbc3",
   "metadata": {
    "execution": {
     "iopub.execute_input": "2022-03-15T21:56:17.868432Z",
     "iopub.status.busy": "2022-03-15T21:56:17.867395Z",
     "iopub.status.idle": "2022-03-15T21:56:17.889404Z",
     "shell.execute_reply": "2022-03-15T21:56:17.888906Z",
     "shell.execute_reply.started": "2022-03-15T21:52:44.590046Z"
    },
    "papermill": {
     "duration": 0.11648,
     "end_time": "2022-03-15T21:56:17.889556",
     "exception": false,
     "start_time": "2022-03-15T21:56:17.773076",
     "status": "completed"
    },
    "tags": []
   },
   "outputs": [
    {
     "data": {
      "text/html": [
       "<div>\n",
       "<style scoped>\n",
       "    .dataframe tbody tr th:only-of-type {\n",
       "        vertical-align: middle;\n",
       "    }\n",
       "\n",
       "    .dataframe tbody tr th {\n",
       "        vertical-align: top;\n",
       "    }\n",
       "\n",
       "    .dataframe thead th {\n",
       "        text-align: right;\n",
       "    }\n",
       "</style>\n",
       "<table border=\"1\" class=\"dataframe\">\n",
       "  <thead>\n",
       "    <tr style=\"text-align: right;\">\n",
       "      <th></th>\n",
       "      <th>Season</th>\n",
       "      <th>DayNum</th>\n",
       "      <th>WTeamID</th>\n",
       "      <th>WScore</th>\n",
       "      <th>LTeamID</th>\n",
       "      <th>LScore</th>\n",
       "      <th>WLoc</th>\n",
       "      <th>NumOT</th>\n",
       "      <th>WFGM</th>\n",
       "      <th>WFGA</th>\n",
       "      <th>...</th>\n",
       "      <th>LTO</th>\n",
       "      <th>LStl</th>\n",
       "      <th>LBlk</th>\n",
       "      <th>LPF</th>\n",
       "      <th>WFGP</th>\n",
       "      <th>WFGP3</th>\n",
       "      <th>WFTP</th>\n",
       "      <th>LFGP</th>\n",
       "      <th>LFGP3</th>\n",
       "      <th>LFTP</th>\n",
       "    </tr>\n",
       "  </thead>\n",
       "  <tbody>\n",
       "    <tr>\n",
       "      <th>0</th>\n",
       "      <td>2003</td>\n",
       "      <td>10</td>\n",
       "      <td>1104</td>\n",
       "      <td>68</td>\n",
       "      <td>1328</td>\n",
       "      <td>62</td>\n",
       "      <td>N</td>\n",
       "      <td>0</td>\n",
       "      <td>27</td>\n",
       "      <td>58</td>\n",
       "      <td>...</td>\n",
       "      <td>18</td>\n",
       "      <td>9</td>\n",
       "      <td>2</td>\n",
       "      <td>20</td>\n",
       "      <td>0.465517</td>\n",
       "      <td>0.214286</td>\n",
       "      <td>0.611111</td>\n",
       "      <td>0.415094</td>\n",
       "      <td>0.200000</td>\n",
       "      <td>0.727273</td>\n",
       "    </tr>\n",
       "    <tr>\n",
       "      <th>1</th>\n",
       "      <td>2003</td>\n",
       "      <td>10</td>\n",
       "      <td>1272</td>\n",
       "      <td>70</td>\n",
       "      <td>1393</td>\n",
       "      <td>63</td>\n",
       "      <td>N</td>\n",
       "      <td>0</td>\n",
       "      <td>26</td>\n",
       "      <td>62</td>\n",
       "      <td>...</td>\n",
       "      <td>12</td>\n",
       "      <td>8</td>\n",
       "      <td>6</td>\n",
       "      <td>16</td>\n",
       "      <td>0.419355</td>\n",
       "      <td>0.400000</td>\n",
       "      <td>0.526316</td>\n",
       "      <td>0.358209</td>\n",
       "      <td>0.250000</td>\n",
       "      <td>0.450000</td>\n",
       "    </tr>\n",
       "    <tr>\n",
       "      <th>2</th>\n",
       "      <td>2003</td>\n",
       "      <td>11</td>\n",
       "      <td>1266</td>\n",
       "      <td>73</td>\n",
       "      <td>1437</td>\n",
       "      <td>61</td>\n",
       "      <td>N</td>\n",
       "      <td>0</td>\n",
       "      <td>24</td>\n",
       "      <td>58</td>\n",
       "      <td>...</td>\n",
       "      <td>12</td>\n",
       "      <td>2</td>\n",
       "      <td>5</td>\n",
       "      <td>23</td>\n",
       "      <td>0.413793</td>\n",
       "      <td>0.444444</td>\n",
       "      <td>0.586207</td>\n",
       "      <td>0.301370</td>\n",
       "      <td>0.115385</td>\n",
       "      <td>0.608696</td>\n",
       "    </tr>\n",
       "    <tr>\n",
       "      <th>3</th>\n",
       "      <td>2003</td>\n",
       "      <td>11</td>\n",
       "      <td>1296</td>\n",
       "      <td>56</td>\n",
       "      <td>1457</td>\n",
       "      <td>50</td>\n",
       "      <td>N</td>\n",
       "      <td>0</td>\n",
       "      <td>18</td>\n",
       "      <td>38</td>\n",
       "      <td>...</td>\n",
       "      <td>19</td>\n",
       "      <td>4</td>\n",
       "      <td>3</td>\n",
       "      <td>23</td>\n",
       "      <td>0.473684</td>\n",
       "      <td>0.333333</td>\n",
       "      <td>0.548387</td>\n",
       "      <td>0.367347</td>\n",
       "      <td>0.272727</td>\n",
       "      <td>0.533333</td>\n",
       "    </tr>\n",
       "    <tr>\n",
       "      <th>4</th>\n",
       "      <td>2003</td>\n",
       "      <td>11</td>\n",
       "      <td>1400</td>\n",
       "      <td>77</td>\n",
       "      <td>1208</td>\n",
       "      <td>71</td>\n",
       "      <td>N</td>\n",
       "      <td>0</td>\n",
       "      <td>30</td>\n",
       "      <td>61</td>\n",
       "      <td>...</td>\n",
       "      <td>10</td>\n",
       "      <td>7</td>\n",
       "      <td>1</td>\n",
       "      <td>14</td>\n",
       "      <td>0.491803</td>\n",
       "      <td>0.428571</td>\n",
       "      <td>0.846154</td>\n",
       "      <td>0.387097</td>\n",
       "      <td>0.375000</td>\n",
       "      <td>0.629630</td>\n",
       "    </tr>\n",
       "  </tbody>\n",
       "</table>\n",
       "<p>5 rows × 40 columns</p>\n",
       "</div>"
      ],
      "text/plain": [
       "   Season  DayNum  WTeamID  WScore  LTeamID  LScore WLoc  NumOT  WFGM  WFGA  \\\n",
       "0    2003      10     1104      68     1328      62    N      0    27    58   \n",
       "1    2003      10     1272      70     1393      63    N      0    26    62   \n",
       "2    2003      11     1266      73     1437      61    N      0    24    58   \n",
       "3    2003      11     1296      56     1457      50    N      0    18    38   \n",
       "4    2003      11     1400      77     1208      71    N      0    30    61   \n",
       "\n",
       "   ...  LTO  LStl  LBlk  LPF      WFGP     WFGP3      WFTP      LFGP  \\\n",
       "0  ...   18     9     2   20  0.465517  0.214286  0.611111  0.415094   \n",
       "1  ...   12     8     6   16  0.419355  0.400000  0.526316  0.358209   \n",
       "2  ...   12     2     5   23  0.413793  0.444444  0.586207  0.301370   \n",
       "3  ...   19     4     3   23  0.473684  0.333333  0.548387  0.367347   \n",
       "4  ...   10     7     1   14  0.491803  0.428571  0.846154  0.387097   \n",
       "\n",
       "      LFGP3      LFTP  \n",
       "0  0.200000  0.727273  \n",
       "1  0.250000  0.450000  \n",
       "2  0.115385  0.608696  \n",
       "3  0.272727  0.533333  \n",
       "4  0.375000  0.629630  \n",
       "\n",
       "[5 rows x 40 columns]"
      ]
     },
     "execution_count": 30,
     "metadata": {},
     "output_type": "execute_result"
    }
   ],
   "source": [
    "df_regseasonDets.head()"
   ]
  },
  {
   "cell_type": "markdown",
   "id": "74e0998f",
   "metadata": {
    "papermill": {
     "duration": 0.088108,
     "end_time": "2022-03-15T21:56:18.068583",
     "exception": false,
     "start_time": "2022-03-15T21:56:17.980475",
     "status": "completed"
    },
    "tags": []
   },
   "source": [
    "Let's create a dataframe for that has the average information of the games grouped by season and TeamID. I'm going to do this by first making two different dataframes, one for the winning team stats, and one for the losing. Then I'll concatenate them together and then take the averages. "
   ]
  },
  {
   "cell_type": "code",
   "execution_count": 31,
   "id": "46bc7c1d",
   "metadata": {
    "execution": {
     "iopub.execute_input": "2022-03-15T21:56:18.258219Z",
     "iopub.status.busy": "2022-03-15T21:56:18.252568Z",
     "iopub.status.idle": "2022-03-15T21:56:18.290361Z",
     "shell.execute_reply": "2022-03-15T21:56:18.290863Z",
     "shell.execute_reply.started": "2022-03-15T21:52:45.538512Z"
    },
    "papermill": {
     "duration": 0.13296,
     "end_time": "2022-03-15T21:56:18.291043",
     "exception": false,
     "start_time": "2022-03-15T21:56:18.158083",
     "status": "completed"
    },
    "tags": []
   },
   "outputs": [],
   "source": [
    "df_WregseasonDets = pd.DataFrame() \n",
    "df_WregseasonDets['TeamID'] = df_regseasonDets.WTeamID\n",
    "df_WregseasonDets['Season'] = df_regseasonDets.Season\n",
    "df_WregseasonDets['Score'] = df_regseasonDets.WScore\n",
    "df_WregseasonDets['FGP'] = df_regseasonDets.WFGP\n",
    "df_WregseasonDets['FGP3'] = df_regseasonDets.WFGP3\n",
    "df_WregseasonDets['FTP'] = df_regseasonDets.WFTP\n",
    "df_WregseasonDets['OR'] = df_regseasonDets.WOR\n",
    "df_WregseasonDets['DR'] = df_regseasonDets.WDR\n",
    "df_WregseasonDets['Ast'] = df_regseasonDets.WAst\n",
    "df_WregseasonDets['TO'] = df_regseasonDets.WTO\n",
    "df_WregseasonDets['Blk'] = df_regseasonDets.WBlk\n",
    "df_WregseasonDets['Stl'] = df_regseasonDets.WStl\n",
    "df_WregseasonDets['PF'] = df_regseasonDets.WPF"
   ]
  },
  {
   "cell_type": "code",
   "execution_count": 32,
   "id": "d40115e2",
   "metadata": {
    "execution": {
     "iopub.execute_input": "2022-03-15T21:56:18.471864Z",
     "iopub.status.busy": "2022-03-15T21:56:18.470825Z",
     "iopub.status.idle": "2022-03-15T21:56:18.484802Z",
     "shell.execute_reply": "2022-03-15T21:56:18.485319Z",
     "shell.execute_reply.started": "2022-03-15T21:52:46.074127Z"
    },
    "papermill": {
     "duration": 0.106401,
     "end_time": "2022-03-15T21:56:18.485486",
     "exception": false,
     "start_time": "2022-03-15T21:56:18.379085",
     "status": "completed"
    },
    "tags": []
   },
   "outputs": [
    {
     "data": {
      "text/html": [
       "<div>\n",
       "<style scoped>\n",
       "    .dataframe tbody tr th:only-of-type {\n",
       "        vertical-align: middle;\n",
       "    }\n",
       "\n",
       "    .dataframe tbody tr th {\n",
       "        vertical-align: top;\n",
       "    }\n",
       "\n",
       "    .dataframe thead th {\n",
       "        text-align: right;\n",
       "    }\n",
       "</style>\n",
       "<table border=\"1\" class=\"dataframe\">\n",
       "  <thead>\n",
       "    <tr style=\"text-align: right;\">\n",
       "      <th></th>\n",
       "      <th>TeamID</th>\n",
       "      <th>Season</th>\n",
       "      <th>Score</th>\n",
       "      <th>FGP</th>\n",
       "      <th>FGP3</th>\n",
       "      <th>FTP</th>\n",
       "      <th>OR</th>\n",
       "      <th>DR</th>\n",
       "      <th>Ast</th>\n",
       "      <th>TO</th>\n",
       "      <th>Blk</th>\n",
       "      <th>Stl</th>\n",
       "      <th>PF</th>\n",
       "    </tr>\n",
       "  </thead>\n",
       "  <tbody>\n",
       "    <tr>\n",
       "      <th>0</th>\n",
       "      <td>1104</td>\n",
       "      <td>2003</td>\n",
       "      <td>68</td>\n",
       "      <td>0.465517</td>\n",
       "      <td>0.214286</td>\n",
       "      <td>0.611111</td>\n",
       "      <td>14</td>\n",
       "      <td>24</td>\n",
       "      <td>13</td>\n",
       "      <td>23</td>\n",
       "      <td>1</td>\n",
       "      <td>7</td>\n",
       "      <td>22</td>\n",
       "    </tr>\n",
       "    <tr>\n",
       "      <th>1</th>\n",
       "      <td>1272</td>\n",
       "      <td>2003</td>\n",
       "      <td>70</td>\n",
       "      <td>0.419355</td>\n",
       "      <td>0.400000</td>\n",
       "      <td>0.526316</td>\n",
       "      <td>15</td>\n",
       "      <td>28</td>\n",
       "      <td>16</td>\n",
       "      <td>13</td>\n",
       "      <td>4</td>\n",
       "      <td>4</td>\n",
       "      <td>18</td>\n",
       "    </tr>\n",
       "    <tr>\n",
       "      <th>2</th>\n",
       "      <td>1266</td>\n",
       "      <td>2003</td>\n",
       "      <td>73</td>\n",
       "      <td>0.413793</td>\n",
       "      <td>0.444444</td>\n",
       "      <td>0.586207</td>\n",
       "      <td>17</td>\n",
       "      <td>26</td>\n",
       "      <td>15</td>\n",
       "      <td>10</td>\n",
       "      <td>2</td>\n",
       "      <td>5</td>\n",
       "      <td>25</td>\n",
       "    </tr>\n",
       "    <tr>\n",
       "      <th>3</th>\n",
       "      <td>1296</td>\n",
       "      <td>2003</td>\n",
       "      <td>56</td>\n",
       "      <td>0.473684</td>\n",
       "      <td>0.333333</td>\n",
       "      <td>0.548387</td>\n",
       "      <td>6</td>\n",
       "      <td>19</td>\n",
       "      <td>11</td>\n",
       "      <td>12</td>\n",
       "      <td>2</td>\n",
       "      <td>14</td>\n",
       "      <td>18</td>\n",
       "    </tr>\n",
       "    <tr>\n",
       "      <th>4</th>\n",
       "      <td>1400</td>\n",
       "      <td>2003</td>\n",
       "      <td>77</td>\n",
       "      <td>0.491803</td>\n",
       "      <td>0.428571</td>\n",
       "      <td>0.846154</td>\n",
       "      <td>17</td>\n",
       "      <td>22</td>\n",
       "      <td>12</td>\n",
       "      <td>14</td>\n",
       "      <td>4</td>\n",
       "      <td>4</td>\n",
       "      <td>20</td>\n",
       "    </tr>\n",
       "  </tbody>\n",
       "</table>\n",
       "</div>"
      ],
      "text/plain": [
       "   TeamID  Season  Score       FGP      FGP3       FTP  OR  DR  Ast  TO  Blk  \\\n",
       "0    1104    2003     68  0.465517  0.214286  0.611111  14  24   13  23    1   \n",
       "1    1272    2003     70  0.419355  0.400000  0.526316  15  28   16  13    4   \n",
       "2    1266    2003     73  0.413793  0.444444  0.586207  17  26   15  10    2   \n",
       "3    1296    2003     56  0.473684  0.333333  0.548387   6  19   11  12    2   \n",
       "4    1400    2003     77  0.491803  0.428571  0.846154  17  22   12  14    4   \n",
       "\n",
       "   Stl  PF  \n",
       "0    7  22  \n",
       "1    4  18  \n",
       "2    5  25  \n",
       "3   14  18  \n",
       "4    4  20  "
      ]
     },
     "execution_count": 32,
     "metadata": {},
     "output_type": "execute_result"
    }
   ],
   "source": [
    "df_WregseasonDets.head()"
   ]
  },
  {
   "cell_type": "code",
   "execution_count": 33,
   "id": "a4ea4623",
   "metadata": {
    "execution": {
     "iopub.execute_input": "2022-03-15T21:56:18.669385Z",
     "iopub.status.busy": "2022-03-15T21:56:18.668688Z",
     "iopub.status.idle": "2022-03-15T21:56:18.671350Z",
     "shell.execute_reply": "2022-03-15T21:56:18.671943Z",
     "shell.execute_reply.started": "2022-03-15T21:52:46.644919Z"
    },
    "papermill": {
     "duration": 0.096678,
     "end_time": "2022-03-15T21:56:18.672111",
     "exception": false,
     "start_time": "2022-03-15T21:56:18.575433",
     "status": "completed"
    },
    "tags": []
   },
   "outputs": [
    {
     "data": {
      "text/plain": [
       "(100423, 13)"
      ]
     },
     "execution_count": 33,
     "metadata": {},
     "output_type": "execute_result"
    }
   ],
   "source": [
    "df_WregseasonDets.shape"
   ]
  },
  {
   "cell_type": "code",
   "execution_count": 34,
   "id": "e8363fa6",
   "metadata": {
    "execution": {
     "iopub.execute_input": "2022-03-15T21:56:18.856690Z",
     "iopub.status.busy": "2022-03-15T21:56:18.855990Z",
     "iopub.status.idle": "2022-03-15T21:56:18.891279Z",
     "shell.execute_reply": "2022-03-15T21:56:18.891849Z",
     "shell.execute_reply.started": "2022-03-15T21:52:47.362398Z"
    },
    "papermill": {
     "duration": 0.128833,
     "end_time": "2022-03-15T21:56:18.892024",
     "exception": false,
     "start_time": "2022-03-15T21:56:18.763191",
     "status": "completed"
    },
    "tags": []
   },
   "outputs": [],
   "source": [
    "df_LregseasonDets = pd.DataFrame() \n",
    "df_LregseasonDets['TeamID'] = df_regseasonDets.LTeamID\n",
    "df_LregseasonDets['Season'] = df_regseasonDets.Season\n",
    "df_LregseasonDets['Score'] = df_regseasonDets.LScore\n",
    "df_LregseasonDets['FGP'] = df_regseasonDets.LFGP\n",
    "df_LregseasonDets['FGP3'] = df_regseasonDets.LFGP3\n",
    "df_LregseasonDets['FTP'] = df_regseasonDets.LFTP\n",
    "df_LregseasonDets['OR'] = df_regseasonDets.LOR\n",
    "df_LregseasonDets['DR'] = df_regseasonDets.LDR\n",
    "df_LregseasonDets['Ast'] = df_regseasonDets.LAst\n",
    "df_LregseasonDets['TO'] = df_regseasonDets.LTO\n",
    "df_LregseasonDets['Blk'] = df_regseasonDets.LBlk\n",
    "df_LregseasonDets['Stl'] = df_regseasonDets.LStl\n",
    "df_LregseasonDets['PF'] = df_regseasonDets.LPF"
   ]
  },
  {
   "cell_type": "code",
   "execution_count": 35,
   "id": "6f415187",
   "metadata": {
    "execution": {
     "iopub.execute_input": "2022-03-15T21:56:19.074898Z",
     "iopub.status.busy": "2022-03-15T21:56:19.074209Z",
     "iopub.status.idle": "2022-03-15T21:56:19.087982Z",
     "shell.execute_reply": "2022-03-15T21:56:19.088457Z",
     "shell.execute_reply.started": "2022-03-15T21:52:48.614595Z"
    },
    "papermill": {
     "duration": 0.107853,
     "end_time": "2022-03-15T21:56:19.088651",
     "exception": false,
     "start_time": "2022-03-15T21:56:18.980798",
     "status": "completed"
    },
    "tags": []
   },
   "outputs": [
    {
     "data": {
      "text/html": [
       "<div>\n",
       "<style scoped>\n",
       "    .dataframe tbody tr th:only-of-type {\n",
       "        vertical-align: middle;\n",
       "    }\n",
       "\n",
       "    .dataframe tbody tr th {\n",
       "        vertical-align: top;\n",
       "    }\n",
       "\n",
       "    .dataframe thead th {\n",
       "        text-align: right;\n",
       "    }\n",
       "</style>\n",
       "<table border=\"1\" class=\"dataframe\">\n",
       "  <thead>\n",
       "    <tr style=\"text-align: right;\">\n",
       "      <th></th>\n",
       "      <th>TeamID</th>\n",
       "      <th>Season</th>\n",
       "      <th>Score</th>\n",
       "      <th>FGP</th>\n",
       "      <th>FGP3</th>\n",
       "      <th>FTP</th>\n",
       "      <th>OR</th>\n",
       "      <th>DR</th>\n",
       "      <th>Ast</th>\n",
       "      <th>TO</th>\n",
       "      <th>Blk</th>\n",
       "      <th>Stl</th>\n",
       "      <th>PF</th>\n",
       "    </tr>\n",
       "  </thead>\n",
       "  <tbody>\n",
       "    <tr>\n",
       "      <th>0</th>\n",
       "      <td>1328</td>\n",
       "      <td>2003</td>\n",
       "      <td>62</td>\n",
       "      <td>0.415094</td>\n",
       "      <td>0.200000</td>\n",
       "      <td>0.727273</td>\n",
       "      <td>10</td>\n",
       "      <td>22</td>\n",
       "      <td>8</td>\n",
       "      <td>18</td>\n",
       "      <td>2</td>\n",
       "      <td>9</td>\n",
       "      <td>20</td>\n",
       "    </tr>\n",
       "    <tr>\n",
       "      <th>1</th>\n",
       "      <td>1393</td>\n",
       "      <td>2003</td>\n",
       "      <td>63</td>\n",
       "      <td>0.358209</td>\n",
       "      <td>0.250000</td>\n",
       "      <td>0.450000</td>\n",
       "      <td>20</td>\n",
       "      <td>25</td>\n",
       "      <td>7</td>\n",
       "      <td>12</td>\n",
       "      <td>6</td>\n",
       "      <td>8</td>\n",
       "      <td>16</td>\n",
       "    </tr>\n",
       "    <tr>\n",
       "      <th>2</th>\n",
       "      <td>1437</td>\n",
       "      <td>2003</td>\n",
       "      <td>61</td>\n",
       "      <td>0.301370</td>\n",
       "      <td>0.115385</td>\n",
       "      <td>0.608696</td>\n",
       "      <td>31</td>\n",
       "      <td>22</td>\n",
       "      <td>9</td>\n",
       "      <td>12</td>\n",
       "      <td>5</td>\n",
       "      <td>2</td>\n",
       "      <td>23</td>\n",
       "    </tr>\n",
       "    <tr>\n",
       "      <th>3</th>\n",
       "      <td>1457</td>\n",
       "      <td>2003</td>\n",
       "      <td>50</td>\n",
       "      <td>0.367347</td>\n",
       "      <td>0.272727</td>\n",
       "      <td>0.533333</td>\n",
       "      <td>17</td>\n",
       "      <td>20</td>\n",
       "      <td>9</td>\n",
       "      <td>19</td>\n",
       "      <td>3</td>\n",
       "      <td>4</td>\n",
       "      <td>23</td>\n",
       "    </tr>\n",
       "    <tr>\n",
       "      <th>4</th>\n",
       "      <td>1208</td>\n",
       "      <td>2003</td>\n",
       "      <td>71</td>\n",
       "      <td>0.387097</td>\n",
       "      <td>0.375000</td>\n",
       "      <td>0.629630</td>\n",
       "      <td>21</td>\n",
       "      <td>15</td>\n",
       "      <td>12</td>\n",
       "      <td>10</td>\n",
       "      <td>1</td>\n",
       "      <td>7</td>\n",
       "      <td>14</td>\n",
       "    </tr>\n",
       "  </tbody>\n",
       "</table>\n",
       "</div>"
      ],
      "text/plain": [
       "   TeamID  Season  Score       FGP      FGP3       FTP  OR  DR  Ast  TO  Blk  \\\n",
       "0    1328    2003     62  0.415094  0.200000  0.727273  10  22    8  18    2   \n",
       "1    1393    2003     63  0.358209  0.250000  0.450000  20  25    7  12    6   \n",
       "2    1437    2003     61  0.301370  0.115385  0.608696  31  22    9  12    5   \n",
       "3    1457    2003     50  0.367347  0.272727  0.533333  17  20    9  19    3   \n",
       "4    1208    2003     71  0.387097  0.375000  0.629630  21  15   12  10    1   \n",
       "\n",
       "   Stl  PF  \n",
       "0    9  20  \n",
       "1    8  16  \n",
       "2    2  23  \n",
       "3    4  23  \n",
       "4    7  14  "
      ]
     },
     "execution_count": 35,
     "metadata": {},
     "output_type": "execute_result"
    }
   ],
   "source": [
    "df_LregseasonDets.head()"
   ]
  },
  {
   "cell_type": "code",
   "execution_count": 36,
   "id": "b36a1183",
   "metadata": {
    "execution": {
     "iopub.execute_input": "2022-03-15T21:56:19.273988Z",
     "iopub.status.busy": "2022-03-15T21:56:19.273322Z",
     "iopub.status.idle": "2022-03-15T21:56:19.276398Z",
     "shell.execute_reply": "2022-03-15T21:56:19.276897Z",
     "shell.execute_reply.started": "2022-03-15T21:52:49.425495Z"
    },
    "papermill": {
     "duration": 0.098263,
     "end_time": "2022-03-15T21:56:19.277063",
     "exception": false,
     "start_time": "2022-03-15T21:56:19.178800",
     "status": "completed"
    },
    "tags": []
   },
   "outputs": [
    {
     "data": {
      "text/plain": [
       "(100423, 13)"
      ]
     },
     "execution_count": 36,
     "metadata": {},
     "output_type": "execute_result"
    }
   ],
   "source": [
    "df_LregseasonDets.shape"
   ]
  },
  {
   "cell_type": "markdown",
   "id": "dcaf3aec",
   "metadata": {
    "papermill": {
     "duration": 0.089559,
     "end_time": "2022-03-15T21:56:19.456863",
     "exception": false,
     "start_time": "2022-03-15T21:56:19.367304",
     "status": "completed"
    },
    "tags": []
   },
   "source": [
    "Concatenate df_WregseasonDets and df_LregseasonDets together."
   ]
  },
  {
   "cell_type": "code",
   "execution_count": 37,
   "id": "395ba357",
   "metadata": {
    "execution": {
     "iopub.execute_input": "2022-03-15T21:56:19.645276Z",
     "iopub.status.busy": "2022-03-15T21:56:19.642190Z",
     "iopub.status.idle": "2022-03-15T21:56:19.666138Z",
     "shell.execute_reply": "2022-03-15T21:56:19.665488Z",
     "shell.execute_reply.started": "2022-03-15T21:52:51.519500Z"
    },
    "papermill": {
     "duration": 0.116158,
     "end_time": "2022-03-15T21:56:19.666281",
     "exception": false,
     "start_time": "2022-03-15T21:56:19.550123",
     "status": "completed"
    },
    "tags": []
   },
   "outputs": [],
   "source": [
    "df_regseasonDets_teams = pd.DataFrame()\n",
    "df_regseasonDets_teams = pd.concat([df_WregseasonDets, df_LregseasonDets])"
   ]
  },
  {
   "cell_type": "code",
   "execution_count": 38,
   "id": "a6cf9bcf",
   "metadata": {
    "execution": {
     "iopub.execute_input": "2022-03-15T21:56:19.859463Z",
     "iopub.status.busy": "2022-03-15T21:56:19.857371Z",
     "iopub.status.idle": "2022-03-15T21:56:19.862707Z",
     "shell.execute_reply": "2022-03-15T21:56:19.863197Z",
     "shell.execute_reply.started": "2022-03-15T21:52:52.280779Z"
    },
    "papermill": {
     "duration": 0.101729,
     "end_time": "2022-03-15T21:56:19.863373",
     "exception": false,
     "start_time": "2022-03-15T21:56:19.761644",
     "status": "completed"
    },
    "tags": []
   },
   "outputs": [
    {
     "data": {
      "text/plain": [
       "(200846, 13)"
      ]
     },
     "execution_count": 38,
     "metadata": {},
     "output_type": "execute_result"
    }
   ],
   "source": [
    "df_regseasonDets_teams.shape"
   ]
  },
  {
   "cell_type": "code",
   "execution_count": 39,
   "id": "d03a7e4c",
   "metadata": {
    "execution": {
     "iopub.execute_input": "2022-03-15T21:56:20.058312Z",
     "iopub.status.busy": "2022-03-15T21:56:20.057274Z",
     "iopub.status.idle": "2022-03-15T21:56:20.069273Z",
     "shell.execute_reply": "2022-03-15T21:56:20.069786Z",
     "shell.execute_reply.started": "2022-03-15T21:52:53.042696Z"
    },
    "papermill": {
     "duration": 0.111291,
     "end_time": "2022-03-15T21:56:20.069981",
     "exception": false,
     "start_time": "2022-03-15T21:56:19.958690",
     "status": "completed"
    },
    "tags": []
   },
   "outputs": [
    {
     "data": {
      "text/html": [
       "<div>\n",
       "<style scoped>\n",
       "    .dataframe tbody tr th:only-of-type {\n",
       "        vertical-align: middle;\n",
       "    }\n",
       "\n",
       "    .dataframe tbody tr th {\n",
       "        vertical-align: top;\n",
       "    }\n",
       "\n",
       "    .dataframe thead th {\n",
       "        text-align: right;\n",
       "    }\n",
       "</style>\n",
       "<table border=\"1\" class=\"dataframe\">\n",
       "  <thead>\n",
       "    <tr style=\"text-align: right;\">\n",
       "      <th></th>\n",
       "      <th>TeamID</th>\n",
       "      <th>Season</th>\n",
       "      <th>Score</th>\n",
       "      <th>FGP</th>\n",
       "      <th>FGP3</th>\n",
       "      <th>FTP</th>\n",
       "      <th>OR</th>\n",
       "      <th>DR</th>\n",
       "      <th>Ast</th>\n",
       "      <th>TO</th>\n",
       "      <th>Blk</th>\n",
       "      <th>Stl</th>\n",
       "      <th>PF</th>\n",
       "    </tr>\n",
       "  </thead>\n",
       "  <tbody>\n",
       "    <tr>\n",
       "      <th>0</th>\n",
       "      <td>1104</td>\n",
       "      <td>2003</td>\n",
       "      <td>68</td>\n",
       "      <td>0.465517</td>\n",
       "      <td>0.214286</td>\n",
       "      <td>0.611111</td>\n",
       "      <td>14</td>\n",
       "      <td>24</td>\n",
       "      <td>13</td>\n",
       "      <td>23</td>\n",
       "      <td>1</td>\n",
       "      <td>7</td>\n",
       "      <td>22</td>\n",
       "    </tr>\n",
       "    <tr>\n",
       "      <th>1</th>\n",
       "      <td>1272</td>\n",
       "      <td>2003</td>\n",
       "      <td>70</td>\n",
       "      <td>0.419355</td>\n",
       "      <td>0.400000</td>\n",
       "      <td>0.526316</td>\n",
       "      <td>15</td>\n",
       "      <td>28</td>\n",
       "      <td>16</td>\n",
       "      <td>13</td>\n",
       "      <td>4</td>\n",
       "      <td>4</td>\n",
       "      <td>18</td>\n",
       "    </tr>\n",
       "    <tr>\n",
       "      <th>2</th>\n",
       "      <td>1266</td>\n",
       "      <td>2003</td>\n",
       "      <td>73</td>\n",
       "      <td>0.413793</td>\n",
       "      <td>0.444444</td>\n",
       "      <td>0.586207</td>\n",
       "      <td>17</td>\n",
       "      <td>26</td>\n",
       "      <td>15</td>\n",
       "      <td>10</td>\n",
       "      <td>2</td>\n",
       "      <td>5</td>\n",
       "      <td>25</td>\n",
       "    </tr>\n",
       "    <tr>\n",
       "      <th>3</th>\n",
       "      <td>1296</td>\n",
       "      <td>2003</td>\n",
       "      <td>56</td>\n",
       "      <td>0.473684</td>\n",
       "      <td>0.333333</td>\n",
       "      <td>0.548387</td>\n",
       "      <td>6</td>\n",
       "      <td>19</td>\n",
       "      <td>11</td>\n",
       "      <td>12</td>\n",
       "      <td>2</td>\n",
       "      <td>14</td>\n",
       "      <td>18</td>\n",
       "    </tr>\n",
       "    <tr>\n",
       "      <th>4</th>\n",
       "      <td>1400</td>\n",
       "      <td>2003</td>\n",
       "      <td>77</td>\n",
       "      <td>0.491803</td>\n",
       "      <td>0.428571</td>\n",
       "      <td>0.846154</td>\n",
       "      <td>17</td>\n",
       "      <td>22</td>\n",
       "      <td>12</td>\n",
       "      <td>14</td>\n",
       "      <td>4</td>\n",
       "      <td>4</td>\n",
       "      <td>20</td>\n",
       "    </tr>\n",
       "  </tbody>\n",
       "</table>\n",
       "</div>"
      ],
      "text/plain": [
       "   TeamID  Season  Score       FGP      FGP3       FTP  OR  DR  Ast  TO  Blk  \\\n",
       "0    1104    2003     68  0.465517  0.214286  0.611111  14  24   13  23    1   \n",
       "1    1272    2003     70  0.419355  0.400000  0.526316  15  28   16  13    4   \n",
       "2    1266    2003     73  0.413793  0.444444  0.586207  17  26   15  10    2   \n",
       "3    1296    2003     56  0.473684  0.333333  0.548387   6  19   11  12    2   \n",
       "4    1400    2003     77  0.491803  0.428571  0.846154  17  22   12  14    4   \n",
       "\n",
       "   Stl  PF  \n",
       "0    7  22  \n",
       "1    4  18  \n",
       "2    5  25  \n",
       "3   14  18  \n",
       "4    4  20  "
      ]
     },
     "execution_count": 39,
     "metadata": {},
     "output_type": "execute_result"
    }
   ],
   "source": [
    "df_regseasonDets_teams.head()"
   ]
  },
  {
   "cell_type": "markdown",
   "id": "d4cd26b8",
   "metadata": {
    "papermill": {
     "duration": 0.093013,
     "end_time": "2022-03-15T21:56:20.253808",
     "exception": false,
     "start_time": "2022-03-15T21:56:20.160795",
     "status": "completed"
    },
    "tags": []
   },
   "source": [
    "Take the averages by team and season."
   ]
  },
  {
   "cell_type": "code",
   "execution_count": 40,
   "id": "b1c8c958",
   "metadata": {
    "execution": {
     "iopub.execute_input": "2022-03-15T21:56:20.443081Z",
     "iopub.status.busy": "2022-03-15T21:56:20.442434Z",
     "iopub.status.idle": "2022-03-15T21:56:20.502762Z",
     "shell.execute_reply": "2022-03-15T21:56:20.503284Z",
     "shell.execute_reply.started": "2022-03-15T21:52:54.930542Z"
    },
    "papermill": {
     "duration": 0.158285,
     "end_time": "2022-03-15T21:56:20.503450",
     "exception": false,
     "start_time": "2022-03-15T21:56:20.345165",
     "status": "completed"
    },
    "tags": []
   },
   "outputs": [
    {
     "data": {
      "text/html": [
       "<div>\n",
       "<style scoped>\n",
       "    .dataframe tbody tr th:only-of-type {\n",
       "        vertical-align: middle;\n",
       "    }\n",
       "\n",
       "    .dataframe tbody tr th {\n",
       "        vertical-align: top;\n",
       "    }\n",
       "\n",
       "    .dataframe thead th {\n",
       "        text-align: right;\n",
       "    }\n",
       "</style>\n",
       "<table border=\"1\" class=\"dataframe\">\n",
       "  <thead>\n",
       "    <tr style=\"text-align: right;\">\n",
       "      <th></th>\n",
       "      <th></th>\n",
       "      <th>Score</th>\n",
       "      <th>FGP</th>\n",
       "      <th>FGP3</th>\n",
       "      <th>FTP</th>\n",
       "      <th>OR</th>\n",
       "      <th>DR</th>\n",
       "      <th>Ast</th>\n",
       "      <th>TO</th>\n",
       "      <th>Stl</th>\n",
       "      <th>Blk</th>\n",
       "      <th>PF</th>\n",
       "    </tr>\n",
       "    <tr>\n",
       "      <th>Season</th>\n",
       "      <th>TeamID</th>\n",
       "      <th></th>\n",
       "      <th></th>\n",
       "      <th></th>\n",
       "      <th></th>\n",
       "      <th></th>\n",
       "      <th></th>\n",
       "      <th></th>\n",
       "      <th></th>\n",
       "      <th></th>\n",
       "      <th></th>\n",
       "      <th></th>\n",
       "    </tr>\n",
       "  </thead>\n",
       "  <tbody>\n",
       "    <tr>\n",
       "      <th rowspan=\"5\" valign=\"top\">2003</th>\n",
       "      <th>1102</th>\n",
       "      <td>57.250000</td>\n",
       "      <td>0.486149</td>\n",
       "      <td>0.367637</td>\n",
       "      <td>0.642402</td>\n",
       "      <td>4.178571</td>\n",
       "      <td>16.821429</td>\n",
       "      <td>13.000000</td>\n",
       "      <td>11.428571</td>\n",
       "      <td>5.964286</td>\n",
       "      <td>1.785714</td>\n",
       "      <td>18.750000</td>\n",
       "    </tr>\n",
       "    <tr>\n",
       "      <th>1103</th>\n",
       "      <td>78.777778</td>\n",
       "      <td>0.487294</td>\n",
       "      <td>0.331990</td>\n",
       "      <td>0.735271</td>\n",
       "      <td>9.777778</td>\n",
       "      <td>19.925926</td>\n",
       "      <td>15.222222</td>\n",
       "      <td>12.629630</td>\n",
       "      <td>7.259259</td>\n",
       "      <td>2.333333</td>\n",
       "      <td>19.851852</td>\n",
       "    </tr>\n",
       "    <tr>\n",
       "      <th>1104</th>\n",
       "      <td>69.285714</td>\n",
       "      <td>0.419676</td>\n",
       "      <td>0.325442</td>\n",
       "      <td>0.705168</td>\n",
       "      <td>13.571429</td>\n",
       "      <td>23.928571</td>\n",
       "      <td>12.107143</td>\n",
       "      <td>13.285714</td>\n",
       "      <td>6.607143</td>\n",
       "      <td>3.785714</td>\n",
       "      <td>18.035714</td>\n",
       "    </tr>\n",
       "    <tr>\n",
       "      <th>1105</th>\n",
       "      <td>71.769231</td>\n",
       "      <td>0.396204</td>\n",
       "      <td>0.359630</td>\n",
       "      <td>0.709598</td>\n",
       "      <td>13.500000</td>\n",
       "      <td>23.115385</td>\n",
       "      <td>14.538462</td>\n",
       "      <td>18.653846</td>\n",
       "      <td>9.307692</td>\n",
       "      <td>2.076923</td>\n",
       "      <td>20.230769</td>\n",
       "    </tr>\n",
       "    <tr>\n",
       "      <th>1106</th>\n",
       "      <td>63.607143</td>\n",
       "      <td>0.425530</td>\n",
       "      <td>0.350196</td>\n",
       "      <td>0.623158</td>\n",
       "      <td>12.285714</td>\n",
       "      <td>23.857143</td>\n",
       "      <td>11.678571</td>\n",
       "      <td>17.035714</td>\n",
       "      <td>8.357143</td>\n",
       "      <td>3.142857</td>\n",
       "      <td>18.178571</td>\n",
       "    </tr>\n",
       "  </tbody>\n",
       "</table>\n",
       "</div>"
      ],
      "text/plain": [
       "                   Score       FGP      FGP3       FTP         OR         DR  \\\n",
       "Season TeamID                                                                  \n",
       "2003   1102    57.250000  0.486149  0.367637  0.642402   4.178571  16.821429   \n",
       "       1103    78.777778  0.487294  0.331990  0.735271   9.777778  19.925926   \n",
       "       1104    69.285714  0.419676  0.325442  0.705168  13.571429  23.928571   \n",
       "       1105    71.769231  0.396204  0.359630  0.709598  13.500000  23.115385   \n",
       "       1106    63.607143  0.425530  0.350196  0.623158  12.285714  23.857143   \n",
       "\n",
       "                     Ast         TO       Stl       Blk         PF  \n",
       "Season TeamID                                                       \n",
       "2003   1102    13.000000  11.428571  5.964286  1.785714  18.750000  \n",
       "       1103    15.222222  12.629630  7.259259  2.333333  19.851852  \n",
       "       1104    12.107143  13.285714  6.607143  3.785714  18.035714  \n",
       "       1105    14.538462  18.653846  9.307692  2.076923  20.230769  \n",
       "       1106    11.678571  17.035714  8.357143  3.142857  18.178571  "
      ]
     },
     "execution_count": 40,
     "metadata": {},
     "output_type": "execute_result"
    }
   ],
   "source": [
    "df = df_regseasonDets_teams.groupby(['Season','TeamID']).agg({'Score':'mean','FGP':'mean',\n",
    "                                                       'FGP3':'mean','FTP':'mean',\n",
    "                                                       'OR':'mean','DR':'mean','Ast':'mean',\n",
    "                                                      'TO':'mean','Stl':'mean','Blk':'mean',\n",
    "                                                      'PF':'mean'})\n",
    "df.head()"
   ]
  },
  {
   "cell_type": "code",
   "execution_count": 41,
   "id": "c564c19b",
   "metadata": {
    "execution": {
     "iopub.execute_input": "2022-03-15T21:56:20.692130Z",
     "iopub.status.busy": "2022-03-15T21:56:20.691480Z",
     "iopub.status.idle": "2022-03-15T21:56:20.696670Z",
     "shell.execute_reply": "2022-03-15T21:56:20.697181Z",
     "shell.execute_reply.started": "2022-03-15T21:52:55.845969Z"
    },
    "papermill": {
     "duration": 0.101106,
     "end_time": "2022-03-15T21:56:20.697355",
     "exception": false,
     "start_time": "2022-03-15T21:56:20.596249",
     "status": "completed"
    },
    "tags": []
   },
   "outputs": [
    {
     "data": {
      "text/plain": [
       "(6892, 11)"
      ]
     },
     "execution_count": 41,
     "metadata": {},
     "output_type": "execute_result"
    }
   ],
   "source": [
    "df.shape"
   ]
  },
  {
   "cell_type": "markdown",
   "id": "00faebca",
   "metadata": {
    "papermill": {
     "duration": 0.092814,
     "end_time": "2022-03-15T21:56:20.884176",
     "exception": false,
     "start_time": "2022-03-15T21:56:20.791362",
     "status": "completed"
    },
    "tags": []
   },
   "source": [
    "I would also like to add the rankings before the tournament. This is day 133."
   ]
  },
  {
   "cell_type": "code",
   "execution_count": 42,
   "id": "8f3e6910",
   "metadata": {
    "execution": {
     "iopub.execute_input": "2022-03-15T21:56:21.079559Z",
     "iopub.status.busy": "2022-03-15T21:56:21.074919Z",
     "iopub.status.idle": "2022-03-15T21:56:21.083799Z",
     "shell.execute_reply": "2022-03-15T21:56:21.084257Z",
     "shell.execute_reply.started": "2022-03-15T21:52:57.337259Z"
    },
    "papermill": {
     "duration": 0.10754,
     "end_time": "2022-03-15T21:56:21.084433",
     "exception": false,
     "start_time": "2022-03-15T21:56:20.976893",
     "status": "completed"
    },
    "tags": []
   },
   "outputs": [
    {
     "data": {
      "text/html": [
       "<div>\n",
       "<style scoped>\n",
       "    .dataframe tbody tr th:only-of-type {\n",
       "        vertical-align: middle;\n",
       "    }\n",
       "\n",
       "    .dataframe tbody tr th {\n",
       "        vertical-align: top;\n",
       "    }\n",
       "\n",
       "    .dataframe thead th {\n",
       "        text-align: right;\n",
       "    }\n",
       "</style>\n",
       "<table border=\"1\" class=\"dataframe\">\n",
       "  <thead>\n",
       "    <tr style=\"text-align: right;\">\n",
       "      <th></th>\n",
       "      <th>Season</th>\n",
       "      <th>RankingDayNum</th>\n",
       "      <th>SystemName</th>\n",
       "      <th>TeamID</th>\n",
       "      <th>OrdinalRank</th>\n",
       "    </tr>\n",
       "  </thead>\n",
       "  <tbody>\n",
       "    <tr>\n",
       "      <th>0</th>\n",
       "      <td>2003</td>\n",
       "      <td>35</td>\n",
       "      <td>SEL</td>\n",
       "      <td>1102</td>\n",
       "      <td>159</td>\n",
       "    </tr>\n",
       "    <tr>\n",
       "      <th>1</th>\n",
       "      <td>2003</td>\n",
       "      <td>35</td>\n",
       "      <td>SEL</td>\n",
       "      <td>1103</td>\n",
       "      <td>229</td>\n",
       "    </tr>\n",
       "    <tr>\n",
       "      <th>2</th>\n",
       "      <td>2003</td>\n",
       "      <td>35</td>\n",
       "      <td>SEL</td>\n",
       "      <td>1104</td>\n",
       "      <td>12</td>\n",
       "    </tr>\n",
       "    <tr>\n",
       "      <th>3</th>\n",
       "      <td>2003</td>\n",
       "      <td>35</td>\n",
       "      <td>SEL</td>\n",
       "      <td>1105</td>\n",
       "      <td>314</td>\n",
       "    </tr>\n",
       "    <tr>\n",
       "      <th>4</th>\n",
       "      <td>2003</td>\n",
       "      <td>35</td>\n",
       "      <td>SEL</td>\n",
       "      <td>1106</td>\n",
       "      <td>260</td>\n",
       "    </tr>\n",
       "  </tbody>\n",
       "</table>\n",
       "</div>"
      ],
      "text/plain": [
       "   Season  RankingDayNum SystemName  TeamID  OrdinalRank\n",
       "0    2003             35        SEL    1102          159\n",
       "1    2003             35        SEL    1103          229\n",
       "2    2003             35        SEL    1104           12\n",
       "3    2003             35        SEL    1105          314\n",
       "4    2003             35        SEL    1106          260"
      ]
     },
     "execution_count": 42,
     "metadata": {},
     "output_type": "execute_result"
    }
   ],
   "source": [
    "df_rankings.head()"
   ]
  },
  {
   "cell_type": "code",
   "execution_count": 43,
   "id": "26776ac2",
   "metadata": {
    "execution": {
     "iopub.execute_input": "2022-03-15T21:56:21.280107Z",
     "iopub.status.busy": "2022-03-15T21:56:21.279260Z",
     "iopub.status.idle": "2022-03-15T21:56:21.281822Z",
     "shell.execute_reply": "2022-03-15T21:56:21.282419Z",
     "shell.execute_reply.started": "2022-03-15T21:52:58.090227Z"
    },
    "papermill": {
     "duration": 0.105394,
     "end_time": "2022-03-15T21:56:21.282584",
     "exception": false,
     "start_time": "2022-03-15T21:56:21.177190",
     "status": "completed"
    },
    "tags": []
   },
   "outputs": [],
   "source": [
    "last_day = df_rankings['RankingDayNum']==133"
   ]
  },
  {
   "cell_type": "code",
   "execution_count": 44,
   "id": "4ce5de90",
   "metadata": {
    "execution": {
     "iopub.execute_input": "2022-03-15T21:56:21.471154Z",
     "iopub.status.busy": "2022-03-15T21:56:21.470205Z",
     "iopub.status.idle": "2022-03-15T21:56:21.500854Z",
     "shell.execute_reply": "2022-03-15T21:56:21.501395Z",
     "shell.execute_reply.started": "2022-03-15T21:52:58.829589Z"
    },
    "papermill": {
     "duration": 0.126487,
     "end_time": "2022-03-15T21:56:21.501568",
     "exception": false,
     "start_time": "2022-03-15T21:56:21.375081",
     "status": "completed"
    },
    "tags": []
   },
   "outputs": [],
   "source": [
    "df_rankings_last = df_rankings[last_day]"
   ]
  },
  {
   "cell_type": "code",
   "execution_count": 45,
   "id": "5d56d052",
   "metadata": {
    "execution": {
     "iopub.execute_input": "2022-03-15T21:56:21.692531Z",
     "iopub.status.busy": "2022-03-15T21:56:21.691542Z",
     "iopub.status.idle": "2022-03-15T21:56:21.701591Z",
     "shell.execute_reply": "2022-03-15T21:56:21.702164Z",
     "shell.execute_reply.started": "2022-03-15T21:52:59.420290Z"
    },
    "papermill": {
     "duration": 0.106437,
     "end_time": "2022-03-15T21:56:21.702332",
     "exception": false,
     "start_time": "2022-03-15T21:56:21.595895",
     "status": "completed"
    },
    "tags": []
   },
   "outputs": [
    {
     "data": {
      "text/html": [
       "<div>\n",
       "<style scoped>\n",
       "    .dataframe tbody tr th:only-of-type {\n",
       "        vertical-align: middle;\n",
       "    }\n",
       "\n",
       "    .dataframe tbody tr th {\n",
       "        vertical-align: top;\n",
       "    }\n",
       "\n",
       "    .dataframe thead th {\n",
       "        text-align: right;\n",
       "    }\n",
       "</style>\n",
       "<table border=\"1\" class=\"dataframe\">\n",
       "  <thead>\n",
       "    <tr style=\"text-align: right;\">\n",
       "      <th></th>\n",
       "      <th>Season</th>\n",
       "      <th>RankingDayNum</th>\n",
       "      <th>SystemName</th>\n",
       "      <th>TeamID</th>\n",
       "      <th>OrdinalRank</th>\n",
       "    </tr>\n",
       "  </thead>\n",
       "  <tbody>\n",
       "    <tr>\n",
       "      <th>121021</th>\n",
       "      <td>2003</td>\n",
       "      <td>133</td>\n",
       "      <td>AP</td>\n",
       "      <td>1112</td>\n",
       "      <td>2</td>\n",
       "    </tr>\n",
       "    <tr>\n",
       "      <th>121022</th>\n",
       "      <td>2003</td>\n",
       "      <td>133</td>\n",
       "      <td>AP</td>\n",
       "      <td>1163</td>\n",
       "      <td>23</td>\n",
       "    </tr>\n",
       "    <tr>\n",
       "      <th>121023</th>\n",
       "      <td>2003</td>\n",
       "      <td>133</td>\n",
       "      <td>AP</td>\n",
       "      <td>1166</td>\n",
       "      <td>15</td>\n",
       "    </tr>\n",
       "    <tr>\n",
       "      <th>121024</th>\n",
       "      <td>2003</td>\n",
       "      <td>133</td>\n",
       "      <td>AP</td>\n",
       "      <td>1173</td>\n",
       "      <td>16</td>\n",
       "    </tr>\n",
       "    <tr>\n",
       "      <th>121025</th>\n",
       "      <td>2003</td>\n",
       "      <td>133</td>\n",
       "      <td>AP</td>\n",
       "      <td>1181</td>\n",
       "      <td>7</td>\n",
       "    </tr>\n",
       "  </tbody>\n",
       "</table>\n",
       "</div>"
      ],
      "text/plain": [
       "        Season  RankingDayNum SystemName  TeamID  OrdinalRank\n",
       "121021    2003            133         AP    1112            2\n",
       "121022    2003            133         AP    1163           23\n",
       "121023    2003            133         AP    1166           15\n",
       "121024    2003            133         AP    1173           16\n",
       "121025    2003            133         AP    1181            7"
      ]
     },
     "execution_count": 45,
     "metadata": {},
     "output_type": "execute_result"
    }
   ],
   "source": [
    "df_rankings_last.head()"
   ]
  },
  {
   "cell_type": "code",
   "execution_count": 46,
   "id": "88bba302",
   "metadata": {
    "execution": {
     "iopub.execute_input": "2022-03-15T21:56:21.893015Z",
     "iopub.status.busy": "2022-03-15T21:56:21.892082Z",
     "iopub.status.idle": "2022-03-15T21:56:21.920815Z",
     "shell.execute_reply": "2022-03-15T21:56:21.921371Z",
     "shell.execute_reply.started": "2022-03-15T21:53:00.182998Z"
    },
    "papermill": {
     "duration": 0.126333,
     "end_time": "2022-03-15T21:56:21.921539",
     "exception": false,
     "start_time": "2022-03-15T21:56:21.795206",
     "status": "completed"
    },
    "tags": []
   },
   "outputs": [
    {
     "data": {
      "text/plain": [
       "array(['AP', 'ARG', 'BIH', 'BOB', 'BRZ', 'COL', 'DOL', 'DUN', 'DWH',\n",
       "       'ECK', 'ENT', 'ERD', 'GRN', 'GRS', 'HER', 'HOL', 'IMS', 'MAS',\n",
       "       'MKV', 'MOR', 'POM', 'RPI', 'RTH', 'SAG', 'SAU', 'SE', 'SEL',\n",
       "       'STR', 'TSR', 'USA', 'WLK', 'WOB', 'WOL', 'WTE', 'BD', 'CNG',\n",
       "       'DES', 'JON', 'LYN', 'MGY', 'NOR', 'REI', 'RM', 'SIM', 'ACU',\n",
       "       'BCM', 'CMV', 'DC', 'KLK', 'REN', 'RIS', 'ROH', 'SAP', 'SCR',\n",
       "       'WIL', 'DOK', 'JCI', 'KPK', 'MB', 'PH', 'PIG', 'PKL', 'TRX', 'CPR',\n",
       "       'ISR', 'KRA', 'LYD', 'RTR', 'UCS', 'BKM', 'CPA', 'JEN', 'PGH',\n",
       "       'REW', 'RSE', 'SPW', 'STH', 'BPI', 'DC2', 'DCI', 'HKB', 'LMC',\n",
       "       'NOL', 'OMY', 'RTB', 'KEL', 'KMV', 'RT', 'TW', 'AUS', 'KOS', 'PEQ',\n",
       "       'PTS', 'ROG', 'RTP', 'TMR', '7OT', 'ADE', 'BBT', 'BNM', 'BUR',\n",
       "       'CJB', 'CRO', 'EBP', 'HAT', 'MSX', 'SFX', 'TBD', 'BLS', 'D1A',\n",
       "       'DII', 'KBM', 'TPR', 'MvG', 'PPR', 'SP', 'SPR', 'STF', 'STS',\n",
       "       'TRP', 'UPS', 'WMR', 'BWE', 'LOG', 'TRK', 'DAV', 'FAS', 'FSH',\n",
       "       'HAS', 'HRN', 'KPI', 'MCL', 'CRW', 'DDB', 'ESR', 'FMG', 'HKS',\n",
       "       'INP', 'JNG', 'JRT', 'MUZ', 'OCT', 'PMC', 'PRR', 'RSL', 'SGR',\n",
       "       'SMN', 'SMS', 'YAG', 'ZAM', 'BNT', 'COX', 'JJK', 'LAB', 'MMG',\n",
       "       'STM', 'WMV', 'AWS', 'INC', 'LAW', 'LEF', 'MGS', 'NET', 'PIR',\n",
       "       'BNZ', 'CBR', 'CWL', 'EMK', 'FDM', 'KCX', 'RWP', 'SRS'],\n",
       "      dtype=object)"
      ]
     },
     "execution_count": 46,
     "metadata": {},
     "output_type": "execute_result"
    }
   ],
   "source": [
    "df_rankings_last.SystemName.unique()"
   ]
  },
  {
   "cell_type": "markdown",
   "id": "9dfef2dd",
   "metadata": {
    "papermill": {
     "duration": 0.093795,
     "end_time": "2022-03-15T21:56:22.112365",
     "exception": false,
     "start_time": "2022-03-15T21:56:22.018570",
     "status": "completed"
    },
    "tags": []
   },
   "source": [
    "Ok there are a lot of ranking systems here and I definitely do not want all of them. So for each team and year let's take the mean. This might help to give us an idea of how each team is ranked. I might end up just taking the seed and not caring about the rank if I don't think this is helpful information. "
   ]
  },
  {
   "cell_type": "code",
   "execution_count": 47,
   "id": "a0b4f5b9",
   "metadata": {
    "execution": {
     "iopub.execute_input": "2022-03-15T21:56:22.310415Z",
     "iopub.status.busy": "2022-03-15T21:56:22.309381Z",
     "iopub.status.idle": "2022-03-15T21:56:22.350316Z",
     "shell.execute_reply": "2022-03-15T21:56:22.350801Z",
     "shell.execute_reply.started": "2022-03-15T21:53:01.207798Z"
    },
    "papermill": {
     "duration": 0.142545,
     "end_time": "2022-03-15T21:56:22.350991",
     "exception": false,
     "start_time": "2022-03-15T21:56:22.208446",
     "status": "completed"
    },
    "tags": []
   },
   "outputs": [
    {
     "data": {
      "text/html": [
       "<div>\n",
       "<style scoped>\n",
       "    .dataframe tbody tr th:only-of-type {\n",
       "        vertical-align: middle;\n",
       "    }\n",
       "\n",
       "    .dataframe tbody tr th {\n",
       "        vertical-align: top;\n",
       "    }\n",
       "\n",
       "    .dataframe thead tr th {\n",
       "        text-align: left;\n",
       "    }\n",
       "\n",
       "    .dataframe thead tr:last-of-type th {\n",
       "        text-align: right;\n",
       "    }\n",
       "</style>\n",
       "<table border=\"1\" class=\"dataframe\">\n",
       "  <thead>\n",
       "    <tr>\n",
       "      <th></th>\n",
       "      <th></th>\n",
       "      <th>OrdinalRank</th>\n",
       "    </tr>\n",
       "    <tr>\n",
       "      <th></th>\n",
       "      <th></th>\n",
       "      <th>mean</th>\n",
       "    </tr>\n",
       "    <tr>\n",
       "      <th>Season</th>\n",
       "      <th>TeamID</th>\n",
       "      <th></th>\n",
       "    </tr>\n",
       "  </thead>\n",
       "  <tbody>\n",
       "    <tr>\n",
       "      <th rowspan=\"5\" valign=\"top\">2003</th>\n",
       "      <th>1102</th>\n",
       "      <td>156.03125</td>\n",
       "    </tr>\n",
       "    <tr>\n",
       "      <th>1103</th>\n",
       "      <td>168.00000</td>\n",
       "    </tr>\n",
       "    <tr>\n",
       "      <th>1104</th>\n",
       "      <td>38.03125</td>\n",
       "    </tr>\n",
       "    <tr>\n",
       "      <th>1105</th>\n",
       "      <td>308.96875</td>\n",
       "    </tr>\n",
       "    <tr>\n",
       "      <th>1106</th>\n",
       "      <td>262.68750</td>\n",
       "    </tr>\n",
       "  </tbody>\n",
       "</table>\n",
       "</div>"
      ],
      "text/plain": [
       "              OrdinalRank\n",
       "                     mean\n",
       "Season TeamID            \n",
       "2003   1102     156.03125\n",
       "       1103     168.00000\n",
       "       1104      38.03125\n",
       "       1105     308.96875\n",
       "       1106     262.68750"
      ]
     },
     "execution_count": 47,
     "metadata": {},
     "output_type": "execute_result"
    }
   ],
   "source": [
    "df_rankings_last_Ave  = df_rankings_last.groupby(['Season','TeamID']).agg({'OrdinalRank':['mean']})#,'RankMin':'min','RankMax':'max'})\n",
    "df_rankings_last_Ave.head()"
   ]
  },
  {
   "cell_type": "code",
   "execution_count": 48,
   "id": "320005e6",
   "metadata": {
    "execution": {
     "iopub.execute_input": "2022-03-15T21:56:22.548047Z",
     "iopub.status.busy": "2022-03-15T21:56:22.547055Z",
     "iopub.status.idle": "2022-03-15T21:56:22.552659Z",
     "shell.execute_reply": "2022-03-15T21:56:22.553213Z",
     "shell.execute_reply.started": "2022-03-15T21:53:01.936549Z"
    },
    "papermill": {
     "duration": 0.107977,
     "end_time": "2022-03-15T21:56:22.553374",
     "exception": false,
     "start_time": "2022-03-15T21:56:22.445397",
     "status": "completed"
    },
    "tags": []
   },
   "outputs": [
    {
     "data": {
      "text/plain": [
       "(6180, 1)"
      ]
     },
     "execution_count": 48,
     "metadata": {},
     "output_type": "execute_result"
    }
   ],
   "source": [
    "df_rankings_last_Ave.shape"
   ]
  },
  {
   "cell_type": "code",
   "execution_count": 49,
   "id": "c660cd10",
   "metadata": {
    "execution": {
     "iopub.execute_input": "2022-03-15T21:56:22.747466Z",
     "iopub.status.busy": "2022-03-15T21:56:22.746496Z",
     "iopub.status.idle": "2022-03-15T21:56:22.779595Z",
     "shell.execute_reply": "2022-03-15T21:56:22.780228Z",
     "shell.execute_reply.started": "2022-03-15T21:53:02.340798Z"
    },
    "papermill": {
     "duration": 0.131505,
     "end_time": "2022-03-15T21:56:22.780405",
     "exception": false,
     "start_time": "2022-03-15T21:56:22.648900",
     "status": "completed"
    },
    "tags": []
   },
   "outputs": [],
   "source": [
    "frames = [df,df_rankings_last_Ave]\n",
    "df = pd.concat(frames, axis=1)"
   ]
  },
  {
   "cell_type": "code",
   "execution_count": 50,
   "id": "814c020c",
   "metadata": {
    "execution": {
     "iopub.execute_input": "2022-03-15T21:56:22.993839Z",
     "iopub.status.busy": "2022-03-15T21:56:22.992893Z",
     "iopub.status.idle": "2022-03-15T21:56:23.010894Z",
     "shell.execute_reply": "2022-03-15T21:56:23.011666Z",
     "shell.execute_reply.started": "2022-03-15T21:53:03.046294Z"
    },
    "papermill": {
     "duration": 0.13626,
     "end_time": "2022-03-15T21:56:23.011896",
     "exception": false,
     "start_time": "2022-03-15T21:56:22.875636",
     "status": "completed"
    },
    "tags": []
   },
   "outputs": [
    {
     "data": {
      "text/html": [
       "<div>\n",
       "<style scoped>\n",
       "    .dataframe tbody tr th:only-of-type {\n",
       "        vertical-align: middle;\n",
       "    }\n",
       "\n",
       "    .dataframe tbody tr th {\n",
       "        vertical-align: top;\n",
       "    }\n",
       "\n",
       "    .dataframe thead th {\n",
       "        text-align: right;\n",
       "    }\n",
       "</style>\n",
       "<table border=\"1\" class=\"dataframe\">\n",
       "  <thead>\n",
       "    <tr style=\"text-align: right;\">\n",
       "      <th></th>\n",
       "      <th></th>\n",
       "      <th>Score</th>\n",
       "      <th>FGP</th>\n",
       "      <th>FGP3</th>\n",
       "      <th>FTP</th>\n",
       "      <th>OR</th>\n",
       "      <th>DR</th>\n",
       "      <th>Ast</th>\n",
       "      <th>TO</th>\n",
       "      <th>Stl</th>\n",
       "      <th>Blk</th>\n",
       "      <th>PF</th>\n",
       "      <th>(OrdinalRank, mean)</th>\n",
       "    </tr>\n",
       "    <tr>\n",
       "      <th>Season</th>\n",
       "      <th>TeamID</th>\n",
       "      <th></th>\n",
       "      <th></th>\n",
       "      <th></th>\n",
       "      <th></th>\n",
       "      <th></th>\n",
       "      <th></th>\n",
       "      <th></th>\n",
       "      <th></th>\n",
       "      <th></th>\n",
       "      <th></th>\n",
       "      <th></th>\n",
       "      <th></th>\n",
       "    </tr>\n",
       "  </thead>\n",
       "  <tbody>\n",
       "    <tr>\n",
       "      <th rowspan=\"5\" valign=\"top\">2003</th>\n",
       "      <th>1102</th>\n",
       "      <td>57.250000</td>\n",
       "      <td>0.486149</td>\n",
       "      <td>0.367637</td>\n",
       "      <td>0.642402</td>\n",
       "      <td>4.178571</td>\n",
       "      <td>16.821429</td>\n",
       "      <td>13.000000</td>\n",
       "      <td>11.428571</td>\n",
       "      <td>5.964286</td>\n",
       "      <td>1.785714</td>\n",
       "      <td>18.750000</td>\n",
       "      <td>156.03125</td>\n",
       "    </tr>\n",
       "    <tr>\n",
       "      <th>1103</th>\n",
       "      <td>78.777778</td>\n",
       "      <td>0.487294</td>\n",
       "      <td>0.331990</td>\n",
       "      <td>0.735271</td>\n",
       "      <td>9.777778</td>\n",
       "      <td>19.925926</td>\n",
       "      <td>15.222222</td>\n",
       "      <td>12.629630</td>\n",
       "      <td>7.259259</td>\n",
       "      <td>2.333333</td>\n",
       "      <td>19.851852</td>\n",
       "      <td>168.00000</td>\n",
       "    </tr>\n",
       "    <tr>\n",
       "      <th>1104</th>\n",
       "      <td>69.285714</td>\n",
       "      <td>0.419676</td>\n",
       "      <td>0.325442</td>\n",
       "      <td>0.705168</td>\n",
       "      <td>13.571429</td>\n",
       "      <td>23.928571</td>\n",
       "      <td>12.107143</td>\n",
       "      <td>13.285714</td>\n",
       "      <td>6.607143</td>\n",
       "      <td>3.785714</td>\n",
       "      <td>18.035714</td>\n",
       "      <td>38.03125</td>\n",
       "    </tr>\n",
       "    <tr>\n",
       "      <th>1105</th>\n",
       "      <td>71.769231</td>\n",
       "      <td>0.396204</td>\n",
       "      <td>0.359630</td>\n",
       "      <td>0.709598</td>\n",
       "      <td>13.500000</td>\n",
       "      <td>23.115385</td>\n",
       "      <td>14.538462</td>\n",
       "      <td>18.653846</td>\n",
       "      <td>9.307692</td>\n",
       "      <td>2.076923</td>\n",
       "      <td>20.230769</td>\n",
       "      <td>308.96875</td>\n",
       "    </tr>\n",
       "    <tr>\n",
       "      <th>1106</th>\n",
       "      <td>63.607143</td>\n",
       "      <td>0.425530</td>\n",
       "      <td>0.350196</td>\n",
       "      <td>0.623158</td>\n",
       "      <td>12.285714</td>\n",
       "      <td>23.857143</td>\n",
       "      <td>11.678571</td>\n",
       "      <td>17.035714</td>\n",
       "      <td>8.357143</td>\n",
       "      <td>3.142857</td>\n",
       "      <td>18.178571</td>\n",
       "      <td>262.68750</td>\n",
       "    </tr>\n",
       "  </tbody>\n",
       "</table>\n",
       "</div>"
      ],
      "text/plain": [
       "                   Score       FGP      FGP3       FTP         OR         DR  \\\n",
       "Season TeamID                                                                  \n",
       "2003   1102    57.250000  0.486149  0.367637  0.642402   4.178571  16.821429   \n",
       "       1103    78.777778  0.487294  0.331990  0.735271   9.777778  19.925926   \n",
       "       1104    69.285714  0.419676  0.325442  0.705168  13.571429  23.928571   \n",
       "       1105    71.769231  0.396204  0.359630  0.709598  13.500000  23.115385   \n",
       "       1106    63.607143  0.425530  0.350196  0.623158  12.285714  23.857143   \n",
       "\n",
       "                     Ast         TO       Stl       Blk         PF  \\\n",
       "Season TeamID                                                        \n",
       "2003   1102    13.000000  11.428571  5.964286  1.785714  18.750000   \n",
       "       1103    15.222222  12.629630  7.259259  2.333333  19.851852   \n",
       "       1104    12.107143  13.285714  6.607143  3.785714  18.035714   \n",
       "       1105    14.538462  18.653846  9.307692  2.076923  20.230769   \n",
       "       1106    11.678571  17.035714  8.357143  3.142857  18.178571   \n",
       "\n",
       "               (OrdinalRank, mean)  \n",
       "Season TeamID                       \n",
       "2003   1102              156.03125  \n",
       "       1103              168.00000  \n",
       "       1104               38.03125  \n",
       "       1105              308.96875  \n",
       "       1106              262.68750  "
      ]
     },
     "execution_count": 50,
     "metadata": {},
     "output_type": "execute_result"
    }
   ],
   "source": [
    "df.head()"
   ]
  },
  {
   "cell_type": "markdown",
   "id": "25c3be1e",
   "metadata": {
    "papermill": {
     "duration": 0.103734,
     "end_time": "2022-03-15T21:56:23.224590",
     "exception": false,
     "start_time": "2022-03-15T21:56:23.120856",
     "status": "completed"
    },
    "tags": []
   },
   "source": [
    "I don't love this ranking column name so I'll just rename it rank. Remember this is the mean rank."
   ]
  },
  {
   "cell_type": "code",
   "execution_count": 51,
   "id": "daab6671",
   "metadata": {
    "execution": {
     "iopub.execute_input": "2022-03-15T21:56:23.437377Z",
     "iopub.status.busy": "2022-03-15T21:56:23.436696Z",
     "iopub.status.idle": "2022-03-15T21:56:23.439569Z",
     "shell.execute_reply": "2022-03-15T21:56:23.440213Z",
     "shell.execute_reply.started": "2022-03-15T21:53:04.569294Z"
    },
    "papermill": {
     "duration": 0.1066,
     "end_time": "2022-03-15T21:56:23.440382",
     "exception": false,
     "start_time": "2022-03-15T21:56:23.333782",
     "status": "completed"
    },
    "tags": []
   },
   "outputs": [
    {
     "data": {
      "text/plain": [
       "['Score',\n",
       " 'FGP',\n",
       " 'FGP3',\n",
       " 'FTP',\n",
       " 'OR',\n",
       " 'DR',\n",
       " 'Ast',\n",
       " 'TO',\n",
       " 'Stl',\n",
       " 'Blk',\n",
       " 'PF',\n",
       " ('OrdinalRank', 'mean')]"
      ]
     },
     "execution_count": 51,
     "metadata": {},
     "output_type": "execute_result"
    }
   ],
   "source": [
    "list(df.columns.values)"
   ]
  },
  {
   "cell_type": "code",
   "execution_count": 52,
   "id": "977a0758",
   "metadata": {
    "execution": {
     "iopub.execute_input": "2022-03-15T21:56:23.640796Z",
     "iopub.status.busy": "2022-03-15T21:56:23.639914Z",
     "iopub.status.idle": "2022-03-15T21:56:23.647448Z",
     "shell.execute_reply": "2022-03-15T21:56:23.648088Z",
     "shell.execute_reply.started": "2022-03-15T21:53:05.232331Z"
    },
    "papermill": {
     "duration": 0.110344,
     "end_time": "2022-03-15T21:56:23.648272",
     "exception": false,
     "start_time": "2022-03-15T21:56:23.537928",
     "status": "completed"
    },
    "tags": []
   },
   "outputs": [],
   "source": [
    "df.rename(columns = {('OrdinalRank', 'mean'):'Rank'}, inplace = True) "
   ]
  },
  {
   "cell_type": "code",
   "execution_count": 53,
   "id": "be619dd1",
   "metadata": {
    "execution": {
     "iopub.execute_input": "2022-03-15T21:56:23.845701Z",
     "iopub.status.busy": "2022-03-15T21:56:23.845035Z",
     "iopub.status.idle": "2022-03-15T21:56:23.861650Z",
     "shell.execute_reply": "2022-03-15T21:56:23.862233Z",
     "shell.execute_reply.started": "2022-03-15T21:53:06.046161Z"
    },
    "papermill": {
     "duration": 0.115483,
     "end_time": "2022-03-15T21:56:23.862402",
     "exception": false,
     "start_time": "2022-03-15T21:56:23.746919",
     "status": "completed"
    },
    "tags": []
   },
   "outputs": [
    {
     "data": {
      "text/html": [
       "<div>\n",
       "<style scoped>\n",
       "    .dataframe tbody tr th:only-of-type {\n",
       "        vertical-align: middle;\n",
       "    }\n",
       "\n",
       "    .dataframe tbody tr th {\n",
       "        vertical-align: top;\n",
       "    }\n",
       "\n",
       "    .dataframe thead th {\n",
       "        text-align: right;\n",
       "    }\n",
       "</style>\n",
       "<table border=\"1\" class=\"dataframe\">\n",
       "  <thead>\n",
       "    <tr style=\"text-align: right;\">\n",
       "      <th></th>\n",
       "      <th></th>\n",
       "      <th>Score</th>\n",
       "      <th>FGP</th>\n",
       "      <th>FGP3</th>\n",
       "      <th>FTP</th>\n",
       "      <th>OR</th>\n",
       "      <th>DR</th>\n",
       "      <th>Ast</th>\n",
       "      <th>TO</th>\n",
       "      <th>Stl</th>\n",
       "      <th>Blk</th>\n",
       "      <th>PF</th>\n",
       "      <th>Rank</th>\n",
       "    </tr>\n",
       "    <tr>\n",
       "      <th>Season</th>\n",
       "      <th>TeamID</th>\n",
       "      <th></th>\n",
       "      <th></th>\n",
       "      <th></th>\n",
       "      <th></th>\n",
       "      <th></th>\n",
       "      <th></th>\n",
       "      <th></th>\n",
       "      <th></th>\n",
       "      <th></th>\n",
       "      <th></th>\n",
       "      <th></th>\n",
       "      <th></th>\n",
       "    </tr>\n",
       "  </thead>\n",
       "  <tbody>\n",
       "    <tr>\n",
       "      <th rowspan=\"5\" valign=\"top\">2003</th>\n",
       "      <th>1102</th>\n",
       "      <td>57.250000</td>\n",
       "      <td>0.486149</td>\n",
       "      <td>0.367637</td>\n",
       "      <td>0.642402</td>\n",
       "      <td>4.178571</td>\n",
       "      <td>16.821429</td>\n",
       "      <td>13.000000</td>\n",
       "      <td>11.428571</td>\n",
       "      <td>5.964286</td>\n",
       "      <td>1.785714</td>\n",
       "      <td>18.750000</td>\n",
       "      <td>156.03125</td>\n",
       "    </tr>\n",
       "    <tr>\n",
       "      <th>1103</th>\n",
       "      <td>78.777778</td>\n",
       "      <td>0.487294</td>\n",
       "      <td>0.331990</td>\n",
       "      <td>0.735271</td>\n",
       "      <td>9.777778</td>\n",
       "      <td>19.925926</td>\n",
       "      <td>15.222222</td>\n",
       "      <td>12.629630</td>\n",
       "      <td>7.259259</td>\n",
       "      <td>2.333333</td>\n",
       "      <td>19.851852</td>\n",
       "      <td>168.00000</td>\n",
       "    </tr>\n",
       "    <tr>\n",
       "      <th>1104</th>\n",
       "      <td>69.285714</td>\n",
       "      <td>0.419676</td>\n",
       "      <td>0.325442</td>\n",
       "      <td>0.705168</td>\n",
       "      <td>13.571429</td>\n",
       "      <td>23.928571</td>\n",
       "      <td>12.107143</td>\n",
       "      <td>13.285714</td>\n",
       "      <td>6.607143</td>\n",
       "      <td>3.785714</td>\n",
       "      <td>18.035714</td>\n",
       "      <td>38.03125</td>\n",
       "    </tr>\n",
       "    <tr>\n",
       "      <th>1105</th>\n",
       "      <td>71.769231</td>\n",
       "      <td>0.396204</td>\n",
       "      <td>0.359630</td>\n",
       "      <td>0.709598</td>\n",
       "      <td>13.500000</td>\n",
       "      <td>23.115385</td>\n",
       "      <td>14.538462</td>\n",
       "      <td>18.653846</td>\n",
       "      <td>9.307692</td>\n",
       "      <td>2.076923</td>\n",
       "      <td>20.230769</td>\n",
       "      <td>308.96875</td>\n",
       "    </tr>\n",
       "    <tr>\n",
       "      <th>1106</th>\n",
       "      <td>63.607143</td>\n",
       "      <td>0.425530</td>\n",
       "      <td>0.350196</td>\n",
       "      <td>0.623158</td>\n",
       "      <td>12.285714</td>\n",
       "      <td>23.857143</td>\n",
       "      <td>11.678571</td>\n",
       "      <td>17.035714</td>\n",
       "      <td>8.357143</td>\n",
       "      <td>3.142857</td>\n",
       "      <td>18.178571</td>\n",
       "      <td>262.68750</td>\n",
       "    </tr>\n",
       "  </tbody>\n",
       "</table>\n",
       "</div>"
      ],
      "text/plain": [
       "                   Score       FGP      FGP3       FTP         OR         DR  \\\n",
       "Season TeamID                                                                  \n",
       "2003   1102    57.250000  0.486149  0.367637  0.642402   4.178571  16.821429   \n",
       "       1103    78.777778  0.487294  0.331990  0.735271   9.777778  19.925926   \n",
       "       1104    69.285714  0.419676  0.325442  0.705168  13.571429  23.928571   \n",
       "       1105    71.769231  0.396204  0.359630  0.709598  13.500000  23.115385   \n",
       "       1106    63.607143  0.425530  0.350196  0.623158  12.285714  23.857143   \n",
       "\n",
       "                     Ast         TO       Stl       Blk         PF       Rank  \n",
       "Season TeamID                                                                  \n",
       "2003   1102    13.000000  11.428571  5.964286  1.785714  18.750000  156.03125  \n",
       "       1103    15.222222  12.629630  7.259259  2.333333  19.851852  168.00000  \n",
       "       1104    12.107143  13.285714  6.607143  3.785714  18.035714   38.03125  \n",
       "       1105    14.538462  18.653846  9.307692  2.076923  20.230769  308.96875  \n",
       "       1106    11.678571  17.035714  8.357143  3.142857  18.178571  262.68750  "
      ]
     },
     "execution_count": 53,
     "metadata": {},
     "output_type": "execute_result"
    }
   ],
   "source": [
    "df.head()"
   ]
  },
  {
   "cell_type": "markdown",
   "id": "6098fdb9",
   "metadata": {
    "papermill": {
     "duration": 0.097972,
     "end_time": "2022-03-15T21:56:24.058495",
     "exception": false,
     "start_time": "2022-03-15T21:56:23.960523",
     "status": "completed"
    },
    "tags": []
   },
   "source": [
    "Right now Season and TeamID are indexes and it's kicking my ass so I'm going to make them columns. "
   ]
  },
  {
   "cell_type": "code",
   "execution_count": 54,
   "id": "492830a3",
   "metadata": {
    "execution": {
     "iopub.execute_input": "2022-03-15T21:56:24.255568Z",
     "iopub.status.busy": "2022-03-15T21:56:24.254912Z",
     "iopub.status.idle": "2022-03-15T21:56:24.260998Z",
     "shell.execute_reply": "2022-03-15T21:56:24.261472Z",
     "shell.execute_reply.started": "2022-03-15T21:53:06.685494Z"
    },
    "papermill": {
     "duration": 0.106324,
     "end_time": "2022-03-15T21:56:24.261671",
     "exception": false,
     "start_time": "2022-03-15T21:56:24.155347",
     "status": "completed"
    },
    "tags": []
   },
   "outputs": [],
   "source": [
    "df.reset_index(inplace=True)"
   ]
  },
  {
   "cell_type": "code",
   "execution_count": 55,
   "id": "a7a38f8c",
   "metadata": {
    "execution": {
     "iopub.execute_input": "2022-03-15T21:56:24.466507Z",
     "iopub.status.busy": "2022-03-15T21:56:24.465423Z",
     "iopub.status.idle": "2022-03-15T21:56:24.475535Z",
     "shell.execute_reply": "2022-03-15T21:56:24.476161Z",
     "shell.execute_reply.started": "2022-03-15T21:53:06.973211Z"
    },
    "papermill": {
     "duration": 0.117836,
     "end_time": "2022-03-15T21:56:24.476327",
     "exception": false,
     "start_time": "2022-03-15T21:56:24.358491",
     "status": "completed"
    },
    "tags": []
   },
   "outputs": [
    {
     "data": {
      "text/html": [
       "<div>\n",
       "<style scoped>\n",
       "    .dataframe tbody tr th:only-of-type {\n",
       "        vertical-align: middle;\n",
       "    }\n",
       "\n",
       "    .dataframe tbody tr th {\n",
       "        vertical-align: top;\n",
       "    }\n",
       "\n",
       "    .dataframe thead th {\n",
       "        text-align: right;\n",
       "    }\n",
       "</style>\n",
       "<table border=\"1\" class=\"dataframe\">\n",
       "  <thead>\n",
       "    <tr style=\"text-align: right;\">\n",
       "      <th></th>\n",
       "      <th>Season</th>\n",
       "      <th>TeamID</th>\n",
       "      <th>Score</th>\n",
       "      <th>FGP</th>\n",
       "      <th>FGP3</th>\n",
       "      <th>FTP</th>\n",
       "      <th>OR</th>\n",
       "      <th>DR</th>\n",
       "      <th>Ast</th>\n",
       "      <th>TO</th>\n",
       "      <th>Stl</th>\n",
       "      <th>Blk</th>\n",
       "      <th>PF</th>\n",
       "      <th>Rank</th>\n",
       "    </tr>\n",
       "  </thead>\n",
       "  <tbody>\n",
       "    <tr>\n",
       "      <th>0</th>\n",
       "      <td>2003</td>\n",
       "      <td>1102</td>\n",
       "      <td>57.250000</td>\n",
       "      <td>0.486149</td>\n",
       "      <td>0.367637</td>\n",
       "      <td>0.642402</td>\n",
       "      <td>4.178571</td>\n",
       "      <td>16.821429</td>\n",
       "      <td>13.000000</td>\n",
       "      <td>11.428571</td>\n",
       "      <td>5.964286</td>\n",
       "      <td>1.785714</td>\n",
       "      <td>18.750000</td>\n",
       "      <td>156.03125</td>\n",
       "    </tr>\n",
       "    <tr>\n",
       "      <th>1</th>\n",
       "      <td>2003</td>\n",
       "      <td>1103</td>\n",
       "      <td>78.777778</td>\n",
       "      <td>0.487294</td>\n",
       "      <td>0.331990</td>\n",
       "      <td>0.735271</td>\n",
       "      <td>9.777778</td>\n",
       "      <td>19.925926</td>\n",
       "      <td>15.222222</td>\n",
       "      <td>12.629630</td>\n",
       "      <td>7.259259</td>\n",
       "      <td>2.333333</td>\n",
       "      <td>19.851852</td>\n",
       "      <td>168.00000</td>\n",
       "    </tr>\n",
       "    <tr>\n",
       "      <th>2</th>\n",
       "      <td>2003</td>\n",
       "      <td>1104</td>\n",
       "      <td>69.285714</td>\n",
       "      <td>0.419676</td>\n",
       "      <td>0.325442</td>\n",
       "      <td>0.705168</td>\n",
       "      <td>13.571429</td>\n",
       "      <td>23.928571</td>\n",
       "      <td>12.107143</td>\n",
       "      <td>13.285714</td>\n",
       "      <td>6.607143</td>\n",
       "      <td>3.785714</td>\n",
       "      <td>18.035714</td>\n",
       "      <td>38.03125</td>\n",
       "    </tr>\n",
       "    <tr>\n",
       "      <th>3</th>\n",
       "      <td>2003</td>\n",
       "      <td>1105</td>\n",
       "      <td>71.769231</td>\n",
       "      <td>0.396204</td>\n",
       "      <td>0.359630</td>\n",
       "      <td>0.709598</td>\n",
       "      <td>13.500000</td>\n",
       "      <td>23.115385</td>\n",
       "      <td>14.538462</td>\n",
       "      <td>18.653846</td>\n",
       "      <td>9.307692</td>\n",
       "      <td>2.076923</td>\n",
       "      <td>20.230769</td>\n",
       "      <td>308.96875</td>\n",
       "    </tr>\n",
       "    <tr>\n",
       "      <th>4</th>\n",
       "      <td>2003</td>\n",
       "      <td>1106</td>\n",
       "      <td>63.607143</td>\n",
       "      <td>0.425530</td>\n",
       "      <td>0.350196</td>\n",
       "      <td>0.623158</td>\n",
       "      <td>12.285714</td>\n",
       "      <td>23.857143</td>\n",
       "      <td>11.678571</td>\n",
       "      <td>17.035714</td>\n",
       "      <td>8.357143</td>\n",
       "      <td>3.142857</td>\n",
       "      <td>18.178571</td>\n",
       "      <td>262.68750</td>\n",
       "    </tr>\n",
       "  </tbody>\n",
       "</table>\n",
       "</div>"
      ],
      "text/plain": [
       "   Season  TeamID      Score       FGP      FGP3       FTP         OR  \\\n",
       "0    2003    1102  57.250000  0.486149  0.367637  0.642402   4.178571   \n",
       "1    2003    1103  78.777778  0.487294  0.331990  0.735271   9.777778   \n",
       "2    2003    1104  69.285714  0.419676  0.325442  0.705168  13.571429   \n",
       "3    2003    1105  71.769231  0.396204  0.359630  0.709598  13.500000   \n",
       "4    2003    1106  63.607143  0.425530  0.350196  0.623158  12.285714   \n",
       "\n",
       "          DR        Ast         TO       Stl       Blk         PF       Rank  \n",
       "0  16.821429  13.000000  11.428571  5.964286  1.785714  18.750000  156.03125  \n",
       "1  19.925926  15.222222  12.629630  7.259259  2.333333  19.851852  168.00000  \n",
       "2  23.928571  12.107143  13.285714  6.607143  3.785714  18.035714   38.03125  \n",
       "3  23.115385  14.538462  18.653846  9.307692  2.076923  20.230769  308.96875  \n",
       "4  23.857143  11.678571  17.035714  8.357143  3.142857  18.178571  262.68750  "
      ]
     },
     "execution_count": 55,
     "metadata": {},
     "output_type": "execute_result"
    }
   ],
   "source": [
    "df.head()"
   ]
  },
  {
   "cell_type": "markdown",
   "id": "623f5ab6",
   "metadata": {
    "papermill": {
     "duration": 0.097156,
     "end_time": "2022-03-15T21:56:24.671586",
     "exception": false,
     "start_time": "2022-03-15T21:56:24.574430",
     "status": "completed"
    },
    "tags": []
   },
   "source": [
    "Now let's add the seed to our data. Since we only have regular season data from season 2002, we're going to only use seed data from then as well."
   ]
  },
  {
   "cell_type": "code",
   "execution_count": 56,
   "id": "cac12ff0",
   "metadata": {
    "execution": {
     "iopub.execute_input": "2022-03-15T21:56:24.869602Z",
     "iopub.status.busy": "2022-03-15T21:56:24.868694Z",
     "iopub.status.idle": "2022-03-15T21:56:24.878211Z",
     "shell.execute_reply": "2022-03-15T21:56:24.877684Z",
     "shell.execute_reply.started": "2022-03-15T21:53:07.874361Z"
    },
    "papermill": {
     "duration": 0.109495,
     "end_time": "2022-03-15T21:56:24.878346",
     "exception": false,
     "start_time": "2022-03-15T21:56:24.768851",
     "status": "completed"
    },
    "tags": []
   },
   "outputs": [
    {
     "data": {
      "text/html": [
       "<div>\n",
       "<style scoped>\n",
       "    .dataframe tbody tr th:only-of-type {\n",
       "        vertical-align: middle;\n",
       "    }\n",
       "\n",
       "    .dataframe tbody tr th {\n",
       "        vertical-align: top;\n",
       "    }\n",
       "\n",
       "    .dataframe thead th {\n",
       "        text-align: right;\n",
       "    }\n",
       "</style>\n",
       "<table border=\"1\" class=\"dataframe\">\n",
       "  <thead>\n",
       "    <tr style=\"text-align: right;\">\n",
       "      <th></th>\n",
       "      <th>Season</th>\n",
       "      <th>Seed</th>\n",
       "      <th>TeamID</th>\n",
       "    </tr>\n",
       "  </thead>\n",
       "  <tbody>\n",
       "    <tr>\n",
       "      <th>0</th>\n",
       "      <td>1985</td>\n",
       "      <td>W01</td>\n",
       "      <td>1207</td>\n",
       "    </tr>\n",
       "    <tr>\n",
       "      <th>1</th>\n",
       "      <td>1985</td>\n",
       "      <td>W02</td>\n",
       "      <td>1210</td>\n",
       "    </tr>\n",
       "    <tr>\n",
       "      <th>2</th>\n",
       "      <td>1985</td>\n",
       "      <td>W03</td>\n",
       "      <td>1228</td>\n",
       "    </tr>\n",
       "    <tr>\n",
       "      <th>3</th>\n",
       "      <td>1985</td>\n",
       "      <td>W04</td>\n",
       "      <td>1260</td>\n",
       "    </tr>\n",
       "    <tr>\n",
       "      <th>4</th>\n",
       "      <td>1985</td>\n",
       "      <td>W05</td>\n",
       "      <td>1374</td>\n",
       "    </tr>\n",
       "  </tbody>\n",
       "</table>\n",
       "</div>"
      ],
      "text/plain": [
       "   Season Seed  TeamID\n",
       "0    1985  W01    1207\n",
       "1    1985  W02    1210\n",
       "2    1985  W03    1228\n",
       "3    1985  W04    1260\n",
       "4    1985  W05    1374"
      ]
     },
     "execution_count": 56,
     "metadata": {},
     "output_type": "execute_result"
    }
   ],
   "source": [
    "df_seeds.head()"
   ]
  },
  {
   "cell_type": "code",
   "execution_count": 57,
   "id": "49ba88d0",
   "metadata": {
    "execution": {
     "iopub.execute_input": "2022-03-15T21:56:25.078976Z",
     "iopub.status.busy": "2022-03-15T21:56:25.078085Z",
     "iopub.status.idle": "2022-03-15T21:56:25.080789Z",
     "shell.execute_reply": "2022-03-15T21:56:25.080270Z",
     "shell.execute_reply.started": "2022-03-15T21:53:08.685055Z"
    },
    "papermill": {
     "duration": 0.104656,
     "end_time": "2022-03-15T21:56:25.080931",
     "exception": false,
     "start_time": "2022-03-15T21:56:24.976275",
     "status": "completed"
    },
    "tags": []
   },
   "outputs": [],
   "source": [
    "seeds_mask = df_seeds.Season>2002"
   ]
  },
  {
   "cell_type": "code",
   "execution_count": 58,
   "id": "5125ddae",
   "metadata": {
    "execution": {
     "iopub.execute_input": "2022-03-15T21:56:25.284602Z",
     "iopub.status.busy": "2022-03-15T21:56:25.283916Z",
     "iopub.status.idle": "2022-03-15T21:56:25.286046Z",
     "shell.execute_reply": "2022-03-15T21:56:25.286544Z",
     "shell.execute_reply.started": "2022-03-15T21:53:09.029106Z"
    },
    "papermill": {
     "duration": 0.107023,
     "end_time": "2022-03-15T21:56:25.286727",
     "exception": false,
     "start_time": "2022-03-15T21:56:25.179704",
     "status": "completed"
    },
    "tags": []
   },
   "outputs": [],
   "source": [
    "df_seeds2002 = df_seeds[seeds_mask]"
   ]
  },
  {
   "cell_type": "code",
   "execution_count": 59,
   "id": "9ea727a9",
   "metadata": {
    "execution": {
     "iopub.execute_input": "2022-03-15T21:56:25.490391Z",
     "iopub.status.busy": "2022-03-15T21:56:25.489703Z",
     "iopub.status.idle": "2022-03-15T21:56:25.499944Z",
     "shell.execute_reply": "2022-03-15T21:56:25.499275Z",
     "shell.execute_reply.started": "2022-03-15T21:53:09.271738Z"
    },
    "papermill": {
     "duration": 0.115279,
     "end_time": "2022-03-15T21:56:25.500088",
     "exception": false,
     "start_time": "2022-03-15T21:56:25.384809",
     "status": "completed"
    },
    "tags": []
   },
   "outputs": [],
   "source": [
    "df = df.merge(df_seeds2002, how = 'inner', on = ['Season', 'TeamID'])"
   ]
  },
  {
   "cell_type": "code",
   "execution_count": 60,
   "id": "14d62765",
   "metadata": {
    "execution": {
     "iopub.execute_input": "2022-03-15T21:56:25.716928Z",
     "iopub.status.busy": "2022-03-15T21:56:25.716074Z",
     "iopub.status.idle": "2022-03-15T21:56:25.719535Z",
     "shell.execute_reply": "2022-03-15T21:56:25.720060Z",
     "shell.execute_reply.started": "2022-03-15T21:53:09.501352Z"
    },
    "papermill": {
     "duration": 0.120982,
     "end_time": "2022-03-15T21:56:25.720234",
     "exception": false,
     "start_time": "2022-03-15T21:56:25.599252",
     "status": "completed"
    },
    "tags": []
   },
   "outputs": [
    {
     "data": {
      "text/html": [
       "<div>\n",
       "<style scoped>\n",
       "    .dataframe tbody tr th:only-of-type {\n",
       "        vertical-align: middle;\n",
       "    }\n",
       "\n",
       "    .dataframe tbody tr th {\n",
       "        vertical-align: top;\n",
       "    }\n",
       "\n",
       "    .dataframe thead th {\n",
       "        text-align: right;\n",
       "    }\n",
       "</style>\n",
       "<table border=\"1\" class=\"dataframe\">\n",
       "  <thead>\n",
       "    <tr style=\"text-align: right;\">\n",
       "      <th></th>\n",
       "      <th>Season</th>\n",
       "      <th>TeamID</th>\n",
       "      <th>Score</th>\n",
       "      <th>FGP</th>\n",
       "      <th>FGP3</th>\n",
       "      <th>FTP</th>\n",
       "      <th>OR</th>\n",
       "      <th>DR</th>\n",
       "      <th>Ast</th>\n",
       "      <th>TO</th>\n",
       "      <th>Stl</th>\n",
       "      <th>Blk</th>\n",
       "      <th>PF</th>\n",
       "      <th>Rank</th>\n",
       "      <th>Seed</th>\n",
       "    </tr>\n",
       "  </thead>\n",
       "  <tbody>\n",
       "    <tr>\n",
       "      <th>0</th>\n",
       "      <td>2003</td>\n",
       "      <td>1104</td>\n",
       "      <td>69.285714</td>\n",
       "      <td>0.419676</td>\n",
       "      <td>0.325442</td>\n",
       "      <td>0.705168</td>\n",
       "      <td>13.571429</td>\n",
       "      <td>23.928571</td>\n",
       "      <td>12.107143</td>\n",
       "      <td>13.285714</td>\n",
       "      <td>6.607143</td>\n",
       "      <td>3.785714</td>\n",
       "      <td>18.035714</td>\n",
       "      <td>38.031250</td>\n",
       "      <td>Y10</td>\n",
       "    </tr>\n",
       "    <tr>\n",
       "      <th>1</th>\n",
       "      <td>2003</td>\n",
       "      <td>1112</td>\n",
       "      <td>85.214286</td>\n",
       "      <td>0.463563</td>\n",
       "      <td>0.351060</td>\n",
       "      <td>0.701154</td>\n",
       "      <td>15.178571</td>\n",
       "      <td>27.642857</td>\n",
       "      <td>17.642857</td>\n",
       "      <td>14.785714</td>\n",
       "      <td>8.464286</td>\n",
       "      <td>4.214286</td>\n",
       "      <td>17.750000</td>\n",
       "      <td>2.676471</td>\n",
       "      <td>Z01</td>\n",
       "    </tr>\n",
       "    <tr>\n",
       "      <th>2</th>\n",
       "      <td>2003</td>\n",
       "      <td>1113</td>\n",
       "      <td>75.965517</td>\n",
       "      <td>0.481680</td>\n",
       "      <td>0.328376</td>\n",
       "      <td>0.675667</td>\n",
       "      <td>13.689655</td>\n",
       "      <td>23.310345</td>\n",
       "      <td>15.551724</td>\n",
       "      <td>14.000000</td>\n",
       "      <td>5.206897</td>\n",
       "      <td>4.241379</td>\n",
       "      <td>19.413793</td>\n",
       "      <td>36.000000</td>\n",
       "      <td>Z10</td>\n",
       "    </tr>\n",
       "    <tr>\n",
       "      <th>3</th>\n",
       "      <td>2003</td>\n",
       "      <td>1120</td>\n",
       "      <td>70.100000</td>\n",
       "      <td>0.470055</td>\n",
       "      <td>0.355662</td>\n",
       "      <td>0.652663</td>\n",
       "      <td>11.933333</td>\n",
       "      <td>22.566667</td>\n",
       "      <td>13.400000</td>\n",
       "      <td>15.900000</td>\n",
       "      <td>8.033333</td>\n",
       "      <td>4.966667</td>\n",
       "      <td>16.366667</td>\n",
       "      <td>43.937500</td>\n",
       "      <td>W10</td>\n",
       "    </tr>\n",
       "    <tr>\n",
       "      <th>4</th>\n",
       "      <td>2003</td>\n",
       "      <td>1122</td>\n",
       "      <td>69.703704</td>\n",
       "      <td>0.456810</td>\n",
       "      <td>0.353542</td>\n",
       "      <td>0.682295</td>\n",
       "      <td>10.629630</td>\n",
       "      <td>24.222222</td>\n",
       "      <td>13.407407</td>\n",
       "      <td>15.222222</td>\n",
       "      <td>7.037037</td>\n",
       "      <td>4.666667</td>\n",
       "      <td>18.666667</td>\n",
       "      <td>94.968750</td>\n",
       "      <td>W13</td>\n",
       "    </tr>\n",
       "  </tbody>\n",
       "</table>\n",
       "</div>"
      ],
      "text/plain": [
       "   Season  TeamID      Score       FGP      FGP3       FTP         OR  \\\n",
       "0    2003    1104  69.285714  0.419676  0.325442  0.705168  13.571429   \n",
       "1    2003    1112  85.214286  0.463563  0.351060  0.701154  15.178571   \n",
       "2    2003    1113  75.965517  0.481680  0.328376  0.675667  13.689655   \n",
       "3    2003    1120  70.100000  0.470055  0.355662  0.652663  11.933333   \n",
       "4    2003    1122  69.703704  0.456810  0.353542  0.682295  10.629630   \n",
       "\n",
       "          DR        Ast         TO       Stl       Blk         PF       Rank  \\\n",
       "0  23.928571  12.107143  13.285714  6.607143  3.785714  18.035714  38.031250   \n",
       "1  27.642857  17.642857  14.785714  8.464286  4.214286  17.750000   2.676471   \n",
       "2  23.310345  15.551724  14.000000  5.206897  4.241379  19.413793  36.000000   \n",
       "3  22.566667  13.400000  15.900000  8.033333  4.966667  16.366667  43.937500   \n",
       "4  24.222222  13.407407  15.222222  7.037037  4.666667  18.666667  94.968750   \n",
       "\n",
       "  Seed  \n",
       "0  Y10  \n",
       "1  Z01  \n",
       "2  Z10  \n",
       "3  W10  \n",
       "4  W13  "
      ]
     },
     "execution_count": 60,
     "metadata": {},
     "output_type": "execute_result"
    }
   ],
   "source": [
    "df.head()"
   ]
  },
  {
   "cell_type": "markdown",
   "id": "d833f4da",
   "metadata": {
    "papermill": {
     "duration": 0.098199,
     "end_time": "2022-03-15T21:56:25.916952",
     "exception": false,
     "start_time": "2022-03-15T21:56:25.818753",
     "status": "completed"
    },
    "tags": []
   },
   "source": [
    "Now that the seed is there, let's turn it into an integer by removing the region. I don't think we'll need the region data since we have the team IDs but if we do, I can always add it back in."
   ]
  },
  {
   "cell_type": "code",
   "execution_count": 61,
   "id": "cbdb5718",
   "metadata": {
    "execution": {
     "iopub.execute_input": "2022-03-15T21:56:26.120905Z",
     "iopub.status.busy": "2022-03-15T21:56:26.118999Z",
     "iopub.status.idle": "2022-03-15T21:56:26.124382Z",
     "shell.execute_reply": "2022-03-15T21:56:26.123825Z",
     "shell.execute_reply.started": "2022-03-15T21:53:09.852978Z"
    },
    "papermill": {
     "duration": 0.10897,
     "end_time": "2022-03-15T21:56:26.124538",
     "exception": false,
     "start_time": "2022-03-15T21:56:26.015568",
     "status": "completed"
    },
    "tags": []
   },
   "outputs": [],
   "source": [
    "df['Seed'] = df['Seed'].str[1:]"
   ]
  },
  {
   "cell_type": "code",
   "execution_count": 62,
   "id": "7280a412",
   "metadata": {
    "execution": {
     "iopub.execute_input": "2022-03-15T21:56:26.338803Z",
     "iopub.status.busy": "2022-03-15T21:56:26.323895Z",
     "iopub.status.idle": "2022-03-15T21:56:26.342747Z",
     "shell.execute_reply": "2022-03-15T21:56:26.342192Z",
     "shell.execute_reply.started": "2022-03-15T21:53:10.059056Z"
    },
    "papermill": {
     "duration": 0.120212,
     "end_time": "2022-03-15T21:56:26.342887",
     "exception": false,
     "start_time": "2022-03-15T21:56:26.222675",
     "status": "completed"
    },
    "tags": []
   },
   "outputs": [
    {
     "data": {
      "text/html": [
       "<div>\n",
       "<style scoped>\n",
       "    .dataframe tbody tr th:only-of-type {\n",
       "        vertical-align: middle;\n",
       "    }\n",
       "\n",
       "    .dataframe tbody tr th {\n",
       "        vertical-align: top;\n",
       "    }\n",
       "\n",
       "    .dataframe thead th {\n",
       "        text-align: right;\n",
       "    }\n",
       "</style>\n",
       "<table border=\"1\" class=\"dataframe\">\n",
       "  <thead>\n",
       "    <tr style=\"text-align: right;\">\n",
       "      <th></th>\n",
       "      <th>Season</th>\n",
       "      <th>TeamID</th>\n",
       "      <th>Score</th>\n",
       "      <th>FGP</th>\n",
       "      <th>FGP3</th>\n",
       "      <th>FTP</th>\n",
       "      <th>OR</th>\n",
       "      <th>DR</th>\n",
       "      <th>Ast</th>\n",
       "      <th>TO</th>\n",
       "      <th>Stl</th>\n",
       "      <th>Blk</th>\n",
       "      <th>PF</th>\n",
       "      <th>Rank</th>\n",
       "      <th>Seed</th>\n",
       "    </tr>\n",
       "  </thead>\n",
       "  <tbody>\n",
       "    <tr>\n",
       "      <th>0</th>\n",
       "      <td>2003</td>\n",
       "      <td>1104</td>\n",
       "      <td>69.285714</td>\n",
       "      <td>0.419676</td>\n",
       "      <td>0.325442</td>\n",
       "      <td>0.705168</td>\n",
       "      <td>13.571429</td>\n",
       "      <td>23.928571</td>\n",
       "      <td>12.107143</td>\n",
       "      <td>13.285714</td>\n",
       "      <td>6.607143</td>\n",
       "      <td>3.785714</td>\n",
       "      <td>18.035714</td>\n",
       "      <td>38.031250</td>\n",
       "      <td>10</td>\n",
       "    </tr>\n",
       "    <tr>\n",
       "      <th>1</th>\n",
       "      <td>2003</td>\n",
       "      <td>1112</td>\n",
       "      <td>85.214286</td>\n",
       "      <td>0.463563</td>\n",
       "      <td>0.351060</td>\n",
       "      <td>0.701154</td>\n",
       "      <td>15.178571</td>\n",
       "      <td>27.642857</td>\n",
       "      <td>17.642857</td>\n",
       "      <td>14.785714</td>\n",
       "      <td>8.464286</td>\n",
       "      <td>4.214286</td>\n",
       "      <td>17.750000</td>\n",
       "      <td>2.676471</td>\n",
       "      <td>01</td>\n",
       "    </tr>\n",
       "    <tr>\n",
       "      <th>2</th>\n",
       "      <td>2003</td>\n",
       "      <td>1113</td>\n",
       "      <td>75.965517</td>\n",
       "      <td>0.481680</td>\n",
       "      <td>0.328376</td>\n",
       "      <td>0.675667</td>\n",
       "      <td>13.689655</td>\n",
       "      <td>23.310345</td>\n",
       "      <td>15.551724</td>\n",
       "      <td>14.000000</td>\n",
       "      <td>5.206897</td>\n",
       "      <td>4.241379</td>\n",
       "      <td>19.413793</td>\n",
       "      <td>36.000000</td>\n",
       "      <td>10</td>\n",
       "    </tr>\n",
       "    <tr>\n",
       "      <th>3</th>\n",
       "      <td>2003</td>\n",
       "      <td>1120</td>\n",
       "      <td>70.100000</td>\n",
       "      <td>0.470055</td>\n",
       "      <td>0.355662</td>\n",
       "      <td>0.652663</td>\n",
       "      <td>11.933333</td>\n",
       "      <td>22.566667</td>\n",
       "      <td>13.400000</td>\n",
       "      <td>15.900000</td>\n",
       "      <td>8.033333</td>\n",
       "      <td>4.966667</td>\n",
       "      <td>16.366667</td>\n",
       "      <td>43.937500</td>\n",
       "      <td>10</td>\n",
       "    </tr>\n",
       "    <tr>\n",
       "      <th>4</th>\n",
       "      <td>2003</td>\n",
       "      <td>1122</td>\n",
       "      <td>69.703704</td>\n",
       "      <td>0.456810</td>\n",
       "      <td>0.353542</td>\n",
       "      <td>0.682295</td>\n",
       "      <td>10.629630</td>\n",
       "      <td>24.222222</td>\n",
       "      <td>13.407407</td>\n",
       "      <td>15.222222</td>\n",
       "      <td>7.037037</td>\n",
       "      <td>4.666667</td>\n",
       "      <td>18.666667</td>\n",
       "      <td>94.968750</td>\n",
       "      <td>13</td>\n",
       "    </tr>\n",
       "  </tbody>\n",
       "</table>\n",
       "</div>"
      ],
      "text/plain": [
       "   Season  TeamID      Score       FGP      FGP3       FTP         OR  \\\n",
       "0    2003    1104  69.285714  0.419676  0.325442  0.705168  13.571429   \n",
       "1    2003    1112  85.214286  0.463563  0.351060  0.701154  15.178571   \n",
       "2    2003    1113  75.965517  0.481680  0.328376  0.675667  13.689655   \n",
       "3    2003    1120  70.100000  0.470055  0.355662  0.652663  11.933333   \n",
       "4    2003    1122  69.703704  0.456810  0.353542  0.682295  10.629630   \n",
       "\n",
       "          DR        Ast         TO       Stl       Blk         PF       Rank  \\\n",
       "0  23.928571  12.107143  13.285714  6.607143  3.785714  18.035714  38.031250   \n",
       "1  27.642857  17.642857  14.785714  8.464286  4.214286  17.750000   2.676471   \n",
       "2  23.310345  15.551724  14.000000  5.206897  4.241379  19.413793  36.000000   \n",
       "3  22.566667  13.400000  15.900000  8.033333  4.966667  16.366667  43.937500   \n",
       "4  24.222222  13.407407  15.222222  7.037037  4.666667  18.666667  94.968750   \n",
       "\n",
       "  Seed  \n",
       "0   10  \n",
       "1   01  \n",
       "2   10  \n",
       "3   10  \n",
       "4   13  "
      ]
     },
     "execution_count": 62,
     "metadata": {},
     "output_type": "execute_result"
    }
   ],
   "source": [
    "df.head()"
   ]
  },
  {
   "cell_type": "markdown",
   "id": "34295a1d",
   "metadata": {
    "papermill": {
     "duration": 0.119838,
     "end_time": "2022-03-15T21:56:26.563935",
     "exception": false,
     "start_time": "2022-03-15T21:56:26.444097",
     "status": "completed"
    },
    "tags": []
   },
   "source": [
    "Since we just stripped a letter from our Seed, the seed is probably still a string. So let's verify that and change it to a float. We have all of those pesky play in games as well. So for our purpose I'm changing 11a to 11.1 and 11b to 11.2 so they'll be numerical. I'm not meaning to imply that one team is ranked higher than another. If we need to change this in the future we can."
   ]
  },
  {
   "cell_type": "code",
   "execution_count": 63,
   "id": "70431282",
   "metadata": {
    "execution": {
     "iopub.execute_input": "2022-03-15T21:56:26.778819Z",
     "iopub.status.busy": "2022-03-15T21:56:26.778203Z",
     "iopub.status.idle": "2022-03-15T21:56:26.784657Z",
     "shell.execute_reply": "2022-03-15T21:56:26.785161Z",
     "shell.execute_reply.started": "2022-03-15T21:53:10.751749Z"
    },
    "papermill": {
     "duration": 0.109012,
     "end_time": "2022-03-15T21:56:26.785323",
     "exception": false,
     "start_time": "2022-03-15T21:56:26.676311",
     "status": "completed"
    },
    "tags": []
   },
   "outputs": [],
   "source": [
    "df.Seed.replace(['11a','11b','12a','12b','13a','13b','14a','14b','16a','16b'],\n",
    "['11','11','12','12','13','13','14','14','16','16'],inplace=True)"
   ]
  },
  {
   "cell_type": "code",
   "execution_count": 64,
   "id": "ad870366",
   "metadata": {
    "execution": {
     "iopub.execute_input": "2022-03-15T21:56:26.989566Z",
     "iopub.status.busy": "2022-03-15T21:56:26.987176Z",
     "iopub.status.idle": "2022-03-15T21:56:26.991244Z",
     "shell.execute_reply": "2022-03-15T21:56:26.991833Z",
     "shell.execute_reply.started": "2022-03-15T21:53:10.994204Z"
    },
    "papermill": {
     "duration": 0.106878,
     "end_time": "2022-03-15T21:56:26.992035",
     "exception": false,
     "start_time": "2022-03-15T21:56:26.885157",
     "status": "completed"
    },
    "tags": []
   },
   "outputs": [],
   "source": [
    "df['Seed'] = df['Seed'].astype(float)"
   ]
  },
  {
   "cell_type": "code",
   "execution_count": 65,
   "id": "dc00f3b4",
   "metadata": {
    "execution": {
     "iopub.execute_input": "2022-03-15T21:56:27.198995Z",
     "iopub.status.busy": "2022-03-15T21:56:27.198283Z",
     "iopub.status.idle": "2022-03-15T21:56:27.203067Z",
     "shell.execute_reply": "2022-03-15T21:56:27.203597Z",
     "shell.execute_reply.started": "2022-03-15T21:53:11.201187Z"
    },
    "papermill": {
     "duration": 0.111284,
     "end_time": "2022-03-15T21:56:27.203780",
     "exception": false,
     "start_time": "2022-03-15T21:56:27.092496",
     "status": "completed"
    },
    "tags": []
   },
   "outputs": [
    {
     "data": {
      "text/plain": [
       "Season      int64\n",
       "TeamID      int64\n",
       "Score     float64\n",
       "FGP       float64\n",
       "FGP3      float64\n",
       "FTP       float64\n",
       "OR        float64\n",
       "DR        float64\n",
       "Ast       float64\n",
       "TO        float64\n",
       "Stl       float64\n",
       "Blk       float64\n",
       "PF        float64\n",
       "Rank      float64\n",
       "Seed      float64\n",
       "dtype: object"
      ]
     },
     "execution_count": 65,
     "metadata": {},
     "output_type": "execute_result"
    }
   ],
   "source": [
    "df.dtypes"
   ]
  },
  {
   "cell_type": "markdown",
   "id": "8579d170",
   "metadata": {
    "papermill": {
     "duration": 0.099375,
     "end_time": "2022-03-15T21:56:27.404269",
     "exception": false,
     "start_time": "2022-03-15T21:56:27.304894",
     "status": "completed"
    },
    "tags": []
   },
   "source": [
    "Perfect. I'm happy with this and I'll save the data as a csv file in the processed data folder."
   ]
  },
  {
   "cell_type": "code",
   "execution_count": 66,
   "id": "f46a9cbd",
   "metadata": {
    "execution": {
     "iopub.execute_input": "2022-03-15T21:56:27.607570Z",
     "iopub.status.busy": "2022-03-15T21:56:27.606597Z",
     "iopub.status.idle": "2022-03-15T21:56:27.641493Z",
     "shell.execute_reply": "2022-03-15T21:56:27.642005Z",
     "shell.execute_reply.started": "2022-03-15T21:53:11.992265Z"
    },
    "papermill": {
     "duration": 0.137649,
     "end_time": "2022-03-15T21:56:27.642192",
     "exception": false,
     "start_time": "2022-03-15T21:56:27.504543",
     "status": "completed"
    },
    "tags": []
   },
   "outputs": [],
   "source": [
    "df.to_csv('/kaggle/working/data_averages.csv',index=False)"
   ]
  }
 ],
 "metadata": {
  "kernelspec": {
   "display_name": "Python 3",
   "language": "python",
   "name": "python3"
  },
  "language_info": {
   "codemirror_mode": {
    "name": "ipython",
    "version": 3
   },
   "file_extension": ".py",
   "mimetype": "text/x-python",
   "name": "python",
   "nbconvert_exporter": "python",
   "pygments_lexer": "ipython3",
   "version": "3.7.12"
  },
  "papermill": {
   "default_parameters": {},
   "duration": 34.032856,
   "end_time": "2022-03-15T21:56:28.453108",
   "environment_variables": {},
   "exception": null,
   "input_path": "__notebook__.ipynb",
   "output_path": "__notebook__.ipynb",
   "parameters": {},
   "start_time": "2022-03-15T21:55:54.420252",
   "version": "2.3.3"
  }
 },
 "nbformat": 4,
 "nbformat_minor": 5
}
