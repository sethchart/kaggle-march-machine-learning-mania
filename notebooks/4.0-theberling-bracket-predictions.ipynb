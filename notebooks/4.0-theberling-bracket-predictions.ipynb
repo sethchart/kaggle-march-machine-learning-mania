{
 "cells": [
  {
   "cell_type": "markdown",
   "metadata": {},
   "source": [
    "We made our predictions in phase2_submissions1.csv. Now let's back out what those submissions are in the bracket."
   ]
  },
  {
   "cell_type": "code",
   "execution_count": 1,
   "metadata": {},
   "outputs": [],
   "source": [
    "import pandas as pd"
   ]
  },
  {
   "cell_type": "code",
   "execution_count": 8,
   "metadata": {},
   "outputs": [
    {
     "data": {
      "text/plain": [
       "['4.0-theberling-bracket-predictions.ipynb',\n",
       " 'submission.csv',\n",
       " 'highest_scoring_bracket.ipynb',\n",
       " '.ipynb_checkpoints']"
      ]
     },
     "execution_count": 8,
     "metadata": {},
     "output_type": "execute_result"
    }
   ],
   "source": [
    "import os\n",
    "os.listdir()"
   ]
  },
  {
   "cell_type": "code",
   "execution_count": 18,
   "metadata": {},
   "outputs": [],
   "source": [
    "year = 2022"
   ]
  },
  {
   "cell_type": "code",
   "execution_count": 69,
   "metadata": {},
   "outputs": [
    {
     "data": {
      "text/html": [
       "<div>\n",
       "<style scoped>\n",
       "    .dataframe tbody tr th:only-of-type {\n",
       "        vertical-align: middle;\n",
       "    }\n",
       "\n",
       "    .dataframe tbody tr th {\n",
       "        vertical-align: top;\n",
       "    }\n",
       "\n",
       "    .dataframe thead th {\n",
       "        text-align: right;\n",
       "    }\n",
       "</style>\n",
       "<table border=\"1\" class=\"dataframe\">\n",
       "  <thead>\n",
       "    <tr style=\"text-align: right;\">\n",
       "      <th></th>\n",
       "      <th>ID</th>\n",
       "      <th>Pred</th>\n",
       "    </tr>\n",
       "  </thead>\n",
       "  <tbody>\n",
       "    <tr>\n",
       "      <th>0</th>\n",
       "      <td>2017_1101_1102</td>\n",
       "      <td>0.529674</td>\n",
       "    </tr>\n",
       "    <tr>\n",
       "      <th>1</th>\n",
       "      <td>2017_1101_1103</td>\n",
       "      <td>0.529674</td>\n",
       "    </tr>\n",
       "    <tr>\n",
       "      <th>2</th>\n",
       "      <td>2017_1101_1104</td>\n",
       "      <td>0.529674</td>\n",
       "    </tr>\n",
       "    <tr>\n",
       "      <th>3</th>\n",
       "      <td>2017_1101_1105</td>\n",
       "      <td>0.529674</td>\n",
       "    </tr>\n",
       "    <tr>\n",
       "      <th>4</th>\n",
       "      <td>2017_1101_1106</td>\n",
       "      <td>0.529674</td>\n",
       "    </tr>\n",
       "    <tr>\n",
       "      <th>5</th>\n",
       "      <td>2017_1101_1107</td>\n",
       "      <td>0.529674</td>\n",
       "    </tr>\n",
       "    <tr>\n",
       "      <th>6</th>\n",
       "      <td>2017_1101_1108</td>\n",
       "      <td>0.529674</td>\n",
       "    </tr>\n",
       "    <tr>\n",
       "      <th>7</th>\n",
       "      <td>2017_1101_1110</td>\n",
       "      <td>0.529674</td>\n",
       "    </tr>\n",
       "    <tr>\n",
       "      <th>8</th>\n",
       "      <td>2017_1101_1111</td>\n",
       "      <td>0.529674</td>\n",
       "    </tr>\n",
       "    <tr>\n",
       "      <th>9</th>\n",
       "      <td>2017_1101_1112</td>\n",
       "      <td>0.613424</td>\n",
       "    </tr>\n",
       "    <tr>\n",
       "      <th>10</th>\n",
       "      <td>2017_1101_1113</td>\n",
       "      <td>0.529674</td>\n",
       "    </tr>\n",
       "    <tr>\n",
       "      <th>11</th>\n",
       "      <td>2017_1101_1114</td>\n",
       "      <td>0.529674</td>\n",
       "    </tr>\n",
       "    <tr>\n",
       "      <th>12</th>\n",
       "      <td>2017_1101_1115</td>\n",
       "      <td>0.529674</td>\n",
       "    </tr>\n",
       "    <tr>\n",
       "      <th>13</th>\n",
       "      <td>2017_1101_1116</td>\n",
       "      <td>0.529674</td>\n",
       "    </tr>\n",
       "    <tr>\n",
       "      <th>14</th>\n",
       "      <td>2017_1101_1117</td>\n",
       "      <td>0.529674</td>\n",
       "    </tr>\n",
       "    <tr>\n",
       "      <th>15</th>\n",
       "      <td>2017_1101_1119</td>\n",
       "      <td>0.529674</td>\n",
       "    </tr>\n",
       "    <tr>\n",
       "      <th>16</th>\n",
       "      <td>2017_1101_1120</td>\n",
       "      <td>0.529674</td>\n",
       "    </tr>\n",
       "    <tr>\n",
       "      <th>17</th>\n",
       "      <td>2017_1101_1122</td>\n",
       "      <td>0.529674</td>\n",
       "    </tr>\n",
       "    <tr>\n",
       "      <th>18</th>\n",
       "      <td>2017_1101_1123</td>\n",
       "      <td>0.529674</td>\n",
       "    </tr>\n",
       "    <tr>\n",
       "      <th>19</th>\n",
       "      <td>2017_1101_1124</td>\n",
       "      <td>0.543675</td>\n",
       "    </tr>\n",
       "  </tbody>\n",
       "</table>\n",
       "</div>"
      ],
      "text/plain": [
       "                ID      Pred\n",
       "0   2017_1101_1102  0.529674\n",
       "1   2017_1101_1103  0.529674\n",
       "2   2017_1101_1104  0.529674\n",
       "3   2017_1101_1105  0.529674\n",
       "4   2017_1101_1106  0.529674\n",
       "5   2017_1101_1107  0.529674\n",
       "6   2017_1101_1108  0.529674\n",
       "7   2017_1101_1110  0.529674\n",
       "8   2017_1101_1111  0.529674\n",
       "9   2017_1101_1112  0.613424\n",
       "10  2017_1101_1113  0.529674\n",
       "11  2017_1101_1114  0.529674\n",
       "12  2017_1101_1115  0.529674\n",
       "13  2017_1101_1116  0.529674\n",
       "14  2017_1101_1117  0.529674\n",
       "15  2017_1101_1119  0.529674\n",
       "16  2017_1101_1120  0.529674\n",
       "17  2017_1101_1122  0.529674\n",
       "18  2017_1101_1123  0.529674\n",
       "19  2017_1101_1124  0.543675"
      ]
     },
     "execution_count": 69,
     "metadata": {},
     "output_type": "execute_result"
    }
   ],
   "source": [
    "df_pred = pd.read_csv('submission.csv')\n",
    "df_pred.head(20)"
   ]
  },
  {
   "cell_type": "markdown",
   "metadata": {},
   "source": [
    "Excellent, now we have our submission file into a dataframe with ID and Predictions. From here we'll need to bring in the first round teams and see who we predict will win."
   ]
  },
  {
   "cell_type": "code",
   "execution_count": 70,
   "metadata": {},
   "outputs": [
    {
     "data": {
      "text/html": [
       "<div>\n",
       "<style scoped>\n",
       "    .dataframe tbody tr th:only-of-type {\n",
       "        vertical-align: middle;\n",
       "    }\n",
       "\n",
       "    .dataframe tbody tr th {\n",
       "        vertical-align: top;\n",
       "    }\n",
       "\n",
       "    .dataframe thead th {\n",
       "        text-align: right;\n",
       "    }\n",
       "</style>\n",
       "<table border=\"1\" class=\"dataframe\">\n",
       "  <thead>\n",
       "    <tr style=\"text-align: right;\">\n",
       "      <th></th>\n",
       "      <th>TeamID</th>\n",
       "      <th>TeamName</th>\n",
       "      <th>FirstD1Season</th>\n",
       "      <th>LastD1Season</th>\n",
       "    </tr>\n",
       "  </thead>\n",
       "  <tbody>\n",
       "    <tr>\n",
       "      <th>0</th>\n",
       "      <td>1101</td>\n",
       "      <td>Abilene Chr</td>\n",
       "      <td>2014</td>\n",
       "      <td>2022</td>\n",
       "    </tr>\n",
       "    <tr>\n",
       "      <th>1</th>\n",
       "      <td>1102</td>\n",
       "      <td>Air Force</td>\n",
       "      <td>1985</td>\n",
       "      <td>2022</td>\n",
       "    </tr>\n",
       "    <tr>\n",
       "      <th>2</th>\n",
       "      <td>1103</td>\n",
       "      <td>Akron</td>\n",
       "      <td>1985</td>\n",
       "      <td>2022</td>\n",
       "    </tr>\n",
       "    <tr>\n",
       "      <th>3</th>\n",
       "      <td>1104</td>\n",
       "      <td>Alabama</td>\n",
       "      <td>1985</td>\n",
       "      <td>2022</td>\n",
       "    </tr>\n",
       "    <tr>\n",
       "      <th>4</th>\n",
       "      <td>1105</td>\n",
       "      <td>Alabama A&amp;M</td>\n",
       "      <td>2000</td>\n",
       "      <td>2022</td>\n",
       "    </tr>\n",
       "  </tbody>\n",
       "</table>\n",
       "</div>"
      ],
      "text/plain": [
       "   TeamID     TeamName  FirstD1Season  LastD1Season\n",
       "0    1101  Abilene Chr           2014          2022\n",
       "1    1102    Air Force           1985          2022\n",
       "2    1103        Akron           1985          2022\n",
       "3    1104      Alabama           1985          2022\n",
       "4    1105  Alabama A&M           2000          2022"
      ]
     },
     "execution_count": 70,
     "metadata": {},
     "output_type": "execute_result"
    }
   ],
   "source": [
    "#read in the team data\n",
    "df_teams_men = pd.read_csv('/Users/tamraheberling/Documents/data_ml/MarchMadness/data/2022/raw/MTeams.csv')\n",
    "#df_teams_women = pd.read_csv('/Users/tamraheberling/Documents/data_ml/MarchMadness/data/2022/raw/WTeams.csv')\n",
    "df_teams_men.head()"
   ]
  },
  {
   "cell_type": "code",
   "execution_count": 71,
   "metadata": {},
   "outputs": [
    {
     "data": {
      "text/html": [
       "<div>\n",
       "<style scoped>\n",
       "    .dataframe tbody tr th:only-of-type {\n",
       "        vertical-align: middle;\n",
       "    }\n",
       "\n",
       "    .dataframe tbody tr th {\n",
       "        vertical-align: top;\n",
       "    }\n",
       "\n",
       "    .dataframe thead th {\n",
       "        text-align: right;\n",
       "    }\n",
       "</style>\n",
       "<table border=\"1\" class=\"dataframe\">\n",
       "  <thead>\n",
       "    <tr style=\"text-align: right;\">\n",
       "      <th></th>\n",
       "      <th>Season</th>\n",
       "      <th>Slot</th>\n",
       "      <th>StrongSeed</th>\n",
       "      <th>WeakSeed</th>\n",
       "    </tr>\n",
       "  </thead>\n",
       "  <tbody>\n",
       "    <tr>\n",
       "      <th>0</th>\n",
       "      <td>1985</td>\n",
       "      <td>R1W1</td>\n",
       "      <td>W01</td>\n",
       "      <td>W16</td>\n",
       "    </tr>\n",
       "    <tr>\n",
       "      <th>1</th>\n",
       "      <td>1985</td>\n",
       "      <td>R1W2</td>\n",
       "      <td>W02</td>\n",
       "      <td>W15</td>\n",
       "    </tr>\n",
       "    <tr>\n",
       "      <th>2</th>\n",
       "      <td>1985</td>\n",
       "      <td>R1W3</td>\n",
       "      <td>W03</td>\n",
       "      <td>W14</td>\n",
       "    </tr>\n",
       "    <tr>\n",
       "      <th>3</th>\n",
       "      <td>1985</td>\n",
       "      <td>R1W4</td>\n",
       "      <td>W04</td>\n",
       "      <td>W13</td>\n",
       "    </tr>\n",
       "    <tr>\n",
       "      <th>4</th>\n",
       "      <td>1985</td>\n",
       "      <td>R1W5</td>\n",
       "      <td>W05</td>\n",
       "      <td>W12</td>\n",
       "    </tr>\n",
       "  </tbody>\n",
       "</table>\n",
       "</div>"
      ],
      "text/plain": [
       "   Season  Slot StrongSeed WeakSeed\n",
       "0    1985  R1W1        W01      W16\n",
       "1    1985  R1W2        W02      W15\n",
       "2    1985  R1W3        W03      W14\n",
       "3    1985  R1W4        W04      W13\n",
       "4    1985  R1W5        W05      W12"
      ]
     },
     "execution_count": 71,
     "metadata": {},
     "output_type": "execute_result"
    }
   ],
   "source": [
    "#read in the tournament slot data\n",
    "df_slots_men = pd.read_csv('/Users/tamraheberling/Documents/data_ml/MarchMadness/data/2022/raw/MNCAATourneySlots.csv')\n",
    "#df_slots_women = pd.read_csv('/Users/tamraheberling/Documents/data_ml/MarchMadness2023/data/raw/WNCAATourneySlots.csv')\n",
    "df_slots_men.head()"
   ]
  },
  {
   "cell_type": "code",
   "execution_count": 72,
   "metadata": {},
   "outputs": [
    {
     "data": {
      "text/html": [
       "<div>\n",
       "<style scoped>\n",
       "    .dataframe tbody tr th:only-of-type {\n",
       "        vertical-align: middle;\n",
       "    }\n",
       "\n",
       "    .dataframe tbody tr th {\n",
       "        vertical-align: top;\n",
       "    }\n",
       "\n",
       "    .dataframe thead th {\n",
       "        text-align: right;\n",
       "    }\n",
       "</style>\n",
       "<table border=\"1\" class=\"dataframe\">\n",
       "  <thead>\n",
       "    <tr style=\"text-align: right;\">\n",
       "      <th></th>\n",
       "      <th>Season</th>\n",
       "      <th>Slot</th>\n",
       "      <th>StrongSeed</th>\n",
       "      <th>WeakSeed</th>\n",
       "    </tr>\n",
       "  </thead>\n",
       "  <tbody>\n",
       "    <tr>\n",
       "      <th>0</th>\n",
       "      <td>2022</td>\n",
       "      <td>R1W1</td>\n",
       "      <td>W01</td>\n",
       "      <td>W16</td>\n",
       "    </tr>\n",
       "    <tr>\n",
       "      <th>1</th>\n",
       "      <td>2022</td>\n",
       "      <td>R1W2</td>\n",
       "      <td>W02</td>\n",
       "      <td>W15</td>\n",
       "    </tr>\n",
       "    <tr>\n",
       "      <th>2</th>\n",
       "      <td>2022</td>\n",
       "      <td>R1W3</td>\n",
       "      <td>W03</td>\n",
       "      <td>W14</td>\n",
       "    </tr>\n",
       "    <tr>\n",
       "      <th>3</th>\n",
       "      <td>2022</td>\n",
       "      <td>R1W4</td>\n",
       "      <td>W04</td>\n",
       "      <td>W13</td>\n",
       "    </tr>\n",
       "    <tr>\n",
       "      <th>4</th>\n",
       "      <td>2022</td>\n",
       "      <td>R1W5</td>\n",
       "      <td>W05</td>\n",
       "      <td>W12</td>\n",
       "    </tr>\n",
       "    <tr>\n",
       "      <th>5</th>\n",
       "      <td>2022</td>\n",
       "      <td>R1W6</td>\n",
       "      <td>W06</td>\n",
       "      <td>W11</td>\n",
       "    </tr>\n",
       "    <tr>\n",
       "      <th>6</th>\n",
       "      <td>2022</td>\n",
       "      <td>R1W7</td>\n",
       "      <td>W07</td>\n",
       "      <td>W10</td>\n",
       "    </tr>\n",
       "    <tr>\n",
       "      <th>7</th>\n",
       "      <td>2022</td>\n",
       "      <td>R1W8</td>\n",
       "      <td>W08</td>\n",
       "      <td>W09</td>\n",
       "    </tr>\n",
       "    <tr>\n",
       "      <th>8</th>\n",
       "      <td>2022</td>\n",
       "      <td>R1X1</td>\n",
       "      <td>X01</td>\n",
       "      <td>X16</td>\n",
       "    </tr>\n",
       "    <tr>\n",
       "      <th>9</th>\n",
       "      <td>2022</td>\n",
       "      <td>R1X2</td>\n",
       "      <td>X02</td>\n",
       "      <td>X15</td>\n",
       "    </tr>\n",
       "    <tr>\n",
       "      <th>10</th>\n",
       "      <td>2022</td>\n",
       "      <td>R1X3</td>\n",
       "      <td>X03</td>\n",
       "      <td>X14</td>\n",
       "    </tr>\n",
       "    <tr>\n",
       "      <th>11</th>\n",
       "      <td>2022</td>\n",
       "      <td>R1X4</td>\n",
       "      <td>X04</td>\n",
       "      <td>X13</td>\n",
       "    </tr>\n",
       "    <tr>\n",
       "      <th>12</th>\n",
       "      <td>2022</td>\n",
       "      <td>R1X5</td>\n",
       "      <td>X05</td>\n",
       "      <td>X12</td>\n",
       "    </tr>\n",
       "    <tr>\n",
       "      <th>13</th>\n",
       "      <td>2022</td>\n",
       "      <td>R1X6</td>\n",
       "      <td>X06</td>\n",
       "      <td>X11</td>\n",
       "    </tr>\n",
       "    <tr>\n",
       "      <th>14</th>\n",
       "      <td>2022</td>\n",
       "      <td>R1X7</td>\n",
       "      <td>X07</td>\n",
       "      <td>X10</td>\n",
       "    </tr>\n",
       "    <tr>\n",
       "      <th>15</th>\n",
       "      <td>2022</td>\n",
       "      <td>R1X8</td>\n",
       "      <td>X08</td>\n",
       "      <td>X09</td>\n",
       "    </tr>\n",
       "    <tr>\n",
       "      <th>16</th>\n",
       "      <td>2022</td>\n",
       "      <td>R1Y1</td>\n",
       "      <td>Y01</td>\n",
       "      <td>Y16</td>\n",
       "    </tr>\n",
       "    <tr>\n",
       "      <th>17</th>\n",
       "      <td>2022</td>\n",
       "      <td>R1Y2</td>\n",
       "      <td>Y02</td>\n",
       "      <td>Y15</td>\n",
       "    </tr>\n",
       "    <tr>\n",
       "      <th>18</th>\n",
       "      <td>2022</td>\n",
       "      <td>R1Y3</td>\n",
       "      <td>Y03</td>\n",
       "      <td>Y14</td>\n",
       "    </tr>\n",
       "    <tr>\n",
       "      <th>19</th>\n",
       "      <td>2022</td>\n",
       "      <td>R1Y4</td>\n",
       "      <td>Y04</td>\n",
       "      <td>Y13</td>\n",
       "    </tr>\n",
       "    <tr>\n",
       "      <th>20</th>\n",
       "      <td>2022</td>\n",
       "      <td>R1Y5</td>\n",
       "      <td>Y05</td>\n",
       "      <td>Y12</td>\n",
       "    </tr>\n",
       "    <tr>\n",
       "      <th>21</th>\n",
       "      <td>2022</td>\n",
       "      <td>R1Y6</td>\n",
       "      <td>Y06</td>\n",
       "      <td>Y11</td>\n",
       "    </tr>\n",
       "    <tr>\n",
       "      <th>22</th>\n",
       "      <td>2022</td>\n",
       "      <td>R1Y7</td>\n",
       "      <td>Y07</td>\n",
       "      <td>Y10</td>\n",
       "    </tr>\n",
       "    <tr>\n",
       "      <th>23</th>\n",
       "      <td>2022</td>\n",
       "      <td>R1Y8</td>\n",
       "      <td>Y08</td>\n",
       "      <td>Y09</td>\n",
       "    </tr>\n",
       "    <tr>\n",
       "      <th>24</th>\n",
       "      <td>2022</td>\n",
       "      <td>R1Z1</td>\n",
       "      <td>Z01</td>\n",
       "      <td>Z16</td>\n",
       "    </tr>\n",
       "    <tr>\n",
       "      <th>25</th>\n",
       "      <td>2022</td>\n",
       "      <td>R1Z2</td>\n",
       "      <td>Z02</td>\n",
       "      <td>Z15</td>\n",
       "    </tr>\n",
       "    <tr>\n",
       "      <th>26</th>\n",
       "      <td>2022</td>\n",
       "      <td>R1Z3</td>\n",
       "      <td>Z03</td>\n",
       "      <td>Z14</td>\n",
       "    </tr>\n",
       "    <tr>\n",
       "      <th>27</th>\n",
       "      <td>2022</td>\n",
       "      <td>R1Z4</td>\n",
       "      <td>Z04</td>\n",
       "      <td>Z13</td>\n",
       "    </tr>\n",
       "    <tr>\n",
       "      <th>28</th>\n",
       "      <td>2022</td>\n",
       "      <td>R1Z5</td>\n",
       "      <td>Z05</td>\n",
       "      <td>Z12</td>\n",
       "    </tr>\n",
       "    <tr>\n",
       "      <th>29</th>\n",
       "      <td>2022</td>\n",
       "      <td>R1Z6</td>\n",
       "      <td>Z06</td>\n",
       "      <td>Z11</td>\n",
       "    </tr>\n",
       "    <tr>\n",
       "      <th>30</th>\n",
       "      <td>2022</td>\n",
       "      <td>R1Z7</td>\n",
       "      <td>Z07</td>\n",
       "      <td>Z10</td>\n",
       "    </tr>\n",
       "    <tr>\n",
       "      <th>31</th>\n",
       "      <td>2022</td>\n",
       "      <td>R1Z8</td>\n",
       "      <td>Z08</td>\n",
       "      <td>Z09</td>\n",
       "    </tr>\n",
       "    <tr>\n",
       "      <th>32</th>\n",
       "      <td>2022</td>\n",
       "      <td>R2W1</td>\n",
       "      <td>R1W1</td>\n",
       "      <td>R1W8</td>\n",
       "    </tr>\n",
       "    <tr>\n",
       "      <th>33</th>\n",
       "      <td>2022</td>\n",
       "      <td>R2W2</td>\n",
       "      <td>R1W2</td>\n",
       "      <td>R1W7</td>\n",
       "    </tr>\n",
       "    <tr>\n",
       "      <th>34</th>\n",
       "      <td>2022</td>\n",
       "      <td>R2W3</td>\n",
       "      <td>R1W3</td>\n",
       "      <td>R1W6</td>\n",
       "    </tr>\n",
       "    <tr>\n",
       "      <th>35</th>\n",
       "      <td>2022</td>\n",
       "      <td>R2W4</td>\n",
       "      <td>R1W4</td>\n",
       "      <td>R1W5</td>\n",
       "    </tr>\n",
       "    <tr>\n",
       "      <th>36</th>\n",
       "      <td>2022</td>\n",
       "      <td>R2X1</td>\n",
       "      <td>R1X1</td>\n",
       "      <td>R1X8</td>\n",
       "    </tr>\n",
       "    <tr>\n",
       "      <th>37</th>\n",
       "      <td>2022</td>\n",
       "      <td>R2X2</td>\n",
       "      <td>R1X2</td>\n",
       "      <td>R1X7</td>\n",
       "    </tr>\n",
       "    <tr>\n",
       "      <th>38</th>\n",
       "      <td>2022</td>\n",
       "      <td>R2X3</td>\n",
       "      <td>R1X3</td>\n",
       "      <td>R1X6</td>\n",
       "    </tr>\n",
       "    <tr>\n",
       "      <th>39</th>\n",
       "      <td>2022</td>\n",
       "      <td>R2X4</td>\n",
       "      <td>R1X4</td>\n",
       "      <td>R1X5</td>\n",
       "    </tr>\n",
       "    <tr>\n",
       "      <th>40</th>\n",
       "      <td>2022</td>\n",
       "      <td>R2Y1</td>\n",
       "      <td>R1Y1</td>\n",
       "      <td>R1Y8</td>\n",
       "    </tr>\n",
       "    <tr>\n",
       "      <th>41</th>\n",
       "      <td>2022</td>\n",
       "      <td>R2Y2</td>\n",
       "      <td>R1Y2</td>\n",
       "      <td>R1Y7</td>\n",
       "    </tr>\n",
       "    <tr>\n",
       "      <th>42</th>\n",
       "      <td>2022</td>\n",
       "      <td>R2Y3</td>\n",
       "      <td>R1Y3</td>\n",
       "      <td>R1Y6</td>\n",
       "    </tr>\n",
       "    <tr>\n",
       "      <th>43</th>\n",
       "      <td>2022</td>\n",
       "      <td>R2Y4</td>\n",
       "      <td>R1Y4</td>\n",
       "      <td>R1Y5</td>\n",
       "    </tr>\n",
       "    <tr>\n",
       "      <th>44</th>\n",
       "      <td>2022</td>\n",
       "      <td>R2Z1</td>\n",
       "      <td>R1Z1</td>\n",
       "      <td>R1Z8</td>\n",
       "    </tr>\n",
       "    <tr>\n",
       "      <th>45</th>\n",
       "      <td>2022</td>\n",
       "      <td>R2Z2</td>\n",
       "      <td>R1Z2</td>\n",
       "      <td>R1Z7</td>\n",
       "    </tr>\n",
       "    <tr>\n",
       "      <th>46</th>\n",
       "      <td>2022</td>\n",
       "      <td>R2Z3</td>\n",
       "      <td>R1Z3</td>\n",
       "      <td>R1Z6</td>\n",
       "    </tr>\n",
       "    <tr>\n",
       "      <th>47</th>\n",
       "      <td>2022</td>\n",
       "      <td>R2Z4</td>\n",
       "      <td>R1Z4</td>\n",
       "      <td>R1Z5</td>\n",
       "    </tr>\n",
       "  </tbody>\n",
       "</table>\n",
       "</div>"
      ],
      "text/plain": [
       "    Season  Slot StrongSeed WeakSeed\n",
       "0     2022  R1W1        W01      W16\n",
       "1     2022  R1W2        W02      W15\n",
       "2     2022  R1W3        W03      W14\n",
       "3     2022  R1W4        W04      W13\n",
       "4     2022  R1W5        W05      W12\n",
       "5     2022  R1W6        W06      W11\n",
       "6     2022  R1W7        W07      W10\n",
       "7     2022  R1W8        W08      W09\n",
       "8     2022  R1X1        X01      X16\n",
       "9     2022  R1X2        X02      X15\n",
       "10    2022  R1X3        X03      X14\n",
       "11    2022  R1X4        X04      X13\n",
       "12    2022  R1X5        X05      X12\n",
       "13    2022  R1X6        X06      X11\n",
       "14    2022  R1X7        X07      X10\n",
       "15    2022  R1X8        X08      X09\n",
       "16    2022  R1Y1        Y01      Y16\n",
       "17    2022  R1Y2        Y02      Y15\n",
       "18    2022  R1Y3        Y03      Y14\n",
       "19    2022  R1Y4        Y04      Y13\n",
       "20    2022  R1Y5        Y05      Y12\n",
       "21    2022  R1Y6        Y06      Y11\n",
       "22    2022  R1Y7        Y07      Y10\n",
       "23    2022  R1Y8        Y08      Y09\n",
       "24    2022  R1Z1        Z01      Z16\n",
       "25    2022  R1Z2        Z02      Z15\n",
       "26    2022  R1Z3        Z03      Z14\n",
       "27    2022  R1Z4        Z04      Z13\n",
       "28    2022  R1Z5        Z05      Z12\n",
       "29    2022  R1Z6        Z06      Z11\n",
       "30    2022  R1Z7        Z07      Z10\n",
       "31    2022  R1Z8        Z08      Z09\n",
       "32    2022  R2W1       R1W1     R1W8\n",
       "33    2022  R2W2       R1W2     R1W7\n",
       "34    2022  R2W3       R1W3     R1W6\n",
       "35    2022  R2W4       R1W4     R1W5\n",
       "36    2022  R2X1       R1X1     R1X8\n",
       "37    2022  R2X2       R1X2     R1X7\n",
       "38    2022  R2X3       R1X3     R1X6\n",
       "39    2022  R2X4       R1X4     R1X5\n",
       "40    2022  R2Y1       R1Y1     R1Y8\n",
       "41    2022  R2Y2       R1Y2     R1Y7\n",
       "42    2022  R2Y3       R1Y3     R1Y6\n",
       "43    2022  R2Y4       R1Y4     R1Y5\n",
       "44    2022  R2Z1       R1Z1     R1Z8\n",
       "45    2022  R2Z2       R1Z2     R1Z7\n",
       "46    2022  R2Z3       R1Z3     R1Z6\n",
       "47    2022  R2Z4       R1Z4     R1Z5"
      ]
     },
     "execution_count": 72,
     "metadata": {},
     "output_type": "execute_result"
    }
   ],
   "source": [
    "df_slots_thisyear_men = df_slots_men[df_slots_men['Season']==year]\n",
    "df_slots_thisyear_men = df_slots_thisyear_men.reset_index(drop=True)\n",
    "df_slots_thisyear_men.head(48)"
   ]
  },
  {
   "cell_type": "code",
   "execution_count": 73,
   "metadata": {},
   "outputs": [
    {
     "data": {
      "text/html": [
       "<div>\n",
       "<style scoped>\n",
       "    .dataframe tbody tr th:only-of-type {\n",
       "        vertical-align: middle;\n",
       "    }\n",
       "\n",
       "    .dataframe tbody tr th {\n",
       "        vertical-align: top;\n",
       "    }\n",
       "\n",
       "    .dataframe thead th {\n",
       "        text-align: right;\n",
       "    }\n",
       "</style>\n",
       "<table border=\"1\" class=\"dataframe\">\n",
       "  <thead>\n",
       "    <tr style=\"text-align: right;\">\n",
       "      <th></th>\n",
       "      <th>Season</th>\n",
       "      <th>Slot</th>\n",
       "      <th>StrongSeed</th>\n",
       "      <th>WeakSeed</th>\n",
       "    </tr>\n",
       "  </thead>\n",
       "  <tbody>\n",
       "    <tr>\n",
       "      <th>0</th>\n",
       "      <td>1985</td>\n",
       "      <td>R1W1</td>\n",
       "      <td>W01</td>\n",
       "      <td>W16</td>\n",
       "    </tr>\n",
       "    <tr>\n",
       "      <th>1</th>\n",
       "      <td>1985</td>\n",
       "      <td>R1W2</td>\n",
       "      <td>W02</td>\n",
       "      <td>W15</td>\n",
       "    </tr>\n",
       "    <tr>\n",
       "      <th>2</th>\n",
       "      <td>1985</td>\n",
       "      <td>R1W3</td>\n",
       "      <td>W03</td>\n",
       "      <td>W14</td>\n",
       "    </tr>\n",
       "    <tr>\n",
       "      <th>3</th>\n",
       "      <td>1985</td>\n",
       "      <td>R1W4</td>\n",
       "      <td>W04</td>\n",
       "      <td>W13</td>\n",
       "    </tr>\n",
       "    <tr>\n",
       "      <th>4</th>\n",
       "      <td>1985</td>\n",
       "      <td>R1W5</td>\n",
       "      <td>W05</td>\n",
       "      <td>W12</td>\n",
       "    </tr>\n",
       "  </tbody>\n",
       "</table>\n",
       "</div>"
      ],
      "text/plain": [
       "   Season  Slot StrongSeed WeakSeed\n",
       "0    1985  R1W1        W01      W16\n",
       "1    1985  R1W2        W02      W15\n",
       "2    1985  R1W3        W03      W14\n",
       "3    1985  R1W4        W04      W13\n",
       "4    1985  R1W5        W05      W12"
      ]
     },
     "execution_count": 73,
     "metadata": {},
     "output_type": "execute_result"
    }
   ],
   "source": [
    "#read in the tournament slot data\n",
    "df_slots_women = pd.read_csv('/Users/tamraheberling/Documents/data_ml/MarchMadness/data/2022/raw/MNCAATourneySlots.csv')\n",
    "#df_slots_women = pd.read_csv('/Users/tamraheberling/Documents/data_ml/MarchMadness2023/data/raw/WNCAATourneySlots.csv')\n",
    "df_slots_women.head()"
   ]
  },
  {
   "cell_type": "code",
   "execution_count": 74,
   "metadata": {},
   "outputs": [
    {
     "data": {
      "text/html": [
       "<div>\n",
       "<style scoped>\n",
       "    .dataframe tbody tr th:only-of-type {\n",
       "        vertical-align: middle;\n",
       "    }\n",
       "\n",
       "    .dataframe tbody tr th {\n",
       "        vertical-align: top;\n",
       "    }\n",
       "\n",
       "    .dataframe thead th {\n",
       "        text-align: right;\n",
       "    }\n",
       "</style>\n",
       "<table border=\"1\" class=\"dataframe\">\n",
       "  <thead>\n",
       "    <tr style=\"text-align: right;\">\n",
       "      <th></th>\n",
       "      <th>Season</th>\n",
       "      <th>Slot</th>\n",
       "      <th>StrongSeed</th>\n",
       "      <th>WeakSeed</th>\n",
       "    </tr>\n",
       "  </thead>\n",
       "  <tbody>\n",
       "    <tr>\n",
       "      <th>0</th>\n",
       "      <td>2022</td>\n",
       "      <td>R1W1</td>\n",
       "      <td>W01</td>\n",
       "      <td>W16</td>\n",
       "    </tr>\n",
       "    <tr>\n",
       "      <th>1</th>\n",
       "      <td>2022</td>\n",
       "      <td>R1W2</td>\n",
       "      <td>W02</td>\n",
       "      <td>W15</td>\n",
       "    </tr>\n",
       "    <tr>\n",
       "      <th>2</th>\n",
       "      <td>2022</td>\n",
       "      <td>R1W3</td>\n",
       "      <td>W03</td>\n",
       "      <td>W14</td>\n",
       "    </tr>\n",
       "    <tr>\n",
       "      <th>3</th>\n",
       "      <td>2022</td>\n",
       "      <td>R1W4</td>\n",
       "      <td>W04</td>\n",
       "      <td>W13</td>\n",
       "    </tr>\n",
       "    <tr>\n",
       "      <th>4</th>\n",
       "      <td>2022</td>\n",
       "      <td>R1W5</td>\n",
       "      <td>W05</td>\n",
       "      <td>W12</td>\n",
       "    </tr>\n",
       "    <tr>\n",
       "      <th>5</th>\n",
       "      <td>2022</td>\n",
       "      <td>R1W6</td>\n",
       "      <td>W06</td>\n",
       "      <td>W11</td>\n",
       "    </tr>\n",
       "    <tr>\n",
       "      <th>6</th>\n",
       "      <td>2022</td>\n",
       "      <td>R1W7</td>\n",
       "      <td>W07</td>\n",
       "      <td>W10</td>\n",
       "    </tr>\n",
       "    <tr>\n",
       "      <th>7</th>\n",
       "      <td>2022</td>\n",
       "      <td>R1W8</td>\n",
       "      <td>W08</td>\n",
       "      <td>W09</td>\n",
       "    </tr>\n",
       "    <tr>\n",
       "      <th>8</th>\n",
       "      <td>2022</td>\n",
       "      <td>R1X1</td>\n",
       "      <td>X01</td>\n",
       "      <td>X16</td>\n",
       "    </tr>\n",
       "    <tr>\n",
       "      <th>9</th>\n",
       "      <td>2022</td>\n",
       "      <td>R1X2</td>\n",
       "      <td>X02</td>\n",
       "      <td>X15</td>\n",
       "    </tr>\n",
       "    <tr>\n",
       "      <th>10</th>\n",
       "      <td>2022</td>\n",
       "      <td>R1X3</td>\n",
       "      <td>X03</td>\n",
       "      <td>X14</td>\n",
       "    </tr>\n",
       "    <tr>\n",
       "      <th>11</th>\n",
       "      <td>2022</td>\n",
       "      <td>R1X4</td>\n",
       "      <td>X04</td>\n",
       "      <td>X13</td>\n",
       "    </tr>\n",
       "    <tr>\n",
       "      <th>12</th>\n",
       "      <td>2022</td>\n",
       "      <td>R1X5</td>\n",
       "      <td>X05</td>\n",
       "      <td>X12</td>\n",
       "    </tr>\n",
       "    <tr>\n",
       "      <th>13</th>\n",
       "      <td>2022</td>\n",
       "      <td>R1X6</td>\n",
       "      <td>X06</td>\n",
       "      <td>X11</td>\n",
       "    </tr>\n",
       "    <tr>\n",
       "      <th>14</th>\n",
       "      <td>2022</td>\n",
       "      <td>R1X7</td>\n",
       "      <td>X07</td>\n",
       "      <td>X10</td>\n",
       "    </tr>\n",
       "    <tr>\n",
       "      <th>15</th>\n",
       "      <td>2022</td>\n",
       "      <td>R1X8</td>\n",
       "      <td>X08</td>\n",
       "      <td>X09</td>\n",
       "    </tr>\n",
       "    <tr>\n",
       "      <th>16</th>\n",
       "      <td>2022</td>\n",
       "      <td>R1Y1</td>\n",
       "      <td>Y01</td>\n",
       "      <td>Y16</td>\n",
       "    </tr>\n",
       "    <tr>\n",
       "      <th>17</th>\n",
       "      <td>2022</td>\n",
       "      <td>R1Y2</td>\n",
       "      <td>Y02</td>\n",
       "      <td>Y15</td>\n",
       "    </tr>\n",
       "    <tr>\n",
       "      <th>18</th>\n",
       "      <td>2022</td>\n",
       "      <td>R1Y3</td>\n",
       "      <td>Y03</td>\n",
       "      <td>Y14</td>\n",
       "    </tr>\n",
       "    <tr>\n",
       "      <th>19</th>\n",
       "      <td>2022</td>\n",
       "      <td>R1Y4</td>\n",
       "      <td>Y04</td>\n",
       "      <td>Y13</td>\n",
       "    </tr>\n",
       "    <tr>\n",
       "      <th>20</th>\n",
       "      <td>2022</td>\n",
       "      <td>R1Y5</td>\n",
       "      <td>Y05</td>\n",
       "      <td>Y12</td>\n",
       "    </tr>\n",
       "    <tr>\n",
       "      <th>21</th>\n",
       "      <td>2022</td>\n",
       "      <td>R1Y6</td>\n",
       "      <td>Y06</td>\n",
       "      <td>Y11</td>\n",
       "    </tr>\n",
       "    <tr>\n",
       "      <th>22</th>\n",
       "      <td>2022</td>\n",
       "      <td>R1Y7</td>\n",
       "      <td>Y07</td>\n",
       "      <td>Y10</td>\n",
       "    </tr>\n",
       "    <tr>\n",
       "      <th>23</th>\n",
       "      <td>2022</td>\n",
       "      <td>R1Y8</td>\n",
       "      <td>Y08</td>\n",
       "      <td>Y09</td>\n",
       "    </tr>\n",
       "    <tr>\n",
       "      <th>24</th>\n",
       "      <td>2022</td>\n",
       "      <td>R1Z1</td>\n",
       "      <td>Z01</td>\n",
       "      <td>Z16</td>\n",
       "    </tr>\n",
       "    <tr>\n",
       "      <th>25</th>\n",
       "      <td>2022</td>\n",
       "      <td>R1Z2</td>\n",
       "      <td>Z02</td>\n",
       "      <td>Z15</td>\n",
       "    </tr>\n",
       "    <tr>\n",
       "      <th>26</th>\n",
       "      <td>2022</td>\n",
       "      <td>R1Z3</td>\n",
       "      <td>Z03</td>\n",
       "      <td>Z14</td>\n",
       "    </tr>\n",
       "    <tr>\n",
       "      <th>27</th>\n",
       "      <td>2022</td>\n",
       "      <td>R1Z4</td>\n",
       "      <td>Z04</td>\n",
       "      <td>Z13</td>\n",
       "    </tr>\n",
       "    <tr>\n",
       "      <th>28</th>\n",
       "      <td>2022</td>\n",
       "      <td>R1Z5</td>\n",
       "      <td>Z05</td>\n",
       "      <td>Z12</td>\n",
       "    </tr>\n",
       "    <tr>\n",
       "      <th>29</th>\n",
       "      <td>2022</td>\n",
       "      <td>R1Z6</td>\n",
       "      <td>Z06</td>\n",
       "      <td>Z11</td>\n",
       "    </tr>\n",
       "    <tr>\n",
       "      <th>30</th>\n",
       "      <td>2022</td>\n",
       "      <td>R1Z7</td>\n",
       "      <td>Z07</td>\n",
       "      <td>Z10</td>\n",
       "    </tr>\n",
       "    <tr>\n",
       "      <th>31</th>\n",
       "      <td>2022</td>\n",
       "      <td>R1Z8</td>\n",
       "      <td>Z08</td>\n",
       "      <td>Z09</td>\n",
       "    </tr>\n",
       "    <tr>\n",
       "      <th>32</th>\n",
       "      <td>2022</td>\n",
       "      <td>R2W1</td>\n",
       "      <td>R1W1</td>\n",
       "      <td>R1W8</td>\n",
       "    </tr>\n",
       "    <tr>\n",
       "      <th>33</th>\n",
       "      <td>2022</td>\n",
       "      <td>R2W2</td>\n",
       "      <td>R1W2</td>\n",
       "      <td>R1W7</td>\n",
       "    </tr>\n",
       "    <tr>\n",
       "      <th>34</th>\n",
       "      <td>2022</td>\n",
       "      <td>R2W3</td>\n",
       "      <td>R1W3</td>\n",
       "      <td>R1W6</td>\n",
       "    </tr>\n",
       "    <tr>\n",
       "      <th>35</th>\n",
       "      <td>2022</td>\n",
       "      <td>R2W4</td>\n",
       "      <td>R1W4</td>\n",
       "      <td>R1W5</td>\n",
       "    </tr>\n",
       "    <tr>\n",
       "      <th>36</th>\n",
       "      <td>2022</td>\n",
       "      <td>R2X1</td>\n",
       "      <td>R1X1</td>\n",
       "      <td>R1X8</td>\n",
       "    </tr>\n",
       "    <tr>\n",
       "      <th>37</th>\n",
       "      <td>2022</td>\n",
       "      <td>R2X2</td>\n",
       "      <td>R1X2</td>\n",
       "      <td>R1X7</td>\n",
       "    </tr>\n",
       "    <tr>\n",
       "      <th>38</th>\n",
       "      <td>2022</td>\n",
       "      <td>R2X3</td>\n",
       "      <td>R1X3</td>\n",
       "      <td>R1X6</td>\n",
       "    </tr>\n",
       "    <tr>\n",
       "      <th>39</th>\n",
       "      <td>2022</td>\n",
       "      <td>R2X4</td>\n",
       "      <td>R1X4</td>\n",
       "      <td>R1X5</td>\n",
       "    </tr>\n",
       "    <tr>\n",
       "      <th>40</th>\n",
       "      <td>2022</td>\n",
       "      <td>R2Y1</td>\n",
       "      <td>R1Y1</td>\n",
       "      <td>R1Y8</td>\n",
       "    </tr>\n",
       "    <tr>\n",
       "      <th>41</th>\n",
       "      <td>2022</td>\n",
       "      <td>R2Y2</td>\n",
       "      <td>R1Y2</td>\n",
       "      <td>R1Y7</td>\n",
       "    </tr>\n",
       "    <tr>\n",
       "      <th>42</th>\n",
       "      <td>2022</td>\n",
       "      <td>R2Y3</td>\n",
       "      <td>R1Y3</td>\n",
       "      <td>R1Y6</td>\n",
       "    </tr>\n",
       "    <tr>\n",
       "      <th>43</th>\n",
       "      <td>2022</td>\n",
       "      <td>R2Y4</td>\n",
       "      <td>R1Y4</td>\n",
       "      <td>R1Y5</td>\n",
       "    </tr>\n",
       "    <tr>\n",
       "      <th>44</th>\n",
       "      <td>2022</td>\n",
       "      <td>R2Z1</td>\n",
       "      <td>R1Z1</td>\n",
       "      <td>R1Z8</td>\n",
       "    </tr>\n",
       "    <tr>\n",
       "      <th>45</th>\n",
       "      <td>2022</td>\n",
       "      <td>R2Z2</td>\n",
       "      <td>R1Z2</td>\n",
       "      <td>R1Z7</td>\n",
       "    </tr>\n",
       "    <tr>\n",
       "      <th>46</th>\n",
       "      <td>2022</td>\n",
       "      <td>R2Z3</td>\n",
       "      <td>R1Z3</td>\n",
       "      <td>R1Z6</td>\n",
       "    </tr>\n",
       "    <tr>\n",
       "      <th>47</th>\n",
       "      <td>2022</td>\n",
       "      <td>R2Z4</td>\n",
       "      <td>R1Z4</td>\n",
       "      <td>R1Z5</td>\n",
       "    </tr>\n",
       "  </tbody>\n",
       "</table>\n",
       "</div>"
      ],
      "text/plain": [
       "    Season  Slot StrongSeed WeakSeed\n",
       "0     2022  R1W1        W01      W16\n",
       "1     2022  R1W2        W02      W15\n",
       "2     2022  R1W3        W03      W14\n",
       "3     2022  R1W4        W04      W13\n",
       "4     2022  R1W5        W05      W12\n",
       "5     2022  R1W6        W06      W11\n",
       "6     2022  R1W7        W07      W10\n",
       "7     2022  R1W8        W08      W09\n",
       "8     2022  R1X1        X01      X16\n",
       "9     2022  R1X2        X02      X15\n",
       "10    2022  R1X3        X03      X14\n",
       "11    2022  R1X4        X04      X13\n",
       "12    2022  R1X5        X05      X12\n",
       "13    2022  R1X6        X06      X11\n",
       "14    2022  R1X7        X07      X10\n",
       "15    2022  R1X8        X08      X09\n",
       "16    2022  R1Y1        Y01      Y16\n",
       "17    2022  R1Y2        Y02      Y15\n",
       "18    2022  R1Y3        Y03      Y14\n",
       "19    2022  R1Y4        Y04      Y13\n",
       "20    2022  R1Y5        Y05      Y12\n",
       "21    2022  R1Y6        Y06      Y11\n",
       "22    2022  R1Y7        Y07      Y10\n",
       "23    2022  R1Y8        Y08      Y09\n",
       "24    2022  R1Z1        Z01      Z16\n",
       "25    2022  R1Z2        Z02      Z15\n",
       "26    2022  R1Z3        Z03      Z14\n",
       "27    2022  R1Z4        Z04      Z13\n",
       "28    2022  R1Z5        Z05      Z12\n",
       "29    2022  R1Z6        Z06      Z11\n",
       "30    2022  R1Z7        Z07      Z10\n",
       "31    2022  R1Z8        Z08      Z09\n",
       "32    2022  R2W1       R1W1     R1W8\n",
       "33    2022  R2W2       R1W2     R1W7\n",
       "34    2022  R2W3       R1W3     R1W6\n",
       "35    2022  R2W4       R1W4     R1W5\n",
       "36    2022  R2X1       R1X1     R1X8\n",
       "37    2022  R2X2       R1X2     R1X7\n",
       "38    2022  R2X3       R1X3     R1X6\n",
       "39    2022  R2X4       R1X4     R1X5\n",
       "40    2022  R2Y1       R1Y1     R1Y8\n",
       "41    2022  R2Y2       R1Y2     R1Y7\n",
       "42    2022  R2Y3       R1Y3     R1Y6\n",
       "43    2022  R2Y4       R1Y4     R1Y5\n",
       "44    2022  R2Z1       R1Z1     R1Z8\n",
       "45    2022  R2Z2       R1Z2     R1Z7\n",
       "46    2022  R2Z3       R1Z3     R1Z6\n",
       "47    2022  R2Z4       R1Z4     R1Z5"
      ]
     },
     "execution_count": 74,
     "metadata": {},
     "output_type": "execute_result"
    }
   ],
   "source": [
    "df_slots_thisyear_women = df_slots_women[df_slots_women['Season']==year]\n",
    "df_slots_thisyear_women = df_slots_thisyear_women.reset_index(drop=True)\n",
    "df_slots_thisyear_women.head(48)"
   ]
  },
  {
   "cell_type": "code",
   "execution_count": 75,
   "metadata": {},
   "outputs": [
    {
     "data": {
      "text/html": [
       "<div>\n",
       "<style scoped>\n",
       "    .dataframe tbody tr th:only-of-type {\n",
       "        vertical-align: middle;\n",
       "    }\n",
       "\n",
       "    .dataframe tbody tr th {\n",
       "        vertical-align: top;\n",
       "    }\n",
       "\n",
       "    .dataframe thead th {\n",
       "        text-align: right;\n",
       "    }\n",
       "</style>\n",
       "<table border=\"1\" class=\"dataframe\">\n",
       "  <thead>\n",
       "    <tr style=\"text-align: right;\">\n",
       "      <th></th>\n",
       "      <th>Season</th>\n",
       "      <th>Slot</th>\n",
       "      <th>StrongSeed</th>\n",
       "      <th>WeakSeed</th>\n",
       "    </tr>\n",
       "  </thead>\n",
       "  <tbody>\n",
       "    <tr>\n",
       "      <th>57</th>\n",
       "      <td>2022</td>\n",
       "      <td>R4X1</td>\n",
       "      <td>R3X1</td>\n",
       "      <td>R3X2</td>\n",
       "    </tr>\n",
       "    <tr>\n",
       "      <th>58</th>\n",
       "      <td>2022</td>\n",
       "      <td>R4Y1</td>\n",
       "      <td>R3Y1</td>\n",
       "      <td>R3Y2</td>\n",
       "    </tr>\n",
       "    <tr>\n",
       "      <th>59</th>\n",
       "      <td>2022</td>\n",
       "      <td>R4Z1</td>\n",
       "      <td>R3Z1</td>\n",
       "      <td>R3Z2</td>\n",
       "    </tr>\n",
       "    <tr>\n",
       "      <th>60</th>\n",
       "      <td>2022</td>\n",
       "      <td>R5WX</td>\n",
       "      <td>R4W1</td>\n",
       "      <td>R4X1</td>\n",
       "    </tr>\n",
       "    <tr>\n",
       "      <th>61</th>\n",
       "      <td>2022</td>\n",
       "      <td>R5YZ</td>\n",
       "      <td>R4Y1</td>\n",
       "      <td>R4Z1</td>\n",
       "    </tr>\n",
       "    <tr>\n",
       "      <th>62</th>\n",
       "      <td>2022</td>\n",
       "      <td>R6CH</td>\n",
       "      <td>R5WX</td>\n",
       "      <td>R5YZ</td>\n",
       "    </tr>\n",
       "    <tr>\n",
       "      <th>63</th>\n",
       "      <td>2022</td>\n",
       "      <td>W12</td>\n",
       "      <td>W12a</td>\n",
       "      <td>W12b</td>\n",
       "    </tr>\n",
       "    <tr>\n",
       "      <th>64</th>\n",
       "      <td>2022</td>\n",
       "      <td>X11</td>\n",
       "      <td>X11a</td>\n",
       "      <td>X11b</td>\n",
       "    </tr>\n",
       "    <tr>\n",
       "      <th>65</th>\n",
       "      <td>2022</td>\n",
       "      <td>Y16</td>\n",
       "      <td>Y16a</td>\n",
       "      <td>Y16b</td>\n",
       "    </tr>\n",
       "    <tr>\n",
       "      <th>66</th>\n",
       "      <td>2022</td>\n",
       "      <td>Z16</td>\n",
       "      <td>Z16a</td>\n",
       "      <td>Z16b</td>\n",
       "    </tr>\n",
       "  </tbody>\n",
       "</table>\n",
       "</div>"
      ],
      "text/plain": [
       "    Season  Slot StrongSeed WeakSeed\n",
       "57    2022  R4X1       R3X1     R3X2\n",
       "58    2022  R4Y1       R3Y1     R3Y2\n",
       "59    2022  R4Z1       R3Z1     R3Z2\n",
       "60    2022  R5WX       R4W1     R4X1\n",
       "61    2022  R5YZ       R4Y1     R4Z1\n",
       "62    2022  R6CH       R5WX     R5YZ\n",
       "63    2022   W12       W12a     W12b\n",
       "64    2022   X11       X11a     X11b\n",
       "65    2022   Y16       Y16a     Y16b\n",
       "66    2022   Z16       Z16a     Z16b"
      ]
     },
     "execution_count": 75,
     "metadata": {},
     "output_type": "execute_result"
    }
   ],
   "source": [
    "df_slots_thisyear_men.tail(10)"
   ]
  },
  {
   "cell_type": "code",
   "execution_count": 76,
   "metadata": {},
   "outputs": [
    {
     "data": {
      "text/html": [
       "<div>\n",
       "<style scoped>\n",
       "    .dataframe tbody tr th:only-of-type {\n",
       "        vertical-align: middle;\n",
       "    }\n",
       "\n",
       "    .dataframe tbody tr th {\n",
       "        vertical-align: top;\n",
       "    }\n",
       "\n",
       "    .dataframe thead th {\n",
       "        text-align: right;\n",
       "    }\n",
       "</style>\n",
       "<table border=\"1\" class=\"dataframe\">\n",
       "  <thead>\n",
       "    <tr style=\"text-align: right;\">\n",
       "      <th></th>\n",
       "      <th>Season</th>\n",
       "      <th>Seed</th>\n",
       "      <th>TeamID</th>\n",
       "    </tr>\n",
       "  </thead>\n",
       "  <tbody>\n",
       "    <tr>\n",
       "      <th>0</th>\n",
       "      <td>1985</td>\n",
       "      <td>W01</td>\n",
       "      <td>1207</td>\n",
       "    </tr>\n",
       "    <tr>\n",
       "      <th>1</th>\n",
       "      <td>1985</td>\n",
       "      <td>W02</td>\n",
       "      <td>1210</td>\n",
       "    </tr>\n",
       "    <tr>\n",
       "      <th>2</th>\n",
       "      <td>1985</td>\n",
       "      <td>W03</td>\n",
       "      <td>1228</td>\n",
       "    </tr>\n",
       "    <tr>\n",
       "      <th>3</th>\n",
       "      <td>1985</td>\n",
       "      <td>W04</td>\n",
       "      <td>1260</td>\n",
       "    </tr>\n",
       "    <tr>\n",
       "      <th>4</th>\n",
       "      <td>1985</td>\n",
       "      <td>W05</td>\n",
       "      <td>1374</td>\n",
       "    </tr>\n",
       "  </tbody>\n",
       "</table>\n",
       "</div>"
      ],
      "text/plain": [
       "   Season Seed  TeamID\n",
       "0    1985  W01    1207\n",
       "1    1985  W02    1210\n",
       "2    1985  W03    1228\n",
       "3    1985  W04    1260\n",
       "4    1985  W05    1374"
      ]
     },
     "execution_count": 76,
     "metadata": {},
     "output_type": "execute_result"
    }
   ],
   "source": [
    "#read in the tournament seed data data\n",
    "df_seeds_men = pd.read_csv('/Users/tamraheberling/Documents/data_ml/MarchMadness/data/2022/raw/MNCAATourneySeeds.csv')\n",
    "#df_seeds_women = pd.read_csv('/Users/tamraheberling/Documents/data_ml/MarchMadness2023/data/raw/WNCAATourneySeeds.csv')\n",
    "df_seeds_men.head()"
   ]
  },
  {
   "cell_type": "code",
   "execution_count": 77,
   "metadata": {},
   "outputs": [
    {
     "data": {
      "text/html": [
       "<div>\n",
       "<style scoped>\n",
       "    .dataframe tbody tr th:only-of-type {\n",
       "        vertical-align: middle;\n",
       "    }\n",
       "\n",
       "    .dataframe tbody tr th {\n",
       "        vertical-align: top;\n",
       "    }\n",
       "\n",
       "    .dataframe thead th {\n",
       "        text-align: right;\n",
       "    }\n",
       "</style>\n",
       "<table border=\"1\" class=\"dataframe\">\n",
       "  <thead>\n",
       "    <tr style=\"text-align: right;\">\n",
       "      <th></th>\n",
       "      <th>Season</th>\n",
       "      <th>Seed</th>\n",
       "      <th>TeamID</th>\n",
       "    </tr>\n",
       "  </thead>\n",
       "  <tbody>\n",
       "    <tr>\n",
       "      <th>0</th>\n",
       "      <td>2022</td>\n",
       "      <td>W01</td>\n",
       "      <td>1124</td>\n",
       "    </tr>\n",
       "    <tr>\n",
       "      <th>1</th>\n",
       "      <td>2022</td>\n",
       "      <td>W02</td>\n",
       "      <td>1246</td>\n",
       "    </tr>\n",
       "    <tr>\n",
       "      <th>2</th>\n",
       "      <td>2022</td>\n",
       "      <td>W03</td>\n",
       "      <td>1345</td>\n",
       "    </tr>\n",
       "    <tr>\n",
       "      <th>3</th>\n",
       "      <td>2022</td>\n",
       "      <td>W04</td>\n",
       "      <td>1417</td>\n",
       "    </tr>\n",
       "    <tr>\n",
       "      <th>4</th>\n",
       "      <td>2022</td>\n",
       "      <td>W05</td>\n",
       "      <td>1388</td>\n",
       "    </tr>\n",
       "    <tr>\n",
       "      <th>5</th>\n",
       "      <td>2022</td>\n",
       "      <td>W06</td>\n",
       "      <td>1400</td>\n",
       "    </tr>\n",
       "    <tr>\n",
       "      <th>6</th>\n",
       "      <td>2022</td>\n",
       "      <td>W07</td>\n",
       "      <td>1293</td>\n",
       "    </tr>\n",
       "    <tr>\n",
       "      <th>7</th>\n",
       "      <td>2022</td>\n",
       "      <td>W08</td>\n",
       "      <td>1314</td>\n",
       "    </tr>\n",
       "    <tr>\n",
       "      <th>8</th>\n",
       "      <td>2022</td>\n",
       "      <td>W09</td>\n",
       "      <td>1266</td>\n",
       "    </tr>\n",
       "    <tr>\n",
       "      <th>9</th>\n",
       "      <td>2022</td>\n",
       "      <td>W10</td>\n",
       "      <td>1362</td>\n",
       "    </tr>\n",
       "    <tr>\n",
       "      <th>10</th>\n",
       "      <td>2022</td>\n",
       "      <td>W11</td>\n",
       "      <td>1439</td>\n",
       "    </tr>\n",
       "    <tr>\n",
       "      <th>11</th>\n",
       "      <td>2022</td>\n",
       "      <td>W12a</td>\n",
       "      <td>1231</td>\n",
       "    </tr>\n",
       "    <tr>\n",
       "      <th>12</th>\n",
       "      <td>2022</td>\n",
       "      <td>W12b</td>\n",
       "      <td>1461</td>\n",
       "    </tr>\n",
       "    <tr>\n",
       "      <th>13</th>\n",
       "      <td>2022</td>\n",
       "      <td>W13</td>\n",
       "      <td>1103</td>\n",
       "    </tr>\n",
       "    <tr>\n",
       "      <th>14</th>\n",
       "      <td>2022</td>\n",
       "      <td>W14</td>\n",
       "      <td>1463</td>\n",
       "    </tr>\n",
       "    <tr>\n",
       "      <th>15</th>\n",
       "      <td>2022</td>\n",
       "      <td>W15</td>\n",
       "      <td>1389</td>\n",
       "    </tr>\n",
       "    <tr>\n",
       "      <th>16</th>\n",
       "      <td>2022</td>\n",
       "      <td>W16</td>\n",
       "      <td>1313</td>\n",
       "    </tr>\n",
       "    <tr>\n",
       "      <th>17</th>\n",
       "      <td>2022</td>\n",
       "      <td>X01</td>\n",
       "      <td>1211</td>\n",
       "    </tr>\n",
       "    <tr>\n",
       "      <th>18</th>\n",
       "      <td>2022</td>\n",
       "      <td>X02</td>\n",
       "      <td>1181</td>\n",
       "    </tr>\n",
       "    <tr>\n",
       "      <th>19</th>\n",
       "      <td>2022</td>\n",
       "      <td>X03</td>\n",
       "      <td>1403</td>\n",
       "    </tr>\n",
       "  </tbody>\n",
       "</table>\n",
       "</div>"
      ],
      "text/plain": [
       "    Season  Seed  TeamID\n",
       "0     2022   W01    1124\n",
       "1     2022   W02    1246\n",
       "2     2022   W03    1345\n",
       "3     2022   W04    1417\n",
       "4     2022   W05    1388\n",
       "5     2022   W06    1400\n",
       "6     2022   W07    1293\n",
       "7     2022   W08    1314\n",
       "8     2022   W09    1266\n",
       "9     2022   W10    1362\n",
       "10    2022   W11    1439\n",
       "11    2022  W12a    1231\n",
       "12    2022  W12b    1461\n",
       "13    2022   W13    1103\n",
       "14    2022   W14    1463\n",
       "15    2022   W15    1389\n",
       "16    2022   W16    1313\n",
       "17    2022   X01    1211\n",
       "18    2022   X02    1181\n",
       "19    2022   X03    1403"
      ]
     },
     "execution_count": 77,
     "metadata": {},
     "output_type": "execute_result"
    }
   ],
   "source": [
    "df_seeds_thisyear_men = df_seeds_men[df_seeds_men['Season']==year]\n",
    "df_seeds_thisyear_men = df_seeds_thisyear_men.reset_index(drop=True)\n",
    "df_seeds_thisyear_men.head(20)"
   ]
  },
  {
   "cell_type": "code",
   "execution_count": 78,
   "metadata": {},
   "outputs": [
    {
     "data": {
      "text/html": [
       "<div>\n",
       "<style scoped>\n",
       "    .dataframe tbody tr th:only-of-type {\n",
       "        vertical-align: middle;\n",
       "    }\n",
       "\n",
       "    .dataframe tbody tr th {\n",
       "        vertical-align: top;\n",
       "    }\n",
       "\n",
       "    .dataframe thead th {\n",
       "        text-align: right;\n",
       "    }\n",
       "</style>\n",
       "<table border=\"1\" class=\"dataframe\">\n",
       "  <thead>\n",
       "    <tr style=\"text-align: right;\">\n",
       "      <th></th>\n",
       "      <th>Season</th>\n",
       "      <th>Seed</th>\n",
       "      <th>TeamID</th>\n",
       "    </tr>\n",
       "  </thead>\n",
       "  <tbody>\n",
       "    <tr>\n",
       "      <th>0</th>\n",
       "      <td>1985</td>\n",
       "      <td>W01</td>\n",
       "      <td>1207</td>\n",
       "    </tr>\n",
       "    <tr>\n",
       "      <th>1</th>\n",
       "      <td>1985</td>\n",
       "      <td>W02</td>\n",
       "      <td>1210</td>\n",
       "    </tr>\n",
       "    <tr>\n",
       "      <th>2</th>\n",
       "      <td>1985</td>\n",
       "      <td>W03</td>\n",
       "      <td>1228</td>\n",
       "    </tr>\n",
       "    <tr>\n",
       "      <th>3</th>\n",
       "      <td>1985</td>\n",
       "      <td>W04</td>\n",
       "      <td>1260</td>\n",
       "    </tr>\n",
       "    <tr>\n",
       "      <th>4</th>\n",
       "      <td>1985</td>\n",
       "      <td>W05</td>\n",
       "      <td>1374</td>\n",
       "    </tr>\n",
       "  </tbody>\n",
       "</table>\n",
       "</div>"
      ],
      "text/plain": [
       "   Season Seed  TeamID\n",
       "0    1985  W01    1207\n",
       "1    1985  W02    1210\n",
       "2    1985  W03    1228\n",
       "3    1985  W04    1260\n",
       "4    1985  W05    1374"
      ]
     },
     "execution_count": 78,
     "metadata": {},
     "output_type": "execute_result"
    }
   ],
   "source": [
    "#read in the tournament seed data data\n",
    "df_seeds_women = pd.read_csv('/Users/tamraheberling/Documents/data_ml/MarchMadness/data/2022/raw/MNCAATourneySeeds.csv')\n",
    "#df_seeds_women = pd.read_csv('/Users/tamraheberling/Documents/data_ml/MarchMadness2023/data/raw/WNCAATourneySeeds.csv')\n",
    "df_seeds_women.head()"
   ]
  },
  {
   "cell_type": "code",
   "execution_count": 79,
   "metadata": {},
   "outputs": [
    {
     "data": {
      "text/html": [
       "<div>\n",
       "<style scoped>\n",
       "    .dataframe tbody tr th:only-of-type {\n",
       "        vertical-align: middle;\n",
       "    }\n",
       "\n",
       "    .dataframe tbody tr th {\n",
       "        vertical-align: top;\n",
       "    }\n",
       "\n",
       "    .dataframe thead th {\n",
       "        text-align: right;\n",
       "    }\n",
       "</style>\n",
       "<table border=\"1\" class=\"dataframe\">\n",
       "  <thead>\n",
       "    <tr style=\"text-align: right;\">\n",
       "      <th></th>\n",
       "      <th>Season</th>\n",
       "      <th>Seed</th>\n",
       "      <th>TeamID</th>\n",
       "    </tr>\n",
       "  </thead>\n",
       "  <tbody>\n",
       "    <tr>\n",
       "      <th>0</th>\n",
       "      <td>2022</td>\n",
       "      <td>W01</td>\n",
       "      <td>1124</td>\n",
       "    </tr>\n",
       "    <tr>\n",
       "      <th>1</th>\n",
       "      <td>2022</td>\n",
       "      <td>W02</td>\n",
       "      <td>1246</td>\n",
       "    </tr>\n",
       "    <tr>\n",
       "      <th>2</th>\n",
       "      <td>2022</td>\n",
       "      <td>W03</td>\n",
       "      <td>1345</td>\n",
       "    </tr>\n",
       "    <tr>\n",
       "      <th>3</th>\n",
       "      <td>2022</td>\n",
       "      <td>W04</td>\n",
       "      <td>1417</td>\n",
       "    </tr>\n",
       "    <tr>\n",
       "      <th>4</th>\n",
       "      <td>2022</td>\n",
       "      <td>W05</td>\n",
       "      <td>1388</td>\n",
       "    </tr>\n",
       "    <tr>\n",
       "      <th>5</th>\n",
       "      <td>2022</td>\n",
       "      <td>W06</td>\n",
       "      <td>1400</td>\n",
       "    </tr>\n",
       "    <tr>\n",
       "      <th>6</th>\n",
       "      <td>2022</td>\n",
       "      <td>W07</td>\n",
       "      <td>1293</td>\n",
       "    </tr>\n",
       "    <tr>\n",
       "      <th>7</th>\n",
       "      <td>2022</td>\n",
       "      <td>W08</td>\n",
       "      <td>1314</td>\n",
       "    </tr>\n",
       "    <tr>\n",
       "      <th>8</th>\n",
       "      <td>2022</td>\n",
       "      <td>W09</td>\n",
       "      <td>1266</td>\n",
       "    </tr>\n",
       "    <tr>\n",
       "      <th>9</th>\n",
       "      <td>2022</td>\n",
       "      <td>W10</td>\n",
       "      <td>1362</td>\n",
       "    </tr>\n",
       "    <tr>\n",
       "      <th>10</th>\n",
       "      <td>2022</td>\n",
       "      <td>W11</td>\n",
       "      <td>1439</td>\n",
       "    </tr>\n",
       "    <tr>\n",
       "      <th>11</th>\n",
       "      <td>2022</td>\n",
       "      <td>W12a</td>\n",
       "      <td>1231</td>\n",
       "    </tr>\n",
       "    <tr>\n",
       "      <th>12</th>\n",
       "      <td>2022</td>\n",
       "      <td>W12b</td>\n",
       "      <td>1461</td>\n",
       "    </tr>\n",
       "    <tr>\n",
       "      <th>13</th>\n",
       "      <td>2022</td>\n",
       "      <td>W13</td>\n",
       "      <td>1103</td>\n",
       "    </tr>\n",
       "    <tr>\n",
       "      <th>14</th>\n",
       "      <td>2022</td>\n",
       "      <td>W14</td>\n",
       "      <td>1463</td>\n",
       "    </tr>\n",
       "    <tr>\n",
       "      <th>15</th>\n",
       "      <td>2022</td>\n",
       "      <td>W15</td>\n",
       "      <td>1389</td>\n",
       "    </tr>\n",
       "    <tr>\n",
       "      <th>16</th>\n",
       "      <td>2022</td>\n",
       "      <td>W16</td>\n",
       "      <td>1313</td>\n",
       "    </tr>\n",
       "    <tr>\n",
       "      <th>17</th>\n",
       "      <td>2022</td>\n",
       "      <td>X01</td>\n",
       "      <td>1211</td>\n",
       "    </tr>\n",
       "    <tr>\n",
       "      <th>18</th>\n",
       "      <td>2022</td>\n",
       "      <td>X02</td>\n",
       "      <td>1181</td>\n",
       "    </tr>\n",
       "    <tr>\n",
       "      <th>19</th>\n",
       "      <td>2022</td>\n",
       "      <td>X03</td>\n",
       "      <td>1403</td>\n",
       "    </tr>\n",
       "  </tbody>\n",
       "</table>\n",
       "</div>"
      ],
      "text/plain": [
       "    Season  Seed  TeamID\n",
       "0     2022   W01    1124\n",
       "1     2022   W02    1246\n",
       "2     2022   W03    1345\n",
       "3     2022   W04    1417\n",
       "4     2022   W05    1388\n",
       "5     2022   W06    1400\n",
       "6     2022   W07    1293\n",
       "7     2022   W08    1314\n",
       "8     2022   W09    1266\n",
       "9     2022   W10    1362\n",
       "10    2022   W11    1439\n",
       "11    2022  W12a    1231\n",
       "12    2022  W12b    1461\n",
       "13    2022   W13    1103\n",
       "14    2022   W14    1463\n",
       "15    2022   W15    1389\n",
       "16    2022   W16    1313\n",
       "17    2022   X01    1211\n",
       "18    2022   X02    1181\n",
       "19    2022   X03    1403"
      ]
     },
     "execution_count": 79,
     "metadata": {},
     "output_type": "execute_result"
    }
   ],
   "source": [
    "df_seeds_thisyear_women = df_seeds_women[df_seeds_women['Season']==year]\n",
    "df_seeds_thisyear_women = df_seeds_thisyear_women.reset_index(drop=True)\n",
    "df_seeds_thisyear_women.head(20)"
   ]
  },
  {
   "cell_type": "markdown",
   "metadata": {},
   "source": [
    "Rather than messing with the play-in games, let's take 11a and 16a as seed 11 and 16. Then we don't need to worry about it. "
   ]
  },
  {
   "cell_type": "code",
   "execution_count": 80,
   "metadata": {},
   "outputs": [],
   "source": [
    "df_seeds_thisyear_men.Seed.replace(['W12a','Y16a','X11a','Z16a'],['W12','Y16','X11','Z16'],inplace=True)\n",
    "vals_to_drop=['W12b','X11b','Y16b','Z16b']\n",
    "df_seeds_thisyear_men = df_seeds_thisyear_men[df_seeds_thisyear_men.Seed.isin(vals_to_drop) == False]\n",
    "df_seeds_thisyear_men.index = range(64)"
   ]
  },
  {
   "cell_type": "code",
   "execution_count": 81,
   "metadata": {},
   "outputs": [
    {
     "name": "stdout",
     "output_type": "stream",
     "text": [
      "    Season Seed  TeamID\n",
      "32    2022  Y01    1242\n",
      "33    2022  Y02    1120\n",
      "34    2022  Y03    1458\n",
      "35    2022  Y04    1344\n",
      "36    2022  Y05    1234\n",
      "37    2022  Y06    1261\n",
      "38    2022  Y07    1425\n",
      "39    2022  Y08    1361\n",
      "40    2022  Y09    1166\n",
      "41    2022  Y10    1274\n",
      "42    2022  Y11    1235\n",
      "43    2022  Y12    1350\n",
      "44    2022  Y13    1355\n",
      "45    2022  Y14    1159\n",
      "46    2022  Y15    1240\n",
      "47    2022  Y16    1394\n",
      "48    2022  Z01    1112\n",
      "49    2022  Z02    1437\n",
      "50    2022  Z03    1397\n",
      "51    2022  Z04    1228\n",
      "52    2022  Z05    1222\n",
      "53    2022  Z06    1161\n",
      "54    2022  Z07    1326\n",
      "55    2022  Z08    1371\n",
      "56    2022  Z09    1395\n",
      "57    2022  Z10    1260\n",
      "58    2022  Z11    1276\n",
      "59    2022  Z12    1412\n",
      "60    2022  Z13    1151\n",
      "61    2022  Z14    1255\n",
      "62    2022  Z15    1174\n",
      "63    2022  Z16    1136\n",
      "64\n"
     ]
    }
   ],
   "source": [
    "print(df_seeds_thisyear_men[32:64])\n",
    "print(len(df_seeds_thisyear_men))"
   ]
  },
  {
   "cell_type": "code",
   "execution_count": 82,
   "metadata": {},
   "outputs": [
    {
     "data": {
      "text/html": [
       "<div>\n",
       "<style scoped>\n",
       "    .dataframe tbody tr th:only-of-type {\n",
       "        vertical-align: middle;\n",
       "    }\n",
       "\n",
       "    .dataframe tbody tr th {\n",
       "        vertical-align: top;\n",
       "    }\n",
       "\n",
       "    .dataframe thead th {\n",
       "        text-align: right;\n",
       "    }\n",
       "</style>\n",
       "<table border=\"1\" class=\"dataframe\">\n",
       "  <thead>\n",
       "    <tr style=\"text-align: right;\">\n",
       "      <th></th>\n",
       "      <th>Season</th>\n",
       "      <th>Seed</th>\n",
       "      <th>TeamID</th>\n",
       "    </tr>\n",
       "  </thead>\n",
       "  <tbody>\n",
       "    <tr>\n",
       "      <th>48</th>\n",
       "      <td>2022</td>\n",
       "      <td>Y15</td>\n",
       "      <td>1240</td>\n",
       "    </tr>\n",
       "    <tr>\n",
       "      <th>49</th>\n",
       "      <td>2022</td>\n",
       "      <td>Y16a</td>\n",
       "      <td>1394</td>\n",
       "    </tr>\n",
       "    <tr>\n",
       "      <th>50</th>\n",
       "      <td>2022</td>\n",
       "      <td>Y16b</td>\n",
       "      <td>1411</td>\n",
       "    </tr>\n",
       "    <tr>\n",
       "      <th>51</th>\n",
       "      <td>2022</td>\n",
       "      <td>Z01</td>\n",
       "      <td>1112</td>\n",
       "    </tr>\n",
       "    <tr>\n",
       "      <th>52</th>\n",
       "      <td>2022</td>\n",
       "      <td>Z02</td>\n",
       "      <td>1437</td>\n",
       "    </tr>\n",
       "    <tr>\n",
       "      <th>53</th>\n",
       "      <td>2022</td>\n",
       "      <td>Z03</td>\n",
       "      <td>1397</td>\n",
       "    </tr>\n",
       "    <tr>\n",
       "      <th>54</th>\n",
       "      <td>2022</td>\n",
       "      <td>Z04</td>\n",
       "      <td>1228</td>\n",
       "    </tr>\n",
       "    <tr>\n",
       "      <th>55</th>\n",
       "      <td>2022</td>\n",
       "      <td>Z05</td>\n",
       "      <td>1222</td>\n",
       "    </tr>\n",
       "    <tr>\n",
       "      <th>56</th>\n",
       "      <td>2022</td>\n",
       "      <td>Z06</td>\n",
       "      <td>1161</td>\n",
       "    </tr>\n",
       "    <tr>\n",
       "      <th>57</th>\n",
       "      <td>2022</td>\n",
       "      <td>Z07</td>\n",
       "      <td>1326</td>\n",
       "    </tr>\n",
       "    <tr>\n",
       "      <th>58</th>\n",
       "      <td>2022</td>\n",
       "      <td>Z08</td>\n",
       "      <td>1371</td>\n",
       "    </tr>\n",
       "    <tr>\n",
       "      <th>59</th>\n",
       "      <td>2022</td>\n",
       "      <td>Z09</td>\n",
       "      <td>1395</td>\n",
       "    </tr>\n",
       "    <tr>\n",
       "      <th>60</th>\n",
       "      <td>2022</td>\n",
       "      <td>Z10</td>\n",
       "      <td>1260</td>\n",
       "    </tr>\n",
       "    <tr>\n",
       "      <th>61</th>\n",
       "      <td>2022</td>\n",
       "      <td>Z11</td>\n",
       "      <td>1276</td>\n",
       "    </tr>\n",
       "    <tr>\n",
       "      <th>62</th>\n",
       "      <td>2022</td>\n",
       "      <td>Z12</td>\n",
       "      <td>1412</td>\n",
       "    </tr>\n",
       "    <tr>\n",
       "      <th>63</th>\n",
       "      <td>2022</td>\n",
       "      <td>Z13</td>\n",
       "      <td>1151</td>\n",
       "    </tr>\n",
       "    <tr>\n",
       "      <th>64</th>\n",
       "      <td>2022</td>\n",
       "      <td>Z14</td>\n",
       "      <td>1255</td>\n",
       "    </tr>\n",
       "    <tr>\n",
       "      <th>65</th>\n",
       "      <td>2022</td>\n",
       "      <td>Z15</td>\n",
       "      <td>1174</td>\n",
       "    </tr>\n",
       "    <tr>\n",
       "      <th>66</th>\n",
       "      <td>2022</td>\n",
       "      <td>Z16a</td>\n",
       "      <td>1136</td>\n",
       "    </tr>\n",
       "    <tr>\n",
       "      <th>67</th>\n",
       "      <td>2022</td>\n",
       "      <td>Z16b</td>\n",
       "      <td>1460</td>\n",
       "    </tr>\n",
       "  </tbody>\n",
       "</table>\n",
       "</div>"
      ],
      "text/plain": [
       "    Season  Seed  TeamID\n",
       "48    2022   Y15    1240\n",
       "49    2022  Y16a    1394\n",
       "50    2022  Y16b    1411\n",
       "51    2022   Z01    1112\n",
       "52    2022   Z02    1437\n",
       "53    2022   Z03    1397\n",
       "54    2022   Z04    1228\n",
       "55    2022   Z05    1222\n",
       "56    2022   Z06    1161\n",
       "57    2022   Z07    1326\n",
       "58    2022   Z08    1371\n",
       "59    2022   Z09    1395\n",
       "60    2022   Z10    1260\n",
       "61    2022   Z11    1276\n",
       "62    2022   Z12    1412\n",
       "63    2022   Z13    1151\n",
       "64    2022   Z14    1255\n",
       "65    2022   Z15    1174\n",
       "66    2022  Z16a    1136\n",
       "67    2022  Z16b    1460"
      ]
     },
     "execution_count": 82,
     "metadata": {},
     "output_type": "execute_result"
    }
   ],
   "source": [
    "df_seeds_thisyear_women.tail(20)"
   ]
  },
  {
   "cell_type": "code",
   "execution_count": 83,
   "metadata": {},
   "outputs": [],
   "source": [
    "df_seeds_thisyear_women.Seed.replace(['W12a','Y16a','X11a','Z16a'],['W12','Y16','X11','Z16'],inplace=True)\n",
    "vals_to_drop=['W12b','X11b','Y16b','Z16b']\n",
    "df_seeds_thisyear_women = df_seeds_thisyear_women[df_seeds_thisyear_women.Seed.isin(vals_to_drop) == False]\n",
    "df_seeds_thisyear_women.index = range(64)"
   ]
  },
  {
   "cell_type": "markdown",
   "metadata": {},
   "source": [
    "I think with these three dataframes, we can write a function that will take the slot information to find out which slots play eachother in each round. Then we use the seed data frame to look up which TeamID is associated with the slots. Then we look at our predictions to find out who we predicted to win. From there we should be able to label the winning teams with their seed for the next round and continue on. "
   ]
  },
  {
   "cell_type": "code",
   "execution_count": 84,
   "metadata": {},
   "outputs": [],
   "source": [
    "'''Make a dictionary of the rank of each team and the probability that they win the round'''\n",
    "def prob_win_rank(rank1, rank2, dict_region, dict_prob):\n",
    "    teamid1 = dict_region[rank1]\n",
    "    teamid2 = dict_region[rank2]\n",
    "    prob_teamid1, prob_teamid2 = prob_win(teamid1,teamid2)\n",
    "    dict_prob.update({rank1: prob_teamid1,rank2: prob_teamid2})\n",
    "    return dict_prob"
   ]
  },
  {
   "cell_type": "code",
   "execution_count": 85,
   "metadata": {},
   "outputs": [],
   "source": [
    "'''Given two teamIDs, calculate the probabality that each team wins the matchup'''\n",
    "def prob_win(teamid1=int,teamid2=int):\n",
    "    if teamid1 < teamid2:\n",
    "        id_pred = str(year)+'_'+str(teamid1)+'_'+str(teamid2)\n",
    "        pred = float(df_pred.Pred[df_pred.ID==id_pred])\n",
    "        prob_teamid1 = pred\n",
    "        prob_teamid2 = 1-pred\n",
    "    elif teamid2 < teamid1:\n",
    "        id_pred = str(year)+'_'+str(teamid2)+'_'+str(teamid1)\n",
    "        pred = float(df_pred.Pred[df_pred.ID==id_pred])\n",
    "        prob_teamid2 = pred\n",
    "        prob_teamid1 = 1-pred\n",
    "    return prob_teamid1, prob_teamid2"
   ]
  },
  {
   "cell_type": "code",
   "execution_count": 86,
   "metadata": {},
   "outputs": [],
   "source": [
    "'make a dictionary of the team seed and their id for each region'\n",
    "def seed_id(int1=int, int2=int):\n",
    "    seeds = [i+1 for i in range(16)]\n",
    "    TeamIDs = [int(df_seeds_thisyear_men.TeamID[j]) for j in range(int1,int2)]\n",
    "    dict_out = dict(zip(seeds,TeamIDs))\n",
    "    return dict_out"
   ]
  },
  {
   "cell_type": "code",
   "execution_count": 87,
   "metadata": {},
   "outputs": [],
   "source": [
    "'given a tuple, give the list containing the list of matchups in the next round'\n",
    "def tup_to_matchups(tup=tuple, half_len_of_tuple=int):\n",
    "    matchup_list = [[tup[i],tup[-i-1]] for i in range(half_len_of_tuple)]\n",
    "    return matchup_list"
   ]
  },
  {
   "cell_type": "code",
   "execution_count": 88,
   "metadata": {},
   "outputs": [],
   "source": [
    "'''function to calculate all the possible round results and their probabilities'''\n",
    "def round_results(round_num=int, half_of_teams_in_round=int, tup_match=tuple, prob=float, round_results_dict=dict):\n",
    "    #calculate all possible combinations of ranks in tup_match as a list of tuples\n",
    "    round_matchups = tup_to_matchups(tup_match,half_of_teams_in_round)\n",
    "    #possible_combos = list(product(*round_matchups))\n",
    "    '''use dict to pull the probability that each team in the tuple wins and multiply together to \n",
    "    calculate the probability of that tuple'''\n",
    "    for match in round_matchups:\n",
    "        round_results_dict = prob_win_rank(match[0],match[1])\n",
    "    return(round_results_dict)"
   ]
  },
  {
   "cell_type": "markdown",
   "metadata": {},
   "source": [
    "# Round 1"
   ]
  },
  {
   "cell_type": "code",
   "execution_count": 89,
   "metadata": {},
   "outputs": [],
   "source": [
    "'Calculate the rank and team id for each region'\n",
    "W_region = seed_id(0,16)\n",
    "X_region = seed_id(16,32)\n",
    "Y_region = seed_id(32,48)\n",
    "Z_region = seed_id(48,64)"
   ]
  },
  {
   "cell_type": "code",
   "execution_count": 90,
   "metadata": {},
   "outputs": [
    {
     "data": {
      "text/plain": [
       "{1: 1124,\n",
       " 2: 1246,\n",
       " 3: 1345,\n",
       " 4: 1417,\n",
       " 5: 1388,\n",
       " 6: 1400,\n",
       " 7: 1293,\n",
       " 8: 1314,\n",
       " 9: 1266,\n",
       " 10: 1362,\n",
       " 11: 1439,\n",
       " 12: 1231,\n",
       " 13: 1103,\n",
       " 14: 1463,\n",
       " 15: 1389,\n",
       " 16: 1313}"
      ]
     },
     "execution_count": 90,
     "metadata": {},
     "output_type": "execute_result"
    }
   ],
   "source": [
    "W_region"
   ]
  },
  {
   "cell_type": "code",
   "execution_count": 91,
   "metadata": {},
   "outputs": [
    {
     "data": {
      "text/plain": [
       "[[1, 16], [2, 15], [3, 14], [4, 13], [5, 12], [6, 11], [7, 10], [8, 9]]"
      ]
     },
     "execution_count": 91,
     "metadata": {},
     "output_type": "execute_result"
    }
   ],
   "source": [
    "tup_round1 = tuple(i+1 for i in range(16))\n",
    "round1_matchups = tup_to_matchups(tup_round1, 8)\n",
    "round1_matchups"
   ]
  },
  {
   "cell_type": "code",
   "execution_count": 92,
   "metadata": {},
   "outputs": [
    {
     "data": {
      "text/plain": [
       "{1: 0.878610331121106,\n",
       " 16: 0.12138966887889402,\n",
       " 2: 0.529673944750989,\n",
       " 15: 0.47032605524901105,\n",
       " 3: 0.431847623593129,\n",
       " 14: 0.568152376406871,\n",
       " 4: 0.43750808745857706,\n",
       " 13: 0.562491912541423,\n",
       " 5: 0.47032605524901105,\n",
       " 12: 0.529673944750989,\n",
       " 6: 0.651899860763005,\n",
       " 11: 0.348100139236995,\n",
       " 7: 0.529673944750989,\n",
       " 10: 0.47032605524901105,\n",
       " 8: 0.345772879339623,\n",
       " 9: 0.654227120660377}"
      ]
     },
     "execution_count": 92,
     "metadata": {},
     "output_type": "execute_result"
    }
   ],
   "source": [
    "round1_W = {}\n",
    "for match in round1_matchups:\n",
    "        round_results_dict = prob_win_rank(match[0],match[1],W_region,round1_W)\n",
    "round1_W"
   ]
  },
  {
   "cell_type": "markdown",
   "metadata": {},
   "source": [
    "With this information, you get to pick your own tuple to move onto the next round."
   ]
  },
  {
   "cell_type": "code",
   "execution_count": 95,
   "metadata": {},
   "outputs": [],
   "source": [
    "W_tup_round2 = [1,2,14,13,12,6,7,9]"
   ]
  },
  {
   "cell_type": "code",
   "execution_count": 94,
   "metadata": {},
   "outputs": [
    {
     "data": {
      "text/plain": [
       "{1: 0.45787014276206095,\n",
       " 16: 0.542129857237939,\n",
       " 2: 0.47032605524901105,\n",
       " 15: 0.529673944750989,\n",
       " 3: 0.451486175581419,\n",
       " 14: 0.548513824418581,\n",
       " 4: 0.430120208793486,\n",
       " 13: 0.569879791206514,\n",
       " 5: 0.500694845391225,\n",
       " 12: 0.499305154608775,\n",
       " 6: 0.403869374906998,\n",
       " 11: 0.5961306250930021,\n",
       " 7: 0.38546504258527803,\n",
       " 10: 0.614534957414722,\n",
       " 8: 0.529673944750989,\n",
       " 9: 0.47032605524901105}"
      ]
     },
     "execution_count": 94,
     "metadata": {},
     "output_type": "execute_result"
    }
   ],
   "source": [
    "round1_X = {}\n",
    "for match in round1_matchups:\n",
    "        round_results_dict = prob_win_rank(match[0],match[1],X_region,round1_X)\n",
    "round1_X"
   ]
  },
  {
   "cell_type": "code",
   "execution_count": 96,
   "metadata": {},
   "outputs": [],
   "source": [
    "X_tup_round2 = (16,15,14,13,5,11,10,8)"
   ]
  },
  {
   "cell_type": "code",
   "execution_count": 97,
   "metadata": {},
   "outputs": [
    {
     "data": {
      "text/plain": [
       "{1: 0.452404522341677,\n",
       " 16: 0.547595477658323,\n",
       " 2: 0.529673944750989,\n",
       " 15: 0.47032605524901105,\n",
       " 3: 0.77762130504406,\n",
       " 14: 0.22237869495594,\n",
       " 4: 0.529673944750989,\n",
       " 13: 0.47032605524901105,\n",
       " 5: 0.464374897782509,\n",
       " 12: 0.5356251022174909,\n",
       " 6: 0.48644053190623204,\n",
       " 11: 0.513559468093768,\n",
       " 7: 0.38180508900237,\n",
       " 10: 0.61819491099763,\n",
       " 8: 0.499568359356918,\n",
       " 9: 0.500431640643082}"
      ]
     },
     "execution_count": 97,
     "metadata": {},
     "output_type": "execute_result"
    }
   ],
   "source": [
    "round1_Y = {}\n",
    "for match in round1_matchups:\n",
    "        round_results_dict = prob_win_rank(match[0],match[1],Y_region,round1_Y)\n",
    "round1_Y"
   ]
  },
  {
   "cell_type": "code",
   "execution_count": 98,
   "metadata": {},
   "outputs": [],
   "source": [
    "Y_tup_round2 = (16,2,3,4,12,11,10,9)"
   ]
  },
  {
   "cell_type": "code",
   "execution_count": 99,
   "metadata": {},
   "outputs": [
    {
     "data": {
      "text/plain": [
       "{1: 0.529673944750989,\n",
       " 16: 0.47032605524901105,\n",
       " 2: 0.47912789911866804,\n",
       " 15: 0.520872100881332,\n",
       " 3: 0.438424968749035,\n",
       " 14: 0.561575031250965,\n",
       " 4: 0.390278443800133,\n",
       " 13: 0.609721556199867,\n",
       " 5: 0.550978498435589,\n",
       " 12: 0.449021501564411,\n",
       " 6: 0.576973472248807,\n",
       " 11: 0.423026527751193,\n",
       " 7: 0.599240722052936,\n",
       " 10: 0.400759277947064,\n",
       " 8: 0.529673944750989,\n",
       " 9: 0.47032605524901105}"
      ]
     },
     "execution_count": 99,
     "metadata": {},
     "output_type": "execute_result"
    }
   ],
   "source": [
    "round1_Z = {}\n",
    "for match in round1_matchups:\n",
    "        round_results_dict = prob_win_rank(match[0],match[1],Z_region,round1_Z)\n",
    "round1_Z"
   ]
  },
  {
   "cell_type": "code",
   "execution_count": 100,
   "metadata": {},
   "outputs": [],
   "source": [
    "Z_tup_round2 = (1,15,14,13,5,6,7,8)"
   ]
  },
  {
   "cell_type": "markdown",
   "metadata": {},
   "source": [
    "# Round: 2"
   ]
  },
  {
   "cell_type": "code",
   "execution_count": 102,
   "metadata": {},
   "outputs": [
    {
     "data": {
      "text/plain": [
       "[[1, 9], [2, 7], [14, 6], [13, 12]]"
      ]
     },
     "execution_count": 102,
     "metadata": {},
     "output_type": "execute_result"
    }
   ],
   "source": [
    "round2_matchups_W = tup_to_matchups(W_tup_round2, 4)\n",
    "round2_matchups_W"
   ]
  },
  {
   "cell_type": "code",
   "execution_count": 106,
   "metadata": {},
   "outputs": [
    {
     "data": {
      "text/plain": [
       "{1: 0.457236798256606,\n",
       " 9: 0.542763201743394,\n",
       " 2: 0.529673944750989,\n",
       " 7: 0.47032605524901105,\n",
       " 14: 0.511477494105502,\n",
       " 6: 0.488522505894498,\n",
       " 13: 0.529673944750989,\n",
       " 12: 0.47032605524901105}"
      ]
     },
     "execution_count": 106,
     "metadata": {},
     "output_type": "execute_result"
    }
   ],
   "source": [
    "round2_W = {}\n",
    "for match in round2_matchups_W:\n",
    "        round_results_dict = prob_win_rank(match[0],match[1],W_region,round2_W)\n",
    "round2_W"
   ]
  },
  {
   "cell_type": "code",
   "execution_count": 107,
   "metadata": {},
   "outputs": [],
   "source": [
    "W_tup_round3 = (9,2,14,13)"
   ]
  },
  {
   "cell_type": "code",
   "execution_count": 103,
   "metadata": {},
   "outputs": [
    {
     "data": {
      "text/plain": [
       "[[16, 8], [15, 10], [14, 11], [13, 5]]"
      ]
     },
     "execution_count": 103,
     "metadata": {},
     "output_type": "execute_result"
    }
   ],
   "source": [
    "round2_matchups_X = tup_to_matchups(X_tup_round2, 4)\n",
    "round2_matchups_X"
   ]
  },
  {
   "cell_type": "code",
   "execution_count": 108,
   "metadata": {},
   "outputs": [
    {
     "data": {
      "text/plain": [
       "{16: 0.47032605524901105,\n",
       " 8: 0.529673944750989,\n",
       " 15: 0.529673944750989,\n",
       " 10: 0.47032605524901105,\n",
       " 14: 0.529673944750989,\n",
       " 11: 0.47032605524901105,\n",
       " 13: 0.499305154608775,\n",
       " 5: 0.500694845391225}"
      ]
     },
     "execution_count": 108,
     "metadata": {},
     "output_type": "execute_result"
    }
   ],
   "source": [
    "round2_X = {}\n",
    "for match in round2_matchups_X:\n",
    "        round_results_dict = prob_win_rank(match[0],match[1],X_region,round2_X)\n",
    "round2_X"
   ]
  },
  {
   "cell_type": "code",
   "execution_count": 109,
   "metadata": {},
   "outputs": [],
   "source": [
    "X_tup_round3 = (8,15,14,5)"
   ]
  },
  {
   "cell_type": "code",
   "execution_count": 104,
   "metadata": {},
   "outputs": [
    {
     "data": {
      "text/plain": [
       "[[16, 9], [2, 10], [3, 11], [4, 12]]"
      ]
     },
     "execution_count": 104,
     "metadata": {},
     "output_type": "execute_result"
    }
   ],
   "source": [
    "round2_matchups_Y = tup_to_matchups(Y_tup_round2, 4)\n",
    "round2_matchups_Y"
   ]
  },
  {
   "cell_type": "code",
   "execution_count": 110,
   "metadata": {},
   "outputs": [
    {
     "data": {
      "text/plain": [
       "{16: 0.593448203059822,\n",
       " 9: 0.406551796940178,\n",
       " 2: 0.529673944750989,\n",
       " 10: 0.47032605524901105,\n",
       " 3: 0.39679632034714596,\n",
       " 11: 0.603203679652854,\n",
       " 4: 0.529673944750989,\n",
       " 12: 0.47032605524901105}"
      ]
     },
     "execution_count": 110,
     "metadata": {},
     "output_type": "execute_result"
    }
   ],
   "source": [
    "round2_Y = {}\n",
    "for match in round2_matchups_Y:\n",
    "        round_results_dict = prob_win_rank(match[0],match[1],Y_region,round2_Y)\n",
    "round2_Y"
   ]
  },
  {
   "cell_type": "code",
   "execution_count": 111,
   "metadata": {},
   "outputs": [],
   "source": [
    "Y_tup_round3 = (16,2,11,4)"
   ]
  },
  {
   "cell_type": "code",
   "execution_count": 105,
   "metadata": {},
   "outputs": [
    {
     "data": {
      "text/plain": [
       "[[1, 8], [15, 7], [14, 6], [13, 5]]"
      ]
     },
     "execution_count": 105,
     "metadata": {},
     "output_type": "execute_result"
    }
   ],
   "source": [
    "round2_matchups_Z = tup_to_matchups(Z_tup_round2, 4)\n",
    "round2_matchups_Z"
   ]
  },
  {
   "cell_type": "code",
   "execution_count": 112,
   "metadata": {},
   "outputs": [
    {
     "data": {
      "text/plain": [
       "{1: 0.529673944750989,\n",
       " 8: 0.47032605524901105,\n",
       " 15: 0.63566604165625,\n",
       " 7: 0.36433395834375004,\n",
       " 14: 0.47032605524901105,\n",
       " 6: 0.529673944750989,\n",
       " 13: 0.506610274371551,\n",
       " 5: 0.49338972562844896}"
      ]
     },
     "execution_count": 112,
     "metadata": {},
     "output_type": "execute_result"
    }
   ],
   "source": [
    "round2_Z = {}\n",
    "for match in round2_matchups_Z:\n",
    "        round_results_dict = prob_win_rank(match[0],match[1],Z_region,round2_Z)\n",
    "round2_Z"
   ]
  },
  {
   "cell_type": "code",
   "execution_count": 113,
   "metadata": {},
   "outputs": [],
   "source": [
    "Z_tup_round3 = (1,15,6,13)"
   ]
  },
  {
   "cell_type": "markdown",
   "metadata": {},
   "source": [
    "# Round: 3"
   ]
  },
  {
   "cell_type": "code",
   "execution_count": 114,
   "metadata": {},
   "outputs": [
    {
     "data": {
      "text/plain": [
       "[[9, 13], [2, 14]]"
      ]
     },
     "execution_count": 114,
     "metadata": {},
     "output_type": "execute_result"
    }
   ],
   "source": [
    "round3_matchups_W = tup_to_matchups(W_tup_round3, 2)\n",
    "round3_matchups_W"
   ]
  },
  {
   "cell_type": "code",
   "execution_count": 118,
   "metadata": {},
   "outputs": [
    {
     "data": {
      "text/plain": [
       "{9: 0.47032605524901105,\n",
       " 13: 0.529673944750989,\n",
       " 2: 0.529673944750989,\n",
       " 14: 0.47032605524901105}"
      ]
     },
     "execution_count": 118,
     "metadata": {},
     "output_type": "execute_result"
    }
   ],
   "source": [
    "round3_W = {}\n",
    "for match in round3_matchups_W:\n",
    "        round_results_dict = prob_win_rank(match[0],match[1],W_region,round3_W)\n",
    "round3_W"
   ]
  },
  {
   "cell_type": "code",
   "execution_count": 119,
   "metadata": {},
   "outputs": [],
   "source": [
    "W_tup_round4 = (13,2)"
   ]
  },
  {
   "cell_type": "code",
   "execution_count": 117,
   "metadata": {},
   "outputs": [
    {
     "data": {
      "text/plain": [
       "[[8, 5], [15, 14]]"
      ]
     },
     "execution_count": 117,
     "metadata": {},
     "output_type": "execute_result"
    }
   ],
   "source": [
    "round3_matchups_X = tup_to_matchups(X_tup_round3, 2)\n",
    "round3_matchups_X"
   ]
  },
  {
   "cell_type": "code",
   "execution_count": 120,
   "metadata": {},
   "outputs": [
    {
     "data": {
      "text/plain": [
       "{8: 0.53971821016334,\n",
       " 5: 0.46028178983666,\n",
       " 15: 0.529673944750989,\n",
       " 14: 0.47032605524901105}"
      ]
     },
     "execution_count": 120,
     "metadata": {},
     "output_type": "execute_result"
    }
   ],
   "source": [
    "round3_X = {}\n",
    "for match in round3_matchups_X:\n",
    "        round_results_dict = prob_win_rank(match[0],match[1],X_region,round3_X)\n",
    "round3_X"
   ]
  },
  {
   "cell_type": "code",
   "execution_count": 121,
   "metadata": {},
   "outputs": [],
   "source": [
    "X_tup_round4 = (8,15)"
   ]
  },
  {
   "cell_type": "code",
   "execution_count": 115,
   "metadata": {},
   "outputs": [
    {
     "data": {
      "text/plain": [
       "[[16, 4], [2, 11]]"
      ]
     },
     "execution_count": 115,
     "metadata": {},
     "output_type": "execute_result"
    }
   ],
   "source": [
    "round3_matchups_Y = tup_to_matchups(Y_tup_round3, 2)\n",
    "round3_matchups_Y"
   ]
  },
  {
   "cell_type": "code",
   "execution_count": 122,
   "metadata": {},
   "outputs": [
    {
     "data": {
      "text/plain": [
       "{16: 0.47032605524901105,\n",
       " 4: 0.529673944750989,\n",
       " 2: 0.529673944750989,\n",
       " 11: 0.47032605524901105}"
      ]
     },
     "execution_count": 122,
     "metadata": {},
     "output_type": "execute_result"
    }
   ],
   "source": [
    "round3_Y = {}\n",
    "for match in round3_matchups_Y:\n",
    "        round_results_dict = prob_win_rank(match[0],match[1],Y_region,round3_Y)\n",
    "round3_Y"
   ]
  },
  {
   "cell_type": "code",
   "execution_count": 123,
   "metadata": {},
   "outputs": [],
   "source": [
    "Y_tup_round4 = (4,2)"
   ]
  },
  {
   "cell_type": "code",
   "execution_count": 116,
   "metadata": {},
   "outputs": [
    {
     "data": {
      "text/plain": [
       "[[1, 13], [15, 6]]"
      ]
     },
     "execution_count": 116,
     "metadata": {},
     "output_type": "execute_result"
    }
   ],
   "source": [
    "round3_matchups_Z = tup_to_matchups(Z_tup_round3, 2)\n",
    "round3_matchups_Z"
   ]
  },
  {
   "cell_type": "code",
   "execution_count": 124,
   "metadata": {},
   "outputs": [
    {
     "data": {
      "text/plain": [
       "{1: 0.529673944750989,\n",
       " 13: 0.47032605524901105,\n",
       " 15: 0.47032605524901105,\n",
       " 6: 0.529673944750989}"
      ]
     },
     "execution_count": 124,
     "metadata": {},
     "output_type": "execute_result"
    }
   ],
   "source": [
    "round3_Z = {}\n",
    "for match in round3_matchups_Z:\n",
    "        round_results_dict = prob_win_rank(match[0],match[1],Z_region,round3_Z)\n",
    "round3_Z"
   ]
  },
  {
   "cell_type": "code",
   "execution_count": 125,
   "metadata": {},
   "outputs": [],
   "source": [
    "Z_tup_round4 = (1,6)"
   ]
  },
  {
   "cell_type": "markdown",
   "metadata": {},
   "source": [
    "# Regional Finals"
   ]
  },
  {
   "cell_type": "code",
   "execution_count": 128,
   "metadata": {},
   "outputs": [
    {
     "data": {
      "text/plain": [
       "{13: 0.529673944750989, 2: 0.47032605524901105}"
      ]
     },
     "execution_count": 128,
     "metadata": {},
     "output_type": "execute_result"
    }
   ],
   "source": [
    "round4_W = {}\n",
    "round4_W = prob_win_rank(W_tup_round4[0],W_tup_round4[1],W_region,round4_W)\n",
    "round4_W"
   ]
  },
  {
   "cell_type": "code",
   "execution_count": 131,
   "metadata": {},
   "outputs": [],
   "source": [
    "rank_W_win = 13"
   ]
  },
  {
   "cell_type": "code",
   "execution_count": 135,
   "metadata": {},
   "outputs": [
    {
     "data": {
      "text/plain": [
       "{8: 0.529673944750989, 15: 0.47032605524901105}"
      ]
     },
     "execution_count": 135,
     "metadata": {},
     "output_type": "execute_result"
    }
   ],
   "source": [
    "round4_X = {}\n",
    "round4_X = prob_win_rank(X_tup_round4[0],X_tup_round4[1],X_region,round4_X)\n",
    "round4_X"
   ]
  },
  {
   "cell_type": "code",
   "execution_count": 136,
   "metadata": {},
   "outputs": [],
   "source": [
    "rank_X_win = 8"
   ]
  },
  {
   "cell_type": "code",
   "execution_count": 130,
   "metadata": {},
   "outputs": [
    {
     "data": {
      "text/plain": [
       "{4: 0.47032605524901105, 2: 0.529673944750989}"
      ]
     },
     "execution_count": 130,
     "metadata": {},
     "output_type": "execute_result"
    }
   ],
   "source": [
    "round4_Y = {}\n",
    "round4_Y = prob_win_rank(Y_tup_round4[0],Y_tup_round4[1],Y_region,round4_Y)\n",
    "round4_Y"
   ]
  },
  {
   "cell_type": "code",
   "execution_count": 132,
   "metadata": {},
   "outputs": [],
   "source": [
    "rank_Y_win = 2"
   ]
  },
  {
   "cell_type": "code",
   "execution_count": 133,
   "metadata": {},
   "outputs": [
    {
     "data": {
      "text/plain": [
       "{1: 0.529673944750989, 6: 0.47032605524901105}"
      ]
     },
     "execution_count": 133,
     "metadata": {},
     "output_type": "execute_result"
    }
   ],
   "source": [
    "round4_Z = {}\n",
    "round4_Z = prob_win_rank(Z_tup_round4[0],Z_tup_round4[1],Z_region,round4_Z)\n",
    "round4_Z"
   ]
  },
  {
   "cell_type": "code",
   "execution_count": 134,
   "metadata": {},
   "outputs": [],
   "source": [
    "rank_Z_win = 1"
   ]
  },
  {
   "cell_type": "markdown",
   "metadata": {},
   "source": [
    "# Semifinals"
   ]
  },
  {
   "cell_type": "code",
   "execution_count": 138,
   "metadata": {},
   "outputs": [
    {
     "data": {
      "text/plain": [
       "1103"
      ]
     },
     "execution_count": 138,
     "metadata": {},
     "output_type": "execute_result"
    }
   ],
   "source": [
    "W_region[rank_W_win]"
   ]
  },
  {
   "cell_type": "code",
   "execution_count": 139,
   "metadata": {},
   "outputs": [
    {
     "data": {
      "text/plain": [
       "1129"
      ]
     },
     "execution_count": 139,
     "metadata": {},
     "output_type": "execute_result"
    }
   ],
   "source": [
    "X_region[rank_X_win]"
   ]
  },
  {
   "cell_type": "code",
   "execution_count": 142,
   "metadata": {},
   "outputs": [
    {
     "name": "stdout",
     "output_type": "stream",
     "text": [
      "W: 0.529673944750989\n",
      "X: 0.47032605524901105\n"
     ]
    }
   ],
   "source": [
    "W_pred, X_pred = prob_win(W_region[rank_W_win],X_region[rank_X_win])\n",
    "print('W: '+str(W_pred))\n",
    "print('X: '+str(X_pred))"
   ]
  },
  {
   "cell_type": "code",
   "execution_count": 148,
   "metadata": {},
   "outputs": [],
   "source": [
    "regionWX_winID = 1103"
   ]
  },
  {
   "cell_type": "code",
   "execution_count": 144,
   "metadata": {},
   "outputs": [
    {
     "data": {
      "text/plain": [
       "1120"
      ]
     },
     "execution_count": 144,
     "metadata": {},
     "output_type": "execute_result"
    }
   ],
   "source": [
    "Y_region[rank_Y_win]"
   ]
  },
  {
   "cell_type": "code",
   "execution_count": 145,
   "metadata": {},
   "outputs": [
    {
     "data": {
      "text/plain": [
       "1112"
      ]
     },
     "execution_count": 145,
     "metadata": {},
     "output_type": "execute_result"
    }
   ],
   "source": [
    "Z_region[rank_Z_win]"
   ]
  },
  {
   "cell_type": "code",
   "execution_count": 151,
   "metadata": {},
   "outputs": [
    {
     "name": "stdout",
     "output_type": "stream",
     "text": [
      "Y: 0.47032605524901105\n",
      "Z: 0.529673944750989\n"
     ]
    }
   ],
   "source": [
    "Y_pred, Z_pred = prob_win(Y_region[rank_Y_win],Z_region[rank_Z_win])\n",
    "print('Y: '+str(Y_pred))\n",
    "print('Z: '+str(Z_pred))"
   ]
  },
  {
   "cell_type": "code",
   "execution_count": 152,
   "metadata": {},
   "outputs": [],
   "source": [
    "regionYZ_winID = 1112"
   ]
  },
  {
   "cell_type": "markdown",
   "metadata": {},
   "source": [
    "# Championship"
   ]
  },
  {
   "cell_type": "code",
   "execution_count": 153,
   "metadata": {},
   "outputs": [
    {
     "name": "stdout",
     "output_type": "stream",
     "text": [
      "WX: 0.529673944750989\n",
      "YZ: 0.47032605524901105\n"
     ]
    }
   ],
   "source": [
    "regionWX_pred, regionYZ_pred = prob_win(regionWX_winID,regionYZ_winID)\n",
    "print('WX: '+str(regionWX_pred))\n",
    "print('YZ: '+str(regionYZ_pred))"
   ]
  },
  {
   "cell_type": "code",
   "execution_count": null,
   "metadata": {},
   "outputs": [],
   "source": []
  },
  {
   "cell_type": "code",
   "execution_count": null,
   "metadata": {},
   "outputs": [],
   "source": []
  }
 ],
 "metadata": {
  "kernelspec": {
   "display_name": "Python 3",
   "language": "python",
   "name": "python3"
  },
  "language_info": {
   "codemirror_mode": {
    "name": "ipython",
    "version": 3
   },
   "file_extension": ".py",
   "mimetype": "text/x-python",
   "name": "python",
   "nbconvert_exporter": "python",
   "pygments_lexer": "ipython3",
   "version": "3.7.13"
  }
 },
 "nbformat": 4,
 "nbformat_minor": 4
}
