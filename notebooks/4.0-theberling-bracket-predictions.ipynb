{
 "cells": [
  {
   "cell_type": "markdown",
   "metadata": {},
   "source": [
    "We made our predictions in phase2_submissions1.csv. Now let's back out what those submissions are in the bracket."
   ]
  },
  {
   "cell_type": "code",
   "execution_count": 437,
   "metadata": {},
   "outputs": [],
   "source": [
    "import pandas as pd"
   ]
  },
  {
   "cell_type": "code",
   "execution_count": 438,
   "metadata": {},
   "outputs": [
    {
     "data": {
      "text/html": [
       "<div>\n",
       "<style scoped>\n",
       "    .dataframe tbody tr th:only-of-type {\n",
       "        vertical-align: middle;\n",
       "    }\n",
       "\n",
       "    .dataframe tbody tr th {\n",
       "        vertical-align: top;\n",
       "    }\n",
       "\n",
       "    .dataframe thead th {\n",
       "        text-align: right;\n",
       "    }\n",
       "</style>\n",
       "<table border=\"1\" class=\"dataframe\">\n",
       "  <thead>\n",
       "    <tr style=\"text-align: right;\">\n",
       "      <th></th>\n",
       "      <th>ID</th>\n",
       "      <th>Pred</th>\n",
       "    </tr>\n",
       "  </thead>\n",
       "  <tbody>\n",
       "    <tr>\n",
       "      <th>0</th>\n",
       "      <td>2022_1103_1104</td>\n",
       "      <td>0.159308</td>\n",
       "    </tr>\n",
       "    <tr>\n",
       "      <th>1</th>\n",
       "      <td>2022_1103_1112</td>\n",
       "      <td>0.064552</td>\n",
       "    </tr>\n",
       "    <tr>\n",
       "      <th>2</th>\n",
       "      <td>2022_1103_1116</td>\n",
       "      <td>0.182135</td>\n",
       "    </tr>\n",
       "    <tr>\n",
       "      <th>3</th>\n",
       "      <td>2022_1103_1120</td>\n",
       "      <td>0.061031</td>\n",
       "    </tr>\n",
       "    <tr>\n",
       "      <th>4</th>\n",
       "      <td>2022_1103_1124</td>\n",
       "      <td>0.092754</td>\n",
       "    </tr>\n",
       "  </tbody>\n",
       "</table>\n",
       "</div>"
      ],
      "text/plain": [
       "               ID      Pred\n",
       "0  2022_1103_1104  0.159308\n",
       "1  2022_1103_1112  0.064552\n",
       "2  2022_1103_1116  0.182135\n",
       "3  2022_1103_1120  0.061031\n",
       "4  2022_1103_1124  0.092754"
      ]
     },
     "execution_count": 438,
     "metadata": {},
     "output_type": "execute_result"
    }
   ],
   "source": [
    "df_pred = pd.read_csv('../../data/2022/predictions/phase2_submissions_xg.csv')\n",
    "df_pred.head()"
   ]
  },
  {
   "cell_type": "markdown",
   "metadata": {},
   "source": [
    "Excellent, now we have our submission file into a dataframe with ID and Predictions. From here we'll need to bring in the first round teams and see who we predict will win."
   ]
  },
  {
   "cell_type": "code",
   "execution_count": 439,
   "metadata": {},
   "outputs": [
    {
     "data": {
      "text/html": [
       "<div>\n",
       "<style scoped>\n",
       "    .dataframe tbody tr th:only-of-type {\n",
       "        vertical-align: middle;\n",
       "    }\n",
       "\n",
       "    .dataframe tbody tr th {\n",
       "        vertical-align: top;\n",
       "    }\n",
       "\n",
       "    .dataframe thead th {\n",
       "        text-align: right;\n",
       "    }\n",
       "</style>\n",
       "<table border=\"1\" class=\"dataframe\">\n",
       "  <thead>\n",
       "    <tr style=\"text-align: right;\">\n",
       "      <th></th>\n",
       "      <th>TeamID</th>\n",
       "      <th>TeamName</th>\n",
       "      <th>FirstD1Season</th>\n",
       "      <th>LastD1Season</th>\n",
       "    </tr>\n",
       "  </thead>\n",
       "  <tbody>\n",
       "    <tr>\n",
       "      <th>0</th>\n",
       "      <td>1101</td>\n",
       "      <td>Abilene Chr</td>\n",
       "      <td>2014</td>\n",
       "      <td>2022</td>\n",
       "    </tr>\n",
       "    <tr>\n",
       "      <th>1</th>\n",
       "      <td>1102</td>\n",
       "      <td>Air Force</td>\n",
       "      <td>1985</td>\n",
       "      <td>2022</td>\n",
       "    </tr>\n",
       "    <tr>\n",
       "      <th>2</th>\n",
       "      <td>1103</td>\n",
       "      <td>Akron</td>\n",
       "      <td>1985</td>\n",
       "      <td>2022</td>\n",
       "    </tr>\n",
       "    <tr>\n",
       "      <th>3</th>\n",
       "      <td>1104</td>\n",
       "      <td>Alabama</td>\n",
       "      <td>1985</td>\n",
       "      <td>2022</td>\n",
       "    </tr>\n",
       "    <tr>\n",
       "      <th>4</th>\n",
       "      <td>1105</td>\n",
       "      <td>Alabama A&amp;M</td>\n",
       "      <td>2000</td>\n",
       "      <td>2022</td>\n",
       "    </tr>\n",
       "  </tbody>\n",
       "</table>\n",
       "</div>"
      ],
      "text/plain": [
       "   TeamID     TeamName  FirstD1Season  LastD1Season\n",
       "0    1101  Abilene Chr           2014          2022\n",
       "1    1102    Air Force           1985          2022\n",
       "2    1103        Akron           1985          2022\n",
       "3    1104      Alabama           1985          2022\n",
       "4    1105  Alabama A&M           2000          2022"
      ]
     },
     "execution_count": 439,
     "metadata": {},
     "output_type": "execute_result"
    }
   ],
   "source": [
    "#read in the team data\n",
    "df_teams = pd.read_csv('../../data/2022/raw/MDataFiles_Stage2/MTeams.csv')\n",
    "df_teams.head()"
   ]
  },
  {
   "cell_type": "code",
   "execution_count": 440,
   "metadata": {},
   "outputs": [
    {
     "data": {
      "text/html": [
       "<div>\n",
       "<style scoped>\n",
       "    .dataframe tbody tr th:only-of-type {\n",
       "        vertical-align: middle;\n",
       "    }\n",
       "\n",
       "    .dataframe tbody tr th {\n",
       "        vertical-align: top;\n",
       "    }\n",
       "\n",
       "    .dataframe thead th {\n",
       "        text-align: right;\n",
       "    }\n",
       "</style>\n",
       "<table border=\"1\" class=\"dataframe\">\n",
       "  <thead>\n",
       "    <tr style=\"text-align: right;\">\n",
       "      <th></th>\n",
       "      <th>Season</th>\n",
       "      <th>Slot</th>\n",
       "      <th>StrongSeed</th>\n",
       "      <th>WeakSeed</th>\n",
       "    </tr>\n",
       "  </thead>\n",
       "  <tbody>\n",
       "    <tr>\n",
       "      <th>0</th>\n",
       "      <td>1985</td>\n",
       "      <td>R1W1</td>\n",
       "      <td>W01</td>\n",
       "      <td>W16</td>\n",
       "    </tr>\n",
       "    <tr>\n",
       "      <th>1</th>\n",
       "      <td>1985</td>\n",
       "      <td>R1W2</td>\n",
       "      <td>W02</td>\n",
       "      <td>W15</td>\n",
       "    </tr>\n",
       "    <tr>\n",
       "      <th>2</th>\n",
       "      <td>1985</td>\n",
       "      <td>R1W3</td>\n",
       "      <td>W03</td>\n",
       "      <td>W14</td>\n",
       "    </tr>\n",
       "    <tr>\n",
       "      <th>3</th>\n",
       "      <td>1985</td>\n",
       "      <td>R1W4</td>\n",
       "      <td>W04</td>\n",
       "      <td>W13</td>\n",
       "    </tr>\n",
       "    <tr>\n",
       "      <th>4</th>\n",
       "      <td>1985</td>\n",
       "      <td>R1W5</td>\n",
       "      <td>W05</td>\n",
       "      <td>W12</td>\n",
       "    </tr>\n",
       "  </tbody>\n",
       "</table>\n",
       "</div>"
      ],
      "text/plain": [
       "   Season  Slot StrongSeed WeakSeed\n",
       "0    1985  R1W1        W01      W16\n",
       "1    1985  R1W2        W02      W15\n",
       "2    1985  R1W3        W03      W14\n",
       "3    1985  R1W4        W04      W13\n",
       "4    1985  R1W5        W05      W12"
      ]
     },
     "execution_count": 440,
     "metadata": {},
     "output_type": "execute_result"
    }
   ],
   "source": [
    "#read in the tournament slot data\n",
    "df_slots = pd.read_csv('../../data/2022/raw/MDataFiles_Stage2/MNCAATourneySlots.csv')\n",
    "df_slots.head()"
   ]
  },
  {
   "cell_type": "code",
   "execution_count": 441,
   "metadata": {},
   "outputs": [
    {
     "data": {
      "text/html": [
       "<div>\n",
       "<style scoped>\n",
       "    .dataframe tbody tr th:only-of-type {\n",
       "        vertical-align: middle;\n",
       "    }\n",
       "\n",
       "    .dataframe tbody tr th {\n",
       "        vertical-align: top;\n",
       "    }\n",
       "\n",
       "    .dataframe thead th {\n",
       "        text-align: right;\n",
       "    }\n",
       "</style>\n",
       "<table border=\"1\" class=\"dataframe\">\n",
       "  <thead>\n",
       "    <tr style=\"text-align: right;\">\n",
       "      <th></th>\n",
       "      <th>Season</th>\n",
       "      <th>Slot</th>\n",
       "      <th>StrongSeed</th>\n",
       "      <th>WeakSeed</th>\n",
       "    </tr>\n",
       "  </thead>\n",
       "  <tbody>\n",
       "    <tr>\n",
       "      <th>0</th>\n",
       "      <td>2022</td>\n",
       "      <td>R1W1</td>\n",
       "      <td>W01</td>\n",
       "      <td>W16</td>\n",
       "    </tr>\n",
       "    <tr>\n",
       "      <th>1</th>\n",
       "      <td>2022</td>\n",
       "      <td>R1W2</td>\n",
       "      <td>W02</td>\n",
       "      <td>W15</td>\n",
       "    </tr>\n",
       "    <tr>\n",
       "      <th>2</th>\n",
       "      <td>2022</td>\n",
       "      <td>R1W3</td>\n",
       "      <td>W03</td>\n",
       "      <td>W14</td>\n",
       "    </tr>\n",
       "    <tr>\n",
       "      <th>3</th>\n",
       "      <td>2022</td>\n",
       "      <td>R1W4</td>\n",
       "      <td>W04</td>\n",
       "      <td>W13</td>\n",
       "    </tr>\n",
       "    <tr>\n",
       "      <th>4</th>\n",
       "      <td>2022</td>\n",
       "      <td>R1W5</td>\n",
       "      <td>W05</td>\n",
       "      <td>W12</td>\n",
       "    </tr>\n",
       "    <tr>\n",
       "      <th>5</th>\n",
       "      <td>2022</td>\n",
       "      <td>R1W6</td>\n",
       "      <td>W06</td>\n",
       "      <td>W11</td>\n",
       "    </tr>\n",
       "    <tr>\n",
       "      <th>6</th>\n",
       "      <td>2022</td>\n",
       "      <td>R1W7</td>\n",
       "      <td>W07</td>\n",
       "      <td>W10</td>\n",
       "    </tr>\n",
       "    <tr>\n",
       "      <th>7</th>\n",
       "      <td>2022</td>\n",
       "      <td>R1W8</td>\n",
       "      <td>W08</td>\n",
       "      <td>W09</td>\n",
       "    </tr>\n",
       "    <tr>\n",
       "      <th>8</th>\n",
       "      <td>2022</td>\n",
       "      <td>R1X1</td>\n",
       "      <td>X01</td>\n",
       "      <td>X16</td>\n",
       "    </tr>\n",
       "    <tr>\n",
       "      <th>9</th>\n",
       "      <td>2022</td>\n",
       "      <td>R1X2</td>\n",
       "      <td>X02</td>\n",
       "      <td>X15</td>\n",
       "    </tr>\n",
       "    <tr>\n",
       "      <th>10</th>\n",
       "      <td>2022</td>\n",
       "      <td>R1X3</td>\n",
       "      <td>X03</td>\n",
       "      <td>X14</td>\n",
       "    </tr>\n",
       "    <tr>\n",
       "      <th>11</th>\n",
       "      <td>2022</td>\n",
       "      <td>R1X4</td>\n",
       "      <td>X04</td>\n",
       "      <td>X13</td>\n",
       "    </tr>\n",
       "    <tr>\n",
       "      <th>12</th>\n",
       "      <td>2022</td>\n",
       "      <td>R1X5</td>\n",
       "      <td>X05</td>\n",
       "      <td>X12</td>\n",
       "    </tr>\n",
       "    <tr>\n",
       "      <th>13</th>\n",
       "      <td>2022</td>\n",
       "      <td>R1X6</td>\n",
       "      <td>X06</td>\n",
       "      <td>X11</td>\n",
       "    </tr>\n",
       "    <tr>\n",
       "      <th>14</th>\n",
       "      <td>2022</td>\n",
       "      <td>R1X7</td>\n",
       "      <td>X07</td>\n",
       "      <td>X10</td>\n",
       "    </tr>\n",
       "    <tr>\n",
       "      <th>15</th>\n",
       "      <td>2022</td>\n",
       "      <td>R1X8</td>\n",
       "      <td>X08</td>\n",
       "      <td>X09</td>\n",
       "    </tr>\n",
       "    <tr>\n",
       "      <th>16</th>\n",
       "      <td>2022</td>\n",
       "      <td>R1Y1</td>\n",
       "      <td>Y01</td>\n",
       "      <td>Y16</td>\n",
       "    </tr>\n",
       "    <tr>\n",
       "      <th>17</th>\n",
       "      <td>2022</td>\n",
       "      <td>R1Y2</td>\n",
       "      <td>Y02</td>\n",
       "      <td>Y15</td>\n",
       "    </tr>\n",
       "    <tr>\n",
       "      <th>18</th>\n",
       "      <td>2022</td>\n",
       "      <td>R1Y3</td>\n",
       "      <td>Y03</td>\n",
       "      <td>Y14</td>\n",
       "    </tr>\n",
       "    <tr>\n",
       "      <th>19</th>\n",
       "      <td>2022</td>\n",
       "      <td>R1Y4</td>\n",
       "      <td>Y04</td>\n",
       "      <td>Y13</td>\n",
       "    </tr>\n",
       "    <tr>\n",
       "      <th>20</th>\n",
       "      <td>2022</td>\n",
       "      <td>R1Y5</td>\n",
       "      <td>Y05</td>\n",
       "      <td>Y12</td>\n",
       "    </tr>\n",
       "    <tr>\n",
       "      <th>21</th>\n",
       "      <td>2022</td>\n",
       "      <td>R1Y6</td>\n",
       "      <td>Y06</td>\n",
       "      <td>Y11</td>\n",
       "    </tr>\n",
       "    <tr>\n",
       "      <th>22</th>\n",
       "      <td>2022</td>\n",
       "      <td>R1Y7</td>\n",
       "      <td>Y07</td>\n",
       "      <td>Y10</td>\n",
       "    </tr>\n",
       "    <tr>\n",
       "      <th>23</th>\n",
       "      <td>2022</td>\n",
       "      <td>R1Y8</td>\n",
       "      <td>Y08</td>\n",
       "      <td>Y09</td>\n",
       "    </tr>\n",
       "    <tr>\n",
       "      <th>24</th>\n",
       "      <td>2022</td>\n",
       "      <td>R1Z1</td>\n",
       "      <td>Z01</td>\n",
       "      <td>Z16</td>\n",
       "    </tr>\n",
       "    <tr>\n",
       "      <th>25</th>\n",
       "      <td>2022</td>\n",
       "      <td>R1Z2</td>\n",
       "      <td>Z02</td>\n",
       "      <td>Z15</td>\n",
       "    </tr>\n",
       "    <tr>\n",
       "      <th>26</th>\n",
       "      <td>2022</td>\n",
       "      <td>R1Z3</td>\n",
       "      <td>Z03</td>\n",
       "      <td>Z14</td>\n",
       "    </tr>\n",
       "    <tr>\n",
       "      <th>27</th>\n",
       "      <td>2022</td>\n",
       "      <td>R1Z4</td>\n",
       "      <td>Z04</td>\n",
       "      <td>Z13</td>\n",
       "    </tr>\n",
       "    <tr>\n",
       "      <th>28</th>\n",
       "      <td>2022</td>\n",
       "      <td>R1Z5</td>\n",
       "      <td>Z05</td>\n",
       "      <td>Z12</td>\n",
       "    </tr>\n",
       "    <tr>\n",
       "      <th>29</th>\n",
       "      <td>2022</td>\n",
       "      <td>R1Z6</td>\n",
       "      <td>Z06</td>\n",
       "      <td>Z11</td>\n",
       "    </tr>\n",
       "    <tr>\n",
       "      <th>30</th>\n",
       "      <td>2022</td>\n",
       "      <td>R1Z7</td>\n",
       "      <td>Z07</td>\n",
       "      <td>Z10</td>\n",
       "    </tr>\n",
       "    <tr>\n",
       "      <th>31</th>\n",
       "      <td>2022</td>\n",
       "      <td>R1Z8</td>\n",
       "      <td>Z08</td>\n",
       "      <td>Z09</td>\n",
       "    </tr>\n",
       "    <tr>\n",
       "      <th>32</th>\n",
       "      <td>2022</td>\n",
       "      <td>R2W1</td>\n",
       "      <td>R1W1</td>\n",
       "      <td>R1W8</td>\n",
       "    </tr>\n",
       "    <tr>\n",
       "      <th>33</th>\n",
       "      <td>2022</td>\n",
       "      <td>R2W2</td>\n",
       "      <td>R1W2</td>\n",
       "      <td>R1W7</td>\n",
       "    </tr>\n",
       "    <tr>\n",
       "      <th>34</th>\n",
       "      <td>2022</td>\n",
       "      <td>R2W3</td>\n",
       "      <td>R1W3</td>\n",
       "      <td>R1W6</td>\n",
       "    </tr>\n",
       "    <tr>\n",
       "      <th>35</th>\n",
       "      <td>2022</td>\n",
       "      <td>R2W4</td>\n",
       "      <td>R1W4</td>\n",
       "      <td>R1W5</td>\n",
       "    </tr>\n",
       "    <tr>\n",
       "      <th>36</th>\n",
       "      <td>2022</td>\n",
       "      <td>R2X1</td>\n",
       "      <td>R1X1</td>\n",
       "      <td>R1X8</td>\n",
       "    </tr>\n",
       "    <tr>\n",
       "      <th>37</th>\n",
       "      <td>2022</td>\n",
       "      <td>R2X2</td>\n",
       "      <td>R1X2</td>\n",
       "      <td>R1X7</td>\n",
       "    </tr>\n",
       "    <tr>\n",
       "      <th>38</th>\n",
       "      <td>2022</td>\n",
       "      <td>R2X3</td>\n",
       "      <td>R1X3</td>\n",
       "      <td>R1X6</td>\n",
       "    </tr>\n",
       "    <tr>\n",
       "      <th>39</th>\n",
       "      <td>2022</td>\n",
       "      <td>R2X4</td>\n",
       "      <td>R1X4</td>\n",
       "      <td>R1X5</td>\n",
       "    </tr>\n",
       "    <tr>\n",
       "      <th>40</th>\n",
       "      <td>2022</td>\n",
       "      <td>R2Y1</td>\n",
       "      <td>R1Y1</td>\n",
       "      <td>R1Y8</td>\n",
       "    </tr>\n",
       "    <tr>\n",
       "      <th>41</th>\n",
       "      <td>2022</td>\n",
       "      <td>R2Y2</td>\n",
       "      <td>R1Y2</td>\n",
       "      <td>R1Y7</td>\n",
       "    </tr>\n",
       "    <tr>\n",
       "      <th>42</th>\n",
       "      <td>2022</td>\n",
       "      <td>R2Y3</td>\n",
       "      <td>R1Y3</td>\n",
       "      <td>R1Y6</td>\n",
       "    </tr>\n",
       "    <tr>\n",
       "      <th>43</th>\n",
       "      <td>2022</td>\n",
       "      <td>R2Y4</td>\n",
       "      <td>R1Y4</td>\n",
       "      <td>R1Y5</td>\n",
       "    </tr>\n",
       "    <tr>\n",
       "      <th>44</th>\n",
       "      <td>2022</td>\n",
       "      <td>R2Z1</td>\n",
       "      <td>R1Z1</td>\n",
       "      <td>R1Z8</td>\n",
       "    </tr>\n",
       "    <tr>\n",
       "      <th>45</th>\n",
       "      <td>2022</td>\n",
       "      <td>R2Z2</td>\n",
       "      <td>R1Z2</td>\n",
       "      <td>R1Z7</td>\n",
       "    </tr>\n",
       "    <tr>\n",
       "      <th>46</th>\n",
       "      <td>2022</td>\n",
       "      <td>R2Z3</td>\n",
       "      <td>R1Z3</td>\n",
       "      <td>R1Z6</td>\n",
       "    </tr>\n",
       "    <tr>\n",
       "      <th>47</th>\n",
       "      <td>2022</td>\n",
       "      <td>R2Z4</td>\n",
       "      <td>R1Z4</td>\n",
       "      <td>R1Z5</td>\n",
       "    </tr>\n",
       "  </tbody>\n",
       "</table>\n",
       "</div>"
      ],
      "text/plain": [
       "    Season  Slot StrongSeed WeakSeed\n",
       "0     2022  R1W1        W01      W16\n",
       "1     2022  R1W2        W02      W15\n",
       "2     2022  R1W3        W03      W14\n",
       "3     2022  R1W4        W04      W13\n",
       "4     2022  R1W5        W05      W12\n",
       "5     2022  R1W6        W06      W11\n",
       "6     2022  R1W7        W07      W10\n",
       "7     2022  R1W8        W08      W09\n",
       "8     2022  R1X1        X01      X16\n",
       "9     2022  R1X2        X02      X15\n",
       "10    2022  R1X3        X03      X14\n",
       "11    2022  R1X4        X04      X13\n",
       "12    2022  R1X5        X05      X12\n",
       "13    2022  R1X6        X06      X11\n",
       "14    2022  R1X7        X07      X10\n",
       "15    2022  R1X8        X08      X09\n",
       "16    2022  R1Y1        Y01      Y16\n",
       "17    2022  R1Y2        Y02      Y15\n",
       "18    2022  R1Y3        Y03      Y14\n",
       "19    2022  R1Y4        Y04      Y13\n",
       "20    2022  R1Y5        Y05      Y12\n",
       "21    2022  R1Y6        Y06      Y11\n",
       "22    2022  R1Y7        Y07      Y10\n",
       "23    2022  R1Y8        Y08      Y09\n",
       "24    2022  R1Z1        Z01      Z16\n",
       "25    2022  R1Z2        Z02      Z15\n",
       "26    2022  R1Z3        Z03      Z14\n",
       "27    2022  R1Z4        Z04      Z13\n",
       "28    2022  R1Z5        Z05      Z12\n",
       "29    2022  R1Z6        Z06      Z11\n",
       "30    2022  R1Z7        Z07      Z10\n",
       "31    2022  R1Z8        Z08      Z09\n",
       "32    2022  R2W1       R1W1     R1W8\n",
       "33    2022  R2W2       R1W2     R1W7\n",
       "34    2022  R2W3       R1W3     R1W6\n",
       "35    2022  R2W4       R1W4     R1W5\n",
       "36    2022  R2X1       R1X1     R1X8\n",
       "37    2022  R2X2       R1X2     R1X7\n",
       "38    2022  R2X3       R1X3     R1X6\n",
       "39    2022  R2X4       R1X4     R1X5\n",
       "40    2022  R2Y1       R1Y1     R1Y8\n",
       "41    2022  R2Y2       R1Y2     R1Y7\n",
       "42    2022  R2Y3       R1Y3     R1Y6\n",
       "43    2022  R2Y4       R1Y4     R1Y5\n",
       "44    2022  R2Z1       R1Z1     R1Z8\n",
       "45    2022  R2Z2       R1Z2     R1Z7\n",
       "46    2022  R2Z3       R1Z3     R1Z6\n",
       "47    2022  R2Z4       R1Z4     R1Z5"
      ]
     },
     "execution_count": 441,
     "metadata": {},
     "output_type": "execute_result"
    }
   ],
   "source": [
    "df_slots_thisyear = df_slots[df_slots['Season']==2022]\n",
    "df_slots_thisyear = df_slots_thisyear.reset_index(drop=True)\n",
    "df_slots_thisyear.head(48)"
   ]
  },
  {
   "cell_type": "code",
   "execution_count": 442,
   "metadata": {},
   "outputs": [
    {
     "data": {
      "text/html": [
       "<div>\n",
       "<style scoped>\n",
       "    .dataframe tbody tr th:only-of-type {\n",
       "        vertical-align: middle;\n",
       "    }\n",
       "\n",
       "    .dataframe tbody tr th {\n",
       "        vertical-align: top;\n",
       "    }\n",
       "\n",
       "    .dataframe thead th {\n",
       "        text-align: right;\n",
       "    }\n",
       "</style>\n",
       "<table border=\"1\" class=\"dataframe\">\n",
       "  <thead>\n",
       "    <tr style=\"text-align: right;\">\n",
       "      <th></th>\n",
       "      <th>Season</th>\n",
       "      <th>Slot</th>\n",
       "      <th>StrongSeed</th>\n",
       "      <th>WeakSeed</th>\n",
       "    </tr>\n",
       "  </thead>\n",
       "  <tbody>\n",
       "    <tr>\n",
       "      <th>57</th>\n",
       "      <td>2022</td>\n",
       "      <td>R4X1</td>\n",
       "      <td>R3X1</td>\n",
       "      <td>R3X2</td>\n",
       "    </tr>\n",
       "    <tr>\n",
       "      <th>58</th>\n",
       "      <td>2022</td>\n",
       "      <td>R4Y1</td>\n",
       "      <td>R3Y1</td>\n",
       "      <td>R3Y2</td>\n",
       "    </tr>\n",
       "    <tr>\n",
       "      <th>59</th>\n",
       "      <td>2022</td>\n",
       "      <td>R4Z1</td>\n",
       "      <td>R3Z1</td>\n",
       "      <td>R3Z2</td>\n",
       "    </tr>\n",
       "    <tr>\n",
       "      <th>60</th>\n",
       "      <td>2022</td>\n",
       "      <td>R5WX</td>\n",
       "      <td>R4W1</td>\n",
       "      <td>R4X1</td>\n",
       "    </tr>\n",
       "    <tr>\n",
       "      <th>61</th>\n",
       "      <td>2022</td>\n",
       "      <td>R5YZ</td>\n",
       "      <td>R4Y1</td>\n",
       "      <td>R4Z1</td>\n",
       "    </tr>\n",
       "    <tr>\n",
       "      <th>62</th>\n",
       "      <td>2022</td>\n",
       "      <td>R6CH</td>\n",
       "      <td>R5WX</td>\n",
       "      <td>R5YZ</td>\n",
       "    </tr>\n",
       "    <tr>\n",
       "      <th>63</th>\n",
       "      <td>2022</td>\n",
       "      <td>W12</td>\n",
       "      <td>W12a</td>\n",
       "      <td>W12b</td>\n",
       "    </tr>\n",
       "    <tr>\n",
       "      <th>64</th>\n",
       "      <td>2022</td>\n",
       "      <td>X11</td>\n",
       "      <td>X11a</td>\n",
       "      <td>X11b</td>\n",
       "    </tr>\n",
       "    <tr>\n",
       "      <th>65</th>\n",
       "      <td>2022</td>\n",
       "      <td>Y16</td>\n",
       "      <td>Y16a</td>\n",
       "      <td>Y16b</td>\n",
       "    </tr>\n",
       "    <tr>\n",
       "      <th>66</th>\n",
       "      <td>2022</td>\n",
       "      <td>Z16</td>\n",
       "      <td>Z16a</td>\n",
       "      <td>Z16b</td>\n",
       "    </tr>\n",
       "  </tbody>\n",
       "</table>\n",
       "</div>"
      ],
      "text/plain": [
       "    Season  Slot StrongSeed WeakSeed\n",
       "57    2022  R4X1       R3X1     R3X2\n",
       "58    2022  R4Y1       R3Y1     R3Y2\n",
       "59    2022  R4Z1       R3Z1     R3Z2\n",
       "60    2022  R5WX       R4W1     R4X1\n",
       "61    2022  R5YZ       R4Y1     R4Z1\n",
       "62    2022  R6CH       R5WX     R5YZ\n",
       "63    2022   W12       W12a     W12b\n",
       "64    2022   X11       X11a     X11b\n",
       "65    2022   Y16       Y16a     Y16b\n",
       "66    2022   Z16       Z16a     Z16b"
      ]
     },
     "execution_count": 442,
     "metadata": {},
     "output_type": "execute_result"
    }
   ],
   "source": [
    "df_slots_thisyear.tail(10)"
   ]
  },
  {
   "cell_type": "code",
   "execution_count": 443,
   "metadata": {},
   "outputs": [
    {
     "data": {
      "text/html": [
       "<div>\n",
       "<style scoped>\n",
       "    .dataframe tbody tr th:only-of-type {\n",
       "        vertical-align: middle;\n",
       "    }\n",
       "\n",
       "    .dataframe tbody tr th {\n",
       "        vertical-align: top;\n",
       "    }\n",
       "\n",
       "    .dataframe thead th {\n",
       "        text-align: right;\n",
       "    }\n",
       "</style>\n",
       "<table border=\"1\" class=\"dataframe\">\n",
       "  <thead>\n",
       "    <tr style=\"text-align: right;\">\n",
       "      <th></th>\n",
       "      <th>Season</th>\n",
       "      <th>Seed</th>\n",
       "      <th>TeamID</th>\n",
       "    </tr>\n",
       "  </thead>\n",
       "  <tbody>\n",
       "    <tr>\n",
       "      <th>0</th>\n",
       "      <td>1985</td>\n",
       "      <td>W01</td>\n",
       "      <td>1207</td>\n",
       "    </tr>\n",
       "    <tr>\n",
       "      <th>1</th>\n",
       "      <td>1985</td>\n",
       "      <td>W02</td>\n",
       "      <td>1210</td>\n",
       "    </tr>\n",
       "    <tr>\n",
       "      <th>2</th>\n",
       "      <td>1985</td>\n",
       "      <td>W03</td>\n",
       "      <td>1228</td>\n",
       "    </tr>\n",
       "    <tr>\n",
       "      <th>3</th>\n",
       "      <td>1985</td>\n",
       "      <td>W04</td>\n",
       "      <td>1260</td>\n",
       "    </tr>\n",
       "    <tr>\n",
       "      <th>4</th>\n",
       "      <td>1985</td>\n",
       "      <td>W05</td>\n",
       "      <td>1374</td>\n",
       "    </tr>\n",
       "  </tbody>\n",
       "</table>\n",
       "</div>"
      ],
      "text/plain": [
       "   Season Seed  TeamID\n",
       "0    1985  W01    1207\n",
       "1    1985  W02    1210\n",
       "2    1985  W03    1228\n",
       "3    1985  W04    1260\n",
       "4    1985  W05    1374"
      ]
     },
     "execution_count": 443,
     "metadata": {},
     "output_type": "execute_result"
    }
   ],
   "source": [
    "#read in the tournament seed data data\n",
    "df_seeds = pd.read_csv('../../data/2022/raw/MDataFiles_Stage2/MNCAATourneySeeds.csv')\n",
    "df_seeds.head()"
   ]
  },
  {
   "cell_type": "code",
   "execution_count": 444,
   "metadata": {},
   "outputs": [
    {
     "data": {
      "text/html": [
       "<div>\n",
       "<style scoped>\n",
       "    .dataframe tbody tr th:only-of-type {\n",
       "        vertical-align: middle;\n",
       "    }\n",
       "\n",
       "    .dataframe tbody tr th {\n",
       "        vertical-align: top;\n",
       "    }\n",
       "\n",
       "    .dataframe thead th {\n",
       "        text-align: right;\n",
       "    }\n",
       "</style>\n",
       "<table border=\"1\" class=\"dataframe\">\n",
       "  <thead>\n",
       "    <tr style=\"text-align: right;\">\n",
       "      <th></th>\n",
       "      <th>Season</th>\n",
       "      <th>Seed</th>\n",
       "      <th>TeamID</th>\n",
       "    </tr>\n",
       "  </thead>\n",
       "  <tbody>\n",
       "    <tr>\n",
       "      <th>0</th>\n",
       "      <td>2022</td>\n",
       "      <td>W01</td>\n",
       "      <td>1124</td>\n",
       "    </tr>\n",
       "    <tr>\n",
       "      <th>1</th>\n",
       "      <td>2022</td>\n",
       "      <td>W02</td>\n",
       "      <td>1246</td>\n",
       "    </tr>\n",
       "    <tr>\n",
       "      <th>2</th>\n",
       "      <td>2022</td>\n",
       "      <td>W03</td>\n",
       "      <td>1345</td>\n",
       "    </tr>\n",
       "    <tr>\n",
       "      <th>3</th>\n",
       "      <td>2022</td>\n",
       "      <td>W04</td>\n",
       "      <td>1417</td>\n",
       "    </tr>\n",
       "    <tr>\n",
       "      <th>4</th>\n",
       "      <td>2022</td>\n",
       "      <td>W05</td>\n",
       "      <td>1388</td>\n",
       "    </tr>\n",
       "    <tr>\n",
       "      <th>5</th>\n",
       "      <td>2022</td>\n",
       "      <td>W06</td>\n",
       "      <td>1400</td>\n",
       "    </tr>\n",
       "    <tr>\n",
       "      <th>6</th>\n",
       "      <td>2022</td>\n",
       "      <td>W07</td>\n",
       "      <td>1293</td>\n",
       "    </tr>\n",
       "    <tr>\n",
       "      <th>7</th>\n",
       "      <td>2022</td>\n",
       "      <td>W08</td>\n",
       "      <td>1314</td>\n",
       "    </tr>\n",
       "    <tr>\n",
       "      <th>8</th>\n",
       "      <td>2022</td>\n",
       "      <td>W09</td>\n",
       "      <td>1266</td>\n",
       "    </tr>\n",
       "    <tr>\n",
       "      <th>9</th>\n",
       "      <td>2022</td>\n",
       "      <td>W10</td>\n",
       "      <td>1362</td>\n",
       "    </tr>\n",
       "    <tr>\n",
       "      <th>10</th>\n",
       "      <td>2022</td>\n",
       "      <td>W11</td>\n",
       "      <td>1439</td>\n",
       "    </tr>\n",
       "    <tr>\n",
       "      <th>11</th>\n",
       "      <td>2022</td>\n",
       "      <td>W12a</td>\n",
       "      <td>1231</td>\n",
       "    </tr>\n",
       "    <tr>\n",
       "      <th>12</th>\n",
       "      <td>2022</td>\n",
       "      <td>W12b</td>\n",
       "      <td>1461</td>\n",
       "    </tr>\n",
       "    <tr>\n",
       "      <th>13</th>\n",
       "      <td>2022</td>\n",
       "      <td>W13</td>\n",
       "      <td>1103</td>\n",
       "    </tr>\n",
       "    <tr>\n",
       "      <th>14</th>\n",
       "      <td>2022</td>\n",
       "      <td>W14</td>\n",
       "      <td>1463</td>\n",
       "    </tr>\n",
       "    <tr>\n",
       "      <th>15</th>\n",
       "      <td>2022</td>\n",
       "      <td>W15</td>\n",
       "      <td>1389</td>\n",
       "    </tr>\n",
       "    <tr>\n",
       "      <th>16</th>\n",
       "      <td>2022</td>\n",
       "      <td>W16</td>\n",
       "      <td>1313</td>\n",
       "    </tr>\n",
       "    <tr>\n",
       "      <th>17</th>\n",
       "      <td>2022</td>\n",
       "      <td>X01</td>\n",
       "      <td>1211</td>\n",
       "    </tr>\n",
       "    <tr>\n",
       "      <th>18</th>\n",
       "      <td>2022</td>\n",
       "      <td>X02</td>\n",
       "      <td>1181</td>\n",
       "    </tr>\n",
       "    <tr>\n",
       "      <th>19</th>\n",
       "      <td>2022</td>\n",
       "      <td>X03</td>\n",
       "      <td>1403</td>\n",
       "    </tr>\n",
       "  </tbody>\n",
       "</table>\n",
       "</div>"
      ],
      "text/plain": [
       "    Season  Seed  TeamID\n",
       "0     2022   W01    1124\n",
       "1     2022   W02    1246\n",
       "2     2022   W03    1345\n",
       "3     2022   W04    1417\n",
       "4     2022   W05    1388\n",
       "5     2022   W06    1400\n",
       "6     2022   W07    1293\n",
       "7     2022   W08    1314\n",
       "8     2022   W09    1266\n",
       "9     2022   W10    1362\n",
       "10    2022   W11    1439\n",
       "11    2022  W12a    1231\n",
       "12    2022  W12b    1461\n",
       "13    2022   W13    1103\n",
       "14    2022   W14    1463\n",
       "15    2022   W15    1389\n",
       "16    2022   W16    1313\n",
       "17    2022   X01    1211\n",
       "18    2022   X02    1181\n",
       "19    2022   X03    1403"
      ]
     },
     "execution_count": 444,
     "metadata": {},
     "output_type": "execute_result"
    }
   ],
   "source": [
    "df_seeds_thisyear = df_seeds[df_seeds['Season']==2022]\n",
    "df_seeds_thisyear = df_seeds_thisyear.reset_index(drop=True)\n",
    "df_seeds_thisyear.head(20)"
   ]
  },
  {
   "cell_type": "markdown",
   "metadata": {},
   "source": [
    "Rather than messing with the play-in games, let's take 11a and 16a as seed 11 and 16. Then we don't need to worry about it. "
   ]
  },
  {
   "cell_type": "code",
   "execution_count": 445,
   "metadata": {},
   "outputs": [],
   "source": [
    "df_seeds_thisyear.Seed.replace(['W12a','Y16a','X11a','Z16a'],['W12','Y16','X11','Z16'],inplace=True)\n",
    "vals_to_drop=['W12b','X11b','Y16b','Z16b']\n",
    "df_seeds_thisyear = df_seeds_thisyear[df_seeds_thisyear.Seed.isin(vals_to_drop) == False]"
   ]
  },
  {
   "cell_type": "code",
   "execution_count": 446,
   "metadata": {},
   "outputs": [
    {
     "name": "stdout",
     "output_type": "stream",
     "text": [
      "    Season Seed  TeamID\n",
      "34    2022  Y01    1242\n",
      "35    2022  Y02    1120\n",
      "36    2022  Y03    1458\n",
      "37    2022  Y04    1344\n",
      "38    2022  Y05    1234\n",
      "39    2022  Y06    1261\n",
      "40    2022  Y07    1425\n",
      "41    2022  Y08    1361\n",
      "42    2022  Y09    1166\n",
      "43    2022  Y10    1274\n",
      "44    2022  Y11    1235\n",
      "45    2022  Y12    1350\n",
      "46    2022  Y13    1355\n",
      "47    2022  Y14    1159\n",
      "48    2022  Y15    1240\n",
      "49    2022  Y16    1394\n",
      "51    2022  Z01    1112\n",
      "52    2022  Z02    1437\n",
      "53    2022  Z03    1397\n",
      "54    2022  Z04    1228\n",
      "55    2022  Z05    1222\n",
      "56    2022  Z06    1161\n",
      "57    2022  Z07    1326\n",
      "58    2022  Z08    1371\n",
      "59    2022  Z09    1395\n",
      "60    2022  Z10    1260\n",
      "61    2022  Z11    1276\n",
      "62    2022  Z12    1412\n",
      "63    2022  Z13    1151\n",
      "64    2022  Z14    1255\n",
      "65    2022  Z15    1174\n",
      "66    2022  Z16    1136\n"
     ]
    }
   ],
   "source": [
    "print(df_seeds_thisyear[32:64])"
   ]
  },
  {
   "cell_type": "markdown",
   "metadata": {},
   "source": [
    "I think with these three dataframes, we can write a function that will take the slot information to find out which slots play eachother in each round. Then we use the seed data frame to look up which TeamID is associated with the slots. Then we look at our predictions to find out who we predicted to win. From there we should be able to label the winning teams with their seed for the next round and continue on. "
   ]
  },
  {
   "cell_type": "code",
   "execution_count": 447,
   "metadata": {},
   "outputs": [],
   "source": [
    "'''Given two integers 0,8 for W round 1, return a list of Strong Seeds and a list of Weak Seeds'''\n",
    "def match_upID(int1:int,int2:int):\n",
    "    StrongSeed = df_slots_thisyear.StrongSeed[int1:int2]\n",
    "    WeakSeed = df_slots_thisyear.WeakSeed[int1:int2]\n",
    "    TeamID_Strong = [int(df_seeds_thisyear.TeamID[df_seeds_thisyear.Seed==seed]) for seed in StrongSeed]\n",
    "    TeamID_Weak = [int(df_seeds_thisyear.TeamID[df_seeds_thisyear.Seed==seed]) for seed in WeakSeed]\n",
    "    return TeamID_Strong,TeamID_Weak"
   ]
  },
  {
   "cell_type": "code",
   "execution_count": 448,
   "metadata": {},
   "outputs": [],
   "source": [
    "'''Given the TeamID of the strong and weak seed in the match up, which TeamName \n",
    "was predicted to be the winner''' \n",
    "def winners(strong:int,weak:int):\n",
    "    if strong > weak:\n",
    "        id_pred = '2022_'+str(weak)+'_'+str(strong)\n",
    "        pred = float(df_pred.Pred[df_pred.ID==id_pred])\n",
    "        print(pred)\n",
    "        if pred < 0.5:\n",
    "            win_teamID = strong\n",
    "            win_team = df_teams.loc[df_teams.TeamID == win_teamID,'TeamName'].iloc[0]\n",
    "            print(win_team)\n",
    "        elif pred > 0.5:\n",
    "            win_teamID = weak\n",
    "            win_team = df_teams.loc[df_teams.TeamID == win_teamID,'TeamName'].iloc[0]\n",
    "            print(win_team)\n",
    "    elif strong < weak:\n",
    "        id_pred = '2022_'+str(strong)+'_'+str(weak)\n",
    "        pred = float(df_pred.Pred[df_pred.ID==id_pred])\n",
    "        print(pred)\n",
    "        if pred < 0.5:\n",
    "            win_teamID = weak\n",
    "            win_team = df_teams.loc[df_teams.TeamID == win_teamID,'TeamName'].iloc[0]\n",
    "            print(win_team)\n",
    "        elif pred > 0.5:\n",
    "            win_teamID = strong\n",
    "            win_team = df_teams.loc[df_teams.TeamID == win_teamID,'TeamName'].iloc[0]\n",
    "            print(win_team)\n",
    "    return win_team"
   ]
  },
  {
   "cell_type": "code",
   "execution_count": 449,
   "metadata": {},
   "outputs": [],
   "source": [
    "'''Take the list of Strong TeamIDs and Weak TeamIDs, and use the winners function \n",
    "to make a dictionary of the winning team and the rank for the next round.'''\n",
    "def round_winners(strong_teams:list, weak_teams:list, end_rank:str):\n",
    "    rank = [end_rank+'{}'.format(i+1) for i in range(8)]\n",
    "    winning_teams = []\n",
    "    for i in range(len(strong_teams)):\n",
    "        strong_id = strong_teams[i]\n",
    "        weak_id = weak_teams[i]\n",
    "        winner = winners(strong_id, weak_id)\n",
    "        winning_teams.append(str(winner))\n",
    "    round_wins = dict(zip(winning_teams,rank))\n",
    "    return round_wins"
   ]
  },
  {
   "cell_type": "markdown",
   "metadata": {},
   "source": [
    "# Region: W\n",
    "# Round: 1"
   ]
  },
  {
   "cell_type": "code",
   "execution_count": 450,
   "metadata": {},
   "outputs": [
    {
     "data": {
      "text/plain": [
       "([1124, 1246, 1345, 1417, 1388, 1400, 1293, 1314],\n",
       " [1313, 1389, 1463, 1103, 1231, 1439, 1362, 1266])"
      ]
     },
     "execution_count": 450,
     "metadata": {},
     "output_type": "execute_result"
    }
   ],
   "source": [
    "TeamID_Strong, TeamID_Weak = match_upID(0,8)\n",
    "TeamID_Strong, TeamID_Weak"
   ]
  },
  {
   "cell_type": "code",
   "execution_count": 451,
   "metadata": {},
   "outputs": [
    {
     "name": "stdout",
     "output_type": "stream",
     "text": [
      "0.92234504\n",
      "Baylor\n",
      "0.8724796\n",
      "Kentucky\n",
      "0.89320433\n",
      "Purdue\n",
      "0.113508396\n",
      "UCLA\n",
      "0.41570774\n",
      "St Mary's CA\n",
      "0.74389285\n",
      "Texas\n",
      "0.51378846\n",
      "Murray St\n",
      "0.54290676\n",
      "Marquette\n"
     ]
    },
    {
     "data": {
      "text/plain": [
       "{'Baylor': 'R1W1',\n",
       " 'Kentucky': 'R1W2',\n",
       " 'Purdue': 'R1W3',\n",
       " 'UCLA': 'R1W4',\n",
       " \"St Mary's CA\": 'R1W5',\n",
       " 'Texas': 'R1W6',\n",
       " 'Murray St': 'R1W7',\n",
       " 'Marquette': 'R1W8'}"
      ]
     },
     "execution_count": 451,
     "metadata": {},
     "output_type": "execute_result"
    }
   ],
   "source": [
    "round1_w = round_winners(TeamID_Strong,TeamID_Weak,'R1W')\n",
    "round1_w"
   ]
  },
  {
   "cell_type": "markdown",
   "metadata": {},
   "source": [
    "# Region: W\n",
    "# Round: 2"
   ]
  },
  {
   "cell_type": "code",
   "execution_count": 452,
   "metadata": {},
   "outputs": [
    {
     "name": "stdout",
     "output_type": "stream",
     "text": [
      "[1124, 1246, 1345, 1417, 1388, 1400, 1293, 1266]\n"
     ]
    },
    {
     "data": {
      "text/plain": [
       "([1124, 1246, 1345, 1417], [1266, 1293, 1400, 1388])"
      ]
     },
     "execution_count": 452,
     "metadata": {},
     "output_type": "execute_result"
    }
   ],
   "source": [
    "IDs = [df_teams.loc[df_teams.TeamName==key,'TeamID'].iloc[0] for key in round1_w]\n",
    "print(IDs)\n",
    "TeamID_Strong = [IDs[i] for i in range(4)]\n",
    "TeamID_Weak = [IDs[i] for i in reversed(range(4,8))]\n",
    "TeamID_Strong, TeamID_Weak"
   ]
  },
  {
   "cell_type": "code",
   "execution_count": 453,
   "metadata": {},
   "outputs": [
    {
     "name": "stdout",
     "output_type": "stream",
     "text": [
      "0.7721773000000001\n",
      "Baylor\n",
      "0.7457611\n",
      "Kentucky\n",
      "0.76024544\n",
      "Purdue\n",
      "0.43218905\n",
      "UCLA\n"
     ]
    },
    {
     "data": {
      "text/plain": [
       "{'Baylor': 'R2W1', 'Kentucky': 'R2W2', 'Purdue': 'R2W3', 'UCLA': 'R2W4'}"
      ]
     },
     "execution_count": 453,
     "metadata": {},
     "output_type": "execute_result"
    }
   ],
   "source": [
    "round2_w = round_winners(TeamID_Strong,TeamID_Weak,'R2W')\n",
    "round2_w"
   ]
  },
  {
   "cell_type": "markdown",
   "metadata": {},
   "source": [
    "# Region: W\n",
    "# Round: 3"
   ]
  },
  {
   "cell_type": "code",
   "execution_count": 454,
   "metadata": {},
   "outputs": [
    {
     "name": "stdout",
     "output_type": "stream",
     "text": [
      "[1124, 1246, 1345, 1417]\n"
     ]
    },
    {
     "data": {
      "text/plain": [
       "([1124, 1246], [1417, 1345])"
      ]
     },
     "execution_count": 454,
     "metadata": {},
     "output_type": "execute_result"
    }
   ],
   "source": [
    "IDs = [df_teams.loc[df_teams.TeamName==key,'TeamID'].iloc[0] for key in round2_w]\n",
    "print(IDs)\n",
    "TeamID_Strong = [IDs[i] for i in range(2)]\n",
    "TeamID_Weak = [IDs[i] for i in reversed(range(2,4))]\n",
    "TeamID_Strong, TeamID_Weak"
   ]
  },
  {
   "cell_type": "code",
   "execution_count": 455,
   "metadata": {},
   "outputs": [
    {
     "name": "stdout",
     "output_type": "stream",
     "text": [
      "0.7609483\n",
      "Baylor\n",
      "0.49535704\n",
      "Purdue\n"
     ]
    },
    {
     "data": {
      "text/plain": [
       "{'Baylor': 'R3W1', 'Purdue': 'R3W2'}"
      ]
     },
     "execution_count": 455,
     "metadata": {},
     "output_type": "execute_result"
    }
   ],
   "source": [
    "round3_w = round_winners(TeamID_Strong,TeamID_Weak,'R3W')\n",
    "round3_w"
   ]
  },
  {
   "cell_type": "markdown",
   "metadata": {},
   "source": [
    "# Region: W\n",
    "# Round: 4"
   ]
  },
  {
   "cell_type": "code",
   "execution_count": 456,
   "metadata": {},
   "outputs": [
    {
     "name": "stdout",
     "output_type": "stream",
     "text": [
      "[1124, 1345]\n"
     ]
    },
    {
     "data": {
      "text/plain": [
       "(1124, 1345)"
      ]
     },
     "execution_count": 456,
     "metadata": {},
     "output_type": "execute_result"
    }
   ],
   "source": [
    "IDs = [df_teams.loc[df_teams.TeamName==key,'TeamID'].iloc[0] for key in round3_w]\n",
    "print(IDs)\n",
    "TeamID_Strong = IDs[0]\n",
    "TeamID_Weak = IDs[1]\n",
    "TeamID_Strong, TeamID_Weak"
   ]
  },
  {
   "cell_type": "code",
   "execution_count": 457,
   "metadata": {},
   "outputs": [
    {
     "name": "stdout",
     "output_type": "stream",
     "text": [
      "0.5804069000000001\n",
      "Baylor\n"
     ]
    },
    {
     "data": {
      "text/plain": [
       "{'Baylor', 'R4W1'}"
      ]
     },
     "execution_count": 457,
     "metadata": {},
     "output_type": "execute_result"
    }
   ],
   "source": [
    "rank_for_5_w = 'R4W1'\n",
    "strong_id = TeamID_Strong\n",
    "weak_id = TeamID_Weak\n",
    "winner = winners(strong_id, weak_id)\n",
    "winner_w4 = winner\n",
    "round4_w = {winner_w4,rank_for_5_w}\n",
    "round4_w"
   ]
  },
  {
   "cell_type": "markdown",
   "metadata": {},
   "source": [
    "# Region: X\n",
    "# Round: 1"
   ]
  },
  {
   "cell_type": "code",
   "execution_count": 458,
   "metadata": {},
   "outputs": [
    {
     "data": {
      "text/plain": [
       "([1211, 1181, 1403, 1116, 1163, 1104, 1277, 1129],\n",
       " [1209, 1168, 1286, 1436, 1308, 1323, 1172, 1272])"
      ]
     },
     "execution_count": 458,
     "metadata": {},
     "output_type": "execute_result"
    }
   ],
   "source": [
    "TeamID_Strong, TeamID_Weak = match_upID(8,16)\n",
    "TeamID_Strong, TeamID_Weak"
   ]
  },
  {
   "cell_type": "code",
   "execution_count": 459,
   "metadata": {},
   "outputs": [
    {
     "name": "stdout",
     "output_type": "stream",
     "text": [
      "0.06594069\n",
      "Gonzaga\n",
      "0.090575956\n",
      "Duke\n",
      "0.08808288\n",
      "Texas Tech\n",
      "0.73326343\n",
      "Arkansas\n",
      "0.7495049\n",
      "Connecticut\n",
      "0.7450432\n",
      "Alabama\n",
      "0.31904137\n",
      "Michigan St\n",
      "0.5922069000000001\n",
      "Boise St\n"
     ]
    },
    {
     "data": {
      "text/plain": [
       "{'Gonzaga': 'R1X1',\n",
       " 'Duke': 'R1X2',\n",
       " 'Texas Tech': 'R1X3',\n",
       " 'Arkansas': 'R1X4',\n",
       " 'Connecticut': 'R1X5',\n",
       " 'Alabama': 'R1X6',\n",
       " 'Michigan St': 'R1X7',\n",
       " 'Boise St': 'R1X8'}"
      ]
     },
     "execution_count": 459,
     "metadata": {},
     "output_type": "execute_result"
    }
   ],
   "source": [
    "round1_x = round_winners(TeamID_Strong,TeamID_Weak,'R1X')\n",
    "round1_x"
   ]
  },
  {
   "cell_type": "markdown",
   "metadata": {},
   "source": [
    "# Region: X\n",
    "# Round: 2"
   ]
  },
  {
   "cell_type": "code",
   "execution_count": 460,
   "metadata": {},
   "outputs": [
    {
     "name": "stdout",
     "output_type": "stream",
     "text": [
      "[1211, 1181, 1403, 1116, 1163, 1104, 1277, 1129]\n"
     ]
    },
    {
     "data": {
      "text/plain": [
       "([1211, 1181, 1403, 1116], [1129, 1277, 1104, 1163])"
      ]
     },
     "execution_count": 460,
     "metadata": {},
     "output_type": "execute_result"
    }
   ],
   "source": [
    "IDs = [df_teams.loc[df_teams.TeamName==key,'TeamID'].iloc[0] for key in round1_x]\n",
    "print(IDs)\n",
    "TeamID_Strong = [IDs[i] for i in range(4)]\n",
    "TeamID_Weak = [IDs[i] for i in reversed(range(4,8))]\n",
    "TeamID_Strong, TeamID_Weak"
   ]
  },
  {
   "cell_type": "code",
   "execution_count": 461,
   "metadata": {},
   "outputs": [
    {
     "name": "stdout",
     "output_type": "stream",
     "text": [
      "0.16730592\n",
      "Gonzaga\n",
      "0.69673693\n",
      "Duke\n",
      "0.3896925\n",
      "Texas Tech\n",
      "0.4114656\n",
      "Connecticut\n"
     ]
    },
    {
     "data": {
      "text/plain": [
       "{'Gonzaga': 'R2X1',\n",
       " 'Duke': 'R2X2',\n",
       " 'Texas Tech': 'R2X3',\n",
       " 'Connecticut': 'R2X4'}"
      ]
     },
     "execution_count": 461,
     "metadata": {},
     "output_type": "execute_result"
    }
   ],
   "source": [
    "round2_x = round_winners(TeamID_Strong,TeamID_Weak,'R2X')\n",
    "round2_x"
   ]
  },
  {
   "cell_type": "markdown",
   "metadata": {},
   "source": [
    "# Region: X\n",
    "# Round: 3"
   ]
  },
  {
   "cell_type": "code",
   "execution_count": 462,
   "metadata": {},
   "outputs": [
    {
     "name": "stdout",
     "output_type": "stream",
     "text": [
      "[1211, 1181, 1403, 1163]\n"
     ]
    },
    {
     "data": {
      "text/plain": [
       "([1211, 1181], [1163, 1403])"
      ]
     },
     "execution_count": 462,
     "metadata": {},
     "output_type": "execute_result"
    }
   ],
   "source": [
    "IDs = [df_teams.loc[df_teams.TeamName==key,'TeamID'].iloc[0] for key in round2_x]\n",
    "print(IDs)\n",
    "TeamID_Strong = [IDs[i] for i in range(2)]\n",
    "TeamID_Weak = [IDs[i] for i in reversed(range(2,4))]\n",
    "TeamID_Strong, TeamID_Weak"
   ]
  },
  {
   "cell_type": "code",
   "execution_count": 463,
   "metadata": {},
   "outputs": [
    {
     "name": "stdout",
     "output_type": "stream",
     "text": [
      "0.2942706\n",
      "Gonzaga\n",
      "0.52727026\n",
      "Duke\n"
     ]
    },
    {
     "data": {
      "text/plain": [
       "{'Gonzaga': 'R3X1', 'Duke': 'R3X2'}"
      ]
     },
     "execution_count": 463,
     "metadata": {},
     "output_type": "execute_result"
    }
   ],
   "source": [
    "round3_x = round_winners(TeamID_Strong,TeamID_Weak,'R3X')\n",
    "round3_x"
   ]
  },
  {
   "cell_type": "markdown",
   "metadata": {},
   "source": [
    "# Region: X\n",
    "# Round: 4"
   ]
  },
  {
   "cell_type": "code",
   "execution_count": 464,
   "metadata": {},
   "outputs": [
    {
     "name": "stdout",
     "output_type": "stream",
     "text": [
      "[1211, 1181]\n"
     ]
    },
    {
     "data": {
      "text/plain": [
       "(1211, 1181)"
      ]
     },
     "execution_count": 464,
     "metadata": {},
     "output_type": "execute_result"
    }
   ],
   "source": [
    "IDs = [df_teams.loc[df_teams.TeamName==key,'TeamID'].iloc[0] for key in round3_x]\n",
    "print(IDs)\n",
    "TeamID_Strong = IDs[0]\n",
    "TeamID_Weak = IDs[1]\n",
    "TeamID_Strong, TeamID_Weak"
   ]
  },
  {
   "cell_type": "code",
   "execution_count": 465,
   "metadata": {},
   "outputs": [
    {
     "name": "stdout",
     "output_type": "stream",
     "text": [
      "0.2878635\n",
      "Gonzaga\n"
     ]
    },
    {
     "data": {
      "text/plain": [
       "{'Gonzaga', 'R4X1'}"
      ]
     },
     "execution_count": 465,
     "metadata": {},
     "output_type": "execute_result"
    }
   ],
   "source": [
    "rank_for_5_x = 'R4X1'\n",
    "strong_id = TeamID_Strong\n",
    "weak_id = TeamID_Weak\n",
    "winner = winners(strong_id, weak_id)\n",
    "winner_x4 = winner\n",
    "round4_x = {winner_x4,rank_for_5_x}\n",
    "round4_x"
   ]
  },
  {
   "cell_type": "markdown",
   "metadata": {},
   "source": [
    "# Region: Y\n",
    "# Round: 1"
   ]
  },
  {
   "cell_type": "code",
   "execution_count": 466,
   "metadata": {},
   "outputs": [
    {
     "data": {
      "text/plain": [
       "([1242, 1120, 1458, 1344, 1234, 1261, 1425, 1361],\n",
       " [1394, 1240, 1159, 1355, 1350, 1235, 1274, 1166])"
      ]
     },
     "execution_count": 466,
     "metadata": {},
     "output_type": "execute_result"
    }
   ],
   "source": [
    "TeamID_Strong, TeamID_Weak = match_upID(16,24)\n",
    "TeamID_Strong, TeamID_Weak"
   ]
  },
  {
   "cell_type": "code",
   "execution_count": 467,
   "metadata": {},
   "outputs": [
    {
     "name": "stdout",
     "output_type": "stream",
     "text": [
      "0.91250366\n",
      "Kansas\n",
      "0.92970693\n",
      "Auburn\n",
      "0.12282925\n",
      "Wisconsin\n",
      "0.7341482\n",
      "Providence\n",
      "0.72431934\n",
      "Iowa\n",
      "0.36820337\n",
      "LSU\n",
      "0.3885995\n",
      "USC\n",
      "0.35325155\n",
      "San Diego St\n"
     ]
    },
    {
     "data": {
      "text/plain": [
       "{'Kansas': 'R1Y1',\n",
       " 'Auburn': 'R1Y2',\n",
       " 'Wisconsin': 'R1Y3',\n",
       " 'Providence': 'R1Y4',\n",
       " 'Iowa': 'R1Y5',\n",
       " 'LSU': 'R1Y6',\n",
       " 'USC': 'R1Y7',\n",
       " 'San Diego St': 'R1Y8'}"
      ]
     },
     "execution_count": 467,
     "metadata": {},
     "output_type": "execute_result"
    }
   ],
   "source": [
    "round1_y = round_winners(TeamID_Strong,TeamID_Weak,'R1Y')\n",
    "round1_y"
   ]
  },
  {
   "cell_type": "markdown",
   "metadata": {},
   "source": [
    "# Region: Y\n",
    "# Round: 2"
   ]
  },
  {
   "cell_type": "code",
   "execution_count": 468,
   "metadata": {},
   "outputs": [
    {
     "name": "stdout",
     "output_type": "stream",
     "text": [
      "[1242, 1120, 1458, 1344, 1234, 1261, 1425, 1361]\n"
     ]
    },
    {
     "data": {
      "text/plain": [
       "([1242, 1120, 1458, 1344], [1361, 1425, 1261, 1234])"
      ]
     },
     "execution_count": 468,
     "metadata": {},
     "output_type": "execute_result"
    }
   ],
   "source": [
    "IDs = [df_teams.loc[df_teams.TeamName==key,'TeamID'].iloc[0] for key in round1_y]\n",
    "print(IDs)\n",
    "TeamID_Strong = [IDs[i] for i in range(4)]\n",
    "TeamID_Weak = [IDs[i] for i in reversed(range(4,8))]\n",
    "TeamID_Strong, TeamID_Weak"
   ]
  },
  {
   "cell_type": "code",
   "execution_count": 469,
   "metadata": {},
   "outputs": [
    {
     "name": "stdout",
     "output_type": "stream",
     "text": [
      "0.79960215\n",
      "Kansas\n",
      "0.8508146000000001\n",
      "Auburn\n",
      "0.47276309999999994\n",
      "Wisconsin\n",
      "0.42827514\n",
      "Providence\n"
     ]
    },
    {
     "data": {
      "text/plain": [
       "{'Kansas': 'R2Y1', 'Auburn': 'R2Y2', 'Wisconsin': 'R2Y3', 'Providence': 'R2Y4'}"
      ]
     },
     "execution_count": 469,
     "metadata": {},
     "output_type": "execute_result"
    }
   ],
   "source": [
    "round2_y = round_winners(TeamID_Strong,TeamID_Weak,'R2Y')\n",
    "round2_y"
   ]
  },
  {
   "cell_type": "markdown",
   "metadata": {},
   "source": [
    "# Region: Y\n",
    "# Round: 3"
   ]
  },
  {
   "cell_type": "code",
   "execution_count": 470,
   "metadata": {},
   "outputs": [
    {
     "name": "stdout",
     "output_type": "stream",
     "text": [
      "[1242, 1120, 1458, 1344]\n"
     ]
    },
    {
     "data": {
      "text/plain": [
       "([1242, 1120], [1344, 1458])"
      ]
     },
     "execution_count": 470,
     "metadata": {},
     "output_type": "execute_result"
    }
   ],
   "source": [
    "IDs = [df_teams.loc[df_teams.TeamName==key,'TeamID'].iloc[0] for key in round2_y]\n",
    "print(IDs)\n",
    "TeamID_Strong = [IDs[i] for i in range(2)]\n",
    "TeamID_Weak = [IDs[i] for i in reversed(range(2,4))]\n",
    "TeamID_Strong, TeamID_Weak"
   ]
  },
  {
   "cell_type": "code",
   "execution_count": 471,
   "metadata": {},
   "outputs": [
    {
     "name": "stdout",
     "output_type": "stream",
     "text": [
      "0.7797833000000001\n",
      "Kansas\n",
      "0.733884\n",
      "Auburn\n"
     ]
    },
    {
     "data": {
      "text/plain": [
       "{'Kansas': 'R3Y1', 'Auburn': 'R3Y2'}"
      ]
     },
     "execution_count": 471,
     "metadata": {},
     "output_type": "execute_result"
    }
   ],
   "source": [
    "round3_y = round_winners(TeamID_Strong,TeamID_Weak,'R3Y')\n",
    "round3_y"
   ]
  },
  {
   "cell_type": "markdown",
   "metadata": {},
   "source": [
    "# Region: Y\n",
    "# Round: 4"
   ]
  },
  {
   "cell_type": "code",
   "execution_count": 472,
   "metadata": {},
   "outputs": [
    {
     "name": "stdout",
     "output_type": "stream",
     "text": [
      "[1242, 1120]\n"
     ]
    },
    {
     "data": {
      "text/plain": [
       "(1242, 1120)"
      ]
     },
     "execution_count": 472,
     "metadata": {},
     "output_type": "execute_result"
    }
   ],
   "source": [
    "IDs = [df_teams.loc[df_teams.TeamName==key,'TeamID'].iloc[0] for key in round3_y]\n",
    "print(IDs)\n",
    "TeamID_Strong = IDs[0]\n",
    "TeamID_Weak = IDs[1]\n",
    "TeamID_Strong, TeamID_Weak"
   ]
  },
  {
   "cell_type": "code",
   "execution_count": 473,
   "metadata": {},
   "outputs": [
    {
     "name": "stdout",
     "output_type": "stream",
     "text": [
      "0.46755365\n",
      "Kansas\n"
     ]
    },
    {
     "data": {
      "text/plain": [
       "{'Kansas', 'R4Y1'}"
      ]
     },
     "execution_count": 473,
     "metadata": {},
     "output_type": "execute_result"
    }
   ],
   "source": [
    "rank_for_5_y = 'R4Y1'\n",
    "strong_id = TeamID_Strong\n",
    "weak_id = TeamID_Weak\n",
    "winner = winners(strong_id, weak_id)\n",
    "winner_y4 = winner\n",
    "round4_y = {winner_y4,rank_for_5_y}\n",
    "round4_y"
   ]
  },
  {
   "cell_type": "markdown",
   "metadata": {},
   "source": [
    "# Region: Z\n",
    "# Round: 1"
   ]
  },
  {
   "cell_type": "code",
   "execution_count": 474,
   "metadata": {},
   "outputs": [
    {
     "data": {
      "text/plain": [
       "([1112, 1437, 1397, 1228, 1222, 1161, 1326, 1371],\n",
       " [1136, 1174, 1255, 1151, 1412, 1276, 1260, 1395])"
      ]
     },
     "execution_count": 474,
     "metadata": {},
     "output_type": "execute_result"
    }
   ],
   "source": [
    "TeamID_Strong, TeamID_Weak = match_upID(24,32)\n",
    "TeamID_Strong, TeamID_Weak"
   ]
  },
  {
   "cell_type": "code",
   "execution_count": 475,
   "metadata": {},
   "outputs": [
    {
     "name": "stdout",
     "output_type": "stream",
     "text": [
      "0.88333344\n",
      "Arizona\n",
      "0.11098983\n",
      "Villanova\n",
      "0.11548576\n",
      "Tennessee\n",
      "0.16594388\n",
      "Illinois\n",
      "0.77801055\n",
      "Houston\n",
      "0.5855874\n",
      "Colorado St\n",
      "0.4427423\n",
      "Ohio St\n",
      "0.49629579999999995\n",
      "TCU\n"
     ]
    },
    {
     "data": {
      "text/plain": [
       "{'Arizona': 'R1Z1',\n",
       " 'Villanova': 'R1Z2',\n",
       " 'Tennessee': 'R1Z3',\n",
       " 'Illinois': 'R1Z4',\n",
       " 'Houston': 'R1Z5',\n",
       " 'Colorado St': 'R1Z6',\n",
       " 'Ohio St': 'R1Z7',\n",
       " 'TCU': 'R1Z8'}"
      ]
     },
     "execution_count": 475,
     "metadata": {},
     "output_type": "execute_result"
    }
   ],
   "source": [
    "round1_z = round_winners(TeamID_Strong,TeamID_Weak,'R1Z')\n",
    "round1_z"
   ]
  },
  {
   "cell_type": "markdown",
   "metadata": {},
   "source": [
    "# Region: Z\n",
    "# Round: 2"
   ]
  },
  {
   "cell_type": "code",
   "execution_count": 476,
   "metadata": {},
   "outputs": [
    {
     "name": "stdout",
     "output_type": "stream",
     "text": [
      "[1112, 1437, 1397, 1228, 1222, 1161, 1326, 1395]\n"
     ]
    },
    {
     "data": {
      "text/plain": [
       "([1112, 1437, 1397, 1228], [1395, 1326, 1161, 1222])"
      ]
     },
     "execution_count": 476,
     "metadata": {},
     "output_type": "execute_result"
    }
   ],
   "source": [
    "IDs = [df_teams.loc[df_teams.TeamName==key,'TeamID'].iloc[0] for key in round1_z]\n",
    "print(IDs)\n",
    "TeamID_Strong = [IDs[i] for i in range(4)]\n",
    "TeamID_Weak = [IDs[i] for i in reversed(range(4,8))]\n",
    "TeamID_Strong, TeamID_Weak"
   ]
  },
  {
   "cell_type": "code",
   "execution_count": 477,
   "metadata": {},
   "outputs": [
    {
     "name": "stdout",
     "output_type": "stream",
     "text": [
      "0.78051424\n",
      "Arizona\n",
      "0.36861387\n",
      "Villanova\n",
      "0.35452357\n",
      "Tennessee\n",
      "0.6410865\n",
      "Houston\n"
     ]
    },
    {
     "data": {
      "text/plain": [
       "{'Arizona': 'R2Z1',\n",
       " 'Villanova': 'R2Z2',\n",
       " 'Tennessee': 'R2Z3',\n",
       " 'Houston': 'R2Z4'}"
      ]
     },
     "execution_count": 477,
     "metadata": {},
     "output_type": "execute_result"
    }
   ],
   "source": [
    "round2_z = round_winners(TeamID_Strong,TeamID_Weak,'R2Z')\n",
    "round2_z"
   ]
  },
  {
   "cell_type": "markdown",
   "metadata": {},
   "source": [
    "# Region: Z\n",
    "# Round: 3"
   ]
  },
  {
   "cell_type": "code",
   "execution_count": 478,
   "metadata": {},
   "outputs": [
    {
     "name": "stdout",
     "output_type": "stream",
     "text": [
      "[1112, 1437, 1397, 1222]\n"
     ]
    },
    {
     "data": {
      "text/plain": [
       "([1112, 1437], [1222, 1397])"
      ]
     },
     "execution_count": 478,
     "metadata": {},
     "output_type": "execute_result"
    }
   ],
   "source": [
    "IDs = [df_teams.loc[df_teams.TeamName==key,'TeamID'].iloc[0] for key in round2_z]\n",
    "print(IDs)\n",
    "TeamID_Strong = [IDs[i] for i in range(2)]\n",
    "TeamID_Weak = [IDs[i] for i in reversed(range(2,4))]\n",
    "TeamID_Strong, TeamID_Weak"
   ]
  },
  {
   "cell_type": "code",
   "execution_count": 479,
   "metadata": {},
   "outputs": [
    {
     "name": "stdout",
     "output_type": "stream",
     "text": [
      "0.62781143\n",
      "Arizona\n",
      "0.49916579999999994\n",
      "Villanova\n"
     ]
    },
    {
     "data": {
      "text/plain": [
       "{'Arizona': 'R3Z1', 'Villanova': 'R3Z2'}"
      ]
     },
     "execution_count": 479,
     "metadata": {},
     "output_type": "execute_result"
    }
   ],
   "source": [
    "round3_z = round_winners(TeamID_Strong,TeamID_Weak,'R3Z')\n",
    "round3_z"
   ]
  },
  {
   "cell_type": "markdown",
   "metadata": {},
   "source": [
    "# Region: Z\n",
    "# Round: 4"
   ]
  },
  {
   "cell_type": "code",
   "execution_count": 480,
   "metadata": {},
   "outputs": [
    {
     "name": "stdout",
     "output_type": "stream",
     "text": [
      "[1112, 1437]\n"
     ]
    },
    {
     "data": {
      "text/plain": [
       "(1112, 1437)"
      ]
     },
     "execution_count": 480,
     "metadata": {},
     "output_type": "execute_result"
    }
   ],
   "source": [
    "IDs = [df_teams.loc[df_teams.TeamName==key,'TeamID'].iloc[0] for key in round3_z]\n",
    "print(IDs)\n",
    "TeamID_Strong = IDs[0]\n",
    "TeamID_Weak = IDs[1]\n",
    "TeamID_Strong, TeamID_Weak"
   ]
  },
  {
   "cell_type": "code",
   "execution_count": 481,
   "metadata": {},
   "outputs": [
    {
     "name": "stdout",
     "output_type": "stream",
     "text": [
      "0.49425578\n",
      "Villanova\n"
     ]
    },
    {
     "data": {
      "text/plain": [
       "{'R4Z1', 'Villanova'}"
      ]
     },
     "execution_count": 481,
     "metadata": {},
     "output_type": "execute_result"
    }
   ],
   "source": [
    "rank_for_5_z = 'R4Z1'\n",
    "strong_id = TeamID_Strong\n",
    "weak_id = TeamID_Weak\n",
    "winner = winners(strong_id, weak_id)\n",
    "winner_z4 = winner\n",
    "round4_z = {winner_z4,rank_for_5_z}\n",
    "round4_z"
   ]
  },
  {
   "cell_type": "markdown",
   "metadata": {},
   "source": [
    "# Region: W-X"
   ]
  },
  {
   "cell_type": "code",
   "execution_count": 482,
   "metadata": {},
   "outputs": [
    {
     "data": {
      "text/plain": [
       "(1124, 1211)"
      ]
     },
     "execution_count": 482,
     "metadata": {},
     "output_type": "execute_result"
    }
   ],
   "source": [
    "TeamID_Strong = df_teams.loc[df_teams.TeamName==winner_w4,'TeamID'].iloc[0]\n",
    "TeamID_Weak = df_teams.loc[df_teams.TeamName==winner_x4,'TeamID'].iloc[0]\n",
    "TeamID_Strong, TeamID_Weak"
   ]
  },
  {
   "cell_type": "code",
   "execution_count": 483,
   "metadata": {},
   "outputs": [
    {
     "name": "stdout",
     "output_type": "stream",
     "text": [
      "0.3781771\n",
      "Gonzaga\n"
     ]
    },
    {
     "data": {
      "text/plain": [
       "{'Gonzaga', 'R5WX'}"
      ]
     },
     "execution_count": 483,
     "metadata": {},
     "output_type": "execute_result"
    }
   ],
   "source": [
    "rank_for_ch_wx = 'R5WX'\n",
    "strong_id = TeamID_Strong\n",
    "weak_id = TeamID_Weak\n",
    "winner = winners(strong_id, weak_id)\n",
    "winner_wx = winner\n",
    "round5_wx = {winner_wx,rank_for_ch_wx}\n",
    "round5_wx"
   ]
  },
  {
   "cell_type": "markdown",
   "metadata": {},
   "source": [
    "# Region: Y-Z"
   ]
  },
  {
   "cell_type": "code",
   "execution_count": 484,
   "metadata": {},
   "outputs": [
    {
     "data": {
      "text/plain": [
       "(1242, 1437)"
      ]
     },
     "execution_count": 484,
     "metadata": {},
     "output_type": "execute_result"
    }
   ],
   "source": [
    "TeamID_Strong = df_teams.loc[df_teams.TeamName==winner_y4,'TeamID'].iloc[0]\n",
    "TeamID_Weak = df_teams.loc[df_teams.TeamName==winner_z4,'TeamID'].iloc[0]\n",
    "TeamID_Strong, TeamID_Weak"
   ]
  },
  {
   "cell_type": "code",
   "execution_count": 485,
   "metadata": {},
   "outputs": [
    {
     "name": "stdout",
     "output_type": "stream",
     "text": [
      "0.5055451\n",
      "Kansas\n"
     ]
    },
    {
     "data": {
      "text/plain": [
       "{'Kansas', 'R5YZ'}"
      ]
     },
     "execution_count": 485,
     "metadata": {},
     "output_type": "execute_result"
    }
   ],
   "source": [
    "rank_for_ch_yz = 'R5YZ'\n",
    "strong_id = TeamID_Strong\n",
    "weak_id = TeamID_Weak\n",
    "winner = winners(strong_id, weak_id)\n",
    "winner_yz = winner\n",
    "round5_yz = {winner_yz,rank_for_ch_yz}\n",
    "round5_yz"
   ]
  },
  {
   "cell_type": "markdown",
   "metadata": {},
   "source": [
    "# Championship"
   ]
  },
  {
   "cell_type": "code",
   "execution_count": 486,
   "metadata": {},
   "outputs": [
    {
     "data": {
      "text/plain": [
       "(1211, 1242)"
      ]
     },
     "execution_count": 486,
     "metadata": {},
     "output_type": "execute_result"
    }
   ],
   "source": [
    "TeamID_Strong = df_teams.loc[df_teams.TeamName==winner_wx,'TeamID'].iloc[0]\n",
    "TeamID_Weak = df_teams.loc[df_teams.TeamName==winner_yz,'TeamID'].iloc[0]\n",
    "TeamID_Strong, TeamID_Weak"
   ]
  },
  {
   "cell_type": "code",
   "execution_count": 487,
   "metadata": {},
   "outputs": [
    {
     "name": "stdout",
     "output_type": "stream",
     "text": [
      "0.44453818\n",
      "Kansas\n"
     ]
    },
    {
     "data": {
      "text/plain": [
       "{'Kansas', 'R6CH'}"
      ]
     },
     "execution_count": 487,
     "metadata": {},
     "output_type": "execute_result"
    }
   ],
   "source": [
    "rank_for_ch_yz = 'R6CH'\n",
    "strong_id = TeamID_Strong\n",
    "weak_id = TeamID_Weak\n",
    "winner = winners(strong_id, weak_id)\n",
    "winner_ch = winner\n",
    "round6_ch = {winner_ch,rank_for_ch_yz}\n",
    "round6_ch"
   ]
  },
  {
   "cell_type": "code",
   "execution_count": 488,
   "metadata": {},
   "outputs": [
    {
     "data": {
      "text/plain": [
       "1242"
      ]
     },
     "execution_count": 488,
     "metadata": {},
     "output_type": "execute_result"
    }
   ],
   "source": [
    "df_teams.loc[df_teams.TeamName=='Kansas','TeamID'].iloc[0]"
   ]
  },
  {
   "cell_type": "code",
   "execution_count": 489,
   "metadata": {},
   "outputs": [
    {
     "data": {
      "text/plain": [
       "1345"
      ]
     },
     "execution_count": 489,
     "metadata": {},
     "output_type": "execute_result"
    }
   ],
   "source": [
    "df_teams.loc[df_teams.TeamName=='Purdue','TeamID'].iloc[0]"
   ]
  },
  {
   "cell_type": "code",
   "execution_count": 490,
   "metadata": {},
   "outputs": [],
   "source": [
    "ID_tag = '2022_1242_1345'"
   ]
  },
  {
   "cell_type": "code",
   "execution_count": 491,
   "metadata": {},
   "outputs": [
    {
     "data": {
      "text/html": [
       "<div>\n",
       "<style scoped>\n",
       "    .dataframe tbody tr th:only-of-type {\n",
       "        vertical-align: middle;\n",
       "    }\n",
       "\n",
       "    .dataframe tbody tr th {\n",
       "        vertical-align: top;\n",
       "    }\n",
       "\n",
       "    .dataframe thead th {\n",
       "        text-align: right;\n",
       "    }\n",
       "</style>\n",
       "<table border=\"1\" class=\"dataframe\">\n",
       "  <thead>\n",
       "    <tr style=\"text-align: right;\">\n",
       "      <th></th>\n",
       "      <th>ID</th>\n",
       "      <th>Pred</th>\n",
       "    </tr>\n",
       "  </thead>\n",
       "  <tbody>\n",
       "    <tr>\n",
       "      <th>1392</th>\n",
       "      <td>2022_1242_1345</td>\n",
       "      <td>0.489427</td>\n",
       "    </tr>\n",
       "  </tbody>\n",
       "</table>\n",
       "</div>"
      ],
      "text/plain": [
       "                  ID      Pred\n",
       "1392  2022_1242_1345  0.489427"
      ]
     },
     "execution_count": 491,
     "metadata": {},
     "output_type": "execute_result"
    }
   ],
   "source": [
    "df_pred[df_pred.ID==ID_tag]"
   ]
  },
  {
   "cell_type": "code",
   "execution_count": 492,
   "metadata": {},
   "outputs": [
    {
     "data": {
      "text/plain": [
       "1277"
      ]
     },
     "execution_count": 492,
     "metadata": {},
     "output_type": "execute_result"
    }
   ],
   "source": [
    "df_teams.loc[df_teams.TeamName=='Michigan St','TeamID'].iloc[0]"
   ]
  },
  {
   "cell_type": "code",
   "execution_count": 493,
   "metadata": {},
   "outputs": [],
   "source": [
    "ID_tag2 = '2021_1140_1277'"
   ]
  },
  {
   "cell_type": "code",
   "execution_count": 620,
   "metadata": {},
   "outputs": [
    {
     "data": {
      "text/html": [
       "<div>\n",
       "<style scoped>\n",
       "    .dataframe tbody tr th:only-of-type {\n",
       "        vertical-align: middle;\n",
       "    }\n",
       "\n",
       "    .dataframe tbody tr th {\n",
       "        vertical-align: top;\n",
       "    }\n",
       "\n",
       "    .dataframe thead th {\n",
       "        text-align: right;\n",
       "    }\n",
       "</style>\n",
       "<table border=\"1\" class=\"dataframe\">\n",
       "  <thead>\n",
       "    <tr style=\"text-align: right;\">\n",
       "      <th></th>\n",
       "      <th>ID</th>\n",
       "      <th>Pred</th>\n",
       "    </tr>\n",
       "  </thead>\n",
       "  <tbody>\n",
       "    <tr>\n",
       "      <th>351</th>\n",
       "      <td>2021_1140_1277</td>\n",
       "      <td>0.198284</td>\n",
       "    </tr>\n",
       "  </tbody>\n",
       "</table>\n",
       "</div>"
      ],
      "text/plain": [
       "                 ID      Pred\n",
       "351  2021_1140_1277  0.198284"
      ]
     },
     "execution_count": 620,
     "metadata": {},
     "output_type": "execute_result"
    }
   ],
   "source": [
    "df_pred[df_pred.ID==ID_tag2]"
   ]
  },
  {
   "cell_type": "code",
   "execution_count": null,
   "metadata": {},
   "outputs": [],
   "source": []
  },
  {
   "cell_type": "code",
   "execution_count": null,
   "metadata": {},
   "outputs": [],
   "source": []
  }
 ],
 "metadata": {
  "kernelspec": {
   "display_name": "Python 3",
   "language": "python",
   "name": "python3"
  },
  "language_info": {
   "codemirror_mode": {
    "name": "ipython",
    "version": 3
   },
   "file_extension": ".py",
   "mimetype": "text/x-python",
   "name": "python",
   "nbconvert_exporter": "python",
   "pygments_lexer": "ipython3",
   "version": "3.7.13"
  }
 },
 "nbformat": 4,
 "nbformat_minor": 4
}
