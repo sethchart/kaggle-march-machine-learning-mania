{
 "cells": [
  {
   "cell_type": "markdown",
   "metadata": {},
   "source": [
    "We made our predictions in phase2_submissions1.csv. Now let's back out what those submissions are in the bracket."
   ]
  },
  {
   "cell_type": "code",
   "execution_count": 1,
   "metadata": {},
   "outputs": [],
   "source": [
    "import pandas as pd"
   ]
  },
  {
   "cell_type": "code",
   "execution_count": 14,
   "metadata": {},
   "outputs": [],
   "source": [
    "year = 2023"
   ]
  },
  {
   "cell_type": "code",
   "execution_count": 3,
   "metadata": {},
   "outputs": [
    {
     "data": {
      "text/html": [
       "<div>\n",
       "<style scoped>\n",
       "    .dataframe tbody tr th:only-of-type {\n",
       "        vertical-align: middle;\n",
       "    }\n",
       "\n",
       "    .dataframe tbody tr th {\n",
       "        vertical-align: top;\n",
       "    }\n",
       "\n",
       "    .dataframe thead th {\n",
       "        text-align: right;\n",
       "    }\n",
       "</style>\n",
       "<table border=\"1\" class=\"dataframe\">\n",
       "  <thead>\n",
       "    <tr style=\"text-align: right;\">\n",
       "      <th></th>\n",
       "      <th>ID</th>\n",
       "      <th>Pred</th>\n",
       "    </tr>\n",
       "  </thead>\n",
       "  <tbody>\n",
       "    <tr>\n",
       "      <th>0</th>\n",
       "      <td>2023_1101_1102</td>\n",
       "      <td>0.341593</td>\n",
       "    </tr>\n",
       "    <tr>\n",
       "      <th>1</th>\n",
       "      <td>2023_1101_1103</td>\n",
       "      <td>0.204065</td>\n",
       "    </tr>\n",
       "    <tr>\n",
       "      <th>2</th>\n",
       "      <td>2023_1101_1104</td>\n",
       "      <td>0.226276</td>\n",
       "    </tr>\n",
       "    <tr>\n",
       "      <th>3</th>\n",
       "      <td>2023_1101_1105</td>\n",
       "      <td>0.373082</td>\n",
       "    </tr>\n",
       "    <tr>\n",
       "      <th>4</th>\n",
       "      <td>2023_1101_1106</td>\n",
       "      <td>0.562546</td>\n",
       "    </tr>\n",
       "  </tbody>\n",
       "</table>\n",
       "</div>"
      ],
      "text/plain": [
       "               ID      Pred\n",
       "0  2023_1101_1102  0.341593\n",
       "1  2023_1101_1103  0.204065\n",
       "2  2023_1101_1104  0.226276\n",
       "3  2023_1101_1105  0.373082\n",
       "4  2023_1101_1106  0.562546"
      ]
     },
     "execution_count": 3,
     "metadata": {},
     "output_type": "execute_result"
    }
   ],
   "source": [
    "df_pred = pd.read_csv('submission(7).csv')\n",
    "df_pred.head()"
   ]
  },
  {
   "cell_type": "markdown",
   "metadata": {},
   "source": [
    "Excellent, now we have our submission file into a dataframe with ID and Predictions. From here we'll need to bring in the first round teams and see who we predict will win."
   ]
  },
  {
   "cell_type": "code",
   "execution_count": 11,
   "metadata": {},
   "outputs": [
    {
     "data": {
      "text/html": [
       "<div>\n",
       "<style scoped>\n",
       "    .dataframe tbody tr th:only-of-type {\n",
       "        vertical-align: middle;\n",
       "    }\n",
       "\n",
       "    .dataframe tbody tr th {\n",
       "        vertical-align: top;\n",
       "    }\n",
       "\n",
       "    .dataframe thead th {\n",
       "        text-align: right;\n",
       "    }\n",
       "</style>\n",
       "<table border=\"1\" class=\"dataframe\">\n",
       "  <thead>\n",
       "    <tr style=\"text-align: right;\">\n",
       "      <th></th>\n",
       "      <th>TeamID</th>\n",
       "      <th>TeamName</th>\n",
       "      <th>FirstD1Season</th>\n",
       "      <th>LastD1Season</th>\n",
       "    </tr>\n",
       "  </thead>\n",
       "  <tbody>\n",
       "    <tr>\n",
       "      <th>0</th>\n",
       "      <td>1101</td>\n",
       "      <td>Abilene Chr</td>\n",
       "      <td>2014</td>\n",
       "      <td>2023</td>\n",
       "    </tr>\n",
       "    <tr>\n",
       "      <th>1</th>\n",
       "      <td>1102</td>\n",
       "      <td>Air Force</td>\n",
       "      <td>1985</td>\n",
       "      <td>2023</td>\n",
       "    </tr>\n",
       "    <tr>\n",
       "      <th>2</th>\n",
       "      <td>1103</td>\n",
       "      <td>Akron</td>\n",
       "      <td>1985</td>\n",
       "      <td>2023</td>\n",
       "    </tr>\n",
       "    <tr>\n",
       "      <th>3</th>\n",
       "      <td>1104</td>\n",
       "      <td>Alabama</td>\n",
       "      <td>1985</td>\n",
       "      <td>2023</td>\n",
       "    </tr>\n",
       "    <tr>\n",
       "      <th>4</th>\n",
       "      <td>1105</td>\n",
       "      <td>Alabama A&amp;M</td>\n",
       "      <td>2000</td>\n",
       "      <td>2023</td>\n",
       "    </tr>\n",
       "  </tbody>\n",
       "</table>\n",
       "</div>"
      ],
      "text/plain": [
       "   TeamID     TeamName  FirstD1Season  LastD1Season\n",
       "0    1101  Abilene Chr           2014          2023\n",
       "1    1102    Air Force           1985          2023\n",
       "2    1103        Akron           1985          2023\n",
       "3    1104      Alabama           1985          2023\n",
       "4    1105  Alabama A&M           2000          2023"
      ]
     },
     "execution_count": 11,
     "metadata": {},
     "output_type": "execute_result"
    }
   ],
   "source": [
    "#read in the team data\n",
    "df_teams = pd.read_csv('data/MTeams.csv')\n",
    "df_teams.head()"
   ]
  },
  {
   "cell_type": "code",
   "execution_count": 12,
   "metadata": {},
   "outputs": [
    {
     "data": {
      "text/html": [
       "<div>\n",
       "<style scoped>\n",
       "    .dataframe tbody tr th:only-of-type {\n",
       "        vertical-align: middle;\n",
       "    }\n",
       "\n",
       "    .dataframe tbody tr th {\n",
       "        vertical-align: top;\n",
       "    }\n",
       "\n",
       "    .dataframe thead th {\n",
       "        text-align: right;\n",
       "    }\n",
       "</style>\n",
       "<table border=\"1\" class=\"dataframe\">\n",
       "  <thead>\n",
       "    <tr style=\"text-align: right;\">\n",
       "      <th></th>\n",
       "      <th>Season</th>\n",
       "      <th>Slot</th>\n",
       "      <th>StrongSeed</th>\n",
       "      <th>WeakSeed</th>\n",
       "    </tr>\n",
       "  </thead>\n",
       "  <tbody>\n",
       "    <tr>\n",
       "      <th>0</th>\n",
       "      <td>1985</td>\n",
       "      <td>R1W1</td>\n",
       "      <td>W01</td>\n",
       "      <td>W16</td>\n",
       "    </tr>\n",
       "    <tr>\n",
       "      <th>1</th>\n",
       "      <td>1985</td>\n",
       "      <td>R1W2</td>\n",
       "      <td>W02</td>\n",
       "      <td>W15</td>\n",
       "    </tr>\n",
       "    <tr>\n",
       "      <th>2</th>\n",
       "      <td>1985</td>\n",
       "      <td>R1W3</td>\n",
       "      <td>W03</td>\n",
       "      <td>W14</td>\n",
       "    </tr>\n",
       "    <tr>\n",
       "      <th>3</th>\n",
       "      <td>1985</td>\n",
       "      <td>R1W4</td>\n",
       "      <td>W04</td>\n",
       "      <td>W13</td>\n",
       "    </tr>\n",
       "    <tr>\n",
       "      <th>4</th>\n",
       "      <td>1985</td>\n",
       "      <td>R1W5</td>\n",
       "      <td>W05</td>\n",
       "      <td>W12</td>\n",
       "    </tr>\n",
       "  </tbody>\n",
       "</table>\n",
       "</div>"
      ],
      "text/plain": [
       "   Season  Slot StrongSeed WeakSeed\n",
       "0    1985  R1W1        W01      W16\n",
       "1    1985  R1W2        W02      W15\n",
       "2    1985  R1W3        W03      W14\n",
       "3    1985  R1W4        W04      W13\n",
       "4    1985  R1W5        W05      W12"
      ]
     },
     "execution_count": 12,
     "metadata": {},
     "output_type": "execute_result"
    }
   ],
   "source": [
    "#read in the tournament slot data\n",
    "df_slots = pd.read_csv('data/MNCAATourneySlots.csv')\n",
    "df_slots.head()"
   ]
  },
  {
   "cell_type": "code",
   "execution_count": 15,
   "metadata": {},
   "outputs": [
    {
     "data": {
      "text/html": [
       "<div>\n",
       "<style scoped>\n",
       "    .dataframe tbody tr th:only-of-type {\n",
       "        vertical-align: middle;\n",
       "    }\n",
       "\n",
       "    .dataframe tbody tr th {\n",
       "        vertical-align: top;\n",
       "    }\n",
       "\n",
       "    .dataframe thead th {\n",
       "        text-align: right;\n",
       "    }\n",
       "</style>\n",
       "<table border=\"1\" class=\"dataframe\">\n",
       "  <thead>\n",
       "    <tr style=\"text-align: right;\">\n",
       "      <th></th>\n",
       "      <th>Season</th>\n",
       "      <th>Slot</th>\n",
       "      <th>StrongSeed</th>\n",
       "      <th>WeakSeed</th>\n",
       "    </tr>\n",
       "  </thead>\n",
       "  <tbody>\n",
       "    <tr>\n",
       "      <th>0</th>\n",
       "      <td>2023</td>\n",
       "      <td>R1W1</td>\n",
       "      <td>W01</td>\n",
       "      <td>W16</td>\n",
       "    </tr>\n",
       "    <tr>\n",
       "      <th>1</th>\n",
       "      <td>2023</td>\n",
       "      <td>R1W2</td>\n",
       "      <td>W02</td>\n",
       "      <td>W15</td>\n",
       "    </tr>\n",
       "    <tr>\n",
       "      <th>2</th>\n",
       "      <td>2023</td>\n",
       "      <td>R1W3</td>\n",
       "      <td>W03</td>\n",
       "      <td>W14</td>\n",
       "    </tr>\n",
       "    <tr>\n",
       "      <th>3</th>\n",
       "      <td>2023</td>\n",
       "      <td>R1W4</td>\n",
       "      <td>W04</td>\n",
       "      <td>W13</td>\n",
       "    </tr>\n",
       "    <tr>\n",
       "      <th>4</th>\n",
       "      <td>2023</td>\n",
       "      <td>R1W5</td>\n",
       "      <td>W05</td>\n",
       "      <td>W12</td>\n",
       "    </tr>\n",
       "    <tr>\n",
       "      <th>5</th>\n",
       "      <td>2023</td>\n",
       "      <td>R1W6</td>\n",
       "      <td>W06</td>\n",
       "      <td>W11</td>\n",
       "    </tr>\n",
       "    <tr>\n",
       "      <th>6</th>\n",
       "      <td>2023</td>\n",
       "      <td>R1W7</td>\n",
       "      <td>W07</td>\n",
       "      <td>W10</td>\n",
       "    </tr>\n",
       "    <tr>\n",
       "      <th>7</th>\n",
       "      <td>2023</td>\n",
       "      <td>R1W8</td>\n",
       "      <td>W08</td>\n",
       "      <td>W09</td>\n",
       "    </tr>\n",
       "    <tr>\n",
       "      <th>8</th>\n",
       "      <td>2023</td>\n",
       "      <td>R1X1</td>\n",
       "      <td>X01</td>\n",
       "      <td>X16</td>\n",
       "    </tr>\n",
       "    <tr>\n",
       "      <th>9</th>\n",
       "      <td>2023</td>\n",
       "      <td>R1X2</td>\n",
       "      <td>X02</td>\n",
       "      <td>X15</td>\n",
       "    </tr>\n",
       "    <tr>\n",
       "      <th>10</th>\n",
       "      <td>2023</td>\n",
       "      <td>R1X3</td>\n",
       "      <td>X03</td>\n",
       "      <td>X14</td>\n",
       "    </tr>\n",
       "    <tr>\n",
       "      <th>11</th>\n",
       "      <td>2023</td>\n",
       "      <td>R1X4</td>\n",
       "      <td>X04</td>\n",
       "      <td>X13</td>\n",
       "    </tr>\n",
       "    <tr>\n",
       "      <th>12</th>\n",
       "      <td>2023</td>\n",
       "      <td>R1X5</td>\n",
       "      <td>X05</td>\n",
       "      <td>X12</td>\n",
       "    </tr>\n",
       "    <tr>\n",
       "      <th>13</th>\n",
       "      <td>2023</td>\n",
       "      <td>R1X6</td>\n",
       "      <td>X06</td>\n",
       "      <td>X11</td>\n",
       "    </tr>\n",
       "    <tr>\n",
       "      <th>14</th>\n",
       "      <td>2023</td>\n",
       "      <td>R1X7</td>\n",
       "      <td>X07</td>\n",
       "      <td>X10</td>\n",
       "    </tr>\n",
       "    <tr>\n",
       "      <th>15</th>\n",
       "      <td>2023</td>\n",
       "      <td>R1X8</td>\n",
       "      <td>X08</td>\n",
       "      <td>X09</td>\n",
       "    </tr>\n",
       "    <tr>\n",
       "      <th>16</th>\n",
       "      <td>2023</td>\n",
       "      <td>R1Y1</td>\n",
       "      <td>Y01</td>\n",
       "      <td>Y16</td>\n",
       "    </tr>\n",
       "    <tr>\n",
       "      <th>17</th>\n",
       "      <td>2023</td>\n",
       "      <td>R1Y2</td>\n",
       "      <td>Y02</td>\n",
       "      <td>Y15</td>\n",
       "    </tr>\n",
       "    <tr>\n",
       "      <th>18</th>\n",
       "      <td>2023</td>\n",
       "      <td>R1Y3</td>\n",
       "      <td>Y03</td>\n",
       "      <td>Y14</td>\n",
       "    </tr>\n",
       "    <tr>\n",
       "      <th>19</th>\n",
       "      <td>2023</td>\n",
       "      <td>R1Y4</td>\n",
       "      <td>Y04</td>\n",
       "      <td>Y13</td>\n",
       "    </tr>\n",
       "    <tr>\n",
       "      <th>20</th>\n",
       "      <td>2023</td>\n",
       "      <td>R1Y5</td>\n",
       "      <td>Y05</td>\n",
       "      <td>Y12</td>\n",
       "    </tr>\n",
       "    <tr>\n",
       "      <th>21</th>\n",
       "      <td>2023</td>\n",
       "      <td>R1Y6</td>\n",
       "      <td>Y06</td>\n",
       "      <td>Y11</td>\n",
       "    </tr>\n",
       "    <tr>\n",
       "      <th>22</th>\n",
       "      <td>2023</td>\n",
       "      <td>R1Y7</td>\n",
       "      <td>Y07</td>\n",
       "      <td>Y10</td>\n",
       "    </tr>\n",
       "    <tr>\n",
       "      <th>23</th>\n",
       "      <td>2023</td>\n",
       "      <td>R1Y8</td>\n",
       "      <td>Y08</td>\n",
       "      <td>Y09</td>\n",
       "    </tr>\n",
       "    <tr>\n",
       "      <th>24</th>\n",
       "      <td>2023</td>\n",
       "      <td>R1Z1</td>\n",
       "      <td>Z01</td>\n",
       "      <td>Z16</td>\n",
       "    </tr>\n",
       "    <tr>\n",
       "      <th>25</th>\n",
       "      <td>2023</td>\n",
       "      <td>R1Z2</td>\n",
       "      <td>Z02</td>\n",
       "      <td>Z15</td>\n",
       "    </tr>\n",
       "    <tr>\n",
       "      <th>26</th>\n",
       "      <td>2023</td>\n",
       "      <td>R1Z3</td>\n",
       "      <td>Z03</td>\n",
       "      <td>Z14</td>\n",
       "    </tr>\n",
       "    <tr>\n",
       "      <th>27</th>\n",
       "      <td>2023</td>\n",
       "      <td>R1Z4</td>\n",
       "      <td>Z04</td>\n",
       "      <td>Z13</td>\n",
       "    </tr>\n",
       "    <tr>\n",
       "      <th>28</th>\n",
       "      <td>2023</td>\n",
       "      <td>R1Z5</td>\n",
       "      <td>Z05</td>\n",
       "      <td>Z12</td>\n",
       "    </tr>\n",
       "    <tr>\n",
       "      <th>29</th>\n",
       "      <td>2023</td>\n",
       "      <td>R1Z6</td>\n",
       "      <td>Z06</td>\n",
       "      <td>Z11</td>\n",
       "    </tr>\n",
       "    <tr>\n",
       "      <th>30</th>\n",
       "      <td>2023</td>\n",
       "      <td>R1Z7</td>\n",
       "      <td>Z07</td>\n",
       "      <td>Z10</td>\n",
       "    </tr>\n",
       "    <tr>\n",
       "      <th>31</th>\n",
       "      <td>2023</td>\n",
       "      <td>R1Z8</td>\n",
       "      <td>Z08</td>\n",
       "      <td>Z09</td>\n",
       "    </tr>\n",
       "    <tr>\n",
       "      <th>32</th>\n",
       "      <td>2023</td>\n",
       "      <td>R2W1</td>\n",
       "      <td>R1W1</td>\n",
       "      <td>R1W8</td>\n",
       "    </tr>\n",
       "    <tr>\n",
       "      <th>33</th>\n",
       "      <td>2023</td>\n",
       "      <td>R2W2</td>\n",
       "      <td>R1W2</td>\n",
       "      <td>R1W7</td>\n",
       "    </tr>\n",
       "    <tr>\n",
       "      <th>34</th>\n",
       "      <td>2023</td>\n",
       "      <td>R2W3</td>\n",
       "      <td>R1W3</td>\n",
       "      <td>R1W6</td>\n",
       "    </tr>\n",
       "    <tr>\n",
       "      <th>35</th>\n",
       "      <td>2023</td>\n",
       "      <td>R2W4</td>\n",
       "      <td>R1W4</td>\n",
       "      <td>R1W5</td>\n",
       "    </tr>\n",
       "    <tr>\n",
       "      <th>36</th>\n",
       "      <td>2023</td>\n",
       "      <td>R2X1</td>\n",
       "      <td>R1X1</td>\n",
       "      <td>R1X8</td>\n",
       "    </tr>\n",
       "    <tr>\n",
       "      <th>37</th>\n",
       "      <td>2023</td>\n",
       "      <td>R2X2</td>\n",
       "      <td>R1X2</td>\n",
       "      <td>R1X7</td>\n",
       "    </tr>\n",
       "    <tr>\n",
       "      <th>38</th>\n",
       "      <td>2023</td>\n",
       "      <td>R2X3</td>\n",
       "      <td>R1X3</td>\n",
       "      <td>R1X6</td>\n",
       "    </tr>\n",
       "    <tr>\n",
       "      <th>39</th>\n",
       "      <td>2023</td>\n",
       "      <td>R2X4</td>\n",
       "      <td>R1X4</td>\n",
       "      <td>R1X5</td>\n",
       "    </tr>\n",
       "    <tr>\n",
       "      <th>40</th>\n",
       "      <td>2023</td>\n",
       "      <td>R2Y1</td>\n",
       "      <td>R1Y1</td>\n",
       "      <td>R1Y8</td>\n",
       "    </tr>\n",
       "    <tr>\n",
       "      <th>41</th>\n",
       "      <td>2023</td>\n",
       "      <td>R2Y2</td>\n",
       "      <td>R1Y2</td>\n",
       "      <td>R1Y7</td>\n",
       "    </tr>\n",
       "    <tr>\n",
       "      <th>42</th>\n",
       "      <td>2023</td>\n",
       "      <td>R2Y3</td>\n",
       "      <td>R1Y3</td>\n",
       "      <td>R1Y6</td>\n",
       "    </tr>\n",
       "    <tr>\n",
       "      <th>43</th>\n",
       "      <td>2023</td>\n",
       "      <td>R2Y4</td>\n",
       "      <td>R1Y4</td>\n",
       "      <td>R1Y5</td>\n",
       "    </tr>\n",
       "    <tr>\n",
       "      <th>44</th>\n",
       "      <td>2023</td>\n",
       "      <td>R2Z1</td>\n",
       "      <td>R1Z1</td>\n",
       "      <td>R1Z8</td>\n",
       "    </tr>\n",
       "    <tr>\n",
       "      <th>45</th>\n",
       "      <td>2023</td>\n",
       "      <td>R2Z2</td>\n",
       "      <td>R1Z2</td>\n",
       "      <td>R1Z7</td>\n",
       "    </tr>\n",
       "    <tr>\n",
       "      <th>46</th>\n",
       "      <td>2023</td>\n",
       "      <td>R2Z3</td>\n",
       "      <td>R1Z3</td>\n",
       "      <td>R1Z6</td>\n",
       "    </tr>\n",
       "    <tr>\n",
       "      <th>47</th>\n",
       "      <td>2023</td>\n",
       "      <td>R2Z4</td>\n",
       "      <td>R1Z4</td>\n",
       "      <td>R1Z5</td>\n",
       "    </tr>\n",
       "  </tbody>\n",
       "</table>\n",
       "</div>"
      ],
      "text/plain": [
       "    Season  Slot StrongSeed WeakSeed\n",
       "0     2023  R1W1        W01      W16\n",
       "1     2023  R1W2        W02      W15\n",
       "2     2023  R1W3        W03      W14\n",
       "3     2023  R1W4        W04      W13\n",
       "4     2023  R1W5        W05      W12\n",
       "5     2023  R1W6        W06      W11\n",
       "6     2023  R1W7        W07      W10\n",
       "7     2023  R1W8        W08      W09\n",
       "8     2023  R1X1        X01      X16\n",
       "9     2023  R1X2        X02      X15\n",
       "10    2023  R1X3        X03      X14\n",
       "11    2023  R1X4        X04      X13\n",
       "12    2023  R1X5        X05      X12\n",
       "13    2023  R1X6        X06      X11\n",
       "14    2023  R1X7        X07      X10\n",
       "15    2023  R1X8        X08      X09\n",
       "16    2023  R1Y1        Y01      Y16\n",
       "17    2023  R1Y2        Y02      Y15\n",
       "18    2023  R1Y3        Y03      Y14\n",
       "19    2023  R1Y4        Y04      Y13\n",
       "20    2023  R1Y5        Y05      Y12\n",
       "21    2023  R1Y6        Y06      Y11\n",
       "22    2023  R1Y7        Y07      Y10\n",
       "23    2023  R1Y8        Y08      Y09\n",
       "24    2023  R1Z1        Z01      Z16\n",
       "25    2023  R1Z2        Z02      Z15\n",
       "26    2023  R1Z3        Z03      Z14\n",
       "27    2023  R1Z4        Z04      Z13\n",
       "28    2023  R1Z5        Z05      Z12\n",
       "29    2023  R1Z6        Z06      Z11\n",
       "30    2023  R1Z7        Z07      Z10\n",
       "31    2023  R1Z8        Z08      Z09\n",
       "32    2023  R2W1       R1W1     R1W8\n",
       "33    2023  R2W2       R1W2     R1W7\n",
       "34    2023  R2W3       R1W3     R1W6\n",
       "35    2023  R2W4       R1W4     R1W5\n",
       "36    2023  R2X1       R1X1     R1X8\n",
       "37    2023  R2X2       R1X2     R1X7\n",
       "38    2023  R2X3       R1X3     R1X6\n",
       "39    2023  R2X4       R1X4     R1X5\n",
       "40    2023  R2Y1       R1Y1     R1Y8\n",
       "41    2023  R2Y2       R1Y2     R1Y7\n",
       "42    2023  R2Y3       R1Y3     R1Y6\n",
       "43    2023  R2Y4       R1Y4     R1Y5\n",
       "44    2023  R2Z1       R1Z1     R1Z8\n",
       "45    2023  R2Z2       R1Z2     R1Z7\n",
       "46    2023  R2Z3       R1Z3     R1Z6\n",
       "47    2023  R2Z4       R1Z4     R1Z5"
      ]
     },
     "execution_count": 15,
     "metadata": {},
     "output_type": "execute_result"
    }
   ],
   "source": [
    "df_slots_thisyear = df_slots[df_slots['Season']==year]\n",
    "df_slots_thisyear = df_slots_thisyear.reset_index(drop=True)\n",
    "df_slots_thisyear.head(48)"
   ]
  },
  {
   "cell_type": "code",
   "execution_count": 16,
   "metadata": {},
   "outputs": [
    {
     "data": {
      "text/html": [
       "<div>\n",
       "<style scoped>\n",
       "    .dataframe tbody tr th:only-of-type {\n",
       "        vertical-align: middle;\n",
       "    }\n",
       "\n",
       "    .dataframe tbody tr th {\n",
       "        vertical-align: top;\n",
       "    }\n",
       "\n",
       "    .dataframe thead th {\n",
       "        text-align: right;\n",
       "    }\n",
       "</style>\n",
       "<table border=\"1\" class=\"dataframe\">\n",
       "  <thead>\n",
       "    <tr style=\"text-align: right;\">\n",
       "      <th></th>\n",
       "      <th>Season</th>\n",
       "      <th>Slot</th>\n",
       "      <th>StrongSeed</th>\n",
       "      <th>WeakSeed</th>\n",
       "    </tr>\n",
       "  </thead>\n",
       "  <tbody>\n",
       "    <tr>\n",
       "      <th>57</th>\n",
       "      <td>2023</td>\n",
       "      <td>R4X1</td>\n",
       "      <td>R3X1</td>\n",
       "      <td>R3X2</td>\n",
       "    </tr>\n",
       "    <tr>\n",
       "      <th>58</th>\n",
       "      <td>2023</td>\n",
       "      <td>R4Y1</td>\n",
       "      <td>R3Y1</td>\n",
       "      <td>R3Y2</td>\n",
       "    </tr>\n",
       "    <tr>\n",
       "      <th>59</th>\n",
       "      <td>2023</td>\n",
       "      <td>R4Z1</td>\n",
       "      <td>R3Z1</td>\n",
       "      <td>R3Z2</td>\n",
       "    </tr>\n",
       "    <tr>\n",
       "      <th>60</th>\n",
       "      <td>2023</td>\n",
       "      <td>R5WX</td>\n",
       "      <td>R4W1</td>\n",
       "      <td>R4X1</td>\n",
       "    </tr>\n",
       "    <tr>\n",
       "      <th>61</th>\n",
       "      <td>2023</td>\n",
       "      <td>R5YZ</td>\n",
       "      <td>R4Y1</td>\n",
       "      <td>R4Z1</td>\n",
       "    </tr>\n",
       "    <tr>\n",
       "      <th>62</th>\n",
       "      <td>2023</td>\n",
       "      <td>R6CH</td>\n",
       "      <td>R5WX</td>\n",
       "      <td>R5YZ</td>\n",
       "    </tr>\n",
       "    <tr>\n",
       "      <th>63</th>\n",
       "      <td>2023</td>\n",
       "      <td>W16</td>\n",
       "      <td>W16a</td>\n",
       "      <td>W16b</td>\n",
       "    </tr>\n",
       "    <tr>\n",
       "      <th>64</th>\n",
       "      <td>2023</td>\n",
       "      <td>X16</td>\n",
       "      <td>X16a</td>\n",
       "      <td>X16b</td>\n",
       "    </tr>\n",
       "    <tr>\n",
       "      <th>65</th>\n",
       "      <td>2023</td>\n",
       "      <td>Y11</td>\n",
       "      <td>Y11a</td>\n",
       "      <td>Y11b</td>\n",
       "    </tr>\n",
       "    <tr>\n",
       "      <th>66</th>\n",
       "      <td>2023</td>\n",
       "      <td>Z11</td>\n",
       "      <td>Z11a</td>\n",
       "      <td>Z11b</td>\n",
       "    </tr>\n",
       "  </tbody>\n",
       "</table>\n",
       "</div>"
      ],
      "text/plain": [
       "    Season  Slot StrongSeed WeakSeed\n",
       "57    2023  R4X1       R3X1     R3X2\n",
       "58    2023  R4Y1       R3Y1     R3Y2\n",
       "59    2023  R4Z1       R3Z1     R3Z2\n",
       "60    2023  R5WX       R4W1     R4X1\n",
       "61    2023  R5YZ       R4Y1     R4Z1\n",
       "62    2023  R6CH       R5WX     R5YZ\n",
       "63    2023   W16       W16a     W16b\n",
       "64    2023   X16       X16a     X16b\n",
       "65    2023   Y11       Y11a     Y11b\n",
       "66    2023   Z11       Z11a     Z11b"
      ]
     },
     "execution_count": 16,
     "metadata": {},
     "output_type": "execute_result"
    }
   ],
   "source": [
    "df_slots_thisyear.tail(10)"
   ]
  },
  {
   "cell_type": "code",
   "execution_count": 17,
   "metadata": {},
   "outputs": [
    {
     "data": {
      "text/html": [
       "<div>\n",
       "<style scoped>\n",
       "    .dataframe tbody tr th:only-of-type {\n",
       "        vertical-align: middle;\n",
       "    }\n",
       "\n",
       "    .dataframe tbody tr th {\n",
       "        vertical-align: top;\n",
       "    }\n",
       "\n",
       "    .dataframe thead th {\n",
       "        text-align: right;\n",
       "    }\n",
       "</style>\n",
       "<table border=\"1\" class=\"dataframe\">\n",
       "  <thead>\n",
       "    <tr style=\"text-align: right;\">\n",
       "      <th></th>\n",
       "      <th>Season</th>\n",
       "      <th>Seed</th>\n",
       "      <th>TeamID</th>\n",
       "    </tr>\n",
       "  </thead>\n",
       "  <tbody>\n",
       "    <tr>\n",
       "      <th>0</th>\n",
       "      <td>1985</td>\n",
       "      <td>W01</td>\n",
       "      <td>1207</td>\n",
       "    </tr>\n",
       "    <tr>\n",
       "      <th>1</th>\n",
       "      <td>1985</td>\n",
       "      <td>W02</td>\n",
       "      <td>1210</td>\n",
       "    </tr>\n",
       "    <tr>\n",
       "      <th>2</th>\n",
       "      <td>1985</td>\n",
       "      <td>W03</td>\n",
       "      <td>1228</td>\n",
       "    </tr>\n",
       "    <tr>\n",
       "      <th>3</th>\n",
       "      <td>1985</td>\n",
       "      <td>W04</td>\n",
       "      <td>1260</td>\n",
       "    </tr>\n",
       "    <tr>\n",
       "      <th>4</th>\n",
       "      <td>1985</td>\n",
       "      <td>W05</td>\n",
       "      <td>1374</td>\n",
       "    </tr>\n",
       "  </tbody>\n",
       "</table>\n",
       "</div>"
      ],
      "text/plain": [
       "   Season Seed  TeamID\n",
       "0    1985  W01    1207\n",
       "1    1985  W02    1210\n",
       "2    1985  W03    1228\n",
       "3    1985  W04    1260\n",
       "4    1985  W05    1374"
      ]
     },
     "execution_count": 17,
     "metadata": {},
     "output_type": "execute_result"
    }
   ],
   "source": [
    "#read in the tournament seed data data\n",
    "df_seeds = pd.read_csv('data/MNCAATourneySeeds.csv')\n",
    "df_seeds.head()"
   ]
  },
  {
   "cell_type": "code",
   "execution_count": 18,
   "metadata": {},
   "outputs": [
    {
     "data": {
      "text/html": [
       "<div>\n",
       "<style scoped>\n",
       "    .dataframe tbody tr th:only-of-type {\n",
       "        vertical-align: middle;\n",
       "    }\n",
       "\n",
       "    .dataframe tbody tr th {\n",
       "        vertical-align: top;\n",
       "    }\n",
       "\n",
       "    .dataframe thead th {\n",
       "        text-align: right;\n",
       "    }\n",
       "</style>\n",
       "<table border=\"1\" class=\"dataframe\">\n",
       "  <thead>\n",
       "    <tr style=\"text-align: right;\">\n",
       "      <th></th>\n",
       "      <th>Season</th>\n",
       "      <th>Seed</th>\n",
       "      <th>TeamID</th>\n",
       "    </tr>\n",
       "  </thead>\n",
       "  <tbody>\n",
       "    <tr>\n",
       "      <th>0</th>\n",
       "      <td>2023</td>\n",
       "      <td>W01</td>\n",
       "      <td>1345</td>\n",
       "    </tr>\n",
       "    <tr>\n",
       "      <th>1</th>\n",
       "      <td>2023</td>\n",
       "      <td>W02</td>\n",
       "      <td>1266</td>\n",
       "    </tr>\n",
       "    <tr>\n",
       "      <th>2</th>\n",
       "      <td>2023</td>\n",
       "      <td>W03</td>\n",
       "      <td>1243</td>\n",
       "    </tr>\n",
       "    <tr>\n",
       "      <th>3</th>\n",
       "      <td>2023</td>\n",
       "      <td>W04</td>\n",
       "      <td>1397</td>\n",
       "    </tr>\n",
       "    <tr>\n",
       "      <th>4</th>\n",
       "      <td>2023</td>\n",
       "      <td>W05</td>\n",
       "      <td>1181</td>\n",
       "    </tr>\n",
       "    <tr>\n",
       "      <th>5</th>\n",
       "      <td>2023</td>\n",
       "      <td>W06</td>\n",
       "      <td>1246</td>\n",
       "    </tr>\n",
       "    <tr>\n",
       "      <th>6</th>\n",
       "      <td>2023</td>\n",
       "      <td>W07</td>\n",
       "      <td>1277</td>\n",
       "    </tr>\n",
       "    <tr>\n",
       "      <th>7</th>\n",
       "      <td>2023</td>\n",
       "      <td>W08</td>\n",
       "      <td>1272</td>\n",
       "    </tr>\n",
       "    <tr>\n",
       "      <th>8</th>\n",
       "      <td>2023</td>\n",
       "      <td>W09</td>\n",
       "      <td>1194</td>\n",
       "    </tr>\n",
       "    <tr>\n",
       "      <th>9</th>\n",
       "      <td>2023</td>\n",
       "      <td>W10</td>\n",
       "      <td>1425</td>\n",
       "    </tr>\n",
       "    <tr>\n",
       "      <th>10</th>\n",
       "      <td>2023</td>\n",
       "      <td>W11</td>\n",
       "      <td>1344</td>\n",
       "    </tr>\n",
       "    <tr>\n",
       "      <th>11</th>\n",
       "      <td>2023</td>\n",
       "      <td>W12</td>\n",
       "      <td>1331</td>\n",
       "    </tr>\n",
       "    <tr>\n",
       "      <th>12</th>\n",
       "      <td>2023</td>\n",
       "      <td>W13</td>\n",
       "      <td>1418</td>\n",
       "    </tr>\n",
       "    <tr>\n",
       "      <th>13</th>\n",
       "      <td>2023</td>\n",
       "      <td>W14</td>\n",
       "      <td>1286</td>\n",
       "    </tr>\n",
       "    <tr>\n",
       "      <th>14</th>\n",
       "      <td>2023</td>\n",
       "      <td>W15</td>\n",
       "      <td>1436</td>\n",
       "    </tr>\n",
       "    <tr>\n",
       "      <th>15</th>\n",
       "      <td>2023</td>\n",
       "      <td>W16a</td>\n",
       "      <td>1192</td>\n",
       "    </tr>\n",
       "    <tr>\n",
       "      <th>16</th>\n",
       "      <td>2023</td>\n",
       "      <td>W16b</td>\n",
       "      <td>1411</td>\n",
       "    </tr>\n",
       "    <tr>\n",
       "      <th>17</th>\n",
       "      <td>2023</td>\n",
       "      <td>X01</td>\n",
       "      <td>1104</td>\n",
       "    </tr>\n",
       "    <tr>\n",
       "      <th>18</th>\n",
       "      <td>2023</td>\n",
       "      <td>X02</td>\n",
       "      <td>1112</td>\n",
       "    </tr>\n",
       "    <tr>\n",
       "      <th>19</th>\n",
       "      <td>2023</td>\n",
       "      <td>X03</td>\n",
       "      <td>1124</td>\n",
       "    </tr>\n",
       "  </tbody>\n",
       "</table>\n",
       "</div>"
      ],
      "text/plain": [
       "    Season  Seed  TeamID\n",
       "0     2023   W01    1345\n",
       "1     2023   W02    1266\n",
       "2     2023   W03    1243\n",
       "3     2023   W04    1397\n",
       "4     2023   W05    1181\n",
       "5     2023   W06    1246\n",
       "6     2023   W07    1277\n",
       "7     2023   W08    1272\n",
       "8     2023   W09    1194\n",
       "9     2023   W10    1425\n",
       "10    2023   W11    1344\n",
       "11    2023   W12    1331\n",
       "12    2023   W13    1418\n",
       "13    2023   W14    1286\n",
       "14    2023   W15    1436\n",
       "15    2023  W16a    1192\n",
       "16    2023  W16b    1411\n",
       "17    2023   X01    1104\n",
       "18    2023   X02    1112\n",
       "19    2023   X03    1124"
      ]
     },
     "execution_count": 18,
     "metadata": {},
     "output_type": "execute_result"
    }
   ],
   "source": [
    "df_seeds_thisyear = df_seeds[df_seeds['Season']==year]\n",
    "df_seeds_thisyear = df_seeds_thisyear.reset_index(drop=True)\n",
    "df_seeds_thisyear.head(20)"
   ]
  },
  {
   "cell_type": "markdown",
   "metadata": {},
   "source": [
    "Rather than messing with the play-in games, let's take 11a and 16a as seed 11 and 16. Then we don't need to worry about it. "
   ]
  },
  {
   "cell_type": "code",
   "execution_count": 21,
   "metadata": {},
   "outputs": [],
   "source": [
    "df_seeds_thisyear.Seed.replace(['W16a','Y11a','X16a','Z11a'],['W16','Y11','X16','Z11'],inplace=True)\n",
    "vals_to_drop=['W16b','X16b','Y11b','Z11b']\n",
    "df_seeds_thisyear = df_seeds_thisyear[df_seeds_thisyear.Seed.isin(vals_to_drop) == False]"
   ]
  },
  {
   "cell_type": "code",
   "execution_count": 22,
   "metadata": {},
   "outputs": [
    {
     "name": "stdout",
     "output_type": "stream",
     "text": [
      "    Season Seed  TeamID\n",
      "34    2023  Y01    1222\n",
      "35    2023  Y02    1400\n",
      "36    2023  Y03    1462\n",
      "37    2023  Y04    1231\n",
      "38    2023  Y05    1274\n",
      "39    2023  Y06    1235\n",
      "40    2023  Y07    1401\n",
      "41    2023  Y08    1234\n",
      "42    2023  Y09    1120\n",
      "43    2023  Y10    1336\n",
      "44    2023  Y11    1280\n",
      "46    2023  Y12    1179\n",
      "47    2023  Y13    1245\n",
      "48    2023  Y14    1244\n",
      "49    2023  Y15    1159\n",
      "50    2023  Y16    1297\n",
      "51    2023  Z01    1242\n",
      "52    2023  Z02    1417\n",
      "53    2023  Z03    1211\n",
      "54    2023  Z04    1163\n",
      "55    2023  Z05    1388\n",
      "56    2023  Z06    1395\n",
      "57    2023  Z07    1321\n",
      "58    2023  Z08    1116\n",
      "59    2023  Z09    1228\n",
      "60    2023  Z10    1129\n",
      "61    2023  Z11    1113\n",
      "63    2023  Z12    1433\n",
      "64    2023  Z13    1233\n",
      "65    2023  Z14    1213\n",
      "66    2023  Z15    1421\n",
      "67    2023  Z16    1224\n"
     ]
    }
   ],
   "source": [
    "print(df_seeds_thisyear[32:64])"
   ]
  },
  {
   "cell_type": "code",
   "execution_count": 33,
   "metadata": {},
   "outputs": [
    {
     "data": {
      "text/plain": [
       "{1: 1345,\n",
       " 2: 1266,\n",
       " 3: 1243,\n",
       " 4: 1397,\n",
       " 5: 1181,\n",
       " 6: 1246,\n",
       " 7: 1277,\n",
       " 8: 1272,\n",
       " 9: 1194,\n",
       " 10: 1425,\n",
       " 11: 1344,\n",
       " 12: 1331,\n",
       " 13: 1418,\n",
       " 14: 1286,\n",
       " 15: 1436,\n",
       " 16: 1192}"
      ]
     },
     "execution_count": 33,
     "metadata": {},
     "output_type": "execute_result"
    }
   ],
   "source": [
    "W_region = {}\n",
    "for i in range(16):\n",
    "    seed = i+1\n",
    "    teamid = df_seeds_thisyear.TeamID.iloc[i]\n",
    "    W_region.update({seed: teamid})\n",
    "W_region"
   ]
  },
  {
   "cell_type": "code",
   "execution_count": 38,
   "metadata": {},
   "outputs": [
    {
     "data": {
      "text/plain": [
       "{1: 1104,\n",
       " 2: 1112,\n",
       " 3: 1124,\n",
       " 4: 1438,\n",
       " 5: 1361,\n",
       " 6: 1166,\n",
       " 7: 1281,\n",
       " 8: 1268,\n",
       " 9: 1452,\n",
       " 10: 1429,\n",
       " 11: 1301,\n",
       " 12: 1158,\n",
       " 13: 1202,\n",
       " 14: 1364,\n",
       " 15: 1343,\n",
       " 16: 1369}"
      ]
     },
     "execution_count": 38,
     "metadata": {},
     "output_type": "execute_result"
    }
   ],
   "source": [
    "X_region = {}\n",
    "for i in range(16,32):\n",
    "    seed = i-15\n",
    "    teamid = df_seeds_thisyear.TeamID.iloc[i]\n",
    "    X_region.update({seed: teamid})\n",
    "X_region"
   ]
  },
  {
   "cell_type": "code",
   "execution_count": 39,
   "metadata": {},
   "outputs": [
    {
     "data": {
      "text/plain": [
       "{1: 1222,\n",
       " 2: 1400,\n",
       " 3: 1462,\n",
       " 4: 1231,\n",
       " 5: 1274,\n",
       " 6: 1235,\n",
       " 7: 1401,\n",
       " 8: 1234,\n",
       " 9: 1120,\n",
       " 10: 1336,\n",
       " 11: 1280,\n",
       " 12: 1179,\n",
       " 13: 1245,\n",
       " 14: 1244,\n",
       " 15: 1159,\n",
       " 16: 1297}"
      ]
     },
     "execution_count": 39,
     "metadata": {},
     "output_type": "execute_result"
    }
   ],
   "source": [
    "Y_region = {}\n",
    "for i in range(32,48):\n",
    "    seed = i-31\n",
    "    teamid = df_seeds_thisyear.TeamID.iloc[i]\n",
    "    Y_region.update({seed: teamid})\n",
    "Y_region"
   ]
  },
  {
   "cell_type": "code",
   "execution_count": 41,
   "metadata": {},
   "outputs": [
    {
     "data": {
      "text/plain": [
       "{1: 1242,\n",
       " 2: 1417,\n",
       " 3: 1211,\n",
       " 4: 1163,\n",
       " 5: 1388,\n",
       " 6: 1395,\n",
       " 7: 1321,\n",
       " 8: 1116,\n",
       " 9: 1228,\n",
       " 10: 1129,\n",
       " 11: 1113,\n",
       " 12: 1433,\n",
       " 13: 1233,\n",
       " 14: 1213,\n",
       " 15: 1421,\n",
       " 16: 1224}"
      ]
     },
     "execution_count": 41,
     "metadata": {},
     "output_type": "execute_result"
    }
   ],
   "source": [
    "Z_region = {}\n",
    "for i in range(48,64):\n",
    "    seed = i-47\n",
    "    teamid = df_seeds_thisyear.TeamID.iloc[i]\n",
    "    Z_region.update({seed: teamid})\n",
    "Z_region"
   ]
  },
  {
   "cell_type": "markdown",
   "metadata": {},
   "source": [
    "I think with these three dataframes, we can write a function that will take the slot information to find out which slots play eachother in each round. Then we use the seed data frame to look up which TeamID is associated with the slots. Then we look at our predictions to find out who we predicted to win. From there we should be able to label the winning teams with their seed for the next round and continue on. "
   ]
  },
  {
   "cell_type": "markdown",
   "metadata": {},
   "source": [
    "# Useful Definitions"
   ]
  },
  {
   "cell_type": "code",
   "execution_count": 54,
   "metadata": {},
   "outputs": [],
   "source": [
    "'''Calculate the matchups for the round from the tuple'''\n",
    "def matchups(tup=tuple, num_teams=int):\n",
    "    matches = []\n",
    "    for i in range(int(num_teams/2)):\n",
    "        match = [tup[i],tup[-i-1]]\n",
    "        matches.append(match)\n",
    "    return matches"
   ]
  },
  {
   "cell_type": "code",
   "execution_count": 56,
   "metadata": {},
   "outputs": [],
   "source": [
    "'''Given two teamids what is the probability of each team winning the matchup''' \n",
    "def prob_win(teamid1=int, teamid2=int):\n",
    "    if teamid1 > teamid2:\n",
    "        id_pred = str(year)+'_'+str(teamid2)+'_'+str(teamid1)\n",
    "        pred = float(df_pred.Pred[df_pred.ID==id_pred])\n",
    "        teamid1_prob = 1-pred\n",
    "        teamid2_prob = pred\n",
    "    elif teamid1 < teamid2:\n",
    "        id_pred = str(year)+'_'+str(teamid1)+'_'+str(teamid2)\n",
    "        pred = float(df_pred.Pred[df_pred.ID==id_pred])\n",
    "        teamid1_prob = pred\n",
    "        teamid2_prob = 1-pred\n",
    "    return teamid1_prob, teamid2_prob"
   ]
  },
  {
   "cell_type": "code",
   "execution_count": 69,
   "metadata": {},
   "outputs": [],
   "source": [
    "'''Make dictionary of seed and prob of winning'''\n",
    "def matchup_pred(matchups,dict_region,dict_pred):\n",
    "    for match in matchups:\n",
    "        teamid1 = dict_region[match[0]]\n",
    "        teamid2 = dict_region[match[1]]\n",
    "        teamid1_prob, teamid2_prob = prob_win(teamid1,teamid2)\n",
    "        dict_pred.update({match[0]:teamid1_prob, match[1]:teamid2_prob})\n",
    "    return dict_pred"
   ]
  },
  {
   "cell_type": "code",
   "execution_count": 152,
   "metadata": {},
   "outputs": [],
   "source": [
    "'''Return team name from rank'''\n",
    "def teams(tup, dict_region):\n",
    "    for seed in tup:\n",
    "        teamid = dict_region[seed]\n",
    "        print(df_teams.loc[df_teams['TeamID'] == teamid, 'TeamName'].iloc[0])\n",
    "    return\n",
    "        "
   ]
  },
  {
   "cell_type": "markdown",
   "metadata": {},
   "source": [
    "# Round: 1"
   ]
  },
  {
   "cell_type": "code",
   "execution_count": 53,
   "metadata": {},
   "outputs": [
    {
     "name": "stdout",
     "output_type": "stream",
     "text": [
      "[[1, 16], [2, 15], [3, 14], [4, 13], [5, 12], [6, 11], [7, 10], [8, 9]]\n"
     ]
    }
   ],
   "source": [
    "round1_tup = (1,2,3,4,5,6,7,8,9,10,11,12,13,14,15,16)\n",
    "matches = matchups(round1_tup,16)\n",
    "print(matches)"
   ]
  },
  {
   "cell_type": "code",
   "execution_count": 70,
   "metadata": {},
   "outputs": [
    {
     "data": {
      "text/plain": [
       "{1: 0.812111254720466,\n",
       " 16: 0.187888745279534,\n",
       " 2: 0.529933757033962,\n",
       " 15: 0.47006624296603805,\n",
       " 3: 0.552725494829199,\n",
       " 14: 0.44727450517080103,\n",
       " 4: 0.613246503566269,\n",
       " 13: 0.386753496433731,\n",
       " 5: 0.440172911356031,\n",
       " 12: 0.559827088643969,\n",
       " 6: 0.641528505611735,\n",
       " 11: 0.358471494388265,\n",
       " 7: 0.415919008440685,\n",
       " 10: 0.584080991559315,\n",
       " 8: 0.5115421666127,\n",
       " 9: 0.4884578333873}"
      ]
     },
     "execution_count": 70,
     "metadata": {},
     "output_type": "execute_result"
    }
   ],
   "source": [
    "W_round1 = {}\n",
    "W_round1 = matchup_pred(matches,W_region,W_round1)\n",
    "W_round1"
   ]
  },
  {
   "cell_type": "code",
   "execution_count": 153,
   "metadata": {},
   "outputs": [],
   "source": [
    "W_round1_tup = (1,2,3,4,12,6,10,8)"
   ]
  },
  {
   "cell_type": "code",
   "execution_count": 154,
   "metadata": {},
   "outputs": [
    {
     "name": "stdout",
     "output_type": "stream",
     "text": [
      "Purdue\n",
      "Marquette\n",
      "Kansas St\n",
      "Tennessee\n",
      "Oral Roberts\n",
      "Kentucky\n",
      "USC\n",
      "Memphis\n"
     ]
    }
   ],
   "source": [
    "teams(W_round1_tup, W_region)"
   ]
  },
  {
   "cell_type": "code",
   "execution_count": 72,
   "metadata": {},
   "outputs": [
    {
     "data": {
      "text/plain": [
       "{1: 0.805365537489732,\n",
       " 16: 0.19463446251026795,\n",
       " 2: 0.734699027924086,\n",
       " 15: 0.26530097207591397,\n",
       " 3: 0.469750491381313,\n",
       " 14: 0.530249508618687,\n",
       " 4: 0.45642878418490895,\n",
       " 13: 0.543571215815091,\n",
       " 5: 0.40985081999798,\n",
       " 12: 0.59014918000202,\n",
       " 6: 0.516998041662569,\n",
       " 11: 0.483001958337431,\n",
       " 7: 0.478788815987276,\n",
       " 10: 0.521211184012724,\n",
       " 8: 0.566884532140973,\n",
       " 9: 0.433115467859027}"
      ]
     },
     "execution_count": 72,
     "metadata": {},
     "output_type": "execute_result"
    }
   ],
   "source": [
    "X_round1 = {}\n",
    "X_round1 = matchup_pred(matches,X_region,X_round1)\n",
    "X_round1"
   ]
  },
  {
   "cell_type": "code",
   "execution_count": 73,
   "metadata": {},
   "outputs": [],
   "source": [
    "X_round1_tup = (1,2,14,13,12,6,10,8)"
   ]
  },
  {
   "cell_type": "code",
   "execution_count": 155,
   "metadata": {},
   "outputs": [
    {
     "name": "stdout",
     "output_type": "stream",
     "text": [
      "Alabama\n",
      "Arizona\n",
      "UC Santa Barbara\n",
      "Furman\n",
      "Col Charleston\n",
      "Creighton\n",
      "Utah St\n",
      "Maryland\n"
     ]
    }
   ],
   "source": [
    "teams(X_round1_tup, X_region)"
   ]
  },
  {
   "cell_type": "code",
   "execution_count": 74,
   "metadata": {},
   "outputs": [
    {
     "data": {
      "text/plain": [
       "{1: 0.959162679231435,\n",
       " 16: 0.040837320768565055,\n",
       " 2: 0.39831220886147,\n",
       " 15: 0.60168779113853,\n",
       " 3: 0.622694794491961,\n",
       " 14: 0.377305205508039,\n",
       " 4: 0.589781569851288,\n",
       " 13: 0.41021843014871195,\n",
       " 5: 0.44091503444385305,\n",
       " 12: 0.559084965556147,\n",
       " 6: 0.407780051743125,\n",
       " 11: 0.5922199482568751,\n",
       " 7: 0.494630624967649,\n",
       " 10: 0.505369375032351,\n",
       " 8: 0.52780863117065,\n",
       " 9: 0.47219136882935}"
      ]
     },
     "execution_count": 74,
     "metadata": {},
     "output_type": "execute_result"
    }
   ],
   "source": [
    "Y_round1 = {}\n",
    "Y_round1 = matchup_pred(matches,Y_region,Y_round1)\n",
    "Y_round1"
   ]
  },
  {
   "cell_type": "code",
   "execution_count": 75,
   "metadata": {},
   "outputs": [],
   "source": [
    "Y_round1_tup = (1,15,3,4,12,11,10,8)"
   ]
  },
  {
   "cell_type": "code",
   "execution_count": 156,
   "metadata": {},
   "outputs": [
    {
     "name": "stdout",
     "output_type": "stream",
     "text": [
      "Houston\n",
      "Colgate\n",
      "Xavier\n",
      "Indiana\n",
      "Drake\n",
      "Mississippi St\n",
      "Penn St\n",
      "Iowa\n"
     ]
    }
   ],
   "source": [
    "teams(Y_round1_tup, Y_region)"
   ]
  },
  {
   "cell_type": "code",
   "execution_count": 76,
   "metadata": {},
   "outputs": [
    {
     "data": {
      "text/plain": [
       "{1: 0.653462161037906,\n",
       " 16: 0.346537838962094,\n",
       " 2: 0.721669113564211,\n",
       " 15: 0.27833088643578896,\n",
       " 3: 0.726087633215382,\n",
       " 14: 0.27391236678461806,\n",
       " 4: 0.45666571155576,\n",
       " 13: 0.54333428844424,\n",
       " 5: 0.610863513339794,\n",
       " 12: 0.38913648666020595,\n",
       " 6: 0.666133722851826,\n",
       " 11: 0.333866277148174,\n",
       " 7: 0.37059716887917205,\n",
       " 10: 0.629402831120828,\n",
       " 8: 0.555200486518582,\n",
       " 9: 0.444799513481418}"
      ]
     },
     "execution_count": 76,
     "metadata": {},
     "output_type": "execute_result"
    }
   ],
   "source": [
    "Z_round1 = {}\n",
    "Z_round1 = matchup_pred(matches,Z_region,Z_round1)\n",
    "Z_round1"
   ]
  },
  {
   "cell_type": "code",
   "execution_count": 77,
   "metadata": {},
   "outputs": [],
   "source": [
    "Z_round1_tup = (1,2,3,13,5,6,10,8)"
   ]
  },
  {
   "cell_type": "code",
   "execution_count": 157,
   "metadata": {},
   "outputs": [
    {
     "name": "stdout",
     "output_type": "stream",
     "text": [
      "Kansas\n",
      "UCLA\n",
      "Gonzaga\n",
      "Iona\n",
      "St Mary's CA\n",
      "TCU\n",
      "Boise St\n",
      "Arkansas\n"
     ]
    }
   ],
   "source": [
    "teams(Z_round1_tup, Z_region)"
   ]
  },
  {
   "cell_type": "markdown",
   "metadata": {},
   "source": [
    "# Round: 2"
   ]
  },
  {
   "cell_type": "code",
   "execution_count": 78,
   "metadata": {},
   "outputs": [
    {
     "name": "stdout",
     "output_type": "stream",
     "text": [
      "[[1, 8], [2, 10], [3, 6], [4, 12]]\n"
     ]
    }
   ],
   "source": [
    "W_round2_matches = matchups(W_round1_tup,8)\n",
    "print(W_round2_matches)"
   ]
  },
  {
   "cell_type": "code",
   "execution_count": 79,
   "metadata": {},
   "outputs": [
    {
     "data": {
      "text/plain": [
       "{1: 0.588776470756574,\n",
       " 8: 0.411223529243426,\n",
       " 2: 0.639334188943742,\n",
       " 10: 0.36066581105625795,\n",
       " 3: 0.441582961751255,\n",
       " 6: 0.558417038248745,\n",
       " 4: 0.49806988723434,\n",
       " 12: 0.50193011276566}"
      ]
     },
     "execution_count": 79,
     "metadata": {},
     "output_type": "execute_result"
    }
   ],
   "source": [
    "W_round2 = {}\n",
    "W_round2 = matchup_pred(W_round2_matches,W_region,W_round2)\n",
    "W_round2"
   ]
  },
  {
   "cell_type": "code",
   "execution_count": 85,
   "metadata": {},
   "outputs": [],
   "source": [
    "W_round2_tup = (1,2,6,12)"
   ]
  },
  {
   "cell_type": "code",
   "execution_count": 158,
   "metadata": {},
   "outputs": [
    {
     "name": "stdout",
     "output_type": "stream",
     "text": [
      "Purdue\n",
      "Marquette\n",
      "Kentucky\n",
      "Oral Roberts\n"
     ]
    }
   ],
   "source": [
    "teams(W_round2_tup, W_region)"
   ]
  },
  {
   "cell_type": "code",
   "execution_count": 81,
   "metadata": {},
   "outputs": [
    {
     "name": "stdout",
     "output_type": "stream",
     "text": [
      "[[1, 8], [2, 10], [14, 6], [13, 12]]\n"
     ]
    }
   ],
   "source": [
    "X_round2_matches = matchups(X_round1_tup,8)\n",
    "print(X_round2_matches)"
   ]
  },
  {
   "cell_type": "code",
   "execution_count": 82,
   "metadata": {},
   "outputs": [
    {
     "data": {
      "text/plain": [
       "{1: 0.572339329469974,\n",
       " 8: 0.427660670530026,\n",
       " 2: 0.712570319811345,\n",
       " 10: 0.287429680188655,\n",
       " 14: 0.44497338312655,\n",
       " 6: 0.55502661687345,\n",
       " 13: 0.38938005167298795,\n",
       " 12: 0.610619948327012}"
      ]
     },
     "execution_count": 82,
     "metadata": {},
     "output_type": "execute_result"
    }
   ],
   "source": [
    "X_round2 = {}\n",
    "X_round2 = matchup_pred(X_round2_matches,X_region,X_round2)\n",
    "X_round2"
   ]
  },
  {
   "cell_type": "code",
   "execution_count": 84,
   "metadata": {},
   "outputs": [],
   "source": [
    "X_round2_tup = (1,2,6,12)"
   ]
  },
  {
   "cell_type": "code",
   "execution_count": 159,
   "metadata": {},
   "outputs": [
    {
     "name": "stdout",
     "output_type": "stream",
     "text": [
      "Alabama\n",
      "Arizona\n",
      "Creighton\n",
      "Col Charleston\n"
     ]
    }
   ],
   "source": [
    "teams(X_round2_tup, X_region)"
   ]
  },
  {
   "cell_type": "code",
   "execution_count": 86,
   "metadata": {},
   "outputs": [
    {
     "name": "stdout",
     "output_type": "stream",
     "text": [
      "[[1, 8], [15, 10], [3, 11], [4, 12]]\n"
     ]
    }
   ],
   "source": [
    "Y_round2_matches = matchups(Y_round1_tup,8)\n",
    "print(Y_round2_matches)"
   ]
  },
  {
   "cell_type": "code",
   "execution_count": 87,
   "metadata": {},
   "outputs": [
    {
     "data": {
      "text/plain": [
       "{1: 0.756561734165635,\n",
       " 8: 0.243438265834365,\n",
       " 15: 0.71009659535181,\n",
       " 10: 0.28990340464819,\n",
       " 3: 0.688734181415103,\n",
       " 11: 0.311265818584897,\n",
       " 4: 0.407471455525106,\n",
       " 12: 0.592528544474894}"
      ]
     },
     "execution_count": 87,
     "metadata": {},
     "output_type": "execute_result"
    }
   ],
   "source": [
    "Y_round2 = {}\n",
    "Y_round2 = matchup_pred(Y_round2_matches,Y_region,Y_round2)\n",
    "Y_round2"
   ]
  },
  {
   "cell_type": "code",
   "execution_count": 88,
   "metadata": {},
   "outputs": [],
   "source": [
    "Y_round2_tup = (1,15,3,12)"
   ]
  },
  {
   "cell_type": "code",
   "execution_count": 161,
   "metadata": {},
   "outputs": [
    {
     "name": "stdout",
     "output_type": "stream",
     "text": [
      "Houston\n",
      "Colgate\n",
      "Xavier\n",
      "Drake\n"
     ]
    }
   ],
   "source": [
    "teams(Y_round2_tup, Y_region)"
   ]
  },
  {
   "cell_type": "code",
   "execution_count": 89,
   "metadata": {},
   "outputs": [
    {
     "name": "stdout",
     "output_type": "stream",
     "text": [
      "[[1, 8], [2, 10], [3, 6], [13, 5]]\n"
     ]
    }
   ],
   "source": [
    "Z_round2_matches = matchups(Z_round1_tup,8)\n",
    "print(Z_round2_matches)"
   ]
  },
  {
   "cell_type": "code",
   "execution_count": 90,
   "metadata": {},
   "outputs": [
    {
     "data": {
      "text/plain": [
       "{1: 0.560259806770153,\n",
       " 8: 0.439740193229847,\n",
       " 2: 0.606506641020945,\n",
       " 10: 0.393493358979055,\n",
       " 3: 0.72958820248811,\n",
       " 6: 0.27041179751189004,\n",
       " 13: 0.534203852430992,\n",
       " 5: 0.465796147569008}"
      ]
     },
     "execution_count": 90,
     "metadata": {},
     "output_type": "execute_result"
    }
   ],
   "source": [
    "Z_round2 = {}\n",
    "Z_round2 = matchup_pred(Z_round2_matches,Z_region,Z_round2)\n",
    "Z_round2"
   ]
  },
  {
   "cell_type": "code",
   "execution_count": 91,
   "metadata": {},
   "outputs": [],
   "source": [
    "Z_round2_tup = (1,2,3,13)"
   ]
  },
  {
   "cell_type": "code",
   "execution_count": 162,
   "metadata": {},
   "outputs": [
    {
     "name": "stdout",
     "output_type": "stream",
     "text": [
      "Kansas\n",
      "UCLA\n",
      "Gonzaga\n",
      "Iona\n"
     ]
    }
   ],
   "source": [
    "teams(Z_round2_tup, Z_region)"
   ]
  },
  {
   "cell_type": "markdown",
   "metadata": {},
   "source": [
    "# Round: 3"
   ]
  },
  {
   "cell_type": "code",
   "execution_count": 92,
   "metadata": {},
   "outputs": [
    {
     "name": "stdout",
     "output_type": "stream",
     "text": [
      "[[1, 12], [2, 6]]\n"
     ]
    }
   ],
   "source": [
    "W_round3_matches = matchups(W_round2_tup,4)\n",
    "print(W_round3_matches)"
   ]
  },
  {
   "cell_type": "code",
   "execution_count": 93,
   "metadata": {},
   "outputs": [
    {
     "data": {
      "text/plain": [
       "{1: 0.539396073443486,\n",
       " 12: 0.460603926556514,\n",
       " 2: 0.49579064647303195,\n",
       " 6: 0.504209353526968}"
      ]
     },
     "execution_count": 93,
     "metadata": {},
     "output_type": "execute_result"
    }
   ],
   "source": [
    "W_round3 = {}\n",
    "W_round3 = matchup_pred(W_round3_matches,W_region,W_round3)\n",
    "W_round3"
   ]
  },
  {
   "cell_type": "code",
   "execution_count": 109,
   "metadata": {},
   "outputs": [],
   "source": [
    "W_round3_tup = (1,6)"
   ]
  },
  {
   "cell_type": "code",
   "execution_count": 163,
   "metadata": {},
   "outputs": [
    {
     "name": "stdout",
     "output_type": "stream",
     "text": [
      "Purdue\n",
      "Kentucky\n"
     ]
    }
   ],
   "source": [
    "teams(W_round3_tup, W_region)"
   ]
  },
  {
   "cell_type": "code",
   "execution_count": 95,
   "metadata": {},
   "outputs": [
    {
     "name": "stdout",
     "output_type": "stream",
     "text": [
      "[[1, 12], [2, 6]]\n"
     ]
    }
   ],
   "source": [
    "X_round3_matches = matchups(X_round2_tup,4)\n",
    "print(X_round3_matches)"
   ]
  },
  {
   "cell_type": "code",
   "execution_count": 96,
   "metadata": {},
   "outputs": [
    {
     "data": {
      "text/plain": [
       "{1: 0.561813441952703,\n",
       " 12: 0.438186558047297,\n",
       " 2: 0.743276205337791,\n",
       " 6: 0.25672379466220896}"
      ]
     },
     "execution_count": 96,
     "metadata": {},
     "output_type": "execute_result"
    }
   ],
   "source": [
    "X_round3 = {}\n",
    "X_round3 = matchup_pred(X_round3_matches,X_region,X_round3)\n",
    "X_round3"
   ]
  },
  {
   "cell_type": "code",
   "execution_count": 97,
   "metadata": {},
   "outputs": [],
   "source": [
    "X_round3_tup = (1,2)"
   ]
  },
  {
   "cell_type": "code",
   "execution_count": 164,
   "metadata": {},
   "outputs": [
    {
     "name": "stdout",
     "output_type": "stream",
     "text": [
      "Alabama\n",
      "Arizona\n"
     ]
    }
   ],
   "source": [
    "teams(X_round3_tup, X_region)"
   ]
  },
  {
   "cell_type": "code",
   "execution_count": 98,
   "metadata": {},
   "outputs": [
    {
     "name": "stdout",
     "output_type": "stream",
     "text": [
      "[[1, 12], [15, 3]]\n"
     ]
    }
   ],
   "source": [
    "Y_round3_matches = matchups(Y_round2_tup,4)\n",
    "print(Y_round3_matches)"
   ]
  },
  {
   "cell_type": "code",
   "execution_count": 99,
   "metadata": {},
   "outputs": [
    {
     "data": {
      "text/plain": [
       "{1: 0.804469812286734,\n",
       " 12: 0.195530187713266,\n",
       " 15: 0.457458574892676,\n",
       " 3: 0.542541425107324}"
      ]
     },
     "execution_count": 99,
     "metadata": {},
     "output_type": "execute_result"
    }
   ],
   "source": [
    "Y_round3 = {}\n",
    "Y_round3 = matchup_pred(Y_round3_matches,Y_region,Y_round3)\n",
    "Y_round3"
   ]
  },
  {
   "cell_type": "code",
   "execution_count": 102,
   "metadata": {},
   "outputs": [],
   "source": [
    "Y_round3_tup = (1,3)"
   ]
  },
  {
   "cell_type": "code",
   "execution_count": 165,
   "metadata": {},
   "outputs": [
    {
     "name": "stdout",
     "output_type": "stream",
     "text": [
      "Houston\n",
      "Xavier\n"
     ]
    }
   ],
   "source": [
    "teams(Y_round3_tup, Y_region)"
   ]
  },
  {
   "cell_type": "code",
   "execution_count": 104,
   "metadata": {},
   "outputs": [
    {
     "name": "stdout",
     "output_type": "stream",
     "text": [
      "[[1, 13], [2, 3]]\n"
     ]
    }
   ],
   "source": [
    "Z_round3_matches = matchups(Z_round2_tup,4)\n",
    "print(Z_round3_matches)"
   ]
  },
  {
   "cell_type": "code",
   "execution_count": 106,
   "metadata": {},
   "outputs": [
    {
     "data": {
      "text/plain": [
       "{1: 0.306829206723219,\n",
       " 13: 0.693170793276781,\n",
       " 2: 0.464683090936162,\n",
       " 3: 0.535316909063838}"
      ]
     },
     "execution_count": 106,
     "metadata": {},
     "output_type": "execute_result"
    }
   ],
   "source": [
    "Z_round3 = {}\n",
    "Z_round3 = matchup_pred(Z_round3_matches,Z_region,Z_round3)\n",
    "Z_round3"
   ]
  },
  {
   "cell_type": "code",
   "execution_count": 108,
   "metadata": {},
   "outputs": [],
   "source": [
    "Z_round3_tup = (13,3)"
   ]
  },
  {
   "cell_type": "code",
   "execution_count": 166,
   "metadata": {},
   "outputs": [
    {
     "name": "stdout",
     "output_type": "stream",
     "text": [
      "Iona\n",
      "Gonzaga\n"
     ]
    }
   ],
   "source": [
    "teams(Z_round3_tup, Z_region)"
   ]
  },
  {
   "cell_type": "markdown",
   "metadata": {},
   "source": [
    "# Round: 4"
   ]
  },
  {
   "cell_type": "code",
   "execution_count": 110,
   "metadata": {},
   "outputs": [
    {
     "name": "stdout",
     "output_type": "stream",
     "text": [
      "[[1, 6]]\n"
     ]
    }
   ],
   "source": [
    "W_round4_matches = matchups(W_round3_tup,2)\n",
    "print(W_round4_matches)"
   ]
  },
  {
   "cell_type": "code",
   "execution_count": 111,
   "metadata": {},
   "outputs": [
    {
     "data": {
      "text/plain": [
       "{1: 0.6190708740751361, 6: 0.380929125924864}"
      ]
     },
     "execution_count": 111,
     "metadata": {},
     "output_type": "execute_result"
    }
   ],
   "source": [
    "W_round4 = {}\n",
    "W_round4 = matchup_pred(W_round4_matches,W_region,W_round4)\n",
    "W_round4"
   ]
  },
  {
   "cell_type": "code",
   "execution_count": 120,
   "metadata": {},
   "outputs": [
    {
     "name": "stdout",
     "output_type": "stream",
     "text": [
      "1345\n"
     ]
    }
   ],
   "source": [
    "W_winner = 1\n",
    "W_teamid_winner = W_region[W_winner]\n",
    "print(W_teamid_winner)"
   ]
  },
  {
   "cell_type": "code",
   "execution_count": 170,
   "metadata": {},
   "outputs": [
    {
     "data": {
      "text/plain": [
       "'Purdue'"
      ]
     },
     "execution_count": 170,
     "metadata": {},
     "output_type": "execute_result"
    }
   ],
   "source": [
    "df_teams.loc[df_teams['TeamID'] == W_teamid_winner, 'TeamName'].iloc[0]"
   ]
  },
  {
   "cell_type": "code",
   "execution_count": 114,
   "metadata": {},
   "outputs": [
    {
     "name": "stdout",
     "output_type": "stream",
     "text": [
      "[[1, 2]]\n"
     ]
    }
   ],
   "source": [
    "X_round4_matches = matchups(X_round3_tup,2)\n",
    "print(X_round4_matches)"
   ]
  },
  {
   "cell_type": "code",
   "execution_count": 118,
   "metadata": {},
   "outputs": [
    {
     "data": {
      "text/plain": [
       "{1: 0.439134267618188, 2: 0.560865732381812}"
      ]
     },
     "execution_count": 118,
     "metadata": {},
     "output_type": "execute_result"
    }
   ],
   "source": [
    "X_round4 = {}\n",
    "X_round4 = matchup_pred(X_round4_matches,X_region,X_round4)\n",
    "X_round4"
   ]
  },
  {
   "cell_type": "code",
   "execution_count": 121,
   "metadata": {},
   "outputs": [
    {
     "name": "stdout",
     "output_type": "stream",
     "text": [
      "1112\n"
     ]
    }
   ],
   "source": [
    "X_winner = 2\n",
    "X_teamid_winner = X_region[X_winner]\n",
    "print(X_teamid_winner)"
   ]
  },
  {
   "cell_type": "code",
   "execution_count": 171,
   "metadata": {},
   "outputs": [
    {
     "data": {
      "text/plain": [
       "'Arizona'"
      ]
     },
     "execution_count": 171,
     "metadata": {},
     "output_type": "execute_result"
    }
   ],
   "source": [
    "df_teams.loc[df_teams['TeamID'] == X_teamid_winner, 'TeamName'].iloc[0]"
   ]
  },
  {
   "cell_type": "code",
   "execution_count": 115,
   "metadata": {},
   "outputs": [
    {
     "name": "stdout",
     "output_type": "stream",
     "text": [
      "[[1, 3]]\n"
     ]
    }
   ],
   "source": [
    "Y_round4_matches = matchups(Y_round3_tup,2)\n",
    "print(Y_round4_matches)"
   ]
  },
  {
   "cell_type": "code",
   "execution_count": 122,
   "metadata": {},
   "outputs": [
    {
     "data": {
      "text/plain": [
       "{1: 0.639539531448333, 3: 0.360460468551667}"
      ]
     },
     "execution_count": 122,
     "metadata": {},
     "output_type": "execute_result"
    }
   ],
   "source": [
    "Y_round4 = {}\n",
    "Y_round4 = matchup_pred(Y_round4_matches,Y_region,Y_round4)\n",
    "Y_round4"
   ]
  },
  {
   "cell_type": "code",
   "execution_count": 123,
   "metadata": {},
   "outputs": [
    {
     "name": "stdout",
     "output_type": "stream",
     "text": [
      "1222\n"
     ]
    }
   ],
   "source": [
    "Y_winner = 1\n",
    "Y_teamid_winner = Y_region[Y_winner]\n",
    "print(Y_teamid_winner)"
   ]
  },
  {
   "cell_type": "code",
   "execution_count": 172,
   "metadata": {},
   "outputs": [
    {
     "data": {
      "text/plain": [
       "'Houston'"
      ]
     },
     "execution_count": 172,
     "metadata": {},
     "output_type": "execute_result"
    }
   ],
   "source": [
    "df_teams.loc[df_teams['TeamID'] == Y_teamid_winner, 'TeamName'].iloc[0]"
   ]
  },
  {
   "cell_type": "code",
   "execution_count": 124,
   "metadata": {},
   "outputs": [
    {
     "name": "stdout",
     "output_type": "stream",
     "text": [
      "[[13, 3]]\n"
     ]
    }
   ],
   "source": [
    "Z_round4_matches = matchups(Z_round3_tup,2)\n",
    "print(Z_round4_matches)"
   ]
  },
  {
   "cell_type": "code",
   "execution_count": 125,
   "metadata": {},
   "outputs": [
    {
     "data": {
      "text/plain": [
       "{13: 0.48426819951433, 3: 0.51573180048567}"
      ]
     },
     "execution_count": 125,
     "metadata": {},
     "output_type": "execute_result"
    }
   ],
   "source": [
    "Z_round4 = {}\n",
    "Z_round4 = matchup_pred(Z_round4_matches,Z_region,Z_round4)\n",
    "Z_round4"
   ]
  },
  {
   "cell_type": "code",
   "execution_count": 126,
   "metadata": {},
   "outputs": [
    {
     "name": "stdout",
     "output_type": "stream",
     "text": [
      "1211\n"
     ]
    }
   ],
   "source": [
    "Z_winner = 3\n",
    "Z_teamid_winner = Z_region[Z_winner]\n",
    "print(Z_teamid_winner)"
   ]
  },
  {
   "cell_type": "code",
   "execution_count": 173,
   "metadata": {},
   "outputs": [
    {
     "data": {
      "text/plain": [
       "'Gonzaga'"
      ]
     },
     "execution_count": 173,
     "metadata": {},
     "output_type": "execute_result"
    }
   ],
   "source": [
    "df_teams.loc[df_teams['TeamID'] == Z_teamid_winner, 'TeamName'].iloc[0]"
   ]
  },
  {
   "cell_type": "markdown",
   "metadata": {},
   "source": [
    "# Round: Semifinals"
   ]
  },
  {
   "cell_type": "code",
   "execution_count": 129,
   "metadata": {},
   "outputs": [
    {
     "name": "stdout",
     "output_type": "stream",
     "text": [
      "W probability 0.42719519033196995\n",
      "X probability 0.57280480966803\n"
     ]
    }
   ],
   "source": [
    "W_prob, X_prob = prob_win(W_teamid_winner, X_teamid_winner)\n",
    "print('W probability '+str(W_prob))\n",
    "print('X probability '+str(X_prob))"
   ]
  },
  {
   "cell_type": "code",
   "execution_count": 130,
   "metadata": {},
   "outputs": [],
   "source": [
    "WX_win_teamid = X_teamid_winner"
   ]
  },
  {
   "cell_type": "code",
   "execution_count": 175,
   "metadata": {},
   "outputs": [
    {
     "data": {
      "text/plain": [
       "'Arizona'"
      ]
     },
     "execution_count": 175,
     "metadata": {},
     "output_type": "execute_result"
    }
   ],
   "source": [
    "df_teams.loc[df_teams['TeamID'] == WX_win_teamid, 'TeamName'].iloc[0]"
   ]
  },
  {
   "cell_type": "code",
   "execution_count": 131,
   "metadata": {},
   "outputs": [
    {
     "name": "stdout",
     "output_type": "stream",
     "text": [
      "Y probability 0.623674172035082\n",
      "Z probability 0.376325827964918\n"
     ]
    }
   ],
   "source": [
    "Y_prob, Z_prob = prob_win(Y_teamid_winner, Z_teamid_winner)\n",
    "print('Y probability '+str(Y_prob))\n",
    "print('Z probability '+str(Z_prob))"
   ]
  },
  {
   "cell_type": "code",
   "execution_count": 132,
   "metadata": {},
   "outputs": [],
   "source": [
    "YZ_win_teamid = Y_teamid_winner"
   ]
  },
  {
   "cell_type": "code",
   "execution_count": 174,
   "metadata": {},
   "outputs": [
    {
     "data": {
      "text/plain": [
       "'Houston'"
      ]
     },
     "execution_count": 174,
     "metadata": {},
     "output_type": "execute_result"
    }
   ],
   "source": [
    "df_teams.loc[df_teams['TeamID'] == YZ_win_teamid, 'TeamName'].iloc[0]"
   ]
  },
  {
   "cell_type": "markdown",
   "metadata": {},
   "source": [
    "# Round: Finals"
   ]
  },
  {
   "cell_type": "code",
   "execution_count": 133,
   "metadata": {},
   "outputs": [
    {
     "name": "stdout",
     "output_type": "stream",
     "text": [
      "WX probability 0.471644635192439\n",
      "YZ probability 0.528355364807561\n"
     ]
    }
   ],
   "source": [
    "WX_prob, YZ_prob = prob_win(WX_win_teamid, YZ_win_teamid)\n",
    "print('WX probability '+str(WX_prob))\n",
    "print('YZ probability '+str(YZ_prob))"
   ]
  },
  {
   "cell_type": "code",
   "execution_count": 135,
   "metadata": {},
   "outputs": [
    {
     "data": {
      "text/plain": [
       "1222"
      ]
     },
     "execution_count": 135,
     "metadata": {},
     "output_type": "execute_result"
    }
   ],
   "source": [
    "winner = YZ_win_teamid\n",
    "winner"
   ]
  },
  {
   "cell_type": "code",
   "execution_count": 176,
   "metadata": {},
   "outputs": [
    {
     "data": {
      "text/plain": [
       "'Houston'"
      ]
     },
     "execution_count": 176,
     "metadata": {},
     "output_type": "execute_result"
    }
   ],
   "source": [
    "df_teams.loc[df_teams['TeamID'] == winner, 'TeamName'].iloc[0]"
   ]
  },
  {
   "cell_type": "code",
   "execution_count": null,
   "metadata": {},
   "outputs": [],
   "source": []
  }
 ],
 "metadata": {
  "kernelspec": {
   "display_name": "Python 3",
   "language": "python",
   "name": "python3"
  },
  "language_info": {
   "codemirror_mode": {
    "name": "ipython",
    "version": 3
   },
   "file_extension": ".py",
   "mimetype": "text/x-python",
   "name": "python",
   "nbconvert_exporter": "python",
   "pygments_lexer": "ipython3",
   "version": "3.7.13"
  }
 },
 "nbformat": 4,
 "nbformat_minor": 4
}
