{
 "cells": [
  {
   "cell_type": "code",
   "execution_count": 1,
   "id": "e8c561ab",
   "metadata": {
    "execution": {
     "iopub.execute_input": "2023-03-02T17:40:50.242822Z",
     "iopub.status.busy": "2023-03-02T17:40:50.242182Z",
     "iopub.status.idle": "2023-03-02T17:40:50.264015Z",
     "shell.execute_reply": "2023-03-02T17:40:50.262389Z"
    },
    "papermill": {
     "duration": 0.050449,
     "end_time": "2023-03-02T17:40:50.269101",
     "exception": false,
     "start_time": "2023-03-02T17:40:50.218652",
     "status": "completed"
    },
    "tags": []
   },
   "outputs": [
    {
     "name": "stdout",
     "output_type": "stream",
     "text": [
      "/kaggle/input/march-machine-learning-mania-2023/Conferences.csv\n",
      "/kaggle/input/march-machine-learning-mania-2023/WNCAATourneyDetailedResults.csv\n",
      "/kaggle/input/march-machine-learning-mania-2023/WRegularSeasonCompactResults.csv\n",
      "/kaggle/input/march-machine-learning-mania-2023/MNCAATourneySeedRoundSlots.csv\n",
      "/kaggle/input/march-machine-learning-mania-2023/MRegularSeasonDetailedResults.csv\n",
      "/kaggle/input/march-machine-learning-mania-2023/MNCAATourneyCompactResults.csv\n",
      "/kaggle/input/march-machine-learning-mania-2023/MGameCities.csv\n",
      "/kaggle/input/march-machine-learning-mania-2023/WGameCities.csv\n",
      "/kaggle/input/march-machine-learning-mania-2023/MSeasons.csv\n",
      "/kaggle/input/march-machine-learning-mania-2023/WNCAATourneySlots.csv\n",
      "/kaggle/input/march-machine-learning-mania-2023/MSecondaryTourneyTeams.csv\n",
      "/kaggle/input/march-machine-learning-mania-2023/Cities.csv\n",
      "/kaggle/input/march-machine-learning-mania-2023/SampleSubmission2023.csv\n",
      "/kaggle/input/march-machine-learning-mania-2023/MTeamSpellings.csv\n",
      "/kaggle/input/march-machine-learning-mania-2023/MRegularSeasonCompactResults.csv\n",
      "/kaggle/input/march-machine-learning-mania-2023/MMasseyOrdinals.csv\n",
      "/kaggle/input/march-machine-learning-mania-2023/MSecondaryTourneyCompactResults.csv\n",
      "/kaggle/input/march-machine-learning-mania-2023/WTeams.csv\n",
      "/kaggle/input/march-machine-learning-mania-2023/MNCAATourneySlots.csv\n",
      "/kaggle/input/march-machine-learning-mania-2023/MNCAATourneySeeds.csv\n",
      "/kaggle/input/march-machine-learning-mania-2023/WNCAATourneyCompactResults.csv\n",
      "/kaggle/input/march-machine-learning-mania-2023/WSeasons.csv\n",
      "/kaggle/input/march-machine-learning-mania-2023/WNCAATourneySeeds.csv\n",
      "/kaggle/input/march-machine-learning-mania-2023/MTeamCoaches.csv\n",
      "/kaggle/input/march-machine-learning-mania-2023/MConferenceTourneyGames.csv\n",
      "/kaggle/input/march-machine-learning-mania-2023/WRegularSeasonDetailedResults.csv\n",
      "/kaggle/input/march-machine-learning-mania-2023/MNCAATourneyDetailedResults.csv\n",
      "/kaggle/input/march-machine-learning-mania-2023/WTeamSpellings.csv\n",
      "/kaggle/input/march-machine-learning-mania-2023/MTeamConferences.csv\n",
      "/kaggle/input/march-machine-learning-mania-2023/MTeams.csv\n",
      "/kaggle/input/march-machine-learning-mania-2023/WTeamConferences.csv\n"
     ]
    }
   ],
   "source": [
    "# This Python 3 environment comes with many helpful analytics libraries installed\n",
    "# It is defined by the kaggle/python Docker image: https://github.com/kaggle/docker-python\n",
    "# For example, here's several helpful packages to load\n",
    "\n",
    "import numpy as np # linear algebra\n",
    "import pandas as pd # data processing, CSV file I/O (e.g. pd.read_csv)\n",
    "\n",
    "# Input data files are available in the read-only \"../input/\" directory\n",
    "# For example, running this (by clicking run or pressing Shift+Enter) will list all files under the input directory\n",
    "\n",
    "import os\n",
    "for dirname, _, filenames in os.walk('/kaggle/input'):\n",
    "    for filename in filenames:\n",
    "        print(os.path.join(dirname, filename))\n",
    "\n",
    "# You can write up to 20GB to the current directory (/kaggle/working/) that gets preserved as output when you create a version using \"Save & Run All\" \n",
    "# You can also write temporary files to /kaggle/temp/, but they won't be saved outside of the current session"
   ]
  },
  {
   "cell_type": "code",
   "execution_count": 2,
   "id": "2f7046f8",
   "metadata": {
    "execution": {
     "iopub.execute_input": "2023-03-02T17:40:50.312112Z",
     "iopub.status.busy": "2023-03-02T17:40:50.311619Z",
     "iopub.status.idle": "2023-03-02T17:40:52.604875Z",
     "shell.execute_reply": "2023-03-02T17:40:52.603430Z"
    },
    "papermill": {
     "duration": 2.319646,
     "end_time": "2023-03-02T17:40:52.608309",
     "exception": false,
     "start_time": "2023-03-02T17:40:50.288663",
     "status": "completed"
    },
    "tags": []
   },
   "outputs": [],
   "source": [
    "# This Python 3 environment comes with many helpful analytics libraries installed\n",
    "# It is defined by the kaggle/python Docker image: https://github.com/kaggle/docker-python\n",
    "# For example, here's several helpful packages to load\n",
    "\n",
    "import numpy as np # linear algebra\n",
    "import pandas as pd # data processing, CSV file I/O (e.g. pd.read_csv)\n",
    "\n",
    "# Input data files are available in the read-only \"../input/\" directory\n",
    "# For example, running this (by clicking run or pressing Shift+Enter) will list all files under the input directory\n",
    "\n",
    "import os\n",
    "\n",
    "# You can write up to 20GB to the current directory (/kaggle/working/) that gets preserved as output when you create a version using \"Save & Run All\" \n",
    "# You can also write temporary files to /kaggle/temp/, but they won't be saved outside of the current session\n",
    "\n",
    "import re\n",
    "\n",
    "# Matplotlib for visualization\n",
    "from matplotlib import pyplot as plt\n",
    "# display plots in the notebook\n",
    "%matplotlib inline \n",
    "\n",
    "# Seaborn for easier visualization\n",
    "import seaborn as sns\n",
    "# Scikit-Learn for Modeling\n",
    "import sklearn\n",
    "# Pickle for saving model files\n",
    "import pickle\n",
    "\n",
    "# Import Logistic Regression\n",
    "from sklearn.linear_model import LogisticRegression\n",
    "# Import RandomForestClassifier and GradientBoostingClassifer\n",
    "from sklearn.ensemble import RandomForestClassifier, GradientBoostingClassifier\n",
    "\n",
    "# Function for splitting training and test set\n",
    "from sklearn.model_selection import train_test_split\n",
    "# Function for creating model pipelines\n",
    "from sklearn.pipeline import make_pipeline\n",
    "# For standardization\n",
    "from sklearn.preprocessing import StandardScaler\n",
    "# Helper for cross-validation\n",
    "from sklearn.model_selection import GridSearchCV\n",
    "# Classification metrics (added later)\n",
    "from sklearn.metrics import roc_curve, auc\n",
    "\n",
    "from sklearn.preprocessing import LabelEncoder\n",
    "from sklearn.preprocessing import OneHotEncoder"
   ]
  },
  {
   "cell_type": "code",
   "execution_count": 3,
   "id": "138d56f2",
   "metadata": {
    "execution": {
     "iopub.execute_input": "2023-03-02T17:40:52.648655Z",
     "iopub.status.busy": "2023-03-02T17:40:52.647971Z",
     "iopub.status.idle": "2023-03-02T17:40:52.669183Z",
     "shell.execute_reply": "2023-03-02T17:40:52.667587Z"
    },
    "papermill": {
     "duration": 0.045371,
     "end_time": "2023-03-02T17:40:52.672812",
     "exception": false,
     "start_time": "2023-03-02T17:40:52.627441",
     "status": "completed"
    },
    "tags": []
   },
   "outputs": [],
   "source": [
    "#read in the team data\n",
    "base_path = \"/kaggle/input/march-machine-learning-mania-2023/\"\n",
    "df_teams = pd.read_csv(base_path + 'MTeams.csv')"
   ]
  },
  {
   "cell_type": "markdown",
   "id": "d6d24c97",
   "metadata": {
    "papermill": {
     "duration": 0.019332,
     "end_time": "2023-03-02T17:40:52.711607",
     "exception": false,
     "start_time": "2023-03-02T17:40:52.692275",
     "status": "completed"
    },
    "tags": []
   },
   "source": [
    "The MTeams.csv data has the team name, the ID number which is a 4 digit ID, the first season they were in D1 and the last season they were in D1. If the last season date is 2021, they are currently in D1. The dataset goes back to 1985 so that's the earliest year available."
   ]
  },
  {
   "cell_type": "code",
   "execution_count": 4,
   "id": "6b67e73d",
   "metadata": {
    "execution": {
     "iopub.execute_input": "2023-03-02T17:40:52.752199Z",
     "iopub.status.busy": "2023-03-02T17:40:52.751679Z",
     "iopub.status.idle": "2023-03-02T17:40:52.784920Z",
     "shell.execute_reply": "2023-03-02T17:40:52.783484Z"
    },
    "papermill": {
     "duration": 0.057225,
     "end_time": "2023-03-02T17:40:52.787961",
     "exception": false,
     "start_time": "2023-03-02T17:40:52.730736",
     "status": "completed"
    },
    "tags": []
   },
   "outputs": [
    {
     "data": {
      "text/html": [
       "<div>\n",
       "<style scoped>\n",
       "    .dataframe tbody tr th:only-of-type {\n",
       "        vertical-align: middle;\n",
       "    }\n",
       "\n",
       "    .dataframe tbody tr th {\n",
       "        vertical-align: top;\n",
       "    }\n",
       "\n",
       "    .dataframe thead th {\n",
       "        text-align: right;\n",
       "    }\n",
       "</style>\n",
       "<table border=\"1\" class=\"dataframe\">\n",
       "  <thead>\n",
       "    <tr style=\"text-align: right;\">\n",
       "      <th></th>\n",
       "      <th>TeamID</th>\n",
       "      <th>TeamName</th>\n",
       "      <th>FirstD1Season</th>\n",
       "      <th>LastD1Season</th>\n",
       "    </tr>\n",
       "  </thead>\n",
       "  <tbody>\n",
       "    <tr>\n",
       "      <th>0</th>\n",
       "      <td>1101</td>\n",
       "      <td>Abilene Chr</td>\n",
       "      <td>2014</td>\n",
       "      <td>2023</td>\n",
       "    </tr>\n",
       "    <tr>\n",
       "      <th>1</th>\n",
       "      <td>1102</td>\n",
       "      <td>Air Force</td>\n",
       "      <td>1985</td>\n",
       "      <td>2023</td>\n",
       "    </tr>\n",
       "    <tr>\n",
       "      <th>2</th>\n",
       "      <td>1103</td>\n",
       "      <td>Akron</td>\n",
       "      <td>1985</td>\n",
       "      <td>2023</td>\n",
       "    </tr>\n",
       "    <tr>\n",
       "      <th>3</th>\n",
       "      <td>1104</td>\n",
       "      <td>Alabama</td>\n",
       "      <td>1985</td>\n",
       "      <td>2023</td>\n",
       "    </tr>\n",
       "    <tr>\n",
       "      <th>4</th>\n",
       "      <td>1105</td>\n",
       "      <td>Alabama A&amp;M</td>\n",
       "      <td>2000</td>\n",
       "      <td>2023</td>\n",
       "    </tr>\n",
       "  </tbody>\n",
       "</table>\n",
       "</div>"
      ],
      "text/plain": [
       "   TeamID     TeamName  FirstD1Season  LastD1Season\n",
       "0    1101  Abilene Chr           2014          2023\n",
       "1    1102    Air Force           1985          2023\n",
       "2    1103        Akron           1985          2023\n",
       "3    1104      Alabama           1985          2023\n",
       "4    1105  Alabama A&M           2000          2023"
      ]
     },
     "execution_count": 4,
     "metadata": {},
     "output_type": "execute_result"
    }
   ],
   "source": [
    "df_teams.head()"
   ]
  },
  {
   "cell_type": "code",
   "execution_count": 5,
   "id": "135d795c",
   "metadata": {
    "execution": {
     "iopub.execute_input": "2023-03-02T17:40:52.829648Z",
     "iopub.status.busy": "2023-03-02T17:40:52.828425Z",
     "iopub.status.idle": "2023-03-02T17:40:52.841009Z",
     "shell.execute_reply": "2023-03-02T17:40:52.839602Z"
    },
    "papermill": {
     "duration": 0.0369,
     "end_time": "2023-03-02T17:40:52.844391",
     "exception": false,
     "start_time": "2023-03-02T17:40:52.807491",
     "status": "completed"
    },
    "tags": []
   },
   "outputs": [],
   "source": [
    "#read in the seasons data\n",
    "df_seasons = pd.read_csv(base_path + '/MSeasons.csv')"
   ]
  },
  {
   "cell_type": "markdown",
   "id": "b18aab3a",
   "metadata": {
    "papermill": {
     "duration": 0.019905,
     "end_time": "2023-03-02T17:40:52.884006",
     "exception": false,
     "start_time": "2023-03-02T17:40:52.864101",
     "status": "completed"
    },
    "tags": []
   },
   "source": [
    "The MSeasons.csv data has the season (year) that the tournament was played, DayZero is the 0th day of the season so that the men's championship game is on day 154, whichever region comes first alphabetically is RegionW, RegionX is the region that plays RegionW in the semifinals, in the leftover 2 regions the first alphabetically is RegionY, RegionZ plays RegionY in the semifinals."
   ]
  },
  {
   "cell_type": "code",
   "execution_count": 6,
   "id": "405243a5",
   "metadata": {
    "execution": {
     "iopub.execute_input": "2023-03-02T17:40:52.927145Z",
     "iopub.status.busy": "2023-03-02T17:40:52.926622Z",
     "iopub.status.idle": "2023-03-02T17:40:52.942804Z",
     "shell.execute_reply": "2023-03-02T17:40:52.941294Z"
    },
    "papermill": {
     "duration": 0.04105,
     "end_time": "2023-03-02T17:40:52.945875",
     "exception": false,
     "start_time": "2023-03-02T17:40:52.904825",
     "status": "completed"
    },
    "tags": []
   },
   "outputs": [
    {
     "data": {
      "text/html": [
       "<div>\n",
       "<style scoped>\n",
       "    .dataframe tbody tr th:only-of-type {\n",
       "        vertical-align: middle;\n",
       "    }\n",
       "\n",
       "    .dataframe tbody tr th {\n",
       "        vertical-align: top;\n",
       "    }\n",
       "\n",
       "    .dataframe thead th {\n",
       "        text-align: right;\n",
       "    }\n",
       "</style>\n",
       "<table border=\"1\" class=\"dataframe\">\n",
       "  <thead>\n",
       "    <tr style=\"text-align: right;\">\n",
       "      <th></th>\n",
       "      <th>Season</th>\n",
       "      <th>DayZero</th>\n",
       "      <th>RegionW</th>\n",
       "      <th>RegionX</th>\n",
       "      <th>RegionY</th>\n",
       "      <th>RegionZ</th>\n",
       "    </tr>\n",
       "  </thead>\n",
       "  <tbody>\n",
       "    <tr>\n",
       "      <th>0</th>\n",
       "      <td>1985</td>\n",
       "      <td>1984-10-29</td>\n",
       "      <td>East</td>\n",
       "      <td>West</td>\n",
       "      <td>Midwest</td>\n",
       "      <td>Southeast</td>\n",
       "    </tr>\n",
       "    <tr>\n",
       "      <th>1</th>\n",
       "      <td>1986</td>\n",
       "      <td>1985-10-28</td>\n",
       "      <td>East</td>\n",
       "      <td>Midwest</td>\n",
       "      <td>Southeast</td>\n",
       "      <td>West</td>\n",
       "    </tr>\n",
       "    <tr>\n",
       "      <th>2</th>\n",
       "      <td>1987</td>\n",
       "      <td>1986-10-27</td>\n",
       "      <td>East</td>\n",
       "      <td>Southeast</td>\n",
       "      <td>Midwest</td>\n",
       "      <td>West</td>\n",
       "    </tr>\n",
       "    <tr>\n",
       "      <th>3</th>\n",
       "      <td>1988</td>\n",
       "      <td>1987-11-02</td>\n",
       "      <td>East</td>\n",
       "      <td>Midwest</td>\n",
       "      <td>Southeast</td>\n",
       "      <td>West</td>\n",
       "    </tr>\n",
       "    <tr>\n",
       "      <th>4</th>\n",
       "      <td>1989</td>\n",
       "      <td>1988-10-31</td>\n",
       "      <td>East</td>\n",
       "      <td>West</td>\n",
       "      <td>Midwest</td>\n",
       "      <td>Southeast</td>\n",
       "    </tr>\n",
       "  </tbody>\n",
       "</table>\n",
       "</div>"
      ],
      "text/plain": [
       "   Season     DayZero RegionW    RegionX    RegionY    RegionZ\n",
       "0    1985  1984-10-29    East       West    Midwest  Southeast\n",
       "1    1986  1985-10-28    East    Midwest  Southeast       West\n",
       "2    1987  1986-10-27    East  Southeast    Midwest       West\n",
       "3    1988  1987-11-02    East    Midwest  Southeast       West\n",
       "4    1989  1988-10-31    East       West    Midwest  Southeast"
      ]
     },
     "execution_count": 6,
     "metadata": {},
     "output_type": "execute_result"
    }
   ],
   "source": [
    "df_seasons.head()"
   ]
  },
  {
   "cell_type": "code",
   "execution_count": 7,
   "id": "c18c1bdc",
   "metadata": {
    "execution": {
     "iopub.execute_input": "2023-03-02T17:40:52.987121Z",
     "iopub.status.busy": "2023-03-02T17:40:52.986624Z",
     "iopub.status.idle": "2023-03-02T17:40:53.005367Z",
     "shell.execute_reply": "2023-03-02T17:40:53.003703Z"
    },
    "papermill": {
     "duration": 0.043511,
     "end_time": "2023-03-02T17:40:53.008836",
     "exception": false,
     "start_time": "2023-03-02T17:40:52.965325",
     "status": "completed"
    },
    "tags": []
   },
   "outputs": [],
   "source": [
    "#read in the tournament seed data data\n",
    "df_seeds = pd.read_csv(base_path + 'MNCAATourneySeeds.csv')"
   ]
  },
  {
   "cell_type": "markdown",
   "id": "0091f221",
   "metadata": {
    "papermill": {
     "duration": 0.018961,
     "end_time": "2023-03-02T17:40:53.047141",
     "exception": false,
     "start_time": "2023-03-02T17:40:53.028180",
     "status": "completed"
    },
    "tags": []
   },
   "source": [
    "The MNCAATourneySeeds.csv data has the season (year) the tournament was played, the team ID from MTeams.csv (df_teams), and the seed. The seed is given with the first letter (W,X,Y,Z) to specify the region and a number 01 - 16 for the seed. Play-in teams will also have an 'a' or a 'b' to distinguish which team was ranked lower ('b')."
   ]
  },
  {
   "cell_type": "code",
   "execution_count": 8,
   "id": "b20a7730",
   "metadata": {
    "execution": {
     "iopub.execute_input": "2023-03-02T17:40:53.087723Z",
     "iopub.status.busy": "2023-03-02T17:40:53.087229Z",
     "iopub.status.idle": "2023-03-02T17:40:53.098546Z",
     "shell.execute_reply": "2023-03-02T17:40:53.097549Z"
    },
    "papermill": {
     "duration": 0.03472,
     "end_time": "2023-03-02T17:40:53.101189",
     "exception": false,
     "start_time": "2023-03-02T17:40:53.066469",
     "status": "completed"
    },
    "tags": []
   },
   "outputs": [
    {
     "data": {
      "text/html": [
       "<div>\n",
       "<style scoped>\n",
       "    .dataframe tbody tr th:only-of-type {\n",
       "        vertical-align: middle;\n",
       "    }\n",
       "\n",
       "    .dataframe tbody tr th {\n",
       "        vertical-align: top;\n",
       "    }\n",
       "\n",
       "    .dataframe thead th {\n",
       "        text-align: right;\n",
       "    }\n",
       "</style>\n",
       "<table border=\"1\" class=\"dataframe\">\n",
       "  <thead>\n",
       "    <tr style=\"text-align: right;\">\n",
       "      <th></th>\n",
       "      <th>Season</th>\n",
       "      <th>Seed</th>\n",
       "      <th>TeamID</th>\n",
       "    </tr>\n",
       "  </thead>\n",
       "  <tbody>\n",
       "    <tr>\n",
       "      <th>0</th>\n",
       "      <td>1985</td>\n",
       "      <td>W01</td>\n",
       "      <td>1207</td>\n",
       "    </tr>\n",
       "    <tr>\n",
       "      <th>1</th>\n",
       "      <td>1985</td>\n",
       "      <td>W02</td>\n",
       "      <td>1210</td>\n",
       "    </tr>\n",
       "    <tr>\n",
       "      <th>2</th>\n",
       "      <td>1985</td>\n",
       "      <td>W03</td>\n",
       "      <td>1228</td>\n",
       "    </tr>\n",
       "    <tr>\n",
       "      <th>3</th>\n",
       "      <td>1985</td>\n",
       "      <td>W04</td>\n",
       "      <td>1260</td>\n",
       "    </tr>\n",
       "    <tr>\n",
       "      <th>4</th>\n",
       "      <td>1985</td>\n",
       "      <td>W05</td>\n",
       "      <td>1374</td>\n",
       "    </tr>\n",
       "  </tbody>\n",
       "</table>\n",
       "</div>"
      ],
      "text/plain": [
       "   Season Seed  TeamID\n",
       "0    1985  W01    1207\n",
       "1    1985  W02    1210\n",
       "2    1985  W03    1228\n",
       "3    1985  W04    1260\n",
       "4    1985  W05    1374"
      ]
     },
     "execution_count": 8,
     "metadata": {},
     "output_type": "execute_result"
    }
   ],
   "source": [
    "df_seeds.head()"
   ]
  },
  {
   "cell_type": "code",
   "execution_count": 9,
   "id": "adcf65ab",
   "metadata": {
    "execution": {
     "iopub.execute_input": "2023-03-02T17:40:53.143011Z",
     "iopub.status.busy": "2023-03-02T17:40:53.142524Z",
     "iopub.status.idle": "2023-03-02T17:40:53.398994Z",
     "shell.execute_reply": "2023-03-02T17:40:53.397847Z"
    },
    "papermill": {
     "duration": 0.281547,
     "end_time": "2023-03-02T17:40:53.402260",
     "exception": false,
     "start_time": "2023-03-02T17:40:53.120713",
     "status": "completed"
    },
    "tags": []
   },
   "outputs": [],
   "source": [
    "#read in the regular season results data\n",
    "df_regseason = pd.read_csv(base_path + 'MRegularSeasonCompactResults.csv')"
   ]
  },
  {
   "cell_type": "markdown",
   "id": "c0356f4f",
   "metadata": {
    "papermill": {
     "duration": 0.020007,
     "end_time": "2023-03-02T17:40:53.442306",
     "exception": false,
     "start_time": "2023-03-02T17:40:53.422299",
     "status": "completed"
    },
    "tags": []
   },
   "source": [
    "The MRegularSeasonCompactResults.csv data has the season (year) of the game, DayNum is which day of the season that the game occured (this can be combined with DayZero of the MSeasons.csv (df_seasons) data to get an exact date), WTeamID is the team ID (MTeams.csv / df_teams) of the winning team, WScore is the score of the winning team, LTeamID is the team ID of the losing team, LScore is the score of the losing Team, NumOT is the number of overtimes played in that game, and WLoc is the location of the winning team (H stands for home, A stands for away, and N is a neutral site)."
   ]
  },
  {
   "cell_type": "code",
   "execution_count": 10,
   "id": "a3d3d8d0",
   "metadata": {
    "execution": {
     "iopub.execute_input": "2023-03-02T17:40:53.484641Z",
     "iopub.status.busy": "2023-03-02T17:40:53.484085Z",
     "iopub.status.idle": "2023-03-02T17:40:53.497732Z",
     "shell.execute_reply": "2023-03-02T17:40:53.496596Z"
    },
    "papermill": {
     "duration": 0.038325,
     "end_time": "2023-03-02T17:40:53.500340",
     "exception": false,
     "start_time": "2023-03-02T17:40:53.462015",
     "status": "completed"
    },
    "tags": []
   },
   "outputs": [
    {
     "data": {
      "text/html": [
       "<div>\n",
       "<style scoped>\n",
       "    .dataframe tbody tr th:only-of-type {\n",
       "        vertical-align: middle;\n",
       "    }\n",
       "\n",
       "    .dataframe tbody tr th {\n",
       "        vertical-align: top;\n",
       "    }\n",
       "\n",
       "    .dataframe thead th {\n",
       "        text-align: right;\n",
       "    }\n",
       "</style>\n",
       "<table border=\"1\" class=\"dataframe\">\n",
       "  <thead>\n",
       "    <tr style=\"text-align: right;\">\n",
       "      <th></th>\n",
       "      <th>Season</th>\n",
       "      <th>DayNum</th>\n",
       "      <th>WTeamID</th>\n",
       "      <th>WScore</th>\n",
       "      <th>LTeamID</th>\n",
       "      <th>LScore</th>\n",
       "      <th>WLoc</th>\n",
       "      <th>NumOT</th>\n",
       "    </tr>\n",
       "  </thead>\n",
       "  <tbody>\n",
       "    <tr>\n",
       "      <th>0</th>\n",
       "      <td>1985</td>\n",
       "      <td>20</td>\n",
       "      <td>1228</td>\n",
       "      <td>81</td>\n",
       "      <td>1328</td>\n",
       "      <td>64</td>\n",
       "      <td>N</td>\n",
       "      <td>0</td>\n",
       "    </tr>\n",
       "    <tr>\n",
       "      <th>1</th>\n",
       "      <td>1985</td>\n",
       "      <td>25</td>\n",
       "      <td>1106</td>\n",
       "      <td>77</td>\n",
       "      <td>1354</td>\n",
       "      <td>70</td>\n",
       "      <td>H</td>\n",
       "      <td>0</td>\n",
       "    </tr>\n",
       "    <tr>\n",
       "      <th>2</th>\n",
       "      <td>1985</td>\n",
       "      <td>25</td>\n",
       "      <td>1112</td>\n",
       "      <td>63</td>\n",
       "      <td>1223</td>\n",
       "      <td>56</td>\n",
       "      <td>H</td>\n",
       "      <td>0</td>\n",
       "    </tr>\n",
       "    <tr>\n",
       "      <th>3</th>\n",
       "      <td>1985</td>\n",
       "      <td>25</td>\n",
       "      <td>1165</td>\n",
       "      <td>70</td>\n",
       "      <td>1432</td>\n",
       "      <td>54</td>\n",
       "      <td>H</td>\n",
       "      <td>0</td>\n",
       "    </tr>\n",
       "    <tr>\n",
       "      <th>4</th>\n",
       "      <td>1985</td>\n",
       "      <td>25</td>\n",
       "      <td>1192</td>\n",
       "      <td>86</td>\n",
       "      <td>1447</td>\n",
       "      <td>74</td>\n",
       "      <td>H</td>\n",
       "      <td>0</td>\n",
       "    </tr>\n",
       "  </tbody>\n",
       "</table>\n",
       "</div>"
      ],
      "text/plain": [
       "   Season  DayNum  WTeamID  WScore  LTeamID  LScore WLoc  NumOT\n",
       "0    1985      20     1228      81     1328      64    N      0\n",
       "1    1985      25     1106      77     1354      70    H      0\n",
       "2    1985      25     1112      63     1223      56    H      0\n",
       "3    1985      25     1165      70     1432      54    H      0\n",
       "4    1985      25     1192      86     1447      74    H      0"
      ]
     },
     "execution_count": 10,
     "metadata": {},
     "output_type": "execute_result"
    }
   ],
   "source": [
    "df_regseason.head()"
   ]
  },
  {
   "cell_type": "code",
   "execution_count": 11,
   "id": "944a3476",
   "metadata": {
    "execution": {
     "iopub.execute_input": "2023-03-02T17:40:53.542960Z",
     "iopub.status.busy": "2023-03-02T17:40:53.542437Z",
     "iopub.status.idle": "2023-03-02T17:40:53.557795Z",
     "shell.execute_reply": "2023-03-02T17:40:53.556537Z"
    },
    "papermill": {
     "duration": 0.040719,
     "end_time": "2023-03-02T17:40:53.560980",
     "exception": false,
     "start_time": "2023-03-02T17:40:53.520261",
     "status": "completed"
    },
    "tags": []
   },
   "outputs": [],
   "source": [
    "#read in the tournament results data\n",
    "df_tourneyresults = pd.read_csv(base_path + 'MNCAATourneyCompactResults.csv')"
   ]
  },
  {
   "cell_type": "markdown",
   "id": "6f64e036",
   "metadata": {
    "papermill": {
     "duration": 0.019799,
     "end_time": "2023-03-02T17:40:53.602088",
     "exception": false,
     "start_time": "2023-03-02T17:40:53.582289",
     "status": "completed"
    },
    "tags": []
   },
   "source": [
    "The MNCAATourneyCompactResults.csv data is formatted exactly the same way as the regular season results data (MRegularSeasonCompactResults.csv / df_regseason). The site is always neutral and therefore N. DayNum 134/135 are the play-in games, DayNum 136/137 are Round 1, DayNum 138/139 are Round 2, DayNum 143/144 are Round 3 (sweet sixteen), DayNum 145/146 are Round 4 (elite eight), DayNum 152 is final four, and DayNum 154 is the championship game. "
   ]
  },
  {
   "cell_type": "code",
   "execution_count": 12,
   "id": "8f071148",
   "metadata": {
    "execution": {
     "iopub.execute_input": "2023-03-02T17:40:53.644988Z",
     "iopub.status.busy": "2023-03-02T17:40:53.644149Z",
     "iopub.status.idle": "2023-03-02T17:40:53.657953Z",
     "shell.execute_reply": "2023-03-02T17:40:53.656446Z"
    },
    "papermill": {
     "duration": 0.039394,
     "end_time": "2023-03-02T17:40:53.661390",
     "exception": false,
     "start_time": "2023-03-02T17:40:53.621996",
     "status": "completed"
    },
    "tags": []
   },
   "outputs": [
    {
     "data": {
      "text/html": [
       "<div>\n",
       "<style scoped>\n",
       "    .dataframe tbody tr th:only-of-type {\n",
       "        vertical-align: middle;\n",
       "    }\n",
       "\n",
       "    .dataframe tbody tr th {\n",
       "        vertical-align: top;\n",
       "    }\n",
       "\n",
       "    .dataframe thead th {\n",
       "        text-align: right;\n",
       "    }\n",
       "</style>\n",
       "<table border=\"1\" class=\"dataframe\">\n",
       "  <thead>\n",
       "    <tr style=\"text-align: right;\">\n",
       "      <th></th>\n",
       "      <th>Season</th>\n",
       "      <th>DayNum</th>\n",
       "      <th>WTeamID</th>\n",
       "      <th>WScore</th>\n",
       "      <th>LTeamID</th>\n",
       "      <th>LScore</th>\n",
       "      <th>WLoc</th>\n",
       "      <th>NumOT</th>\n",
       "    </tr>\n",
       "  </thead>\n",
       "  <tbody>\n",
       "    <tr>\n",
       "      <th>0</th>\n",
       "      <td>1985</td>\n",
       "      <td>136</td>\n",
       "      <td>1116</td>\n",
       "      <td>63</td>\n",
       "      <td>1234</td>\n",
       "      <td>54</td>\n",
       "      <td>N</td>\n",
       "      <td>0</td>\n",
       "    </tr>\n",
       "    <tr>\n",
       "      <th>1</th>\n",
       "      <td>1985</td>\n",
       "      <td>136</td>\n",
       "      <td>1120</td>\n",
       "      <td>59</td>\n",
       "      <td>1345</td>\n",
       "      <td>58</td>\n",
       "      <td>N</td>\n",
       "      <td>0</td>\n",
       "    </tr>\n",
       "    <tr>\n",
       "      <th>2</th>\n",
       "      <td>1985</td>\n",
       "      <td>136</td>\n",
       "      <td>1207</td>\n",
       "      <td>68</td>\n",
       "      <td>1250</td>\n",
       "      <td>43</td>\n",
       "      <td>N</td>\n",
       "      <td>0</td>\n",
       "    </tr>\n",
       "    <tr>\n",
       "      <th>3</th>\n",
       "      <td>1985</td>\n",
       "      <td>136</td>\n",
       "      <td>1229</td>\n",
       "      <td>58</td>\n",
       "      <td>1425</td>\n",
       "      <td>55</td>\n",
       "      <td>N</td>\n",
       "      <td>0</td>\n",
       "    </tr>\n",
       "    <tr>\n",
       "      <th>4</th>\n",
       "      <td>1985</td>\n",
       "      <td>136</td>\n",
       "      <td>1242</td>\n",
       "      <td>49</td>\n",
       "      <td>1325</td>\n",
       "      <td>38</td>\n",
       "      <td>N</td>\n",
       "      <td>0</td>\n",
       "    </tr>\n",
       "  </tbody>\n",
       "</table>\n",
       "</div>"
      ],
      "text/plain": [
       "   Season  DayNum  WTeamID  WScore  LTeamID  LScore WLoc  NumOT\n",
       "0    1985     136     1116      63     1234      54    N      0\n",
       "1    1985     136     1120      59     1345      58    N      0\n",
       "2    1985     136     1207      68     1250      43    N      0\n",
       "3    1985     136     1229      58     1425      55    N      0\n",
       "4    1985     136     1242      49     1325      38    N      0"
      ]
     },
     "execution_count": 12,
     "metadata": {},
     "output_type": "execute_result"
    }
   ],
   "source": [
    "df_tourneyresults.head()"
   ]
  },
  {
   "cell_type": "code",
   "execution_count": 13,
   "id": "eae633a5",
   "metadata": {
    "execution": {
     "iopub.execute_input": "2023-03-02T17:40:53.703625Z",
     "iopub.status.busy": "2023-03-02T17:40:53.703108Z",
     "iopub.status.idle": "2023-03-02T17:40:54.256405Z",
     "shell.execute_reply": "2023-03-02T17:40:54.255071Z"
    },
    "papermill": {
     "duration": 0.578064,
     "end_time": "2023-03-02T17:40:54.259557",
     "exception": false,
     "start_time": "2023-03-02T17:40:53.681493",
     "status": "completed"
    },
    "tags": []
   },
   "outputs": [],
   "source": [
    "#read in the regular season detailed results data\n",
    "df_regseasonDets = pd.read_csv(base_path + 'MRegularSeasonDetailedResults.csv')"
   ]
  },
  {
   "cell_type": "markdown",
   "id": "c18495c4",
   "metadata": {
    "papermill": {
     "duration": 0.02,
     "end_time": "2023-03-02T17:40:54.300261",
     "exception": false,
     "start_time": "2023-03-02T17:40:54.280261",
     "status": "completed"
    },
    "tags": []
   },
   "source": [
    "The MRegularSeasonDetailedResults.csv data has the game by game details of regular season games since the 2002-2003 season. The first 8 columns are the same as in the compact results file (MRegularSeasonCompactResults.csv / df_regseason). WFGM is the # of field goals made by the winning team, WFGA is the # of field goals attempted by the winning team. WFGM3 is the 3 pointers made by the winning team, WFGA3 is the # of 3 pointers attempted. WFTM is the # of free throws made by the winning team, WFTA is the # of free throws attempted by the winning team. WOR is the # of offensive rebounds pulled by the winning team, WDR is the # of defensive rebounds pulled by the winning team. WAst is the # of assists by the winning team. WTO is the # of turnovers committed by the winning team. WStl is the # of steals by the winning team, WBlk is the # of blocks by the winning team. WPF is the # of personal fouls committed by the winning team. Then there are the same stats but with L instead of W for the losing team."
   ]
  },
  {
   "cell_type": "code",
   "execution_count": 14,
   "id": "deadbc24",
   "metadata": {
    "execution": {
     "iopub.execute_input": "2023-03-02T17:40:54.343658Z",
     "iopub.status.busy": "2023-03-02T17:40:54.343183Z",
     "iopub.status.idle": "2023-03-02T17:40:54.368106Z",
     "shell.execute_reply": "2023-03-02T17:40:54.366445Z"
    },
    "papermill": {
     "duration": 0.050552,
     "end_time": "2023-03-02T17:40:54.370868",
     "exception": false,
     "start_time": "2023-03-02T17:40:54.320316",
     "status": "completed"
    },
    "tags": []
   },
   "outputs": [
    {
     "data": {
      "text/html": [
       "<div>\n",
       "<style scoped>\n",
       "    .dataframe tbody tr th:only-of-type {\n",
       "        vertical-align: middle;\n",
       "    }\n",
       "\n",
       "    .dataframe tbody tr th {\n",
       "        vertical-align: top;\n",
       "    }\n",
       "\n",
       "    .dataframe thead th {\n",
       "        text-align: right;\n",
       "    }\n",
       "</style>\n",
       "<table border=\"1\" class=\"dataframe\">\n",
       "  <thead>\n",
       "    <tr style=\"text-align: right;\">\n",
       "      <th></th>\n",
       "      <th>Season</th>\n",
       "      <th>DayNum</th>\n",
       "      <th>WTeamID</th>\n",
       "      <th>WScore</th>\n",
       "      <th>LTeamID</th>\n",
       "      <th>LScore</th>\n",
       "      <th>WLoc</th>\n",
       "      <th>NumOT</th>\n",
       "      <th>WFGM</th>\n",
       "      <th>WFGA</th>\n",
       "      <th>...</th>\n",
       "      <th>LFGA3</th>\n",
       "      <th>LFTM</th>\n",
       "      <th>LFTA</th>\n",
       "      <th>LOR</th>\n",
       "      <th>LDR</th>\n",
       "      <th>LAst</th>\n",
       "      <th>LTO</th>\n",
       "      <th>LStl</th>\n",
       "      <th>LBlk</th>\n",
       "      <th>LPF</th>\n",
       "    </tr>\n",
       "  </thead>\n",
       "  <tbody>\n",
       "    <tr>\n",
       "      <th>0</th>\n",
       "      <td>2003</td>\n",
       "      <td>10</td>\n",
       "      <td>1104</td>\n",
       "      <td>68</td>\n",
       "      <td>1328</td>\n",
       "      <td>62</td>\n",
       "      <td>N</td>\n",
       "      <td>0</td>\n",
       "      <td>27</td>\n",
       "      <td>58</td>\n",
       "      <td>...</td>\n",
       "      <td>10</td>\n",
       "      <td>16</td>\n",
       "      <td>22</td>\n",
       "      <td>10</td>\n",
       "      <td>22</td>\n",
       "      <td>8</td>\n",
       "      <td>18</td>\n",
       "      <td>9</td>\n",
       "      <td>2</td>\n",
       "      <td>20</td>\n",
       "    </tr>\n",
       "    <tr>\n",
       "      <th>1</th>\n",
       "      <td>2003</td>\n",
       "      <td>10</td>\n",
       "      <td>1272</td>\n",
       "      <td>70</td>\n",
       "      <td>1393</td>\n",
       "      <td>63</td>\n",
       "      <td>N</td>\n",
       "      <td>0</td>\n",
       "      <td>26</td>\n",
       "      <td>62</td>\n",
       "      <td>...</td>\n",
       "      <td>24</td>\n",
       "      <td>9</td>\n",
       "      <td>20</td>\n",
       "      <td>20</td>\n",
       "      <td>25</td>\n",
       "      <td>7</td>\n",
       "      <td>12</td>\n",
       "      <td>8</td>\n",
       "      <td>6</td>\n",
       "      <td>16</td>\n",
       "    </tr>\n",
       "    <tr>\n",
       "      <th>2</th>\n",
       "      <td>2003</td>\n",
       "      <td>11</td>\n",
       "      <td>1266</td>\n",
       "      <td>73</td>\n",
       "      <td>1437</td>\n",
       "      <td>61</td>\n",
       "      <td>N</td>\n",
       "      <td>0</td>\n",
       "      <td>24</td>\n",
       "      <td>58</td>\n",
       "      <td>...</td>\n",
       "      <td>26</td>\n",
       "      <td>14</td>\n",
       "      <td>23</td>\n",
       "      <td>31</td>\n",
       "      <td>22</td>\n",
       "      <td>9</td>\n",
       "      <td>12</td>\n",
       "      <td>2</td>\n",
       "      <td>5</td>\n",
       "      <td>23</td>\n",
       "    </tr>\n",
       "    <tr>\n",
       "      <th>3</th>\n",
       "      <td>2003</td>\n",
       "      <td>11</td>\n",
       "      <td>1296</td>\n",
       "      <td>56</td>\n",
       "      <td>1457</td>\n",
       "      <td>50</td>\n",
       "      <td>N</td>\n",
       "      <td>0</td>\n",
       "      <td>18</td>\n",
       "      <td>38</td>\n",
       "      <td>...</td>\n",
       "      <td>22</td>\n",
       "      <td>8</td>\n",
       "      <td>15</td>\n",
       "      <td>17</td>\n",
       "      <td>20</td>\n",
       "      <td>9</td>\n",
       "      <td>19</td>\n",
       "      <td>4</td>\n",
       "      <td>3</td>\n",
       "      <td>23</td>\n",
       "    </tr>\n",
       "    <tr>\n",
       "      <th>4</th>\n",
       "      <td>2003</td>\n",
       "      <td>11</td>\n",
       "      <td>1400</td>\n",
       "      <td>77</td>\n",
       "      <td>1208</td>\n",
       "      <td>71</td>\n",
       "      <td>N</td>\n",
       "      <td>0</td>\n",
       "      <td>30</td>\n",
       "      <td>61</td>\n",
       "      <td>...</td>\n",
       "      <td>16</td>\n",
       "      <td>17</td>\n",
       "      <td>27</td>\n",
       "      <td>21</td>\n",
       "      <td>15</td>\n",
       "      <td>12</td>\n",
       "      <td>10</td>\n",
       "      <td>7</td>\n",
       "      <td>1</td>\n",
       "      <td>14</td>\n",
       "    </tr>\n",
       "  </tbody>\n",
       "</table>\n",
       "<p>5 rows × 34 columns</p>\n",
       "</div>"
      ],
      "text/plain": [
       "   Season  DayNum  WTeamID  WScore  LTeamID  LScore WLoc  NumOT  WFGM  WFGA  \\\n",
       "0    2003      10     1104      68     1328      62    N      0    27    58   \n",
       "1    2003      10     1272      70     1393      63    N      0    26    62   \n",
       "2    2003      11     1266      73     1437      61    N      0    24    58   \n",
       "3    2003      11     1296      56     1457      50    N      0    18    38   \n",
       "4    2003      11     1400      77     1208      71    N      0    30    61   \n",
       "\n",
       "   ...  LFGA3  LFTM  LFTA  LOR  LDR  LAst  LTO  LStl  LBlk  LPF  \n",
       "0  ...     10    16    22   10   22     8   18     9     2   20  \n",
       "1  ...     24     9    20   20   25     7   12     8     6   16  \n",
       "2  ...     26    14    23   31   22     9   12     2     5   23  \n",
       "3  ...     22     8    15   17   20     9   19     4     3   23  \n",
       "4  ...     16    17    27   21   15    12   10     7     1   14  \n",
       "\n",
       "[5 rows x 34 columns]"
      ]
     },
     "execution_count": 14,
     "metadata": {},
     "output_type": "execute_result"
    }
   ],
   "source": [
    "df_regseasonDets.head()"
   ]
  },
  {
   "cell_type": "code",
   "execution_count": 15,
   "id": "7795741b",
   "metadata": {
    "execution": {
     "iopub.execute_input": "2023-03-02T17:40:54.415280Z",
     "iopub.status.busy": "2023-03-02T17:40:54.414771Z",
     "iopub.status.idle": "2023-03-02T17:40:54.432873Z",
     "shell.execute_reply": "2023-03-02T17:40:54.431676Z"
    },
    "papermill": {
     "duration": 0.044492,
     "end_time": "2023-03-02T17:40:54.436006",
     "exception": false,
     "start_time": "2023-03-02T17:40:54.391514",
     "status": "completed"
    },
    "tags": []
   },
   "outputs": [],
   "source": [
    "#read in the tournament detailed results data\n",
    "df_tourneyDets = pd.read_csv(base_path + 'MNCAATourneyDetailedResults.csv')"
   ]
  },
  {
   "cell_type": "markdown",
   "id": "ead7685f",
   "metadata": {
    "papermill": {
     "duration": 0.019827,
     "end_time": "2023-03-02T17:40:54.476117",
     "exception": false,
     "start_time": "2023-03-02T17:40:54.456290",
     "status": "completed"
    },
    "tags": []
   },
   "source": [
    "MNCAATourneyDetailedResults.csv has the same information as the detailed regular seadon data but for the tournament."
   ]
  },
  {
   "cell_type": "code",
   "execution_count": 16,
   "id": "817e0521",
   "metadata": {
    "execution": {
     "iopub.execute_input": "2023-03-02T17:40:54.519796Z",
     "iopub.status.busy": "2023-03-02T17:40:54.518998Z",
     "iopub.status.idle": "2023-03-02T17:40:54.539814Z",
     "shell.execute_reply": "2023-03-02T17:40:54.538398Z"
    },
    "papermill": {
     "duration": 0.046362,
     "end_time": "2023-03-02T17:40:54.542683",
     "exception": false,
     "start_time": "2023-03-02T17:40:54.496321",
     "status": "completed"
    },
    "tags": []
   },
   "outputs": [
    {
     "data": {
      "text/html": [
       "<div>\n",
       "<style scoped>\n",
       "    .dataframe tbody tr th:only-of-type {\n",
       "        vertical-align: middle;\n",
       "    }\n",
       "\n",
       "    .dataframe tbody tr th {\n",
       "        vertical-align: top;\n",
       "    }\n",
       "\n",
       "    .dataframe thead th {\n",
       "        text-align: right;\n",
       "    }\n",
       "</style>\n",
       "<table border=\"1\" class=\"dataframe\">\n",
       "  <thead>\n",
       "    <tr style=\"text-align: right;\">\n",
       "      <th></th>\n",
       "      <th>Season</th>\n",
       "      <th>DayNum</th>\n",
       "      <th>WTeamID</th>\n",
       "      <th>WScore</th>\n",
       "      <th>LTeamID</th>\n",
       "      <th>LScore</th>\n",
       "      <th>WLoc</th>\n",
       "      <th>NumOT</th>\n",
       "      <th>WFGM</th>\n",
       "      <th>WFGA</th>\n",
       "      <th>...</th>\n",
       "      <th>LFGA3</th>\n",
       "      <th>LFTM</th>\n",
       "      <th>LFTA</th>\n",
       "      <th>LOR</th>\n",
       "      <th>LDR</th>\n",
       "      <th>LAst</th>\n",
       "      <th>LTO</th>\n",
       "      <th>LStl</th>\n",
       "      <th>LBlk</th>\n",
       "      <th>LPF</th>\n",
       "    </tr>\n",
       "  </thead>\n",
       "  <tbody>\n",
       "    <tr>\n",
       "      <th>0</th>\n",
       "      <td>2003</td>\n",
       "      <td>134</td>\n",
       "      <td>1421</td>\n",
       "      <td>92</td>\n",
       "      <td>1411</td>\n",
       "      <td>84</td>\n",
       "      <td>N</td>\n",
       "      <td>1</td>\n",
       "      <td>32</td>\n",
       "      <td>69</td>\n",
       "      <td>...</td>\n",
       "      <td>31</td>\n",
       "      <td>14</td>\n",
       "      <td>31</td>\n",
       "      <td>17</td>\n",
       "      <td>28</td>\n",
       "      <td>16</td>\n",
       "      <td>15</td>\n",
       "      <td>5</td>\n",
       "      <td>0</td>\n",
       "      <td>22</td>\n",
       "    </tr>\n",
       "    <tr>\n",
       "      <th>1</th>\n",
       "      <td>2003</td>\n",
       "      <td>136</td>\n",
       "      <td>1112</td>\n",
       "      <td>80</td>\n",
       "      <td>1436</td>\n",
       "      <td>51</td>\n",
       "      <td>N</td>\n",
       "      <td>0</td>\n",
       "      <td>31</td>\n",
       "      <td>66</td>\n",
       "      <td>...</td>\n",
       "      <td>16</td>\n",
       "      <td>7</td>\n",
       "      <td>7</td>\n",
       "      <td>8</td>\n",
       "      <td>26</td>\n",
       "      <td>12</td>\n",
       "      <td>17</td>\n",
       "      <td>10</td>\n",
       "      <td>3</td>\n",
       "      <td>15</td>\n",
       "    </tr>\n",
       "    <tr>\n",
       "      <th>2</th>\n",
       "      <td>2003</td>\n",
       "      <td>136</td>\n",
       "      <td>1113</td>\n",
       "      <td>84</td>\n",
       "      <td>1272</td>\n",
       "      <td>71</td>\n",
       "      <td>N</td>\n",
       "      <td>0</td>\n",
       "      <td>31</td>\n",
       "      <td>59</td>\n",
       "      <td>...</td>\n",
       "      <td>28</td>\n",
       "      <td>14</td>\n",
       "      <td>21</td>\n",
       "      <td>20</td>\n",
       "      <td>22</td>\n",
       "      <td>11</td>\n",
       "      <td>12</td>\n",
       "      <td>2</td>\n",
       "      <td>5</td>\n",
       "      <td>18</td>\n",
       "    </tr>\n",
       "    <tr>\n",
       "      <th>3</th>\n",
       "      <td>2003</td>\n",
       "      <td>136</td>\n",
       "      <td>1141</td>\n",
       "      <td>79</td>\n",
       "      <td>1166</td>\n",
       "      <td>73</td>\n",
       "      <td>N</td>\n",
       "      <td>0</td>\n",
       "      <td>29</td>\n",
       "      <td>53</td>\n",
       "      <td>...</td>\n",
       "      <td>17</td>\n",
       "      <td>12</td>\n",
       "      <td>17</td>\n",
       "      <td>14</td>\n",
       "      <td>17</td>\n",
       "      <td>20</td>\n",
       "      <td>21</td>\n",
       "      <td>6</td>\n",
       "      <td>6</td>\n",
       "      <td>21</td>\n",
       "    </tr>\n",
       "    <tr>\n",
       "      <th>4</th>\n",
       "      <td>2003</td>\n",
       "      <td>136</td>\n",
       "      <td>1143</td>\n",
       "      <td>76</td>\n",
       "      <td>1301</td>\n",
       "      <td>74</td>\n",
       "      <td>N</td>\n",
       "      <td>1</td>\n",
       "      <td>27</td>\n",
       "      <td>64</td>\n",
       "      <td>...</td>\n",
       "      <td>21</td>\n",
       "      <td>15</td>\n",
       "      <td>20</td>\n",
       "      <td>10</td>\n",
       "      <td>26</td>\n",
       "      <td>16</td>\n",
       "      <td>14</td>\n",
       "      <td>5</td>\n",
       "      <td>8</td>\n",
       "      <td>19</td>\n",
       "    </tr>\n",
       "  </tbody>\n",
       "</table>\n",
       "<p>5 rows × 34 columns</p>\n",
       "</div>"
      ],
      "text/plain": [
       "   Season  DayNum  WTeamID  WScore  LTeamID  LScore WLoc  NumOT  WFGM  WFGA  \\\n",
       "0    2003     134     1421      92     1411      84    N      1    32    69   \n",
       "1    2003     136     1112      80     1436      51    N      0    31    66   \n",
       "2    2003     136     1113      84     1272      71    N      0    31    59   \n",
       "3    2003     136     1141      79     1166      73    N      0    29    53   \n",
       "4    2003     136     1143      76     1301      74    N      1    27    64   \n",
       "\n",
       "   ...  LFGA3  LFTM  LFTA  LOR  LDR  LAst  LTO  LStl  LBlk  LPF  \n",
       "0  ...     31    14    31   17   28    16   15     5     0   22  \n",
       "1  ...     16     7     7    8   26    12   17    10     3   15  \n",
       "2  ...     28    14    21   20   22    11   12     2     5   18  \n",
       "3  ...     17    12    17   14   17    20   21     6     6   21  \n",
       "4  ...     21    15    20   10   26    16   14     5     8   19  \n",
       "\n",
       "[5 rows x 34 columns]"
      ]
     },
     "execution_count": 16,
     "metadata": {},
     "output_type": "execute_result"
    }
   ],
   "source": [
    "df_tourneyDets.head()"
   ]
  },
  {
   "cell_type": "code",
   "execution_count": 17,
   "id": "bfa39cea",
   "metadata": {
    "execution": {
     "iopub.execute_input": "2023-03-02T17:40:54.590932Z",
     "iopub.status.busy": "2023-03-02T17:40:54.589963Z",
     "iopub.status.idle": "2023-03-02T17:40:54.603314Z",
     "shell.execute_reply": "2023-03-02T17:40:54.602149Z"
    },
    "papermill": {
     "duration": 0.04281,
     "end_time": "2023-03-02T17:40:54.606475",
     "exception": false,
     "start_time": "2023-03-02T17:40:54.563665",
     "status": "completed"
    },
    "tags": []
   },
   "outputs": [],
   "source": [
    "#read in the cities data\n",
    "df_cities = pd.read_csv(base_path + 'Cities.csv')"
   ]
  },
  {
   "cell_type": "markdown",
   "id": "d6bc14ff",
   "metadata": {
    "papermill": {
     "duration": 0.022041,
     "end_time": "2023-03-02T17:40:54.649747",
     "exception": false,
     "start_time": "2023-03-02T17:40:54.627706",
     "status": "completed"
    },
    "tags": []
   },
   "source": [
    "cities.csv has the data for the cities where the games were held. CityID is a unique 4 digit number for the city, City is the text name of the city and State is the state the citie is in."
   ]
  },
  {
   "cell_type": "code",
   "execution_count": 18,
   "id": "af88dd52",
   "metadata": {
    "execution": {
     "iopub.execute_input": "2023-03-02T17:40:54.693685Z",
     "iopub.status.busy": "2023-03-02T17:40:54.692376Z",
     "iopub.status.idle": "2023-03-02T17:40:54.705549Z",
     "shell.execute_reply": "2023-03-02T17:40:54.704467Z"
    },
    "papermill": {
     "duration": 0.038009,
     "end_time": "2023-03-02T17:40:54.708296",
     "exception": false,
     "start_time": "2023-03-02T17:40:54.670287",
     "status": "completed"
    },
    "tags": []
   },
   "outputs": [
    {
     "data": {
      "text/html": [
       "<div>\n",
       "<style scoped>\n",
       "    .dataframe tbody tr th:only-of-type {\n",
       "        vertical-align: middle;\n",
       "    }\n",
       "\n",
       "    .dataframe tbody tr th {\n",
       "        vertical-align: top;\n",
       "    }\n",
       "\n",
       "    .dataframe thead th {\n",
       "        text-align: right;\n",
       "    }\n",
       "</style>\n",
       "<table border=\"1\" class=\"dataframe\">\n",
       "  <thead>\n",
       "    <tr style=\"text-align: right;\">\n",
       "      <th></th>\n",
       "      <th>CityID</th>\n",
       "      <th>City</th>\n",
       "      <th>State</th>\n",
       "    </tr>\n",
       "  </thead>\n",
       "  <tbody>\n",
       "    <tr>\n",
       "      <th>0</th>\n",
       "      <td>4001</td>\n",
       "      <td>Abilene</td>\n",
       "      <td>TX</td>\n",
       "    </tr>\n",
       "    <tr>\n",
       "      <th>1</th>\n",
       "      <td>4002</td>\n",
       "      <td>Akron</td>\n",
       "      <td>OH</td>\n",
       "    </tr>\n",
       "    <tr>\n",
       "      <th>2</th>\n",
       "      <td>4003</td>\n",
       "      <td>Albany</td>\n",
       "      <td>NY</td>\n",
       "    </tr>\n",
       "    <tr>\n",
       "      <th>3</th>\n",
       "      <td>4004</td>\n",
       "      <td>Albuquerque</td>\n",
       "      <td>NM</td>\n",
       "    </tr>\n",
       "    <tr>\n",
       "      <th>4</th>\n",
       "      <td>4005</td>\n",
       "      <td>Allentown</td>\n",
       "      <td>PA</td>\n",
       "    </tr>\n",
       "  </tbody>\n",
       "</table>\n",
       "</div>"
      ],
      "text/plain": [
       "   CityID         City State\n",
       "0    4001      Abilene    TX\n",
       "1    4002        Akron    OH\n",
       "2    4003       Albany    NY\n",
       "3    4004  Albuquerque    NM\n",
       "4    4005    Allentown    PA"
      ]
     },
     "execution_count": 18,
     "metadata": {},
     "output_type": "execute_result"
    }
   ],
   "source": [
    "df_cities.head()"
   ]
  },
  {
   "cell_type": "code",
   "execution_count": 19,
   "id": "0c3d85ce",
   "metadata": {
    "execution": {
     "iopub.execute_input": "2023-03-02T17:40:54.752978Z",
     "iopub.status.busy": "2023-03-02T17:40:54.752040Z",
     "iopub.status.idle": "2023-03-02T17:40:54.847978Z",
     "shell.execute_reply": "2023-03-02T17:40:54.846473Z"
    },
    "papermill": {
     "duration": 0.122039,
     "end_time": "2023-03-02T17:40:54.851218",
     "exception": false,
     "start_time": "2023-03-02T17:40:54.729179",
     "status": "completed"
    },
    "tags": []
   },
   "outputs": [],
   "source": [
    "#read in the games city data\n",
    "df_gamecities = pd.read_csv(base_path + 'MGameCities.csv')"
   ]
  },
  {
   "cell_type": "markdown",
   "id": "005d4c9b",
   "metadata": {
    "papermill": {
     "duration": 0.020358,
     "end_time": "2023-03-02T17:40:54.893902",
     "exception": false,
     "start_time": "2023-03-02T17:40:54.873544",
     "status": "completed"
    },
    "tags": []
   },
   "source": [
    "MGameCities.csv has all the game cities data since 2010. Season, DayNum, WTeamID, LTeamID, and CityID have been discussed before. CRType is either Regular for a regular season game, NCAA is a tournament game, and Secondary is a game from the secondary data."
   ]
  },
  {
   "cell_type": "code",
   "execution_count": 20,
   "id": "43b91a8e",
   "metadata": {
    "execution": {
     "iopub.execute_input": "2023-03-02T17:40:54.938858Z",
     "iopub.status.busy": "2023-03-02T17:40:54.937455Z",
     "iopub.status.idle": "2023-03-02T17:40:54.951057Z",
     "shell.execute_reply": "2023-03-02T17:40:54.949948Z"
    },
    "papermill": {
     "duration": 0.039242,
     "end_time": "2023-03-02T17:40:54.953755",
     "exception": false,
     "start_time": "2023-03-02T17:40:54.914513",
     "status": "completed"
    },
    "tags": []
   },
   "outputs": [
    {
     "data": {
      "text/html": [
       "<div>\n",
       "<style scoped>\n",
       "    .dataframe tbody tr th:only-of-type {\n",
       "        vertical-align: middle;\n",
       "    }\n",
       "\n",
       "    .dataframe tbody tr th {\n",
       "        vertical-align: top;\n",
       "    }\n",
       "\n",
       "    .dataframe thead th {\n",
       "        text-align: right;\n",
       "    }\n",
       "</style>\n",
       "<table border=\"1\" class=\"dataframe\">\n",
       "  <thead>\n",
       "    <tr style=\"text-align: right;\">\n",
       "      <th></th>\n",
       "      <th>Season</th>\n",
       "      <th>DayNum</th>\n",
       "      <th>WTeamID</th>\n",
       "      <th>LTeamID</th>\n",
       "      <th>CRType</th>\n",
       "      <th>CityID</th>\n",
       "    </tr>\n",
       "  </thead>\n",
       "  <tbody>\n",
       "    <tr>\n",
       "      <th>0</th>\n",
       "      <td>2010</td>\n",
       "      <td>7</td>\n",
       "      <td>1143</td>\n",
       "      <td>1293</td>\n",
       "      <td>Regular</td>\n",
       "      <td>4027</td>\n",
       "    </tr>\n",
       "    <tr>\n",
       "      <th>1</th>\n",
       "      <td>2010</td>\n",
       "      <td>7</td>\n",
       "      <td>1314</td>\n",
       "      <td>1198</td>\n",
       "      <td>Regular</td>\n",
       "      <td>4061</td>\n",
       "    </tr>\n",
       "    <tr>\n",
       "      <th>2</th>\n",
       "      <td>2010</td>\n",
       "      <td>7</td>\n",
       "      <td>1326</td>\n",
       "      <td>1108</td>\n",
       "      <td>Regular</td>\n",
       "      <td>4080</td>\n",
       "    </tr>\n",
       "    <tr>\n",
       "      <th>3</th>\n",
       "      <td>2010</td>\n",
       "      <td>7</td>\n",
       "      <td>1393</td>\n",
       "      <td>1107</td>\n",
       "      <td>Regular</td>\n",
       "      <td>4340</td>\n",
       "    </tr>\n",
       "    <tr>\n",
       "      <th>4</th>\n",
       "      <td>2010</td>\n",
       "      <td>9</td>\n",
       "      <td>1143</td>\n",
       "      <td>1178</td>\n",
       "      <td>Regular</td>\n",
       "      <td>4027</td>\n",
       "    </tr>\n",
       "  </tbody>\n",
       "</table>\n",
       "</div>"
      ],
      "text/plain": [
       "   Season  DayNum  WTeamID  LTeamID   CRType  CityID\n",
       "0    2010       7     1143     1293  Regular    4027\n",
       "1    2010       7     1314     1198  Regular    4061\n",
       "2    2010       7     1326     1108  Regular    4080\n",
       "3    2010       7     1393     1107  Regular    4340\n",
       "4    2010       9     1143     1178  Regular    4027"
      ]
     },
     "execution_count": 20,
     "metadata": {},
     "output_type": "execute_result"
    }
   ],
   "source": [
    "df_gamecities.head()"
   ]
  },
  {
   "cell_type": "code",
   "execution_count": 21,
   "id": "bfbdf300",
   "metadata": {
    "execution": {
     "iopub.execute_input": "2023-03-02T17:40:54.999252Z",
     "iopub.status.busy": "2023-03-02T17:40:54.998699Z",
     "iopub.status.idle": "2023-03-02T17:40:58.730218Z",
     "shell.execute_reply": "2023-03-02T17:40:58.728536Z"
    },
    "papermill": {
     "duration": 3.757971,
     "end_time": "2023-03-02T17:40:58.734188",
     "exception": false,
     "start_time": "2023-03-02T17:40:54.976217",
     "status": "completed"
    },
    "tags": []
   },
   "outputs": [],
   "source": [
    "#read in the rankings data\n",
    "df_rankings = pd.read_csv(base_path + 'MMasseyOrdinals.csv')"
   ]
  },
  {
   "cell_type": "markdown",
   "id": "188a7765",
   "metadata": {
    "papermill": {
     "duration": 0.020522,
     "end_time": "2023-03-02T17:40:58.776683",
     "exception": false,
     "start_time": "2023-03-02T17:40:58.756161",
     "status": "completed"
    },
    "tags": []
   },
   "source": [
    "The MMasseyOrdinals.csv has ranking information from as far back as 2002. Season and TeamID have already been discussed. RankingDayNum has the day number that it is appropriate to use the ranking information for predicting games. For example, you shouldn't use a ranking on day 110 to predict a game on day 100. SystemName is a 3 letter abbreviation for the ranking system. OrdinalRank is the ranking of the teams on that day in that system. By convention the final ranking before the tournament is RankingDayNum = 133."
   ]
  },
  {
   "cell_type": "code",
   "execution_count": 22,
   "id": "f4058ba7",
   "metadata": {
    "execution": {
     "iopub.execute_input": "2023-03-02T17:40:58.823555Z",
     "iopub.status.busy": "2023-03-02T17:40:58.821975Z",
     "iopub.status.idle": "2023-03-02T17:40:58.836246Z",
     "shell.execute_reply": "2023-03-02T17:40:58.834762Z"
    },
    "papermill": {
     "duration": 0.040605,
     "end_time": "2023-03-02T17:40:58.839442",
     "exception": false,
     "start_time": "2023-03-02T17:40:58.798837",
     "status": "completed"
    },
    "tags": []
   },
   "outputs": [
    {
     "data": {
      "text/html": [
       "<div>\n",
       "<style scoped>\n",
       "    .dataframe tbody tr th:only-of-type {\n",
       "        vertical-align: middle;\n",
       "    }\n",
       "\n",
       "    .dataframe tbody tr th {\n",
       "        vertical-align: top;\n",
       "    }\n",
       "\n",
       "    .dataframe thead th {\n",
       "        text-align: right;\n",
       "    }\n",
       "</style>\n",
       "<table border=\"1\" class=\"dataframe\">\n",
       "  <thead>\n",
       "    <tr style=\"text-align: right;\">\n",
       "      <th></th>\n",
       "      <th>Season</th>\n",
       "      <th>RankingDayNum</th>\n",
       "      <th>SystemName</th>\n",
       "      <th>TeamID</th>\n",
       "      <th>OrdinalRank</th>\n",
       "    </tr>\n",
       "  </thead>\n",
       "  <tbody>\n",
       "    <tr>\n",
       "      <th>0</th>\n",
       "      <td>2003</td>\n",
       "      <td>35</td>\n",
       "      <td>SEL</td>\n",
       "      <td>1102</td>\n",
       "      <td>159</td>\n",
       "    </tr>\n",
       "    <tr>\n",
       "      <th>1</th>\n",
       "      <td>2003</td>\n",
       "      <td>35</td>\n",
       "      <td>SEL</td>\n",
       "      <td>1103</td>\n",
       "      <td>229</td>\n",
       "    </tr>\n",
       "    <tr>\n",
       "      <th>2</th>\n",
       "      <td>2003</td>\n",
       "      <td>35</td>\n",
       "      <td>SEL</td>\n",
       "      <td>1104</td>\n",
       "      <td>12</td>\n",
       "    </tr>\n",
       "    <tr>\n",
       "      <th>3</th>\n",
       "      <td>2003</td>\n",
       "      <td>35</td>\n",
       "      <td>SEL</td>\n",
       "      <td>1105</td>\n",
       "      <td>314</td>\n",
       "    </tr>\n",
       "    <tr>\n",
       "      <th>4</th>\n",
       "      <td>2003</td>\n",
       "      <td>35</td>\n",
       "      <td>SEL</td>\n",
       "      <td>1106</td>\n",
       "      <td>260</td>\n",
       "    </tr>\n",
       "  </tbody>\n",
       "</table>\n",
       "</div>"
      ],
      "text/plain": [
       "   Season  RankingDayNum SystemName  TeamID  OrdinalRank\n",
       "0    2003             35        SEL    1102          159\n",
       "1    2003             35        SEL    1103          229\n",
       "2    2003             35        SEL    1104           12\n",
       "3    2003             35        SEL    1105          314\n",
       "4    2003             35        SEL    1106          260"
      ]
     },
     "execution_count": 22,
     "metadata": {},
     "output_type": "execute_result"
    }
   ],
   "source": [
    "df_rankings.head()"
   ]
  },
  {
   "cell_type": "code",
   "execution_count": 23,
   "id": "23bc883d",
   "metadata": {
    "execution": {
     "iopub.execute_input": "2023-03-02T17:40:58.884886Z",
     "iopub.status.busy": "2023-03-02T17:40:58.883835Z",
     "iopub.status.idle": "2023-03-02T17:40:58.898310Z",
     "shell.execute_reply": "2023-03-02T17:40:58.896762Z"
    },
    "papermill": {
     "duration": 0.040976,
     "end_time": "2023-03-02T17:40:58.901656",
     "exception": false,
     "start_time": "2023-03-02T17:40:58.860680",
     "status": "completed"
    },
    "tags": []
   },
   "outputs": [],
   "source": [
    "#read in the tournament slot data\n",
    "df_slots = pd.read_csv(base_path + 'MNCAATourneySlots.csv')"
   ]
  },
  {
   "cell_type": "markdown",
   "id": "46a0916e",
   "metadata": {
    "papermill": {
     "duration": 0.020839,
     "end_time": "2023-03-02T17:40:58.944506",
     "exception": false,
     "start_time": "2023-03-02T17:40:58.923667",
     "status": "completed"
    },
    "tags": []
   },
   "source": [
    "MNCAATourneySlots.csv data can be used to identify what round a historical tournament game occured in and what seed/slot the teams that played that game were. This could be useful for simulating the progression of a bracket. Slot uniquely identifies one of the tournament games. For play-in games, it is a three-character string identifying the seed fulfilled by the winning team, such as W16 or Z13. For regular tournament games, it is a four-character string, where the first two characters tell you which round the game is (R1, R2, R3, R4, R5, or R6) and the second two characters tell you the expected seed of the favored team. For example, the R2W1 slot indicates the Round 2 game that would have the 1 seed from the W bracket, assuming that all favored teams have won up to that point. Even if that R2W1 slot were actually a game between the W09 and W16 teams, it is still considered to be the R2W1 slot. The slot names are different for the final two rounds, where R5WX identifies the national semifinal game between the winners of regions W and X, and R5YZ identifies the national semifinal game between the winners of regions Y and Z, and R6CH identifies the championship game.\n",
    "\n",
    "StrongSeed indicates the expected stronger-seeded team that plays in this game. For Round 1 games, a team seed is identified in this column (as listed in the \"Seed\" column in the MNCAATourneySeeds.csv file), whereas for subsequent games, a slot is identified in this column. In the first record of this file (slot R1W1), we see that seed W01 is the \"StrongSeed\", which during the 1985 tournament would have been Georgetown. Whereas for games from Round 2 or later, rather than a team seed, we will see a \"slot\" referenced in this column. So in the 33rd record of this file (slot R2W1), it tells us that the winners of slots R1W1 and R1W8 will face each other in Round 2. Of course, in the last few games of the tournament - the national semifinals and finals - it's not really meaningful to talk about a \"strong seed\" or \"weak seed\", since you would have #1 seeds favored to face each other, but those games are nevertheless represented in the same format for the sake of consistency. WeakSeed indicates the expected weaker-seeded team that plays in this game, assuming all favored teams have won so far. For Round 1 games, a team seed is identified in this column (as listed in the \"Seed\" column in the MNCAATourneySeeds.csv file), whereas for subsequent games, a slot is identified in this column."
   ]
  },
  {
   "cell_type": "code",
   "execution_count": 24,
   "id": "b3bba366",
   "metadata": {
    "execution": {
     "iopub.execute_input": "2023-03-02T17:40:58.989587Z",
     "iopub.status.busy": "2023-03-02T17:40:58.989057Z",
     "iopub.status.idle": "2023-03-02T17:40:59.003164Z",
     "shell.execute_reply": "2023-03-02T17:40:59.001726Z"
    },
    "papermill": {
     "duration": 0.040778,
     "end_time": "2023-03-02T17:40:59.006318",
     "exception": false,
     "start_time": "2023-03-02T17:40:58.965540",
     "status": "completed"
    },
    "tags": []
   },
   "outputs": [
    {
     "data": {
      "text/html": [
       "<div>\n",
       "<style scoped>\n",
       "    .dataframe tbody tr th:only-of-type {\n",
       "        vertical-align: middle;\n",
       "    }\n",
       "\n",
       "    .dataframe tbody tr th {\n",
       "        vertical-align: top;\n",
       "    }\n",
       "\n",
       "    .dataframe thead th {\n",
       "        text-align: right;\n",
       "    }\n",
       "</style>\n",
       "<table border=\"1\" class=\"dataframe\">\n",
       "  <thead>\n",
       "    <tr style=\"text-align: right;\">\n",
       "      <th></th>\n",
       "      <th>Season</th>\n",
       "      <th>Slot</th>\n",
       "      <th>StrongSeed</th>\n",
       "      <th>WeakSeed</th>\n",
       "    </tr>\n",
       "  </thead>\n",
       "  <tbody>\n",
       "    <tr>\n",
       "      <th>0</th>\n",
       "      <td>1985</td>\n",
       "      <td>R1W1</td>\n",
       "      <td>W01</td>\n",
       "      <td>W16</td>\n",
       "    </tr>\n",
       "    <tr>\n",
       "      <th>1</th>\n",
       "      <td>1985</td>\n",
       "      <td>R1W2</td>\n",
       "      <td>W02</td>\n",
       "      <td>W15</td>\n",
       "    </tr>\n",
       "    <tr>\n",
       "      <th>2</th>\n",
       "      <td>1985</td>\n",
       "      <td>R1W3</td>\n",
       "      <td>W03</td>\n",
       "      <td>W14</td>\n",
       "    </tr>\n",
       "    <tr>\n",
       "      <th>3</th>\n",
       "      <td>1985</td>\n",
       "      <td>R1W4</td>\n",
       "      <td>W04</td>\n",
       "      <td>W13</td>\n",
       "    </tr>\n",
       "    <tr>\n",
       "      <th>4</th>\n",
       "      <td>1985</td>\n",
       "      <td>R1W5</td>\n",
       "      <td>W05</td>\n",
       "      <td>W12</td>\n",
       "    </tr>\n",
       "  </tbody>\n",
       "</table>\n",
       "</div>"
      ],
      "text/plain": [
       "   Season  Slot StrongSeed WeakSeed\n",
       "0    1985  R1W1        W01      W16\n",
       "1    1985  R1W2        W02      W15\n",
       "2    1985  R1W3        W03      W14\n",
       "3    1985  R1W4        W04      W13\n",
       "4    1985  R1W5        W05      W12"
      ]
     },
     "execution_count": 24,
     "metadata": {},
     "output_type": "execute_result"
    }
   ],
   "source": [
    "df_slots.head()"
   ]
  },
  {
   "cell_type": "code",
   "execution_count": 25,
   "id": "7c40f066",
   "metadata": {
    "execution": {
     "iopub.execute_input": "2023-03-02T17:40:59.053468Z",
     "iopub.status.busy": "2023-03-02T17:40:59.052948Z",
     "iopub.status.idle": "2023-03-02T17:40:59.066165Z",
     "shell.execute_reply": "2023-03-02T17:40:59.064673Z"
    },
    "papermill": {
     "duration": 0.040623,
     "end_time": "2023-03-02T17:40:59.069615",
     "exception": false,
     "start_time": "2023-03-02T17:40:59.028992",
     "status": "completed"
    },
    "tags": []
   },
   "outputs": [],
   "source": [
    "#read in the tournament slot data\n",
    "df_seed = pd.read_csv(base_path + 'MNCAATourneySeedRoundSlots.csv')"
   ]
  },
  {
   "cell_type": "markdown",
   "id": "2d15a32d",
   "metadata": {
    "papermill": {
     "duration": 0.020903,
     "end_time": "2023-03-02T17:40:59.112934",
     "exception": false,
     "start_time": "2023-03-02T17:40:59.092031",
     "status": "completed"
    },
    "tags": []
   },
   "source": [
    "MNCAATourneySeedRoundSlots.csv represents the bracket structure. Seed is the tournament seed of the team. GameRound is the round during the tournament that the game would occur in, where Round 0 (zero) is for the play-in games, Rounds 1/2 are for the first weekend, Rounds 3/4 are for the second weekend, and Rounds 5/6 are the national semifinals and finals. GameSlot is the game slot that the team would be playing in, during the given GameRound. The naming convention for slots is the same as in df_slots. EarlyDayNum and LateDayNum describe the earliest possible, and latest possible, DayNums that the game might be played on."
   ]
  },
  {
   "cell_type": "code",
   "execution_count": 26,
   "id": "414c6d46",
   "metadata": {
    "execution": {
     "iopub.execute_input": "2023-03-02T17:40:59.158954Z",
     "iopub.status.busy": "2023-03-02T17:40:59.158476Z",
     "iopub.status.idle": "2023-03-02T17:40:59.171939Z",
     "shell.execute_reply": "2023-03-02T17:40:59.170466Z"
    },
    "papermill": {
     "duration": 0.040559,
     "end_time": "2023-03-02T17:40:59.174984",
     "exception": false,
     "start_time": "2023-03-02T17:40:59.134425",
     "status": "completed"
    },
    "tags": []
   },
   "outputs": [
    {
     "data": {
      "text/html": [
       "<div>\n",
       "<style scoped>\n",
       "    .dataframe tbody tr th:only-of-type {\n",
       "        vertical-align: middle;\n",
       "    }\n",
       "\n",
       "    .dataframe tbody tr th {\n",
       "        vertical-align: top;\n",
       "    }\n",
       "\n",
       "    .dataframe thead th {\n",
       "        text-align: right;\n",
       "    }\n",
       "</style>\n",
       "<table border=\"1\" class=\"dataframe\">\n",
       "  <thead>\n",
       "    <tr style=\"text-align: right;\">\n",
       "      <th></th>\n",
       "      <th>Seed</th>\n",
       "      <th>GameRound</th>\n",
       "      <th>GameSlot</th>\n",
       "      <th>EarlyDayNum</th>\n",
       "      <th>LateDayNum</th>\n",
       "    </tr>\n",
       "  </thead>\n",
       "  <tbody>\n",
       "    <tr>\n",
       "      <th>0</th>\n",
       "      <td>W01</td>\n",
       "      <td>1</td>\n",
       "      <td>R1W1</td>\n",
       "      <td>136</td>\n",
       "      <td>137</td>\n",
       "    </tr>\n",
       "    <tr>\n",
       "      <th>1</th>\n",
       "      <td>W01</td>\n",
       "      <td>2</td>\n",
       "      <td>R2W1</td>\n",
       "      <td>138</td>\n",
       "      <td>139</td>\n",
       "    </tr>\n",
       "    <tr>\n",
       "      <th>2</th>\n",
       "      <td>W01</td>\n",
       "      <td>3</td>\n",
       "      <td>R3W1</td>\n",
       "      <td>143</td>\n",
       "      <td>144</td>\n",
       "    </tr>\n",
       "    <tr>\n",
       "      <th>3</th>\n",
       "      <td>W01</td>\n",
       "      <td>4</td>\n",
       "      <td>R4W1</td>\n",
       "      <td>145</td>\n",
       "      <td>146</td>\n",
       "    </tr>\n",
       "    <tr>\n",
       "      <th>4</th>\n",
       "      <td>W01</td>\n",
       "      <td>5</td>\n",
       "      <td>R5WX</td>\n",
       "      <td>152</td>\n",
       "      <td>152</td>\n",
       "    </tr>\n",
       "  </tbody>\n",
       "</table>\n",
       "</div>"
      ],
      "text/plain": [
       "  Seed  GameRound GameSlot  EarlyDayNum  LateDayNum\n",
       "0  W01          1     R1W1          136         137\n",
       "1  W01          2     R2W1          138         139\n",
       "2  W01          3     R3W1          143         144\n",
       "3  W01          4     R4W1          145         146\n",
       "4  W01          5     R5WX          152         152"
      ]
     },
     "execution_count": 26,
     "metadata": {},
     "output_type": "execute_result"
    }
   ],
   "source": [
    "df_seed.head()"
   ]
  },
  {
   "cell_type": "markdown",
   "id": "f73920d1",
   "metadata": {
    "papermill": {
     "duration": 0.022062,
     "end_time": "2023-03-02T17:40:59.219515",
     "exception": false,
     "start_time": "2023-03-02T17:40:59.197453",
     "status": "completed"
    },
    "tags": []
   },
   "source": [
    "There is a lot of data that I don't plan to use here. I want to take the regular season data of wins and losses, as well as the detailed regular season information, and the tournament seeds to predict the tournament results. So now I need to make that dataframe with just that information."
   ]
  },
  {
   "cell_type": "code",
   "execution_count": 27,
   "id": "aa05fdc2",
   "metadata": {
    "execution": {
     "iopub.execute_input": "2023-03-02T17:40:59.269235Z",
     "iopub.status.busy": "2023-03-02T17:40:59.267732Z",
     "iopub.status.idle": "2023-03-02T17:40:59.274161Z",
     "shell.execute_reply": "2023-03-02T17:40:59.273138Z"
    },
    "papermill": {
     "duration": 0.035291,
     "end_time": "2023-03-02T17:40:59.277085",
     "exception": false,
     "start_time": "2023-03-02T17:40:59.241794",
     "status": "completed"
    },
    "tags": []
   },
   "outputs": [],
   "source": [
    "df = pd.DataFrame()"
   ]
  },
  {
   "cell_type": "markdown",
   "id": "8428d950",
   "metadata": {
    "papermill": {
     "duration": 0.021965,
     "end_time": "2023-03-02T17:40:59.321244",
     "exception": false,
     "start_time": "2023-03-02T17:40:59.299279",
     "status": "completed"
    },
    "tags": []
   },
   "source": [
    "The first thing I want to do is a little feature engineering. The detailed regular season data has stats for each game which is great. I'm going to want to turn these per game stats into averages per season. So I'll take the TeamID and compute the averages for that team. "
   ]
  },
  {
   "cell_type": "code",
   "execution_count": 28,
   "id": "850e0ccf",
   "metadata": {
    "execution": {
     "iopub.execute_input": "2023-03-02T17:40:59.367563Z",
     "iopub.status.busy": "2023-03-02T17:40:59.366281Z",
     "iopub.status.idle": "2023-03-02T17:40:59.388120Z",
     "shell.execute_reply": "2023-03-02T17:40:59.386638Z"
    },
    "papermill": {
     "duration": 0.047982,
     "end_time": "2023-03-02T17:40:59.391076",
     "exception": false,
     "start_time": "2023-03-02T17:40:59.343094",
     "status": "completed"
    },
    "tags": []
   },
   "outputs": [
    {
     "data": {
      "text/html": [
       "<div>\n",
       "<style scoped>\n",
       "    .dataframe tbody tr th:only-of-type {\n",
       "        vertical-align: middle;\n",
       "    }\n",
       "\n",
       "    .dataframe tbody tr th {\n",
       "        vertical-align: top;\n",
       "    }\n",
       "\n",
       "    .dataframe thead th {\n",
       "        text-align: right;\n",
       "    }\n",
       "</style>\n",
       "<table border=\"1\" class=\"dataframe\">\n",
       "  <thead>\n",
       "    <tr style=\"text-align: right;\">\n",
       "      <th></th>\n",
       "      <th>Season</th>\n",
       "      <th>DayNum</th>\n",
       "      <th>WTeamID</th>\n",
       "      <th>WScore</th>\n",
       "      <th>LTeamID</th>\n",
       "      <th>LScore</th>\n",
       "      <th>WLoc</th>\n",
       "      <th>NumOT</th>\n",
       "      <th>WFGM</th>\n",
       "      <th>WFGA</th>\n",
       "      <th>...</th>\n",
       "      <th>LFGA3</th>\n",
       "      <th>LFTM</th>\n",
       "      <th>LFTA</th>\n",
       "      <th>LOR</th>\n",
       "      <th>LDR</th>\n",
       "      <th>LAst</th>\n",
       "      <th>LTO</th>\n",
       "      <th>LStl</th>\n",
       "      <th>LBlk</th>\n",
       "      <th>LPF</th>\n",
       "    </tr>\n",
       "  </thead>\n",
       "  <tbody>\n",
       "    <tr>\n",
       "      <th>0</th>\n",
       "      <td>2003</td>\n",
       "      <td>10</td>\n",
       "      <td>1104</td>\n",
       "      <td>68</td>\n",
       "      <td>1328</td>\n",
       "      <td>62</td>\n",
       "      <td>N</td>\n",
       "      <td>0</td>\n",
       "      <td>27</td>\n",
       "      <td>58</td>\n",
       "      <td>...</td>\n",
       "      <td>10</td>\n",
       "      <td>16</td>\n",
       "      <td>22</td>\n",
       "      <td>10</td>\n",
       "      <td>22</td>\n",
       "      <td>8</td>\n",
       "      <td>18</td>\n",
       "      <td>9</td>\n",
       "      <td>2</td>\n",
       "      <td>20</td>\n",
       "    </tr>\n",
       "    <tr>\n",
       "      <th>1</th>\n",
       "      <td>2003</td>\n",
       "      <td>10</td>\n",
       "      <td>1272</td>\n",
       "      <td>70</td>\n",
       "      <td>1393</td>\n",
       "      <td>63</td>\n",
       "      <td>N</td>\n",
       "      <td>0</td>\n",
       "      <td>26</td>\n",
       "      <td>62</td>\n",
       "      <td>...</td>\n",
       "      <td>24</td>\n",
       "      <td>9</td>\n",
       "      <td>20</td>\n",
       "      <td>20</td>\n",
       "      <td>25</td>\n",
       "      <td>7</td>\n",
       "      <td>12</td>\n",
       "      <td>8</td>\n",
       "      <td>6</td>\n",
       "      <td>16</td>\n",
       "    </tr>\n",
       "    <tr>\n",
       "      <th>2</th>\n",
       "      <td>2003</td>\n",
       "      <td>11</td>\n",
       "      <td>1266</td>\n",
       "      <td>73</td>\n",
       "      <td>1437</td>\n",
       "      <td>61</td>\n",
       "      <td>N</td>\n",
       "      <td>0</td>\n",
       "      <td>24</td>\n",
       "      <td>58</td>\n",
       "      <td>...</td>\n",
       "      <td>26</td>\n",
       "      <td>14</td>\n",
       "      <td>23</td>\n",
       "      <td>31</td>\n",
       "      <td>22</td>\n",
       "      <td>9</td>\n",
       "      <td>12</td>\n",
       "      <td>2</td>\n",
       "      <td>5</td>\n",
       "      <td>23</td>\n",
       "    </tr>\n",
       "    <tr>\n",
       "      <th>3</th>\n",
       "      <td>2003</td>\n",
       "      <td>11</td>\n",
       "      <td>1296</td>\n",
       "      <td>56</td>\n",
       "      <td>1457</td>\n",
       "      <td>50</td>\n",
       "      <td>N</td>\n",
       "      <td>0</td>\n",
       "      <td>18</td>\n",
       "      <td>38</td>\n",
       "      <td>...</td>\n",
       "      <td>22</td>\n",
       "      <td>8</td>\n",
       "      <td>15</td>\n",
       "      <td>17</td>\n",
       "      <td>20</td>\n",
       "      <td>9</td>\n",
       "      <td>19</td>\n",
       "      <td>4</td>\n",
       "      <td>3</td>\n",
       "      <td>23</td>\n",
       "    </tr>\n",
       "    <tr>\n",
       "      <th>4</th>\n",
       "      <td>2003</td>\n",
       "      <td>11</td>\n",
       "      <td>1400</td>\n",
       "      <td>77</td>\n",
       "      <td>1208</td>\n",
       "      <td>71</td>\n",
       "      <td>N</td>\n",
       "      <td>0</td>\n",
       "      <td>30</td>\n",
       "      <td>61</td>\n",
       "      <td>...</td>\n",
       "      <td>16</td>\n",
       "      <td>17</td>\n",
       "      <td>27</td>\n",
       "      <td>21</td>\n",
       "      <td>15</td>\n",
       "      <td>12</td>\n",
       "      <td>10</td>\n",
       "      <td>7</td>\n",
       "      <td>1</td>\n",
       "      <td>14</td>\n",
       "    </tr>\n",
       "  </tbody>\n",
       "</table>\n",
       "<p>5 rows × 34 columns</p>\n",
       "</div>"
      ],
      "text/plain": [
       "   Season  DayNum  WTeamID  WScore  LTeamID  LScore WLoc  NumOT  WFGM  WFGA  \\\n",
       "0    2003      10     1104      68     1328      62    N      0    27    58   \n",
       "1    2003      10     1272      70     1393      63    N      0    26    62   \n",
       "2    2003      11     1266      73     1437      61    N      0    24    58   \n",
       "3    2003      11     1296      56     1457      50    N      0    18    38   \n",
       "4    2003      11     1400      77     1208      71    N      0    30    61   \n",
       "\n",
       "   ...  LFGA3  LFTM  LFTA  LOR  LDR  LAst  LTO  LStl  LBlk  LPF  \n",
       "0  ...     10    16    22   10   22     8   18     9     2   20  \n",
       "1  ...     24     9    20   20   25     7   12     8     6   16  \n",
       "2  ...     26    14    23   31   22     9   12     2     5   23  \n",
       "3  ...     22     8    15   17   20     9   19     4     3   23  \n",
       "4  ...     16    17    27   21   15    12   10     7     1   14  \n",
       "\n",
       "[5 rows x 34 columns]"
      ]
     },
     "execution_count": 28,
     "metadata": {},
     "output_type": "execute_result"
    }
   ],
   "source": [
    "df_regseasonDets.head()"
   ]
  },
  {
   "cell_type": "markdown",
   "id": "7d2798f6",
   "metadata": {
    "papermill": {
     "duration": 0.022289,
     "end_time": "2023-03-02T17:40:59.435387",
     "exception": false,
     "start_time": "2023-03-02T17:40:59.413098",
     "status": "completed"
    },
    "tags": []
   },
   "source": [
    "Let's start by turning all the attempts and made shots into a percentage."
   ]
  },
  {
   "cell_type": "code",
   "execution_count": 29,
   "id": "2d4a347a",
   "metadata": {
    "execution": {
     "iopub.execute_input": "2023-03-02T17:40:59.482898Z",
     "iopub.status.busy": "2023-03-02T17:40:59.482292Z",
     "iopub.status.idle": "2023-03-02T17:40:59.508132Z",
     "shell.execute_reply": "2023-03-02T17:40:59.506895Z"
    },
    "papermill": {
     "duration": 0.054095,
     "end_time": "2023-03-02T17:40:59.511567",
     "exception": false,
     "start_time": "2023-03-02T17:40:59.457472",
     "status": "completed"
    },
    "tags": []
   },
   "outputs": [],
   "source": [
    "df_regseasonDets['WFGP'] = df_regseasonDets.WFGM / df_regseasonDets.WFGA\n",
    "df_regseasonDets['WFGP3'] = df_regseasonDets.WFGM3 / df_regseasonDets.WFGA3\n",
    "df_regseasonDets['WFTP'] = df_regseasonDets.WFTM / df_regseasonDets.WFTA\n",
    "df_regseasonDets['LFGP'] = df_regseasonDets.LFGM / df_regseasonDets.LFGA\n",
    "df_regseasonDets['LFGP3'] = df_regseasonDets.LFGM3 / df_regseasonDets.LFGA3\n",
    "df_regseasonDets['LFTP'] = df_regseasonDets.LFTM / df_regseasonDets.LFTA"
   ]
  },
  {
   "cell_type": "code",
   "execution_count": 30,
   "id": "5f1328c7",
   "metadata": {
    "execution": {
     "iopub.execute_input": "2023-03-02T17:40:59.562373Z",
     "iopub.status.busy": "2023-03-02T17:40:59.561403Z",
     "iopub.status.idle": "2023-03-02T17:40:59.586491Z",
     "shell.execute_reply": "2023-03-02T17:40:59.585004Z"
    },
    "papermill": {
     "duration": 0.055435,
     "end_time": "2023-03-02T17:40:59.590130",
     "exception": false,
     "start_time": "2023-03-02T17:40:59.534695",
     "status": "completed"
    },
    "tags": []
   },
   "outputs": [
    {
     "data": {
      "text/html": [
       "<div>\n",
       "<style scoped>\n",
       "    .dataframe tbody tr th:only-of-type {\n",
       "        vertical-align: middle;\n",
       "    }\n",
       "\n",
       "    .dataframe tbody tr th {\n",
       "        vertical-align: top;\n",
       "    }\n",
       "\n",
       "    .dataframe thead th {\n",
       "        text-align: right;\n",
       "    }\n",
       "</style>\n",
       "<table border=\"1\" class=\"dataframe\">\n",
       "  <thead>\n",
       "    <tr style=\"text-align: right;\">\n",
       "      <th></th>\n",
       "      <th>Season</th>\n",
       "      <th>DayNum</th>\n",
       "      <th>WTeamID</th>\n",
       "      <th>WScore</th>\n",
       "      <th>LTeamID</th>\n",
       "      <th>LScore</th>\n",
       "      <th>WLoc</th>\n",
       "      <th>NumOT</th>\n",
       "      <th>WFGM</th>\n",
       "      <th>WFGA</th>\n",
       "      <th>...</th>\n",
       "      <th>LTO</th>\n",
       "      <th>LStl</th>\n",
       "      <th>LBlk</th>\n",
       "      <th>LPF</th>\n",
       "      <th>WFGP</th>\n",
       "      <th>WFGP3</th>\n",
       "      <th>WFTP</th>\n",
       "      <th>LFGP</th>\n",
       "      <th>LFGP3</th>\n",
       "      <th>LFTP</th>\n",
       "    </tr>\n",
       "  </thead>\n",
       "  <tbody>\n",
       "    <tr>\n",
       "      <th>0</th>\n",
       "      <td>2003</td>\n",
       "      <td>10</td>\n",
       "      <td>1104</td>\n",
       "      <td>68</td>\n",
       "      <td>1328</td>\n",
       "      <td>62</td>\n",
       "      <td>N</td>\n",
       "      <td>0</td>\n",
       "      <td>27</td>\n",
       "      <td>58</td>\n",
       "      <td>...</td>\n",
       "      <td>18</td>\n",
       "      <td>9</td>\n",
       "      <td>2</td>\n",
       "      <td>20</td>\n",
       "      <td>0.465517</td>\n",
       "      <td>0.214286</td>\n",
       "      <td>0.611111</td>\n",
       "      <td>0.415094</td>\n",
       "      <td>0.200000</td>\n",
       "      <td>0.727273</td>\n",
       "    </tr>\n",
       "    <tr>\n",
       "      <th>1</th>\n",
       "      <td>2003</td>\n",
       "      <td>10</td>\n",
       "      <td>1272</td>\n",
       "      <td>70</td>\n",
       "      <td>1393</td>\n",
       "      <td>63</td>\n",
       "      <td>N</td>\n",
       "      <td>0</td>\n",
       "      <td>26</td>\n",
       "      <td>62</td>\n",
       "      <td>...</td>\n",
       "      <td>12</td>\n",
       "      <td>8</td>\n",
       "      <td>6</td>\n",
       "      <td>16</td>\n",
       "      <td>0.419355</td>\n",
       "      <td>0.400000</td>\n",
       "      <td>0.526316</td>\n",
       "      <td>0.358209</td>\n",
       "      <td>0.250000</td>\n",
       "      <td>0.450000</td>\n",
       "    </tr>\n",
       "    <tr>\n",
       "      <th>2</th>\n",
       "      <td>2003</td>\n",
       "      <td>11</td>\n",
       "      <td>1266</td>\n",
       "      <td>73</td>\n",
       "      <td>1437</td>\n",
       "      <td>61</td>\n",
       "      <td>N</td>\n",
       "      <td>0</td>\n",
       "      <td>24</td>\n",
       "      <td>58</td>\n",
       "      <td>...</td>\n",
       "      <td>12</td>\n",
       "      <td>2</td>\n",
       "      <td>5</td>\n",
       "      <td>23</td>\n",
       "      <td>0.413793</td>\n",
       "      <td>0.444444</td>\n",
       "      <td>0.586207</td>\n",
       "      <td>0.301370</td>\n",
       "      <td>0.115385</td>\n",
       "      <td>0.608696</td>\n",
       "    </tr>\n",
       "    <tr>\n",
       "      <th>3</th>\n",
       "      <td>2003</td>\n",
       "      <td>11</td>\n",
       "      <td>1296</td>\n",
       "      <td>56</td>\n",
       "      <td>1457</td>\n",
       "      <td>50</td>\n",
       "      <td>N</td>\n",
       "      <td>0</td>\n",
       "      <td>18</td>\n",
       "      <td>38</td>\n",
       "      <td>...</td>\n",
       "      <td>19</td>\n",
       "      <td>4</td>\n",
       "      <td>3</td>\n",
       "      <td>23</td>\n",
       "      <td>0.473684</td>\n",
       "      <td>0.333333</td>\n",
       "      <td>0.548387</td>\n",
       "      <td>0.367347</td>\n",
       "      <td>0.272727</td>\n",
       "      <td>0.533333</td>\n",
       "    </tr>\n",
       "    <tr>\n",
       "      <th>4</th>\n",
       "      <td>2003</td>\n",
       "      <td>11</td>\n",
       "      <td>1400</td>\n",
       "      <td>77</td>\n",
       "      <td>1208</td>\n",
       "      <td>71</td>\n",
       "      <td>N</td>\n",
       "      <td>0</td>\n",
       "      <td>30</td>\n",
       "      <td>61</td>\n",
       "      <td>...</td>\n",
       "      <td>10</td>\n",
       "      <td>7</td>\n",
       "      <td>1</td>\n",
       "      <td>14</td>\n",
       "      <td>0.491803</td>\n",
       "      <td>0.428571</td>\n",
       "      <td>0.846154</td>\n",
       "      <td>0.387097</td>\n",
       "      <td>0.375000</td>\n",
       "      <td>0.629630</td>\n",
       "    </tr>\n",
       "  </tbody>\n",
       "</table>\n",
       "<p>5 rows × 40 columns</p>\n",
       "</div>"
      ],
      "text/plain": [
       "   Season  DayNum  WTeamID  WScore  LTeamID  LScore WLoc  NumOT  WFGM  WFGA  \\\n",
       "0    2003      10     1104      68     1328      62    N      0    27    58   \n",
       "1    2003      10     1272      70     1393      63    N      0    26    62   \n",
       "2    2003      11     1266      73     1437      61    N      0    24    58   \n",
       "3    2003      11     1296      56     1457      50    N      0    18    38   \n",
       "4    2003      11     1400      77     1208      71    N      0    30    61   \n",
       "\n",
       "   ...  LTO  LStl  LBlk  LPF      WFGP     WFGP3      WFTP      LFGP  \\\n",
       "0  ...   18     9     2   20  0.465517  0.214286  0.611111  0.415094   \n",
       "1  ...   12     8     6   16  0.419355  0.400000  0.526316  0.358209   \n",
       "2  ...   12     2     5   23  0.413793  0.444444  0.586207  0.301370   \n",
       "3  ...   19     4     3   23  0.473684  0.333333  0.548387  0.367347   \n",
       "4  ...   10     7     1   14  0.491803  0.428571  0.846154  0.387097   \n",
       "\n",
       "      LFGP3      LFTP  \n",
       "0  0.200000  0.727273  \n",
       "1  0.250000  0.450000  \n",
       "2  0.115385  0.608696  \n",
       "3  0.272727  0.533333  \n",
       "4  0.375000  0.629630  \n",
       "\n",
       "[5 rows x 40 columns]"
      ]
     },
     "execution_count": 30,
     "metadata": {},
     "output_type": "execute_result"
    }
   ],
   "source": [
    "df_regseasonDets.head()"
   ]
  },
  {
   "cell_type": "markdown",
   "id": "9f4fba0a",
   "metadata": {
    "papermill": {
     "duration": 0.022344,
     "end_time": "2023-03-02T17:40:59.637827",
     "exception": false,
     "start_time": "2023-03-02T17:40:59.615483",
     "status": "completed"
    },
    "tags": []
   },
   "source": [
    "Let's create a dataframe for that has the average information of the games grouped by season and TeamID. I'm going to do this by first making two different dataframes, one for the winning team stats, and one for the losing. Then I'll concatenate them together and then take the averages. "
   ]
  },
  {
   "cell_type": "code",
   "execution_count": 31,
   "id": "dbc8f5c6",
   "metadata": {
    "execution": {
     "iopub.execute_input": "2023-03-02T17:40:59.685954Z",
     "iopub.status.busy": "2023-03-02T17:40:59.685155Z",
     "iopub.status.idle": "2023-03-02T17:40:59.720911Z",
     "shell.execute_reply": "2023-03-02T17:40:59.719340Z"
    },
    "papermill": {
     "duration": 0.064375,
     "end_time": "2023-03-02T17:40:59.724411",
     "exception": false,
     "start_time": "2023-03-02T17:40:59.660036",
     "status": "completed"
    },
    "tags": []
   },
   "outputs": [],
   "source": [
    "df_WregseasonDets = pd.DataFrame() \n",
    "df_WregseasonDets['TeamID'] = df_regseasonDets.WTeamID\n",
    "df_WregseasonDets['Season'] = df_regseasonDets.Season\n",
    "df_WregseasonDets['Score'] = df_regseasonDets.WScore\n",
    "df_WregseasonDets['FGP'] = df_regseasonDets.WFGP\n",
    "df_WregseasonDets['FGP3'] = df_regseasonDets.WFGP3\n",
    "df_WregseasonDets['FTP'] = df_regseasonDets.WFTP\n",
    "df_WregseasonDets['OR'] = df_regseasonDets.WOR\n",
    "df_WregseasonDets['DR'] = df_regseasonDets.WDR\n",
    "df_WregseasonDets['Ast'] = df_regseasonDets.WAst\n",
    "df_WregseasonDets['TO'] = df_regseasonDets.WTO\n",
    "df_WregseasonDets['Blk'] = df_regseasonDets.WBlk\n",
    "df_WregseasonDets['Stl'] = df_regseasonDets.WStl\n",
    "df_WregseasonDets['PF'] = df_regseasonDets.WPF"
   ]
  },
  {
   "cell_type": "code",
   "execution_count": 32,
   "id": "2f023a13",
   "metadata": {
    "execution": {
     "iopub.execute_input": "2023-03-02T17:40:59.773000Z",
     "iopub.status.busy": "2023-03-02T17:40:59.772088Z",
     "iopub.status.idle": "2023-03-02T17:40:59.790289Z",
     "shell.execute_reply": "2023-03-02T17:40:59.788662Z"
    },
    "papermill": {
     "duration": 0.046163,
     "end_time": "2023-03-02T17:40:59.793488",
     "exception": false,
     "start_time": "2023-03-02T17:40:59.747325",
     "status": "completed"
    },
    "tags": []
   },
   "outputs": [
    {
     "data": {
      "text/html": [
       "<div>\n",
       "<style scoped>\n",
       "    .dataframe tbody tr th:only-of-type {\n",
       "        vertical-align: middle;\n",
       "    }\n",
       "\n",
       "    .dataframe tbody tr th {\n",
       "        vertical-align: top;\n",
       "    }\n",
       "\n",
       "    .dataframe thead th {\n",
       "        text-align: right;\n",
       "    }\n",
       "</style>\n",
       "<table border=\"1\" class=\"dataframe\">\n",
       "  <thead>\n",
       "    <tr style=\"text-align: right;\">\n",
       "      <th></th>\n",
       "      <th>TeamID</th>\n",
       "      <th>Season</th>\n",
       "      <th>Score</th>\n",
       "      <th>FGP</th>\n",
       "      <th>FGP3</th>\n",
       "      <th>FTP</th>\n",
       "      <th>OR</th>\n",
       "      <th>DR</th>\n",
       "      <th>Ast</th>\n",
       "      <th>TO</th>\n",
       "      <th>Blk</th>\n",
       "      <th>Stl</th>\n",
       "      <th>PF</th>\n",
       "    </tr>\n",
       "  </thead>\n",
       "  <tbody>\n",
       "    <tr>\n",
       "      <th>0</th>\n",
       "      <td>1104</td>\n",
       "      <td>2003</td>\n",
       "      <td>68</td>\n",
       "      <td>0.465517</td>\n",
       "      <td>0.214286</td>\n",
       "      <td>0.611111</td>\n",
       "      <td>14</td>\n",
       "      <td>24</td>\n",
       "      <td>13</td>\n",
       "      <td>23</td>\n",
       "      <td>1</td>\n",
       "      <td>7</td>\n",
       "      <td>22</td>\n",
       "    </tr>\n",
       "    <tr>\n",
       "      <th>1</th>\n",
       "      <td>1272</td>\n",
       "      <td>2003</td>\n",
       "      <td>70</td>\n",
       "      <td>0.419355</td>\n",
       "      <td>0.400000</td>\n",
       "      <td>0.526316</td>\n",
       "      <td>15</td>\n",
       "      <td>28</td>\n",
       "      <td>16</td>\n",
       "      <td>13</td>\n",
       "      <td>4</td>\n",
       "      <td>4</td>\n",
       "      <td>18</td>\n",
       "    </tr>\n",
       "    <tr>\n",
       "      <th>2</th>\n",
       "      <td>1266</td>\n",
       "      <td>2003</td>\n",
       "      <td>73</td>\n",
       "      <td>0.413793</td>\n",
       "      <td>0.444444</td>\n",
       "      <td>0.586207</td>\n",
       "      <td>17</td>\n",
       "      <td>26</td>\n",
       "      <td>15</td>\n",
       "      <td>10</td>\n",
       "      <td>2</td>\n",
       "      <td>5</td>\n",
       "      <td>25</td>\n",
       "    </tr>\n",
       "    <tr>\n",
       "      <th>3</th>\n",
       "      <td>1296</td>\n",
       "      <td>2003</td>\n",
       "      <td>56</td>\n",
       "      <td>0.473684</td>\n",
       "      <td>0.333333</td>\n",
       "      <td>0.548387</td>\n",
       "      <td>6</td>\n",
       "      <td>19</td>\n",
       "      <td>11</td>\n",
       "      <td>12</td>\n",
       "      <td>2</td>\n",
       "      <td>14</td>\n",
       "      <td>18</td>\n",
       "    </tr>\n",
       "    <tr>\n",
       "      <th>4</th>\n",
       "      <td>1400</td>\n",
       "      <td>2003</td>\n",
       "      <td>77</td>\n",
       "      <td>0.491803</td>\n",
       "      <td>0.428571</td>\n",
       "      <td>0.846154</td>\n",
       "      <td>17</td>\n",
       "      <td>22</td>\n",
       "      <td>12</td>\n",
       "      <td>14</td>\n",
       "      <td>4</td>\n",
       "      <td>4</td>\n",
       "      <td>20</td>\n",
       "    </tr>\n",
       "  </tbody>\n",
       "</table>\n",
       "</div>"
      ],
      "text/plain": [
       "   TeamID  Season  Score       FGP      FGP3       FTP  OR  DR  Ast  TO  Blk  \\\n",
       "0    1104    2003     68  0.465517  0.214286  0.611111  14  24   13  23    1   \n",
       "1    1272    2003     70  0.419355  0.400000  0.526316  15  28   16  13    4   \n",
       "2    1266    2003     73  0.413793  0.444444  0.586207  17  26   15  10    2   \n",
       "3    1296    2003     56  0.473684  0.333333  0.548387   6  19   11  12    2   \n",
       "4    1400    2003     77  0.491803  0.428571  0.846154  17  22   12  14    4   \n",
       "\n",
       "   Stl  PF  \n",
       "0    7  22  \n",
       "1    4  18  \n",
       "2    5  25  \n",
       "3   14  18  \n",
       "4    4  20  "
      ]
     },
     "execution_count": 32,
     "metadata": {},
     "output_type": "execute_result"
    }
   ],
   "source": [
    "df_WregseasonDets.head()"
   ]
  },
  {
   "cell_type": "code",
   "execution_count": 33,
   "id": "cd3a6bc2",
   "metadata": {
    "execution": {
     "iopub.execute_input": "2023-03-02T17:40:59.844215Z",
     "iopub.status.busy": "2023-03-02T17:40:59.842678Z",
     "iopub.status.idle": "2023-03-02T17:40:59.852001Z",
     "shell.execute_reply": "2023-03-02T17:40:59.850628Z"
    },
    "papermill": {
     "duration": 0.038147,
     "end_time": "2023-03-02T17:40:59.854873",
     "exception": false,
     "start_time": "2023-03-02T17:40:59.816726",
     "status": "completed"
    },
    "tags": []
   },
   "outputs": [
    {
     "data": {
      "text/plain": [
       "(106834, 13)"
      ]
     },
     "execution_count": 33,
     "metadata": {},
     "output_type": "execute_result"
    }
   ],
   "source": [
    "df_WregseasonDets.shape"
   ]
  },
  {
   "cell_type": "code",
   "execution_count": 34,
   "id": "8a5c1821",
   "metadata": {
    "execution": {
     "iopub.execute_input": "2023-03-02T17:40:59.904753Z",
     "iopub.status.busy": "2023-03-02T17:40:59.903275Z",
     "iopub.status.idle": "2023-03-02T17:40:59.940242Z",
     "shell.execute_reply": "2023-03-02T17:40:59.939159Z"
    },
    "papermill": {
     "duration": 0.0649,
     "end_time": "2023-03-02T17:40:59.943404",
     "exception": false,
     "start_time": "2023-03-02T17:40:59.878504",
     "status": "completed"
    },
    "tags": []
   },
   "outputs": [],
   "source": [
    "df_LregseasonDets = pd.DataFrame() \n",
    "df_LregseasonDets['TeamID'] = df_regseasonDets.LTeamID\n",
    "df_LregseasonDets['Season'] = df_regseasonDets.Season\n",
    "df_LregseasonDets['Score'] = df_regseasonDets.LScore\n",
    "df_LregseasonDets['FGP'] = df_regseasonDets.LFGP\n",
    "df_LregseasonDets['FGP3'] = df_regseasonDets.LFGP3\n",
    "df_LregseasonDets['FTP'] = df_regseasonDets.LFTP\n",
    "df_LregseasonDets['OR'] = df_regseasonDets.LOR\n",
    "df_LregseasonDets['DR'] = df_regseasonDets.LDR\n",
    "df_LregseasonDets['Ast'] = df_regseasonDets.LAst\n",
    "df_LregseasonDets['TO'] = df_regseasonDets.LTO\n",
    "df_LregseasonDets['Blk'] = df_regseasonDets.LBlk\n",
    "df_LregseasonDets['Stl'] = df_regseasonDets.LStl\n",
    "df_LregseasonDets['PF'] = df_regseasonDets.LPF"
   ]
  },
  {
   "cell_type": "code",
   "execution_count": 35,
   "id": "442360d6",
   "metadata": {
    "execution": {
     "iopub.execute_input": "2023-03-02T17:40:59.992968Z",
     "iopub.status.busy": "2023-03-02T17:40:59.991469Z",
     "iopub.status.idle": "2023-03-02T17:41:00.010271Z",
     "shell.execute_reply": "2023-03-02T17:41:00.008709Z"
    },
    "papermill": {
     "duration": 0.047029,
     "end_time": "2023-03-02T17:41:00.013574",
     "exception": false,
     "start_time": "2023-03-02T17:40:59.966545",
     "status": "completed"
    },
    "tags": []
   },
   "outputs": [
    {
     "data": {
      "text/html": [
       "<div>\n",
       "<style scoped>\n",
       "    .dataframe tbody tr th:only-of-type {\n",
       "        vertical-align: middle;\n",
       "    }\n",
       "\n",
       "    .dataframe tbody tr th {\n",
       "        vertical-align: top;\n",
       "    }\n",
       "\n",
       "    .dataframe thead th {\n",
       "        text-align: right;\n",
       "    }\n",
       "</style>\n",
       "<table border=\"1\" class=\"dataframe\">\n",
       "  <thead>\n",
       "    <tr style=\"text-align: right;\">\n",
       "      <th></th>\n",
       "      <th>TeamID</th>\n",
       "      <th>Season</th>\n",
       "      <th>Score</th>\n",
       "      <th>FGP</th>\n",
       "      <th>FGP3</th>\n",
       "      <th>FTP</th>\n",
       "      <th>OR</th>\n",
       "      <th>DR</th>\n",
       "      <th>Ast</th>\n",
       "      <th>TO</th>\n",
       "      <th>Blk</th>\n",
       "      <th>Stl</th>\n",
       "      <th>PF</th>\n",
       "    </tr>\n",
       "  </thead>\n",
       "  <tbody>\n",
       "    <tr>\n",
       "      <th>0</th>\n",
       "      <td>1328</td>\n",
       "      <td>2003</td>\n",
       "      <td>62</td>\n",
       "      <td>0.415094</td>\n",
       "      <td>0.200000</td>\n",
       "      <td>0.727273</td>\n",
       "      <td>10</td>\n",
       "      <td>22</td>\n",
       "      <td>8</td>\n",
       "      <td>18</td>\n",
       "      <td>2</td>\n",
       "      <td>9</td>\n",
       "      <td>20</td>\n",
       "    </tr>\n",
       "    <tr>\n",
       "      <th>1</th>\n",
       "      <td>1393</td>\n",
       "      <td>2003</td>\n",
       "      <td>63</td>\n",
       "      <td>0.358209</td>\n",
       "      <td>0.250000</td>\n",
       "      <td>0.450000</td>\n",
       "      <td>20</td>\n",
       "      <td>25</td>\n",
       "      <td>7</td>\n",
       "      <td>12</td>\n",
       "      <td>6</td>\n",
       "      <td>8</td>\n",
       "      <td>16</td>\n",
       "    </tr>\n",
       "    <tr>\n",
       "      <th>2</th>\n",
       "      <td>1437</td>\n",
       "      <td>2003</td>\n",
       "      <td>61</td>\n",
       "      <td>0.301370</td>\n",
       "      <td>0.115385</td>\n",
       "      <td>0.608696</td>\n",
       "      <td>31</td>\n",
       "      <td>22</td>\n",
       "      <td>9</td>\n",
       "      <td>12</td>\n",
       "      <td>5</td>\n",
       "      <td>2</td>\n",
       "      <td>23</td>\n",
       "    </tr>\n",
       "    <tr>\n",
       "      <th>3</th>\n",
       "      <td>1457</td>\n",
       "      <td>2003</td>\n",
       "      <td>50</td>\n",
       "      <td>0.367347</td>\n",
       "      <td>0.272727</td>\n",
       "      <td>0.533333</td>\n",
       "      <td>17</td>\n",
       "      <td>20</td>\n",
       "      <td>9</td>\n",
       "      <td>19</td>\n",
       "      <td>3</td>\n",
       "      <td>4</td>\n",
       "      <td>23</td>\n",
       "    </tr>\n",
       "    <tr>\n",
       "      <th>4</th>\n",
       "      <td>1208</td>\n",
       "      <td>2003</td>\n",
       "      <td>71</td>\n",
       "      <td>0.387097</td>\n",
       "      <td>0.375000</td>\n",
       "      <td>0.629630</td>\n",
       "      <td>21</td>\n",
       "      <td>15</td>\n",
       "      <td>12</td>\n",
       "      <td>10</td>\n",
       "      <td>1</td>\n",
       "      <td>7</td>\n",
       "      <td>14</td>\n",
       "    </tr>\n",
       "  </tbody>\n",
       "</table>\n",
       "</div>"
      ],
      "text/plain": [
       "   TeamID  Season  Score       FGP      FGP3       FTP  OR  DR  Ast  TO  Blk  \\\n",
       "0    1328    2003     62  0.415094  0.200000  0.727273  10  22    8  18    2   \n",
       "1    1393    2003     63  0.358209  0.250000  0.450000  20  25    7  12    6   \n",
       "2    1437    2003     61  0.301370  0.115385  0.608696  31  22    9  12    5   \n",
       "3    1457    2003     50  0.367347  0.272727  0.533333  17  20    9  19    3   \n",
       "4    1208    2003     71  0.387097  0.375000  0.629630  21  15   12  10    1   \n",
       "\n",
       "   Stl  PF  \n",
       "0    9  20  \n",
       "1    8  16  \n",
       "2    2  23  \n",
       "3    4  23  \n",
       "4    7  14  "
      ]
     },
     "execution_count": 35,
     "metadata": {},
     "output_type": "execute_result"
    }
   ],
   "source": [
    "df_LregseasonDets.head()"
   ]
  },
  {
   "cell_type": "code",
   "execution_count": 36,
   "id": "87611c12",
   "metadata": {
    "execution": {
     "iopub.execute_input": "2023-03-02T17:41:00.061655Z",
     "iopub.status.busy": "2023-03-02T17:41:00.061126Z",
     "iopub.status.idle": "2023-03-02T17:41:00.070172Z",
     "shell.execute_reply": "2023-03-02T17:41:00.068655Z"
    },
    "papermill": {
     "duration": 0.03644,
     "end_time": "2023-03-02T17:41:00.072967",
     "exception": false,
     "start_time": "2023-03-02T17:41:00.036527",
     "status": "completed"
    },
    "tags": []
   },
   "outputs": [
    {
     "data": {
      "text/plain": [
       "(106834, 13)"
      ]
     },
     "execution_count": 36,
     "metadata": {},
     "output_type": "execute_result"
    }
   ],
   "source": [
    "df_LregseasonDets.shape"
   ]
  },
  {
   "cell_type": "markdown",
   "id": "36bd0c02",
   "metadata": {
    "papermill": {
     "duration": 0.023904,
     "end_time": "2023-03-02T17:41:00.121863",
     "exception": false,
     "start_time": "2023-03-02T17:41:00.097959",
     "status": "completed"
    },
    "tags": []
   },
   "source": [
    "Concatenate df_WregseasonDets and df_LregseasonDets together."
   ]
  },
  {
   "cell_type": "code",
   "execution_count": 37,
   "id": "b43e6ce6",
   "metadata": {
    "execution": {
     "iopub.execute_input": "2023-03-02T17:41:00.172658Z",
     "iopub.status.busy": "2023-03-02T17:41:00.172148Z",
     "iopub.status.idle": "2023-03-02T17:41:00.201952Z",
     "shell.execute_reply": "2023-03-02T17:41:00.200420Z"
    },
    "papermill": {
     "duration": 0.059963,
     "end_time": "2023-03-02T17:41:00.205248",
     "exception": false,
     "start_time": "2023-03-02T17:41:00.145285",
     "status": "completed"
    },
    "tags": []
   },
   "outputs": [],
   "source": [
    "df_regseasonDets_teams = pd.DataFrame()\n",
    "df_regseasonDets_teams = pd.concat([df_WregseasonDets, df_LregseasonDets])"
   ]
  },
  {
   "cell_type": "code",
   "execution_count": 38,
   "id": "625adcf8",
   "metadata": {
    "execution": {
     "iopub.execute_input": "2023-03-02T17:41:00.254733Z",
     "iopub.status.busy": "2023-03-02T17:41:00.253534Z",
     "iopub.status.idle": "2023-03-02T17:41:00.261779Z",
     "shell.execute_reply": "2023-03-02T17:41:00.260423Z"
    },
    "papermill": {
     "duration": 0.035758,
     "end_time": "2023-03-02T17:41:00.264690",
     "exception": false,
     "start_time": "2023-03-02T17:41:00.228932",
     "status": "completed"
    },
    "tags": []
   },
   "outputs": [
    {
     "data": {
      "text/plain": [
       "(213668, 13)"
      ]
     },
     "execution_count": 38,
     "metadata": {},
     "output_type": "execute_result"
    }
   ],
   "source": [
    "df_regseasonDets_teams.shape"
   ]
  },
  {
   "cell_type": "code",
   "execution_count": 39,
   "id": "5cf199e5",
   "metadata": {
    "execution": {
     "iopub.execute_input": "2023-03-02T17:41:00.315956Z",
     "iopub.status.busy": "2023-03-02T17:41:00.314819Z",
     "iopub.status.idle": "2023-03-02T17:41:00.331097Z",
     "shell.execute_reply": "2023-03-02T17:41:00.330097Z"
    },
    "papermill": {
     "duration": 0.04527,
     "end_time": "2023-03-02T17:41:00.333817",
     "exception": false,
     "start_time": "2023-03-02T17:41:00.288547",
     "status": "completed"
    },
    "tags": []
   },
   "outputs": [
    {
     "data": {
      "text/html": [
       "<div>\n",
       "<style scoped>\n",
       "    .dataframe tbody tr th:only-of-type {\n",
       "        vertical-align: middle;\n",
       "    }\n",
       "\n",
       "    .dataframe tbody tr th {\n",
       "        vertical-align: top;\n",
       "    }\n",
       "\n",
       "    .dataframe thead th {\n",
       "        text-align: right;\n",
       "    }\n",
       "</style>\n",
       "<table border=\"1\" class=\"dataframe\">\n",
       "  <thead>\n",
       "    <tr style=\"text-align: right;\">\n",
       "      <th></th>\n",
       "      <th>TeamID</th>\n",
       "      <th>Season</th>\n",
       "      <th>Score</th>\n",
       "      <th>FGP</th>\n",
       "      <th>FGP3</th>\n",
       "      <th>FTP</th>\n",
       "      <th>OR</th>\n",
       "      <th>DR</th>\n",
       "      <th>Ast</th>\n",
       "      <th>TO</th>\n",
       "      <th>Blk</th>\n",
       "      <th>Stl</th>\n",
       "      <th>PF</th>\n",
       "    </tr>\n",
       "  </thead>\n",
       "  <tbody>\n",
       "    <tr>\n",
       "      <th>0</th>\n",
       "      <td>1104</td>\n",
       "      <td>2003</td>\n",
       "      <td>68</td>\n",
       "      <td>0.465517</td>\n",
       "      <td>0.214286</td>\n",
       "      <td>0.611111</td>\n",
       "      <td>14</td>\n",
       "      <td>24</td>\n",
       "      <td>13</td>\n",
       "      <td>23</td>\n",
       "      <td>1</td>\n",
       "      <td>7</td>\n",
       "      <td>22</td>\n",
       "    </tr>\n",
       "    <tr>\n",
       "      <th>1</th>\n",
       "      <td>1272</td>\n",
       "      <td>2003</td>\n",
       "      <td>70</td>\n",
       "      <td>0.419355</td>\n",
       "      <td>0.400000</td>\n",
       "      <td>0.526316</td>\n",
       "      <td>15</td>\n",
       "      <td>28</td>\n",
       "      <td>16</td>\n",
       "      <td>13</td>\n",
       "      <td>4</td>\n",
       "      <td>4</td>\n",
       "      <td>18</td>\n",
       "    </tr>\n",
       "    <tr>\n",
       "      <th>2</th>\n",
       "      <td>1266</td>\n",
       "      <td>2003</td>\n",
       "      <td>73</td>\n",
       "      <td>0.413793</td>\n",
       "      <td>0.444444</td>\n",
       "      <td>0.586207</td>\n",
       "      <td>17</td>\n",
       "      <td>26</td>\n",
       "      <td>15</td>\n",
       "      <td>10</td>\n",
       "      <td>2</td>\n",
       "      <td>5</td>\n",
       "      <td>25</td>\n",
       "    </tr>\n",
       "    <tr>\n",
       "      <th>3</th>\n",
       "      <td>1296</td>\n",
       "      <td>2003</td>\n",
       "      <td>56</td>\n",
       "      <td>0.473684</td>\n",
       "      <td>0.333333</td>\n",
       "      <td>0.548387</td>\n",
       "      <td>6</td>\n",
       "      <td>19</td>\n",
       "      <td>11</td>\n",
       "      <td>12</td>\n",
       "      <td>2</td>\n",
       "      <td>14</td>\n",
       "      <td>18</td>\n",
       "    </tr>\n",
       "    <tr>\n",
       "      <th>4</th>\n",
       "      <td>1400</td>\n",
       "      <td>2003</td>\n",
       "      <td>77</td>\n",
       "      <td>0.491803</td>\n",
       "      <td>0.428571</td>\n",
       "      <td>0.846154</td>\n",
       "      <td>17</td>\n",
       "      <td>22</td>\n",
       "      <td>12</td>\n",
       "      <td>14</td>\n",
       "      <td>4</td>\n",
       "      <td>4</td>\n",
       "      <td>20</td>\n",
       "    </tr>\n",
       "  </tbody>\n",
       "</table>\n",
       "</div>"
      ],
      "text/plain": [
       "   TeamID  Season  Score       FGP      FGP3       FTP  OR  DR  Ast  TO  Blk  \\\n",
       "0    1104    2003     68  0.465517  0.214286  0.611111  14  24   13  23    1   \n",
       "1    1272    2003     70  0.419355  0.400000  0.526316  15  28   16  13    4   \n",
       "2    1266    2003     73  0.413793  0.444444  0.586207  17  26   15  10    2   \n",
       "3    1296    2003     56  0.473684  0.333333  0.548387   6  19   11  12    2   \n",
       "4    1400    2003     77  0.491803  0.428571  0.846154  17  22   12  14    4   \n",
       "\n",
       "   Stl  PF  \n",
       "0    7  22  \n",
       "1    4  18  \n",
       "2    5  25  \n",
       "3   14  18  \n",
       "4    4  20  "
      ]
     },
     "execution_count": 39,
     "metadata": {},
     "output_type": "execute_result"
    }
   ],
   "source": [
    "df_regseasonDets_teams.head()"
   ]
  },
  {
   "cell_type": "markdown",
   "id": "2e5abf3d",
   "metadata": {
    "papermill": {
     "duration": 0.023146,
     "end_time": "2023-03-02T17:41:00.380572",
     "exception": false,
     "start_time": "2023-03-02T17:41:00.357426",
     "status": "completed"
    },
    "tags": []
   },
   "source": [
    "Take the averages by team and season."
   ]
  },
  {
   "cell_type": "code",
   "execution_count": 40,
   "id": "1fdb04bc",
   "metadata": {
    "execution": {
     "iopub.execute_input": "2023-03-02T17:41:00.434787Z",
     "iopub.status.busy": "2023-03-02T17:41:00.432948Z",
     "iopub.status.idle": "2023-03-02T17:41:00.526393Z",
     "shell.execute_reply": "2023-03-02T17:41:00.525237Z"
    },
    "papermill": {
     "duration": 0.124548,
     "end_time": "2023-03-02T17:41:00.528981",
     "exception": false,
     "start_time": "2023-03-02T17:41:00.404433",
     "status": "completed"
    },
    "tags": []
   },
   "outputs": [
    {
     "data": {
      "text/html": [
       "<div>\n",
       "<style scoped>\n",
       "    .dataframe tbody tr th:only-of-type {\n",
       "        vertical-align: middle;\n",
       "    }\n",
       "\n",
       "    .dataframe tbody tr th {\n",
       "        vertical-align: top;\n",
       "    }\n",
       "\n",
       "    .dataframe thead th {\n",
       "        text-align: right;\n",
       "    }\n",
       "</style>\n",
       "<table border=\"1\" class=\"dataframe\">\n",
       "  <thead>\n",
       "    <tr style=\"text-align: right;\">\n",
       "      <th></th>\n",
       "      <th></th>\n",
       "      <th>Score</th>\n",
       "      <th>FGP</th>\n",
       "      <th>FGP3</th>\n",
       "      <th>FTP</th>\n",
       "      <th>OR</th>\n",
       "      <th>DR</th>\n",
       "      <th>Ast</th>\n",
       "      <th>TO</th>\n",
       "      <th>Stl</th>\n",
       "      <th>Blk</th>\n",
       "      <th>PF</th>\n",
       "    </tr>\n",
       "    <tr>\n",
       "      <th>Season</th>\n",
       "      <th>TeamID</th>\n",
       "      <th></th>\n",
       "      <th></th>\n",
       "      <th></th>\n",
       "      <th></th>\n",
       "      <th></th>\n",
       "      <th></th>\n",
       "      <th></th>\n",
       "      <th></th>\n",
       "      <th></th>\n",
       "      <th></th>\n",
       "      <th></th>\n",
       "    </tr>\n",
       "  </thead>\n",
       "  <tbody>\n",
       "    <tr>\n",
       "      <th rowspan=\"5\" valign=\"top\">2003</th>\n",
       "      <th>1102</th>\n",
       "      <td>57.250000</td>\n",
       "      <td>0.486149</td>\n",
       "      <td>0.367637</td>\n",
       "      <td>0.642402</td>\n",
       "      <td>4.178571</td>\n",
       "      <td>16.821429</td>\n",
       "      <td>13.000000</td>\n",
       "      <td>11.428571</td>\n",
       "      <td>5.964286</td>\n",
       "      <td>1.785714</td>\n",
       "      <td>18.750000</td>\n",
       "    </tr>\n",
       "    <tr>\n",
       "      <th>1103</th>\n",
       "      <td>78.777778</td>\n",
       "      <td>0.487294</td>\n",
       "      <td>0.331990</td>\n",
       "      <td>0.735271</td>\n",
       "      <td>9.777778</td>\n",
       "      <td>19.925926</td>\n",
       "      <td>15.222222</td>\n",
       "      <td>12.629630</td>\n",
       "      <td>7.259259</td>\n",
       "      <td>2.333333</td>\n",
       "      <td>19.851852</td>\n",
       "    </tr>\n",
       "    <tr>\n",
       "      <th>1104</th>\n",
       "      <td>69.285714</td>\n",
       "      <td>0.419676</td>\n",
       "      <td>0.325442</td>\n",
       "      <td>0.705168</td>\n",
       "      <td>13.571429</td>\n",
       "      <td>23.928571</td>\n",
       "      <td>12.107143</td>\n",
       "      <td>13.285714</td>\n",
       "      <td>6.607143</td>\n",
       "      <td>3.785714</td>\n",
       "      <td>18.035714</td>\n",
       "    </tr>\n",
       "    <tr>\n",
       "      <th>1105</th>\n",
       "      <td>71.769231</td>\n",
       "      <td>0.396204</td>\n",
       "      <td>0.359630</td>\n",
       "      <td>0.709598</td>\n",
       "      <td>13.500000</td>\n",
       "      <td>23.115385</td>\n",
       "      <td>14.538462</td>\n",
       "      <td>18.653846</td>\n",
       "      <td>9.307692</td>\n",
       "      <td>2.076923</td>\n",
       "      <td>20.230769</td>\n",
       "    </tr>\n",
       "    <tr>\n",
       "      <th>1106</th>\n",
       "      <td>63.607143</td>\n",
       "      <td>0.425530</td>\n",
       "      <td>0.350196</td>\n",
       "      <td>0.623158</td>\n",
       "      <td>12.285714</td>\n",
       "      <td>23.857143</td>\n",
       "      <td>11.678571</td>\n",
       "      <td>17.035714</td>\n",
       "      <td>8.357143</td>\n",
       "      <td>3.142857</td>\n",
       "      <td>18.178571</td>\n",
       "    </tr>\n",
       "  </tbody>\n",
       "</table>\n",
       "</div>"
      ],
      "text/plain": [
       "                   Score       FGP      FGP3       FTP         OR         DR  \\\n",
       "Season TeamID                                                                  \n",
       "2003   1102    57.250000  0.486149  0.367637  0.642402   4.178571  16.821429   \n",
       "       1103    78.777778  0.487294  0.331990  0.735271   9.777778  19.925926   \n",
       "       1104    69.285714  0.419676  0.325442  0.705168  13.571429  23.928571   \n",
       "       1105    71.769231  0.396204  0.359630  0.709598  13.500000  23.115385   \n",
       "       1106    63.607143  0.425530  0.350196  0.623158  12.285714  23.857143   \n",
       "\n",
       "                     Ast         TO       Stl       Blk         PF  \n",
       "Season TeamID                                                       \n",
       "2003   1102    13.000000  11.428571  5.964286  1.785714  18.750000  \n",
       "       1103    15.222222  12.629630  7.259259  2.333333  19.851852  \n",
       "       1104    12.107143  13.285714  6.607143  3.785714  18.035714  \n",
       "       1105    14.538462  18.653846  9.307692  2.076923  20.230769  \n",
       "       1106    11.678571  17.035714  8.357143  3.142857  18.178571  "
      ]
     },
     "execution_count": 40,
     "metadata": {},
     "output_type": "execute_result"
    }
   ],
   "source": [
    "df = df_regseasonDets_teams.groupby(['Season','TeamID']).agg({'Score':'mean','FGP':'mean',\n",
    "                                                       'FGP3':'mean','FTP':'mean',\n",
    "                                                       'OR':'mean','DR':'mean','Ast':'mean',\n",
    "                                                      'TO':'mean','Stl':'mean','Blk':'mean',\n",
    "                                                      'PF':'mean'})\n",
    "df.head()"
   ]
  },
  {
   "cell_type": "code",
   "execution_count": 41,
   "id": "340e8f33",
   "metadata": {
    "execution": {
     "iopub.execute_input": "2023-03-02T17:41:00.579423Z",
     "iopub.status.busy": "2023-03-02T17:41:00.578859Z",
     "iopub.status.idle": "2023-03-02T17:41:00.587135Z",
     "shell.execute_reply": "2023-03-02T17:41:00.585635Z"
    },
    "papermill": {
     "duration": 0.03766,
     "end_time": "2023-03-02T17:41:00.590371",
     "exception": false,
     "start_time": "2023-03-02T17:41:00.552711",
     "status": "completed"
    },
    "tags": []
   },
   "outputs": [
    {
     "data": {
      "text/plain": [
       "(7255, 11)"
      ]
     },
     "execution_count": 41,
     "metadata": {},
     "output_type": "execute_result"
    }
   ],
   "source": [
    "df.shape"
   ]
  },
  {
   "cell_type": "markdown",
   "id": "d1ffcdc5",
   "metadata": {
    "papermill": {
     "duration": 0.024577,
     "end_time": "2023-03-02T17:41:00.640003",
     "exception": false,
     "start_time": "2023-03-02T17:41:00.615426",
     "status": "completed"
    },
    "tags": []
   },
   "source": [
    "I would also like to add the rankings before the tournament. This is day 133."
   ]
  },
  {
   "cell_type": "code",
   "execution_count": 42,
   "id": "cefc949f",
   "metadata": {
    "execution": {
     "iopub.execute_input": "2023-03-02T17:41:00.690613Z",
     "iopub.status.busy": "2023-03-02T17:41:00.690019Z",
     "iopub.status.idle": "2023-03-02T17:41:00.702953Z",
     "shell.execute_reply": "2023-03-02T17:41:00.701477Z"
    },
    "papermill": {
     "duration": 0.041422,
     "end_time": "2023-03-02T17:41:00.706021",
     "exception": false,
     "start_time": "2023-03-02T17:41:00.664599",
     "status": "completed"
    },
    "tags": []
   },
   "outputs": [
    {
     "data": {
      "text/html": [
       "<div>\n",
       "<style scoped>\n",
       "    .dataframe tbody tr th:only-of-type {\n",
       "        vertical-align: middle;\n",
       "    }\n",
       "\n",
       "    .dataframe tbody tr th {\n",
       "        vertical-align: top;\n",
       "    }\n",
       "\n",
       "    .dataframe thead th {\n",
       "        text-align: right;\n",
       "    }\n",
       "</style>\n",
       "<table border=\"1\" class=\"dataframe\">\n",
       "  <thead>\n",
       "    <tr style=\"text-align: right;\">\n",
       "      <th></th>\n",
       "      <th>Season</th>\n",
       "      <th>RankingDayNum</th>\n",
       "      <th>SystemName</th>\n",
       "      <th>TeamID</th>\n",
       "      <th>OrdinalRank</th>\n",
       "    </tr>\n",
       "  </thead>\n",
       "  <tbody>\n",
       "    <tr>\n",
       "      <th>0</th>\n",
       "      <td>2003</td>\n",
       "      <td>35</td>\n",
       "      <td>SEL</td>\n",
       "      <td>1102</td>\n",
       "      <td>159</td>\n",
       "    </tr>\n",
       "    <tr>\n",
       "      <th>1</th>\n",
       "      <td>2003</td>\n",
       "      <td>35</td>\n",
       "      <td>SEL</td>\n",
       "      <td>1103</td>\n",
       "      <td>229</td>\n",
       "    </tr>\n",
       "    <tr>\n",
       "      <th>2</th>\n",
       "      <td>2003</td>\n",
       "      <td>35</td>\n",
       "      <td>SEL</td>\n",
       "      <td>1104</td>\n",
       "      <td>12</td>\n",
       "    </tr>\n",
       "    <tr>\n",
       "      <th>3</th>\n",
       "      <td>2003</td>\n",
       "      <td>35</td>\n",
       "      <td>SEL</td>\n",
       "      <td>1105</td>\n",
       "      <td>314</td>\n",
       "    </tr>\n",
       "    <tr>\n",
       "      <th>4</th>\n",
       "      <td>2003</td>\n",
       "      <td>35</td>\n",
       "      <td>SEL</td>\n",
       "      <td>1106</td>\n",
       "      <td>260</td>\n",
       "    </tr>\n",
       "  </tbody>\n",
       "</table>\n",
       "</div>"
      ],
      "text/plain": [
       "   Season  RankingDayNum SystemName  TeamID  OrdinalRank\n",
       "0    2003             35        SEL    1102          159\n",
       "1    2003             35        SEL    1103          229\n",
       "2    2003             35        SEL    1104           12\n",
       "3    2003             35        SEL    1105          314\n",
       "4    2003             35        SEL    1106          260"
      ]
     },
     "execution_count": 42,
     "metadata": {},
     "output_type": "execute_result"
    }
   ],
   "source": [
    "df_rankings.head()"
   ]
  },
  {
   "cell_type": "code",
   "execution_count": 43,
   "id": "609ce136",
   "metadata": {
    "execution": {
     "iopub.execute_input": "2023-03-02T17:41:00.757178Z",
     "iopub.status.busy": "2023-03-02T17:41:00.756622Z",
     "iopub.status.idle": "2023-03-02T17:41:00.768192Z",
     "shell.execute_reply": "2023-03-02T17:41:00.767061Z"
    },
    "papermill": {
     "duration": 0.04078,
     "end_time": "2023-03-02T17:41:00.771004",
     "exception": false,
     "start_time": "2023-03-02T17:41:00.730224",
     "status": "completed"
    },
    "tags": []
   },
   "outputs": [],
   "source": [
    "last_day = df_rankings['RankingDayNum']==133"
   ]
  },
  {
   "cell_type": "code",
   "execution_count": 44,
   "id": "99bb54a5",
   "metadata": {
    "execution": {
     "iopub.execute_input": "2023-03-02T17:41:00.822769Z",
     "iopub.status.busy": "2023-03-02T17:41:00.821222Z",
     "iopub.status.idle": "2023-03-02T17:41:00.863953Z",
     "shell.execute_reply": "2023-03-02T17:41:00.862443Z"
    },
    "papermill": {
     "duration": 0.071647,
     "end_time": "2023-03-02T17:41:00.867322",
     "exception": false,
     "start_time": "2023-03-02T17:41:00.795675",
     "status": "completed"
    },
    "tags": []
   },
   "outputs": [],
   "source": [
    "df_rankings_last = df_rankings[last_day]"
   ]
  },
  {
   "cell_type": "code",
   "execution_count": 45,
   "id": "6c8788de",
   "metadata": {
    "execution": {
     "iopub.execute_input": "2023-03-02T17:41:00.918039Z",
     "iopub.status.busy": "2023-03-02T17:41:00.917561Z",
     "iopub.status.idle": "2023-03-02T17:41:00.931070Z",
     "shell.execute_reply": "2023-03-02T17:41:00.929645Z"
    },
    "papermill": {
     "duration": 0.04284,
     "end_time": "2023-03-02T17:41:00.934037",
     "exception": false,
     "start_time": "2023-03-02T17:41:00.891197",
     "status": "completed"
    },
    "tags": []
   },
   "outputs": [
    {
     "data": {
      "text/html": [
       "<div>\n",
       "<style scoped>\n",
       "    .dataframe tbody tr th:only-of-type {\n",
       "        vertical-align: middle;\n",
       "    }\n",
       "\n",
       "    .dataframe tbody tr th {\n",
       "        vertical-align: top;\n",
       "    }\n",
       "\n",
       "    .dataframe thead th {\n",
       "        text-align: right;\n",
       "    }\n",
       "</style>\n",
       "<table border=\"1\" class=\"dataframe\">\n",
       "  <thead>\n",
       "    <tr style=\"text-align: right;\">\n",
       "      <th></th>\n",
       "      <th>Season</th>\n",
       "      <th>RankingDayNum</th>\n",
       "      <th>SystemName</th>\n",
       "      <th>TeamID</th>\n",
       "      <th>OrdinalRank</th>\n",
       "    </tr>\n",
       "  </thead>\n",
       "  <tbody>\n",
       "    <tr>\n",
       "      <th>121021</th>\n",
       "      <td>2003</td>\n",
       "      <td>133</td>\n",
       "      <td>AP</td>\n",
       "      <td>1112</td>\n",
       "      <td>2</td>\n",
       "    </tr>\n",
       "    <tr>\n",
       "      <th>121022</th>\n",
       "      <td>2003</td>\n",
       "      <td>133</td>\n",
       "      <td>AP</td>\n",
       "      <td>1163</td>\n",
       "      <td>23</td>\n",
       "    </tr>\n",
       "    <tr>\n",
       "      <th>121023</th>\n",
       "      <td>2003</td>\n",
       "      <td>133</td>\n",
       "      <td>AP</td>\n",
       "      <td>1166</td>\n",
       "      <td>15</td>\n",
       "    </tr>\n",
       "    <tr>\n",
       "      <th>121024</th>\n",
       "      <td>2003</td>\n",
       "      <td>133</td>\n",
       "      <td>AP</td>\n",
       "      <td>1173</td>\n",
       "      <td>16</td>\n",
       "    </tr>\n",
       "    <tr>\n",
       "      <th>121025</th>\n",
       "      <td>2003</td>\n",
       "      <td>133</td>\n",
       "      <td>AP</td>\n",
       "      <td>1181</td>\n",
       "      <td>7</td>\n",
       "    </tr>\n",
       "  </tbody>\n",
       "</table>\n",
       "</div>"
      ],
      "text/plain": [
       "        Season  RankingDayNum SystemName  TeamID  OrdinalRank\n",
       "121021    2003            133         AP    1112            2\n",
       "121022    2003            133         AP    1163           23\n",
       "121023    2003            133         AP    1166           15\n",
       "121024    2003            133         AP    1173           16\n",
       "121025    2003            133         AP    1181            7"
      ]
     },
     "execution_count": 45,
     "metadata": {},
     "output_type": "execute_result"
    }
   ],
   "source": [
    "df_rankings_last.head()"
   ]
  },
  {
   "cell_type": "code",
   "execution_count": 46,
   "id": "20e449d3",
   "metadata": {
    "execution": {
     "iopub.execute_input": "2023-03-02T17:41:00.985895Z",
     "iopub.status.busy": "2023-03-02T17:41:00.985408Z",
     "iopub.status.idle": "2023-03-02T17:41:01.020046Z",
     "shell.execute_reply": "2023-03-02T17:41:01.018384Z"
    },
    "papermill": {
     "duration": 0.064949,
     "end_time": "2023-03-02T17:41:01.023156",
     "exception": false,
     "start_time": "2023-03-02T17:41:00.958207",
     "status": "completed"
    },
    "tags": []
   },
   "outputs": [
    {
     "data": {
      "text/plain": [
       "array(['AP', 'ARG', 'BIH', 'BOB', 'BRZ', 'COL', 'DOL', 'DUN', 'DWH',\n",
       "       'ECK', 'ENT', 'ERD', 'GRN', 'GRS', 'HER', 'HOL', 'IMS', 'MAS',\n",
       "       'MKV', 'MOR', 'POM', 'RPI', 'RTH', 'SAG', 'SAU', 'SE', 'SEL',\n",
       "       'STR', 'TSR', 'USA', 'WLK', 'WOB', 'WOL', 'WTE', 'BD', 'CNG',\n",
       "       'DES', 'JON', 'LYN', 'MGY', 'NOR', 'REI', 'RM', 'SIM', 'ACU',\n",
       "       'BCM', 'CMV', 'DC', 'KLK', 'REN', 'RIS', 'ROH', 'SAP', 'SCR',\n",
       "       'WIL', 'DOK', 'JCI', 'KPK', 'MB', 'PH', 'PIG', 'PKL', 'TRX', 'CPR',\n",
       "       'ISR', 'KRA', 'LYD', 'RTR', 'UCS', 'BKM', 'CPA', 'JEN', 'PGH',\n",
       "       'REW', 'RSE', 'SPW', 'STH', 'BPI', 'DC2', 'DCI', 'HKB', 'LMC',\n",
       "       'NOL', 'OMY', 'RTB', 'KEL', 'KMV', 'RT', 'TW', 'AUS', 'KOS', 'PEQ',\n",
       "       'PTS', 'ROG', 'RTP', 'TMR', '7OT', 'ADE', 'BBT', 'BNM', 'BUR',\n",
       "       'CJB', 'CRO', 'EBP', 'HAT', 'MSX', 'SFX', 'TBD', 'BLS', 'D1A',\n",
       "       'DII', 'KBM', 'TPR', 'MvG', 'PPR', 'SP', 'SPR', 'STF', 'STS',\n",
       "       'TRP', 'UPS', 'WMR', 'BWE', 'LOG', 'TRK', 'DAV', 'FAS', 'FSH',\n",
       "       'HAS', 'HRN', 'KPI', 'MCL', 'CRW', 'DDB', 'ESR', 'FMG', 'HKS',\n",
       "       'INP', 'JNG', 'JRT', 'MUZ', 'OCT', 'PMC', 'PRR', 'RSL', 'SGR',\n",
       "       'SMN', 'SMS', 'YAG', 'ZAM', 'BNT', 'COX', 'JJK', 'LAB', 'MMG',\n",
       "       'STM', 'WMV', 'AWS', 'INC', 'LAW', 'LEF', 'MGS', 'NET', 'PIR',\n",
       "       'BNZ', 'CBR', 'CWL', 'EMK', 'FDM', 'KCX', 'RWP', 'SRS', 'ATP',\n",
       "       'BAR', 'OMN'], dtype=object)"
      ]
     },
     "execution_count": 46,
     "metadata": {},
     "output_type": "execute_result"
    }
   ],
   "source": [
    "df_rankings_last.SystemName.unique()"
   ]
  },
  {
   "cell_type": "markdown",
   "id": "a2409d67",
   "metadata": {
    "papermill": {
     "duration": 0.023662,
     "end_time": "2023-03-02T17:41:01.071222",
     "exception": false,
     "start_time": "2023-03-02T17:41:01.047560",
     "status": "completed"
    },
    "tags": []
   },
   "source": [
    "Ok there are a lot of ranking systems here and I definitely do not want all of them. So for each team and year let's take the mean. This might help to give us an idea of how each team is ranked. I might end up just taking the seed and not caring about the rank if I don't think this is helpful information. "
   ]
  },
  {
   "cell_type": "code",
   "execution_count": 47,
   "id": "1371edac",
   "metadata": {
    "execution": {
     "iopub.execute_input": "2023-03-02T17:41:01.121662Z",
     "iopub.status.busy": "2023-03-02T17:41:01.121190Z",
     "iopub.status.idle": "2023-03-02T17:41:01.174150Z",
     "shell.execute_reply": "2023-03-02T17:41:01.172850Z"
    },
    "papermill": {
     "duration": 0.082156,
     "end_time": "2023-03-02T17:41:01.177249",
     "exception": false,
     "start_time": "2023-03-02T17:41:01.095093",
     "status": "completed"
    },
    "tags": []
   },
   "outputs": [
    {
     "data": {
      "text/html": [
       "<div>\n",
       "<style scoped>\n",
       "    .dataframe tbody tr th:only-of-type {\n",
       "        vertical-align: middle;\n",
       "    }\n",
       "\n",
       "    .dataframe tbody tr th {\n",
       "        vertical-align: top;\n",
       "    }\n",
       "\n",
       "    .dataframe thead tr th {\n",
       "        text-align: left;\n",
       "    }\n",
       "\n",
       "    .dataframe thead tr:last-of-type th {\n",
       "        text-align: right;\n",
       "    }\n",
       "</style>\n",
       "<table border=\"1\" class=\"dataframe\">\n",
       "  <thead>\n",
       "    <tr>\n",
       "      <th></th>\n",
       "      <th></th>\n",
       "      <th>OrdinalRank</th>\n",
       "    </tr>\n",
       "    <tr>\n",
       "      <th></th>\n",
       "      <th></th>\n",
       "      <th>mean</th>\n",
       "    </tr>\n",
       "    <tr>\n",
       "      <th>Season</th>\n",
       "      <th>TeamID</th>\n",
       "      <th></th>\n",
       "    </tr>\n",
       "  </thead>\n",
       "  <tbody>\n",
       "    <tr>\n",
       "      <th rowspan=\"5\" valign=\"top\">2003</th>\n",
       "      <th>1102</th>\n",
       "      <td>156.03125</td>\n",
       "    </tr>\n",
       "    <tr>\n",
       "      <th>1103</th>\n",
       "      <td>168.00000</td>\n",
       "    </tr>\n",
       "    <tr>\n",
       "      <th>1104</th>\n",
       "      <td>38.03125</td>\n",
       "    </tr>\n",
       "    <tr>\n",
       "      <th>1105</th>\n",
       "      <td>308.96875</td>\n",
       "    </tr>\n",
       "    <tr>\n",
       "      <th>1106</th>\n",
       "      <td>262.68750</td>\n",
       "    </tr>\n",
       "  </tbody>\n",
       "</table>\n",
       "</div>"
      ],
      "text/plain": [
       "              OrdinalRank\n",
       "                     mean\n",
       "Season TeamID            \n",
       "2003   1102     156.03125\n",
       "       1103     168.00000\n",
       "       1104      38.03125\n",
       "       1105     308.96875\n",
       "       1106     262.68750"
      ]
     },
     "execution_count": 47,
     "metadata": {},
     "output_type": "execute_result"
    }
   ],
   "source": [
    "df_rankings_last_Ave  = df_rankings_last.groupby(['Season','TeamID']).agg({'OrdinalRank':['mean']})#,'RankMin':'min','RankMax':'max'})\n",
    "df_rankings_last_Ave.head()"
   ]
  },
  {
   "cell_type": "code",
   "execution_count": 48,
   "id": "5d350556",
   "metadata": {
    "execution": {
     "iopub.execute_input": "2023-03-02T17:41:01.229499Z",
     "iopub.status.busy": "2023-03-02T17:41:01.228965Z",
     "iopub.status.idle": "2023-03-02T17:41:01.237857Z",
     "shell.execute_reply": "2023-03-02T17:41:01.236469Z"
    },
    "papermill": {
     "duration": 0.039435,
     "end_time": "2023-03-02T17:41:01.241091",
     "exception": false,
     "start_time": "2023-03-02T17:41:01.201656",
     "status": "completed"
    },
    "tags": []
   },
   "outputs": [
    {
     "data": {
      "text/plain": [
       "(6538, 1)"
      ]
     },
     "execution_count": 48,
     "metadata": {},
     "output_type": "execute_result"
    }
   ],
   "source": [
    "df_rankings_last_Ave.shape"
   ]
  },
  {
   "cell_type": "code",
   "execution_count": 49,
   "id": "e917d14f",
   "metadata": {
    "execution": {
     "iopub.execute_input": "2023-03-02T17:41:01.294489Z",
     "iopub.status.busy": "2023-03-02T17:41:01.293912Z",
     "iopub.status.idle": "2023-03-02T17:41:01.334597Z",
     "shell.execute_reply": "2023-03-02T17:41:01.333433Z"
    },
    "papermill": {
     "duration": 0.071375,
     "end_time": "2023-03-02T17:41:01.337645",
     "exception": false,
     "start_time": "2023-03-02T17:41:01.266270",
     "status": "completed"
    },
    "tags": []
   },
   "outputs": [],
   "source": [
    "frames = [df,df_rankings_last_Ave]\n",
    "df = pd.concat(frames, axis=1)"
   ]
  },
  {
   "cell_type": "code",
   "execution_count": 50,
   "id": "d3658220",
   "metadata": {
    "execution": {
     "iopub.execute_input": "2023-03-02T17:41:01.389154Z",
     "iopub.status.busy": "2023-03-02T17:41:01.388638Z",
     "iopub.status.idle": "2023-03-02T17:41:01.411889Z",
     "shell.execute_reply": "2023-03-02T17:41:01.410476Z"
    },
    "papermill": {
     "duration": 0.052739,
     "end_time": "2023-03-02T17:41:01.415130",
     "exception": false,
     "start_time": "2023-03-02T17:41:01.362391",
     "status": "completed"
    },
    "tags": []
   },
   "outputs": [
    {
     "data": {
      "text/html": [
       "<div>\n",
       "<style scoped>\n",
       "    .dataframe tbody tr th:only-of-type {\n",
       "        vertical-align: middle;\n",
       "    }\n",
       "\n",
       "    .dataframe tbody tr th {\n",
       "        vertical-align: top;\n",
       "    }\n",
       "\n",
       "    .dataframe thead th {\n",
       "        text-align: right;\n",
       "    }\n",
       "</style>\n",
       "<table border=\"1\" class=\"dataframe\">\n",
       "  <thead>\n",
       "    <tr style=\"text-align: right;\">\n",
       "      <th></th>\n",
       "      <th></th>\n",
       "      <th>Score</th>\n",
       "      <th>FGP</th>\n",
       "      <th>FGP3</th>\n",
       "      <th>FTP</th>\n",
       "      <th>OR</th>\n",
       "      <th>DR</th>\n",
       "      <th>Ast</th>\n",
       "      <th>TO</th>\n",
       "      <th>Stl</th>\n",
       "      <th>Blk</th>\n",
       "      <th>PF</th>\n",
       "      <th>(OrdinalRank, mean)</th>\n",
       "    </tr>\n",
       "    <tr>\n",
       "      <th>Season</th>\n",
       "      <th>TeamID</th>\n",
       "      <th></th>\n",
       "      <th></th>\n",
       "      <th></th>\n",
       "      <th></th>\n",
       "      <th></th>\n",
       "      <th></th>\n",
       "      <th></th>\n",
       "      <th></th>\n",
       "      <th></th>\n",
       "      <th></th>\n",
       "      <th></th>\n",
       "      <th></th>\n",
       "    </tr>\n",
       "  </thead>\n",
       "  <tbody>\n",
       "    <tr>\n",
       "      <th rowspan=\"5\" valign=\"top\">2003</th>\n",
       "      <th>1102</th>\n",
       "      <td>57.250000</td>\n",
       "      <td>0.486149</td>\n",
       "      <td>0.367637</td>\n",
       "      <td>0.642402</td>\n",
       "      <td>4.178571</td>\n",
       "      <td>16.821429</td>\n",
       "      <td>13.000000</td>\n",
       "      <td>11.428571</td>\n",
       "      <td>5.964286</td>\n",
       "      <td>1.785714</td>\n",
       "      <td>18.750000</td>\n",
       "      <td>156.03125</td>\n",
       "    </tr>\n",
       "    <tr>\n",
       "      <th>1103</th>\n",
       "      <td>78.777778</td>\n",
       "      <td>0.487294</td>\n",
       "      <td>0.331990</td>\n",
       "      <td>0.735271</td>\n",
       "      <td>9.777778</td>\n",
       "      <td>19.925926</td>\n",
       "      <td>15.222222</td>\n",
       "      <td>12.629630</td>\n",
       "      <td>7.259259</td>\n",
       "      <td>2.333333</td>\n",
       "      <td>19.851852</td>\n",
       "      <td>168.00000</td>\n",
       "    </tr>\n",
       "    <tr>\n",
       "      <th>1104</th>\n",
       "      <td>69.285714</td>\n",
       "      <td>0.419676</td>\n",
       "      <td>0.325442</td>\n",
       "      <td>0.705168</td>\n",
       "      <td>13.571429</td>\n",
       "      <td>23.928571</td>\n",
       "      <td>12.107143</td>\n",
       "      <td>13.285714</td>\n",
       "      <td>6.607143</td>\n",
       "      <td>3.785714</td>\n",
       "      <td>18.035714</td>\n",
       "      <td>38.03125</td>\n",
       "    </tr>\n",
       "    <tr>\n",
       "      <th>1105</th>\n",
       "      <td>71.769231</td>\n",
       "      <td>0.396204</td>\n",
       "      <td>0.359630</td>\n",
       "      <td>0.709598</td>\n",
       "      <td>13.500000</td>\n",
       "      <td>23.115385</td>\n",
       "      <td>14.538462</td>\n",
       "      <td>18.653846</td>\n",
       "      <td>9.307692</td>\n",
       "      <td>2.076923</td>\n",
       "      <td>20.230769</td>\n",
       "      <td>308.96875</td>\n",
       "    </tr>\n",
       "    <tr>\n",
       "      <th>1106</th>\n",
       "      <td>63.607143</td>\n",
       "      <td>0.425530</td>\n",
       "      <td>0.350196</td>\n",
       "      <td>0.623158</td>\n",
       "      <td>12.285714</td>\n",
       "      <td>23.857143</td>\n",
       "      <td>11.678571</td>\n",
       "      <td>17.035714</td>\n",
       "      <td>8.357143</td>\n",
       "      <td>3.142857</td>\n",
       "      <td>18.178571</td>\n",
       "      <td>262.68750</td>\n",
       "    </tr>\n",
       "  </tbody>\n",
       "</table>\n",
       "</div>"
      ],
      "text/plain": [
       "                   Score       FGP      FGP3       FTP         OR         DR  \\\n",
       "Season TeamID                                                                  \n",
       "2003   1102    57.250000  0.486149  0.367637  0.642402   4.178571  16.821429   \n",
       "       1103    78.777778  0.487294  0.331990  0.735271   9.777778  19.925926   \n",
       "       1104    69.285714  0.419676  0.325442  0.705168  13.571429  23.928571   \n",
       "       1105    71.769231  0.396204  0.359630  0.709598  13.500000  23.115385   \n",
       "       1106    63.607143  0.425530  0.350196  0.623158  12.285714  23.857143   \n",
       "\n",
       "                     Ast         TO       Stl       Blk         PF  \\\n",
       "Season TeamID                                                        \n",
       "2003   1102    13.000000  11.428571  5.964286  1.785714  18.750000   \n",
       "       1103    15.222222  12.629630  7.259259  2.333333  19.851852   \n",
       "       1104    12.107143  13.285714  6.607143  3.785714  18.035714   \n",
       "       1105    14.538462  18.653846  9.307692  2.076923  20.230769   \n",
       "       1106    11.678571  17.035714  8.357143  3.142857  18.178571   \n",
       "\n",
       "               (OrdinalRank, mean)  \n",
       "Season TeamID                       \n",
       "2003   1102              156.03125  \n",
       "       1103              168.00000  \n",
       "       1104               38.03125  \n",
       "       1105              308.96875  \n",
       "       1106              262.68750  "
      ]
     },
     "execution_count": 50,
     "metadata": {},
     "output_type": "execute_result"
    }
   ],
   "source": [
    "df.head()"
   ]
  },
  {
   "cell_type": "markdown",
   "id": "5f238465",
   "metadata": {
    "papermill": {
     "duration": 0.025037,
     "end_time": "2023-03-02T17:41:01.465285",
     "exception": false,
     "start_time": "2023-03-02T17:41:01.440248",
     "status": "completed"
    },
    "tags": []
   },
   "source": [
    "I don't love this ranking column name so I'll just rename it rank. Remember this is the mean rank."
   ]
  },
  {
   "cell_type": "code",
   "execution_count": 51,
   "id": "071e3d18",
   "metadata": {
    "execution": {
     "iopub.execute_input": "2023-03-02T17:41:01.517649Z",
     "iopub.status.busy": "2023-03-02T17:41:01.517132Z",
     "iopub.status.idle": "2023-03-02T17:41:01.524963Z",
     "shell.execute_reply": "2023-03-02T17:41:01.523870Z"
    },
    "papermill": {
     "duration": 0.037012,
     "end_time": "2023-03-02T17:41:01.527644",
     "exception": false,
     "start_time": "2023-03-02T17:41:01.490632",
     "status": "completed"
    },
    "tags": []
   },
   "outputs": [
    {
     "data": {
      "text/plain": [
       "['Score',\n",
       " 'FGP',\n",
       " 'FGP3',\n",
       " 'FTP',\n",
       " 'OR',\n",
       " 'DR',\n",
       " 'Ast',\n",
       " 'TO',\n",
       " 'Stl',\n",
       " 'Blk',\n",
       " 'PF',\n",
       " ('OrdinalRank', 'mean')]"
      ]
     },
     "execution_count": 51,
     "metadata": {},
     "output_type": "execute_result"
    }
   ],
   "source": [
    "list(df.columns.values)"
   ]
  },
  {
   "cell_type": "code",
   "execution_count": 52,
   "id": "271ab96f",
   "metadata": {
    "execution": {
     "iopub.execute_input": "2023-03-02T17:41:01.583096Z",
     "iopub.status.busy": "2023-03-02T17:41:01.582297Z",
     "iopub.status.idle": "2023-03-02T17:41:01.589944Z",
     "shell.execute_reply": "2023-03-02T17:41:01.588492Z"
    },
    "papermill": {
     "duration": 0.039905,
     "end_time": "2023-03-02T17:41:01.593218",
     "exception": false,
     "start_time": "2023-03-02T17:41:01.553313",
     "status": "completed"
    },
    "tags": []
   },
   "outputs": [],
   "source": [
    "df.rename(columns = {('OrdinalRank', 'mean'):'Rank'}, inplace = True) "
   ]
  },
  {
   "cell_type": "code",
   "execution_count": 53,
   "id": "4084114a",
   "metadata": {
    "execution": {
     "iopub.execute_input": "2023-03-02T17:41:01.647247Z",
     "iopub.status.busy": "2023-03-02T17:41:01.646481Z",
     "iopub.status.idle": "2023-03-02T17:41:01.667381Z",
     "shell.execute_reply": "2023-03-02T17:41:01.666035Z"
    },
    "papermill": {
     "duration": 0.051289,
     "end_time": "2023-03-02T17:41:01.670232",
     "exception": false,
     "start_time": "2023-03-02T17:41:01.618943",
     "status": "completed"
    },
    "tags": []
   },
   "outputs": [
    {
     "data": {
      "text/html": [
       "<div>\n",
       "<style scoped>\n",
       "    .dataframe tbody tr th:only-of-type {\n",
       "        vertical-align: middle;\n",
       "    }\n",
       "\n",
       "    .dataframe tbody tr th {\n",
       "        vertical-align: top;\n",
       "    }\n",
       "\n",
       "    .dataframe thead th {\n",
       "        text-align: right;\n",
       "    }\n",
       "</style>\n",
       "<table border=\"1\" class=\"dataframe\">\n",
       "  <thead>\n",
       "    <tr style=\"text-align: right;\">\n",
       "      <th></th>\n",
       "      <th></th>\n",
       "      <th>Score</th>\n",
       "      <th>FGP</th>\n",
       "      <th>FGP3</th>\n",
       "      <th>FTP</th>\n",
       "      <th>OR</th>\n",
       "      <th>DR</th>\n",
       "      <th>Ast</th>\n",
       "      <th>TO</th>\n",
       "      <th>Stl</th>\n",
       "      <th>Blk</th>\n",
       "      <th>PF</th>\n",
       "      <th>Rank</th>\n",
       "    </tr>\n",
       "    <tr>\n",
       "      <th>Season</th>\n",
       "      <th>TeamID</th>\n",
       "      <th></th>\n",
       "      <th></th>\n",
       "      <th></th>\n",
       "      <th></th>\n",
       "      <th></th>\n",
       "      <th></th>\n",
       "      <th></th>\n",
       "      <th></th>\n",
       "      <th></th>\n",
       "      <th></th>\n",
       "      <th></th>\n",
       "      <th></th>\n",
       "    </tr>\n",
       "  </thead>\n",
       "  <tbody>\n",
       "    <tr>\n",
       "      <th rowspan=\"5\" valign=\"top\">2003</th>\n",
       "      <th>1102</th>\n",
       "      <td>57.250000</td>\n",
       "      <td>0.486149</td>\n",
       "      <td>0.367637</td>\n",
       "      <td>0.642402</td>\n",
       "      <td>4.178571</td>\n",
       "      <td>16.821429</td>\n",
       "      <td>13.000000</td>\n",
       "      <td>11.428571</td>\n",
       "      <td>5.964286</td>\n",
       "      <td>1.785714</td>\n",
       "      <td>18.750000</td>\n",
       "      <td>156.03125</td>\n",
       "    </tr>\n",
       "    <tr>\n",
       "      <th>1103</th>\n",
       "      <td>78.777778</td>\n",
       "      <td>0.487294</td>\n",
       "      <td>0.331990</td>\n",
       "      <td>0.735271</td>\n",
       "      <td>9.777778</td>\n",
       "      <td>19.925926</td>\n",
       "      <td>15.222222</td>\n",
       "      <td>12.629630</td>\n",
       "      <td>7.259259</td>\n",
       "      <td>2.333333</td>\n",
       "      <td>19.851852</td>\n",
       "      <td>168.00000</td>\n",
       "    </tr>\n",
       "    <tr>\n",
       "      <th>1104</th>\n",
       "      <td>69.285714</td>\n",
       "      <td>0.419676</td>\n",
       "      <td>0.325442</td>\n",
       "      <td>0.705168</td>\n",
       "      <td>13.571429</td>\n",
       "      <td>23.928571</td>\n",
       "      <td>12.107143</td>\n",
       "      <td>13.285714</td>\n",
       "      <td>6.607143</td>\n",
       "      <td>3.785714</td>\n",
       "      <td>18.035714</td>\n",
       "      <td>38.03125</td>\n",
       "    </tr>\n",
       "    <tr>\n",
       "      <th>1105</th>\n",
       "      <td>71.769231</td>\n",
       "      <td>0.396204</td>\n",
       "      <td>0.359630</td>\n",
       "      <td>0.709598</td>\n",
       "      <td>13.500000</td>\n",
       "      <td>23.115385</td>\n",
       "      <td>14.538462</td>\n",
       "      <td>18.653846</td>\n",
       "      <td>9.307692</td>\n",
       "      <td>2.076923</td>\n",
       "      <td>20.230769</td>\n",
       "      <td>308.96875</td>\n",
       "    </tr>\n",
       "    <tr>\n",
       "      <th>1106</th>\n",
       "      <td>63.607143</td>\n",
       "      <td>0.425530</td>\n",
       "      <td>0.350196</td>\n",
       "      <td>0.623158</td>\n",
       "      <td>12.285714</td>\n",
       "      <td>23.857143</td>\n",
       "      <td>11.678571</td>\n",
       "      <td>17.035714</td>\n",
       "      <td>8.357143</td>\n",
       "      <td>3.142857</td>\n",
       "      <td>18.178571</td>\n",
       "      <td>262.68750</td>\n",
       "    </tr>\n",
       "  </tbody>\n",
       "</table>\n",
       "</div>"
      ],
      "text/plain": [
       "                   Score       FGP      FGP3       FTP         OR         DR  \\\n",
       "Season TeamID                                                                  \n",
       "2003   1102    57.250000  0.486149  0.367637  0.642402   4.178571  16.821429   \n",
       "       1103    78.777778  0.487294  0.331990  0.735271   9.777778  19.925926   \n",
       "       1104    69.285714  0.419676  0.325442  0.705168  13.571429  23.928571   \n",
       "       1105    71.769231  0.396204  0.359630  0.709598  13.500000  23.115385   \n",
       "       1106    63.607143  0.425530  0.350196  0.623158  12.285714  23.857143   \n",
       "\n",
       "                     Ast         TO       Stl       Blk         PF       Rank  \n",
       "Season TeamID                                                                  \n",
       "2003   1102    13.000000  11.428571  5.964286  1.785714  18.750000  156.03125  \n",
       "       1103    15.222222  12.629630  7.259259  2.333333  19.851852  168.00000  \n",
       "       1104    12.107143  13.285714  6.607143  3.785714  18.035714   38.03125  \n",
       "       1105    14.538462  18.653846  9.307692  2.076923  20.230769  308.96875  \n",
       "       1106    11.678571  17.035714  8.357143  3.142857  18.178571  262.68750  "
      ]
     },
     "execution_count": 53,
     "metadata": {},
     "output_type": "execute_result"
    }
   ],
   "source": [
    "df.head()"
   ]
  },
  {
   "cell_type": "markdown",
   "id": "f779d2f2",
   "metadata": {
    "papermill": {
     "duration": 0.0251,
     "end_time": "2023-03-02T17:41:01.722346",
     "exception": false,
     "start_time": "2023-03-02T17:41:01.697246",
     "status": "completed"
    },
    "tags": []
   },
   "source": [
    "Right now Season and TeamID are indexes and it's kicking my ass so I'm going to make them columns. "
   ]
  },
  {
   "cell_type": "code",
   "execution_count": 54,
   "id": "58289f87",
   "metadata": {
    "execution": {
     "iopub.execute_input": "2023-03-02T17:41:01.775378Z",
     "iopub.status.busy": "2023-03-02T17:41:01.774643Z",
     "iopub.status.idle": "2023-03-02T17:41:01.781844Z",
     "shell.execute_reply": "2023-03-02T17:41:01.780417Z"
    },
    "papermill": {
     "duration": 0.037322,
     "end_time": "2023-03-02T17:41:01.784918",
     "exception": false,
     "start_time": "2023-03-02T17:41:01.747596",
     "status": "completed"
    },
    "tags": []
   },
   "outputs": [],
   "source": [
    "df.reset_index(inplace=True)"
   ]
  },
  {
   "cell_type": "code",
   "execution_count": 55,
   "id": "5e1eb50d",
   "metadata": {
    "execution": {
     "iopub.execute_input": "2023-03-02T17:41:01.838484Z",
     "iopub.status.busy": "2023-03-02T17:41:01.837929Z",
     "iopub.status.idle": "2023-03-02T17:41:01.859217Z",
     "shell.execute_reply": "2023-03-02T17:41:01.857619Z"
    },
    "papermill": {
     "duration": 0.05194,
     "end_time": "2023-03-02T17:41:01.862615",
     "exception": false,
     "start_time": "2023-03-02T17:41:01.810675",
     "status": "completed"
    },
    "tags": []
   },
   "outputs": [
    {
     "data": {
      "text/html": [
       "<div>\n",
       "<style scoped>\n",
       "    .dataframe tbody tr th:only-of-type {\n",
       "        vertical-align: middle;\n",
       "    }\n",
       "\n",
       "    .dataframe tbody tr th {\n",
       "        vertical-align: top;\n",
       "    }\n",
       "\n",
       "    .dataframe thead th {\n",
       "        text-align: right;\n",
       "    }\n",
       "</style>\n",
       "<table border=\"1\" class=\"dataframe\">\n",
       "  <thead>\n",
       "    <tr style=\"text-align: right;\">\n",
       "      <th></th>\n",
       "      <th>Season</th>\n",
       "      <th>TeamID</th>\n",
       "      <th>Score</th>\n",
       "      <th>FGP</th>\n",
       "      <th>FGP3</th>\n",
       "      <th>FTP</th>\n",
       "      <th>OR</th>\n",
       "      <th>DR</th>\n",
       "      <th>Ast</th>\n",
       "      <th>TO</th>\n",
       "      <th>Stl</th>\n",
       "      <th>Blk</th>\n",
       "      <th>PF</th>\n",
       "      <th>Rank</th>\n",
       "    </tr>\n",
       "  </thead>\n",
       "  <tbody>\n",
       "    <tr>\n",
       "      <th>0</th>\n",
       "      <td>2003</td>\n",
       "      <td>1102</td>\n",
       "      <td>57.250000</td>\n",
       "      <td>0.486149</td>\n",
       "      <td>0.367637</td>\n",
       "      <td>0.642402</td>\n",
       "      <td>4.178571</td>\n",
       "      <td>16.821429</td>\n",
       "      <td>13.000000</td>\n",
       "      <td>11.428571</td>\n",
       "      <td>5.964286</td>\n",
       "      <td>1.785714</td>\n",
       "      <td>18.750000</td>\n",
       "      <td>156.03125</td>\n",
       "    </tr>\n",
       "    <tr>\n",
       "      <th>1</th>\n",
       "      <td>2003</td>\n",
       "      <td>1103</td>\n",
       "      <td>78.777778</td>\n",
       "      <td>0.487294</td>\n",
       "      <td>0.331990</td>\n",
       "      <td>0.735271</td>\n",
       "      <td>9.777778</td>\n",
       "      <td>19.925926</td>\n",
       "      <td>15.222222</td>\n",
       "      <td>12.629630</td>\n",
       "      <td>7.259259</td>\n",
       "      <td>2.333333</td>\n",
       "      <td>19.851852</td>\n",
       "      <td>168.00000</td>\n",
       "    </tr>\n",
       "    <tr>\n",
       "      <th>2</th>\n",
       "      <td>2003</td>\n",
       "      <td>1104</td>\n",
       "      <td>69.285714</td>\n",
       "      <td>0.419676</td>\n",
       "      <td>0.325442</td>\n",
       "      <td>0.705168</td>\n",
       "      <td>13.571429</td>\n",
       "      <td>23.928571</td>\n",
       "      <td>12.107143</td>\n",
       "      <td>13.285714</td>\n",
       "      <td>6.607143</td>\n",
       "      <td>3.785714</td>\n",
       "      <td>18.035714</td>\n",
       "      <td>38.03125</td>\n",
       "    </tr>\n",
       "    <tr>\n",
       "      <th>3</th>\n",
       "      <td>2003</td>\n",
       "      <td>1105</td>\n",
       "      <td>71.769231</td>\n",
       "      <td>0.396204</td>\n",
       "      <td>0.359630</td>\n",
       "      <td>0.709598</td>\n",
       "      <td>13.500000</td>\n",
       "      <td>23.115385</td>\n",
       "      <td>14.538462</td>\n",
       "      <td>18.653846</td>\n",
       "      <td>9.307692</td>\n",
       "      <td>2.076923</td>\n",
       "      <td>20.230769</td>\n",
       "      <td>308.96875</td>\n",
       "    </tr>\n",
       "    <tr>\n",
       "      <th>4</th>\n",
       "      <td>2003</td>\n",
       "      <td>1106</td>\n",
       "      <td>63.607143</td>\n",
       "      <td>0.425530</td>\n",
       "      <td>0.350196</td>\n",
       "      <td>0.623158</td>\n",
       "      <td>12.285714</td>\n",
       "      <td>23.857143</td>\n",
       "      <td>11.678571</td>\n",
       "      <td>17.035714</td>\n",
       "      <td>8.357143</td>\n",
       "      <td>3.142857</td>\n",
       "      <td>18.178571</td>\n",
       "      <td>262.68750</td>\n",
       "    </tr>\n",
       "  </tbody>\n",
       "</table>\n",
       "</div>"
      ],
      "text/plain": [
       "   Season  TeamID      Score       FGP      FGP3       FTP         OR  \\\n",
       "0    2003    1102  57.250000  0.486149  0.367637  0.642402   4.178571   \n",
       "1    2003    1103  78.777778  0.487294  0.331990  0.735271   9.777778   \n",
       "2    2003    1104  69.285714  0.419676  0.325442  0.705168  13.571429   \n",
       "3    2003    1105  71.769231  0.396204  0.359630  0.709598  13.500000   \n",
       "4    2003    1106  63.607143  0.425530  0.350196  0.623158  12.285714   \n",
       "\n",
       "          DR        Ast         TO       Stl       Blk         PF       Rank  \n",
       "0  16.821429  13.000000  11.428571  5.964286  1.785714  18.750000  156.03125  \n",
       "1  19.925926  15.222222  12.629630  7.259259  2.333333  19.851852  168.00000  \n",
       "2  23.928571  12.107143  13.285714  6.607143  3.785714  18.035714   38.03125  \n",
       "3  23.115385  14.538462  18.653846  9.307692  2.076923  20.230769  308.96875  \n",
       "4  23.857143  11.678571  17.035714  8.357143  3.142857  18.178571  262.68750  "
      ]
     },
     "execution_count": 55,
     "metadata": {},
     "output_type": "execute_result"
    }
   ],
   "source": [
    "df.head()"
   ]
  },
  {
   "cell_type": "markdown",
   "id": "b8a6cfdc",
   "metadata": {
    "papermill": {
     "duration": 0.027612,
     "end_time": "2023-03-02T17:41:01.917214",
     "exception": false,
     "start_time": "2023-03-02T17:41:01.889602",
     "status": "completed"
    },
    "tags": []
   },
   "source": [
    "Now let's add the seed to our data. Since we only have regular season data from season 2002, we're going to only use seed data from then as well."
   ]
  },
  {
   "cell_type": "code",
   "execution_count": 56,
   "id": "2caa2ad6",
   "metadata": {
    "execution": {
     "iopub.execute_input": "2023-03-02T17:41:01.971482Z",
     "iopub.status.busy": "2023-03-02T17:41:01.970998Z",
     "iopub.status.idle": "2023-03-02T17:41:01.982870Z",
     "shell.execute_reply": "2023-03-02T17:41:01.981902Z"
    },
    "papermill": {
     "duration": 0.04239,
     "end_time": "2023-03-02T17:41:01.985517",
     "exception": false,
     "start_time": "2023-03-02T17:41:01.943127",
     "status": "completed"
    },
    "tags": []
   },
   "outputs": [
    {
     "data": {
      "text/html": [
       "<div>\n",
       "<style scoped>\n",
       "    .dataframe tbody tr th:only-of-type {\n",
       "        vertical-align: middle;\n",
       "    }\n",
       "\n",
       "    .dataframe tbody tr th {\n",
       "        vertical-align: top;\n",
       "    }\n",
       "\n",
       "    .dataframe thead th {\n",
       "        text-align: right;\n",
       "    }\n",
       "</style>\n",
       "<table border=\"1\" class=\"dataframe\">\n",
       "  <thead>\n",
       "    <tr style=\"text-align: right;\">\n",
       "      <th></th>\n",
       "      <th>Season</th>\n",
       "      <th>Seed</th>\n",
       "      <th>TeamID</th>\n",
       "    </tr>\n",
       "  </thead>\n",
       "  <tbody>\n",
       "    <tr>\n",
       "      <th>0</th>\n",
       "      <td>1985</td>\n",
       "      <td>W01</td>\n",
       "      <td>1207</td>\n",
       "    </tr>\n",
       "    <tr>\n",
       "      <th>1</th>\n",
       "      <td>1985</td>\n",
       "      <td>W02</td>\n",
       "      <td>1210</td>\n",
       "    </tr>\n",
       "    <tr>\n",
       "      <th>2</th>\n",
       "      <td>1985</td>\n",
       "      <td>W03</td>\n",
       "      <td>1228</td>\n",
       "    </tr>\n",
       "    <tr>\n",
       "      <th>3</th>\n",
       "      <td>1985</td>\n",
       "      <td>W04</td>\n",
       "      <td>1260</td>\n",
       "    </tr>\n",
       "    <tr>\n",
       "      <th>4</th>\n",
       "      <td>1985</td>\n",
       "      <td>W05</td>\n",
       "      <td>1374</td>\n",
       "    </tr>\n",
       "  </tbody>\n",
       "</table>\n",
       "</div>"
      ],
      "text/plain": [
       "   Season Seed  TeamID\n",
       "0    1985  W01    1207\n",
       "1    1985  W02    1210\n",
       "2    1985  W03    1228\n",
       "3    1985  W04    1260\n",
       "4    1985  W05    1374"
      ]
     },
     "execution_count": 56,
     "metadata": {},
     "output_type": "execute_result"
    }
   ],
   "source": [
    "df_seeds.head()"
   ]
  },
  {
   "cell_type": "code",
   "execution_count": 57,
   "id": "c0c1e410",
   "metadata": {
    "execution": {
     "iopub.execute_input": "2023-03-02T17:41:02.040295Z",
     "iopub.status.busy": "2023-03-02T17:41:02.039802Z",
     "iopub.status.idle": "2023-03-02T17:41:02.046590Z",
     "shell.execute_reply": "2023-03-02T17:41:02.045481Z"
    },
    "papermill": {
     "duration": 0.037,
     "end_time": "2023-03-02T17:41:02.048960",
     "exception": false,
     "start_time": "2023-03-02T17:41:02.011960",
     "status": "completed"
    },
    "tags": []
   },
   "outputs": [],
   "source": [
    "seeds_mask = df_seeds.Season>2002"
   ]
  },
  {
   "cell_type": "code",
   "execution_count": 58,
   "id": "0a0826ac",
   "metadata": {
    "execution": {
     "iopub.execute_input": "2023-03-02T17:41:02.102545Z",
     "iopub.status.busy": "2023-03-02T17:41:02.102006Z",
     "iopub.status.idle": "2023-03-02T17:41:02.108887Z",
     "shell.execute_reply": "2023-03-02T17:41:02.107456Z"
    },
    "papermill": {
     "duration": 0.037173,
     "end_time": "2023-03-02T17:41:02.111687",
     "exception": false,
     "start_time": "2023-03-02T17:41:02.074514",
     "status": "completed"
    },
    "tags": []
   },
   "outputs": [],
   "source": [
    "df_seeds2002 = df_seeds[seeds_mask]"
   ]
  },
  {
   "cell_type": "code",
   "execution_count": 59,
   "id": "3a2171c5",
   "metadata": {
    "execution": {
     "iopub.execute_input": "2023-03-02T17:41:02.168435Z",
     "iopub.status.busy": "2023-03-02T17:41:02.167874Z",
     "iopub.status.idle": "2023-03-02T17:41:02.187898Z",
     "shell.execute_reply": "2023-03-02T17:41:02.186329Z"
    },
    "papermill": {
     "duration": 0.053965,
     "end_time": "2023-03-02T17:41:02.191820",
     "exception": false,
     "start_time": "2023-03-02T17:41:02.137855",
     "status": "completed"
    },
    "tags": []
   },
   "outputs": [],
   "source": [
    "df = df.merge(df_seeds2002, how = 'inner', on = ['Season', 'TeamID'])"
   ]
  },
  {
   "cell_type": "code",
   "execution_count": 60,
   "id": "94dbda7a",
   "metadata": {
    "execution": {
     "iopub.execute_input": "2023-03-02T17:41:02.246776Z",
     "iopub.status.busy": "2023-03-02T17:41:02.246251Z",
     "iopub.status.idle": "2023-03-02T17:41:02.270278Z",
     "shell.execute_reply": "2023-03-02T17:41:02.268687Z"
    },
    "papermill": {
     "duration": 0.054782,
     "end_time": "2023-03-02T17:41:02.272943",
     "exception": false,
     "start_time": "2023-03-02T17:41:02.218161",
     "status": "completed"
    },
    "tags": []
   },
   "outputs": [
    {
     "data": {
      "text/html": [
       "<div>\n",
       "<style scoped>\n",
       "    .dataframe tbody tr th:only-of-type {\n",
       "        vertical-align: middle;\n",
       "    }\n",
       "\n",
       "    .dataframe tbody tr th {\n",
       "        vertical-align: top;\n",
       "    }\n",
       "\n",
       "    .dataframe thead th {\n",
       "        text-align: right;\n",
       "    }\n",
       "</style>\n",
       "<table border=\"1\" class=\"dataframe\">\n",
       "  <thead>\n",
       "    <tr style=\"text-align: right;\">\n",
       "      <th></th>\n",
       "      <th>Season</th>\n",
       "      <th>TeamID</th>\n",
       "      <th>Score</th>\n",
       "      <th>FGP</th>\n",
       "      <th>FGP3</th>\n",
       "      <th>FTP</th>\n",
       "      <th>OR</th>\n",
       "      <th>DR</th>\n",
       "      <th>Ast</th>\n",
       "      <th>TO</th>\n",
       "      <th>Stl</th>\n",
       "      <th>Blk</th>\n",
       "      <th>PF</th>\n",
       "      <th>Rank</th>\n",
       "      <th>Seed</th>\n",
       "    </tr>\n",
       "  </thead>\n",
       "  <tbody>\n",
       "    <tr>\n",
       "      <th>0</th>\n",
       "      <td>2003</td>\n",
       "      <td>1104</td>\n",
       "      <td>69.285714</td>\n",
       "      <td>0.419676</td>\n",
       "      <td>0.325442</td>\n",
       "      <td>0.705168</td>\n",
       "      <td>13.571429</td>\n",
       "      <td>23.928571</td>\n",
       "      <td>12.107143</td>\n",
       "      <td>13.285714</td>\n",
       "      <td>6.607143</td>\n",
       "      <td>3.785714</td>\n",
       "      <td>18.035714</td>\n",
       "      <td>38.031250</td>\n",
       "      <td>Y10</td>\n",
       "    </tr>\n",
       "    <tr>\n",
       "      <th>1</th>\n",
       "      <td>2003</td>\n",
       "      <td>1112</td>\n",
       "      <td>85.214286</td>\n",
       "      <td>0.463563</td>\n",
       "      <td>0.351060</td>\n",
       "      <td>0.701154</td>\n",
       "      <td>15.178571</td>\n",
       "      <td>27.642857</td>\n",
       "      <td>17.642857</td>\n",
       "      <td>14.785714</td>\n",
       "      <td>8.464286</td>\n",
       "      <td>4.214286</td>\n",
       "      <td>17.750000</td>\n",
       "      <td>2.676471</td>\n",
       "      <td>Z01</td>\n",
       "    </tr>\n",
       "    <tr>\n",
       "      <th>2</th>\n",
       "      <td>2003</td>\n",
       "      <td>1113</td>\n",
       "      <td>75.965517</td>\n",
       "      <td>0.481680</td>\n",
       "      <td>0.328376</td>\n",
       "      <td>0.675667</td>\n",
       "      <td>13.689655</td>\n",
       "      <td>23.310345</td>\n",
       "      <td>15.551724</td>\n",
       "      <td>14.000000</td>\n",
       "      <td>5.206897</td>\n",
       "      <td>4.241379</td>\n",
       "      <td>19.413793</td>\n",
       "      <td>36.000000</td>\n",
       "      <td>Z10</td>\n",
       "    </tr>\n",
       "    <tr>\n",
       "      <th>3</th>\n",
       "      <td>2003</td>\n",
       "      <td>1120</td>\n",
       "      <td>70.100000</td>\n",
       "      <td>0.470055</td>\n",
       "      <td>0.355662</td>\n",
       "      <td>0.652663</td>\n",
       "      <td>11.933333</td>\n",
       "      <td>22.566667</td>\n",
       "      <td>13.400000</td>\n",
       "      <td>15.900000</td>\n",
       "      <td>8.033333</td>\n",
       "      <td>4.966667</td>\n",
       "      <td>16.366667</td>\n",
       "      <td>43.937500</td>\n",
       "      <td>W10</td>\n",
       "    </tr>\n",
       "    <tr>\n",
       "      <th>4</th>\n",
       "      <td>2003</td>\n",
       "      <td>1122</td>\n",
       "      <td>69.703704</td>\n",
       "      <td>0.456810</td>\n",
       "      <td>0.353542</td>\n",
       "      <td>0.682295</td>\n",
       "      <td>10.629630</td>\n",
       "      <td>24.222222</td>\n",
       "      <td>13.407407</td>\n",
       "      <td>15.222222</td>\n",
       "      <td>7.037037</td>\n",
       "      <td>4.666667</td>\n",
       "      <td>18.666667</td>\n",
       "      <td>94.968750</td>\n",
       "      <td>W13</td>\n",
       "    </tr>\n",
       "  </tbody>\n",
       "</table>\n",
       "</div>"
      ],
      "text/plain": [
       "   Season  TeamID      Score       FGP      FGP3       FTP         OR  \\\n",
       "0    2003    1104  69.285714  0.419676  0.325442  0.705168  13.571429   \n",
       "1    2003    1112  85.214286  0.463563  0.351060  0.701154  15.178571   \n",
       "2    2003    1113  75.965517  0.481680  0.328376  0.675667  13.689655   \n",
       "3    2003    1120  70.100000  0.470055  0.355662  0.652663  11.933333   \n",
       "4    2003    1122  69.703704  0.456810  0.353542  0.682295  10.629630   \n",
       "\n",
       "          DR        Ast         TO       Stl       Blk         PF       Rank  \\\n",
       "0  23.928571  12.107143  13.285714  6.607143  3.785714  18.035714  38.031250   \n",
       "1  27.642857  17.642857  14.785714  8.464286  4.214286  17.750000   2.676471   \n",
       "2  23.310345  15.551724  14.000000  5.206897  4.241379  19.413793  36.000000   \n",
       "3  22.566667  13.400000  15.900000  8.033333  4.966667  16.366667  43.937500   \n",
       "4  24.222222  13.407407  15.222222  7.037037  4.666667  18.666667  94.968750   \n",
       "\n",
       "  Seed  \n",
       "0  Y10  \n",
       "1  Z01  \n",
       "2  Z10  \n",
       "3  W10  \n",
       "4  W13  "
      ]
     },
     "execution_count": 60,
     "metadata": {},
     "output_type": "execute_result"
    }
   ],
   "source": [
    "df.head()"
   ]
  },
  {
   "cell_type": "markdown",
   "id": "be5ff9c3",
   "metadata": {
    "papermill": {
     "duration": 0.025458,
     "end_time": "2023-03-02T17:41:02.324567",
     "exception": false,
     "start_time": "2023-03-02T17:41:02.299109",
     "status": "completed"
    },
    "tags": []
   },
   "source": [
    "Now that the seed is there, let's turn it into an integer by removing the region. I don't think we'll need the region data since we have the team IDs but if we do, I can always add it back in."
   ]
  },
  {
   "cell_type": "code",
   "execution_count": 61,
   "id": "cb4e9b7a",
   "metadata": {
    "execution": {
     "iopub.execute_input": "2023-03-02T17:41:02.379389Z",
     "iopub.status.busy": "2023-03-02T17:41:02.378892Z",
     "iopub.status.idle": "2023-03-02T17:41:02.388166Z",
     "shell.execute_reply": "2023-03-02T17:41:02.385978Z"
    },
    "papermill": {
     "duration": 0.041032,
     "end_time": "2023-03-02T17:41:02.391348",
     "exception": false,
     "start_time": "2023-03-02T17:41:02.350316",
     "status": "completed"
    },
    "tags": []
   },
   "outputs": [],
   "source": [
    "df['Seed'] = df['Seed'].str[1:]"
   ]
  },
  {
   "cell_type": "code",
   "execution_count": 62,
   "id": "a0cdd401",
   "metadata": {
    "execution": {
     "iopub.execute_input": "2023-03-02T17:41:02.446029Z",
     "iopub.status.busy": "2023-03-02T17:41:02.445549Z",
     "iopub.status.idle": "2023-03-02T17:41:02.467329Z",
     "shell.execute_reply": "2023-03-02T17:41:02.465405Z"
    },
    "papermill": {
     "duration": 0.052872,
     "end_time": "2023-03-02T17:41:02.470403",
     "exception": false,
     "start_time": "2023-03-02T17:41:02.417531",
     "status": "completed"
    },
    "tags": []
   },
   "outputs": [
    {
     "data": {
      "text/html": [
       "<div>\n",
       "<style scoped>\n",
       "    .dataframe tbody tr th:only-of-type {\n",
       "        vertical-align: middle;\n",
       "    }\n",
       "\n",
       "    .dataframe tbody tr th {\n",
       "        vertical-align: top;\n",
       "    }\n",
       "\n",
       "    .dataframe thead th {\n",
       "        text-align: right;\n",
       "    }\n",
       "</style>\n",
       "<table border=\"1\" class=\"dataframe\">\n",
       "  <thead>\n",
       "    <tr style=\"text-align: right;\">\n",
       "      <th></th>\n",
       "      <th>Season</th>\n",
       "      <th>TeamID</th>\n",
       "      <th>Score</th>\n",
       "      <th>FGP</th>\n",
       "      <th>FGP3</th>\n",
       "      <th>FTP</th>\n",
       "      <th>OR</th>\n",
       "      <th>DR</th>\n",
       "      <th>Ast</th>\n",
       "      <th>TO</th>\n",
       "      <th>Stl</th>\n",
       "      <th>Blk</th>\n",
       "      <th>PF</th>\n",
       "      <th>Rank</th>\n",
       "      <th>Seed</th>\n",
       "    </tr>\n",
       "  </thead>\n",
       "  <tbody>\n",
       "    <tr>\n",
       "      <th>0</th>\n",
       "      <td>2003</td>\n",
       "      <td>1104</td>\n",
       "      <td>69.285714</td>\n",
       "      <td>0.419676</td>\n",
       "      <td>0.325442</td>\n",
       "      <td>0.705168</td>\n",
       "      <td>13.571429</td>\n",
       "      <td>23.928571</td>\n",
       "      <td>12.107143</td>\n",
       "      <td>13.285714</td>\n",
       "      <td>6.607143</td>\n",
       "      <td>3.785714</td>\n",
       "      <td>18.035714</td>\n",
       "      <td>38.031250</td>\n",
       "      <td>10</td>\n",
       "    </tr>\n",
       "    <tr>\n",
       "      <th>1</th>\n",
       "      <td>2003</td>\n",
       "      <td>1112</td>\n",
       "      <td>85.214286</td>\n",
       "      <td>0.463563</td>\n",
       "      <td>0.351060</td>\n",
       "      <td>0.701154</td>\n",
       "      <td>15.178571</td>\n",
       "      <td>27.642857</td>\n",
       "      <td>17.642857</td>\n",
       "      <td>14.785714</td>\n",
       "      <td>8.464286</td>\n",
       "      <td>4.214286</td>\n",
       "      <td>17.750000</td>\n",
       "      <td>2.676471</td>\n",
       "      <td>01</td>\n",
       "    </tr>\n",
       "    <tr>\n",
       "      <th>2</th>\n",
       "      <td>2003</td>\n",
       "      <td>1113</td>\n",
       "      <td>75.965517</td>\n",
       "      <td>0.481680</td>\n",
       "      <td>0.328376</td>\n",
       "      <td>0.675667</td>\n",
       "      <td>13.689655</td>\n",
       "      <td>23.310345</td>\n",
       "      <td>15.551724</td>\n",
       "      <td>14.000000</td>\n",
       "      <td>5.206897</td>\n",
       "      <td>4.241379</td>\n",
       "      <td>19.413793</td>\n",
       "      <td>36.000000</td>\n",
       "      <td>10</td>\n",
       "    </tr>\n",
       "    <tr>\n",
       "      <th>3</th>\n",
       "      <td>2003</td>\n",
       "      <td>1120</td>\n",
       "      <td>70.100000</td>\n",
       "      <td>0.470055</td>\n",
       "      <td>0.355662</td>\n",
       "      <td>0.652663</td>\n",
       "      <td>11.933333</td>\n",
       "      <td>22.566667</td>\n",
       "      <td>13.400000</td>\n",
       "      <td>15.900000</td>\n",
       "      <td>8.033333</td>\n",
       "      <td>4.966667</td>\n",
       "      <td>16.366667</td>\n",
       "      <td>43.937500</td>\n",
       "      <td>10</td>\n",
       "    </tr>\n",
       "    <tr>\n",
       "      <th>4</th>\n",
       "      <td>2003</td>\n",
       "      <td>1122</td>\n",
       "      <td>69.703704</td>\n",
       "      <td>0.456810</td>\n",
       "      <td>0.353542</td>\n",
       "      <td>0.682295</td>\n",
       "      <td>10.629630</td>\n",
       "      <td>24.222222</td>\n",
       "      <td>13.407407</td>\n",
       "      <td>15.222222</td>\n",
       "      <td>7.037037</td>\n",
       "      <td>4.666667</td>\n",
       "      <td>18.666667</td>\n",
       "      <td>94.968750</td>\n",
       "      <td>13</td>\n",
       "    </tr>\n",
       "  </tbody>\n",
       "</table>\n",
       "</div>"
      ],
      "text/plain": [
       "   Season  TeamID      Score       FGP      FGP3       FTP         OR  \\\n",
       "0    2003    1104  69.285714  0.419676  0.325442  0.705168  13.571429   \n",
       "1    2003    1112  85.214286  0.463563  0.351060  0.701154  15.178571   \n",
       "2    2003    1113  75.965517  0.481680  0.328376  0.675667  13.689655   \n",
       "3    2003    1120  70.100000  0.470055  0.355662  0.652663  11.933333   \n",
       "4    2003    1122  69.703704  0.456810  0.353542  0.682295  10.629630   \n",
       "\n",
       "          DR        Ast         TO       Stl       Blk         PF       Rank  \\\n",
       "0  23.928571  12.107143  13.285714  6.607143  3.785714  18.035714  38.031250   \n",
       "1  27.642857  17.642857  14.785714  8.464286  4.214286  17.750000   2.676471   \n",
       "2  23.310345  15.551724  14.000000  5.206897  4.241379  19.413793  36.000000   \n",
       "3  22.566667  13.400000  15.900000  8.033333  4.966667  16.366667  43.937500   \n",
       "4  24.222222  13.407407  15.222222  7.037037  4.666667  18.666667  94.968750   \n",
       "\n",
       "  Seed  \n",
       "0   10  \n",
       "1   01  \n",
       "2   10  \n",
       "3   10  \n",
       "4   13  "
      ]
     },
     "execution_count": 62,
     "metadata": {},
     "output_type": "execute_result"
    }
   ],
   "source": [
    "df.head()"
   ]
  },
  {
   "cell_type": "markdown",
   "id": "a28a1506",
   "metadata": {
    "papermill": {
     "duration": 0.026528,
     "end_time": "2023-03-02T17:41:02.524475",
     "exception": false,
     "start_time": "2023-03-02T17:41:02.497947",
     "status": "completed"
    },
    "tags": []
   },
   "source": [
    "Since we just stripped a letter from our Seed, the seed is probably still a string. So let's verify that and change it to a float. We have all of those pesky play in games as well. So for our purpose I'm changing 11a to 11.1 and 11b to 11.2 so they'll be numerical. I'm not meaning to imply that one team is ranked higher than another. If we need to change this in the future we can."
   ]
  },
  {
   "cell_type": "code",
   "execution_count": 63,
   "id": "75665250",
   "metadata": {
    "execution": {
     "iopub.execute_input": "2023-03-02T17:41:02.581232Z",
     "iopub.status.busy": "2023-03-02T17:41:02.580768Z",
     "iopub.status.idle": "2023-03-02T17:41:02.589884Z",
     "shell.execute_reply": "2023-03-02T17:41:02.588484Z"
    },
    "papermill": {
     "duration": 0.040326,
     "end_time": "2023-03-02T17:41:02.592649",
     "exception": false,
     "start_time": "2023-03-02T17:41:02.552323",
     "status": "completed"
    },
    "tags": []
   },
   "outputs": [],
   "source": [
    "df.Seed.replace(['11a','11b','12a','12b','13a','13b','14a','14b','16a','16b'],\n",
    "['11','11','12','12','13','13','14','14','16','16'],inplace=True)"
   ]
  },
  {
   "cell_type": "code",
   "execution_count": 64,
   "id": "d9202c84",
   "metadata": {
    "execution": {
     "iopub.execute_input": "2023-03-02T17:41:02.649461Z",
     "iopub.status.busy": "2023-03-02T17:41:02.648552Z",
     "iopub.status.idle": "2023-03-02T17:41:02.656154Z",
     "shell.execute_reply": "2023-03-02T17:41:02.654929Z"
    },
    "papermill": {
     "duration": 0.038739,
     "end_time": "2023-03-02T17:41:02.658862",
     "exception": false,
     "start_time": "2023-03-02T17:41:02.620123",
     "status": "completed"
    },
    "tags": []
   },
   "outputs": [],
   "source": [
    "df['Seed'] = df['Seed'].astype(float)"
   ]
  },
  {
   "cell_type": "code",
   "execution_count": 65,
   "id": "c2f91ff2",
   "metadata": {
    "execution": {
     "iopub.execute_input": "2023-03-02T17:41:02.715815Z",
     "iopub.status.busy": "2023-03-02T17:41:02.715291Z",
     "iopub.status.idle": "2023-03-02T17:41:02.726610Z",
     "shell.execute_reply": "2023-03-02T17:41:02.725101Z"
    },
    "papermill": {
     "duration": 0.042742,
     "end_time": "2023-03-02T17:41:02.729490",
     "exception": false,
     "start_time": "2023-03-02T17:41:02.686748",
     "status": "completed"
    },
    "tags": []
   },
   "outputs": [
    {
     "data": {
      "text/plain": [
       "Season      int64\n",
       "TeamID      int64\n",
       "Score     float64\n",
       "FGP       float64\n",
       "FGP3      float64\n",
       "FTP       float64\n",
       "OR        float64\n",
       "DR        float64\n",
       "Ast       float64\n",
       "TO        float64\n",
       "Stl       float64\n",
       "Blk       float64\n",
       "PF        float64\n",
       "Rank      float64\n",
       "Seed      float64\n",
       "dtype: object"
      ]
     },
     "execution_count": 65,
     "metadata": {},
     "output_type": "execute_result"
    }
   ],
   "source": [
    "df.dtypes"
   ]
  },
  {
   "cell_type": "markdown",
   "id": "9bf2db05",
   "metadata": {
    "papermill": {
     "duration": 0.026247,
     "end_time": "2023-03-02T17:41:02.782861",
     "exception": false,
     "start_time": "2023-03-02T17:41:02.756614",
     "status": "completed"
    },
    "tags": []
   },
   "source": [
    "Perfect. I'm happy with this and I'll save the data as a csv file in the processed data folder."
   ]
  },
  {
   "cell_type": "code",
   "execution_count": 66,
   "id": "997809bd",
   "metadata": {
    "execution": {
     "iopub.execute_input": "2023-03-02T17:41:02.838599Z",
     "iopub.status.busy": "2023-03-02T17:41:02.838112Z",
     "iopub.status.idle": "2023-03-02T17:41:02.871915Z",
     "shell.execute_reply": "2023-03-02T17:41:02.870827Z"
    },
    "papermill": {
     "duration": 0.065203,
     "end_time": "2023-03-02T17:41:02.875007",
     "exception": false,
     "start_time": "2023-03-02T17:41:02.809804",
     "status": "completed"
    },
    "tags": []
   },
   "outputs": [],
   "source": [
    "df.to_csv('/kaggle/working/data_averages.csv',index=False)"
   ]
  }
 ],
 "metadata": {
  "kernelspec": {
   "display_name": "Python 3",
   "language": "python",
   "name": "python3"
  },
  "language_info": {
   "codemirror_mode": {
    "name": "ipython",
    "version": 3
   },
   "file_extension": ".py",
   "mimetype": "text/x-python",
   "name": "python",
   "nbconvert_exporter": "python",
   "pygments_lexer": "ipython3",
   "version": "3.7.12"
  },
  "papermill": {
   "default_parameters": {},
   "duration": 26.533642,
   "end_time": "2023-03-02T17:41:03.927091",
   "environment_variables": {},
   "exception": null,
   "input_path": "__notebook__.ipynb",
   "output_path": "__notebook__.ipynb",
   "parameters": {},
   "start_time": "2023-03-02T17:40:37.393449",
   "version": "2.4.0"
  }
 },
 "nbformat": 4,
 "nbformat_minor": 5
}
