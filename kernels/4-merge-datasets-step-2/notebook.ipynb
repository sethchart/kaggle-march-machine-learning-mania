{
 "cells": [
  {
   "cell_type": "markdown",
   "id": "3ea62362",
   "metadata": {
    "papermill": {
     "duration": 0.005696,
     "end_time": "2023-03-02T18:25:27.523483",
     "exception": false,
     "start_time": "2023-03-02T18:25:27.517787",
     "status": "completed"
    },
    "tags": []
   },
   "source": [
    "We built a model in 3.0-theberling-classifier.ipynb but we didn't have the right submissions. So now we're going to reverse engineer from their sample submission file to get the year, and team IDs that we need. Let's start by reading in their sample submission data file."
   ]
  },
  {
   "cell_type": "code",
   "execution_count": 1,
   "id": "0ac97101",
   "metadata": {
    "execution": {
     "iopub.execute_input": "2023-03-02T18:25:27.538442Z",
     "iopub.status.busy": "2023-03-02T18:25:27.536818Z",
     "iopub.status.idle": "2023-03-02T18:25:27.549229Z",
     "shell.execute_reply": "2023-03-02T18:25:27.547838Z"
    },
    "papermill": {
     "duration": 0.023567,
     "end_time": "2023-03-02T18:25:27.552261",
     "exception": false,
     "start_time": "2023-03-02T18:25:27.528694",
     "status": "completed"
    },
    "tags": []
   },
   "outputs": [],
   "source": [
    "import pandas as pd"
   ]
  },
  {
   "cell_type": "code",
   "execution_count": 2,
   "id": "9766fd0c",
   "metadata": {
    "execution": {
     "iopub.execute_input": "2023-03-02T18:25:27.565941Z",
     "iopub.status.busy": "2023-03-02T18:25:27.565165Z",
     "iopub.status.idle": "2023-03-02T18:25:27.698668Z",
     "shell.execute_reply": "2023-03-02T18:25:27.696838Z"
    },
    "papermill": {
     "duration": 0.144514,
     "end_time": "2023-03-02T18:25:27.703128",
     "exception": false,
     "start_time": "2023-03-02T18:25:27.558614",
     "status": "completed"
    },
    "tags": []
   },
   "outputs": [],
   "source": [
    "base_path = \"/kaggle/input/march-machine-learning-mania-2023/\"\n",
    "df_submission_sample = pd.read_csv(base_path + 'SampleSubmission2023.csv')"
   ]
  },
  {
   "cell_type": "code",
   "execution_count": 3,
   "id": "2e8b1d2a",
   "metadata": {
    "execution": {
     "iopub.execute_input": "2023-03-02T18:25:27.718134Z",
     "iopub.status.busy": "2023-03-02T18:25:27.716687Z",
     "iopub.status.idle": "2023-03-02T18:25:27.759996Z",
     "shell.execute_reply": "2023-03-02T18:25:27.757809Z"
    },
    "papermill": {
     "duration": 0.05601,
     "end_time": "2023-03-02T18:25:27.764572",
     "exception": false,
     "start_time": "2023-03-02T18:25:27.708562",
     "status": "completed"
    },
    "tags": []
   },
   "outputs": [
    {
     "data": {
      "text/html": [
       "<div>\n",
       "<style scoped>\n",
       "    .dataframe tbody tr th:only-of-type {\n",
       "        vertical-align: middle;\n",
       "    }\n",
       "\n",
       "    .dataframe tbody tr th {\n",
       "        vertical-align: top;\n",
       "    }\n",
       "\n",
       "    .dataframe thead th {\n",
       "        text-align: right;\n",
       "    }\n",
       "</style>\n",
       "<table border=\"1\" class=\"dataframe\">\n",
       "  <thead>\n",
       "    <tr style=\"text-align: right;\">\n",
       "      <th></th>\n",
       "      <th>ID</th>\n",
       "      <th>Pred</th>\n",
       "    </tr>\n",
       "  </thead>\n",
       "  <tbody>\n",
       "    <tr>\n",
       "      <th>0</th>\n",
       "      <td>2023_1101_1102</td>\n",
       "      <td>0.5</td>\n",
       "    </tr>\n",
       "    <tr>\n",
       "      <th>1</th>\n",
       "      <td>2023_1101_1103</td>\n",
       "      <td>0.5</td>\n",
       "    </tr>\n",
       "    <tr>\n",
       "      <th>2</th>\n",
       "      <td>2023_1101_1104</td>\n",
       "      <td>0.5</td>\n",
       "    </tr>\n",
       "    <tr>\n",
       "      <th>3</th>\n",
       "      <td>2023_1101_1105</td>\n",
       "      <td>0.5</td>\n",
       "    </tr>\n",
       "    <tr>\n",
       "      <th>4</th>\n",
       "      <td>2023_1101_1106</td>\n",
       "      <td>0.5</td>\n",
       "    </tr>\n",
       "  </tbody>\n",
       "</table>\n",
       "</div>"
      ],
      "text/plain": [
       "               ID  Pred\n",
       "0  2023_1101_1102   0.5\n",
       "1  2023_1101_1103   0.5\n",
       "2  2023_1101_1104   0.5\n",
       "3  2023_1101_1105   0.5\n",
       "4  2023_1101_1106   0.5"
      ]
     },
     "execution_count": 3,
     "metadata": {},
     "output_type": "execute_result"
    }
   ],
   "source": [
    "df_submission_sample.head()"
   ]
  },
  {
   "cell_type": "code",
   "execution_count": 4,
   "id": "6cf8da53",
   "metadata": {
    "execution": {
     "iopub.execute_input": "2023-03-02T18:25:27.781765Z",
     "iopub.status.busy": "2023-03-02T18:25:27.781299Z",
     "iopub.status.idle": "2023-03-02T18:25:28.277324Z",
     "shell.execute_reply": "2023-03-02T18:25:28.275989Z"
    },
    "papermill": {
     "duration": 0.509494,
     "end_time": "2023-03-02T18:25:28.280252",
     "exception": false,
     "start_time": "2023-03-02T18:25:27.770758",
     "status": "completed"
    },
    "tags": []
   },
   "outputs": [
    {
     "data": {
      "text/html": [
       "<div>\n",
       "<style scoped>\n",
       "    .dataframe tbody tr th:only-of-type {\n",
       "        vertical-align: middle;\n",
       "    }\n",
       "\n",
       "    .dataframe tbody tr th {\n",
       "        vertical-align: top;\n",
       "    }\n",
       "\n",
       "    .dataframe thead th {\n",
       "        text-align: right;\n",
       "    }\n",
       "</style>\n",
       "<table border=\"1\" class=\"dataframe\">\n",
       "  <thead>\n",
       "    <tr style=\"text-align: right;\">\n",
       "      <th></th>\n",
       "      <th>0</th>\n",
       "      <th>1</th>\n",
       "      <th>2</th>\n",
       "    </tr>\n",
       "  </thead>\n",
       "  <tbody>\n",
       "    <tr>\n",
       "      <th>0</th>\n",
       "      <td>2023</td>\n",
       "      <td>1101</td>\n",
       "      <td>1102</td>\n",
       "    </tr>\n",
       "    <tr>\n",
       "      <th>1</th>\n",
       "      <td>2023</td>\n",
       "      <td>1101</td>\n",
       "      <td>1103</td>\n",
       "    </tr>\n",
       "    <tr>\n",
       "      <th>2</th>\n",
       "      <td>2023</td>\n",
       "      <td>1101</td>\n",
       "      <td>1104</td>\n",
       "    </tr>\n",
       "    <tr>\n",
       "      <th>3</th>\n",
       "      <td>2023</td>\n",
       "      <td>1101</td>\n",
       "      <td>1105</td>\n",
       "    </tr>\n",
       "    <tr>\n",
       "      <th>4</th>\n",
       "      <td>2023</td>\n",
       "      <td>1101</td>\n",
       "      <td>1106</td>\n",
       "    </tr>\n",
       "    <tr>\n",
       "      <th>...</th>\n",
       "      <td>...</td>\n",
       "      <td>...</td>\n",
       "      <td>...</td>\n",
       "    </tr>\n",
       "    <tr>\n",
       "      <th>130678</th>\n",
       "      <td>2023</td>\n",
       "      <td>3474</td>\n",
       "      <td>3476</td>\n",
       "    </tr>\n",
       "    <tr>\n",
       "      <th>130679</th>\n",
       "      <td>2023</td>\n",
       "      <td>3474</td>\n",
       "      <td>3477</td>\n",
       "    </tr>\n",
       "    <tr>\n",
       "      <th>130680</th>\n",
       "      <td>2023</td>\n",
       "      <td>3475</td>\n",
       "      <td>3476</td>\n",
       "    </tr>\n",
       "    <tr>\n",
       "      <th>130681</th>\n",
       "      <td>2023</td>\n",
       "      <td>3475</td>\n",
       "      <td>3477</td>\n",
       "    </tr>\n",
       "    <tr>\n",
       "      <th>130682</th>\n",
       "      <td>2023</td>\n",
       "      <td>3476</td>\n",
       "      <td>3477</td>\n",
       "    </tr>\n",
       "  </tbody>\n",
       "</table>\n",
       "<p>130683 rows × 3 columns</p>\n",
       "</div>"
      ],
      "text/plain": [
       "           0     1     2\n",
       "0       2023  1101  1102\n",
       "1       2023  1101  1103\n",
       "2       2023  1101  1104\n",
       "3       2023  1101  1105\n",
       "4       2023  1101  1106\n",
       "...      ...   ...   ...\n",
       "130678  2023  3474  3476\n",
       "130679  2023  3474  3477\n",
       "130680  2023  3475  3476\n",
       "130681  2023  3475  3477\n",
       "130682  2023  3476  3477\n",
       "\n",
       "[130683 rows x 3 columns]"
      ]
     },
     "execution_count": 4,
     "metadata": {},
     "output_type": "execute_result"
    }
   ],
   "source": [
    "new = df_submission_sample[\"ID\"].str.split(\"_\", expand = True)\n",
    "new"
   ]
  },
  {
   "cell_type": "code",
   "execution_count": 5,
   "id": "f50b31fb",
   "metadata": {
    "execution": {
     "iopub.execute_input": "2023-03-02T18:25:28.292476Z",
     "iopub.status.busy": "2023-03-02T18:25:28.292061Z",
     "iopub.status.idle": "2023-03-02T18:25:28.538569Z",
     "shell.execute_reply": "2023-03-02T18:25:28.537325Z"
    },
    "papermill": {
     "duration": 0.255846,
     "end_time": "2023-03-02T18:25:28.541276",
     "exception": false,
     "start_time": "2023-03-02T18:25:28.285430",
     "status": "completed"
    },
    "tags": []
   },
   "outputs": [
    {
     "data": {
      "text/html": [
       "<div>\n",
       "<style scoped>\n",
       "    .dataframe tbody tr th:only-of-type {\n",
       "        vertical-align: middle;\n",
       "    }\n",
       "\n",
       "    .dataframe tbody tr th {\n",
       "        vertical-align: top;\n",
       "    }\n",
       "\n",
       "    .dataframe thead th {\n",
       "        text-align: right;\n",
       "    }\n",
       "</style>\n",
       "<table border=\"1\" class=\"dataframe\">\n",
       "  <thead>\n",
       "    <tr style=\"text-align: right;\">\n",
       "      <th></th>\n",
       "      <th>Season</th>\n",
       "      <th>LowID</th>\n",
       "      <th>HighID</th>\n",
       "    </tr>\n",
       "  </thead>\n",
       "  <tbody>\n",
       "    <tr>\n",
       "      <th>0</th>\n",
       "      <td>2023</td>\n",
       "      <td>1101</td>\n",
       "      <td>1102</td>\n",
       "    </tr>\n",
       "    <tr>\n",
       "      <th>1</th>\n",
       "      <td>2023</td>\n",
       "      <td>1101</td>\n",
       "      <td>1103</td>\n",
       "    </tr>\n",
       "    <tr>\n",
       "      <th>2</th>\n",
       "      <td>2023</td>\n",
       "      <td>1101</td>\n",
       "      <td>1104</td>\n",
       "    </tr>\n",
       "    <tr>\n",
       "      <th>3</th>\n",
       "      <td>2023</td>\n",
       "      <td>1101</td>\n",
       "      <td>1105</td>\n",
       "    </tr>\n",
       "    <tr>\n",
       "      <th>4</th>\n",
       "      <td>2023</td>\n",
       "      <td>1101</td>\n",
       "      <td>1106</td>\n",
       "    </tr>\n",
       "  </tbody>\n",
       "</table>\n",
       "</div>"
      ],
      "text/plain": [
       "   Season  LowID  HighID\n",
       "0    2023   1101    1102\n",
       "1    2023   1101    1103\n",
       "2    2023   1101    1104\n",
       "3    2023   1101    1105\n",
       "4    2023   1101    1106"
      ]
     },
     "execution_count": 5,
     "metadata": {},
     "output_type": "execute_result"
    }
   ],
   "source": [
    "combinations = pd.DataFrame()\n",
    "combinations['Season'] = new[0]\n",
    "combinations['LowID'] = new[1]\n",
    "combinations['HighID'] = new[2]\n",
    "combinations['Season'] = pd.to_numeric(combinations['Season'])\n",
    "combinations['LowID'] = pd.to_numeric(combinations['LowID'])\n",
    "combinations['HighID'] = pd.to_numeric(combinations['HighID'])\n",
    "combinations.head()"
   ]
  },
  {
   "cell_type": "markdown",
   "id": "b452017a",
   "metadata": {
    "papermill": {
     "duration": 0.005244,
     "end_time": "2023-03-02T18:25:28.552048",
     "exception": false,
     "start_time": "2023-03-02T18:25:28.546804",
     "status": "completed"
    },
    "tags": []
   },
   "source": [
    "Now let's load up the season averages data."
   ]
  },
  {
   "cell_type": "code",
   "execution_count": 6,
   "id": "1bbb6f8b",
   "metadata": {
    "execution": {
     "iopub.execute_input": "2023-03-02T18:25:28.564457Z",
     "iopub.status.busy": "2023-03-02T18:25:28.564076Z",
     "iopub.status.idle": "2023-03-02T18:25:28.584136Z",
     "shell.execute_reply": "2023-03-02T18:25:28.583048Z"
    },
    "papermill": {
     "duration": 0.029521,
     "end_time": "2023-03-02T18:25:28.586760",
     "exception": false,
     "start_time": "2023-03-02T18:25:28.557239",
     "status": "completed"
    },
    "tags": []
   },
   "outputs": [],
   "source": [
    "df = pd.read_csv('../input/2-compute-averages/data_averages.csv')"
   ]
  },
  {
   "cell_type": "markdown",
   "id": "f1cc215e",
   "metadata": {
    "papermill": {
     "duration": 0.004883,
     "end_time": "2023-03-02T18:25:28.597008",
     "exception": false,
     "start_time": "2023-03-02T18:25:28.592125",
     "status": "completed"
    },
    "tags": []
   },
   "source": [
    "Let's merge the low ID team with it's data by season. To do that we'll temporarily rename LowID to TeamID and merge on Season and TeamID."
   ]
  },
  {
   "cell_type": "code",
   "execution_count": 7,
   "id": "ffc01572",
   "metadata": {
    "execution": {
     "iopub.execute_input": "2023-03-02T18:25:28.609752Z",
     "iopub.status.busy": "2023-03-02T18:25:28.609318Z",
     "iopub.status.idle": "2023-03-02T18:25:28.675191Z",
     "shell.execute_reply": "2023-03-02T18:25:28.674072Z"
    },
    "papermill": {
     "duration": 0.075717,
     "end_time": "2023-03-02T18:25:28.678059",
     "exception": false,
     "start_time": "2023-03-02T18:25:28.602342",
     "status": "completed"
    },
    "tags": []
   },
   "outputs": [
    {
     "data": {
      "text/html": [
       "<div>\n",
       "<style scoped>\n",
       "    .dataframe tbody tr th:only-of-type {\n",
       "        vertical-align: middle;\n",
       "    }\n",
       "\n",
       "    .dataframe tbody tr th {\n",
       "        vertical-align: top;\n",
       "    }\n",
       "\n",
       "    .dataframe thead th {\n",
       "        text-align: right;\n",
       "    }\n",
       "</style>\n",
       "<table border=\"1\" class=\"dataframe\">\n",
       "  <thead>\n",
       "    <tr style=\"text-align: right;\">\n",
       "      <th></th>\n",
       "      <th>Season</th>\n",
       "      <th>TeamID</th>\n",
       "      <th>HighID</th>\n",
       "      <th>Score</th>\n",
       "      <th>FGP</th>\n",
       "      <th>FGP3</th>\n",
       "      <th>FTP</th>\n",
       "      <th>OR</th>\n",
       "      <th>DR</th>\n",
       "      <th>Ast</th>\n",
       "      <th>TO</th>\n",
       "      <th>Stl</th>\n",
       "      <th>Blk</th>\n",
       "      <th>PF</th>\n",
       "      <th>Rank</th>\n",
       "      <th>Seed</th>\n",
       "    </tr>\n",
       "  </thead>\n",
       "  <tbody>\n",
       "  </tbody>\n",
       "</table>\n",
       "</div>"
      ],
      "text/plain": [
       "Empty DataFrame\n",
       "Columns: [Season, TeamID, HighID, Score, FGP, FGP3, FTP, OR, DR, Ast, TO, Stl, Blk, PF, Rank, Seed]\n",
       "Index: []"
      ]
     },
     "execution_count": 7,
     "metadata": {},
     "output_type": "execute_result"
    }
   ],
   "source": [
    "LowID = pd.merge(combinations.rename({'LowID': 'TeamID'}, axis=1), df, how=\"left\", on=['Season','TeamID']).dropna().reset_index(drop=True)\n",
    "LowID.head()"
   ]
  },
  {
   "cell_type": "code",
   "execution_count": 8,
   "id": "e5b53e12",
   "metadata": {
    "execution": {
     "iopub.execute_input": "2023-03-02T18:25:28.691383Z",
     "iopub.status.busy": "2023-03-02T18:25:28.690287Z",
     "iopub.status.idle": "2023-03-02T18:25:28.704490Z",
     "shell.execute_reply": "2023-03-02T18:25:28.702951Z"
    },
    "papermill": {
     "duration": 0.023382,
     "end_time": "2023-03-02T18:25:28.706915",
     "exception": false,
     "start_time": "2023-03-02T18:25:28.683533",
     "status": "completed"
    },
    "tags": []
   },
   "outputs": [
    {
     "data": {
      "text/html": [
       "<div>\n",
       "<style scoped>\n",
       "    .dataframe tbody tr th:only-of-type {\n",
       "        vertical-align: middle;\n",
       "    }\n",
       "\n",
       "    .dataframe tbody tr th {\n",
       "        vertical-align: top;\n",
       "    }\n",
       "\n",
       "    .dataframe thead th {\n",
       "        text-align: right;\n",
       "    }\n",
       "</style>\n",
       "<table border=\"1\" class=\"dataframe\">\n",
       "  <thead>\n",
       "    <tr style=\"text-align: right;\">\n",
       "      <th></th>\n",
       "      <th>Season</th>\n",
       "      <th>LowID</th>\n",
       "      <th>HighID</th>\n",
       "      <th>LowScore</th>\n",
       "      <th>LowFGP</th>\n",
       "      <th>LowFGP3</th>\n",
       "      <th>LowFTP</th>\n",
       "      <th>LowOR</th>\n",
       "      <th>LowDR</th>\n",
       "      <th>LowAst</th>\n",
       "      <th>LowTO</th>\n",
       "      <th>LowStl</th>\n",
       "      <th>LowBlk</th>\n",
       "      <th>LowPF</th>\n",
       "      <th>LowRank</th>\n",
       "      <th>LowSeed</th>\n",
       "    </tr>\n",
       "  </thead>\n",
       "  <tbody>\n",
       "  </tbody>\n",
       "</table>\n",
       "</div>"
      ],
      "text/plain": [
       "Empty DataFrame\n",
       "Columns: [Season, LowID, HighID, LowScore, LowFGP, LowFGP3, LowFTP, LowOR, LowDR, LowAst, LowTO, LowStl, LowBlk, LowPF, LowRank, LowSeed]\n",
       "Index: []"
      ]
     },
     "execution_count": 8,
     "metadata": {},
     "output_type": "execute_result"
    }
   ],
   "source": [
    "LowID.columns = ['Season','LowID','HighID','LowScore','LowFGP','LowFGP3','LowFTP','LowOR','LowDR','LowAst','LowTO','LowStl','LowBlk','LowPF','LowRank','LowSeed']\n",
    "LowID.head()"
   ]
  },
  {
   "cell_type": "code",
   "execution_count": 9,
   "id": "b60b1099",
   "metadata": {
    "execution": {
     "iopub.execute_input": "2023-03-02T18:25:28.720318Z",
     "iopub.status.busy": "2023-03-02T18:25:28.719932Z",
     "iopub.status.idle": "2023-03-02T18:25:28.769444Z",
     "shell.execute_reply": "2023-03-02T18:25:28.768338Z"
    },
    "papermill": {
     "duration": 0.059194,
     "end_time": "2023-03-02T18:25:28.772064",
     "exception": false,
     "start_time": "2023-03-02T18:25:28.712870",
     "status": "completed"
    },
    "tags": []
   },
   "outputs": [
    {
     "data": {
      "text/html": [
       "<div>\n",
       "<style scoped>\n",
       "    .dataframe tbody tr th:only-of-type {\n",
       "        vertical-align: middle;\n",
       "    }\n",
       "\n",
       "    .dataframe tbody tr th {\n",
       "        vertical-align: top;\n",
       "    }\n",
       "\n",
       "    .dataframe thead th {\n",
       "        text-align: right;\n",
       "    }\n",
       "</style>\n",
       "<table border=\"1\" class=\"dataframe\">\n",
       "  <thead>\n",
       "    <tr style=\"text-align: right;\">\n",
       "      <th></th>\n",
       "      <th>Season</th>\n",
       "      <th>LowID</th>\n",
       "      <th>TeamID</th>\n",
       "      <th>Score</th>\n",
       "      <th>FGP</th>\n",
       "      <th>FGP3</th>\n",
       "      <th>FTP</th>\n",
       "      <th>OR</th>\n",
       "      <th>DR</th>\n",
       "      <th>Ast</th>\n",
       "      <th>TO</th>\n",
       "      <th>Stl</th>\n",
       "      <th>Blk</th>\n",
       "      <th>PF</th>\n",
       "      <th>Rank</th>\n",
       "      <th>Seed</th>\n",
       "    </tr>\n",
       "  </thead>\n",
       "  <tbody>\n",
       "  </tbody>\n",
       "</table>\n",
       "</div>"
      ],
      "text/plain": [
       "Empty DataFrame\n",
       "Columns: [Season, LowID, TeamID, Score, FGP, FGP3, FTP, OR, DR, Ast, TO, Stl, Blk, PF, Rank, Seed]\n",
       "Index: []"
      ]
     },
     "execution_count": 9,
     "metadata": {},
     "output_type": "execute_result"
    }
   ],
   "source": [
    "HighID = pd.merge(combinations.rename({'HighID': 'TeamID'}, axis=1), df, how=\"left\", on=['Season','TeamID']).dropna().reset_index(drop=True)\n",
    "HighID.head()"
   ]
  },
  {
   "cell_type": "code",
   "execution_count": 10,
   "id": "11971361",
   "metadata": {
    "execution": {
     "iopub.execute_input": "2023-03-02T18:25:28.786281Z",
     "iopub.status.busy": "2023-03-02T18:25:28.784950Z",
     "iopub.status.idle": "2023-03-02T18:25:28.799748Z",
     "shell.execute_reply": "2023-03-02T18:25:28.798342Z"
    },
    "papermill": {
     "duration": 0.025441,
     "end_time": "2023-03-02T18:25:28.803329",
     "exception": false,
     "start_time": "2023-03-02T18:25:28.777888",
     "status": "completed"
    },
    "tags": []
   },
   "outputs": [
    {
     "data": {
      "text/html": [
       "<div>\n",
       "<style scoped>\n",
       "    .dataframe tbody tr th:only-of-type {\n",
       "        vertical-align: middle;\n",
       "    }\n",
       "\n",
       "    .dataframe tbody tr th {\n",
       "        vertical-align: top;\n",
       "    }\n",
       "\n",
       "    .dataframe thead th {\n",
       "        text-align: right;\n",
       "    }\n",
       "</style>\n",
       "<table border=\"1\" class=\"dataframe\">\n",
       "  <thead>\n",
       "    <tr style=\"text-align: right;\">\n",
       "      <th></th>\n",
       "      <th>Season</th>\n",
       "      <th>LowID</th>\n",
       "      <th>HighID</th>\n",
       "      <th>HighScore</th>\n",
       "      <th>HighFGP</th>\n",
       "      <th>HighFGP3</th>\n",
       "      <th>HighFTP</th>\n",
       "      <th>HighOR</th>\n",
       "      <th>HighDR</th>\n",
       "      <th>HighAst</th>\n",
       "      <th>HighTO</th>\n",
       "      <th>HighStl</th>\n",
       "      <th>HighBlk</th>\n",
       "      <th>HighPF</th>\n",
       "      <th>HighRank</th>\n",
       "      <th>HighSeed</th>\n",
       "    </tr>\n",
       "  </thead>\n",
       "  <tbody>\n",
       "  </tbody>\n",
       "</table>\n",
       "</div>"
      ],
      "text/plain": [
       "Empty DataFrame\n",
       "Columns: [Season, LowID, HighID, HighScore, HighFGP, HighFGP3, HighFTP, HighOR, HighDR, HighAst, HighTO, HighStl, HighBlk, HighPF, HighRank, HighSeed]\n",
       "Index: []"
      ]
     },
     "execution_count": 10,
     "metadata": {},
     "output_type": "execute_result"
    }
   ],
   "source": [
    "HighID.columns = ['Season','LowID','HighID','HighScore','HighFGP','HighFGP3','HighFTP','HighOR','HighDR','HighAst','HighTO','HighStl','HighBlk','HighPF','HighRank','HighSeed']\n",
    "HighID.head()"
   ]
  },
  {
   "cell_type": "markdown",
   "id": "92591938",
   "metadata": {
    "papermill": {
     "duration": 0.005591,
     "end_time": "2023-03-02T18:25:28.815175",
     "exception": false,
     "start_time": "2023-03-02T18:25:28.809584",
     "status": "completed"
    },
    "tags": []
   },
   "source": [
    "And finally we can merge the HighID and LowID DataFrame on Season, LowID, HighID, and Win since those should be the same in each DataFrame."
   ]
  },
  {
   "cell_type": "code",
   "execution_count": 11,
   "id": "051cb54b",
   "metadata": {
    "execution": {
     "iopub.execute_input": "2023-03-02T18:25:28.829676Z",
     "iopub.status.busy": "2023-03-02T18:25:28.828841Z",
     "iopub.status.idle": "2023-03-02T18:25:28.850977Z",
     "shell.execute_reply": "2023-03-02T18:25:28.850087Z"
    },
    "papermill": {
     "duration": 0.031923,
     "end_time": "2023-03-02T18:25:28.853129",
     "exception": false,
     "start_time": "2023-03-02T18:25:28.821206",
     "status": "completed"
    },
    "tags": []
   },
   "outputs": [
    {
     "data": {
      "text/html": [
       "<div>\n",
       "<style scoped>\n",
       "    .dataframe tbody tr th:only-of-type {\n",
       "        vertical-align: middle;\n",
       "    }\n",
       "\n",
       "    .dataframe tbody tr th {\n",
       "        vertical-align: top;\n",
       "    }\n",
       "\n",
       "    .dataframe thead th {\n",
       "        text-align: right;\n",
       "    }\n",
       "</style>\n",
       "<table border=\"1\" class=\"dataframe\">\n",
       "  <thead>\n",
       "    <tr style=\"text-align: right;\">\n",
       "      <th></th>\n",
       "      <th>LowScore</th>\n",
       "      <th>LowFGP</th>\n",
       "      <th>LowFGP3</th>\n",
       "      <th>LowFTP</th>\n",
       "      <th>LowOR</th>\n",
       "      <th>LowDR</th>\n",
       "      <th>LowAst</th>\n",
       "      <th>LowTO</th>\n",
       "      <th>LowStl</th>\n",
       "      <th>LowBlk</th>\n",
       "      <th>...</th>\n",
       "      <th>HighFTP</th>\n",
       "      <th>HighOR</th>\n",
       "      <th>HighDR</th>\n",
       "      <th>HighAst</th>\n",
       "      <th>HighTO</th>\n",
       "      <th>HighStl</th>\n",
       "      <th>HighBlk</th>\n",
       "      <th>HighPF</th>\n",
       "      <th>HighRank</th>\n",
       "      <th>HighSeed</th>\n",
       "    </tr>\n",
       "  </thead>\n",
       "  <tbody>\n",
       "  </tbody>\n",
       "</table>\n",
       "<p>0 rows × 29 columns</p>\n",
       "</div>"
      ],
      "text/plain": [
       "Empty DataFrame\n",
       "Columns: [LowScore, LowFGP, LowFGP3, LowFTP, LowOR, LowDR, LowAst, LowTO, LowStl, LowBlk, LowPF, LowRank, LowSeed, Season, LowID, HighID, HighScore, HighFGP, HighFGP3, HighFTP, HighOR, HighDR, HighAst, HighTO, HighStl, HighBlk, HighPF, HighRank, HighSeed]\n",
       "Index: []\n",
       "\n",
       "[0 rows x 29 columns]"
      ]
     },
     "execution_count": 11,
     "metadata": {},
     "output_type": "execute_result"
    }
   ],
   "source": [
    "model_dataset = pd.merge(LowID, HighID, how='outer', on=['Season','LowID','HighID'])\n",
    "model_dataset.head()"
   ]
  },
  {
   "cell_type": "code",
   "execution_count": 12,
   "id": "3ddfb2cd",
   "metadata": {
    "execution": {
     "iopub.execute_input": "2023-03-02T18:25:28.868679Z",
     "iopub.status.busy": "2023-03-02T18:25:28.867938Z",
     "iopub.status.idle": "2023-03-02T18:25:28.874275Z",
     "shell.execute_reply": "2023-03-02T18:25:28.873064Z"
    },
    "papermill": {
     "duration": 0.016228,
     "end_time": "2023-03-02T18:25:28.876628",
     "exception": false,
     "start_time": "2023-03-02T18:25:28.860400",
     "status": "completed"
    },
    "tags": []
   },
   "outputs": [
    {
     "data": {
      "text/plain": [
       "(0, 29)"
      ]
     },
     "execution_count": 12,
     "metadata": {},
     "output_type": "execute_result"
    }
   ],
   "source": [
    "model_dataset.shape"
   ]
  },
  {
   "cell_type": "code",
   "execution_count": 13,
   "id": "1bd919b4",
   "metadata": {
    "execution": {
     "iopub.execute_input": "2023-03-02T18:25:28.891210Z",
     "iopub.status.busy": "2023-03-02T18:25:28.890528Z",
     "iopub.status.idle": "2023-03-02T18:25:28.900555Z",
     "shell.execute_reply": "2023-03-02T18:25:28.899581Z"
    },
    "papermill": {
     "duration": 0.020381,
     "end_time": "2023-03-02T18:25:28.903168",
     "exception": false,
     "start_time": "2023-03-02T18:25:28.882787",
     "status": "completed"
    },
    "tags": []
   },
   "outputs": [],
   "source": [
    "model_dataset.to_csv('/kaggle/working/model_dataset2.csv',index=False)"
   ]
  },
  {
   "cell_type": "code",
   "execution_count": null,
   "id": "d3bdcf31",
   "metadata": {
    "papermill": {
     "duration": 0.005832,
     "end_time": "2023-03-02T18:25:28.915206",
     "exception": false,
     "start_time": "2023-03-02T18:25:28.909374",
     "status": "completed"
    },
    "tags": []
   },
   "outputs": [],
   "source": []
  }
 ],
 "metadata": {
  "kernelspec": {
   "display_name": "Python 3",
   "language": "python",
   "name": "python3"
  },
  "language_info": {
   "codemirror_mode": {
    "name": "ipython",
    "version": 3
   },
   "file_extension": ".py",
   "mimetype": "text/x-python",
   "name": "python",
   "nbconvert_exporter": "python",
   "pygments_lexer": "ipython3",
   "version": "3.7.12"
  },
  "papermill": {
   "default_parameters": {},
   "duration": 12.672891,
   "end_time": "2023-03-02T18:25:29.643764",
   "environment_variables": {},
   "exception": null,
   "input_path": "__notebook__.ipynb",
   "output_path": "__notebook__.ipynb",
   "parameters": {},
   "start_time": "2023-03-02T18:25:16.970873",
   "version": "2.4.0"
  }
 },
 "nbformat": 4,
 "nbformat_minor": 5
}
