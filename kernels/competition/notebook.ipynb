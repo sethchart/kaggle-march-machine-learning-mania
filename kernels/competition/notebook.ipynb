{
 "cells": [
  {
   "cell_type": "markdown",
   "id": "00156215",
   "metadata": {
    "papermill": {
     "duration": 0.006011,
     "end_time": "2023-03-15T21:51:02.670271",
     "exception": false,
     "start_time": "2023-03-15T21:51:02.664260",
     "status": "completed"
    },
    "tags": []
   },
   "source": [
    "# Imports and Utilities"
   ]
  },
  {
   "cell_type": "code",
   "execution_count": null,
   "id": "c1773b62",
   "metadata": {
    "execution": {
     "iopub.execute_input": "2023-03-15T21:51:02.681780Z",
     "iopub.status.busy": "2023-03-15T21:51:02.681240Z",
     "iopub.status.idle": "2023-03-15T21:51:04.319479Z",
     "shell.execute_reply": "2023-03-15T21:51:04.318305Z"
    },
    "papermill": {
     "duration": 1.647578,
     "end_time": "2023-03-15T21:51:04.322233",
     "exception": false,
     "start_time": "2023-03-15T21:51:02.674655",
     "status": "completed"
    },
    "tags": []
   },
   "outputs": [],
   "source": [
    "from typing import List, Tuple\n",
    "import numpy as np\n",
    "import pandas as pd\n",
    "from IPython.display import Markdown\n",
    "import optuna\n",
    "from xgboost import XGBClassifier\n",
    "from sklearn.metrics import roc_auc_score, brier_score_loss\n",
    "from sklearn.model_selection import cross_val_score\n",
    "\n",
    "COMPETITION_NAME = \"march-machine-learning-mania-2023\"\n",
    "VERBOSE = False\n",
    "SCORING = \"neg_brier_score\"\n",
    "\n",
    "pd.set_option(\"display.max_columns\", None)\n",
    "\n",
    "def show_df(df: pd.DataFrame, name: str = \"DataFrame\", verbose: bool = VERBOSE):\n",
    "    if verbose:\n",
    "        display(Markdown(f\"## {name}\"))\n",
    "        display(Markdown(\"### Head\"))\n",
    "        display(df.head())\n",
    "        display(Markdown(\"### Tail\"))\n",
    "        display(df.tail())\n",
    "        display(Markdown(\"### Description\"))\n",
    "        display(df.describe())\n",
    "\n",
    "\n",
    "def extract_data(filename: str, competition_name:str = COMPETITION_NAME) -> pd.DataFrame:\n",
    "    mens_filepath = f\"/kaggle/input/{competition_name}/M{filename}.csv\"\n",
    "    womens_filepath = f\"/kaggle/input/{competition_name}/W{filename}.csv\"\n",
    "    try:\n",
    "        df_mens = pd.read_csv(mens_filepath)\n",
    "    except FileNotFoundError:\n",
    "        df_mens = None\n",
    "    try:\n",
    "        df_womens = pd.read_csv(womens_filepath)\n",
    "    except FileNotFoundError:\n",
    "        df_womens = None\n",
    "    df = pd.concat([df_mens, df_womens])\n",
    "    show_df(df, filename)\n",
    "    return df\n",
    "\n",
    "\n",
    "def get_team_features(detailed_results: pd.DataFrame) -> pd.DataFrame:\n",
    "    df = detailed_results.copy()\n",
    "    df = clean_detailed_results(df)\n",
    "    df = transform_game_to_team(df)\n",
    "    df = transform_team_results(df)\n",
    "    show_df(df)\n",
    "    return df\n",
    "\n",
    "\n",
    "def get_seed_features(df_in: pd.DataFrame) -> pd.DataFrame:\n",
    "    df = df_in.copy()\n",
    "    mask = df[\"Season\"] > 2002\n",
    "    df = df[mask]\n",
    "    df[\"Seed\"] = df[\"Seed\"].str.replace(r\"\\D+\",\"\", regex=True)\n",
    "    df[\"Seed\"] = df[\"Seed\"].astype(int)\n",
    "    show_df(df)\n",
    "    return df\n",
    "\n",
    "\n",
    "def get_ranking_features(df_in:pd.DataFrame) -> pd.DataFrame:\n",
    "    df = df_in.copy()\n",
    "    mask = df[\"RankingDayNum\"] == df[\"RankingDayNum\"].max()\n",
    "    df = df[mask]\n",
    "    df.drop([\"SystemName\", \"RankingDayNum\"], axis=1, inplace=True)\n",
    "    df = df.groupby([\"Season\", \"TeamID\"]).agg(\"median\")\n",
    "    df = df.reset_index()\n",
    "    show_df(df)\n",
    "    return df\n",
    "\n",
    "\n",
    "def get_game_outcomes(df):\n",
    "    input_rows = df.to_records()\n",
    "    output_rows = []\n",
    "    for input_row in input_rows:\n",
    "        output_rows.extend(parse_row(input_row))\n",
    "    out_df = pd.DataFrame(output_rows)\n",
    "    return out_df\n",
    "\n",
    "def parse_row(row):\n",
    "    season = row['Season']\n",
    "    winning_team_id = row['WTeamID']\n",
    "    losing_team_id = row['LTeamID']\n",
    "    if winning_team_id < losing_team_id:\n",
    "        small_id = winning_team_id\n",
    "        big_id = losing_team_id\n",
    "        outcome = True\n",
    "    elif losing_team_id < winning_team_id:\n",
    "        small_id = losing_team_id\n",
    "        big_id = winning_team_id\n",
    "        outcome = False\n",
    "    records = [\n",
    "        {\n",
    "            \"ID\": f\"{season}_{small_id}_{big_id}\",\n",
    "            'Season': season,\n",
    "            'LowID': small_id,\n",
    "            'HighID': big_id,\n",
    "            'Win': outcome\n",
    "        },\n",
    "        {\n",
    "            \"ID\": f\"{season}_{big_id}_{small_id}\",\n",
    "            'Season': season,\n",
    "            'LowID': big_id,\n",
    "            'HighID': small_id,\n",
    "            'Win': not outcome\n",
    "        },\n",
    "    ]\n",
    "    return records\n",
    "\n",
    "\n",
    "def clean_detailed_results(df: pd.DataFrame) -> pd.DataFrame:\n",
    "    return df.drop([\"WLoc\", \"DayNum\"], axis=1)\n",
    "\n",
    "\n",
    "def transform_game_to_team(game_results: pd.DataFrame) -> pd.DataFrame:\n",
    "    winners = rename_columns(game_results, \"W\")\n",
    "    loosers = rename_columns(game_results, \"L\")\n",
    "    team_results = pd.concat((winners, loosers))\n",
    "    team_results.drop([\"TeamIDOpp\"], axis=1, inplace=True)\n",
    "    return team_results\n",
    "\n",
    "\n",
    "def transform_team_results(df: pd.DataFrame) -> pd.DataFrame:\n",
    "    df = df.groupby([\"Season\", \"TeamID\"]).median()\n",
    "    df[\"FGP\"] =  df[\"FGM\"] / df[\"FGA\"]\n",
    "    df[\"FGP3\"] =  df[\"FGM3\"] / df[\"FGA3\"]\n",
    "    df[\"FTP\"] =  df[\"FTM\"] / df[\"FTA\"]\n",
    "    df[\"FGPOpp\"] =  df[\"FGMOpp\"] / df[\"FGAOpp\"]\n",
    "    df[\"FGP3Opp\"] =  df[\"FGM3Opp\"] / df[\"FGA3Opp\"]\n",
    "    df[\"FTPOpp\"] =  df[\"FTMOpp\"] / df[\"FTAOpp\"]\n",
    "    return df.reset_index()\n",
    "    \n",
    "    \n",
    "def rename_columns(df: pd.DataFrame, team_prefix: str) -> pd.DataFrame:\n",
    "    df = df.copy()\n",
    "    df.columns =  (rename_column(column_name, team_prefix) for column_name in df.columns)\n",
    "    return df\n",
    "\n",
    "\n",
    "def rename_column(column_name: str, team_prefix: str) -> pd.DataFrame:\n",
    "    if team_prefix == \"W\":\n",
    "        opponent_prefix = \"L\"\n",
    "    elif team_prefix == \"L\":\n",
    "        opponent_prefix = \"W\"\n",
    "    else:\n",
    "        raise ValueError\n",
    "    if column_name.startswith(team_prefix):\n",
    "        column_name = column_name.lstrip(team_prefix)\n",
    "    elif column_name.startswith(opponent_prefix):\n",
    "        column_name = f\"{column_name.lstrip(opponent_prefix)}Opp\"\n",
    "    return column_name\n",
    "\n",
    "\n",
    "def split_winner_and_looser_columns(df: pd.DataFrame) -> Tuple[List[str], List[str]]:\n",
    "    winner_columns = [name for name in df.columns if not name.startswith(\"L\")]\n",
    "    looser_columns = [name for name in df.columns if not name.startswith(\"W\")]\n",
    "    return winner_columns, looser_columns\n",
    "\n",
    "\n",
    "def merge_features(\n",
    "    season_features: pd.DataFrame, \n",
    "    tournament_features: pd.DataFrame, \n",
    "    seed_features: pd.DataFrame, \n",
    "    ranking_features: pd.DataFrame\n",
    ") -> pd.DataFrame:\n",
    "    features = pd.merge(\n",
    "        season_features,\n",
    "        tournament_features,\n",
    "        how=\"inner\",\n",
    "        on=[\"Season\", \"TeamID\"],\n",
    "        suffixes=(\"Reg\", \"Tou\")\n",
    "    )\n",
    "    features = features.merge(\n",
    "        seed_features,\n",
    "        how=\"inner\",\n",
    "        on=[\"Season\", \"TeamID\"]\n",
    "    )\n",
    "    features = features.merge(\n",
    "        ranking_features,\n",
    "        how=\"left\",\n",
    "        on=[\"Season\", \"TeamID\"],\n",
    "    )\n",
    "    show_df(features)\n",
    "    return features\n",
    "\n",
    "\n",
    "def merge_outcomes_with_features(outcomes: pd.DataFrame, features: pd.DataFrame, how: str = \"inner\") -> pd.DataFrame:\n",
    "    feature_names = [name for name in features.columns if name not in [\"Season\", \"TeamID\", \"Gender\"]]\n",
    "    data = pd.merge(\n",
    "        outcomes, \n",
    "        features, \n",
    "        how=how, \n",
    "        left_on=[\"Season\", \"HighID\"], \n",
    "        right_on=[\"Season\", \"TeamID\"]\n",
    "    )\n",
    "    data = pd.merge(\n",
    "        data, \n",
    "        features, \n",
    "        how=how, \n",
    "        left_on=[\"Season\", \"LowID\"], \n",
    "        right_on=[\"Season\", \"TeamID\"],\n",
    "        suffixes=(\"High\", \"Low\")\n",
    "    )\n",
    "    for name in feature_names:\n",
    "        data[f\"{name}Diff\"] = data[f\"{name}High\"] - data[f\"{name}Low\"]\n",
    "        data.drop([f\"{name}High\", f\"{name}Low\"], axis=1, inplace=True)\n",
    "    data.drop(\n",
    "        [\"Season\", \"HighID\", \"LowID\",\"TeamIDHigh\",\"TeamIDLow\"], \n",
    "        axis=1, \n",
    "        inplace=True\n",
    "    )\n",
    "    data.set_index(\"ID\", inplace=True)\n",
    "    show_df(data)\n",
    "    return data\n",
    "\n",
    "\n",
    "def get_submission_outcomes() -> pd.DataFrame:\n",
    "    sample_submission = pd.read_csv(f\"/kaggle/input/{COMPETITION_NAME}/SampleSubmission2023.csv\")\n",
    "    df = sample_submission.copy()\n",
    "    df.drop(\"Pred\", axis=1, inplace=True)\n",
    "    df[[\"Season\", \"LowID\", \"HighID\"]] = df[\"ID\"].str.split(\"_\", expand=True)\n",
    "    df[[\"Season\", \"LowID\", \"HighID\"]] = df[[\"Season\", \"LowID\", \"HighID\"]].astype(int)\n",
    "    show_df(df)\n",
    "    return df\n",
    "\n",
    "\n",
    "def objective(trial: optuna.Trial, X_train, y_train, scoring = SCORING):\n",
    "    params = {\n",
    "        \"booster\": trial.suggest_categorical(\"booster\", [\"gbtree\", \"gblinear\", \"dart\"]),\n",
    "        # L2 regularization weight.\n",
    "        \"lambda\": trial.suggest_float(\"lambda\", 1e-8, 1.0, log=True),\n",
    "        # L1 regularization weight.\n",
    "        \"alpha\": trial.suggest_float(\"alpha\", 1e-8, 1.0, log=True),\n",
    "        # sampling ratio for training data.\n",
    "        \"subsample\": trial.suggest_float(\"subsample\", 0.2, 1.0),\n",
    "        # sampling according to each tree.\n",
    "        \"colsample_bytree\": trial.suggest_float(\"colsample_bytree\", 0.2, 1.0),\n",
    "    }\n",
    "\n",
    "    if params[\"booster\"] in [\"gbtree\", \"dart\"]:\n",
    "        # maximum depth of the tree, signifies complexity of the tree.\n",
    "        params[\"max_depth\"] = trial.suggest_int(\"max_depth\", 3, 9, step=2)\n",
    "        # minimum child weight, larger the term more conservative the tree.\n",
    "        params[\"min_child_weight\"] = trial.suggest_int(\"min_child_weight\", 2, 10)\n",
    "        params[\"eta\"] = trial.suggest_float(\"eta\", 1e-8, 1.0, log=True)\n",
    "        # defines how selective algorithm is.\n",
    "        params[\"gamma\"] = trial.suggest_float(\"gamma\", 1e-8, 1.0, log=True)\n",
    "        params[\"grow_policy\"] = trial.suggest_categorical(\"grow_policy\", [\"depthwise\", \"lossguide\"])\n",
    "\n",
    "    if params[\"booster\"] == \"dart\":\n",
    "        params[\"sample_type\"] = trial.suggest_categorical(\"sample_type\", [\"uniform\", \"weighted\"])\n",
    "        params[\"normalize_type\"] = trial.suggest_categorical(\"normalize_type\", [\"tree\", \"forest\"])\n",
    "        params[\"rate_drop\"] = trial.suggest_float(\"rate_drop\", 1e-8, 1.0, log=True)\n",
    "        params[\"skip_drop\"] = trial.suggest_float(\"skip_drop\", 1e-8, 1.0, log=True)\n",
    "\n",
    "    model = train_model(params, X_train, y_train, scoring)\n",
    "    score = np.mean(cross_val_score(model, X_train, y_train, scoring=scoring, cv=5))\n",
    "    return score\n",
    "\n",
    "\n",
    "def run_study(X_train, y_train):\n",
    "    study = optuna.create_study(direction=\"maximize\")\n",
    "    study.optimize(lambda trial: objective(trial, X_train, y_train), n_trials=100)\n",
    "    return study\n",
    "\n",
    "\n",
    "def train_model(params, X, y, scoring):\n",
    "    model = XGBClassifier(\n",
    "        objective=\"binary:logistic\",\n",
    "        tree_method=\"exact\",\n",
    "        verbosity=0,\n",
    "        boosting_type=\"gbdt\",\n",
    "        **params\n",
    "    )\n",
    "    model = model.fit(X, y)\n",
    "    return model"
   ]
  },
  {
   "cell_type": "markdown",
   "id": "8d8cb416",
   "metadata": {
    "papermill": {
     "duration": 0.003882,
     "end_time": "2023-03-15T21:51:04.330446",
     "exception": false,
     "start_time": "2023-03-15T21:51:04.326564",
     "status": "completed"
    },
    "tags": []
   },
   "source": [
    "# Load Data"
   ]
  },
  {
   "cell_type": "code",
   "execution_count": null,
   "id": "f0ac886f",
   "metadata": {
    "execution": {
     "iopub.execute_input": "2023-03-15T21:51:04.341271Z",
     "iopub.status.busy": "2023-03-15T21:51:04.339553Z",
     "iopub.status.idle": "2023-03-15T21:51:07.892603Z",
     "shell.execute_reply": "2023-03-15T21:51:07.891460Z"
    },
    "papermill": {
     "duration": 3.561343,
     "end_time": "2023-03-15T21:51:07.895607",
     "exception": false,
     "start_time": "2023-03-15T21:51:04.334264",
     "status": "completed"
    },
    "tags": []
   },
   "outputs": [
    {
     "ename": "ValueError",
     "evalue": "All objects passed were None",
     "output_type": "error",
     "traceback": [
      "\u001b[0;31m---------------------------------------------------------------------------\u001b[0m",
      "\u001b[0;31mValueError\u001b[0m                                Traceback (most recent call last)",
      "Cell \u001b[0;32mIn[8], line 1\u001b[0m\n\u001b[0;32m----> 1\u001b[0m season_results \u001b[38;5;241m=\u001b[39m \u001b[43mextract_data\u001b[49m\u001b[43m(\u001b[49m\u001b[38;5;124;43m\"\u001b[39;49m\u001b[38;5;124;43mRegularSeasonDetailedResults\u001b[39;49m\u001b[38;5;124;43m\"\u001b[39;49m\u001b[43m)\u001b[49m\n\u001b[1;32m      2\u001b[0m tournament_results \u001b[38;5;241m=\u001b[39m extract_data(\u001b[38;5;124m\"\u001b[39m\u001b[38;5;124mNCAATourneyDetailedResults\u001b[39m\u001b[38;5;124m\"\u001b[39m)\n\u001b[1;32m      3\u001b[0m seeds \u001b[38;5;241m=\u001b[39m extract_data(\u001b[38;5;124m\"\u001b[39m\u001b[38;5;124mNCAATourneySeeds\u001b[39m\u001b[38;5;124m\"\u001b[39m)\n",
      "Cell \u001b[0;32mIn[7], line 38\u001b[0m, in \u001b[0;36mextract_data\u001b[0;34m(filename, competition_name)\u001b[0m\n\u001b[1;32m     36\u001b[0m \u001b[38;5;28;01mexcept\u001b[39;00m \u001b[38;5;167;01mFileNotFoundError\u001b[39;00m:\n\u001b[1;32m     37\u001b[0m     df_womens \u001b[38;5;241m=\u001b[39m \u001b[38;5;28;01mNone\u001b[39;00m\n\u001b[0;32m---> 38\u001b[0m df \u001b[38;5;241m=\u001b[39m \u001b[43mpd\u001b[49m\u001b[38;5;241;43m.\u001b[39;49m\u001b[43mconcat\u001b[49m\u001b[43m(\u001b[49m\u001b[43m[\u001b[49m\u001b[43mdf_mens\u001b[49m\u001b[43m,\u001b[49m\u001b[43m \u001b[49m\u001b[43mdf_womens\u001b[49m\u001b[43m]\u001b[49m\u001b[43m)\u001b[49m\n\u001b[1;32m     39\u001b[0m show_df(df, filename)\n\u001b[1;32m     40\u001b[0m \u001b[38;5;28;01mreturn\u001b[39;00m df\n",
      "File \u001b[0;32m/opt/conda/lib/python3.10/site-packages/pandas/util/_decorators.py:331\u001b[0m, in \u001b[0;36mdeprecate_nonkeyword_arguments.<locals>.decorate.<locals>.wrapper\u001b[0;34m(*args, **kwargs)\u001b[0m\n\u001b[1;32m    325\u001b[0m \u001b[38;5;28;01mif\u001b[39;00m \u001b[38;5;28mlen\u001b[39m(args) \u001b[38;5;241m>\u001b[39m num_allow_args:\n\u001b[1;32m    326\u001b[0m     warnings\u001b[38;5;241m.\u001b[39mwarn(\n\u001b[1;32m    327\u001b[0m         msg\u001b[38;5;241m.\u001b[39mformat(arguments\u001b[38;5;241m=\u001b[39m_format_argument_list(allow_args)),\n\u001b[1;32m    328\u001b[0m         \u001b[38;5;167;01mFutureWarning\u001b[39;00m,\n\u001b[1;32m    329\u001b[0m         stacklevel\u001b[38;5;241m=\u001b[39mfind_stack_level(),\n\u001b[1;32m    330\u001b[0m     )\n\u001b[0;32m--> 331\u001b[0m \u001b[38;5;28;01mreturn\u001b[39;00m \u001b[43mfunc\u001b[49m\u001b[43m(\u001b[49m\u001b[38;5;241;43m*\u001b[39;49m\u001b[43margs\u001b[49m\u001b[43m,\u001b[49m\u001b[43m \u001b[49m\u001b[38;5;241;43m*\u001b[39;49m\u001b[38;5;241;43m*\u001b[39;49m\u001b[43mkwargs\u001b[49m\u001b[43m)\u001b[49m\n",
      "File \u001b[0;32m/opt/conda/lib/python3.10/site-packages/pandas/core/reshape/concat.py:368\u001b[0m, in \u001b[0;36mconcat\u001b[0;34m(objs, axis, join, ignore_index, keys, levels, names, verify_integrity, sort, copy)\u001b[0m\n\u001b[1;32m    146\u001b[0m \u001b[38;5;129m@deprecate_nonkeyword_arguments\u001b[39m(version\u001b[38;5;241m=\u001b[39m\u001b[38;5;28;01mNone\u001b[39;00m, allowed_args\u001b[38;5;241m=\u001b[39m[\u001b[38;5;124m\"\u001b[39m\u001b[38;5;124mobjs\u001b[39m\u001b[38;5;124m\"\u001b[39m])\n\u001b[1;32m    147\u001b[0m \u001b[38;5;28;01mdef\u001b[39;00m \u001b[38;5;21mconcat\u001b[39m(\n\u001b[1;32m    148\u001b[0m     objs: Iterable[NDFrame] \u001b[38;5;241m|\u001b[39m Mapping[HashableT, NDFrame],\n\u001b[0;32m   (...)\u001b[0m\n\u001b[1;32m    157\u001b[0m     copy: \u001b[38;5;28mbool\u001b[39m \u001b[38;5;241m=\u001b[39m \u001b[38;5;28;01mTrue\u001b[39;00m,\n\u001b[1;32m    158\u001b[0m ) \u001b[38;5;241m-\u001b[39m\u001b[38;5;241m>\u001b[39m DataFrame \u001b[38;5;241m|\u001b[39m Series:\n\u001b[1;32m    159\u001b[0m \u001b[38;5;250m    \u001b[39m\u001b[38;5;124;03m\"\"\"\u001b[39;00m\n\u001b[1;32m    160\u001b[0m \u001b[38;5;124;03m    Concatenate pandas objects along a particular axis.\u001b[39;00m\n\u001b[1;32m    161\u001b[0m \n\u001b[0;32m   (...)\u001b[0m\n\u001b[1;32m    366\u001b[0m \u001b[38;5;124;03m    1   3   4\u001b[39;00m\n\u001b[1;32m    367\u001b[0m \u001b[38;5;124;03m    \"\"\"\u001b[39;00m\n\u001b[0;32m--> 368\u001b[0m     op \u001b[38;5;241m=\u001b[39m \u001b[43m_Concatenator\u001b[49m\u001b[43m(\u001b[49m\n\u001b[1;32m    369\u001b[0m \u001b[43m        \u001b[49m\u001b[43mobjs\u001b[49m\u001b[43m,\u001b[49m\n\u001b[1;32m    370\u001b[0m \u001b[43m        \u001b[49m\u001b[43maxis\u001b[49m\u001b[38;5;241;43m=\u001b[39;49m\u001b[43maxis\u001b[49m\u001b[43m,\u001b[49m\n\u001b[1;32m    371\u001b[0m \u001b[43m        \u001b[49m\u001b[43mignore_index\u001b[49m\u001b[38;5;241;43m=\u001b[39;49m\u001b[43mignore_index\u001b[49m\u001b[43m,\u001b[49m\n\u001b[1;32m    372\u001b[0m \u001b[43m        \u001b[49m\u001b[43mjoin\u001b[49m\u001b[38;5;241;43m=\u001b[39;49m\u001b[43mjoin\u001b[49m\u001b[43m,\u001b[49m\n\u001b[1;32m    373\u001b[0m \u001b[43m        \u001b[49m\u001b[43mkeys\u001b[49m\u001b[38;5;241;43m=\u001b[39;49m\u001b[43mkeys\u001b[49m\u001b[43m,\u001b[49m\n\u001b[1;32m    374\u001b[0m \u001b[43m        \u001b[49m\u001b[43mlevels\u001b[49m\u001b[38;5;241;43m=\u001b[39;49m\u001b[43mlevels\u001b[49m\u001b[43m,\u001b[49m\n\u001b[1;32m    375\u001b[0m \u001b[43m        \u001b[49m\u001b[43mnames\u001b[49m\u001b[38;5;241;43m=\u001b[39;49m\u001b[43mnames\u001b[49m\u001b[43m,\u001b[49m\n\u001b[1;32m    376\u001b[0m \u001b[43m        \u001b[49m\u001b[43mverify_integrity\u001b[49m\u001b[38;5;241;43m=\u001b[39;49m\u001b[43mverify_integrity\u001b[49m\u001b[43m,\u001b[49m\n\u001b[1;32m    377\u001b[0m \u001b[43m        \u001b[49m\u001b[43mcopy\u001b[49m\u001b[38;5;241;43m=\u001b[39;49m\u001b[43mcopy\u001b[49m\u001b[43m,\u001b[49m\n\u001b[1;32m    378\u001b[0m \u001b[43m        \u001b[49m\u001b[43msort\u001b[49m\u001b[38;5;241;43m=\u001b[39;49m\u001b[43msort\u001b[49m\u001b[43m,\u001b[49m\n\u001b[1;32m    379\u001b[0m \u001b[43m    \u001b[49m\u001b[43m)\u001b[49m\n\u001b[1;32m    381\u001b[0m     \u001b[38;5;28;01mreturn\u001b[39;00m op\u001b[38;5;241m.\u001b[39mget_result()\n",
      "File \u001b[0;32m/opt/conda/lib/python3.10/site-packages/pandas/core/reshape/concat.py:448\u001b[0m, in \u001b[0;36m_Concatenator.__init__\u001b[0;34m(self, objs, axis, join, keys, levels, names, ignore_index, verify_integrity, copy, sort)\u001b[0m\n\u001b[1;32m    445\u001b[0m         keys \u001b[38;5;241m=\u001b[39m Index(clean_keys, name\u001b[38;5;241m=\u001b[39mname)\n\u001b[1;32m    447\u001b[0m \u001b[38;5;28;01mif\u001b[39;00m \u001b[38;5;28mlen\u001b[39m(objs) \u001b[38;5;241m==\u001b[39m \u001b[38;5;241m0\u001b[39m:\n\u001b[0;32m--> 448\u001b[0m     \u001b[38;5;28;01mraise\u001b[39;00m \u001b[38;5;167;01mValueError\u001b[39;00m(\u001b[38;5;124m\"\u001b[39m\u001b[38;5;124mAll objects passed were None\u001b[39m\u001b[38;5;124m\"\u001b[39m)\n\u001b[1;32m    450\u001b[0m \u001b[38;5;66;03m# figure out what our result ndim is going to be\u001b[39;00m\n\u001b[1;32m    451\u001b[0m ndims \u001b[38;5;241m=\u001b[39m \u001b[38;5;28mset\u001b[39m()\n",
      "\u001b[0;31mValueError\u001b[0m: All objects passed were None"
     ]
    }
   ],
   "source": [
    "season_results = extract_data(\"RegularSeasonDetailedResults\")\n",
    "tournament_results = extract_data(\"NCAATourneyDetailedResults\")\n",
    "seeds = extract_data(\"NCAATourneySeeds\")\n",
    "rankings = extract_data(\"MasseyOrdinals_thru_Season2023_Day128\")"
   ]
  },
  {
   "cell_type": "markdown",
   "id": "3fd4ab0b",
   "metadata": {
    "papermill": {
     "duration": 0.004346,
     "end_time": "2023-03-15T21:51:07.904551",
     "exception": false,
     "start_time": "2023-03-15T21:51:07.900205",
     "status": "completed"
    },
    "tags": []
   },
   "source": [
    "# Transform Data"
   ]
  },
  {
   "cell_type": "code",
   "execution_count": null,
   "id": "aace9bc6",
   "metadata": {
    "execution": {
     "iopub.execute_input": "2023-03-15T21:51:07.915136Z",
     "iopub.status.busy": "2023-03-15T21:51:07.914732Z",
     "iopub.status.idle": "2023-03-15T21:51:08.790517Z",
     "shell.execute_reply": "2023-03-15T21:51:08.789341Z"
    },
    "papermill": {
     "duration": 0.884053,
     "end_time": "2023-03-15T21:51:08.793232",
     "exception": false,
     "start_time": "2023-03-15T21:51:07.909179",
     "status": "completed"
    },
    "tags": []
   },
   "outputs": [],
   "source": [
    "season_team_features = get_team_features(season_results)\n",
    "\n",
    "tournament_results[\"Season\"] += 1\n",
    "tournament_team_features = get_team_features(tournament_results)\n",
    "\n",
    "seed_features = get_seed_features(seeds)\n",
    "\n",
    "ranking_features = get_ranking_features(rankings)"
   ]
  },
  {
   "cell_type": "markdown",
   "id": "46f161ca",
   "metadata": {
    "execution": {
     "iopub.execute_input": "2022-03-17T02:19:13.394565Z",
     "iopub.status.busy": "2022-03-17T02:19:13.394252Z",
     "iopub.status.idle": "2022-03-17T02:19:13.39899Z",
     "shell.execute_reply": "2022-03-17T02:19:13.397787Z",
     "shell.execute_reply.started": "2022-03-17T02:19:13.394538Z"
    },
    "papermill": {
     "duration": 0.004048,
     "end_time": "2023-03-15T21:51:08.801805",
     "exception": false,
     "start_time": "2023-03-15T21:51:08.797757",
     "status": "completed"
    },
    "tags": []
   },
   "source": [
    "## Merge features"
   ]
  },
  {
   "cell_type": "code",
   "execution_count": null,
   "id": "a309dd75",
   "metadata": {
    "execution": {
     "iopub.execute_input": "2023-03-15T21:51:08.811484Z",
     "iopub.status.busy": "2023-03-15T21:51:08.811163Z",
     "iopub.status.idle": "2023-03-15T21:51:08.835670Z",
     "shell.execute_reply": "2023-03-15T21:51:08.834486Z"
    },
    "papermill": {
     "duration": 0.031945,
     "end_time": "2023-03-15T21:51:08.837930",
     "exception": false,
     "start_time": "2023-03-15T21:51:08.805985",
     "status": "completed"
    },
    "tags": []
   },
   "outputs": [],
   "source": [
    "features = merge_features(season_team_features, tournament_team_features, seed_features, ranking_features)"
   ]
  },
  {
   "cell_type": "markdown",
   "id": "c08bb657",
   "metadata": {
    "papermill": {
     "duration": 0.003818,
     "end_time": "2023-03-15T21:51:08.846172",
     "exception": false,
     "start_time": "2023-03-15T21:51:08.842354",
     "status": "completed"
    },
    "tags": []
   },
   "source": [
    "## Build Datasets"
   ]
  },
  {
   "cell_type": "code",
   "execution_count": null,
   "id": "6b17fc67",
   "metadata": {
    "execution": {
     "iopub.execute_input": "2023-03-15T21:51:08.855433Z",
     "iopub.status.busy": "2023-03-15T21:51:08.855076Z",
     "iopub.status.idle": "2023-03-15T21:51:09.591018Z",
     "shell.execute_reply": "2023-03-15T21:51:09.589923Z"
    },
    "papermill": {
     "duration": 0.743678,
     "end_time": "2023-03-15T21:51:09.593925",
     "exception": false,
     "start_time": "2023-03-15T21:51:08.850247",
     "status": "completed"
    },
    "tags": []
   },
   "outputs": [],
   "source": [
    "from sklearn.model_selection import train_test_split\n",
    "\n",
    "data = extract_data(\"NCAATourneyCompactResults\")\n",
    "data_train, data_valid = train_test_split(data, random_state=0, test_size=0.1)\n",
    "\n",
    "outcomes = get_game_outcomes(data)\n",
    "outcomes_train = get_game_outcomes(data_train)\n",
    "outcomes_valid = get_game_outcomes(data_valid)\n",
    "outcomes_submission = get_submission_outcomes()"
   ]
  },
  {
   "cell_type": "code",
   "execution_count": null,
   "id": "19fe212c",
   "metadata": {
    "execution": {
     "iopub.execute_input": "2023-03-15T21:51:09.606231Z",
     "iopub.status.busy": "2023-03-15T21:51:09.604506Z",
     "iopub.status.idle": "2023-03-15T21:51:10.016423Z",
     "shell.execute_reply": "2023-03-15T21:51:10.015181Z"
    },
    "papermill": {
     "duration": 0.420656,
     "end_time": "2023-03-15T21:51:10.019525",
     "exception": false,
     "start_time": "2023-03-15T21:51:09.598869",
     "status": "completed"
    },
    "tags": []
   },
   "outputs": [],
   "source": [
    "features_train = merge_outcomes_with_features(outcomes_train, features)\n",
    "features_valid = merge_outcomes_with_features(outcomes_valid, features)\n",
    "features_full = merge_outcomes_with_features(outcomes, features)"
   ]
  },
  {
   "cell_type": "code",
   "execution_count": null,
   "id": "64d6f9d4",
   "metadata": {
    "execution": {
     "iopub.execute_input": "2023-03-15T21:51:10.030823Z",
     "iopub.status.busy": "2023-03-15T21:51:10.030128Z",
     "iopub.status.idle": "2023-03-15T21:51:19.067142Z",
     "shell.execute_reply": "2023-03-15T21:51:19.065517Z"
    },
    "papermill": {
     "duration": 9.047697,
     "end_time": "2023-03-15T21:51:19.071693",
     "exception": false,
     "start_time": "2023-03-15T21:51:10.023996",
     "status": "completed"
    },
    "tags": []
   },
   "outputs": [],
   "source": [
    "y_train = features_train[\"Win\"]\n",
    "X_train = features_train.drop(\"Win\", axis=1)\n",
    "y_valid = features_valid[\"Win\"]\n",
    "X_valid = features_valid.drop(\"Win\", axis=1)\n",
    "y = features_full[\"Win\"]\n",
    "X = features_full.drop(\"Win\", axis=1)\n",
    "X_submission = merge_outcomes_with_features(outcomes_submission, features, how=\"left\").fillna(0)"
   ]
  },
  {
   "cell_type": "markdown",
   "id": "be274496",
   "metadata": {
    "papermill": {
     "duration": 0.006925,
     "end_time": "2023-03-15T21:51:19.086220",
     "exception": false,
     "start_time": "2023-03-15T21:51:19.079295",
     "status": "completed"
    },
    "tags": []
   },
   "source": [
    "# Step 4: Train a model\n"
   ]
  },
  {
   "cell_type": "code",
   "execution_count": null,
   "id": "41d7d0d8",
   "metadata": {
    "execution": {
     "iopub.execute_input": "2023-03-15T21:51:19.102010Z",
     "iopub.status.busy": "2023-03-15T21:51:19.101404Z",
     "iopub.status.idle": "2023-03-15T21:54:28.690269Z",
     "shell.execute_reply": "2023-03-15T21:54:28.689337Z"
    },
    "papermill": {
     "duration": 189.599737,
     "end_time": "2023-03-15T21:54:28.692967",
     "exception": false,
     "start_time": "2023-03-15T21:51:19.093230",
     "status": "completed"
    },
    "tags": []
   },
   "outputs": [],
   "source": [
    "study = run_study(X_train, y_train)"
   ]
  },
  {
   "cell_type": "code",
   "execution_count": null,
   "id": "3af22850",
   "metadata": {
    "execution": {
     "iopub.execute_input": "2023-03-15T21:54:28.716472Z",
     "iopub.status.busy": "2023-03-15T21:54:28.716117Z",
     "iopub.status.idle": "2023-03-15T21:54:28.824951Z",
     "shell.execute_reply": "2023-03-15T21:54:28.824135Z"
    },
    "papermill": {
     "duration": 0.122695,
     "end_time": "2023-03-15T21:54:28.827572",
     "exception": false,
     "start_time": "2023-03-15T21:54:28.704877",
     "status": "completed"
    },
    "tags": []
   },
   "outputs": [],
   "source": [
    "params = study.best_params\n",
    "model = train_model(params, X_train, y_train, SCORING)\n",
    "preds = model.predict_proba(X_valid)[:,1]\n",
    "print(\"Brier Score:\", brier_score_loss(y_valid, preds))\n",
    "print(\"ROC AUC:\", roc_auc_score(y_valid, preds))\n",
    "print(\"Parameters\")\n",
    "print(*(f\"- {key}: {value}\" for key, value in model.get_params(deep=True).items()), sep=\"\\n\")"
   ]
  },
  {
   "cell_type": "markdown",
   "id": "6ab2078f",
   "metadata": {
    "papermill": {
     "duration": 0.009716,
     "end_time": "2023-03-15T21:54:28.848630",
     "exception": false,
     "start_time": "2023-03-15T21:54:28.838914",
     "status": "completed"
    },
    "tags": []
   },
   "source": [
    "# Submit to the competition\n",
    "\n",
    "We\"ll begin by using the trained model to generate predictions, which we\"ll save to a CSV file."
   ]
  },
  {
   "cell_type": "code",
   "execution_count": null,
   "id": "e56ff6ce",
   "metadata": {
    "execution": {
     "iopub.execute_input": "2023-03-15T21:54:28.869943Z",
     "iopub.status.busy": "2023-03-15T21:54:28.869607Z",
     "iopub.status.idle": "2023-03-15T21:54:29.739931Z",
     "shell.execute_reply": "2023-03-15T21:54:29.738824Z"
    },
    "papermill": {
     "duration": 0.884603,
     "end_time": "2023-03-15T21:54:29.743090",
     "exception": false,
     "start_time": "2023-03-15T21:54:28.858487",
     "status": "completed"
    },
    "tags": []
   },
   "outputs": [],
   "source": [
    "# Use the model to generate predictions\n",
    "model.fit(X, y)\n",
    "predictions = model.predict_proba(X_submission)[:,1]\n",
    "\n",
    "# Save the predictions to a CSV file\n",
    "output = pd.DataFrame({\"ID\": X_submission.index,\n",
    "                       \"Pred\": predictions})\n",
    "output.to_csv(\"submission.csv\", index=False)\n",
    "print(output.shape)\n",
    "output.describe()"
   ]
  },
  {
   "cell_type": "code",
   "execution_count": null,
   "id": "e366be47",
   "metadata": {
    "papermill": {
     "duration": 0.014962,
     "end_time": "2023-03-15T21:54:29.774432",
     "exception": false,
     "start_time": "2023-03-15T21:54:29.759470",
     "status": "completed"
    },
    "tags": []
   },
   "outputs": [],
   "source": []
  }
 ],
 "metadata": {
  "kernelspec": {
   "display_name": "Python 3 (ipykernel)",
   "language": "python",
   "name": "python3"
  },
  "language_info": {
   "codemirror_mode": {
    "name": "ipython",
    "version": 3
   },
   "file_extension": ".py",
   "mimetype": "text/x-python",
   "name": "python",
   "nbconvert_exporter": "python",
   "pygments_lexer": "ipython3",
   "version": "3.10.9"
  },
  "papermill": {
   "default_parameters": {},
   "duration": 218.790346,
   "end_time": "2023-03-15T21:54:31.215586",
   "environment_variables": {},
   "exception": null,
   "input_path": "__notebook__.ipynb",
   "output_path": "__notebook__.ipynb",
   "parameters": {},
   "start_time": "2023-03-15T21:50:52.425240",
   "version": "2.4.0"
  }
 },
 "nbformat": 4,
 "nbformat_minor": 5
}
