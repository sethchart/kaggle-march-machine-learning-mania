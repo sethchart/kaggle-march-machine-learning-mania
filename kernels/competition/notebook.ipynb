{
 "cells": [
  {
   "cell_type": "markdown",
   "id": "e6633996",
   "metadata": {
    "papermill": {
     "duration": 0.004914,
     "end_time": "2023-03-15T16:56:26.643311",
     "exception": false,
     "start_time": "2023-03-15T16:56:26.638397",
     "status": "completed"
    },
    "tags": []
   },
   "source": [
    "# Imports and Utilities"
   ]
  },
  {
   "cell_type": "code",
   "execution_count": 1,
   "id": "b63fb043",
   "metadata": {
    "execution": {
     "iopub.execute_input": "2023-03-15T16:56:26.653030Z",
     "iopub.status.busy": "2023-03-15T16:56:26.652590Z",
     "iopub.status.idle": "2023-03-15T16:56:29.745399Z",
     "shell.execute_reply": "2023-03-15T16:56:29.744378Z"
    },
    "papermill": {
     "duration": 3.100806,
     "end_time": "2023-03-15T16:56:29.747996",
     "exception": false,
     "start_time": "2023-03-15T16:56:26.647190",
     "status": "completed"
    },
    "tags": []
   },
   "outputs": [
    {
     "data": {
      "text/html": [
       "<style type='text/css'>\n",
       ".datatable table.frame { margin-bottom: 0; }\n",
       ".datatable table.frame thead { border-bottom: none; }\n",
       ".datatable table.frame tr.coltypes td {  color: #FFFFFF;  line-height: 6px;  padding: 0 0.5em;}\n",
       ".datatable .bool    { background: #DDDD99; }\n",
       ".datatable .object  { background: #565656; }\n",
       ".datatable .int     { background: #5D9E5D; }\n",
       ".datatable .float   { background: #4040CC; }\n",
       ".datatable .str     { background: #CC4040; }\n",
       ".datatable .time    { background: #40CC40; }\n",
       ".datatable .row_index {  background: var(--jp-border-color3);  border-right: 1px solid var(--jp-border-color0);  color: var(--jp-ui-font-color3);  font-size: 9px;}\n",
       ".datatable .frame tbody td { text-align: left; }\n",
       ".datatable .frame tr.coltypes .row_index {  background: var(--jp-border-color0);}\n",
       ".datatable th:nth-child(2) { padding-left: 12px; }\n",
       ".datatable .hellipsis {  color: var(--jp-cell-editor-border-color);}\n",
       ".datatable .vellipsis {  background: var(--jp-layout-color0);  color: var(--jp-cell-editor-border-color);}\n",
       ".datatable .na {  color: var(--jp-cell-editor-border-color);  font-size: 80%;}\n",
       ".datatable .sp {  opacity: 0.25;}\n",
       ".datatable .footer { font-size: 9px; }\n",
       ".datatable .frame_dimensions {  background: var(--jp-border-color3);  border-top: 1px solid var(--jp-border-color0);  color: var(--jp-ui-font-color3);  display: inline-block;  opacity: 0.6;  padding: 1px 10px 1px 5px;}\n",
       "</style>\n"
      ],
      "text/plain": [
       "<IPython.core.display.HTML object>"
      ]
     },
     "metadata": {},
     "output_type": "display_data"
    }
   ],
   "source": [
    "from typing import List, Tuple\n",
    "import numpy as np\n",
    "import pandas as pd\n",
    "from IPython.display import Markdown\n",
    "import optuna\n",
    "import lightgbm as lgb\n",
    "from sklearn.metrics import roc_auc_score, brier_score_loss\n",
    "from sklearn.model_selection import cross_val_score\n",
    "\n",
    "COMPETITION_NAME = \"march-machine-learning-mania-2023\"\n",
    "VERBOSE = False\n",
    "\n",
    "pd.set_option(\"display.max_columns\", None)\n",
    "\n",
    "def show_df(df: pd.DataFrame, name: str = \"DataFrame\", verbose: bool = VERBOSE):\n",
    "    if verbose:\n",
    "        display(Markdown(f\"## {name}\"))\n",
    "        display(Markdown(\"### Head\"))\n",
    "        display(df.head())\n",
    "        display(Markdown(\"### Tail\"))\n",
    "        display(df.tail())\n",
    "        display(Markdown(\"### Description\"))\n",
    "        display(df.describe())\n",
    "\n",
    "\n",
    "def extract_data(filename: str, competition_name:str = COMPETITION_NAME) -> pd.DataFrame:\n",
    "    mens_filepath = f\"/kaggle/input/{competition_name}/M{filename}.csv\"\n",
    "    womens_filepath = f\"/kaggle/input/{competition_name}/W{filename}.csv\"\n",
    "    try:\n",
    "        df_mens = pd.read_csv(mens_filepath)\n",
    "    except FileNotFoundError:\n",
    "        df_mens = None\n",
    "    try:\n",
    "        df_womens = pd.read_csv(womens_filepath)\n",
    "    except FileNotFoundError:\n",
    "        df_womens = None\n",
    "    df = pd.concat([df_mens, df_womens])\n",
    "    show_df(df, filename)\n",
    "    return df\n",
    "\n",
    "\n",
    "def get_team_features(detailed_results: pd.DataFrame) -> pd.DataFrame:\n",
    "    df = detailed_results.copy()\n",
    "    df = clean_detailed_results(df)\n",
    "    df = transform_game_to_team(df)\n",
    "    df = transform_team_results(df)\n",
    "    show_df(df)\n",
    "    return df\n",
    "\n",
    "\n",
    "def get_seed_features(df_in: pd.DataFrame) -> pd.DataFrame:\n",
    "    df = df_in.copy()\n",
    "    mask = df[\"Season\"] > 2002\n",
    "    df = df[mask]\n",
    "    df[\"Seed\"] = df[\"Seed\"].str.replace(r\"\\D+\",\"\", regex=True)\n",
    "    df[\"Seed\"] = df[\"Seed\"].astype(int)\n",
    "    show_df(df)\n",
    "    return df\n",
    "\n",
    "\n",
    "def get_ranking_features(df_in:pd.DataFrame) -> pd.DataFrame:\n",
    "    df = df_in.copy()\n",
    "    mask = df[\"RankingDayNum\"] == df[\"RankingDayNum\"].max()\n",
    "    df = df[mask]\n",
    "    df.drop([\"SystemName\", \"RankingDayNum\"], axis=1, inplace=True)\n",
    "    df = df.groupby([\"Season\", \"TeamID\"]).agg(\"median\")\n",
    "    df = df.reset_index()\n",
    "    show_df(df)\n",
    "    return df\n",
    "\n",
    "\n",
    "def get_game_outcomes(df):\n",
    "    input_rows = df.to_records()\n",
    "    output_rows = []\n",
    "    for input_row in input_rows:\n",
    "        output_rows.extend(parse_row(input_row))\n",
    "    out_df = pd.DataFrame(output_rows)\n",
    "    return out_df\n",
    "\n",
    "def parse_row(row):\n",
    "    season = row['Season']\n",
    "    winning_team_id = row['WTeamID']\n",
    "    losing_team_id = row['LTeamID']\n",
    "    if winning_team_id < losing_team_id:\n",
    "        small_id = winning_team_id\n",
    "        big_id = losing_team_id\n",
    "        outcome = True\n",
    "    elif losing_team_id < winning_team_id:\n",
    "        small_id = losing_team_id\n",
    "        big_id = winning_team_id\n",
    "        outcome = False\n",
    "    records = [\n",
    "        {\n",
    "            \"ID\": f\"{season}_{small_id}_{big_id}\",\n",
    "            'Season': season,\n",
    "            'LowID': small_id,\n",
    "            'HighID': big_id,\n",
    "            'Win': outcome\n",
    "        },\n",
    "        {\n",
    "            \"ID\": f\"{season}_{big_id}_{small_id}\",\n",
    "            'Season': season,\n",
    "            'LowID': big_id,\n",
    "            'HighID': small_id,\n",
    "            'Win': not outcome\n",
    "        },\n",
    "    ]\n",
    "    return records\n",
    "\n",
    "\n",
    "def clean_detailed_results(df: pd.DataFrame) -> pd.DataFrame:\n",
    "    return df.drop([\"WLoc\", \"DayNum\"], axis=1)\n",
    "\n",
    "\n",
    "def transform_game_to_team(game_results: pd.DataFrame) -> pd.DataFrame:\n",
    "    winners = rename_columns(game_results, \"W\")\n",
    "    loosers = rename_columns(game_results, \"L\")\n",
    "    team_results = pd.concat((winners, loosers))\n",
    "    team_results.drop([\"TeamIDOpp\"], axis=1, inplace=True)\n",
    "    return team_results\n",
    "\n",
    "\n",
    "def transform_team_results(df: pd.DataFrame) -> pd.DataFrame:\n",
    "    df = df.groupby([\"Season\", \"TeamID\"]).median()\n",
    "    df[\"FGP\"] =  df[\"FGM\"] / df[\"FGA\"]\n",
    "    df[\"FGP3\"] =  df[\"FGM3\"] / df[\"FGA3\"]\n",
    "    df[\"FTP\"] =  df[\"FTM\"] / df[\"FTA\"]\n",
    "    df[\"FGPOpp\"] =  df[\"FGMOpp\"] / df[\"FGAOpp\"]\n",
    "    df[\"FGP3Opp\"] =  df[\"FGM3Opp\"] / df[\"FGA3Opp\"]\n",
    "    df[\"FTPOpp\"] =  df[\"FTMOpp\"] / df[\"FTAOpp\"]\n",
    "    return df.reset_index()\n",
    "    \n",
    "    \n",
    "def rename_columns(df: pd.DataFrame, team_prefix: str) -> pd.DataFrame:\n",
    "    df = df.copy()\n",
    "    df.columns =  (rename_column(column_name, team_prefix) for column_name in df.columns)\n",
    "    return df\n",
    "\n",
    "\n",
    "def rename_column(column_name: str, team_prefix: str) -> pd.DataFrame:\n",
    "    if team_prefix == \"W\":\n",
    "        opponent_prefix = \"L\"\n",
    "    elif team_prefix == \"L\":\n",
    "        opponent_prefix = \"W\"\n",
    "    else:\n",
    "        raise ValueError\n",
    "    if column_name.startswith(team_prefix):\n",
    "        column_name = column_name.lstrip(team_prefix)\n",
    "    elif column_name.startswith(opponent_prefix):\n",
    "        column_name = f\"{column_name.lstrip(opponent_prefix)}Opp\"\n",
    "    return column_name\n",
    "\n",
    "\n",
    "def split_winner_and_looser_columns(df: pd.DataFrame) -> Tuple[List[str], List[str]]:\n",
    "    winner_columns = [name for name in df.columns if not name.startswith(\"L\")]\n",
    "    looser_columns = [name for name in df.columns if not name.startswith(\"W\")]\n",
    "    return winner_columns, looser_columns\n",
    "\n",
    "\n",
    "def merge_features(\n",
    "    season_features: pd.DataFrame, \n",
    "    tournament_features: pd.DataFrame, \n",
    "    seed_features: pd.DataFrame, \n",
    "    ranking_features: pd.DataFrame\n",
    ") -> pd.DataFrame:\n",
    "    features = pd.merge(\n",
    "        season_features,\n",
    "        tournament_features,\n",
    "        how=\"inner\",\n",
    "        on=[\"Season\", \"TeamID\"],\n",
    "        suffixes=(\"Reg\", \"Tou\")\n",
    "    )\n",
    "    features = features.merge(\n",
    "        seed_features,\n",
    "        how=\"inner\",\n",
    "        on=[\"Season\", \"TeamID\"]\n",
    "    )\n",
    "    features = features.merge(\n",
    "        ranking_features,\n",
    "        how=\"left\",\n",
    "        on=[\"Season\", \"TeamID\"],\n",
    "    )\n",
    "    show_df(features)\n",
    "    return features\n",
    "\n",
    "\n",
    "def merge_outcomes_with_features(outcomes: pd.DataFrame, features: pd.DataFrame, how: str = \"inner\") -> pd.DataFrame:\n",
    "    feature_names = [name for name in features.columns if name not in [\"Season\", \"TeamID\", \"Gender\"]]\n",
    "    data = pd.merge(\n",
    "        outcomes, \n",
    "        features, \n",
    "        how=how, \n",
    "        left_on=[\"Season\", \"HighID\"], \n",
    "        right_on=[\"Season\", \"TeamID\"]\n",
    "    )\n",
    "    data = pd.merge(\n",
    "        data, \n",
    "        features, \n",
    "        how=how, \n",
    "        left_on=[\"Season\", \"LowID\"], \n",
    "        right_on=[\"Season\", \"TeamID\"],\n",
    "        suffixes=(\"High\", \"Low\")\n",
    "    )\n",
    "    for name in feature_names:\n",
    "        data[f\"{name}Diff\"] = data[f\"{name}High\"] - data[f\"{name}Low\"]\n",
    "        data.drop([f\"{name}High\", f\"{name}Low\"], axis=1, inplace=True)\n",
    "    data.drop(\n",
    "        [\"Season\", \"HighID\", \"LowID\",\"TeamIDHigh\",\"TeamIDLow\"], \n",
    "        axis=1, \n",
    "        inplace=True\n",
    "    )\n",
    "    data.set_index(\"ID\", inplace=True)\n",
    "    show_df(data)\n",
    "    return data\n",
    "\n",
    "\n",
    "def get_submission_outcomes() -> pd.DataFrame:\n",
    "    sample_submission = pd.read_csv(f\"/kaggle/input/{COMPETITION_NAME}/SampleSubmission.csv\")\n",
    "    df = sample_submission.copy()\n",
    "    df.drop(\"Pred\", axis=1, inplace=True)\n",
    "    df[[\"Season\", \"LowID\", \"HighID\"]] = df[\"ID\"].str.split(\"_\", expand=True)\n",
    "    df[[\"Season\", \"LowID\", \"HighID\"]] = df[[\"Season\", \"LowID\", \"HighID\"]].astype(int)\n",
    "    show_df(df)\n",
    "    return df\n",
    "\n",
    "\n",
    "def objective(trial: optuna.Trial, X_train, y_train):\n",
    "    params = {\n",
    "        \"objective\": \"binary\",\n",
    "        \"metric\": \"l2\",\n",
    "        \"verbosity\": -1,\n",
    "        \"boosting_type\": \"gbdt\",\n",
    "        \"lambda_l1\": trial.suggest_float(\"lambda_l1\", 1e-8, 10.0, log=True),\n",
    "        \"lambda_l2\": trial.suggest_float(\"lambda_l2\", 1e-8, 10.0, log=True),\n",
    "        \"num_leaves\": trial.suggest_int(\"num_leaves\", 2, 256),\n",
    "        \"feature_fraction\": trial.suggest_float(\"feature_fraction\", 0.4, 1.0),\n",
    "        \"bagging_fraction\": trial.suggest_float(\"bagging_fraction\", 0.4, 1.0),\n",
    "        \"bagging_freq\": trial.suggest_int(\"bagging_freq\", 1, 7),\n",
    "        \"min_child_samples\": trial.suggest_int(\"min_child_samples\", 5, 100),\n",
    "    }\n",
    "    model = lgb.LGBMClassifier(**params)\n",
    "    score = np.mean(cross_val_score(model, X_train, y_train, scoring=\"neg_brier_score\", cv=5))\n",
    "    return score\n",
    "\n",
    "\n",
    "def run_study(X_train, y_train):\n",
    "    study = optuna.create_study(direction=\"maximize\")\n",
    "    study.optimize(lambda trial: objective(trial, X_train, y_train), n_trials=100)\n",
    "    return study\n",
    "\n",
    "\n",
    "def train_optimized_model(study, X, y):\n",
    "    params = study.best_params\n",
    "    model = lgb.LGBMClassifier(\n",
    "        objective=\"binary\",\n",
    "        metric=\"l2\",\n",
    "        verbosity=-1,\n",
    "        boosting_type=\"gbdt\",\n",
    "        **params\n",
    "    )\n",
    "    model = model.fit(X, y)\n",
    "    return model"
   ]
  },
  {
   "cell_type": "markdown",
   "id": "466152dc",
   "metadata": {
    "papermill": {
     "duration": 0.003771,
     "end_time": "2023-03-15T16:56:29.756127",
     "exception": false,
     "start_time": "2023-03-15T16:56:29.752356",
     "status": "completed"
    },
    "tags": []
   },
   "source": [
    "# Load Data"
   ]
  },
  {
   "cell_type": "code",
   "execution_count": 2,
   "id": "715237cf",
   "metadata": {
    "execution": {
     "iopub.execute_input": "2023-03-15T16:56:29.766555Z",
     "iopub.status.busy": "2023-03-15T16:56:29.764855Z",
     "iopub.status.idle": "2023-03-15T16:56:33.477693Z",
     "shell.execute_reply": "2023-03-15T16:56:33.476605Z"
    },
    "papermill": {
     "duration": 3.720972,
     "end_time": "2023-03-15T16:56:33.480851",
     "exception": false,
     "start_time": "2023-03-15T16:56:29.759879",
     "status": "completed"
    },
    "tags": []
   },
   "outputs": [],
   "source": [
    "season_results = extract_data(\"RegularSeasonDetailedResults\")\n",
    "tournament_results = extract_data(\"NCAATourneyDetailedResults\")\n",
    "seeds = extract_data(\"NCAATourneySeeds\")\n",
    "rankings = extract_data(\"MasseyOrdinals\")"
   ]
  },
  {
   "cell_type": "markdown",
   "id": "762d5878",
   "metadata": {
    "papermill": {
     "duration": 0.004019,
     "end_time": "2023-03-15T16:56:33.489576",
     "exception": false,
     "start_time": "2023-03-15T16:56:33.485557",
     "status": "completed"
    },
    "tags": []
   },
   "source": [
    "# Transform Data"
   ]
  },
  {
   "cell_type": "code",
   "execution_count": 3,
   "id": "d9e51940",
   "metadata": {
    "execution": {
     "iopub.execute_input": "2023-03-15T16:56:33.499226Z",
     "iopub.status.busy": "2023-03-15T16:56:33.498863Z",
     "iopub.status.idle": "2023-03-15T16:56:34.346846Z",
     "shell.execute_reply": "2023-03-15T16:56:34.345786Z"
    },
    "papermill": {
     "duration": 0.855786,
     "end_time": "2023-03-15T16:56:34.349433",
     "exception": false,
     "start_time": "2023-03-15T16:56:33.493647",
     "status": "completed"
    },
    "tags": []
   },
   "outputs": [],
   "source": [
    "season_team_features = get_team_features(season_results)\n",
    "\n",
    "tournament_results[\"Season\"] += 1\n",
    "tournament_team_features = get_team_features(tournament_results)\n",
    "\n",
    "seed_features = get_seed_features(seeds)\n",
    "\n",
    "ranking_features = get_ranking_features(rankings)"
   ]
  },
  {
   "cell_type": "markdown",
   "id": "f8a740a5",
   "metadata": {
    "execution": {
     "iopub.execute_input": "2022-03-17T02:19:13.394565Z",
     "iopub.status.busy": "2022-03-17T02:19:13.394252Z",
     "iopub.status.idle": "2022-03-17T02:19:13.39899Z",
     "shell.execute_reply": "2022-03-17T02:19:13.397787Z",
     "shell.execute_reply.started": "2022-03-17T02:19:13.394538Z"
    },
    "papermill": {
     "duration": 0.003868,
     "end_time": "2023-03-15T16:56:34.357597",
     "exception": false,
     "start_time": "2023-03-15T16:56:34.353729",
     "status": "completed"
    },
    "tags": []
   },
   "source": [
    "## Merge features"
   ]
  },
  {
   "cell_type": "code",
   "execution_count": 4,
   "id": "ba67090e",
   "metadata": {
    "execution": {
     "iopub.execute_input": "2023-03-15T16:56:34.366688Z",
     "iopub.status.busy": "2023-03-15T16:56:34.366387Z",
     "iopub.status.idle": "2023-03-15T16:56:34.387409Z",
     "shell.execute_reply": "2023-03-15T16:56:34.386435Z"
    },
    "papermill": {
     "duration": 0.028324,
     "end_time": "2023-03-15T16:56:34.389806",
     "exception": false,
     "start_time": "2023-03-15T16:56:34.361482",
     "status": "completed"
    },
    "tags": []
   },
   "outputs": [],
   "source": [
    "features = merge_features(season_team_features, tournament_team_features, seed_features, ranking_features)"
   ]
  },
  {
   "cell_type": "markdown",
   "id": "1fcd5f98",
   "metadata": {
    "papermill": {
     "duration": 0.004178,
     "end_time": "2023-03-15T16:56:34.398335",
     "exception": false,
     "start_time": "2023-03-15T16:56:34.394157",
     "status": "completed"
    },
    "tags": []
   },
   "source": [
    "## Build Datasets"
   ]
  },
  {
   "cell_type": "code",
   "execution_count": 5,
   "id": "81b73524",
   "metadata": {
    "execution": {
     "iopub.execute_input": "2023-03-15T16:56:34.408681Z",
     "iopub.status.busy": "2023-03-15T16:56:34.408350Z",
     "iopub.status.idle": "2023-03-15T16:56:37.038625Z",
     "shell.execute_reply": "2023-03-15T16:56:37.037326Z"
    },
    "papermill": {
     "duration": 2.638452,
     "end_time": "2023-03-15T16:56:37.041288",
     "exception": false,
     "start_time": "2023-03-15T16:56:34.402836",
     "status": "completed"
    },
    "tags": []
   },
   "outputs": [],
   "source": [
    "from sklearn.model_selection import train_test_split\n",
    "\n",
    "data = extract_data(\"NCAATourneyCompactResults\")\n",
    "data_train, data_valid = train_test_split(data, random_state=0, test_size=0.1)\n",
    "\n",
    "outcomes = get_game_outcomes(data)\n",
    "outcomes_train = get_game_outcomes(data_train)\n",
    "outcomes_valid = get_game_outcomes(data_valid)\n",
    "outcomes_submission = get_submission_outcomes()"
   ]
  },
  {
   "cell_type": "code",
   "execution_count": 6,
   "id": "f156710b",
   "metadata": {
    "execution": {
     "iopub.execute_input": "2023-03-15T16:56:37.052050Z",
     "iopub.status.busy": "2023-03-15T16:56:37.051045Z",
     "iopub.status.idle": "2023-03-15T16:56:37.448243Z",
     "shell.execute_reply": "2023-03-15T16:56:37.447145Z"
    },
    "papermill": {
     "duration": 0.405723,
     "end_time": "2023-03-15T16:56:37.451482",
     "exception": false,
     "start_time": "2023-03-15T16:56:37.045759",
     "status": "completed"
    },
    "tags": []
   },
   "outputs": [],
   "source": [
    "features_train = merge_outcomes_with_features(outcomes_train, features)\n",
    "features_valid = merge_outcomes_with_features(outcomes_valid, features)\n",
    "features_full = merge_outcomes_with_features(outcomes, features)"
   ]
  },
  {
   "cell_type": "code",
   "execution_count": 7,
   "id": "45fe0102",
   "metadata": {
    "execution": {
     "iopub.execute_input": "2023-03-15T16:56:37.462100Z",
     "iopub.status.busy": "2023-03-15T16:56:37.461757Z",
     "iopub.status.idle": "2023-03-15T16:57:17.166218Z",
     "shell.execute_reply": "2023-03-15T16:57:17.165135Z"
    },
    "papermill": {
     "duration": 39.712728,
     "end_time": "2023-03-15T16:57:17.168893",
     "exception": false,
     "start_time": "2023-03-15T16:56:37.456165",
     "status": "completed"
    },
    "tags": []
   },
   "outputs": [],
   "source": [
    "y_train = features_train[\"Win\"]\n",
    "X_train = features_train.drop(\"Win\", axis=1)\n",
    "y_valid = features_valid[\"Win\"]\n",
    "X_valid = features_valid.drop(\"Win\", axis=1)\n",
    "y = features_full[\"Win\"]\n",
    "X = features_full.drop(\"Win\", axis=1)\n",
    "X_submission = merge_outcomes_with_features(outcomes_submission, features, how=\"left\").fillna(0)"
   ]
  },
  {
   "cell_type": "markdown",
   "id": "d55d439d",
   "metadata": {
    "papermill": {
     "duration": 0.003723,
     "end_time": "2023-03-15T16:57:17.177051",
     "exception": false,
     "start_time": "2023-03-15T16:57:17.173328",
     "status": "completed"
    },
    "tags": []
   },
   "source": [
    "# Step 4: Train a model\n"
   ]
  },
  {
   "cell_type": "code",
   "execution_count": 8,
   "id": "3fa42f9f",
   "metadata": {
    "execution": {
     "iopub.execute_input": "2023-03-15T16:57:17.186157Z",
     "iopub.status.busy": "2023-03-15T16:57:17.185828Z",
     "iopub.status.idle": "2023-03-15T16:58:07.447317Z",
     "shell.execute_reply": "2023-03-15T16:58:07.446357Z"
    },
    "papermill": {
     "duration": 50.268665,
     "end_time": "2023-03-15T16:58:07.449639",
     "exception": false,
     "start_time": "2023-03-15T16:57:17.180974",
     "status": "completed"
    },
    "tags": []
   },
   "outputs": [
    {
     "name": "stderr",
     "output_type": "stream",
     "text": [
      "\u001b[32m[I 2023-03-15 16:57:17,187]\u001b[0m A new study created in memory with name: no-name-b4da9861-ad63-4f00-a892-15af649f63a7\u001b[0m\n"
     ]
    },
    {
     "name": "stdout",
     "output_type": "stream",
     "text": [
      "[LightGBM] [Warning] bagging_fraction is set=0.5713758130281501, subsample=1.0 will be ignored. Current value: bagging_fraction=0.5713758130281501\n",
      "[LightGBM] [Warning] lambda_l1 is set=0.001586910580501821, reg_alpha=0.0 will be ignored. Current value: lambda_l1=0.001586910580501821\n",
      "[LightGBM] [Warning] feature_fraction is set=0.5291107145805203, colsample_bytree=1.0 will be ignored. Current value: feature_fraction=0.5291107145805203\n",
      "[LightGBM] [Warning] lambda_l2 is set=7.445561432009636e-05, reg_lambda=0.0 will be ignored. Current value: lambda_l2=7.445561432009636e-05\n",
      "[LightGBM] [Warning] bagging_freq is set=4, subsample_freq=0 will be ignored. Current value: bagging_freq=4\n",
      "[LightGBM] [Warning] bagging_fraction is set=0.5713758130281501, subsample=1.0 will be ignored. Current value: bagging_fraction=0.5713758130281501\n",
      "[LightGBM] [Warning] lambda_l1 is set=0.001586910580501821, reg_alpha=0.0 will be ignored. Current value: lambda_l1=0.001586910580501821\n",
      "[LightGBM] [Warning] feature_fraction is set=0.5291107145805203, colsample_bytree=1.0 will be ignored. Current value: feature_fraction=0.5291107145805203\n",
      "[LightGBM] [Warning] lambda_l2 is set=7.445561432009636e-05, reg_lambda=0.0 will be ignored. Current value: lambda_l2=7.445561432009636e-05\n",
      "[LightGBM] [Warning] bagging_freq is set=4, subsample_freq=0 will be ignored. Current value: bagging_freq=4\n",
      "[LightGBM] [Warning] bagging_fraction is set=0.5713758130281501, subsample=1.0 will be ignored. Current value: bagging_fraction=0.5713758130281501\n",
      "[LightGBM] [Warning] lambda_l1 is set=0.001586910580501821, reg_alpha=0.0 will be ignored. Current value: lambda_l1=0.001586910580501821\n",
      "[LightGBM] [Warning] feature_fraction is set=0.5291107145805203, colsample_bytree=1.0 will be ignored. Current value: feature_fraction=0.5291107145805203\n",
      "[LightGBM] [Warning] lambda_l2 is set=7.445561432009636e-05, reg_lambda=0.0 will be ignored. Current value: lambda_l2=7.445561432009636e-05\n",
      "[LightGBM] [Warning] bagging_freq is set=4, subsample_freq=0 will be ignored. Current value: bagging_freq=4\n",
      "[LightGBM] [Warning] bagging_fraction is set=0.5713758130281501, subsample=1.0 will be ignored. Current value: bagging_fraction=0.5713758130281501\n",
      "[LightGBM] [Warning] lambda_l1 is set=0.001586910580501821, reg_alpha=0.0 will be ignored. Current value: lambda_l1=0.001586910580501821\n",
      "[LightGBM] [Warning] feature_fraction is set=0.5291107145805203, colsample_bytree=1.0 will be ignored. Current value: feature_fraction=0.5291107145805203\n",
      "[LightGBM] [Warning] lambda_l2 is set=7.445561432009636e-05, reg_lambda=0.0 will be ignored. Current value: lambda_l2=7.445561432009636e-05\n",
      "[LightGBM] [Warning] bagging_freq is set=4, subsample_freq=0 will be ignored. Current value: bagging_freq=4\n"
     ]
    },
    {
     "name": "stderr",
     "output_type": "stream",
     "text": [
      "\u001b[32m[I 2023-03-15 16:57:17,764]\u001b[0m Trial 0 finished with value: -0.22436824435217093 and parameters: {'lambda_l1': 0.001586910580501821, 'lambda_l2': 7.445561432009636e-05, 'num_leaves': 152, 'feature_fraction': 0.5291107145805203, 'bagging_fraction': 0.5713758130281501, 'bagging_freq': 4, 'min_child_samples': 33}. Best is trial 0 with value: -0.22436824435217093.\u001b[0m\n"
     ]
    },
    {
     "name": "stdout",
     "output_type": "stream",
     "text": [
      "[LightGBM] [Warning] bagging_fraction is set=0.5713758130281501, subsample=1.0 will be ignored. Current value: bagging_fraction=0.5713758130281501\n",
      "[LightGBM] [Warning] lambda_l1 is set=0.001586910580501821, reg_alpha=0.0 will be ignored. Current value: lambda_l1=0.001586910580501821\n",
      "[LightGBM] [Warning] feature_fraction is set=0.5291107145805203, colsample_bytree=1.0 will be ignored. Current value: feature_fraction=0.5291107145805203\n",
      "[LightGBM] [Warning] lambda_l2 is set=7.445561432009636e-05, reg_lambda=0.0 will be ignored. Current value: lambda_l2=7.445561432009636e-05\n",
      "[LightGBM] [Warning] bagging_freq is set=4, subsample_freq=0 will be ignored. Current value: bagging_freq=4\n",
      "[LightGBM] [Warning] bagging_fraction is set=0.7727452707355085, subsample=1.0 will be ignored. Current value: bagging_fraction=0.7727452707355085\n",
      "[LightGBM] [Warning] lambda_l1 is set=0.0041862008615957645, reg_alpha=0.0 will be ignored. Current value: lambda_l1=0.0041862008615957645\n",
      "[LightGBM] [Warning] feature_fraction is set=0.4178189501652701, colsample_bytree=1.0 will be ignored. Current value: feature_fraction=0.4178189501652701\n",
      "[LightGBM] [Warning] lambda_l2 is set=8.000402038039354e-06, reg_lambda=0.0 will be ignored. Current value: lambda_l2=8.000402038039354e-06\n",
      "[LightGBM] [Warning] bagging_freq is set=1, subsample_freq=0 will be ignored. Current value: bagging_freq=1\n",
      "[LightGBM] [Warning] bagging_fraction is set=0.7727452707355085, subsample=1.0 will be ignored. Current value: bagging_fraction=0.7727452707355085\n",
      "[LightGBM] [Warning] lambda_l1 is set=0.0041862008615957645, reg_alpha=0.0 will be ignored. Current value: lambda_l1=0.0041862008615957645\n",
      "[LightGBM] [Warning] feature_fraction is set=0.4178189501652701, colsample_bytree=1.0 will be ignored. Current value: feature_fraction=0.4178189501652701\n",
      "[LightGBM] [Warning] lambda_l2 is set=8.000402038039354e-06, reg_lambda=0.0 will be ignored. Current value: lambda_l2=8.000402038039354e-06\n",
      "[LightGBM] [Warning] bagging_freq is set=1, subsample_freq=0 will be ignored. Current value: bagging_freq=1\n",
      "[LightGBM] [Warning] bagging_fraction is set=0.7727452707355085, subsample=1.0 will be ignored. Current value: bagging_fraction=0.7727452707355085\n",
      "[LightGBM] [Warning] lambda_l1 is set=0.0041862008615957645, reg_alpha=0.0 will be ignored. Current value: lambda_l1=0.0041862008615957645\n",
      "[LightGBM] [Warning] feature_fraction is set=0.4178189501652701, colsample_bytree=1.0 will be ignored. Current value: feature_fraction=0.4178189501652701\n",
      "[LightGBM] [Warning] lambda_l2 is set=8.000402038039354e-06, reg_lambda=0.0 will be ignored. Current value: lambda_l2=8.000402038039354e-06\n",
      "[LightGBM] [Warning] bagging_freq is set=1, subsample_freq=0 will be ignored. Current value: bagging_freq=1\n",
      "[LightGBM] [Warning] bagging_fraction is set=0.7727452707355085, subsample=1.0 will be ignored. Current value: bagging_fraction=0.7727452707355085\n",
      "[LightGBM] [Warning] lambda_l1 is set=0.0041862008615957645, reg_alpha=0.0 will be ignored. Current value: lambda_l1=0.0041862008615957645\n",
      "[LightGBM] [Warning] feature_fraction is set=0.4178189501652701, colsample_bytree=1.0 will be ignored. Current value: feature_fraction=0.4178189501652701\n",
      "[LightGBM] [Warning] lambda_l2 is set=8.000402038039354e-06, reg_lambda=0.0 will be ignored. Current value: lambda_l2=8.000402038039354e-06\n",
      "[LightGBM] [Warning] bagging_freq is set=1, subsample_freq=0 will be ignored. Current value: bagging_freq=1\n",
      "[LightGBM] [Warning] bagging_fraction is set=0.7727452707355085, subsample=1.0 will be ignored. Current value: bagging_fraction=0.7727452707355085\n",
      "[LightGBM] [Warning] lambda_l1 is set=0.0041862008615957645, reg_alpha=0.0 will be ignored. Current value: lambda_l1=0.0041862008615957645\n",
      "[LightGBM] [Warning] feature_fraction is set=0.4178189501652701, colsample_bytree=1.0 will be ignored. Current value: feature_fraction=0.4178189501652701\n",
      "[LightGBM] [Warning] lambda_l2 is set=8.000402038039354e-06, reg_lambda=0.0 will be ignored. Current value: lambda_l2=8.000402038039354e-06\n",
      "[LightGBM] [Warning] bagging_freq is set=1, subsample_freq=0 will be ignored. Current value: bagging_freq=1\n"
     ]
    },
    {
     "name": "stderr",
     "output_type": "stream",
     "text": [
      "\u001b[32m[I 2023-03-15 16:57:19,089]\u001b[0m Trial 1 finished with value: -0.233143770524803 and parameters: {'lambda_l1': 0.0041862008615957645, 'lambda_l2': 8.000402038039354e-06, 'num_leaves': 215, 'feature_fraction': 0.4178189501652701, 'bagging_fraction': 0.7727452707355085, 'bagging_freq': 1, 'min_child_samples': 11}. Best is trial 0 with value: -0.22436824435217093.\u001b[0m\n"
     ]
    },
    {
     "name": "stdout",
     "output_type": "stream",
     "text": [
      "[LightGBM] [Warning] bagging_fraction is set=0.8837785074467883, subsample=1.0 will be ignored. Current value: bagging_fraction=0.8837785074467883\n",
      "[LightGBM] [Warning] lambda_l1 is set=0.0038646202101359204, reg_alpha=0.0 will be ignored. Current value: lambda_l1=0.0038646202101359204\n",
      "[LightGBM] [Warning] feature_fraction is set=0.7078331308744047, colsample_bytree=1.0 will be ignored. Current value: feature_fraction=0.7078331308744047\n",
      "[LightGBM] [Warning] lambda_l2 is set=2.2841281078604228, reg_lambda=0.0 will be ignored. Current value: lambda_l2=2.2841281078604228\n",
      "[LightGBM] [Warning] bagging_freq is set=7, subsample_freq=0 will be ignored. Current value: bagging_freq=7\n",
      "[LightGBM] [Warning] bagging_fraction is set=0.8837785074467883, subsample=1.0 will be ignored. Current value: bagging_fraction=0.8837785074467883\n",
      "[LightGBM] [Warning] lambda_l1 is set=0.0038646202101359204, reg_alpha=0.0 will be ignored. Current value: lambda_l1=0.0038646202101359204\n",
      "[LightGBM] [Warning] feature_fraction is set=0.7078331308744047, colsample_bytree=1.0 will be ignored. Current value: feature_fraction=0.7078331308744047\n",
      "[LightGBM] [Warning] lambda_l2 is set=2.2841281078604228, reg_lambda=0.0 will be ignored. Current value: lambda_l2=2.2841281078604228\n",
      "[LightGBM] [Warning] bagging_freq is set=7, subsample_freq=0 will be ignored. Current value: bagging_freq=7\n",
      "[LightGBM] [Warning] bagging_fraction is set=0.8837785074467883, subsample=1.0 will be ignored. Current value: bagging_fraction=0.8837785074467883\n",
      "[LightGBM] [Warning] lambda_l1 is set=0.0038646202101359204, reg_alpha=0.0 will be ignored. Current value: lambda_l1=0.0038646202101359204\n",
      "[LightGBM] [Warning] feature_fraction is set=0.7078331308744047, colsample_bytree=1.0 will be ignored. Current value: feature_fraction=0.7078331308744047\n",
      "[LightGBM] [Warning] lambda_l2 is set=2.2841281078604228, reg_lambda=0.0 will be ignored. Current value: lambda_l2=2.2841281078604228\n",
      "[LightGBM] [Warning] bagging_freq is set=7, subsample_freq=0 will be ignored. Current value: bagging_freq=7\n",
      "[LightGBM] [Warning] bagging_fraction is set=0.8837785074467883, subsample=1.0 will be ignored. Current value: bagging_fraction=0.8837785074467883\n",
      "[LightGBM] [Warning] lambda_l1 is set=0.0038646202101359204, reg_alpha=0.0 will be ignored. Current value: lambda_l1=0.0038646202101359204\n",
      "[LightGBM] [Warning] feature_fraction is set=0.7078331308744047, colsample_bytree=1.0 will be ignored. Current value: feature_fraction=0.7078331308744047\n",
      "[LightGBM] [Warning] lambda_l2 is set=2.2841281078604228, reg_lambda=0.0 will be ignored. Current value: lambda_l2=2.2841281078604228\n",
      "[LightGBM] [Warning] bagging_freq is set=7, subsample_freq=0 will be ignored. Current value: bagging_freq=7\n",
      "[LightGBM] [Warning] bagging_fraction is set=0.8837785074467883, subsample=1.0 will be ignored. Current value: bagging_fraction=0.8837785074467883\n",
      "[LightGBM] [Warning] lambda_l1 is set=0.0038646202101359204, reg_alpha=0.0 will be ignored. Current value: lambda_l1=0.0038646202101359204\n",
      "[LightGBM] [Warning] feature_fraction is set=0.7078331308744047, colsample_bytree=1.0 will be ignored. Current value: feature_fraction=0.7078331308744047\n",
      "[LightGBM] [Warning] lambda_l2 is set=2.2841281078604228, reg_lambda=0.0 will be ignored. Current value: lambda_l2=2.2841281078604228\n",
      "[LightGBM] [Warning] bagging_freq is set=7, subsample_freq=0 will be ignored. Current value: bagging_freq=7\n"
     ]
    },
    {
     "name": "stderr",
     "output_type": "stream",
     "text": [
      "\u001b[32m[I 2023-03-15 16:57:20,431]\u001b[0m Trial 2 finished with value: -0.21893480195281753 and parameters: {'lambda_l1': 0.0038646202101359204, 'lambda_l2': 2.2841281078604228, 'num_leaves': 73, 'feature_fraction': 0.7078331308744047, 'bagging_fraction': 0.8837785074467883, 'bagging_freq': 7, 'min_child_samples': 13}. Best is trial 2 with value: -0.21893480195281753.\u001b[0m\n"
     ]
    },
    {
     "name": "stdout",
     "output_type": "stream",
     "text": [
      "[LightGBM] [Warning] bagging_fraction is set=0.6186495197880092, subsample=1.0 will be ignored. Current value: bagging_fraction=0.6186495197880092\n",
      "[LightGBM] [Warning] lambda_l1 is set=1.9479250165215006e-08, reg_alpha=0.0 will be ignored. Current value: lambda_l1=1.9479250165215006e-08\n",
      "[LightGBM] [Warning] feature_fraction is set=0.7472595473361368, colsample_bytree=1.0 will be ignored. Current value: feature_fraction=0.7472595473361368\n",
      "[LightGBM] [Warning] lambda_l2 is set=2.8111098952197096, reg_lambda=0.0 will be ignored. Current value: lambda_l2=2.8111098952197096\n",
      "[LightGBM] [Warning] bagging_freq is set=7, subsample_freq=0 will be ignored. Current value: bagging_freq=7\n",
      "[LightGBM] [Warning] bagging_fraction is set=0.6186495197880092, subsample=1.0 will be ignored. Current value: bagging_fraction=0.6186495197880092\n",
      "[LightGBM] [Warning] lambda_l1 is set=1.9479250165215006e-08, reg_alpha=0.0 will be ignored. Current value: lambda_l1=1.9479250165215006e-08\n",
      "[LightGBM] [Warning] feature_fraction is set=0.7472595473361368, colsample_bytree=1.0 will be ignored. Current value: feature_fraction=0.7472595473361368\n",
      "[LightGBM] [Warning] lambda_l2 is set=2.8111098952197096, reg_lambda=0.0 will be ignored. Current value: lambda_l2=2.8111098952197096\n",
      "[LightGBM] [Warning] bagging_freq is set=7, subsample_freq=0 will be ignored. Current value: bagging_freq=7\n",
      "[LightGBM] [Warning] bagging_fraction is set=0.6186495197880092, subsample=1.0 will be ignored. Current value: bagging_fraction=0.6186495197880092\n",
      "[LightGBM] [Warning] lambda_l1 is set=1.9479250165215006e-08, reg_alpha=0.0 will be ignored. Current value: lambda_l1=1.9479250165215006e-08\n",
      "[LightGBM] [Warning] feature_fraction is set=0.7472595473361368, colsample_bytree=1.0 will be ignored. Current value: feature_fraction=0.7472595473361368\n",
      "[LightGBM] [Warning] lambda_l2 is set=2.8111098952197096, reg_lambda=0.0 will be ignored. Current value: lambda_l2=2.8111098952197096\n",
      "[LightGBM] [Warning] bagging_freq is set=7, subsample_freq=0 will be ignored. Current value: bagging_freq=7\n",
      "[LightGBM] [Warning] bagging_fraction is set=0.6186495197880092, subsample=1.0 will be ignored. Current value: bagging_fraction=0.6186495197880092\n",
      "[LightGBM] [Warning] lambda_l1 is set=1.9479250165215006e-08, reg_alpha=0.0 will be ignored. Current value: lambda_l1=1.9479250165215006e-08\n",
      "[LightGBM] [Warning] feature_fraction is set=0.7472595473361368, colsample_bytree=1.0 will be ignored. Current value: feature_fraction=0.7472595473361368\n",
      "[LightGBM] [Warning] lambda_l2 is set=2.8111098952197096, reg_lambda=0.0 will be ignored. Current value: lambda_l2=2.8111098952197096\n",
      "[LightGBM] [Warning] bagging_freq is set=7, subsample_freq=0 will be ignored. Current value: bagging_freq=7\n"
     ]
    },
    {
     "name": "stderr",
     "output_type": "stream",
     "text": [
      "\u001b[32m[I 2023-03-15 16:57:21,218]\u001b[0m Trial 3 finished with value: -0.21697488016584904 and parameters: {'lambda_l1': 1.9479250165215006e-08, 'lambda_l2': 2.8111098952197096, 'num_leaves': 158, 'feature_fraction': 0.7472595473361368, 'bagging_fraction': 0.6186495197880092, 'bagging_freq': 7, 'min_child_samples': 24}. Best is trial 3 with value: -0.21697488016584904.\u001b[0m\n"
     ]
    },
    {
     "name": "stdout",
     "output_type": "stream",
     "text": [
      "[LightGBM] [Warning] bagging_fraction is set=0.6186495197880092, subsample=1.0 will be ignored. Current value: bagging_fraction=0.6186495197880092\n",
      "[LightGBM] [Warning] lambda_l1 is set=1.9479250165215006e-08, reg_alpha=0.0 will be ignored. Current value: lambda_l1=1.9479250165215006e-08\n",
      "[LightGBM] [Warning] feature_fraction is set=0.7472595473361368, colsample_bytree=1.0 will be ignored. Current value: feature_fraction=0.7472595473361368\n",
      "[LightGBM] [Warning] lambda_l2 is set=2.8111098952197096, reg_lambda=0.0 will be ignored. Current value: lambda_l2=2.8111098952197096\n",
      "[LightGBM] [Warning] bagging_freq is set=7, subsample_freq=0 will be ignored. Current value: bagging_freq=7\n",
      "[LightGBM] [Warning] bagging_fraction is set=0.9879404299421728, subsample=1.0 will be ignored. Current value: bagging_fraction=0.9879404299421728\n",
      "[LightGBM] [Warning] lambda_l1 is set=1.0204621027020979e-07, reg_alpha=0.0 will be ignored. Current value: lambda_l1=1.0204621027020979e-07\n",
      "[LightGBM] [Warning] feature_fraction is set=0.9148935664984016, colsample_bytree=1.0 will be ignored. Current value: feature_fraction=0.9148935664984016\n",
      "[LightGBM] [Warning] lambda_l2 is set=0.00024913057746021525, reg_lambda=0.0 will be ignored. Current value: lambda_l2=0.00024913057746021525\n",
      "[LightGBM] [Warning] bagging_freq is set=6, subsample_freq=0 will be ignored. Current value: bagging_freq=6\n",
      "[LightGBM] [Warning] bagging_fraction is set=0.9879404299421728, subsample=1.0 will be ignored. Current value: bagging_fraction=0.9879404299421728\n",
      "[LightGBM] [Warning] lambda_l1 is set=1.0204621027020979e-07, reg_alpha=0.0 will be ignored. Current value: lambda_l1=1.0204621027020979e-07\n",
      "[LightGBM] [Warning] feature_fraction is set=0.9148935664984016, colsample_bytree=1.0 will be ignored. Current value: feature_fraction=0.9148935664984016\n",
      "[LightGBM] [Warning] lambda_l2 is set=0.00024913057746021525, reg_lambda=0.0 will be ignored. Current value: lambda_l2=0.00024913057746021525\n",
      "[LightGBM] [Warning] bagging_freq is set=6, subsample_freq=0 will be ignored. Current value: bagging_freq=6\n",
      "[LightGBM] [Warning] bagging_fraction is set=0.9879404299421728, subsample=1.0 will be ignored. Current value: bagging_fraction=0.9879404299421728\n",
      "[LightGBM] [Warning] lambda_l1 is set=1.0204621027020979e-07, reg_alpha=0.0 will be ignored. Current value: lambda_l1=1.0204621027020979e-07\n",
      "[LightGBM] [Warning] feature_fraction is set=0.9148935664984016, colsample_bytree=1.0 will be ignored. Current value: feature_fraction=0.9148935664984016\n",
      "[LightGBM] [Warning] lambda_l2 is set=0.00024913057746021525, reg_lambda=0.0 will be ignored. Current value: lambda_l2=0.00024913057746021525\n",
      "[LightGBM] [Warning] bagging_freq is set=6, subsample_freq=0 will be ignored. Current value: bagging_freq=6\n",
      "[LightGBM] [Warning] bagging_fraction is set=0.9879404299421728, subsample=1.0 will be ignored. Current value: bagging_fraction=0.9879404299421728\n",
      "[LightGBM] [Warning] lambda_l1 is set=1.0204621027020979e-07, reg_alpha=0.0 will be ignored. Current value: lambda_l1=1.0204621027020979e-07\n",
      "[LightGBM] [Warning] feature_fraction is set=0.9148935664984016, colsample_bytree=1.0 will be ignored. Current value: feature_fraction=0.9148935664984016\n",
      "[LightGBM] [Warning] lambda_l2 is set=0.00024913057746021525, reg_lambda=0.0 will be ignored. Current value: lambda_l2=0.00024913057746021525\n",
      "[LightGBM] [Warning] bagging_freq is set=6, subsample_freq=0 will be ignored. Current value: bagging_freq=6\n",
      "[LightGBM] [Warning] bagging_fraction is set=0.9879404299421728, subsample=1.0 will be ignored. Current value: bagging_fraction=0.9879404299421728\n",
      "[LightGBM] [Warning] lambda_l1 is set=1.0204621027020979e-07, reg_alpha=0.0 will be ignored. Current value: lambda_l1=1.0204621027020979e-07\n",
      "[LightGBM] [Warning] feature_fraction is set=0.9148935664984016, colsample_bytree=1.0 will be ignored. Current value: feature_fraction=0.9148935664984016\n",
      "[LightGBM] [Warning] lambda_l2 is set=0.00024913057746021525, reg_lambda=0.0 will be ignored. Current value: lambda_l2=0.00024913057746021525\n",
      "[LightGBM] [Warning] bagging_freq is set=6, subsample_freq=0 will be ignored. Current value: bagging_freq=6\n"
     ]
    },
    {
     "name": "stderr",
     "output_type": "stream",
     "text": [
      "\u001b[32m[I 2023-03-15 16:57:23,369]\u001b[0m Trial 4 finished with value: -0.23662500418453294 and parameters: {'lambda_l1': 1.0204621027020979e-07, 'lambda_l2': 0.00024913057746021525, 'num_leaves': 50, 'feature_fraction': 0.9148935664984016, 'bagging_fraction': 0.9879404299421728, 'bagging_freq': 6, 'min_child_samples': 19}. Best is trial 3 with value: -0.21697488016584904.\u001b[0m\n"
     ]
    },
    {
     "name": "stdout",
     "output_type": "stream",
     "text": [
      "[LightGBM] [Warning] bagging_fraction is set=0.9252792339847968, subsample=1.0 will be ignored. Current value: bagging_fraction=0.9252792339847968\n",
      "[LightGBM] [Warning] lambda_l1 is set=1.1999748675805883e-07, reg_alpha=0.0 will be ignored. Current value: lambda_l1=1.1999748675805883e-07\n",
      "[LightGBM] [Warning] feature_fraction is set=0.6739772445692112, colsample_bytree=1.0 will be ignored. Current value: feature_fraction=0.6739772445692112\n",
      "[LightGBM] [Warning] lambda_l2 is set=1.4241488996652772e-05, reg_lambda=0.0 will be ignored. Current value: lambda_l2=1.4241488996652772e-05\n",
      "[LightGBM] [Warning] bagging_freq is set=6, subsample_freq=0 will be ignored. Current value: bagging_freq=6\n",
      "[LightGBM] [Warning] bagging_fraction is set=0.9252792339847968, subsample=1.0 will be ignored. Current value: bagging_fraction=0.9252792339847968\n",
      "[LightGBM] [Warning] lambda_l1 is set=1.1999748675805883e-07, reg_alpha=0.0 will be ignored. Current value: lambda_l1=1.1999748675805883e-07\n",
      "[LightGBM] [Warning] feature_fraction is set=0.6739772445692112, colsample_bytree=1.0 will be ignored. Current value: feature_fraction=0.6739772445692112\n",
      "[LightGBM] [Warning] lambda_l2 is set=1.4241488996652772e-05, reg_lambda=0.0 will be ignored. Current value: lambda_l2=1.4241488996652772e-05\n",
      "[LightGBM] [Warning] bagging_freq is set=6, subsample_freq=0 will be ignored. Current value: bagging_freq=6\n",
      "[LightGBM] [Warning] bagging_fraction is set=0.9252792339847968, subsample=1.0 will be ignored. Current value: bagging_fraction=0.9252792339847968\n",
      "[LightGBM] [Warning] lambda_l1 is set=1.1999748675805883e-07, reg_alpha=0.0 will be ignored. Current value: lambda_l1=1.1999748675805883e-07\n",
      "[LightGBM] [Warning] feature_fraction is set=0.6739772445692112, colsample_bytree=1.0 will be ignored. Current value: feature_fraction=0.6739772445692112\n",
      "[LightGBM] [Warning] lambda_l2 is set=1.4241488996652772e-05, reg_lambda=0.0 will be ignored. Current value: lambda_l2=1.4241488996652772e-05\n",
      "[LightGBM] [Warning] bagging_freq is set=6, subsample_freq=0 will be ignored. Current value: bagging_freq=6\n",
      "[LightGBM] [Warning] bagging_fraction is set=0.9252792339847968, subsample=1.0 will be ignored. Current value: bagging_fraction=0.9252792339847968\n",
      "[LightGBM] [Warning] lambda_l1 is set=1.1999748675805883e-07, reg_alpha=0.0 will be ignored. Current value: lambda_l1=1.1999748675805883e-07\n",
      "[LightGBM] [Warning] feature_fraction is set=0.6739772445692112, colsample_bytree=1.0 will be ignored. Current value: feature_fraction=0.6739772445692112\n",
      "[LightGBM] [Warning] lambda_l2 is set=1.4241488996652772e-05, reg_lambda=0.0 will be ignored. Current value: lambda_l2=1.4241488996652772e-05\n",
      "[LightGBM] [Warning] bagging_freq is set=6, subsample_freq=0 will be ignored. Current value: bagging_freq=6\n",
      "[LightGBM] [Warning] bagging_fraction is set=0.9252792339847968, subsample=1.0 will be ignored. Current value: bagging_fraction=0.9252792339847968\n",
      "[LightGBM] [Warning] lambda_l1 is set=1.1999748675805883e-07, reg_alpha=0.0 will be ignored. Current value: lambda_l1=1.1999748675805883e-07\n",
      "[LightGBM] [Warning] feature_fraction is set=0.6739772445692112, colsample_bytree=1.0 will be ignored. Current value: feature_fraction=0.6739772445692112\n",
      "[LightGBM] [Warning] lambda_l2 is set=1.4241488996652772e-05, reg_lambda=0.0 will be ignored. Current value: lambda_l2=1.4241488996652772e-05\n",
      "[LightGBM] [Warning] bagging_freq is set=6, subsample_freq=0 will be ignored. Current value: bagging_freq=6\n"
     ]
    },
    {
     "name": "stderr",
     "output_type": "stream",
     "text": [
      "\u001b[32m[I 2023-03-15 16:57:26,646]\u001b[0m Trial 5 finished with value: -0.24193152988444422 and parameters: {'lambda_l1': 1.1999748675805883e-07, 'lambda_l2': 1.4241488996652772e-05, 'num_leaves': 76, 'feature_fraction': 0.6739772445692112, 'bagging_fraction': 0.9252792339847968, 'bagging_freq': 6, 'min_child_samples': 9}. Best is trial 3 with value: -0.21697488016584904.\u001b[0m\n"
     ]
    },
    {
     "name": "stdout",
     "output_type": "stream",
     "text": [
      "[LightGBM] [Warning] bagging_fraction is set=0.7397514232368314, subsample=1.0 will be ignored. Current value: bagging_fraction=0.7397514232368314\n",
      "[LightGBM] [Warning] lambda_l1 is set=1.4783172473330206e-05, reg_alpha=0.0 will be ignored. Current value: lambda_l1=1.4783172473330206e-05\n",
      "[LightGBM] [Warning] feature_fraction is set=0.8493777184311131, colsample_bytree=1.0 will be ignored. Current value: feature_fraction=0.8493777184311131\n",
      "[LightGBM] [Warning] lambda_l2 is set=2.811927915407899e-08, reg_lambda=0.0 will be ignored. Current value: lambda_l2=2.811927915407899e-08\n",
      "[LightGBM] [Warning] bagging_freq is set=3, subsample_freq=0 will be ignored. Current value: bagging_freq=3\n",
      "[LightGBM] [Warning] bagging_fraction is set=0.7397514232368314, subsample=1.0 will be ignored. Current value: bagging_fraction=0.7397514232368314\n",
      "[LightGBM] [Warning] lambda_l1 is set=1.4783172473330206e-05, reg_alpha=0.0 will be ignored. Current value: lambda_l1=1.4783172473330206e-05\n",
      "[LightGBM] [Warning] feature_fraction is set=0.8493777184311131, colsample_bytree=1.0 will be ignored. Current value: feature_fraction=0.8493777184311131\n",
      "[LightGBM] [Warning] lambda_l2 is set=2.811927915407899e-08, reg_lambda=0.0 will be ignored. Current value: lambda_l2=2.811927915407899e-08\n",
      "[LightGBM] [Warning] bagging_freq is set=3, subsample_freq=0 will be ignored. Current value: bagging_freq=3\n",
      "[LightGBM] [Warning] bagging_fraction is set=0.7397514232368314, subsample=1.0 will be ignored. Current value: bagging_fraction=0.7397514232368314\n",
      "[LightGBM] [Warning] lambda_l1 is set=1.4783172473330206e-05, reg_alpha=0.0 will be ignored. Current value: lambda_l1=1.4783172473330206e-05\n",
      "[LightGBM] [Warning] feature_fraction is set=0.8493777184311131, colsample_bytree=1.0 will be ignored. Current value: feature_fraction=0.8493777184311131\n",
      "[LightGBM] [Warning] lambda_l2 is set=2.811927915407899e-08, reg_lambda=0.0 will be ignored. Current value: lambda_l2=2.811927915407899e-08\n",
      "[LightGBM] [Warning] bagging_freq is set=3, subsample_freq=0 will be ignored. Current value: bagging_freq=3\n",
      "[LightGBM] [Warning] bagging_fraction is set=0.7397514232368314, subsample=1.0 will be ignored. Current value: bagging_fraction=0.7397514232368314\n",
      "[LightGBM] [Warning] lambda_l1 is set=1.4783172473330206e-05, reg_alpha=0.0 will be ignored. Current value: lambda_l1=1.4783172473330206e-05\n",
      "[LightGBM] [Warning] feature_fraction is set=0.8493777184311131, colsample_bytree=1.0 will be ignored. Current value: feature_fraction=0.8493777184311131\n",
      "[LightGBM] [Warning] lambda_l2 is set=2.811927915407899e-08, reg_lambda=0.0 will be ignored. Current value: lambda_l2=2.811927915407899e-08\n",
      "[LightGBM] [Warning] bagging_freq is set=3, subsample_freq=0 will be ignored. Current value: bagging_freq=3\n"
     ]
    },
    {
     "name": "stderr",
     "output_type": "stream",
     "text": [
      "\u001b[32m[I 2023-03-15 16:57:27,221]\u001b[0m Trial 6 finished with value: -0.21512519329141772 and parameters: {'lambda_l1': 1.4783172473330206e-05, 'lambda_l2': 2.811927915407899e-08, 'num_leaves': 52, 'feature_fraction': 0.8493777184311131, 'bagging_fraction': 0.7397514232368314, 'bagging_freq': 3, 'min_child_samples': 63}. Best is trial 6 with value: -0.21512519329141772.\u001b[0m\n"
     ]
    },
    {
     "name": "stdout",
     "output_type": "stream",
     "text": [
      "[LightGBM] [Warning] bagging_fraction is set=0.7397514232368314, subsample=1.0 will be ignored. Current value: bagging_fraction=0.7397514232368314\n",
      "[LightGBM] [Warning] lambda_l1 is set=1.4783172473330206e-05, reg_alpha=0.0 will be ignored. Current value: lambda_l1=1.4783172473330206e-05\n",
      "[LightGBM] [Warning] feature_fraction is set=0.8493777184311131, colsample_bytree=1.0 will be ignored. Current value: feature_fraction=0.8493777184311131\n",
      "[LightGBM] [Warning] lambda_l2 is set=2.811927915407899e-08, reg_lambda=0.0 will be ignored. Current value: lambda_l2=2.811927915407899e-08\n",
      "[LightGBM] [Warning] bagging_freq is set=3, subsample_freq=0 will be ignored. Current value: bagging_freq=3\n",
      "[LightGBM] [Warning] bagging_fraction is set=0.8773143153178117, subsample=1.0 will be ignored. Current value: bagging_fraction=0.8773143153178117\n",
      "[LightGBM] [Warning] lambda_l1 is set=0.0003627605838695089, reg_alpha=0.0 will be ignored. Current value: lambda_l1=0.0003627605838695089\n",
      "[LightGBM] [Warning] feature_fraction is set=0.9424717749687839, colsample_bytree=1.0 will be ignored. Current value: feature_fraction=0.9424717749687839\n",
      "[LightGBM] [Warning] lambda_l2 is set=0.0013183772106677267, reg_lambda=0.0 will be ignored. Current value: lambda_l2=0.0013183772106677267\n",
      "[LightGBM] [Warning] bagging_freq is set=6, subsample_freq=0 will be ignored. Current value: bagging_freq=6\n",
      "[LightGBM] [Warning] bagging_fraction is set=0.8773143153178117, subsample=1.0 will be ignored. Current value: bagging_fraction=0.8773143153178117\n",
      "[LightGBM] [Warning] lambda_l1 is set=0.0003627605838695089, reg_alpha=0.0 will be ignored. Current value: lambda_l1=0.0003627605838695089\n",
      "[LightGBM] [Warning] feature_fraction is set=0.9424717749687839, colsample_bytree=1.0 will be ignored. Current value: feature_fraction=0.9424717749687839\n",
      "[LightGBM] [Warning] lambda_l2 is set=0.0013183772106677267, reg_lambda=0.0 will be ignored. Current value: lambda_l2=0.0013183772106677267\n",
      "[LightGBM] [Warning] bagging_freq is set=6, subsample_freq=0 will be ignored. Current value: bagging_freq=6\n",
      "[LightGBM] [Warning] bagging_fraction is set=0.8773143153178117, subsample=1.0 will be ignored. Current value: bagging_fraction=0.8773143153178117\n",
      "[LightGBM] [Warning] lambda_l1 is set=0.0003627605838695089, reg_alpha=0.0 will be ignored. Current value: lambda_l1=0.0003627605838695089\n",
      "[LightGBM] [Warning] feature_fraction is set=0.9424717749687839, colsample_bytree=1.0 will be ignored. Current value: feature_fraction=0.9424717749687839\n",
      "[LightGBM] [Warning] lambda_l2 is set=0.0013183772106677267, reg_lambda=0.0 will be ignored. Current value: lambda_l2=0.0013183772106677267\n",
      "[LightGBM] [Warning] bagging_freq is set=6, subsample_freq=0 will be ignored. Current value: bagging_freq=6\n",
      "[LightGBM] [Warning] bagging_fraction is set=0.8773143153178117, subsample=1.0 will be ignored. Current value: bagging_fraction=0.8773143153178117\n",
      "[LightGBM] [Warning] lambda_l1 is set=0.0003627605838695089, reg_alpha=0.0 will be ignored. Current value: lambda_l1=0.0003627605838695089\n",
      "[LightGBM] [Warning] feature_fraction is set=0.9424717749687839, colsample_bytree=1.0 will be ignored. Current value: feature_fraction=0.9424717749687839\n",
      "[LightGBM] [Warning] lambda_l2 is set=0.0013183772106677267, reg_lambda=0.0 will be ignored. Current value: lambda_l2=0.0013183772106677267\n",
      "[LightGBM] [Warning] bagging_freq is set=6, subsample_freq=0 will be ignored. Current value: bagging_freq=6\n",
      "[LightGBM] [Warning] bagging_fraction is set=0.8773143153178117, subsample=1.0 will be ignored. Current value: bagging_fraction=0.8773143153178117\n",
      "[LightGBM] [Warning] lambda_l1 is set=0.0003627605838695089, reg_alpha=0.0 will be ignored. Current value: lambda_l1=0.0003627605838695089\n",
      "[LightGBM] [Warning] feature_fraction is set=0.9424717749687839, colsample_bytree=1.0 will be ignored. Current value: feature_fraction=0.9424717749687839\n",
      "[LightGBM] [Warning] lambda_l2 is set=0.0013183772106677267, reg_lambda=0.0 will be ignored. Current value: lambda_l2=0.0013183772106677267\n",
      "[LightGBM] [Warning] bagging_freq is set=6, subsample_freq=0 will be ignored. Current value: bagging_freq=6\n"
     ]
    },
    {
     "name": "stderr",
     "output_type": "stream",
     "text": [
      "\u001b[32m[I 2023-03-15 16:57:27,951]\u001b[0m Trial 7 finished with value: -0.21480871589311143 and parameters: {'lambda_l1': 0.0003627605838695089, 'lambda_l2': 0.0013183772106677267, 'num_leaves': 60, 'feature_fraction': 0.9424717749687839, 'bagging_fraction': 0.8773143153178117, 'bagging_freq': 6, 'min_child_samples': 62}. Best is trial 7 with value: -0.21480871589311143.\u001b[0m\n"
     ]
    },
    {
     "name": "stdout",
     "output_type": "stream",
     "text": [
      "[LightGBM] [Warning] bagging_fraction is set=0.91045841079851, subsample=1.0 will be ignored. Current value: bagging_fraction=0.91045841079851\n",
      "[LightGBM] [Warning] lambda_l1 is set=0.18029233361587282, reg_alpha=0.0 will be ignored. Current value: lambda_l1=0.18029233361587282\n",
      "[LightGBM] [Warning] feature_fraction is set=0.5238304890660789, colsample_bytree=1.0 will be ignored. Current value: feature_fraction=0.5238304890660789\n",
      "[LightGBM] [Warning] lambda_l2 is set=9.096995586796854e-07, reg_lambda=0.0 will be ignored. Current value: lambda_l2=9.096995586796854e-07\n",
      "[LightGBM] [Warning] bagging_freq is set=3, subsample_freq=0 will be ignored. Current value: bagging_freq=3\n",
      "[LightGBM] [Warning] bagging_fraction is set=0.91045841079851, subsample=1.0 will be ignored. Current value: bagging_fraction=0.91045841079851\n",
      "[LightGBM] [Warning] lambda_l1 is set=0.18029233361587282, reg_alpha=0.0 will be ignored. Current value: lambda_l1=0.18029233361587282\n",
      "[LightGBM] [Warning] feature_fraction is set=0.5238304890660789, colsample_bytree=1.0 will be ignored. Current value: feature_fraction=0.5238304890660789\n",
      "[LightGBM] [Warning] lambda_l2 is set=9.096995586796854e-07, reg_lambda=0.0 will be ignored. Current value: lambda_l2=9.096995586796854e-07\n",
      "[LightGBM] [Warning] bagging_freq is set=3, subsample_freq=0 will be ignored. Current value: bagging_freq=3\n",
      "[LightGBM] [Warning] bagging_fraction is set=0.91045841079851, subsample=1.0 will be ignored. Current value: bagging_fraction=0.91045841079851\n",
      "[LightGBM] [Warning] lambda_l1 is set=0.18029233361587282, reg_alpha=0.0 will be ignored. Current value: lambda_l1=0.18029233361587282\n",
      "[LightGBM] [Warning] feature_fraction is set=0.5238304890660789, colsample_bytree=1.0 will be ignored. Current value: feature_fraction=0.5238304890660789\n",
      "[LightGBM] [Warning] lambda_l2 is set=9.096995586796854e-07, reg_lambda=0.0 will be ignored. Current value: lambda_l2=9.096995586796854e-07\n",
      "[LightGBM] [Warning] bagging_freq is set=3, subsample_freq=0 will be ignored. Current value: bagging_freq=3\n"
     ]
    },
    {
     "name": "stderr",
     "output_type": "stream",
     "text": [
      "\u001b[32m[I 2023-03-15 16:57:28,412]\u001b[0m Trial 8 finished with value: -0.21009023184450348 and parameters: {'lambda_l1': 0.18029233361587282, 'lambda_l2': 9.096995586796854e-07, 'num_leaves': 46, 'feature_fraction': 0.5238304890660789, 'bagging_fraction': 0.91045841079851, 'bagging_freq': 3, 'min_child_samples': 88}. Best is trial 8 with value: -0.21009023184450348.\u001b[0m\n"
     ]
    },
    {
     "name": "stdout",
     "output_type": "stream",
     "text": [
      "[LightGBM] [Warning] bagging_fraction is set=0.91045841079851, subsample=1.0 will be ignored. Current value: bagging_fraction=0.91045841079851\n",
      "[LightGBM] [Warning] lambda_l1 is set=0.18029233361587282, reg_alpha=0.0 will be ignored. Current value: lambda_l1=0.18029233361587282\n",
      "[LightGBM] [Warning] feature_fraction is set=0.5238304890660789, colsample_bytree=1.0 will be ignored. Current value: feature_fraction=0.5238304890660789\n",
      "[LightGBM] [Warning] lambda_l2 is set=9.096995586796854e-07, reg_lambda=0.0 will be ignored. Current value: lambda_l2=9.096995586796854e-07\n",
      "[LightGBM] [Warning] bagging_freq is set=3, subsample_freq=0 will be ignored. Current value: bagging_freq=3\n",
      "[LightGBM] [Warning] bagging_fraction is set=0.91045841079851, subsample=1.0 will be ignored. Current value: bagging_fraction=0.91045841079851\n",
      "[LightGBM] [Warning] lambda_l1 is set=0.18029233361587282, reg_alpha=0.0 will be ignored. Current value: lambda_l1=0.18029233361587282\n",
      "[LightGBM] [Warning] feature_fraction is set=0.5238304890660789, colsample_bytree=1.0 will be ignored. Current value: feature_fraction=0.5238304890660789\n",
      "[LightGBM] [Warning] lambda_l2 is set=9.096995586796854e-07, reg_lambda=0.0 will be ignored. Current value: lambda_l2=9.096995586796854e-07\n",
      "[LightGBM] [Warning] bagging_freq is set=3, subsample_freq=0 will be ignored. Current value: bagging_freq=3\n",
      "[LightGBM] [Warning] bagging_fraction is set=0.5944585283240563, subsample=1.0 will be ignored. Current value: bagging_fraction=0.5944585283240563\n",
      "[LightGBM] [Warning] lambda_l1 is set=0.18353900403410023, reg_alpha=0.0 will be ignored. Current value: lambda_l1=0.18353900403410023\n",
      "[LightGBM] [Warning] feature_fraction is set=0.827207724345119, colsample_bytree=1.0 will be ignored. Current value: feature_fraction=0.827207724345119\n",
      "[LightGBM] [Warning] lambda_l2 is set=8.469922453216435, reg_lambda=0.0 will be ignored. Current value: lambda_l2=8.469922453216435\n",
      "[LightGBM] [Warning] bagging_freq is set=1, subsample_freq=0 will be ignored. Current value: bagging_freq=1\n",
      "[LightGBM] [Warning] bagging_fraction is set=0.5944585283240563, subsample=1.0 will be ignored. Current value: bagging_fraction=0.5944585283240563\n",
      "[LightGBM] [Warning] lambda_l1 is set=0.18353900403410023, reg_alpha=0.0 will be ignored. Current value: lambda_l1=0.18353900403410023\n",
      "[LightGBM] [Warning] feature_fraction is set=0.827207724345119, colsample_bytree=1.0 will be ignored. Current value: feature_fraction=0.827207724345119\n",
      "[LightGBM] [Warning] lambda_l2 is set=8.469922453216435, reg_lambda=0.0 will be ignored. Current value: lambda_l2=8.469922453216435\n",
      "[LightGBM] [Warning] bagging_freq is set=1, subsample_freq=0 will be ignored. Current value: bagging_freq=1\n",
      "[LightGBM] [Warning] bagging_fraction is set=0.5944585283240563, subsample=1.0 will be ignored. Current value: bagging_fraction=0.5944585283240563\n",
      "[LightGBM] [Warning] lambda_l1 is set=0.18353900403410023, reg_alpha=0.0 will be ignored. Current value: lambda_l1=0.18353900403410023\n",
      "[LightGBM] [Warning] feature_fraction is set=0.827207724345119, colsample_bytree=1.0 will be ignored. Current value: feature_fraction=0.827207724345119\n",
      "[LightGBM] [Warning] lambda_l2 is set=8.469922453216435, reg_lambda=0.0 will be ignored. Current value: lambda_l2=8.469922453216435\n",
      "[LightGBM] [Warning] bagging_freq is set=1, subsample_freq=0 will be ignored. Current value: bagging_freq=1\n",
      "[LightGBM] [Warning] bagging_fraction is set=0.5944585283240563, subsample=1.0 will be ignored. Current value: bagging_fraction=0.5944585283240563\n",
      "[LightGBM] [Warning] lambda_l1 is set=0.18353900403410023, reg_alpha=0.0 will be ignored. Current value: lambda_l1=0.18353900403410023\n",
      "[LightGBM] [Warning] feature_fraction is set=0.827207724345119, colsample_bytree=1.0 will be ignored. Current value: feature_fraction=0.827207724345119\n",
      "[LightGBM] [Warning] lambda_l2 is set=8.469922453216435, reg_lambda=0.0 will be ignored. Current value: lambda_l2=8.469922453216435\n",
      "[LightGBM] [Warning] bagging_freq is set=1, subsample_freq=0 will be ignored. Current value: bagging_freq=1\n"
     ]
    },
    {
     "name": "stderr",
     "output_type": "stream",
     "text": [
      "\u001b[32m[I 2023-03-15 16:57:28,792]\u001b[0m Trial 9 finished with value: -0.1993835984885131 and parameters: {'lambda_l1': 0.18353900403410023, 'lambda_l2': 8.469922453216435, 'num_leaves': 198, 'feature_fraction': 0.827207724345119, 'bagging_fraction': 0.5944585283240563, 'bagging_freq': 1, 'min_child_samples': 98}. Best is trial 9 with value: -0.1993835984885131.\u001b[0m\n"
     ]
    },
    {
     "name": "stdout",
     "output_type": "stream",
     "text": [
      "[LightGBM] [Warning] bagging_fraction is set=0.5944585283240563, subsample=1.0 will be ignored. Current value: bagging_fraction=0.5944585283240563\n",
      "[LightGBM] [Warning] lambda_l1 is set=0.18353900403410023, reg_alpha=0.0 will be ignored. Current value: lambda_l1=0.18353900403410023\n",
      "[LightGBM] [Warning] feature_fraction is set=0.827207724345119, colsample_bytree=1.0 will be ignored. Current value: feature_fraction=0.827207724345119\n",
      "[LightGBM] [Warning] lambda_l2 is set=8.469922453216435, reg_lambda=0.0 will be ignored. Current value: lambda_l2=8.469922453216435\n",
      "[LightGBM] [Warning] bagging_freq is set=1, subsample_freq=0 will be ignored. Current value: bagging_freq=1\n",
      "[LightGBM] [Warning] bagging_fraction is set=0.5077749921631407, subsample=1.0 will be ignored. Current value: bagging_fraction=0.5077749921631407\n",
      "[LightGBM] [Warning] lambda_l1 is set=3.939304567889168, reg_alpha=0.0 will be ignored. Current value: lambda_l1=3.939304567889168\n",
      "[LightGBM] [Warning] feature_fraction is set=0.976584517340128, colsample_bytree=1.0 will be ignored. Current value: feature_fraction=0.976584517340128\n",
      "[LightGBM] [Warning] lambda_l2 is set=0.04339000435986924, reg_lambda=0.0 will be ignored. Current value: lambda_l2=0.04339000435986924\n",
      "[LightGBM] [Warning] bagging_freq is set=1, subsample_freq=0 will be ignored. Current value: bagging_freq=1\n",
      "[LightGBM] [Warning] bagging_fraction is set=0.5077749921631407, subsample=1.0 will be ignored. Current value: bagging_fraction=0.5077749921631407\n",
      "[LightGBM] [Warning] lambda_l1 is set=3.939304567889168, reg_alpha=0.0 will be ignored. Current value: lambda_l1=3.939304567889168\n",
      "[LightGBM] [Warning] feature_fraction is set=0.976584517340128, colsample_bytree=1.0 will be ignored. Current value: feature_fraction=0.976584517340128\n",
      "[LightGBM] [Warning] lambda_l2 is set=0.04339000435986924, reg_lambda=0.0 will be ignored. Current value: lambda_l2=0.04339000435986924\n",
      "[LightGBM] [Warning] bagging_freq is set=1, subsample_freq=0 will be ignored. Current value: bagging_freq=1\n",
      "[LightGBM] [Warning] bagging_fraction is set=0.5077749921631407, subsample=1.0 will be ignored. Current value: bagging_fraction=0.5077749921631407\n",
      "[LightGBM] [Warning] lambda_l1 is set=3.939304567889168, reg_alpha=0.0 will be ignored. Current value: lambda_l1=3.939304567889168\n",
      "[LightGBM] [Warning] feature_fraction is set=0.976584517340128, colsample_bytree=1.0 will be ignored. Current value: feature_fraction=0.976584517340128\n",
      "[LightGBM] [Warning] lambda_l2 is set=0.04339000435986924, reg_lambda=0.0 will be ignored. Current value: lambda_l2=0.04339000435986924\n",
      "[LightGBM] [Warning] bagging_freq is set=1, subsample_freq=0 will be ignored. Current value: bagging_freq=1\n",
      "[LightGBM] [Warning] bagging_fraction is set=0.5077749921631407, subsample=1.0 will be ignored. Current value: bagging_fraction=0.5077749921631407\n",
      "[LightGBM] [Warning] lambda_l1 is set=3.939304567889168, reg_alpha=0.0 will be ignored. Current value: lambda_l1=3.939304567889168\n",
      "[LightGBM] [Warning] feature_fraction is set=0.976584517340128, colsample_bytree=1.0 will be ignored. Current value: feature_fraction=0.976584517340128\n",
      "[LightGBM] [Warning] lambda_l2 is set=0.04339000435986924, reg_lambda=0.0 will be ignored. Current value: lambda_l2=0.04339000435986924\n",
      "[LightGBM] [Warning] bagging_freq is set=1, subsample_freq=0 will be ignored. Current value: bagging_freq=1\n",
      "[LightGBM] [Warning] bagging_fraction is set=0.5077749921631407, subsample=1.0 will be ignored. Current value: bagging_fraction=0.5077749921631407\n",
      "[LightGBM] [Warning] lambda_l1 is set=3.939304567889168, reg_alpha=0.0 will be ignored. Current value: lambda_l1=3.939304567889168\n",
      "[LightGBM] [Warning] feature_fraction is set=0.976584517340128, colsample_bytree=1.0 will be ignored. Current value: feature_fraction=0.976584517340128\n",
      "[LightGBM] [Warning] lambda_l2 is set=0.04339000435986924, reg_lambda=0.0 will be ignored. Current value: lambda_l2=0.04339000435986924\n",
      "[LightGBM] [Warning] bagging_freq is set=1, subsample_freq=0 will be ignored. Current value: bagging_freq=1\n"
     ]
    },
    {
     "name": "stderr",
     "output_type": "stream",
     "text": [
      "\u001b[32m[I 2023-03-15 16:57:29,202]\u001b[0m Trial 10 finished with value: -0.19762157781207929 and parameters: {'lambda_l1': 3.939304567889168, 'lambda_l2': 0.04339000435986924, 'num_leaves': 253, 'feature_fraction': 0.976584517340128, 'bagging_fraction': 0.5077749921631407, 'bagging_freq': 1, 'min_child_samples': 94}. Best is trial 10 with value: -0.19762157781207929.\u001b[0m\n"
     ]
    },
    {
     "name": "stdout",
     "output_type": "stream",
     "text": [
      "[LightGBM] [Warning] bagging_fraction is set=0.4378100180820294, subsample=1.0 will be ignored. Current value: bagging_fraction=0.4378100180820294\n",
      "[LightGBM] [Warning] lambda_l1 is set=6.23319493857854, reg_alpha=0.0 will be ignored. Current value: lambda_l1=6.23319493857854\n",
      "[LightGBM] [Warning] feature_fraction is set=0.9901164024747781, colsample_bytree=1.0 will be ignored. Current value: feature_fraction=0.9901164024747781\n",
      "[LightGBM] [Warning] lambda_l2 is set=0.08423262379856582, reg_lambda=0.0 will be ignored. Current value: lambda_l2=0.08423262379856582\n",
      "[LightGBM] [Warning] bagging_freq is set=1, subsample_freq=0 will be ignored. Current value: bagging_freq=1\n",
      "[LightGBM] [Warning] bagging_fraction is set=0.4378100180820294, subsample=1.0 will be ignored. Current value: bagging_fraction=0.4378100180820294\n",
      "[LightGBM] [Warning] lambda_l1 is set=6.23319493857854, reg_alpha=0.0 will be ignored. Current value: lambda_l1=6.23319493857854\n",
      "[LightGBM] [Warning] feature_fraction is set=0.9901164024747781, colsample_bytree=1.0 will be ignored. Current value: feature_fraction=0.9901164024747781\n",
      "[LightGBM] [Warning] lambda_l2 is set=0.08423262379856582, reg_lambda=0.0 will be ignored. Current value: lambda_l2=0.08423262379856582\n",
      "[LightGBM] [Warning] bagging_freq is set=1, subsample_freq=0 will be ignored. Current value: bagging_freq=1\n",
      "[LightGBM] [Warning] bagging_fraction is set=0.4378100180820294, subsample=1.0 will be ignored. Current value: bagging_fraction=0.4378100180820294\n",
      "[LightGBM] [Warning] lambda_l1 is set=6.23319493857854, reg_alpha=0.0 will be ignored. Current value: lambda_l1=6.23319493857854\n",
      "[LightGBM] [Warning] feature_fraction is set=0.9901164024747781, colsample_bytree=1.0 will be ignored. Current value: feature_fraction=0.9901164024747781\n",
      "[LightGBM] [Warning] lambda_l2 is set=0.08423262379856582, reg_lambda=0.0 will be ignored. Current value: lambda_l2=0.08423262379856582\n",
      "[LightGBM] [Warning] bagging_freq is set=1, subsample_freq=0 will be ignored. Current value: bagging_freq=1\n",
      "[LightGBM] [Warning] bagging_fraction is set=0.4378100180820294, subsample=1.0 will be ignored. Current value: bagging_fraction=0.4378100180820294\n",
      "[LightGBM] [Warning] lambda_l1 is set=6.23319493857854, reg_alpha=0.0 will be ignored. Current value: lambda_l1=6.23319493857854\n",
      "[LightGBM] [Warning] feature_fraction is set=0.9901164024747781, colsample_bytree=1.0 will be ignored. Current value: feature_fraction=0.9901164024747781\n",
      "[LightGBM] [Warning] lambda_l2 is set=0.08423262379856582, reg_lambda=0.0 will be ignored. Current value: lambda_l2=0.08423262379856582\n",
      "[LightGBM] [Warning] bagging_freq is set=1, subsample_freq=0 will be ignored. Current value: bagging_freq=1\n"
     ]
    },
    {
     "name": "stderr",
     "output_type": "stream",
     "text": [
      "\u001b[32m[I 2023-03-15 16:57:29,560]\u001b[0m Trial 11 finished with value: -0.19203622193457012 and parameters: {'lambda_l1': 6.23319493857854, 'lambda_l2': 0.08423262379856582, 'num_leaves': 256, 'feature_fraction': 0.9901164024747781, 'bagging_fraction': 0.4378100180820294, 'bagging_freq': 1, 'min_child_samples': 100}. Best is trial 11 with value: -0.19203622193457012.\u001b[0m\n"
     ]
    },
    {
     "name": "stdout",
     "output_type": "stream",
     "text": [
      "[LightGBM] [Warning] bagging_fraction is set=0.4378100180820294, subsample=1.0 will be ignored. Current value: bagging_fraction=0.4378100180820294\n",
      "[LightGBM] [Warning] lambda_l1 is set=6.23319493857854, reg_alpha=0.0 will be ignored. Current value: lambda_l1=6.23319493857854\n",
      "[LightGBM] [Warning] feature_fraction is set=0.9901164024747781, colsample_bytree=1.0 will be ignored. Current value: feature_fraction=0.9901164024747781\n",
      "[LightGBM] [Warning] lambda_l2 is set=0.08423262379856582, reg_lambda=0.0 will be ignored. Current value: lambda_l2=0.08423262379856582\n",
      "[LightGBM] [Warning] bagging_freq is set=1, subsample_freq=0 will be ignored. Current value: bagging_freq=1\n",
      "[LightGBM] [Warning] bagging_fraction is set=0.4041168731689514, subsample=1.0 will be ignored. Current value: bagging_fraction=0.4041168731689514\n",
      "[LightGBM] [Warning] lambda_l1 is set=7.322262852210654, reg_alpha=0.0 will be ignored. Current value: lambda_l1=7.322262852210654\n",
      "[LightGBM] [Warning] feature_fraction is set=0.9963540755334042, colsample_bytree=1.0 will be ignored. Current value: feature_fraction=0.9963540755334042\n",
      "[LightGBM] [Warning] lambda_l2 is set=0.028417365290758376, reg_lambda=0.0 will be ignored. Current value: lambda_l2=0.028417365290758376\n",
      "[LightGBM] [Warning] bagging_freq is set=2, subsample_freq=0 will be ignored. Current value: bagging_freq=2\n",
      "[LightGBM] [Warning] bagging_fraction is set=0.4041168731689514, subsample=1.0 will be ignored. Current value: bagging_fraction=0.4041168731689514\n",
      "[LightGBM] [Warning] lambda_l1 is set=7.322262852210654, reg_alpha=0.0 will be ignored. Current value: lambda_l1=7.322262852210654\n",
      "[LightGBM] [Warning] feature_fraction is set=0.9963540755334042, colsample_bytree=1.0 will be ignored. Current value: feature_fraction=0.9963540755334042\n",
      "[LightGBM] [Warning] lambda_l2 is set=0.028417365290758376, reg_lambda=0.0 will be ignored. Current value: lambda_l2=0.028417365290758376\n",
      "[LightGBM] [Warning] bagging_freq is set=2, subsample_freq=0 will be ignored. Current value: bagging_freq=2\n"
     ]
    },
    {
     "name": "stderr",
     "output_type": "stream",
     "text": [
      "\u001b[32m[I 2023-03-15 16:57:29,902]\u001b[0m Trial 12 finished with value: -0.1934519919849073 and parameters: {'lambda_l1': 7.322262852210654, 'lambda_l2': 0.028417365290758376, 'num_leaves': 252, 'feature_fraction': 0.9963540755334042, 'bagging_fraction': 0.4041168731689514, 'bagging_freq': 2, 'min_child_samples': 81}. Best is trial 11 with value: -0.19203622193457012.\u001b[0m\n"
     ]
    },
    {
     "name": "stdout",
     "output_type": "stream",
     "text": [
      "[LightGBM] [Warning] bagging_fraction is set=0.4041168731689514, subsample=1.0 will be ignored. Current value: bagging_fraction=0.4041168731689514\n",
      "[LightGBM] [Warning] lambda_l1 is set=7.322262852210654, reg_alpha=0.0 will be ignored. Current value: lambda_l1=7.322262852210654\n",
      "[LightGBM] [Warning] feature_fraction is set=0.9963540755334042, colsample_bytree=1.0 will be ignored. Current value: feature_fraction=0.9963540755334042\n",
      "[LightGBM] [Warning] lambda_l2 is set=0.028417365290758376, reg_lambda=0.0 will be ignored. Current value: lambda_l2=0.028417365290758376\n",
      "[LightGBM] [Warning] bagging_freq is set=2, subsample_freq=0 will be ignored. Current value: bagging_freq=2\n",
      "[LightGBM] [Warning] bagging_fraction is set=0.4041168731689514, subsample=1.0 will be ignored. Current value: bagging_fraction=0.4041168731689514\n",
      "[LightGBM] [Warning] lambda_l1 is set=7.322262852210654, reg_alpha=0.0 will be ignored. Current value: lambda_l1=7.322262852210654\n",
      "[LightGBM] [Warning] feature_fraction is set=0.9963540755334042, colsample_bytree=1.0 will be ignored. Current value: feature_fraction=0.9963540755334042\n",
      "[LightGBM] [Warning] lambda_l2 is set=0.028417365290758376, reg_lambda=0.0 will be ignored. Current value: lambda_l2=0.028417365290758376\n",
      "[LightGBM] [Warning] bagging_freq is set=2, subsample_freq=0 will be ignored. Current value: bagging_freq=2\n",
      "[LightGBM] [Warning] bagging_fraction is set=0.4041168731689514, subsample=1.0 will be ignored. Current value: bagging_fraction=0.4041168731689514\n",
      "[LightGBM] [Warning] lambda_l1 is set=7.322262852210654, reg_alpha=0.0 will be ignored. Current value: lambda_l1=7.322262852210654\n",
      "[LightGBM] [Warning] feature_fraction is set=0.9963540755334042, colsample_bytree=1.0 will be ignored. Current value: feature_fraction=0.9963540755334042\n",
      "[LightGBM] [Warning] lambda_l2 is set=0.028417365290758376, reg_lambda=0.0 will be ignored. Current value: lambda_l2=0.028417365290758376\n",
      "[LightGBM] [Warning] bagging_freq is set=2, subsample_freq=0 will be ignored. Current value: bagging_freq=2\n",
      "[LightGBM] [Warning] bagging_fraction is set=0.42601945619480713, subsample=1.0 will be ignored. Current value: bagging_fraction=0.42601945619480713\n",
      "[LightGBM] [Warning] lambda_l1 is set=3.8376075366783655, reg_alpha=0.0 will be ignored. Current value: lambda_l1=3.8376075366783655\n",
      "[LightGBM] [Warning] feature_fraction is set=0.9982128685871977, colsample_bytree=1.0 will be ignored. Current value: feature_fraction=0.9982128685871977\n",
      "[LightGBM] [Warning] lambda_l2 is set=0.034660984682832, reg_lambda=0.0 will be ignored. Current value: lambda_l2=0.034660984682832\n",
      "[LightGBM] [Warning] bagging_freq is set=2, subsample_freq=0 will be ignored. Current value: bagging_freq=2\n",
      "[LightGBM] [Warning] bagging_fraction is set=0.42601945619480713, subsample=1.0 will be ignored. Current value: bagging_fraction=0.42601945619480713\n",
      "[LightGBM] [Warning] lambda_l1 is set=3.8376075366783655, reg_alpha=0.0 will be ignored. Current value: lambda_l1=3.8376075366783655\n",
      "[LightGBM] [Warning] feature_fraction is set=0.9982128685871977, colsample_bytree=1.0 will be ignored. Current value: feature_fraction=0.9982128685871977\n",
      "[LightGBM] [Warning] lambda_l2 is set=0.034660984682832, reg_lambda=0.0 will be ignored. Current value: lambda_l2=0.034660984682832\n",
      "[LightGBM] [Warning] bagging_freq is set=2, subsample_freq=0 will be ignored. Current value: bagging_freq=2\n",
      "[LightGBM] [Warning] bagging_fraction is set=0.42601945619480713, subsample=1.0 will be ignored. Current value: bagging_fraction=0.42601945619480713\n",
      "[LightGBM] [Warning] lambda_l1 is set=3.8376075366783655, reg_alpha=0.0 will be ignored. Current value: lambda_l1=3.8376075366783655\n",
      "[LightGBM] [Warning] feature_fraction is set=0.9982128685871977, colsample_bytree=1.0 will be ignored. Current value: feature_fraction=0.9982128685871977\n",
      "[LightGBM] [Warning] lambda_l2 is set=0.034660984682832, reg_lambda=0.0 will be ignored. Current value: lambda_l2=0.034660984682832\n",
      "[LightGBM] [Warning] bagging_freq is set=2, subsample_freq=0 will be ignored. Current value: bagging_freq=2\n"
     ]
    },
    {
     "name": "stderr",
     "output_type": "stream",
     "text": [
      "\u001b[32m[I 2023-03-15 16:57:30,298]\u001b[0m Trial 13 finished with value: -0.19837136489269347 and parameters: {'lambda_l1': 3.8376075366783655, 'lambda_l2': 0.034660984682832, 'num_leaves': 252, 'feature_fraction': 0.9982128685871977, 'bagging_fraction': 0.42601945619480713, 'bagging_freq': 2, 'min_child_samples': 75}. Best is trial 11 with value: -0.19203622193457012.\u001b[0m\n"
     ]
    },
    {
     "name": "stdout",
     "output_type": "stream",
     "text": [
      "[LightGBM] [Warning] bagging_fraction is set=0.42601945619480713, subsample=1.0 will be ignored. Current value: bagging_fraction=0.42601945619480713\n",
      "[LightGBM] [Warning] lambda_l1 is set=3.8376075366783655, reg_alpha=0.0 will be ignored. Current value: lambda_l1=3.8376075366783655\n",
      "[LightGBM] [Warning] feature_fraction is set=0.9982128685871977, colsample_bytree=1.0 will be ignored. Current value: feature_fraction=0.9982128685871977\n",
      "[LightGBM] [Warning] lambda_l2 is set=0.034660984682832, reg_lambda=0.0 will be ignored. Current value: lambda_l2=0.034660984682832\n",
      "[LightGBM] [Warning] bagging_freq is set=2, subsample_freq=0 will be ignored. Current value: bagging_freq=2\n",
      "[LightGBM] [Warning] bagging_fraction is set=0.42601945619480713, subsample=1.0 will be ignored. Current value: bagging_fraction=0.42601945619480713\n",
      "[LightGBM] [Warning] lambda_l1 is set=3.8376075366783655, reg_alpha=0.0 will be ignored. Current value: lambda_l1=3.8376075366783655\n",
      "[LightGBM] [Warning] feature_fraction is set=0.9982128685871977, colsample_bytree=1.0 will be ignored. Current value: feature_fraction=0.9982128685871977\n",
      "[LightGBM] [Warning] lambda_l2 is set=0.034660984682832, reg_lambda=0.0 will be ignored. Current value: lambda_l2=0.034660984682832\n",
      "[LightGBM] [Warning] bagging_freq is set=2, subsample_freq=0 will be ignored. Current value: bagging_freq=2\n",
      "[LightGBM] [Warning] bagging_fraction is set=0.4008681561656816, subsample=1.0 will be ignored. Current value: bagging_fraction=0.4008681561656816\n",
      "[LightGBM] [Warning] lambda_l1 is set=3.4257183262696445, reg_alpha=0.0 will be ignored. Current value: lambda_l1=3.4257183262696445\n",
      "[LightGBM] [Warning] feature_fraction is set=0.9971512444145848, colsample_bytree=1.0 will be ignored. Current value: feature_fraction=0.9971512444145848\n",
      "[LightGBM] [Warning] lambda_l2 is set=0.017100679467324936, reg_lambda=0.0 will be ignored. Current value: lambda_l2=0.017100679467324936\n",
      "[LightGBM] [Warning] bagging_freq is set=2, subsample_freq=0 will be ignored. Current value: bagging_freq=2\n",
      "[LightGBM] [Warning] bagging_fraction is set=0.4008681561656816, subsample=1.0 will be ignored. Current value: bagging_fraction=0.4008681561656816\n",
      "[LightGBM] [Warning] lambda_l1 is set=3.4257183262696445, reg_alpha=0.0 will be ignored. Current value: lambda_l1=3.4257183262696445\n",
      "[LightGBM] [Warning] feature_fraction is set=0.9971512444145848, colsample_bytree=1.0 will be ignored. Current value: feature_fraction=0.9971512444145848\n",
      "[LightGBM] [Warning] lambda_l2 is set=0.017100679467324936, reg_lambda=0.0 will be ignored. Current value: lambda_l2=0.017100679467324936\n",
      "[LightGBM] [Warning] bagging_freq is set=2, subsample_freq=0 will be ignored. Current value: bagging_freq=2\n",
      "[LightGBM] [Warning] bagging_fraction is set=0.4008681561656816, subsample=1.0 will be ignored. Current value: bagging_fraction=0.4008681561656816\n",
      "[LightGBM] [Warning] lambda_l1 is set=3.4257183262696445, reg_alpha=0.0 will be ignored. Current value: lambda_l1=3.4257183262696445\n",
      "[LightGBM] [Warning] feature_fraction is set=0.9971512444145848, colsample_bytree=1.0 will be ignored. Current value: feature_fraction=0.9971512444145848\n",
      "[LightGBM] [Warning] lambda_l2 is set=0.017100679467324936, reg_lambda=0.0 will be ignored. Current value: lambda_l2=0.017100679467324936\n",
      "[LightGBM] [Warning] bagging_freq is set=2, subsample_freq=0 will be ignored. Current value: bagging_freq=2\n",
      "[LightGBM] [Warning] bagging_fraction is set=0.4008681561656816, subsample=1.0 will be ignored. Current value: bagging_fraction=0.4008681561656816\n",
      "[LightGBM] [Warning] lambda_l1 is set=3.4257183262696445, reg_alpha=0.0 will be ignored. Current value: lambda_l1=3.4257183262696445\n",
      "[LightGBM] [Warning] feature_fraction is set=0.9971512444145848, colsample_bytree=1.0 will be ignored. Current value: feature_fraction=0.9971512444145848\n",
      "[LightGBM] [Warning] lambda_l2 is set=0.017100679467324936, reg_lambda=0.0 will be ignored. Current value: lambda_l2=0.017100679467324936\n",
      "[LightGBM] [Warning] bagging_freq is set=2, subsample_freq=0 will be ignored. Current value: bagging_freq=2\n",
      "[LightGBM] [Warning] bagging_fraction is set=0.4008681561656816, subsample=1.0 will be ignored. Current value: bagging_fraction=0.4008681561656816\n",
      "[LightGBM] [Warning] lambda_l1 is set=3.4257183262696445, reg_alpha=0.0 will be ignored. Current value: lambda_l1=3.4257183262696445\n",
      "[LightGBM] [Warning] feature_fraction is set=0.9971512444145848, colsample_bytree=1.0 will be ignored. Current value: feature_fraction=0.9971512444145848\n",
      "[LightGBM] [Warning] lambda_l2 is set=0.017100679467324936, reg_lambda=0.0 will be ignored. Current value: lambda_l2=0.017100679467324936\n",
      "[LightGBM] [Warning] bagging_freq is set=2, subsample_freq=0 will be ignored. Current value: bagging_freq=2\n"
     ]
    },
    {
     "name": "stderr",
     "output_type": "stream",
     "text": [
      "\u001b[32m[I 2023-03-15 16:57:30,668]\u001b[0m Trial 14 finished with value: -0.19744222559437472 and parameters: {'lambda_l1': 3.4257183262696445, 'lambda_l2': 0.017100679467324936, 'num_leaves': 203, 'feature_fraction': 0.9971512444145848, 'bagging_fraction': 0.4008681561656816, 'bagging_freq': 2, 'min_child_samples': 78}. Best is trial 11 with value: -0.19203622193457012.\u001b[0m\n"
     ]
    },
    {
     "name": "stdout",
     "output_type": "stream",
     "text": [
      "[LightGBM] [Warning] bagging_fraction is set=0.4825908599997769, subsample=1.0 will be ignored. Current value: bagging_fraction=0.4825908599997769\n",
      "[LightGBM] [Warning] lambda_l1 is set=0.2751720340927538, reg_alpha=0.0 will be ignored. Current value: lambda_l1=0.2751720340927538\n",
      "[LightGBM] [Warning] feature_fraction is set=0.8887740541686776, colsample_bytree=1.0 will be ignored. Current value: feature_fraction=0.8887740541686776\n",
      "[LightGBM] [Warning] lambda_l2 is set=0.230478528951028, reg_lambda=0.0 will be ignored. Current value: lambda_l2=0.230478528951028\n",
      "[LightGBM] [Warning] bagging_freq is set=2, subsample_freq=0 will be ignored. Current value: bagging_freq=2\n",
      "[LightGBM] [Warning] bagging_fraction is set=0.4825908599997769, subsample=1.0 will be ignored. Current value: bagging_fraction=0.4825908599997769\n",
      "[LightGBM] [Warning] lambda_l1 is set=0.2751720340927538, reg_alpha=0.0 will be ignored. Current value: lambda_l1=0.2751720340927538\n",
      "[LightGBM] [Warning] feature_fraction is set=0.8887740541686776, colsample_bytree=1.0 will be ignored. Current value: feature_fraction=0.8887740541686776\n",
      "[LightGBM] [Warning] lambda_l2 is set=0.230478528951028, reg_lambda=0.0 will be ignored. Current value: lambda_l2=0.230478528951028\n",
      "[LightGBM] [Warning] bagging_freq is set=2, subsample_freq=0 will be ignored. Current value: bagging_freq=2\n",
      "[LightGBM] [Warning] bagging_fraction is set=0.4825908599997769, subsample=1.0 will be ignored. Current value: bagging_fraction=0.4825908599997769\n",
      "[LightGBM] [Warning] lambda_l1 is set=0.2751720340927538, reg_alpha=0.0 will be ignored. Current value: lambda_l1=0.2751720340927538\n",
      "[LightGBM] [Warning] feature_fraction is set=0.8887740541686776, colsample_bytree=1.0 will be ignored. Current value: feature_fraction=0.8887740541686776\n",
      "[LightGBM] [Warning] lambda_l2 is set=0.230478528951028, reg_lambda=0.0 will be ignored. Current value: lambda_l2=0.230478528951028\n",
      "[LightGBM] [Warning] bagging_freq is set=2, subsample_freq=0 will be ignored. Current value: bagging_freq=2\n",
      "[LightGBM] [Warning] bagging_fraction is set=0.4825908599997769, subsample=1.0 will be ignored. Current value: bagging_fraction=0.4825908599997769\n",
      "[LightGBM] [Warning] lambda_l1 is set=0.2751720340927538, reg_alpha=0.0 will be ignored. Current value: lambda_l1=0.2751720340927538\n",
      "[LightGBM] [Warning] feature_fraction is set=0.8887740541686776, colsample_bytree=1.0 will be ignored. Current value: feature_fraction=0.8887740541686776\n",
      "[LightGBM] [Warning] lambda_l2 is set=0.230478528951028, reg_lambda=0.0 will be ignored. Current value: lambda_l2=0.230478528951028\n",
      "[LightGBM] [Warning] bagging_freq is set=2, subsample_freq=0 will be ignored. Current value: bagging_freq=2\n"
     ]
    },
    {
     "name": "stderr",
     "output_type": "stream",
     "text": [
      "\u001b[32m[I 2023-03-15 16:57:31,231]\u001b[0m Trial 15 finished with value: -0.211396333657719 and parameters: {'lambda_l1': 0.2751720340927538, 'lambda_l2': 0.230478528951028, 'num_leaves': 113, 'feature_fraction': 0.8887740541686776, 'bagging_fraction': 0.4825908599997769, 'bagging_freq': 2, 'min_child_samples': 42}. Best is trial 11 with value: -0.19203622193457012.\u001b[0m\n"
     ]
    },
    {
     "name": "stdout",
     "output_type": "stream",
     "text": [
      "[LightGBM] [Warning] bagging_fraction is set=0.4825908599997769, subsample=1.0 will be ignored. Current value: bagging_fraction=0.4825908599997769\n",
      "[LightGBM] [Warning] lambda_l1 is set=0.2751720340927538, reg_alpha=0.0 will be ignored. Current value: lambda_l1=0.2751720340927538\n",
      "[LightGBM] [Warning] feature_fraction is set=0.8887740541686776, colsample_bytree=1.0 will be ignored. Current value: feature_fraction=0.8887740541686776\n",
      "[LightGBM] [Warning] lambda_l2 is set=0.230478528951028, reg_lambda=0.0 will be ignored. Current value: lambda_l2=0.230478528951028\n",
      "[LightGBM] [Warning] bagging_freq is set=2, subsample_freq=0 will be ignored. Current value: bagging_freq=2\n",
      "[LightGBM] [Warning] bagging_fraction is set=0.461104318804218, subsample=1.0 will be ignored. Current value: bagging_fraction=0.461104318804218\n",
      "[LightGBM] [Warning] lambda_l1 is set=9.703862679584928, reg_alpha=0.0 will be ignored. Current value: lambda_l1=9.703862679584928\n",
      "[LightGBM] [Warning] feature_fraction is set=0.9145208963694682, colsample_bytree=1.0 will be ignored. Current value: feature_fraction=0.9145208963694682\n",
      "[LightGBM] [Warning] lambda_l2 is set=0.002448175046292767, reg_lambda=0.0 will be ignored. Current value: lambda_l2=0.002448175046292767\n",
      "[LightGBM] [Warning] bagging_freq is set=3, subsample_freq=0 will be ignored. Current value: bagging_freq=3\n",
      "[LightGBM] [Warning] bagging_fraction is set=0.461104318804218, subsample=1.0 will be ignored. Current value: bagging_fraction=0.461104318804218\n",
      "[LightGBM] [Warning] lambda_l1 is set=9.703862679584928, reg_alpha=0.0 will be ignored. Current value: lambda_l1=9.703862679584928\n",
      "[LightGBM] [Warning] feature_fraction is set=0.9145208963694682, colsample_bytree=1.0 will be ignored. Current value: feature_fraction=0.9145208963694682\n",
      "[LightGBM] [Warning] lambda_l2 is set=0.002448175046292767, reg_lambda=0.0 will be ignored. Current value: lambda_l2=0.002448175046292767\n",
      "[LightGBM] [Warning] bagging_freq is set=3, subsample_freq=0 will be ignored. Current value: bagging_freq=3\n",
      "[LightGBM] [Warning] bagging_fraction is set=0.461104318804218, subsample=1.0 will be ignored. Current value: bagging_fraction=0.461104318804218\n",
      "[LightGBM] [Warning] lambda_l1 is set=9.703862679584928, reg_alpha=0.0 will be ignored. Current value: lambda_l1=9.703862679584928\n",
      "[LightGBM] [Warning] feature_fraction is set=0.9145208963694682, colsample_bytree=1.0 will be ignored. Current value: feature_fraction=0.9145208963694682\n",
      "[LightGBM] [Warning] lambda_l2 is set=0.002448175046292767, reg_lambda=0.0 will be ignored. Current value: lambda_l2=0.002448175046292767\n",
      "[LightGBM] [Warning] bagging_freq is set=3, subsample_freq=0 will be ignored. Current value: bagging_freq=3\n",
      "[LightGBM] [Warning] bagging_fraction is set=0.461104318804218, subsample=1.0 will be ignored. Current value: bagging_fraction=0.461104318804218\n",
      "[LightGBM] [Warning] lambda_l1 is set=9.703862679584928, reg_alpha=0.0 will be ignored. Current value: lambda_l1=9.703862679584928\n",
      "[LightGBM] [Warning] feature_fraction is set=0.9145208963694682, colsample_bytree=1.0 will be ignored. Current value: feature_fraction=0.9145208963694682\n",
      "[LightGBM] [Warning] lambda_l2 is set=0.002448175046292767, reg_lambda=0.0 will be ignored. Current value: lambda_l2=0.002448175046292767\n",
      "[LightGBM] [Warning] bagging_freq is set=3, subsample_freq=0 will be ignored. Current value: bagging_freq=3\n",
      "[LightGBM] [Warning] bagging_fraction is set=0.461104318804218, subsample=1.0 will be ignored. Current value: bagging_fraction=0.461104318804218\n",
      "[LightGBM] [Warning] lambda_l1 is set=9.703862679584928, reg_alpha=0.0 will be ignored. Current value: lambda_l1=9.703862679584928\n",
      "[LightGBM] [Warning] feature_fraction is set=0.9145208963694682, colsample_bytree=1.0 will be ignored. Current value: feature_fraction=0.9145208963694682\n",
      "[LightGBM] [Warning] lambda_l2 is set=0.002448175046292767, reg_lambda=0.0 will be ignored. Current value: lambda_l2=0.002448175046292767\n",
      "[LightGBM] [Warning] bagging_freq is set=3, subsample_freq=0 will be ignored. Current value: bagging_freq=3\n"
     ]
    },
    {
     "name": "stderr",
     "output_type": "stream",
     "text": [
      "\u001b[32m[I 2023-03-15 16:57:31,566]\u001b[0m Trial 16 finished with value: -0.19131107681185258 and parameters: {'lambda_l1': 9.703862679584928, 'lambda_l2': 0.002448175046292767, 'num_leaves': 220, 'feature_fraction': 0.9145208963694682, 'bagging_fraction': 0.461104318804218, 'bagging_freq': 3, 'min_child_samples': 87}. Best is trial 16 with value: -0.19131107681185258.\u001b[0m\n"
     ]
    },
    {
     "name": "stdout",
     "output_type": "stream",
     "text": [
      "[LightGBM] [Warning] bagging_fraction is set=0.4979987153051481, subsample=1.0 will be ignored. Current value: bagging_fraction=0.4979987153051481\n",
      "[LightGBM] [Warning] lambda_l1 is set=0.02418632053989681, reg_alpha=0.0 will be ignored. Current value: lambda_l1=0.02418632053989681\n",
      "[LightGBM] [Warning] feature_fraction is set=0.8981600570533556, colsample_bytree=1.0 will be ignored. Current value: feature_fraction=0.8981600570533556\n",
      "[LightGBM] [Warning] lambda_l2 is set=0.00299460034185782, reg_lambda=0.0 will be ignored. Current value: lambda_l2=0.00299460034185782\n",
      "[LightGBM] [Warning] bagging_freq is set=4, subsample_freq=0 will be ignored. Current value: bagging_freq=4\n",
      "[LightGBM] [Warning] bagging_fraction is set=0.4979987153051481, subsample=1.0 will be ignored. Current value: bagging_fraction=0.4979987153051481\n",
      "[LightGBM] [Warning] lambda_l1 is set=0.02418632053989681, reg_alpha=0.0 will be ignored. Current value: lambda_l1=0.02418632053989681\n",
      "[LightGBM] [Warning] feature_fraction is set=0.8981600570533556, colsample_bytree=1.0 will be ignored. Current value: feature_fraction=0.8981600570533556\n",
      "[LightGBM] [Warning] lambda_l2 is set=0.00299460034185782, reg_lambda=0.0 will be ignored. Current value: lambda_l2=0.00299460034185782\n",
      "[LightGBM] [Warning] bagging_freq is set=4, subsample_freq=0 will be ignored. Current value: bagging_freq=4\n",
      "[LightGBM] [Warning] bagging_fraction is set=0.4979987153051481, subsample=1.0 will be ignored. Current value: bagging_fraction=0.4979987153051481\n",
      "[LightGBM] [Warning] lambda_l1 is set=0.02418632053989681, reg_alpha=0.0 will be ignored. Current value: lambda_l1=0.02418632053989681\n",
      "[LightGBM] [Warning] feature_fraction is set=0.8981600570533556, colsample_bytree=1.0 will be ignored. Current value: feature_fraction=0.8981600570533556\n",
      "[LightGBM] [Warning] lambda_l2 is set=0.00299460034185782, reg_lambda=0.0 will be ignored. Current value: lambda_l2=0.00299460034185782\n",
      "[LightGBM] [Warning] bagging_freq is set=4, subsample_freq=0 will be ignored. Current value: bagging_freq=4\n"
     ]
    },
    {
     "name": "stderr",
     "output_type": "stream",
     "text": [
      "\u001b[32m[I 2023-03-15 16:57:32,030]\u001b[0m Trial 17 finished with value: -0.20902985413254505 and parameters: {'lambda_l1': 0.02418632053989681, 'lambda_l2': 0.00299460034185782, 'num_leaves': 7, 'feature_fraction': 0.8981600570533556, 'bagging_fraction': 0.4979987153051481, 'bagging_freq': 4, 'min_child_samples': 63}. Best is trial 16 with value: -0.19131107681185258.\u001b[0m\n"
     ]
    },
    {
     "name": "stdout",
     "output_type": "stream",
     "text": [
      "[LightGBM] [Warning] bagging_fraction is set=0.4979987153051481, subsample=1.0 will be ignored. Current value: bagging_fraction=0.4979987153051481\n",
      "[LightGBM] [Warning] lambda_l1 is set=0.02418632053989681, reg_alpha=0.0 will be ignored. Current value: lambda_l1=0.02418632053989681\n",
      "[LightGBM] [Warning] feature_fraction is set=0.8981600570533556, colsample_bytree=1.0 will be ignored. Current value: feature_fraction=0.8981600570533556\n",
      "[LightGBM] [Warning] lambda_l2 is set=0.00299460034185782, reg_lambda=0.0 will be ignored. Current value: lambda_l2=0.00299460034185782\n",
      "[LightGBM] [Warning] bagging_freq is set=4, subsample_freq=0 will be ignored. Current value: bagging_freq=4\n",
      "[LightGBM] [Warning] bagging_fraction is set=0.4979987153051481, subsample=1.0 will be ignored. Current value: bagging_fraction=0.4979987153051481\n",
      "[LightGBM] [Warning] lambda_l1 is set=0.02418632053989681, reg_alpha=0.0 will be ignored. Current value: lambda_l1=0.02418632053989681\n",
      "[LightGBM] [Warning] feature_fraction is set=0.8981600570533556, colsample_bytree=1.0 will be ignored. Current value: feature_fraction=0.8981600570533556\n",
      "[LightGBM] [Warning] lambda_l2 is set=0.00299460034185782, reg_lambda=0.0 will be ignored. Current value: lambda_l2=0.00299460034185782\n",
      "[LightGBM] [Warning] bagging_freq is set=4, subsample_freq=0 will be ignored. Current value: bagging_freq=4\n",
      "[LightGBM] [Warning] bagging_fraction is set=0.6325329001031614, subsample=1.0 will be ignored. Current value: bagging_fraction=0.6325329001031614\n",
      "[LightGBM] [Warning] lambda_l1 is set=0.5256764559949183, reg_alpha=0.0 will be ignored. Current value: lambda_l1=0.5256764559949183\n",
      "[LightGBM] [Warning] feature_fraction is set=0.7898268880235086, colsample_bytree=1.0 will be ignored. Current value: feature_fraction=0.7898268880235086\n",
      "[LightGBM] [Warning] lambda_l2 is set=0.31186142841352327, reg_lambda=0.0 will be ignored. Current value: lambda_l2=0.31186142841352327\n",
      "[LightGBM] [Warning] bagging_freq is set=3, subsample_freq=0 will be ignored. Current value: bagging_freq=3\n",
      "[LightGBM] [Warning] bagging_fraction is set=0.6325329001031614, subsample=1.0 will be ignored. Current value: bagging_fraction=0.6325329001031614\n",
      "[LightGBM] [Warning] lambda_l1 is set=0.5256764559949183, reg_alpha=0.0 will be ignored. Current value: lambda_l1=0.5256764559949183\n",
      "[LightGBM] [Warning] feature_fraction is set=0.7898268880235086, colsample_bytree=1.0 will be ignored. Current value: feature_fraction=0.7898268880235086\n",
      "[LightGBM] [Warning] lambda_l2 is set=0.31186142841352327, reg_lambda=0.0 will be ignored. Current value: lambda_l2=0.31186142841352327\n",
      "[LightGBM] [Warning] bagging_freq is set=3, subsample_freq=0 will be ignored. Current value: bagging_freq=3\n",
      "[LightGBM] [Warning] bagging_fraction is set=0.6325329001031614, subsample=1.0 will be ignored. Current value: bagging_fraction=0.6325329001031614\n",
      "[LightGBM] [Warning] lambda_l1 is set=0.5256764559949183, reg_alpha=0.0 will be ignored. Current value: lambda_l1=0.5256764559949183\n",
      "[LightGBM] [Warning] feature_fraction is set=0.7898268880235086, colsample_bytree=1.0 will be ignored. Current value: feature_fraction=0.7898268880235086\n",
      "[LightGBM] [Warning] lambda_l2 is set=0.31186142841352327, reg_lambda=0.0 will be ignored. Current value: lambda_l2=0.31186142841352327\n",
      "[LightGBM] [Warning] bagging_freq is set=3, subsample_freq=0 will be ignored. Current value: bagging_freq=3\n",
      "[LightGBM] [Warning] bagging_fraction is set=0.6325329001031614, subsample=1.0 will be ignored. Current value: bagging_fraction=0.6325329001031614\n",
      "[LightGBM] [Warning] lambda_l1 is set=0.5256764559949183, reg_alpha=0.0 will be ignored. Current value: lambda_l1=0.5256764559949183\n",
      "[LightGBM] [Warning] feature_fraction is set=0.7898268880235086, colsample_bytree=1.0 will be ignored. Current value: feature_fraction=0.7898268880235086\n",
      "[LightGBM] [Warning] lambda_l2 is set=0.31186142841352327, reg_lambda=0.0 will be ignored. Current value: lambda_l2=0.31186142841352327\n",
      "[LightGBM] [Warning] bagging_freq is set=3, subsample_freq=0 will be ignored. Current value: bagging_freq=3\n"
     ]
    },
    {
     "name": "stderr",
     "output_type": "stream",
     "text": [
      "\u001b[32m[I 2023-03-15 16:57:32,457]\u001b[0m Trial 18 finished with value: -0.20666490785822306 and parameters: {'lambda_l1': 0.5256764559949183, 'lambda_l2': 0.31186142841352327, 'num_leaves': 219, 'feature_fraction': 0.7898268880235086, 'bagging_fraction': 0.6325329001031614, 'bagging_freq': 3, 'min_child_samples': 99}. Best is trial 16 with value: -0.19131107681185258.\u001b[0m\n"
     ]
    },
    {
     "name": "stdout",
     "output_type": "stream",
     "text": [
      "[LightGBM] [Warning] bagging_fraction is set=0.6325329001031614, subsample=1.0 will be ignored. Current value: bagging_fraction=0.6325329001031614\n",
      "[LightGBM] [Warning] lambda_l1 is set=0.5256764559949183, reg_alpha=0.0 will be ignored. Current value: lambda_l1=0.5256764559949183\n",
      "[LightGBM] [Warning] feature_fraction is set=0.7898268880235086, colsample_bytree=1.0 will be ignored. Current value: feature_fraction=0.7898268880235086\n",
      "[LightGBM] [Warning] lambda_l2 is set=0.31186142841352327, reg_lambda=0.0 will be ignored. Current value: lambda_l2=0.31186142841352327\n",
      "[LightGBM] [Warning] bagging_freq is set=3, subsample_freq=0 will be ignored. Current value: bagging_freq=3\n",
      "[LightGBM] [Warning] bagging_fraction is set=0.5305823202512632, subsample=1.0 will be ignored. Current value: bagging_fraction=0.5305823202512632\n",
      "[LightGBM] [Warning] lambda_l1 is set=0.025841159273161086, reg_alpha=0.0 will be ignored. Current value: lambda_l1=0.025841159273161086\n",
      "[LightGBM] [Warning] feature_fraction is set=0.864505375621656, colsample_bytree=1.0 will be ignored. Current value: feature_fraction=0.864505375621656\n",
      "[LightGBM] [Warning] lambda_l2 is set=0.0020183005389955173, reg_lambda=0.0 will be ignored. Current value: lambda_l2=0.0020183005389955173\n",
      "[LightGBM] [Warning] bagging_freq is set=5, subsample_freq=0 will be ignored. Current value: bagging_freq=5\n",
      "[LightGBM] [Warning] bagging_fraction is set=0.5305823202512632, subsample=1.0 will be ignored. Current value: bagging_fraction=0.5305823202512632\n",
      "[LightGBM] [Warning] lambda_l1 is set=0.025841159273161086, reg_alpha=0.0 will be ignored. Current value: lambda_l1=0.025841159273161086\n",
      "[LightGBM] [Warning] feature_fraction is set=0.864505375621656, colsample_bytree=1.0 will be ignored. Current value: feature_fraction=0.864505375621656\n",
      "[LightGBM] [Warning] lambda_l2 is set=0.0020183005389955173, reg_lambda=0.0 will be ignored. Current value: lambda_l2=0.0020183005389955173\n",
      "[LightGBM] [Warning] bagging_freq is set=5, subsample_freq=0 will be ignored. Current value: bagging_freq=5\n",
      "[LightGBM] [Warning] bagging_fraction is set=0.5305823202512632, subsample=1.0 will be ignored. Current value: bagging_fraction=0.5305823202512632\n",
      "[LightGBM] [Warning] lambda_l1 is set=0.025841159273161086, reg_alpha=0.0 will be ignored. Current value: lambda_l1=0.025841159273161086\n",
      "[LightGBM] [Warning] feature_fraction is set=0.864505375621656, colsample_bytree=1.0 will be ignored. Current value: feature_fraction=0.864505375621656\n",
      "[LightGBM] [Warning] lambda_l2 is set=0.0020183005389955173, reg_lambda=0.0 will be ignored. Current value: lambda_l2=0.0020183005389955173\n",
      "[LightGBM] [Warning] bagging_freq is set=5, subsample_freq=0 will be ignored. Current value: bagging_freq=5\n",
      "[LightGBM] [Warning] bagging_fraction is set=0.5305823202512632, subsample=1.0 will be ignored. Current value: bagging_fraction=0.5305823202512632\n",
      "[LightGBM] [Warning] lambda_l1 is set=0.025841159273161086, reg_alpha=0.0 will be ignored. Current value: lambda_l1=0.025841159273161086\n",
      "[LightGBM] [Warning] feature_fraction is set=0.864505375621656, colsample_bytree=1.0 will be ignored. Current value: feature_fraction=0.864505375621656\n",
      "[LightGBM] [Warning] lambda_l2 is set=0.0020183005389955173, reg_lambda=0.0 will be ignored. Current value: lambda_l2=0.0020183005389955173\n",
      "[LightGBM] [Warning] bagging_freq is set=5, subsample_freq=0 will be ignored. Current value: bagging_freq=5\n",
      "[LightGBM] [Warning] bagging_fraction is set=0.5305823202512632, subsample=1.0 will be ignored. Current value: bagging_fraction=0.5305823202512632\n",
      "[LightGBM] [Warning] lambda_l1 is set=0.025841159273161086, reg_alpha=0.0 will be ignored. Current value: lambda_l1=0.025841159273161086\n",
      "[LightGBM] [Warning] feature_fraction is set=0.864505375621656, colsample_bytree=1.0 will be ignored. Current value: feature_fraction=0.864505375621656\n",
      "[LightGBM] [Warning] lambda_l2 is set=0.0020183005389955173, reg_lambda=0.0 will be ignored. Current value: lambda_l2=0.0020183005389955173\n",
      "[LightGBM] [Warning] bagging_freq is set=5, subsample_freq=0 will be ignored. Current value: bagging_freq=5\n"
     ]
    },
    {
     "name": "stderr",
     "output_type": "stream",
     "text": [
      "\u001b[32m[I 2023-03-15 16:57:32,862]\u001b[0m Trial 19 finished with value: -0.20425581453873748 and parameters: {'lambda_l1': 0.025841159273161086, 'lambda_l2': 0.0020183005389955173, 'num_leaves': 175, 'feature_fraction': 0.864505375621656, 'bagging_fraction': 0.5305823202512632, 'bagging_freq': 5, 'min_child_samples': 87}. Best is trial 16 with value: -0.19131107681185258.\u001b[0m\n"
     ]
    },
    {
     "name": "stdout",
     "output_type": "stream",
     "text": [
      "[LightGBM] [Warning] bagging_fraction is set=0.6702095992911739, subsample=1.0 will be ignored. Current value: bagging_fraction=0.6702095992911739\n",
      "[LightGBM] [Warning] lambda_l1 is set=9.754568596656897, reg_alpha=0.0 will be ignored. Current value: lambda_l1=9.754568596656897\n",
      "[LightGBM] [Warning] feature_fraction is set=0.9401113261401259, colsample_bytree=1.0 will be ignored. Current value: feature_fraction=0.9401113261401259\n",
      "[LightGBM] [Warning] lambda_l2 is set=0.00420809704030704, reg_lambda=0.0 will be ignored. Current value: lambda_l2=0.00420809704030704\n",
      "[LightGBM] [Warning] bagging_freq is set=5, subsample_freq=0 will be ignored. Current value: bagging_freq=5\n",
      "[LightGBM] [Warning] bagging_fraction is set=0.6702095992911739, subsample=1.0 will be ignored. Current value: bagging_fraction=0.6702095992911739\n",
      "[LightGBM] [Warning] lambda_l1 is set=9.754568596656897, reg_alpha=0.0 will be ignored. Current value: lambda_l1=9.754568596656897\n",
      "[LightGBM] [Warning] feature_fraction is set=0.9401113261401259, colsample_bytree=1.0 will be ignored. Current value: feature_fraction=0.9401113261401259\n",
      "[LightGBM] [Warning] lambda_l2 is set=0.00420809704030704, reg_lambda=0.0 will be ignored. Current value: lambda_l2=0.00420809704030704\n",
      "[LightGBM] [Warning] bagging_freq is set=5, subsample_freq=0 will be ignored. Current value: bagging_freq=5\n",
      "[LightGBM] [Warning] bagging_fraction is set=0.6702095992911739, subsample=1.0 will be ignored. Current value: bagging_fraction=0.6702095992911739\n",
      "[LightGBM] [Warning] lambda_l1 is set=9.754568596656897, reg_alpha=0.0 will be ignored. Current value: lambda_l1=9.754568596656897\n",
      "[LightGBM] [Warning] feature_fraction is set=0.9401113261401259, colsample_bytree=1.0 will be ignored. Current value: feature_fraction=0.9401113261401259\n",
      "[LightGBM] [Warning] lambda_l2 is set=0.00420809704030704, reg_lambda=0.0 will be ignored. Current value: lambda_l2=0.00420809704030704\n",
      "[LightGBM] [Warning] bagging_freq is set=5, subsample_freq=0 will be ignored. Current value: bagging_freq=5\n",
      "[LightGBM] [Warning] bagging_fraction is set=0.6702095992911739, subsample=1.0 will be ignored. Current value: bagging_fraction=0.6702095992911739\n",
      "[LightGBM] [Warning] lambda_l1 is set=9.754568596656897, reg_alpha=0.0 will be ignored. Current value: lambda_l1=9.754568596656897\n",
      "[LightGBM] [Warning] feature_fraction is set=0.9401113261401259, colsample_bytree=1.0 will be ignored. Current value: feature_fraction=0.9401113261401259\n",
      "[LightGBM] [Warning] lambda_l2 is set=0.00420809704030704, reg_lambda=0.0 will be ignored. Current value: lambda_l2=0.00420809704030704\n",
      "[LightGBM] [Warning] bagging_freq is set=5, subsample_freq=0 will be ignored. Current value: bagging_freq=5\n"
     ]
    },
    {
     "name": "stderr",
     "output_type": "stream",
     "text": [
      "\u001b[32m[I 2023-03-15 16:57:33,706]\u001b[0m Trial 20 finished with value: -0.19476731069436856 and parameters: {'lambda_l1': 9.754568596656897, 'lambda_l2': 0.00420809704030704, 'num_leaves': 119, 'feature_fraction': 0.9401113261401259, 'bagging_fraction': 0.6702095992911739, 'bagging_freq': 5, 'min_child_samples': 47}. Best is trial 16 with value: -0.19131107681185258.\u001b[0m\n"
     ]
    },
    {
     "name": "stdout",
     "output_type": "stream",
     "text": [
      "[LightGBM] [Warning] bagging_fraction is set=0.6702095992911739, subsample=1.0 will be ignored. Current value: bagging_fraction=0.6702095992911739\n",
      "[LightGBM] [Warning] lambda_l1 is set=9.754568596656897, reg_alpha=0.0 will be ignored. Current value: lambda_l1=9.754568596656897\n",
      "[LightGBM] [Warning] feature_fraction is set=0.9401113261401259, colsample_bytree=1.0 will be ignored. Current value: feature_fraction=0.9401113261401259\n",
      "[LightGBM] [Warning] lambda_l2 is set=0.00420809704030704, reg_lambda=0.0 will be ignored. Current value: lambda_l2=0.00420809704030704\n",
      "[LightGBM] [Warning] bagging_freq is set=5, subsample_freq=0 will be ignored. Current value: bagging_freq=5\n",
      "[LightGBM] [Warning] bagging_fraction is set=0.45527364361770434, subsample=1.0 will be ignored. Current value: bagging_fraction=0.45527364361770434\n",
      "[LightGBM] [Warning] lambda_l1 is set=9.451534065309923, reg_alpha=0.0 will be ignored. Current value: lambda_l1=9.451534065309923\n",
      "[LightGBM] [Warning] feature_fraction is set=0.9432436004393989, colsample_bytree=1.0 will be ignored. Current value: feature_fraction=0.9432436004393989\n",
      "[LightGBM] [Warning] lambda_l2 is set=0.17871424907463557, reg_lambda=0.0 will be ignored. Current value: lambda_l2=0.17871424907463557\n",
      "[LightGBM] [Warning] bagging_freq is set=2, subsample_freq=0 will be ignored. Current value: bagging_freq=2\n",
      "[LightGBM] [Warning] bagging_fraction is set=0.45527364361770434, subsample=1.0 will be ignored. Current value: bagging_fraction=0.45527364361770434\n",
      "[LightGBM] [Warning] lambda_l1 is set=9.451534065309923, reg_alpha=0.0 will be ignored. Current value: lambda_l1=9.451534065309923\n",
      "[LightGBM] [Warning] feature_fraction is set=0.9432436004393989, colsample_bytree=1.0 will be ignored. Current value: feature_fraction=0.9432436004393989\n",
      "[LightGBM] [Warning] lambda_l2 is set=0.17871424907463557, reg_lambda=0.0 will be ignored. Current value: lambda_l2=0.17871424907463557\n",
      "[LightGBM] [Warning] bagging_freq is set=2, subsample_freq=0 will be ignored. Current value: bagging_freq=2\n",
      "[LightGBM] [Warning] bagging_fraction is set=0.45527364361770434, subsample=1.0 will be ignored. Current value: bagging_fraction=0.45527364361770434\n",
      "[LightGBM] [Warning] lambda_l1 is set=9.451534065309923, reg_alpha=0.0 will be ignored. Current value: lambda_l1=9.451534065309923\n",
      "[LightGBM] [Warning] feature_fraction is set=0.9432436004393989, colsample_bytree=1.0 will be ignored. Current value: feature_fraction=0.9432436004393989\n",
      "[LightGBM] [Warning] lambda_l2 is set=0.17871424907463557, reg_lambda=0.0 will be ignored. Current value: lambda_l2=0.17871424907463557\n",
      "[LightGBM] [Warning] bagging_freq is set=2, subsample_freq=0 will be ignored. Current value: bagging_freq=2\n",
      "[LightGBM] [Warning] bagging_fraction is set=0.45527364361770434, subsample=1.0 will be ignored. Current value: bagging_fraction=0.45527364361770434\n",
      "[LightGBM] [Warning] lambda_l1 is set=9.451534065309923, reg_alpha=0.0 will be ignored. Current value: lambda_l1=9.451534065309923\n",
      "[LightGBM] [Warning] feature_fraction is set=0.9432436004393989, colsample_bytree=1.0 will be ignored. Current value: feature_fraction=0.9432436004393989\n",
      "[LightGBM] [Warning] lambda_l2 is set=0.17871424907463557, reg_lambda=0.0 will be ignored. Current value: lambda_l2=0.17871424907463557\n",
      "[LightGBM] [Warning] bagging_freq is set=2, subsample_freq=0 will be ignored. Current value: bagging_freq=2\n",
      "[LightGBM] [Warning] bagging_fraction is set=0.45527364361770434, subsample=1.0 will be ignored. Current value: bagging_fraction=0.45527364361770434\n",
      "[LightGBM] [Warning] lambda_l1 is set=9.451534065309923, reg_alpha=0.0 will be ignored. Current value: lambda_l1=9.451534065309923\n",
      "[LightGBM] [Warning] feature_fraction is set=0.9432436004393989, colsample_bytree=1.0 will be ignored. Current value: feature_fraction=0.9432436004393989\n",
      "[LightGBM] [Warning] lambda_l2 is set=0.17871424907463557, reg_lambda=0.0 will be ignored. Current value: lambda_l2=0.17871424907463557\n",
      "[LightGBM] [Warning] bagging_freq is set=2, subsample_freq=0 will be ignored. Current value: bagging_freq=2\n"
     ]
    },
    {
     "name": "stderr",
     "output_type": "stream",
     "text": [
      "\u001b[32m[I 2023-03-15 16:57:34,062]\u001b[0m Trial 21 finished with value: -0.1930094954073378 and parameters: {'lambda_l1': 9.451534065309923, 'lambda_l2': 0.17871424907463557, 'num_leaves': 236, 'feature_fraction': 0.9432436004393989, 'bagging_fraction': 0.45527364361770434, 'bagging_freq': 2, 'min_child_samples': 81}. Best is trial 16 with value: -0.19131107681185258.\u001b[0m\n"
     ]
    },
    {
     "name": "stdout",
     "output_type": "stream",
     "text": [
      "[LightGBM] [Warning] bagging_fraction is set=0.466130030797204, subsample=1.0 will be ignored. Current value: bagging_fraction=0.466130030797204\n",
      "[LightGBM] [Warning] lambda_l1 is set=0.5197359543051472, reg_alpha=0.0 will be ignored. Current value: lambda_l1=0.5197359543051472\n",
      "[LightGBM] [Warning] feature_fraction is set=0.9281755291394546, colsample_bytree=1.0 will be ignored. Current value: feature_fraction=0.9281755291394546\n",
      "[LightGBM] [Warning] lambda_l2 is set=0.41318573846165785, reg_lambda=0.0 will be ignored. Current value: lambda_l2=0.41318573846165785\n",
      "[LightGBM] [Warning] bagging_freq is set=3, subsample_freq=0 will be ignored. Current value: bagging_freq=3\n",
      "[LightGBM] [Warning] bagging_fraction is set=0.466130030797204, subsample=1.0 will be ignored. Current value: bagging_fraction=0.466130030797204\n",
      "[LightGBM] [Warning] lambda_l1 is set=0.5197359543051472, reg_alpha=0.0 will be ignored. Current value: lambda_l1=0.5197359543051472\n",
      "[LightGBM] [Warning] feature_fraction is set=0.9281755291394546, colsample_bytree=1.0 will be ignored. Current value: feature_fraction=0.9281755291394546\n",
      "[LightGBM] [Warning] lambda_l2 is set=0.41318573846165785, reg_lambda=0.0 will be ignored. Current value: lambda_l2=0.41318573846165785\n",
      "[LightGBM] [Warning] bagging_freq is set=3, subsample_freq=0 will be ignored. Current value: bagging_freq=3\n",
      "[LightGBM] [Warning] bagging_fraction is set=0.466130030797204, subsample=1.0 will be ignored. Current value: bagging_fraction=0.466130030797204\n",
      "[LightGBM] [Warning] lambda_l1 is set=0.5197359543051472, reg_alpha=0.0 will be ignored. Current value: lambda_l1=0.5197359543051472\n",
      "[LightGBM] [Warning] feature_fraction is set=0.9281755291394546, colsample_bytree=1.0 will be ignored. Current value: feature_fraction=0.9281755291394546\n",
      "[LightGBM] [Warning] lambda_l2 is set=0.41318573846165785, reg_lambda=0.0 will be ignored. Current value: lambda_l2=0.41318573846165785\n",
      "[LightGBM] [Warning] bagging_freq is set=3, subsample_freq=0 will be ignored. Current value: bagging_freq=3\n"
     ]
    },
    {
     "name": "stderr",
     "output_type": "stream",
     "text": [
      "\u001b[32m[I 2023-03-15 16:57:34,441]\u001b[0m Trial 22 finished with value: -0.20513340276219766 and parameters: {'lambda_l1': 0.5197359543051472, 'lambda_l2': 0.41318573846165785, 'num_leaves': 224, 'feature_fraction': 0.9281755291394546, 'bagging_fraction': 0.466130030797204, 'bagging_freq': 3, 'min_child_samples': 89}. Best is trial 16 with value: -0.19131107681185258.\u001b[0m\n"
     ]
    },
    {
     "name": "stdout",
     "output_type": "stream",
     "text": [
      "[LightGBM] [Warning] bagging_fraction is set=0.466130030797204, subsample=1.0 will be ignored. Current value: bagging_fraction=0.466130030797204\n",
      "[LightGBM] [Warning] lambda_l1 is set=0.5197359543051472, reg_alpha=0.0 will be ignored. Current value: lambda_l1=0.5197359543051472\n",
      "[LightGBM] [Warning] feature_fraction is set=0.9281755291394546, colsample_bytree=1.0 will be ignored. Current value: feature_fraction=0.9281755291394546\n",
      "[LightGBM] [Warning] lambda_l2 is set=0.41318573846165785, reg_lambda=0.0 will be ignored. Current value: lambda_l2=0.41318573846165785\n",
      "[LightGBM] [Warning] bagging_freq is set=3, subsample_freq=0 will be ignored. Current value: bagging_freq=3\n",
      "[LightGBM] [Warning] bagging_fraction is set=0.466130030797204, subsample=1.0 will be ignored. Current value: bagging_fraction=0.466130030797204\n",
      "[LightGBM] [Warning] lambda_l1 is set=0.5197359543051472, reg_alpha=0.0 will be ignored. Current value: lambda_l1=0.5197359543051472\n",
      "[LightGBM] [Warning] feature_fraction is set=0.9281755291394546, colsample_bytree=1.0 will be ignored. Current value: feature_fraction=0.9281755291394546\n",
      "[LightGBM] [Warning] lambda_l2 is set=0.41318573846165785, reg_lambda=0.0 will be ignored. Current value: lambda_l2=0.41318573846165785\n",
      "[LightGBM] [Warning] bagging_freq is set=3, subsample_freq=0 will be ignored. Current value: bagging_freq=3\n",
      "[LightGBM] [Warning] bagging_fraction is set=0.5462061299704217, subsample=1.0 will be ignored. Current value: bagging_fraction=0.5462061299704217\n",
      "[LightGBM] [Warning] lambda_l1 is set=1.0329894984468233, reg_alpha=0.0 will be ignored. Current value: lambda_l1=1.0329894984468233\n",
      "[LightGBM] [Warning] feature_fraction is set=0.8267852780890455, colsample_bytree=1.0 will be ignored. Current value: feature_fraction=0.8267852780890455\n",
      "[LightGBM] [Warning] lambda_l2 is set=0.1404527312822685, reg_lambda=0.0 will be ignored. Current value: lambda_l2=0.1404527312822685\n",
      "[LightGBM] [Warning] bagging_freq is set=1, subsample_freq=0 will be ignored. Current value: bagging_freq=1\n",
      "[LightGBM] [Warning] bagging_fraction is set=0.5462061299704217, subsample=1.0 will be ignored. Current value: bagging_fraction=0.5462061299704217\n",
      "[LightGBM] [Warning] lambda_l1 is set=1.0329894984468233, reg_alpha=0.0 will be ignored. Current value: lambda_l1=1.0329894984468233\n",
      "[LightGBM] [Warning] feature_fraction is set=0.8267852780890455, colsample_bytree=1.0 will be ignored. Current value: feature_fraction=0.8267852780890455\n",
      "[LightGBM] [Warning] lambda_l2 is set=0.1404527312822685, reg_lambda=0.0 will be ignored. Current value: lambda_l2=0.1404527312822685\n",
      "[LightGBM] [Warning] bagging_freq is set=1, subsample_freq=0 will be ignored. Current value: bagging_freq=1\n",
      "[LightGBM] [Warning] bagging_fraction is set=0.5462061299704217, subsample=1.0 will be ignored. Current value: bagging_fraction=0.5462061299704217\n",
      "[LightGBM] [Warning] lambda_l1 is set=1.0329894984468233, reg_alpha=0.0 will be ignored. Current value: lambda_l1=1.0329894984468233\n",
      "[LightGBM] [Warning] feature_fraction is set=0.8267852780890455, colsample_bytree=1.0 will be ignored. Current value: feature_fraction=0.8267852780890455\n",
      "[LightGBM] [Warning] lambda_l2 is set=0.1404527312822685, reg_lambda=0.0 will be ignored. Current value: lambda_l2=0.1404527312822685\n",
      "[LightGBM] [Warning] bagging_freq is set=1, subsample_freq=0 will be ignored. Current value: bagging_freq=1\n",
      "[LightGBM] [Warning] bagging_fraction is set=0.5462061299704217, subsample=1.0 will be ignored. Current value: bagging_fraction=0.5462061299704217\n",
      "[LightGBM] [Warning] lambda_l1 is set=1.0329894984468233, reg_alpha=0.0 will be ignored. Current value: lambda_l1=1.0329894984468233\n",
      "[LightGBM] [Warning] feature_fraction is set=0.8267852780890455, colsample_bytree=1.0 will be ignored. Current value: feature_fraction=0.8267852780890455\n",
      "[LightGBM] [Warning] lambda_l2 is set=0.1404527312822685, reg_lambda=0.0 will be ignored. Current value: lambda_l2=0.1404527312822685\n",
      "[LightGBM] [Warning] bagging_freq is set=1, subsample_freq=0 will be ignored. Current value: bagging_freq=1\n"
     ]
    },
    {
     "name": "stderr",
     "output_type": "stream",
     "text": [
      "\u001b[32m[I 2023-03-15 16:57:34,901]\u001b[0m Trial 23 finished with value: -0.20865753724411232 and parameters: {'lambda_l1': 1.0329894984468233, 'lambda_l2': 0.1404527312822685, 'num_leaves': 236, 'feature_fraction': 0.8267852780890455, 'bagging_fraction': 0.5462061299704217, 'bagging_freq': 1, 'min_child_samples': 70}. Best is trial 16 with value: -0.19131107681185258.\u001b[0m\n"
     ]
    },
    {
     "name": "stdout",
     "output_type": "stream",
     "text": [
      "[LightGBM] [Warning] bagging_fraction is set=0.5462061299704217, subsample=1.0 will be ignored. Current value: bagging_fraction=0.5462061299704217\n",
      "[LightGBM] [Warning] lambda_l1 is set=1.0329894984468233, reg_alpha=0.0 will be ignored. Current value: lambda_l1=1.0329894984468233\n",
      "[LightGBM] [Warning] feature_fraction is set=0.8267852780890455, colsample_bytree=1.0 will be ignored. Current value: feature_fraction=0.8267852780890455\n",
      "[LightGBM] [Warning] lambda_l2 is set=0.1404527312822685, reg_lambda=0.0 will be ignored. Current value: lambda_l2=0.1404527312822685\n",
      "[LightGBM] [Warning] bagging_freq is set=1, subsample_freq=0 will be ignored. Current value: bagging_freq=1\n",
      "[LightGBM] [Warning] bagging_fraction is set=0.4812839413618554, subsample=1.0 will be ignored. Current value: bagging_fraction=0.4812839413618554\n",
      "[LightGBM] [Warning] lambda_l1 is set=1.4865348658993591, reg_alpha=0.0 will be ignored. Current value: lambda_l1=1.4865348658993591\n",
      "[LightGBM] [Warning] feature_fraction is set=0.9311277553021436, colsample_bytree=1.0 will be ignored. Current value: feature_fraction=0.9311277553021436\n",
      "[LightGBM] [Warning] lambda_l2 is set=0.009537392737943368, reg_lambda=0.0 will be ignored. Current value: lambda_l2=0.009537392737943368\n",
      "[LightGBM] [Warning] bagging_freq is set=2, subsample_freq=0 will be ignored. Current value: bagging_freq=2\n",
      "[LightGBM] [Warning] bagging_fraction is set=0.4812839413618554, subsample=1.0 will be ignored. Current value: bagging_fraction=0.4812839413618554\n",
      "[LightGBM] [Warning] lambda_l1 is set=1.4865348658993591, reg_alpha=0.0 will be ignored. Current value: lambda_l1=1.4865348658993591\n",
      "[LightGBM] [Warning] feature_fraction is set=0.9311277553021436, colsample_bytree=1.0 will be ignored. Current value: feature_fraction=0.9311277553021436\n",
      "[LightGBM] [Warning] lambda_l2 is set=0.009537392737943368, reg_lambda=0.0 will be ignored. Current value: lambda_l2=0.009537392737943368\n",
      "[LightGBM] [Warning] bagging_freq is set=2, subsample_freq=0 will be ignored. Current value: bagging_freq=2\n",
      "[LightGBM] [Warning] bagging_fraction is set=0.4812839413618554, subsample=1.0 will be ignored. Current value: bagging_fraction=0.4812839413618554\n",
      "[LightGBM] [Warning] lambda_l1 is set=1.4865348658993591, reg_alpha=0.0 will be ignored. Current value: lambda_l1=1.4865348658993591\n",
      "[LightGBM] [Warning] feature_fraction is set=0.9311277553021436, colsample_bytree=1.0 will be ignored. Current value: feature_fraction=0.9311277553021436\n",
      "[LightGBM] [Warning] lambda_l2 is set=0.009537392737943368, reg_lambda=0.0 will be ignored. Current value: lambda_l2=0.009537392737943368\n",
      "[LightGBM] [Warning] bagging_freq is set=2, subsample_freq=0 will be ignored. Current value: bagging_freq=2\n",
      "[LightGBM] [Warning] bagging_fraction is set=0.4812839413618554, subsample=1.0 will be ignored. Current value: bagging_fraction=0.4812839413618554\n",
      "[LightGBM] [Warning] lambda_l1 is set=1.4865348658993591, reg_alpha=0.0 will be ignored. Current value: lambda_l1=1.4865348658993591\n",
      "[LightGBM] [Warning] feature_fraction is set=0.9311277553021436, colsample_bytree=1.0 will be ignored. Current value: feature_fraction=0.9311277553021436\n",
      "[LightGBM] [Warning] lambda_l2 is set=0.009537392737943368, reg_lambda=0.0 will be ignored. Current value: lambda_l2=0.009537392737943368\n",
      "[LightGBM] [Warning] bagging_freq is set=2, subsample_freq=0 will be ignored. Current value: bagging_freq=2\n",
      "[LightGBM] [Warning] bagging_fraction is set=0.4812839413618554, subsample=1.0 will be ignored. Current value: bagging_fraction=0.4812839413618554\n",
      "[LightGBM] [Warning] lambda_l1 is set=1.4865348658993591, reg_alpha=0.0 will be ignored. Current value: lambda_l1=1.4865348658993591\n",
      "[LightGBM] [Warning] feature_fraction is set=0.9311277553021436, colsample_bytree=1.0 will be ignored. Current value: feature_fraction=0.9311277553021436\n",
      "[LightGBM] [Warning] lambda_l2 is set=0.009537392737943368, reg_lambda=0.0 will be ignored. Current value: lambda_l2=0.009537392737943368\n",
      "[LightGBM] [Warning] bagging_freq is set=2, subsample_freq=0 will be ignored. Current value: bagging_freq=2\n"
     ]
    },
    {
     "name": "stderr",
     "output_type": "stream",
     "text": [
      "\u001b[32m[I 2023-03-15 16:57:35,316]\u001b[0m Trial 24 finished with value: -0.19886380007925167 and parameters: {'lambda_l1': 1.4865348658993591, 'lambda_l2': 0.009537392737943368, 'num_leaves': 180, 'feature_fraction': 0.9311277553021436, 'bagging_fraction': 0.4812839413618554, 'bagging_freq': 2, 'min_child_samples': 86}. Best is trial 16 with value: -0.19131107681185258.\u001b[0m\n"
     ]
    },
    {
     "name": "stdout",
     "output_type": "stream",
     "text": [
      "[LightGBM] [Warning] bagging_fraction is set=0.4422749787660176, subsample=1.0 will be ignored. Current value: bagging_fraction=0.4422749787660176\n",
      "[LightGBM] [Warning] lambda_l1 is set=8.923466787666412, reg_alpha=0.0 will be ignored. Current value: lambda_l1=8.923466787666412\n",
      "[LightGBM] [Warning] feature_fraction is set=0.8752561609094802, colsample_bytree=1.0 will be ignored. Current value: feature_fraction=0.8752561609094802\n",
      "[LightGBM] [Warning] lambda_l2 is set=0.0008959668103849126, reg_lambda=0.0 will be ignored. Current value: lambda_l2=0.0008959668103849126\n",
      "[LightGBM] [Warning] bagging_freq is set=3, subsample_freq=0 will be ignored. Current value: bagging_freq=3\n",
      "[LightGBM] [Warning] bagging_fraction is set=0.4422749787660176, subsample=1.0 will be ignored. Current value: bagging_fraction=0.4422749787660176\n",
      "[LightGBM] [Warning] lambda_l1 is set=8.923466787666412, reg_alpha=0.0 will be ignored. Current value: lambda_l1=8.923466787666412\n",
      "[LightGBM] [Warning] feature_fraction is set=0.8752561609094802, colsample_bytree=1.0 will be ignored. Current value: feature_fraction=0.8752561609094802\n",
      "[LightGBM] [Warning] lambda_l2 is set=0.0008959668103849126, reg_lambda=0.0 will be ignored. Current value: lambda_l2=0.0008959668103849126\n",
      "[LightGBM] [Warning] bagging_freq is set=3, subsample_freq=0 will be ignored. Current value: bagging_freq=3\n",
      "[LightGBM] [Warning] bagging_fraction is set=0.4422749787660176, subsample=1.0 will be ignored. Current value: bagging_fraction=0.4422749787660176\n",
      "[LightGBM] [Warning] lambda_l1 is set=8.923466787666412, reg_alpha=0.0 will be ignored. Current value: lambda_l1=8.923466787666412\n",
      "[LightGBM] [Warning] feature_fraction is set=0.8752561609094802, colsample_bytree=1.0 will be ignored. Current value: feature_fraction=0.8752561609094802\n",
      "[LightGBM] [Warning] lambda_l2 is set=0.0008959668103849126, reg_lambda=0.0 will be ignored. Current value: lambda_l2=0.0008959668103849126\n",
      "[LightGBM] [Warning] bagging_freq is set=3, subsample_freq=0 will be ignored. Current value: bagging_freq=3\n",
      "[LightGBM] [Warning] bagging_fraction is set=0.4422749787660176, subsample=1.0 will be ignored. Current value: bagging_fraction=0.4422749787660176\n",
      "[LightGBM] [Warning] lambda_l1 is set=8.923466787666412, reg_alpha=0.0 will be ignored. Current value: lambda_l1=8.923466787666412\n",
      "[LightGBM] [Warning] feature_fraction is set=0.8752561609094802, colsample_bytree=1.0 will be ignored. Current value: feature_fraction=0.8752561609094802\n",
      "[LightGBM] [Warning] lambda_l2 is set=0.0008959668103849126, reg_lambda=0.0 will be ignored. Current value: lambda_l2=0.0008959668103849126\n",
      "[LightGBM] [Warning] bagging_freq is set=3, subsample_freq=0 will be ignored. Current value: bagging_freq=3\n"
     ]
    },
    {
     "name": "stderr",
     "output_type": "stream",
     "text": [
      "\u001b[32m[I 2023-03-15 16:57:35,656]\u001b[0m Trial 25 finished with value: -0.19340521082007509 and parameters: {'lambda_l1': 8.923466787666412, 'lambda_l2': 0.0008959668103849126, 'num_leaves': 234, 'feature_fraction': 0.8752561609094802, 'bagging_fraction': 0.4422749787660176, 'bagging_freq': 3, 'min_child_samples': 71}. Best is trial 16 with value: -0.19131107681185258.\u001b[0m\n"
     ]
    },
    {
     "name": "stdout",
     "output_type": "stream",
     "text": [
      "[LightGBM] [Warning] bagging_fraction is set=0.4422749787660176, subsample=1.0 will be ignored. Current value: bagging_fraction=0.4422749787660176\n",
      "[LightGBM] [Warning] lambda_l1 is set=8.923466787666412, reg_alpha=0.0 will be ignored. Current value: lambda_l1=8.923466787666412\n",
      "[LightGBM] [Warning] feature_fraction is set=0.8752561609094802, colsample_bytree=1.0 will be ignored. Current value: feature_fraction=0.8752561609094802\n",
      "[LightGBM] [Warning] lambda_l2 is set=0.0008959668103849126, reg_lambda=0.0 will be ignored. Current value: lambda_l2=0.0008959668103849126\n",
      "[LightGBM] [Warning] bagging_freq is set=3, subsample_freq=0 will be ignored. Current value: bagging_freq=3\n",
      "[LightGBM] [Warning] bagging_fraction is set=0.45296143630004787, subsample=1.0 will be ignored. Current value: bagging_fraction=0.45296143630004787\n",
      "[LightGBM] [Warning] lambda_l1 is set=0.0881953543056517, reg_alpha=0.0 will be ignored. Current value: lambda_l1=0.0881953543056517\n",
      "[LightGBM] [Warning] feature_fraction is set=0.9500061484042984, colsample_bytree=1.0 will be ignored. Current value: feature_fraction=0.9500061484042984\n",
      "[LightGBM] [Warning] lambda_l2 is set=0.08199007377568482, reg_lambda=0.0 will be ignored. Current value: lambda_l2=0.08199007377568482\n",
      "[LightGBM] [Warning] bagging_freq is set=1, subsample_freq=0 will be ignored. Current value: bagging_freq=1\n",
      "[LightGBM] [Warning] bagging_fraction is set=0.45296143630004787, subsample=1.0 will be ignored. Current value: bagging_fraction=0.45296143630004787\n",
      "[LightGBM] [Warning] lambda_l1 is set=0.0881953543056517, reg_alpha=0.0 will be ignored. Current value: lambda_l1=0.0881953543056517\n",
      "[LightGBM] [Warning] feature_fraction is set=0.9500061484042984, colsample_bytree=1.0 will be ignored. Current value: feature_fraction=0.9500061484042984\n",
      "[LightGBM] [Warning] lambda_l2 is set=0.08199007377568482, reg_lambda=0.0 will be ignored. Current value: lambda_l2=0.08199007377568482\n",
      "[LightGBM] [Warning] bagging_freq is set=1, subsample_freq=0 will be ignored. Current value: bagging_freq=1\n"
     ]
    },
    {
     "name": "stderr",
     "output_type": "stream",
     "text": [
      "\u001b[32m[I 2023-03-15 16:57:36,038]\u001b[0m Trial 26 finished with value: -0.20139860825652015 and parameters: {'lambda_l1': 0.0881953543056517, 'lambda_l2': 0.08199007377568482, 'num_leaves': 184, 'feature_fraction': 0.9500061484042984, 'bagging_fraction': 0.45296143630004787, 'bagging_freq': 1, 'min_child_samples': 100}. Best is trial 16 with value: -0.19131107681185258.\u001b[0m\n"
     ]
    },
    {
     "name": "stdout",
     "output_type": "stream",
     "text": [
      "[LightGBM] [Warning] bagging_fraction is set=0.45296143630004787, subsample=1.0 will be ignored. Current value: bagging_fraction=0.45296143630004787\n",
      "[LightGBM] [Warning] lambda_l1 is set=0.0881953543056517, reg_alpha=0.0 will be ignored. Current value: lambda_l1=0.0881953543056517\n",
      "[LightGBM] [Warning] feature_fraction is set=0.9500061484042984, colsample_bytree=1.0 will be ignored. Current value: feature_fraction=0.9500061484042984\n",
      "[LightGBM] [Warning] lambda_l2 is set=0.08199007377568482, reg_lambda=0.0 will be ignored. Current value: lambda_l2=0.08199007377568482\n",
      "[LightGBM] [Warning] bagging_freq is set=1, subsample_freq=0 will be ignored. Current value: bagging_freq=1\n",
      "[LightGBM] [Warning] bagging_fraction is set=0.45296143630004787, subsample=1.0 will be ignored. Current value: bagging_fraction=0.45296143630004787\n",
      "[LightGBM] [Warning] lambda_l1 is set=0.0881953543056517, reg_alpha=0.0 will be ignored. Current value: lambda_l1=0.0881953543056517\n",
      "[LightGBM] [Warning] feature_fraction is set=0.9500061484042984, colsample_bytree=1.0 will be ignored. Current value: feature_fraction=0.9500061484042984\n",
      "[LightGBM] [Warning] lambda_l2 is set=0.08199007377568482, reg_lambda=0.0 will be ignored. Current value: lambda_l2=0.08199007377568482\n",
      "[LightGBM] [Warning] bagging_freq is set=1, subsample_freq=0 will be ignored. Current value: bagging_freq=1\n",
      "[LightGBM] [Warning] bagging_fraction is set=0.45296143630004787, subsample=1.0 will be ignored. Current value: bagging_fraction=0.45296143630004787\n",
      "[LightGBM] [Warning] lambda_l1 is set=0.0881953543056517, reg_alpha=0.0 will be ignored. Current value: lambda_l1=0.0881953543056517\n",
      "[LightGBM] [Warning] feature_fraction is set=0.9500061484042984, colsample_bytree=1.0 will be ignored. Current value: feature_fraction=0.9500061484042984\n",
      "[LightGBM] [Warning] lambda_l2 is set=0.08199007377568482, reg_lambda=0.0 will be ignored. Current value: lambda_l2=0.08199007377568482\n",
      "[LightGBM] [Warning] bagging_freq is set=1, subsample_freq=0 will be ignored. Current value: bagging_freq=1\n",
      "[LightGBM] [Warning] bagging_fraction is set=0.5235073660605859, subsample=1.0 will be ignored. Current value: bagging_fraction=0.5235073660605859\n",
      "[LightGBM] [Warning] lambda_l1 is set=0.9697225597522064, reg_alpha=0.0 will be ignored. Current value: lambda_l1=0.9697225597522064\n",
      "[LightGBM] [Warning] feature_fraction is set=0.9615887481090027, colsample_bytree=1.0 will be ignored. Current value: feature_fraction=0.9615887481090027\n",
      "[LightGBM] [Warning] lambda_l2 is set=0.008329856698765022, reg_lambda=0.0 will be ignored. Current value: lambda_l2=0.008329856698765022\n",
      "[LightGBM] [Warning] bagging_freq is set=2, subsample_freq=0 will be ignored. Current value: bagging_freq=2\n",
      "[LightGBM] [Warning] bagging_fraction is set=0.5235073660605859, subsample=1.0 will be ignored. Current value: bagging_fraction=0.5235073660605859\n",
      "[LightGBM] [Warning] lambda_l1 is set=0.9697225597522064, reg_alpha=0.0 will be ignored. Current value: lambda_l1=0.9697225597522064\n",
      "[LightGBM] [Warning] feature_fraction is set=0.9615887481090027, colsample_bytree=1.0 will be ignored. Current value: feature_fraction=0.9615887481090027\n",
      "[LightGBM] [Warning] lambda_l2 is set=0.008329856698765022, reg_lambda=0.0 will be ignored. Current value: lambda_l2=0.008329856698765022\n",
      "[LightGBM] [Warning] bagging_freq is set=2, subsample_freq=0 will be ignored. Current value: bagging_freq=2\n",
      "[LightGBM] [Warning] bagging_fraction is set=0.5235073660605859, subsample=1.0 will be ignored. Current value: bagging_fraction=0.5235073660605859\n",
      "[LightGBM] [Warning] lambda_l1 is set=0.9697225597522064, reg_alpha=0.0 will be ignored. Current value: lambda_l1=0.9697225597522064\n",
      "[LightGBM] [Warning] feature_fraction is set=0.9615887481090027, colsample_bytree=1.0 will be ignored. Current value: feature_fraction=0.9615887481090027\n",
      "[LightGBM] [Warning] lambda_l2 is set=0.008329856698765022, reg_lambda=0.0 will be ignored. Current value: lambda_l2=0.008329856698765022\n",
      "[LightGBM] [Warning] bagging_freq is set=2, subsample_freq=0 will be ignored. Current value: bagging_freq=2\n"
     ]
    },
    {
     "name": "stderr",
     "output_type": "stream",
     "text": [
      "\u001b[32m[I 2023-03-15 16:57:36,564]\u001b[0m Trial 27 finished with value: -0.2078513413137831 and parameters: {'lambda_l1': 0.9697225597522064, 'lambda_l2': 0.008329856698765022, 'num_leaves': 145, 'feature_fraction': 0.9615887481090027, 'bagging_fraction': 0.5235073660605859, 'bagging_freq': 2, 'min_child_samples': 55}. Best is trial 16 with value: -0.19131107681185258.\u001b[0m\n"
     ]
    },
    {
     "name": "stdout",
     "output_type": "stream",
     "text": [
      "[LightGBM] [Warning] bagging_fraction is set=0.5235073660605859, subsample=1.0 will be ignored. Current value: bagging_fraction=0.5235073660605859\n",
      "[LightGBM] [Warning] lambda_l1 is set=0.9697225597522064, reg_alpha=0.0 will be ignored. Current value: lambda_l1=0.9697225597522064\n",
      "[LightGBM] [Warning] feature_fraction is set=0.9615887481090027, colsample_bytree=1.0 will be ignored. Current value: feature_fraction=0.9615887481090027\n",
      "[LightGBM] [Warning] lambda_l2 is set=0.008329856698765022, reg_lambda=0.0 will be ignored. Current value: lambda_l2=0.008329856698765022\n",
      "[LightGBM] [Warning] bagging_freq is set=2, subsample_freq=0 will be ignored. Current value: bagging_freq=2\n",
      "[LightGBM] [Warning] bagging_fraction is set=0.5235073660605859, subsample=1.0 will be ignored. Current value: bagging_fraction=0.5235073660605859\n",
      "[LightGBM] [Warning] lambda_l1 is set=0.9697225597522064, reg_alpha=0.0 will be ignored. Current value: lambda_l1=0.9697225597522064\n",
      "[LightGBM] [Warning] feature_fraction is set=0.9615887481090027, colsample_bytree=1.0 will be ignored. Current value: feature_fraction=0.9615887481090027\n",
      "[LightGBM] [Warning] lambda_l2 is set=0.008329856698765022, reg_lambda=0.0 will be ignored. Current value: lambda_l2=0.008329856698765022\n",
      "[LightGBM] [Warning] bagging_freq is set=2, subsample_freq=0 will be ignored. Current value: bagging_freq=2\n",
      "[LightGBM] [Warning] bagging_fraction is set=0.5652186687300986, subsample=1.0 will be ignored. Current value: bagging_fraction=0.5652186687300986\n",
      "[LightGBM] [Warning] lambda_l1 is set=1.6111685795935373, reg_alpha=0.0 will be ignored. Current value: lambda_l1=1.6111685795935373\n",
      "[LightGBM] [Warning] feature_fraction is set=0.8945975127672634, colsample_bytree=1.0 will be ignored. Current value: feature_fraction=0.8945975127672634\n",
      "[LightGBM] [Warning] lambda_l2 is set=0.9554122918827209, reg_lambda=0.0 will be ignored. Current value: lambda_l2=0.9554122918827209\n",
      "[LightGBM] [Warning] bagging_freq is set=4, subsample_freq=0 will be ignored. Current value: bagging_freq=4\n",
      "[LightGBM] [Warning] bagging_fraction is set=0.5652186687300986, subsample=1.0 will be ignored. Current value: bagging_fraction=0.5652186687300986\n",
      "[LightGBM] [Warning] lambda_l1 is set=1.6111685795935373, reg_alpha=0.0 will be ignored. Current value: lambda_l1=1.6111685795935373\n",
      "[LightGBM] [Warning] feature_fraction is set=0.8945975127672634, colsample_bytree=1.0 will be ignored. Current value: feature_fraction=0.8945975127672634\n",
      "[LightGBM] [Warning] lambda_l2 is set=0.9554122918827209, reg_lambda=0.0 will be ignored. Current value: lambda_l2=0.9554122918827209\n",
      "[LightGBM] [Warning] bagging_freq is set=4, subsample_freq=0 will be ignored. Current value: bagging_freq=4\n",
      "[LightGBM] [Warning] bagging_fraction is set=0.5652186687300986, subsample=1.0 will be ignored. Current value: bagging_fraction=0.5652186687300986\n",
      "[LightGBM] [Warning] lambda_l1 is set=1.6111685795935373, reg_alpha=0.0 will be ignored. Current value: lambda_l1=1.6111685795935373\n",
      "[LightGBM] [Warning] feature_fraction is set=0.8945975127672634, colsample_bytree=1.0 will be ignored. Current value: feature_fraction=0.8945975127672634\n",
      "[LightGBM] [Warning] lambda_l2 is set=0.9554122918827209, reg_lambda=0.0 will be ignored. Current value: lambda_l2=0.9554122918827209\n",
      "[LightGBM] [Warning] bagging_freq is set=4, subsample_freq=0 will be ignored. Current value: bagging_freq=4\n"
     ]
    },
    {
     "name": "stderr",
     "output_type": "stream",
     "text": [
      "\u001b[32m[I 2023-03-15 16:57:36,972]\u001b[0m Trial 28 finished with value: -0.20182917548063997 and parameters: {'lambda_l1': 1.6111685795935373, 'lambda_l2': 0.9554122918827209, 'num_leaves': 199, 'feature_fraction': 0.8945975127672634, 'bagging_fraction': 0.5652186687300986, 'bagging_freq': 4, 'min_child_samples': 93}. Best is trial 16 with value: -0.19131107681185258.\u001b[0m\n"
     ]
    },
    {
     "name": "stdout",
     "output_type": "stream",
     "text": [
      "[LightGBM] [Warning] bagging_fraction is set=0.5652186687300986, subsample=1.0 will be ignored. Current value: bagging_fraction=0.5652186687300986\n",
      "[LightGBM] [Warning] lambda_l1 is set=1.6111685795935373, reg_alpha=0.0 will be ignored. Current value: lambda_l1=1.6111685795935373\n",
      "[LightGBM] [Warning] feature_fraction is set=0.8945975127672634, colsample_bytree=1.0 will be ignored. Current value: feature_fraction=0.8945975127672634\n",
      "[LightGBM] [Warning] lambda_l2 is set=0.9554122918827209, reg_lambda=0.0 will be ignored. Current value: lambda_l2=0.9554122918827209\n",
      "[LightGBM] [Warning] bagging_freq is set=4, subsample_freq=0 will be ignored. Current value: bagging_freq=4\n",
      "[LightGBM] [Warning] bagging_fraction is set=0.5652186687300986, subsample=1.0 will be ignored. Current value: bagging_fraction=0.5652186687300986\n",
      "[LightGBM] [Warning] lambda_l1 is set=1.6111685795935373, reg_alpha=0.0 will be ignored. Current value: lambda_l1=1.6111685795935373\n",
      "[LightGBM] [Warning] feature_fraction is set=0.8945975127672634, colsample_bytree=1.0 will be ignored. Current value: feature_fraction=0.8945975127672634\n",
      "[LightGBM] [Warning] lambda_l2 is set=0.9554122918827209, reg_lambda=0.0 will be ignored. Current value: lambda_l2=0.9554122918827209\n",
      "[LightGBM] [Warning] bagging_freq is set=4, subsample_freq=0 will be ignored. Current value: bagging_freq=4\n",
      "[LightGBM] [Warning] bagging_fraction is set=0.5715179073619636, subsample=1.0 will be ignored. Current value: bagging_fraction=0.5715179073619636\n",
      "[LightGBM] [Warning] lambda_l1 is set=0.05324516791019398, reg_alpha=0.0 will be ignored. Current value: lambda_l1=0.05324516791019398\n",
      "[LightGBM] [Warning] feature_fraction is set=0.8047557870906706, colsample_bytree=1.0 will be ignored. Current value: feature_fraction=0.8047557870906706\n",
      "[LightGBM] [Warning] lambda_l2 is set=0.00033700180691799403, reg_lambda=0.0 will be ignored. Current value: lambda_l2=0.00033700180691799403\n",
      "[LightGBM] [Warning] bagging_freq is set=3, subsample_freq=0 will be ignored. Current value: bagging_freq=3\n",
      "[LightGBM] [Warning] bagging_fraction is set=0.5715179073619636, subsample=1.0 will be ignored. Current value: bagging_fraction=0.5715179073619636\n",
      "[LightGBM] [Warning] lambda_l1 is set=0.05324516791019398, reg_alpha=0.0 will be ignored. Current value: lambda_l1=0.05324516791019398\n",
      "[LightGBM] [Warning] feature_fraction is set=0.8047557870906706, colsample_bytree=1.0 will be ignored. Current value: feature_fraction=0.8047557870906706\n",
      "[LightGBM] [Warning] lambda_l2 is set=0.00033700180691799403, reg_lambda=0.0 will be ignored. Current value: lambda_l2=0.00033700180691799403\n",
      "[LightGBM] [Warning] bagging_freq is set=3, subsample_freq=0 will be ignored. Current value: bagging_freq=3\n",
      "[LightGBM] [Warning] bagging_fraction is set=0.5715179073619636, subsample=1.0 will be ignored. Current value: bagging_fraction=0.5715179073619636\n",
      "[LightGBM] [Warning] lambda_l1 is set=0.05324516791019398, reg_alpha=0.0 will be ignored. Current value: lambda_l1=0.05324516791019398\n",
      "[LightGBM] [Warning] feature_fraction is set=0.8047557870906706, colsample_bytree=1.0 will be ignored. Current value: feature_fraction=0.8047557870906706\n",
      "[LightGBM] [Warning] lambda_l2 is set=0.00033700180691799403, reg_lambda=0.0 will be ignored. Current value: lambda_l2=0.00033700180691799403\n",
      "[LightGBM] [Warning] bagging_freq is set=3, subsample_freq=0 will be ignored. Current value: bagging_freq=3\n",
      "[LightGBM] [Warning] bagging_fraction is set=0.5715179073619636, subsample=1.0 will be ignored. Current value: bagging_fraction=0.5715179073619636\n",
      "[LightGBM] [Warning] lambda_l1 is set=0.05324516791019398, reg_alpha=0.0 will be ignored. Current value: lambda_l1=0.05324516791019398\n",
      "[LightGBM] [Warning] feature_fraction is set=0.8047557870906706, colsample_bytree=1.0 will be ignored. Current value: feature_fraction=0.8047557870906706\n",
      "[LightGBM] [Warning] lambda_l2 is set=0.00033700180691799403, reg_lambda=0.0 will be ignored. Current value: lambda_l2=0.00033700180691799403\n",
      "[LightGBM] [Warning] bagging_freq is set=3, subsample_freq=0 will be ignored. Current value: bagging_freq=3\n"
     ]
    },
    {
     "name": "stderr",
     "output_type": "stream",
     "text": [
      "\u001b[32m[I 2023-03-15 16:57:37,419]\u001b[0m Trial 29 finished with value: -0.2089618213235705 and parameters: {'lambda_l1': 0.05324516791019398, 'lambda_l2': 0.00033700180691799403, 'num_leaves': 235, 'feature_fraction': 0.8047557870906706, 'bagging_fraction': 0.5715179073619636, 'bagging_freq': 3, 'min_child_samples': 79}. Best is trial 16 with value: -0.19131107681185258.\u001b[0m\n"
     ]
    },
    {
     "name": "stdout",
     "output_type": "stream",
     "text": [
      "[LightGBM] [Warning] bagging_fraction is set=0.5715179073619636, subsample=1.0 will be ignored. Current value: bagging_fraction=0.5715179073619636\n",
      "[LightGBM] [Warning] lambda_l1 is set=0.05324516791019398, reg_alpha=0.0 will be ignored. Current value: lambda_l1=0.05324516791019398\n",
      "[LightGBM] [Warning] feature_fraction is set=0.8047557870906706, colsample_bytree=1.0 will be ignored. Current value: feature_fraction=0.8047557870906706\n",
      "[LightGBM] [Warning] lambda_l2 is set=0.00033700180691799403, reg_lambda=0.0 will be ignored. Current value: lambda_l2=0.00033700180691799403\n",
      "[LightGBM] [Warning] bagging_freq is set=3, subsample_freq=0 will be ignored. Current value: bagging_freq=3\n",
      "[LightGBM] [Warning] bagging_fraction is set=0.4560594600794548, subsample=1.0 will be ignored. Current value: bagging_fraction=0.4560594600794548\n",
      "[LightGBM] [Warning] lambda_l1 is set=9.417797296162114, reg_alpha=0.0 will be ignored. Current value: lambda_l1=9.417797296162114\n",
      "[LightGBM] [Warning] feature_fraction is set=0.9580999263015163, colsample_bytree=1.0 will be ignored. Current value: feature_fraction=0.9580999263015163\n",
      "[LightGBM] [Warning] lambda_l2 is set=0.09437864062297259, reg_lambda=0.0 will be ignored. Current value: lambda_l2=0.09437864062297259\n",
      "[LightGBM] [Warning] bagging_freq is set=4, subsample_freq=0 will be ignored. Current value: bagging_freq=4\n",
      "[LightGBM] [Warning] bagging_fraction is set=0.4560594600794548, subsample=1.0 will be ignored. Current value: bagging_fraction=0.4560594600794548\n",
      "[LightGBM] [Warning] lambda_l1 is set=9.417797296162114, reg_alpha=0.0 will be ignored. Current value: lambda_l1=9.417797296162114\n",
      "[LightGBM] [Warning] feature_fraction is set=0.9580999263015163, colsample_bytree=1.0 will be ignored. Current value: feature_fraction=0.9580999263015163\n",
      "[LightGBM] [Warning] lambda_l2 is set=0.09437864062297259, reg_lambda=0.0 will be ignored. Current value: lambda_l2=0.09437864062297259\n",
      "[LightGBM] [Warning] bagging_freq is set=4, subsample_freq=0 will be ignored. Current value: bagging_freq=4\n",
      "[LightGBM] [Warning] bagging_fraction is set=0.4560594600794548, subsample=1.0 will be ignored. Current value: bagging_fraction=0.4560594600794548\n",
      "[LightGBM] [Warning] lambda_l1 is set=9.417797296162114, reg_alpha=0.0 will be ignored. Current value: lambda_l1=9.417797296162114\n",
      "[LightGBM] [Warning] feature_fraction is set=0.9580999263015163, colsample_bytree=1.0 will be ignored. Current value: feature_fraction=0.9580999263015163\n",
      "[LightGBM] [Warning] lambda_l2 is set=0.09437864062297259, reg_lambda=0.0 will be ignored. Current value: lambda_l2=0.09437864062297259\n",
      "[LightGBM] [Warning] bagging_freq is set=4, subsample_freq=0 will be ignored. Current value: bagging_freq=4\n",
      "[LightGBM] [Warning] bagging_fraction is set=0.4560594600794548, subsample=1.0 will be ignored. Current value: bagging_fraction=0.4560594600794548\n",
      "[LightGBM] [Warning] lambda_l1 is set=9.417797296162114, reg_alpha=0.0 will be ignored. Current value: lambda_l1=9.417797296162114\n",
      "[LightGBM] [Warning] feature_fraction is set=0.9580999263015163, colsample_bytree=1.0 will be ignored. Current value: feature_fraction=0.9580999263015163\n",
      "[LightGBM] [Warning] lambda_l2 is set=0.09437864062297259, reg_lambda=0.0 will be ignored. Current value: lambda_l2=0.09437864062297259\n",
      "[LightGBM] [Warning] bagging_freq is set=4, subsample_freq=0 will be ignored. Current value: bagging_freq=4\n",
      "[LightGBM] [Warning] bagging_fraction is set=0.4560594600794548, subsample=1.0 will be ignored. Current value: bagging_fraction=0.4560594600794548\n",
      "[LightGBM] [Warning] lambda_l1 is set=9.417797296162114, reg_alpha=0.0 will be ignored. Current value: lambda_l1=9.417797296162114\n",
      "[LightGBM] [Warning] feature_fraction is set=0.9580999263015163, colsample_bytree=1.0 will be ignored. Current value: feature_fraction=0.9580999263015163\n",
      "[LightGBM] [Warning] lambda_l2 is set=0.09437864062297259, reg_lambda=0.0 will be ignored. Current value: lambda_l2=0.09437864062297259\n",
      "[LightGBM] [Warning] bagging_freq is set=4, subsample_freq=0 will be ignored. Current value: bagging_freq=4\n"
     ]
    },
    {
     "name": "stderr",
     "output_type": "stream",
     "text": [
      "\u001b[32m[I 2023-03-15 16:57:37,814]\u001b[0m Trial 30 finished with value: -0.1952216245775799 and parameters: {'lambda_l1': 9.417797296162114, 'lambda_l2': 0.09437864062297259, 'num_leaves': 152, 'feature_fraction': 0.9580999263015163, 'bagging_fraction': 0.4560594600794548, 'bagging_freq': 4, 'min_child_samples': 33}. Best is trial 16 with value: -0.19131107681185258.\u001b[0m\n"
     ]
    },
    {
     "name": "stdout",
     "output_type": "stream",
     "text": [
      "[LightGBM] [Warning] bagging_fraction is set=0.4380428341115302, subsample=1.0 will be ignored. Current value: bagging_fraction=0.4380428341115302\n",
      "[LightGBM] [Warning] lambda_l1 is set=9.111136988940782, reg_alpha=0.0 will be ignored. Current value: lambda_l1=9.111136988940782\n",
      "[LightGBM] [Warning] feature_fraction is set=0.8590395851910395, colsample_bytree=1.0 will be ignored. Current value: feature_fraction=0.8590395851910395\n",
      "[LightGBM] [Warning] lambda_l2 is set=0.00039600389408003345, reg_lambda=0.0 will be ignored. Current value: lambda_l2=0.00039600389408003345\n",
      "[LightGBM] [Warning] bagging_freq is set=3, subsample_freq=0 will be ignored. Current value: bagging_freq=3\n",
      "[LightGBM] [Warning] bagging_fraction is set=0.4380428341115302, subsample=1.0 will be ignored. Current value: bagging_fraction=0.4380428341115302\n",
      "[LightGBM] [Warning] lambda_l1 is set=9.111136988940782, reg_alpha=0.0 will be ignored. Current value: lambda_l1=9.111136988940782\n",
      "[LightGBM] [Warning] feature_fraction is set=0.8590395851910395, colsample_bytree=1.0 will be ignored. Current value: feature_fraction=0.8590395851910395\n",
      "[LightGBM] [Warning] lambda_l2 is set=0.00039600389408003345, reg_lambda=0.0 will be ignored. Current value: lambda_l2=0.00039600389408003345\n",
      "[LightGBM] [Warning] bagging_freq is set=3, subsample_freq=0 will be ignored. Current value: bagging_freq=3\n",
      "[LightGBM] [Warning] bagging_fraction is set=0.4380428341115302, subsample=1.0 will be ignored. Current value: bagging_fraction=0.4380428341115302\n",
      "[LightGBM] [Warning] lambda_l1 is set=9.111136988940782, reg_alpha=0.0 will be ignored. Current value: lambda_l1=9.111136988940782\n",
      "[LightGBM] [Warning] feature_fraction is set=0.8590395851910395, colsample_bytree=1.0 will be ignored. Current value: feature_fraction=0.8590395851910395\n",
      "[LightGBM] [Warning] lambda_l2 is set=0.00039600389408003345, reg_lambda=0.0 will be ignored. Current value: lambda_l2=0.00039600389408003345\n",
      "[LightGBM] [Warning] bagging_freq is set=3, subsample_freq=0 will be ignored. Current value: bagging_freq=3\n",
      "[LightGBM] [Warning] bagging_fraction is set=0.4380428341115302, subsample=1.0 will be ignored. Current value: bagging_fraction=0.4380428341115302\n",
      "[LightGBM] [Warning] lambda_l1 is set=9.111136988940782, reg_alpha=0.0 will be ignored. Current value: lambda_l1=9.111136988940782\n",
      "[LightGBM] [Warning] feature_fraction is set=0.8590395851910395, colsample_bytree=1.0 will be ignored. Current value: feature_fraction=0.8590395851910395\n",
      "[LightGBM] [Warning] lambda_l2 is set=0.00039600389408003345, reg_lambda=0.0 will be ignored. Current value: lambda_l2=0.00039600389408003345\n",
      "[LightGBM] [Warning] bagging_freq is set=3, subsample_freq=0 will be ignored. Current value: bagging_freq=3\n"
     ]
    },
    {
     "name": "stderr",
     "output_type": "stream",
     "text": [
      "\u001b[32m[I 2023-03-15 16:57:38,147]\u001b[0m Trial 31 finished with value: -0.19209825782886517 and parameters: {'lambda_l1': 9.111136988940782, 'lambda_l2': 0.00039600389408003345, 'num_leaves': 235, 'feature_fraction': 0.8590395851910395, 'bagging_fraction': 0.4380428341115302, 'bagging_freq': 3, 'min_child_samples': 69}. Best is trial 16 with value: -0.19131107681185258.\u001b[0m\n"
     ]
    },
    {
     "name": "stdout",
     "output_type": "stream",
     "text": [
      "[LightGBM] [Warning] bagging_fraction is set=0.4380428341115302, subsample=1.0 will be ignored. Current value: bagging_fraction=0.4380428341115302\n",
      "[LightGBM] [Warning] lambda_l1 is set=9.111136988940782, reg_alpha=0.0 will be ignored. Current value: lambda_l1=9.111136988940782\n",
      "[LightGBM] [Warning] feature_fraction is set=0.8590395851910395, colsample_bytree=1.0 will be ignored. Current value: feature_fraction=0.8590395851910395\n",
      "[LightGBM] [Warning] lambda_l2 is set=0.00039600389408003345, reg_lambda=0.0 will be ignored. Current value: lambda_l2=0.00039600389408003345\n",
      "[LightGBM] [Warning] bagging_freq is set=3, subsample_freq=0 will be ignored. Current value: bagging_freq=3\n",
      "[LightGBM] [Warning] bagging_fraction is set=0.4301937369016481, subsample=1.0 will be ignored. Current value: bagging_fraction=0.4301937369016481\n",
      "[LightGBM] [Warning] lambda_l1 is set=1.4904877754046673, reg_alpha=0.0 will be ignored. Current value: lambda_l1=1.4904877754046673\n",
      "[LightGBM] [Warning] feature_fraction is set=0.8983937396142329, colsample_bytree=1.0 will be ignored. Current value: feature_fraction=0.8983937396142329\n",
      "[LightGBM] [Warning] lambda_l2 is set=0.006965238103350982, reg_lambda=0.0 will be ignored. Current value: lambda_l2=0.006965238103350982\n",
      "[LightGBM] [Warning] bagging_freq is set=2, subsample_freq=0 will be ignored. Current value: bagging_freq=2\n",
      "[LightGBM] [Warning] bagging_fraction is set=0.4301937369016481, subsample=1.0 will be ignored. Current value: bagging_fraction=0.4301937369016481\n",
      "[LightGBM] [Warning] lambda_l1 is set=1.4904877754046673, reg_alpha=0.0 will be ignored. Current value: lambda_l1=1.4904877754046673\n",
      "[LightGBM] [Warning] feature_fraction is set=0.8983937396142329, colsample_bytree=1.0 will be ignored. Current value: feature_fraction=0.8983937396142329\n",
      "[LightGBM] [Warning] lambda_l2 is set=0.006965238103350982, reg_lambda=0.0 will be ignored. Current value: lambda_l2=0.006965238103350982\n",
      "[LightGBM] [Warning] bagging_freq is set=2, subsample_freq=0 will be ignored. Current value: bagging_freq=2\n"
     ]
    },
    {
     "name": "stderr",
     "output_type": "stream",
     "text": [
      "\u001b[32m[I 2023-03-15 16:57:38,514]\u001b[0m Trial 32 finished with value: -0.20209090748801045 and parameters: {'lambda_l1': 1.4904877754046673, 'lambda_l2': 0.006965238103350982, 'num_leaves': 214, 'feature_fraction': 0.8983937396142329, 'bagging_fraction': 0.4301937369016481, 'bagging_freq': 2, 'min_child_samples': 82}. Best is trial 16 with value: -0.19131107681185258.\u001b[0m\n"
     ]
    },
    {
     "name": "stdout",
     "output_type": "stream",
     "text": [
      "[LightGBM] [Warning] bagging_fraction is set=0.4301937369016481, subsample=1.0 will be ignored. Current value: bagging_fraction=0.4301937369016481\n",
      "[LightGBM] [Warning] lambda_l1 is set=1.4904877754046673, reg_alpha=0.0 will be ignored. Current value: lambda_l1=1.4904877754046673\n",
      "[LightGBM] [Warning] feature_fraction is set=0.8983937396142329, colsample_bytree=1.0 will be ignored. Current value: feature_fraction=0.8983937396142329\n",
      "[LightGBM] [Warning] lambda_l2 is set=0.006965238103350982, reg_lambda=0.0 will be ignored. Current value: lambda_l2=0.006965238103350982\n",
      "[LightGBM] [Warning] bagging_freq is set=2, subsample_freq=0 will be ignored. Current value: bagging_freq=2\n",
      "[LightGBM] [Warning] bagging_fraction is set=0.4301937369016481, subsample=1.0 will be ignored. Current value: bagging_fraction=0.4301937369016481\n",
      "[LightGBM] [Warning] lambda_l1 is set=1.4904877754046673, reg_alpha=0.0 will be ignored. Current value: lambda_l1=1.4904877754046673\n",
      "[LightGBM] [Warning] feature_fraction is set=0.8983937396142329, colsample_bytree=1.0 will be ignored. Current value: feature_fraction=0.8983937396142329\n",
      "[LightGBM] [Warning] lambda_l2 is set=0.006965238103350982, reg_lambda=0.0 will be ignored. Current value: lambda_l2=0.006965238103350982\n",
      "[LightGBM] [Warning] bagging_freq is set=2, subsample_freq=0 will be ignored. Current value: bagging_freq=2\n",
      "[LightGBM] [Warning] bagging_fraction is set=0.4301937369016481, subsample=1.0 will be ignored. Current value: bagging_fraction=0.4301937369016481\n",
      "[LightGBM] [Warning] lambda_l1 is set=1.4904877754046673, reg_alpha=0.0 will be ignored. Current value: lambda_l1=1.4904877754046673\n",
      "[LightGBM] [Warning] feature_fraction is set=0.8983937396142329, colsample_bytree=1.0 will be ignored. Current value: feature_fraction=0.8983937396142329\n",
      "[LightGBM] [Warning] lambda_l2 is set=0.006965238103350982, reg_lambda=0.0 will be ignored. Current value: lambda_l2=0.006965238103350982\n",
      "[LightGBM] [Warning] bagging_freq is set=2, subsample_freq=0 will be ignored. Current value: bagging_freq=2\n",
      "[LightGBM] [Warning] bagging_fraction is set=0.506203806581514, subsample=1.0 will be ignored. Current value: bagging_fraction=0.506203806581514\n",
      "[LightGBM] [Warning] lambda_l1 is set=0.3588847400083465, reg_alpha=0.0 will be ignored. Current value: lambda_l1=0.3588847400083465\n",
      "[LightGBM] [Warning] feature_fraction is set=0.8624026693763328, colsample_bytree=1.0 will be ignored. Current value: feature_fraction=0.8624026693763328\n",
      "[LightGBM] [Warning] lambda_l2 is set=0.0006028243002643421, reg_lambda=0.0 will be ignored. Current value: lambda_l2=0.0006028243002643421\n",
      "[LightGBM] [Warning] bagging_freq is set=1, subsample_freq=0 will be ignored. Current value: bagging_freq=1\n",
      "[LightGBM] [Warning] bagging_fraction is set=0.506203806581514, subsample=1.0 will be ignored. Current value: bagging_fraction=0.506203806581514\n",
      "[LightGBM] [Warning] lambda_l1 is set=0.3588847400083465, reg_alpha=0.0 will be ignored. Current value: lambda_l1=0.3588847400083465\n",
      "[LightGBM] [Warning] feature_fraction is set=0.8624026693763328, colsample_bytree=1.0 will be ignored. Current value: feature_fraction=0.8624026693763328\n",
      "[LightGBM] [Warning] lambda_l2 is set=0.0006028243002643421, reg_lambda=0.0 will be ignored. Current value: lambda_l2=0.0006028243002643421\n",
      "[LightGBM] [Warning] bagging_freq is set=1, subsample_freq=0 will be ignored. Current value: bagging_freq=1\n",
      "[LightGBM] [Warning] bagging_fraction is set=0.506203806581514, subsample=1.0 will be ignored. Current value: bagging_fraction=0.506203806581514\n",
      "[LightGBM] [Warning] lambda_l1 is set=0.3588847400083465, reg_alpha=0.0 will be ignored. Current value: lambda_l1=0.3588847400083465\n",
      "[LightGBM] [Warning] feature_fraction is set=0.8624026693763328, colsample_bytree=1.0 will be ignored. Current value: feature_fraction=0.8624026693763328\n",
      "[LightGBM] [Warning] lambda_l2 is set=0.0006028243002643421, reg_lambda=0.0 will be ignored. Current value: lambda_l2=0.0006028243002643421\n",
      "[LightGBM] [Warning] bagging_freq is set=1, subsample_freq=0 will be ignored. Current value: bagging_freq=1\n"
     ]
    },
    {
     "name": "stderr",
     "output_type": "stream",
     "text": [
      "\u001b[32m[I 2023-03-15 16:57:38,963]\u001b[0m Trial 33 finished with value: -0.2073223420872627 and parameters: {'lambda_l1': 0.3588847400083465, 'lambda_l2': 0.0006028243002643421, 'num_leaves': 239, 'feature_fraction': 0.8624026693763328, 'bagging_fraction': 0.506203806581514, 'bagging_freq': 1, 'min_child_samples': 69}. Best is trial 16 with value: -0.19131107681185258.\u001b[0m\n"
     ]
    },
    {
     "name": "stdout",
     "output_type": "stream",
     "text": [
      "[LightGBM] [Warning] bagging_fraction is set=0.506203806581514, subsample=1.0 will be ignored. Current value: bagging_fraction=0.506203806581514\n",
      "[LightGBM] [Warning] lambda_l1 is set=0.3588847400083465, reg_alpha=0.0 will be ignored. Current value: lambda_l1=0.3588847400083465\n",
      "[LightGBM] [Warning] feature_fraction is set=0.8624026693763328, colsample_bytree=1.0 will be ignored. Current value: feature_fraction=0.8624026693763328\n",
      "[LightGBM] [Warning] lambda_l2 is set=0.0006028243002643421, reg_lambda=0.0 will be ignored. Current value: lambda_l2=0.0006028243002643421\n",
      "[LightGBM] [Warning] bagging_freq is set=1, subsample_freq=0 will be ignored. Current value: bagging_freq=1\n",
      "[LightGBM] [Warning] bagging_fraction is set=0.506203806581514, subsample=1.0 will be ignored. Current value: bagging_fraction=0.506203806581514\n",
      "[LightGBM] [Warning] lambda_l1 is set=0.3588847400083465, reg_alpha=0.0 will be ignored. Current value: lambda_l1=0.3588847400083465\n",
      "[LightGBM] [Warning] feature_fraction is set=0.8624026693763328, colsample_bytree=1.0 will be ignored. Current value: feature_fraction=0.8624026693763328\n",
      "[LightGBM] [Warning] lambda_l2 is set=0.0006028243002643421, reg_lambda=0.0 will be ignored. Current value: lambda_l2=0.0006028243002643421\n",
      "[LightGBM] [Warning] bagging_freq is set=1, subsample_freq=0 will be ignored. Current value: bagging_freq=1\n",
      "[LightGBM] [Warning] bagging_fraction is set=0.4734463909187791, subsample=1.0 will be ignored. Current value: bagging_fraction=0.4734463909187791\n",
      "[LightGBM] [Warning] lambda_l1 is set=1.792429975142707, reg_alpha=0.0 will be ignored. Current value: lambda_l1=1.792429975142707\n",
      "[LightGBM] [Warning] feature_fraction is set=0.9706682331815931, colsample_bytree=1.0 will be ignored. Current value: feature_fraction=0.9706682331815931\n",
      "[LightGBM] [Warning] lambda_l2 is set=0.00011254269480505973, reg_lambda=0.0 will be ignored. Current value: lambda_l2=0.00011254269480505973\n",
      "[LightGBM] [Warning] bagging_freq is set=3, subsample_freq=0 will be ignored. Current value: bagging_freq=3\n",
      "[LightGBM] [Warning] bagging_fraction is set=0.4734463909187791, subsample=1.0 will be ignored. Current value: bagging_fraction=0.4734463909187791\n",
      "[LightGBM] [Warning] lambda_l1 is set=1.792429975142707, reg_alpha=0.0 will be ignored. Current value: lambda_l1=1.792429975142707\n",
      "[LightGBM] [Warning] feature_fraction is set=0.9706682331815931, colsample_bytree=1.0 will be ignored. Current value: feature_fraction=0.9706682331815931\n",
      "[LightGBM] [Warning] lambda_l2 is set=0.00011254269480505973, reg_lambda=0.0 will be ignored. Current value: lambda_l2=0.00011254269480505973\n",
      "[LightGBM] [Warning] bagging_freq is set=3, subsample_freq=0 will be ignored. Current value: bagging_freq=3\n",
      "[LightGBM] [Warning] bagging_fraction is set=0.4734463909187791, subsample=1.0 will be ignored. Current value: bagging_fraction=0.4734463909187791\n",
      "[LightGBM] [Warning] lambda_l1 is set=1.792429975142707, reg_alpha=0.0 will be ignored. Current value: lambda_l1=1.792429975142707\n",
      "[LightGBM] [Warning] feature_fraction is set=0.9706682331815931, colsample_bytree=1.0 will be ignored. Current value: feature_fraction=0.9706682331815931\n",
      "[LightGBM] [Warning] lambda_l2 is set=0.00011254269480505973, reg_lambda=0.0 will be ignored. Current value: lambda_l2=0.00011254269480505973\n",
      "[LightGBM] [Warning] bagging_freq is set=3, subsample_freq=0 will be ignored. Current value: bagging_freq=3\n"
     ]
    },
    {
     "name": "stderr",
     "output_type": "stream",
     "text": [
      "\u001b[32m[I 2023-03-15 16:57:39,349]\u001b[0m Trial 34 finished with value: -0.2016380645050492 and parameters: {'lambda_l1': 1.792429975142707, 'lambda_l2': 0.00011254269480505973, 'num_leaves': 220, 'feature_fraction': 0.9706682331815931, 'bagging_fraction': 0.4734463909187791, 'bagging_freq': 3, 'min_child_samples': 92}. Best is trial 16 with value: -0.19131107681185258.\u001b[0m\n"
     ]
    },
    {
     "name": "stdout",
     "output_type": "stream",
     "text": [
      "[LightGBM] [Warning] bagging_fraction is set=0.4734463909187791, subsample=1.0 will be ignored. Current value: bagging_fraction=0.4734463909187791\n",
      "[LightGBM] [Warning] lambda_l1 is set=1.792429975142707, reg_alpha=0.0 will be ignored. Current value: lambda_l1=1.792429975142707\n",
      "[LightGBM] [Warning] feature_fraction is set=0.9706682331815931, colsample_bytree=1.0 will be ignored. Current value: feature_fraction=0.9706682331815931\n",
      "[LightGBM] [Warning] lambda_l2 is set=0.00011254269480505973, reg_lambda=0.0 will be ignored. Current value: lambda_l2=0.00011254269480505973\n",
      "[LightGBM] [Warning] bagging_freq is set=3, subsample_freq=0 will be ignored. Current value: bagging_freq=3\n",
      "[LightGBM] [Warning] bagging_fraction is set=0.4734463909187791, subsample=1.0 will be ignored. Current value: bagging_fraction=0.4734463909187791\n",
      "[LightGBM] [Warning] lambda_l1 is set=1.792429975142707, reg_alpha=0.0 will be ignored. Current value: lambda_l1=1.792429975142707\n",
      "[LightGBM] [Warning] feature_fraction is set=0.9706682331815931, colsample_bytree=1.0 will be ignored. Current value: feature_fraction=0.9706682331815931\n",
      "[LightGBM] [Warning] lambda_l2 is set=0.00011254269480505973, reg_lambda=0.0 will be ignored. Current value: lambda_l2=0.00011254269480505973\n",
      "[LightGBM] [Warning] bagging_freq is set=3, subsample_freq=0 will be ignored. Current value: bagging_freq=3\n",
      "[LightGBM] [Warning] bagging_fraction is set=0.41348043060421663, subsample=1.0 will be ignored. Current value: bagging_fraction=0.41348043060421663\n",
      "[LightGBM] [Warning] lambda_l1 is set=2.1267458248824, reg_alpha=0.0 will be ignored. Current value: lambda_l1=2.1267458248824\n",
      "[LightGBM] [Warning] feature_fraction is set=0.9362756921423633, colsample_bytree=1.0 will be ignored. Current value: feature_fraction=0.9362756921423633\n",
      "[LightGBM] [Warning] lambda_l2 is set=0.8841316993134207, reg_lambda=0.0 will be ignored. Current value: lambda_l2=0.8841316993134207\n",
      "[LightGBM] [Warning] bagging_freq is set=2, subsample_freq=0 will be ignored. Current value: bagging_freq=2\n",
      "[LightGBM] [Warning] bagging_fraction is set=0.41348043060421663, subsample=1.0 will be ignored. Current value: bagging_fraction=0.41348043060421663\n",
      "[LightGBM] [Warning] lambda_l1 is set=2.1267458248824, reg_alpha=0.0 will be ignored. Current value: lambda_l1=2.1267458248824\n",
      "[LightGBM] [Warning] feature_fraction is set=0.9362756921423633, colsample_bytree=1.0 will be ignored. Current value: feature_fraction=0.9362756921423633\n",
      "[LightGBM] [Warning] lambda_l2 is set=0.8841316993134207, reg_lambda=0.0 will be ignored. Current value: lambda_l2=0.8841316993134207\n",
      "[LightGBM] [Warning] bagging_freq is set=2, subsample_freq=0 will be ignored. Current value: bagging_freq=2\n",
      "[LightGBM] [Warning] bagging_fraction is set=0.41348043060421663, subsample=1.0 will be ignored. Current value: bagging_fraction=0.41348043060421663\n",
      "[LightGBM] [Warning] lambda_l1 is set=2.1267458248824, reg_alpha=0.0 will be ignored. Current value: lambda_l1=2.1267458248824\n",
      "[LightGBM] [Warning] feature_fraction is set=0.9362756921423633, colsample_bytree=1.0 will be ignored. Current value: feature_fraction=0.9362756921423633\n",
      "[LightGBM] [Warning] lambda_l2 is set=0.8841316993134207, reg_lambda=0.0 will be ignored. Current value: lambda_l2=0.8841316993134207\n",
      "[LightGBM] [Warning] bagging_freq is set=2, subsample_freq=0 will be ignored. Current value: bagging_freq=2\n",
      "[LightGBM] [Warning] bagging_fraction is set=0.41348043060421663, subsample=1.0 will be ignored. Current value: bagging_fraction=0.41348043060421663\n",
      "[LightGBM] [Warning] lambda_l1 is set=2.1267458248824, reg_alpha=0.0 will be ignored. Current value: lambda_l1=2.1267458248824\n",
      "[LightGBM] [Warning] feature_fraction is set=0.9362756921423633, colsample_bytree=1.0 will be ignored. Current value: feature_fraction=0.9362756921423633\n",
      "[LightGBM] [Warning] lambda_l2 is set=0.8841316993134207, reg_lambda=0.0 will be ignored. Current value: lambda_l2=0.8841316993134207\n",
      "[LightGBM] [Warning] bagging_freq is set=2, subsample_freq=0 will be ignored. Current value: bagging_freq=2\n"
     ]
    },
    {
     "name": "stderr",
     "output_type": "stream",
     "text": [
      "\u001b[32m[I 2023-03-15 16:57:39,781]\u001b[0m Trial 35 finished with value: -0.20407754092370797 and parameters: {'lambda_l1': 2.1267458248824, 'lambda_l2': 0.8841316993134207, 'num_leaves': 206, 'feature_fraction': 0.9362756921423633, 'bagging_fraction': 0.41348043060421663, 'bagging_freq': 2, 'min_child_samples': 57}. Best is trial 16 with value: -0.19131107681185258.\u001b[0m\n"
     ]
    },
    {
     "name": "stdout",
     "output_type": "stream",
     "text": [
      "[LightGBM] [Warning] bagging_fraction is set=0.41348043060421663, subsample=1.0 will be ignored. Current value: bagging_fraction=0.41348043060421663\n",
      "[LightGBM] [Warning] lambda_l1 is set=2.1267458248824, reg_alpha=0.0 will be ignored. Current value: lambda_l1=2.1267458248824\n",
      "[LightGBM] [Warning] feature_fraction is set=0.9362756921423633, colsample_bytree=1.0 will be ignored. Current value: feature_fraction=0.9362756921423633\n",
      "[LightGBM] [Warning] lambda_l2 is set=0.8841316993134207, reg_lambda=0.0 will be ignored. Current value: lambda_l2=0.8841316993134207\n",
      "[LightGBM] [Warning] bagging_freq is set=2, subsample_freq=0 will be ignored. Current value: bagging_freq=2\n",
      "[LightGBM] [Warning] bagging_fraction is set=0.5337076653582257, subsample=1.0 will be ignored. Current value: bagging_fraction=0.5337076653582257\n",
      "[LightGBM] [Warning] lambda_l1 is set=0.004381806090601416, reg_alpha=0.0 will be ignored. Current value: lambda_l1=0.004381806090601416\n",
      "[LightGBM] [Warning] feature_fraction is set=0.9120151254431901, colsample_bytree=1.0 will be ignored. Current value: feature_fraction=0.9120151254431901\n",
      "[LightGBM] [Warning] lambda_l2 is set=6.825937726424514e-05, reg_lambda=0.0 will be ignored. Current value: lambda_l2=6.825937726424514e-05\n",
      "[LightGBM] [Warning] bagging_freq is set=4, subsample_freq=0 will be ignored. Current value: bagging_freq=4\n",
      "[LightGBM] [Warning] bagging_fraction is set=0.5337076653582257, subsample=1.0 will be ignored. Current value: bagging_fraction=0.5337076653582257\n",
      "[LightGBM] [Warning] lambda_l1 is set=0.004381806090601416, reg_alpha=0.0 will be ignored. Current value: lambda_l1=0.004381806090601416\n",
      "[LightGBM] [Warning] feature_fraction is set=0.9120151254431901, colsample_bytree=1.0 will be ignored. Current value: feature_fraction=0.9120151254431901\n",
      "[LightGBM] [Warning] lambda_l2 is set=6.825937726424514e-05, reg_lambda=0.0 will be ignored. Current value: lambda_l2=6.825937726424514e-05\n",
      "[LightGBM] [Warning] bagging_freq is set=4, subsample_freq=0 will be ignored. Current value: bagging_freq=4\n",
      "[LightGBM] [Warning] bagging_fraction is set=0.5337076653582257, subsample=1.0 will be ignored. Current value: bagging_fraction=0.5337076653582257\n",
      "[LightGBM] [Warning] lambda_l1 is set=0.004381806090601416, reg_alpha=0.0 will be ignored. Current value: lambda_l1=0.004381806090601416\n",
      "[LightGBM] [Warning] feature_fraction is set=0.9120151254431901, colsample_bytree=1.0 will be ignored. Current value: feature_fraction=0.9120151254431901\n",
      "[LightGBM] [Warning] lambda_l2 is set=6.825937726424514e-05, reg_lambda=0.0 will be ignored. Current value: lambda_l2=6.825937726424514e-05\n",
      "[LightGBM] [Warning] bagging_freq is set=4, subsample_freq=0 will be ignored. Current value: bagging_freq=4\n",
      "[LightGBM] [Warning] bagging_fraction is set=0.5337076653582257, subsample=1.0 will be ignored. Current value: bagging_fraction=0.5337076653582257\n",
      "[LightGBM] [Warning] lambda_l1 is set=0.004381806090601416, reg_alpha=0.0 will be ignored. Current value: lambda_l1=0.004381806090601416\n",
      "[LightGBM] [Warning] feature_fraction is set=0.9120151254431901, colsample_bytree=1.0 will be ignored. Current value: feature_fraction=0.9120151254431901\n",
      "[LightGBM] [Warning] lambda_l2 is set=6.825937726424514e-05, reg_lambda=0.0 will be ignored. Current value: lambda_l2=6.825937726424514e-05\n",
      "[LightGBM] [Warning] bagging_freq is set=4, subsample_freq=0 will be ignored. Current value: bagging_freq=4\n",
      "[LightGBM] [Warning] bagging_fraction is set=0.5337076653582257, subsample=1.0 will be ignored. Current value: bagging_fraction=0.5337076653582257\n",
      "[LightGBM] [Warning] lambda_l1 is set=0.004381806090601416, reg_alpha=0.0 will be ignored. Current value: lambda_l1=0.004381806090601416\n",
      "[LightGBM] [Warning] feature_fraction is set=0.9120151254431901, colsample_bytree=1.0 will be ignored. Current value: feature_fraction=0.9120151254431901\n",
      "[LightGBM] [Warning] lambda_l2 is set=6.825937726424514e-05, reg_lambda=0.0 will be ignored. Current value: lambda_l2=6.825937726424514e-05\n",
      "[LightGBM] [Warning] bagging_freq is set=4, subsample_freq=0 will be ignored. Current value: bagging_freq=4\n"
     ]
    },
    {
     "name": "stderr",
     "output_type": "stream",
     "text": [
      "\u001b[32m[I 2023-03-15 16:57:40,273]\u001b[0m Trial 36 finished with value: -0.20990242695281935 and parameters: {'lambda_l1': 0.004381806090601416, 'lambda_l2': 6.825937726424514e-05, 'num_leaves': 243, 'feature_fraction': 0.9120151254431901, 'bagging_fraction': 0.5337076653582257, 'bagging_freq': 4, 'min_child_samples': 84}. Best is trial 16 with value: -0.19131107681185258.\u001b[0m\n"
     ]
    },
    {
     "name": "stdout",
     "output_type": "stream",
     "text": [
      "[LightGBM] [Warning] bagging_fraction is set=0.4321458838105015, subsample=1.0 will be ignored. Current value: bagging_fraction=0.4321458838105015\n",
      "[LightGBM] [Warning] lambda_l1 is set=4.213364360828258, reg_alpha=0.0 will be ignored. Current value: lambda_l1=4.213364360828258\n",
      "[LightGBM] [Warning] feature_fraction is set=0.7805288122249586, colsample_bytree=1.0 will be ignored. Current value: feature_fraction=0.7805288122249586\n",
      "[LightGBM] [Warning] lambda_l2 is set=0.030080492728356483, reg_lambda=0.0 will be ignored. Current value: lambda_l2=0.030080492728356483\n",
      "[LightGBM] [Warning] bagging_freq is set=1, subsample_freq=0 will be ignored. Current value: bagging_freq=1\n",
      "[LightGBM] [Warning] bagging_fraction is set=0.4321458838105015, subsample=1.0 will be ignored. Current value: bagging_fraction=0.4321458838105015\n",
      "[LightGBM] [Warning] lambda_l1 is set=4.213364360828258, reg_alpha=0.0 will be ignored. Current value: lambda_l1=4.213364360828258\n",
      "[LightGBM] [Warning] feature_fraction is set=0.7805288122249586, colsample_bytree=1.0 will be ignored. Current value: feature_fraction=0.7805288122249586\n",
      "[LightGBM] [Warning] lambda_l2 is set=0.030080492728356483, reg_lambda=0.0 will be ignored. Current value: lambda_l2=0.030080492728356483\n",
      "[LightGBM] [Warning] bagging_freq is set=1, subsample_freq=0 will be ignored. Current value: bagging_freq=1\n",
      "[LightGBM] [Warning] bagging_fraction is set=0.4321458838105015, subsample=1.0 will be ignored. Current value: bagging_fraction=0.4321458838105015\n",
      "[LightGBM] [Warning] lambda_l1 is set=4.213364360828258, reg_alpha=0.0 will be ignored. Current value: lambda_l1=4.213364360828258\n",
      "[LightGBM] [Warning] feature_fraction is set=0.7805288122249586, colsample_bytree=1.0 will be ignored. Current value: feature_fraction=0.7805288122249586\n",
      "[LightGBM] [Warning] lambda_l2 is set=0.030080492728356483, reg_lambda=0.0 will be ignored. Current value: lambda_l2=0.030080492728356483\n",
      "[LightGBM] [Warning] bagging_freq is set=1, subsample_freq=0 will be ignored. Current value: bagging_freq=1\n"
     ]
    },
    {
     "name": "stderr",
     "output_type": "stream",
     "text": [
      "\u001b[32m[I 2023-03-15 16:57:40,659]\u001b[0m Trial 37 finished with value: -0.19816731653452752 and parameters: {'lambda_l1': 4.213364360828258, 'lambda_l2': 0.030080492728356483, 'num_leaves': 188, 'feature_fraction': 0.7805288122249586, 'bagging_fraction': 0.4321458838105015, 'bagging_freq': 1, 'min_child_samples': 75}. Best is trial 16 with value: -0.19131107681185258.\u001b[0m\n"
     ]
    },
    {
     "name": "stdout",
     "output_type": "stream",
     "text": [
      "[LightGBM] [Warning] bagging_fraction is set=0.4321458838105015, subsample=1.0 will be ignored. Current value: bagging_fraction=0.4321458838105015\n",
      "[LightGBM] [Warning] lambda_l1 is set=4.213364360828258, reg_alpha=0.0 will be ignored. Current value: lambda_l1=4.213364360828258\n",
      "[LightGBM] [Warning] feature_fraction is set=0.7805288122249586, colsample_bytree=1.0 will be ignored. Current value: feature_fraction=0.7805288122249586\n",
      "[LightGBM] [Warning] lambda_l2 is set=0.030080492728356483, reg_lambda=0.0 will be ignored. Current value: lambda_l2=0.030080492728356483\n",
      "[LightGBM] [Warning] bagging_freq is set=1, subsample_freq=0 will be ignored. Current value: bagging_freq=1\n",
      "[LightGBM] [Warning] bagging_fraction is set=0.4321458838105015, subsample=1.0 will be ignored. Current value: bagging_fraction=0.4321458838105015\n",
      "[LightGBM] [Warning] lambda_l1 is set=4.213364360828258, reg_alpha=0.0 will be ignored. Current value: lambda_l1=4.213364360828258\n",
      "[LightGBM] [Warning] feature_fraction is set=0.7805288122249586, colsample_bytree=1.0 will be ignored. Current value: feature_fraction=0.7805288122249586\n",
      "[LightGBM] [Warning] lambda_l2 is set=0.030080492728356483, reg_lambda=0.0 will be ignored. Current value: lambda_l2=0.030080492728356483\n",
      "[LightGBM] [Warning] bagging_freq is set=1, subsample_freq=0 will be ignored. Current value: bagging_freq=1\n",
      "[LightGBM] [Warning] bagging_fraction is set=0.4826293639166706, subsample=1.0 will be ignored. Current value: bagging_fraction=0.4826293639166706\n",
      "[LightGBM] [Warning] lambda_l1 is set=0.6275379945432598, reg_alpha=0.0 will be ignored. Current value: lambda_l1=0.6275379945432598\n",
      "[LightGBM] [Warning] feature_fraction is set=0.8458077960098196, colsample_bytree=1.0 will be ignored. Current value: feature_fraction=0.8458077960098196\n",
      "[LightGBM] [Warning] lambda_l2 is set=0.0023904395491504433, reg_lambda=0.0 will be ignored. Current value: lambda_l2=0.0023904395491504433\n",
      "[LightGBM] [Warning] bagging_freq is set=4, subsample_freq=0 will be ignored. Current value: bagging_freq=4\n",
      "[LightGBM] [Warning] bagging_fraction is set=0.4826293639166706, subsample=1.0 will be ignored. Current value: bagging_fraction=0.4826293639166706\n",
      "[LightGBM] [Warning] lambda_l1 is set=0.6275379945432598, reg_alpha=0.0 will be ignored. Current value: lambda_l1=0.6275379945432598\n",
      "[LightGBM] [Warning] feature_fraction is set=0.8458077960098196, colsample_bytree=1.0 will be ignored. Current value: feature_fraction=0.8458077960098196\n",
      "[LightGBM] [Warning] lambda_l2 is set=0.0023904395491504433, reg_lambda=0.0 will be ignored. Current value: lambda_l2=0.0023904395491504433\n",
      "[LightGBM] [Warning] bagging_freq is set=4, subsample_freq=0 will be ignored. Current value: bagging_freq=4\n",
      "[LightGBM] [Warning] bagging_fraction is set=0.4826293639166706, subsample=1.0 will be ignored. Current value: bagging_fraction=0.4826293639166706\n",
      "[LightGBM] [Warning] lambda_l1 is set=0.6275379945432598, reg_alpha=0.0 will be ignored. Current value: lambda_l1=0.6275379945432598\n",
      "[LightGBM] [Warning] feature_fraction is set=0.8458077960098196, colsample_bytree=1.0 will be ignored. Current value: feature_fraction=0.8458077960098196\n",
      "[LightGBM] [Warning] lambda_l2 is set=0.0023904395491504433, reg_lambda=0.0 will be ignored. Current value: lambda_l2=0.0023904395491504433\n",
      "[LightGBM] [Warning] bagging_freq is set=4, subsample_freq=0 will be ignored. Current value: bagging_freq=4\n",
      "[LightGBM] [Warning] bagging_fraction is set=0.4826293639166706, subsample=1.0 will be ignored. Current value: bagging_fraction=0.4826293639166706\n",
      "[LightGBM] [Warning] lambda_l1 is set=0.6275379945432598, reg_alpha=0.0 will be ignored. Current value: lambda_l1=0.6275379945432598\n",
      "[LightGBM] [Warning] feature_fraction is set=0.8458077960098196, colsample_bytree=1.0 will be ignored. Current value: feature_fraction=0.8458077960098196\n",
      "[LightGBM] [Warning] lambda_l2 is set=0.0023904395491504433, reg_lambda=0.0 will be ignored. Current value: lambda_l2=0.0023904395491504433\n",
      "[LightGBM] [Warning] bagging_freq is set=4, subsample_freq=0 will be ignored. Current value: bagging_freq=4\n",
      "[LightGBM] [Warning] bagging_fraction is set=0.4826293639166706, subsample=1.0 will be ignored. Current value: bagging_fraction=0.4826293639166706\n",
      "[LightGBM] [Warning] lambda_l1 is set=0.6275379945432598, reg_alpha=0.0 will be ignored. Current value: lambda_l1=0.6275379945432598\n",
      "[LightGBM] [Warning] feature_fraction is set=0.8458077960098196, colsample_bytree=1.0 will be ignored. Current value: feature_fraction=0.8458077960098196\n",
      "[LightGBM] [Warning] lambda_l2 is set=0.0023904395491504433, reg_lambda=0.0 will be ignored. Current value: lambda_l2=0.0023904395491504433\n",
      "[LightGBM] [Warning] bagging_freq is set=4, subsample_freq=0 will be ignored. Current value: bagging_freq=4\n"
     ]
    },
    {
     "name": "stderr",
     "output_type": "stream",
     "text": [
      "\u001b[32m[I 2023-03-15 16:57:41,021]\u001b[0m Trial 38 finished with value: -0.20270507476716415 and parameters: {'lambda_l1': 0.6275379945432598, 'lambda_l2': 0.0023904395491504433, 'num_leaves': 165, 'feature_fraction': 0.8458077960098196, 'bagging_fraction': 0.4826293639166706, 'bagging_freq': 4, 'min_child_samples': 92}. Best is trial 16 with value: -0.19131107681185258.\u001b[0m\n"
     ]
    },
    {
     "name": "stdout",
     "output_type": "stream",
     "text": [
      "[LightGBM] [Warning] bagging_fraction is set=0.45082094637281567, subsample=1.0 will be ignored. Current value: bagging_fraction=0.45082094637281567\n",
      "[LightGBM] [Warning] lambda_l1 is set=9.548516056151458, reg_alpha=0.0 will be ignored. Current value: lambda_l1=9.548516056151458\n",
      "[LightGBM] [Warning] feature_fraction is set=0.7433310061416047, colsample_bytree=1.0 will be ignored. Current value: feature_fraction=0.7433310061416047\n",
      "[LightGBM] [Warning] lambda_l2 is set=0.010006014143430782, reg_lambda=0.0 will be ignored. Current value: lambda_l2=0.010006014143430782\n",
      "[LightGBM] [Warning] bagging_freq is set=3, subsample_freq=0 will be ignored. Current value: bagging_freq=3\n",
      "[LightGBM] [Warning] bagging_fraction is set=0.45082094637281567, subsample=1.0 will be ignored. Current value: bagging_fraction=0.45082094637281567\n",
      "[LightGBM] [Warning] lambda_l1 is set=9.548516056151458, reg_alpha=0.0 will be ignored. Current value: lambda_l1=9.548516056151458\n",
      "[LightGBM] [Warning] feature_fraction is set=0.7433310061416047, colsample_bytree=1.0 will be ignored. Current value: feature_fraction=0.7433310061416047\n",
      "[LightGBM] [Warning] lambda_l2 is set=0.010006014143430782, reg_lambda=0.0 will be ignored. Current value: lambda_l2=0.010006014143430782\n",
      "[LightGBM] [Warning] bagging_freq is set=3, subsample_freq=0 will be ignored. Current value: bagging_freq=3\n",
      "[LightGBM] [Warning] bagging_fraction is set=0.45082094637281567, subsample=1.0 will be ignored. Current value: bagging_fraction=0.45082094637281567\n",
      "[LightGBM] [Warning] lambda_l1 is set=9.548516056151458, reg_alpha=0.0 will be ignored. Current value: lambda_l1=9.548516056151458\n",
      "[LightGBM] [Warning] feature_fraction is set=0.7433310061416047, colsample_bytree=1.0 will be ignored. Current value: feature_fraction=0.7433310061416047\n",
      "[LightGBM] [Warning] lambda_l2 is set=0.010006014143430782, reg_lambda=0.0 will be ignored. Current value: lambda_l2=0.010006014143430782\n",
      "[LightGBM] [Warning] bagging_freq is set=3, subsample_freq=0 will be ignored. Current value: bagging_freq=3\n",
      "[LightGBM] [Warning] bagging_fraction is set=0.45082094637281567, subsample=1.0 will be ignored. Current value: bagging_fraction=0.45082094637281567\n",
      "[LightGBM] [Warning] lambda_l1 is set=9.548516056151458, reg_alpha=0.0 will be ignored. Current value: lambda_l1=9.548516056151458\n",
      "[LightGBM] [Warning] feature_fraction is set=0.7433310061416047, colsample_bytree=1.0 will be ignored. Current value: feature_fraction=0.7433310061416047\n",
      "[LightGBM] [Warning] lambda_l2 is set=0.010006014143430782, reg_lambda=0.0 will be ignored. Current value: lambda_l2=0.010006014143430782\n",
      "[LightGBM] [Warning] bagging_freq is set=3, subsample_freq=0 will be ignored. Current value: bagging_freq=3\n"
     ]
    },
    {
     "name": "stderr",
     "output_type": "stream",
     "text": [
      "\u001b[32m[I 2023-03-15 16:57:41,350]\u001b[0m Trial 39 finished with value: -0.1907555870778161 and parameters: {'lambda_l1': 9.548516056151458, 'lambda_l2': 0.010006014143430782, 'num_leaves': 256, 'feature_fraction': 0.7433310061416047, 'bagging_fraction': 0.45082094637281567, 'bagging_freq': 3, 'min_child_samples': 67}. Best is trial 39 with value: -0.1907555870778161.\u001b[0m\n"
     ]
    },
    {
     "name": "stdout",
     "output_type": "stream",
     "text": [
      "[LightGBM] [Warning] bagging_fraction is set=0.45082094637281567, subsample=1.0 will be ignored. Current value: bagging_fraction=0.45082094637281567\n",
      "[LightGBM] [Warning] lambda_l1 is set=9.548516056151458, reg_alpha=0.0 will be ignored. Current value: lambda_l1=9.548516056151458\n",
      "[LightGBM] [Warning] feature_fraction is set=0.7433310061416047, colsample_bytree=1.0 will be ignored. Current value: feature_fraction=0.7433310061416047\n",
      "[LightGBM] [Warning] lambda_l2 is set=0.010006014143430782, reg_lambda=0.0 will be ignored. Current value: lambda_l2=0.010006014143430782\n",
      "[LightGBM] [Warning] bagging_freq is set=3, subsample_freq=0 will be ignored. Current value: bagging_freq=3\n",
      "[LightGBM] [Warning] bagging_fraction is set=0.4055850950801338, subsample=1.0 will be ignored. Current value: bagging_fraction=0.4055850950801338\n",
      "[LightGBM] [Warning] lambda_l1 is set=0.10704740298901533, reg_alpha=0.0 will be ignored. Current value: lambda_l1=0.10704740298901533\n",
      "[LightGBM] [Warning] feature_fraction is set=0.7460367439822951, colsample_bytree=1.0 will be ignored. Current value: feature_fraction=0.7460367439822951\n",
      "[LightGBM] [Warning] lambda_l2 is set=0.0007485853916447481, reg_lambda=0.0 will be ignored. Current value: lambda_l2=0.0007485853916447481\n",
      "[LightGBM] [Warning] bagging_freq is set=5, subsample_freq=0 will be ignored. Current value: bagging_freq=5\n",
      "[LightGBM] [Warning] bagging_fraction is set=0.4055850950801338, subsample=1.0 will be ignored. Current value: bagging_fraction=0.4055850950801338\n",
      "[LightGBM] [Warning] lambda_l1 is set=0.10704740298901533, reg_alpha=0.0 will be ignored. Current value: lambda_l1=0.10704740298901533\n",
      "[LightGBM] [Warning] feature_fraction is set=0.7460367439822951, colsample_bytree=1.0 will be ignored. Current value: feature_fraction=0.7460367439822951\n",
      "[LightGBM] [Warning] lambda_l2 is set=0.0007485853916447481, reg_lambda=0.0 will be ignored. Current value: lambda_l2=0.0007485853916447481\n",
      "[LightGBM] [Warning] bagging_freq is set=5, subsample_freq=0 will be ignored. Current value: bagging_freq=5\n",
      "[LightGBM] [Warning] bagging_fraction is set=0.4055850950801338, subsample=1.0 will be ignored. Current value: bagging_fraction=0.4055850950801338\n",
      "[LightGBM] [Warning] lambda_l1 is set=0.10704740298901533, reg_alpha=0.0 will be ignored. Current value: lambda_l1=0.10704740298901533\n",
      "[LightGBM] [Warning] feature_fraction is set=0.7460367439822951, colsample_bytree=1.0 will be ignored. Current value: feature_fraction=0.7460367439822951\n",
      "[LightGBM] [Warning] lambda_l2 is set=0.0007485853916447481, reg_lambda=0.0 will be ignored. Current value: lambda_l2=0.0007485853916447481\n",
      "[LightGBM] [Warning] bagging_freq is set=5, subsample_freq=0 will be ignored. Current value: bagging_freq=5\n",
      "[LightGBM] [Warning] bagging_fraction is set=0.4055850950801338, subsample=1.0 will be ignored. Current value: bagging_fraction=0.4055850950801338\n",
      "[LightGBM] [Warning] lambda_l1 is set=0.10704740298901533, reg_alpha=0.0 will be ignored. Current value: lambda_l1=0.10704740298901533\n",
      "[LightGBM] [Warning] feature_fraction is set=0.7460367439822951, colsample_bytree=1.0 will be ignored. Current value: feature_fraction=0.7460367439822951\n",
      "[LightGBM] [Warning] lambda_l2 is set=0.0007485853916447481, reg_lambda=0.0 will be ignored. Current value: lambda_l2=0.0007485853916447481\n",
      "[LightGBM] [Warning] bagging_freq is set=5, subsample_freq=0 will be ignored. Current value: bagging_freq=5\n",
      "[LightGBM] [Warning] bagging_fraction is set=0.4055850950801338, subsample=1.0 will be ignored. Current value: bagging_fraction=0.4055850950801338\n",
      "[LightGBM] [Warning] lambda_l1 is set=0.10704740298901533, reg_alpha=0.0 will be ignored. Current value: lambda_l1=0.10704740298901533\n",
      "[LightGBM] [Warning] feature_fraction is set=0.7460367439822951, colsample_bytree=1.0 will be ignored. Current value: feature_fraction=0.7460367439822951\n",
      "[LightGBM] [Warning] lambda_l2 is set=0.0007485853916447481, reg_lambda=0.0 will be ignored. Current value: lambda_l2=0.0007485853916447481\n",
      "[LightGBM] [Warning] bagging_freq is set=5, subsample_freq=0 will be ignored. Current value: bagging_freq=5\n"
     ]
    },
    {
     "name": "stderr",
     "output_type": "stream",
     "text": [
      "\u001b[32m[I 2023-03-15 16:57:41,779]\u001b[0m Trial 40 finished with value: -0.21188784870758903 and parameters: {'lambda_l1': 0.10704740298901533, 'lambda_l2': 0.0007485853916447481, 'num_leaves': 222, 'feature_fraction': 0.7460367439822951, 'bagging_fraction': 0.4055850950801338, 'bagging_freq': 5, 'min_child_samples': 49}. Best is trial 39 with value: -0.1907555870778161.\u001b[0m\n"
     ]
    },
    {
     "name": "stdout",
     "output_type": "stream",
     "text": [
      "[LightGBM] [Warning] bagging_fraction is set=0.45540282765467954, subsample=1.0 will be ignored. Current value: bagging_fraction=0.45540282765467954\n",
      "[LightGBM] [Warning] lambda_l1 is set=9.91759416517185, reg_alpha=0.0 will be ignored. Current value: lambda_l1=9.91759416517185\n",
      "[LightGBM] [Warning] feature_fraction is set=0.6681960187376804, colsample_bytree=1.0 will be ignored. Current value: feature_fraction=0.6681960187376804\n",
      "[LightGBM] [Warning] lambda_l2 is set=0.011033346147605549, reg_lambda=0.0 will be ignored. Current value: lambda_l2=0.011033346147605549\n",
      "[LightGBM] [Warning] bagging_freq is set=3, subsample_freq=0 will be ignored. Current value: bagging_freq=3\n",
      "[LightGBM] [Warning] bagging_fraction is set=0.45540282765467954, subsample=1.0 will be ignored. Current value: bagging_fraction=0.45540282765467954\n",
      "[LightGBM] [Warning] lambda_l1 is set=9.91759416517185, reg_alpha=0.0 will be ignored. Current value: lambda_l1=9.91759416517185\n",
      "[LightGBM] [Warning] feature_fraction is set=0.6681960187376804, colsample_bytree=1.0 will be ignored. Current value: feature_fraction=0.6681960187376804\n",
      "[LightGBM] [Warning] lambda_l2 is set=0.011033346147605549, reg_lambda=0.0 will be ignored. Current value: lambda_l2=0.011033346147605549\n",
      "[LightGBM] [Warning] bagging_freq is set=3, subsample_freq=0 will be ignored. Current value: bagging_freq=3\n",
      "[LightGBM] [Warning] bagging_fraction is set=0.45540282765467954, subsample=1.0 will be ignored. Current value: bagging_fraction=0.45540282765467954\n",
      "[LightGBM] [Warning] lambda_l1 is set=9.91759416517185, reg_alpha=0.0 will be ignored. Current value: lambda_l1=9.91759416517185\n",
      "[LightGBM] [Warning] feature_fraction is set=0.6681960187376804, colsample_bytree=1.0 will be ignored. Current value: feature_fraction=0.6681960187376804\n",
      "[LightGBM] [Warning] lambda_l2 is set=0.011033346147605549, reg_lambda=0.0 will be ignored. Current value: lambda_l2=0.011033346147605549\n",
      "[LightGBM] [Warning] bagging_freq is set=3, subsample_freq=0 will be ignored. Current value: bagging_freq=3\n",
      "[LightGBM] [Warning] bagging_fraction is set=0.45540282765467954, subsample=1.0 will be ignored. Current value: bagging_fraction=0.45540282765467954\n",
      "[LightGBM] [Warning] lambda_l1 is set=9.91759416517185, reg_alpha=0.0 will be ignored. Current value: lambda_l1=9.91759416517185\n",
      "[LightGBM] [Warning] feature_fraction is set=0.6681960187376804, colsample_bytree=1.0 will be ignored. Current value: feature_fraction=0.6681960187376804\n",
      "[LightGBM] [Warning] lambda_l2 is set=0.011033346147605549, reg_lambda=0.0 will be ignored. Current value: lambda_l2=0.011033346147605549\n",
      "[LightGBM] [Warning] bagging_freq is set=3, subsample_freq=0 will be ignored. Current value: bagging_freq=3\n"
     ]
    },
    {
     "name": "stderr",
     "output_type": "stream",
     "text": [
      "\u001b[32m[I 2023-03-15 16:57:42,109]\u001b[0m Trial 41 finished with value: -0.19182192756353164 and parameters: {'lambda_l1': 9.91759416517185, 'lambda_l2': 0.011033346147605549, 'num_leaves': 256, 'feature_fraction': 0.6681960187376804, 'bagging_fraction': 0.45540282765467954, 'bagging_freq': 3, 'min_child_samples': 67}. Best is trial 39 with value: -0.1907555870778161.\u001b[0m\n"
     ]
    },
    {
     "name": "stdout",
     "output_type": "stream",
     "text": [
      "[LightGBM] [Warning] bagging_fraction is set=0.45540282765467954, subsample=1.0 will be ignored. Current value: bagging_fraction=0.45540282765467954\n",
      "[LightGBM] [Warning] lambda_l1 is set=9.91759416517185, reg_alpha=0.0 will be ignored. Current value: lambda_l1=9.91759416517185\n",
      "[LightGBM] [Warning] feature_fraction is set=0.6681960187376804, colsample_bytree=1.0 will be ignored. Current value: feature_fraction=0.6681960187376804\n",
      "[LightGBM] [Warning] lambda_l2 is set=0.011033346147605549, reg_lambda=0.0 will be ignored. Current value: lambda_l2=0.011033346147605549\n",
      "[LightGBM] [Warning] bagging_freq is set=3, subsample_freq=0 will be ignored. Current value: bagging_freq=3\n",
      "[LightGBM] [Warning] bagging_fraction is set=0.5026628190526539, subsample=1.0 will be ignored. Current value: bagging_fraction=0.5026628190526539\n",
      "[LightGBM] [Warning] lambda_l1 is set=3.4083859228000404, reg_alpha=0.0 will be ignored. Current value: lambda_l1=3.4083859228000404\n",
      "[LightGBM] [Warning] feature_fraction is set=0.6591538851376385, colsample_bytree=1.0 will be ignored. Current value: feature_fraction=0.6591538851376385\n",
      "[LightGBM] [Warning] lambda_l2 is set=0.012106998512777169, reg_lambda=0.0 will be ignored. Current value: lambda_l2=0.012106998512777169\n",
      "[LightGBM] [Warning] bagging_freq is set=3, subsample_freq=0 will be ignored. Current value: bagging_freq=3\n",
      "[LightGBM] [Warning] bagging_fraction is set=0.5026628190526539, subsample=1.0 will be ignored. Current value: bagging_fraction=0.5026628190526539\n",
      "[LightGBM] [Warning] lambda_l1 is set=3.4083859228000404, reg_alpha=0.0 will be ignored. Current value: lambda_l1=3.4083859228000404\n",
      "[LightGBM] [Warning] feature_fraction is set=0.6591538851376385, colsample_bytree=1.0 will be ignored. Current value: feature_fraction=0.6591538851376385\n",
      "[LightGBM] [Warning] lambda_l2 is set=0.012106998512777169, reg_lambda=0.0 will be ignored. Current value: lambda_l2=0.012106998512777169\n",
      "[LightGBM] [Warning] bagging_freq is set=3, subsample_freq=0 will be ignored. Current value: bagging_freq=3\n",
      "[LightGBM] [Warning] bagging_fraction is set=0.5026628190526539, subsample=1.0 will be ignored. Current value: bagging_fraction=0.5026628190526539\n",
      "[LightGBM] [Warning] lambda_l1 is set=3.4083859228000404, reg_alpha=0.0 will be ignored. Current value: lambda_l1=3.4083859228000404\n",
      "[LightGBM] [Warning] feature_fraction is set=0.6591538851376385, colsample_bytree=1.0 will be ignored. Current value: feature_fraction=0.6591538851376385\n",
      "[LightGBM] [Warning] lambda_l2 is set=0.012106998512777169, reg_lambda=0.0 will be ignored. Current value: lambda_l2=0.012106998512777169\n",
      "[LightGBM] [Warning] bagging_freq is set=3, subsample_freq=0 will be ignored. Current value: bagging_freq=3\n",
      "[LightGBM] [Warning] bagging_fraction is set=0.5026628190526539, subsample=1.0 will be ignored. Current value: bagging_fraction=0.5026628190526539\n",
      "[LightGBM] [Warning] lambda_l1 is set=3.4083859228000404, reg_alpha=0.0 will be ignored. Current value: lambda_l1=3.4083859228000404\n",
      "[LightGBM] [Warning] feature_fraction is set=0.6591538851376385, colsample_bytree=1.0 will be ignored. Current value: feature_fraction=0.6591538851376385\n",
      "[LightGBM] [Warning] lambda_l2 is set=0.012106998512777169, reg_lambda=0.0 will be ignored. Current value: lambda_l2=0.012106998512777169\n",
      "[LightGBM] [Warning] bagging_freq is set=3, subsample_freq=0 will be ignored. Current value: bagging_freq=3\n",
      "[LightGBM] [Warning] bagging_fraction is set=0.5026628190526539, subsample=1.0 will be ignored. Current value: bagging_fraction=0.5026628190526539\n",
      "[LightGBM] [Warning] lambda_l1 is set=3.4083859228000404, reg_alpha=0.0 will be ignored. Current value: lambda_l1=3.4083859228000404\n",
      "[LightGBM] [Warning] feature_fraction is set=0.6591538851376385, colsample_bytree=1.0 will be ignored. Current value: feature_fraction=0.6591538851376385\n",
      "[LightGBM] [Warning] lambda_l2 is set=0.012106998512777169, reg_lambda=0.0 will be ignored. Current value: lambda_l2=0.012106998512777169\n",
      "[LightGBM] [Warning] bagging_freq is set=3, subsample_freq=0 will be ignored. Current value: bagging_freq=3\n"
     ]
    },
    {
     "name": "stderr",
     "output_type": "stream",
     "text": [
      "\u001b[32m[I 2023-03-15 16:57:42,499]\u001b[0m Trial 42 finished with value: -0.20227047453845876 and parameters: {'lambda_l1': 3.4083859228000404, 'lambda_l2': 0.012106998512777169, 'num_leaves': 255, 'feature_fraction': 0.6591538851376385, 'bagging_fraction': 0.5026628190526539, 'bagging_freq': 3, 'min_child_samples': 66}. Best is trial 39 with value: -0.1907555870778161.\u001b[0m\n"
     ]
    },
    {
     "name": "stdout",
     "output_type": "stream",
     "text": [
      "[LightGBM] [Warning] bagging_fraction is set=0.4421977825301217, subsample=1.0 will be ignored. Current value: bagging_fraction=0.4421977825301217\n",
      "[LightGBM] [Warning] lambda_l1 is set=0.5583259794858384, reg_alpha=0.0 will be ignored. Current value: lambda_l1=0.5583259794858384\n",
      "[LightGBM] [Warning] feature_fraction is set=0.6565611725508469, colsample_bytree=1.0 will be ignored. Current value: feature_fraction=0.6565611725508469\n",
      "[LightGBM] [Warning] lambda_l2 is set=0.0036184762032264854, reg_lambda=0.0 will be ignored. Current value: lambda_l2=0.0036184762032264854\n",
      "[LightGBM] [Warning] bagging_freq is set=3, subsample_freq=0 will be ignored. Current value: bagging_freq=3\n",
      "[LightGBM] [Warning] bagging_fraction is set=0.4421977825301217, subsample=1.0 will be ignored. Current value: bagging_fraction=0.4421977825301217\n",
      "[LightGBM] [Warning] lambda_l1 is set=0.5583259794858384, reg_alpha=0.0 will be ignored. Current value: lambda_l1=0.5583259794858384\n",
      "[LightGBM] [Warning] feature_fraction is set=0.6565611725508469, colsample_bytree=1.0 will be ignored. Current value: feature_fraction=0.6565611725508469\n",
      "[LightGBM] [Warning] lambda_l2 is set=0.0036184762032264854, reg_lambda=0.0 will be ignored. Current value: lambda_l2=0.0036184762032264854\n",
      "[LightGBM] [Warning] bagging_freq is set=3, subsample_freq=0 will be ignored. Current value: bagging_freq=3\n",
      "[LightGBM] [Warning] bagging_fraction is set=0.4421977825301217, subsample=1.0 will be ignored. Current value: bagging_fraction=0.4421977825301217\n",
      "[LightGBM] [Warning] lambda_l1 is set=0.5583259794858384, reg_alpha=0.0 will be ignored. Current value: lambda_l1=0.5583259794858384\n",
      "[LightGBM] [Warning] feature_fraction is set=0.6565611725508469, colsample_bytree=1.0 will be ignored. Current value: feature_fraction=0.6565611725508469\n",
      "[LightGBM] [Warning] lambda_l2 is set=0.0036184762032264854, reg_lambda=0.0 will be ignored. Current value: lambda_l2=0.0036184762032264854\n",
      "[LightGBM] [Warning] bagging_freq is set=3, subsample_freq=0 will be ignored. Current value: bagging_freq=3\n"
     ]
    },
    {
     "name": "stderr",
     "output_type": "stream",
     "text": [
      "\u001b[32m[I 2023-03-15 16:57:42,904]\u001b[0m Trial 43 finished with value: -0.2083802778625184 and parameters: {'lambda_l1': 0.5583259794858384, 'lambda_l2': 0.0036184762032264854, 'num_leaves': 246, 'feature_fraction': 0.6565611725508469, 'bagging_fraction': 0.4421977825301217, 'bagging_freq': 3, 'min_child_samples': 58}. Best is trial 39 with value: -0.1907555870778161.\u001b[0m\n"
     ]
    },
    {
     "name": "stdout",
     "output_type": "stream",
     "text": [
      "[LightGBM] [Warning] bagging_fraction is set=0.4421977825301217, subsample=1.0 will be ignored. Current value: bagging_fraction=0.4421977825301217\n",
      "[LightGBM] [Warning] lambda_l1 is set=0.5583259794858384, reg_alpha=0.0 will be ignored. Current value: lambda_l1=0.5583259794858384\n",
      "[LightGBM] [Warning] feature_fraction is set=0.6565611725508469, colsample_bytree=1.0 will be ignored. Current value: feature_fraction=0.6565611725508469\n",
      "[LightGBM] [Warning] lambda_l2 is set=0.0036184762032264854, reg_lambda=0.0 will be ignored. Current value: lambda_l2=0.0036184762032264854\n",
      "[LightGBM] [Warning] bagging_freq is set=3, subsample_freq=0 will be ignored. Current value: bagging_freq=3\n",
      "[LightGBM] [Warning] bagging_fraction is set=0.4421977825301217, subsample=1.0 will be ignored. Current value: bagging_fraction=0.4421977825301217\n",
      "[LightGBM] [Warning] lambda_l1 is set=0.5583259794858384, reg_alpha=0.0 will be ignored. Current value: lambda_l1=0.5583259794858384\n",
      "[LightGBM] [Warning] feature_fraction is set=0.6565611725508469, colsample_bytree=1.0 will be ignored. Current value: feature_fraction=0.6565611725508469\n",
      "[LightGBM] [Warning] lambda_l2 is set=0.0036184762032264854, reg_lambda=0.0 will be ignored. Current value: lambda_l2=0.0036184762032264854\n",
      "[LightGBM] [Warning] bagging_freq is set=3, subsample_freq=0 will be ignored. Current value: bagging_freq=3\n",
      "[LightGBM] [Warning] bagging_fraction is set=0.4309666487049852, subsample=1.0 will be ignored. Current value: bagging_fraction=0.4309666487049852\n",
      "[LightGBM] [Warning] lambda_l1 is set=3.8805248537229606, reg_alpha=0.0 will be ignored. Current value: lambda_l1=3.8805248537229606\n",
      "[LightGBM] [Warning] feature_fraction is set=0.6926755586991038, colsample_bytree=1.0 will be ignored. Current value: feature_fraction=0.6926755586991038\n",
      "[LightGBM] [Warning] lambda_l2 is set=0.00142973094852007, reg_lambda=0.0 will be ignored. Current value: lambda_l2=0.00142973094852007\n",
      "[LightGBM] [Warning] bagging_freq is set=3, subsample_freq=0 will be ignored. Current value: bagging_freq=3\n",
      "[LightGBM] [Warning] bagging_fraction is set=0.4309666487049852, subsample=1.0 will be ignored. Current value: bagging_fraction=0.4309666487049852\n",
      "[LightGBM] [Warning] lambda_l1 is set=3.8805248537229606, reg_alpha=0.0 will be ignored. Current value: lambda_l1=3.8805248537229606\n",
      "[LightGBM] [Warning] feature_fraction is set=0.6926755586991038, colsample_bytree=1.0 will be ignored. Current value: feature_fraction=0.6926755586991038\n",
      "[LightGBM] [Warning] lambda_l2 is set=0.00142973094852007, reg_lambda=0.0 will be ignored. Current value: lambda_l2=0.00142973094852007\n",
      "[LightGBM] [Warning] bagging_freq is set=3, subsample_freq=0 will be ignored. Current value: bagging_freq=3\n",
      "[LightGBM] [Warning] bagging_fraction is set=0.4309666487049852, subsample=1.0 will be ignored. Current value: bagging_fraction=0.4309666487049852\n",
      "[LightGBM] [Warning] lambda_l1 is set=3.8805248537229606, reg_alpha=0.0 will be ignored. Current value: lambda_l1=3.8805248537229606\n",
      "[LightGBM] [Warning] feature_fraction is set=0.6926755586991038, colsample_bytree=1.0 will be ignored. Current value: feature_fraction=0.6926755586991038\n",
      "[LightGBM] [Warning] lambda_l2 is set=0.00142973094852007, reg_lambda=0.0 will be ignored. Current value: lambda_l2=0.00142973094852007\n",
      "[LightGBM] [Warning] bagging_freq is set=3, subsample_freq=0 will be ignored. Current value: bagging_freq=3\n",
      "[LightGBM] [Warning] bagging_fraction is set=0.4309666487049852, subsample=1.0 will be ignored. Current value: bagging_fraction=0.4309666487049852\n",
      "[LightGBM] [Warning] lambda_l1 is set=3.8805248537229606, reg_alpha=0.0 will be ignored. Current value: lambda_l1=3.8805248537229606\n",
      "[LightGBM] [Warning] feature_fraction is set=0.6926755586991038, colsample_bytree=1.0 will be ignored. Current value: feature_fraction=0.6926755586991038\n",
      "[LightGBM] [Warning] lambda_l2 is set=0.00142973094852007, reg_lambda=0.0 will be ignored. Current value: lambda_l2=0.00142973094852007\n",
      "[LightGBM] [Warning] bagging_freq is set=3, subsample_freq=0 will be ignored. Current value: bagging_freq=3\n"
     ]
    },
    {
     "name": "stderr",
     "output_type": "stream",
     "text": [
      "\u001b[32m[I 2023-03-15 16:57:43,290]\u001b[0m Trial 44 finished with value: -0.2002895415312964 and parameters: {'lambda_l1': 3.8805248537229606, 'lambda_l2': 0.00142973094852007, 'num_leaves': 228, 'feature_fraction': 0.6926755586991038, 'bagging_fraction': 0.4309666487049852, 'bagging_freq': 3, 'min_child_samples': 61}. Best is trial 39 with value: -0.1907555870778161.\u001b[0m\n"
     ]
    },
    {
     "name": "stdout",
     "output_type": "stream",
     "text": [
      "[LightGBM] [Warning] bagging_fraction is set=0.4309666487049852, subsample=1.0 will be ignored. Current value: bagging_fraction=0.4309666487049852\n",
      "[LightGBM] [Warning] lambda_l1 is set=3.8805248537229606, reg_alpha=0.0 will be ignored. Current value: lambda_l1=3.8805248537229606\n",
      "[LightGBM] [Warning] feature_fraction is set=0.6926755586991038, colsample_bytree=1.0 will be ignored. Current value: feature_fraction=0.6926755586991038\n",
      "[LightGBM] [Warning] lambda_l2 is set=0.00142973094852007, reg_lambda=0.0 will be ignored. Current value: lambda_l2=0.00142973094852007\n",
      "[LightGBM] [Warning] bagging_freq is set=3, subsample_freq=0 will be ignored. Current value: bagging_freq=3\n",
      "[LightGBM] [Warning] bagging_fraction is set=0.47289753558716036, subsample=1.0 will be ignored. Current value: bagging_fraction=0.47289753558716036\n",
      "[LightGBM] [Warning] lambda_l1 is set=0.2581587182427255, reg_alpha=0.0 will be ignored. Current value: lambda_l1=0.2581587182427255\n",
      "[LightGBM] [Warning] feature_fraction is set=0.6125915721057091, colsample_bytree=1.0 will be ignored. Current value: feature_fraction=0.6125915721057091\n",
      "[LightGBM] [Warning] lambda_l2 is set=0.04735589442410063, reg_lambda=0.0 will be ignored. Current value: lambda_l2=0.04735589442410063\n",
      "[LightGBM] [Warning] bagging_freq is set=4, subsample_freq=0 will be ignored. Current value: bagging_freq=4\n",
      "[LightGBM] [Warning] bagging_fraction is set=0.47289753558716036, subsample=1.0 will be ignored. Current value: bagging_fraction=0.47289753558716036\n",
      "[LightGBM] [Warning] lambda_l1 is set=0.2581587182427255, reg_alpha=0.0 will be ignored. Current value: lambda_l1=0.2581587182427255\n",
      "[LightGBM] [Warning] feature_fraction is set=0.6125915721057091, colsample_bytree=1.0 will be ignored. Current value: feature_fraction=0.6125915721057091\n",
      "[LightGBM] [Warning] lambda_l2 is set=0.04735589442410063, reg_lambda=0.0 will be ignored. Current value: lambda_l2=0.04735589442410063\n",
      "[LightGBM] [Warning] bagging_freq is set=4, subsample_freq=0 will be ignored. Current value: bagging_freq=4\n"
     ]
    },
    {
     "name": "stderr",
     "output_type": "stream",
     "text": [
      "\u001b[32m[I 2023-03-15 16:57:43,665]\u001b[0m Trial 45 finished with value: -0.20949489831738957 and parameters: {'lambda_l1': 0.2581587182427255, 'lambda_l2': 0.04735589442410063, 'num_leaves': 256, 'feature_fraction': 0.6125915721057091, 'bagging_fraction': 0.47289753558716036, 'bagging_freq': 4, 'min_child_samples': 74}. Best is trial 39 with value: -0.1907555870778161.\u001b[0m\n"
     ]
    },
    {
     "name": "stdout",
     "output_type": "stream",
     "text": [
      "[LightGBM] [Warning] bagging_fraction is set=0.47289753558716036, subsample=1.0 will be ignored. Current value: bagging_fraction=0.47289753558716036\n",
      "[LightGBM] [Warning] lambda_l1 is set=0.2581587182427255, reg_alpha=0.0 will be ignored. Current value: lambda_l1=0.2581587182427255\n",
      "[LightGBM] [Warning] feature_fraction is set=0.6125915721057091, colsample_bytree=1.0 will be ignored. Current value: feature_fraction=0.6125915721057091\n",
      "[LightGBM] [Warning] lambda_l2 is set=0.04735589442410063, reg_lambda=0.0 will be ignored. Current value: lambda_l2=0.04735589442410063\n",
      "[LightGBM] [Warning] bagging_freq is set=4, subsample_freq=0 will be ignored. Current value: bagging_freq=4\n",
      "[LightGBM] [Warning] bagging_fraction is set=0.47289753558716036, subsample=1.0 will be ignored. Current value: bagging_fraction=0.47289753558716036\n",
      "[LightGBM] [Warning] lambda_l1 is set=0.2581587182427255, reg_alpha=0.0 will be ignored. Current value: lambda_l1=0.2581587182427255\n",
      "[LightGBM] [Warning] feature_fraction is set=0.6125915721057091, colsample_bytree=1.0 will be ignored. Current value: feature_fraction=0.6125915721057091\n",
      "[LightGBM] [Warning] lambda_l2 is set=0.04735589442410063, reg_lambda=0.0 will be ignored. Current value: lambda_l2=0.04735589442410063\n",
      "[LightGBM] [Warning] bagging_freq is set=4, subsample_freq=0 will be ignored. Current value: bagging_freq=4\n",
      "[LightGBM] [Warning] bagging_fraction is set=0.47289753558716036, subsample=1.0 will be ignored. Current value: bagging_fraction=0.47289753558716036\n",
      "[LightGBM] [Warning] lambda_l1 is set=0.2581587182427255, reg_alpha=0.0 will be ignored. Current value: lambda_l1=0.2581587182427255\n",
      "[LightGBM] [Warning] feature_fraction is set=0.6125915721057091, colsample_bytree=1.0 will be ignored. Current value: feature_fraction=0.6125915721057091\n",
      "[LightGBM] [Warning] lambda_l2 is set=0.04735589442410063, reg_lambda=0.0 will be ignored. Current value: lambda_l2=0.04735589442410063\n",
      "[LightGBM] [Warning] bagging_freq is set=4, subsample_freq=0 will be ignored. Current value: bagging_freq=4\n",
      "[LightGBM] [Warning] bagging_fraction is set=0.5082013330761542, subsample=1.0 will be ignored. Current value: bagging_fraction=0.5082013330761542\n",
      "[LightGBM] [Warning] lambda_l1 is set=2.0415768704112445, reg_alpha=0.0 will be ignored. Current value: lambda_l1=2.0415768704112445\n",
      "[LightGBM] [Warning] feature_fraction is set=0.7416457279824336, colsample_bytree=1.0 will be ignored. Current value: feature_fraction=0.7416457279824336\n",
      "[LightGBM] [Warning] lambda_l2 is set=0.01521493595498666, reg_lambda=0.0 will be ignored. Current value: lambda_l2=0.01521493595498666\n",
      "[LightGBM] [Warning] bagging_freq is set=5, subsample_freq=0 will be ignored. Current value: bagging_freq=5\n",
      "[LightGBM] [Warning] bagging_fraction is set=0.5082013330761542, subsample=1.0 will be ignored. Current value: bagging_fraction=0.5082013330761542\n",
      "[LightGBM] [Warning] lambda_l1 is set=2.0415768704112445, reg_alpha=0.0 will be ignored. Current value: lambda_l1=2.0415768704112445\n",
      "[LightGBM] [Warning] feature_fraction is set=0.7416457279824336, colsample_bytree=1.0 will be ignored. Current value: feature_fraction=0.7416457279824336\n",
      "[LightGBM] [Warning] lambda_l2 is set=0.01521493595498666, reg_lambda=0.0 will be ignored. Current value: lambda_l2=0.01521493595498666\n",
      "[LightGBM] [Warning] bagging_freq is set=5, subsample_freq=0 will be ignored. Current value: bagging_freq=5\n",
      "[LightGBM] [Warning] bagging_fraction is set=0.5082013330761542, subsample=1.0 will be ignored. Current value: bagging_fraction=0.5082013330761542\n",
      "[LightGBM] [Warning] lambda_l1 is set=2.0415768704112445, reg_alpha=0.0 will be ignored. Current value: lambda_l1=2.0415768704112445\n",
      "[LightGBM] [Warning] feature_fraction is set=0.7416457279824336, colsample_bytree=1.0 will be ignored. Current value: feature_fraction=0.7416457279824336\n",
      "[LightGBM] [Warning] lambda_l2 is set=0.01521493595498666, reg_lambda=0.0 will be ignored. Current value: lambda_l2=0.01521493595498666\n",
      "[LightGBM] [Warning] bagging_freq is set=5, subsample_freq=0 will be ignored. Current value: bagging_freq=5\n"
     ]
    },
    {
     "name": "stderr",
     "output_type": "stream",
     "text": [
      "\u001b[32m[I 2023-03-15 16:57:44,063]\u001b[0m Trial 46 finished with value: -0.2028830339221786 and parameters: {'lambda_l1': 2.0415768704112445, 'lambda_l2': 0.01521493595498666, 'num_leaves': 90, 'feature_fraction': 0.7416457279824336, 'bagging_fraction': 0.5082013330761542, 'bagging_freq': 5, 'min_child_samples': 67}. Best is trial 39 with value: -0.1907555870778161.\u001b[0m\n"
     ]
    },
    {
     "name": "stdout",
     "output_type": "stream",
     "text": [
      "[LightGBM] [Warning] bagging_fraction is set=0.5082013330761542, subsample=1.0 will be ignored. Current value: bagging_fraction=0.5082013330761542\n",
      "[LightGBM] [Warning] lambda_l1 is set=2.0415768704112445, reg_alpha=0.0 will be ignored. Current value: lambda_l1=2.0415768704112445\n",
      "[LightGBM] [Warning] feature_fraction is set=0.7416457279824336, colsample_bytree=1.0 will be ignored. Current value: feature_fraction=0.7416457279824336\n",
      "[LightGBM] [Warning] lambda_l2 is set=0.01521493595498666, reg_lambda=0.0 will be ignored. Current value: lambda_l2=0.01521493595498666\n",
      "[LightGBM] [Warning] bagging_freq is set=5, subsample_freq=0 will be ignored. Current value: bagging_freq=5\n",
      "[LightGBM] [Warning] bagging_fraction is set=0.5082013330761542, subsample=1.0 will be ignored. Current value: bagging_fraction=0.5082013330761542\n",
      "[LightGBM] [Warning] lambda_l1 is set=2.0415768704112445, reg_alpha=0.0 will be ignored. Current value: lambda_l1=2.0415768704112445\n",
      "[LightGBM] [Warning] feature_fraction is set=0.7416457279824336, colsample_bytree=1.0 will be ignored. Current value: feature_fraction=0.7416457279824336\n",
      "[LightGBM] [Warning] lambda_l2 is set=0.01521493595498666, reg_lambda=0.0 will be ignored. Current value: lambda_l2=0.01521493595498666\n",
      "[LightGBM] [Warning] bagging_freq is set=5, subsample_freq=0 will be ignored. Current value: bagging_freq=5\n",
      "[LightGBM] [Warning] bagging_fraction is set=0.5559652228054841, subsample=1.0 will be ignored. Current value: bagging_fraction=0.5559652228054841\n",
      "[LightGBM] [Warning] lambda_l1 is set=5.0329956160976765, reg_alpha=0.0 will be ignored. Current value: lambda_l1=5.0329956160976765\n",
      "[LightGBM] [Warning] feature_fraction is set=0.7206590381900313, colsample_bytree=1.0 will be ignored. Current value: feature_fraction=0.7206590381900313\n",
      "[LightGBM] [Warning] lambda_l2 is set=0.0002597525951838057, reg_lambda=0.0 will be ignored. Current value: lambda_l2=0.0002597525951838057\n",
      "[LightGBM] [Warning] bagging_freq is set=3, subsample_freq=0 will be ignored. Current value: bagging_freq=3\n",
      "[LightGBM] [Warning] bagging_fraction is set=0.5559652228054841, subsample=1.0 will be ignored. Current value: bagging_fraction=0.5559652228054841\n",
      "[LightGBM] [Warning] lambda_l1 is set=5.0329956160976765, reg_alpha=0.0 will be ignored. Current value: lambda_l1=5.0329956160976765\n",
      "[LightGBM] [Warning] feature_fraction is set=0.7206590381900313, colsample_bytree=1.0 will be ignored. Current value: feature_fraction=0.7206590381900313\n",
      "[LightGBM] [Warning] lambda_l2 is set=0.0002597525951838057, reg_lambda=0.0 will be ignored. Current value: lambda_l2=0.0002597525951838057\n",
      "[LightGBM] [Warning] bagging_freq is set=3, subsample_freq=0 will be ignored. Current value: bagging_freq=3\n",
      "[LightGBM] [Warning] bagging_fraction is set=0.5559652228054841, subsample=1.0 will be ignored. Current value: bagging_fraction=0.5559652228054841\n",
      "[LightGBM] [Warning] lambda_l1 is set=5.0329956160976765, reg_alpha=0.0 will be ignored. Current value: lambda_l1=5.0329956160976765\n",
      "[LightGBM] [Warning] feature_fraction is set=0.7206590381900313, colsample_bytree=1.0 will be ignored. Current value: feature_fraction=0.7206590381900313\n",
      "[LightGBM] [Warning] lambda_l2 is set=0.0002597525951838057, reg_lambda=0.0 will be ignored. Current value: lambda_l2=0.0002597525951838057\n",
      "[LightGBM] [Warning] bagging_freq is set=3, subsample_freq=0 will be ignored. Current value: bagging_freq=3\n",
      "[LightGBM] [Warning] bagging_fraction is set=0.5559652228054841, subsample=1.0 will be ignored. Current value: bagging_fraction=0.5559652228054841\n",
      "[LightGBM] [Warning] lambda_l1 is set=5.0329956160976765, reg_alpha=0.0 will be ignored. Current value: lambda_l1=5.0329956160976765\n",
      "[LightGBM] [Warning] feature_fraction is set=0.7206590381900313, colsample_bytree=1.0 will be ignored. Current value: feature_fraction=0.7206590381900313\n",
      "[LightGBM] [Warning] lambda_l2 is set=0.0002597525951838057, reg_lambda=0.0 will be ignored. Current value: lambda_l2=0.0002597525951838057\n",
      "[LightGBM] [Warning] bagging_freq is set=3, subsample_freq=0 will be ignored. Current value: bagging_freq=3\n"
     ]
    },
    {
     "name": "stderr",
     "output_type": "stream",
     "text": [
      "\u001b[32m[I 2023-03-15 16:57:44,837]\u001b[0m Trial 47 finished with value: -0.19857361152158465 and parameters: {'lambda_l1': 5.0329956160976765, 'lambda_l2': 0.0002597525951838057, 'num_leaves': 210, 'feature_fraction': 0.7206590381900313, 'bagging_fraction': 0.5559652228054841, 'bagging_freq': 3, 'min_child_samples': 96}. Best is trial 39 with value: -0.1907555870778161.\u001b[0m\n"
     ]
    },
    {
     "name": "stdout",
     "output_type": "stream",
     "text": [
      "[LightGBM] [Warning] bagging_fraction is set=0.5559652228054841, subsample=1.0 will be ignored. Current value: bagging_fraction=0.5559652228054841\n",
      "[LightGBM] [Warning] lambda_l1 is set=5.0329956160976765, reg_alpha=0.0 will be ignored. Current value: lambda_l1=5.0329956160976765\n",
      "[LightGBM] [Warning] feature_fraction is set=0.7206590381900313, colsample_bytree=1.0 will be ignored. Current value: feature_fraction=0.7206590381900313\n",
      "[LightGBM] [Warning] lambda_l2 is set=0.0002597525951838057, reg_lambda=0.0 will be ignored. Current value: lambda_l2=0.0002597525951838057\n",
      "[LightGBM] [Warning] bagging_freq is set=3, subsample_freq=0 will be ignored. Current value: bagging_freq=3\n",
      "[LightGBM] [Warning] bagging_fraction is set=0.4015607437322786, subsample=1.0 will be ignored. Current value: bagging_fraction=0.4015607437322786\n",
      "[LightGBM] [Warning] lambda_l1 is set=9.356082086225596, reg_alpha=0.0 will be ignored. Current value: lambda_l1=9.356082086225596\n",
      "[LightGBM] [Warning] feature_fraction is set=0.820283417232682, colsample_bytree=1.0 will be ignored. Current value: feature_fraction=0.820283417232682\n",
      "[LightGBM] [Warning] lambda_l2 is set=0.005491300781115999, reg_lambda=0.0 will be ignored. Current value: lambda_l2=0.005491300781115999\n",
      "[LightGBM] [Warning] bagging_freq is set=6, subsample_freq=0 will be ignored. Current value: bagging_freq=6\n",
      "[LightGBM] [Warning] bagging_fraction is set=0.4015607437322786, subsample=1.0 will be ignored. Current value: bagging_fraction=0.4015607437322786\n",
      "[LightGBM] [Warning] lambda_l1 is set=9.356082086225596, reg_alpha=0.0 will be ignored. Current value: lambda_l1=9.356082086225596\n",
      "[LightGBM] [Warning] feature_fraction is set=0.820283417232682, colsample_bytree=1.0 will be ignored. Current value: feature_fraction=0.820283417232682\n",
      "[LightGBM] [Warning] lambda_l2 is set=0.005491300781115999, reg_lambda=0.0 will be ignored. Current value: lambda_l2=0.005491300781115999\n",
      "[LightGBM] [Warning] bagging_freq is set=6, subsample_freq=0 will be ignored. Current value: bagging_freq=6\n"
     ]
    },
    {
     "name": "stderr",
     "output_type": "stream",
     "text": [
      "\u001b[32m[I 2023-03-15 16:57:45,194]\u001b[0m Trial 48 finished with value: -0.19368840722946384 and parameters: {'lambda_l1': 9.356082086225596, 'lambda_l2': 0.005491300781115999, 'num_leaves': 246, 'feature_fraction': 0.820283417232682, 'bagging_fraction': 0.4015607437322786, 'bagging_freq': 6, 'min_child_samples': 51}. Best is trial 39 with value: -0.1907555870778161.\u001b[0m\n"
     ]
    },
    {
     "name": "stdout",
     "output_type": "stream",
     "text": [
      "[LightGBM] [Warning] bagging_fraction is set=0.4015607437322786, subsample=1.0 will be ignored. Current value: bagging_fraction=0.4015607437322786\n",
      "[LightGBM] [Warning] lambda_l1 is set=9.356082086225596, reg_alpha=0.0 will be ignored. Current value: lambda_l1=9.356082086225596\n",
      "[LightGBM] [Warning] feature_fraction is set=0.820283417232682, colsample_bytree=1.0 will be ignored. Current value: feature_fraction=0.820283417232682\n",
      "[LightGBM] [Warning] lambda_l2 is set=0.005491300781115999, reg_lambda=0.0 will be ignored. Current value: lambda_l2=0.005491300781115999\n",
      "[LightGBM] [Warning] bagging_freq is set=6, subsample_freq=0 will be ignored. Current value: bagging_freq=6\n",
      "[LightGBM] [Warning] bagging_fraction is set=0.4015607437322786, subsample=1.0 will be ignored. Current value: bagging_fraction=0.4015607437322786\n",
      "[LightGBM] [Warning] lambda_l1 is set=9.356082086225596, reg_alpha=0.0 will be ignored. Current value: lambda_l1=9.356082086225596\n",
      "[LightGBM] [Warning] feature_fraction is set=0.820283417232682, colsample_bytree=1.0 will be ignored. Current value: feature_fraction=0.820283417232682\n",
      "[LightGBM] [Warning] lambda_l2 is set=0.005491300781115999, reg_lambda=0.0 will be ignored. Current value: lambda_l2=0.005491300781115999\n",
      "[LightGBM] [Warning] bagging_freq is set=6, subsample_freq=0 will be ignored. Current value: bagging_freq=6\n",
      "[LightGBM] [Warning] bagging_fraction is set=0.4015607437322786, subsample=1.0 will be ignored. Current value: bagging_fraction=0.4015607437322786\n",
      "[LightGBM] [Warning] lambda_l1 is set=9.356082086225596, reg_alpha=0.0 will be ignored. Current value: lambda_l1=9.356082086225596\n",
      "[LightGBM] [Warning] feature_fraction is set=0.820283417232682, colsample_bytree=1.0 will be ignored. Current value: feature_fraction=0.820283417232682\n",
      "[LightGBM] [Warning] lambda_l2 is set=0.005491300781115999, reg_lambda=0.0 will be ignored. Current value: lambda_l2=0.005491300781115999\n",
      "[LightGBM] [Warning] bagging_freq is set=6, subsample_freq=0 will be ignored. Current value: bagging_freq=6\n",
      "[LightGBM] [Warning] bagging_fraction is set=0.5896264764485535, subsample=1.0 will be ignored. Current value: bagging_fraction=0.5896264764485535\n",
      "[LightGBM] [Warning] lambda_l1 is set=0.7261569143765347, reg_alpha=0.0 will be ignored. Current value: lambda_l1=0.7261569143765347\n",
      "[LightGBM] [Warning] feature_fraction is set=0.7648610966615423, colsample_bytree=1.0 will be ignored. Current value: feature_fraction=0.7648610966615423\n",
      "[LightGBM] [Warning] lambda_l2 is set=0.0208724566511487, reg_lambda=0.0 will be ignored. Current value: lambda_l2=0.0208724566511487\n",
      "[LightGBM] [Warning] bagging_freq is set=2, subsample_freq=0 will be ignored. Current value: bagging_freq=2\n",
      "[LightGBM] [Warning] bagging_fraction is set=0.5896264764485535, subsample=1.0 will be ignored. Current value: bagging_fraction=0.5896264764485535\n",
      "[LightGBM] [Warning] lambda_l1 is set=0.7261569143765347, reg_alpha=0.0 will be ignored. Current value: lambda_l1=0.7261569143765347\n",
      "[LightGBM] [Warning] feature_fraction is set=0.7648610966615423, colsample_bytree=1.0 will be ignored. Current value: feature_fraction=0.7648610966615423\n",
      "[LightGBM] [Warning] lambda_l2 is set=0.0208724566511487, reg_lambda=0.0 will be ignored. Current value: lambda_l2=0.0208724566511487\n",
      "[LightGBM] [Warning] bagging_freq is set=2, subsample_freq=0 will be ignored. Current value: bagging_freq=2\n",
      "[LightGBM] [Warning] bagging_fraction is set=0.5896264764485535, subsample=1.0 will be ignored. Current value: bagging_fraction=0.5896264764485535\n",
      "[LightGBM] [Warning] lambda_l1 is set=0.7261569143765347, reg_alpha=0.0 will be ignored. Current value: lambda_l1=0.7261569143765347\n",
      "[LightGBM] [Warning] feature_fraction is set=0.7648610966615423, colsample_bytree=1.0 will be ignored. Current value: feature_fraction=0.7648610966615423\n",
      "[LightGBM] [Warning] lambda_l2 is set=0.0208724566511487, reg_lambda=0.0 will be ignored. Current value: lambda_l2=0.0208724566511487\n",
      "[LightGBM] [Warning] bagging_freq is set=2, subsample_freq=0 will be ignored. Current value: bagging_freq=2\n",
      "[LightGBM] [Warning] bagging_fraction is set=0.5896264764485535, subsample=1.0 will be ignored. Current value: bagging_fraction=0.5896264764485535\n",
      "[LightGBM] [Warning] lambda_l1 is set=0.7261569143765347, reg_alpha=0.0 will be ignored. Current value: lambda_l1=0.7261569143765347\n",
      "[LightGBM] [Warning] feature_fraction is set=0.7648610966615423, colsample_bytree=1.0 will be ignored. Current value: feature_fraction=0.7648610966615423\n",
      "[LightGBM] [Warning] lambda_l2 is set=0.0208724566511487, reg_lambda=0.0 will be ignored. Current value: lambda_l2=0.0208724566511487\n",
      "[LightGBM] [Warning] bagging_freq is set=2, subsample_freq=0 will be ignored. Current value: bagging_freq=2\n",
      "[LightGBM] [Warning] bagging_fraction is set=0.5896264764485535, subsample=1.0 will be ignored. Current value: bagging_fraction=0.5896264764485535\n",
      "[LightGBM] [Warning] lambda_l1 is set=0.7261569143765347, reg_alpha=0.0 will be ignored. Current value: lambda_l1=0.7261569143765347\n",
      "[LightGBM] [Warning] feature_fraction is set=0.7648610966615423, colsample_bytree=1.0 will be ignored. Current value: feature_fraction=0.7648610966615423\n",
      "[LightGBM] [Warning] lambda_l2 is set=0.0208724566511487, reg_lambda=0.0 will be ignored. Current value: lambda_l2=0.0208724566511487\n",
      "[LightGBM] [Warning] bagging_freq is set=2, subsample_freq=0 will be ignored. Current value: bagging_freq=2\n"
     ]
    },
    {
     "name": "stderr",
     "output_type": "stream",
     "text": [
      "\u001b[32m[I 2023-03-15 16:57:46,250]\u001b[0m Trial 49 finished with value: -0.23126175905589935 and parameters: {'lambda_l1': 0.7261569143765347, 'lambda_l2': 0.0208724566511487, 'num_leaves': 194, 'feature_fraction': 0.7648610966615423, 'bagging_fraction': 0.5896264764485535, 'bagging_freq': 2, 'min_child_samples': 14}. Best is trial 39 with value: -0.1907555870778161.\u001b[0m\n"
     ]
    },
    {
     "name": "stdout",
     "output_type": "stream",
     "text": [
      "[LightGBM] [Warning] bagging_fraction is set=0.5215749557139573, subsample=1.0 will be ignored. Current value: bagging_fraction=0.5215749557139573\n",
      "[LightGBM] [Warning] lambda_l1 is set=2.9687746810969795, reg_alpha=0.0 will be ignored. Current value: lambda_l1=2.9687746810969795\n",
      "[LightGBM] [Warning] feature_fraction is set=0.8396003071933273, colsample_bytree=1.0 will be ignored. Current value: feature_fraction=0.8396003071933273\n",
      "[LightGBM] [Warning] lambda_l2 is set=0.060432955262728016, reg_lambda=0.0 will be ignored. Current value: lambda_l2=0.060432955262728016\n",
      "[LightGBM] [Warning] bagging_freq is set=7, subsample_freq=0 will be ignored. Current value: bagging_freq=7\n",
      "[LightGBM] [Warning] bagging_fraction is set=0.5215749557139573, subsample=1.0 will be ignored. Current value: bagging_fraction=0.5215749557139573\n",
      "[LightGBM] [Warning] lambda_l1 is set=2.9687746810969795, reg_alpha=0.0 will be ignored. Current value: lambda_l1=2.9687746810969795\n",
      "[LightGBM] [Warning] feature_fraction is set=0.8396003071933273, colsample_bytree=1.0 will be ignored. Current value: feature_fraction=0.8396003071933273\n",
      "[LightGBM] [Warning] lambda_l2 is set=0.060432955262728016, reg_lambda=0.0 will be ignored. Current value: lambda_l2=0.060432955262728016\n",
      "[LightGBM] [Warning] bagging_freq is set=7, subsample_freq=0 will be ignored. Current value: bagging_freq=7\n",
      "[LightGBM] [Warning] bagging_fraction is set=0.5215749557139573, subsample=1.0 will be ignored. Current value: bagging_fraction=0.5215749557139573\n",
      "[LightGBM] [Warning] lambda_l1 is set=2.9687746810969795, reg_alpha=0.0 will be ignored. Current value: lambda_l1=2.9687746810969795\n",
      "[LightGBM] [Warning] feature_fraction is set=0.8396003071933273, colsample_bytree=1.0 will be ignored. Current value: feature_fraction=0.8396003071933273\n",
      "[LightGBM] [Warning] lambda_l2 is set=0.060432955262728016, reg_lambda=0.0 will be ignored. Current value: lambda_l2=0.060432955262728016\n",
      "[LightGBM] [Warning] bagging_freq is set=7, subsample_freq=0 will be ignored. Current value: bagging_freq=7\n"
     ]
    },
    {
     "name": "stderr",
     "output_type": "stream",
     "text": [
      "\u001b[32m[I 2023-03-15 16:57:46,652]\u001b[0m Trial 50 finished with value: -0.2002786081859716 and parameters: {'lambda_l1': 2.9687746810969795, 'lambda_l2': 0.060432955262728016, 'num_leaves': 228, 'feature_fraction': 0.8396003071933273, 'bagging_fraction': 0.5215749557139573, 'bagging_freq': 7, 'min_child_samples': 77}. Best is trial 39 with value: -0.1907555870778161.\u001b[0m\n"
     ]
    },
    {
     "name": "stdout",
     "output_type": "stream",
     "text": [
      "[LightGBM] [Warning] bagging_fraction is set=0.5215749557139573, subsample=1.0 will be ignored. Current value: bagging_fraction=0.5215749557139573\n",
      "[LightGBM] [Warning] lambda_l1 is set=2.9687746810969795, reg_alpha=0.0 will be ignored. Current value: lambda_l1=2.9687746810969795\n",
      "[LightGBM] [Warning] feature_fraction is set=0.8396003071933273, colsample_bytree=1.0 will be ignored. Current value: feature_fraction=0.8396003071933273\n",
      "[LightGBM] [Warning] lambda_l2 is set=0.060432955262728016, reg_lambda=0.0 will be ignored. Current value: lambda_l2=0.060432955262728016\n",
      "[LightGBM] [Warning] bagging_freq is set=7, subsample_freq=0 will be ignored. Current value: bagging_freq=7\n",
      "[LightGBM] [Warning] bagging_fraction is set=0.5215749557139573, subsample=1.0 will be ignored. Current value: bagging_fraction=0.5215749557139573\n",
      "[LightGBM] [Warning] lambda_l1 is set=2.9687746810969795, reg_alpha=0.0 will be ignored. Current value: lambda_l1=2.9687746810969795\n",
      "[LightGBM] [Warning] feature_fraction is set=0.8396003071933273, colsample_bytree=1.0 will be ignored. Current value: feature_fraction=0.8396003071933273\n",
      "[LightGBM] [Warning] lambda_l2 is set=0.060432955262728016, reg_lambda=0.0 will be ignored. Current value: lambda_l2=0.060432955262728016\n",
      "[LightGBM] [Warning] bagging_freq is set=7, subsample_freq=0 will be ignored. Current value: bagging_freq=7\n",
      "[LightGBM] [Warning] bagging_fraction is set=0.4601147045533004, subsample=1.0 will be ignored. Current value: bagging_fraction=0.4601147045533004\n",
      "[LightGBM] [Warning] lambda_l1 is set=8.580986307116083, reg_alpha=0.0 will be ignored. Current value: lambda_l1=8.580986307116083\n",
      "[LightGBM] [Warning] feature_fraction is set=0.9758789358216442, colsample_bytree=1.0 will be ignored. Current value: feature_fraction=0.9758789358216442\n",
      "[LightGBM] [Warning] lambda_l2 is set=0.13194106217837365, reg_lambda=0.0 will be ignored. Current value: lambda_l2=0.13194106217837365\n",
      "[LightGBM] [Warning] bagging_freq is set=2, subsample_freq=0 will be ignored. Current value: bagging_freq=2\n",
      "[LightGBM] [Warning] bagging_fraction is set=0.4601147045533004, subsample=1.0 will be ignored. Current value: bagging_fraction=0.4601147045533004\n",
      "[LightGBM] [Warning] lambda_l1 is set=8.580986307116083, reg_alpha=0.0 will be ignored. Current value: lambda_l1=8.580986307116083\n",
      "[LightGBM] [Warning] feature_fraction is set=0.9758789358216442, colsample_bytree=1.0 will be ignored. Current value: feature_fraction=0.9758789358216442\n",
      "[LightGBM] [Warning] lambda_l2 is set=0.13194106217837365, reg_lambda=0.0 will be ignored. Current value: lambda_l2=0.13194106217837365\n",
      "[LightGBM] [Warning] bagging_freq is set=2, subsample_freq=0 will be ignored. Current value: bagging_freq=2\n",
      "[LightGBM] [Warning] bagging_fraction is set=0.4601147045533004, subsample=1.0 will be ignored. Current value: bagging_fraction=0.4601147045533004\n",
      "[LightGBM] [Warning] lambda_l1 is set=8.580986307116083, reg_alpha=0.0 will be ignored. Current value: lambda_l1=8.580986307116083\n",
      "[LightGBM] [Warning] feature_fraction is set=0.9758789358216442, colsample_bytree=1.0 will be ignored. Current value: feature_fraction=0.9758789358216442\n",
      "[LightGBM] [Warning] lambda_l2 is set=0.13194106217837365, reg_lambda=0.0 will be ignored. Current value: lambda_l2=0.13194106217837365\n",
      "[LightGBM] [Warning] bagging_freq is set=2, subsample_freq=0 will be ignored. Current value: bagging_freq=2\n",
      "[LightGBM] [Warning] bagging_fraction is set=0.4601147045533004, subsample=1.0 will be ignored. Current value: bagging_fraction=0.4601147045533004\n",
      "[LightGBM] [Warning] lambda_l1 is set=8.580986307116083, reg_alpha=0.0 will be ignored. Current value: lambda_l1=8.580986307116083\n",
      "[LightGBM] [Warning] feature_fraction is set=0.9758789358216442, colsample_bytree=1.0 will be ignored. Current value: feature_fraction=0.9758789358216442\n",
      "[LightGBM] [Warning] lambda_l2 is set=0.13194106217837365, reg_lambda=0.0 will be ignored. Current value: lambda_l2=0.13194106217837365\n",
      "[LightGBM] [Warning] bagging_freq is set=2, subsample_freq=0 will be ignored. Current value: bagging_freq=2\n",
      "[LightGBM] [Warning] bagging_fraction is set=0.4601147045533004, subsample=1.0 will be ignored. Current value: bagging_fraction=0.4601147045533004\n",
      "[LightGBM] [Warning] lambda_l1 is set=8.580986307116083, reg_alpha=0.0 will be ignored. Current value: lambda_l1=8.580986307116083\n",
      "[LightGBM] [Warning] feature_fraction is set=0.9758789358216442, colsample_bytree=1.0 will be ignored. Current value: feature_fraction=0.9758789358216442\n",
      "[LightGBM] [Warning] lambda_l2 is set=0.13194106217837365, reg_lambda=0.0 will be ignored. Current value: lambda_l2=0.13194106217837365\n",
      "[LightGBM] [Warning] bagging_freq is set=2, subsample_freq=0 will be ignored. Current value: bagging_freq=2\n"
     ]
    },
    {
     "name": "stderr",
     "output_type": "stream",
     "text": [
      "\u001b[32m[I 2023-03-15 16:57:47,012]\u001b[0m Trial 51 finished with value: -0.19302123704327873 and parameters: {'lambda_l1': 8.580986307116083, 'lambda_l2': 0.13194106217837365, 'num_leaves': 241, 'feature_fraction': 0.9758789358216442, 'bagging_fraction': 0.4601147045533004, 'bagging_freq': 2, 'min_child_samples': 82}. Best is trial 39 with value: -0.1907555870778161.\u001b[0m\n"
     ]
    },
    {
     "name": "stdout",
     "output_type": "stream",
     "text": [
      "[LightGBM] [Warning] bagging_fraction is set=0.4467291751773264, subsample=1.0 will be ignored. Current value: bagging_fraction=0.4467291751773264\n",
      "[LightGBM] [Warning] lambda_l1 is set=4.155673957510298, reg_alpha=0.0 will be ignored. Current value: lambda_l1=4.155673957510298\n",
      "[LightGBM] [Warning] feature_fraction is set=0.9071085833350554, colsample_bytree=1.0 will be ignored. Current value: feature_fraction=0.9071085833350554\n",
      "[LightGBM] [Warning] lambda_l2 is set=0.02487395295926857, reg_lambda=0.0 will be ignored. Current value: lambda_l2=0.02487395295926857\n",
      "[LightGBM] [Warning] bagging_freq is set=3, subsample_freq=0 will be ignored. Current value: bagging_freq=3\n",
      "[LightGBM] [Warning] bagging_fraction is set=0.4467291751773264, subsample=1.0 will be ignored. Current value: bagging_fraction=0.4467291751773264\n",
      "[LightGBM] [Warning] lambda_l1 is set=4.155673957510298, reg_alpha=0.0 will be ignored. Current value: lambda_l1=4.155673957510298\n",
      "[LightGBM] [Warning] feature_fraction is set=0.9071085833350554, colsample_bytree=1.0 will be ignored. Current value: feature_fraction=0.9071085833350554\n",
      "[LightGBM] [Warning] lambda_l2 is set=0.02487395295926857, reg_lambda=0.0 will be ignored. Current value: lambda_l2=0.02487395295926857\n",
      "[LightGBM] [Warning] bagging_freq is set=3, subsample_freq=0 will be ignored. Current value: bagging_freq=3\n",
      "[LightGBM] [Warning] bagging_fraction is set=0.4467291751773264, subsample=1.0 will be ignored. Current value: bagging_fraction=0.4467291751773264\n",
      "[LightGBM] [Warning] lambda_l1 is set=4.155673957510298, reg_alpha=0.0 will be ignored. Current value: lambda_l1=4.155673957510298\n",
      "[LightGBM] [Warning] feature_fraction is set=0.9071085833350554, colsample_bytree=1.0 will be ignored. Current value: feature_fraction=0.9071085833350554\n",
      "[LightGBM] [Warning] lambda_l2 is set=0.02487395295926857, reg_lambda=0.0 will be ignored. Current value: lambda_l2=0.02487395295926857\n",
      "[LightGBM] [Warning] bagging_freq is set=3, subsample_freq=0 will be ignored. Current value: bagging_freq=3\n"
     ]
    },
    {
     "name": "stderr",
     "output_type": "stream",
     "text": [
      "\u001b[32m[I 2023-03-15 16:57:47,411]\u001b[0m Trial 52 finished with value: -0.2008688909023027 and parameters: {'lambda_l1': 4.155673957510298, 'lambda_l2': 0.02487395295926857, 'num_leaves': 255, 'feature_fraction': 0.9071085833350554, 'bagging_fraction': 0.4467291751773264, 'bagging_freq': 3, 'min_child_samples': 73}. Best is trial 39 with value: -0.1907555870778161.\u001b[0m\n"
     ]
    },
    {
     "name": "stdout",
     "output_type": "stream",
     "text": [
      "[LightGBM] [Warning] bagging_fraction is set=0.4467291751773264, subsample=1.0 will be ignored. Current value: bagging_fraction=0.4467291751773264\n",
      "[LightGBM] [Warning] lambda_l1 is set=4.155673957510298, reg_alpha=0.0 will be ignored. Current value: lambda_l1=4.155673957510298\n",
      "[LightGBM] [Warning] feature_fraction is set=0.9071085833350554, colsample_bytree=1.0 will be ignored. Current value: feature_fraction=0.9071085833350554\n",
      "[LightGBM] [Warning] lambda_l2 is set=0.02487395295926857, reg_lambda=0.0 will be ignored. Current value: lambda_l2=0.02487395295926857\n",
      "[LightGBM] [Warning] bagging_freq is set=3, subsample_freq=0 will be ignored. Current value: bagging_freq=3\n",
      "[LightGBM] [Warning] bagging_fraction is set=0.4467291751773264, subsample=1.0 will be ignored. Current value: bagging_fraction=0.4467291751773264\n",
      "[LightGBM] [Warning] lambda_l1 is set=4.155673957510298, reg_alpha=0.0 will be ignored. Current value: lambda_l1=4.155673957510298\n",
      "[LightGBM] [Warning] feature_fraction is set=0.9071085833350554, colsample_bytree=1.0 will be ignored. Current value: feature_fraction=0.9071085833350554\n",
      "[LightGBM] [Warning] lambda_l2 is set=0.02487395295926857, reg_lambda=0.0 will be ignored. Current value: lambda_l2=0.02487395295926857\n",
      "[LightGBM] [Warning] bagging_freq is set=3, subsample_freq=0 will be ignored. Current value: bagging_freq=3\n",
      "[LightGBM] [Warning] bagging_fraction is set=0.49165750483207477, subsample=1.0 will be ignored. Current value: bagging_fraction=0.49165750483207477\n",
      "[LightGBM] [Warning] lambda_l1 is set=1.1119911366736435, reg_alpha=0.0 will be ignored. Current value: lambda_l1=1.1119911366736435\n",
      "[LightGBM] [Warning] feature_fraction is set=0.8631180536410692, colsample_bytree=1.0 will be ignored. Current value: feature_fraction=0.8631180536410692\n",
      "[LightGBM] [Warning] lambda_l2 is set=0.001822204462016769, reg_lambda=0.0 will be ignored. Current value: lambda_l2=0.001822204462016769\n",
      "[LightGBM] [Warning] bagging_freq is set=2, subsample_freq=0 will be ignored. Current value: bagging_freq=2\n",
      "[LightGBM] [Warning] bagging_fraction is set=0.49165750483207477, subsample=1.0 will be ignored. Current value: bagging_fraction=0.49165750483207477\n",
      "[LightGBM] [Warning] lambda_l1 is set=1.1119911366736435, reg_alpha=0.0 will be ignored. Current value: lambda_l1=1.1119911366736435\n",
      "[LightGBM] [Warning] feature_fraction is set=0.8631180536410692, colsample_bytree=1.0 will be ignored. Current value: feature_fraction=0.8631180536410692\n",
      "[LightGBM] [Warning] lambda_l2 is set=0.001822204462016769, reg_lambda=0.0 will be ignored. Current value: lambda_l2=0.001822204462016769\n",
      "[LightGBM] [Warning] bagging_freq is set=2, subsample_freq=0 will be ignored. Current value: bagging_freq=2\n",
      "[LightGBM] [Warning] bagging_fraction is set=0.49165750483207477, subsample=1.0 will be ignored. Current value: bagging_fraction=0.49165750483207477\n",
      "[LightGBM] [Warning] lambda_l1 is set=1.1119911366736435, reg_alpha=0.0 will be ignored. Current value: lambda_l1=1.1119911366736435\n",
      "[LightGBM] [Warning] feature_fraction is set=0.8631180536410692, colsample_bytree=1.0 will be ignored. Current value: feature_fraction=0.8631180536410692\n",
      "[LightGBM] [Warning] lambda_l2 is set=0.001822204462016769, reg_lambda=0.0 will be ignored. Current value: lambda_l2=0.001822204462016769\n",
      "[LightGBM] [Warning] bagging_freq is set=2, subsample_freq=0 will be ignored. Current value: bagging_freq=2\n",
      "[LightGBM] [Warning] bagging_fraction is set=0.49165750483207477, subsample=1.0 will be ignored. Current value: bagging_fraction=0.49165750483207477\n",
      "[LightGBM] [Warning] lambda_l1 is set=1.1119911366736435, reg_alpha=0.0 will be ignored. Current value: lambda_l1=1.1119911366736435\n",
      "[LightGBM] [Warning] feature_fraction is set=0.8631180536410692, colsample_bytree=1.0 will be ignored. Current value: feature_fraction=0.8631180536410692\n",
      "[LightGBM] [Warning] lambda_l2 is set=0.001822204462016769, reg_lambda=0.0 will be ignored. Current value: lambda_l2=0.001822204462016769\n",
      "[LightGBM] [Warning] bagging_freq is set=2, subsample_freq=0 will be ignored. Current value: bagging_freq=2\n"
     ]
    },
    {
     "name": "stderr",
     "output_type": "stream",
     "text": [
      "\u001b[32m[I 2023-03-15 16:57:47,800]\u001b[0m Trial 53 finished with value: -0.2015622010604831 and parameters: {'lambda_l1': 1.1119911366736435, 'lambda_l2': 0.001822204462016769, 'num_leaves': 233, 'feature_fraction': 0.8631180536410692, 'bagging_fraction': 0.49165750483207477, 'bagging_freq': 2, 'min_child_samples': 90}. Best is trial 39 with value: -0.1907555870778161.\u001b[0m\n"
     ]
    },
    {
     "name": "stdout",
     "output_type": "stream",
     "text": [
      "[LightGBM] [Warning] bagging_fraction is set=0.49165750483207477, subsample=1.0 will be ignored. Current value: bagging_fraction=0.49165750483207477\n",
      "[LightGBM] [Warning] lambda_l1 is set=1.1119911366736435, reg_alpha=0.0 will be ignored. Current value: lambda_l1=1.1119911366736435\n",
      "[LightGBM] [Warning] feature_fraction is set=0.8631180536410692, colsample_bytree=1.0 will be ignored. Current value: feature_fraction=0.8631180536410692\n",
      "[LightGBM] [Warning] lambda_l2 is set=0.001822204462016769, reg_lambda=0.0 will be ignored. Current value: lambda_l2=0.001822204462016769\n",
      "[LightGBM] [Warning] bagging_freq is set=2, subsample_freq=0 will be ignored. Current value: bagging_freq=2\n",
      "[LightGBM] [Warning] bagging_fraction is set=0.42157056463847414, subsample=1.0 will be ignored. Current value: bagging_fraction=0.42157056463847414\n",
      "[LightGBM] [Warning] lambda_l1 is set=9.9065570809858, reg_alpha=0.0 will be ignored. Current value: lambda_l1=9.9065570809858\n",
      "[LightGBM] [Warning] feature_fraction is set=0.9155329084937504, colsample_bytree=1.0 will be ignored. Current value: feature_fraction=0.9155329084937504\n",
      "[LightGBM] [Warning] lambda_l2 is set=0.06517302440539165, reg_lambda=0.0 will be ignored. Current value: lambda_l2=0.06517302440539165\n",
      "[LightGBM] [Warning] bagging_freq is set=1, subsample_freq=0 will be ignored. Current value: bagging_freq=1\n",
      "[LightGBM] [Warning] bagging_fraction is set=0.42157056463847414, subsample=1.0 will be ignored. Current value: bagging_fraction=0.42157056463847414\n",
      "[LightGBM] [Warning] lambda_l1 is set=9.9065570809858, reg_alpha=0.0 will be ignored. Current value: lambda_l1=9.9065570809858\n",
      "[LightGBM] [Warning] feature_fraction is set=0.9155329084937504, colsample_bytree=1.0 will be ignored. Current value: feature_fraction=0.9155329084937504\n",
      "[LightGBM] [Warning] lambda_l2 is set=0.06517302440539165, reg_lambda=0.0 will be ignored. Current value: lambda_l2=0.06517302440539165\n",
      "[LightGBM] [Warning] bagging_freq is set=1, subsample_freq=0 will be ignored. Current value: bagging_freq=1\n"
     ]
    },
    {
     "name": "stderr",
     "output_type": "stream",
     "text": [
      "\u001b[32m[I 2023-03-15 16:57:48,159]\u001b[0m Trial 54 finished with value: -0.1912362994832386 and parameters: {'lambda_l1': 9.9065570809858, 'lambda_l2': 0.06517302440539165, 'num_leaves': 214, 'feature_fraction': 0.9155329084937504, 'bagging_fraction': 0.42157056463847414, 'bagging_freq': 1, 'min_child_samples': 66}. Best is trial 39 with value: -0.1907555870778161.\u001b[0m\n"
     ]
    },
    {
     "name": "stdout",
     "output_type": "stream",
     "text": [
      "[LightGBM] [Warning] bagging_fraction is set=0.42157056463847414, subsample=1.0 will be ignored. Current value: bagging_fraction=0.42157056463847414\n",
      "[LightGBM] [Warning] lambda_l1 is set=9.9065570809858, reg_alpha=0.0 will be ignored. Current value: lambda_l1=9.9065570809858\n",
      "[LightGBM] [Warning] feature_fraction is set=0.9155329084937504, colsample_bytree=1.0 will be ignored. Current value: feature_fraction=0.9155329084937504\n",
      "[LightGBM] [Warning] lambda_l2 is set=0.06517302440539165, reg_lambda=0.0 will be ignored. Current value: lambda_l2=0.06517302440539165\n",
      "[LightGBM] [Warning] bagging_freq is set=1, subsample_freq=0 will be ignored. Current value: bagging_freq=1\n",
      "[LightGBM] [Warning] bagging_fraction is set=0.42157056463847414, subsample=1.0 will be ignored. Current value: bagging_fraction=0.42157056463847414\n",
      "[LightGBM] [Warning] lambda_l1 is set=9.9065570809858, reg_alpha=0.0 will be ignored. Current value: lambda_l1=9.9065570809858\n",
      "[LightGBM] [Warning] feature_fraction is set=0.9155329084937504, colsample_bytree=1.0 will be ignored. Current value: feature_fraction=0.9155329084937504\n",
      "[LightGBM] [Warning] lambda_l2 is set=0.06517302440539165, reg_lambda=0.0 will be ignored. Current value: lambda_l2=0.06517302440539165\n",
      "[LightGBM] [Warning] bagging_freq is set=1, subsample_freq=0 will be ignored. Current value: bagging_freq=1\n",
      "[LightGBM] [Warning] bagging_fraction is set=0.42157056463847414, subsample=1.0 will be ignored. Current value: bagging_fraction=0.42157056463847414\n",
      "[LightGBM] [Warning] lambda_l1 is set=9.9065570809858, reg_alpha=0.0 will be ignored. Current value: lambda_l1=9.9065570809858\n",
      "[LightGBM] [Warning] feature_fraction is set=0.9155329084937504, colsample_bytree=1.0 will be ignored. Current value: feature_fraction=0.9155329084937504\n",
      "[LightGBM] [Warning] lambda_l2 is set=0.06517302440539165, reg_lambda=0.0 will be ignored. Current value: lambda_l2=0.06517302440539165\n",
      "[LightGBM] [Warning] bagging_freq is set=1, subsample_freq=0 will be ignored. Current value: bagging_freq=1\n",
      "[LightGBM] [Warning] bagging_fraction is set=0.42640632686782, subsample=1.0 will be ignored. Current value: bagging_fraction=0.42640632686782\n",
      "[LightGBM] [Warning] lambda_l1 is set=0.29910712310680326, reg_alpha=0.0 will be ignored. Current value: lambda_l1=0.29910712310680326\n",
      "[LightGBM] [Warning] feature_fraction is set=0.8849961529658691, colsample_bytree=1.0 will be ignored. Current value: feature_fraction=0.8849961529658691\n",
      "[LightGBM] [Warning] lambda_l2 is set=0.006154265389519576, reg_lambda=0.0 will be ignored. Current value: lambda_l2=0.006154265389519576\n",
      "[LightGBM] [Warning] bagging_freq is set=1, subsample_freq=0 will be ignored. Current value: bagging_freq=1\n",
      "[LightGBM] [Warning] bagging_fraction is set=0.42640632686782, subsample=1.0 will be ignored. Current value: bagging_fraction=0.42640632686782\n",
      "[LightGBM] [Warning] lambda_l1 is set=0.29910712310680326, reg_alpha=0.0 will be ignored. Current value: lambda_l1=0.29910712310680326\n",
      "[LightGBM] [Warning] feature_fraction is set=0.8849961529658691, colsample_bytree=1.0 will be ignored. Current value: feature_fraction=0.8849961529658691\n",
      "[LightGBM] [Warning] lambda_l2 is set=0.006154265389519576, reg_lambda=0.0 will be ignored. Current value: lambda_l2=0.006154265389519576\n",
      "[LightGBM] [Warning] bagging_freq is set=1, subsample_freq=0 will be ignored. Current value: bagging_freq=1\n",
      "[LightGBM] [Warning] bagging_fraction is set=0.42640632686782, subsample=1.0 will be ignored. Current value: bagging_fraction=0.42640632686782\n",
      "[LightGBM] [Warning] lambda_l1 is set=0.29910712310680326, reg_alpha=0.0 will be ignored. Current value: lambda_l1=0.29910712310680326\n",
      "[LightGBM] [Warning] feature_fraction is set=0.8849961529658691, colsample_bytree=1.0 will be ignored. Current value: feature_fraction=0.8849961529658691\n",
      "[LightGBM] [Warning] lambda_l2 is set=0.006154265389519576, reg_lambda=0.0 will be ignored. Current value: lambda_l2=0.006154265389519576\n",
      "[LightGBM] [Warning] bagging_freq is set=1, subsample_freq=0 will be ignored. Current value: bagging_freq=1\n"
     ]
    },
    {
     "name": "stderr",
     "output_type": "stream",
     "text": [
      "\u001b[32m[I 2023-03-15 16:57:48,595]\u001b[0m Trial 55 finished with value: -0.20634500398039343 and parameters: {'lambda_l1': 0.29910712310680326, 'lambda_l2': 0.006154265389519576, 'num_leaves': 215, 'feature_fraction': 0.8849961529658691, 'bagging_fraction': 0.42640632686782, 'bagging_freq': 1, 'min_child_samples': 65}. Best is trial 39 with value: -0.1907555870778161.\u001b[0m\n"
     ]
    },
    {
     "name": "stdout",
     "output_type": "stream",
     "text": [
      "[LightGBM] [Warning] bagging_fraction is set=0.42640632686782, subsample=1.0 will be ignored. Current value: bagging_fraction=0.42640632686782\n",
      "[LightGBM] [Warning] lambda_l1 is set=0.29910712310680326, reg_alpha=0.0 will be ignored. Current value: lambda_l1=0.29910712310680326\n",
      "[LightGBM] [Warning] feature_fraction is set=0.8849961529658691, colsample_bytree=1.0 will be ignored. Current value: feature_fraction=0.8849961529658691\n",
      "[LightGBM] [Warning] lambda_l2 is set=0.006154265389519576, reg_lambda=0.0 will be ignored. Current value: lambda_l2=0.006154265389519576\n",
      "[LightGBM] [Warning] bagging_freq is set=1, subsample_freq=0 will be ignored. Current value: bagging_freq=1\n",
      "[LightGBM] [Warning] bagging_fraction is set=0.42640632686782, subsample=1.0 will be ignored. Current value: bagging_fraction=0.42640632686782\n",
      "[LightGBM] [Warning] lambda_l1 is set=0.29910712310680326, reg_alpha=0.0 will be ignored. Current value: lambda_l1=0.29910712310680326\n",
      "[LightGBM] [Warning] feature_fraction is set=0.8849961529658691, colsample_bytree=1.0 will be ignored. Current value: feature_fraction=0.8849961529658691\n",
      "[LightGBM] [Warning] lambda_l2 is set=0.006154265389519576, reg_lambda=0.0 will be ignored. Current value: lambda_l2=0.006154265389519576\n",
      "[LightGBM] [Warning] bagging_freq is set=1, subsample_freq=0 will be ignored. Current value: bagging_freq=1\n",
      "[LightGBM] [Warning] bagging_fraction is set=0.40010717505382204, subsample=1.0 will be ignored. Current value: bagging_fraction=0.40010717505382204\n",
      "[LightGBM] [Warning] lambda_l1 is set=2.3837679243410843, reg_alpha=0.0 will be ignored. Current value: lambda_l1=2.3837679243410843\n",
      "[LightGBM] [Warning] feature_fraction is set=0.9190457698504915, colsample_bytree=1.0 will be ignored. Current value: feature_fraction=0.9190457698504915\n",
      "[LightGBM] [Warning] lambda_l2 is set=0.05078933457531394, reg_lambda=0.0 will be ignored. Current value: lambda_l2=0.05078933457531394\n",
      "[LightGBM] [Warning] bagging_freq is set=1, subsample_freq=0 will be ignored. Current value: bagging_freq=1\n",
      "[LightGBM] [Warning] bagging_fraction is set=0.40010717505382204, subsample=1.0 will be ignored. Current value: bagging_fraction=0.40010717505382204\n",
      "[LightGBM] [Warning] lambda_l1 is set=2.3837679243410843, reg_alpha=0.0 will be ignored. Current value: lambda_l1=2.3837679243410843\n",
      "[LightGBM] [Warning] feature_fraction is set=0.9190457698504915, colsample_bytree=1.0 will be ignored. Current value: feature_fraction=0.9190457698504915\n",
      "[LightGBM] [Warning] lambda_l2 is set=0.05078933457531394, reg_lambda=0.0 will be ignored. Current value: lambda_l2=0.05078933457531394\n",
      "[LightGBM] [Warning] bagging_freq is set=1, subsample_freq=0 will be ignored. Current value: bagging_freq=1\n",
      "[LightGBM] [Warning] bagging_fraction is set=0.40010717505382204, subsample=1.0 will be ignored. Current value: bagging_fraction=0.40010717505382204\n",
      "[LightGBM] [Warning] lambda_l1 is set=2.3837679243410843, reg_alpha=0.0 will be ignored. Current value: lambda_l1=2.3837679243410843\n",
      "[LightGBM] [Warning] feature_fraction is set=0.9190457698504915, colsample_bytree=1.0 will be ignored. Current value: feature_fraction=0.9190457698504915\n",
      "[LightGBM] [Warning] lambda_l2 is set=0.05078933457531394, reg_lambda=0.0 will be ignored. Current value: lambda_l2=0.05078933457531394\n",
      "[LightGBM] [Warning] bagging_freq is set=1, subsample_freq=0 will be ignored. Current value: bagging_freq=1\n",
      "[LightGBM] [Warning] bagging_fraction is set=0.40010717505382204, subsample=1.0 will be ignored. Current value: bagging_fraction=0.40010717505382204\n",
      "[LightGBM] [Warning] lambda_l1 is set=2.3837679243410843, reg_alpha=0.0 will be ignored. Current value: lambda_l1=2.3837679243410843\n",
      "[LightGBM] [Warning] feature_fraction is set=0.9190457698504915, colsample_bytree=1.0 will be ignored. Current value: feature_fraction=0.9190457698504915\n",
      "[LightGBM] [Warning] lambda_l2 is set=0.05078933457531394, reg_lambda=0.0 will be ignored. Current value: lambda_l2=0.05078933457531394\n",
      "[LightGBM] [Warning] bagging_freq is set=1, subsample_freq=0 will be ignored. Current value: bagging_freq=1\n"
     ]
    },
    {
     "name": "stderr",
     "output_type": "stream",
     "text": [
      "\u001b[32m[I 2023-03-15 16:57:49,103]\u001b[0m Trial 56 finished with value: -0.2100192463055241 and parameters: {'lambda_l1': 2.3837679243410843, 'lambda_l2': 0.05078933457531394, 'num_leaves': 246, 'feature_fraction': 0.9190457698504915, 'bagging_fraction': 0.40010717505382204, 'bagging_freq': 1, 'min_child_samples': 39}. Best is trial 39 with value: -0.1907555870778161.\u001b[0m\n"
     ]
    },
    {
     "name": "stdout",
     "output_type": "stream",
     "text": [
      "[LightGBM] [Warning] bagging_fraction is set=0.40010717505382204, subsample=1.0 will be ignored. Current value: bagging_fraction=0.40010717505382204\n",
      "[LightGBM] [Warning] lambda_l1 is set=2.3837679243410843, reg_alpha=0.0 will be ignored. Current value: lambda_l1=2.3837679243410843\n",
      "[LightGBM] [Warning] feature_fraction is set=0.9190457698504915, colsample_bytree=1.0 will be ignored. Current value: feature_fraction=0.9190457698504915\n",
      "[LightGBM] [Warning] lambda_l2 is set=0.05078933457531394, reg_lambda=0.0 will be ignored. Current value: lambda_l2=0.05078933457531394\n",
      "[LightGBM] [Warning] bagging_freq is set=1, subsample_freq=0 will be ignored. Current value: bagging_freq=1\n",
      "[LightGBM] [Warning] bagging_fraction is set=0.42349562632220983, subsample=1.0 will be ignored. Current value: bagging_fraction=0.42349562632220983\n",
      "[LightGBM] [Warning] lambda_l1 is set=0.8720814969805655, reg_alpha=0.0 will be ignored. Current value: lambda_l1=0.8720814969805655\n",
      "[LightGBM] [Warning] feature_fraction is set=0.9808673646565168, colsample_bytree=1.0 will be ignored. Current value: feature_fraction=0.9808673646565168\n",
      "[LightGBM] [Warning] lambda_l2 is set=0.012717773476669199, reg_lambda=0.0 will be ignored. Current value: lambda_l2=0.012717773476669199\n",
      "[LightGBM] [Warning] bagging_freq is set=1, subsample_freq=0 will be ignored. Current value: bagging_freq=1\n",
      "[LightGBM] [Warning] bagging_fraction is set=0.42349562632220983, subsample=1.0 will be ignored. Current value: bagging_fraction=0.42349562632220983\n",
      "[LightGBM] [Warning] lambda_l1 is set=0.8720814969805655, reg_alpha=0.0 will be ignored. Current value: lambda_l1=0.8720814969805655\n",
      "[LightGBM] [Warning] feature_fraction is set=0.9808673646565168, colsample_bytree=1.0 will be ignored. Current value: feature_fraction=0.9808673646565168\n",
      "[LightGBM] [Warning] lambda_l2 is set=0.012717773476669199, reg_lambda=0.0 will be ignored. Current value: lambda_l2=0.012717773476669199\n",
      "[LightGBM] [Warning] bagging_freq is set=1, subsample_freq=0 will be ignored. Current value: bagging_freq=1\n",
      "[LightGBM] [Warning] bagging_fraction is set=0.42349562632220983, subsample=1.0 will be ignored. Current value: bagging_fraction=0.42349562632220983\n",
      "[LightGBM] [Warning] lambda_l1 is set=0.8720814969805655, reg_alpha=0.0 will be ignored. Current value: lambda_l1=0.8720814969805655\n",
      "[LightGBM] [Warning] feature_fraction is set=0.9808673646565168, colsample_bytree=1.0 will be ignored. Current value: feature_fraction=0.9808673646565168\n",
      "[LightGBM] [Warning] lambda_l2 is set=0.012717773476669199, reg_lambda=0.0 will be ignored. Current value: lambda_l2=0.012717773476669199\n",
      "[LightGBM] [Warning] bagging_freq is set=1, subsample_freq=0 will be ignored. Current value: bagging_freq=1\n",
      "[LightGBM] [Warning] bagging_fraction is set=0.42349562632220983, subsample=1.0 will be ignored. Current value: bagging_fraction=0.42349562632220983\n",
      "[LightGBM] [Warning] lambda_l1 is set=0.8720814969805655, reg_alpha=0.0 will be ignored. Current value: lambda_l1=0.8720814969805655\n",
      "[LightGBM] [Warning] feature_fraction is set=0.9808673646565168, colsample_bytree=1.0 will be ignored. Current value: feature_fraction=0.9808673646565168\n",
      "[LightGBM] [Warning] lambda_l2 is set=0.012717773476669199, reg_lambda=0.0 will be ignored. Current value: lambda_l2=0.012717773476669199\n",
      "[LightGBM] [Warning] bagging_freq is set=1, subsample_freq=0 will be ignored. Current value: bagging_freq=1\n"
     ]
    },
    {
     "name": "stderr",
     "output_type": "stream",
     "text": [
      "\u001b[32m[I 2023-03-15 16:57:49,555]\u001b[0m Trial 57 finished with value: -0.20766709015974705 and parameters: {'lambda_l1': 0.8720814969805655, 'lambda_l2': 0.012717773476669199, 'num_leaves': 36, 'feature_fraction': 0.9808673646565168, 'bagging_fraction': 0.42349562632220983, 'bagging_freq': 1, 'min_child_samples': 60}. Best is trial 39 with value: -0.1907555870778161.\u001b[0m\n"
     ]
    },
    {
     "name": "stdout",
     "output_type": "stream",
     "text": [
      "[LightGBM] [Warning] bagging_fraction is set=0.42349562632220983, subsample=1.0 will be ignored. Current value: bagging_fraction=0.42349562632220983\n",
      "[LightGBM] [Warning] lambda_l1 is set=0.8720814969805655, reg_alpha=0.0 will be ignored. Current value: lambda_l1=0.8720814969805655\n",
      "[LightGBM] [Warning] feature_fraction is set=0.9808673646565168, colsample_bytree=1.0 will be ignored. Current value: feature_fraction=0.9808673646565168\n",
      "[LightGBM] [Warning] lambda_l2 is set=0.012717773476669199, reg_lambda=0.0 will be ignored. Current value: lambda_l2=0.012717773476669199\n",
      "[LightGBM] [Warning] bagging_freq is set=1, subsample_freq=0 will be ignored. Current value: bagging_freq=1\n",
      "[LightGBM] [Warning] bagging_fraction is set=0.4653312882631791, subsample=1.0 will be ignored. Current value: bagging_fraction=0.4653312882631791\n",
      "[LightGBM] [Warning] lambda_l1 is set=4.809075225860452, reg_alpha=0.0 will be ignored. Current value: lambda_l1=4.809075225860452\n",
      "[LightGBM] [Warning] feature_fraction is set=0.8007832084930349, colsample_bytree=1.0 will be ignored. Current value: feature_fraction=0.8007832084930349\n",
      "[LightGBM] [Warning] lambda_l2 is set=0.0033559327509007243, reg_lambda=0.0 will be ignored. Current value: lambda_l2=0.0033559327509007243\n",
      "[LightGBM] [Warning] bagging_freq is set=3, subsample_freq=0 will be ignored. Current value: bagging_freq=3\n",
      "[LightGBM] [Warning] bagging_fraction is set=0.4653312882631791, subsample=1.0 will be ignored. Current value: bagging_fraction=0.4653312882631791\n",
      "[LightGBM] [Warning] lambda_l1 is set=4.809075225860452, reg_alpha=0.0 will be ignored. Current value: lambda_l1=4.809075225860452\n",
      "[LightGBM] [Warning] feature_fraction is set=0.8007832084930349, colsample_bytree=1.0 will be ignored. Current value: feature_fraction=0.8007832084930349\n",
      "[LightGBM] [Warning] lambda_l2 is set=0.0033559327509007243, reg_lambda=0.0 will be ignored. Current value: lambda_l2=0.0033559327509007243\n",
      "[LightGBM] [Warning] bagging_freq is set=3, subsample_freq=0 will be ignored. Current value: bagging_freq=3\n"
     ]
    },
    {
     "name": "stderr",
     "output_type": "stream",
     "text": [
      "\u001b[32m[I 2023-03-15 16:57:49,937]\u001b[0m Trial 58 finished with value: -0.20176195198148733 and parameters: {'lambda_l1': 4.809075225860452, 'lambda_l2': 0.0033559327509007243, 'num_leaves': 169, 'feature_fraction': 0.8007832084930349, 'bagging_fraction': 0.4653312882631791, 'bagging_freq': 3, 'min_child_samples': 64}. Best is trial 39 with value: -0.1907555870778161.\u001b[0m\n"
     ]
    },
    {
     "name": "stdout",
     "output_type": "stream",
     "text": [
      "[LightGBM] [Warning] bagging_fraction is set=0.4653312882631791, subsample=1.0 will be ignored. Current value: bagging_fraction=0.4653312882631791\n",
      "[LightGBM] [Warning] lambda_l1 is set=4.809075225860452, reg_alpha=0.0 will be ignored. Current value: lambda_l1=4.809075225860452\n",
      "[LightGBM] [Warning] feature_fraction is set=0.8007832084930349, colsample_bytree=1.0 will be ignored. Current value: feature_fraction=0.8007832084930349\n",
      "[LightGBM] [Warning] lambda_l2 is set=0.0033559327509007243, reg_lambda=0.0 will be ignored. Current value: lambda_l2=0.0033559327509007243\n",
      "[LightGBM] [Warning] bagging_freq is set=3, subsample_freq=0 will be ignored. Current value: bagging_freq=3\n",
      "[LightGBM] [Warning] bagging_fraction is set=0.4653312882631791, subsample=1.0 will be ignored. Current value: bagging_fraction=0.4653312882631791\n",
      "[LightGBM] [Warning] lambda_l1 is set=4.809075225860452, reg_alpha=0.0 will be ignored. Current value: lambda_l1=4.809075225860452\n",
      "[LightGBM] [Warning] feature_fraction is set=0.8007832084930349, colsample_bytree=1.0 will be ignored. Current value: feature_fraction=0.8007832084930349\n",
      "[LightGBM] [Warning] lambda_l2 is set=0.0033559327509007243, reg_lambda=0.0 will be ignored. Current value: lambda_l2=0.0033559327509007243\n",
      "[LightGBM] [Warning] bagging_freq is set=3, subsample_freq=0 will be ignored. Current value: bagging_freq=3\n",
      "[LightGBM] [Warning] bagging_fraction is set=0.4653312882631791, subsample=1.0 will be ignored. Current value: bagging_fraction=0.4653312882631791\n",
      "[LightGBM] [Warning] lambda_l1 is set=4.809075225860452, reg_alpha=0.0 will be ignored. Current value: lambda_l1=4.809075225860452\n",
      "[LightGBM] [Warning] feature_fraction is set=0.8007832084930349, colsample_bytree=1.0 will be ignored. Current value: feature_fraction=0.8007832084930349\n",
      "[LightGBM] [Warning] lambda_l2 is set=0.0033559327509007243, reg_lambda=0.0 will be ignored. Current value: lambda_l2=0.0033559327509007243\n",
      "[LightGBM] [Warning] bagging_freq is set=3, subsample_freq=0 will be ignored. Current value: bagging_freq=3\n",
      "[LightGBM] [Warning] bagging_fraction is set=0.49112051097099774, subsample=1.0 will be ignored. Current value: bagging_fraction=0.49112051097099774\n",
      "[LightGBM] [Warning] lambda_l1 is set=0.19190136667076207, reg_alpha=0.0 will be ignored. Current value: lambda_l1=0.19190136667076207\n",
      "[LightGBM] [Warning] feature_fraction is set=0.8759214861548351, colsample_bytree=1.0 will be ignored. Current value: feature_fraction=0.8759214861548351\n",
      "[LightGBM] [Warning] lambda_l2 is set=0.4619301480490317, reg_lambda=0.0 will be ignored. Current value: lambda_l2=0.4619301480490317\n",
      "[LightGBM] [Warning] bagging_freq is set=4, subsample_freq=0 will be ignored. Current value: bagging_freq=4\n",
      "[LightGBM] [Warning] bagging_fraction is set=0.49112051097099774, subsample=1.0 will be ignored. Current value: bagging_fraction=0.49112051097099774\n",
      "[LightGBM] [Warning] lambda_l1 is set=0.19190136667076207, reg_alpha=0.0 will be ignored. Current value: lambda_l1=0.19190136667076207\n",
      "[LightGBM] [Warning] feature_fraction is set=0.8759214861548351, colsample_bytree=1.0 will be ignored. Current value: feature_fraction=0.8759214861548351\n",
      "[LightGBM] [Warning] lambda_l2 is set=0.4619301480490317, reg_lambda=0.0 will be ignored. Current value: lambda_l2=0.4619301480490317\n",
      "[LightGBM] [Warning] bagging_freq is set=4, subsample_freq=0 will be ignored. Current value: bagging_freq=4\n",
      "[LightGBM] [Warning] bagging_fraction is set=0.49112051097099774, subsample=1.0 will be ignored. Current value: bagging_fraction=0.49112051097099774\n",
      "[LightGBM] [Warning] lambda_l1 is set=0.19190136667076207, reg_alpha=0.0 will be ignored. Current value: lambda_l1=0.19190136667076207\n",
      "[LightGBM] [Warning] feature_fraction is set=0.8759214861548351, colsample_bytree=1.0 will be ignored. Current value: feature_fraction=0.8759214861548351\n",
      "[LightGBM] [Warning] lambda_l2 is set=0.4619301480490317, reg_lambda=0.0 will be ignored. Current value: lambda_l2=0.4619301480490317\n",
      "[LightGBM] [Warning] bagging_freq is set=4, subsample_freq=0 will be ignored. Current value: bagging_freq=4\n"
     ]
    },
    {
     "name": "stderr",
     "output_type": "stream",
     "text": [
      "\u001b[32m[I 2023-03-15 16:57:50,432]\u001b[0m Trial 59 finished with value: -0.21300503163026896 and parameters: {'lambda_l1': 0.19190136667076207, 'lambda_l2': 0.4619301480490317, 'num_leaves': 136, 'feature_fraction': 0.8759214861548351, 'bagging_fraction': 0.49112051097099774, 'bagging_freq': 4, 'min_child_samples': 54}. Best is trial 39 with value: -0.1907555870778161.\u001b[0m\n"
     ]
    },
    {
     "name": "stdout",
     "output_type": "stream",
     "text": [
      "[LightGBM] [Warning] bagging_fraction is set=0.49112051097099774, subsample=1.0 will be ignored. Current value: bagging_fraction=0.49112051097099774\n",
      "[LightGBM] [Warning] lambda_l1 is set=0.19190136667076207, reg_alpha=0.0 will be ignored. Current value: lambda_l1=0.19190136667076207\n",
      "[LightGBM] [Warning] feature_fraction is set=0.8759214861548351, colsample_bytree=1.0 will be ignored. Current value: feature_fraction=0.8759214861548351\n",
      "[LightGBM] [Warning] lambda_l2 is set=0.4619301480490317, reg_lambda=0.0 will be ignored. Current value: lambda_l2=0.4619301480490317\n",
      "[LightGBM] [Warning] bagging_freq is set=4, subsample_freq=0 will be ignored. Current value: bagging_freq=4\n",
      "[LightGBM] [Warning] bagging_fraction is set=0.49112051097099774, subsample=1.0 will be ignored. Current value: bagging_fraction=0.49112051097099774\n",
      "[LightGBM] [Warning] lambda_l1 is set=0.19190136667076207, reg_alpha=0.0 will be ignored. Current value: lambda_l1=0.19190136667076207\n",
      "[LightGBM] [Warning] feature_fraction is set=0.8759214861548351, colsample_bytree=1.0 will be ignored. Current value: feature_fraction=0.8759214861548351\n",
      "[LightGBM] [Warning] lambda_l2 is set=0.4619301480490317, reg_lambda=0.0 will be ignored. Current value: lambda_l2=0.4619301480490317\n",
      "[LightGBM] [Warning] bagging_freq is set=4, subsample_freq=0 will be ignored. Current value: bagging_freq=4\n",
      "[LightGBM] [Warning] bagging_fraction is set=0.4409642649665528, subsample=1.0 will be ignored. Current value: bagging_fraction=0.4409642649665528\n",
      "[LightGBM] [Warning] lambda_l1 is set=5.684150708357394, reg_alpha=0.0 will be ignored. Current value: lambda_l1=5.684150708357394\n",
      "[LightGBM] [Warning] feature_fraction is set=0.9212018410676198, colsample_bytree=1.0 will be ignored. Current value: feature_fraction=0.9212018410676198\n",
      "[LightGBM] [Warning] lambda_l2 is set=0.0011904554452495928, reg_lambda=0.0 will be ignored. Current value: lambda_l2=0.0011904554452495928\n",
      "[LightGBM] [Warning] bagging_freq is set=2, subsample_freq=0 will be ignored. Current value: bagging_freq=2\n",
      "[LightGBM] [Warning] bagging_fraction is set=0.4409642649665528, subsample=1.0 will be ignored. Current value: bagging_fraction=0.4409642649665528\n",
      "[LightGBM] [Warning] lambda_l1 is set=5.684150708357394, reg_alpha=0.0 will be ignored. Current value: lambda_l1=5.684150708357394\n",
      "[LightGBM] [Warning] feature_fraction is set=0.9212018410676198, colsample_bytree=1.0 will be ignored. Current value: feature_fraction=0.9212018410676198\n",
      "[LightGBM] [Warning] lambda_l2 is set=0.0011904554452495928, reg_lambda=0.0 will be ignored. Current value: lambda_l2=0.0011904554452495928\n",
      "[LightGBM] [Warning] bagging_freq is set=2, subsample_freq=0 will be ignored. Current value: bagging_freq=2\n",
      "[LightGBM] [Warning] bagging_fraction is set=0.4409642649665528, subsample=1.0 will be ignored. Current value: bagging_fraction=0.4409642649665528\n",
      "[LightGBM] [Warning] lambda_l1 is set=5.684150708357394, reg_alpha=0.0 will be ignored. Current value: lambda_l1=5.684150708357394\n",
      "[LightGBM] [Warning] feature_fraction is set=0.9212018410676198, colsample_bytree=1.0 will be ignored. Current value: feature_fraction=0.9212018410676198\n",
      "[LightGBM] [Warning] lambda_l2 is set=0.0011904554452495928, reg_lambda=0.0 will be ignored. Current value: lambda_l2=0.0011904554452495928\n",
      "[LightGBM] [Warning] bagging_freq is set=2, subsample_freq=0 will be ignored. Current value: bagging_freq=2\n"
     ]
    },
    {
     "name": "stderr",
     "output_type": "stream",
     "text": [
      "\u001b[32m[I 2023-03-15 16:57:50,885]\u001b[0m Trial 60 finished with value: -0.19955504776806693 and parameters: {'lambda_l1': 5.684150708357394, 'lambda_l2': 0.0011904554452495928, 'num_leaves': 228, 'feature_fraction': 0.9212018410676198, 'bagging_fraction': 0.4409642649665528, 'bagging_freq': 2, 'min_child_samples': 46}. Best is trial 39 with value: -0.1907555870778161.\u001b[0m\n"
     ]
    },
    {
     "name": "stdout",
     "output_type": "stream",
     "text": [
      "[LightGBM] [Warning] bagging_fraction is set=0.4409642649665528, subsample=1.0 will be ignored. Current value: bagging_fraction=0.4409642649665528\n",
      "[LightGBM] [Warning] lambda_l1 is set=5.684150708357394, reg_alpha=0.0 will be ignored. Current value: lambda_l1=5.684150708357394\n",
      "[LightGBM] [Warning] feature_fraction is set=0.9212018410676198, colsample_bytree=1.0 will be ignored. Current value: feature_fraction=0.9212018410676198\n",
      "[LightGBM] [Warning] lambda_l2 is set=0.0011904554452495928, reg_lambda=0.0 will be ignored. Current value: lambda_l2=0.0011904554452495928\n",
      "[LightGBM] [Warning] bagging_freq is set=2, subsample_freq=0 will be ignored. Current value: bagging_freq=2\n",
      "[LightGBM] [Warning] bagging_fraction is set=0.4409642649665528, subsample=1.0 will be ignored. Current value: bagging_fraction=0.4409642649665528\n",
      "[LightGBM] [Warning] lambda_l1 is set=5.684150708357394, reg_alpha=0.0 will be ignored. Current value: lambda_l1=5.684150708357394\n",
      "[LightGBM] [Warning] feature_fraction is set=0.9212018410676198, colsample_bytree=1.0 will be ignored. Current value: feature_fraction=0.9212018410676198\n",
      "[LightGBM] [Warning] lambda_l2 is set=0.0011904554452495928, reg_lambda=0.0 will be ignored. Current value: lambda_l2=0.0011904554452495928\n",
      "[LightGBM] [Warning] bagging_freq is set=2, subsample_freq=0 will be ignored. Current value: bagging_freq=2\n",
      "[LightGBM] [Warning] bagging_fraction is set=0.4618073715731206, subsample=1.0 will be ignored. Current value: bagging_fraction=0.4618073715731206\n",
      "[LightGBM] [Warning] lambda_l1 is set=8.237829978476462, reg_alpha=0.0 will be ignored. Current value: lambda_l1=8.237829978476462\n",
      "[LightGBM] [Warning] feature_fraction is set=0.9507950173939611, colsample_bytree=1.0 will be ignored. Current value: feature_fraction=0.9507950173939611\n",
      "[LightGBM] [Warning] lambda_l2 is set=0.2033723053243313, reg_lambda=0.0 will be ignored. Current value: lambda_l2=0.2033723053243313\n",
      "[LightGBM] [Warning] bagging_freq is set=2, subsample_freq=0 will be ignored. Current value: bagging_freq=2\n",
      "[LightGBM] [Warning] bagging_fraction is set=0.4618073715731206, subsample=1.0 will be ignored. Current value: bagging_fraction=0.4618073715731206\n",
      "[LightGBM] [Warning] lambda_l1 is set=8.237829978476462, reg_alpha=0.0 will be ignored. Current value: lambda_l1=8.237829978476462\n",
      "[LightGBM] [Warning] feature_fraction is set=0.9507950173939611, colsample_bytree=1.0 will be ignored. Current value: feature_fraction=0.9507950173939611\n",
      "[LightGBM] [Warning] lambda_l2 is set=0.2033723053243313, reg_lambda=0.0 will be ignored. Current value: lambda_l2=0.2033723053243313\n",
      "[LightGBM] [Warning] bagging_freq is set=2, subsample_freq=0 will be ignored. Current value: bagging_freq=2\n",
      "[LightGBM] [Warning] bagging_fraction is set=0.4618073715731206, subsample=1.0 will be ignored. Current value: bagging_fraction=0.4618073715731206\n",
      "[LightGBM] [Warning] lambda_l1 is set=8.237829978476462, reg_alpha=0.0 will be ignored. Current value: lambda_l1=8.237829978476462\n",
      "[LightGBM] [Warning] feature_fraction is set=0.9507950173939611, colsample_bytree=1.0 will be ignored. Current value: feature_fraction=0.9507950173939611\n",
      "[LightGBM] [Warning] lambda_l2 is set=0.2033723053243313, reg_lambda=0.0 will be ignored. Current value: lambda_l2=0.2033723053243313\n",
      "[LightGBM] [Warning] bagging_freq is set=2, subsample_freq=0 will be ignored. Current value: bagging_freq=2\n"
     ]
    },
    {
     "name": "stderr",
     "output_type": "stream",
     "text": [
      "\u001b[32m[I 2023-03-15 16:57:51,281]\u001b[0m Trial 61 finished with value: -0.19390334349191876 and parameters: {'lambda_l1': 8.237829978476462, 'lambda_l2': 0.2033723053243313, 'num_leaves': 246, 'feature_fraction': 0.9507950173939611, 'bagging_fraction': 0.4618073715731206, 'bagging_freq': 2, 'min_child_samples': 70}. Best is trial 39 with value: -0.1907555870778161.\u001b[0m\n"
     ]
    },
    {
     "name": "stdout",
     "output_type": "stream",
     "text": [
      "[LightGBM] [Warning] bagging_fraction is set=0.4618073715731206, subsample=1.0 will be ignored. Current value: bagging_fraction=0.4618073715731206\n",
      "[LightGBM] [Warning] lambda_l1 is set=8.237829978476462, reg_alpha=0.0 will be ignored. Current value: lambda_l1=8.237829978476462\n",
      "[LightGBM] [Warning] feature_fraction is set=0.9507950173939611, colsample_bytree=1.0 will be ignored. Current value: feature_fraction=0.9507950173939611\n",
      "[LightGBM] [Warning] lambda_l2 is set=0.2033723053243313, reg_lambda=0.0 will be ignored. Current value: lambda_l2=0.2033723053243313\n",
      "[LightGBM] [Warning] bagging_freq is set=2, subsample_freq=0 will be ignored. Current value: bagging_freq=2\n",
      "[LightGBM] [Warning] bagging_fraction is set=0.4618073715731206, subsample=1.0 will be ignored. Current value: bagging_fraction=0.4618073715731206\n",
      "[LightGBM] [Warning] lambda_l1 is set=8.237829978476462, reg_alpha=0.0 will be ignored. Current value: lambda_l1=8.237829978476462\n",
      "[LightGBM] [Warning] feature_fraction is set=0.9507950173939611, colsample_bytree=1.0 will be ignored. Current value: feature_fraction=0.9507950173939611\n",
      "[LightGBM] [Warning] lambda_l2 is set=0.2033723053243313, reg_lambda=0.0 will be ignored. Current value: lambda_l2=0.2033723053243313\n",
      "[LightGBM] [Warning] bagging_freq is set=2, subsample_freq=0 will be ignored. Current value: bagging_freq=2\n",
      "[LightGBM] [Warning] bagging_fraction is set=0.4174261434979364, subsample=1.0 will be ignored. Current value: bagging_fraction=0.4174261434979364\n",
      "[LightGBM] [Warning] lambda_l1 is set=2.8174557375529212, reg_alpha=0.0 will be ignored. Current value: lambda_l1=2.8174557375529212\n",
      "[LightGBM] [Warning] feature_fraction is set=0.946359064031227, colsample_bytree=1.0 will be ignored. Current value: feature_fraction=0.946359064031227\n",
      "[LightGBM] [Warning] lambda_l2 is set=0.09736447843068852, reg_lambda=0.0 will be ignored. Current value: lambda_l2=0.09736447843068852\n",
      "[LightGBM] [Warning] bagging_freq is set=1, subsample_freq=0 will be ignored. Current value: bagging_freq=1\n",
      "[LightGBM] [Warning] bagging_fraction is set=0.4174261434979364, subsample=1.0 will be ignored. Current value: bagging_fraction=0.4174261434979364\n",
      "[LightGBM] [Warning] lambda_l1 is set=2.8174557375529212, reg_alpha=0.0 will be ignored. Current value: lambda_l1=2.8174557375529212\n",
      "[LightGBM] [Warning] feature_fraction is set=0.946359064031227, colsample_bytree=1.0 will be ignored. Current value: feature_fraction=0.946359064031227\n",
      "[LightGBM] [Warning] lambda_l2 is set=0.09736447843068852, reg_lambda=0.0 will be ignored. Current value: lambda_l2=0.09736447843068852\n",
      "[LightGBM] [Warning] bagging_freq is set=1, subsample_freq=0 will be ignored. Current value: bagging_freq=1\n",
      "[LightGBM] [Warning] bagging_fraction is set=0.4174261434979364, subsample=1.0 will be ignored. Current value: bagging_fraction=0.4174261434979364\n",
      "[LightGBM] [Warning] lambda_l1 is set=2.8174557375529212, reg_alpha=0.0 will be ignored. Current value: lambda_l1=2.8174557375529212\n",
      "[LightGBM] [Warning] feature_fraction is set=0.946359064031227, colsample_bytree=1.0 will be ignored. Current value: feature_fraction=0.946359064031227\n",
      "[LightGBM] [Warning] lambda_l2 is set=0.09736447843068852, reg_lambda=0.0 will be ignored. Current value: lambda_l2=0.09736447843068852\n",
      "[LightGBM] [Warning] bagging_freq is set=1, subsample_freq=0 will be ignored. Current value: bagging_freq=1\n",
      "[LightGBM] [Warning] bagging_fraction is set=0.4174261434979364, subsample=1.0 will be ignored. Current value: bagging_fraction=0.4174261434979364\n",
      "[LightGBM] [Warning] lambda_l1 is set=2.8174557375529212, reg_alpha=0.0 will be ignored. Current value: lambda_l1=2.8174557375529212\n",
      "[LightGBM] [Warning] feature_fraction is set=0.946359064031227, colsample_bytree=1.0 will be ignored. Current value: feature_fraction=0.946359064031227\n",
      "[LightGBM] [Warning] lambda_l2 is set=0.09736447843068852, reg_lambda=0.0 will be ignored. Current value: lambda_l2=0.09736447843068852\n",
      "[LightGBM] [Warning] bagging_freq is set=1, subsample_freq=0 will be ignored. Current value: bagging_freq=1\n"
     ]
    },
    {
     "name": "stderr",
     "output_type": "stream",
     "text": [
      "\u001b[32m[I 2023-03-15 16:57:51,686]\u001b[0m Trial 62 finished with value: -0.19793766711843902 and parameters: {'lambda_l1': 2.8174557375529212, 'lambda_l2': 0.09736447843068852, 'num_leaves': 206, 'feature_fraction': 0.946359064031227, 'bagging_fraction': 0.4174261434979364, 'bagging_freq': 1, 'min_child_samples': 85}. Best is trial 39 with value: -0.1907555870778161.\u001b[0m\n"
     ]
    },
    {
     "name": "stdout",
     "output_type": "stream",
     "text": [
      "[LightGBM] [Warning] bagging_fraction is set=0.4174261434979364, subsample=1.0 will be ignored. Current value: bagging_fraction=0.4174261434979364\n",
      "[LightGBM] [Warning] lambda_l1 is set=2.8174557375529212, reg_alpha=0.0 will be ignored. Current value: lambda_l1=2.8174557375529212\n",
      "[LightGBM] [Warning] feature_fraction is set=0.946359064031227, colsample_bytree=1.0 will be ignored. Current value: feature_fraction=0.946359064031227\n",
      "[LightGBM] [Warning] lambda_l2 is set=0.09736447843068852, reg_lambda=0.0 will be ignored. Current value: lambda_l2=0.09736447843068852\n",
      "[LightGBM] [Warning] bagging_freq is set=1, subsample_freq=0 will be ignored. Current value: bagging_freq=1\n",
      "[LightGBM] [Warning] bagging_fraction is set=0.4533220811667805, subsample=1.0 will be ignored. Current value: bagging_fraction=0.4533220811667805\n",
      "[LightGBM] [Warning] lambda_l1 is set=8.827309885923315, reg_alpha=0.0 will be ignored. Current value: lambda_l1=8.827309885923315\n",
      "[LightGBM] [Warning] feature_fraction is set=0.9942646358390899, colsample_bytree=1.0 will be ignored. Current value: feature_fraction=0.9942646358390899\n",
      "[LightGBM] [Warning] lambda_l2 is set=0.028131127188988397, reg_lambda=0.0 will be ignored. Current value: lambda_l2=0.028131127188988397\n",
      "[LightGBM] [Warning] bagging_freq is set=3, subsample_freq=0 will be ignored. Current value: bagging_freq=3\n",
      "[LightGBM] [Warning] bagging_fraction is set=0.4533220811667805, subsample=1.0 will be ignored. Current value: bagging_fraction=0.4533220811667805\n",
      "[LightGBM] [Warning] lambda_l1 is set=8.827309885923315, reg_alpha=0.0 will be ignored. Current value: lambda_l1=8.827309885923315\n",
      "[LightGBM] [Warning] feature_fraction is set=0.9942646358390899, colsample_bytree=1.0 will be ignored. Current value: feature_fraction=0.9942646358390899\n",
      "[LightGBM] [Warning] lambda_l2 is set=0.028131127188988397, reg_lambda=0.0 will be ignored. Current value: lambda_l2=0.028131127188988397\n",
      "[LightGBM] [Warning] bagging_freq is set=3, subsample_freq=0 will be ignored. Current value: bagging_freq=3\n"
     ]
    },
    {
     "name": "stderr",
     "output_type": "stream",
     "text": [
      "\u001b[32m[I 2023-03-15 16:57:52,037]\u001b[0m Trial 63 finished with value: -0.19350597748298443 and parameters: {'lambda_l1': 8.827309885923315, 'lambda_l2': 0.028131127188988397, 'num_leaves': 237, 'feature_fraction': 0.9942646358390899, 'bagging_fraction': 0.4533220811667805, 'bagging_freq': 3, 'min_child_samples': 80}. Best is trial 39 with value: -0.1907555870778161.\u001b[0m\n"
     ]
    },
    {
     "name": "stdout",
     "output_type": "stream",
     "text": [
      "[LightGBM] [Warning] bagging_fraction is set=0.4533220811667805, subsample=1.0 will be ignored. Current value: bagging_fraction=0.4533220811667805\n",
      "[LightGBM] [Warning] lambda_l1 is set=8.827309885923315, reg_alpha=0.0 will be ignored. Current value: lambda_l1=8.827309885923315\n",
      "[LightGBM] [Warning] feature_fraction is set=0.9942646358390899, colsample_bytree=1.0 will be ignored. Current value: feature_fraction=0.9942646358390899\n",
      "[LightGBM] [Warning] lambda_l2 is set=0.028131127188988397, reg_lambda=0.0 will be ignored. Current value: lambda_l2=0.028131127188988397\n",
      "[LightGBM] [Warning] bagging_freq is set=3, subsample_freq=0 will be ignored. Current value: bagging_freq=3\n",
      "[LightGBM] [Warning] bagging_fraction is set=0.4533220811667805, subsample=1.0 will be ignored. Current value: bagging_fraction=0.4533220811667805\n",
      "[LightGBM] [Warning] lambda_l1 is set=8.827309885923315, reg_alpha=0.0 will be ignored. Current value: lambda_l1=8.827309885923315\n",
      "[LightGBM] [Warning] feature_fraction is set=0.9942646358390899, colsample_bytree=1.0 will be ignored. Current value: feature_fraction=0.9942646358390899\n",
      "[LightGBM] [Warning] lambda_l2 is set=0.028131127188988397, reg_lambda=0.0 will be ignored. Current value: lambda_l2=0.028131127188988397\n",
      "[LightGBM] [Warning] bagging_freq is set=3, subsample_freq=0 will be ignored. Current value: bagging_freq=3\n",
      "[LightGBM] [Warning] bagging_fraction is set=0.4533220811667805, subsample=1.0 will be ignored. Current value: bagging_fraction=0.4533220811667805\n",
      "[LightGBM] [Warning] lambda_l1 is set=8.827309885923315, reg_alpha=0.0 will be ignored. Current value: lambda_l1=8.827309885923315\n",
      "[LightGBM] [Warning] feature_fraction is set=0.9942646358390899, colsample_bytree=1.0 will be ignored. Current value: feature_fraction=0.9942646358390899\n",
      "[LightGBM] [Warning] lambda_l2 is set=0.028131127188988397, reg_lambda=0.0 will be ignored. Current value: lambda_l2=0.028131127188988397\n",
      "[LightGBM] [Warning] bagging_freq is set=3, subsample_freq=0 will be ignored. Current value: bagging_freq=3\n",
      "[LightGBM] [Warning] bagging_fraction is set=0.476156188169419, subsample=1.0 will be ignored. Current value: bagging_fraction=0.476156188169419\n",
      "[LightGBM] [Warning] lambda_l1 is set=1.0200927481072266, reg_alpha=0.0 will be ignored. Current value: lambda_l1=1.0200927481072266\n",
      "[LightGBM] [Warning] feature_fraction is set=0.9052752917577199, colsample_bytree=1.0 will be ignored. Current value: feature_fraction=0.9052752917577199\n",
      "[LightGBM] [Warning] lambda_l2 is set=0.15511621220184207, reg_lambda=0.0 will be ignored. Current value: lambda_l2=0.15511621220184207\n",
      "[LightGBM] [Warning] bagging_freq is set=2, subsample_freq=0 will be ignored. Current value: bagging_freq=2\n",
      "[LightGBM] [Warning] bagging_fraction is set=0.476156188169419, subsample=1.0 will be ignored. Current value: bagging_fraction=0.476156188169419\n",
      "[LightGBM] [Warning] lambda_l1 is set=1.0200927481072266, reg_alpha=0.0 will be ignored. Current value: lambda_l1=1.0200927481072266\n",
      "[LightGBM] [Warning] feature_fraction is set=0.9052752917577199, colsample_bytree=1.0 will be ignored. Current value: feature_fraction=0.9052752917577199\n",
      "[LightGBM] [Warning] lambda_l2 is set=0.15511621220184207, reg_lambda=0.0 will be ignored. Current value: lambda_l2=0.15511621220184207\n",
      "[LightGBM] [Warning] bagging_freq is set=2, subsample_freq=0 will be ignored. Current value: bagging_freq=2\n",
      "[LightGBM] [Warning] bagging_fraction is set=0.476156188169419, subsample=1.0 will be ignored. Current value: bagging_fraction=0.476156188169419\n",
      "[LightGBM] [Warning] lambda_l1 is set=1.0200927481072266, reg_alpha=0.0 will be ignored. Current value: lambda_l1=1.0200927481072266\n",
      "[LightGBM] [Warning] feature_fraction is set=0.9052752917577199, colsample_bytree=1.0 will be ignored. Current value: feature_fraction=0.9052752917577199\n",
      "[LightGBM] [Warning] lambda_l2 is set=0.15511621220184207, reg_lambda=0.0 will be ignored. Current value: lambda_l2=0.15511621220184207\n",
      "[LightGBM] [Warning] bagging_freq is set=2, subsample_freq=0 will be ignored. Current value: bagging_freq=2\n"
     ]
    },
    {
     "name": "stderr",
     "output_type": "stream",
     "text": [
      "\u001b[32m[I 2023-03-15 16:57:52,454]\u001b[0m Trial 64 finished with value: -0.2029368453209827 and parameters: {'lambda_l1': 1.0200927481072266, 'lambda_l2': 0.15511621220184207, 'num_leaves': 217, 'feature_fraction': 0.9052752917577199, 'bagging_fraction': 0.476156188169419, 'bagging_freq': 2, 'min_child_samples': 77}. Best is trial 39 with value: -0.1907555870778161.\u001b[0m\n"
     ]
    },
    {
     "name": "stdout",
     "output_type": "stream",
     "text": [
      "[LightGBM] [Warning] bagging_fraction is set=0.476156188169419, subsample=1.0 will be ignored. Current value: bagging_fraction=0.476156188169419\n",
      "[LightGBM] [Warning] lambda_l1 is set=1.0200927481072266, reg_alpha=0.0 will be ignored. Current value: lambda_l1=1.0200927481072266\n",
      "[LightGBM] [Warning] feature_fraction is set=0.9052752917577199, colsample_bytree=1.0 will be ignored. Current value: feature_fraction=0.9052752917577199\n",
      "[LightGBM] [Warning] lambda_l2 is set=0.15511621220184207, reg_lambda=0.0 will be ignored. Current value: lambda_l2=0.15511621220184207\n",
      "[LightGBM] [Warning] bagging_freq is set=2, subsample_freq=0 will be ignored. Current value: bagging_freq=2\n",
      "[LightGBM] [Warning] bagging_fraction is set=0.476156188169419, subsample=1.0 will be ignored. Current value: bagging_fraction=0.476156188169419\n",
      "[LightGBM] [Warning] lambda_l1 is set=1.0200927481072266, reg_alpha=0.0 will be ignored. Current value: lambda_l1=1.0200927481072266\n",
      "[LightGBM] [Warning] feature_fraction is set=0.9052752917577199, colsample_bytree=1.0 will be ignored. Current value: feature_fraction=0.9052752917577199\n",
      "[LightGBM] [Warning] lambda_l2 is set=0.15511621220184207, reg_lambda=0.0 will be ignored. Current value: lambda_l2=0.15511621220184207\n",
      "[LightGBM] [Warning] bagging_freq is set=2, subsample_freq=0 will be ignored. Current value: bagging_freq=2\n",
      "[LightGBM] [Warning] bagging_fraction is set=0.5419531317190915, subsample=1.0 will be ignored. Current value: bagging_fraction=0.5419531317190915\n",
      "[LightGBM] [Warning] lambda_l1 is set=1.8747687969066316, reg_alpha=0.0 will be ignored. Current value: lambda_l1=1.8747687969066316\n",
      "[LightGBM] [Warning] feature_fraction is set=0.9625127615927508, colsample_bytree=1.0 will be ignored. Current value: feature_fraction=0.9625127615927508\n",
      "[LightGBM] [Warning] lambda_l2 is set=0.00995828509303122, reg_lambda=0.0 will be ignored. Current value: lambda_l2=0.00995828509303122\n",
      "[LightGBM] [Warning] bagging_freq is set=1, subsample_freq=0 will be ignored. Current value: bagging_freq=1\n",
      "[LightGBM] [Warning] bagging_fraction is set=0.5419531317190915, subsample=1.0 will be ignored. Current value: bagging_fraction=0.5419531317190915\n",
      "[LightGBM] [Warning] lambda_l1 is set=1.8747687969066316, reg_alpha=0.0 will be ignored. Current value: lambda_l1=1.8747687969066316\n",
      "[LightGBM] [Warning] feature_fraction is set=0.9625127615927508, colsample_bytree=1.0 will be ignored. Current value: feature_fraction=0.9625127615927508\n",
      "[LightGBM] [Warning] lambda_l2 is set=0.00995828509303122, reg_lambda=0.0 will be ignored. Current value: lambda_l2=0.00995828509303122\n",
      "[LightGBM] [Warning] bagging_freq is set=1, subsample_freq=0 will be ignored. Current value: bagging_freq=1\n",
      "[LightGBM] [Warning] bagging_fraction is set=0.5419531317190915, subsample=1.0 will be ignored. Current value: bagging_fraction=0.5419531317190915\n",
      "[LightGBM] [Warning] lambda_l1 is set=1.8747687969066316, reg_alpha=0.0 will be ignored. Current value: lambda_l1=1.8747687969066316\n",
      "[LightGBM] [Warning] feature_fraction is set=0.9625127615927508, colsample_bytree=1.0 will be ignored. Current value: feature_fraction=0.9625127615927508\n",
      "[LightGBM] [Warning] lambda_l2 is set=0.00995828509303122, reg_lambda=0.0 will be ignored. Current value: lambda_l2=0.00995828509303122\n",
      "[LightGBM] [Warning] bagging_freq is set=1, subsample_freq=0 will be ignored. Current value: bagging_freq=1\n",
      "[LightGBM] [Warning] bagging_fraction is set=0.5419531317190915, subsample=1.0 will be ignored. Current value: bagging_fraction=0.5419531317190915\n",
      "[LightGBM] [Warning] lambda_l1 is set=1.8747687969066316, reg_alpha=0.0 will be ignored. Current value: lambda_l1=1.8747687969066316\n",
      "[LightGBM] [Warning] feature_fraction is set=0.9625127615927508, colsample_bytree=1.0 will be ignored. Current value: feature_fraction=0.9625127615927508\n",
      "[LightGBM] [Warning] lambda_l2 is set=0.00995828509303122, reg_lambda=0.0 will be ignored. Current value: lambda_l2=0.00995828509303122\n",
      "[LightGBM] [Warning] bagging_freq is set=1, subsample_freq=0 will be ignored. Current value: bagging_freq=1\n"
     ]
    },
    {
     "name": "stderr",
     "output_type": "stream",
     "text": [
      "\u001b[32m[I 2023-03-15 16:57:52,919]\u001b[0m Trial 65 finished with value: -0.2046228137576715 and parameters: {'lambda_l1': 1.8747687969066316, 'lambda_l2': 0.00995828509303122, 'num_leaves': 231, 'feature_fraction': 0.9625127615927508, 'bagging_fraction': 0.5419531317190915, 'bagging_freq': 1, 'min_child_samples': 73}. Best is trial 39 with value: -0.1907555870778161.\u001b[0m\n"
     ]
    },
    {
     "name": "stdout",
     "output_type": "stream",
     "text": [
      "[LightGBM] [Warning] bagging_fraction is set=0.5419531317190915, subsample=1.0 will be ignored. Current value: bagging_fraction=0.5419531317190915\n",
      "[LightGBM] [Warning] lambda_l1 is set=1.8747687969066316, reg_alpha=0.0 will be ignored. Current value: lambda_l1=1.8747687969066316\n",
      "[LightGBM] [Warning] feature_fraction is set=0.9625127615927508, colsample_bytree=1.0 will be ignored. Current value: feature_fraction=0.9625127615927508\n",
      "[LightGBM] [Warning] lambda_l2 is set=0.00995828509303122, reg_lambda=0.0 will be ignored. Current value: lambda_l2=0.00995828509303122\n",
      "[LightGBM] [Warning] bagging_freq is set=1, subsample_freq=0 will be ignored. Current value: bagging_freq=1\n",
      "[LightGBM] [Warning] bagging_fraction is set=0.5084267696121846, subsample=1.0 will be ignored. Current value: bagging_fraction=0.5084267696121846\n",
      "[LightGBM] [Warning] lambda_l1 is set=4.024057181602222, reg_alpha=0.0 will be ignored. Current value: lambda_l1=4.024057181602222\n",
      "[LightGBM] [Warning] feature_fraction is set=0.9314130875034513, colsample_bytree=1.0 will be ignored. Current value: feature_fraction=0.9314130875034513\n",
      "[LightGBM] [Warning] lambda_l2 is set=0.054064198588710644, reg_lambda=0.0 will be ignored. Current value: lambda_l2=0.054064198588710644\n",
      "[LightGBM] [Warning] bagging_freq is set=2, subsample_freq=0 will be ignored. Current value: bagging_freq=2\n",
      "[LightGBM] [Warning] bagging_fraction is set=0.5084267696121846, subsample=1.0 will be ignored. Current value: bagging_fraction=0.5084267696121846\n",
      "[LightGBM] [Warning] lambda_l1 is set=4.024057181602222, reg_alpha=0.0 will be ignored. Current value: lambda_l1=4.024057181602222\n",
      "[LightGBM] [Warning] feature_fraction is set=0.9314130875034513, colsample_bytree=1.0 will be ignored. Current value: feature_fraction=0.9314130875034513\n",
      "[LightGBM] [Warning] lambda_l2 is set=0.054064198588710644, reg_lambda=0.0 will be ignored. Current value: lambda_l2=0.054064198588710644\n",
      "[LightGBM] [Warning] bagging_freq is set=2, subsample_freq=0 will be ignored. Current value: bagging_freq=2\n",
      "[LightGBM] [Warning] bagging_fraction is set=0.5084267696121846, subsample=1.0 will be ignored. Current value: bagging_fraction=0.5084267696121846\n",
      "[LightGBM] [Warning] lambda_l1 is set=4.024057181602222, reg_alpha=0.0 will be ignored. Current value: lambda_l1=4.024057181602222\n",
      "[LightGBM] [Warning] feature_fraction is set=0.9314130875034513, colsample_bytree=1.0 will be ignored. Current value: feature_fraction=0.9314130875034513\n",
      "[LightGBM] [Warning] lambda_l2 is set=0.054064198588710644, reg_lambda=0.0 will be ignored. Current value: lambda_l2=0.054064198588710644\n",
      "[LightGBM] [Warning] bagging_freq is set=2, subsample_freq=0 will be ignored. Current value: bagging_freq=2\n",
      "[LightGBM] [Warning] bagging_fraction is set=0.5084267696121846, subsample=1.0 will be ignored. Current value: bagging_fraction=0.5084267696121846\n",
      "[LightGBM] [Warning] lambda_l1 is set=4.024057181602222, reg_alpha=0.0 will be ignored. Current value: lambda_l1=4.024057181602222\n",
      "[LightGBM] [Warning] feature_fraction is set=0.9314130875034513, colsample_bytree=1.0 will be ignored. Current value: feature_fraction=0.9314130875034513\n",
      "[LightGBM] [Warning] lambda_l2 is set=0.054064198588710644, reg_lambda=0.0 will be ignored. Current value: lambda_l2=0.054064198588710644\n",
      "[LightGBM] [Warning] bagging_freq is set=2, subsample_freq=0 will be ignored. Current value: bagging_freq=2\n",
      "[LightGBM] [Warning] bagging_fraction is set=0.5084267696121846, subsample=1.0 will be ignored. Current value: bagging_fraction=0.5084267696121846\n",
      "[LightGBM] [Warning] lambda_l1 is set=4.024057181602222, reg_alpha=0.0 will be ignored. Current value: lambda_l1=4.024057181602222\n",
      "[LightGBM] [Warning] feature_fraction is set=0.9314130875034513, colsample_bytree=1.0 will be ignored. Current value: feature_fraction=0.9314130875034513\n",
      "[LightGBM] [Warning] lambda_l2 is set=0.054064198588710644, reg_lambda=0.0 will be ignored. Current value: lambda_l2=0.054064198588710644\n",
      "[LightGBM] [Warning] bagging_freq is set=2, subsample_freq=0 will be ignored. Current value: bagging_freq=2\n"
     ]
    },
    {
     "name": "stderr",
     "output_type": "stream",
     "text": [
      "\u001b[32m[I 2023-03-15 16:57:53,316]\u001b[0m Trial 66 finished with value: -0.19830578689013742 and parameters: {'lambda_l1': 4.024057181602222, 'lambda_l2': 0.054064198588710644, 'num_leaves': 248, 'feature_fraction': 0.9314130875034513, 'bagging_fraction': 0.5084267696121846, 'bagging_freq': 2, 'min_child_samples': 90}. Best is trial 39 with value: -0.1907555870778161.\u001b[0m\n"
     ]
    },
    {
     "name": "stdout",
     "output_type": "stream",
     "text": [
      "[LightGBM] [Warning] bagging_fraction is set=0.4495111090771696, subsample=1.0 will be ignored. Current value: bagging_fraction=0.4495111090771696\n",
      "[LightGBM] [Warning] lambda_l1 is set=0.46742669116267244, reg_alpha=0.0 will be ignored. Current value: lambda_l1=0.46742669116267244\n",
      "[LightGBM] [Warning] feature_fraction is set=0.8843878080187839, colsample_bytree=1.0 will be ignored. Current value: feature_fraction=0.8843878080187839\n",
      "[LightGBM] [Warning] lambda_l2 is set=4.819110790781924, reg_lambda=0.0 will be ignored. Current value: lambda_l2=4.819110790781924\n",
      "[LightGBM] [Warning] bagging_freq is set=3, subsample_freq=0 will be ignored. Current value: bagging_freq=3\n",
      "[LightGBM] [Warning] bagging_fraction is set=0.4495111090771696, subsample=1.0 will be ignored. Current value: bagging_fraction=0.4495111090771696\n",
      "[LightGBM] [Warning] lambda_l1 is set=0.46742669116267244, reg_alpha=0.0 will be ignored. Current value: lambda_l1=0.46742669116267244\n",
      "[LightGBM] [Warning] feature_fraction is set=0.8843878080187839, colsample_bytree=1.0 will be ignored. Current value: feature_fraction=0.8843878080187839\n",
      "[LightGBM] [Warning] lambda_l2 is set=4.819110790781924, reg_lambda=0.0 will be ignored. Current value: lambda_l2=4.819110790781924\n",
      "[LightGBM] [Warning] bagging_freq is set=3, subsample_freq=0 will be ignored. Current value: bagging_freq=3\n",
      "[LightGBM] [Warning] bagging_fraction is set=0.4495111090771696, subsample=1.0 will be ignored. Current value: bagging_fraction=0.4495111090771696\n",
      "[LightGBM] [Warning] lambda_l1 is set=0.46742669116267244, reg_alpha=0.0 will be ignored. Current value: lambda_l1=0.46742669116267244\n",
      "[LightGBM] [Warning] feature_fraction is set=0.8843878080187839, colsample_bytree=1.0 will be ignored. Current value: feature_fraction=0.8843878080187839\n",
      "[LightGBM] [Warning] lambda_l2 is set=4.819110790781924, reg_lambda=0.0 will be ignored. Current value: lambda_l2=4.819110790781924\n",
      "[LightGBM] [Warning] bagging_freq is set=3, subsample_freq=0 will be ignored. Current value: bagging_freq=3\n",
      "[LightGBM] [Warning] bagging_fraction is set=0.4495111090771696, subsample=1.0 will be ignored. Current value: bagging_fraction=0.4495111090771696\n",
      "[LightGBM] [Warning] lambda_l1 is set=0.46742669116267244, reg_alpha=0.0 will be ignored. Current value: lambda_l1=0.46742669116267244\n",
      "[LightGBM] [Warning] feature_fraction is set=0.8843878080187839, colsample_bytree=1.0 will be ignored. Current value: feature_fraction=0.8843878080187839\n",
      "[LightGBM] [Warning] lambda_l2 is set=4.819110790781924, reg_lambda=0.0 will be ignored. Current value: lambda_l2=4.819110790781924\n",
      "[LightGBM] [Warning] bagging_freq is set=3, subsample_freq=0 will be ignored. Current value: bagging_freq=3\n"
     ]
    },
    {
     "name": "stderr",
     "output_type": "stream",
     "text": [
      "\u001b[32m[I 2023-03-15 16:57:53,677]\u001b[0m Trial 67 finished with value: -0.19857183365451553 and parameters: {'lambda_l1': 0.46742669116267244, 'lambda_l2': 4.819110790781924, 'num_leaves': 256, 'feature_fraction': 0.8843878080187839, 'bagging_fraction': 0.4495111090771696, 'bagging_freq': 3, 'min_child_samples': 95}. Best is trial 39 with value: -0.1907555870778161.\u001b[0m\n"
     ]
    },
    {
     "name": "stdout",
     "output_type": "stream",
     "text": [
      "[LightGBM] [Warning] bagging_fraction is set=0.4495111090771696, subsample=1.0 will be ignored. Current value: bagging_fraction=0.4495111090771696\n",
      "[LightGBM] [Warning] lambda_l1 is set=0.46742669116267244, reg_alpha=0.0 will be ignored. Current value: lambda_l1=0.46742669116267244\n",
      "[LightGBM] [Warning] feature_fraction is set=0.8843878080187839, colsample_bytree=1.0 will be ignored. Current value: feature_fraction=0.8843878080187839\n",
      "[LightGBM] [Warning] lambda_l2 is set=4.819110790781924, reg_lambda=0.0 will be ignored. Current value: lambda_l2=4.819110790781924\n",
      "[LightGBM] [Warning] bagging_freq is set=3, subsample_freq=0 will be ignored. Current value: bagging_freq=3\n",
      "[LightGBM] [Warning] bagging_fraction is set=0.47674860345615167, subsample=1.0 will be ignored. Current value: bagging_fraction=0.47674860345615167\n",
      "[LightGBM] [Warning] lambda_l1 is set=1.2938919869410697, reg_alpha=0.0 will be ignored. Current value: lambda_l1=1.2938919869410697\n",
      "[LightGBM] [Warning] feature_fraction is set=0.9376733647117506, colsample_bytree=1.0 will be ignored. Current value: feature_fraction=0.9376733647117506\n",
      "[LightGBM] [Warning] lambda_l2 is set=0.004536821575373205, reg_lambda=0.0 will be ignored. Current value: lambda_l2=0.004536821575373205\n",
      "[LightGBM] [Warning] bagging_freq is set=4, subsample_freq=0 will be ignored. Current value: bagging_freq=4\n",
      "[LightGBM] [Warning] bagging_fraction is set=0.47674860345615167, subsample=1.0 will be ignored. Current value: bagging_fraction=0.47674860345615167\n",
      "[LightGBM] [Warning] lambda_l1 is set=1.2938919869410697, reg_alpha=0.0 will be ignored. Current value: lambda_l1=1.2938919869410697\n",
      "[LightGBM] [Warning] feature_fraction is set=0.9376733647117506, colsample_bytree=1.0 will be ignored. Current value: feature_fraction=0.9376733647117506\n",
      "[LightGBM] [Warning] lambda_l2 is set=0.004536821575373205, reg_lambda=0.0 will be ignored. Current value: lambda_l2=0.004536821575373205\n",
      "[LightGBM] [Warning] bagging_freq is set=4, subsample_freq=0 will be ignored. Current value: bagging_freq=4\n",
      "[LightGBM] [Warning] bagging_fraction is set=0.47674860345615167, subsample=1.0 will be ignored. Current value: bagging_fraction=0.47674860345615167\n",
      "[LightGBM] [Warning] lambda_l1 is set=1.2938919869410697, reg_alpha=0.0 will be ignored. Current value: lambda_l1=1.2938919869410697\n",
      "[LightGBM] [Warning] feature_fraction is set=0.9376733647117506, colsample_bytree=1.0 will be ignored. Current value: feature_fraction=0.9376733647117506\n",
      "[LightGBM] [Warning] lambda_l2 is set=0.004536821575373205, reg_lambda=0.0 will be ignored. Current value: lambda_l2=0.004536821575373205\n",
      "[LightGBM] [Warning] bagging_freq is set=4, subsample_freq=0 will be ignored. Current value: bagging_freq=4\n",
      "[LightGBM] [Warning] bagging_fraction is set=0.47674860345615167, subsample=1.0 will be ignored. Current value: bagging_fraction=0.47674860345615167\n",
      "[LightGBM] [Warning] lambda_l1 is set=1.2938919869410697, reg_alpha=0.0 will be ignored. Current value: lambda_l1=1.2938919869410697\n",
      "[LightGBM] [Warning] feature_fraction is set=0.9376733647117506, colsample_bytree=1.0 will be ignored. Current value: feature_fraction=0.9376733647117506\n",
      "[LightGBM] [Warning] lambda_l2 is set=0.004536821575373205, reg_lambda=0.0 will be ignored. Current value: lambda_l2=0.004536821575373205\n",
      "[LightGBM] [Warning] bagging_freq is set=4, subsample_freq=0 will be ignored. Current value: bagging_freq=4\n",
      "[LightGBM] [Warning] bagging_fraction is set=0.47674860345615167, subsample=1.0 will be ignored. Current value: bagging_fraction=0.47674860345615167\n",
      "[LightGBM] [Warning] lambda_l1 is set=1.2938919869410697, reg_alpha=0.0 will be ignored. Current value: lambda_l1=1.2938919869410697\n",
      "[LightGBM] [Warning] feature_fraction is set=0.9376733647117506, colsample_bytree=1.0 will be ignored. Current value: feature_fraction=0.9376733647117506\n",
      "[LightGBM] [Warning] lambda_l2 is set=0.004536821575373205, reg_lambda=0.0 will be ignored. Current value: lambda_l2=0.004536821575373205\n",
      "[LightGBM] [Warning] bagging_freq is set=4, subsample_freq=0 will be ignored. Current value: bagging_freq=4\n"
     ]
    },
    {
     "name": "stderr",
     "output_type": "stream",
     "text": [
      "\u001b[32m[I 2023-03-15 16:57:54,118]\u001b[0m Trial 68 finished with value: -0.2063739037869492 and parameters: {'lambda_l1': 1.2938919869410697, 'lambda_l2': 0.004536821575373205, 'num_leaves': 194, 'feature_fraction': 0.9376733647117506, 'bagging_fraction': 0.47674860345615167, 'bagging_freq': 4, 'min_child_samples': 67}. Best is trial 39 with value: -0.1907555870778161.\u001b[0m\n"
     ]
    },
    {
     "name": "stdout",
     "output_type": "stream",
     "text": [
      "[LightGBM] [Warning] bagging_fraction is set=0.4156116542693878, subsample=1.0 will be ignored. Current value: bagging_fraction=0.4156116542693878\n",
      "[LightGBM] [Warning] lambda_l1 is set=5.64796244488645, reg_alpha=0.0 will be ignored. Current value: lambda_l1=5.64796244488645\n",
      "[LightGBM] [Warning] feature_fraction is set=0.8459446062247403, colsample_bytree=1.0 will be ignored. Current value: feature_fraction=0.8459446062247403\n",
      "[LightGBM] [Warning] lambda_l2 is set=0.30164259648640696, reg_lambda=0.0 will be ignored. Current value: lambda_l2=0.30164259648640696\n",
      "[LightGBM] [Warning] bagging_freq is set=1, subsample_freq=0 will be ignored. Current value: bagging_freq=1\n",
      "[LightGBM] [Warning] bagging_fraction is set=0.4156116542693878, subsample=1.0 will be ignored. Current value: bagging_fraction=0.4156116542693878\n",
      "[LightGBM] [Warning] lambda_l1 is set=5.64796244488645, reg_alpha=0.0 will be ignored. Current value: lambda_l1=5.64796244488645\n",
      "[LightGBM] [Warning] feature_fraction is set=0.8459446062247403, colsample_bytree=1.0 will be ignored. Current value: feature_fraction=0.8459446062247403\n",
      "[LightGBM] [Warning] lambda_l2 is set=0.30164259648640696, reg_lambda=0.0 will be ignored. Current value: lambda_l2=0.30164259648640696\n",
      "[LightGBM] [Warning] bagging_freq is set=1, subsample_freq=0 will be ignored. Current value: bagging_freq=1\n",
      "[LightGBM] [Warning] bagging_fraction is set=0.4156116542693878, subsample=1.0 will be ignored. Current value: bagging_fraction=0.4156116542693878\n",
      "[LightGBM] [Warning] lambda_l1 is set=5.64796244488645, reg_alpha=0.0 will be ignored. Current value: lambda_l1=5.64796244488645\n",
      "[LightGBM] [Warning] feature_fraction is set=0.8459446062247403, colsample_bytree=1.0 will be ignored. Current value: feature_fraction=0.8459446062247403\n",
      "[LightGBM] [Warning] lambda_l2 is set=0.30164259648640696, reg_lambda=0.0 will be ignored. Current value: lambda_l2=0.30164259648640696\n",
      "[LightGBM] [Warning] bagging_freq is set=1, subsample_freq=0 will be ignored. Current value: bagging_freq=1\n",
      "[LightGBM] [Warning] bagging_fraction is set=0.4156116542693878, subsample=1.0 will be ignored. Current value: bagging_fraction=0.4156116542693878\n",
      "[LightGBM] [Warning] lambda_l1 is set=5.64796244488645, reg_alpha=0.0 will be ignored. Current value: lambda_l1=5.64796244488645\n",
      "[LightGBM] [Warning] feature_fraction is set=0.8459446062247403, colsample_bytree=1.0 will be ignored. Current value: feature_fraction=0.8459446062247403\n",
      "[LightGBM] [Warning] lambda_l2 is set=0.30164259648640696, reg_lambda=0.0 will be ignored. Current value: lambda_l2=0.30164259648640696\n",
      "[LightGBM] [Warning] bagging_freq is set=1, subsample_freq=0 will be ignored. Current value: bagging_freq=1\n"
     ]
    },
    {
     "name": "stderr",
     "output_type": "stream",
     "text": [
      "\u001b[32m[I 2023-03-15 16:57:54,475]\u001b[0m Trial 69 finished with value: -0.19209684680537972 and parameters: {'lambda_l1': 5.64796244488645, 'lambda_l2': 0.30164259648640696, 'num_leaves': 239, 'feature_fraction': 0.8459446062247403, 'bagging_fraction': 0.4156116542693878, 'bagging_freq': 1, 'min_child_samples': 97}. Best is trial 39 with value: -0.1907555870778161.\u001b[0m\n"
     ]
    },
    {
     "name": "stdout",
     "output_type": "stream",
     "text": [
      "[LightGBM] [Warning] bagging_fraction is set=0.4156116542693878, subsample=1.0 will be ignored. Current value: bagging_fraction=0.4156116542693878\n",
      "[LightGBM] [Warning] lambda_l1 is set=5.64796244488645, reg_alpha=0.0 will be ignored. Current value: lambda_l1=5.64796244488645\n",
      "[LightGBM] [Warning] feature_fraction is set=0.8459446062247403, colsample_bytree=1.0 will be ignored. Current value: feature_fraction=0.8459446062247403\n",
      "[LightGBM] [Warning] lambda_l2 is set=0.30164259648640696, reg_lambda=0.0 will be ignored. Current value: lambda_l2=0.30164259648640696\n",
      "[LightGBM] [Warning] bagging_freq is set=1, subsample_freq=0 will be ignored. Current value: bagging_freq=1\n",
      "[LightGBM] [Warning] bagging_fraction is set=0.42070799707149326, subsample=1.0 will be ignored. Current value: bagging_fraction=0.42070799707149326\n",
      "[LightGBM] [Warning] lambda_l1 is set=4.98290291741559, reg_alpha=0.0 will be ignored. Current value: lambda_l1=4.98290291741559\n",
      "[LightGBM] [Warning] feature_fraction is set=0.8401437436672297, colsample_bytree=1.0 will be ignored. Current value: feature_fraction=0.8401437436672297\n",
      "[LightGBM] [Warning] lambda_l2 is set=1.2799343367039238, reg_lambda=0.0 will be ignored. Current value: lambda_l2=1.2799343367039238\n",
      "[LightGBM] [Warning] bagging_freq is set=1, subsample_freq=0 will be ignored. Current value: bagging_freq=1\n",
      "[LightGBM] [Warning] bagging_fraction is set=0.42070799707149326, subsample=1.0 will be ignored. Current value: bagging_fraction=0.42070799707149326\n",
      "[LightGBM] [Warning] lambda_l1 is set=4.98290291741559, reg_alpha=0.0 will be ignored. Current value: lambda_l1=4.98290291741559\n",
      "[LightGBM] [Warning] feature_fraction is set=0.8401437436672297, colsample_bytree=1.0 will be ignored. Current value: feature_fraction=0.8401437436672297\n",
      "[LightGBM] [Warning] lambda_l2 is set=1.2799343367039238, reg_lambda=0.0 will be ignored. Current value: lambda_l2=1.2799343367039238\n",
      "[LightGBM] [Warning] bagging_freq is set=1, subsample_freq=0 will be ignored. Current value: bagging_freq=1\n",
      "[LightGBM] [Warning] bagging_fraction is set=0.42070799707149326, subsample=1.0 will be ignored. Current value: bagging_fraction=0.42070799707149326\n",
      "[LightGBM] [Warning] lambda_l1 is set=4.98290291741559, reg_alpha=0.0 will be ignored. Current value: lambda_l1=4.98290291741559\n",
      "[LightGBM] [Warning] feature_fraction is set=0.8401437436672297, colsample_bytree=1.0 will be ignored. Current value: feature_fraction=0.8401437436672297\n",
      "[LightGBM] [Warning] lambda_l2 is set=1.2799343367039238, reg_lambda=0.0 will be ignored. Current value: lambda_l2=1.2799343367039238\n",
      "[LightGBM] [Warning] bagging_freq is set=1, subsample_freq=0 will be ignored. Current value: bagging_freq=1\n",
      "[LightGBM] [Warning] bagging_fraction is set=0.42070799707149326, subsample=1.0 will be ignored. Current value: bagging_fraction=0.42070799707149326\n",
      "[LightGBM] [Warning] lambda_l1 is set=4.98290291741559, reg_alpha=0.0 will be ignored. Current value: lambda_l1=4.98290291741559\n",
      "[LightGBM] [Warning] feature_fraction is set=0.8401437436672297, colsample_bytree=1.0 will be ignored. Current value: feature_fraction=0.8401437436672297\n",
      "[LightGBM] [Warning] lambda_l2 is set=1.2799343367039238, reg_lambda=0.0 will be ignored. Current value: lambda_l2=1.2799343367039238\n",
      "[LightGBM] [Warning] bagging_freq is set=1, subsample_freq=0 will be ignored. Current value: bagging_freq=1\n",
      "[LightGBM] [Warning] bagging_fraction is set=0.42070799707149326, subsample=1.0 will be ignored. Current value: bagging_fraction=0.42070799707149326\n",
      "[LightGBM] [Warning] lambda_l1 is set=4.98290291741559, reg_alpha=0.0 will be ignored. Current value: lambda_l1=4.98290291741559\n",
      "[LightGBM] [Warning] feature_fraction is set=0.8401437436672297, colsample_bytree=1.0 will be ignored. Current value: feature_fraction=0.8401437436672297\n",
      "[LightGBM] [Warning] lambda_l2 is set=1.2799343367039238, reg_lambda=0.0 will be ignored. Current value: lambda_l2=1.2799343367039238\n",
      "[LightGBM] [Warning] bagging_freq is set=1, subsample_freq=0 will be ignored. Current value: bagging_freq=1\n"
     ]
    },
    {
     "name": "stderr",
     "output_type": "stream",
     "text": [
      "\u001b[32m[I 2023-03-15 16:57:55,178]\u001b[0m Trial 70 finished with value: -0.19306329961058039 and parameters: {'lambda_l1': 4.98290291741559, 'lambda_l2': 1.2799343367039238, 'num_leaves': 241, 'feature_fraction': 0.8401437436672297, 'bagging_fraction': 0.42070799707149326, 'bagging_freq': 1, 'min_child_samples': 97}. Best is trial 39 with value: -0.1907555870778161.\u001b[0m\n"
     ]
    },
    {
     "name": "stdout",
     "output_type": "stream",
     "text": [
      "[LightGBM] [Warning] bagging_fraction is set=0.43642705832665823, subsample=1.0 will be ignored. Current value: bagging_fraction=0.43642705832665823\n",
      "[LightGBM] [Warning] lambda_l1 is set=8.737644114790662, reg_alpha=0.0 will be ignored. Current value: lambda_l1=8.737644114790662\n",
      "[LightGBM] [Warning] feature_fraction is set=0.865633799392988, colsample_bytree=1.0 will be ignored. Current value: feature_fraction=0.865633799392988\n",
      "[LightGBM] [Warning] lambda_l2 is set=0.296644071064278, reg_lambda=0.0 will be ignored. Current value: lambda_l2=0.296644071064278\n",
      "[LightGBM] [Warning] bagging_freq is set=1, subsample_freq=0 will be ignored. Current value: bagging_freq=1\n",
      "[LightGBM] [Warning] bagging_fraction is set=0.43642705832665823, subsample=1.0 will be ignored. Current value: bagging_fraction=0.43642705832665823\n",
      "[LightGBM] [Warning] lambda_l1 is set=8.737644114790662, reg_alpha=0.0 will be ignored. Current value: lambda_l1=8.737644114790662\n",
      "[LightGBM] [Warning] feature_fraction is set=0.865633799392988, colsample_bytree=1.0 will be ignored. Current value: feature_fraction=0.865633799392988\n",
      "[LightGBM] [Warning] lambda_l2 is set=0.296644071064278, reg_lambda=0.0 will be ignored. Current value: lambda_l2=0.296644071064278\n",
      "[LightGBM] [Warning] bagging_freq is set=1, subsample_freq=0 will be ignored. Current value: bagging_freq=1\n",
      "[LightGBM] [Warning] bagging_fraction is set=0.43642705832665823, subsample=1.0 will be ignored. Current value: bagging_fraction=0.43642705832665823\n",
      "[LightGBM] [Warning] lambda_l1 is set=8.737644114790662, reg_alpha=0.0 will be ignored. Current value: lambda_l1=8.737644114790662\n",
      "[LightGBM] [Warning] feature_fraction is set=0.865633799392988, colsample_bytree=1.0 will be ignored. Current value: feature_fraction=0.865633799392988\n",
      "[LightGBM] [Warning] lambda_l2 is set=0.296644071064278, reg_lambda=0.0 will be ignored. Current value: lambda_l2=0.296644071064278\n",
      "[LightGBM] [Warning] bagging_freq is set=1, subsample_freq=0 will be ignored. Current value: bagging_freq=1\n",
      "[LightGBM] [Warning] bagging_fraction is set=0.43642705832665823, subsample=1.0 will be ignored. Current value: bagging_fraction=0.43642705832665823\n",
      "[LightGBM] [Warning] lambda_l1 is set=8.737644114790662, reg_alpha=0.0 will be ignored. Current value: lambda_l1=8.737644114790662\n",
      "[LightGBM] [Warning] feature_fraction is set=0.865633799392988, colsample_bytree=1.0 will be ignored. Current value: feature_fraction=0.865633799392988\n",
      "[LightGBM] [Warning] lambda_l2 is set=0.296644071064278, reg_lambda=0.0 will be ignored. Current value: lambda_l2=0.296644071064278\n",
      "[LightGBM] [Warning] bagging_freq is set=1, subsample_freq=0 will be ignored. Current value: bagging_freq=1\n",
      "[LightGBM] [Warning] bagging_fraction is set=0.43642705832665823, subsample=1.0 will be ignored. Current value: bagging_fraction=0.43642705832665823\n",
      "[LightGBM] [Warning] lambda_l1 is set=8.737644114790662, reg_alpha=0.0 will be ignored. Current value: lambda_l1=8.737644114790662\n",
      "[LightGBM] [Warning] feature_fraction is set=0.865633799392988, colsample_bytree=1.0 will be ignored. Current value: feature_fraction=0.865633799392988\n",
      "[LightGBM] [Warning] lambda_l2 is set=0.296644071064278, reg_lambda=0.0 will be ignored. Current value: lambda_l2=0.296644071064278\n",
      "[LightGBM] [Warning] bagging_freq is set=1, subsample_freq=0 will be ignored. Current value: bagging_freq=1\n"
     ]
    },
    {
     "name": "stderr",
     "output_type": "stream",
     "text": [
      "\u001b[32m[I 2023-03-15 16:57:56,360]\u001b[0m Trial 71 finished with value: -0.19125931211168082 and parameters: {'lambda_l1': 8.737644114790662, 'lambda_l2': 0.296644071064278, 'num_leaves': 223, 'feature_fraction': 0.865633799392988, 'bagging_fraction': 0.43642705832665823, 'bagging_freq': 1, 'min_child_samples': 99}. Best is trial 39 with value: -0.1907555870778161.\u001b[0m\n"
     ]
    },
    {
     "name": "stdout",
     "output_type": "stream",
     "text": [
      "[LightGBM] [Warning] bagging_fraction is set=0.4151728542065856, subsample=1.0 will be ignored. Current value: bagging_fraction=0.4151728542065856\n",
      "[LightGBM] [Warning] lambda_l1 is set=2.3444074426410983, reg_alpha=0.0 will be ignored. Current value: lambda_l1=2.3444074426410983\n",
      "[LightGBM] [Warning] feature_fraction is set=0.8568757805208489, colsample_bytree=1.0 will be ignored. Current value: feature_fraction=0.8568757805208489\n",
      "[LightGBM] [Warning] lambda_l2 is set=0.29843076153652126, reg_lambda=0.0 will be ignored. Current value: lambda_l2=0.29843076153652126\n",
      "[LightGBM] [Warning] bagging_freq is set=1, subsample_freq=0 will be ignored. Current value: bagging_freq=1\n",
      "[LightGBM] [Warning] bagging_fraction is set=0.4151728542065856, subsample=1.0 will be ignored. Current value: bagging_fraction=0.4151728542065856\n",
      "[LightGBM] [Warning] lambda_l1 is set=2.3444074426410983, reg_alpha=0.0 will be ignored. Current value: lambda_l1=2.3444074426410983\n",
      "[LightGBM] [Warning] feature_fraction is set=0.8568757805208489, colsample_bytree=1.0 will be ignored. Current value: feature_fraction=0.8568757805208489\n",
      "[LightGBM] [Warning] lambda_l2 is set=0.29843076153652126, reg_lambda=0.0 will be ignored. Current value: lambda_l2=0.29843076153652126\n",
      "[LightGBM] [Warning] bagging_freq is set=1, subsample_freq=0 will be ignored. Current value: bagging_freq=1\n",
      "[LightGBM] [Warning] bagging_fraction is set=0.4151728542065856, subsample=1.0 will be ignored. Current value: bagging_fraction=0.4151728542065856\n",
      "[LightGBM] [Warning] lambda_l1 is set=2.3444074426410983, reg_alpha=0.0 will be ignored. Current value: lambda_l1=2.3444074426410983\n",
      "[LightGBM] [Warning] feature_fraction is set=0.8568757805208489, colsample_bytree=1.0 will be ignored. Current value: feature_fraction=0.8568757805208489\n",
      "[LightGBM] [Warning] lambda_l2 is set=0.29843076153652126, reg_lambda=0.0 will be ignored. Current value: lambda_l2=0.29843076153652126\n",
      "[LightGBM] [Warning] bagging_freq is set=1, subsample_freq=0 will be ignored. Current value: bagging_freq=1\n",
      "[LightGBM] [Warning] bagging_fraction is set=0.4151728542065856, subsample=1.0 will be ignored. Current value: bagging_fraction=0.4151728542065856\n",
      "[LightGBM] [Warning] lambda_l1 is set=2.3444074426410983, reg_alpha=0.0 will be ignored. Current value: lambda_l1=2.3444074426410983\n",
      "[LightGBM] [Warning] feature_fraction is set=0.8568757805208489, colsample_bytree=1.0 will be ignored. Current value: feature_fraction=0.8568757805208489\n",
      "[LightGBM] [Warning] lambda_l2 is set=0.29843076153652126, reg_lambda=0.0 will be ignored. Current value: lambda_l2=0.29843076153652126\n",
      "[LightGBM] [Warning] bagging_freq is set=1, subsample_freq=0 will be ignored. Current value: bagging_freq=1\n"
     ]
    },
    {
     "name": "stderr",
     "output_type": "stream",
     "text": [
      "\u001b[32m[I 2023-03-15 16:57:56,714]\u001b[0m Trial 72 finished with value: -0.19499664270048656 and parameters: {'lambda_l1': 2.3444074426410983, 'lambda_l2': 0.29843076153652126, 'num_leaves': 223, 'feature_fraction': 0.8568757805208489, 'bagging_fraction': 0.4151728542065856, 'bagging_freq': 1, 'min_child_samples': 98}. Best is trial 39 with value: -0.1907555870778161.\u001b[0m\n"
     ]
    },
    {
     "name": "stdout",
     "output_type": "stream",
     "text": [
      "[LightGBM] [Warning] bagging_fraction is set=0.4151728542065856, subsample=1.0 will be ignored. Current value: bagging_fraction=0.4151728542065856\n",
      "[LightGBM] [Warning] lambda_l1 is set=2.3444074426410983, reg_alpha=0.0 will be ignored. Current value: lambda_l1=2.3444074426410983\n",
      "[LightGBM] [Warning] feature_fraction is set=0.8568757805208489, colsample_bytree=1.0 will be ignored. Current value: feature_fraction=0.8568757805208489\n",
      "[LightGBM] [Warning] lambda_l2 is set=0.29843076153652126, reg_lambda=0.0 will be ignored. Current value: lambda_l2=0.29843076153652126\n",
      "[LightGBM] [Warning] bagging_freq is set=1, subsample_freq=0 will be ignored. Current value: bagging_freq=1\n",
      "[LightGBM] [Warning] bagging_fraction is set=0.43751923755289196, subsample=1.0 will be ignored. Current value: bagging_fraction=0.43751923755289196\n",
      "[LightGBM] [Warning] lambda_l1 is set=9.853135492917422, reg_alpha=0.0 will be ignored. Current value: lambda_l1=9.853135492917422\n",
      "[LightGBM] [Warning] feature_fraction is set=0.8170615885270316, colsample_bytree=1.0 will be ignored. Current value: feature_fraction=0.8170615885270316\n",
      "[LightGBM] [Warning] lambda_l2 is set=0.4613885100467715, reg_lambda=0.0 will be ignored. Current value: lambda_l2=0.4613885100467715\n",
      "[LightGBM] [Warning] bagging_freq is set=1, subsample_freq=0 will be ignored. Current value: bagging_freq=1\n",
      "[LightGBM] [Warning] bagging_fraction is set=0.43751923755289196, subsample=1.0 will be ignored. Current value: bagging_fraction=0.43751923755289196\n",
      "[LightGBM] [Warning] lambda_l1 is set=9.853135492917422, reg_alpha=0.0 will be ignored. Current value: lambda_l1=9.853135492917422\n",
      "[LightGBM] [Warning] feature_fraction is set=0.8170615885270316, colsample_bytree=1.0 will be ignored. Current value: feature_fraction=0.8170615885270316\n",
      "[LightGBM] [Warning] lambda_l2 is set=0.4613885100467715, reg_lambda=0.0 will be ignored. Current value: lambda_l2=0.4613885100467715\n",
      "[LightGBM] [Warning] bagging_freq is set=1, subsample_freq=0 will be ignored. Current value: bagging_freq=1\n"
     ]
    },
    {
     "name": "stderr",
     "output_type": "stream",
     "text": [
      "\u001b[32m[I 2023-03-15 16:57:57,039]\u001b[0m Trial 73 finished with value: -0.19055111682649534 and parameters: {'lambda_l1': 9.853135492917422, 'lambda_l2': 0.4613885100467715, 'num_leaves': 211, 'feature_fraction': 0.8170615885270316, 'bagging_fraction': 0.43751923755289196, 'bagging_freq': 1, 'min_child_samples': 100}. Best is trial 73 with value: -0.19055111682649534.\u001b[0m\n"
     ]
    },
    {
     "name": "stdout",
     "output_type": "stream",
     "text": [
      "[LightGBM] [Warning] bagging_fraction is set=0.43751923755289196, subsample=1.0 will be ignored. Current value: bagging_fraction=0.43751923755289196\n",
      "[LightGBM] [Warning] lambda_l1 is set=9.853135492917422, reg_alpha=0.0 will be ignored. Current value: lambda_l1=9.853135492917422\n",
      "[LightGBM] [Warning] feature_fraction is set=0.8170615885270316, colsample_bytree=1.0 will be ignored. Current value: feature_fraction=0.8170615885270316\n",
      "[LightGBM] [Warning] lambda_l2 is set=0.4613885100467715, reg_lambda=0.0 will be ignored. Current value: lambda_l2=0.4613885100467715\n",
      "[LightGBM] [Warning] bagging_freq is set=1, subsample_freq=0 will be ignored. Current value: bagging_freq=1\n",
      "[LightGBM] [Warning] bagging_fraction is set=0.43751923755289196, subsample=1.0 will be ignored. Current value: bagging_fraction=0.43751923755289196\n",
      "[LightGBM] [Warning] lambda_l1 is set=9.853135492917422, reg_alpha=0.0 will be ignored. Current value: lambda_l1=9.853135492917422\n",
      "[LightGBM] [Warning] feature_fraction is set=0.8170615885270316, colsample_bytree=1.0 will be ignored. Current value: feature_fraction=0.8170615885270316\n",
      "[LightGBM] [Warning] lambda_l2 is set=0.4613885100467715, reg_lambda=0.0 will be ignored. Current value: lambda_l2=0.4613885100467715\n",
      "[LightGBM] [Warning] bagging_freq is set=1, subsample_freq=0 will be ignored. Current value: bagging_freq=1\n",
      "[LightGBM] [Warning] bagging_fraction is set=0.43751923755289196, subsample=1.0 will be ignored. Current value: bagging_fraction=0.43751923755289196\n",
      "[LightGBM] [Warning] lambda_l1 is set=9.853135492917422, reg_alpha=0.0 will be ignored. Current value: lambda_l1=9.853135492917422\n",
      "[LightGBM] [Warning] feature_fraction is set=0.8170615885270316, colsample_bytree=1.0 will be ignored. Current value: feature_fraction=0.8170615885270316\n",
      "[LightGBM] [Warning] lambda_l2 is set=0.4613885100467715, reg_lambda=0.0 will be ignored. Current value: lambda_l2=0.4613885100467715\n",
      "[LightGBM] [Warning] bagging_freq is set=1, subsample_freq=0 will be ignored. Current value: bagging_freq=1\n",
      "[LightGBM] [Warning] bagging_fraction is set=0.43685894672485315, subsample=1.0 will be ignored. Current value: bagging_fraction=0.43685894672485315\n",
      "[LightGBM] [Warning] lambda_l1 is set=5.620539459629538, reg_alpha=0.0 will be ignored. Current value: lambda_l1=5.620539459629538\n",
      "[LightGBM] [Warning] feature_fraction is set=0.8315537369255538, colsample_bytree=1.0 will be ignored. Current value: feature_fraction=0.8315537369255538\n",
      "[LightGBM] [Warning] lambda_l2 is set=0.5635270824175053, reg_lambda=0.0 will be ignored. Current value: lambda_l2=0.5635270824175053\n",
      "[LightGBM] [Warning] bagging_freq is set=1, subsample_freq=0 will be ignored. Current value: bagging_freq=1\n",
      "[LightGBM] [Warning] bagging_fraction is set=0.43685894672485315, subsample=1.0 will be ignored. Current value: bagging_fraction=0.43685894672485315\n",
      "[LightGBM] [Warning] lambda_l1 is set=5.620539459629538, reg_alpha=0.0 will be ignored. Current value: lambda_l1=5.620539459629538\n",
      "[LightGBM] [Warning] feature_fraction is set=0.8315537369255538, colsample_bytree=1.0 will be ignored. Current value: feature_fraction=0.8315537369255538\n",
      "[LightGBM] [Warning] lambda_l2 is set=0.5635270824175053, reg_lambda=0.0 will be ignored. Current value: lambda_l2=0.5635270824175053\n",
      "[LightGBM] [Warning] bagging_freq is set=1, subsample_freq=0 will be ignored. Current value: bagging_freq=1\n",
      "[LightGBM] [Warning] bagging_fraction is set=0.43685894672485315, subsample=1.0 will be ignored. Current value: bagging_fraction=0.43685894672485315\n",
      "[LightGBM] [Warning] lambda_l1 is set=5.620539459629538, reg_alpha=0.0 will be ignored. Current value: lambda_l1=5.620539459629538\n",
      "[LightGBM] [Warning] feature_fraction is set=0.8315537369255538, colsample_bytree=1.0 will be ignored. Current value: feature_fraction=0.8315537369255538\n",
      "[LightGBM] [Warning] lambda_l2 is set=0.5635270824175053, reg_lambda=0.0 will be ignored. Current value: lambda_l2=0.5635270824175053\n",
      "[LightGBM] [Warning] bagging_freq is set=1, subsample_freq=0 will be ignored. Current value: bagging_freq=1\n",
      "[LightGBM] [Warning] bagging_fraction is set=0.43685894672485315, subsample=1.0 will be ignored. Current value: bagging_fraction=0.43685894672485315\n",
      "[LightGBM] [Warning] lambda_l1 is set=5.620539459629538, reg_alpha=0.0 will be ignored. Current value: lambda_l1=5.620539459629538\n",
      "[LightGBM] [Warning] feature_fraction is set=0.8315537369255538, colsample_bytree=1.0 will be ignored. Current value: feature_fraction=0.8315537369255538\n",
      "[LightGBM] [Warning] lambda_l2 is set=0.5635270824175053, reg_lambda=0.0 will be ignored. Current value: lambda_l2=0.5635270824175053\n",
      "[LightGBM] [Warning] bagging_freq is set=1, subsample_freq=0 will be ignored. Current value: bagging_freq=1\n"
     ]
    },
    {
     "name": "stderr",
     "output_type": "stream",
     "text": [
      "\u001b[32m[I 2023-03-15 16:57:57,393]\u001b[0m Trial 74 finished with value: -0.19387826417883716 and parameters: {'lambda_l1': 5.620539459629538, 'lambda_l2': 0.5635270824175053, 'num_leaves': 209, 'feature_fraction': 0.8315537369255538, 'bagging_fraction': 0.43685894672485315, 'bagging_freq': 1, 'min_child_samples': 100}. Best is trial 73 with value: -0.19055111682649534.\u001b[0m\n"
     ]
    },
    {
     "name": "stdout",
     "output_type": "stream",
     "text": [
      "[LightGBM] [Warning] bagging_fraction is set=0.43685894672485315, subsample=1.0 will be ignored. Current value: bagging_fraction=0.43685894672485315\n",
      "[LightGBM] [Warning] lambda_l1 is set=5.620539459629538, reg_alpha=0.0 will be ignored. Current value: lambda_l1=5.620539459629538\n",
      "[LightGBM] [Warning] feature_fraction is set=0.8315537369255538, colsample_bytree=1.0 will be ignored. Current value: feature_fraction=0.8315537369255538\n",
      "[LightGBM] [Warning] lambda_l2 is set=0.5635270824175053, reg_lambda=0.0 will be ignored. Current value: lambda_l2=0.5635270824175053\n",
      "[LightGBM] [Warning] bagging_freq is set=1, subsample_freq=0 will be ignored. Current value: bagging_freq=1\n",
      "[LightGBM] [Warning] bagging_fraction is set=0.40037931769585616, subsample=1.0 will be ignored. Current value: bagging_fraction=0.40037931769585616\n",
      "[LightGBM] [Warning] lambda_l1 is set=2.2158580843389415, reg_alpha=0.0 will be ignored. Current value: lambda_l1=2.2158580843389415\n",
      "[LightGBM] [Warning] feature_fraction is set=0.8198059305192205, colsample_bytree=1.0 will be ignored. Current value: feature_fraction=0.8198059305192205\n",
      "[LightGBM] [Warning] lambda_l2 is set=0.24281150922093464, reg_lambda=0.0 will be ignored. Current value: lambda_l2=0.24281150922093464\n",
      "[LightGBM] [Warning] bagging_freq is set=1, subsample_freq=0 will be ignored. Current value: bagging_freq=1\n",
      "[LightGBM] [Warning] bagging_fraction is set=0.40037931769585616, subsample=1.0 will be ignored. Current value: bagging_fraction=0.40037931769585616\n",
      "[LightGBM] [Warning] lambda_l1 is set=2.2158580843389415, reg_alpha=0.0 will be ignored. Current value: lambda_l1=2.2158580843389415\n",
      "[LightGBM] [Warning] feature_fraction is set=0.8198059305192205, colsample_bytree=1.0 will be ignored. Current value: feature_fraction=0.8198059305192205\n",
      "[LightGBM] [Warning] lambda_l2 is set=0.24281150922093464, reg_lambda=0.0 will be ignored. Current value: lambda_l2=0.24281150922093464\n",
      "[LightGBM] [Warning] bagging_freq is set=1, subsample_freq=0 will be ignored. Current value: bagging_freq=1\n"
     ]
    },
    {
     "name": "stderr",
     "output_type": "stream",
     "text": [
      "\u001b[32m[I 2023-03-15 16:57:57,746]\u001b[0m Trial 75 finished with value: -0.1965049886710731 and parameters: {'lambda_l1': 2.2158580843389415, 'lambda_l2': 0.24281150922093464, 'num_leaves': 201, 'feature_fraction': 0.8198059305192205, 'bagging_fraction': 0.40037931769585616, 'bagging_freq': 1, 'min_child_samples': 94}. Best is trial 73 with value: -0.19055111682649534.\u001b[0m\n"
     ]
    },
    {
     "name": "stdout",
     "output_type": "stream",
     "text": [
      "[LightGBM] [Warning] bagging_fraction is set=0.40037931769585616, subsample=1.0 will be ignored. Current value: bagging_fraction=0.40037931769585616\n",
      "[LightGBM] [Warning] lambda_l1 is set=2.2158580843389415, reg_alpha=0.0 will be ignored. Current value: lambda_l1=2.2158580843389415\n",
      "[LightGBM] [Warning] feature_fraction is set=0.8198059305192205, colsample_bytree=1.0 will be ignored. Current value: feature_fraction=0.8198059305192205\n",
      "[LightGBM] [Warning] lambda_l2 is set=0.24281150922093464, reg_lambda=0.0 will be ignored. Current value: lambda_l2=0.24281150922093464\n",
      "[LightGBM] [Warning] bagging_freq is set=1, subsample_freq=0 will be ignored. Current value: bagging_freq=1\n",
      "[LightGBM] [Warning] bagging_fraction is set=0.40037931769585616, subsample=1.0 will be ignored. Current value: bagging_fraction=0.40037931769585616\n",
      "[LightGBM] [Warning] lambda_l1 is set=2.2158580843389415, reg_alpha=0.0 will be ignored. Current value: lambda_l1=2.2158580843389415\n",
      "[LightGBM] [Warning] feature_fraction is set=0.8198059305192205, colsample_bytree=1.0 will be ignored. Current value: feature_fraction=0.8198059305192205\n",
      "[LightGBM] [Warning] lambda_l2 is set=0.24281150922093464, reg_lambda=0.0 will be ignored. Current value: lambda_l2=0.24281150922093464\n",
      "[LightGBM] [Warning] bagging_freq is set=1, subsample_freq=0 will be ignored. Current value: bagging_freq=1\n",
      "[LightGBM] [Warning] bagging_fraction is set=0.40037931769585616, subsample=1.0 will be ignored. Current value: bagging_fraction=0.40037931769585616\n",
      "[LightGBM] [Warning] lambda_l1 is set=2.2158580843389415, reg_alpha=0.0 will be ignored. Current value: lambda_l1=2.2158580843389415\n",
      "[LightGBM] [Warning] feature_fraction is set=0.8198059305192205, colsample_bytree=1.0 will be ignored. Current value: feature_fraction=0.8198059305192205\n",
      "[LightGBM] [Warning] lambda_l2 is set=0.24281150922093464, reg_lambda=0.0 will be ignored. Current value: lambda_l2=0.24281150922093464\n",
      "[LightGBM] [Warning] bagging_freq is set=1, subsample_freq=0 will be ignored. Current value: bagging_freq=1\n",
      "[LightGBM] [Warning] bagging_fraction is set=0.49018012370322334, subsample=1.0 will be ignored. Current value: bagging_fraction=0.49018012370322334\n",
      "[LightGBM] [Warning] lambda_l1 is set=1.2600427298533472, reg_alpha=0.0 will be ignored. Current value: lambda_l1=1.2600427298533472\n",
      "[LightGBM] [Warning] feature_fraction is set=0.8740177067272918, colsample_bytree=1.0 will be ignored. Current value: feature_fraction=0.8740177067272918\n",
      "[LightGBM] [Warning] lambda_l2 is set=1.3945435006518454, reg_lambda=0.0 will be ignored. Current value: lambda_l2=1.3945435006518454\n",
      "[LightGBM] [Warning] bagging_freq is set=1, subsample_freq=0 will be ignored. Current value: bagging_freq=1\n",
      "[LightGBM] [Warning] bagging_fraction is set=0.49018012370322334, subsample=1.0 will be ignored. Current value: bagging_fraction=0.49018012370322334\n",
      "[LightGBM] [Warning] lambda_l1 is set=1.2600427298533472, reg_alpha=0.0 will be ignored. Current value: lambda_l1=1.2600427298533472\n",
      "[LightGBM] [Warning] feature_fraction is set=0.8740177067272918, colsample_bytree=1.0 will be ignored. Current value: feature_fraction=0.8740177067272918\n",
      "[LightGBM] [Warning] lambda_l2 is set=1.3945435006518454, reg_lambda=0.0 will be ignored. Current value: lambda_l2=1.3945435006518454\n",
      "[LightGBM] [Warning] bagging_freq is set=1, subsample_freq=0 will be ignored. Current value: bagging_freq=1\n",
      "[LightGBM] [Warning] bagging_fraction is set=0.49018012370322334, subsample=1.0 will be ignored. Current value: bagging_fraction=0.49018012370322334\n",
      "[LightGBM] [Warning] lambda_l1 is set=1.2600427298533472, reg_alpha=0.0 will be ignored. Current value: lambda_l1=1.2600427298533472\n",
      "[LightGBM] [Warning] feature_fraction is set=0.8740177067272918, colsample_bytree=1.0 will be ignored. Current value: feature_fraction=0.8740177067272918\n",
      "[LightGBM] [Warning] lambda_l2 is set=1.3945435006518454, reg_lambda=0.0 will be ignored. Current value: lambda_l2=1.3945435006518454\n",
      "[LightGBM] [Warning] bagging_freq is set=1, subsample_freq=0 will be ignored. Current value: bagging_freq=1\n"
     ]
    },
    {
     "name": "stderr",
     "output_type": "stream",
     "text": [
      "\u001b[32m[I 2023-03-15 16:57:58,146]\u001b[0m Trial 76 finished with value: -0.19904807849778702 and parameters: {'lambda_l1': 1.2600427298533472, 'lambda_l2': 1.3945435006518454, 'num_leaves': 224, 'feature_fraction': 0.8740177067272918, 'bagging_fraction': 0.49018012370322334, 'bagging_freq': 1, 'min_child_samples': 98}. Best is trial 73 with value: -0.19055111682649534.\u001b[0m\n"
     ]
    },
    {
     "name": "stdout",
     "output_type": "stream",
     "text": [
      "[LightGBM] [Warning] bagging_fraction is set=0.49018012370322334, subsample=1.0 will be ignored. Current value: bagging_fraction=0.49018012370322334\n",
      "[LightGBM] [Warning] lambda_l1 is set=1.2600427298533472, reg_alpha=0.0 will be ignored. Current value: lambda_l1=1.2600427298533472\n",
      "[LightGBM] [Warning] feature_fraction is set=0.8740177067272918, colsample_bytree=1.0 will be ignored. Current value: feature_fraction=0.8740177067272918\n",
      "[LightGBM] [Warning] lambda_l2 is set=1.3945435006518454, reg_lambda=0.0 will be ignored. Current value: lambda_l2=1.3945435006518454\n",
      "[LightGBM] [Warning] bagging_freq is set=1, subsample_freq=0 will be ignored. Current value: bagging_freq=1\n",
      "[LightGBM] [Warning] bagging_fraction is set=0.49018012370322334, subsample=1.0 will be ignored. Current value: bagging_fraction=0.49018012370322334\n",
      "[LightGBM] [Warning] lambda_l1 is set=1.2600427298533472, reg_alpha=0.0 will be ignored. Current value: lambda_l1=1.2600427298533472\n",
      "[LightGBM] [Warning] feature_fraction is set=0.8740177067272918, colsample_bytree=1.0 will be ignored. Current value: feature_fraction=0.8740177067272918\n",
      "[LightGBM] [Warning] lambda_l2 is set=1.3945435006518454, reg_lambda=0.0 will be ignored. Current value: lambda_l2=1.3945435006518454\n",
      "[LightGBM] [Warning] bagging_freq is set=1, subsample_freq=0 will be ignored. Current value: bagging_freq=1\n",
      "[LightGBM] [Warning] bagging_fraction is set=0.4641183557826677, subsample=1.0 will be ignored. Current value: bagging_fraction=0.4641183557826677\n",
      "[LightGBM] [Warning] lambda_l1 is set=5.307929294644459, reg_alpha=0.0 will be ignored. Current value: lambda_l1=5.307929294644459\n",
      "[LightGBM] [Warning] feature_fraction is set=0.8999538071455899, colsample_bytree=1.0 will be ignored. Current value: feature_fraction=0.8999538071455899\n",
      "[LightGBM] [Warning] lambda_l2 is set=0.08488210526694212, reg_lambda=0.0 will be ignored. Current value: lambda_l2=0.08488210526694212\n",
      "[LightGBM] [Warning] bagging_freq is set=1, subsample_freq=0 will be ignored. Current value: bagging_freq=1\n",
      "[LightGBM] [Warning] bagging_fraction is set=0.4641183557826677, subsample=1.0 will be ignored. Current value: bagging_fraction=0.4641183557826677\n",
      "[LightGBM] [Warning] lambda_l1 is set=5.307929294644459, reg_alpha=0.0 will be ignored. Current value: lambda_l1=5.307929294644459\n",
      "[LightGBM] [Warning] feature_fraction is set=0.8999538071455899, colsample_bytree=1.0 will be ignored. Current value: feature_fraction=0.8999538071455899\n",
      "[LightGBM] [Warning] lambda_l2 is set=0.08488210526694212, reg_lambda=0.0 will be ignored. Current value: lambda_l2=0.08488210526694212\n",
      "[LightGBM] [Warning] bagging_freq is set=1, subsample_freq=0 will be ignored. Current value: bagging_freq=1\n",
      "[LightGBM] [Warning] bagging_fraction is set=0.4641183557826677, subsample=1.0 will be ignored. Current value: bagging_fraction=0.4641183557826677\n",
      "[LightGBM] [Warning] lambda_l1 is set=5.307929294644459, reg_alpha=0.0 will be ignored. Current value: lambda_l1=5.307929294644459\n",
      "[LightGBM] [Warning] feature_fraction is set=0.8999538071455899, colsample_bytree=1.0 will be ignored. Current value: feature_fraction=0.8999538071455899\n",
      "[LightGBM] [Warning] lambda_l2 is set=0.08488210526694212, reg_lambda=0.0 will be ignored. Current value: lambda_l2=0.08488210526694212\n",
      "[LightGBM] [Warning] bagging_freq is set=1, subsample_freq=0 will be ignored. Current value: bagging_freq=1\n",
      "[LightGBM] [Warning] bagging_fraction is set=0.4641183557826677, subsample=1.0 will be ignored. Current value: bagging_fraction=0.4641183557826677\n",
      "[LightGBM] [Warning] lambda_l1 is set=5.307929294644459, reg_alpha=0.0 will be ignored. Current value: lambda_l1=5.307929294644459\n",
      "[LightGBM] [Warning] feature_fraction is set=0.8999538071455899, colsample_bytree=1.0 will be ignored. Current value: feature_fraction=0.8999538071455899\n",
      "[LightGBM] [Warning] lambda_l2 is set=0.08488210526694212, reg_lambda=0.0 will be ignored. Current value: lambda_l2=0.08488210526694212\n",
      "[LightGBM] [Warning] bagging_freq is set=1, subsample_freq=0 will be ignored. Current value: bagging_freq=1\n",
      "[LightGBM] [Warning] bagging_fraction is set=0.4641183557826677, subsample=1.0 will be ignored. Current value: bagging_fraction=0.4641183557826677\n",
      "[LightGBM] [Warning] lambda_l1 is set=5.307929294644459, reg_alpha=0.0 will be ignored. Current value: lambda_l1=5.307929294644459\n",
      "[LightGBM] [Warning] feature_fraction is set=0.8999538071455899, colsample_bytree=1.0 will be ignored. Current value: feature_fraction=0.8999538071455899\n",
      "[LightGBM] [Warning] lambda_l2 is set=0.08488210526694212, reg_lambda=0.0 will be ignored. Current value: lambda_l2=0.08488210526694212\n",
      "[LightGBM] [Warning] bagging_freq is set=1, subsample_freq=0 will be ignored. Current value: bagging_freq=1\n"
     ]
    },
    {
     "name": "stderr",
     "output_type": "stream",
     "text": [
      "\u001b[32m[I 2023-03-15 16:57:58,531]\u001b[0m Trial 77 finished with value: -0.19604261693375188 and parameters: {'lambda_l1': 5.307929294644459, 'lambda_l2': 0.08488210526694212, 'num_leaves': 188, 'feature_fraction': 0.8999538071455899, 'bagging_fraction': 0.4641183557826677, 'bagging_freq': 1, 'min_child_samples': 89}. Best is trial 73 with value: -0.19055111682649534.\u001b[0m\n"
     ]
    },
    {
     "name": "stdout",
     "output_type": "stream",
     "text": [
      "[LightGBM] [Warning] bagging_fraction is set=0.420100546408946, subsample=1.0 will be ignored. Current value: bagging_fraction=0.420100546408946\n",
      "[LightGBM] [Warning] lambda_l1 is set=9.61606265850398, reg_alpha=0.0 will be ignored. Current value: lambda_l1=9.61606265850398\n",
      "[LightGBM] [Warning] feature_fraction is set=0.8068497288474045, colsample_bytree=1.0 will be ignored. Current value: feature_fraction=0.8068497288474045\n",
      "[LightGBM] [Warning] lambda_l2 is set=0.6042813621697077, reg_lambda=0.0 will be ignored. Current value: lambda_l2=0.6042813621697077\n",
      "[LightGBM] [Warning] bagging_freq is set=1, subsample_freq=0 will be ignored. Current value: bagging_freq=1\n",
      "[LightGBM] [Warning] bagging_fraction is set=0.420100546408946, subsample=1.0 will be ignored. Current value: bagging_fraction=0.420100546408946\n",
      "[LightGBM] [Warning] lambda_l1 is set=9.61606265850398, reg_alpha=0.0 will be ignored. Current value: lambda_l1=9.61606265850398\n",
      "[LightGBM] [Warning] feature_fraction is set=0.8068497288474045, colsample_bytree=1.0 will be ignored. Current value: feature_fraction=0.8068497288474045\n",
      "[LightGBM] [Warning] lambda_l2 is set=0.6042813621697077, reg_lambda=0.0 will be ignored. Current value: lambda_l2=0.6042813621697077\n",
      "[LightGBM] [Warning] bagging_freq is set=1, subsample_freq=0 will be ignored. Current value: bagging_freq=1\n",
      "[LightGBM] [Warning] bagging_fraction is set=0.420100546408946, subsample=1.0 will be ignored. Current value: bagging_fraction=0.420100546408946\n",
      "[LightGBM] [Warning] lambda_l1 is set=9.61606265850398, reg_alpha=0.0 will be ignored. Current value: lambda_l1=9.61606265850398\n",
      "[LightGBM] [Warning] feature_fraction is set=0.8068497288474045, colsample_bytree=1.0 will be ignored. Current value: feature_fraction=0.8068497288474045\n",
      "[LightGBM] [Warning] lambda_l2 is set=0.6042813621697077, reg_lambda=0.0 will be ignored. Current value: lambda_l2=0.6042813621697077\n",
      "[LightGBM] [Warning] bagging_freq is set=1, subsample_freq=0 will be ignored. Current value: bagging_freq=1\n",
      "[LightGBM] [Warning] bagging_fraction is set=0.420100546408946, subsample=1.0 will be ignored. Current value: bagging_fraction=0.420100546408946\n",
      "[LightGBM] [Warning] lambda_l1 is set=9.61606265850398, reg_alpha=0.0 will be ignored. Current value: lambda_l1=9.61606265850398\n",
      "[LightGBM] [Warning] feature_fraction is set=0.8068497288474045, colsample_bytree=1.0 will be ignored. Current value: feature_fraction=0.8068497288474045\n",
      "[LightGBM] [Warning] lambda_l2 is set=0.6042813621697077, reg_lambda=0.0 will be ignored. Current value: lambda_l2=0.6042813621697077\n",
      "[LightGBM] [Warning] bagging_freq is set=1, subsample_freq=0 will be ignored. Current value: bagging_freq=1\n"
     ]
    },
    {
     "name": "stderr",
     "output_type": "stream",
     "text": [
      "\u001b[32m[I 2023-03-15 16:57:58,870]\u001b[0m Trial 78 finished with value: -0.18953205159658548 and parameters: {'lambda_l1': 9.61606265850398, 'lambda_l2': 0.6042813621697077, 'num_leaves': 214, 'feature_fraction': 0.8068497288474045, 'bagging_fraction': 0.420100546408946, 'bagging_freq': 1, 'min_child_samples': 92}. Best is trial 78 with value: -0.18953205159658548.\u001b[0m\n"
     ]
    },
    {
     "name": "stdout",
     "output_type": "stream",
     "text": [
      "[LightGBM] [Warning] bagging_fraction is set=0.420100546408946, subsample=1.0 will be ignored. Current value: bagging_fraction=0.420100546408946\n",
      "[LightGBM] [Warning] lambda_l1 is set=9.61606265850398, reg_alpha=0.0 will be ignored. Current value: lambda_l1=9.61606265850398\n",
      "[LightGBM] [Warning] feature_fraction is set=0.8068497288474045, colsample_bytree=1.0 will be ignored. Current value: feature_fraction=0.8068497288474045\n",
      "[LightGBM] [Warning] lambda_l2 is set=0.6042813621697077, reg_lambda=0.0 will be ignored. Current value: lambda_l2=0.6042813621697077\n",
      "[LightGBM] [Warning] bagging_freq is set=1, subsample_freq=0 will be ignored. Current value: bagging_freq=1\n",
      "[LightGBM] [Warning] bagging_fraction is set=0.43306012668834637, subsample=1.0 will be ignored. Current value: bagging_fraction=0.43306012668834637\n",
      "[LightGBM] [Warning] lambda_l1 is set=3.019164927611933, reg_alpha=0.0 will be ignored. Current value: lambda_l1=3.019164927611933\n",
      "[LightGBM] [Warning] feature_fraction is set=0.7852696164216965, colsample_bytree=1.0 will be ignored. Current value: feature_fraction=0.7852696164216965\n",
      "[LightGBM] [Warning] lambda_l2 is set=2.289009906283259, reg_lambda=0.0 will be ignored. Current value: lambda_l2=2.289009906283259\n",
      "[LightGBM] [Warning] bagging_freq is set=1, subsample_freq=0 will be ignored. Current value: bagging_freq=1\n",
      "[LightGBM] [Warning] bagging_fraction is set=0.43306012668834637, subsample=1.0 will be ignored. Current value: bagging_fraction=0.43306012668834637\n",
      "[LightGBM] [Warning] lambda_l1 is set=3.019164927611933, reg_alpha=0.0 will be ignored. Current value: lambda_l1=3.019164927611933\n",
      "[LightGBM] [Warning] feature_fraction is set=0.7852696164216965, colsample_bytree=1.0 will be ignored. Current value: feature_fraction=0.7852696164216965\n",
      "[LightGBM] [Warning] lambda_l2 is set=2.289009906283259, reg_lambda=0.0 will be ignored. Current value: lambda_l2=2.289009906283259\n",
      "[LightGBM] [Warning] bagging_freq is set=1, subsample_freq=0 will be ignored. Current value: bagging_freq=1\n",
      "[LightGBM] [Warning] bagging_fraction is set=0.43306012668834637, subsample=1.0 will be ignored. Current value: bagging_fraction=0.43306012668834637\n",
      "[LightGBM] [Warning] lambda_l1 is set=3.019164927611933, reg_alpha=0.0 will be ignored. Current value: lambda_l1=3.019164927611933\n",
      "[LightGBM] [Warning] feature_fraction is set=0.7852696164216965, colsample_bytree=1.0 will be ignored. Current value: feature_fraction=0.7852696164216965\n",
      "[LightGBM] [Warning] lambda_l2 is set=2.289009906283259, reg_lambda=0.0 will be ignored. Current value: lambda_l2=2.289009906283259\n",
      "[LightGBM] [Warning] bagging_freq is set=1, subsample_freq=0 will be ignored. Current value: bagging_freq=1\n",
      "[LightGBM] [Warning] bagging_fraction is set=0.43306012668834637, subsample=1.0 will be ignored. Current value: bagging_fraction=0.43306012668834637\n",
      "[LightGBM] [Warning] lambda_l1 is set=3.019164927611933, reg_alpha=0.0 will be ignored. Current value: lambda_l1=3.019164927611933\n",
      "[LightGBM] [Warning] feature_fraction is set=0.7852696164216965, colsample_bytree=1.0 will be ignored. Current value: feature_fraction=0.7852696164216965\n",
      "[LightGBM] [Warning] lambda_l2 is set=2.289009906283259, reg_lambda=0.0 will be ignored. Current value: lambda_l2=2.289009906283259\n",
      "[LightGBM] [Warning] bagging_freq is set=1, subsample_freq=0 will be ignored. Current value: bagging_freq=1\n",
      "[LightGBM] [Warning] bagging_fraction is set=0.43306012668834637, subsample=1.0 will be ignored. Current value: bagging_fraction=0.43306012668834637\n",
      "[LightGBM] [Warning] lambda_l1 is set=3.019164927611933, reg_alpha=0.0 will be ignored. Current value: lambda_l1=3.019164927611933\n",
      "[LightGBM] [Warning] feature_fraction is set=0.7852696164216965, colsample_bytree=1.0 will be ignored. Current value: feature_fraction=0.7852696164216965\n",
      "[LightGBM] [Warning] lambda_l2 is set=2.289009906283259, reg_lambda=0.0 will be ignored. Current value: lambda_l2=2.289009906283259\n",
      "[LightGBM] [Warning] bagging_freq is set=1, subsample_freq=0 will be ignored. Current value: bagging_freq=1\n"
     ]
    },
    {
     "name": "stderr",
     "output_type": "stream",
     "text": [
      "\u001b[32m[I 2023-03-15 16:57:59,863]\u001b[0m Trial 79 finished with value: -0.2091725787773268 and parameters: {'lambda_l1': 3.019164927611933, 'lambda_l2': 2.289009906283259, 'num_leaves': 179, 'feature_fraction': 0.7852696164216965, 'bagging_fraction': 0.43306012668834637, 'bagging_freq': 1, 'min_child_samples': 5}. Best is trial 78 with value: -0.18953205159658548.\u001b[0m\n"
     ]
    },
    {
     "name": "stdout",
     "output_type": "stream",
     "text": [
      "[LightGBM] [Warning] bagging_fraction is set=0.4485277020385231, subsample=1.0 will be ignored. Current value: bagging_fraction=0.4485277020385231\n",
      "[LightGBM] [Warning] lambda_l1 is set=0.7204782117408691, reg_alpha=0.0 will be ignored. Current value: lambda_l1=0.7204782117408691\n",
      "[LightGBM] [Warning] feature_fraction is set=0.8064685132147126, colsample_bytree=1.0 will be ignored. Current value: feature_fraction=0.8064685132147126\n",
      "[LightGBM] [Warning] lambda_l2 is set=0.6390149931931861, reg_lambda=0.0 will be ignored. Current value: lambda_l2=0.6390149931931861\n",
      "[LightGBM] [Warning] bagging_freq is set=1, subsample_freq=0 will be ignored. Current value: bagging_freq=1\n",
      "[LightGBM] [Warning] bagging_fraction is set=0.4485277020385231, subsample=1.0 will be ignored. Current value: bagging_fraction=0.4485277020385231\n",
      "[LightGBM] [Warning] lambda_l1 is set=0.7204782117408691, reg_alpha=0.0 will be ignored. Current value: lambda_l1=0.7204782117408691\n",
      "[LightGBM] [Warning] feature_fraction is set=0.8064685132147126, colsample_bytree=1.0 will be ignored. Current value: feature_fraction=0.8064685132147126\n",
      "[LightGBM] [Warning] lambda_l2 is set=0.6390149931931861, reg_lambda=0.0 will be ignored. Current value: lambda_l2=0.6390149931931861\n",
      "[LightGBM] [Warning] bagging_freq is set=1, subsample_freq=0 will be ignored. Current value: bagging_freq=1\n",
      "[LightGBM] [Warning] bagging_fraction is set=0.4485277020385231, subsample=1.0 will be ignored. Current value: bagging_fraction=0.4485277020385231\n",
      "[LightGBM] [Warning] lambda_l1 is set=0.7204782117408691, reg_alpha=0.0 will be ignored. Current value: lambda_l1=0.7204782117408691\n",
      "[LightGBM] [Warning] feature_fraction is set=0.8064685132147126, colsample_bytree=1.0 will be ignored. Current value: feature_fraction=0.8064685132147126\n",
      "[LightGBM] [Warning] lambda_l2 is set=0.6390149931931861, reg_lambda=0.0 will be ignored. Current value: lambda_l2=0.6390149931931861\n",
      "[LightGBM] [Warning] bagging_freq is set=1, subsample_freq=0 will be ignored. Current value: bagging_freq=1\n"
     ]
    },
    {
     "name": "stderr",
     "output_type": "stream",
     "text": [
      "\u001b[32m[I 2023-03-15 16:58:00,253]\u001b[0m Trial 80 finished with value: -0.20125537359552528 and parameters: {'lambda_l1': 0.7204782117408691, 'lambda_l2': 0.6390149931931861, 'num_leaves': 212, 'feature_fraction': 0.8064685132147126, 'bagging_fraction': 0.4485277020385231, 'bagging_freq': 1, 'min_child_samples': 87}. Best is trial 78 with value: -0.18953205159658548.\u001b[0m\n"
     ]
    },
    {
     "name": "stdout",
     "output_type": "stream",
     "text": [
      "[LightGBM] [Warning] bagging_fraction is set=0.4485277020385231, subsample=1.0 will be ignored. Current value: bagging_fraction=0.4485277020385231\n",
      "[LightGBM] [Warning] lambda_l1 is set=0.7204782117408691, reg_alpha=0.0 will be ignored. Current value: lambda_l1=0.7204782117408691\n",
      "[LightGBM] [Warning] feature_fraction is set=0.8064685132147126, colsample_bytree=1.0 will be ignored. Current value: feature_fraction=0.8064685132147126\n",
      "[LightGBM] [Warning] lambda_l2 is set=0.6390149931931861, reg_lambda=0.0 will be ignored. Current value: lambda_l2=0.6390149931931861\n",
      "[LightGBM] [Warning] bagging_freq is set=1, subsample_freq=0 will be ignored. Current value: bagging_freq=1\n",
      "[LightGBM] [Warning] bagging_fraction is set=0.4485277020385231, subsample=1.0 will be ignored. Current value: bagging_fraction=0.4485277020385231\n",
      "[LightGBM] [Warning] lambda_l1 is set=0.7204782117408691, reg_alpha=0.0 will be ignored. Current value: lambda_l1=0.7204782117408691\n",
      "[LightGBM] [Warning] feature_fraction is set=0.8064685132147126, colsample_bytree=1.0 will be ignored. Current value: feature_fraction=0.8064685132147126\n",
      "[LightGBM] [Warning] lambda_l2 is set=0.6390149931931861, reg_lambda=0.0 will be ignored. Current value: lambda_l2=0.6390149931931861\n",
      "[LightGBM] [Warning] bagging_freq is set=1, subsample_freq=0 will be ignored. Current value: bagging_freq=1\n",
      "[LightGBM] [Warning] bagging_fraction is set=0.4161320599647199, subsample=1.0 will be ignored. Current value: bagging_fraction=0.4161320599647199\n",
      "[LightGBM] [Warning] lambda_l1 is set=9.103727317492393, reg_alpha=0.0 will be ignored. Current value: lambda_l1=9.103727317492393\n",
      "[LightGBM] [Warning] feature_fraction is set=0.8502365625459883, colsample_bytree=1.0 will be ignored. Current value: feature_fraction=0.8502365625459883\n",
      "[LightGBM] [Warning] lambda_l2 is set=0.3566701125607326, reg_lambda=0.0 will be ignored. Current value: lambda_l2=0.3566701125607326\n",
      "[LightGBM] [Warning] bagging_freq is set=1, subsample_freq=0 will be ignored. Current value: bagging_freq=1\n",
      "[LightGBM] [Warning] bagging_fraction is set=0.4161320599647199, subsample=1.0 will be ignored. Current value: bagging_fraction=0.4161320599647199\n",
      "[LightGBM] [Warning] lambda_l1 is set=9.103727317492393, reg_alpha=0.0 will be ignored. Current value: lambda_l1=9.103727317492393\n",
      "[LightGBM] [Warning] feature_fraction is set=0.8502365625459883, colsample_bytree=1.0 will be ignored. Current value: feature_fraction=0.8502365625459883\n",
      "[LightGBM] [Warning] lambda_l2 is set=0.3566701125607326, reg_lambda=0.0 will be ignored. Current value: lambda_l2=0.3566701125607326\n",
      "[LightGBM] [Warning] bagging_freq is set=1, subsample_freq=0 will be ignored. Current value: bagging_freq=1\n",
      "[LightGBM] [Warning] bagging_fraction is set=0.4161320599647199, subsample=1.0 will be ignored. Current value: bagging_fraction=0.4161320599647199\n",
      "[LightGBM] [Warning] lambda_l1 is set=9.103727317492393, reg_alpha=0.0 will be ignored. Current value: lambda_l1=9.103727317492393\n",
      "[LightGBM] [Warning] feature_fraction is set=0.8502365625459883, colsample_bytree=1.0 will be ignored. Current value: feature_fraction=0.8502365625459883\n",
      "[LightGBM] [Warning] lambda_l2 is set=0.3566701125607326, reg_lambda=0.0 will be ignored. Current value: lambda_l2=0.3566701125607326\n",
      "[LightGBM] [Warning] bagging_freq is set=1, subsample_freq=0 will be ignored. Current value: bagging_freq=1\n",
      "[LightGBM] [Warning] bagging_fraction is set=0.4161320599647199, subsample=1.0 will be ignored. Current value: bagging_fraction=0.4161320599647199\n",
      "[LightGBM] [Warning] lambda_l1 is set=9.103727317492393, reg_alpha=0.0 will be ignored. Current value: lambda_l1=9.103727317492393\n",
      "[LightGBM] [Warning] feature_fraction is set=0.8502365625459883, colsample_bytree=1.0 will be ignored. Current value: feature_fraction=0.8502365625459883\n",
      "[LightGBM] [Warning] lambda_l2 is set=0.3566701125607326, reg_lambda=0.0 will be ignored. Current value: lambda_l2=0.3566701125607326\n",
      "[LightGBM] [Warning] bagging_freq is set=1, subsample_freq=0 will be ignored. Current value: bagging_freq=1\n",
      "[LightGBM] [Warning] bagging_fraction is set=0.4161320599647199, subsample=1.0 will be ignored. Current value: bagging_fraction=0.4161320599647199\n",
      "[LightGBM] [Warning] lambda_l1 is set=9.103727317492393, reg_alpha=0.0 will be ignored. Current value: lambda_l1=9.103727317492393\n",
      "[LightGBM] [Warning] feature_fraction is set=0.8502365625459883, colsample_bytree=1.0 will be ignored. Current value: feature_fraction=0.8502365625459883\n",
      "[LightGBM] [Warning] lambda_l2 is set=0.3566701125607326, reg_lambda=0.0 will be ignored. Current value: lambda_l2=0.3566701125607326\n",
      "[LightGBM] [Warning] bagging_freq is set=1, subsample_freq=0 will be ignored. Current value: bagging_freq=1\n"
     ]
    },
    {
     "name": "stderr",
     "output_type": "stream",
     "text": [
      "\u001b[32m[I 2023-03-15 16:58:00,591]\u001b[0m Trial 81 finished with value: -0.18982564901278512 and parameters: {'lambda_l1': 9.103727317492393, 'lambda_l2': 0.3566701125607326, 'num_leaves': 251, 'feature_fraction': 0.8502365625459883, 'bagging_fraction': 0.4161320599647199, 'bagging_freq': 1, 'min_child_samples': 100}. Best is trial 78 with value: -0.18953205159658548.\u001b[0m\n"
     ]
    },
    {
     "name": "stdout",
     "output_type": "stream",
     "text": [
      "[LightGBM] [Warning] bagging_fraction is set=0.42207731297991447, subsample=1.0 will be ignored. Current value: bagging_fraction=0.42207731297991447\n",
      "[LightGBM] [Warning] lambda_l1 is set=9.569143681164565, reg_alpha=0.0 will be ignored. Current value: lambda_l1=9.569143681164565\n",
      "[LightGBM] [Warning] feature_fraction is set=0.7689195539694401, colsample_bytree=1.0 will be ignored. Current value: feature_fraction=0.7689195539694401\n",
      "[LightGBM] [Warning] lambda_l2 is set=0.560626500259768, reg_lambda=0.0 will be ignored. Current value: lambda_l2=0.560626500259768\n",
      "[LightGBM] [Warning] bagging_freq is set=1, subsample_freq=0 will be ignored. Current value: bagging_freq=1\n",
      "[LightGBM] [Warning] bagging_fraction is set=0.42207731297991447, subsample=1.0 will be ignored. Current value: bagging_fraction=0.42207731297991447\n",
      "[LightGBM] [Warning] lambda_l1 is set=9.569143681164565, reg_alpha=0.0 will be ignored. Current value: lambda_l1=9.569143681164565\n",
      "[LightGBM] [Warning] feature_fraction is set=0.7689195539694401, colsample_bytree=1.0 will be ignored. Current value: feature_fraction=0.7689195539694401\n",
      "[LightGBM] [Warning] lambda_l2 is set=0.560626500259768, reg_lambda=0.0 will be ignored. Current value: lambda_l2=0.560626500259768\n",
      "[LightGBM] [Warning] bagging_freq is set=1, subsample_freq=0 will be ignored. Current value: bagging_freq=1\n",
      "[LightGBM] [Warning] bagging_fraction is set=0.42207731297991447, subsample=1.0 will be ignored. Current value: bagging_fraction=0.42207731297991447\n",
      "[LightGBM] [Warning] lambda_l1 is set=9.569143681164565, reg_alpha=0.0 will be ignored. Current value: lambda_l1=9.569143681164565\n",
      "[LightGBM] [Warning] feature_fraction is set=0.7689195539694401, colsample_bytree=1.0 will be ignored. Current value: feature_fraction=0.7689195539694401\n",
      "[LightGBM] [Warning] lambda_l2 is set=0.560626500259768, reg_lambda=0.0 will be ignored. Current value: lambda_l2=0.560626500259768\n",
      "[LightGBM] [Warning] bagging_freq is set=1, subsample_freq=0 will be ignored. Current value: bagging_freq=1\n",
      "[LightGBM] [Warning] bagging_fraction is set=0.42207731297991447, subsample=1.0 will be ignored. Current value: bagging_fraction=0.42207731297991447\n",
      "[LightGBM] [Warning] lambda_l1 is set=9.569143681164565, reg_alpha=0.0 will be ignored. Current value: lambda_l1=9.569143681164565\n",
      "[LightGBM] [Warning] feature_fraction is set=0.7689195539694401, colsample_bytree=1.0 will be ignored. Current value: feature_fraction=0.7689195539694401\n",
      "[LightGBM] [Warning] lambda_l2 is set=0.560626500259768, reg_lambda=0.0 will be ignored. Current value: lambda_l2=0.560626500259768\n",
      "[LightGBM] [Warning] bagging_freq is set=1, subsample_freq=0 will be ignored. Current value: bagging_freq=1\n"
     ]
    },
    {
     "name": "stderr",
     "output_type": "stream",
     "text": [
      "\u001b[32m[I 2023-03-15 16:58:00,922]\u001b[0m Trial 82 finished with value: -0.1895162376409987 and parameters: {'lambda_l1': 9.569143681164565, 'lambda_l2': 0.560626500259768, 'num_leaves': 248, 'feature_fraction': 0.7689195539694401, 'bagging_fraction': 0.42207731297991447, 'bagging_freq': 1, 'min_child_samples': 100}. Best is trial 82 with value: -0.1895162376409987.\u001b[0m\n"
     ]
    },
    {
     "name": "stdout",
     "output_type": "stream",
     "text": [
      "[LightGBM] [Warning] bagging_fraction is set=0.42207731297991447, subsample=1.0 will be ignored. Current value: bagging_fraction=0.42207731297991447\n",
      "[LightGBM] [Warning] lambda_l1 is set=9.569143681164565, reg_alpha=0.0 will be ignored. Current value: lambda_l1=9.569143681164565\n",
      "[LightGBM] [Warning] feature_fraction is set=0.7689195539694401, colsample_bytree=1.0 will be ignored. Current value: feature_fraction=0.7689195539694401\n",
      "[LightGBM] [Warning] lambda_l2 is set=0.560626500259768, reg_lambda=0.0 will be ignored. Current value: lambda_l2=0.560626500259768\n",
      "[LightGBM] [Warning] bagging_freq is set=1, subsample_freq=0 will be ignored. Current value: bagging_freq=1\n",
      "[LightGBM] [Warning] bagging_fraction is set=0.4164242117438031, subsample=1.0 will be ignored. Current value: bagging_fraction=0.4164242117438031\n",
      "[LightGBM] [Warning] lambda_l1 is set=8.772994195299553, reg_alpha=0.0 will be ignored. Current value: lambda_l1=8.772994195299553\n",
      "[LightGBM] [Warning] feature_fraction is set=0.7668271563501782, colsample_bytree=1.0 will be ignored. Current value: feature_fraction=0.7668271563501782\n",
      "[LightGBM] [Warning] lambda_l2 is set=0.49236268943892314, reg_lambda=0.0 will be ignored. Current value: lambda_l2=0.49236268943892314\n",
      "[LightGBM] [Warning] bagging_freq is set=1, subsample_freq=0 will be ignored. Current value: bagging_freq=1\n",
      "[LightGBM] [Warning] bagging_fraction is set=0.4164242117438031, subsample=1.0 will be ignored. Current value: bagging_fraction=0.4164242117438031\n",
      "[LightGBM] [Warning] lambda_l1 is set=8.772994195299553, reg_alpha=0.0 will be ignored. Current value: lambda_l1=8.772994195299553\n",
      "[LightGBM] [Warning] feature_fraction is set=0.7668271563501782, colsample_bytree=1.0 will be ignored. Current value: feature_fraction=0.7668271563501782\n",
      "[LightGBM] [Warning] lambda_l2 is set=0.49236268943892314, reg_lambda=0.0 will be ignored. Current value: lambda_l2=0.49236268943892314\n",
      "[LightGBM] [Warning] bagging_freq is set=1, subsample_freq=0 will be ignored. Current value: bagging_freq=1\n"
     ]
    },
    {
     "name": "stderr",
     "output_type": "stream",
     "text": [
      "\u001b[32m[I 2023-03-15 16:58:01,253]\u001b[0m Trial 83 finished with value: -0.18939667939421484 and parameters: {'lambda_l1': 8.772994195299553, 'lambda_l2': 0.49236268943892314, 'num_leaves': 248, 'feature_fraction': 0.7668271563501782, 'bagging_fraction': 0.4164242117438031, 'bagging_freq': 1, 'min_child_samples': 92}. Best is trial 83 with value: -0.18939667939421484.\u001b[0m\n"
     ]
    },
    {
     "name": "stdout",
     "output_type": "stream",
     "text": [
      "[LightGBM] [Warning] bagging_fraction is set=0.4164242117438031, subsample=1.0 will be ignored. Current value: bagging_fraction=0.4164242117438031\n",
      "[LightGBM] [Warning] lambda_l1 is set=8.772994195299553, reg_alpha=0.0 will be ignored. Current value: lambda_l1=8.772994195299553\n",
      "[LightGBM] [Warning] feature_fraction is set=0.7668271563501782, colsample_bytree=1.0 will be ignored. Current value: feature_fraction=0.7668271563501782\n",
      "[LightGBM] [Warning] lambda_l2 is set=0.49236268943892314, reg_lambda=0.0 will be ignored. Current value: lambda_l2=0.49236268943892314\n",
      "[LightGBM] [Warning] bagging_freq is set=1, subsample_freq=0 will be ignored. Current value: bagging_freq=1\n",
      "[LightGBM] [Warning] bagging_fraction is set=0.4164242117438031, subsample=1.0 will be ignored. Current value: bagging_fraction=0.4164242117438031\n",
      "[LightGBM] [Warning] lambda_l1 is set=8.772994195299553, reg_alpha=0.0 will be ignored. Current value: lambda_l1=8.772994195299553\n",
      "[LightGBM] [Warning] feature_fraction is set=0.7668271563501782, colsample_bytree=1.0 will be ignored. Current value: feature_fraction=0.7668271563501782\n",
      "[LightGBM] [Warning] lambda_l2 is set=0.49236268943892314, reg_lambda=0.0 will be ignored. Current value: lambda_l2=0.49236268943892314\n",
      "[LightGBM] [Warning] bagging_freq is set=1, subsample_freq=0 will be ignored. Current value: bagging_freq=1\n",
      "[LightGBM] [Warning] bagging_fraction is set=0.4164242117438031, subsample=1.0 will be ignored. Current value: bagging_fraction=0.4164242117438031\n",
      "[LightGBM] [Warning] lambda_l1 is set=8.772994195299553, reg_alpha=0.0 will be ignored. Current value: lambda_l1=8.772994195299553\n",
      "[LightGBM] [Warning] feature_fraction is set=0.7668271563501782, colsample_bytree=1.0 will be ignored. Current value: feature_fraction=0.7668271563501782\n",
      "[LightGBM] [Warning] lambda_l2 is set=0.49236268943892314, reg_lambda=0.0 will be ignored. Current value: lambda_l2=0.49236268943892314\n",
      "[LightGBM] [Warning] bagging_freq is set=1, subsample_freq=0 will be ignored. Current value: bagging_freq=1\n",
      "[LightGBM] [Warning] bagging_fraction is set=0.418592787972812, subsample=1.0 will be ignored. Current value: bagging_fraction=0.418592787972812\n",
      "[LightGBM] [Warning] lambda_l1 is set=3.019217170251332, reg_alpha=0.0 will be ignored. Current value: lambda_l1=3.019217170251332\n",
      "[LightGBM] [Warning] feature_fraction is set=0.7605632642463609, colsample_bytree=1.0 will be ignored. Current value: feature_fraction=0.7605632642463609\n",
      "[LightGBM] [Warning] lambda_l2 is set=0.45354631580381494, reg_lambda=0.0 will be ignored. Current value: lambda_l2=0.45354631580381494\n",
      "[LightGBM] [Warning] bagging_freq is set=1, subsample_freq=0 will be ignored. Current value: bagging_freq=1\n",
      "[LightGBM] [Warning] bagging_fraction is set=0.418592787972812, subsample=1.0 will be ignored. Current value: bagging_fraction=0.418592787972812\n",
      "[LightGBM] [Warning] lambda_l1 is set=3.019217170251332, reg_alpha=0.0 will be ignored. Current value: lambda_l1=3.019217170251332\n",
      "[LightGBM] [Warning] feature_fraction is set=0.7605632642463609, colsample_bytree=1.0 will be ignored. Current value: feature_fraction=0.7605632642463609\n",
      "[LightGBM] [Warning] lambda_l2 is set=0.45354631580381494, reg_lambda=0.0 will be ignored. Current value: lambda_l2=0.45354631580381494\n",
      "[LightGBM] [Warning] bagging_freq is set=1, subsample_freq=0 will be ignored. Current value: bagging_freq=1\n",
      "[LightGBM] [Warning] bagging_fraction is set=0.418592787972812, subsample=1.0 will be ignored. Current value: bagging_fraction=0.418592787972812\n",
      "[LightGBM] [Warning] lambda_l1 is set=3.019217170251332, reg_alpha=0.0 will be ignored. Current value: lambda_l1=3.019217170251332\n",
      "[LightGBM] [Warning] feature_fraction is set=0.7605632642463609, colsample_bytree=1.0 will be ignored. Current value: feature_fraction=0.7605632642463609\n",
      "[LightGBM] [Warning] lambda_l2 is set=0.45354631580381494, reg_lambda=0.0 will be ignored. Current value: lambda_l2=0.45354631580381494\n",
      "[LightGBM] [Warning] bagging_freq is set=1, subsample_freq=0 will be ignored. Current value: bagging_freq=1\n",
      "[LightGBM] [Warning] bagging_fraction is set=0.418592787972812, subsample=1.0 will be ignored. Current value: bagging_fraction=0.418592787972812\n",
      "[LightGBM] [Warning] lambda_l1 is set=3.019217170251332, reg_alpha=0.0 will be ignored. Current value: lambda_l1=3.019217170251332\n",
      "[LightGBM] [Warning] feature_fraction is set=0.7605632642463609, colsample_bytree=1.0 will be ignored. Current value: feature_fraction=0.7605632642463609\n",
      "[LightGBM] [Warning] lambda_l2 is set=0.45354631580381494, reg_lambda=0.0 will be ignored. Current value: lambda_l2=0.45354631580381494\n",
      "[LightGBM] [Warning] bagging_freq is set=1, subsample_freq=0 will be ignored. Current value: bagging_freq=1\n"
     ]
    },
    {
     "name": "stderr",
     "output_type": "stream",
     "text": [
      "\u001b[32m[I 2023-03-15 16:58:01,610]\u001b[0m Trial 84 finished with value: -0.19402793321306172 and parameters: {'lambda_l1': 3.019217170251332, 'lambda_l2': 0.45354631580381494, 'num_leaves': 250, 'feature_fraction': 0.7605632642463609, 'bagging_fraction': 0.418592787972812, 'bagging_freq': 1, 'min_child_samples': 96}. Best is trial 83 with value: -0.18939667939421484.\u001b[0m\n"
     ]
    },
    {
     "name": "stdout",
     "output_type": "stream",
     "text": [
      "[LightGBM] [Warning] bagging_fraction is set=0.418592787972812, subsample=1.0 will be ignored. Current value: bagging_fraction=0.418592787972812\n",
      "[LightGBM] [Warning] lambda_l1 is set=3.019217170251332, reg_alpha=0.0 will be ignored. Current value: lambda_l1=3.019217170251332\n",
      "[LightGBM] [Warning] feature_fraction is set=0.7605632642463609, colsample_bytree=1.0 will be ignored. Current value: feature_fraction=0.7605632642463609\n",
      "[LightGBM] [Warning] lambda_l2 is set=0.45354631580381494, reg_lambda=0.0 will be ignored. Current value: lambda_l2=0.45354631580381494\n",
      "[LightGBM] [Warning] bagging_freq is set=1, subsample_freq=0 will be ignored. Current value: bagging_freq=1\n",
      "[LightGBM] [Warning] bagging_fraction is set=0.41331592221455243, subsample=1.0 will be ignored. Current value: bagging_fraction=0.41331592221455243\n",
      "[LightGBM] [Warning] lambda_l1 is set=6.114538953453517, reg_alpha=0.0 will be ignored. Current value: lambda_l1=6.114538953453517\n",
      "[LightGBM] [Warning] feature_fraction is set=0.7711457590475095, colsample_bytree=1.0 will be ignored. Current value: feature_fraction=0.7711457590475095\n",
      "[LightGBM] [Warning] lambda_l2 is set=0.8569176419315437, reg_lambda=0.0 will be ignored. Current value: lambda_l2=0.8569176419315437\n",
      "[LightGBM] [Warning] bagging_freq is set=1, subsample_freq=0 will be ignored. Current value: bagging_freq=1\n",
      "[LightGBM] [Warning] bagging_fraction is set=0.41331592221455243, subsample=1.0 will be ignored. Current value: bagging_fraction=0.41331592221455243\n",
      "[LightGBM] [Warning] lambda_l1 is set=6.114538953453517, reg_alpha=0.0 will be ignored. Current value: lambda_l1=6.114538953453517\n",
      "[LightGBM] [Warning] feature_fraction is set=0.7711457590475095, colsample_bytree=1.0 will be ignored. Current value: feature_fraction=0.7711457590475095\n",
      "[LightGBM] [Warning] lambda_l2 is set=0.8569176419315437, reg_lambda=0.0 will be ignored. Current value: lambda_l2=0.8569176419315437\n",
      "[LightGBM] [Warning] bagging_freq is set=1, subsample_freq=0 will be ignored. Current value: bagging_freq=1\n"
     ]
    },
    {
     "name": "stderr",
     "output_type": "stream",
     "text": [
      "\u001b[32m[I 2023-03-15 16:58:01,955]\u001b[0m Trial 85 finished with value: -0.1916918082716183 and parameters: {'lambda_l1': 6.114538953453517, 'lambda_l2': 0.8569176419315437, 'num_leaves': 228, 'feature_fraction': 0.7711457590475095, 'bagging_fraction': 0.41331592221455243, 'bagging_freq': 1, 'min_child_samples': 92}. Best is trial 83 with value: -0.18939667939421484.\u001b[0m\n"
     ]
    },
    {
     "name": "stdout",
     "output_type": "stream",
     "text": [
      "[LightGBM] [Warning] bagging_fraction is set=0.41331592221455243, subsample=1.0 will be ignored. Current value: bagging_fraction=0.41331592221455243\n",
      "[LightGBM] [Warning] lambda_l1 is set=6.114538953453517, reg_alpha=0.0 will be ignored. Current value: lambda_l1=6.114538953453517\n",
      "[LightGBM] [Warning] feature_fraction is set=0.7711457590475095, colsample_bytree=1.0 will be ignored. Current value: feature_fraction=0.7711457590475095\n",
      "[LightGBM] [Warning] lambda_l2 is set=0.8569176419315437, reg_lambda=0.0 will be ignored. Current value: lambda_l2=0.8569176419315437\n",
      "[LightGBM] [Warning] bagging_freq is set=1, subsample_freq=0 will be ignored. Current value: bagging_freq=1\n",
      "[LightGBM] [Warning] bagging_fraction is set=0.41331592221455243, subsample=1.0 will be ignored. Current value: bagging_fraction=0.41331592221455243\n",
      "[LightGBM] [Warning] lambda_l1 is set=6.114538953453517, reg_alpha=0.0 will be ignored. Current value: lambda_l1=6.114538953453517\n",
      "[LightGBM] [Warning] feature_fraction is set=0.7711457590475095, colsample_bytree=1.0 will be ignored. Current value: feature_fraction=0.7711457590475095\n",
      "[LightGBM] [Warning] lambda_l2 is set=0.8569176419315437, reg_lambda=0.0 will be ignored. Current value: lambda_l2=0.8569176419315437\n",
      "[LightGBM] [Warning] bagging_freq is set=1, subsample_freq=0 will be ignored. Current value: bagging_freq=1\n",
      "[LightGBM] [Warning] bagging_fraction is set=0.41331592221455243, subsample=1.0 will be ignored. Current value: bagging_fraction=0.41331592221455243\n",
      "[LightGBM] [Warning] lambda_l1 is set=6.114538953453517, reg_alpha=0.0 will be ignored. Current value: lambda_l1=6.114538953453517\n",
      "[LightGBM] [Warning] feature_fraction is set=0.7711457590475095, colsample_bytree=1.0 will be ignored. Current value: feature_fraction=0.7711457590475095\n",
      "[LightGBM] [Warning] lambda_l2 is set=0.8569176419315437, reg_lambda=0.0 will be ignored. Current value: lambda_l2=0.8569176419315437\n",
      "[LightGBM] [Warning] bagging_freq is set=1, subsample_freq=0 will be ignored. Current value: bagging_freq=1\n",
      "[LightGBM] [Warning] bagging_fraction is set=0.4300687392438679, subsample=1.0 will be ignored. Current value: bagging_fraction=0.4300687392438679\n",
      "[LightGBM] [Warning] lambda_l1 is set=1.6864967223211993, reg_alpha=0.0 will be ignored. Current value: lambda_l1=1.6864967223211993\n",
      "[LightGBM] [Warning] feature_fraction is set=0.8133072001061202, colsample_bytree=1.0 will be ignored. Current value: feature_fraction=0.8133072001061202\n",
      "[LightGBM] [Warning] lambda_l2 is set=1.5593108488468785, reg_lambda=0.0 will be ignored. Current value: lambda_l2=1.5593108488468785\n",
      "[LightGBM] [Warning] bagging_freq is set=1, subsample_freq=0 will be ignored. Current value: bagging_freq=1\n",
      "[LightGBM] [Warning] bagging_fraction is set=0.4300687392438679, subsample=1.0 will be ignored. Current value: bagging_fraction=0.4300687392438679\n",
      "[LightGBM] [Warning] lambda_l1 is set=1.6864967223211993, reg_alpha=0.0 will be ignored. Current value: lambda_l1=1.6864967223211993\n",
      "[LightGBM] [Warning] feature_fraction is set=0.8133072001061202, colsample_bytree=1.0 will be ignored. Current value: feature_fraction=0.8133072001061202\n",
      "[LightGBM] [Warning] lambda_l2 is set=1.5593108488468785, reg_lambda=0.0 will be ignored. Current value: lambda_l2=1.5593108488468785\n",
      "[LightGBM] [Warning] bagging_freq is set=1, subsample_freq=0 will be ignored. Current value: bagging_freq=1\n",
      "[LightGBM] [Warning] bagging_fraction is set=0.4300687392438679, subsample=1.0 will be ignored. Current value: bagging_fraction=0.4300687392438679\n",
      "[LightGBM] [Warning] lambda_l1 is set=1.6864967223211993, reg_alpha=0.0 will be ignored. Current value: lambda_l1=1.6864967223211993\n",
      "[LightGBM] [Warning] feature_fraction is set=0.8133072001061202, colsample_bytree=1.0 will be ignored. Current value: feature_fraction=0.8133072001061202\n",
      "[LightGBM] [Warning] lambda_l2 is set=1.5593108488468785, reg_lambda=0.0 will be ignored. Current value: lambda_l2=1.5593108488468785\n",
      "[LightGBM] [Warning] bagging_freq is set=1, subsample_freq=0 will be ignored. Current value: bagging_freq=1\n",
      "[LightGBM] [Warning] bagging_fraction is set=0.4300687392438679, subsample=1.0 will be ignored. Current value: bagging_fraction=0.4300687392438679\n",
      "[LightGBM] [Warning] lambda_l1 is set=1.6864967223211993, reg_alpha=0.0 will be ignored. Current value: lambda_l1=1.6864967223211993\n",
      "[LightGBM] [Warning] feature_fraction is set=0.8133072001061202, colsample_bytree=1.0 will be ignored. Current value: feature_fraction=0.8133072001061202\n",
      "[LightGBM] [Warning] lambda_l2 is set=1.5593108488468785, reg_lambda=0.0 will be ignored. Current value: lambda_l2=1.5593108488468785\n",
      "[LightGBM] [Warning] bagging_freq is set=1, subsample_freq=0 will be ignored. Current value: bagging_freq=1\n"
     ]
    },
    {
     "name": "stderr",
     "output_type": "stream",
     "text": [
      "\u001b[32m[I 2023-03-15 16:58:02,317]\u001b[0m Trial 86 finished with value: -0.1954871371842962 and parameters: {'lambda_l1': 1.6864967223211993, 'lambda_l2': 1.5593108488468785, 'num_leaves': 219, 'feature_fraction': 0.8133072001061202, 'bagging_fraction': 0.4300687392438679, 'bagging_freq': 1, 'min_child_samples': 100}. Best is trial 83 with value: -0.18939667939421484.\u001b[0m\n"
     ]
    },
    {
     "name": "stdout",
     "output_type": "stream",
     "text": [
      "[LightGBM] [Warning] bagging_fraction is set=0.4300687392438679, subsample=1.0 will be ignored. Current value: bagging_fraction=0.4300687392438679\n",
      "[LightGBM] [Warning] lambda_l1 is set=1.6864967223211993, reg_alpha=0.0 will be ignored. Current value: lambda_l1=1.6864967223211993\n",
      "[LightGBM] [Warning] feature_fraction is set=0.8133072001061202, colsample_bytree=1.0 will be ignored. Current value: feature_fraction=0.8133072001061202\n",
      "[LightGBM] [Warning] lambda_l2 is set=1.5593108488468785, reg_lambda=0.0 will be ignored. Current value: lambda_l2=1.5593108488468785\n",
      "[LightGBM] [Warning] bagging_freq is set=1, subsample_freq=0 will be ignored. Current value: bagging_freq=1\n",
      "[LightGBM] [Warning] bagging_fraction is set=0.4689243612825433, subsample=1.0 will be ignored. Current value: bagging_fraction=0.4689243612825433\n",
      "[LightGBM] [Warning] lambda_l1 is set=3.1329665571578236, reg_alpha=0.0 will be ignored. Current value: lambda_l1=3.1329665571578236\n",
      "[LightGBM] [Warning] feature_fraction is set=0.7972883228623463, colsample_bytree=1.0 will be ignored. Current value: feature_fraction=0.7972883228623463\n",
      "[LightGBM] [Warning] lambda_l2 is set=3.5205763062862223, reg_lambda=0.0 will be ignored. Current value: lambda_l2=3.5205763062862223\n",
      "[LightGBM] [Warning] bagging_freq is set=1, subsample_freq=0 will be ignored. Current value: bagging_freq=1\n",
      "[LightGBM] [Warning] bagging_fraction is set=0.4689243612825433, subsample=1.0 will be ignored. Current value: bagging_fraction=0.4689243612825433\n",
      "[LightGBM] [Warning] lambda_l1 is set=3.1329665571578236, reg_alpha=0.0 will be ignored. Current value: lambda_l1=3.1329665571578236\n",
      "[LightGBM] [Warning] feature_fraction is set=0.7972883228623463, colsample_bytree=1.0 will be ignored. Current value: feature_fraction=0.7972883228623463\n",
      "[LightGBM] [Warning] lambda_l2 is set=3.5205763062862223, reg_lambda=0.0 will be ignored. Current value: lambda_l2=3.5205763062862223\n",
      "[LightGBM] [Warning] bagging_freq is set=1, subsample_freq=0 will be ignored. Current value: bagging_freq=1\n"
     ]
    },
    {
     "name": "stderr",
     "output_type": "stream",
     "text": [
      "\u001b[32m[I 2023-03-15 16:58:02,692]\u001b[0m Trial 87 finished with value: -0.19590442793939483 and parameters: {'lambda_l1': 3.1329665571578236, 'lambda_l2': 3.5205763062862223, 'num_leaves': 112, 'feature_fraction': 0.7972883228623463, 'bagging_fraction': 0.4689243612825433, 'bagging_freq': 1, 'min_child_samples': 93}. Best is trial 83 with value: -0.18939667939421484.\u001b[0m\n"
     ]
    },
    {
     "name": "stdout",
     "output_type": "stream",
     "text": [
      "[LightGBM] [Warning] bagging_fraction is set=0.4689243612825433, subsample=1.0 will be ignored. Current value: bagging_fraction=0.4689243612825433\n",
      "[LightGBM] [Warning] lambda_l1 is set=3.1329665571578236, reg_alpha=0.0 will be ignored. Current value: lambda_l1=3.1329665571578236\n",
      "[LightGBM] [Warning] feature_fraction is set=0.7972883228623463, colsample_bytree=1.0 will be ignored. Current value: feature_fraction=0.7972883228623463\n",
      "[LightGBM] [Warning] lambda_l2 is set=3.5205763062862223, reg_lambda=0.0 will be ignored. Current value: lambda_l2=3.5205763062862223\n",
      "[LightGBM] [Warning] bagging_freq is set=1, subsample_freq=0 will be ignored. Current value: bagging_freq=1\n",
      "[LightGBM] [Warning] bagging_fraction is set=0.4689243612825433, subsample=1.0 will be ignored. Current value: bagging_fraction=0.4689243612825433\n",
      "[LightGBM] [Warning] lambda_l1 is set=3.1329665571578236, reg_alpha=0.0 will be ignored. Current value: lambda_l1=3.1329665571578236\n",
      "[LightGBM] [Warning] feature_fraction is set=0.7972883228623463, colsample_bytree=1.0 will be ignored. Current value: feature_fraction=0.7972883228623463\n",
      "[LightGBM] [Warning] lambda_l2 is set=3.5205763062862223, reg_lambda=0.0 will be ignored. Current value: lambda_l2=3.5205763062862223\n",
      "[LightGBM] [Warning] bagging_freq is set=1, subsample_freq=0 will be ignored. Current value: bagging_freq=1\n",
      "[LightGBM] [Warning] bagging_fraction is set=0.4689243612825433, subsample=1.0 will be ignored. Current value: bagging_fraction=0.4689243612825433\n",
      "[LightGBM] [Warning] lambda_l1 is set=3.1329665571578236, reg_alpha=0.0 will be ignored. Current value: lambda_l1=3.1329665571578236\n",
      "[LightGBM] [Warning] feature_fraction is set=0.7972883228623463, colsample_bytree=1.0 will be ignored. Current value: feature_fraction=0.7972883228623463\n",
      "[LightGBM] [Warning] lambda_l2 is set=3.5205763062862223, reg_lambda=0.0 will be ignored. Current value: lambda_l2=3.5205763062862223\n",
      "[LightGBM] [Warning] bagging_freq is set=1, subsample_freq=0 will be ignored. Current value: bagging_freq=1\n",
      "[LightGBM] [Warning] bagging_fraction is set=0.44289667350676265, subsample=1.0 will be ignored. Current value: bagging_fraction=0.44289667350676265\n",
      "[LightGBM] [Warning] lambda_l1 is set=9.444655446406742, reg_alpha=0.0 will be ignored. Current value: lambda_l1=9.444655446406742\n",
      "[LightGBM] [Warning] feature_fraction is set=0.7837742818522682, colsample_bytree=1.0 will be ignored. Current value: feature_fraction=0.7837742818522682\n",
      "[LightGBM] [Warning] lambda_l2 is set=0.15104254763900984, reg_lambda=0.0 will be ignored. Current value: lambda_l2=0.15104254763900984\n",
      "[LightGBM] [Warning] bagging_freq is set=2, subsample_freq=0 will be ignored. Current value: bagging_freq=2\n",
      "[LightGBM] [Warning] bagging_fraction is set=0.44289667350676265, subsample=1.0 will be ignored. Current value: bagging_fraction=0.44289667350676265\n",
      "[LightGBM] [Warning] lambda_l1 is set=9.444655446406742, reg_alpha=0.0 will be ignored. Current value: lambda_l1=9.444655446406742\n",
      "[LightGBM] [Warning] feature_fraction is set=0.7837742818522682, colsample_bytree=1.0 will be ignored. Current value: feature_fraction=0.7837742818522682\n",
      "[LightGBM] [Warning] lambda_l2 is set=0.15104254763900984, reg_lambda=0.0 will be ignored. Current value: lambda_l2=0.15104254763900984\n",
      "[LightGBM] [Warning] bagging_freq is set=2, subsample_freq=0 will be ignored. Current value: bagging_freq=2\n",
      "[LightGBM] [Warning] bagging_fraction is set=0.44289667350676265, subsample=1.0 will be ignored. Current value: bagging_fraction=0.44289667350676265\n",
      "[LightGBM] [Warning] lambda_l1 is set=9.444655446406742, reg_alpha=0.0 will be ignored. Current value: lambda_l1=9.444655446406742\n",
      "[LightGBM] [Warning] feature_fraction is set=0.7837742818522682, colsample_bytree=1.0 will be ignored. Current value: feature_fraction=0.7837742818522682\n",
      "[LightGBM] [Warning] lambda_l2 is set=0.15104254763900984, reg_lambda=0.0 will be ignored. Current value: lambda_l2=0.15104254763900984\n",
      "[LightGBM] [Warning] bagging_freq is set=2, subsample_freq=0 will be ignored. Current value: bagging_freq=2\n",
      "[LightGBM] [Warning] bagging_fraction is set=0.44289667350676265, subsample=1.0 will be ignored. Current value: bagging_fraction=0.44289667350676265\n",
      "[LightGBM] [Warning] lambda_l1 is set=9.444655446406742, reg_alpha=0.0 will be ignored. Current value: lambda_l1=9.444655446406742\n",
      "[LightGBM] [Warning] feature_fraction is set=0.7837742818522682, colsample_bytree=1.0 will be ignored. Current value: feature_fraction=0.7837742818522682\n",
      "[LightGBM] [Warning] lambda_l2 is set=0.15104254763900984, reg_lambda=0.0 will be ignored. Current value: lambda_l2=0.15104254763900984\n",
      "[LightGBM] [Warning] bagging_freq is set=2, subsample_freq=0 will be ignored. Current value: bagging_freq=2\n"
     ]
    },
    {
     "name": "stderr",
     "output_type": "stream",
     "text": [
      "\u001b[32m[I 2023-03-15 16:58:03,021]\u001b[0m Trial 88 finished with value: -0.19209809090373078 and parameters: {'lambda_l1': 9.444655446406742, 'lambda_l2': 0.15104254763900984, 'num_leaves': 199, 'feature_fraction': 0.7837742818522682, 'bagging_fraction': 0.44289667350676265, 'bagging_freq': 2, 'min_child_samples': 84}. Best is trial 83 with value: -0.18939667939421484.\u001b[0m\n"
     ]
    },
    {
     "name": "stdout",
     "output_type": "stream",
     "text": [
      "[LightGBM] [Warning] bagging_fraction is set=0.44289667350676265, subsample=1.0 will be ignored. Current value: bagging_fraction=0.44289667350676265\n",
      "[LightGBM] [Warning] lambda_l1 is set=9.444655446406742, reg_alpha=0.0 will be ignored. Current value: lambda_l1=9.444655446406742\n",
      "[LightGBM] [Warning] feature_fraction is set=0.7837742818522682, colsample_bytree=1.0 will be ignored. Current value: feature_fraction=0.7837742818522682\n",
      "[LightGBM] [Warning] lambda_l2 is set=0.15104254763900984, reg_lambda=0.0 will be ignored. Current value: lambda_l2=0.15104254763900984\n",
      "[LightGBM] [Warning] bagging_freq is set=2, subsample_freq=0 will be ignored. Current value: bagging_freq=2\n",
      "[LightGBM] [Warning] bagging_fraction is set=0.4019718922230214, subsample=1.0 will be ignored. Current value: bagging_fraction=0.4019718922230214\n",
      "[LightGBM] [Warning] lambda_l1 is set=1.341690012836082, reg_alpha=0.0 will be ignored. Current value: lambda_l1=1.341690012836082\n",
      "[LightGBM] [Warning] feature_fraction is set=0.8282991522418448, colsample_bytree=1.0 will be ignored. Current value: feature_fraction=0.8282991522418448\n",
      "[LightGBM] [Warning] lambda_l2 is set=0.3617396318323925, reg_lambda=0.0 will be ignored. Current value: lambda_l2=0.3617396318323925\n",
      "[LightGBM] [Warning] bagging_freq is set=1, subsample_freq=0 will be ignored. Current value: bagging_freq=1\n",
      "[LightGBM] [Warning] bagging_fraction is set=0.4019718922230214, subsample=1.0 will be ignored. Current value: bagging_fraction=0.4019718922230214\n",
      "[LightGBM] [Warning] lambda_l1 is set=1.341690012836082, reg_alpha=0.0 will be ignored. Current value: lambda_l1=1.341690012836082\n",
      "[LightGBM] [Warning] feature_fraction is set=0.8282991522418448, colsample_bytree=1.0 will be ignored. Current value: feature_fraction=0.8282991522418448\n",
      "[LightGBM] [Warning] lambda_l2 is set=0.3617396318323925, reg_lambda=0.0 will be ignored. Current value: lambda_l2=0.3617396318323925\n",
      "[LightGBM] [Warning] bagging_freq is set=1, subsample_freq=0 will be ignored. Current value: bagging_freq=1\n"
     ]
    },
    {
     "name": "stderr",
     "output_type": "stream",
     "text": [
      "\u001b[32m[I 2023-03-15 16:58:03,386]\u001b[0m Trial 89 finished with value: -0.19836548216637162 and parameters: {'lambda_l1': 1.341690012836082, 'lambda_l2': 0.3617396318323925, 'num_leaves': 242, 'feature_fraction': 0.8282991522418448, 'bagging_fraction': 0.4019718922230214, 'bagging_freq': 1, 'min_child_samples': 91}. Best is trial 83 with value: -0.18939667939421484.\u001b[0m\n"
     ]
    },
    {
     "name": "stdout",
     "output_type": "stream",
     "text": [
      "[LightGBM] [Warning] bagging_fraction is set=0.4019718922230214, subsample=1.0 will be ignored. Current value: bagging_fraction=0.4019718922230214\n",
      "[LightGBM] [Warning] lambda_l1 is set=1.341690012836082, reg_alpha=0.0 will be ignored. Current value: lambda_l1=1.341690012836082\n",
      "[LightGBM] [Warning] feature_fraction is set=0.8282991522418448, colsample_bytree=1.0 will be ignored. Current value: feature_fraction=0.8282991522418448\n",
      "[LightGBM] [Warning] lambda_l2 is set=0.3617396318323925, reg_lambda=0.0 will be ignored. Current value: lambda_l2=0.3617396318323925\n",
      "[LightGBM] [Warning] bagging_freq is set=1, subsample_freq=0 will be ignored. Current value: bagging_freq=1\n",
      "[LightGBM] [Warning] bagging_fraction is set=0.4019718922230214, subsample=1.0 will be ignored. Current value: bagging_fraction=0.4019718922230214\n",
      "[LightGBM] [Warning] lambda_l1 is set=1.341690012836082, reg_alpha=0.0 will be ignored. Current value: lambda_l1=1.341690012836082\n",
      "[LightGBM] [Warning] feature_fraction is set=0.8282991522418448, colsample_bytree=1.0 will be ignored. Current value: feature_fraction=0.8282991522418448\n",
      "[LightGBM] [Warning] lambda_l2 is set=0.3617396318323925, reg_lambda=0.0 will be ignored. Current value: lambda_l2=0.3617396318323925\n",
      "[LightGBM] [Warning] bagging_freq is set=1, subsample_freq=0 will be ignored. Current value: bagging_freq=1\n",
      "[LightGBM] [Warning] bagging_fraction is set=0.4019718922230214, subsample=1.0 will be ignored. Current value: bagging_fraction=0.4019718922230214\n",
      "[LightGBM] [Warning] lambda_l1 is set=1.341690012836082, reg_alpha=0.0 will be ignored. Current value: lambda_l1=1.341690012836082\n",
      "[LightGBM] [Warning] feature_fraction is set=0.8282991522418448, colsample_bytree=1.0 will be ignored. Current value: feature_fraction=0.8282991522418448\n",
      "[LightGBM] [Warning] lambda_l2 is set=0.3617396318323925, reg_lambda=0.0 will be ignored. Current value: lambda_l2=0.3617396318323925\n",
      "[LightGBM] [Warning] bagging_freq is set=1, subsample_freq=0 will be ignored. Current value: bagging_freq=1\n",
      "[LightGBM] [Warning] bagging_fraction is set=0.42790303838914756, subsample=1.0 will be ignored. Current value: bagging_fraction=0.42790303838914756\n",
      "[LightGBM] [Warning] lambda_l1 is set=0.45282182889098244, reg_alpha=0.0 will be ignored. Current value: lambda_l1=0.45282182889098244\n",
      "[LightGBM] [Warning] feature_fraction is set=0.8161821806358068, colsample_bytree=1.0 will be ignored. Current value: feature_fraction=0.8161821806358068\n",
      "[LightGBM] [Warning] lambda_l2 is set=0.9229865610591786, reg_lambda=0.0 will be ignored. Current value: lambda_l2=0.9229865610591786\n",
      "[LightGBM] [Warning] bagging_freq is set=1, subsample_freq=0 will be ignored. Current value: bagging_freq=1\n",
      "[LightGBM] [Warning] bagging_fraction is set=0.42790303838914756, subsample=1.0 will be ignored. Current value: bagging_fraction=0.42790303838914756\n",
      "[LightGBM] [Warning] lambda_l1 is set=0.45282182889098244, reg_alpha=0.0 will be ignored. Current value: lambda_l1=0.45282182889098244\n",
      "[LightGBM] [Warning] feature_fraction is set=0.8161821806358068, colsample_bytree=1.0 will be ignored. Current value: feature_fraction=0.8161821806358068\n",
      "[LightGBM] [Warning] lambda_l2 is set=0.9229865610591786, reg_lambda=0.0 will be ignored. Current value: lambda_l2=0.9229865610591786\n",
      "[LightGBM] [Warning] bagging_freq is set=1, subsample_freq=0 will be ignored. Current value: bagging_freq=1\n",
      "[LightGBM] [Warning] bagging_fraction is set=0.42790303838914756, subsample=1.0 will be ignored. Current value: bagging_fraction=0.42790303838914756\n",
      "[LightGBM] [Warning] lambda_l1 is set=0.45282182889098244, reg_alpha=0.0 will be ignored. Current value: lambda_l1=0.45282182889098244\n",
      "[LightGBM] [Warning] feature_fraction is set=0.8161821806358068, colsample_bytree=1.0 will be ignored. Current value: feature_fraction=0.8161821806358068\n",
      "[LightGBM] [Warning] lambda_l2 is set=0.9229865610591786, reg_lambda=0.0 will be ignored. Current value: lambda_l2=0.9229865610591786\n",
      "[LightGBM] [Warning] bagging_freq is set=1, subsample_freq=0 will be ignored. Current value: bagging_freq=1\n",
      "[LightGBM] [Warning] bagging_fraction is set=0.42790303838914756, subsample=1.0 will be ignored. Current value: bagging_fraction=0.42790303838914756\n",
      "[LightGBM] [Warning] lambda_l1 is set=0.45282182889098244, reg_alpha=0.0 will be ignored. Current value: lambda_l1=0.45282182889098244\n",
      "[LightGBM] [Warning] feature_fraction is set=0.8161821806358068, colsample_bytree=1.0 will be ignored. Current value: feature_fraction=0.8161821806358068\n",
      "[LightGBM] [Warning] lambda_l2 is set=0.9229865610591786, reg_lambda=0.0 will be ignored. Current value: lambda_l2=0.9229865610591786\n",
      "[LightGBM] [Warning] bagging_freq is set=1, subsample_freq=0 will be ignored. Current value: bagging_freq=1\n"
     ]
    },
    {
     "name": "stderr",
     "output_type": "stream",
     "text": [
      "\u001b[32m[I 2023-03-15 16:58:03,757]\u001b[0m Trial 90 finished with value: -0.1995506708419265 and parameters: {'lambda_l1': 0.45282182889098244, 'lambda_l2': 0.9229865610591786, 'num_leaves': 233, 'feature_fraction': 0.8161821806358068, 'bagging_fraction': 0.42790303838914756, 'bagging_freq': 1, 'min_child_samples': 95}. Best is trial 83 with value: -0.18939667939421484.\u001b[0m\n"
     ]
    },
    {
     "name": "stdout",
     "output_type": "stream",
     "text": [
      "[LightGBM] [Warning] bagging_fraction is set=0.42790303838914756, subsample=1.0 will be ignored. Current value: bagging_fraction=0.42790303838914756\n",
      "[LightGBM] [Warning] lambda_l1 is set=0.45282182889098244, reg_alpha=0.0 will be ignored. Current value: lambda_l1=0.45282182889098244\n",
      "[LightGBM] [Warning] feature_fraction is set=0.8161821806358068, colsample_bytree=1.0 will be ignored. Current value: feature_fraction=0.8161821806358068\n",
      "[LightGBM] [Warning] lambda_l2 is set=0.9229865610591786, reg_lambda=0.0 will be ignored. Current value: lambda_l2=0.9229865610591786\n",
      "[LightGBM] [Warning] bagging_freq is set=1, subsample_freq=0 will be ignored. Current value: bagging_freq=1\n",
      "[LightGBM] [Warning] bagging_fraction is set=0.41041819232796306, subsample=1.0 will be ignored. Current value: bagging_fraction=0.41041819232796306\n",
      "[LightGBM] [Warning] lambda_l1 is set=5.91429455330934, reg_alpha=0.0 will be ignored. Current value: lambda_l1=5.91429455330934\n",
      "[LightGBM] [Warning] feature_fraction is set=0.7745015349855007, colsample_bytree=1.0 will be ignored. Current value: feature_fraction=0.7745015349855007\n",
      "[LightGBM] [Warning] lambda_l2 is set=0.640787541424157, reg_lambda=0.0 will be ignored. Current value: lambda_l2=0.640787541424157\n",
      "[LightGBM] [Warning] bagging_freq is set=1, subsample_freq=0 will be ignored. Current value: bagging_freq=1\n",
      "[LightGBM] [Warning] bagging_fraction is set=0.41041819232796306, subsample=1.0 will be ignored. Current value: bagging_fraction=0.41041819232796306\n",
      "[LightGBM] [Warning] lambda_l1 is set=5.91429455330934, reg_alpha=0.0 will be ignored. Current value: lambda_l1=5.91429455330934\n",
      "[LightGBM] [Warning] feature_fraction is set=0.7745015349855007, colsample_bytree=1.0 will be ignored. Current value: feature_fraction=0.7745015349855007\n",
      "[LightGBM] [Warning] lambda_l2 is set=0.640787541424157, reg_lambda=0.0 will be ignored. Current value: lambda_l2=0.640787541424157\n",
      "[LightGBM] [Warning] bagging_freq is set=1, subsample_freq=0 will be ignored. Current value: bagging_freq=1\n"
     ]
    },
    {
     "name": "stderr",
     "output_type": "stream",
     "text": [
      "\u001b[32m[I 2023-03-15 16:58:04,096]\u001b[0m Trial 91 finished with value: -0.19063022547601433 and parameters: {'lambda_l1': 5.91429455330934, 'lambda_l2': 0.640787541424157, 'num_leaves': 224, 'feature_fraction': 0.7745015349855007, 'bagging_fraction': 0.41041819232796306, 'bagging_freq': 1, 'min_child_samples': 93}. Best is trial 83 with value: -0.18939667939421484.\u001b[0m\n"
     ]
    },
    {
     "name": "stdout",
     "output_type": "stream",
     "text": [
      "[LightGBM] [Warning] bagging_fraction is set=0.41041819232796306, subsample=1.0 will be ignored. Current value: bagging_fraction=0.41041819232796306\n",
      "[LightGBM] [Warning] lambda_l1 is set=5.91429455330934, reg_alpha=0.0 will be ignored. Current value: lambda_l1=5.91429455330934\n",
      "[LightGBM] [Warning] feature_fraction is set=0.7745015349855007, colsample_bytree=1.0 will be ignored. Current value: feature_fraction=0.7745015349855007\n",
      "[LightGBM] [Warning] lambda_l2 is set=0.640787541424157, reg_lambda=0.0 will be ignored. Current value: lambda_l2=0.640787541424157\n",
      "[LightGBM] [Warning] bagging_freq is set=1, subsample_freq=0 will be ignored. Current value: bagging_freq=1\n",
      "[LightGBM] [Warning] bagging_fraction is set=0.41041819232796306, subsample=1.0 will be ignored. Current value: bagging_fraction=0.41041819232796306\n",
      "[LightGBM] [Warning] lambda_l1 is set=5.91429455330934, reg_alpha=0.0 will be ignored. Current value: lambda_l1=5.91429455330934\n",
      "[LightGBM] [Warning] feature_fraction is set=0.7745015349855007, colsample_bytree=1.0 will be ignored. Current value: feature_fraction=0.7745015349855007\n",
      "[LightGBM] [Warning] lambda_l2 is set=0.640787541424157, reg_lambda=0.0 will be ignored. Current value: lambda_l2=0.640787541424157\n",
      "[LightGBM] [Warning] bagging_freq is set=1, subsample_freq=0 will be ignored. Current value: bagging_freq=1\n",
      "[LightGBM] [Warning] bagging_fraction is set=0.41041819232796306, subsample=1.0 will be ignored. Current value: bagging_fraction=0.41041819232796306\n",
      "[LightGBM] [Warning] lambda_l1 is set=5.91429455330934, reg_alpha=0.0 will be ignored. Current value: lambda_l1=5.91429455330934\n",
      "[LightGBM] [Warning] feature_fraction is set=0.7745015349855007, colsample_bytree=1.0 will be ignored. Current value: feature_fraction=0.7745015349855007\n",
      "[LightGBM] [Warning] lambda_l2 is set=0.640787541424157, reg_lambda=0.0 will be ignored. Current value: lambda_l2=0.640787541424157\n",
      "[LightGBM] [Warning] bagging_freq is set=1, subsample_freq=0 will be ignored. Current value: bagging_freq=1\n",
      "[LightGBM] [Warning] bagging_fraction is set=0.4154468345872786, subsample=1.0 will be ignored. Current value: bagging_fraction=0.4154468345872786\n",
      "[LightGBM] [Warning] lambda_l1 is set=6.36965670966335, reg_alpha=0.0 will be ignored. Current value: lambda_l1=6.36965670966335\n",
      "[LightGBM] [Warning] feature_fraction is set=0.7732894010390129, colsample_bytree=1.0 will be ignored. Current value: feature_fraction=0.7732894010390129\n",
      "[LightGBM] [Warning] lambda_l2 is set=0.22228641647935, reg_lambda=0.0 will be ignored. Current value: lambda_l2=0.22228641647935\n",
      "[LightGBM] [Warning] bagging_freq is set=1, subsample_freq=0 will be ignored. Current value: bagging_freq=1\n",
      "[LightGBM] [Warning] bagging_fraction is set=0.4154468345872786, subsample=1.0 will be ignored. Current value: bagging_fraction=0.4154468345872786\n",
      "[LightGBM] [Warning] lambda_l1 is set=6.36965670966335, reg_alpha=0.0 will be ignored. Current value: lambda_l1=6.36965670966335\n",
      "[LightGBM] [Warning] feature_fraction is set=0.7732894010390129, colsample_bytree=1.0 will be ignored. Current value: feature_fraction=0.7732894010390129\n",
      "[LightGBM] [Warning] lambda_l2 is set=0.22228641647935, reg_lambda=0.0 will be ignored. Current value: lambda_l2=0.22228641647935\n",
      "[LightGBM] [Warning] bagging_freq is set=1, subsample_freq=0 will be ignored. Current value: bagging_freq=1\n",
      "[LightGBM] [Warning] bagging_fraction is set=0.4154468345872786, subsample=1.0 will be ignored. Current value: bagging_fraction=0.4154468345872786\n",
      "[LightGBM] [Warning] lambda_l1 is set=6.36965670966335, reg_alpha=0.0 will be ignored. Current value: lambda_l1=6.36965670966335\n",
      "[LightGBM] [Warning] feature_fraction is set=0.7732894010390129, colsample_bytree=1.0 will be ignored. Current value: feature_fraction=0.7732894010390129\n",
      "[LightGBM] [Warning] lambda_l2 is set=0.22228641647935, reg_lambda=0.0 will be ignored. Current value: lambda_l2=0.22228641647935\n",
      "[LightGBM] [Warning] bagging_freq is set=1, subsample_freq=0 will be ignored. Current value: bagging_freq=1\n",
      "[LightGBM] [Warning] bagging_fraction is set=0.4154468345872786, subsample=1.0 will be ignored. Current value: bagging_fraction=0.4154468345872786\n",
      "[LightGBM] [Warning] lambda_l1 is set=6.36965670966335, reg_alpha=0.0 will be ignored. Current value: lambda_l1=6.36965670966335\n",
      "[LightGBM] [Warning] feature_fraction is set=0.7732894010390129, colsample_bytree=1.0 will be ignored. Current value: feature_fraction=0.7732894010390129\n",
      "[LightGBM] [Warning] lambda_l2 is set=0.22228641647935, reg_lambda=0.0 will be ignored. Current value: lambda_l2=0.22228641647935\n",
      "[LightGBM] [Warning] bagging_freq is set=1, subsample_freq=0 will be ignored. Current value: bagging_freq=1\n"
     ]
    },
    {
     "name": "stderr",
     "output_type": "stream",
     "text": [
      "\u001b[32m[I 2023-03-15 16:58:04,443]\u001b[0m Trial 92 finished with value: -0.19187433548184427 and parameters: {'lambda_l1': 6.36965670966335, 'lambda_l2': 0.22228641647935, 'num_leaves': 217, 'feature_fraction': 0.7732894010390129, 'bagging_fraction': 0.4154468345872786, 'bagging_freq': 1, 'min_child_samples': 87}. Best is trial 83 with value: -0.18939667939421484.\u001b[0m\n"
     ]
    },
    {
     "name": "stdout",
     "output_type": "stream",
     "text": [
      "[LightGBM] [Warning] bagging_fraction is set=0.4154468345872786, subsample=1.0 will be ignored. Current value: bagging_fraction=0.4154468345872786\n",
      "[LightGBM] [Warning] lambda_l1 is set=6.36965670966335, reg_alpha=0.0 will be ignored. Current value: lambda_l1=6.36965670966335\n",
      "[LightGBM] [Warning] feature_fraction is set=0.7732894010390129, colsample_bytree=1.0 will be ignored. Current value: feature_fraction=0.7732894010390129\n",
      "[LightGBM] [Warning] lambda_l2 is set=0.22228641647935, reg_lambda=0.0 will be ignored. Current value: lambda_l2=0.22228641647935\n",
      "[LightGBM] [Warning] bagging_freq is set=1, subsample_freq=0 will be ignored. Current value: bagging_freq=1\n",
      "[LightGBM] [Warning] bagging_fraction is set=0.44290682257761615, subsample=1.0 will be ignored. Current value: bagging_fraction=0.44290682257761615\n",
      "[LightGBM] [Warning] lambda_l1 is set=5.972419630903758, reg_alpha=0.0 will be ignored. Current value: lambda_l1=5.972419630903758\n",
      "[LightGBM] [Warning] feature_fraction is set=0.7562172195669378, colsample_bytree=1.0 will be ignored. Current value: feature_fraction=0.7562172195669378\n",
      "[LightGBM] [Warning] lambda_l2 is set=0.6258119774791719, reg_lambda=0.0 will be ignored. Current value: lambda_l2=0.6258119774791719\n",
      "[LightGBM] [Warning] bagging_freq is set=1, subsample_freq=0 will be ignored. Current value: bagging_freq=1\n",
      "[LightGBM] [Warning] bagging_fraction is set=0.44290682257761615, subsample=1.0 will be ignored. Current value: bagging_fraction=0.44290682257761615\n",
      "[LightGBM] [Warning] lambda_l1 is set=5.972419630903758, reg_alpha=0.0 will be ignored. Current value: lambda_l1=5.972419630903758\n",
      "[LightGBM] [Warning] feature_fraction is set=0.7562172195669378, colsample_bytree=1.0 will be ignored. Current value: feature_fraction=0.7562172195669378\n",
      "[LightGBM] [Warning] lambda_l2 is set=0.6258119774791719, reg_lambda=0.0 will be ignored. Current value: lambda_l2=0.6258119774791719\n",
      "[LightGBM] [Warning] bagging_freq is set=1, subsample_freq=0 will be ignored. Current value: bagging_freq=1\n"
     ]
    },
    {
     "name": "stderr",
     "output_type": "stream",
     "text": [
      "\u001b[32m[I 2023-03-15 16:58:04,798]\u001b[0m Trial 93 finished with value: -0.1938354910259114 and parameters: {'lambda_l1': 5.972419630903758, 'lambda_l2': 0.6258119774791719, 'num_leaves': 251, 'feature_fraction': 0.7562172195669378, 'bagging_fraction': 0.44290682257761615, 'bagging_freq': 1, 'min_child_samples': 94}. Best is trial 83 with value: -0.18939667939421484.\u001b[0m\n"
     ]
    },
    {
     "name": "stdout",
     "output_type": "stream",
     "text": [
      "[LightGBM] [Warning] bagging_fraction is set=0.44290682257761615, subsample=1.0 will be ignored. Current value: bagging_fraction=0.44290682257761615\n",
      "[LightGBM] [Warning] lambda_l1 is set=5.972419630903758, reg_alpha=0.0 will be ignored. Current value: lambda_l1=5.972419630903758\n",
      "[LightGBM] [Warning] feature_fraction is set=0.7562172195669378, colsample_bytree=1.0 will be ignored. Current value: feature_fraction=0.7562172195669378\n",
      "[LightGBM] [Warning] lambda_l2 is set=0.6258119774791719, reg_lambda=0.0 will be ignored. Current value: lambda_l2=0.6258119774791719\n",
      "[LightGBM] [Warning] bagging_freq is set=1, subsample_freq=0 will be ignored. Current value: bagging_freq=1\n",
      "[LightGBM] [Warning] bagging_fraction is set=0.44290682257761615, subsample=1.0 will be ignored. Current value: bagging_fraction=0.44290682257761615\n",
      "[LightGBM] [Warning] lambda_l1 is set=5.972419630903758, reg_alpha=0.0 will be ignored. Current value: lambda_l1=5.972419630903758\n",
      "[LightGBM] [Warning] feature_fraction is set=0.7562172195669378, colsample_bytree=1.0 will be ignored. Current value: feature_fraction=0.7562172195669378\n",
      "[LightGBM] [Warning] lambda_l2 is set=0.6258119774791719, reg_lambda=0.0 will be ignored. Current value: lambda_l2=0.6258119774791719\n",
      "[LightGBM] [Warning] bagging_freq is set=1, subsample_freq=0 will be ignored. Current value: bagging_freq=1\n",
      "[LightGBM] [Warning] bagging_fraction is set=0.44290682257761615, subsample=1.0 will be ignored. Current value: bagging_fraction=0.44290682257761615\n",
      "[LightGBM] [Warning] lambda_l1 is set=5.972419630903758, reg_alpha=0.0 will be ignored. Current value: lambda_l1=5.972419630903758\n",
      "[LightGBM] [Warning] feature_fraction is set=0.7562172195669378, colsample_bytree=1.0 will be ignored. Current value: feature_fraction=0.7562172195669378\n",
      "[LightGBM] [Warning] lambda_l2 is set=0.6258119774791719, reg_lambda=0.0 will be ignored. Current value: lambda_l2=0.6258119774791719\n",
      "[LightGBM] [Warning] bagging_freq is set=1, subsample_freq=0 will be ignored. Current value: bagging_freq=1\n",
      "[LightGBM] [Warning] bagging_fraction is set=0.48550879285846116, subsample=1.0 will be ignored. Current value: bagging_fraction=0.48550879285846116\n",
      "[LightGBM] [Warning] lambda_l1 is set=3.548483308670421, reg_alpha=0.0 will be ignored. Current value: lambda_l1=3.548483308670421\n",
      "[LightGBM] [Warning] feature_fraction is set=0.7325503282104333, colsample_bytree=1.0 will be ignored. Current value: feature_fraction=0.7325503282104333\n",
      "[LightGBM] [Warning] lambda_l2 is set=1.719380721530681, reg_lambda=0.0 will be ignored. Current value: lambda_l2=1.719380721530681\n",
      "[LightGBM] [Warning] bagging_freq is set=2, subsample_freq=0 will be ignored. Current value: bagging_freq=2\n",
      "[LightGBM] [Warning] bagging_fraction is set=0.48550879285846116, subsample=1.0 will be ignored. Current value: bagging_fraction=0.48550879285846116\n",
      "[LightGBM] [Warning] lambda_l1 is set=3.548483308670421, reg_alpha=0.0 will be ignored. Current value: lambda_l1=3.548483308670421\n",
      "[LightGBM] [Warning] feature_fraction is set=0.7325503282104333, colsample_bytree=1.0 will be ignored. Current value: feature_fraction=0.7325503282104333\n",
      "[LightGBM] [Warning] lambda_l2 is set=1.719380721530681, reg_lambda=0.0 will be ignored. Current value: lambda_l2=1.719380721530681\n",
      "[LightGBM] [Warning] bagging_freq is set=2, subsample_freq=0 will be ignored. Current value: bagging_freq=2\n",
      "[LightGBM] [Warning] bagging_fraction is set=0.48550879285846116, subsample=1.0 will be ignored. Current value: bagging_fraction=0.48550879285846116\n",
      "[LightGBM] [Warning] lambda_l1 is set=3.548483308670421, reg_alpha=0.0 will be ignored. Current value: lambda_l1=3.548483308670421\n",
      "[LightGBM] [Warning] feature_fraction is set=0.7325503282104333, colsample_bytree=1.0 will be ignored. Current value: feature_fraction=0.7325503282104333\n",
      "[LightGBM] [Warning] lambda_l2 is set=1.719380721530681, reg_lambda=0.0 will be ignored. Current value: lambda_l2=1.719380721530681\n",
      "[LightGBM] [Warning] bagging_freq is set=2, subsample_freq=0 will be ignored. Current value: bagging_freq=2\n",
      "[LightGBM] [Warning] bagging_fraction is set=0.48550879285846116, subsample=1.0 will be ignored. Current value: bagging_fraction=0.48550879285846116\n",
      "[LightGBM] [Warning] lambda_l1 is set=3.548483308670421, reg_alpha=0.0 will be ignored. Current value: lambda_l1=3.548483308670421\n",
      "[LightGBM] [Warning] feature_fraction is set=0.7325503282104333, colsample_bytree=1.0 will be ignored. Current value: feature_fraction=0.7325503282104333\n",
      "[LightGBM] [Warning] lambda_l2 is set=1.719380721530681, reg_lambda=0.0 will be ignored. Current value: lambda_l2=1.719380721530681\n",
      "[LightGBM] [Warning] bagging_freq is set=2, subsample_freq=0 will be ignored. Current value: bagging_freq=2\n"
     ]
    },
    {
     "name": "stderr",
     "output_type": "stream",
     "text": [
      "\u001b[32m[I 2023-03-15 16:58:05,171]\u001b[0m Trial 94 finished with value: -0.19936776170282755 and parameters: {'lambda_l1': 3.548483308670421, 'lambda_l2': 1.719380721530681, 'num_leaves': 208, 'feature_fraction': 0.7325503282104333, 'bagging_fraction': 0.48550879285846116, 'bagging_freq': 2, 'min_child_samples': 99}. Best is trial 83 with value: -0.18939667939421484.\u001b[0m\n"
     ]
    },
    {
     "name": "stdout",
     "output_type": "stream",
     "text": [
      "[LightGBM] [Warning] bagging_fraction is set=0.48550879285846116, subsample=1.0 will be ignored. Current value: bagging_fraction=0.48550879285846116\n",
      "[LightGBM] [Warning] lambda_l1 is set=3.548483308670421, reg_alpha=0.0 will be ignored. Current value: lambda_l1=3.548483308670421\n",
      "[LightGBM] [Warning] feature_fraction is set=0.7325503282104333, colsample_bytree=1.0 will be ignored. Current value: feature_fraction=0.7325503282104333\n",
      "[LightGBM] [Warning] lambda_l2 is set=1.719380721530681, reg_lambda=0.0 will be ignored. Current value: lambda_l2=1.719380721530681\n",
      "[LightGBM] [Warning] bagging_freq is set=2, subsample_freq=0 will be ignored. Current value: bagging_freq=2\n",
      "[LightGBM] [Warning] bagging_fraction is set=0.45900401780165384, subsample=1.0 will be ignored. Current value: bagging_fraction=0.45900401780165384\n",
      "[LightGBM] [Warning] lambda_l1 is set=2.1754600513799742, reg_alpha=0.0 will be ignored. Current value: lambda_l1=2.1754600513799742\n",
      "[LightGBM] [Warning] feature_fraction is set=0.7985331536211674, colsample_bytree=1.0 will be ignored. Current value: feature_fraction=0.7985331536211674\n",
      "[LightGBM] [Warning] lambda_l2 is set=0.363749529105231, reg_lambda=0.0 will be ignored. Current value: lambda_l2=0.363749529105231\n",
      "[LightGBM] [Warning] bagging_freq is set=1, subsample_freq=0 will be ignored. Current value: bagging_freq=1\n",
      "[LightGBM] [Warning] bagging_fraction is set=0.45900401780165384, subsample=1.0 will be ignored. Current value: bagging_fraction=0.45900401780165384\n",
      "[LightGBM] [Warning] lambda_l1 is set=2.1754600513799742, reg_alpha=0.0 will be ignored. Current value: lambda_l1=2.1754600513799742\n",
      "[LightGBM] [Warning] feature_fraction is set=0.7985331536211674, colsample_bytree=1.0 will be ignored. Current value: feature_fraction=0.7985331536211674\n",
      "[LightGBM] [Warning] lambda_l2 is set=0.363749529105231, reg_lambda=0.0 will be ignored. Current value: lambda_l2=0.363749529105231\n",
      "[LightGBM] [Warning] bagging_freq is set=1, subsample_freq=0 will be ignored. Current value: bagging_freq=1\n"
     ]
    },
    {
     "name": "stderr",
     "output_type": "stream",
     "text": [
      "\u001b[32m[I 2023-03-15 16:58:05,556]\u001b[0m Trial 95 finished with value: -0.20017869711395292 and parameters: {'lambda_l1': 2.1754600513799742, 'lambda_l2': 0.363749529105231, 'num_leaves': 225, 'feature_fraction': 0.7985331536211674, 'bagging_fraction': 0.45900401780165384, 'bagging_freq': 1, 'min_child_samples': 89}. Best is trial 83 with value: -0.18939667939421484.\u001b[0m\n"
     ]
    },
    {
     "name": "stdout",
     "output_type": "stream",
     "text": [
      "[LightGBM] [Warning] bagging_fraction is set=0.45900401780165384, subsample=1.0 will be ignored. Current value: bagging_fraction=0.45900401780165384\n",
      "[LightGBM] [Warning] lambda_l1 is set=2.1754600513799742, reg_alpha=0.0 will be ignored. Current value: lambda_l1=2.1754600513799742\n",
      "[LightGBM] [Warning] feature_fraction is set=0.7985331536211674, colsample_bytree=1.0 will be ignored. Current value: feature_fraction=0.7985331536211674\n",
      "[LightGBM] [Warning] lambda_l2 is set=0.363749529105231, reg_lambda=0.0 will be ignored. Current value: lambda_l2=0.363749529105231\n",
      "[LightGBM] [Warning] bagging_freq is set=1, subsample_freq=0 will be ignored. Current value: bagging_freq=1\n",
      "[LightGBM] [Warning] bagging_fraction is set=0.45900401780165384, subsample=1.0 will be ignored. Current value: bagging_fraction=0.45900401780165384\n",
      "[LightGBM] [Warning] lambda_l1 is set=2.1754600513799742, reg_alpha=0.0 will be ignored. Current value: lambda_l1=2.1754600513799742\n",
      "[LightGBM] [Warning] feature_fraction is set=0.7985331536211674, colsample_bytree=1.0 will be ignored. Current value: feature_fraction=0.7985331536211674\n",
      "[LightGBM] [Warning] lambda_l2 is set=0.363749529105231, reg_lambda=0.0 will be ignored. Current value: lambda_l2=0.363749529105231\n",
      "[LightGBM] [Warning] bagging_freq is set=1, subsample_freq=0 will be ignored. Current value: bagging_freq=1\n",
      "[LightGBM] [Warning] bagging_fraction is set=0.45900401780165384, subsample=1.0 will be ignored. Current value: bagging_fraction=0.45900401780165384\n",
      "[LightGBM] [Warning] lambda_l1 is set=2.1754600513799742, reg_alpha=0.0 will be ignored. Current value: lambda_l1=2.1754600513799742\n",
      "[LightGBM] [Warning] feature_fraction is set=0.7985331536211674, colsample_bytree=1.0 will be ignored. Current value: feature_fraction=0.7985331536211674\n",
      "[LightGBM] [Warning] lambda_l2 is set=0.363749529105231, reg_lambda=0.0 will be ignored. Current value: lambda_l2=0.363749529105231\n",
      "[LightGBM] [Warning] bagging_freq is set=1, subsample_freq=0 will be ignored. Current value: bagging_freq=1\n",
      "[LightGBM] [Warning] bagging_fraction is set=0.4332718200931663, subsample=1.0 will be ignored. Current value: bagging_fraction=0.4332718200931663\n",
      "[LightGBM] [Warning] lambda_l1 is set=9.195311845844927, reg_alpha=0.0 will be ignored. Current value: lambda_l1=9.195311845844927\n",
      "[LightGBM] [Warning] feature_fraction is set=0.7564249130435227, colsample_bytree=1.0 will be ignored. Current value: feature_fraction=0.7564249130435227\n",
      "[LightGBM] [Warning] lambda_l2 is set=0.10014295662338933, reg_lambda=0.0 will be ignored. Current value: lambda_l2=0.10014295662338933\n",
      "[LightGBM] [Warning] bagging_freq is set=1, subsample_freq=0 will be ignored. Current value: bagging_freq=1\n",
      "[LightGBM] [Warning] bagging_fraction is set=0.4332718200931663, subsample=1.0 will be ignored. Current value: bagging_fraction=0.4332718200931663\n",
      "[LightGBM] [Warning] lambda_l1 is set=9.195311845844927, reg_alpha=0.0 will be ignored. Current value: lambda_l1=9.195311845844927\n",
      "[LightGBM] [Warning] feature_fraction is set=0.7564249130435227, colsample_bytree=1.0 will be ignored. Current value: feature_fraction=0.7564249130435227\n",
      "[LightGBM] [Warning] lambda_l2 is set=0.10014295662338933, reg_lambda=0.0 will be ignored. Current value: lambda_l2=0.10014295662338933\n",
      "[LightGBM] [Warning] bagging_freq is set=1, subsample_freq=0 will be ignored. Current value: bagging_freq=1\n",
      "[LightGBM] [Warning] bagging_fraction is set=0.4332718200931663, subsample=1.0 will be ignored. Current value: bagging_fraction=0.4332718200931663\n",
      "[LightGBM] [Warning] lambda_l1 is set=9.195311845844927, reg_alpha=0.0 will be ignored. Current value: lambda_l1=9.195311845844927\n",
      "[LightGBM] [Warning] feature_fraction is set=0.7564249130435227, colsample_bytree=1.0 will be ignored. Current value: feature_fraction=0.7564249130435227\n",
      "[LightGBM] [Warning] lambda_l2 is set=0.10014295662338933, reg_lambda=0.0 will be ignored. Current value: lambda_l2=0.10014295662338933\n",
      "[LightGBM] [Warning] bagging_freq is set=1, subsample_freq=0 will be ignored. Current value: bagging_freq=1\n",
      "[LightGBM] [Warning] bagging_fraction is set=0.4332718200931663, subsample=1.0 will be ignored. Current value: bagging_fraction=0.4332718200931663\n",
      "[LightGBM] [Warning] lambda_l1 is set=9.195311845844927, reg_alpha=0.0 will be ignored. Current value: lambda_l1=9.195311845844927\n",
      "[LightGBM] [Warning] feature_fraction is set=0.7564249130435227, colsample_bytree=1.0 will be ignored. Current value: feature_fraction=0.7564249130435227\n",
      "[LightGBM] [Warning] lambda_l2 is set=0.10014295662338933, reg_lambda=0.0 will be ignored. Current value: lambda_l2=0.10014295662338933\n",
      "[LightGBM] [Warning] bagging_freq is set=1, subsample_freq=0 will be ignored. Current value: bagging_freq=1\n"
     ]
    },
    {
     "name": "stderr",
     "output_type": "stream",
     "text": [
      "\u001b[32m[I 2023-03-15 16:58:05,890]\u001b[0m Trial 96 finished with value: -0.1899806718032109 and parameters: {'lambda_l1': 9.195311845844927, 'lambda_l2': 0.10014295662338933, 'num_leaves': 232, 'feature_fraction': 0.7564249130435227, 'bagging_fraction': 0.4332718200931663, 'bagging_freq': 1, 'min_child_samples': 100}. Best is trial 83 with value: -0.18939667939421484.\u001b[0m\n"
     ]
    },
    {
     "name": "stdout",
     "output_type": "stream",
     "text": [
      "[LightGBM] [Warning] bagging_fraction is set=0.4332718200931663, subsample=1.0 will be ignored. Current value: bagging_fraction=0.4332718200931663\n",
      "[LightGBM] [Warning] lambda_l1 is set=9.195311845844927, reg_alpha=0.0 will be ignored. Current value: lambda_l1=9.195311845844927\n",
      "[LightGBM] [Warning] feature_fraction is set=0.7564249130435227, colsample_bytree=1.0 will be ignored. Current value: feature_fraction=0.7564249130435227\n",
      "[LightGBM] [Warning] lambda_l2 is set=0.10014295662338933, reg_lambda=0.0 will be ignored. Current value: lambda_l2=0.10014295662338933\n",
      "[LightGBM] [Warning] bagging_freq is set=1, subsample_freq=0 will be ignored. Current value: bagging_freq=1\n",
      "[LightGBM] [Warning] bagging_fraction is set=0.4102814081786128, subsample=1.0 will be ignored. Current value: bagging_fraction=0.4102814081786128\n",
      "[LightGBM] [Warning] lambda_l1 is set=9.92599048884988, reg_alpha=0.0 will be ignored. Current value: lambda_l1=9.92599048884988\n",
      "[LightGBM] [Warning] feature_fraction is set=0.7548414845229086, colsample_bytree=1.0 will be ignored. Current value: feature_fraction=0.7548414845229086\n",
      "[LightGBM] [Warning] lambda_l2 is set=0.12237617316234474, reg_lambda=0.0 will be ignored. Current value: lambda_l2=0.12237617316234474\n",
      "[LightGBM] [Warning] bagging_freq is set=1, subsample_freq=0 will be ignored. Current value: bagging_freq=1\n",
      "[LightGBM] [Warning] bagging_fraction is set=0.4102814081786128, subsample=1.0 will be ignored. Current value: bagging_fraction=0.4102814081786128\n",
      "[LightGBM] [Warning] lambda_l1 is set=9.92599048884988, reg_alpha=0.0 will be ignored. Current value: lambda_l1=9.92599048884988\n",
      "[LightGBM] [Warning] feature_fraction is set=0.7548414845229086, colsample_bytree=1.0 will be ignored. Current value: feature_fraction=0.7548414845229086\n",
      "[LightGBM] [Warning] lambda_l2 is set=0.12237617316234474, reg_lambda=0.0 will be ignored. Current value: lambda_l2=0.12237617316234474\n",
      "[LightGBM] [Warning] bagging_freq is set=1, subsample_freq=0 will be ignored. Current value: bagging_freq=1\n",
      "[LightGBM] [Warning] bagging_fraction is set=0.4102814081786128, subsample=1.0 will be ignored. Current value: bagging_fraction=0.4102814081786128\n",
      "[LightGBM] [Warning] lambda_l1 is set=9.92599048884988, reg_alpha=0.0 will be ignored. Current value: lambda_l1=9.92599048884988\n",
      "[LightGBM] [Warning] feature_fraction is set=0.7548414845229086, colsample_bytree=1.0 will be ignored. Current value: feature_fraction=0.7548414845229086\n",
      "[LightGBM] [Warning] lambda_l2 is set=0.12237617316234474, reg_lambda=0.0 will be ignored. Current value: lambda_l2=0.12237617316234474\n",
      "[LightGBM] [Warning] bagging_freq is set=1, subsample_freq=0 will be ignored. Current value: bagging_freq=1\n",
      "[LightGBM] [Warning] bagging_fraction is set=0.4102814081786128, subsample=1.0 will be ignored. Current value: bagging_fraction=0.4102814081786128\n",
      "[LightGBM] [Warning] lambda_l1 is set=9.92599048884988, reg_alpha=0.0 will be ignored. Current value: lambda_l1=9.92599048884988\n",
      "[LightGBM] [Warning] feature_fraction is set=0.7548414845229086, colsample_bytree=1.0 will be ignored. Current value: feature_fraction=0.7548414845229086\n",
      "[LightGBM] [Warning] lambda_l2 is set=0.12237617316234474, reg_lambda=0.0 will be ignored. Current value: lambda_l2=0.12237617316234474\n",
      "[LightGBM] [Warning] bagging_freq is set=1, subsample_freq=0 will be ignored. Current value: bagging_freq=1\n",
      "[LightGBM] [Warning] bagging_fraction is set=0.4102814081786128, subsample=1.0 will be ignored. Current value: bagging_fraction=0.4102814081786128\n",
      "[LightGBM] [Warning] lambda_l1 is set=9.92599048884988, reg_alpha=0.0 will be ignored. Current value: lambda_l1=9.92599048884988\n",
      "[LightGBM] [Warning] feature_fraction is set=0.7548414845229086, colsample_bytree=1.0 will be ignored. Current value: feature_fraction=0.7548414845229086\n",
      "[LightGBM] [Warning] lambda_l2 is set=0.12237617316234474, reg_lambda=0.0 will be ignored. Current value: lambda_l2=0.12237617316234474\n",
      "[LightGBM] [Warning] bagging_freq is set=1, subsample_freq=0 will be ignored. Current value: bagging_freq=1\n"
     ]
    },
    {
     "name": "stderr",
     "output_type": "stream",
     "text": [
      "\u001b[32m[I 2023-03-15 16:58:06,565]\u001b[0m Trial 97 finished with value: -0.19346819145725558 and parameters: {'lambda_l1': 9.92599048884988, 'lambda_l2': 0.12237617316234474, 'num_leaves': 237, 'feature_fraction': 0.7548414845229086, 'bagging_fraction': 0.4102814081786128, 'bagging_freq': 1, 'min_child_samples': 26}. Best is trial 83 with value: -0.18939667939421484.\u001b[0m\n"
     ]
    },
    {
     "name": "stdout",
     "output_type": "stream",
     "text": [
      "[LightGBM] [Warning] bagging_fraction is set=0.4285755647436565, subsample=1.0 will be ignored. Current value: bagging_fraction=0.4285755647436565\n",
      "[LightGBM] [Warning] lambda_l1 is set=4.4839626524510585, reg_alpha=0.0 will be ignored. Current value: lambda_l1=4.4839626524510585\n",
      "[LightGBM] [Warning] feature_fraction is set=0.7743991427834319, colsample_bytree=1.0 will be ignored. Current value: feature_fraction=0.7743991427834319\n",
      "[LightGBM] [Warning] lambda_l2 is set=0.07378221532309362, reg_lambda=0.0 will be ignored. Current value: lambda_l2=0.07378221532309362\n",
      "[LightGBM] [Warning] bagging_freq is set=1, subsample_freq=0 will be ignored. Current value: bagging_freq=1\n",
      "[LightGBM] [Warning] bagging_fraction is set=0.4285755647436565, subsample=1.0 will be ignored. Current value: bagging_fraction=0.4285755647436565\n",
      "[LightGBM] [Warning] lambda_l1 is set=4.4839626524510585, reg_alpha=0.0 will be ignored. Current value: lambda_l1=4.4839626524510585\n",
      "[LightGBM] [Warning] feature_fraction is set=0.7743991427834319, colsample_bytree=1.0 will be ignored. Current value: feature_fraction=0.7743991427834319\n",
      "[LightGBM] [Warning] lambda_l2 is set=0.07378221532309362, reg_lambda=0.0 will be ignored. Current value: lambda_l2=0.07378221532309362\n",
      "[LightGBM] [Warning] bagging_freq is set=1, subsample_freq=0 will be ignored. Current value: bagging_freq=1\n"
     ]
    },
    {
     "name": "stderr",
     "output_type": "stream",
     "text": [
      "\u001b[32m[I 2023-03-15 16:58:07,059]\u001b[0m Trial 98 finished with value: -0.193187200782391 and parameters: {'lambda_l1': 4.4839626524510585, 'lambda_l2': 0.07378221532309362, 'num_leaves': 230, 'feature_fraction': 0.7743991427834319, 'bagging_fraction': 0.4285755647436565, 'bagging_freq': 1, 'min_child_samples': 97}. Best is trial 83 with value: -0.18939667939421484.\u001b[0m\n"
     ]
    },
    {
     "name": "stdout",
     "output_type": "stream",
     "text": [
      "[LightGBM] [Warning] bagging_fraction is set=0.4285755647436565, subsample=1.0 will be ignored. Current value: bagging_fraction=0.4285755647436565\n",
      "[LightGBM] [Warning] lambda_l1 is set=4.4839626524510585, reg_alpha=0.0 will be ignored. Current value: lambda_l1=4.4839626524510585\n",
      "[LightGBM] [Warning] feature_fraction is set=0.7743991427834319, colsample_bytree=1.0 will be ignored. Current value: feature_fraction=0.7743991427834319\n",
      "[LightGBM] [Warning] lambda_l2 is set=0.07378221532309362, reg_lambda=0.0 will be ignored. Current value: lambda_l2=0.07378221532309362\n",
      "[LightGBM] [Warning] bagging_freq is set=1, subsample_freq=0 will be ignored. Current value: bagging_freq=1\n",
      "[LightGBM] [Warning] bagging_fraction is set=0.4285755647436565, subsample=1.0 will be ignored. Current value: bagging_fraction=0.4285755647436565\n",
      "[LightGBM] [Warning] lambda_l1 is set=4.4839626524510585, reg_alpha=0.0 will be ignored. Current value: lambda_l1=4.4839626524510585\n",
      "[LightGBM] [Warning] feature_fraction is set=0.7743991427834319, colsample_bytree=1.0 will be ignored. Current value: feature_fraction=0.7743991427834319\n",
      "[LightGBM] [Warning] lambda_l2 is set=0.07378221532309362, reg_lambda=0.0 will be ignored. Current value: lambda_l2=0.07378221532309362\n",
      "[LightGBM] [Warning] bagging_freq is set=1, subsample_freq=0 will be ignored. Current value: bagging_freq=1\n",
      "[LightGBM] [Warning] bagging_fraction is set=0.4285755647436565, subsample=1.0 will be ignored. Current value: bagging_fraction=0.4285755647436565\n",
      "[LightGBM] [Warning] lambda_l1 is set=4.4839626524510585, reg_alpha=0.0 will be ignored. Current value: lambda_l1=4.4839626524510585\n",
      "[LightGBM] [Warning] feature_fraction is set=0.7743991427834319, colsample_bytree=1.0 will be ignored. Current value: feature_fraction=0.7743991427834319\n",
      "[LightGBM] [Warning] lambda_l2 is set=0.07378221532309362, reg_lambda=0.0 will be ignored. Current value: lambda_l2=0.07378221532309362\n",
      "[LightGBM] [Warning] bagging_freq is set=1, subsample_freq=0 will be ignored. Current value: bagging_freq=1\n",
      "[LightGBM] [Warning] bagging_fraction is set=0.43621999385040044, subsample=1.0 will be ignored. Current value: bagging_fraction=0.43621999385040044\n",
      "[LightGBM] [Warning] lambda_l1 is set=0.8286486325982612, reg_alpha=0.0 will be ignored. Current value: lambda_l1=0.8286486325982612\n",
      "[LightGBM] [Warning] feature_fraction is set=0.742845009165699, colsample_bytree=1.0 will be ignored. Current value: feature_fraction=0.742845009165699\n",
      "[LightGBM] [Warning] lambda_l2 is set=0.2064788540182722, reg_lambda=0.0 will be ignored. Current value: lambda_l2=0.2064788540182722\n",
      "[LightGBM] [Warning] bagging_freq is set=1, subsample_freq=0 will be ignored. Current value: bagging_freq=1\n",
      "[LightGBM] [Warning] bagging_fraction is set=0.43621999385040044, subsample=1.0 will be ignored. Current value: bagging_fraction=0.43621999385040044\n",
      "[LightGBM] [Warning] lambda_l1 is set=0.8286486325982612, reg_alpha=0.0 will be ignored. Current value: lambda_l1=0.8286486325982612\n",
      "[LightGBM] [Warning] feature_fraction is set=0.742845009165699, colsample_bytree=1.0 will be ignored. Current value: feature_fraction=0.742845009165699\n",
      "[LightGBM] [Warning] lambda_l2 is set=0.2064788540182722, reg_lambda=0.0 will be ignored. Current value: lambda_l2=0.2064788540182722\n",
      "[LightGBM] [Warning] bagging_freq is set=1, subsample_freq=0 will be ignored. Current value: bagging_freq=1\n",
      "[LightGBM] [Warning] bagging_fraction is set=0.43621999385040044, subsample=1.0 will be ignored. Current value: bagging_fraction=0.43621999385040044\n",
      "[LightGBM] [Warning] lambda_l1 is set=0.8286486325982612, reg_alpha=0.0 will be ignored. Current value: lambda_l1=0.8286486325982612\n",
      "[LightGBM] [Warning] feature_fraction is set=0.742845009165699, colsample_bytree=1.0 will be ignored. Current value: feature_fraction=0.742845009165699\n",
      "[LightGBM] [Warning] lambda_l2 is set=0.2064788540182722, reg_lambda=0.0 will be ignored. Current value: lambda_l2=0.2064788540182722\n",
      "[LightGBM] [Warning] bagging_freq is set=1, subsample_freq=0 will be ignored. Current value: bagging_freq=1\n",
      "[LightGBM] [Warning] bagging_fraction is set=0.43621999385040044, subsample=1.0 will be ignored. Current value: bagging_fraction=0.43621999385040044\n",
      "[LightGBM] [Warning] lambda_l1 is set=0.8286486325982612, reg_alpha=0.0 will be ignored. Current value: lambda_l1=0.8286486325982612\n",
      "[LightGBM] [Warning] feature_fraction is set=0.742845009165699, colsample_bytree=1.0 will be ignored. Current value: feature_fraction=0.742845009165699\n",
      "[LightGBM] [Warning] lambda_l2 is set=0.2064788540182722, reg_lambda=0.0 will be ignored. Current value: lambda_l2=0.2064788540182722\n",
      "[LightGBM] [Warning] bagging_freq is set=1, subsample_freq=0 will be ignored. Current value: bagging_freq=1\n"
     ]
    },
    {
     "name": "stderr",
     "output_type": "stream",
     "text": [
      "\u001b[32m[I 2023-03-15 16:58:07,433]\u001b[0m Trial 99 finished with value: -0.19994934996383718 and parameters: {'lambda_l1': 0.8286486325982612, 'lambda_l2': 0.2064788540182722, 'num_leaves': 249, 'feature_fraction': 0.742845009165699, 'bagging_fraction': 0.43621999385040044, 'bagging_freq': 1, 'min_child_samples': 100}. Best is trial 83 with value: -0.18939667939421484.\u001b[0m\n"
     ]
    },
    {
     "name": "stdout",
     "output_type": "stream",
     "text": [
      "[LightGBM] [Warning] bagging_fraction is set=0.43621999385040044, subsample=1.0 will be ignored. Current value: bagging_fraction=0.43621999385040044\n",
      "[LightGBM] [Warning] lambda_l1 is set=0.8286486325982612, reg_alpha=0.0 will be ignored. Current value: lambda_l1=0.8286486325982612\n",
      "[LightGBM] [Warning] feature_fraction is set=0.742845009165699, colsample_bytree=1.0 will be ignored. Current value: feature_fraction=0.742845009165699\n",
      "[LightGBM] [Warning] lambda_l2 is set=0.2064788540182722, reg_lambda=0.0 will be ignored. Current value: lambda_l2=0.2064788540182722\n",
      "[LightGBM] [Warning] bagging_freq is set=1, subsample_freq=0 will be ignored. Current value: bagging_freq=1\n"
     ]
    },
    {
     "data": {
      "text/plain": [
       "{'lambda_l1': 8.772994195299553,\n",
       " 'lambda_l2': 0.49236268943892314,\n",
       " 'num_leaves': 248,\n",
       " 'feature_fraction': 0.7668271563501782,\n",
       " 'bagging_fraction': 0.4164242117438031,\n",
       " 'bagging_freq': 1,\n",
       " 'min_child_samples': 92}"
      ]
     },
     "execution_count": 8,
     "metadata": {},
     "output_type": "execute_result"
    }
   ],
   "source": [
    "study = run_study(X_train, y_train)\n",
    "study.best_params"
   ]
  },
  {
   "cell_type": "code",
   "execution_count": 9,
   "id": "247cf786",
   "metadata": {
    "execution": {
     "iopub.execute_input": "2023-03-15T16:58:07.497313Z",
     "iopub.status.busy": "2023-03-15T16:58:07.496367Z",
     "iopub.status.idle": "2023-03-15T16:58:07.578825Z",
     "shell.execute_reply": "2023-03-15T16:58:07.578025Z"
    },
    "papermill": {
     "duration": 0.108124,
     "end_time": "2023-03-15T16:58:07.581331",
     "exception": false,
     "start_time": "2023-03-15T16:58:07.473207",
     "status": "completed"
    },
    "tags": []
   },
   "outputs": [
    {
     "name": "stdout",
     "output_type": "stream",
     "text": [
      "[LightGBM] [Warning] bagging_fraction is set=0.4164242117438031, subsample=1.0 will be ignored. Current value: bagging_fraction=0.4164242117438031\n",
      "[LightGBM] [Warning] lambda_l1 is set=8.772994195299553, reg_alpha=0.0 will be ignored. Current value: lambda_l1=8.772994195299553\n",
      "[LightGBM] [Warning] feature_fraction is set=0.7668271563501782, colsample_bytree=1.0 will be ignored. Current value: feature_fraction=0.7668271563501782\n",
      "[LightGBM] [Warning] lambda_l2 is set=0.49236268943892314, reg_lambda=0.0 will be ignored. Current value: lambda_l2=0.49236268943892314\n",
      "[LightGBM] [Warning] bagging_freq is set=1, subsample_freq=0 will be ignored. Current value: bagging_freq=1\n",
      "Brier Score: 0.1567189348300844\n",
      "ROC AUC: 0.8659336419753085\n",
      "Parameters\n",
      "- boosting_type: gbdt\n",
      "- class_weight: None\n",
      "- colsample_bytree: 1.0\n",
      "- importance_type: split\n",
      "- learning_rate: 0.1\n",
      "- max_depth: -1\n",
      "- min_child_samples: 92\n",
      "- min_child_weight: 0.001\n",
      "- min_split_gain: 0.0\n",
      "- n_estimators: 100\n",
      "- n_jobs: -1\n",
      "- num_leaves: 248\n",
      "- objective: binary\n",
      "- random_state: None\n",
      "- reg_alpha: 0.0\n",
      "- reg_lambda: 0.0\n",
      "- silent: warn\n",
      "- subsample: 1.0\n",
      "- subsample_for_bin: 200000\n",
      "- subsample_freq: 0\n",
      "- metric: l2\n",
      "- verbosity: -1\n",
      "- lambda_l1: 8.772994195299553\n",
      "- lambda_l2: 0.49236268943892314\n",
      "- feature_fraction: 0.7668271563501782\n",
      "- bagging_fraction: 0.4164242117438031\n",
      "- bagging_freq: 1\n",
      "Features\n",
      "- SeedDiff: 32\n",
      "- OrdinalRankDiff: 21\n",
      "- FGMRegDiff: 15\n",
      "- ScoreTouDiff: 12\n",
      "- TOTouDiff: 12\n",
      "- OROppTouDiff: 12\n",
      "- ORRegDiff: 8\n",
      "- AstTouDiff: 8\n",
      "- FTPOppTouDiff: 8\n",
      "- FGA3RegDiff: 7\n",
      "- FGAOppRegDiff: 7\n",
      "- OROppRegDiff: 7\n",
      "- DROppRegDiff: 7\n",
      "- FGP3OppRegDiff: 7\n",
      "- FGAOppTouDiff: 7\n",
      "- ScoreRegDiff: 6\n",
      "- ScoreOppRegDiff: 6\n",
      "- AstRegDiff: 6\n",
      "- BlkRegDiff: 6\n",
      "- ScoreOppTouDiff: 6\n",
      "- DRTouDiff: 6\n",
      "- FGARegDiff: 5\n",
      "- FTAOppRegDiff: 5\n",
      "- AstOppRegDiff: 5\n",
      "- FGPOppRegDiff: 5\n",
      "- FTMTouDiff: 5\n",
      "- TOOppTouDiff: 5\n",
      "- FGP3TouDiff: 5\n",
      "- PFRegDiff: 4\n",
      "- FTMOppRegDiff: 4\n",
      "- FGPRegDiff: 4\n",
      "- FTPRegDiff: 4\n",
      "- FTPOppRegDiff: 4\n",
      "- PFTouDiff: 4\n",
      "- FTAOppTouDiff: 4\n",
      "- FTPTouDiff: 4\n",
      "- FGPOppTouDiff: 4\n",
      "- StlOppRegDiff: 3\n",
      "- FGP3RegDiff: 3\n",
      "- FGATouDiff: 3\n",
      "- FTATouDiff: 3\n",
      "- BlkOppTouDiff: 3\n",
      "- StlTouDiff: 2\n",
      "- FGMOppTouDiff: 2\n",
      "- FGA3OppTouDiff: 2\n",
      "- FTMOppTouDiff: 2\n",
      "- DROppTouDiff: 2\n",
      "- FGPTouDiff: 2\n",
      "- FGM3RegDiff: 1\n",
      "- FTMRegDiff: 1\n",
      "- FTARegDiff: 1\n",
      "- DRRegDiff: 1\n",
      "- TORegDiff: 1\n",
      "- StlRegDiff: 1\n",
      "- FGMOppRegDiff: 1\n",
      "- TOOppRegDiff: 1\n",
      "- FGMTouDiff: 1\n",
      "- FGM3TouDiff: 1\n",
      "- FGA3TouDiff: 1\n",
      "- BlkTouDiff: 1\n",
      "- FGM3OppTouDiff: 1\n",
      "- AstOppTouDiff: 1\n",
      "- PFOppTouDiff: 1\n",
      "- FGP3OppTouDiff: 1\n",
      "- NumOTRegDiff: 0\n",
      "- FGM3OppRegDiff: 0\n",
      "- FGA3OppRegDiff: 0\n",
      "- BlkOppRegDiff: 0\n",
      "- PFOppRegDiff: 0\n",
      "- NumOTTouDiff: 0\n",
      "- ORTouDiff: 0\n",
      "- StlOppTouDiff: 0\n"
     ]
    }
   ],
   "source": [
    "model = train_optimized_model(study, X_train, y_train)\n",
    "preds = model.predict_proba(X_valid)[:,1]\n",
    "print(\"Brier Score:\", brier_score_loss(y_valid, preds))\n",
    "print(\"ROC AUC:\", roc_auc_score(y_valid, preds))\n",
    "print(\"Parameters\")\n",
    "print(*(f\"- {key}: {value}\" for key, value in model.get_params(deep=True).items()), sep=\"\\n\")\n",
    "print(\"Features\")\n",
    "print(*(f\"- {name}: {imp}\" for name, imp in sorted(zip(model.feature_name_, model.feature_importances_), key=lambda x: x[1], reverse=True)), sep=\"\\n\")\n"
   ]
  },
  {
   "cell_type": "markdown",
   "id": "78443793",
   "metadata": {
    "papermill": {
     "duration": 0.021841,
     "end_time": "2023-03-15T16:58:07.626735",
     "exception": false,
     "start_time": "2023-03-15T16:58:07.604894",
     "status": "completed"
    },
    "tags": []
   },
   "source": [
    "# Submit to the competition\n",
    "\n",
    "We\"ll begin by using the trained model to generate predictions, which we\"ll save to a CSV file."
   ]
  },
  {
   "cell_type": "code",
   "execution_count": 10,
   "id": "821759a6",
   "metadata": {
    "execution": {
     "iopub.execute_input": "2023-03-15T16:58:07.672655Z",
     "iopub.status.busy": "2023-03-15T16:58:07.672310Z",
     "iopub.status.idle": "2023-03-15T16:58:10.288555Z",
     "shell.execute_reply": "2023-03-15T16:58:10.287352Z"
    },
    "papermill": {
     "duration": 2.641875,
     "end_time": "2023-03-15T16:58:10.290819",
     "exception": false,
     "start_time": "2023-03-15T16:58:07.648944",
     "status": "completed"
    },
    "tags": []
   },
   "outputs": [
    {
     "name": "stdout",
     "output_type": "stream",
     "text": [
      "[LightGBM] [Warning] bagging_fraction is set=0.4164242117438031, subsample=1.0 will be ignored. Current value: bagging_fraction=0.4164242117438031\n",
      "[LightGBM] [Warning] lambda_l1 is set=8.772994195299553, reg_alpha=0.0 will be ignored. Current value: lambda_l1=8.772994195299553\n",
      "[LightGBM] [Warning] feature_fraction is set=0.7668271563501782, colsample_bytree=1.0 will be ignored. Current value: feature_fraction=0.7668271563501782\n",
      "[LightGBM] [Warning] lambda_l2 is set=0.49236268943892314, reg_lambda=0.0 will be ignored. Current value: lambda_l2=0.49236268943892314\n",
      "[LightGBM] [Warning] bagging_freq is set=1, subsample_freq=0 will be ignored. Current value: bagging_freq=1\n",
      "(614319, 2)\n"
     ]
    },
    {
     "data": {
      "text/html": [
       "<div>\n",
       "<style scoped>\n",
       "    .dataframe tbody tr th:only-of-type {\n",
       "        vertical-align: middle;\n",
       "    }\n",
       "\n",
       "    .dataframe tbody tr th {\n",
       "        vertical-align: top;\n",
       "    }\n",
       "\n",
       "    .dataframe thead th {\n",
       "        text-align: right;\n",
       "    }\n",
       "</style>\n",
       "<table border=\"1\" class=\"dataframe\">\n",
       "  <thead>\n",
       "    <tr style=\"text-align: right;\">\n",
       "      <th></th>\n",
       "      <th>Pred</th>\n",
       "    </tr>\n",
       "  </thead>\n",
       "  <tbody>\n",
       "    <tr>\n",
       "      <th>count</th>\n",
       "      <td>614319.000000</td>\n",
       "    </tr>\n",
       "    <tr>\n",
       "      <th>mean</th>\n",
       "      <td>0.440945</td>\n",
       "    </tr>\n",
       "    <tr>\n",
       "      <th>std</th>\n",
       "      <td>0.023096</td>\n",
       "    </tr>\n",
       "    <tr>\n",
       "      <th>min</th>\n",
       "      <td>0.055278</td>\n",
       "    </tr>\n",
       "    <tr>\n",
       "      <th>25%</th>\n",
       "      <td>0.440439</td>\n",
       "    </tr>\n",
       "    <tr>\n",
       "      <th>50%</th>\n",
       "      <td>0.440439</td>\n",
       "    </tr>\n",
       "    <tr>\n",
       "      <th>75%</th>\n",
       "      <td>0.440439</td>\n",
       "    </tr>\n",
       "    <tr>\n",
       "      <th>max</th>\n",
       "      <td>0.946742</td>\n",
       "    </tr>\n",
       "  </tbody>\n",
       "</table>\n",
       "</div>"
      ],
      "text/plain": [
       "                Pred\n",
       "count  614319.000000\n",
       "mean        0.440945\n",
       "std         0.023096\n",
       "min         0.055278\n",
       "25%         0.440439\n",
       "50%         0.440439\n",
       "75%         0.440439\n",
       "max         0.946742"
      ]
     },
     "execution_count": 10,
     "metadata": {},
     "output_type": "execute_result"
    }
   ],
   "source": [
    "# Use the model to generate predictions\n",
    "model.fit(X, y)\n",
    "predictions = model.predict_proba(X_submission)[:,1]\n",
    "\n",
    "# Save the predictions to a CSV file\n",
    "output = pd.DataFrame({\"ID\": X_submission.index,\n",
    "                       \"Pred\": predictions})\n",
    "output.to_csv(\"submission.csv\", index=False)\n",
    "print(output.shape)\n",
    "output.describe()"
   ]
  },
  {
   "cell_type": "code",
   "execution_count": null,
   "id": "3c04c5bd",
   "metadata": {
    "papermill": {
     "duration": 0.022601,
     "end_time": "2023-03-15T16:58:10.336371",
     "exception": false,
     "start_time": "2023-03-15T16:58:10.313770",
     "status": "completed"
    },
    "tags": []
   },
   "outputs": [],
   "source": []
  }
 ],
 "metadata": {
  "kernelspec": {
   "display_name": "Python 3 (ipykernel)",
   "language": "python",
   "name": "python3"
  },
  "language_info": {
   "codemirror_mode": {
    "name": "ipython",
    "version": 3
   },
   "file_extension": ".py",
   "mimetype": "text/x-python",
   "name": "python",
   "nbconvert_exporter": "python",
   "pygments_lexer": "ipython3",
   "version": "3.10.9"
  },
  "papermill": {
   "default_parameters": {},
   "duration": 114.05725,
   "end_time": "2023-03-15T16:58:11.380212",
   "environment_variables": {},
   "exception": null,
   "input_path": "__notebook__.ipynb",
   "output_path": "__notebook__.ipynb",
   "parameters": {},
   "start_time": "2023-03-15T16:56:17.322962",
   "version": "2.4.0"
  }
 },
 "nbformat": 4,
 "nbformat_minor": 5
}
