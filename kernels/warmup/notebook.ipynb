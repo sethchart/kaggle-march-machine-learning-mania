{
 "cells": [
  {
   "cell_type": "markdown",
   "id": "05d37df1",
   "metadata": {
    "papermill": {
     "duration": 0.007633,
     "end_time": "2023-03-15T15:49:41.778630",
     "exception": false,
     "start_time": "2023-03-15T15:49:41.770997",
     "status": "completed"
    },
    "tags": []
   },
   "source": [
    "# Imports and Utilities"
   ]
  },
  {
   "cell_type": "code",
   "execution_count": 1,
   "id": "1d952348",
   "metadata": {
    "execution": {
     "iopub.execute_input": "2023-03-15T15:49:41.790949Z",
     "iopub.status.busy": "2023-03-15T15:49:41.790408Z",
     "iopub.status.idle": "2023-03-15T15:49:45.390056Z",
     "shell.execute_reply": "2023-03-15T15:49:45.388894Z"
    },
    "papermill": {
     "duration": 3.609338,
     "end_time": "2023-03-15T15:49:45.393147",
     "exception": false,
     "start_time": "2023-03-15T15:49:41.783809",
     "status": "completed"
    },
    "tags": []
   },
   "outputs": [
    {
     "data": {
      "text/html": [
       "<style type='text/css'>\n",
       ".datatable table.frame { margin-bottom: 0; }\n",
       ".datatable table.frame thead { border-bottom: none; }\n",
       ".datatable table.frame tr.coltypes td {  color: #FFFFFF;  line-height: 6px;  padding: 0 0.5em;}\n",
       ".datatable .bool    { background: #DDDD99; }\n",
       ".datatable .object  { background: #565656; }\n",
       ".datatable .int     { background: #5D9E5D; }\n",
       ".datatable .float   { background: #4040CC; }\n",
       ".datatable .str     { background: #CC4040; }\n",
       ".datatable .time    { background: #40CC40; }\n",
       ".datatable .row_index {  background: var(--jp-border-color3);  border-right: 1px solid var(--jp-border-color0);  color: var(--jp-ui-font-color3);  font-size: 9px;}\n",
       ".datatable .frame tbody td { text-align: left; }\n",
       ".datatable .frame tr.coltypes .row_index {  background: var(--jp-border-color0);}\n",
       ".datatable th:nth-child(2) { padding-left: 12px; }\n",
       ".datatable .hellipsis {  color: var(--jp-cell-editor-border-color);}\n",
       ".datatable .vellipsis {  background: var(--jp-layout-color0);  color: var(--jp-cell-editor-border-color);}\n",
       ".datatable .na {  color: var(--jp-cell-editor-border-color);  font-size: 80%;}\n",
       ".datatable .sp {  opacity: 0.25;}\n",
       ".datatable .footer { font-size: 9px; }\n",
       ".datatable .frame_dimensions {  background: var(--jp-border-color3);  border-top: 1px solid var(--jp-border-color0);  color: var(--jp-ui-font-color3);  display: inline-block;  opacity: 0.6;  padding: 1px 10px 1px 5px;}\n",
       "</style>\n"
      ],
      "text/plain": [
       "<IPython.core.display.HTML object>"
      ]
     },
     "metadata": {},
     "output_type": "display_data"
    }
   ],
   "source": [
    "from typing import List, Tuple\n",
    "import numpy as np\n",
    "import pandas as pd\n",
    "from IPython.display import Markdown\n",
    "import optuna\n",
    "import lightgbm as lgb\n",
    "from sklearn.metrics import roc_auc_score, brier_score_loss\n",
    "\n",
    "COMPETITION_NAME = \"warmup-round-march-machine-learning-mania-2023\"\n",
    "VERBOSE = False\n",
    "\n",
    "pd.set_option(\"display.max_columns\", None)\n",
    "\n",
    "def show_df(df: pd.DataFrame, name: str = \"DataFrame\", verbose: bool = VERBOSE):\n",
    "    if verbose:\n",
    "        display(Markdown(f\"## {name}\"))\n",
    "        display(Markdown(\"### Head\"))\n",
    "        display(df.head())\n",
    "        display(Markdown(\"### Tail\"))\n",
    "        display(df.tail())\n",
    "        display(Markdown(\"### Description\"))\n",
    "        display(df.describe())\n",
    "\n",
    "\n",
    "def extract_data(filename: str, competition_name:str = COMPETITION_NAME) -> pd.DataFrame:\n",
    "    mens_filepath = f\"/kaggle/input/{competition_name}/M{filename}.csv\"\n",
    "    womens_filepath = f\"/kaggle/input/{competition_name}/W{filename}.csv\"\n",
    "    try:\n",
    "        df_mens = pd.read_csv(mens_filepath)\n",
    "    except FileNotFoundError:\n",
    "        df_mens = None\n",
    "    try:\n",
    "        df_womens = pd.read_csv(womens_filepath)\n",
    "    except FileNotFoundError:\n",
    "        df_womens = None\n",
    "    df = pd.concat([df_mens, df_womens])\n",
    "    show_df(df, filename)\n",
    "    return df\n",
    "\n",
    "\n",
    "def get_team_features(detailed_results: pd.DataFrame) -> pd.DataFrame:\n",
    "    df = detailed_results.copy()\n",
    "    df = clean_detailed_results(df)\n",
    "    df = transform_game_to_team(df)\n",
    "    df = transform_team_results(df)\n",
    "    show_df(df)\n",
    "    return df\n",
    "\n",
    "\n",
    "def get_seed_features(df_in: pd.DataFrame) -> pd.DataFrame:\n",
    "    df = df_in.copy()\n",
    "    mask = df[\"Season\"] > 2002\n",
    "    df = df[mask]\n",
    "    df[\"Seed\"] = df[\"Seed\"].str.replace(r\"\\D+\",\"\", regex=True)\n",
    "    df[\"Seed\"] = df[\"Seed\"].astype(int)\n",
    "    show_df(df)\n",
    "    return df\n",
    "\n",
    "\n",
    "def get_ranking_features(df_in:pd.DataFrame) -> pd.DataFrame:\n",
    "    df = df_in.copy()\n",
    "    mask = df[\"RankingDayNum\"] == df[\"RankingDayNum\"].max()\n",
    "    df = df[mask]\n",
    "    df.drop([\"SystemName\", \"RankingDayNum\"], axis=1, inplace=True)\n",
    "    df = df.groupby([\"Season\", \"TeamID\"]).agg(\"median\")\n",
    "    df = df.reset_index()\n",
    "    show_df(df)\n",
    "    return df\n",
    "\n",
    "\n",
    "def get_game_outcomes(df):\n",
    "    input_rows = df.to_records()\n",
    "    output_rows = [parse_row(input_row) for input_row in input_rows]\n",
    "    df = pd.DataFrame(output_rows)\n",
    "    show_df(df)\n",
    "    return df\n",
    "\n",
    "\n",
    "def clean_detailed_results(df: pd.DataFrame) -> pd.DataFrame:\n",
    "    return df.drop([\"WLoc\", \"DayNum\"], axis=1)\n",
    "\n",
    "\n",
    "def transform_game_to_team(game_results: pd.DataFrame) -> pd.DataFrame:\n",
    "    winners = rename_columns(game_results, \"W\")\n",
    "    loosers = rename_columns(game_results, \"L\")\n",
    "    team_results = pd.concat((winners, loosers))\n",
    "    team_results.drop([\"TeamIDOpp\"], axis=1, inplace=True)\n",
    "    return team_results\n",
    "\n",
    "\n",
    "def transform_team_results(df: pd.DataFrame) -> pd.DataFrame:\n",
    "    df = df.groupby([\"Season\", \"TeamID\"]).median()\n",
    "    df[\"FGP\"] =  df[\"FGM\"] / df[\"FGA\"]\n",
    "    df[\"FGP3\"] =  df[\"FGM3\"] / df[\"FGA3\"]\n",
    "    df[\"FTP\"] =  df[\"FTM\"] / df[\"FTA\"]\n",
    "    df[\"FGPOpp\"] =  df[\"FGMOpp\"] / df[\"FGAOpp\"]\n",
    "    df[\"FGP3Opp\"] =  df[\"FGM3Opp\"] / df[\"FGA3Opp\"]\n",
    "    df[\"FTPOpp\"] =  df[\"FTMOpp\"] / df[\"FTAOpp\"]\n",
    "    return df.reset_index()\n",
    "    \n",
    "    \n",
    "def rename_columns(df: pd.DataFrame, team_prefix: str) -> pd.DataFrame:\n",
    "    df = df.copy()\n",
    "    df.columns =  (rename_column(column_name, team_prefix) for column_name in df.columns)\n",
    "    return df\n",
    "\n",
    "\n",
    "def rename_column(column_name: str, team_prefix: str) -> pd.DataFrame:\n",
    "    if team_prefix == \"W\":\n",
    "        opponent_prefix = \"L\"\n",
    "    elif team_prefix == \"L\":\n",
    "        opponent_prefix = \"W\"\n",
    "    else:\n",
    "        raise ValueError\n",
    "    if column_name.startswith(team_prefix):\n",
    "        column_name = column_name.lstrip(team_prefix)\n",
    "    elif column_name.startswith(opponent_prefix):\n",
    "        column_name = f\"{column_name.lstrip(opponent_prefix)}Opp\"\n",
    "    return column_name\n",
    "\n",
    "\n",
    "def split_winner_and_looser_columns(df: pd.DataFrame) -> Tuple[List[str], List[str]]:\n",
    "    winner_columns = [name for name in df.columns if not name.startswith(\"L\")]\n",
    "    looser_columns = [name for name in df.columns if not name.startswith(\"W\")]\n",
    "    return winner_columns, looser_columns\n",
    "\n",
    "\n",
    "def merge_features(\n",
    "    season_features: pd.DataFrame, \n",
    "    tournament_features: pd.DataFrame, \n",
    "    seed_features: pd.DataFrame, \n",
    "    ranking_features: pd.DataFrame\n",
    ") -> pd.DataFrame:\n",
    "    features = pd.merge(\n",
    "        season_features,\n",
    "        tournament_features,\n",
    "        how=\"inner\",\n",
    "        on=[\"Season\", \"TeamID\"],\n",
    "        suffixes=(\"Reg\", \"Tou\")\n",
    "    )\n",
    "    features = features.merge(\n",
    "        seed_features,\n",
    "        how=\"inner\",\n",
    "        on=[\"Season\", \"TeamID\"]\n",
    "    )\n",
    "    features = features.merge(\n",
    "        ranking_features,\n",
    "        how=\"left\",\n",
    "        on=[\"Season\", \"TeamID\"],\n",
    "    )\n",
    "    show_df(features)\n",
    "    return features\n",
    "\n",
    "\n",
    "def parse_row(row):\n",
    "    season = row['Season']\n",
    "    winning_team_id = row['WTeamID']\n",
    "    losing_team_id = row['LTeamID']\n",
    "    if winning_team_id < losing_team_id:\n",
    "        small_id = winning_team_id\n",
    "        big_id = losing_team_id\n",
    "        outcome = True\n",
    "    elif losing_team_id < winning_team_id:\n",
    "        small_id = losing_team_id\n",
    "        big_id = winning_team_id\n",
    "        outcome = False\n",
    "    record = {\n",
    "            \"ID\": f\"{season}_{small_id}_{big_id}\",\n",
    "            'Season': season,\n",
    "            'LowID': small_id,\n",
    "            'HighID': big_id,\n",
    "            'Win': outcome\n",
    "    }\n",
    "    return record\n",
    "\n",
    "\n",
    "def merge_outcomes_with_features(outcomes: pd.DataFrame, features: pd.DataFrame, how: str = \"inner\") -> pd.DataFrame:\n",
    "    feature_names = [name for name in features.columns if name not in [\"Season\", \"TeamID\", \"Gender\"]]\n",
    "    data = pd.merge(\n",
    "        outcomes, \n",
    "        features, \n",
    "        how=how, \n",
    "        left_on=[\"Season\", \"HighID\"], \n",
    "        right_on=[\"Season\", \"TeamID\"]\n",
    "    )\n",
    "    data = pd.merge(\n",
    "        data, \n",
    "        features, \n",
    "        how=how, \n",
    "        left_on=[\"Season\", \"LowID\"], \n",
    "        right_on=[\"Season\", \"TeamID\"],\n",
    "        suffixes=(\"High\", \"Low\")\n",
    "    )\n",
    "    for name in feature_names:\n",
    "        data[f\"{name}Diff\"] = data[f\"{name}High\"] - data[f\"{name}Low\"]\n",
    "        data.drop([f\"{name}High\", f\"{name}Low\"], axis=1, inplace=True)\n",
    "    data.drop(\n",
    "        [\"Season\", \"HighID\", \"LowID\",\"TeamIDHigh\",\"TeamIDLow\"], \n",
    "        axis=1, \n",
    "        inplace=True\n",
    "    )\n",
    "    data.set_index(\"ID\", inplace=True)\n",
    "    show_df(data)\n",
    "    return data\n",
    "\n",
    "\n",
    "def get_submission_outcomes() -> pd.DataFrame:\n",
    "    sample_submission = pd.read_csv(f\"/kaggle/input/{COMPETITION_NAME}/SampleSubmissionWarmup.csv\")\n",
    "    df = sample_submission.copy()\n",
    "    df.drop(\"Pred\", axis=1, inplace=True)\n",
    "    df[[\"Season\", \"LowID\", \"HighID\"]] = df[\"ID\"].str.split(\"_\", expand=True)\n",
    "    df[[\"Season\", \"LowID\", \"HighID\"]] = df[[\"Season\", \"LowID\", \"HighID\"]].astype(int)\n",
    "    show_df(df)\n",
    "    return df\n",
    "\n",
    "\n",
    "def objective(trial, X_train, y_train, X_valid, y_valid):\n",
    "    dtrain = lgb.Dataset(X_train, label=y_train)\n",
    "    param = {\n",
    "        \"objective\": \"binary\",\n",
    "        \"metric\": \"binary_logloss\",\n",
    "        \"verbosity\": -1,\n",
    "        \"boosting_type\": \"gbdt\",\n",
    "        \"lambda_l1\": trial.suggest_float(\"lambda_l1\", 1e-8, 10.0, log=True),\n",
    "        \"lambda_l2\": trial.suggest_float(\"lambda_l2\", 1e-8, 10.0, log=True),\n",
    "        \"num_leaves\": trial.suggest_int(\"num_leaves\", 2, 256),\n",
    "        \"feature_fraction\": trial.suggest_float(\"feature_fraction\", 0.4, 1.0),\n",
    "        \"bagging_fraction\": trial.suggest_float(\"bagging_fraction\", 0.4, 1.0),\n",
    "        \"bagging_freq\": trial.suggest_int(\"bagging_freq\", 1, 7),\n",
    "        \"min_child_samples\": trial.suggest_int(\"min_child_samples\", 5, 100),\n",
    "    }\n",
    "    gbm = lgb.train(param, dtrain)\n",
    "    preds = gbm.predict(X_valid)\n",
    "    pred_labels = np.rint(preds)\n",
    "    score = brier_score_loss(y_valid, pred_labels)\n",
    "    return score\n",
    "\n",
    "\n",
    "def run_study(X_train, y_train, X_valid, y_valid):\n",
    "    study = optuna.create_study(direction=\"minimize\")\n",
    "    study.optimize(lambda trial: objective(trial, X_train, y_train, X_valid, y_valid), n_trials=100)\n",
    "    return study\n",
    "\n",
    "\n",
    "def train_optimized_model(study, X, y):\n",
    "    params = study.best_params\n",
    "    model = lgb.LGBMClassifier(**params)\n",
    "    model = model.fit(X, y)\n",
    "    return model"
   ]
  },
  {
   "cell_type": "markdown",
   "id": "61a52d50",
   "metadata": {
    "papermill": {
     "duration": 0.004733,
     "end_time": "2023-03-15T15:49:45.403182",
     "exception": false,
     "start_time": "2023-03-15T15:49:45.398449",
     "status": "completed"
    },
    "tags": []
   },
   "source": [
    "# Load Data"
   ]
  },
  {
   "cell_type": "code",
   "execution_count": 2,
   "id": "cc4efa7d",
   "metadata": {
    "execution": {
     "iopub.execute_input": "2023-03-15T15:49:45.414371Z",
     "iopub.status.busy": "2023-03-15T15:49:45.413994Z",
     "iopub.status.idle": "2023-03-15T15:49:49.207734Z",
     "shell.execute_reply": "2023-03-15T15:49:49.206564Z"
    },
    "papermill": {
     "duration": 3.802876,
     "end_time": "2023-03-15T15:49:49.210805",
     "exception": false,
     "start_time": "2023-03-15T15:49:45.407929",
     "status": "completed"
    },
    "tags": []
   },
   "outputs": [],
   "source": [
    "season_results = extract_data(\"RegularSeasonDetailedResults\")\n",
    "tournament_results = extract_data(\"NCAATourneyDetailedResults\")\n",
    "seeds = extract_data(\"NCAATourneySeeds\")\n",
    "rankings = extract_data(\"MasseyOrdinals\")"
   ]
  },
  {
   "cell_type": "markdown",
   "id": "00c79d44",
   "metadata": {
    "papermill": {
     "duration": 0.004707,
     "end_time": "2023-03-15T15:49:49.220667",
     "exception": false,
     "start_time": "2023-03-15T15:49:49.215960",
     "status": "completed"
    },
    "tags": []
   },
   "source": [
    "# Transform Data"
   ]
  },
  {
   "cell_type": "code",
   "execution_count": 3,
   "id": "739e7797",
   "metadata": {
    "execution": {
     "iopub.execute_input": "2023-03-15T15:49:49.231992Z",
     "iopub.status.busy": "2023-03-15T15:49:49.231601Z",
     "iopub.status.idle": "2023-03-15T15:49:50.192227Z",
     "shell.execute_reply": "2023-03-15T15:49:50.190906Z"
    },
    "papermill": {
     "duration": 0.970646,
     "end_time": "2023-03-15T15:49:50.196058",
     "exception": false,
     "start_time": "2023-03-15T15:49:49.225412",
     "status": "completed"
    },
    "tags": []
   },
   "outputs": [],
   "source": [
    "season_team_features = get_team_features(season_results)\n",
    "\n",
    "tournament_results[\"Season\"] += 1\n",
    "tournament_team_features = get_team_features(tournament_results)\n",
    "\n",
    "seed_features = get_seed_features(seeds)\n",
    "\n",
    "ranking_features = get_ranking_features(rankings)"
   ]
  },
  {
   "cell_type": "markdown",
   "id": "8b03f1ad",
   "metadata": {
    "execution": {
     "iopub.execute_input": "2022-03-17T02:19:13.394565Z",
     "iopub.status.busy": "2022-03-17T02:19:13.394252Z",
     "iopub.status.idle": "2022-03-17T02:19:13.39899Z",
     "shell.execute_reply": "2022-03-17T02:19:13.397787Z",
     "shell.execute_reply.started": "2022-03-17T02:19:13.394538Z"
    },
    "papermill": {
     "duration": 0.00775,
     "end_time": "2023-03-15T15:49:50.212532",
     "exception": false,
     "start_time": "2023-03-15T15:49:50.204782",
     "status": "completed"
    },
    "tags": []
   },
   "source": [
    "## Merge features"
   ]
  },
  {
   "cell_type": "code",
   "execution_count": 4,
   "id": "16706a99",
   "metadata": {
    "execution": {
     "iopub.execute_input": "2023-03-15T15:49:50.230875Z",
     "iopub.status.busy": "2023-03-15T15:49:50.230364Z",
     "iopub.status.idle": "2023-03-15T15:49:50.264386Z",
     "shell.execute_reply": "2023-03-15T15:49:50.262985Z"
    },
    "papermill": {
     "duration": 0.047878,
     "end_time": "2023-03-15T15:49:50.268610",
     "exception": false,
     "start_time": "2023-03-15T15:49:50.220732",
     "status": "completed"
    },
    "tags": []
   },
   "outputs": [],
   "source": [
    "features = merge_features(season_team_features, tournament_team_features, seed_features, ranking_features)"
   ]
  },
  {
   "cell_type": "markdown",
   "id": "c907692c",
   "metadata": {
    "papermill": {
     "duration": 0.007126,
     "end_time": "2023-03-15T15:49:50.284477",
     "exception": false,
     "start_time": "2023-03-15T15:49:50.277351",
     "status": "completed"
    },
    "tags": []
   },
   "source": [
    "## Build Datasets"
   ]
  },
  {
   "cell_type": "code",
   "execution_count": 5,
   "id": "13fbac76",
   "metadata": {
    "execution": {
     "iopub.execute_input": "2023-03-15T15:49:50.301297Z",
     "iopub.status.busy": "2023-03-15T15:49:50.300794Z",
     "iopub.status.idle": "2023-03-15T15:49:53.220380Z",
     "shell.execute_reply": "2023-03-15T15:49:53.219146Z"
    },
    "papermill": {
     "duration": 2.93139,
     "end_time": "2023-03-15T15:49:53.223344",
     "exception": false,
     "start_time": "2023-03-15T15:49:50.291954",
     "status": "completed"
    },
    "tags": []
   },
   "outputs": [],
   "source": [
    "from sklearn.model_selection import train_test_split\n",
    "\n",
    "data = extract_data(\"NCAATourneyCompactResults\")\n",
    "data_train, data_valid = train_test_split(data, random_state=0)\n",
    "\n",
    "outcomes = get_game_outcomes(data)\n",
    "outcomes_train = get_game_outcomes(data_train)\n",
    "outcomes_valid = get_game_outcomes(data_valid)\n",
    "outcomes_submission = get_submission_outcomes()"
   ]
  },
  {
   "cell_type": "code",
   "execution_count": 6,
   "id": "a3c35e22",
   "metadata": {
    "execution": {
     "iopub.execute_input": "2023-03-15T15:49:53.235117Z",
     "iopub.status.busy": "2023-03-15T15:49:53.234718Z",
     "iopub.status.idle": "2023-03-15T15:49:53.640484Z",
     "shell.execute_reply": "2023-03-15T15:49:53.639339Z"
    },
    "papermill": {
     "duration": 0.415146,
     "end_time": "2023-03-15T15:49:53.643607",
     "exception": false,
     "start_time": "2023-03-15T15:49:53.228461",
     "status": "completed"
    },
    "tags": []
   },
   "outputs": [],
   "source": [
    "features_train = merge_outcomes_with_features(outcomes_train, features)\n",
    "features_valid = merge_outcomes_with_features(outcomes_valid, features)\n",
    "features_full = merge_outcomes_with_features(outcomes, features)"
   ]
  },
  {
   "cell_type": "code",
   "execution_count": 7,
   "id": "f5494f49",
   "metadata": {
    "execution": {
     "iopub.execute_input": "2023-03-15T15:49:53.655928Z",
     "iopub.status.busy": "2023-03-15T15:49:53.655552Z",
     "iopub.status.idle": "2023-03-15T15:50:35.421322Z",
     "shell.execute_reply": "2023-03-15T15:50:35.420152Z"
    },
    "papermill": {
     "duration": 41.775071,
     "end_time": "2023-03-15T15:50:35.424466",
     "exception": false,
     "start_time": "2023-03-15T15:49:53.649395",
     "status": "completed"
    },
    "tags": []
   },
   "outputs": [],
   "source": [
    "y_train = features_train[\"Win\"]\n",
    "X_train = features_train.drop(\"Win\", axis=1)\n",
    "y_valid = features_valid[\"Win\"]\n",
    "X_valid = features_valid.drop(\"Win\", axis=1)\n",
    "y = features_full[\"Win\"]\n",
    "X = features_full.drop(\"Win\", axis=1)\n",
    "X_submission = merge_outcomes_with_features(outcomes_submission, features, how=\"left\").fillna(0)"
   ]
  },
  {
   "cell_type": "markdown",
   "id": "2d60b5d3",
   "metadata": {
    "papermill": {
     "duration": 0.004615,
     "end_time": "2023-03-15T15:50:35.434134",
     "exception": false,
     "start_time": "2023-03-15T15:50:35.429519",
     "status": "completed"
    },
    "tags": []
   },
   "source": [
    "# Step 4: Train a model\n"
   ]
  },
  {
   "cell_type": "markdown",
   "id": "cc9c7d75",
   "metadata": {
    "papermill": {
     "duration": 0.004454,
     "end_time": "2023-03-15T15:50:35.443210",
     "exception": false,
     "start_time": "2023-03-15T15:50:35.438756",
     "status": "completed"
    },
    "tags": []
   },
   "source": [
    "### Setup Hyperparameter Tuning\n",
    "See https://www.kaggle.com/prashant111/a-guide-on-xgboost-hyperparameters-tuning"
   ]
  },
  {
   "cell_type": "code",
   "execution_count": 8,
   "id": "b63a7c84",
   "metadata": {
    "execution": {
     "iopub.execute_input": "2023-03-15T15:50:35.455064Z",
     "iopub.status.busy": "2023-03-15T15:50:35.453809Z",
     "iopub.status.idle": "2023-03-15T15:50:51.589384Z",
     "shell.execute_reply": "2023-03-15T15:50:51.587742Z"
    },
    "papermill": {
     "duration": 16.146002,
     "end_time": "2023-03-15T15:50:51.593759",
     "exception": false,
     "start_time": "2023-03-15T15:50:35.447757",
     "status": "completed"
    },
    "tags": []
   },
   "outputs": [
    {
     "name": "stderr",
     "output_type": "stream",
     "text": [
      "\u001b[32m[I 2023-03-15 15:50:35,456]\u001b[0m A new study created in memory with name: no-name-943eea47-2bb1-4742-97b8-ff3d2e0600a3\u001b[0m\n",
      "\u001b[32m[I 2023-03-15 15:50:35,562]\u001b[0m Trial 0 finished with value: 0.31693989071038253 and parameters: {'lambda_l1': 0.07116972188363217, 'lambda_l2': 0.30444747846958226, 'num_leaves': 215, 'feature_fraction': 0.747618389669537, 'bagging_fraction': 0.630741815139224, 'bagging_freq': 7, 'min_child_samples': 46}. Best is trial 0 with value: 0.31693989071038253.\u001b[0m\n",
      "\u001b[32m[I 2023-03-15 15:50:35,615]\u001b[0m Trial 1 finished with value: 0.30601092896174864 and parameters: {'lambda_l1': 7.504246251821431e-05, 'lambda_l2': 0.0013723225138443016, 'num_leaves': 112, 'feature_fraction': 0.8579841320487993, 'bagging_fraction': 0.40184749894184846, 'bagging_freq': 1, 'min_child_samples': 49}. Best is trial 1 with value: 0.30601092896174864.\u001b[0m\n",
      "\u001b[32m[I 2023-03-15 15:50:35,678]\u001b[0m Trial 2 finished with value: 0.3333333333333333 and parameters: {'lambda_l1': 6.479772874762657e-06, 'lambda_l2': 1.8813515772865488e-07, 'num_leaves': 34, 'feature_fraction': 0.42915680909773485, 'bagging_fraction': 0.9568597717565978, 'bagging_freq': 6, 'min_child_samples': 62}. Best is trial 1 with value: 0.30601092896174864.\u001b[0m\n",
      "\u001b[32m[I 2023-03-15 15:50:35,857]\u001b[0m Trial 3 finished with value: 0.34972677595628415 and parameters: {'lambda_l1': 0.004441818151623409, 'lambda_l2': 0.0009199459550880295, 'num_leaves': 68, 'feature_fraction': 0.595792274740036, 'bagging_fraction': 0.7482365297326139, 'bagging_freq': 2, 'min_child_samples': 10}. Best is trial 1 with value: 0.30601092896174864.\u001b[0m\n",
      "\u001b[32m[I 2023-03-15 15:50:35,895]\u001b[0m Trial 4 finished with value: 0.30601092896174864 and parameters: {'lambda_l1': 1.8960143548503257e-08, 'lambda_l2': 3.8038204354770735e-07, 'num_leaves': 29, 'feature_fraction': 0.4019325048891619, 'bagging_fraction': 0.4964981416202856, 'bagging_freq': 6, 'min_child_samples': 80}. Best is trial 1 with value: 0.30601092896174864.\u001b[0m\n",
      "\u001b[32m[I 2023-03-15 15:50:35,988]\u001b[0m Trial 5 finished with value: 0.3333333333333333 and parameters: {'lambda_l1': 0.009727336502168168, 'lambda_l2': 5.411140160639441e-06, 'num_leaves': 30, 'feature_fraction': 0.8132249234059326, 'bagging_fraction': 0.7516674961182768, 'bagging_freq': 6, 'min_child_samples': 30}. Best is trial 1 with value: 0.30601092896174864.\u001b[0m\n",
      "\u001b[32m[I 2023-03-15 15:50:36,148]\u001b[0m Trial 6 finished with value: 0.3333333333333333 and parameters: {'lambda_l1': 0.006013818078324541, 'lambda_l2': 0.12691924932245213, 'num_leaves': 18, 'feature_fraction': 0.6281529159237539, 'bagging_fraction': 0.7149261533724944, 'bagging_freq': 6, 'min_child_samples': 7}. Best is trial 1 with value: 0.30601092896174864.\u001b[0m\n",
      "\u001b[32m[I 2023-03-15 15:50:36,253]\u001b[0m Trial 7 finished with value: 0.28415300546448086 and parameters: {'lambda_l1': 1.711545828651344, 'lambda_l2': 6.135543981035794e-05, 'num_leaves': 200, 'feature_fraction': 0.7998764619085977, 'bagging_fraction': 0.9317583738286632, 'bagging_freq': 4, 'min_child_samples': 28}. Best is trial 7 with value: 0.28415300546448086.\u001b[0m\n",
      "\u001b[32m[I 2023-03-15 15:50:36,378]\u001b[0m Trial 8 finished with value: 0.3114754098360656 and parameters: {'lambda_l1': 3.597934426491007e-05, 'lambda_l2': 1.1836815527977483e-06, 'num_leaves': 248, 'feature_fraction': 0.45115274160335933, 'bagging_fraction': 0.6964844267169037, 'bagging_freq': 5, 'min_child_samples': 14}. Best is trial 7 with value: 0.28415300546448086.\u001b[0m\n",
      "\u001b[32m[I 2023-03-15 15:50:36,429]\u001b[0m Trial 9 finished with value: 0.32786885245901637 and parameters: {'lambda_l1': 0.10567649901887712, 'lambda_l2': 2.2177254111382813e-05, 'num_leaves': 174, 'feature_fraction': 0.9511758596007299, 'bagging_fraction': 0.6033396739333774, 'bagging_freq': 3, 'min_child_samples': 97}. Best is trial 7 with value: 0.28415300546448086.\u001b[0m\n",
      "\u001b[32m[I 2023-03-15 15:50:36,565]\u001b[0m Trial 10 finished with value: 0.2786885245901639 and parameters: {'lambda_l1': 3.5374852049256997, 'lambda_l2': 1.9923371624952186e-08, 'num_leaves': 162, 'feature_fraction': 0.9279667665585861, 'bagging_fraction': 0.9902683424651354, 'bagging_freq': 4, 'min_child_samples': 30}. Best is trial 10 with value: 0.2786885245901639.\u001b[0m\n",
      "\u001b[32m[I 2023-03-15 15:50:36,666]\u001b[0m Trial 11 finished with value: 0.2786885245901639 and parameters: {'lambda_l1': 7.542674482295368, 'lambda_l2': 1.1098791506684488e-08, 'num_leaves': 163, 'feature_fraction': 0.9886433191898708, 'bagging_fraction': 0.994120644113408, 'bagging_freq': 4, 'min_child_samples': 34}. Best is trial 10 with value: 0.2786885245901639.\u001b[0m\n",
      "\u001b[32m[I 2023-03-15 15:50:36,762]\u001b[0m Trial 12 finished with value: 0.2786885245901639 and parameters: {'lambda_l1': 8.781150900355579, 'lambda_l2': 3.549606930648894e-08, 'num_leaves': 150, 'feature_fraction': 0.9974776079595912, 'bagging_fraction': 0.9931122222586064, 'bagging_freq': 4, 'min_child_samples': 30}. Best is trial 10 with value: 0.2786885245901639.\u001b[0m\n",
      "\u001b[32m[I 2023-03-15 15:50:36,853]\u001b[0m Trial 13 finished with value: 0.2896174863387978 and parameters: {'lambda_l1': 9.411556105088124, 'lambda_l2': 1.276450193940647e-08, 'num_leaves': 107, 'feature_fraction': 0.8973370692367905, 'bagging_fraction': 0.8707578518235586, 'bagging_freq': 3, 'min_child_samples': 36}. Best is trial 10 with value: 0.2786885245901639.\u001b[0m\n",
      "\u001b[32m[I 2023-03-15 15:50:36,978]\u001b[0m Trial 14 finished with value: 0.2896174863387978 and parameters: {'lambda_l1': 0.4999892229055714, 'lambda_l2': 5.414264646125357e-08, 'num_leaves': 149, 'feature_fraction': 0.9962112997530208, 'bagging_fraction': 0.8587730534639766, 'bagging_freq': 3, 'min_child_samples': 63}. Best is trial 10 with value: 0.2786885245901639.\u001b[0m\n",
      "\u001b[32m[I 2023-03-15 15:50:37,171]\u001b[0m Trial 15 finished with value: 0.30601092896174864 and parameters: {'lambda_l1': 0.5928658975212032, 'lambda_l2': 3.595133481056295e-08, 'num_leaves': 185, 'feature_fraction': 0.8985207280260149, 'bagging_fraction': 0.9948769841875315, 'bagging_freq': 5, 'min_child_samples': 18}. Best is trial 10 with value: 0.2786885245901639.\u001b[0m\n",
      "\u001b[32m[I 2023-03-15 15:50:37,271]\u001b[0m Trial 16 finished with value: 0.30601092896174864 and parameters: {'lambda_l1': 7.53484782056022, 'lambda_l2': 1.1410600244083809e-06, 'num_leaves': 80, 'feature_fraction': 0.9405970350305051, 'bagging_fraction': 0.8374591395177982, 'bagging_freq': 2, 'min_child_samples': 42}. Best is trial 10 with value: 0.2786885245901639.\u001b[0m\n",
      "\u001b[32m[I 2023-03-15 15:50:37,388]\u001b[0m Trial 17 finished with value: 0.2896174863387978 and parameters: {'lambda_l1': 0.1649446865124329, 'lambda_l2': 1.1974444705391407e-08, 'num_leaves': 233, 'feature_fraction': 0.8618041553755856, 'bagging_fraction': 0.9157028710094756, 'bagging_freq': 5, 'min_child_samples': 62}. Best is trial 10 with value: 0.2786885245901639.\u001b[0m\n",
      "\u001b[32m[I 2023-03-15 15:50:37,549]\u001b[0m Trial 18 finished with value: 0.28415300546448086 and parameters: {'lambda_l1': 1.2348425878256484, 'lambda_l2': 2.701449323501102e-07, 'num_leaves': 152, 'feature_fraction': 0.9395779520359202, 'bagging_fraction': 0.8239508486939038, 'bagging_freq': 4, 'min_child_samples': 21}. Best is trial 10 with value: 0.2786885245901639.\u001b[0m\n",
      "\u001b[32m[I 2023-03-15 15:50:37,678]\u001b[0m Trial 19 finished with value: 0.30601092896174864 and parameters: {'lambda_l1': 0.026092807528853096, 'lambda_l2': 3.7156738038006814e-06, 'num_leaves': 175, 'feature_fraction': 0.9995850828036739, 'bagging_fraction': 0.9141744324484422, 'bagging_freq': 2, 'min_child_samples': 55}. Best is trial 10 with value: 0.2786885245901639.\u001b[0m\n",
      "\u001b[32m[I 2023-03-15 15:50:37,812]\u001b[0m Trial 20 finished with value: 0.3114754098360656 and parameters: {'lambda_l1': 0.0008429982883570333, 'lambda_l2': 1.0200090002617718e-08, 'num_leaves': 101, 'feature_fraction': 0.7425611376493313, 'bagging_fraction': 0.9965640971342256, 'bagging_freq': 4, 'min_child_samples': 39}. Best is trial 10 with value: 0.2786885245901639.\u001b[0m\n",
      "\u001b[32m[I 2023-03-15 15:50:37,928]\u001b[0m Trial 21 finished with value: 0.2786885245901639 and parameters: {'lambda_l1': 5.895218794665351, 'lambda_l2': 8.456615110640774e-08, 'num_leaves': 146, 'feature_fraction': 0.9952314786403037, 'bagging_fraction': 0.991432665076257, 'bagging_freq': 4, 'min_child_samples': 27}. Best is trial 10 with value: 0.2786885245901639.\u001b[0m\n",
      "\u001b[32m[I 2023-03-15 15:50:38,070]\u001b[0m Trial 22 finished with value: 0.32786885245901637 and parameters: {'lambda_l1': 1.2030659829543882, 'lambda_l2': 1.2191361425950913e-07, 'num_leaves': 131, 'feature_fraction': 0.9170397971365167, 'bagging_fraction': 0.9448794070420006, 'bagging_freq': 3, 'min_child_samples': 36}. Best is trial 10 with value: 0.2786885245901639.\u001b[0m\n",
      "\u001b[32m[I 2023-03-15 15:50:38,251]\u001b[0m Trial 23 finished with value: 0.29508196721311475 and parameters: {'lambda_l1': 0.23940102927562446, 'lambda_l2': 4.742992521412929e-08, 'num_leaves': 166, 'feature_fraction': 0.9614159551841029, 'bagging_fraction': 0.8878652726067575, 'bagging_freq': 5, 'min_child_samples': 23}. Best is trial 10 with value: 0.2786885245901639.\u001b[0m\n",
      "\u001b[32m[I 2023-03-15 15:50:38,350]\u001b[0m Trial 24 finished with value: 0.3005464480874317 and parameters: {'lambda_l1': 8.123194517595582, 'lambda_l2': 5.92237879603972e-07, 'num_leaves': 204, 'feature_fraction': 0.8829687799651575, 'bagging_fraction': 0.9632366365544052, 'bagging_freq': 4, 'min_child_samples': 31}. Best is trial 10 with value: 0.2786885245901639.\u001b[0m\n",
      "\u001b[32m[I 2023-03-15 15:50:38,468]\u001b[0m Trial 25 finished with value: 0.3114754098360656 and parameters: {'lambda_l1': 1.9887047035640821, 'lambda_l2': 1.0725277075885891e-08, 'num_leaves': 125, 'feature_fraction': 0.9993369514381408, 'bagging_fraction': 0.901898495677731, 'bagging_freq': 4, 'min_child_samples': 54}. Best is trial 10 with value: 0.2786885245901639.\u001b[0m\n",
      "\u001b[32m[I 2023-03-15 15:50:38,671]\u001b[0m Trial 26 finished with value: 0.273224043715847 and parameters: {'lambda_l1': 0.35251547727263904, 'lambda_l2': 9.714392007273086e-08, 'num_leaves': 188, 'feature_fraction': 0.9410158790684341, 'bagging_fraction': 0.8040037638216684, 'bagging_freq': 3, 'min_child_samples': 15}. Best is trial 26 with value: 0.273224043715847.\u001b[0m\n",
      "\u001b[32m[I 2023-03-15 15:50:38,877]\u001b[0m Trial 27 finished with value: 0.28415300546448086 and parameters: {'lambda_l1': 0.043813948849032044, 'lambda_l2': 1.6465687469391182e-07, 'num_leaves': 216, 'feature_fraction': 0.8450540833497073, 'bagging_fraction': 0.792712484349668, 'bagging_freq': 1, 'min_child_samples': 16}. Best is trial 26 with value: 0.273224043715847.\u001b[0m\n",
      "\u001b[32m[I 2023-03-15 15:50:39,142]\u001b[0m Trial 28 finished with value: 0.28415300546448086 and parameters: {'lambda_l1': 0.2788488315637684, 'lambda_l2': 2.020959843748653e-06, 'num_leaves': 185, 'feature_fraction': 0.9211721471580718, 'bagging_fraction': 0.8218165302608083, 'bagging_freq': 3, 'min_child_samples': 6}. Best is trial 26 with value: 0.273224043715847.\u001b[0m\n",
      "\u001b[32m[I 2023-03-15 15:50:39,272]\u001b[0m Trial 29 finished with value: 0.3224043715846995 and parameters: {'lambda_l1': 0.0797091546392531, 'lambda_l2': 4.6881688172657364e-07, 'num_leaves': 223, 'feature_fraction': 0.8277053160693518, 'bagging_fraction': 0.8771571532334954, 'bagging_freq': 7, 'min_child_samples': 44}. Best is trial 26 with value: 0.273224043715847.\u001b[0m\n",
      "\u001b[32m[I 2023-03-15 15:50:39,452]\u001b[0m Trial 30 finished with value: 0.3005464480874317 and parameters: {'lambda_l1': 1.510204570137338, 'lambda_l2': 1.657209356907455e-05, 'num_leaves': 197, 'feature_fraction': 0.7831680923375978, 'bagging_fraction': 0.9392047171125, 'bagging_freq': 2, 'min_child_samples': 14}. Best is trial 26 with value: 0.273224043715847.\u001b[0m\n",
      "\u001b[32m[I 2023-03-15 15:50:39,614]\u001b[0m Trial 31 finished with value: 0.30601092896174864 and parameters: {'lambda_l1': 2.770211324380776, 'lambda_l2': 3.3839327280713394e-08, 'num_leaves': 163, 'feature_fraction': 0.9573142377720854, 'bagging_fraction': 0.9995302048948717, 'bagging_freq': 3, 'min_child_samples': 22}. Best is trial 26 with value: 0.273224043715847.\u001b[0m\n",
      "\u001b[32m[I 2023-03-15 15:50:39,769]\u001b[0m Trial 32 finished with value: 0.3114754098360656 and parameters: {'lambda_l1': 0.3276054836355608, 'lambda_l2': 7.07407316971631e-08, 'num_leaves': 132, 'feature_fraction': 0.884722723866058, 'bagging_fraction': 0.9496145831542566, 'bagging_freq': 5, 'min_child_samples': 34}. Best is trial 26 with value: 0.273224043715847.\u001b[0m\n",
      "\u001b[32m[I 2023-03-15 15:50:39,902]\u001b[0m Trial 33 finished with value: 0.29508196721311475 and parameters: {'lambda_l1': 3.1633694571320032, 'lambda_l2': 2.3426549332334024e-07, 'num_leaves': 155, 'feature_fraction': 0.9569439833450277, 'bagging_fraction': 0.9017114554871101, 'bagging_freq': 4, 'min_child_samples': 48}. Best is trial 26 with value: 0.273224043715847.\u001b[0m\n",
      "\u001b[32m[I 2023-03-15 15:50:40,004]\u001b[0m Trial 34 finished with value: 0.3005464480874317 and parameters: {'lambda_l1': 9.816412575609306, 'lambda_l2': 3.512547734059528e-08, 'num_leaves': 122, 'feature_fraction': 0.861778198779497, 'bagging_fraction': 0.9547650827861851, 'bagging_freq': 4, 'min_child_samples': 25}. Best is trial 26 with value: 0.273224043715847.\u001b[0m\n",
      "\u001b[32m[I 2023-03-15 15:50:40,148]\u001b[0m Trial 35 finished with value: 0.32786885245901637 and parameters: {'lambda_l1': 0.6395217686015919, 'lambda_l2': 6.520590480034206e-07, 'num_leaves': 92, 'feature_fraction': 0.9030179494568745, 'bagging_fraction': 0.9678857904417667, 'bagging_freq': 3, 'min_child_samples': 42}. Best is trial 26 with value: 0.273224043715847.\u001b[0m\n",
      "\u001b[32m[I 2023-03-15 15:50:40,316]\u001b[0m Trial 36 finished with value: 0.2568306010928962 and parameters: {'lambda_l1': 2.9450702645859392, 'lambda_l2': 1.388021959131524e-07, 'num_leaves': 139, 'feature_fraction': 0.974085137298157, 'bagging_fraction': 0.9133779681410985, 'bagging_freq': 5, 'min_child_samples': 11}. Best is trial 36 with value: 0.2568306010928962.\u001b[0m\n",
      "\u001b[32m[I 2023-03-15 15:50:40,627]\u001b[0m Trial 37 finished with value: 0.28415300546448086 and parameters: {'lambda_l1': 0.02157619392654219, 'lambda_l2': 3.2302579450437047e-07, 'num_leaves': 137, 'feature_fraction': 0.9326013902571515, 'bagging_fraction': 0.8556860613973098, 'bagging_freq': 7, 'min_child_samples': 9}. Best is trial 36 with value: 0.2568306010928962.\u001b[0m\n",
      "\u001b[32m[I 2023-03-15 15:50:40,894]\u001b[0m Trial 38 finished with value: 0.3005464480874317 and parameters: {'lambda_l1': 0.09378860311042951, 'lambda_l2': 2.5749618782136174e-06, 'num_leaves': 50, 'feature_fraction': 0.8526626894161229, 'bagging_fraction': 0.9237709560671734, 'bagging_freq': 5, 'min_child_samples': 11}. Best is trial 36 with value: 0.2568306010928962.\u001b[0m\n",
      "\u001b[32m[I 2023-03-15 15:50:41,080]\u001b[0m Trial 39 finished with value: 0.3114754098360656 and parameters: {'lambda_l1': 0.7382405359696729, 'lambda_l2': 0.0002976557762937877, 'num_leaves': 186, 'feature_fraction': 0.917369384282056, 'bagging_fraction': 0.8867658184618852, 'bagging_freq': 6, 'min_child_samples': 19}. Best is trial 36 with value: 0.2568306010928962.\u001b[0m\n",
      "\u001b[32m[I 2023-03-15 15:50:41,190]\u001b[0m Trial 40 finished with value: 0.31693989071038253 and parameters: {'lambda_l1': 3.5449522101168696, 'lambda_l2': 1.5323658469102468e-07, 'num_leaves': 238, 'feature_fraction': 0.9686593560354017, 'bagging_fraction': 0.7951485596457349, 'bagging_freq': 1, 'min_child_samples': 76}. Best is trial 36 with value: 0.2568306010928962.\u001b[0m\n",
      "\u001b[32m[I 2023-03-15 15:50:41,343]\u001b[0m Trial 41 finished with value: 0.29508196721311475 and parameters: {'lambda_l1': 2.831533126554394, 'lambda_l2': 2.486411024047987e-08, 'num_leaves': 166, 'feature_fraction': 0.9741269563951486, 'bagging_fraction': 0.9596565486873353, 'bagging_freq': 5, 'min_child_samples': 30}. Best is trial 36 with value: 0.2568306010928962.\u001b[0m\n",
      "\u001b[32m[I 2023-03-15 15:50:41,753]\u001b[0m Trial 42 finished with value: 0.29508196721311475 and parameters: {'lambda_l1': 3.011864761288777, 'lambda_l2': 9.292789495748642e-08, 'num_leaves': 144, 'feature_fraction': 0.9690686505418639, 'bagging_fraction': 0.9741867744219115, 'bagging_freq': 4, 'min_child_samples': 13}. Best is trial 36 with value: 0.2568306010928962.\u001b[0m\n",
      "\u001b[32m[I 2023-03-15 15:50:42,625]\u001b[0m Trial 43 finished with value: 0.29508196721311475 and parameters: {'lambda_l1': 0.822731446026745, 'lambda_l2': 2.321708081033569e-08, 'num_leaves': 114, 'feature_fraction': 0.9276597285502479, 'bagging_fraction': 0.9238326458014576, 'bagging_freq': 4, 'min_child_samples': 32}. Best is trial 36 with value: 0.2568306010928962.\u001b[0m\n",
      "\u001b[32m[I 2023-03-15 15:50:42,729]\u001b[0m Trial 44 finished with value: 0.29508196721311475 and parameters: {'lambda_l1': 9.947248825090838, 'lambda_l2': 8.963940732388058e-08, 'num_leaves': 172, 'feature_fraction': 0.9745585158602265, 'bagging_fraction': 0.9704596997672027, 'bagging_freq': 5, 'min_child_samples': 6}. Best is trial 36 with value: 0.2568306010928962.\u001b[0m\n",
      "\u001b[32m[I 2023-03-15 15:50:42,900]\u001b[0m Trial 45 finished with value: 0.31693989071038253 and parameters: {'lambda_l1': 0.1895297473560464, 'lambda_l2': 2.2710550838202278e-08, 'num_leaves': 201, 'feature_fraction': 0.8848312669186124, 'bagging_fraction': 0.9396473800251303, 'bagging_freq': 6, 'min_child_samples': 27}. Best is trial 36 with value: 0.2568306010928962.\u001b[0m\n",
      "\u001b[32m[I 2023-03-15 15:50:43,117]\u001b[0m Trial 46 finished with value: 0.30601092896174864 and parameters: {'lambda_l1': 0.5231221896491012, 'lambda_l2': 7.456197832414621e-07, 'num_leaves': 186, 'feature_fraction': 0.9460385252239883, 'bagging_fraction': 0.9963669008730527, 'bagging_freq': 3, 'min_child_samples': 17}. Best is trial 36 with value: 0.2568306010928962.\u001b[0m\n",
      "\u001b[32m[I 2023-03-15 15:50:43,247]\u001b[0m Trial 47 finished with value: 0.28415300546448086 and parameters: {'lambda_l1': 3.8189926876921376, 'lambda_l2': 2.685260344649881e-07, 'num_leaves': 160, 'feature_fraction': 0.9842168641443144, 'bagging_fraction': 0.9019533546765386, 'bagging_freq': 4, 'min_child_samples': 39}. Best is trial 36 with value: 0.2568306010928962.\u001b[0m\n",
      "\u001b[32m[I 2023-03-15 15:50:43,386]\u001b[0m Trial 48 finished with value: 0.3114754098360656 and parameters: {'lambda_l1': 1.3828378067310612, 'lambda_l2': 1.0108678896664202e-08, 'num_leaves': 141, 'feature_fraction': 0.9419682489552287, 'bagging_fraction': 0.9737943289493216, 'bagging_freq': 6, 'min_child_samples': 51}. Best is trial 36 with value: 0.2568306010928962.\u001b[0m\n",
      "\u001b[32m[I 2023-03-15 15:50:43,575]\u001b[0m Trial 49 finished with value: 0.30601092896174864 and parameters: {'lambda_l1': 0.35534936294686703, 'lambda_l2': 9.259860058470369e-06, 'num_leaves': 176, 'feature_fraction': 0.999901176295009, 'bagging_fraction': 0.930630456468925, 'bagging_freq': 3, 'min_child_samples': 24}. Best is trial 36 with value: 0.2568306010928962.\u001b[0m\n",
      "\u001b[32m[I 2023-03-15 15:50:43,676]\u001b[0m Trial 50 finished with value: 0.3005464480874317 and parameters: {'lambda_l1': 0.0026829437477724747, 'lambda_l2': 1.036859920573336e-06, 'num_leaves': 113, 'feature_fraction': 0.9057645743269962, 'bagging_fraction': 0.8601865977737132, 'bagging_freq': 5, 'min_child_samples': 99}. Best is trial 36 with value: 0.2568306010928962.\u001b[0m\n",
      "\u001b[32m[I 2023-03-15 15:50:43,804]\u001b[0m Trial 51 finished with value: 0.2786885245901639 and parameters: {'lambda_l1': 5.462282112276501, 'lambda_l2': 6.520154126895866e-08, 'num_leaves': 146, 'feature_fraction': 0.980751495428429, 'bagging_fraction': 0.9773552702212912, 'bagging_freq': 4, 'min_child_samples': 20}. Best is trial 36 with value: 0.2568306010928962.\u001b[0m\n",
      "\u001b[32m[I 2023-03-15 15:50:43,932]\u001b[0m Trial 52 finished with value: 0.26229508196721313 and parameters: {'lambda_l1': 4.8709795973930365, 'lambda_l2': 1.147605486704236e-07, 'num_leaves': 153, 'feature_fraction': 0.9465900177483452, 'bagging_fraction': 0.9981649627196709, 'bagging_freq': 4, 'min_child_samples': 28}. Best is trial 36 with value: 0.2568306010928962.\u001b[0m\n",
      "\u001b[32m[I 2023-03-15 15:50:44,086]\u001b[0m Trial 53 finished with value: 0.2896174863387978 and parameters: {'lambda_l1': 1.3338456609888172, 'lambda_l2': 2.4623328778270862e-08, 'num_leaves': 155, 'feature_fraction': 0.945172017694279, 'bagging_fraction': 0.9985882014452533, 'bagging_freq': 4, 'min_child_samples': 37}. Best is trial 36 with value: 0.2568306010928962.\u001b[0m\n",
      "\u001b[32m[I 2023-03-15 15:50:44,226]\u001b[0m Trial 54 finished with value: 0.3005464480874317 and parameters: {'lambda_l1': 4.256627957805997, 'lambda_l2': 1.6764444353564387e-07, 'num_leaves': 195, 'feature_fraction': 0.9357208741310117, 'bagging_fraction': 0.9435397472079677, 'bagging_freq': 2, 'min_child_samples': 28}. Best is trial 36 with value: 0.2568306010928962.\u001b[0m\n",
      "\u001b[32m[I 2023-03-15 15:50:44,493]\u001b[0m Trial 55 finished with value: 0.3333333333333333 and parameters: {'lambda_l1': 0.14004060369032045, 'lambda_l2': 5.7849704394646874e-08, 'num_leaves': 120, 'feature_fraction': 0.8777494425917486, 'bagging_fraction': 0.9200185819770886, 'bagging_freq': 5, 'min_child_samples': 10}. Best is trial 36 with value: 0.2568306010928962.\u001b[0m\n",
      "\u001b[32m[I 2023-03-15 15:50:44,650]\u001b[0m Trial 56 finished with value: 0.3224043715846995 and parameters: {'lambda_l1': 1.7634586428997459, 'lambda_l2': 3.707267493177567e-07, 'num_leaves': 97, 'feature_fraction': 0.9102100135876325, 'bagging_fraction': 0.9712565715718166, 'bagging_freq': 3, 'min_child_samples': 33}. Best is trial 36 with value: 0.2568306010928962.\u001b[0m\n",
      "\u001b[32m[I 2023-03-15 15:50:44,757]\u001b[0m Trial 57 finished with value: 0.29508196721311475 and parameters: {'lambda_l1': 9.499614550552371, 'lambda_l2': 1.6186268257351145e-06, 'num_leaves': 177, 'feature_fraction': 0.9723451523666, 'bagging_fraction': 0.951827074181675, 'bagging_freq': 4, 'min_child_samples': 89}. Best is trial 36 with value: 0.2568306010928962.\u001b[0m\n",
      "\u001b[32m[I 2023-03-15 15:50:44,922]\u001b[0m Trial 58 finished with value: 0.30601092896174864 and parameters: {'lambda_l1': 0.9165870341028792, 'lambda_l2': 1.3340655842040014e-07, 'num_leaves': 135, 'feature_fraction': 0.9547445575060532, 'bagging_fraction': 0.9808845881876164, 'bagging_freq': 5, 'min_child_samples': 58}. Best is trial 36 with value: 0.2568306010928962.\u001b[0m\n",
      "\u001b[32m[I 2023-03-15 15:50:45,118]\u001b[0m Trial 59 finished with value: 0.28415300546448086 and parameters: {'lambda_l1': 4.882845747453343, 'lambda_l2': 2.330238083597897e-08, 'num_leaves': 2, 'feature_fraction': 0.9221372227042164, 'bagging_fraction': 0.8952551371165671, 'bagging_freq': 4, 'min_child_samples': 15}. Best is trial 36 with value: 0.2568306010928962.\u001b[0m\n",
      "\u001b[32m[I 2023-03-15 15:50:45,540]\u001b[0m Trial 60 finished with value: 0.3114754098360656 and parameters: {'lambda_l1': 0.40237473760081566, 'lambda_l2': 4.608872067882701e-08, 'num_leaves': 212, 'feature_fraction': 0.9858427459804278, 'bagging_fraction': 0.9189696392464003, 'bagging_freq': 3, 'min_child_samples': 40}. Best is trial 36 with value: 0.2568306010928962.\u001b[0m\n",
      "\u001b[32m[I 2023-03-15 15:50:45,683]\u001b[0m Trial 61 finished with value: 0.2896174863387978 and parameters: {'lambda_l1': 5.211866550719582, 'lambda_l2': 1.7115842333987948e-08, 'num_leaves': 147, 'feature_fraction': 0.9879229881614594, 'bagging_fraction': 0.9889569462487114, 'bagging_freq': 4, 'min_child_samples': 26}. Best is trial 36 with value: 0.2568306010928962.\u001b[0m\n",
      "\u001b[32m[I 2023-03-15 15:50:45,871]\u001b[0m Trial 62 finished with value: 0.28415300546448086 and parameters: {'lambda_l1': 1.8572408687680373, 'lambda_l2': 5.957075254301284e-08, 'num_leaves': 159, 'feature_fraction': 0.9998263485605767, 'bagging_fraction': 0.9843423260569854, 'bagging_freq': 4, 'min_child_samples': 22}. Best is trial 36 with value: 0.2568306010928962.\u001b[0m\n",
      "\u001b[32m[I 2023-03-15 15:50:45,999]\u001b[0m Trial 63 finished with value: 0.29508196721311475 and parameters: {'lambda_l1': 5.619014738302335, 'lambda_l2': 1.1796524443750784e-07, 'num_leaves': 168, 'feature_fraction': 0.9535139030820363, 'bagging_fraction': 0.9529213897227585, 'bagging_freq': 4, 'min_child_samples': 29}. Best is trial 36 with value: 0.2568306010928962.\u001b[0m\n",
      "\u001b[32m[I 2023-03-15 15:50:46,169]\u001b[0m Trial 64 finished with value: 0.31693989071038253 and parameters: {'lambda_l1': 2.2406348037255968, 'lambda_l2': 5.465098300700754e-07, 'num_leaves': 153, 'feature_fraction': 0.9630868327219398, 'bagging_fraction': 0.9992720302185125, 'bagging_freq': 3, 'min_child_samples': 20}. Best is trial 36 with value: 0.2568306010928962.\u001b[0m\n",
      "\u001b[32m[I 2023-03-15 15:50:46,324]\u001b[0m Trial 65 finished with value: 0.2786885245901639 and parameters: {'lambda_l1': 0.8691587534059736, 'lambda_l2': 1.1316735121470963e-08, 'num_leaves': 128, 'feature_fraction': 0.9298665867294399, 'bagging_fraction': 0.9356935287513604, 'bagging_freq': 5, 'min_child_samples': 35}. Best is trial 36 with value: 0.2568306010928962.\u001b[0m\n",
      "\u001b[32m[I 2023-03-15 15:50:46,444]\u001b[0m Trial 66 finished with value: 0.273224043715847 and parameters: {'lambda_l1': 6.087327264056488, 'lambda_l2': 4.202069483436199e-08, 'num_leaves': 181, 'feature_fraction': 0.8978631315710612, 'bagging_fraction': 0.9632797039310123, 'bagging_freq': 4, 'min_child_samples': 24}. Best is trial 36 with value: 0.2568306010928962.\u001b[0m\n",
      "\u001b[32m[I 2023-03-15 15:50:46,559]\u001b[0m Trial 67 finished with value: 0.28415300546448086 and parameters: {'lambda_l1': 9.466873481906314, 'lambda_l2': 3.782612003460166e-08, 'num_leaves': 192, 'feature_fraction': 0.9010589382631958, 'bagging_fraction': 0.9583196507624027, 'bagging_freq': 3, 'min_child_samples': 13}. Best is trial 36 with value: 0.2568306010928962.\u001b[0m\n",
      "\u001b[32m[I 2023-03-15 15:50:46,745]\u001b[0m Trial 68 finished with value: 0.3114754098360656 and parameters: {'lambda_l1': 0.23366195777418447, 'lambda_l2': 3.2773505145771277e-07, 'num_leaves': 179, 'feature_fraction': 0.9223654705666788, 'bagging_fraction': 0.8761022823518452, 'bagging_freq': 2, 'min_child_samples': 24}. Best is trial 36 with value: 0.2568306010928962.\u001b[0m\n",
      "\u001b[32m[I 2023-03-15 15:50:46,898]\u001b[0m Trial 69 finished with value: 0.29508196721311475 and parameters: {'lambda_l1': 2.212116222449285, 'lambda_l2': 1.695220642819977e-07, 'num_leaves': 206, 'feature_fraction': 0.8711160080248895, 'bagging_fraction': 0.906351683195953, 'bagging_freq': 4, 'min_child_samples': 44}. Best is trial 36 with value: 0.2568306010928962.\u001b[0m\n",
      "\u001b[32m[I 2023-03-15 15:50:47,106]\u001b[0m Trial 70 finished with value: 0.3114754098360656 and parameters: {'lambda_l1': 0.5282764281225242, 'lambda_l2': 1.9135239132243293e-08, 'num_leaves': 167, 'feature_fraction': 0.8409379938927599, 'bagging_fraction': 0.9644864553646237, 'bagging_freq': 5, 'min_child_samples': 17}. Best is trial 36 with value: 0.2568306010928962.\u001b[0m\n",
      "\u001b[32m[I 2023-03-15 15:50:47,241]\u001b[0m Trial 71 finished with value: 0.29508196721311475 and parameters: {'lambda_l1': 4.789166628035205, 'lambda_l2': 7.880214132402585e-08, 'num_leaves': 142, 'feature_fraction': 0.98297896950433, 'bagging_fraction': 0.9834160622409795, 'bagging_freq': 4, 'min_child_samples': 32}. Best is trial 36 with value: 0.2568306010928962.\u001b[0m\n",
      "\u001b[32m[I 2023-03-15 15:50:47,409]\u001b[0m Trial 72 finished with value: 0.3005464480874317 and parameters: {'lambda_l1': 1.4369357204801039, 'lambda_l2': 4.339565315755693e-08, 'num_leaves': 152, 'feature_fraction': 0.9579187681802495, 'bagging_fraction': 0.937187445946199, 'bagging_freq': 4, 'min_child_samples': 27}. Best is trial 36 with value: 0.2568306010928962.\u001b[0m\n",
      "\u001b[32m[I 2023-03-15 15:50:47,520]\u001b[0m Trial 73 finished with value: 0.273224043715847 and parameters: {'lambda_l1': 6.2565144771385794, 'lambda_l2': 8.992153215395933e-08, 'num_leaves': 183, 'feature_fraction': 0.89533731194233, 'bagging_fraction': 0.9998194716618999, 'bagging_freq': 4, 'min_child_samples': 30}. Best is trial 36 with value: 0.2568306010928962.\u001b[0m\n",
      "\u001b[32m[I 2023-03-15 15:50:47,658]\u001b[0m Trial 74 finished with value: 0.29508196721311475 and parameters: {'lambda_l1': 3.745927255882596, 'lambda_l2': 1.4862875130274625e-08, 'num_leaves': 189, 'feature_fraction': 0.8930553394266303, 'bagging_fraction': 0.9991123655720067, 'bagging_freq': 4, 'min_child_samples': 37}. Best is trial 36 with value: 0.2568306010928962.\u001b[0m\n",
      "\u001b[32m[I 2023-03-15 15:50:47,768]\u001b[0m Trial 75 finished with value: 0.28415300546448086 and parameters: {'lambda_l1': 9.832241784473851, 'lambda_l2': 1.000134653139309e-07, 'num_leaves': 223, 'feature_fraction': 0.9079456857812283, 'bagging_fraction': 0.9583179549362876, 'bagging_freq': 3, 'min_child_samples': 30}. Best is trial 36 with value: 0.2568306010928962.\u001b[0m\n",
      "\u001b[32m[I 2023-03-15 15:50:47,997]\u001b[0m Trial 76 finished with value: 0.33879781420765026 and parameters: {'lambda_l1': 0.9373655731048656, 'lambda_l2': 2.1653541038526413e-07, 'num_leaves': 181, 'feature_fraction': 0.9390940915268682, 'bagging_fraction': 0.9802593126654513, 'bagging_freq': 5, 'min_child_samples': 9}. Best is trial 36 with value: 0.2568306010928962.\u001b[0m\n",
      "\u001b[32m[I 2023-03-15 15:50:48,158]\u001b[0m Trial 77 finished with value: 0.30601092896174864 and parameters: {'lambda_l1': 2.392705344517485, 'lambda_l2': 2.9179123901628802e-08, 'num_leaves': 170, 'feature_fraction': 0.9711572465647523, 'bagging_fraction': 0.9421035293849696, 'bagging_freq': 4, 'min_child_samples': 23}. Best is trial 36 with value: 0.2568306010928962.\u001b[0m\n",
      "\u001b[32m[I 2023-03-15 15:50:48,269]\u001b[0m Trial 78 finished with value: 0.30601092896174864 and parameters: {'lambda_l1': 5.951320869305584, 'lambda_l2': 1.0067423521325369e-08, 'num_leaves': 162, 'feature_fraction': 0.8719912753655047, 'bagging_fraction': 0.9073437458889289, 'bagging_freq': 3, 'min_child_samples': 72}. Best is trial 36 with value: 0.2568306010928962.\u001b[0m\n",
      "\u001b[32m[I 2023-03-15 15:50:48,438]\u001b[0m Trial 79 finished with value: 0.2786885245901639 and parameters: {'lambda_l1': 2.6096025888740493, 'lambda_l2': 9.312929194776194e-07, 'num_leaves': 137, 'feature_fraction': 0.8865165647307189, 'bagging_fraction': 0.9668165933156564, 'bagging_freq': 4, 'min_child_samples': 18}. Best is trial 36 with value: 0.2568306010928962.\u001b[0m\n",
      "\u001b[32m[I 2023-03-15 15:50:48,681]\u001b[0m Trial 80 finished with value: 0.3224043715846995 and parameters: {'lambda_l1': 0.5367010295342542, 'lambda_l2': 4.2803260192161044e-08, 'num_leaves': 209, 'feature_fraction': 0.9270012348272413, 'bagging_fraction': 0.9260224678759589, 'bagging_freq': 5, 'min_child_samples': 12}. Best is trial 36 with value: 0.2568306010928962.\u001b[0m\n",
      "\u001b[32m[I 2023-03-15 15:50:48,810]\u001b[0m Trial 81 finished with value: 0.273224043715847 and parameters: {'lambda_l1': 5.59140085652365, 'lambda_l2': 8.910657134185743e-08, 'num_leaves': 158, 'feature_fraction': 0.9522427030980722, 'bagging_fraction': 0.9864815719655783, 'bagging_freq': 4, 'min_child_samples': 26}. Best is trial 36 with value: 0.2568306010928962.\u001b[0m\n",
      "\u001b[32m[I 2023-03-15 15:50:48,930]\u001b[0m Trial 82 finished with value: 0.273224043715847 and parameters: {'lambda_l1': 6.568375083927361, 'lambda_l2': 9.789146853243241e-08, 'num_leaves': 182, 'feature_fraction': 0.9536986420188143, 'bagging_fraction': 0.982044705753411, 'bagging_freq': 4, 'min_child_samples': 34}. Best is trial 36 with value: 0.2568306010928962.\u001b[0m\n",
      "\u001b[32m[I 2023-03-15 15:50:49,060]\u001b[0m Trial 83 finished with value: 0.2786885245901639 and parameters: {'lambda_l1': 5.760357404987991, 'lambda_l2': 3.979136675861455e-07, 'num_leaves': 182, 'feature_fraction': 0.9425440589608186, 'bagging_fraction': 0.9841936735140251, 'bagging_freq': 4, 'min_child_samples': 33}. Best is trial 36 with value: 0.2568306010928962.\u001b[0m\n",
      "\u001b[32m[I 2023-03-15 15:50:49,312]\u001b[0m Trial 84 finished with value: 0.31693989071038253 and parameters: {'lambda_l1': 1.0075852500739189, 'lambda_l2': 2.1076380306735047e-07, 'num_leaves': 200, 'feature_fraction': 0.9111293510444294, 'bagging_fraction': 0.9589511863432542, 'bagging_freq': 4, 'min_child_samples': 5}. Best is trial 36 with value: 0.2568306010928962.\u001b[0m\n",
      "\u001b[32m[I 2023-03-15 15:50:49,476]\u001b[0m Trial 85 finished with value: 0.31693989071038253 and parameters: {'lambda_l1': 3.192077243849512, 'lambda_l2': 6.685076823737126e-08, 'num_leaves': 158, 'feature_fraction': 0.9581502103480548, 'bagging_fraction': 0.9815351294810162, 'bagging_freq': 4, 'min_child_samples': 21}. Best is trial 36 with value: 0.2568306010928962.\u001b[0m\n",
      "\u001b[32m[I 2023-03-15 15:50:49,647]\u001b[0m Trial 86 finished with value: 0.2896174863387978 and parameters: {'lambda_l1': 1.5399324142124817, 'lambda_l2': 1.23946879942225e-07, 'num_leaves': 171, 'feature_fraction': 0.8948920705533047, 'bagging_fraction': 0.9428187039528457, 'bagging_freq': 4, 'min_child_samples': 25}. Best is trial 36 with value: 0.2568306010928962.\u001b[0m\n",
      "\u001b[32m[I 2023-03-15 15:50:49,769]\u001b[0m Trial 87 finished with value: 0.29508196721311475 and parameters: {'lambda_l1': 6.214434365636792, 'lambda_l2': 1.7061316899632904e-08, 'num_leaves': 189, 'feature_fraction': 0.8630036882586927, 'bagging_fraction': 0.9693354986318323, 'bagging_freq': 3, 'min_child_samples': 40}. Best is trial 36 with value: 0.2568306010928962.\u001b[0m\n",
      "\u001b[32m[I 2023-03-15 15:50:49,915]\u001b[0m Trial 88 finished with value: 0.29508196721311475 and parameters: {'lambda_l1': 3.0716037031460757, 'lambda_l2': 3.202142487785009e-08, 'num_leaves': 175, 'feature_fraction': 0.9459312331853321, 'bagging_fraction': 0.9297506666361444, 'bagging_freq': 4, 'min_child_samples': 35}. Best is trial 36 with value: 0.2568306010928962.\u001b[0m\n",
      "\u001b[32m[I 2023-03-15 15:50:50,099]\u001b[0m Trial 89 finished with value: 0.30601092896174864 and parameters: {'lambda_l1': 0.37570001924420454, 'lambda_l2': 6.439380601384502e-07, 'num_leaves': 196, 'feature_fraction': 0.9148406705791877, 'bagging_fraction': 0.9989675056087775, 'bagging_freq': 5, 'min_child_samples': 30}. Best is trial 36 with value: 0.2568306010928962.\u001b[0m\n",
      "\u001b[32m[I 2023-03-15 15:50:50,248]\u001b[0m Trial 90 finished with value: 0.2786885245901639 and parameters: {'lambda_l1': 1.7267645316667553, 'lambda_l2': 1.0502932308552396e-07, 'num_leaves': 219, 'feature_fraction': 0.9693043463920008, 'bagging_fraction': 0.9517978843418778, 'bagging_freq': 3, 'min_child_samples': 48}. Best is trial 36 with value: 0.2568306010928962.\u001b[0m\n",
      "\u001b[32m[I 2023-03-15 15:50:50,367]\u001b[0m Trial 91 finished with value: 0.28415300546448086 and parameters: {'lambda_l1': 8.528552775149349, 'lambda_l2': 5.25487514787146e-08, 'num_leaves': 150, 'feature_fraction': 0.9863193966265568, 'bagging_fraction': 0.9819122643813109, 'bagging_freq': 4, 'min_child_samples': 28}. Best is trial 36 with value: 0.2568306010928962.\u001b[0m\n",
      "\u001b[32m[I 2023-03-15 15:50:50,511]\u001b[0m Trial 92 finished with value: 0.28415300546448086 and parameters: {'lambda_l1': 4.190862330123037, 'lambda_l2': 2.3770468568099095e-07, 'num_leaves': 164, 'feature_fraction': 0.9363454877944449, 'bagging_fraction': 0.9695237204011193, 'bagging_freq': 4, 'min_child_samples': 38}. Best is trial 36 with value: 0.2568306010928962.\u001b[0m\n",
      "\u001b[32m[I 2023-03-15 15:50:50,640]\u001b[0m Trial 93 finished with value: 0.2677595628415301 and parameters: {'lambda_l1': 6.131780964833439, 'lambda_l2': 1.6809548773926822e-08, 'num_leaves': 158, 'feature_fraction': 0.9779409294328083, 'bagging_fraction': 0.9868198770594833, 'bagging_freq': 4, 'min_child_samples': 32}. Best is trial 36 with value: 0.2568306010928962.\u001b[0m\n",
      "\u001b[32m[I 2023-03-15 15:50:50,799]\u001b[0m Trial 94 finished with value: 0.30601092896174864 and parameters: {'lambda_l1': 1.1408497957340251, 'lambda_l2': 1.626278977214128e-08, 'num_leaves': 160, 'feature_fraction': 0.9541989002116226, 'bagging_fraction': 0.9854641663557425, 'bagging_freq': 4, 'min_child_samples': 42}. Best is trial 36 with value: 0.2568306010928962.\u001b[0m\n",
      "\u001b[32m[I 2023-03-15 15:50:50,929]\u001b[0m Trial 95 finished with value: 0.2896174863387978 and parameters: {'lambda_l1': 5.901509218181992, 'lambda_l2': 3.507137174756578e-08, 'num_leaves': 181, 'feature_fraction': 0.9716170438298097, 'bagging_fraction': 0.9145092567588785, 'bagging_freq': 4, 'min_child_samples': 32}. Best is trial 36 with value: 0.2568306010928962.\u001b[0m\n",
      "\u001b[32m[I 2023-03-15 15:50:51,104]\u001b[0m Trial 96 finished with value: 0.3114754098360656 and parameters: {'lambda_l1': 3.059731991542701, 'lambda_l2': 6.807886893885417e-08, 'num_leaves': 174, 'feature_fraction': 0.9270430505956253, 'bagging_fraction': 0.9473915802216575, 'bagging_freq': 4, 'min_child_samples': 15}. Best is trial 36 with value: 0.2568306010928962.\u001b[0m\n",
      "\u001b[32m[I 2023-03-15 15:50:51,294]\u001b[0m Trial 97 finished with value: 0.3005464480874317 and parameters: {'lambda_l1': 0.6099405467438074, 'lambda_l2': 2.1343131213885454e-08, 'num_leaves': 141, 'feature_fraction': 0.9872962752877981, 'bagging_fraction': 0.9695395768990693, 'bagging_freq': 5, 'min_child_samples': 26}. Best is trial 36 with value: 0.2568306010928962.\u001b[0m\n",
      "\u001b[32m[I 2023-03-15 15:50:51,452]\u001b[0m Trial 98 finished with value: 0.31693989071038253 and parameters: {'lambda_l1': 1.9338625897561192, 'lambda_l2': 8.775630937461695e-08, 'num_leaves': 155, 'feature_fraction': 0.9596895532456587, 'bagging_fraction': 0.9907738209931636, 'bagging_freq': 6, 'min_child_samples': 35}. Best is trial 36 with value: 0.2568306010928962.\u001b[0m\n",
      "\u001b[32m[I 2023-03-15 15:50:51,581]\u001b[0m Trial 99 finished with value: 0.3005464480874317 and parameters: {'lambda_l1': 6.88748575898284, 'lambda_l2': 4.064507081830323e-07, 'num_leaves': 193, 'feature_fraction': 0.8958946663047114, 'bagging_fraction': 0.9593687839547609, 'bagging_freq': 4, 'min_child_samples': 22}. Best is trial 36 with value: 0.2568306010928962.\u001b[0m\n"
     ]
    }
   ],
   "source": [
    "study = run_study(X_train, y_train, X_valid, y_valid)"
   ]
  },
  {
   "cell_type": "code",
   "execution_count": 9,
   "id": "43d3d4df",
   "metadata": {
    "execution": {
     "iopub.execute_input": "2023-03-15T15:50:51.622340Z",
     "iopub.status.busy": "2023-03-15T15:50:51.621928Z",
     "iopub.status.idle": "2023-03-15T15:50:51.630092Z",
     "shell.execute_reply": "2023-03-15T15:50:51.628848Z"
    },
    "papermill": {
     "duration": 0.024375,
     "end_time": "2023-03-15T15:50:51.632740",
     "exception": false,
     "start_time": "2023-03-15T15:50:51.608365",
     "status": "completed"
    },
    "tags": []
   },
   "outputs": [
    {
     "data": {
      "text/plain": [
       "{'lambda_l1': 2.9450702645859392,\n",
       " 'lambda_l2': 1.388021959131524e-07,\n",
       " 'num_leaves': 139,\n",
       " 'feature_fraction': 0.974085137298157,\n",
       " 'bagging_fraction': 0.9133779681410985,\n",
       " 'bagging_freq': 5,\n",
       " 'min_child_samples': 11}"
      ]
     },
     "execution_count": 9,
     "metadata": {},
     "output_type": "execute_result"
    }
   ],
   "source": [
    "study.best_params"
   ]
  },
  {
   "cell_type": "code",
   "execution_count": 10,
   "id": "8a5e601e",
   "metadata": {
    "execution": {
     "iopub.execute_input": "2023-03-15T15:50:51.658433Z",
     "iopub.status.busy": "2023-03-15T15:50:51.657197Z",
     "iopub.status.idle": "2023-03-15T15:50:51.847555Z",
     "shell.execute_reply": "2023-03-15T15:50:51.844879Z"
    },
    "papermill": {
     "duration": 0.208764,
     "end_time": "2023-03-15T15:50:51.852020",
     "exception": false,
     "start_time": "2023-03-15T15:50:51.643256",
     "status": "completed"
    },
    "tags": []
   },
   "outputs": [
    {
     "name": "stdout",
     "output_type": "stream",
     "text": [
      "[LightGBM] [Warning] bagging_fraction is set=0.9133779681410985, subsample=1.0 will be ignored. Current value: bagging_fraction=0.9133779681410985\n",
      "[LightGBM] [Warning] lambda_l1 is set=2.9450702645859392, reg_alpha=0.0 will be ignored. Current value: lambda_l1=2.9450702645859392\n",
      "[LightGBM] [Warning] feature_fraction is set=0.974085137298157, colsample_bytree=1.0 will be ignored. Current value: feature_fraction=0.974085137298157\n",
      "[LightGBM] [Warning] bagging_freq is set=5, subsample_freq=0 will be ignored. Current value: bagging_freq=5\n",
      "[LightGBM] [Warning] lambda_l2 is set=1.388021959131524e-07, reg_lambda=0.0 will be ignored. Current value: lambda_l2=1.388021959131524e-07\n",
      "Brier Score: 0.022281095354051546\n",
      "ROC AUC: 1.0\n",
      "Parameters\n",
      "- boosting_type: gbdt\n",
      "- class_weight: None\n",
      "- colsample_bytree: 1.0\n",
      "- importance_type: split\n",
      "- learning_rate: 0.1\n",
      "- max_depth: -1\n",
      "- min_child_samples: 11\n",
      "- min_child_weight: 0.001\n",
      "- min_split_gain: 0.0\n",
      "- n_estimators: 100\n",
      "- n_jobs: -1\n",
      "- num_leaves: 139\n",
      "- objective: None\n",
      "- random_state: None\n",
      "- reg_alpha: 0.0\n",
      "- reg_lambda: 0.0\n",
      "- silent: warn\n",
      "- subsample: 1.0\n",
      "- subsample_for_bin: 200000\n",
      "- subsample_freq: 0\n",
      "- lambda_l1: 2.9450702645859392\n",
      "- lambda_l2: 1.388021959131524e-07\n",
      "- feature_fraction: 0.974085137298157\n",
      "- bagging_fraction: 0.9133779681410985\n",
      "- bagging_freq: 5\n",
      "Features\n",
      "- SeedDiff: 106\n",
      "- FGP3TouDiff: 60\n",
      "- FTPOppRegDiff: 58\n",
      "- OrdinalRankDiff: 56\n",
      "- FTPTouDiff: 55\n",
      "- FGP3OppRegDiff: 53\n",
      "- DROppTouDiff: 50\n",
      "- FGPRegDiff: 48\n",
      "- AstTouDiff: 48\n",
      "- DROppRegDiff: 46\n",
      "- FGP3RegDiff: 46\n",
      "- AstOppRegDiff: 45\n",
      "- OROppTouDiff: 45\n",
      "- FGARegDiff: 44\n",
      "- FGA3TouDiff: 44\n",
      "- FGPOppRegDiff: 41\n",
      "- FGAOppTouDiff: 40\n",
      "- TOTouDiff: 39\n",
      "- TOOppTouDiff: 37\n",
      "- FGMRegDiff: 36\n",
      "- FGPTouDiff: 36\n",
      "- ScoreOppRegDiff: 33\n",
      "- FTPRegDiff: 33\n",
      "- FTATouDiff: 33\n",
      "- ORTouDiff: 33\n",
      "- FTPOppTouDiff: 33\n",
      "- ScoreOppTouDiff: 32\n",
      "- TOOppRegDiff: 31\n",
      "- ScoreTouDiff: 31\n",
      "- DRTouDiff: 31\n",
      "- StlTouDiff: 31\n",
      "- PFTouDiff: 31\n",
      "- FTMRegDiff: 30\n",
      "- FTMTouDiff: 30\n",
      "- PFRegDiff: 29\n",
      "- DRRegDiff: 28\n",
      "- FGP3OppTouDiff: 28\n",
      "- BlkRegDiff: 27\n",
      "- StlOppTouDiff: 27\n",
      "- FGMOppRegDiff: 26\n",
      "- OROppRegDiff: 24\n",
      "- FTMOppTouDiff: 24\n",
      "- FTMOppRegDiff: 23\n",
      "- FGM3TouDiff: 23\n",
      "- FGA3OppTouDiff: 23\n",
      "- FTAOppTouDiff: 23\n",
      "- ORRegDiff: 22\n",
      "- FGAOppRegDiff: 22\n",
      "- AstOppTouDiff: 22\n",
      "- FGPOppTouDiff: 22\n",
      "- AstRegDiff: 21\n",
      "- FGM3RegDiff: 20\n",
      "- PFOppTouDiff: 20\n",
      "- ScoreRegDiff: 19\n",
      "- StlRegDiff: 19\n",
      "- FGATouDiff: 19\n",
      "- BlkTouDiff: 17\n",
      "- FGM3OppTouDiff: 17\n",
      "- FTAOppRegDiff: 16\n",
      "- FGMTouDiff: 16\n",
      "- FTARegDiff: 15\n",
      "- TORegDiff: 15\n",
      "- FGA3RegDiff: 12\n",
      "- FGA3OppRegDiff: 12\n",
      "- FGMOppTouDiff: 11\n",
      "- BlkOppRegDiff: 10\n",
      "- StlOppRegDiff: 7\n",
      "- PFOppRegDiff: 7\n",
      "- FGM3OppRegDiff: 5\n",
      "- BlkOppTouDiff: 4\n",
      "- NumOTRegDiff: 0\n",
      "- NumOTTouDiff: 0\n"
     ]
    }
   ],
   "source": [
    "model = train_optimized_model(study, X, y)\n",
    "preds = model.predict_proba(X)[:,1]\n",
    "print(\"Brier Score:\", brier_score_loss(y, preds))\n",
    "print(\"ROC AUC:\", roc_auc_score(y, preds))\n",
    "print(\"Parameters\")\n",
    "print(*(f\"- {key}: {value}\" for key, value in model.get_params(deep=True).items()), sep=\"\\n\")\n",
    "print(\"Features\")\n",
    "print(*(f\"- {name}: {imp}\" for name, imp in sorted(zip(model.feature_name_, model.feature_importances_), key=lambda x: x[1], reverse=True)), sep=\"\\n\")\n"
   ]
  },
  {
   "cell_type": "markdown",
   "id": "b090c24d",
   "metadata": {
    "papermill": {
     "duration": 0.010889,
     "end_time": "2023-03-15T15:50:51.875536",
     "exception": false,
     "start_time": "2023-03-15T15:50:51.864647",
     "status": "completed"
    },
    "tags": []
   },
   "source": [
    "# Submit to the competition\n",
    "\n",
    "We\"ll begin by using the trained model to generate predictions, which we\"ll save to a CSV file."
   ]
  },
  {
   "cell_type": "code",
   "execution_count": 11,
   "id": "75b0ba34",
   "metadata": {
    "execution": {
     "iopub.execute_input": "2023-03-15T15:50:51.899201Z",
     "iopub.status.busy": "2023-03-15T15:50:51.898780Z",
     "iopub.status.idle": "2023-03-15T15:50:55.398573Z",
     "shell.execute_reply": "2023-03-15T15:50:55.396460Z"
    },
    "papermill": {
     "duration": 3.51534,
     "end_time": "2023-03-15T15:50:55.401645",
     "exception": false,
     "start_time": "2023-03-15T15:50:51.886305",
     "status": "completed"
    },
    "tags": []
   },
   "outputs": [
    {
     "name": "stdout",
     "output_type": "stream",
     "text": [
      "(614319, 2)\n"
     ]
    },
    {
     "data": {
      "text/html": [
       "<div>\n",
       "<style scoped>\n",
       "    .dataframe tbody tr th:only-of-type {\n",
       "        vertical-align: middle;\n",
       "    }\n",
       "\n",
       "    .dataframe tbody tr th {\n",
       "        vertical-align: top;\n",
       "    }\n",
       "\n",
       "    .dataframe thead th {\n",
       "        text-align: right;\n",
       "    }\n",
       "</style>\n",
       "<table border=\"1\" class=\"dataframe\">\n",
       "  <thead>\n",
       "    <tr style=\"text-align: right;\">\n",
       "      <th></th>\n",
       "      <th>Pred</th>\n",
       "    </tr>\n",
       "  </thead>\n",
       "  <tbody>\n",
       "    <tr>\n",
       "      <th>count</th>\n",
       "      <td>614319.000000</td>\n",
       "    </tr>\n",
       "    <tr>\n",
       "      <th>mean</th>\n",
       "      <td>0.888307</td>\n",
       "    </tr>\n",
       "    <tr>\n",
       "      <th>std</th>\n",
       "      <td>0.045949</td>\n",
       "    </tr>\n",
       "    <tr>\n",
       "      <th>min</th>\n",
       "      <td>0.009956</td>\n",
       "    </tr>\n",
       "    <tr>\n",
       "      <th>25%</th>\n",
       "      <td>0.891559</td>\n",
       "    </tr>\n",
       "    <tr>\n",
       "      <th>50%</th>\n",
       "      <td>0.891559</td>\n",
       "    </tr>\n",
       "    <tr>\n",
       "      <th>75%</th>\n",
       "      <td>0.891559</td>\n",
       "    </tr>\n",
       "    <tr>\n",
       "      <th>max</th>\n",
       "      <td>0.992838</td>\n",
       "    </tr>\n",
       "  </tbody>\n",
       "</table>\n",
       "</div>"
      ],
      "text/plain": [
       "                Pred\n",
       "count  614319.000000\n",
       "mean        0.888307\n",
       "std         0.045949\n",
       "min         0.009956\n",
       "25%         0.891559\n",
       "50%         0.891559\n",
       "75%         0.891559\n",
       "max         0.992838"
      ]
     },
     "execution_count": 11,
     "metadata": {},
     "output_type": "execute_result"
    }
   ],
   "source": [
    "# Use the model to generate predictions\n",
    "\n",
    "predictions = model.predict_proba(X_submission)[:,1]\n",
    "\n",
    "# Save the predictions to a CSV file\n",
    "output = pd.DataFrame({\"ID\": X_submission.index,\n",
    "                       \"Pred\": predictions})\n",
    "output.to_csv(\"submission.csv\", index=False)\n",
    "print(output.shape)\n",
    "output.describe()"
   ]
  },
  {
   "cell_type": "code",
   "execution_count": null,
   "id": "782f56a4",
   "metadata": {
    "papermill": {
     "duration": 0.011632,
     "end_time": "2023-03-15T15:50:55.427675",
     "exception": false,
     "start_time": "2023-03-15T15:50:55.416043",
     "status": "completed"
    },
    "tags": []
   },
   "outputs": [],
   "source": []
  }
 ],
 "metadata": {
  "kernelspec": {
   "display_name": "Python 3",
   "language": "python",
   "name": "python3"
  },
  "language_info": {
   "codemirror_mode": {
    "name": "ipython",
    "version": 3
   },
   "file_extension": ".py",
   "mimetype": "text/x-python",
   "name": "python",
   "nbconvert_exporter": "python",
   "pygments_lexer": "ipython3",
   "version": "3.7.12"
  },
  "papermill": {
   "default_parameters": {},
   "duration": 87.129468,
   "end_time": "2023-03-15T15:50:57.852324",
   "environment_variables": {},
   "exception": null,
   "input_path": "__notebook__.ipynb",
   "output_path": "__notebook__.ipynb",
   "parameters": {},
   "start_time": "2023-03-15T15:49:30.722856",
   "version": "2.4.0"
  }
 },
 "nbformat": 4,
 "nbformat_minor": 5
}
