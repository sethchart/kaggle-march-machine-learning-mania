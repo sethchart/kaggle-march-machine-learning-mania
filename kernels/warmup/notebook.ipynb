{
 "cells": [
  {
   "cell_type": "markdown",
   "id": "08f3d3e8",
   "metadata": {
    "papermill": {
     "duration": 0.005168,
     "end_time": "2023-03-15T21:16:24.664589",
     "exception": false,
     "start_time": "2023-03-15T21:16:24.659421",
     "status": "completed"
    },
    "tags": []
   },
   "source": [
    "# Imports and Utilities"
   ]
  },
  {
   "cell_type": "code",
   "execution_count": 1,
   "id": "1f86de57",
   "metadata": {
    "execution": {
     "iopub.execute_input": "2023-03-15T21:16:24.675554Z",
     "iopub.status.busy": "2023-03-15T21:16:24.674635Z",
     "iopub.status.idle": "2023-03-15T21:16:26.065604Z",
     "shell.execute_reply": "2023-03-15T21:16:26.064608Z"
    },
    "papermill": {
     "duration": 1.399451,
     "end_time": "2023-03-15T21:16:26.068259",
     "exception": false,
     "start_time": "2023-03-15T21:16:24.668808",
     "status": "completed"
    },
    "tags": []
   },
   "outputs": [],
   "source": [
    "from typing import List, Tuple\n",
    "import numpy as np\n",
    "import pandas as pd\n",
    "from IPython.display import Markdown\n",
    "import optuna\n",
    "from xgboost import XGBClassifier\n",
    "from sklearn.metrics import roc_auc_score, brier_score_loss\n",
    "from sklearn.model_selection import cross_val_score\n",
    "\n",
    "COMPETITION_NAME = \"warmup-round-march-machine-learning-mania-2023\"\n",
    "VERBOSE = False\n",
    "SCORING = \"neg_brier_score\"\n",
    "\n",
    "pd.set_option(\"display.max_columns\", None)\n",
    "\n",
    "def show_df(df: pd.DataFrame, name: str = \"DataFrame\", verbose: bool = VERBOSE):\n",
    "    if verbose:\n",
    "        display(Markdown(f\"## {name}\"))\n",
    "        display(Markdown(\"### Head\"))\n",
    "        display(df.head())\n",
    "        display(Markdown(\"### Tail\"))\n",
    "        display(df.tail())\n",
    "        display(Markdown(\"### Description\"))\n",
    "        display(df.describe())\n",
    "\n",
    "\n",
    "def extract_data(filename: str, competition_name:str = COMPETITION_NAME) -> pd.DataFrame:\n",
    "    mens_filepath = f\"/kaggle/input/{competition_name}/M{filename}.csv\"\n",
    "    womens_filepath = f\"/kaggle/input/{competition_name}/W{filename}.csv\"\n",
    "    try:\n",
    "        df_mens = pd.read_csv(mens_filepath)\n",
    "    except FileNotFoundError:\n",
    "        df_mens = None\n",
    "    try:\n",
    "        df_womens = pd.read_csv(womens_filepath)\n",
    "    except FileNotFoundError:\n",
    "        df_womens = None\n",
    "    df = pd.concat([df_mens, df_womens])\n",
    "    show_df(df, filename)\n",
    "    return df\n",
    "\n",
    "\n",
    "def get_team_features(detailed_results: pd.DataFrame) -> pd.DataFrame:\n",
    "    df = detailed_results.copy()\n",
    "    df = clean_detailed_results(df)\n",
    "    df = transform_game_to_team(df)\n",
    "    df = transform_team_results(df)\n",
    "    show_df(df)\n",
    "    return df\n",
    "\n",
    "\n",
    "def get_seed_features(df_in: pd.DataFrame) -> pd.DataFrame:\n",
    "    df = df_in.copy()\n",
    "    mask = df[\"Season\"] > 2002\n",
    "    df = df[mask]\n",
    "    df[\"Seed\"] = df[\"Seed\"].str.replace(r\"\\D+\",\"\", regex=True)\n",
    "    df[\"Seed\"] = df[\"Seed\"].astype(int)\n",
    "    show_df(df)\n",
    "    return df\n",
    "\n",
    "\n",
    "def get_ranking_features(df_in:pd.DataFrame) -> pd.DataFrame:\n",
    "    df = df_in.copy()\n",
    "    mask = df[\"RankingDayNum\"] == df[\"RankingDayNum\"].max()\n",
    "    df = df[mask]\n",
    "    df.drop([\"SystemName\", \"RankingDayNum\"], axis=1, inplace=True)\n",
    "    df = df.groupby([\"Season\", \"TeamID\"]).agg(\"median\")\n",
    "    df = df.reset_index()\n",
    "    show_df(df)\n",
    "    return df\n",
    "\n",
    "\n",
    "def get_game_outcomes(df):\n",
    "    input_rows = df.to_records()\n",
    "    output_rows = []\n",
    "    for input_row in input_rows:\n",
    "        output_rows.extend(parse_row(input_row))\n",
    "    out_df = pd.DataFrame(output_rows)\n",
    "    return out_df\n",
    "\n",
    "def parse_row(row):\n",
    "    season = row['Season']\n",
    "    winning_team_id = row['WTeamID']\n",
    "    losing_team_id = row['LTeamID']\n",
    "    if winning_team_id < losing_team_id:\n",
    "        small_id = winning_team_id\n",
    "        big_id = losing_team_id\n",
    "        outcome = True\n",
    "    elif losing_team_id < winning_team_id:\n",
    "        small_id = losing_team_id\n",
    "        big_id = winning_team_id\n",
    "        outcome = False\n",
    "    records = [\n",
    "        {\n",
    "            \"ID\": f\"{season}_{small_id}_{big_id}\",\n",
    "            'Season': season,\n",
    "            'LowID': small_id,\n",
    "            'HighID': big_id,\n",
    "            'Win': outcome\n",
    "        },\n",
    "        {\n",
    "            \"ID\": f\"{season}_{big_id}_{small_id}\",\n",
    "            'Season': season,\n",
    "            'LowID': big_id,\n",
    "            'HighID': small_id,\n",
    "            'Win': not outcome\n",
    "        },\n",
    "    ]\n",
    "    return records\n",
    "\n",
    "\n",
    "def clean_detailed_results(df: pd.DataFrame) -> pd.DataFrame:\n",
    "    return df.drop([\"WLoc\", \"DayNum\"], axis=1)\n",
    "\n",
    "\n",
    "def transform_game_to_team(game_results: pd.DataFrame) -> pd.DataFrame:\n",
    "    winners = rename_columns(game_results, \"W\")\n",
    "    loosers = rename_columns(game_results, \"L\")\n",
    "    team_results = pd.concat((winners, loosers))\n",
    "    team_results.drop([\"TeamIDOpp\"], axis=1, inplace=True)\n",
    "    return team_results\n",
    "\n",
    "\n",
    "def transform_team_results(df: pd.DataFrame) -> pd.DataFrame:\n",
    "    df = df.groupby([\"Season\", \"TeamID\"]).median()\n",
    "    df[\"FGP\"] =  df[\"FGM\"] / df[\"FGA\"]\n",
    "    df[\"FGP3\"] =  df[\"FGM3\"] / df[\"FGA3\"]\n",
    "    df[\"FTP\"] =  df[\"FTM\"] / df[\"FTA\"]\n",
    "    df[\"FGPOpp\"] =  df[\"FGMOpp\"] / df[\"FGAOpp\"]\n",
    "    df[\"FGP3Opp\"] =  df[\"FGM3Opp\"] / df[\"FGA3Opp\"]\n",
    "    df[\"FTPOpp\"] =  df[\"FTMOpp\"] / df[\"FTAOpp\"]\n",
    "    return df.reset_index()\n",
    "    \n",
    "    \n",
    "def rename_columns(df: pd.DataFrame, team_prefix: str) -> pd.DataFrame:\n",
    "    df = df.copy()\n",
    "    df.columns =  (rename_column(column_name, team_prefix) for column_name in df.columns)\n",
    "    return df\n",
    "\n",
    "\n",
    "def rename_column(column_name: str, team_prefix: str) -> pd.DataFrame:\n",
    "    if team_prefix == \"W\":\n",
    "        opponent_prefix = \"L\"\n",
    "    elif team_prefix == \"L\":\n",
    "        opponent_prefix = \"W\"\n",
    "    else:\n",
    "        raise ValueError\n",
    "    if column_name.startswith(team_prefix):\n",
    "        column_name = column_name.lstrip(team_prefix)\n",
    "    elif column_name.startswith(opponent_prefix):\n",
    "        column_name = f\"{column_name.lstrip(opponent_prefix)}Opp\"\n",
    "    return column_name\n",
    "\n",
    "\n",
    "def split_winner_and_looser_columns(df: pd.DataFrame) -> Tuple[List[str], List[str]]:\n",
    "    winner_columns = [name for name in df.columns if not name.startswith(\"L\")]\n",
    "    looser_columns = [name for name in df.columns if not name.startswith(\"W\")]\n",
    "    return winner_columns, looser_columns\n",
    "\n",
    "\n",
    "def merge_features(\n",
    "    season_features: pd.DataFrame, \n",
    "    tournament_features: pd.DataFrame, \n",
    "    seed_features: pd.DataFrame, \n",
    "    ranking_features: pd.DataFrame\n",
    ") -> pd.DataFrame:\n",
    "    features = pd.merge(\n",
    "        season_features,\n",
    "        tournament_features,\n",
    "        how=\"inner\",\n",
    "        on=[\"Season\", \"TeamID\"],\n",
    "        suffixes=(\"Reg\", \"Tou\")\n",
    "    )\n",
    "    features = features.merge(\n",
    "        seed_features,\n",
    "        how=\"inner\",\n",
    "        on=[\"Season\", \"TeamID\"]\n",
    "    )\n",
    "    features = features.merge(\n",
    "        ranking_features,\n",
    "        how=\"left\",\n",
    "        on=[\"Season\", \"TeamID\"],\n",
    "    )\n",
    "    show_df(features)\n",
    "    return features\n",
    "\n",
    "\n",
    "def merge_outcomes_with_features(outcomes: pd.DataFrame, features: pd.DataFrame, how: str = \"inner\") -> pd.DataFrame:\n",
    "    feature_names = [name for name in features.columns if name not in [\"Season\", \"TeamID\", \"Gender\"]]\n",
    "    data = pd.merge(\n",
    "        outcomes, \n",
    "        features, \n",
    "        how=how, \n",
    "        left_on=[\"Season\", \"HighID\"], \n",
    "        right_on=[\"Season\", \"TeamID\"]\n",
    "    )\n",
    "    data = pd.merge(\n",
    "        data, \n",
    "        features, \n",
    "        how=how, \n",
    "        left_on=[\"Season\", \"LowID\"], \n",
    "        right_on=[\"Season\", \"TeamID\"],\n",
    "        suffixes=(\"High\", \"Low\")\n",
    "    )\n",
    "    for name in feature_names:\n",
    "        data[f\"{name}Diff\"] = data[f\"{name}High\"] - data[f\"{name}Low\"]\n",
    "        data.drop([f\"{name}High\", f\"{name}Low\"], axis=1, inplace=True)\n",
    "    data.drop(\n",
    "        [\"Season\", \"HighID\", \"LowID\",\"TeamIDHigh\",\"TeamIDLow\"], \n",
    "        axis=1, \n",
    "        inplace=True\n",
    "    )\n",
    "    data.set_index(\"ID\", inplace=True)\n",
    "    show_df(data)\n",
    "    return data\n",
    "\n",
    "\n",
    "def get_submission_outcomes() -> pd.DataFrame:\n",
    "    sample_submission = pd.read_csv(f\"/kaggle/input/{COMPETITION_NAME}/SampleSubmissionWarmup.csv\")\n",
    "    df = sample_submission.copy()\n",
    "    df.drop(\"Pred\", axis=1, inplace=True)\n",
    "    df[[\"Season\", \"LowID\", \"HighID\"]] = df[\"ID\"].str.split(\"_\", expand=True)\n",
    "    df[[\"Season\", \"LowID\", \"HighID\"]] = df[[\"Season\", \"LowID\", \"HighID\"]].astype(int)\n",
    "    show_df(df)\n",
    "    return df\n",
    "\n",
    "\n",
    "def objective(trial: optuna.Trial, X_train, y_train, scoring = SCORING):\n",
    "    params = {\n",
    "        \"booster\": trial.suggest_categorical(\"booster\", [\"gbtree\", \"gblinear\", \"dart\"]),\n",
    "        # L2 regularization weight.\n",
    "        \"lambda\": trial.suggest_float(\"lambda\", 1e-8, 1.0, log=True),\n",
    "        # L1 regularization weight.\n",
    "        \"alpha\": trial.suggest_float(\"alpha\", 1e-8, 1.0, log=True),\n",
    "        # sampling ratio for training data.\n",
    "        \"subsample\": trial.suggest_float(\"subsample\", 0.2, 1.0),\n",
    "        # sampling according to each tree.\n",
    "        \"colsample_bytree\": trial.suggest_float(\"colsample_bytree\", 0.2, 1.0),\n",
    "    }\n",
    "\n",
    "    if params[\"booster\"] in [\"gbtree\", \"dart\"]:\n",
    "        # maximum depth of the tree, signifies complexity of the tree.\n",
    "        params[\"max_depth\"] = trial.suggest_int(\"max_depth\", 3, 9, step=2)\n",
    "        # minimum child weight, larger the term more conservative the tree.\n",
    "        params[\"min_child_weight\"] = trial.suggest_int(\"min_child_weight\", 2, 10)\n",
    "        params[\"eta\"] = trial.suggest_float(\"eta\", 1e-8, 1.0, log=True)\n",
    "        # defines how selective algorithm is.\n",
    "        params[\"gamma\"] = trial.suggest_float(\"gamma\", 1e-8, 1.0, log=True)\n",
    "        params[\"grow_policy\"] = trial.suggest_categorical(\"grow_policy\", [\"depthwise\", \"lossguide\"])\n",
    "\n",
    "    if params[\"booster\"] == \"dart\":\n",
    "        params[\"sample_type\"] = trial.suggest_categorical(\"sample_type\", [\"uniform\", \"weighted\"])\n",
    "        params[\"normalize_type\"] = trial.suggest_categorical(\"normalize_type\", [\"tree\", \"forest\"])\n",
    "        params[\"rate_drop\"] = trial.suggest_float(\"rate_drop\", 1e-8, 1.0, log=True)\n",
    "        params[\"skip_drop\"] = trial.suggest_float(\"skip_drop\", 1e-8, 1.0, log=True)\n",
    "\n",
    "    model = train_model(params, X_train, y_train, scoring)\n",
    "    score = np.mean(cross_val_score(model, X_train, y_train, scoring=scoring, cv=5))\n",
    "    return score\n",
    "\n",
    "\n",
    "def run_study(X_train, y_train):\n",
    "    study = optuna.create_study(direction=\"maximize\")\n",
    "    study.optimize(lambda trial: objective(trial, X_train, y_train), n_trials=100)\n",
    "    return study\n",
    "\n",
    "\n",
    "def train_model(params, X, y, scoring):\n",
    "    model = XGBClassifier(\n",
    "        objective=\"binary:logistic\",\n",
    "        tree_method=\"exact\",\n",
    "        verbosity=0,\n",
    "        boosting_type=\"gbdt\",\n",
    "        **params\n",
    "    )\n",
    "    model = model.fit(X, y)\n",
    "    return model"
   ]
  },
  {
   "cell_type": "markdown",
   "id": "6bce603f",
   "metadata": {
    "papermill": {
     "duration": 0.003636,
     "end_time": "2023-03-15T21:16:26.076026",
     "exception": false,
     "start_time": "2023-03-15T21:16:26.072390",
     "status": "completed"
    },
    "tags": []
   },
   "source": [
    "# Load Data"
   ]
  },
  {
   "cell_type": "code",
   "execution_count": 2,
   "id": "16737d8a",
   "metadata": {
    "execution": {
     "iopub.execute_input": "2023-03-15T21:16:26.084912Z",
     "iopub.status.busy": "2023-03-15T21:16:26.084592Z",
     "iopub.status.idle": "2023-03-15T21:16:29.484745Z",
     "shell.execute_reply": "2023-03-15T21:16:29.483697Z"
    },
    "papermill": {
     "duration": 3.407723,
     "end_time": "2023-03-15T21:16:29.487569",
     "exception": false,
     "start_time": "2023-03-15T21:16:26.079846",
     "status": "completed"
    },
    "tags": []
   },
   "outputs": [],
   "source": [
    "season_results = extract_data(\"RegularSeasonDetailedResults\")\n",
    "tournament_results = extract_data(\"NCAATourneyDetailedResults\")\n",
    "seeds = extract_data(\"NCAATourneySeeds\")\n",
    "rankings = extract_data(\"MasseyOrdinals\")"
   ]
  },
  {
   "cell_type": "markdown",
   "id": "657f7048",
   "metadata": {
    "papermill": {
     "duration": 0.003721,
     "end_time": "2023-03-15T21:16:29.495570",
     "exception": false,
     "start_time": "2023-03-15T21:16:29.491849",
     "status": "completed"
    },
    "tags": []
   },
   "source": [
    "# Transform Data"
   ]
  },
  {
   "cell_type": "code",
   "execution_count": 3,
   "id": "554bbc7d",
   "metadata": {
    "execution": {
     "iopub.execute_input": "2023-03-15T21:16:29.505253Z",
     "iopub.status.busy": "2023-03-15T21:16:29.504682Z",
     "iopub.status.idle": "2023-03-15T21:16:30.331965Z",
     "shell.execute_reply": "2023-03-15T21:16:30.330935Z"
    },
    "papermill": {
     "duration": 0.83477,
     "end_time": "2023-03-15T21:16:30.334537",
     "exception": false,
     "start_time": "2023-03-15T21:16:29.499767",
     "status": "completed"
    },
    "tags": []
   },
   "outputs": [],
   "source": [
    "season_team_features = get_team_features(season_results)\n",
    "\n",
    "tournament_results[\"Season\"] += 1\n",
    "tournament_team_features = get_team_features(tournament_results)\n",
    "\n",
    "seed_features = get_seed_features(seeds)\n",
    "\n",
    "ranking_features = get_ranking_features(rankings)"
   ]
  },
  {
   "cell_type": "markdown",
   "id": "8bcf5336",
   "metadata": {
    "execution": {
     "iopub.execute_input": "2022-03-17T02:19:13.394565Z",
     "iopub.status.busy": "2022-03-17T02:19:13.394252Z",
     "iopub.status.idle": "2022-03-17T02:19:13.39899Z",
     "shell.execute_reply": "2022-03-17T02:19:13.397787Z",
     "shell.execute_reply.started": "2022-03-17T02:19:13.394538Z"
    },
    "papermill": {
     "duration": 0.003977,
     "end_time": "2023-03-15T21:16:30.342729",
     "exception": false,
     "start_time": "2023-03-15T21:16:30.338752",
     "status": "completed"
    },
    "tags": []
   },
   "source": [
    "## Merge features"
   ]
  },
  {
   "cell_type": "code",
   "execution_count": 4,
   "id": "28ba21b2",
   "metadata": {
    "execution": {
     "iopub.execute_input": "2023-03-15T21:16:30.352507Z",
     "iopub.status.busy": "2023-03-15T21:16:30.351577Z",
     "iopub.status.idle": "2023-03-15T21:16:30.374360Z",
     "shell.execute_reply": "2023-03-15T21:16:30.373393Z"
    },
    "papermill": {
     "duration": 0.030041,
     "end_time": "2023-03-15T21:16:30.376768",
     "exception": false,
     "start_time": "2023-03-15T21:16:30.346727",
     "status": "completed"
    },
    "tags": []
   },
   "outputs": [],
   "source": [
    "features = merge_features(season_team_features, tournament_team_features, seed_features, ranking_features)"
   ]
  },
  {
   "cell_type": "markdown",
   "id": "38015eff",
   "metadata": {
    "papermill": {
     "duration": 0.003722,
     "end_time": "2023-03-15T21:16:30.384627",
     "exception": false,
     "start_time": "2023-03-15T21:16:30.380905",
     "status": "completed"
    },
    "tags": []
   },
   "source": [
    "## Build Datasets"
   ]
  },
  {
   "cell_type": "code",
   "execution_count": 5,
   "id": "de928c42",
   "metadata": {
    "execution": {
     "iopub.execute_input": "2023-03-15T21:16:30.393434Z",
     "iopub.status.busy": "2023-03-15T21:16:30.393137Z",
     "iopub.status.idle": "2023-03-15T21:16:33.021930Z",
     "shell.execute_reply": "2023-03-15T21:16:33.020853Z"
    },
    "papermill": {
     "duration": 2.636131,
     "end_time": "2023-03-15T21:16:33.024566",
     "exception": false,
     "start_time": "2023-03-15T21:16:30.388435",
     "status": "completed"
    },
    "tags": []
   },
   "outputs": [],
   "source": [
    "from sklearn.model_selection import train_test_split\n",
    "\n",
    "data = extract_data(\"NCAATourneyCompactResults\")\n",
    "data_train, data_valid = train_test_split(data, random_state=0, test_size=0.1)\n",
    "\n",
    "outcomes = get_game_outcomes(data)\n",
    "outcomes_train = get_game_outcomes(data_train)\n",
    "outcomes_valid = get_game_outcomes(data_valid)\n",
    "outcomes_submission = get_submission_outcomes()"
   ]
  },
  {
   "cell_type": "code",
   "execution_count": 6,
   "id": "03f05037",
   "metadata": {
    "execution": {
     "iopub.execute_input": "2023-03-15T21:16:33.035397Z",
     "iopub.status.busy": "2023-03-15T21:16:33.033662Z",
     "iopub.status.idle": "2023-03-15T21:16:33.403232Z",
     "shell.execute_reply": "2023-03-15T21:16:33.402218Z"
    },
    "papermill": {
     "duration": 0.377453,
     "end_time": "2023-03-15T21:16:33.406151",
     "exception": false,
     "start_time": "2023-03-15T21:16:33.028698",
     "status": "completed"
    },
    "tags": []
   },
   "outputs": [],
   "source": [
    "features_train = merge_outcomes_with_features(outcomes_train, features)\n",
    "features_valid = merge_outcomes_with_features(outcomes_valid, features)\n",
    "features_full = merge_outcomes_with_features(outcomes, features)"
   ]
  },
  {
   "cell_type": "code",
   "execution_count": 7,
   "id": "aa84f3de",
   "metadata": {
    "execution": {
     "iopub.execute_input": "2023-03-15T21:16:33.415592Z",
     "iopub.status.busy": "2023-03-15T21:16:33.415285Z",
     "iopub.status.idle": "2023-03-15T21:17:13.659168Z",
     "shell.execute_reply": "2023-03-15T21:17:13.658064Z"
    },
    "papermill": {
     "duration": 40.251762,
     "end_time": "2023-03-15T21:17:13.662194",
     "exception": false,
     "start_time": "2023-03-15T21:16:33.410432",
     "status": "completed"
    },
    "tags": []
   },
   "outputs": [],
   "source": [
    "y_train = features_train[\"Win\"]\n",
    "X_train = features_train.drop(\"Win\", axis=1)\n",
    "y_valid = features_valid[\"Win\"]\n",
    "X_valid = features_valid.drop(\"Win\", axis=1)\n",
    "y = features_full[\"Win\"]\n",
    "X = features_full.drop(\"Win\", axis=1)\n",
    "X_submission = merge_outcomes_with_features(outcomes_submission, features, how=\"left\").fillna(0)"
   ]
  },
  {
   "cell_type": "markdown",
   "id": "b9a60686",
   "metadata": {
    "papermill": {
     "duration": 0.003662,
     "end_time": "2023-03-15T21:17:13.670155",
     "exception": false,
     "start_time": "2023-03-15T21:17:13.666493",
     "status": "completed"
    },
    "tags": []
   },
   "source": [
    "# Step 4: Train a model\n"
   ]
  },
  {
   "cell_type": "code",
   "execution_count": 8,
   "id": "8cc6356d",
   "metadata": {
    "execution": {
     "iopub.execute_input": "2023-03-15T21:17:13.679045Z",
     "iopub.status.busy": "2023-03-15T21:17:13.678708Z",
     "iopub.status.idle": "2023-03-15T21:20:27.836825Z",
     "shell.execute_reply": "2023-03-15T21:20:27.835954Z"
    },
    "papermill": {
     "duration": 194.165302,
     "end_time": "2023-03-15T21:20:27.839338",
     "exception": false,
     "start_time": "2023-03-15T21:17:13.674036",
     "status": "completed"
    },
    "tags": []
   },
   "outputs": [
    {
     "name": "stderr",
     "output_type": "stream",
     "text": [
      "\u001b[32m[I 2023-03-15 21:17:13,680]\u001b[0m A new study created in memory with name: no-name-84959c42-f06e-4607-a5c9-0edc668c0c64\u001b[0m\n",
      "\u001b[32m[I 2023-03-15 21:17:17,274]\u001b[0m Trial 0 finished with value: -0.18436793914080465 and parameters: {'booster': 'gblinear', 'lambda': 0.0007808235142254476, 'alpha': 1.6764342908228002e-06, 'subsample': 0.6733468099980227, 'colsample_bytree': 0.7732725915449945}. Best is trial 0 with value: -0.18436793914080465.\u001b[0m\n",
      "\u001b[32m[I 2023-03-15 21:17:20,128]\u001b[0m Trial 1 finished with value: -0.2499628712667447 and parameters: {'booster': 'gbtree', 'lambda': 0.9335026651231206, 'alpha': 2.9284996122663118e-05, 'subsample': 0.35558949285918806, 'colsample_bytree': 0.7607455650139769, 'max_depth': 9, 'min_child_weight': 10, 'eta': 3.8085640485682234e-06, 'gamma': 1.5588536185739438e-05, 'grow_policy': 'lossguide'}. Best is trial 0 with value: -0.18436793914080465.\u001b[0m\n",
      "\u001b[32m[I 2023-03-15 21:17:32,350]\u001b[0m Trial 2 finished with value: -0.24656607858755736 and parameters: {'booster': 'dart', 'lambda': 2.303071448018908e-08, 'alpha': 0.0005960539845107224, 'subsample': 0.4455171764279182, 'colsample_bytree': 0.3571217208681898, 'max_depth': 9, 'min_child_weight': 4, 'eta': 0.0003994059074253721, 'gamma': 1.1376308086288683e-06, 'grow_policy': 'lossguide', 'sample_type': 'uniform', 'normalize_type': 'tree', 'rate_drop': 0.0009937424663759244, 'skip_drop': 0.024765797654805057}. Best is trial 0 with value: -0.18436793914080465.\u001b[0m\n",
      "\u001b[32m[I 2023-03-15 21:17:48,155]\u001b[0m Trial 3 finished with value: -0.2498493560998364 and parameters: {'booster': 'dart', 'lambda': 0.004230670624991543, 'alpha': 0.12673375207334994, 'subsample': 0.7674634192822063, 'colsample_bytree': 0.9594713631833298, 'max_depth': 9, 'min_child_weight': 2, 'eta': 1.2966432863647847e-05, 'gamma': 2.2600002547093172e-05, 'grow_policy': 'lossguide', 'sample_type': 'uniform', 'normalize_type': 'forest', 'rate_drop': 1.669267055353458e-08, 'skip_drop': 0.001197918495110946}. Best is trial 0 with value: -0.18436793914080465.\u001b[0m\n",
      "\u001b[32m[I 2023-03-15 21:17:58,204]\u001b[0m Trial 4 finished with value: -0.24999604189124874 and parameters: {'booster': 'dart', 'lambda': 0.000995376467198335, 'alpha': 3.366213928743688e-06, 'subsample': 0.40284031824346855, 'colsample_bytree': 0.507379022586032, 'max_depth': 7, 'min_child_weight': 4, 'eta': 4.123765210676137e-07, 'gamma': 9.641252103531774e-07, 'grow_policy': 'lossguide', 'sample_type': 'uniform', 'normalize_type': 'forest', 'rate_drop': 0.44737548160447016, 'skip_drop': 0.2652748319849276}. Best is trial 0 with value: -0.18436793914080465.\u001b[0m\n",
      "\u001b[32m[I 2023-03-15 21:17:58,684]\u001b[0m Trial 5 finished with value: -0.18438852731270894 and parameters: {'booster': 'gblinear', 'lambda': 0.0003012877598705555, 'alpha': 8.883967873428299e-08, 'subsample': 0.49398738269081016, 'colsample_bytree': 0.30168217153386795}. Best is trial 0 with value: -0.18436793914080465.\u001b[0m\n",
      "\u001b[32m[I 2023-03-15 21:18:09,733]\u001b[0m Trial 6 finished with value: -0.2499998188788668 and parameters: {'booster': 'dart', 'lambda': 0.0009625121488359371, 'alpha': 4.467553592485206e-06, 'subsample': 0.9849447472079849, 'colsample_bytree': 0.43648977775825853, 'max_depth': 3, 'min_child_weight': 8, 'eta': 2.023628837883944e-08, 'gamma': 3.085429678449782e-06, 'grow_policy': 'lossguide', 'sample_type': 'weighted', 'normalize_type': 'forest', 'rate_drop': 0.02179683656502063, 'skip_drop': 0.10775279729687028}. Best is trial 0 with value: -0.18436793914080465.\u001b[0m\n",
      "\u001b[32m[I 2023-03-15 21:18:22,889]\u001b[0m Trial 7 finished with value: -0.24844308718488187 and parameters: {'booster': 'dart', 'lambda': 0.0004167729512692655, 'alpha': 1.3902101303182463e-05, 'subsample': 0.7323767691203591, 'colsample_bytree': 0.5344777968883769, 'max_depth': 5, 'min_child_weight': 4, 'eta': 0.00015558508564869215, 'gamma': 4.6846274533958265e-06, 'grow_policy': 'depthwise', 'sample_type': 'uniform', 'normalize_type': 'forest', 'rate_drop': 0.0003041893372535832, 'skip_drop': 1.1986304538599571e-08}. Best is trial 0 with value: -0.18436793914080465.\u001b[0m\n",
      "\u001b[32m[I 2023-03-15 21:18:23,376]\u001b[0m Trial 8 finished with value: -0.18436740380024724 and parameters: {'booster': 'gblinear', 'lambda': 0.12411295234158101, 'alpha': 0.00030285635422421225, 'subsample': 0.9510159745966917, 'colsample_bytree': 0.25147848491319835}. Best is trial 8 with value: -0.18436740380024724.\u001b[0m\n",
      "\u001b[32m[I 2023-03-15 21:18:23,873]\u001b[0m Trial 9 finished with value: -0.18435787868521966 and parameters: {'booster': 'gblinear', 'lambda': 0.0002843437507854242, 'alpha': 0.0003941329538168354, 'subsample': 0.8572974768014823, 'colsample_bytree': 0.3630729377610624}. Best is trial 9 with value: -0.18435787868521966.\u001b[0m\n",
      "\u001b[32m[I 2023-03-15 21:18:24,530]\u001b[0m Trial 10 finished with value: -0.32207524894053025 and parameters: {'booster': 'gbtree', 'lambda': 3.1467805054048275e-06, 'alpha': 0.01200110212772731, 'subsample': 0.20733771027512582, 'colsample_bytree': 0.20451584539937112, 'max_depth': 3, 'min_child_weight': 7, 'eta': 0.8000203018192225, 'gamma': 0.19891541251969416, 'grow_policy': 'depthwise'}. Best is trial 9 with value: -0.18435787868521966.\u001b[0m\n",
      "\u001b[32m[I 2023-03-15 21:18:25,445]\u001b[0m Trial 11 finished with value: -0.18434441866609935 and parameters: {'booster': 'gblinear', 'lambda': 0.0821845996602583, 'alpha': 0.0007233267834773797, 'subsample': 0.9790579185127423, 'colsample_bytree': 0.22056717343109927}. Best is trial 11 with value: -0.18434441866609935.\u001b[0m\n",
      "\u001b[32m[I 2023-03-15 21:18:25,938]\u001b[0m Trial 12 finished with value: -0.1843636330888845 and parameters: {'booster': 'gblinear', 'lambda': 0.03017200492473368, 'alpha': 0.002486219798888835, 'subsample': 0.8580760992662997, 'colsample_bytree': 0.35758970812083424}. Best is trial 11 with value: -0.18434441866609935.\u001b[0m\n",
      "\u001b[32m[I 2023-03-15 21:18:26,432]\u001b[0m Trial 13 finished with value: -0.18434955939098666 and parameters: {'booster': 'gblinear', 'lambda': 2.1881454188607293e-05, 'alpha': 0.029671436248591514, 'subsample': 0.8821453042031945, 'colsample_bytree': 0.20040699007057622}. Best is trial 11 with value: -0.18434441866609935.\u001b[0m\n",
      "\u001b[32m[I 2023-03-15 21:18:26,916]\u001b[0m Trial 14 finished with value: -0.18435274853995887 and parameters: {'booster': 'gblinear', 'lambda': 1.9255004012008883e-05, 'alpha': 0.25521877363716444, 'subsample': 0.9914852894338493, 'colsample_bytree': 0.20164905028834743}. Best is trial 11 with value: -0.18434441866609935.\u001b[0m\n",
      "\u001b[32m[I 2023-03-15 21:18:27,418]\u001b[0m Trial 15 finished with value: -0.18435800812673953 and parameters: {'booster': 'gblinear', 'lambda': 1.8385911636193148e-05, 'alpha': 0.023153498680199492, 'subsample': 0.857584753242752, 'colsample_bytree': 0.29422691738089013}. Best is trial 11 with value: -0.18434441866609935.\u001b[0m\n",
      "\u001b[32m[I 2023-03-15 21:18:27,887]\u001b[0m Trial 16 finished with value: -0.1843570964090473 and parameters: {'booster': 'gblinear', 'lambda': 0.01009424215033757, 'alpha': 0.8004853796719591, 'subsample': 0.5953001745729061, 'colsample_bytree': 0.4446079478849639}. Best is trial 11 with value: -0.18434441866609935.\u001b[0m\n",
      "\u001b[32m[I 2023-03-15 21:18:29,047]\u001b[0m Trial 17 finished with value: -0.20021012537502764 and parameters: {'booster': 'gbtree', 'lambda': 0.6383540019785086, 'alpha': 0.005548584297568984, 'subsample': 0.9044894954764269, 'colsample_bytree': 0.21402757120771684, 'max_depth': 5, 'min_child_weight': 10, 'eta': 0.016824164942820425, 'gamma': 1.398741162780787e-08, 'grow_policy': 'depthwise'}. Best is trial 11 with value: -0.18434441866609935.\u001b[0m\n",
      "\u001b[32m[I 2023-03-15 21:18:29,539]\u001b[0m Trial 18 finished with value: -0.18435974678435638 and parameters: {'booster': 'gblinear', 'lambda': 0.10196289217985743, 'alpha': 0.060664009603698194, 'subsample': 0.7903642701542652, 'colsample_bytree': 0.2940572164286851}. Best is trial 11 with value: -0.18434441866609935.\u001b[0m\n",
      "\u001b[32m[I 2023-03-15 21:18:30,027]\u001b[0m Trial 19 finished with value: -0.18434938452762278 and parameters: {'booster': 'gblinear', 'lambda': 0.006969416813838342, 'alpha': 0.002299972128171188, 'subsample': 0.9169745435772798, 'colsample_bytree': 0.38895078939934336}. Best is trial 11 with value: -0.18434441866609935.\u001b[0m\n",
      "\u001b[32m[I 2023-03-15 21:18:32,709]\u001b[0m Trial 20 finished with value: -0.24999985469477498 and parameters: {'booster': 'gbtree', 'lambda': 0.01000330438324161, 'alpha': 9.387824350991221e-05, 'subsample': 0.9973514642752788, 'colsample_bytree': 0.4164643142154329, 'max_depth': 7, 'min_child_weight': 2, 'eta': 1.502914637808944e-08, 'gamma': 0.027693330254683714, 'grow_policy': 'depthwise'}. Best is trial 11 with value: -0.18434441866609935.\u001b[0m\n",
      "\u001b[32m[I 2023-03-15 21:18:33,195]\u001b[0m Trial 21 finished with value: -0.18435195704810076 and parameters: {'booster': 'gblinear', 'lambda': 0.0054878671314328425, 'alpha': 0.0018379715806510167, 'subsample': 0.9174111445535112, 'colsample_bytree': 0.27761324018994454}. Best is trial 11 with value: -0.18434441866609935.\u001b[0m\n",
      "\u001b[32m[I 2023-03-15 21:18:33,686]\u001b[0m Trial 22 finished with value: -0.1843490070335013 and parameters: {'booster': 'gblinear', 'lambda': 0.07164785715869101, 'alpha': 0.016480317075638004, 'subsample': 0.9135571345856413, 'colsample_bytree': 0.32933202241124165}. Best is trial 11 with value: -0.18434441866609935.\u001b[0m\n",
      "\u001b[32m[I 2023-03-15 21:18:34,216]\u001b[0m Trial 23 finished with value: -0.18435086396696945 and parameters: {'booster': 'gblinear', 'lambda': 0.07998503174749766, 'alpha': 0.004274866159594244, 'subsample': 0.8179057358690354, 'colsample_bytree': 0.3469250235951751}. Best is trial 11 with value: -0.18434441866609935.\u001b[0m\n",
      "\u001b[32m[I 2023-03-15 21:18:34,711]\u001b[0m Trial 24 finished with value: -0.18435796796879297 and parameters: {'booster': 'gblinear', 'lambda': 0.30406586391144125, 'alpha': 0.0010791386914710604, 'subsample': 0.9321192178954341, 'colsample_bytree': 0.40769193991913033}. Best is trial 11 with value: -0.18434441866609935.\u001b[0m\n",
      "\u001b[32m[I 2023-03-15 21:18:35,215]\u001b[0m Trial 25 finished with value: -0.1843631308901499 and parameters: {'booster': 'gblinear', 'lambda': 0.03222577040858594, 'alpha': 0.009108941444443339, 'subsample': 0.9299202848365715, 'colsample_bytree': 0.5013889543507765}. Best is trial 11 with value: -0.18434441866609935.\u001b[0m\n",
      "\u001b[32m[I 2023-03-15 21:18:36,132]\u001b[0m Trial 26 finished with value: -0.18434734205166642 and parameters: {'booster': 'gblinear', 'lambda': 0.16970811116911566, 'alpha': 0.00015937620638677632, 'subsample': 0.8247529724217268, 'colsample_bytree': 0.27901936671954014}. Best is trial 11 with value: -0.18434441866609935.\u001b[0m\n",
      "\u001b[32m[I 2023-03-15 21:18:36,640]\u001b[0m Trial 27 finished with value: -0.18434776056959729 and parameters: {'booster': 'gblinear', 'lambda': 0.2746086894493019, 'alpha': 0.00012396484069314523, 'subsample': 0.824442531082077, 'colsample_bytree': 0.27656308223642356}. Best is trial 11 with value: -0.18434441866609935.\u001b[0m\n",
      "\u001b[32m[I 2023-03-15 21:18:37,136]\u001b[0m Trial 28 finished with value: -0.184351481377047 and parameters: {'booster': 'gblinear', 'lambda': 0.33629767659154325, 'alpha': 0.00012336536791742825, 'subsample': 0.7215019556074473, 'colsample_bytree': 0.26585319055790196}. Best is trial 11 with value: -0.18434441866609935.\u001b[0m\n",
      "\u001b[32m[I 2023-03-15 21:18:38,445]\u001b[0m Trial 29 finished with value: -0.23074500248861782 and parameters: {'booster': 'gbtree', 'lambda': 0.3476760955992145, 'alpha': 9.804865051850345e-05, 'subsample': 0.6602100084687138, 'colsample_bytree': 0.2564510024135141, 'max_depth': 5, 'min_child_weight': 6, 'eta': 0.0032606268013042803, 'gamma': 0.0022347197093814187, 'grow_policy': 'depthwise'}. Best is trial 11 with value: -0.18434441866609935.\u001b[0m\n",
      "\u001b[32m[I 2023-03-15 21:18:38,931]\u001b[0m Trial 30 finished with value: -0.1843578513021795 and parameters: {'booster': 'gblinear', 'lambda': 0.78456969833709, 'alpha': 2.3881687275226602e-05, 'subsample': 0.7052563777284921, 'colsample_bytree': 0.5881485020722937}. Best is trial 11 with value: -0.18434441866609935.\u001b[0m\n",
      "\u001b[32m[I 2023-03-15 21:18:39,431]\u001b[0m Trial 31 finished with value: -0.18436793462554688 and parameters: {'booster': 'gblinear', 'lambda': 0.039503450419751084, 'alpha': 0.0003146511606200089, 'subsample': 0.8210004669914855, 'colsample_bytree': 0.3286746745555833}. Best is trial 11 with value: -0.18434441866609935.\u001b[0m\n",
      "\u001b[32m[I 2023-03-15 21:18:39,949]\u001b[0m Trial 32 finished with value: -0.18435677145653595 and parameters: {'booster': 'gblinear', 'lambda': 0.15932676199988424, 'alpha': 0.0010249393268584276, 'subsample': 0.7948312743403463, 'colsample_bytree': 0.32142005557213515}. Best is trial 11 with value: -0.18434441866609935.\u001b[0m\n",
      "\u001b[32m[I 2023-03-15 21:18:40,447]\u001b[0m Trial 33 finished with value: -0.18434488205886396 and parameters: {'booster': 'gblinear', 'lambda': 0.7002100067848319, 'alpha': 7.95021779787281e-05, 'subsample': 0.8709006068825632, 'colsample_bytree': 0.25989989439887407}. Best is trial 11 with value: -0.18434441866609935.\u001b[0m\n",
      "\u001b[32m[I 2023-03-15 21:18:40,942]\u001b[0m Trial 34 finished with value: -0.1843457450087998 and parameters: {'booster': 'gblinear', 'lambda': 0.6349586346473238, 'alpha': 5.583942537349811e-05, 'subsample': 0.8396103866575776, 'colsample_bytree': 0.688900007759629}. Best is trial 11 with value: -0.18434441866609935.\u001b[0m\n",
      "\u001b[32m[I 2023-03-15 21:18:53,784]\u001b[0m Trial 35 finished with value: -0.2856333332579496 and parameters: {'booster': 'dart', 'lambda': 0.819056576016571, 'alpha': 3.7634872559418984e-05, 'subsample': 0.7518268967926406, 'colsample_bytree': 0.6954902350772908, 'max_depth': 7, 'min_child_weight': 8, 'eta': 0.7111452710671818, 'gamma': 0.7351651723395943, 'grow_policy': 'lossguide', 'sample_type': 'weighted', 'normalize_type': 'tree', 'rate_drop': 1.1247913679489098e-06, 'skip_drop': 4.534278701107667e-06}. Best is trial 11 with value: -0.18434441866609935.\u001b[0m\n",
      "\u001b[32m[I 2023-03-15 21:18:54,284]\u001b[0m Trial 36 finished with value: -0.1843508029251934 and parameters: {'booster': 'gblinear', 'lambda': 0.90603896524443, 'alpha': 1.0956915922231647e-05, 'subsample': 0.8587100304545745, 'colsample_bytree': 0.6748915142774978}. Best is trial 11 with value: -0.18434441866609935.\u001b[0m\n",
      "\u001b[32m[I 2023-03-15 21:18:55,219]\u001b[0m Trial 37 finished with value: -0.24999722891770765 and parameters: {'booster': 'gbtree', 'lambda': 0.023101523692411557, 'alpha': 4.123232393777207e-07, 'subsample': 0.9594620321037685, 'colsample_bytree': 0.24652974263886204, 'max_depth': 3, 'min_child_weight': 6, 'eta': 4.2046692065318544e-07, 'gamma': 0.0005540654957024423, 'grow_policy': 'depthwise'}. Best is trial 11 with value: -0.18434441866609935.\u001b[0m\n",
      "\u001b[32m[I 2023-03-15 21:19:07,984]\u001b[0m Trial 38 finished with value: -0.20547960295949688 and parameters: {'booster': 'dart', 'lambda': 0.1624369785038516, 'alpha': 2.956067655540414e-06, 'subsample': 0.7627251819673356, 'colsample_bytree': 0.8239112398744617, 'max_depth': 5, 'min_child_weight': 9, 'eta': 0.007145501622167479, 'gamma': 0.01830293953656151, 'grow_policy': 'lossguide', 'sample_type': 'weighted', 'normalize_type': 'tree', 'rate_drop': 9.087340788633207e-06, 'skip_drop': 1.140628078467704e-05}. Best is trial 11 with value: -0.18434441866609935.\u001b[0m\n",
      "\u001b[32m[I 2023-03-15 21:19:08,477]\u001b[0m Trial 39 finished with value: -0.18436048644973607 and parameters: {'booster': 'gblinear', 'lambda': 0.06164878135878274, 'alpha': 0.000476990870931236, 'subsample': 0.9596274830620306, 'colsample_bytree': 0.3724517569189275}. Best is trial 11 with value: -0.18434441866609935.\u001b[0m\n",
      "\u001b[32m[I 2023-03-15 21:19:16,665]\u001b[0m Trial 40 finished with value: -0.24998513983524986 and parameters: {'booster': 'dart', 'lambda': 0.0023236499661271363, 'alpha': 5.028350453166054e-05, 'subsample': 0.7765582391521327, 'colsample_bytree': 0.46749580422788856, 'max_depth': 7, 'min_child_weight': 5, 'eta': 1.5825604719025843e-05, 'gamma': 0.0001874632943867614, 'grow_policy': 'depthwise', 'sample_type': 'weighted', 'normalize_type': 'tree', 'rate_drop': 0.7031253943347001, 'skip_drop': 0.0005408751852947394}. Best is trial 11 with value: -0.18434441866609935.\u001b[0m\n",
      "\u001b[32m[I 2023-03-15 21:19:17,163]\u001b[0m Trial 41 finished with value: -0.1843574680056175 and parameters: {'booster': 'gblinear', 'lambda': 0.27359295333688716, 'alpha': 0.00016807080653402786, 'subsample': 0.8344068698985668, 'colsample_bytree': 0.3041667482665988}. Best is trial 11 with value: -0.18434441866609935.\u001b[0m\n",
      "\u001b[32m[I 2023-03-15 21:19:17,656]\u001b[0m Trial 42 finished with value: -0.18436213663065032 and parameters: {'booster': 'gblinear', 'lambda': 0.2161093061888393, 'alpha': 1.3376633681187508e-05, 'subsample': 0.8158917791944269, 'colsample_bytree': 0.249432514967506}. Best is trial 11 with value: -0.18434441866609935.\u001b[0m\n",
      "\u001b[32m[I 2023-03-15 21:19:18,153]\u001b[0m Trial 43 finished with value: -0.18436229593432024 and parameters: {'booster': 'gblinear', 'lambda': 0.3993314097871583, 'alpha': 0.00023058908393400917, 'subsample': 0.8824452846211476, 'colsample_bytree': 0.23728577857291663}. Best is trial 11 with value: -0.18434441866609935.\u001b[0m\n",
      "\u001b[32m[I 2023-03-15 21:19:18,660]\u001b[0m Trial 44 finished with value: -0.18435985785551162 and parameters: {'booster': 'gblinear', 'lambda': 0.9234067996078686, 'alpha': 5.4082968271012463e-05, 'subsample': 0.8858379519626723, 'colsample_bytree': 0.39170888163973694}. Best is trial 11 with value: -0.18434441866609935.\u001b[0m\n",
      "\u001b[32m[I 2023-03-15 21:19:19,149]\u001b[0m Trial 45 finished with value: -0.18435973243284023 and parameters: {'booster': 'gblinear', 'lambda': 0.14491051762539406, 'alpha': 0.0006748737774267057, 'subsample': 0.9706255293822885, 'colsample_bytree': 0.28767082908645114}. Best is trial 11 with value: -0.18434441866609935.\u001b[0m\n",
      "\u001b[32m[I 2023-03-15 21:19:19,673]\u001b[0m Trial 46 finished with value: -0.1843440795516607 and parameters: {'booster': 'gblinear', 'lambda': 0.025018801139405907, 'alpha': 0.00017079438542480852, 'subsample': 0.855033592601709, 'colsample_bytree': 0.2358275486480474}. Best is trial 46 with value: -0.1843440795516607.\u001b[0m\n",
      "\u001b[32m[I 2023-03-15 21:19:20,550]\u001b[0m Trial 47 finished with value: -0.18436305828558153 and parameters: {'booster': 'gblinear', 'lambda': 0.01571884707333498, 'alpha': 0.0004583688030492778, 'subsample': 0.9514637699034117, 'colsample_bytree': 0.22929188496840805}. Best is trial 46 with value: -0.1843440795516607.\u001b[0m\n",
      "\u001b[32m[I 2023-03-15 21:19:32,344]\u001b[0m Trial 48 finished with value: -0.19441547745164361 and parameters: {'booster': 'dart', 'lambda': 0.035381863858925895, 'alpha': 2.040169481970843e-05, 'subsample': 0.9959912699641913, 'colsample_bytree': 0.20448424644674784, 'max_depth': 3, 'min_child_weight': 3, 'eta': 0.05506672505253959, 'gamma': 1.1991271612076523e-08, 'grow_policy': 'lossguide', 'sample_type': 'weighted', 'normalize_type': 'tree', 'rate_drop': 5.2499292202395994e-08, 'skip_drop': 2.4434772517862547e-08}. Best is trial 46 with value: -0.1843440795516607.\u001b[0m\n",
      "\u001b[32m[I 2023-03-15 21:19:32,846]\u001b[0m Trial 49 finished with value: -0.1843551710222293 and parameters: {'booster': 'gblinear', 'lambda': 0.05389135130413192, 'alpha': 6.35080098622198e-05, 'subsample': 0.8817018913835748, 'colsample_bytree': 0.35475979353460674}. Best is trial 46 with value: -0.1843440795516607.\u001b[0m\n",
      "\u001b[32m[I 2023-03-15 21:19:34,770]\u001b[0m Trial 50 finished with value: -0.24532217298681408 and parameters: {'booster': 'gbtree', 'lambda': 0.002465494216063534, 'alpha': 0.00022818152873411223, 'subsample': 0.8467367157212018, 'colsample_bytree': 0.32725058265072343, 'max_depth': 9, 'min_child_weight': 7, 'eta': 0.0005690266177992079, 'gamma': 0.0014319058601572096, 'grow_policy': 'depthwise'}. Best is trial 46 with value: -0.1843440795516607.\u001b[0m\n",
      "\u001b[32m[I 2023-03-15 21:19:35,261]\u001b[0m Trial 51 finished with value: -0.18434374253851393 and parameters: {'booster': 'gblinear', 'lambda': 0.1531946684473586, 'alpha': 0.00013697115250366557, 'subsample': 0.7996718101127952, 'colsample_bytree': 0.27269510178607953}. Best is trial 51 with value: -0.18434374253851393.\u001b[0m\n",
      "\u001b[32m[I 2023-03-15 21:19:35,749]\u001b[0m Trial 52 finished with value: -0.18434105991998523 and parameters: {'booster': 'gblinear', 'lambda': 0.017492026791677034, 'alpha': 9.59686185339753e-06, 'subsample': 0.8862116057945401, 'colsample_bytree': 0.23070688119062416}. Best is trial 52 with value: -0.18434105991998523.\u001b[0m\n",
      "\u001b[32m[I 2023-03-15 21:19:36,251]\u001b[0m Trial 53 finished with value: -0.18432963712365147 and parameters: {'booster': 'gblinear', 'lambda': 0.015966574014873114, 'alpha': 6.685731891508514e-06, 'subsample': 0.8914890372474085, 'colsample_bytree': 0.22701650773200654}. Best is trial 53 with value: -0.18432963712365147.\u001b[0m\n",
      "\u001b[32m[I 2023-03-15 21:19:36,751]\u001b[0m Trial 54 finished with value: -0.1843497806237029 and parameters: {'booster': 'gblinear', 'lambda': 0.013613056732704533, 'alpha': 6.839239732021018e-06, 'subsample': 0.8923206283139384, 'colsample_bytree': 0.23111351454144938}. Best is trial 53 with value: -0.18432963712365147.\u001b[0m\n",
      "\u001b[32m[I 2023-03-15 21:19:37,245]\u001b[0m Trial 55 finished with value: -0.1843487851231797 and parameters: {'booster': 'gblinear', 'lambda': 0.021046692250270213, 'alpha': 1.269038143987871e-06, 'subsample': 0.9421416256019244, 'colsample_bytree': 0.22567448585953861}. Best is trial 53 with value: -0.18432963712365147.\u001b[0m\n",
      "\u001b[32m[I 2023-03-15 21:19:37,742]\u001b[0m Trial 56 finished with value: -0.18434851897888543 and parameters: {'booster': 'gblinear', 'lambda': 0.08137467238589167, 'alpha': 2.622213951310797e-05, 'subsample': 0.9113861911570739, 'colsample_bytree': 0.20626057965235722}. Best is trial 53 with value: -0.18432963712365147.\u001b[0m\n",
      "\u001b[32m[I 2023-03-15 21:19:38,232]\u001b[0m Trial 57 finished with value: -0.18433718293743387 and parameters: {'booster': 'gblinear', 'lambda': 0.005098365571738632, 'alpha': 8.341369741815124e-06, 'subsample': 0.8629173344760591, 'colsample_bytree': 0.3061852221278257}. Best is trial 53 with value: -0.18432963712365147.\u001b[0m\n",
      "\u001b[32m[I 2023-03-15 21:19:38,717]\u001b[0m Trial 58 finished with value: -0.1843447970076225 and parameters: {'booster': 'gblinear', 'lambda': 0.0040088632342027315, 'alpha': 7.067520513672264e-06, 'subsample': 0.7921085211603631, 'colsample_bytree': 0.30631712862369487}. Best is trial 53 with value: -0.18432963712365147.\u001b[0m\n",
      "\u001b[32m[I 2023-03-15 21:19:39,201]\u001b[0m Trial 59 finished with value: -0.1843464119754147 and parameters: {'booster': 'gblinear', 'lambda': 0.008763387323996102, 'alpha': 2.0716826324164303e-06, 'subsample': 0.9339022840785259, 'colsample_bytree': 0.2952675548391171}. Best is trial 53 with value: -0.18432963712365147.\u001b[0m\n",
      "\u001b[32m[I 2023-03-15 21:19:39,694]\u001b[0m Trial 60 finished with value: -0.18434347862175193 and parameters: {'booster': 'gblinear', 'lambda': 0.016524980017405367, 'alpha': 2.757527853752949e-05, 'subsample': 0.9757589676419561, 'colsample_bytree': 0.23040968841480228}. Best is trial 53 with value: -0.18432963712365147.\u001b[0m\n",
      "\u001b[32m[I 2023-03-15 21:19:40,183]\u001b[0m Trial 61 finished with value: -0.18433911967830202 and parameters: {'booster': 'gblinear', 'lambda': 0.013501421264521567, 'alpha': 6.232292424931632e-06, 'subsample': 0.9761519337218746, 'colsample_bytree': 0.2330885779715902}. Best is trial 53 with value: -0.18432963712365147.\u001b[0m\n",
      "\u001b[32m[I 2023-03-15 21:19:40,711]\u001b[0m Trial 62 finished with value: -0.18433705849448498 and parameters: {'booster': 'gblinear', 'lambda': 0.0210470379223576, 'alpha': 6.666755872047583e-06, 'subsample': 0.9046210070299788, 'colsample_bytree': 0.25400729321579624}. Best is trial 53 with value: -0.18432963712365147.\u001b[0m\n",
      "\u001b[32m[I 2023-03-15 21:19:41,212]\u001b[0m Trial 63 finished with value: -0.18435153425526668 and parameters: {'booster': 'gblinear', 'lambda': 0.014937417368181247, 'alpha': 4.3464969021694055e-06, 'subsample': 0.9661397967378127, 'colsample_bytree': 0.2711687840821472}. Best is trial 53 with value: -0.18432963712365147.\u001b[0m\n",
      "\u001b[32m[I 2023-03-15 21:19:41,809]\u001b[0m Trial 64 finished with value: -0.18432803516508045 and parameters: {'booster': 'gblinear', 'lambda': 0.006604573680059876, 'alpha': 1.004323469087515e-05, 'subsample': 0.9084957252933489, 'colsample_bytree': 0.25631114829706514}. Best is trial 64 with value: -0.18432803516508045.\u001b[0m\n",
      "\u001b[32m[I 2023-03-15 21:19:42,614]\u001b[0m Trial 65 finished with value: -0.18434410733340328 and parameters: {'booster': 'gblinear', 'lambda': 0.004732423225887092, 'alpha': 1.0823693240683101e-05, 'subsample': 0.9096998256941383, 'colsample_bytree': 0.24758760071076102}. Best is trial 64 with value: -0.18432803516508045.\u001b[0m\n",
      "\u001b[32m[I 2023-03-15 21:19:44,097]\u001b[0m Trial 66 finished with value: -0.21030392693650043 and parameters: {'booster': 'gbtree', 'lambda': 0.0013211749162106666, 'alpha': 1.0109505644934687e-06, 'subsample': 0.975622003179804, 'colsample_bytree': 0.20316871069579323, 'max_depth': 7, 'min_child_weight': 5, 'eta': 0.07839973902093264, 'gamma': 1.573826120879112e-07, 'grow_policy': 'depthwise'}. Best is trial 64 with value: -0.18432803516508045.\u001b[0m\n",
      "\u001b[32m[I 2023-03-15 21:19:44,614]\u001b[0m Trial 67 finished with value: -0.1843390302963399 and parameters: {'booster': 'gblinear', 'lambda': 0.008055473862912681, 'alpha': 4.872631478553876e-06, 'subsample': 0.9364400425446288, 'colsample_bytree': 0.34709780200315765}. Best is trial 64 with value: -0.18432803516508045.\u001b[0m\n",
      "\u001b[32m[I 2023-03-15 21:19:45,115]\u001b[0m Trial 68 finished with value: -0.18435487049245167 and parameters: {'booster': 'gblinear', 'lambda': 0.0071294374471212296, 'alpha': 5.931324905194335e-06, 'subsample': 0.9255137607228687, 'colsample_bytree': 0.3108557056955666}. Best is trial 64 with value: -0.18432803516508045.\u001b[0m\n",
      "\u001b[32m[I 2023-03-15 21:19:45,611]\u001b[0m Trial 69 finished with value: -0.1843487797142234 and parameters: {'booster': 'gblinear', 'lambda': 0.0004732118402335985, 'alpha': 3.3846376146232515e-06, 'subsample': 0.8939179208055471, 'colsample_bytree': 0.34363833627402063}. Best is trial 64 with value: -0.18432803516508045.\u001b[0m\n",
      "\u001b[32m[I 2023-03-15 21:19:58,070]\u001b[0m Trial 70 finished with value: -0.2352680182551894 and parameters: {'booster': 'dart', 'lambda': 0.00950106959372232, 'alpha': 1.8233632150722206e-06, 'subsample': 0.9383947804502704, 'colsample_bytree': 0.28821084084116966, 'max_depth': 5, 'min_child_weight': 9, 'eta': 0.0019648830094381895, 'gamma': 7.744639646039948e-05, 'grow_policy': 'lossguide', 'sample_type': 'uniform', 'normalize_type': 'forest', 'rate_drop': 1.3140564190778614e-05, 'skip_drop': 0.9529717294180167}. Best is trial 64 with value: -0.18432803516508045.\u001b[0m\n",
      "\u001b[32m[I 2023-03-15 21:19:58,562]\u001b[0m Trial 71 finished with value: -0.1843593848233537 and parameters: {'booster': 'gblinear', 'lambda': 0.042422395243624636, 'alpha': 1.6389623990073884e-05, 'subsample': 0.9959671271318549, 'colsample_bytree': 0.22144399981382298}. Best is trial 64 with value: -0.18432803516508045.\u001b[0m\n",
      "\u001b[32m[I 2023-03-15 21:19:59,053]\u001b[0m Trial 72 finished with value: -0.18436576658291784 and parameters: {'booster': 'gblinear', 'lambda': 0.003746543879769336, 'alpha': 3.040547355183734e-05, 'subsample': 0.9049492502611436, 'colsample_bytree': 0.2611908856087893}. Best is trial 64 with value: -0.18432803516508045.\u001b[0m\n",
      "\u001b[32m[I 2023-03-15 21:19:59,547]\u001b[0m Trial 73 finished with value: -0.1843665235592231 and parameters: {'booster': 'gblinear', 'lambda': 0.0167715167045983, 'alpha': 9.923117621735903e-06, 'subsample': 0.9471045678991078, 'colsample_bytree': 0.32589242450391187}. Best is trial 64 with value: -0.18432803516508045.\u001b[0m\n",
      "\u001b[32m[I 2023-03-15 21:20:00,046]\u001b[0m Trial 74 finished with value: -0.18436347566010997 and parameters: {'booster': 'gblinear', 'lambda': 0.006610883311120661, 'alpha': 1.8019969939245588e-05, 'subsample': 0.8741460725340859, 'colsample_bytree': 0.25916099408559273}. Best is trial 64 with value: -0.18432803516508045.\u001b[0m\n",
      "\u001b[32m[I 2023-03-15 21:20:00,543]\u001b[0m Trial 75 finished with value: -0.18436002914295307 and parameters: {'booster': 'gblinear', 'lambda': 0.0016282542725877289, 'alpha': 6.275425886523606e-06, 'subsample': 0.9779244444889377, 'colsample_bytree': 0.20017666950605317}. Best is trial 64 with value: -0.18432803516508045.\u001b[0m\n",
      "\u001b[32m[I 2023-03-15 21:20:01,036]\u001b[0m Trial 76 finished with value: -0.1843635107596196 and parameters: {'booster': 'gblinear', 'lambda': 0.01071235099551817, 'alpha': 3.3845326416513083e-06, 'subsample': 0.9263873760636474, 'colsample_bytree': 0.3067407389214395}. Best is trial 64 with value: -0.18432803516508045.\u001b[0m\n",
      "\u001b[32m[I 2023-03-15 21:20:01,527]\u001b[0m Trial 77 finished with value: -0.18435975872428192 and parameters: {'booster': 'gblinear', 'lambda': 0.0008103431755093108, 'alpha': 3.5518579449748317e-05, 'subsample': 0.8669713054456923, 'colsample_bytree': 0.228816583892184}. Best is trial 64 with value: -0.18432803516508045.\u001b[0m\n",
      "\u001b[32m[I 2023-03-15 21:20:02,032]\u001b[0m Trial 78 finished with value: -0.1843540662720757 and parameters: {'booster': 'gblinear', 'lambda': 0.03174969465356953, 'alpha': 9.975506063286171e-06, 'subsample': 0.9991762035614095, 'colsample_bytree': 0.2862292730277677}. Best is trial 64 with value: -0.18432803516508045.\u001b[0m\n",
      "\u001b[32m[I 2023-03-15 21:20:05,144]\u001b[0m Trial 79 finished with value: -0.24883541562957343 and parameters: {'booster': 'gbtree', 'lambda': 0.0022034194201075792, 'alpha': 7.736685452979817e-07, 'subsample': 0.9027616524607271, 'colsample_bytree': 0.37658487340354413, 'max_depth': 9, 'min_child_weight': 3, 'eta': 0.000127544728714842, 'gamma': 1.3236053957901282e-07, 'grow_policy': 'lossguide'}. Best is trial 64 with value: -0.18432803516508045.\u001b[0m\n",
      "\u001b[32m[I 2023-03-15 21:20:05,647]\u001b[0m Trial 80 finished with value: -0.1843588843897162 and parameters: {'booster': 'gblinear', 'lambda': 0.004269051800619563, 'alpha': 4.782585412047206e-06, 'subsample': 0.9518037162276406, 'colsample_bytree': 0.3438564078177826}. Best is trial 64 with value: -0.18432803516508045.\u001b[0m\n",
      "\u001b[32m[I 2023-03-15 21:20:06,132]\u001b[0m Trial 81 finished with value: -0.1843464053647431 and parameters: {'booster': 'gblinear', 'lambda': 0.10271128207830348, 'alpha': 1.7287508358010705e-05, 'subsample': 0.9203749178230624, 'colsample_bytree': 0.2701329474457967}. Best is trial 64 with value: -0.18432803516508045.\u001b[0m\n",
      "\u001b[32m[I 2023-03-15 21:20:06,639]\u001b[0m Trial 82 finished with value: -0.18435050897595878 and parameters: {'booster': 'gblinear', 'lambda': 0.059647144121183354, 'alpha': 3.1281035197642755e-05, 'subsample': 0.8399423251157973, 'colsample_bytree': 0.24608187938222115}. Best is trial 64 with value: -0.18432803516508045.\u001b[0m\n",
      "\u001b[32m[I 2023-03-15 21:20:07,125]\u001b[0m Trial 83 finished with value: -0.18435746129404115 and parameters: {'booster': 'gblinear', 'lambda': 0.024591823704974466, 'alpha': 2.7766084895909804e-06, 'subsample': 0.8653743336258904, 'colsample_bytree': 0.2741146345834125}. Best is trial 64 with value: -0.18432803516508045.\u001b[0m\n",
      "\u001b[32m[I 2023-03-15 21:20:07,616]\u001b[0m Trial 84 finished with value: -0.18435354378290814 and parameters: {'booster': 'gblinear', 'lambda': 0.012040762082405934, 'alpha': 8.346783370256283e-06, 'subsample': 0.9682900779397315, 'colsample_bytree': 0.22172528430229754}. Best is trial 64 with value: -0.18432803516508045.\u001b[0m\n",
      "\u001b[32m[I 2023-03-15 21:20:08,106]\u001b[0m Trial 85 finished with value: -0.184353383755061 and parameters: {'booster': 'gblinear', 'lambda': 0.03939588849323963, 'alpha': 1.3610778288796556e-05, 'subsample': 0.8948154840005663, 'colsample_bytree': 0.24867516645682192}. Best is trial 64 with value: -0.18432803516508045.\u001b[0m\n",
      "\u001b[32m[I 2023-03-15 21:20:08,593]\u001b[0m Trial 86 finished with value: -0.18438324334710482 and parameters: {'booster': 'gblinear', 'lambda': 0.006275830592752217, 'alpha': 8.048445737844225e-05, 'subsample': 0.9414242007436384, 'colsample_bytree': 0.31149181691244665}. Best is trial 64 with value: -0.18432803516508045.\u001b[0m\n",
      "\u001b[32m[I 2023-03-15 21:20:09,083]\u001b[0m Trial 87 finished with value: -0.18435742506560465 and parameters: {'booster': 'gblinear', 'lambda': 0.025552170386975756, 'alpha': 4.174504753756906e-06, 'subsample': 0.8062129835867805, 'colsample_bytree': 0.2846404640674915}. Best is trial 64 with value: -0.18432803516508045.\u001b[0m\n",
      "\u001b[32m[I 2023-03-15 21:20:19,983]\u001b[0m Trial 88 finished with value: -0.2497307583496724 and parameters: {'booster': 'dart', 'lambda': 0.09787364213283903, 'alpha': 2.0793228142204885e-05, 'subsample': 0.8475394517500631, 'colsample_bytree': 0.25948788861968586, 'max_depth': 3, 'min_child_weight': 7, 'eta': 4.102676321012521e-05, 'gamma': 0.00012095550684846435, 'grow_policy': 'depthwise', 'sample_type': 'uniform', 'normalize_type': 'forest', 'rate_drop': 0.0019208899518931596, 'skip_drop': 6.193680106861731e-07}. Best is trial 64 with value: -0.18432803516508045.\u001b[0m\n",
      "\u001b[32m[I 2023-03-15 21:20:20,482]\u001b[0m Trial 89 finished with value: -0.18436319904801207 and parameters: {'booster': 'gblinear', 'lambda': 0.017476012287105862, 'alpha': 3.990927802222418e-05, 'subsample': 0.8828713380155456, 'colsample_bytree': 0.22352577923089909}. Best is trial 64 with value: -0.18432803516508045.\u001b[0m\n",
      "\u001b[32m[I 2023-03-15 21:20:20,974]\u001b[0m Trial 90 finished with value: -0.18436816123590244 and parameters: {'booster': 'gblinear', 'lambda': 0.049938762868317346, 'alpha': 2.075877902307907e-06, 'subsample': 0.9813724029506191, 'colsample_bytree': 0.2369169126301462}. Best is trial 64 with value: -0.18432803516508045.\u001b[0m\n",
      "\u001b[32m[I 2023-03-15 21:20:21,472]\u001b[0m Trial 91 finished with value: -0.18435815813241538 and parameters: {'booster': 'gblinear', 'lambda': 0.019949737550577978, 'alpha': 7.158582965929276e-06, 'subsample': 0.858173123160506, 'colsample_bytree': 0.23505205338242588}. Best is trial 64 with value: -0.18432803516508045.\u001b[0m\n",
      "\u001b[32m[I 2023-03-15 21:20:21,980]\u001b[0m Trial 92 finished with value: -0.18436519231529586 and parameters: {'booster': 'gblinear', 'lambda': 0.008210342461158779, 'alpha': 0.00010744070136666172, 'subsample': 0.8322020220924935, 'colsample_bytree': 0.2693835709131871}. Best is trial 64 with value: -0.18432803516508045.\u001b[0m\n",
      "\u001b[32m[I 2023-03-15 21:20:22,471]\u001b[0m Trial 93 finished with value: -0.18435723419933164 and parameters: {'booster': 'gblinear', 'lambda': 0.03295948868591328, 'alpha': 4.5069446759430806e-05, 'subsample': 0.9178735697813576, 'colsample_bytree': 0.297066877811022}. Best is trial 64 with value: -0.18432803516508045.\u001b[0m\n",
      "\u001b[32m[I 2023-03-15 21:20:22,966]\u001b[0m Trial 94 finished with value: -0.1843542685714482 and parameters: {'booster': 'gblinear', 'lambda': 0.012426491851089893, 'alpha': 1.2622474993931537e-05, 'subsample': 0.9590856069259786, 'colsample_bytree': 0.24665230393592535}. Best is trial 64 with value: -0.18432803516508045.\u001b[0m\n",
      "\u001b[32m[I 2023-03-15 21:20:23,463]\u001b[0m Trial 95 finished with value: -0.18435437321386366 and parameters: {'booster': 'gblinear', 'lambda': 0.05571599253399358, 'alpha': 2.356008936054511e-05, 'subsample': 0.8940142936874218, 'colsample_bytree': 0.20987764532271108}. Best is trial 64 with value: -0.18432803516508045.\u001b[0m\n",
      "\u001b[32m[I 2023-03-15 21:20:23,960]\u001b[0m Trial 96 finished with value: -0.18436230935640238 and parameters: {'booster': 'gblinear', 'lambda': 0.0032698618564506367, 'alpha': 6.944937857290266e-05, 'subsample': 0.8543341372352344, 'colsample_bytree': 0.33762751665937846}. Best is trial 64 with value: -0.18432803516508045.\u001b[0m\n",
      "\u001b[32m[I 2023-03-15 21:20:25,333]\u001b[0m Trial 97 finished with value: -0.1843632594304574 and parameters: {'booster': 'gblinear', 'lambda': 0.005951746394637817, 'alpha': 6.6625877273943536e-06, 'subsample': 0.8756048145586832, 'colsample_bytree': 0.3171159784919008}. Best is trial 64 with value: -0.18432803516508045.\u001b[0m\n",
      "\u001b[32m[I 2023-03-15 21:20:27,338]\u001b[0m Trial 98 finished with value: -0.24336117223523918 and parameters: {'booster': 'gbtree', 'lambda': 0.023312763109407452, 'alpha': 4.997526258625923e-06, 'subsample': 0.9310940246296135, 'colsample_bytree': 0.21676925250002615, 'max_depth': 7, 'min_child_weight': 5, 'eta': 0.000956267202018022, 'gamma': 0.00520994446070667, 'grow_policy': 'depthwise'}. Best is trial 64 with value: -0.18432803516508045.\u001b[0m\n",
      "\u001b[32m[I 2023-03-15 21:20:27,831]\u001b[0m Trial 99 finished with value: -0.18435854822463024 and parameters: {'booster': 'gblinear', 'lambda': 0.11476904278720242, 'alpha': 1.2149184319099399e-05, 'subsample': 0.8083396405253067, 'colsample_bytree': 0.2756987797461942}. Best is trial 64 with value: -0.18432803516508045.\u001b[0m\n"
     ]
    }
   ],
   "source": [
    "study = run_study(X_train, y_train)"
   ]
  },
  {
   "cell_type": "code",
   "execution_count": 9,
   "id": "7a73df51",
   "metadata": {
    "execution": {
     "iopub.execute_input": "2023-03-15T21:20:27.860801Z",
     "iopub.status.busy": "2023-03-15T21:20:27.860475Z",
     "iopub.status.idle": "2023-03-15T21:20:27.959995Z",
     "shell.execute_reply": "2023-03-15T21:20:27.958946Z"
    },
    "papermill": {
     "duration": 0.112364,
     "end_time": "2023-03-15T21:20:27.962428",
     "exception": false,
     "start_time": "2023-03-15T21:20:27.850064",
     "status": "completed"
    },
    "tags": []
   },
   "outputs": [
    {
     "name": "stdout",
     "output_type": "stream",
     "text": [
      "Brier Score: 0.14164806783590086\n",
      "ROC AUC: 0.8805941358024691\n",
      "Parameters\n",
      "- objective: binary:logistic\n",
      "- use_label_encoder: False\n",
      "- base_score: 0.5\n",
      "- booster: gblinear\n",
      "- callbacks: None\n",
      "- colsample_bylevel: None\n",
      "- colsample_bynode: None\n",
      "- colsample_bytree: 0.25631114829706514\n",
      "- early_stopping_rounds: None\n",
      "- enable_categorical: False\n",
      "- eval_metric: None\n",
      "- gamma: None\n",
      "- gpu_id: -1\n",
      "- grow_policy: None\n",
      "- importance_type: None\n",
      "- interaction_constraints: None\n",
      "- learning_rate: 0.5\n",
      "- max_bin: None\n",
      "- max_cat_to_onehot: None\n",
      "- max_delta_step: None\n",
      "- max_depth: None\n",
      "- max_leaves: None\n",
      "- min_child_weight: None\n",
      "- missing: nan\n",
      "- monotone_constraints: None\n",
      "- n_estimators: 100\n",
      "- n_jobs: 0\n",
      "- num_parallel_tree: None\n",
      "- predictor: None\n",
      "- random_state: 0\n",
      "- reg_alpha: 0\n",
      "- reg_lambda: 0\n",
      "- sampling_method: None\n",
      "- scale_pos_weight: 1\n",
      "- subsample: 0.9084957252933489\n",
      "- tree_method: exact\n",
      "- validate_parameters: 1\n",
      "- verbosity: 0\n",
      "- boosting_type: gbdt\n",
      "- lambda: 0.006604573680059876\n",
      "- alpha: 1.004323469087515e-05\n"
     ]
    }
   ],
   "source": [
    "params = study.best_params\n",
    "model = train_model(params, X_train, y_train, SCORING)\n",
    "preds = model.predict_proba(X_valid)[:,1]\n",
    "print(\"Brier Score:\", brier_score_loss(y_valid, preds))\n",
    "print(\"ROC AUC:\", roc_auc_score(y_valid, preds))\n",
    "print(\"Parameters\")\n",
    "print(*(f\"- {key}: {value}\" for key, value in model.get_params(deep=True).items()), sep=\"\\n\")"
   ]
  },
  {
   "cell_type": "markdown",
   "id": "12244c39",
   "metadata": {
    "papermill": {
     "duration": 0.008951,
     "end_time": "2023-03-15T21:20:27.981930",
     "exception": false,
     "start_time": "2023-03-15T21:20:27.972979",
     "status": "completed"
    },
    "tags": []
   },
   "source": [
    "# Submit to the competition\n",
    "\n",
    "We\"ll begin by using the trained model to generate predictions, which we\"ll save to a CSV file."
   ]
  },
  {
   "cell_type": "code",
   "execution_count": 10,
   "id": "29199ce8",
   "metadata": {
    "execution": {
     "iopub.execute_input": "2023-03-15T21:20:28.001554Z",
     "iopub.status.busy": "2023-03-15T21:20:28.001211Z",
     "iopub.status.idle": "2023-03-15T21:20:30.286766Z",
     "shell.execute_reply": "2023-03-15T21:20:30.285195Z"
    },
    "papermill": {
     "duration": 2.298443,
     "end_time": "2023-03-15T21:20:30.289428",
     "exception": false,
     "start_time": "2023-03-15T21:20:27.990985",
     "status": "completed"
    },
    "tags": []
   },
   "outputs": [
    {
     "name": "stdout",
     "output_type": "stream",
     "text": [
      "(614319, 2)\n"
     ]
    },
    {
     "data": {
      "text/html": [
       "<div>\n",
       "<style scoped>\n",
       "    .dataframe tbody tr th:only-of-type {\n",
       "        vertical-align: middle;\n",
       "    }\n",
       "\n",
       "    .dataframe tbody tr th {\n",
       "        vertical-align: top;\n",
       "    }\n",
       "\n",
       "    .dataframe thead th {\n",
       "        text-align: right;\n",
       "    }\n",
       "</style>\n",
       "<table border=\"1\" class=\"dataframe\">\n",
       "  <thead>\n",
       "    <tr style=\"text-align: right;\">\n",
       "      <th></th>\n",
       "      <th>Pred</th>\n",
       "    </tr>\n",
       "  </thead>\n",
       "  <tbody>\n",
       "    <tr>\n",
       "      <th>count</th>\n",
       "      <td>614319.000000</td>\n",
       "    </tr>\n",
       "    <tr>\n",
       "      <th>mean</th>\n",
       "      <td>0.500006</td>\n",
       "    </tr>\n",
       "    <tr>\n",
       "      <th>std</th>\n",
       "      <td>0.029657</td>\n",
       "    </tr>\n",
       "    <tr>\n",
       "      <th>min</th>\n",
       "      <td>0.001792</td>\n",
       "    </tr>\n",
       "    <tr>\n",
       "      <th>25%</th>\n",
       "      <td>0.500000</td>\n",
       "    </tr>\n",
       "    <tr>\n",
       "      <th>50%</th>\n",
       "      <td>0.500000</td>\n",
       "    </tr>\n",
       "    <tr>\n",
       "      <th>75%</th>\n",
       "      <td>0.500000</td>\n",
       "    </tr>\n",
       "    <tr>\n",
       "      <th>max</th>\n",
       "      <td>0.999077</td>\n",
       "    </tr>\n",
       "  </tbody>\n",
       "</table>\n",
       "</div>"
      ],
      "text/plain": [
       "                Pred\n",
       "count  614319.000000\n",
       "mean        0.500006\n",
       "std         0.029657\n",
       "min         0.001792\n",
       "25%         0.500000\n",
       "50%         0.500000\n",
       "75%         0.500000\n",
       "max         0.999077"
      ]
     },
     "execution_count": 10,
     "metadata": {},
     "output_type": "execute_result"
    }
   ],
   "source": [
    "# Use the model to generate predictions\n",
    "model.fit(X, y)\n",
    "predictions = model.predict_proba(X_submission)[:,1]\n",
    "\n",
    "# Save the predictions to a CSV file\n",
    "output = pd.DataFrame({\"ID\": X_submission.index,\n",
    "                       \"Pred\": predictions})\n",
    "output.to_csv(\"submission.csv\", index=False)\n",
    "print(output.shape)\n",
    "output.describe()"
   ]
  },
  {
   "cell_type": "code",
   "execution_count": null,
   "id": "ab4ba957",
   "metadata": {
    "papermill": {
     "duration": 0.01091,
     "end_time": "2023-03-15T21:20:30.311245",
     "exception": false,
     "start_time": "2023-03-15T21:20:30.300335",
     "status": "completed"
    },
    "tags": []
   },
   "outputs": [],
   "source": []
  }
 ],
 "metadata": {
  "kernelspec": {
   "display_name": "Python 3",
   "language": "python",
   "name": "python3"
  },
  "language_info": {
   "codemirror_mode": {
    "name": "ipython",
    "version": 3
   },
   "file_extension": ".py",
   "mimetype": "text/x-python",
   "name": "python",
   "nbconvert_exporter": "python",
   "pygments_lexer": "ipython3",
   "version": "3.7.12"
  },
  "papermill": {
   "default_parameters": {},
   "duration": 256.395455,
   "end_time": "2023-03-15T21:20:31.646382",
   "environment_variables": {},
   "exception": null,
   "input_path": "__notebook__.ipynb",
   "output_path": "__notebook__.ipynb",
   "parameters": {},
   "start_time": "2023-03-15T21:16:15.250927",
   "version": "2.4.0"
  }
 },
 "nbformat": 4,
 "nbformat_minor": 5
}
