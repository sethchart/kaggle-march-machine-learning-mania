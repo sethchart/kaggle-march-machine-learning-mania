{
 "cells": [
  {
   "cell_type": "markdown",
   "id": "2ed970ba",
   "metadata": {
    "papermill": {
     "duration": 0.00499,
     "end_time": "2023-03-15T00:02:44.000337",
     "exception": false,
     "start_time": "2023-03-15T00:02:43.995347",
     "status": "completed"
    },
    "tags": []
   },
   "source": [
    "# Imports and Utilities"
   ]
  },
  {
   "cell_type": "code",
   "execution_count": 1,
   "id": "603a0ccf",
   "metadata": {
    "execution": {
     "iopub.execute_input": "2023-03-15T00:02:44.010589Z",
     "iopub.status.busy": "2023-03-15T00:02:44.009730Z",
     "iopub.status.idle": "2023-03-15T00:02:44.076391Z",
     "shell.execute_reply": "2023-03-15T00:02:44.074216Z"
    },
    "papermill": {
     "duration": 0.075987,
     "end_time": "2023-03-15T00:02:44.080233",
     "exception": false,
     "start_time": "2023-03-15T00:02:44.004246",
     "status": "completed"
    },
    "tags": []
   },
   "outputs": [],
   "source": [
    "from typing import List, Tuple\n",
    "import numpy as np\n",
    "import pandas as pd\n",
    "from IPython.display import Markdown\n",
    "\n",
    "COMPETITION_NAME = \"warmup-round-march-machine-learning-mania-2023\"\n",
    "VERBOSE = False\n",
    "\n",
    "pd.set_option(\"display.max_columns\", None)\n",
    "\n",
    "def show_df(df: pd.DataFrame, name: str = \"DataFrame\", verbose: bool = VERBOSE):\n",
    "    if verbose:\n",
    "        display(Markdown(f\"## {name}\"))\n",
    "        display(Markdown(\"### Head\"))\n",
    "        display(df.head())\n",
    "        display(Markdown(\"### Tail\"))\n",
    "        display(df.tail())\n",
    "        display(Markdown(\"### Description\"))\n",
    "        display(df.describe())\n",
    "\n",
    "\n",
    "def extract_data(filename: str, competition_name:str = COMPETITION_NAME) -> pd.DataFrame:\n",
    "    mens_filepath = f\"/kaggle/input/{competition_name}/M{filename}.csv\"\n",
    "    womens_filepath = f\"/kaggle/input/{competition_name}/W{filename}.csv\"\n",
    "    try:\n",
    "        df_mens = pd.read_csv(mens_filepath)\n",
    "    except FileNotFoundError:\n",
    "        df_mens = None\n",
    "    try:\n",
    "        df_womens = pd.read_csv(womens_filepath)\n",
    "    except FileNotFoundError:\n",
    "        df_womens = None\n",
    "    df = pd.concat([df_mens, df_womens])\n",
    "    show_df(df, filename)\n",
    "    return df\n",
    "\n",
    "\n",
    "def get_team_features(detailed_results: pd.DataFrame) -> pd.DataFrame:\n",
    "    df = detailed_results.copy()\n",
    "    df = clean_detailed_results(df)\n",
    "    df = transform_game_to_team(df)\n",
    "    df = transform_team_results(df)\n",
    "    show_df(df)\n",
    "    return df\n",
    "\n",
    "\n",
    "def get_seed_features(df_in: pd.DataFrame) -> pd.DataFrame:\n",
    "    df = df_in.copy()\n",
    "    mask = df[\"Season\"] > 2002\n",
    "    df = df[mask]\n",
    "    df[\"Seed\"] = df[\"Seed\"].str.replace(r\"\\D+\",\"\", regex=True)\n",
    "    df[\"Seed\"] = df[\"Seed\"].astype(int)\n",
    "    show_df(df)\n",
    "    return df\n",
    "\n",
    "\n",
    "def get_ranking_features(df_in:pd.DataFrame) -> pd.DataFrame:\n",
    "    df = df_in.copy()\n",
    "    mask = df[\"RankingDayNum\"] == df[\"RankingDayNum\"].max()\n",
    "    df = df[mask]\n",
    "    df.drop([\"SystemName\", \"RankingDayNum\"], axis=1, inplace=True)\n",
    "    df = df.groupby([\"Season\", \"TeamID\"]).agg(\"median\")\n",
    "    df = df.reset_index()\n",
    "    show_df(df)\n",
    "    return df\n",
    "\n",
    "\n",
    "def get_game_outcomes(df):\n",
    "    input_rows = df.to_records()\n",
    "    output_rows = [parse_row(input_row) for input_row in input_rows]\n",
    "    df = pd.DataFrame(output_rows)\n",
    "    show_df(df)\n",
    "    return df\n",
    "\n",
    "\n",
    "def clean_detailed_results(df: pd.DataFrame) -> pd.DataFrame:\n",
    "    return df.drop([\"WLoc\", \"DayNum\"], axis=1)\n",
    "\n",
    "\n",
    "def transform_game_to_team(game_results: pd.DataFrame) -> pd.DataFrame:\n",
    "    winners = rename_columns(game_results, \"W\")\n",
    "    loosers = rename_columns(game_results, \"L\")\n",
    "    team_results = pd.concat((winners, loosers))\n",
    "    team_results.drop([\"TeamIDOpp\"], axis=1, inplace=True)\n",
    "    return team_results\n",
    "\n",
    "\n",
    "def transform_team_results(df: pd.DataFrame) -> pd.DataFrame:\n",
    "    df = df.groupby([\"Season\", \"TeamID\"]).median()\n",
    "    df[\"FGP\"] =  df[\"FGM\"] / df[\"FGA\"]\n",
    "    df[\"FGP3\"] =  df[\"FGM3\"] / df[\"FGA3\"]\n",
    "    df[\"FTP\"] =  df[\"FTM\"] / df[\"FTA\"]\n",
    "    df[\"FGPOpp\"] =  df[\"FGMOpp\"] / df[\"FGAOpp\"]\n",
    "    df[\"FGP3Opp\"] =  df[\"FGM3Opp\"] / df[\"FGA3Opp\"]\n",
    "    df[\"FTPOpp\"] =  df[\"FTMOpp\"] / df[\"FTAOpp\"]\n",
    "    return df.reset_index()\n",
    "    \n",
    "    \n",
    "def rename_columns(df: pd.DataFrame, team_prefix: str) -> pd.DataFrame:\n",
    "    df = df.copy()\n",
    "    df.columns =  (rename_column(column_name, team_prefix) for column_name in df.columns)\n",
    "    return df\n",
    "\n",
    "\n",
    "def rename_column(column_name: str, team_prefix: str) -> pd.DataFrame:\n",
    "    if team_prefix == \"W\":\n",
    "        opponent_prefix = \"L\"\n",
    "    elif team_prefix == \"L\":\n",
    "        opponent_prefix = \"W\"\n",
    "    else:\n",
    "        raise ValueError\n",
    "    if column_name.startswith(team_prefix):\n",
    "        column_name = column_name.lstrip(team_prefix)\n",
    "    elif column_name.startswith(opponent_prefix):\n",
    "        column_name = f\"{column_name.lstrip(opponent_prefix)}Opp\"\n",
    "    return column_name\n",
    "\n",
    "\n",
    "def split_winner_and_looser_columns(df: pd.DataFrame) -> Tuple[List[str], List[str]]:\n",
    "    winner_columns = [name for name in df.columns if not name.startswith(\"L\")]\n",
    "    looser_columns = [name for name in df.columns if not name.startswith(\"W\")]\n",
    "    return winner_columns, looser_columns\n",
    "\n",
    "\n",
    "def merge_features(\n",
    "    season_features: pd.DataFrame, \n",
    "    tournament_features: pd.DataFrame, \n",
    "    seed_features: pd.DataFrame, \n",
    "    ranking_features: pd.DataFrame\n",
    ") -> pd.DataFrame:\n",
    "    features = pd.merge(\n",
    "        season_features,\n",
    "        tournament_features,\n",
    "        how=\"inner\",\n",
    "        on=[\"Season\", \"TeamID\"],\n",
    "        suffixes=(\"Reg\", \"Tou\")\n",
    "    )\n",
    "    features = features.merge(\n",
    "        seed_features,\n",
    "        how=\"inner\",\n",
    "        on=[\"Season\", \"TeamID\"]\n",
    "    )\n",
    "    features = features.merge(\n",
    "        ranking_features,\n",
    "        how=\"left\",\n",
    "        on=[\"Season\", \"TeamID\"],\n",
    "    )\n",
    "    show_df(features)\n",
    "    return features\n",
    "\n",
    "\n",
    "def parse_row(row):\n",
    "    season = row['Season']\n",
    "    winning_team_id = row['WTeamID']\n",
    "    losing_team_id = row['LTeamID']\n",
    "    if winning_team_id < losing_team_id:\n",
    "        small_id = winning_team_id\n",
    "        big_id = losing_team_id\n",
    "        outcome = True\n",
    "    elif losing_team_id < winning_team_id:\n",
    "        small_id = losing_team_id\n",
    "        big_id = winning_team_id\n",
    "        outcome = False\n",
    "    record = {\n",
    "            \"ID\": f\"{season}_{small_id}_{big_id}\",\n",
    "            'Season': season,\n",
    "            'LowID': small_id,\n",
    "            'HighID': big_id,\n",
    "            'Win': outcome\n",
    "    }\n",
    "    return record\n",
    "\n",
    "\n",
    "def merge_outcomes_with_features(outcomes: pd.DataFrame, features: pd.DataFrame, how: str = \"inner\") -> pd.DataFrame:\n",
    "    feature_names = [name for name in features.columns if name not in [\"Season\", \"TeamID\", \"Gender\"]]\n",
    "    data = pd.merge(\n",
    "        outcomes, \n",
    "        features, \n",
    "        how=how, \n",
    "        left_on=[\"Season\", \"HighID\"], \n",
    "        right_on=[\"Season\", \"TeamID\"]\n",
    "    )\n",
    "    data = pd.merge(\n",
    "        data, \n",
    "        features, \n",
    "        how=how, \n",
    "        left_on=[\"Season\", \"LowID\"], \n",
    "        right_on=[\"Season\", \"TeamID\"],\n",
    "        suffixes=(\"High\", \"Low\")\n",
    "    )\n",
    "    for name in feature_names:\n",
    "        data[f\"{name}Diff\"] = data[f\"{name}High\"] - data[f\"{name}Low\"]\n",
    "        data.drop([f\"{name}High\", f\"{name}Low\"], axis=1, inplace=True)\n",
    "    data.drop(\n",
    "        [\"Season\", \"HighID\", \"LowID\",\"TeamIDHigh\",\"TeamIDLow\"], \n",
    "        axis=1, \n",
    "        inplace=True\n",
    "    )\n",
    "    data.set_index(\"ID\", inplace=True)\n",
    "    show_df(data)\n",
    "    return data\n",
    "\n",
    "def get_submission_outcomes() -> pd.DataFrame:\n",
    "    sample_submission = pd.read_csv(f\"/kaggle/input/{COMPETITION_NAME}/SampleSubmissionWarmup.csv\")\n",
    "    df = sample_submission.copy()\n",
    "    df.drop(\"Pred\", axis=1, inplace=True)\n",
    "    df[[\"Season\", \"LowID\", \"HighID\"]] = df[\"ID\"].str.split(\"_\", expand=True)\n",
    "    df[[\"Season\", \"LowID\", \"HighID\"]] = df[[\"Season\", \"LowID\", \"HighID\"]].astype(int)\n",
    "    show_df(df)\n",
    "    return df"
   ]
  },
  {
   "cell_type": "markdown",
   "id": "670f1ed8",
   "metadata": {
    "papermill": {
     "duration": 0.006001,
     "end_time": "2023-03-15T00:02:44.094635",
     "exception": false,
     "start_time": "2023-03-15T00:02:44.088634",
     "status": "completed"
    },
    "tags": []
   },
   "source": [
    "# Load Data"
   ]
  },
  {
   "cell_type": "code",
   "execution_count": 2,
   "id": "c60721d2",
   "metadata": {
    "execution": {
     "iopub.execute_input": "2023-03-15T00:02:44.112388Z",
     "iopub.status.busy": "2023-03-15T00:02:44.111856Z",
     "iopub.status.idle": "2023-03-15T00:02:47.527694Z",
     "shell.execute_reply": "2023-03-15T00:02:47.526678Z"
    },
    "papermill": {
     "duration": 3.428285,
     "end_time": "2023-03-15T00:02:47.530234",
     "exception": false,
     "start_time": "2023-03-15T00:02:44.101949",
     "status": "completed"
    },
    "tags": []
   },
   "outputs": [],
   "source": [
    "season_results = extract_data(\"RegularSeasonDetailedResults\")\n",
    "tournament_results = extract_data(\"NCAATourneyDetailedResults\")\n",
    "seeds = extract_data(\"NCAATourneySeeds\")\n",
    "rankings = extract_data(\"MasseyOrdinals\")"
   ]
  },
  {
   "cell_type": "markdown",
   "id": "99caf989",
   "metadata": {
    "papermill": {
     "duration": 0.003906,
     "end_time": "2023-03-15T00:02:47.538991",
     "exception": false,
     "start_time": "2023-03-15T00:02:47.535085",
     "status": "completed"
    },
    "tags": []
   },
   "source": [
    "# Transform Data"
   ]
  },
  {
   "cell_type": "code",
   "execution_count": 3,
   "id": "2729c7c8",
   "metadata": {
    "execution": {
     "iopub.execute_input": "2023-03-15T00:02:47.547805Z",
     "iopub.status.busy": "2023-03-15T00:02:47.547499Z",
     "iopub.status.idle": "2023-03-15T00:02:48.361647Z",
     "shell.execute_reply": "2023-03-15T00:02:48.360609Z"
    },
    "papermill": {
     "duration": 0.821398,
     "end_time": "2023-03-15T00:02:48.364190",
     "exception": false,
     "start_time": "2023-03-15T00:02:47.542792",
     "status": "completed"
    },
    "tags": []
   },
   "outputs": [],
   "source": [
    "season_team_features = get_team_features(season_results)\n",
    "\n",
    "tournament_results[\"Season\"] += 1\n",
    "tournament_team_features = get_team_features(tournament_results)\n",
    "\n",
    "seed_features = get_seed_features(seeds)\n",
    "\n",
    "ranking_features = get_ranking_features(rankings)"
   ]
  },
  {
   "cell_type": "markdown",
   "id": "190fee77",
   "metadata": {
    "execution": {
     "iopub.execute_input": "2022-03-17T02:19:13.394565Z",
     "iopub.status.busy": "2022-03-17T02:19:13.394252Z",
     "iopub.status.idle": "2022-03-17T02:19:13.39899Z",
     "shell.execute_reply": "2022-03-17T02:19:13.397787Z",
     "shell.execute_reply.started": "2022-03-17T02:19:13.394538Z"
    },
    "papermill": {
     "duration": 0.003648,
     "end_time": "2023-03-15T00:02:48.372062",
     "exception": false,
     "start_time": "2023-03-15T00:02:48.368414",
     "status": "completed"
    },
    "tags": []
   },
   "source": [
    "## Merge features"
   ]
  },
  {
   "cell_type": "code",
   "execution_count": 4,
   "id": "1d63dd2d",
   "metadata": {
    "execution": {
     "iopub.execute_input": "2023-03-15T00:02:48.381916Z",
     "iopub.status.busy": "2023-03-15T00:02:48.380389Z",
     "iopub.status.idle": "2023-03-15T00:02:48.402578Z",
     "shell.execute_reply": "2023-03-15T00:02:48.401574Z"
    },
    "papermill": {
     "duration": 0.029085,
     "end_time": "2023-03-15T00:02:48.404804",
     "exception": false,
     "start_time": "2023-03-15T00:02:48.375719",
     "status": "completed"
    },
    "tags": []
   },
   "outputs": [],
   "source": [
    "features = merge_features(season_team_features, tournament_team_features, seed_features, ranking_features)"
   ]
  },
  {
   "cell_type": "markdown",
   "id": "c5f1e01a",
   "metadata": {
    "papermill": {
     "duration": 0.003584,
     "end_time": "2023-03-15T00:02:48.412164",
     "exception": false,
     "start_time": "2023-03-15T00:02:48.408580",
     "status": "completed"
    },
    "tags": []
   },
   "source": [
    "## Build Datasets"
   ]
  },
  {
   "cell_type": "code",
   "execution_count": 5,
   "id": "e8d7ea78",
   "metadata": {
    "execution": {
     "iopub.execute_input": "2023-03-15T00:02:48.422206Z",
     "iopub.status.busy": "2023-03-15T00:02:48.420556Z",
     "iopub.status.idle": "2023-03-15T00:02:51.791513Z",
     "shell.execute_reply": "2023-03-15T00:02:51.790437Z"
    },
    "papermill": {
     "duration": 3.378245,
     "end_time": "2023-03-15T00:02:51.794100",
     "exception": false,
     "start_time": "2023-03-15T00:02:48.415855",
     "status": "completed"
    },
    "tags": []
   },
   "outputs": [],
   "source": [
    "from sklearn.model_selection import train_test_split\n",
    "\n",
    "data = extract_data(\"NCAATourneyCompactResults\")\n",
    "data_train, data_valid = train_test_split(data, random_state=0)\n",
    "\n",
    "outcomes_train = get_game_outcomes(data_train)\n",
    "outcomes_valid = get_game_outcomes(data_valid)\n",
    "outcomes_submission = get_submission_outcomes()"
   ]
  },
  {
   "cell_type": "code",
   "execution_count": 6,
   "id": "5e32ceef",
   "metadata": {
    "execution": {
     "iopub.execute_input": "2023-03-15T00:02:51.803514Z",
     "iopub.status.busy": "2023-03-15T00:02:51.803205Z",
     "iopub.status.idle": "2023-03-15T00:02:52.028257Z",
     "shell.execute_reply": "2023-03-15T00:02:52.027139Z"
    },
    "papermill": {
     "duration": 0.232409,
     "end_time": "2023-03-15T00:02:52.030657",
     "exception": false,
     "start_time": "2023-03-15T00:02:51.798248",
     "status": "completed"
    },
    "tags": []
   },
   "outputs": [],
   "source": [
    "features_train = merge_outcomes_with_features(outcomes_train, features)\n",
    "features_valid = merge_outcomes_with_features(outcomes_valid, features)"
   ]
  },
  {
   "cell_type": "code",
   "execution_count": 7,
   "id": "321008d3",
   "metadata": {
    "execution": {
     "iopub.execute_input": "2023-03-15T00:02:52.045829Z",
     "iopub.status.busy": "2023-03-15T00:02:52.045034Z",
     "iopub.status.idle": "2023-03-15T00:03:31.821303Z",
     "shell.execute_reply": "2023-03-15T00:03:31.820235Z"
    },
    "papermill": {
     "duration": 39.786047,
     "end_time": "2023-03-15T00:03:31.823996",
     "exception": false,
     "start_time": "2023-03-15T00:02:52.037949",
     "status": "completed"
    },
    "tags": []
   },
   "outputs": [],
   "source": [
    "y_train = features_train[\"Win\"]\n",
    "X_train = features_train.drop(\"Win\", axis=1)\n",
    "y_valid = features_valid[\"Win\"]\n",
    "X_valid = features_valid.drop(\"Win\", axis=1)\n",
    "X_submission = merge_outcomes_with_features(outcomes_submission, features, how=\"left\").fillna(0)"
   ]
  },
  {
   "cell_type": "markdown",
   "id": "d9bca01e",
   "metadata": {
    "papermill": {
     "duration": 0.003537,
     "end_time": "2023-03-15T00:03:31.831781",
     "exception": false,
     "start_time": "2023-03-15T00:03:31.828244",
     "status": "completed"
    },
    "tags": []
   },
   "source": [
    "# Step 4: Train a model\n"
   ]
  },
  {
   "cell_type": "markdown",
   "id": "a2002f95",
   "metadata": {
    "papermill": {
     "duration": 0.003423,
     "end_time": "2023-03-15T00:03:31.838929",
     "exception": false,
     "start_time": "2023-03-15T00:03:31.835506",
     "status": "completed"
    },
    "tags": []
   },
   "source": [
    "### Setup Hyperparameter Tuning\n",
    "See https://www.kaggle.com/prashant111/a-guide-on-xgboost-hyperparameters-tuning"
   ]
  },
  {
   "cell_type": "code",
   "execution_count": 8,
   "id": "914f639b",
   "metadata": {
    "execution": {
     "iopub.execute_input": "2023-03-15T00:03:31.847614Z",
     "iopub.status.busy": "2023-03-15T00:03:31.847305Z",
     "iopub.status.idle": "2023-03-15T00:03:34.460171Z",
     "shell.execute_reply": "2023-03-15T00:03:34.458804Z"
    },
    "papermill": {
     "duration": 2.620434,
     "end_time": "2023-03-15T00:03:34.463089",
     "exception": false,
     "start_time": "2023-03-15T00:03:31.842655",
     "status": "completed"
    },
    "tags": []
   },
   "outputs": [
    {
     "data": {
      "text/html": [
       "<style type='text/css'>\n",
       ".datatable table.frame { margin-bottom: 0; }\n",
       ".datatable table.frame thead { border-bottom: none; }\n",
       ".datatable table.frame tr.coltypes td {  color: #FFFFFF;  line-height: 6px;  padding: 0 0.5em;}\n",
       ".datatable .bool    { background: #DDDD99; }\n",
       ".datatable .object  { background: #565656; }\n",
       ".datatable .int     { background: #5D9E5D; }\n",
       ".datatable .float   { background: #4040CC; }\n",
       ".datatable .str     { background: #CC4040; }\n",
       ".datatable .time    { background: #40CC40; }\n",
       ".datatable .row_index {  background: var(--jp-border-color3);  border-right: 1px solid var(--jp-border-color0);  color: var(--jp-ui-font-color3);  font-size: 9px;}\n",
       ".datatable .frame tbody td { text-align: left; }\n",
       ".datatable .frame tr.coltypes .row_index {  background: var(--jp-border-color0);}\n",
       ".datatable th:nth-child(2) { padding-left: 12px; }\n",
       ".datatable .hellipsis {  color: var(--jp-cell-editor-border-color);}\n",
       ".datatable .vellipsis {  background: var(--jp-layout-color0);  color: var(--jp-cell-editor-border-color);}\n",
       ".datatable .na {  color: var(--jp-cell-editor-border-color);  font-size: 80%;}\n",
       ".datatable .sp {  opacity: 0.25;}\n",
       ".datatable .footer { font-size: 9px; }\n",
       ".datatable .frame_dimensions {  background: var(--jp-border-color3);  border-top: 1px solid var(--jp-border-color0);  color: var(--jp-ui-font-color3);  display: inline-block;  opacity: 0.6;  padding: 1px 10px 1px 5px;}\n",
       "</style>\n"
      ],
      "text/plain": [
       "<IPython.core.display.HTML object>"
      ]
     },
     "metadata": {},
     "output_type": "display_data"
    },
    {
     "name": "stdout",
     "output_type": "stream",
     "text": [
      "[LightGBM] [Warning] min_data_in_leaf is set=200, min_child_samples=20 will be ignored. Current value: min_data_in_leaf=200\n",
      "[LightGBM] [Warning] min_data_in_leaf is set=200, min_child_samples=20 will be ignored. Current value: min_data_in_leaf=200\n",
      "[LightGBM] [Warning] min_data_in_leaf is set=200, min_child_samples=20 will be ignored. Current value: min_data_in_leaf=200\n",
      "[LightGBM] [Warning] min_data_in_leaf is set=200, min_child_samples=20 will be ignored. Current value: min_data_in_leaf=200\n",
      "[LightGBM] [Warning] min_data_in_leaf is set=200, min_child_samples=20 will be ignored. Current value: min_data_in_leaf=200\n",
      "0.7090909090909091 0.7818181818181819 0.6909090909090909 0.6636363636363637 0.7818181818181819\n"
     ]
    }
   ],
   "source": [
    "from sklearn.metrics import brier_score_loss, roc_auc_score, confusion_matrix\n",
    "from sklearn.model_selection import cross_val_score\n",
    "import lightgbm\n",
    "\n",
    "model = lightgbm.LGBMClassifier(objective=\"binary\", min_data_in_leaf=200)\n",
    "model.fit(X_train, y_train)\n",
    "\n",
    "scores = cross_val_score(model, X_train, y_train, cv=5)\n",
    "print(*scores)\n"
   ]
  },
  {
   "cell_type": "code",
   "execution_count": 9,
   "id": "2f0c15a9",
   "metadata": {
    "execution": {
     "iopub.execute_input": "2023-03-15T00:03:34.475528Z",
     "iopub.status.busy": "2023-03-15T00:03:34.475197Z",
     "iopub.status.idle": "2023-03-15T00:03:34.725974Z",
     "shell.execute_reply": "2023-03-15T00:03:34.724312Z"
    },
    "papermill": {
     "duration": 0.260778,
     "end_time": "2023-03-15T00:03:34.729704",
     "exception": false,
     "start_time": "2023-03-15T00:03:34.468926",
     "status": "completed"
    },
    "tags": []
   },
   "outputs": [
    {
     "name": "stdout",
     "output_type": "stream",
     "text": [
      "[LightGBM] [Warning] min_data_in_leaf is set=200, min_child_samples=20 will be ignored. Current value: min_data_in_leaf=200\n",
      "Training Score: 0.7858117326057299\n",
      "Brier Score: 0.21418826739427013\n",
      "ROC AUC: 0.7858148893360161\n",
      "Parameters\n",
      "- boosting_type: gbdt\n",
      "- class_weight: None\n",
      "- colsample_bytree: 1.0\n",
      "- importance_type: split\n",
      "- learning_rate: 0.1\n",
      "- max_depth: -1\n",
      "- min_child_samples: 20\n",
      "- min_child_weight: 0.001\n",
      "- min_split_gain: 0.0\n",
      "- n_estimators: 100\n",
      "- n_jobs: -1\n",
      "- num_leaves: 31\n",
      "- objective: binary\n",
      "- random_state: None\n",
      "- reg_alpha: 0.0\n",
      "- reg_lambda: 0.0\n",
      "- silent: warn\n",
      "- subsample: 1.0\n",
      "- subsample_for_bin: 200000\n",
      "- subsample_freq: 0\n",
      "- min_data_in_leaf: 200\n",
      "Features\n",
      "- SeedDiff: 22\n",
      "- TOTouDiff: 13\n",
      "- FGPRegDiff: 12\n",
      "- FGMRegDiff: 9\n",
      "- FGARegDiff: 8\n",
      "- OROppTouDiff: 8\n",
      "- TOOppTouDiff: 8\n",
      "- PFRegDiff: 7\n",
      "- FTATouDiff: 7\n",
      "- ScoreOppRegDiff: 6\n",
      "- FGMOppRegDiff: 6\n",
      "- DROppRegDiff: 6\n",
      "- ScoreTouDiff: 6\n",
      "- FGM3RegDiff: 4\n",
      "- ORRegDiff: 4\n",
      "- OROppRegDiff: 4\n",
      "- AstOppRegDiff: 4\n",
      "- FTMTouDiff: 4\n",
      "- AstTouDiff: 4\n",
      "- FTAOppTouDiff: 4\n",
      "- OrdinalRankDiff: 4\n",
      "- ScoreRegDiff: 3\n",
      "- DRRegDiff: 3\n",
      "- BlkRegDiff: 3\n",
      "- FGP3RegDiff: 3\n",
      "- DRTouDiff: 3\n",
      "- FTMOppTouDiff: 3\n",
      "- FTPTouDiff: 3\n",
      "- FTMOppRegDiff: 2\n",
      "- ORTouDiff: 2\n",
      "- StlTouDiff: 2\n",
      "- FGAOppTouDiff: 2\n",
      "- AstOppTouDiff: 2\n",
      "- FTPOppTouDiff: 2\n",
      "- FGAOppRegDiff: 1\n",
      "- PFOppRegDiff: 1\n",
      "- FTPRegDiff: 1\n",
      "- FTPOppRegDiff: 1\n",
      "- BlkTouDiff: 1\n",
      "- DROppTouDiff: 1\n",
      "- FGPTouDiff: 1\n",
      "- FGP3TouDiff: 1\n",
      "- NumOTRegDiff: 0\n",
      "- FGA3RegDiff: 0\n",
      "- FTMRegDiff: 0\n",
      "- FTARegDiff: 0\n",
      "- AstRegDiff: 0\n",
      "- TORegDiff: 0\n",
      "- StlRegDiff: 0\n",
      "- FGM3OppRegDiff: 0\n",
      "- FGA3OppRegDiff: 0\n",
      "- FTAOppRegDiff: 0\n",
      "- TOOppRegDiff: 0\n",
      "- StlOppRegDiff: 0\n",
      "- BlkOppRegDiff: 0\n",
      "- FGPOppRegDiff: 0\n",
      "- FGP3OppRegDiff: 0\n",
      "- ScoreOppTouDiff: 0\n",
      "- NumOTTouDiff: 0\n",
      "- FGMTouDiff: 0\n",
      "- FGATouDiff: 0\n",
      "- FGM3TouDiff: 0\n",
      "- FGA3TouDiff: 0\n",
      "- PFTouDiff: 0\n",
      "- FGMOppTouDiff: 0\n",
      "- FGM3OppTouDiff: 0\n",
      "- FGA3OppTouDiff: 0\n",
      "- StlOppTouDiff: 0\n",
      "- BlkOppTouDiff: 0\n",
      "- PFOppTouDiff: 0\n",
      "- FGPOppTouDiff: 0\n",
      "- FGP3OppTouDiff: 0\n"
     ]
    }
   ],
   "source": [
    "outcomes = get_game_outcomes(data)\n",
    "features_full = merge_outcomes_with_features(outcomes, features)\n",
    "y = features_full[\"Win\"]\n",
    "X = features_full.drop(\"Win\", axis=1)\n",
    "model.fit(X, y)\n",
    "preds = model.predict(X)\n",
    "print(\"Training Score:\", model.score(X, y))\n",
    "print(\"Brier Score:\", brier_score_loss(y, preds))\n",
    "print(\"ROC AUC:\", roc_auc_score(y, preds))\n",
    "print(\"Parameters\")\n",
    "print(*(f\"- {key}: {value}\" for key, value in model.get_params(deep=True).items()), sep=\"\\n\")\n",
    "print(\"Features\")\n",
    "print(*(f\"- {name}: {imp}\" for name, imp in sorted(zip(model.feature_name_, model.feature_importances_), key=lambda x: x[1], reverse=True)), sep=\"\\n\")\n"
   ]
  },
  {
   "cell_type": "markdown",
   "id": "1b220350",
   "metadata": {
    "papermill": {
     "duration": 0.004307,
     "end_time": "2023-03-15T00:03:34.739423",
     "exception": false,
     "start_time": "2023-03-15T00:03:34.735116",
     "status": "completed"
    },
    "tags": []
   },
   "source": [
    "# Submit to the competition\n",
    "\n",
    "We\"ll begin by using the trained model to generate predictions, which we\"ll save to a CSV file."
   ]
  },
  {
   "cell_type": "code",
   "execution_count": 10,
   "id": "fcca3814",
   "metadata": {
    "execution": {
     "iopub.execute_input": "2023-03-15T00:03:34.749189Z",
     "iopub.status.busy": "2023-03-15T00:03:34.748861Z",
     "iopub.status.idle": "2023-03-15T00:03:36.995248Z",
     "shell.execute_reply": "2023-03-15T00:03:36.994097Z"
    },
    "papermill": {
     "duration": 2.253855,
     "end_time": "2023-03-15T00:03:36.997596",
     "exception": false,
     "start_time": "2023-03-15T00:03:34.743741",
     "status": "completed"
    },
    "tags": []
   },
   "outputs": [
    {
     "name": "stdout",
     "output_type": "stream",
     "text": [
      "(614319, 2)\n"
     ]
    },
    {
     "data": {
      "text/html": [
       "<div>\n",
       "<style scoped>\n",
       "    .dataframe tbody tr th:only-of-type {\n",
       "        vertical-align: middle;\n",
       "    }\n",
       "\n",
       "    .dataframe tbody tr th {\n",
       "        vertical-align: top;\n",
       "    }\n",
       "\n",
       "    .dataframe thead th {\n",
       "        text-align: right;\n",
       "    }\n",
       "</style>\n",
       "<table border=\"1\" class=\"dataframe\">\n",
       "  <thead>\n",
       "    <tr style=\"text-align: right;\">\n",
       "      <th></th>\n",
       "      <th>Pred</th>\n",
       "    </tr>\n",
       "  </thead>\n",
       "  <tbody>\n",
       "    <tr>\n",
       "      <th>count</th>\n",
       "      <td>614319.000000</td>\n",
       "    </tr>\n",
       "    <tr>\n",
       "      <th>mean</th>\n",
       "      <td>0.688762</td>\n",
       "    </tr>\n",
       "    <tr>\n",
       "      <th>std</th>\n",
       "      <td>0.028878</td>\n",
       "    </tr>\n",
       "    <tr>\n",
       "      <th>min</th>\n",
       "      <td>0.048936</td>\n",
       "    </tr>\n",
       "    <tr>\n",
       "      <th>25%</th>\n",
       "      <td>0.690212</td>\n",
       "    </tr>\n",
       "    <tr>\n",
       "      <th>50%</th>\n",
       "      <td>0.690212</td>\n",
       "    </tr>\n",
       "    <tr>\n",
       "      <th>75%</th>\n",
       "      <td>0.690212</td>\n",
       "    </tr>\n",
       "    <tr>\n",
       "      <th>max</th>\n",
       "      <td>0.949400</td>\n",
       "    </tr>\n",
       "  </tbody>\n",
       "</table>\n",
       "</div>"
      ],
      "text/plain": [
       "                Pred\n",
       "count  614319.000000\n",
       "mean        0.688762\n",
       "std         0.028878\n",
       "min         0.048936\n",
       "25%         0.690212\n",
       "50%         0.690212\n",
       "75%         0.690212\n",
       "max         0.949400"
      ]
     },
     "execution_count": 10,
     "metadata": {},
     "output_type": "execute_result"
    }
   ],
   "source": [
    "# Use the model to generate predictions\n",
    "\n",
    "predictions = model.predict_proba(X_submission)[:,1]\n",
    "\n",
    "# Save the predictions to a CSV file\n",
    "output = pd.DataFrame({\"ID\": X_submission.index,\n",
    "                       \"Pred\": predictions})\n",
    "output.to_csv(\"submission.csv\", index=False)\n",
    "print(output.shape)\n",
    "output.describe()"
   ]
  }
 ],
 "metadata": {
  "kernelspec": {
   "display_name": "Python 3",
   "language": "python",
   "name": "python3"
  },
  "language_info": {
   "codemirror_mode": {
    "name": "ipython",
    "version": 3
   },
   "file_extension": ".py",
   "mimetype": "text/x-python",
   "name": "python",
   "nbconvert_exporter": "python",
   "pygments_lexer": "ipython3",
   "version": "3.7.12"
  },
  "papermill": {
   "default_parameters": {},
   "duration": 63.020975,
   "end_time": "2023-03-15T00:03:38.026570",
   "environment_variables": {},
   "exception": null,
   "input_path": "__notebook__.ipynb",
   "output_path": "__notebook__.ipynb",
   "parameters": {},
   "start_time": "2023-03-15T00:02:35.005595",
   "version": "2.4.0"
  }
 },
 "nbformat": 4,
 "nbformat_minor": 5
}
