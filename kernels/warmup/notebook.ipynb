{
 "cells": [
  {
   "cell_type": "markdown",
   "id": "499382d3",
   "metadata": {
    "papermill": {
     "duration": 0.004898,
     "end_time": "2023-03-15T19:54:44.398617",
     "exception": false,
     "start_time": "2023-03-15T19:54:44.393719",
     "status": "completed"
    },
    "tags": []
   },
   "source": [
    "# Imports and Utilities"
   ]
  },
  {
   "cell_type": "code",
   "execution_count": 1,
   "id": "91f73d45",
   "metadata": {
    "execution": {
     "iopub.execute_input": "2023-03-15T19:54:44.408818Z",
     "iopub.status.busy": "2023-03-15T19:54:44.408076Z",
     "iopub.status.idle": "2023-03-15T19:54:47.650025Z",
     "shell.execute_reply": "2023-03-15T19:54:47.649017Z"
    },
    "papermill": {
     "duration": 3.250124,
     "end_time": "2023-03-15T19:54:47.652644",
     "exception": false,
     "start_time": "2023-03-15T19:54:44.402520",
     "status": "completed"
    },
    "tags": []
   },
   "outputs": [
    {
     "data": {
      "text/html": [
       "<style type='text/css'>\n",
       ".datatable table.frame { margin-bottom: 0; }\n",
       ".datatable table.frame thead { border-bottom: none; }\n",
       ".datatable table.frame tr.coltypes td {  color: #FFFFFF;  line-height: 6px;  padding: 0 0.5em;}\n",
       ".datatable .bool    { background: #DDDD99; }\n",
       ".datatable .object  { background: #565656; }\n",
       ".datatable .int     { background: #5D9E5D; }\n",
       ".datatable .float   { background: #4040CC; }\n",
       ".datatable .str     { background: #CC4040; }\n",
       ".datatable .time    { background: #40CC40; }\n",
       ".datatable .row_index {  background: var(--jp-border-color3);  border-right: 1px solid var(--jp-border-color0);  color: var(--jp-ui-font-color3);  font-size: 9px;}\n",
       ".datatable .frame tbody td { text-align: left; }\n",
       ".datatable .frame tr.coltypes .row_index {  background: var(--jp-border-color0);}\n",
       ".datatable th:nth-child(2) { padding-left: 12px; }\n",
       ".datatable .hellipsis {  color: var(--jp-cell-editor-border-color);}\n",
       ".datatable .vellipsis {  background: var(--jp-layout-color0);  color: var(--jp-cell-editor-border-color);}\n",
       ".datatable .na {  color: var(--jp-cell-editor-border-color);  font-size: 80%;}\n",
       ".datatable .sp {  opacity: 0.25;}\n",
       ".datatable .footer { font-size: 9px; }\n",
       ".datatable .frame_dimensions {  background: var(--jp-border-color3);  border-top: 1px solid var(--jp-border-color0);  color: var(--jp-ui-font-color3);  display: inline-block;  opacity: 0.6;  padding: 1px 10px 1px 5px;}\n",
       "</style>\n"
      ],
      "text/plain": [
       "<IPython.core.display.HTML object>"
      ]
     },
     "metadata": {},
     "output_type": "display_data"
    }
   ],
   "source": [
    "from typing import List, Tuple\n",
    "import numpy as np\n",
    "import pandas as pd\n",
    "from IPython.display import Markdown\n",
    "import optuna\n",
    "import lightgbm as lgb\n",
    "from sklearn.metrics import roc_auc_score, brier_score_loss\n",
    "from sklearn.model_selection import cross_val_score\n",
    "\n",
    "COMPETITION_NAME = \"warmup-round-march-machine-learning-mania-2023\"\n",
    "VERBOSE = False\n",
    "\n",
    "pd.set_option(\"display.max_columns\", None)\n",
    "\n",
    "def show_df(df: pd.DataFrame, name: str = \"DataFrame\", verbose: bool = VERBOSE):\n",
    "    if verbose:\n",
    "        display(Markdown(f\"## {name}\"))\n",
    "        display(Markdown(\"### Head\"))\n",
    "        display(df.head())\n",
    "        display(Markdown(\"### Tail\"))\n",
    "        display(df.tail())\n",
    "        display(Markdown(\"### Description\"))\n",
    "        display(df.describe())\n",
    "\n",
    "\n",
    "def extract_data(filename: str, competition_name:str = COMPETITION_NAME) -> pd.DataFrame:\n",
    "    mens_filepath = f\"/kaggle/input/{competition_name}/M{filename}.csv\"\n",
    "    womens_filepath = f\"/kaggle/input/{competition_name}/W{filename}.csv\"\n",
    "    try:\n",
    "        df_mens = pd.read_csv(mens_filepath)\n",
    "    except FileNotFoundError:\n",
    "        df_mens = None\n",
    "    try:\n",
    "        df_womens = pd.read_csv(womens_filepath)\n",
    "    except FileNotFoundError:\n",
    "        df_womens = None\n",
    "    df = pd.concat([df_mens, df_womens])\n",
    "    show_df(df, filename)\n",
    "    return df\n",
    "\n",
    "\n",
    "def get_team_features(detailed_results: pd.DataFrame) -> pd.DataFrame:\n",
    "    df = detailed_results.copy()\n",
    "    df = clean_detailed_results(df)\n",
    "    df = transform_game_to_team(df)\n",
    "    df = transform_team_results(df)\n",
    "    show_df(df)\n",
    "    return df\n",
    "\n",
    "\n",
    "def get_seed_features(df_in: pd.DataFrame) -> pd.DataFrame:\n",
    "    df = df_in.copy()\n",
    "    mask = df[\"Season\"] > 2002\n",
    "    df = df[mask]\n",
    "    df[\"Seed\"] = df[\"Seed\"].str.replace(r\"\\D+\",\"\", regex=True)\n",
    "    df[\"Seed\"] = df[\"Seed\"].astype(int)\n",
    "    show_df(df)\n",
    "    return df\n",
    "\n",
    "\n",
    "def get_ranking_features(df_in:pd.DataFrame) -> pd.DataFrame:\n",
    "    df = df_in.copy()\n",
    "    mask = df[\"RankingDayNum\"] == df[\"RankingDayNum\"].max()\n",
    "    df = df[mask]\n",
    "    df.drop([\"SystemName\", \"RankingDayNum\"], axis=1, inplace=True)\n",
    "    df = df.groupby([\"Season\", \"TeamID\"]).agg(\"median\")\n",
    "    df = df.reset_index()\n",
    "    show_df(df)\n",
    "    return df\n",
    "\n",
    "\n",
    "def get_game_outcomes(df):\n",
    "    input_rows = df.to_records()\n",
    "    output_rows = []\n",
    "    for input_row in input_rows:\n",
    "        output_rows.extend(parse_row(input_row))\n",
    "    out_df = pd.DataFrame(output_rows)\n",
    "    return out_df\n",
    "\n",
    "def parse_row(row):\n",
    "    season = row['Season']\n",
    "    winning_team_id = row['WTeamID']\n",
    "    losing_team_id = row['LTeamID']\n",
    "    if winning_team_id < losing_team_id:\n",
    "        small_id = winning_team_id\n",
    "        big_id = losing_team_id\n",
    "        outcome = True\n",
    "    elif losing_team_id < winning_team_id:\n",
    "        small_id = losing_team_id\n",
    "        big_id = winning_team_id\n",
    "        outcome = False\n",
    "    records = [\n",
    "        {\n",
    "            \"ID\": f\"{season}_{small_id}_{big_id}\",\n",
    "            'Season': season,\n",
    "            'LowID': small_id,\n",
    "            'HighID': big_id,\n",
    "            'Win': outcome\n",
    "        },\n",
    "        {\n",
    "            \"ID\": f\"{season}_{big_id}_{small_id}\",\n",
    "            'Season': season,\n",
    "            'LowID': big_id,\n",
    "            'HighID': small_id,\n",
    "            'Win': not outcome\n",
    "        },\n",
    "    ]\n",
    "    return records\n",
    "\n",
    "\n",
    "def clean_detailed_results(df: pd.DataFrame) -> pd.DataFrame:\n",
    "    return df.drop([\"WLoc\", \"DayNum\"], axis=1)\n",
    "\n",
    "\n",
    "def transform_game_to_team(game_results: pd.DataFrame) -> pd.DataFrame:\n",
    "    winners = rename_columns(game_results, \"W\")\n",
    "    loosers = rename_columns(game_results, \"L\")\n",
    "    team_results = pd.concat((winners, loosers))\n",
    "    team_results.drop([\"TeamIDOpp\"], axis=1, inplace=True)\n",
    "    return team_results\n",
    "\n",
    "\n",
    "def transform_team_results(df: pd.DataFrame) -> pd.DataFrame:\n",
    "    df = df.groupby([\"Season\", \"TeamID\"]).median()\n",
    "    df[\"FGP\"] =  df[\"FGM\"] / df[\"FGA\"]\n",
    "    df[\"FGP3\"] =  df[\"FGM3\"] / df[\"FGA3\"]\n",
    "    df[\"FTP\"] =  df[\"FTM\"] / df[\"FTA\"]\n",
    "    df[\"FGPOpp\"] =  df[\"FGMOpp\"] / df[\"FGAOpp\"]\n",
    "    df[\"FGP3Opp\"] =  df[\"FGM3Opp\"] / df[\"FGA3Opp\"]\n",
    "    df[\"FTPOpp\"] =  df[\"FTMOpp\"] / df[\"FTAOpp\"]\n",
    "    return df.reset_index()\n",
    "    \n",
    "    \n",
    "def rename_columns(df: pd.DataFrame, team_prefix: str) -> pd.DataFrame:\n",
    "    df = df.copy()\n",
    "    df.columns =  (rename_column(column_name, team_prefix) for column_name in df.columns)\n",
    "    return df\n",
    "\n",
    "\n",
    "def rename_column(column_name: str, team_prefix: str) -> pd.DataFrame:\n",
    "    if team_prefix == \"W\":\n",
    "        opponent_prefix = \"L\"\n",
    "    elif team_prefix == \"L\":\n",
    "        opponent_prefix = \"W\"\n",
    "    else:\n",
    "        raise ValueError\n",
    "    if column_name.startswith(team_prefix):\n",
    "        column_name = column_name.lstrip(team_prefix)\n",
    "    elif column_name.startswith(opponent_prefix):\n",
    "        column_name = f\"{column_name.lstrip(opponent_prefix)}Opp\"\n",
    "    return column_name\n",
    "\n",
    "\n",
    "def split_winner_and_looser_columns(df: pd.DataFrame) -> Tuple[List[str], List[str]]:\n",
    "    winner_columns = [name for name in df.columns if not name.startswith(\"L\")]\n",
    "    looser_columns = [name for name in df.columns if not name.startswith(\"W\")]\n",
    "    return winner_columns, looser_columns\n",
    "\n",
    "\n",
    "def merge_features(\n",
    "    season_features: pd.DataFrame, \n",
    "    tournament_features: pd.DataFrame, \n",
    "    seed_features: pd.DataFrame, \n",
    "    ranking_features: pd.DataFrame\n",
    ") -> pd.DataFrame:\n",
    "    features = pd.merge(\n",
    "        season_features,\n",
    "        tournament_features,\n",
    "        how=\"inner\",\n",
    "        on=[\"Season\", \"TeamID\"],\n",
    "        suffixes=(\"Reg\", \"Tou\")\n",
    "    )\n",
    "    features = features.merge(\n",
    "        seed_features,\n",
    "        how=\"inner\",\n",
    "        on=[\"Season\", \"TeamID\"]\n",
    "    )\n",
    "    features = features.merge(\n",
    "        ranking_features,\n",
    "        how=\"left\",\n",
    "        on=[\"Season\", \"TeamID\"],\n",
    "    )\n",
    "    show_df(features)\n",
    "    return features\n",
    "\n",
    "\n",
    "def merge_outcomes_with_features(outcomes: pd.DataFrame, features: pd.DataFrame, how: str = \"inner\") -> pd.DataFrame:\n",
    "    feature_names = [name for name in features.columns if name not in [\"Season\", \"TeamID\", \"Gender\"]]\n",
    "    data = pd.merge(\n",
    "        outcomes, \n",
    "        features, \n",
    "        how=how, \n",
    "        left_on=[\"Season\", \"HighID\"], \n",
    "        right_on=[\"Season\", \"TeamID\"]\n",
    "    )\n",
    "    data = pd.merge(\n",
    "        data, \n",
    "        features, \n",
    "        how=how, \n",
    "        left_on=[\"Season\", \"LowID\"], \n",
    "        right_on=[\"Season\", \"TeamID\"],\n",
    "        suffixes=(\"High\", \"Low\")\n",
    "    )\n",
    "    for name in feature_names:\n",
    "        data[f\"{name}Diff\"] = data[f\"{name}High\"] - data[f\"{name}Low\"]\n",
    "        data.drop([f\"{name}High\", f\"{name}Low\"], axis=1, inplace=True)\n",
    "    data.drop(\n",
    "        [\"Season\", \"HighID\", \"LowID\",\"TeamIDHigh\",\"TeamIDLow\"], \n",
    "        axis=1, \n",
    "        inplace=True\n",
    "    )\n",
    "    data.set_index(\"ID\", inplace=True)\n",
    "    show_df(data)\n",
    "    return data\n",
    "\n",
    "\n",
    "def get_submission_outcomes() -> pd.DataFrame:\n",
    "    sample_submission = pd.read_csv(f\"/kaggle/input/{COMPETITION_NAME}/SampleSubmissionWarmup.csv\")\n",
    "    df = sample_submission.copy()\n",
    "    df.drop(\"Pred\", axis=1, inplace=True)\n",
    "    df[[\"Season\", \"LowID\", \"HighID\"]] = df[\"ID\"].str.split(\"_\", expand=True)\n",
    "    df[[\"Season\", \"LowID\", \"HighID\"]] = df[[\"Season\", \"LowID\", \"HighID\"]].astype(int)\n",
    "    show_df(df)\n",
    "    return df\n",
    "\n",
    "\n",
    "def objective(trial: optuna.Trial, X_train, y_train):\n",
    "    params = {\n",
    "        \"objective\": \"binary\",\n",
    "        \"metric\": \"roc_auc\",\n",
    "        \"verbosity\": -1,\n",
    "        \"boosting_type\": \"gbdt\",\n",
    "        \"lambda_l1\": trial.suggest_float(\"lambda_l1\", 1e-8, 10.0, log=True),\n",
    "        \"lambda_l2\": trial.suggest_float(\"lambda_l2\", 1e-8, 10.0, log=True),\n",
    "        \"num_leaves\": trial.suggest_int(\"num_leaves\", 2, 256),\n",
    "        \"feature_fraction\": trial.suggest_float(\"feature_fraction\", 0.4, 1.0),\n",
    "        \"bagging_fraction\": trial.suggest_float(\"bagging_fraction\", 0.4, 1.0),\n",
    "        \"bagging_freq\": trial.suggest_int(\"bagging_freq\", 1, 7),\n",
    "        \"min_child_samples\": trial.suggest_int(\"min_child_samples\", 5, 100),\n",
    "    }\n",
    "    model = lgb.LGBMClassifier(**params)\n",
    "    score = np.mean(cross_val_score(model, X_train, y_train, scoring=\"roc_auc\", cv=5))\n",
    "    return score\n",
    "\n",
    "\n",
    "def run_study(X_train, y_train):\n",
    "    study = optuna.create_study(direction=\"maximize\")\n",
    "    study.optimize(lambda trial: objective(trial, X_train, y_train), n_trials=100)\n",
    "    return study\n",
    "\n",
    "\n",
    "def train_optimized_model(study, X, y):\n",
    "    params = study.best_params\n",
    "    model = lgb.LGBMClassifier(\n",
    "        objective=\"binary\",\n",
    "        metric=\"roc_auc\",\n",
    "        verbosity=-1,\n",
    "        boosting_type=\"gbdt\",\n",
    "        **params\n",
    "    )\n",
    "    model = model.fit(X, y)\n",
    "    return model"
   ]
  },
  {
   "cell_type": "markdown",
   "id": "5e65fe6e",
   "metadata": {
    "papermill": {
     "duration": 0.003679,
     "end_time": "2023-03-15T19:54:47.660591",
     "exception": false,
     "start_time": "2023-03-15T19:54:47.656912",
     "status": "completed"
    },
    "tags": []
   },
   "source": [
    "# Load Data"
   ]
  },
  {
   "cell_type": "code",
   "execution_count": 2,
   "id": "03d8a542",
   "metadata": {
    "execution": {
     "iopub.execute_input": "2023-03-15T19:54:47.669506Z",
     "iopub.status.busy": "2023-03-15T19:54:47.669223Z",
     "iopub.status.idle": "2023-03-15T19:54:50.813914Z",
     "shell.execute_reply": "2023-03-15T19:54:50.812739Z"
    },
    "papermill": {
     "duration": 3.152121,
     "end_time": "2023-03-15T19:54:50.816548",
     "exception": false,
     "start_time": "2023-03-15T19:54:47.664427",
     "status": "completed"
    },
    "tags": []
   },
   "outputs": [],
   "source": [
    "season_results = extract_data(\"RegularSeasonDetailedResults\")\n",
    "tournament_results = extract_data(\"NCAATourneyDetailedResults\")\n",
    "seeds = extract_data(\"NCAATourneySeeds\")\n",
    "rankings = extract_data(\"MasseyOrdinals\")"
   ]
  },
  {
   "cell_type": "markdown",
   "id": "b00081de",
   "metadata": {
    "papermill": {
     "duration": 0.003881,
     "end_time": "2023-03-15T19:54:50.824689",
     "exception": false,
     "start_time": "2023-03-15T19:54:50.820808",
     "status": "completed"
    },
    "tags": []
   },
   "source": [
    "# Transform Data"
   ]
  },
  {
   "cell_type": "code",
   "execution_count": 3,
   "id": "dcfd998b",
   "metadata": {
    "execution": {
     "iopub.execute_input": "2023-03-15T19:54:50.834406Z",
     "iopub.status.busy": "2023-03-15T19:54:50.833597Z",
     "iopub.status.idle": "2023-03-15T19:54:51.650026Z",
     "shell.execute_reply": "2023-03-15T19:54:51.648951Z"
    },
    "papermill": {
     "duration": 0.823845,
     "end_time": "2023-03-15T19:54:51.652542",
     "exception": false,
     "start_time": "2023-03-15T19:54:50.828697",
     "status": "completed"
    },
    "tags": []
   },
   "outputs": [],
   "source": [
    "season_team_features = get_team_features(season_results)\n",
    "\n",
    "tournament_results[\"Season\"] += 1\n",
    "tournament_team_features = get_team_features(tournament_results)\n",
    "\n",
    "seed_features = get_seed_features(seeds)\n",
    "\n",
    "ranking_features = get_ranking_features(rankings)"
   ]
  },
  {
   "cell_type": "markdown",
   "id": "aad5dc92",
   "metadata": {
    "execution": {
     "iopub.execute_input": "2022-03-17T02:19:13.394565Z",
     "iopub.status.busy": "2022-03-17T02:19:13.394252Z",
     "iopub.status.idle": "2022-03-17T02:19:13.39899Z",
     "shell.execute_reply": "2022-03-17T02:19:13.397787Z",
     "shell.execute_reply.started": "2022-03-17T02:19:13.394538Z"
    },
    "papermill": {
     "duration": 0.003724,
     "end_time": "2023-03-15T19:54:51.660545",
     "exception": false,
     "start_time": "2023-03-15T19:54:51.656821",
     "status": "completed"
    },
    "tags": []
   },
   "source": [
    "## Merge features"
   ]
  },
  {
   "cell_type": "code",
   "execution_count": 4,
   "id": "e226c771",
   "metadata": {
    "execution": {
     "iopub.execute_input": "2023-03-15T19:54:51.669550Z",
     "iopub.status.busy": "2023-03-15T19:54:51.669251Z",
     "iopub.status.idle": "2023-03-15T19:54:51.690516Z",
     "shell.execute_reply": "2023-03-15T19:54:51.689550Z"
    },
    "papermill": {
     "duration": 0.028363,
     "end_time": "2023-03-15T19:54:51.692789",
     "exception": false,
     "start_time": "2023-03-15T19:54:51.664426",
     "status": "completed"
    },
    "tags": []
   },
   "outputs": [],
   "source": [
    "features = merge_features(season_team_features, tournament_team_features, seed_features, ranking_features)"
   ]
  },
  {
   "cell_type": "markdown",
   "id": "d323f6c6",
   "metadata": {
    "papermill": {
     "duration": 0.003868,
     "end_time": "2023-03-15T19:54:51.700498",
     "exception": false,
     "start_time": "2023-03-15T19:54:51.696630",
     "status": "completed"
    },
    "tags": []
   },
   "source": [
    "## Build Datasets"
   ]
  },
  {
   "cell_type": "code",
   "execution_count": 5,
   "id": "291e110f",
   "metadata": {
    "execution": {
     "iopub.execute_input": "2023-03-15T19:54:51.709278Z",
     "iopub.status.busy": "2023-03-15T19:54:51.709006Z",
     "iopub.status.idle": "2023-03-15T19:54:54.296974Z",
     "shell.execute_reply": "2023-03-15T19:54:54.295825Z"
    },
    "papermill": {
     "duration": 2.595465,
     "end_time": "2023-03-15T19:54:54.299796",
     "exception": false,
     "start_time": "2023-03-15T19:54:51.704331",
     "status": "completed"
    },
    "tags": []
   },
   "outputs": [],
   "source": [
    "from sklearn.model_selection import train_test_split\n",
    "\n",
    "data = extract_data(\"NCAATourneyCompactResults\")\n",
    "data_train, data_valid = train_test_split(data, random_state=0, test_size=0.1)\n",
    "\n",
    "outcomes = get_game_outcomes(data)\n",
    "outcomes_train = get_game_outcomes(data_train)\n",
    "outcomes_valid = get_game_outcomes(data_valid)\n",
    "outcomes_submission = get_submission_outcomes()"
   ]
  },
  {
   "cell_type": "code",
   "execution_count": 6,
   "id": "92ab69a9",
   "metadata": {
    "execution": {
     "iopub.execute_input": "2023-03-15T19:54:54.310339Z",
     "iopub.status.busy": "2023-03-15T19:54:54.310001Z",
     "iopub.status.idle": "2023-03-15T19:54:54.713804Z",
     "shell.execute_reply": "2023-03-15T19:54:54.712752Z"
    },
    "papermill": {
     "duration": 0.411999,
     "end_time": "2023-03-15T19:54:54.716513",
     "exception": false,
     "start_time": "2023-03-15T19:54:54.304514",
     "status": "completed"
    },
    "tags": []
   },
   "outputs": [],
   "source": [
    "features_train = merge_outcomes_with_features(outcomes_train, features)\n",
    "features_valid = merge_outcomes_with_features(outcomes_valid, features)\n",
    "features_full = merge_outcomes_with_features(outcomes, features)"
   ]
  },
  {
   "cell_type": "code",
   "execution_count": 7,
   "id": "15f34753",
   "metadata": {
    "execution": {
     "iopub.execute_input": "2023-03-15T19:54:54.727389Z",
     "iopub.status.busy": "2023-03-15T19:54:54.727068Z",
     "iopub.status.idle": "2023-03-15T19:55:34.739377Z",
     "shell.execute_reply": "2023-03-15T19:55:34.738306Z"
    },
    "papermill": {
     "duration": 40.021079,
     "end_time": "2023-03-15T19:55:34.742366",
     "exception": false,
     "start_time": "2023-03-15T19:54:54.721287",
     "status": "completed"
    },
    "tags": []
   },
   "outputs": [],
   "source": [
    "y_train = features_train[\"Win\"]\n",
    "X_train = features_train.drop(\"Win\", axis=1)\n",
    "y_valid = features_valid[\"Win\"]\n",
    "X_valid = features_valid.drop(\"Win\", axis=1)\n",
    "y = features_full[\"Win\"]\n",
    "X = features_full.drop(\"Win\", axis=1)\n",
    "X_submission = merge_outcomes_with_features(outcomes_submission, features, how=\"left\").fillna(0)"
   ]
  },
  {
   "cell_type": "markdown",
   "id": "e6ebe9f1",
   "metadata": {
    "papermill": {
     "duration": 0.00373,
     "end_time": "2023-03-15T19:55:34.750423",
     "exception": false,
     "start_time": "2023-03-15T19:55:34.746693",
     "status": "completed"
    },
    "tags": []
   },
   "source": [
    "# Step 4: Train a model\n"
   ]
  },
  {
   "cell_type": "code",
   "execution_count": 8,
   "id": "bc9ffe48",
   "metadata": {
    "execution": {
     "iopub.execute_input": "2023-03-15T19:55:34.759522Z",
     "iopub.status.busy": "2023-03-15T19:55:34.759218Z",
     "iopub.status.idle": "2023-03-15T19:56:15.166012Z",
     "shell.execute_reply": "2023-03-15T19:56:15.164732Z"
    },
    "papermill": {
     "duration": 40.414053,
     "end_time": "2023-03-15T19:56:15.168459",
     "exception": false,
     "start_time": "2023-03-15T19:55:34.754406",
     "status": "completed"
    },
    "tags": []
   },
   "outputs": [
    {
     "name": "stderr",
     "output_type": "stream",
     "text": [
      "\u001b[32m[I 2023-03-15 19:55:34,760]\u001b[0m A new study created in memory with name: no-name-4107a562-9c1c-41bd-83d2-3e4b6192fad7\u001b[0m\n"
     ]
    },
    {
     "name": "stdout",
     "output_type": "stream",
     "text": [
      "[LightGBM] [Warning] bagging_fraction is set=0.6436407427328232, subsample=1.0 will be ignored. Current value: bagging_fraction=0.6436407427328232\n",
      "[LightGBM] [Warning] lambda_l1 is set=0.010866154873643726, reg_alpha=0.0 will be ignored. Current value: lambda_l1=0.010866154873643726\n",
      "[LightGBM] [Warning] feature_fraction is set=0.5327030895319131, colsample_bytree=1.0 will be ignored. Current value: feature_fraction=0.5327030895319131\n",
      "[LightGBM] [Warning] lambda_l2 is set=1.538255429324344e-08, reg_lambda=0.0 will be ignored. Current value: lambda_l2=1.538255429324344e-08\n",
      "[LightGBM] [Warning] bagging_freq is set=1, subsample_freq=0 will be ignored. Current value: bagging_freq=1\n",
      "[LightGBM] [Warning] bagging_fraction is set=0.6436407427328232, subsample=1.0 will be ignored. Current value: bagging_fraction=0.6436407427328232\n",
      "[LightGBM] [Warning] lambda_l1 is set=0.010866154873643726, reg_alpha=0.0 will be ignored. Current value: lambda_l1=0.010866154873643726\n",
      "[LightGBM] [Warning] feature_fraction is set=0.5327030895319131, colsample_bytree=1.0 will be ignored. Current value: feature_fraction=0.5327030895319131\n",
      "[LightGBM] [Warning] lambda_l2 is set=1.538255429324344e-08, reg_lambda=0.0 will be ignored. Current value: lambda_l2=1.538255429324344e-08\n",
      "[LightGBM] [Warning] bagging_freq is set=1, subsample_freq=0 will be ignored. Current value: bagging_freq=1\n",
      "[LightGBM] [Warning] bagging_fraction is set=0.6436407427328232, subsample=1.0 will be ignored. Current value: bagging_fraction=0.6436407427328232\n",
      "[LightGBM] [Warning] lambda_l1 is set=0.010866154873643726, reg_alpha=0.0 will be ignored. Current value: lambda_l1=0.010866154873643726\n",
      "[LightGBM] [Warning] feature_fraction is set=0.5327030895319131, colsample_bytree=1.0 will be ignored. Current value: feature_fraction=0.5327030895319131\n",
      "[LightGBM] [Warning] lambda_l2 is set=1.538255429324344e-08, reg_lambda=0.0 will be ignored. Current value: lambda_l2=1.538255429324344e-08\n",
      "[LightGBM] [Warning] bagging_freq is set=1, subsample_freq=0 will be ignored. Current value: bagging_freq=1\n",
      "[LightGBM] [Warning] bagging_fraction is set=0.6436407427328232, subsample=1.0 will be ignored. Current value: bagging_fraction=0.6436407427328232\n",
      "[LightGBM] [Warning] lambda_l1 is set=0.010866154873643726, reg_alpha=0.0 will be ignored. Current value: lambda_l1=0.010866154873643726\n",
      "[LightGBM] [Warning] feature_fraction is set=0.5327030895319131, colsample_bytree=1.0 will be ignored. Current value: feature_fraction=0.5327030895319131\n",
      "[LightGBM] [Warning] lambda_l2 is set=1.538255429324344e-08, reg_lambda=0.0 will be ignored. Current value: lambda_l2=1.538255429324344e-08\n",
      "[LightGBM] [Warning] bagging_freq is set=1, subsample_freq=0 will be ignored. Current value: bagging_freq=1\n"
     ]
    },
    {
     "name": "stderr",
     "output_type": "stream",
     "text": [
      "\u001b[32m[I 2023-03-15 19:55:35,643]\u001b[0m Trial 0 finished with value: 0.7471700946581329 and parameters: {'lambda_l1': 0.010866154873643726, 'lambda_l2': 1.538255429324344e-08, 'num_leaves': 228, 'feature_fraction': 0.5327030895319131, 'bagging_fraction': 0.6436407427328232, 'bagging_freq': 1, 'min_child_samples': 20}. Best is trial 0 with value: 0.7471700946581329.\u001b[0m\n"
     ]
    },
    {
     "name": "stdout",
     "output_type": "stream",
     "text": [
      "[LightGBM] [Warning] bagging_fraction is set=0.6436407427328232, subsample=1.0 will be ignored. Current value: bagging_fraction=0.6436407427328232\n",
      "[LightGBM] [Warning] lambda_l1 is set=0.010866154873643726, reg_alpha=0.0 will be ignored. Current value: lambda_l1=0.010866154873643726\n",
      "[LightGBM] [Warning] feature_fraction is set=0.5327030895319131, colsample_bytree=1.0 will be ignored. Current value: feature_fraction=0.5327030895319131\n",
      "[LightGBM] [Warning] lambda_l2 is set=1.538255429324344e-08, reg_lambda=0.0 will be ignored. Current value: lambda_l2=1.538255429324344e-08\n",
      "[LightGBM] [Warning] bagging_freq is set=1, subsample_freq=0 will be ignored. Current value: bagging_freq=1\n",
      "[LightGBM] [Warning] bagging_fraction is set=0.5607941602810422, subsample=1.0 will be ignored. Current value: bagging_fraction=0.5607941602810422\n",
      "[LightGBM] [Warning] lambda_l1 is set=1.2334837767772882e-06, reg_alpha=0.0 will be ignored. Current value: lambda_l1=1.2334837767772882e-06\n",
      "[LightGBM] [Warning] feature_fraction is set=0.720085190505509, colsample_bytree=1.0 will be ignored. Current value: feature_fraction=0.720085190505509\n",
      "[LightGBM] [Warning] lambda_l2 is set=2.025211033038898e-07, reg_lambda=0.0 will be ignored. Current value: lambda_l2=2.025211033038898e-07\n",
      "[LightGBM] [Warning] bagging_freq is set=1, subsample_freq=0 will be ignored. Current value: bagging_freq=1\n",
      "[LightGBM] [Warning] bagging_fraction is set=0.5607941602810422, subsample=1.0 will be ignored. Current value: bagging_fraction=0.5607941602810422\n",
      "[LightGBM] [Warning] lambda_l1 is set=1.2334837767772882e-06, reg_alpha=0.0 will be ignored. Current value: lambda_l1=1.2334837767772882e-06\n",
      "[LightGBM] [Warning] feature_fraction is set=0.720085190505509, colsample_bytree=1.0 will be ignored. Current value: feature_fraction=0.720085190505509\n",
      "[LightGBM] [Warning] lambda_l2 is set=2.025211033038898e-07, reg_lambda=0.0 will be ignored. Current value: lambda_l2=2.025211033038898e-07\n",
      "[LightGBM] [Warning] bagging_freq is set=1, subsample_freq=0 will be ignored. Current value: bagging_freq=1\n",
      "[LightGBM] [Warning] bagging_fraction is set=0.5607941602810422, subsample=1.0 will be ignored. Current value: bagging_fraction=0.5607941602810422\n",
      "[LightGBM] [Warning] lambda_l1 is set=1.2334837767772882e-06, reg_alpha=0.0 will be ignored. Current value: lambda_l1=1.2334837767772882e-06\n",
      "[LightGBM] [Warning] feature_fraction is set=0.720085190505509, colsample_bytree=1.0 will be ignored. Current value: feature_fraction=0.720085190505509\n",
      "[LightGBM] [Warning] lambda_l2 is set=2.025211033038898e-07, reg_lambda=0.0 will be ignored. Current value: lambda_l2=2.025211033038898e-07\n",
      "[LightGBM] [Warning] bagging_freq is set=1, subsample_freq=0 will be ignored. Current value: bagging_freq=1\n",
      "[LightGBM] [Warning] bagging_fraction is set=0.5607941602810422, subsample=1.0 will be ignored. Current value: bagging_fraction=0.5607941602810422\n",
      "[LightGBM] [Warning] lambda_l1 is set=1.2334837767772882e-06, reg_alpha=0.0 will be ignored. Current value: lambda_l1=1.2334837767772882e-06\n",
      "[LightGBM] [Warning] feature_fraction is set=0.720085190505509, colsample_bytree=1.0 will be ignored. Current value: feature_fraction=0.720085190505509\n",
      "[LightGBM] [Warning] lambda_l2 is set=2.025211033038898e-07, reg_lambda=0.0 will be ignored. Current value: lambda_l2=2.025211033038898e-07\n",
      "[LightGBM] [Warning] bagging_freq is set=1, subsample_freq=0 will be ignored. Current value: bagging_freq=1\n",
      "[LightGBM] [Warning] bagging_fraction is set=0.5607941602810422, subsample=1.0 will be ignored. Current value: bagging_fraction=0.5607941602810422\n",
      "[LightGBM] [Warning] lambda_l1 is set=1.2334837767772882e-06, reg_alpha=0.0 will be ignored. Current value: lambda_l1=1.2334837767772882e-06\n",
      "[LightGBM] [Warning] feature_fraction is set=0.720085190505509, colsample_bytree=1.0 will be ignored. Current value: feature_fraction=0.720085190505509\n",
      "[LightGBM] [Warning] lambda_l2 is set=2.025211033038898e-07, reg_lambda=0.0 will be ignored. Current value: lambda_l2=2.025211033038898e-07\n",
      "[LightGBM] [Warning] bagging_freq is set=1, subsample_freq=0 will be ignored. Current value: bagging_freq=1\n"
     ]
    },
    {
     "name": "stderr",
     "output_type": "stream",
     "text": [
      "\u001b[32m[I 2023-03-15 19:55:36,499]\u001b[0m Trial 1 finished with value: 0.7335838735958353 and parameters: {'lambda_l1': 1.2334837767772882e-06, 'lambda_l2': 2.025211033038898e-07, 'num_leaves': 30, 'feature_fraction': 0.720085190505509, 'bagging_fraction': 0.5607941602810422, 'bagging_freq': 1, 'min_child_samples': 20}. Best is trial 0 with value: 0.7471700946581329.\u001b[0m\n"
     ]
    },
    {
     "name": "stdout",
     "output_type": "stream",
     "text": [
      "[LightGBM] [Warning] bagging_fraction is set=0.7381442630572352, subsample=1.0 will be ignored. Current value: bagging_fraction=0.7381442630572352\n",
      "[LightGBM] [Warning] lambda_l1 is set=0.0006954861082281284, reg_alpha=0.0 will be ignored. Current value: lambda_l1=0.0006954861082281284\n",
      "[LightGBM] [Warning] feature_fraction is set=0.7478509164927757, colsample_bytree=1.0 will be ignored. Current value: feature_fraction=0.7478509164927757\n",
      "[LightGBM] [Warning] lambda_l2 is set=0.008115146983156235, reg_lambda=0.0 will be ignored. Current value: lambda_l2=0.008115146983156235\n",
      "[LightGBM] [Warning] bagging_freq is set=6, subsample_freq=0 will be ignored. Current value: bagging_freq=6\n",
      "[LightGBM] [Warning] bagging_fraction is set=0.7381442630572352, subsample=1.0 will be ignored. Current value: bagging_fraction=0.7381442630572352\n",
      "[LightGBM] [Warning] lambda_l1 is set=0.0006954861082281284, reg_alpha=0.0 will be ignored. Current value: lambda_l1=0.0006954861082281284\n",
      "[LightGBM] [Warning] feature_fraction is set=0.7478509164927757, colsample_bytree=1.0 will be ignored. Current value: feature_fraction=0.7478509164927757\n",
      "[LightGBM] [Warning] lambda_l2 is set=0.008115146983156235, reg_lambda=0.0 will be ignored. Current value: lambda_l2=0.008115146983156235\n",
      "[LightGBM] [Warning] bagging_freq is set=6, subsample_freq=0 will be ignored. Current value: bagging_freq=6\n",
      "[LightGBM] [Warning] bagging_fraction is set=0.7381442630572352, subsample=1.0 will be ignored. Current value: bagging_fraction=0.7381442630572352\n",
      "[LightGBM] [Warning] lambda_l1 is set=0.0006954861082281284, reg_alpha=0.0 will be ignored. Current value: lambda_l1=0.0006954861082281284\n",
      "[LightGBM] [Warning] feature_fraction is set=0.7478509164927757, colsample_bytree=1.0 will be ignored. Current value: feature_fraction=0.7478509164927757\n",
      "[LightGBM] [Warning] lambda_l2 is set=0.008115146983156235, reg_lambda=0.0 will be ignored. Current value: lambda_l2=0.008115146983156235\n",
      "[LightGBM] [Warning] bagging_freq is set=6, subsample_freq=0 will be ignored. Current value: bagging_freq=6\n"
     ]
    },
    {
     "name": "stderr",
     "output_type": "stream",
     "text": [
      "\u001b[32m[I 2023-03-15 19:55:36,972]\u001b[0m Trial 2 finished with value: 0.7557121971595656 and parameters: {'lambda_l1': 0.0006954861082281284, 'lambda_l2': 0.008115146983156235, 'num_leaves': 207, 'feature_fraction': 0.7478509164927757, 'bagging_fraction': 0.7381442630572352, 'bagging_freq': 6, 'min_child_samples': 76}. Best is trial 2 with value: 0.7557121971595656.\u001b[0m\n"
     ]
    },
    {
     "name": "stdout",
     "output_type": "stream",
     "text": [
      "[LightGBM] [Warning] bagging_fraction is set=0.7381442630572352, subsample=1.0 will be ignored. Current value: bagging_fraction=0.7381442630572352\n",
      "[LightGBM] [Warning] lambda_l1 is set=0.0006954861082281284, reg_alpha=0.0 will be ignored. Current value: lambda_l1=0.0006954861082281284\n",
      "[LightGBM] [Warning] feature_fraction is set=0.7478509164927757, colsample_bytree=1.0 will be ignored. Current value: feature_fraction=0.7478509164927757\n",
      "[LightGBM] [Warning] lambda_l2 is set=0.008115146983156235, reg_lambda=0.0 will be ignored. Current value: lambda_l2=0.008115146983156235\n",
      "[LightGBM] [Warning] bagging_freq is set=6, subsample_freq=0 will be ignored. Current value: bagging_freq=6\n",
      "[LightGBM] [Warning] bagging_fraction is set=0.7381442630572352, subsample=1.0 will be ignored. Current value: bagging_fraction=0.7381442630572352\n",
      "[LightGBM] [Warning] lambda_l1 is set=0.0006954861082281284, reg_alpha=0.0 will be ignored. Current value: lambda_l1=0.0006954861082281284\n",
      "[LightGBM] [Warning] feature_fraction is set=0.7478509164927757, colsample_bytree=1.0 will be ignored. Current value: feature_fraction=0.7478509164927757\n",
      "[LightGBM] [Warning] lambda_l2 is set=0.008115146983156235, reg_lambda=0.0 will be ignored. Current value: lambda_l2=0.008115146983156235\n",
      "[LightGBM] [Warning] bagging_freq is set=6, subsample_freq=0 will be ignored. Current value: bagging_freq=6\n",
      "[LightGBM] [Warning] bagging_fraction is set=0.41938438012091983, subsample=1.0 will be ignored. Current value: bagging_fraction=0.41938438012091983\n",
      "[LightGBM] [Warning] lambda_l1 is set=8.508645958780645e-08, reg_alpha=0.0 will be ignored. Current value: lambda_l1=8.508645958780645e-08\n",
      "[LightGBM] [Warning] feature_fraction is set=0.7839582966434789, colsample_bytree=1.0 will be ignored. Current value: feature_fraction=0.7839582966434789\n",
      "[LightGBM] [Warning] lambda_l2 is set=3.8245404452720296e-08, reg_lambda=0.0 will be ignored. Current value: lambda_l2=3.8245404452720296e-08\n",
      "[LightGBM] [Warning] bagging_freq is set=5, subsample_freq=0 will be ignored. Current value: bagging_freq=5\n",
      "[LightGBM] [Warning] bagging_fraction is set=0.41938438012091983, subsample=1.0 will be ignored. Current value: bagging_fraction=0.41938438012091983\n",
      "[LightGBM] [Warning] lambda_l1 is set=8.508645958780645e-08, reg_alpha=0.0 will be ignored. Current value: lambda_l1=8.508645958780645e-08\n",
      "[LightGBM] [Warning] feature_fraction is set=0.7839582966434789, colsample_bytree=1.0 will be ignored. Current value: feature_fraction=0.7839582966434789\n",
      "[LightGBM] [Warning] lambda_l2 is set=3.8245404452720296e-08, reg_lambda=0.0 will be ignored. Current value: lambda_l2=3.8245404452720296e-08\n",
      "[LightGBM] [Warning] bagging_freq is set=5, subsample_freq=0 will be ignored. Current value: bagging_freq=5\n",
      "[LightGBM] [Warning] bagging_fraction is set=0.41938438012091983, subsample=1.0 will be ignored. Current value: bagging_fraction=0.41938438012091983\n",
      "[LightGBM] [Warning] lambda_l1 is set=8.508645958780645e-08, reg_alpha=0.0 will be ignored. Current value: lambda_l1=8.508645958780645e-08\n",
      "[LightGBM] [Warning] feature_fraction is set=0.7839582966434789, colsample_bytree=1.0 will be ignored. Current value: feature_fraction=0.7839582966434789\n",
      "[LightGBM] [Warning] lambda_l2 is set=3.8245404452720296e-08, reg_lambda=0.0 will be ignored. Current value: lambda_l2=3.8245404452720296e-08\n",
      "[LightGBM] [Warning] bagging_freq is set=5, subsample_freq=0 will be ignored. Current value: bagging_freq=5\n",
      "[LightGBM] [Warning] bagging_fraction is set=0.41938438012091983, subsample=1.0 will be ignored. Current value: bagging_fraction=0.41938438012091983\n",
      "[LightGBM] [Warning] lambda_l1 is set=8.508645958780645e-08, reg_alpha=0.0 will be ignored. Current value: lambda_l1=8.508645958780645e-08\n",
      "[LightGBM] [Warning] feature_fraction is set=0.7839582966434789, colsample_bytree=1.0 will be ignored. Current value: feature_fraction=0.7839582966434789\n",
      "[LightGBM] [Warning] lambda_l2 is set=3.8245404452720296e-08, reg_lambda=0.0 will be ignored. Current value: lambda_l2=3.8245404452720296e-08\n",
      "[LightGBM] [Warning] bagging_freq is set=5, subsample_freq=0 will be ignored. Current value: bagging_freq=5\n",
      "[LightGBM] [Warning] bagging_fraction is set=0.41938438012091983, subsample=1.0 will be ignored. Current value: bagging_fraction=0.41938438012091983\n",
      "[LightGBM] [Warning] lambda_l1 is set=8.508645958780645e-08, reg_alpha=0.0 will be ignored. Current value: lambda_l1=8.508645958780645e-08\n",
      "[LightGBM] [Warning] feature_fraction is set=0.7839582966434789, colsample_bytree=1.0 will be ignored. Current value: feature_fraction=0.7839582966434789\n",
      "[LightGBM] [Warning] lambda_l2 is set=3.8245404452720296e-08, reg_lambda=0.0 will be ignored. Current value: lambda_l2=3.8245404452720296e-08\n",
      "[LightGBM] [Warning] bagging_freq is set=5, subsample_freq=0 will be ignored. Current value: bagging_freq=5\n"
     ]
    },
    {
     "name": "stderr",
     "output_type": "stream",
     "text": [
      "\u001b[32m[I 2023-03-15 19:55:37,683]\u001b[0m Trial 3 finished with value: 0.7201994310845985 and parameters: {'lambda_l1': 8.508645958780645e-08, 'lambda_l2': 3.8245404452720296e-08, 'num_leaves': 91, 'feature_fraction': 0.7839582966434789, 'bagging_fraction': 0.41938438012091983, 'bagging_freq': 5, 'min_child_samples': 20}. Best is trial 2 with value: 0.7557121971595656.\u001b[0m\n"
     ]
    },
    {
     "name": "stdout",
     "output_type": "stream",
     "text": [
      "[LightGBM] [Warning] bagging_fraction is set=0.5609380086910223, subsample=1.0 will be ignored. Current value: bagging_fraction=0.5609380086910223\n",
      "[LightGBM] [Warning] lambda_l1 is set=3.0349857131909856, reg_alpha=0.0 will be ignored. Current value: lambda_l1=3.0349857131909856\n",
      "[LightGBM] [Warning] feature_fraction is set=0.4722288397785271, colsample_bytree=1.0 will be ignored. Current value: feature_fraction=0.4722288397785271\n",
      "[LightGBM] [Warning] lambda_l2 is set=0.00046002783084678076, reg_lambda=0.0 will be ignored. Current value: lambda_l2=0.00046002783084678076\n",
      "[LightGBM] [Warning] bagging_freq is set=7, subsample_freq=0 will be ignored. Current value: bagging_freq=7\n",
      "[LightGBM] [Warning] bagging_fraction is set=0.5609380086910223, subsample=1.0 will be ignored. Current value: bagging_fraction=0.5609380086910223\n",
      "[LightGBM] [Warning] lambda_l1 is set=3.0349857131909856, reg_alpha=0.0 will be ignored. Current value: lambda_l1=3.0349857131909856\n",
      "[LightGBM] [Warning] feature_fraction is set=0.4722288397785271, colsample_bytree=1.0 will be ignored. Current value: feature_fraction=0.4722288397785271\n",
      "[LightGBM] [Warning] lambda_l2 is set=0.00046002783084678076, reg_lambda=0.0 will be ignored. Current value: lambda_l2=0.00046002783084678076\n",
      "[LightGBM] [Warning] bagging_freq is set=7, subsample_freq=0 will be ignored. Current value: bagging_freq=7\n",
      "[LightGBM] [Warning] bagging_fraction is set=0.5609380086910223, subsample=1.0 will be ignored. Current value: bagging_fraction=0.5609380086910223\n",
      "[LightGBM] [Warning] lambda_l1 is set=3.0349857131909856, reg_alpha=0.0 will be ignored. Current value: lambda_l1=3.0349857131909856\n",
      "[LightGBM] [Warning] feature_fraction is set=0.4722288397785271, colsample_bytree=1.0 will be ignored. Current value: feature_fraction=0.4722288397785271\n",
      "[LightGBM] [Warning] lambda_l2 is set=0.00046002783084678076, reg_lambda=0.0 will be ignored. Current value: lambda_l2=0.00046002783084678076\n",
      "[LightGBM] [Warning] bagging_freq is set=7, subsample_freq=0 will be ignored. Current value: bagging_freq=7\n",
      "[LightGBM] [Warning] bagging_fraction is set=0.5609380086910223, subsample=1.0 will be ignored. Current value: bagging_fraction=0.5609380086910223\n",
      "[LightGBM] [Warning] lambda_l1 is set=3.0349857131909856, reg_alpha=0.0 will be ignored. Current value: lambda_l1=3.0349857131909856\n",
      "[LightGBM] [Warning] feature_fraction is set=0.4722288397785271, colsample_bytree=1.0 will be ignored. Current value: feature_fraction=0.4722288397785271\n",
      "[LightGBM] [Warning] lambda_l2 is set=0.00046002783084678076, reg_lambda=0.0 will be ignored. Current value: lambda_l2=0.00046002783084678076\n",
      "[LightGBM] [Warning] bagging_freq is set=7, subsample_freq=0 will be ignored. Current value: bagging_freq=7\n"
     ]
    },
    {
     "name": "stderr",
     "output_type": "stream",
     "text": [
      "\u001b[32m[I 2023-03-15 19:55:37,980]\u001b[0m Trial 4 finished with value: 0.7628201012172303 and parameters: {'lambda_l1': 3.0349857131909856, 'lambda_l2': 0.00046002783084678076, 'num_leaves': 44, 'feature_fraction': 0.4722288397785271, 'bagging_fraction': 0.5609380086910223, 'bagging_freq': 7, 'min_child_samples': 72}. Best is trial 4 with value: 0.7628201012172303.\u001b[0m\n"
     ]
    },
    {
     "name": "stdout",
     "output_type": "stream",
     "text": [
      "[LightGBM] [Warning] bagging_fraction is set=0.5609380086910223, subsample=1.0 will be ignored. Current value: bagging_fraction=0.5609380086910223\n",
      "[LightGBM] [Warning] lambda_l1 is set=3.0349857131909856, reg_alpha=0.0 will be ignored. Current value: lambda_l1=3.0349857131909856\n",
      "[LightGBM] [Warning] feature_fraction is set=0.4722288397785271, colsample_bytree=1.0 will be ignored. Current value: feature_fraction=0.4722288397785271\n",
      "[LightGBM] [Warning] lambda_l2 is set=0.00046002783084678076, reg_lambda=0.0 will be ignored. Current value: lambda_l2=0.00046002783084678076\n",
      "[LightGBM] [Warning] bagging_freq is set=7, subsample_freq=0 will be ignored. Current value: bagging_freq=7\n",
      "[LightGBM] [Warning] bagging_fraction is set=0.6629714970548459, subsample=1.0 will be ignored. Current value: bagging_fraction=0.6629714970548459\n",
      "[LightGBM] [Warning] lambda_l1 is set=2.6329504590684797e-08, reg_alpha=0.0 will be ignored. Current value: lambda_l1=2.6329504590684797e-08\n",
      "[LightGBM] [Warning] feature_fraction is set=0.4649188426438081, colsample_bytree=1.0 will be ignored. Current value: feature_fraction=0.4649188426438081\n",
      "[LightGBM] [Warning] lambda_l2 is set=0.001621847293419118, reg_lambda=0.0 will be ignored. Current value: lambda_l2=0.001621847293419118\n",
      "[LightGBM] [Warning] bagging_freq is set=7, subsample_freq=0 will be ignored. Current value: bagging_freq=7\n",
      "[LightGBM] [Warning] bagging_fraction is set=0.6629714970548459, subsample=1.0 will be ignored. Current value: bagging_fraction=0.6629714970548459\n",
      "[LightGBM] [Warning] lambda_l1 is set=2.6329504590684797e-08, reg_alpha=0.0 will be ignored. Current value: lambda_l1=2.6329504590684797e-08\n",
      "[LightGBM] [Warning] feature_fraction is set=0.4649188426438081, colsample_bytree=1.0 will be ignored. Current value: feature_fraction=0.4649188426438081\n",
      "[LightGBM] [Warning] lambda_l2 is set=0.001621847293419118, reg_lambda=0.0 will be ignored. Current value: lambda_l2=0.001621847293419118\n",
      "[LightGBM] [Warning] bagging_freq is set=7, subsample_freq=0 will be ignored. Current value: bagging_freq=7\n",
      "[LightGBM] [Warning] bagging_fraction is set=0.6629714970548459, subsample=1.0 will be ignored. Current value: bagging_fraction=0.6629714970548459\n",
      "[LightGBM] [Warning] lambda_l1 is set=2.6329504590684797e-08, reg_alpha=0.0 will be ignored. Current value: lambda_l1=2.6329504590684797e-08\n",
      "[LightGBM] [Warning] feature_fraction is set=0.4649188426438081, colsample_bytree=1.0 will be ignored. Current value: feature_fraction=0.4649188426438081\n",
      "[LightGBM] [Warning] lambda_l2 is set=0.001621847293419118, reg_lambda=0.0 will be ignored. Current value: lambda_l2=0.001621847293419118\n",
      "[LightGBM] [Warning] bagging_freq is set=7, subsample_freq=0 will be ignored. Current value: bagging_freq=7\n",
      "[LightGBM] [Warning] bagging_fraction is set=0.6629714970548459, subsample=1.0 will be ignored. Current value: bagging_fraction=0.6629714970548459\n",
      "[LightGBM] [Warning] lambda_l1 is set=2.6329504590684797e-08, reg_alpha=0.0 will be ignored. Current value: lambda_l1=2.6329504590684797e-08\n",
      "[LightGBM] [Warning] feature_fraction is set=0.4649188426438081, colsample_bytree=1.0 will be ignored. Current value: feature_fraction=0.4649188426438081\n",
      "[LightGBM] [Warning] lambda_l2 is set=0.001621847293419118, reg_lambda=0.0 will be ignored. Current value: lambda_l2=0.001621847293419118\n",
      "[LightGBM] [Warning] bagging_freq is set=7, subsample_freq=0 will be ignored. Current value: bagging_freq=7\n",
      "[LightGBM] [Warning] bagging_fraction is set=0.6629714970548459, subsample=1.0 will be ignored. Current value: bagging_fraction=0.6629714970548459\n",
      "[LightGBM] [Warning] lambda_l1 is set=2.6329504590684797e-08, reg_alpha=0.0 will be ignored. Current value: lambda_l1=2.6329504590684797e-08\n",
      "[LightGBM] [Warning] feature_fraction is set=0.4649188426438081, colsample_bytree=1.0 will be ignored. Current value: feature_fraction=0.4649188426438081\n",
      "[LightGBM] [Warning] lambda_l2 is set=0.001621847293419118, reg_lambda=0.0 will be ignored. Current value: lambda_l2=0.001621847293419118\n",
      "[LightGBM] [Warning] bagging_freq is set=7, subsample_freq=0 will be ignored. Current value: bagging_freq=7\n"
     ]
    },
    {
     "name": "stderr",
     "output_type": "stream",
     "text": [
      "\u001b[32m[I 2023-03-15 19:55:39,768]\u001b[0m Trial 5 finished with value: 0.7511859020830313 and parameters: {'lambda_l1': 2.6329504590684797e-08, 'lambda_l2': 0.001621847293419118, 'num_leaves': 23, 'feature_fraction': 0.4649188426438081, 'bagging_fraction': 0.6629714970548459, 'bagging_freq': 7, 'min_child_samples': 6}. Best is trial 4 with value: 0.7628201012172303.\u001b[0m\n"
     ]
    },
    {
     "name": "stdout",
     "output_type": "stream",
     "text": [
      "[LightGBM] [Warning] bagging_fraction is set=0.5445495865255063, subsample=1.0 will be ignored. Current value: bagging_fraction=0.5445495865255063\n",
      "[LightGBM] [Warning] lambda_l1 is set=0.11117749239557266, reg_alpha=0.0 will be ignored. Current value: lambda_l1=0.11117749239557266\n",
      "[LightGBM] [Warning] feature_fraction is set=0.8479734198688117, colsample_bytree=1.0 will be ignored. Current value: feature_fraction=0.8479734198688117\n",
      "[LightGBM] [Warning] lambda_l2 is set=0.04877517635875305, reg_lambda=0.0 will be ignored. Current value: lambda_l2=0.04877517635875305\n",
      "[LightGBM] [Warning] bagging_freq is set=6, subsample_freq=0 will be ignored. Current value: bagging_freq=6\n",
      "[LightGBM] [Warning] bagging_fraction is set=0.5445495865255063, subsample=1.0 will be ignored. Current value: bagging_fraction=0.5445495865255063\n",
      "[LightGBM] [Warning] lambda_l1 is set=0.11117749239557266, reg_alpha=0.0 will be ignored. Current value: lambda_l1=0.11117749239557266\n",
      "[LightGBM] [Warning] feature_fraction is set=0.8479734198688117, colsample_bytree=1.0 will be ignored. Current value: feature_fraction=0.8479734198688117\n",
      "[LightGBM] [Warning] lambda_l2 is set=0.04877517635875305, reg_lambda=0.0 will be ignored. Current value: lambda_l2=0.04877517635875305\n",
      "[LightGBM] [Warning] bagging_freq is set=6, subsample_freq=0 will be ignored. Current value: bagging_freq=6\n",
      "[LightGBM] [Warning] bagging_fraction is set=0.5445495865255063, subsample=1.0 will be ignored. Current value: bagging_fraction=0.5445495865255063\n",
      "[LightGBM] [Warning] lambda_l1 is set=0.11117749239557266, reg_alpha=0.0 will be ignored. Current value: lambda_l1=0.11117749239557266\n",
      "[LightGBM] [Warning] feature_fraction is set=0.8479734198688117, colsample_bytree=1.0 will be ignored. Current value: feature_fraction=0.8479734198688117\n",
      "[LightGBM] [Warning] lambda_l2 is set=0.04877517635875305, reg_lambda=0.0 will be ignored. Current value: lambda_l2=0.04877517635875305\n",
      "[LightGBM] [Warning] bagging_freq is set=6, subsample_freq=0 will be ignored. Current value: bagging_freq=6\n",
      "[LightGBM] [Warning] bagging_fraction is set=0.5445495865255063, subsample=1.0 will be ignored. Current value: bagging_fraction=0.5445495865255063\n",
      "[LightGBM] [Warning] lambda_l1 is set=0.11117749239557266, reg_alpha=0.0 will be ignored. Current value: lambda_l1=0.11117749239557266\n",
      "[LightGBM] [Warning] feature_fraction is set=0.8479734198688117, colsample_bytree=1.0 will be ignored. Current value: feature_fraction=0.8479734198688117\n",
      "[LightGBM] [Warning] lambda_l2 is set=0.04877517635875305, reg_lambda=0.0 will be ignored. Current value: lambda_l2=0.04877517635875305\n",
      "[LightGBM] [Warning] bagging_freq is set=6, subsample_freq=0 will be ignored. Current value: bagging_freq=6\n",
      "[LightGBM] [Warning] bagging_fraction is set=0.5445495865255063, subsample=1.0 will be ignored. Current value: bagging_fraction=0.5445495865255063\n",
      "[LightGBM] [Warning] lambda_l1 is set=0.11117749239557266, reg_alpha=0.0 will be ignored. Current value: lambda_l1=0.11117749239557266\n",
      "[LightGBM] [Warning] feature_fraction is set=0.8479734198688117, colsample_bytree=1.0 will be ignored. Current value: feature_fraction=0.8479734198688117\n",
      "[LightGBM] [Warning] lambda_l2 is set=0.04877517635875305, reg_lambda=0.0 will be ignored. Current value: lambda_l2=0.04877517635875305\n",
      "[LightGBM] [Warning] bagging_freq is set=6, subsample_freq=0 will be ignored. Current value: bagging_freq=6\n"
     ]
    },
    {
     "name": "stderr",
     "output_type": "stream",
     "text": [
      "\u001b[32m[I 2023-03-15 19:55:41,552]\u001b[0m Trial 6 finished with value: 0.7461895095866389 and parameters: {'lambda_l1': 0.11117749239557266, 'lambda_l2': 0.04877517635875305, 'num_leaves': 218, 'feature_fraction': 0.8479734198688117, 'bagging_fraction': 0.5445495865255063, 'bagging_freq': 6, 'min_child_samples': 10}. Best is trial 4 with value: 0.7628201012172303.\u001b[0m\n"
     ]
    },
    {
     "name": "stdout",
     "output_type": "stream",
     "text": [
      "[LightGBM] [Warning] bagging_fraction is set=0.7708162899301712, subsample=1.0 will be ignored. Current value: bagging_fraction=0.7708162899301712\n",
      "[LightGBM] [Warning] lambda_l1 is set=0.00010810366357865439, reg_alpha=0.0 will be ignored. Current value: lambda_l1=0.00010810366357865439\n",
      "[LightGBM] [Warning] feature_fraction is set=0.7257328143322894, colsample_bytree=1.0 will be ignored. Current value: feature_fraction=0.7257328143322894\n",
      "[LightGBM] [Warning] lambda_l2 is set=0.014397600237340708, reg_lambda=0.0 will be ignored. Current value: lambda_l2=0.014397600237340708\n",
      "[LightGBM] [Warning] bagging_freq is set=5, subsample_freq=0 will be ignored. Current value: bagging_freq=5\n",
      "[LightGBM] [Warning] bagging_fraction is set=0.7708162899301712, subsample=1.0 will be ignored. Current value: bagging_fraction=0.7708162899301712\n",
      "[LightGBM] [Warning] lambda_l1 is set=0.00010810366357865439, reg_alpha=0.0 will be ignored. Current value: lambda_l1=0.00010810366357865439\n",
      "[LightGBM] [Warning] feature_fraction is set=0.7257328143322894, colsample_bytree=1.0 will be ignored. Current value: feature_fraction=0.7257328143322894\n",
      "[LightGBM] [Warning] lambda_l2 is set=0.014397600237340708, reg_lambda=0.0 will be ignored. Current value: lambda_l2=0.014397600237340708\n",
      "[LightGBM] [Warning] bagging_freq is set=5, subsample_freq=0 will be ignored. Current value: bagging_freq=5\n",
      "[LightGBM] [Warning] bagging_fraction is set=0.7708162899301712, subsample=1.0 will be ignored. Current value: bagging_fraction=0.7708162899301712\n",
      "[LightGBM] [Warning] lambda_l1 is set=0.00010810366357865439, reg_alpha=0.0 will be ignored. Current value: lambda_l1=0.00010810366357865439\n",
      "[LightGBM] [Warning] feature_fraction is set=0.7257328143322894, colsample_bytree=1.0 will be ignored. Current value: feature_fraction=0.7257328143322894\n",
      "[LightGBM] [Warning] lambda_l2 is set=0.014397600237340708, reg_lambda=0.0 will be ignored. Current value: lambda_l2=0.014397600237340708\n",
      "[LightGBM] [Warning] bagging_freq is set=5, subsample_freq=0 will be ignored. Current value: bagging_freq=5\n",
      "[LightGBM] [Warning] bagging_fraction is set=0.7708162899301712, subsample=1.0 will be ignored. Current value: bagging_fraction=0.7708162899301712\n",
      "[LightGBM] [Warning] lambda_l1 is set=0.00010810366357865439, reg_alpha=0.0 will be ignored. Current value: lambda_l1=0.00010810366357865439\n",
      "[LightGBM] [Warning] feature_fraction is set=0.7257328143322894, colsample_bytree=1.0 will be ignored. Current value: feature_fraction=0.7257328143322894\n",
      "[LightGBM] [Warning] lambda_l2 is set=0.014397600237340708, reg_lambda=0.0 will be ignored. Current value: lambda_l2=0.014397600237340708\n",
      "[LightGBM] [Warning] bagging_freq is set=5, subsample_freq=0 will be ignored. Current value: bagging_freq=5\n"
     ]
    },
    {
     "name": "stderr",
     "output_type": "stream",
     "text": [
      "\u001b[32m[I 2023-03-15 19:55:42,218]\u001b[0m Trial 7 finished with value: 0.7449343054606212 and parameters: {'lambda_l1': 0.00010810366357865439, 'lambda_l2': 0.014397600237340708, 'num_leaves': 111, 'feature_fraction': 0.7257328143322894, 'bagging_fraction': 0.7708162899301712, 'bagging_freq': 5, 'min_child_samples': 44}. Best is trial 4 with value: 0.7628201012172303.\u001b[0m\n"
     ]
    },
    {
     "name": "stdout",
     "output_type": "stream",
     "text": [
      "[LightGBM] [Warning] bagging_fraction is set=0.7708162899301712, subsample=1.0 will be ignored. Current value: bagging_fraction=0.7708162899301712\n",
      "[LightGBM] [Warning] lambda_l1 is set=0.00010810366357865439, reg_alpha=0.0 will be ignored. Current value: lambda_l1=0.00010810366357865439\n",
      "[LightGBM] [Warning] feature_fraction is set=0.7257328143322894, colsample_bytree=1.0 will be ignored. Current value: feature_fraction=0.7257328143322894\n",
      "[LightGBM] [Warning] lambda_l2 is set=0.014397600237340708, reg_lambda=0.0 will be ignored. Current value: lambda_l2=0.014397600237340708\n",
      "[LightGBM] [Warning] bagging_freq is set=5, subsample_freq=0 will be ignored. Current value: bagging_freq=5\n",
      "[LightGBM] [Warning] bagging_fraction is set=0.7661500183199492, subsample=1.0 will be ignored. Current value: bagging_fraction=0.7661500183199492\n",
      "[LightGBM] [Warning] lambda_l1 is set=7.061590543310019e-05, reg_alpha=0.0 will be ignored. Current value: lambda_l1=7.061590543310019e-05\n",
      "[LightGBM] [Warning] feature_fraction is set=0.7474807425303165, colsample_bytree=1.0 will be ignored. Current value: feature_fraction=0.7474807425303165\n",
      "[LightGBM] [Warning] lambda_l2 is set=0.00011012853212856867, reg_lambda=0.0 will be ignored. Current value: lambda_l2=0.00011012853212856867\n",
      "[LightGBM] [Warning] bagging_freq is set=6, subsample_freq=0 will be ignored. Current value: bagging_freq=6\n",
      "[LightGBM] [Warning] bagging_fraction is set=0.7661500183199492, subsample=1.0 will be ignored. Current value: bagging_fraction=0.7661500183199492\n",
      "[LightGBM] [Warning] lambda_l1 is set=7.061590543310019e-05, reg_alpha=0.0 will be ignored. Current value: lambda_l1=7.061590543310019e-05\n",
      "[LightGBM] [Warning] feature_fraction is set=0.7474807425303165, colsample_bytree=1.0 will be ignored. Current value: feature_fraction=0.7474807425303165\n",
      "[LightGBM] [Warning] lambda_l2 is set=0.00011012853212856867, reg_lambda=0.0 will be ignored. Current value: lambda_l2=0.00011012853212856867\n",
      "[LightGBM] [Warning] bagging_freq is set=6, subsample_freq=0 will be ignored. Current value: bagging_freq=6\n",
      "[LightGBM] [Warning] bagging_fraction is set=0.7661500183199492, subsample=1.0 will be ignored. Current value: bagging_fraction=0.7661500183199492\n",
      "[LightGBM] [Warning] lambda_l1 is set=7.061590543310019e-05, reg_alpha=0.0 will be ignored. Current value: lambda_l1=7.061590543310019e-05\n",
      "[LightGBM] [Warning] feature_fraction is set=0.7474807425303165, colsample_bytree=1.0 will be ignored. Current value: feature_fraction=0.7474807425303165\n",
      "[LightGBM] [Warning] lambda_l2 is set=0.00011012853212856867, reg_lambda=0.0 will be ignored. Current value: lambda_l2=0.00011012853212856867\n",
      "[LightGBM] [Warning] bagging_freq is set=6, subsample_freq=0 will be ignored. Current value: bagging_freq=6\n",
      "[LightGBM] [Warning] bagging_fraction is set=0.7661500183199492, subsample=1.0 will be ignored. Current value: bagging_fraction=0.7661500183199492\n",
      "[LightGBM] [Warning] lambda_l1 is set=7.061590543310019e-05, reg_alpha=0.0 will be ignored. Current value: lambda_l1=7.061590543310019e-05\n",
      "[LightGBM] [Warning] feature_fraction is set=0.7474807425303165, colsample_bytree=1.0 will be ignored. Current value: feature_fraction=0.7474807425303165\n",
      "[LightGBM] [Warning] lambda_l2 is set=0.00011012853212856867, reg_lambda=0.0 will be ignored. Current value: lambda_l2=0.00011012853212856867\n",
      "[LightGBM] [Warning] bagging_freq is set=6, subsample_freq=0 will be ignored. Current value: bagging_freq=6\n",
      "[LightGBM] [Warning] bagging_fraction is set=0.7661500183199492, subsample=1.0 will be ignored. Current value: bagging_fraction=0.7661500183199492\n",
      "[LightGBM] [Warning] lambda_l1 is set=7.061590543310019e-05, reg_alpha=0.0 will be ignored. Current value: lambda_l1=7.061590543310019e-05\n",
      "[LightGBM] [Warning] feature_fraction is set=0.7474807425303165, colsample_bytree=1.0 will be ignored. Current value: feature_fraction=0.7474807425303165\n",
      "[LightGBM] [Warning] lambda_l2 is set=0.00011012853212856867, reg_lambda=0.0 will be ignored. Current value: lambda_l2=0.00011012853212856867\n",
      "[LightGBM] [Warning] bagging_freq is set=6, subsample_freq=0 will be ignored. Current value: bagging_freq=6\n"
     ]
    },
    {
     "name": "stderr",
     "output_type": "stream",
     "text": [
      "\u001b[32m[I 2023-03-15 19:55:42,752]\u001b[0m Trial 8 finished with value: 0.7464227027624157 and parameters: {'lambda_l1': 7.061590543310019e-05, 'lambda_l2': 0.00011012853212856867, 'num_leaves': 160, 'feature_fraction': 0.7474807425303165, 'bagging_fraction': 0.7661500183199492, 'bagging_freq': 6, 'min_child_samples': 62}. Best is trial 4 with value: 0.7628201012172303.\u001b[0m\n"
     ]
    },
    {
     "name": "stdout",
     "output_type": "stream",
     "text": [
      "[LightGBM] [Warning] bagging_fraction is set=0.4625131690418318, subsample=1.0 will be ignored. Current value: bagging_fraction=0.4625131690418318\n",
      "[LightGBM] [Warning] lambda_l1 is set=1.805251828281933e-07, reg_alpha=0.0 will be ignored. Current value: lambda_l1=1.805251828281933e-07\n",
      "[LightGBM] [Warning] feature_fraction is set=0.6973978865769771, colsample_bytree=1.0 will be ignored. Current value: feature_fraction=0.6973978865769771\n",
      "[LightGBM] [Warning] lambda_l2 is set=0.11938208489126814, reg_lambda=0.0 will be ignored. Current value: lambda_l2=0.11938208489126814\n",
      "[LightGBM] [Warning] bagging_freq is set=3, subsample_freq=0 will be ignored. Current value: bagging_freq=3\n",
      "[LightGBM] [Warning] bagging_fraction is set=0.4625131690418318, subsample=1.0 will be ignored. Current value: bagging_fraction=0.4625131690418318\n",
      "[LightGBM] [Warning] lambda_l1 is set=1.805251828281933e-07, reg_alpha=0.0 will be ignored. Current value: lambda_l1=1.805251828281933e-07\n",
      "[LightGBM] [Warning] feature_fraction is set=0.6973978865769771, colsample_bytree=1.0 will be ignored. Current value: feature_fraction=0.6973978865769771\n",
      "[LightGBM] [Warning] lambda_l2 is set=0.11938208489126814, reg_lambda=0.0 will be ignored. Current value: lambda_l2=0.11938208489126814\n",
      "[LightGBM] [Warning] bagging_freq is set=3, subsample_freq=0 will be ignored. Current value: bagging_freq=3\n",
      "[LightGBM] [Warning] bagging_fraction is set=0.4625131690418318, subsample=1.0 will be ignored. Current value: bagging_fraction=0.4625131690418318\n",
      "[LightGBM] [Warning] lambda_l1 is set=1.805251828281933e-07, reg_alpha=0.0 will be ignored. Current value: lambda_l1=1.805251828281933e-07\n",
      "[LightGBM] [Warning] feature_fraction is set=0.6973978865769771, colsample_bytree=1.0 will be ignored. Current value: feature_fraction=0.6973978865769771\n",
      "[LightGBM] [Warning] lambda_l2 is set=0.11938208489126814, reg_lambda=0.0 will be ignored. Current value: lambda_l2=0.11938208489126814\n",
      "[LightGBM] [Warning] bagging_freq is set=3, subsample_freq=0 will be ignored. Current value: bagging_freq=3\n",
      "[LightGBM] [Warning] bagging_fraction is set=0.4625131690418318, subsample=1.0 will be ignored. Current value: bagging_fraction=0.4625131690418318\n",
      "[LightGBM] [Warning] lambda_l1 is set=1.805251828281933e-07, reg_alpha=0.0 will be ignored. Current value: lambda_l1=1.805251828281933e-07\n",
      "[LightGBM] [Warning] feature_fraction is set=0.6973978865769771, colsample_bytree=1.0 will be ignored. Current value: feature_fraction=0.6973978865769771\n",
      "[LightGBM] [Warning] lambda_l2 is set=0.11938208489126814, reg_lambda=0.0 will be ignored. Current value: lambda_l2=0.11938208489126814\n",
      "[LightGBM] [Warning] bagging_freq is set=3, subsample_freq=0 will be ignored. Current value: bagging_freq=3\n"
     ]
    },
    {
     "name": "stderr",
     "output_type": "stream",
     "text": [
      "\u001b[32m[I 2023-03-15 19:55:43,046]\u001b[0m Trial 9 finished with value: 0.7685939193714313 and parameters: {'lambda_l1': 1.805251828281933e-07, 'lambda_l2': 0.11938208489126814, 'num_leaves': 249, 'feature_fraction': 0.6973978865769771, 'bagging_fraction': 0.4625131690418318, 'bagging_freq': 3, 'min_child_samples': 100}. Best is trial 9 with value: 0.7685939193714313.\u001b[0m\n"
     ]
    },
    {
     "name": "stdout",
     "output_type": "stream",
     "text": [
      "[LightGBM] [Warning] bagging_fraction is set=0.4625131690418318, subsample=1.0 will be ignored. Current value: bagging_fraction=0.4625131690418318\n",
      "[LightGBM] [Warning] lambda_l1 is set=1.805251828281933e-07, reg_alpha=0.0 will be ignored. Current value: lambda_l1=1.805251828281933e-07\n",
      "[LightGBM] [Warning] feature_fraction is set=0.6973978865769771, colsample_bytree=1.0 will be ignored. Current value: feature_fraction=0.6973978865769771\n",
      "[LightGBM] [Warning] lambda_l2 is set=0.11938208489126814, reg_lambda=0.0 will be ignored. Current value: lambda_l2=0.11938208489126814\n",
      "[LightGBM] [Warning] bagging_freq is set=3, subsample_freq=0 will be ignored. Current value: bagging_freq=3\n",
      "[LightGBM] [Warning] bagging_fraction is set=0.9154620934515069, subsample=1.0 will be ignored. Current value: bagging_fraction=0.9154620934515069\n",
      "[LightGBM] [Warning] lambda_l1 is set=2.0825719403427163e-06, reg_alpha=0.0 will be ignored. Current value: lambda_l1=2.0825719403427163e-06\n",
      "[LightGBM] [Warning] feature_fraction is set=0.9910354199951891, colsample_bytree=1.0 will be ignored. Current value: feature_fraction=0.9910354199951891\n",
      "[LightGBM] [Warning] lambda_l2 is set=1.8017009552362744, reg_lambda=0.0 will be ignored. Current value: lambda_l2=1.8017009552362744\n",
      "[LightGBM] [Warning] bagging_freq is set=3, subsample_freq=0 will be ignored. Current value: bagging_freq=3\n",
      "[LightGBM] [Warning] bagging_fraction is set=0.9154620934515069, subsample=1.0 will be ignored. Current value: bagging_fraction=0.9154620934515069\n",
      "[LightGBM] [Warning] lambda_l1 is set=2.0825719403427163e-06, reg_alpha=0.0 will be ignored. Current value: lambda_l1=2.0825719403427163e-06\n",
      "[LightGBM] [Warning] feature_fraction is set=0.9910354199951891, colsample_bytree=1.0 will be ignored. Current value: feature_fraction=0.9910354199951891\n",
      "[LightGBM] [Warning] lambda_l2 is set=1.8017009552362744, reg_lambda=0.0 will be ignored. Current value: lambda_l2=1.8017009552362744\n",
      "[LightGBM] [Warning] bagging_freq is set=3, subsample_freq=0 will be ignored. Current value: bagging_freq=3\n",
      "[LightGBM] [Warning] bagging_fraction is set=0.9154620934515069, subsample=1.0 will be ignored. Current value: bagging_fraction=0.9154620934515069\n",
      "[LightGBM] [Warning] lambda_l1 is set=2.0825719403427163e-06, reg_alpha=0.0 will be ignored. Current value: lambda_l1=2.0825719403427163e-06\n",
      "[LightGBM] [Warning] feature_fraction is set=0.9910354199951891, colsample_bytree=1.0 will be ignored. Current value: feature_fraction=0.9910354199951891\n",
      "[LightGBM] [Warning] lambda_l2 is set=1.8017009552362744, reg_lambda=0.0 will be ignored. Current value: lambda_l2=1.8017009552362744\n",
      "[LightGBM] [Warning] bagging_freq is set=3, subsample_freq=0 will be ignored. Current value: bagging_freq=3\n",
      "[LightGBM] [Warning] bagging_fraction is set=0.9154620934515069, subsample=1.0 will be ignored. Current value: bagging_fraction=0.9154620934515069\n",
      "[LightGBM] [Warning] lambda_l1 is set=2.0825719403427163e-06, reg_alpha=0.0 will be ignored. Current value: lambda_l1=2.0825719403427163e-06\n",
      "[LightGBM] [Warning] feature_fraction is set=0.9910354199951891, colsample_bytree=1.0 will be ignored. Current value: feature_fraction=0.9910354199951891\n",
      "[LightGBM] [Warning] lambda_l2 is set=1.8017009552362744, reg_lambda=0.0 will be ignored. Current value: lambda_l2=1.8017009552362744\n",
      "[LightGBM] [Warning] bagging_freq is set=3, subsample_freq=0 will be ignored. Current value: bagging_freq=3\n",
      "[LightGBM] [Warning] bagging_fraction is set=0.9154620934515069, subsample=1.0 will be ignored. Current value: bagging_fraction=0.9154620934515069\n",
      "[LightGBM] [Warning] lambda_l1 is set=2.0825719403427163e-06, reg_alpha=0.0 will be ignored. Current value: lambda_l1=2.0825719403427163e-06\n",
      "[LightGBM] [Warning] feature_fraction is set=0.9910354199951891, colsample_bytree=1.0 will be ignored. Current value: feature_fraction=0.9910354199951891\n",
      "[LightGBM] [Warning] lambda_l2 is set=1.8017009552362744, reg_lambda=0.0 will be ignored. Current value: lambda_l2=1.8017009552362744\n",
      "[LightGBM] [Warning] bagging_freq is set=3, subsample_freq=0 will be ignored. Current value: bagging_freq=3\n"
     ]
    },
    {
     "name": "stderr",
     "output_type": "stream",
     "text": [
      "\u001b[32m[I 2023-03-15 19:55:43,643]\u001b[0m Trial 10 finished with value: 0.7585416709818623 and parameters: {'lambda_l1': 2.0825719403427163e-06, 'lambda_l2': 1.8017009552362744, 'num_leaves': 256, 'feature_fraction': 0.9910354199951891, 'bagging_fraction': 0.9154620934515069, 'bagging_freq': 3, 'min_child_samples': 100}. Best is trial 9 with value: 0.7685939193714313.\u001b[0m\n"
     ]
    },
    {
     "name": "stdout",
     "output_type": "stream",
     "text": [
      "[LightGBM] [Warning] bagging_fraction is set=0.40168460328717037, subsample=1.0 will be ignored. Current value: bagging_fraction=0.40168460328717037\n",
      "[LightGBM] [Warning] lambda_l1 is set=1.9711662840394, reg_alpha=0.0 will be ignored. Current value: lambda_l1=1.9711662840394\n",
      "[LightGBM] [Warning] feature_fraction is set=0.5902835637623557, colsample_bytree=1.0 will be ignored. Current value: feature_fraction=0.5902835637623557\n",
      "[LightGBM] [Warning] lambda_l2 is set=9.874566469886835, reg_lambda=0.0 will be ignored. Current value: lambda_l2=9.874566469886835\n",
      "[LightGBM] [Warning] bagging_freq is set=3, subsample_freq=0 will be ignored. Current value: bagging_freq=3\n",
      "[LightGBM] [Warning] bagging_fraction is set=0.40168460328717037, subsample=1.0 will be ignored. Current value: bagging_fraction=0.40168460328717037\n",
      "[LightGBM] [Warning] lambda_l1 is set=1.9711662840394, reg_alpha=0.0 will be ignored. Current value: lambda_l1=1.9711662840394\n",
      "[LightGBM] [Warning] feature_fraction is set=0.5902835637623557, colsample_bytree=1.0 will be ignored. Current value: feature_fraction=0.5902835637623557\n",
      "[LightGBM] [Warning] lambda_l2 is set=9.874566469886835, reg_lambda=0.0 will be ignored. Current value: lambda_l2=9.874566469886835\n",
      "[LightGBM] [Warning] bagging_freq is set=3, subsample_freq=0 will be ignored. Current value: bagging_freq=3\n",
      "[LightGBM] [Warning] bagging_fraction is set=0.40168460328717037, subsample=1.0 will be ignored. Current value: bagging_fraction=0.40168460328717037\n",
      "[LightGBM] [Warning] lambda_l1 is set=1.9711662840394, reg_alpha=0.0 will be ignored. Current value: lambda_l1=1.9711662840394\n",
      "[LightGBM] [Warning] feature_fraction is set=0.5902835637623557, colsample_bytree=1.0 will be ignored. Current value: feature_fraction=0.5902835637623557\n",
      "[LightGBM] [Warning] lambda_l2 is set=9.874566469886835, reg_lambda=0.0 will be ignored. Current value: lambda_l2=9.874566469886835\n",
      "[LightGBM] [Warning] bagging_freq is set=3, subsample_freq=0 will be ignored. Current value: bagging_freq=3\n",
      "[LightGBM] [Warning] bagging_fraction is set=0.40168460328717037, subsample=1.0 will be ignored. Current value: bagging_fraction=0.40168460328717037\n",
      "[LightGBM] [Warning] lambda_l1 is set=1.9711662840394, reg_alpha=0.0 will be ignored. Current value: lambda_l1=1.9711662840394\n",
      "[LightGBM] [Warning] feature_fraction is set=0.5902835637623557, colsample_bytree=1.0 will be ignored. Current value: feature_fraction=0.5902835637623557\n",
      "[LightGBM] [Warning] lambda_l2 is set=9.874566469886835, reg_lambda=0.0 will be ignored. Current value: lambda_l2=9.874566469886835\n",
      "[LightGBM] [Warning] bagging_freq is set=3, subsample_freq=0 will be ignored. Current value: bagging_freq=3\n"
     ]
    },
    {
     "name": "stderr",
     "output_type": "stream",
     "text": [
      "\u001b[32m[I 2023-03-15 19:55:43,978]\u001b[0m Trial 11 finished with value: 0.7759498608780906 and parameters: {'lambda_l1': 1.9711662840394, 'lambda_l2': 9.874566469886835, 'num_leaves': 74, 'feature_fraction': 0.5902835637623557, 'bagging_fraction': 0.40168460328717037, 'bagging_freq': 3, 'min_child_samples': 98}. Best is trial 11 with value: 0.7759498608780906.\u001b[0m\n"
     ]
    },
    {
     "name": "stdout",
     "output_type": "stream",
     "text": [
      "[LightGBM] [Warning] bagging_fraction is set=0.40168460328717037, subsample=1.0 will be ignored. Current value: bagging_fraction=0.40168460328717037\n",
      "[LightGBM] [Warning] lambda_l1 is set=1.9711662840394, reg_alpha=0.0 will be ignored. Current value: lambda_l1=1.9711662840394\n",
      "[LightGBM] [Warning] feature_fraction is set=0.5902835637623557, colsample_bytree=1.0 will be ignored. Current value: feature_fraction=0.5902835637623557\n",
      "[LightGBM] [Warning] lambda_l2 is set=9.874566469886835, reg_lambda=0.0 will be ignored. Current value: lambda_l2=9.874566469886835\n",
      "[LightGBM] [Warning] bagging_freq is set=3, subsample_freq=0 will be ignored. Current value: bagging_freq=3\n",
      "[LightGBM] [Warning] bagging_fraction is set=0.4015078199001848, subsample=1.0 will be ignored. Current value: bagging_fraction=0.4015078199001848\n",
      "[LightGBM] [Warning] lambda_l1 is set=4.113751383349978, reg_alpha=0.0 will be ignored. Current value: lambda_l1=4.113751383349978\n",
      "[LightGBM] [Warning] feature_fraction is set=0.6024739707607051, colsample_bytree=1.0 will be ignored. Current value: feature_fraction=0.6024739707607051\n",
      "[LightGBM] [Warning] lambda_l2 is set=8.047158162474878, reg_lambda=0.0 will be ignored. Current value: lambda_l2=8.047158162474878\n",
      "[LightGBM] [Warning] bagging_freq is set=3, subsample_freq=0 will be ignored. Current value: bagging_freq=3\n",
      "[LightGBM] [Warning] bagging_fraction is set=0.4015078199001848, subsample=1.0 will be ignored. Current value: bagging_fraction=0.4015078199001848\n",
      "[LightGBM] [Warning] lambda_l1 is set=4.113751383349978, reg_alpha=0.0 will be ignored. Current value: lambda_l1=4.113751383349978\n",
      "[LightGBM] [Warning] feature_fraction is set=0.6024739707607051, colsample_bytree=1.0 will be ignored. Current value: feature_fraction=0.6024739707607051\n",
      "[LightGBM] [Warning] lambda_l2 is set=8.047158162474878, reg_lambda=0.0 will be ignored. Current value: lambda_l2=8.047158162474878\n",
      "[LightGBM] [Warning] bagging_freq is set=3, subsample_freq=0 will be ignored. Current value: bagging_freq=3\n",
      "[LightGBM] [Warning] bagging_fraction is set=0.4015078199001848, subsample=1.0 will be ignored. Current value: bagging_fraction=0.4015078199001848\n",
      "[LightGBM] [Warning] lambda_l1 is set=4.113751383349978, reg_alpha=0.0 will be ignored. Current value: lambda_l1=4.113751383349978\n",
      "[LightGBM] [Warning] feature_fraction is set=0.6024739707607051, colsample_bytree=1.0 will be ignored. Current value: feature_fraction=0.6024739707607051\n",
      "[LightGBM] [Warning] lambda_l2 is set=8.047158162474878, reg_lambda=0.0 will be ignored. Current value: lambda_l2=8.047158162474878\n",
      "[LightGBM] [Warning] bagging_freq is set=3, subsample_freq=0 will be ignored. Current value: bagging_freq=3\n"
     ]
    },
    {
     "name": "stderr",
     "output_type": "stream",
     "text": [
      "\u001b[32m[I 2023-03-15 19:55:44,246]\u001b[0m Trial 12 finished with value: 0.7794427528877289 and parameters: {'lambda_l1': 4.113751383349978, 'lambda_l2': 8.047158162474878, 'num_leaves': 76, 'feature_fraction': 0.6024739707607051, 'bagging_fraction': 0.4015078199001848, 'bagging_freq': 3, 'min_child_samples': 99}. Best is trial 12 with value: 0.7794427528877289.\u001b[0m\n"
     ]
    },
    {
     "name": "stdout",
     "output_type": "stream",
     "text": [
      "[LightGBM] [Warning] bagging_fraction is set=0.4015078199001848, subsample=1.0 will be ignored. Current value: bagging_fraction=0.4015078199001848\n",
      "[LightGBM] [Warning] lambda_l1 is set=4.113751383349978, reg_alpha=0.0 will be ignored. Current value: lambda_l1=4.113751383349978\n",
      "[LightGBM] [Warning] feature_fraction is set=0.6024739707607051, colsample_bytree=1.0 will be ignored. Current value: feature_fraction=0.6024739707607051\n",
      "[LightGBM] [Warning] lambda_l2 is set=8.047158162474878, reg_lambda=0.0 will be ignored. Current value: lambda_l2=8.047158162474878\n",
      "[LightGBM] [Warning] bagging_freq is set=3, subsample_freq=0 will be ignored. Current value: bagging_freq=3\n",
      "[LightGBM] [Warning] bagging_fraction is set=0.4015078199001848, subsample=1.0 will be ignored. Current value: bagging_fraction=0.4015078199001848\n",
      "[LightGBM] [Warning] lambda_l1 is set=4.113751383349978, reg_alpha=0.0 will be ignored. Current value: lambda_l1=4.113751383349978\n",
      "[LightGBM] [Warning] feature_fraction is set=0.6024739707607051, colsample_bytree=1.0 will be ignored. Current value: feature_fraction=0.6024739707607051\n",
      "[LightGBM] [Warning] lambda_l2 is set=8.047158162474878, reg_lambda=0.0 will be ignored. Current value: lambda_l2=8.047158162474878\n",
      "[LightGBM] [Warning] bagging_freq is set=3, subsample_freq=0 will be ignored. Current value: bagging_freq=3\n",
      "[LightGBM] [Warning] bagging_fraction is set=0.4338243885986218, subsample=1.0 will be ignored. Current value: bagging_fraction=0.4338243885986218\n",
      "[LightGBM] [Warning] lambda_l1 is set=6.284295454098079, reg_alpha=0.0 will be ignored. Current value: lambda_l1=6.284295454098079\n",
      "[LightGBM] [Warning] feature_fraction is set=0.5793975217370986, colsample_bytree=1.0 will be ignored. Current value: feature_fraction=0.5793975217370986\n",
      "[LightGBM] [Warning] lambda_l2 is set=8.714114714347936, reg_lambda=0.0 will be ignored. Current value: lambda_l2=8.714114714347936\n",
      "[LightGBM] [Warning] bagging_freq is set=3, subsample_freq=0 will be ignored. Current value: bagging_freq=3\n",
      "[LightGBM] [Warning] bagging_fraction is set=0.4338243885986218, subsample=1.0 will be ignored. Current value: bagging_fraction=0.4338243885986218\n",
      "[LightGBM] [Warning] lambda_l1 is set=6.284295454098079, reg_alpha=0.0 will be ignored. Current value: lambda_l1=6.284295454098079\n",
      "[LightGBM] [Warning] feature_fraction is set=0.5793975217370986, colsample_bytree=1.0 will be ignored. Current value: feature_fraction=0.5793975217370986\n",
      "[LightGBM] [Warning] lambda_l2 is set=8.714114714347936, reg_lambda=0.0 will be ignored. Current value: lambda_l2=8.714114714347936\n",
      "[LightGBM] [Warning] bagging_freq is set=3, subsample_freq=0 will be ignored. Current value: bagging_freq=3\n"
     ]
    },
    {
     "name": "stderr",
     "output_type": "stream",
     "text": [
      "\u001b[32m[I 2023-03-15 19:55:44,526]\u001b[0m Trial 13 finished with value: 0.777939425008803 and parameters: {'lambda_l1': 6.284295454098079, 'lambda_l2': 8.714114714347936, 'num_leaves': 73, 'feature_fraction': 0.5793975217370986, 'bagging_fraction': 0.4338243885986218, 'bagging_freq': 3, 'min_child_samples': 86}. Best is trial 12 with value: 0.7794427528877289.\u001b[0m\n"
     ]
    },
    {
     "name": "stdout",
     "output_type": "stream",
     "text": [
      "[LightGBM] [Warning] bagging_fraction is set=0.4338243885986218, subsample=1.0 will be ignored. Current value: bagging_fraction=0.4338243885986218\n",
      "[LightGBM] [Warning] lambda_l1 is set=6.284295454098079, reg_alpha=0.0 will be ignored. Current value: lambda_l1=6.284295454098079\n",
      "[LightGBM] [Warning] feature_fraction is set=0.5793975217370986, colsample_bytree=1.0 will be ignored. Current value: feature_fraction=0.5793975217370986\n",
      "[LightGBM] [Warning] lambda_l2 is set=8.714114714347936, reg_lambda=0.0 will be ignored. Current value: lambda_l2=8.714114714347936\n",
      "[LightGBM] [Warning] bagging_freq is set=3, subsample_freq=0 will be ignored. Current value: bagging_freq=3\n",
      "[LightGBM] [Warning] bagging_fraction is set=0.4338243885986218, subsample=1.0 will be ignored. Current value: bagging_fraction=0.4338243885986218\n",
      "[LightGBM] [Warning] lambda_l1 is set=6.284295454098079, reg_alpha=0.0 will be ignored. Current value: lambda_l1=6.284295454098079\n",
      "[LightGBM] [Warning] feature_fraction is set=0.5793975217370986, colsample_bytree=1.0 will be ignored. Current value: feature_fraction=0.5793975217370986\n",
      "[LightGBM] [Warning] lambda_l2 is set=8.714114714347936, reg_lambda=0.0 will be ignored. Current value: lambda_l2=8.714114714347936\n",
      "[LightGBM] [Warning] bagging_freq is set=3, subsample_freq=0 will be ignored. Current value: bagging_freq=3\n",
      "[LightGBM] [Warning] bagging_fraction is set=0.4338243885986218, subsample=1.0 will be ignored. Current value: bagging_fraction=0.4338243885986218\n",
      "[LightGBM] [Warning] lambda_l1 is set=6.284295454098079, reg_alpha=0.0 will be ignored. Current value: lambda_l1=6.284295454098079\n",
      "[LightGBM] [Warning] feature_fraction is set=0.5793975217370986, colsample_bytree=1.0 will be ignored. Current value: feature_fraction=0.5793975217370986\n",
      "[LightGBM] [Warning] lambda_l2 is set=8.714114714347936, reg_lambda=0.0 will be ignored. Current value: lambda_l2=8.714114714347936\n",
      "[LightGBM] [Warning] bagging_freq is set=3, subsample_freq=0 will be ignored. Current value: bagging_freq=3\n",
      "[LightGBM] [Warning] bagging_fraction is set=0.4845688172850146, subsample=1.0 will be ignored. Current value: bagging_fraction=0.4845688172850146\n",
      "[LightGBM] [Warning] lambda_l1 is set=7.294613480763004, reg_alpha=0.0 will be ignored. Current value: lambda_l1=7.294613480763004\n",
      "[LightGBM] [Warning] feature_fraction is set=0.6104290537906291, colsample_bytree=1.0 will be ignored. Current value: feature_fraction=0.6104290537906291\n",
      "[LightGBM] [Warning] lambda_l2 is set=0.9872187052457418, reg_lambda=0.0 will be ignored. Current value: lambda_l2=0.9872187052457418\n",
      "[LightGBM] [Warning] bagging_freq is set=2, subsample_freq=0 will be ignored. Current value: bagging_freq=2\n",
      "[LightGBM] [Warning] bagging_fraction is set=0.4845688172850146, subsample=1.0 will be ignored. Current value: bagging_fraction=0.4845688172850146\n",
      "[LightGBM] [Warning] lambda_l1 is set=7.294613480763004, reg_alpha=0.0 will be ignored. Current value: lambda_l1=7.294613480763004\n",
      "[LightGBM] [Warning] feature_fraction is set=0.6104290537906291, colsample_bytree=1.0 will be ignored. Current value: feature_fraction=0.6104290537906291\n",
      "[LightGBM] [Warning] lambda_l2 is set=0.9872187052457418, reg_lambda=0.0 will be ignored. Current value: lambda_l2=0.9872187052457418\n",
      "[LightGBM] [Warning] bagging_freq is set=2, subsample_freq=0 will be ignored. Current value: bagging_freq=2\n",
      "[LightGBM] [Warning] bagging_fraction is set=0.4845688172850146, subsample=1.0 will be ignored. Current value: bagging_fraction=0.4845688172850146\n",
      "[LightGBM] [Warning] lambda_l1 is set=7.294613480763004, reg_alpha=0.0 will be ignored. Current value: lambda_l1=7.294613480763004\n",
      "[LightGBM] [Warning] feature_fraction is set=0.6104290537906291, colsample_bytree=1.0 will be ignored. Current value: feature_fraction=0.6104290537906291\n",
      "[LightGBM] [Warning] lambda_l2 is set=0.9872187052457418, reg_lambda=0.0 will be ignored. Current value: lambda_l2=0.9872187052457418\n",
      "[LightGBM] [Warning] bagging_freq is set=2, subsample_freq=0 will be ignored. Current value: bagging_freq=2\n",
      "[LightGBM] [Warning] bagging_fraction is set=0.4845688172850146, subsample=1.0 will be ignored. Current value: bagging_fraction=0.4845688172850146\n",
      "[LightGBM] [Warning] lambda_l1 is set=7.294613480763004, reg_alpha=0.0 will be ignored. Current value: lambda_l1=7.294613480763004\n",
      "[LightGBM] [Warning] feature_fraction is set=0.6104290537906291, colsample_bytree=1.0 will be ignored. Current value: feature_fraction=0.6104290537906291\n",
      "[LightGBM] [Warning] lambda_l2 is set=0.9872187052457418, reg_lambda=0.0 will be ignored. Current value: lambda_l2=0.9872187052457418\n",
      "[LightGBM] [Warning] bagging_freq is set=2, subsample_freq=0 will be ignored. Current value: bagging_freq=2\n",
      "[LightGBM] [Warning] bagging_fraction is set=0.4845688172850146, subsample=1.0 will be ignored. Current value: bagging_fraction=0.4845688172850146\n",
      "[LightGBM] [Warning] lambda_l1 is set=7.294613480763004, reg_alpha=0.0 will be ignored. Current value: lambda_l1=7.294613480763004\n",
      "[LightGBM] [Warning] feature_fraction is set=0.6104290537906291, colsample_bytree=1.0 will be ignored. Current value: feature_fraction=0.6104290537906291\n",
      "[LightGBM] [Warning] lambda_l2 is set=0.9872187052457418, reg_lambda=0.0 will be ignored. Current value: lambda_l2=0.9872187052457418\n",
      "[LightGBM] [Warning] bagging_freq is set=2, subsample_freq=0 will be ignored. Current value: bagging_freq=2\n"
     ]
    },
    {
     "name": "stderr",
     "output_type": "stream",
     "text": [
      "\u001b[32m[I 2023-03-15 19:55:44,837]\u001b[0m Trial 14 finished with value: 0.7727125147579693 and parameters: {'lambda_l1': 7.294613480763004, 'lambda_l2': 0.9872187052457418, 'num_leaves': 148, 'feature_fraction': 0.6104290537906291, 'bagging_fraction': 0.4845688172850146, 'bagging_freq': 2, 'min_child_samples': 84}. Best is trial 12 with value: 0.7794427528877289.\u001b[0m\n"
     ]
    },
    {
     "name": "stdout",
     "output_type": "stream",
     "text": [
      "[LightGBM] [Warning] bagging_fraction is set=0.48312436886145493, subsample=1.0 will be ignored. Current value: bagging_fraction=0.48312436886145493\n",
      "[LightGBM] [Warning] lambda_l1 is set=0.16632333066710217, reg_alpha=0.0 will be ignored. Current value: lambda_l1=0.16632333066710217\n",
      "[LightGBM] [Warning] feature_fraction is set=0.4255240132880088, colsample_bytree=1.0 will be ignored. Current value: feature_fraction=0.4255240132880088\n",
      "[LightGBM] [Warning] lambda_l2 is set=8.051569319887601, reg_lambda=0.0 will be ignored. Current value: lambda_l2=8.051569319887601\n",
      "[LightGBM] [Warning] bagging_freq is set=4, subsample_freq=0 will be ignored. Current value: bagging_freq=4\n",
      "[LightGBM] [Warning] bagging_fraction is set=0.48312436886145493, subsample=1.0 will be ignored. Current value: bagging_fraction=0.48312436886145493\n",
      "[LightGBM] [Warning] lambda_l1 is set=0.16632333066710217, reg_alpha=0.0 will be ignored. Current value: lambda_l1=0.16632333066710217\n",
      "[LightGBM] [Warning] feature_fraction is set=0.4255240132880088, colsample_bytree=1.0 will be ignored. Current value: feature_fraction=0.4255240132880088\n",
      "[LightGBM] [Warning] lambda_l2 is set=8.051569319887601, reg_lambda=0.0 will be ignored. Current value: lambda_l2=8.051569319887601\n",
      "[LightGBM] [Warning] bagging_freq is set=4, subsample_freq=0 will be ignored. Current value: bagging_freq=4\n",
      "[LightGBM] [Warning] bagging_fraction is set=0.48312436886145493, subsample=1.0 will be ignored. Current value: bagging_fraction=0.48312436886145493\n",
      "[LightGBM] [Warning] lambda_l1 is set=0.16632333066710217, reg_alpha=0.0 will be ignored. Current value: lambda_l1=0.16632333066710217\n",
      "[LightGBM] [Warning] feature_fraction is set=0.4255240132880088, colsample_bytree=1.0 will be ignored. Current value: feature_fraction=0.4255240132880088\n",
      "[LightGBM] [Warning] lambda_l2 is set=8.051569319887601, reg_lambda=0.0 will be ignored. Current value: lambda_l2=8.051569319887601\n",
      "[LightGBM] [Warning] bagging_freq is set=4, subsample_freq=0 will be ignored. Current value: bagging_freq=4\n",
      "[LightGBM] [Warning] bagging_fraction is set=0.48312436886145493, subsample=1.0 will be ignored. Current value: bagging_fraction=0.48312436886145493\n",
      "[LightGBM] [Warning] lambda_l1 is set=0.16632333066710217, reg_alpha=0.0 will be ignored. Current value: lambda_l1=0.16632333066710217\n",
      "[LightGBM] [Warning] feature_fraction is set=0.4255240132880088, colsample_bytree=1.0 will be ignored. Current value: feature_fraction=0.4255240132880088\n",
      "[LightGBM] [Warning] lambda_l2 is set=8.051569319887601, reg_lambda=0.0 will be ignored. Current value: lambda_l2=8.051569319887601\n",
      "[LightGBM] [Warning] bagging_freq is set=4, subsample_freq=0 will be ignored. Current value: bagging_freq=4\n",
      "[LightGBM] [Warning] bagging_fraction is set=0.48312436886145493, subsample=1.0 will be ignored. Current value: bagging_fraction=0.48312436886145493\n",
      "[LightGBM] [Warning] lambda_l1 is set=0.16632333066710217, reg_alpha=0.0 will be ignored. Current value: lambda_l1=0.16632333066710217\n",
      "[LightGBM] [Warning] feature_fraction is set=0.4255240132880088, colsample_bytree=1.0 will be ignored. Current value: feature_fraction=0.4255240132880088\n",
      "[LightGBM] [Warning] lambda_l2 is set=8.051569319887601, reg_lambda=0.0 will be ignored. Current value: lambda_l2=8.051569319887601\n",
      "[LightGBM] [Warning] bagging_freq is set=4, subsample_freq=0 will be ignored. Current value: bagging_freq=4\n"
     ]
    },
    {
     "name": "stderr",
     "output_type": "stream",
     "text": [
      "\u001b[32m[I 2023-03-15 19:55:45,121]\u001b[0m Trial 15 finished with value: 0.7624289718787327 and parameters: {'lambda_l1': 0.16632333066710217, 'lambda_l2': 8.051569319887601, 'num_leaves': 66, 'feature_fraction': 0.4255240132880088, 'bagging_fraction': 0.48312436886145493, 'bagging_freq': 4, 'min_child_samples': 86}. Best is trial 12 with value: 0.7794427528877289.\u001b[0m\n"
     ]
    },
    {
     "name": "stdout",
     "output_type": "stream",
     "text": [
      "[LightGBM] [Warning] bagging_fraction is set=0.42320951646206934, subsample=1.0 will be ignored. Current value: bagging_fraction=0.42320951646206934\n",
      "[LightGBM] [Warning] lambda_l1 is set=9.725305987826047, reg_alpha=0.0 will be ignored. Current value: lambda_l1=9.725305987826047\n",
      "[LightGBM] [Warning] feature_fraction is set=0.6197127475384556, colsample_bytree=1.0 will be ignored. Current value: feature_fraction=0.6197127475384556\n",
      "[LightGBM] [Warning] lambda_l2 is set=0.357875903129097, reg_lambda=0.0 will be ignored. Current value: lambda_l2=0.357875903129097\n",
      "[LightGBM] [Warning] bagging_freq is set=2, subsample_freq=0 will be ignored. Current value: bagging_freq=2\n",
      "[LightGBM] [Warning] bagging_fraction is set=0.42320951646206934, subsample=1.0 will be ignored. Current value: bagging_fraction=0.42320951646206934\n",
      "[LightGBM] [Warning] lambda_l1 is set=9.725305987826047, reg_alpha=0.0 will be ignored. Current value: lambda_l1=9.725305987826047\n",
      "[LightGBM] [Warning] feature_fraction is set=0.6197127475384556, colsample_bytree=1.0 will be ignored. Current value: feature_fraction=0.6197127475384556\n",
      "[LightGBM] [Warning] lambda_l2 is set=0.357875903129097, reg_lambda=0.0 will be ignored. Current value: lambda_l2=0.357875903129097\n",
      "[LightGBM] [Warning] bagging_freq is set=2, subsample_freq=0 will be ignored. Current value: bagging_freq=2\n",
      "[LightGBM] [Warning] bagging_fraction is set=0.42320951646206934, subsample=1.0 will be ignored. Current value: bagging_fraction=0.42320951646206934\n",
      "[LightGBM] [Warning] lambda_l1 is set=9.725305987826047, reg_alpha=0.0 will be ignored. Current value: lambda_l1=9.725305987826047\n",
      "[LightGBM] [Warning] feature_fraction is set=0.6197127475384556, colsample_bytree=1.0 will be ignored. Current value: feature_fraction=0.6197127475384556\n",
      "[LightGBM] [Warning] lambda_l2 is set=0.357875903129097, reg_lambda=0.0 will be ignored. Current value: lambda_l2=0.357875903129097\n",
      "[LightGBM] [Warning] bagging_freq is set=2, subsample_freq=0 will be ignored. Current value: bagging_freq=2\n",
      "[LightGBM] [Warning] bagging_fraction is set=0.42320951646206934, subsample=1.0 will be ignored. Current value: bagging_fraction=0.42320951646206934\n",
      "[LightGBM] [Warning] lambda_l1 is set=9.725305987826047, reg_alpha=0.0 will be ignored. Current value: lambda_l1=9.725305987826047\n",
      "[LightGBM] [Warning] feature_fraction is set=0.6197127475384556, colsample_bytree=1.0 will be ignored. Current value: feature_fraction=0.6197127475384556\n",
      "[LightGBM] [Warning] lambda_l2 is set=0.357875903129097, reg_lambda=0.0 will be ignored. Current value: lambda_l2=0.357875903129097\n",
      "[LightGBM] [Warning] bagging_freq is set=2, subsample_freq=0 will be ignored. Current value: bagging_freq=2\n"
     ]
    },
    {
     "name": "stderr",
     "output_type": "stream",
     "text": [
      "\u001b[32m[I 2023-03-15 19:55:45,426]\u001b[0m Trial 16 finished with value: 0.7741978914227718 and parameters: {'lambda_l1': 9.725305987826047, 'lambda_l2': 0.357875903129097, 'num_leaves': 6, 'feature_fraction': 0.6197127475384556, 'bagging_fraction': 0.42320951646206934, 'bagging_freq': 2, 'min_child_samples': 46}. Best is trial 12 with value: 0.7794427528877289.\u001b[0m\n"
     ]
    },
    {
     "name": "stdout",
     "output_type": "stream",
     "text": [
      "[LightGBM] [Warning] bagging_fraction is set=0.42320951646206934, subsample=1.0 will be ignored. Current value: bagging_fraction=0.42320951646206934\n",
      "[LightGBM] [Warning] lambda_l1 is set=9.725305987826047, reg_alpha=0.0 will be ignored. Current value: lambda_l1=9.725305987826047\n",
      "[LightGBM] [Warning] feature_fraction is set=0.6197127475384556, colsample_bytree=1.0 will be ignored. Current value: feature_fraction=0.6197127475384556\n",
      "[LightGBM] [Warning] lambda_l2 is set=0.357875903129097, reg_lambda=0.0 will be ignored. Current value: lambda_l2=0.357875903129097\n",
      "[LightGBM] [Warning] bagging_freq is set=2, subsample_freq=0 will be ignored. Current value: bagging_freq=2\n",
      "[LightGBM] [Warning] bagging_fraction is set=0.5129885893149955, subsample=1.0 will be ignored. Current value: bagging_fraction=0.5129885893149955\n",
      "[LightGBM] [Warning] lambda_l1 is set=0.1899464826683312, reg_alpha=0.0 will be ignored. Current value: lambda_l1=0.1899464826683312\n",
      "[LightGBM] [Warning] feature_fraction is set=0.5444823627425038, colsample_bytree=1.0 will be ignored. Current value: feature_fraction=0.5444823627425038\n",
      "[LightGBM] [Warning] lambda_l2 is set=0.3978619417161249, reg_lambda=0.0 will be ignored. Current value: lambda_l2=0.3978619417161249\n",
      "[LightGBM] [Warning] bagging_freq is set=4, subsample_freq=0 will be ignored. Current value: bagging_freq=4\n",
      "[LightGBM] [Warning] bagging_fraction is set=0.5129885893149955, subsample=1.0 will be ignored. Current value: bagging_fraction=0.5129885893149955\n",
      "[LightGBM] [Warning] lambda_l1 is set=0.1899464826683312, reg_alpha=0.0 will be ignored. Current value: lambda_l1=0.1899464826683312\n",
      "[LightGBM] [Warning] feature_fraction is set=0.5444823627425038, colsample_bytree=1.0 will be ignored. Current value: feature_fraction=0.5444823627425038\n",
      "[LightGBM] [Warning] lambda_l2 is set=0.3978619417161249, reg_lambda=0.0 will be ignored. Current value: lambda_l2=0.3978619417161249\n",
      "[LightGBM] [Warning] bagging_freq is set=4, subsample_freq=0 will be ignored. Current value: bagging_freq=4\n",
      "[LightGBM] [Warning] bagging_fraction is set=0.5129885893149955, subsample=1.0 will be ignored. Current value: bagging_fraction=0.5129885893149955\n",
      "[LightGBM] [Warning] lambda_l1 is set=0.1899464826683312, reg_alpha=0.0 will be ignored. Current value: lambda_l1=0.1899464826683312\n",
      "[LightGBM] [Warning] feature_fraction is set=0.5444823627425038, colsample_bytree=1.0 will be ignored. Current value: feature_fraction=0.5444823627425038\n",
      "[LightGBM] [Warning] lambda_l2 is set=0.3978619417161249, reg_lambda=0.0 will be ignored. Current value: lambda_l2=0.3978619417161249\n",
      "[LightGBM] [Warning] bagging_freq is set=4, subsample_freq=0 will be ignored. Current value: bagging_freq=4\n",
      "[LightGBM] [Warning] bagging_fraction is set=0.5129885893149955, subsample=1.0 will be ignored. Current value: bagging_fraction=0.5129885893149955\n",
      "[LightGBM] [Warning] lambda_l1 is set=0.1899464826683312, reg_alpha=0.0 will be ignored. Current value: lambda_l1=0.1899464826683312\n",
      "[LightGBM] [Warning] feature_fraction is set=0.5444823627425038, colsample_bytree=1.0 will be ignored. Current value: feature_fraction=0.5444823627425038\n",
      "[LightGBM] [Warning] lambda_l2 is set=0.3978619417161249, reg_lambda=0.0 will be ignored. Current value: lambda_l2=0.3978619417161249\n",
      "[LightGBM] [Warning] bagging_freq is set=4, subsample_freq=0 will be ignored. Current value: bagging_freq=4\n",
      "[LightGBM] [Warning] bagging_fraction is set=0.5129885893149955, subsample=1.0 will be ignored. Current value: bagging_fraction=0.5129885893149955\n",
      "[LightGBM] [Warning] lambda_l1 is set=0.1899464826683312, reg_alpha=0.0 will be ignored. Current value: lambda_l1=0.1899464826683312\n",
      "[LightGBM] [Warning] feature_fraction is set=0.5444823627425038, colsample_bytree=1.0 will be ignored. Current value: feature_fraction=0.5444823627425038\n",
      "[LightGBM] [Warning] lambda_l2 is set=0.3978619417161249, reg_lambda=0.0 will be ignored. Current value: lambda_l2=0.3978619417161249\n",
      "[LightGBM] [Warning] bagging_freq is set=4, subsample_freq=0 will be ignored. Current value: bagging_freq=4\n"
     ]
    },
    {
     "name": "stderr",
     "output_type": "stream",
     "text": [
      "\u001b[32m[I 2023-03-15 19:55:45,803]\u001b[0m Trial 17 finished with value: 0.7406006407202579 and parameters: {'lambda_l1': 0.1899464826683312, 'lambda_l2': 0.3978619417161249, 'num_leaves': 119, 'feature_fraction': 0.5444823627425038, 'bagging_fraction': 0.5129885893149955, 'bagging_freq': 4, 'min_child_samples': 61}. Best is trial 12 with value: 0.7794427528877289.\u001b[0m\n"
     ]
    },
    {
     "name": "stdout",
     "output_type": "stream",
     "text": [
      "[LightGBM] [Warning] bagging_fraction is set=0.4054762324455777, subsample=1.0 will be ignored. Current value: bagging_fraction=0.4054762324455777\n",
      "[LightGBM] [Warning] lambda_l1 is set=0.7169357520394403, reg_alpha=0.0 will be ignored. Current value: lambda_l1=0.7169357520394403\n",
      "[LightGBM] [Warning] feature_fraction is set=0.6327456464242857, colsample_bytree=1.0 will be ignored. Current value: feature_fraction=0.6327456464242857\n",
      "[LightGBM] [Warning] lambda_l2 is set=5.86973253400049, reg_lambda=0.0 will be ignored. Current value: lambda_l2=5.86973253400049\n",
      "[LightGBM] [Warning] bagging_freq is set=2, subsample_freq=0 will be ignored. Current value: bagging_freq=2\n",
      "[LightGBM] [Warning] bagging_fraction is set=0.4054762324455777, subsample=1.0 will be ignored. Current value: bagging_fraction=0.4054762324455777\n",
      "[LightGBM] [Warning] lambda_l1 is set=0.7169357520394403, reg_alpha=0.0 will be ignored. Current value: lambda_l1=0.7169357520394403\n",
      "[LightGBM] [Warning] feature_fraction is set=0.6327456464242857, colsample_bytree=1.0 will be ignored. Current value: feature_fraction=0.6327456464242857\n",
      "[LightGBM] [Warning] lambda_l2 is set=5.86973253400049, reg_lambda=0.0 will be ignored. Current value: lambda_l2=5.86973253400049\n",
      "[LightGBM] [Warning] bagging_freq is set=2, subsample_freq=0 will be ignored. Current value: bagging_freq=2\n",
      "[LightGBM] [Warning] bagging_fraction is set=0.4054762324455777, subsample=1.0 will be ignored. Current value: bagging_fraction=0.4054762324455777\n",
      "[LightGBM] [Warning] lambda_l1 is set=0.7169357520394403, reg_alpha=0.0 will be ignored. Current value: lambda_l1=0.7169357520394403\n",
      "[LightGBM] [Warning] feature_fraction is set=0.6327456464242857, colsample_bytree=1.0 will be ignored. Current value: feature_fraction=0.6327456464242857\n",
      "[LightGBM] [Warning] lambda_l2 is set=5.86973253400049, reg_lambda=0.0 will be ignored. Current value: lambda_l2=5.86973253400049\n",
      "[LightGBM] [Warning] bagging_freq is set=2, subsample_freq=0 will be ignored. Current value: bagging_freq=2\n",
      "[LightGBM] [Warning] bagging_fraction is set=0.4054762324455777, subsample=1.0 will be ignored. Current value: bagging_fraction=0.4054762324455777\n",
      "[LightGBM] [Warning] lambda_l1 is set=0.7169357520394403, reg_alpha=0.0 will be ignored. Current value: lambda_l1=0.7169357520394403\n",
      "[LightGBM] [Warning] feature_fraction is set=0.6327456464242857, colsample_bytree=1.0 will be ignored. Current value: feature_fraction=0.6327456464242857\n",
      "[LightGBM] [Warning] lambda_l2 is set=5.86973253400049, reg_lambda=0.0 will be ignored. Current value: lambda_l2=5.86973253400049\n",
      "[LightGBM] [Warning] bagging_freq is set=2, subsample_freq=0 will be ignored. Current value: bagging_freq=2\n"
     ]
    },
    {
     "name": "stderr",
     "output_type": "stream",
     "text": [
      "\u001b[32m[I 2023-03-15 19:55:46,105]\u001b[0m Trial 18 finished with value: 0.7673617583904665 and parameters: {'lambda_l1': 0.7169357520394403, 'lambda_l2': 5.86973253400049, 'num_leaves': 176, 'feature_fraction': 0.6327456464242857, 'bagging_fraction': 0.4054762324455777, 'bagging_freq': 2, 'min_child_samples': 87}. Best is trial 12 with value: 0.7794427528877289.\u001b[0m\n"
     ]
    },
    {
     "name": "stdout",
     "output_type": "stream",
     "text": [
      "[LightGBM] [Warning] bagging_fraction is set=0.4054762324455777, subsample=1.0 will be ignored. Current value: bagging_fraction=0.4054762324455777\n",
      "[LightGBM] [Warning] lambda_l1 is set=0.7169357520394403, reg_alpha=0.0 will be ignored. Current value: lambda_l1=0.7169357520394403\n",
      "[LightGBM] [Warning] feature_fraction is set=0.6327456464242857, colsample_bytree=1.0 will be ignored. Current value: feature_fraction=0.6327456464242857\n",
      "[LightGBM] [Warning] lambda_l2 is set=5.86973253400049, reg_lambda=0.0 will be ignored. Current value: lambda_l2=5.86973253400049\n",
      "[LightGBM] [Warning] bagging_freq is set=2, subsample_freq=0 will be ignored. Current value: bagging_freq=2\n",
      "[LightGBM] [Warning] bagging_fraction is set=0.6047515682654796, subsample=1.0 will be ignored. Current value: bagging_fraction=0.6047515682654796\n",
      "[LightGBM] [Warning] lambda_l1 is set=0.026615818096711156, reg_alpha=0.0 will be ignored. Current value: lambda_l1=0.026615818096711156\n",
      "[LightGBM] [Warning] feature_fraction is set=0.5192104978601391, colsample_bytree=1.0 will be ignored. Current value: feature_fraction=0.5192104978601391\n",
      "[LightGBM] [Warning] lambda_l2 is set=0.9829190602943103, reg_lambda=0.0 will be ignored. Current value: lambda_l2=0.9829190602943103\n",
      "[LightGBM] [Warning] bagging_freq is set=3, subsample_freq=0 will be ignored. Current value: bagging_freq=3\n",
      "[LightGBM] [Warning] bagging_fraction is set=0.6047515682654796, subsample=1.0 will be ignored. Current value: bagging_fraction=0.6047515682654796\n",
      "[LightGBM] [Warning] lambda_l1 is set=0.026615818096711156, reg_alpha=0.0 will be ignored. Current value: lambda_l1=0.026615818096711156\n",
      "[LightGBM] [Warning] feature_fraction is set=0.5192104978601391, colsample_bytree=1.0 will be ignored. Current value: feature_fraction=0.5192104978601391\n",
      "[LightGBM] [Warning] lambda_l2 is set=0.9829190602943103, reg_lambda=0.0 will be ignored. Current value: lambda_l2=0.9829190602943103\n",
      "[LightGBM] [Warning] bagging_freq is set=3, subsample_freq=0 will be ignored. Current value: bagging_freq=3\n"
     ]
    },
    {
     "name": "stderr",
     "output_type": "stream",
     "text": [
      "\u001b[32m[I 2023-03-15 19:55:46,480]\u001b[0m Trial 19 finished with value: 0.743137457969994 and parameters: {'lambda_l1': 0.026615818096711156, 'lambda_l2': 0.9829190602943103, 'num_leaves': 63, 'feature_fraction': 0.5192104978601391, 'bagging_fraction': 0.6047515682654796, 'bagging_freq': 3, 'min_child_samples': 72}. Best is trial 12 with value: 0.7794427528877289.\u001b[0m\n"
     ]
    },
    {
     "name": "stdout",
     "output_type": "stream",
     "text": [
      "[LightGBM] [Warning] bagging_fraction is set=0.6047515682654796, subsample=1.0 will be ignored. Current value: bagging_fraction=0.6047515682654796\n",
      "[LightGBM] [Warning] lambda_l1 is set=0.026615818096711156, reg_alpha=0.0 will be ignored. Current value: lambda_l1=0.026615818096711156\n",
      "[LightGBM] [Warning] feature_fraction is set=0.5192104978601391, colsample_bytree=1.0 will be ignored. Current value: feature_fraction=0.5192104978601391\n",
      "[LightGBM] [Warning] lambda_l2 is set=0.9829190602943103, reg_lambda=0.0 will be ignored. Current value: lambda_l2=0.9829190602943103\n",
      "[LightGBM] [Warning] bagging_freq is set=3, subsample_freq=0 will be ignored. Current value: bagging_freq=3\n",
      "[LightGBM] [Warning] bagging_fraction is set=0.6047515682654796, subsample=1.0 will be ignored. Current value: bagging_fraction=0.6047515682654796\n",
      "[LightGBM] [Warning] lambda_l1 is set=0.026615818096711156, reg_alpha=0.0 will be ignored. Current value: lambda_l1=0.026615818096711156\n",
      "[LightGBM] [Warning] feature_fraction is set=0.5192104978601391, colsample_bytree=1.0 will be ignored. Current value: feature_fraction=0.5192104978601391\n",
      "[LightGBM] [Warning] lambda_l2 is set=0.9829190602943103, reg_lambda=0.0 will be ignored. Current value: lambda_l2=0.9829190602943103\n",
      "[LightGBM] [Warning] bagging_freq is set=3, subsample_freq=0 will be ignored. Current value: bagging_freq=3\n",
      "[LightGBM] [Warning] bagging_fraction is set=0.6047515682654796, subsample=1.0 will be ignored. Current value: bagging_fraction=0.6047515682654796\n",
      "[LightGBM] [Warning] lambda_l1 is set=0.026615818096711156, reg_alpha=0.0 will be ignored. Current value: lambda_l1=0.026615818096711156\n",
      "[LightGBM] [Warning] feature_fraction is set=0.5192104978601391, colsample_bytree=1.0 will be ignored. Current value: feature_fraction=0.5192104978601391\n",
      "[LightGBM] [Warning] lambda_l2 is set=0.9829190602943103, reg_lambda=0.0 will be ignored. Current value: lambda_l2=0.9829190602943103\n",
      "[LightGBM] [Warning] bagging_freq is set=3, subsample_freq=0 will be ignored. Current value: bagging_freq=3\n",
      "[LightGBM] [Warning] bagging_fraction is set=0.4693714010935146, subsample=1.0 will be ignored. Current value: bagging_fraction=0.4693714010935146\n",
      "[LightGBM] [Warning] lambda_l1 is set=0.7622341095225388, reg_alpha=0.0 will be ignored. Current value: lambda_l1=0.7622341095225388\n",
      "[LightGBM] [Warning] feature_fraction is set=0.6469609476647075, colsample_bytree=1.0 will be ignored. Current value: feature_fraction=0.6469609476647075\n",
      "[LightGBM] [Warning] lambda_l2 is set=0.08511184590646993, reg_lambda=0.0 will be ignored. Current value: lambda_l2=0.08511184590646993\n",
      "[LightGBM] [Warning] bagging_freq is set=4, subsample_freq=0 will be ignored. Current value: bagging_freq=4\n",
      "[LightGBM] [Warning] bagging_fraction is set=0.4693714010935146, subsample=1.0 will be ignored. Current value: bagging_fraction=0.4693714010935146\n",
      "[LightGBM] [Warning] lambda_l1 is set=0.7622341095225388, reg_alpha=0.0 will be ignored. Current value: lambda_l1=0.7622341095225388\n",
      "[LightGBM] [Warning] feature_fraction is set=0.6469609476647075, colsample_bytree=1.0 will be ignored. Current value: feature_fraction=0.6469609476647075\n",
      "[LightGBM] [Warning] lambda_l2 is set=0.08511184590646993, reg_lambda=0.0 will be ignored. Current value: lambda_l2=0.08511184590646993\n",
      "[LightGBM] [Warning] bagging_freq is set=4, subsample_freq=0 will be ignored. Current value: bagging_freq=4\n",
      "[LightGBM] [Warning] bagging_fraction is set=0.4693714010935146, subsample=1.0 will be ignored. Current value: bagging_fraction=0.4693714010935146\n",
      "[LightGBM] [Warning] lambda_l1 is set=0.7622341095225388, reg_alpha=0.0 will be ignored. Current value: lambda_l1=0.7622341095225388\n",
      "[LightGBM] [Warning] feature_fraction is set=0.6469609476647075, colsample_bytree=1.0 will be ignored. Current value: feature_fraction=0.6469609476647075\n",
      "[LightGBM] [Warning] lambda_l2 is set=0.08511184590646993, reg_lambda=0.0 will be ignored. Current value: lambda_l2=0.08511184590646993\n",
      "[LightGBM] [Warning] bagging_freq is set=4, subsample_freq=0 will be ignored. Current value: bagging_freq=4\n",
      "[LightGBM] [Warning] bagging_fraction is set=0.4693714010935146, subsample=1.0 will be ignored. Current value: bagging_fraction=0.4693714010935146\n",
      "[LightGBM] [Warning] lambda_l1 is set=0.7622341095225388, reg_alpha=0.0 will be ignored. Current value: lambda_l1=0.7622341095225388\n",
      "[LightGBM] [Warning] feature_fraction is set=0.6469609476647075, colsample_bytree=1.0 will be ignored. Current value: feature_fraction=0.6469609476647075\n",
      "[LightGBM] [Warning] lambda_l2 is set=0.08511184590646993, reg_lambda=0.0 will be ignored. Current value: lambda_l2=0.08511184590646993\n",
      "[LightGBM] [Warning] bagging_freq is set=4, subsample_freq=0 will be ignored. Current value: bagging_freq=4\n"
     ]
    },
    {
     "name": "stderr",
     "output_type": "stream",
     "text": [
      "\u001b[32m[I 2023-03-15 19:55:46,820]\u001b[0m Trial 20 finished with value: 0.7611046383175569 and parameters: {'lambda_l1': 0.7622341095225388, 'lambda_l2': 0.08511184590646993, 'num_leaves': 95, 'feature_fraction': 0.6469609476647075, 'bagging_fraction': 0.4693714010935146, 'bagging_freq': 4, 'min_child_samples': 90}. Best is trial 12 with value: 0.7794427528877289.\u001b[0m\n"
     ]
    },
    {
     "name": "stdout",
     "output_type": "stream",
     "text": [
      "[LightGBM] [Warning] bagging_fraction is set=0.4693714010935146, subsample=1.0 will be ignored. Current value: bagging_fraction=0.4693714010935146\n",
      "[LightGBM] [Warning] lambda_l1 is set=0.7622341095225388, reg_alpha=0.0 will be ignored. Current value: lambda_l1=0.7622341095225388\n",
      "[LightGBM] [Warning] feature_fraction is set=0.6469609476647075, colsample_bytree=1.0 will be ignored. Current value: feature_fraction=0.6469609476647075\n",
      "[LightGBM] [Warning] lambda_l2 is set=0.08511184590646993, reg_lambda=0.0 will be ignored. Current value: lambda_l2=0.08511184590646993\n",
      "[LightGBM] [Warning] bagging_freq is set=4, subsample_freq=0 will be ignored. Current value: bagging_freq=4\n",
      "[LightGBM] [Warning] bagging_fraction is set=0.40251219405719496, subsample=1.0 will be ignored. Current value: bagging_fraction=0.40251219405719496\n",
      "[LightGBM] [Warning] lambda_l1 is set=1.6101730369910592, reg_alpha=0.0 will be ignored. Current value: lambda_l1=1.6101730369910592\n",
      "[LightGBM] [Warning] feature_fraction is set=0.572604099405069, colsample_bytree=1.0 will be ignored. Current value: feature_fraction=0.572604099405069\n",
      "[LightGBM] [Warning] lambda_l2 is set=7.783854670674628, reg_lambda=0.0 will be ignored. Current value: lambda_l2=7.783854670674628\n",
      "[LightGBM] [Warning] bagging_freq is set=3, subsample_freq=0 will be ignored. Current value: bagging_freq=3\n",
      "[LightGBM] [Warning] bagging_fraction is set=0.40251219405719496, subsample=1.0 will be ignored. Current value: bagging_fraction=0.40251219405719496\n",
      "[LightGBM] [Warning] lambda_l1 is set=1.6101730369910592, reg_alpha=0.0 will be ignored. Current value: lambda_l1=1.6101730369910592\n",
      "[LightGBM] [Warning] feature_fraction is set=0.572604099405069, colsample_bytree=1.0 will be ignored. Current value: feature_fraction=0.572604099405069\n",
      "[LightGBM] [Warning] lambda_l2 is set=7.783854670674628, reg_lambda=0.0 will be ignored. Current value: lambda_l2=7.783854670674628\n",
      "[LightGBM] [Warning] bagging_freq is set=3, subsample_freq=0 will be ignored. Current value: bagging_freq=3\n",
      "[LightGBM] [Warning] bagging_fraction is set=0.40251219405719496, subsample=1.0 will be ignored. Current value: bagging_fraction=0.40251219405719496\n",
      "[LightGBM] [Warning] lambda_l1 is set=1.6101730369910592, reg_alpha=0.0 will be ignored. Current value: lambda_l1=1.6101730369910592\n",
      "[LightGBM] [Warning] feature_fraction is set=0.572604099405069, colsample_bytree=1.0 will be ignored. Current value: feature_fraction=0.572604099405069\n",
      "[LightGBM] [Warning] lambda_l2 is set=7.783854670674628, reg_lambda=0.0 will be ignored. Current value: lambda_l2=7.783854670674628\n",
      "[LightGBM] [Warning] bagging_freq is set=3, subsample_freq=0 will be ignored. Current value: bagging_freq=3\n"
     ]
    },
    {
     "name": "stderr",
     "output_type": "stream",
     "text": [
      "\u001b[32m[I 2023-03-15 19:55:47,091]\u001b[0m Trial 21 finished with value: 0.7730364996513321 and parameters: {'lambda_l1': 1.6101730369910592, 'lambda_l2': 7.783854670674628, 'num_leaves': 74, 'feature_fraction': 0.572604099405069, 'bagging_fraction': 0.40251219405719496, 'bagging_freq': 3, 'min_child_samples': 95}. Best is trial 12 with value: 0.7794427528877289.\u001b[0m\n"
     ]
    },
    {
     "name": "stdout",
     "output_type": "stream",
     "text": [
      "[LightGBM] [Warning] bagging_fraction is set=0.40251219405719496, subsample=1.0 will be ignored. Current value: bagging_fraction=0.40251219405719496\n",
      "[LightGBM] [Warning] lambda_l1 is set=1.6101730369910592, reg_alpha=0.0 will be ignored. Current value: lambda_l1=1.6101730369910592\n",
      "[LightGBM] [Warning] feature_fraction is set=0.572604099405069, colsample_bytree=1.0 will be ignored. Current value: feature_fraction=0.572604099405069\n",
      "[LightGBM] [Warning] lambda_l2 is set=7.783854670674628, reg_lambda=0.0 will be ignored. Current value: lambda_l2=7.783854670674628\n",
      "[LightGBM] [Warning] bagging_freq is set=3, subsample_freq=0 will be ignored. Current value: bagging_freq=3\n",
      "[LightGBM] [Warning] bagging_fraction is set=0.40251219405719496, subsample=1.0 will be ignored. Current value: bagging_fraction=0.40251219405719496\n",
      "[LightGBM] [Warning] lambda_l1 is set=1.6101730369910592, reg_alpha=0.0 will be ignored. Current value: lambda_l1=1.6101730369910592\n",
      "[LightGBM] [Warning] feature_fraction is set=0.572604099405069, colsample_bytree=1.0 will be ignored. Current value: feature_fraction=0.572604099405069\n",
      "[LightGBM] [Warning] lambda_l2 is set=7.783854670674628, reg_lambda=0.0 will be ignored. Current value: lambda_l2=7.783854670674628\n",
      "[LightGBM] [Warning] bagging_freq is set=3, subsample_freq=0 will be ignored. Current value: bagging_freq=3\n",
      "[LightGBM] [Warning] bagging_fraction is set=0.45304591541189104, subsample=1.0 will be ignored. Current value: bagging_fraction=0.45304591541189104\n",
      "[LightGBM] [Warning] lambda_l1 is set=9.28007557052996, reg_alpha=0.0 will be ignored. Current value: lambda_l1=9.28007557052996\n",
      "[LightGBM] [Warning] feature_fraction is set=0.5806011099565709, colsample_bytree=1.0 will be ignored. Current value: feature_fraction=0.5806011099565709\n",
      "[LightGBM] [Warning] lambda_l2 is set=6.7131521589442515, reg_lambda=0.0 will be ignored. Current value: lambda_l2=6.7131521589442515\n",
      "[LightGBM] [Warning] bagging_freq is set=2, subsample_freq=0 will be ignored. Current value: bagging_freq=2\n",
      "[LightGBM] [Warning] bagging_fraction is set=0.45304591541189104, subsample=1.0 will be ignored. Current value: bagging_fraction=0.45304591541189104\n",
      "[LightGBM] [Warning] lambda_l1 is set=9.28007557052996, reg_alpha=0.0 will be ignored. Current value: lambda_l1=9.28007557052996\n",
      "[LightGBM] [Warning] feature_fraction is set=0.5806011099565709, colsample_bytree=1.0 will be ignored. Current value: feature_fraction=0.5806011099565709\n",
      "[LightGBM] [Warning] lambda_l2 is set=6.7131521589442515, reg_lambda=0.0 will be ignored. Current value: lambda_l2=6.7131521589442515\n",
      "[LightGBM] [Warning] bagging_freq is set=2, subsample_freq=0 will be ignored. Current value: bagging_freq=2\n"
     ]
    },
    {
     "name": "stderr",
     "output_type": "stream",
     "text": [
      "\u001b[32m[I 2023-03-15 19:55:47,375]\u001b[0m Trial 22 finished with value: 0.7765151515151516 and parameters: {'lambda_l1': 9.28007557052996, 'lambda_l2': 6.7131521589442515, 'num_leaves': 49, 'feature_fraction': 0.5806011099565709, 'bagging_fraction': 0.45304591541189104, 'bagging_freq': 2, 'min_child_samples': 80}. Best is trial 12 with value: 0.7794427528877289.\u001b[0m\n"
     ]
    },
    {
     "name": "stdout",
     "output_type": "stream",
     "text": [
      "[LightGBM] [Warning] bagging_fraction is set=0.45304591541189104, subsample=1.0 will be ignored. Current value: bagging_fraction=0.45304591541189104\n",
      "[LightGBM] [Warning] lambda_l1 is set=9.28007557052996, reg_alpha=0.0 will be ignored. Current value: lambda_l1=9.28007557052996\n",
      "[LightGBM] [Warning] feature_fraction is set=0.5806011099565709, colsample_bytree=1.0 will be ignored. Current value: feature_fraction=0.5806011099565709\n",
      "[LightGBM] [Warning] lambda_l2 is set=6.7131521589442515, reg_lambda=0.0 will be ignored. Current value: lambda_l2=6.7131521589442515\n",
      "[LightGBM] [Warning] bagging_freq is set=2, subsample_freq=0 will be ignored. Current value: bagging_freq=2\n",
      "[LightGBM] [Warning] bagging_fraction is set=0.45304591541189104, subsample=1.0 will be ignored. Current value: bagging_fraction=0.45304591541189104\n",
      "[LightGBM] [Warning] lambda_l1 is set=9.28007557052996, reg_alpha=0.0 will be ignored. Current value: lambda_l1=9.28007557052996\n",
      "[LightGBM] [Warning] feature_fraction is set=0.5806011099565709, colsample_bytree=1.0 will be ignored. Current value: feature_fraction=0.5806011099565709\n",
      "[LightGBM] [Warning] lambda_l2 is set=6.7131521589442515, reg_lambda=0.0 will be ignored. Current value: lambda_l2=6.7131521589442515\n",
      "[LightGBM] [Warning] bagging_freq is set=2, subsample_freq=0 will be ignored. Current value: bagging_freq=2\n",
      "[LightGBM] [Warning] bagging_fraction is set=0.45304591541189104, subsample=1.0 will be ignored. Current value: bagging_fraction=0.45304591541189104\n",
      "[LightGBM] [Warning] lambda_l1 is set=9.28007557052996, reg_alpha=0.0 will be ignored. Current value: lambda_l1=9.28007557052996\n",
      "[LightGBM] [Warning] feature_fraction is set=0.5806011099565709, colsample_bytree=1.0 will be ignored. Current value: feature_fraction=0.5806011099565709\n",
      "[LightGBM] [Warning] lambda_l2 is set=6.7131521589442515, reg_lambda=0.0 will be ignored. Current value: lambda_l2=6.7131521589442515\n",
      "[LightGBM] [Warning] bagging_freq is set=2, subsample_freq=0 will be ignored. Current value: bagging_freq=2\n",
      "[LightGBM] [Warning] bagging_fraction is set=0.4689345892712544, subsample=1.0 will be ignored. Current value: bagging_fraction=0.4689345892712544\n",
      "[LightGBM] [Warning] lambda_l1 is set=6.570775691971798, reg_alpha=0.0 will be ignored. Current value: lambda_l1=6.570775691971798\n",
      "[LightGBM] [Warning] feature_fraction is set=0.662635765242933, colsample_bytree=1.0 will be ignored. Current value: feature_fraction=0.662635765242933\n",
      "[LightGBM] [Warning] lambda_l2 is set=1.164521682632154, reg_lambda=0.0 will be ignored. Current value: lambda_l2=1.164521682632154\n",
      "[LightGBM] [Warning] bagging_freq is set=2, subsample_freq=0 will be ignored. Current value: bagging_freq=2\n",
      "[LightGBM] [Warning] bagging_fraction is set=0.4689345892712544, subsample=1.0 will be ignored. Current value: bagging_fraction=0.4689345892712544\n",
      "[LightGBM] [Warning] lambda_l1 is set=6.570775691971798, reg_alpha=0.0 will be ignored. Current value: lambda_l1=6.570775691971798\n",
      "[LightGBM] [Warning] feature_fraction is set=0.662635765242933, colsample_bytree=1.0 will be ignored. Current value: feature_fraction=0.662635765242933\n",
      "[LightGBM] [Warning] lambda_l2 is set=1.164521682632154, reg_lambda=0.0 will be ignored. Current value: lambda_l2=1.164521682632154\n",
      "[LightGBM] [Warning] bagging_freq is set=2, subsample_freq=0 will be ignored. Current value: bagging_freq=2\n",
      "[LightGBM] [Warning] bagging_fraction is set=0.4689345892712544, subsample=1.0 will be ignored. Current value: bagging_fraction=0.4689345892712544\n",
      "[LightGBM] [Warning] lambda_l1 is set=6.570775691971798, reg_alpha=0.0 will be ignored. Current value: lambda_l1=6.570775691971798\n",
      "[LightGBM] [Warning] feature_fraction is set=0.662635765242933, colsample_bytree=1.0 will be ignored. Current value: feature_fraction=0.662635765242933\n",
      "[LightGBM] [Warning] lambda_l2 is set=1.164521682632154, reg_lambda=0.0 will be ignored. Current value: lambda_l2=1.164521682632154\n",
      "[LightGBM] [Warning] bagging_freq is set=2, subsample_freq=0 will be ignored. Current value: bagging_freq=2\n",
      "[LightGBM] [Warning] bagging_fraction is set=0.4689345892712544, subsample=1.0 will be ignored. Current value: bagging_fraction=0.4689345892712544\n",
      "[LightGBM] [Warning] lambda_l1 is set=6.570775691971798, reg_alpha=0.0 will be ignored. Current value: lambda_l1=6.570775691971798\n",
      "[LightGBM] [Warning] feature_fraction is set=0.662635765242933, colsample_bytree=1.0 will be ignored. Current value: feature_fraction=0.662635765242933\n",
      "[LightGBM] [Warning] lambda_l2 is set=1.164521682632154, reg_lambda=0.0 will be ignored. Current value: lambda_l2=1.164521682632154\n",
      "[LightGBM] [Warning] bagging_freq is set=2, subsample_freq=0 will be ignored. Current value: bagging_freq=2\n",
      "[LightGBM] [Warning] bagging_fraction is set=0.4689345892712544, subsample=1.0 will be ignored. Current value: bagging_fraction=0.4689345892712544\n",
      "[LightGBM] [Warning] lambda_l1 is set=6.570775691971798, reg_alpha=0.0 will be ignored. Current value: lambda_l1=6.570775691971798\n",
      "[LightGBM] [Warning] feature_fraction is set=0.662635765242933, colsample_bytree=1.0 will be ignored. Current value: feature_fraction=0.662635765242933\n",
      "[LightGBM] [Warning] lambda_l2 is set=1.164521682632154, reg_lambda=0.0 will be ignored. Current value: lambda_l2=1.164521682632154\n",
      "[LightGBM] [Warning] bagging_freq is set=2, subsample_freq=0 will be ignored. Current value: bagging_freq=2\n"
     ]
    },
    {
     "name": "stderr",
     "output_type": "stream",
     "text": [
      "\u001b[32m[I 2023-03-15 19:55:47,688]\u001b[0m Trial 23 finished with value: 0.7700865455650145 and parameters: {'lambda_l1': 6.570775691971798, 'lambda_l2': 1.164521682632154, 'num_leaves': 52, 'feature_fraction': 0.662635765242933, 'bagging_fraction': 0.4689345892712544, 'bagging_freq': 2, 'min_child_samples': 79}. Best is trial 12 with value: 0.7794427528877289.\u001b[0m\n"
     ]
    },
    {
     "name": "stdout",
     "output_type": "stream",
     "text": [
      "[LightGBM] [Warning] bagging_fraction is set=0.5144733007937641, subsample=1.0 will be ignored. Current value: bagging_fraction=0.5144733007937641\n",
      "[LightGBM] [Warning] lambda_l1 is set=0.5593065803902535, reg_alpha=0.0 will be ignored. Current value: lambda_l1=0.5593065803902535\n",
      "[LightGBM] [Warning] feature_fraction is set=0.5721377844178842, colsample_bytree=1.0 will be ignored. Current value: feature_fraction=0.5721377844178842\n",
      "[LightGBM] [Warning] lambda_l2 is set=0.22364072252918965, reg_lambda=0.0 will be ignored. Current value: lambda_l2=0.22364072252918965\n",
      "[LightGBM] [Warning] bagging_freq is set=1, subsample_freq=0 will be ignored. Current value: bagging_freq=1\n",
      "[LightGBM] [Warning] bagging_fraction is set=0.5144733007937641, subsample=1.0 will be ignored. Current value: bagging_fraction=0.5144733007937641\n",
      "[LightGBM] [Warning] lambda_l1 is set=0.5593065803902535, reg_alpha=0.0 will be ignored. Current value: lambda_l1=0.5593065803902535\n",
      "[LightGBM] [Warning] feature_fraction is set=0.5721377844178842, colsample_bytree=1.0 will be ignored. Current value: feature_fraction=0.5721377844178842\n",
      "[LightGBM] [Warning] lambda_l2 is set=0.22364072252918965, reg_lambda=0.0 will be ignored. Current value: lambda_l2=0.22364072252918965\n",
      "[LightGBM] [Warning] bagging_freq is set=1, subsample_freq=0 will be ignored. Current value: bagging_freq=1\n",
      "[LightGBM] [Warning] bagging_fraction is set=0.5144733007937641, subsample=1.0 will be ignored. Current value: bagging_fraction=0.5144733007937641\n",
      "[LightGBM] [Warning] lambda_l1 is set=0.5593065803902535, reg_alpha=0.0 will be ignored. Current value: lambda_l1=0.5593065803902535\n",
      "[LightGBM] [Warning] feature_fraction is set=0.5721377844178842, colsample_bytree=1.0 will be ignored. Current value: feature_fraction=0.5721377844178842\n",
      "[LightGBM] [Warning] lambda_l2 is set=0.22364072252918965, reg_lambda=0.0 will be ignored. Current value: lambda_l2=0.22364072252918965\n",
      "[LightGBM] [Warning] bagging_freq is set=1, subsample_freq=0 will be ignored. Current value: bagging_freq=1\n",
      "[LightGBM] [Warning] bagging_fraction is set=0.5144733007937641, subsample=1.0 will be ignored. Current value: bagging_fraction=0.5144733007937641\n"
     ]
    },
    {
     "name": "stderr",
     "output_type": "stream",
     "text": [
      "\u001b[32m[I 2023-03-15 19:55:48,060]\u001b[0m Trial 24 finished with value: 0.7576556750001726 and parameters: {'lambda_l1': 0.5593065803902535, 'lambda_l2': 0.22364072252918965, 'num_leaves': 97, 'feature_fraction': 0.5721377844178842, 'bagging_fraction': 0.5144733007937641, 'bagging_freq': 1, 'min_child_samples': 65}. Best is trial 12 with value: 0.7794427528877289.\u001b[0m\n"
     ]
    },
    {
     "name": "stdout",
     "output_type": "stream",
     "text": [
      "[LightGBM] [Warning] lambda_l1 is set=0.5593065803902535, reg_alpha=0.0 will be ignored. Current value: lambda_l1=0.5593065803902535\n",
      "[LightGBM] [Warning] feature_fraction is set=0.5721377844178842, colsample_bytree=1.0 will be ignored. Current value: feature_fraction=0.5721377844178842\n",
      "[LightGBM] [Warning] lambda_l2 is set=0.22364072252918965, reg_lambda=0.0 will be ignored. Current value: lambda_l2=0.22364072252918965\n",
      "[LightGBM] [Warning] bagging_freq is set=1, subsample_freq=0 will be ignored. Current value: bagging_freq=1\n",
      "[LightGBM] [Warning] bagging_fraction is set=0.5144733007937641, subsample=1.0 will be ignored. Current value: bagging_fraction=0.5144733007937641\n",
      "[LightGBM] [Warning] lambda_l1 is set=0.5593065803902535, reg_alpha=0.0 will be ignored. Current value: lambda_l1=0.5593065803902535\n",
      "[LightGBM] [Warning] feature_fraction is set=0.5721377844178842, colsample_bytree=1.0 will be ignored. Current value: feature_fraction=0.5721377844178842\n",
      "[LightGBM] [Warning] lambda_l2 is set=0.22364072252918965, reg_lambda=0.0 will be ignored. Current value: lambda_l2=0.22364072252918965\n",
      "[LightGBM] [Warning] bagging_freq is set=1, subsample_freq=0 will be ignored. Current value: bagging_freq=1\n",
      "[LightGBM] [Warning] bagging_fraction is set=0.44990479071522127, subsample=1.0 will be ignored. Current value: bagging_fraction=0.44990479071522127\n",
      "[LightGBM] [Warning] lambda_l1 is set=9.408769068572065, reg_alpha=0.0 will be ignored. Current value: lambda_l1=9.408769068572065\n",
      "[LightGBM] [Warning] feature_fraction is set=0.5190934024749468, colsample_bytree=1.0 will be ignored. Current value: feature_fraction=0.5190934024749468\n",
      "[LightGBM] [Warning] lambda_l2 is set=1.6268131937912964, reg_lambda=0.0 will be ignored. Current value: lambda_l2=1.6268131937912964\n",
      "[LightGBM] [Warning] bagging_freq is set=2, subsample_freq=0 will be ignored. Current value: bagging_freq=2\n"
     ]
    },
    {
     "name": "stderr",
     "output_type": "stream",
     "text": [
      "\u001b[32m[I 2023-03-15 19:55:48,335]\u001b[0m Trial 25 finished with value: 0.7756801611466683 and parameters: {'lambda_l1': 9.408769068572065, 'lambda_l2': 1.6268131937912964, 'num_leaves': 135, 'feature_fraction': 0.5190934024749468, 'bagging_fraction': 0.44990479071522127, 'bagging_freq': 2, 'min_child_samples': 91}. Best is trial 12 with value: 0.7794427528877289.\u001b[0m\n"
     ]
    },
    {
     "name": "stdout",
     "output_type": "stream",
     "text": [
      "[LightGBM] [Warning] bagging_fraction is set=0.44990479071522127, subsample=1.0 will be ignored. Current value: bagging_fraction=0.44990479071522127\n",
      "[LightGBM] [Warning] lambda_l1 is set=9.408769068572065, reg_alpha=0.0 will be ignored. Current value: lambda_l1=9.408769068572065\n",
      "[LightGBM] [Warning] feature_fraction is set=0.5190934024749468, colsample_bytree=1.0 will be ignored. Current value: feature_fraction=0.5190934024749468\n",
      "[LightGBM] [Warning] lambda_l2 is set=1.6268131937912964, reg_lambda=0.0 will be ignored. Current value: lambda_l2=1.6268131937912964\n",
      "[LightGBM] [Warning] bagging_freq is set=2, subsample_freq=0 will be ignored. Current value: bagging_freq=2\n",
      "[LightGBM] [Warning] bagging_fraction is set=0.44990479071522127, subsample=1.0 will be ignored. Current value: bagging_fraction=0.44990479071522127\n",
      "[LightGBM] [Warning] lambda_l1 is set=9.408769068572065, reg_alpha=0.0 will be ignored. Current value: lambda_l1=9.408769068572065\n",
      "[LightGBM] [Warning] feature_fraction is set=0.5190934024749468, colsample_bytree=1.0 will be ignored. Current value: feature_fraction=0.5190934024749468\n",
      "[LightGBM] [Warning] lambda_l2 is set=1.6268131937912964, reg_lambda=0.0 will be ignored. Current value: lambda_l2=1.6268131937912964\n",
      "[LightGBM] [Warning] bagging_freq is set=2, subsample_freq=0 will be ignored. Current value: bagging_freq=2\n",
      "[LightGBM] [Warning] bagging_fraction is set=0.44990479071522127, subsample=1.0 will be ignored. Current value: bagging_fraction=0.44990479071522127\n",
      "[LightGBM] [Warning] lambda_l1 is set=9.408769068572065, reg_alpha=0.0 will be ignored. Current value: lambda_l1=9.408769068572065\n",
      "[LightGBM] [Warning] feature_fraction is set=0.5190934024749468, colsample_bytree=1.0 will be ignored. Current value: feature_fraction=0.5190934024749468\n",
      "[LightGBM] [Warning] lambda_l2 is set=1.6268131937912964, reg_lambda=0.0 will be ignored. Current value: lambda_l2=1.6268131937912964\n",
      "[LightGBM] [Warning] bagging_freq is set=2, subsample_freq=0 will be ignored. Current value: bagging_freq=2\n",
      "[LightGBM] [Warning] bagging_fraction is set=0.44990479071522127, subsample=1.0 will be ignored. Current value: bagging_fraction=0.44990479071522127\n",
      "[LightGBM] [Warning] lambda_l1 is set=9.408769068572065, reg_alpha=0.0 will be ignored. Current value: lambda_l1=9.408769068572065\n",
      "[LightGBM] [Warning] feature_fraction is set=0.5190934024749468, colsample_bytree=1.0 will be ignored. Current value: feature_fraction=0.5190934024749468\n",
      "[LightGBM] [Warning] lambda_l2 is set=1.6268131937912964, reg_lambda=0.0 will be ignored. Current value: lambda_l2=1.6268131937912964\n",
      "[LightGBM] [Warning] bagging_freq is set=2, subsample_freq=0 will be ignored. Current value: bagging_freq=2\n",
      "[LightGBM] [Warning] bagging_fraction is set=0.5204778972262477, subsample=1.0 will be ignored. Current value: bagging_fraction=0.5204778972262477\n",
      "[LightGBM] [Warning] lambda_l1 is set=0.032970628824164745, reg_alpha=0.0 will be ignored. Current value: lambda_l1=0.032970628824164745\n",
      "[LightGBM] [Warning] feature_fraction is set=0.6649630383708219, colsample_bytree=1.0 will be ignored. Current value: feature_fraction=0.6649630383708219\n",
      "[LightGBM] [Warning] lambda_l2 is set=3.0573948543555045, reg_lambda=0.0 will be ignored. Current value: lambda_l2=3.0573948543555045\n",
      "[LightGBM] [Warning] bagging_freq is set=3, subsample_freq=0 will be ignored. Current value: bagging_freq=3\n",
      "[LightGBM] [Warning] bagging_fraction is set=0.5204778972262477, subsample=1.0 will be ignored. Current value: bagging_fraction=0.5204778972262477\n",
      "[LightGBM] [Warning] lambda_l1 is set=0.032970628824164745, reg_alpha=0.0 will be ignored. Current value: lambda_l1=0.032970628824164745\n",
      "[LightGBM] [Warning] feature_fraction is set=0.6649630383708219, colsample_bytree=1.0 will be ignored. Current value: feature_fraction=0.6649630383708219\n",
      "[LightGBM] [Warning] lambda_l2 is set=3.0573948543555045, reg_lambda=0.0 will be ignored. Current value: lambda_l2=3.0573948543555045\n",
      "[LightGBM] [Warning] bagging_freq is set=3, subsample_freq=0 will be ignored. Current value: bagging_freq=3\n",
      "[LightGBM] [Warning] bagging_fraction is set=0.5204778972262477, subsample=1.0 will be ignored. Current value: bagging_fraction=0.5204778972262477\n",
      "[LightGBM] [Warning] lambda_l1 is set=0.032970628824164745, reg_alpha=0.0 will be ignored. Current value: lambda_l1=0.032970628824164745\n",
      "[LightGBM] [Warning] feature_fraction is set=0.6649630383708219, colsample_bytree=1.0 will be ignored. Current value: feature_fraction=0.6649630383708219\n",
      "[LightGBM] [Warning] lambda_l2 is set=3.0573948543555045, reg_lambda=0.0 will be ignored. Current value: lambda_l2=3.0573948543555045\n",
      "[LightGBM] [Warning] bagging_freq is set=3, subsample_freq=0 will be ignored. Current value: bagging_freq=3\n",
      "[LightGBM] [Warning] bagging_fraction is set=0.5204778972262477, subsample=1.0 will be ignored. Current value: bagging_fraction=0.5204778972262477\n",
      "[LightGBM] [Warning] lambda_l1 is set=0.032970628824164745, reg_alpha=0.0 will be ignored. Current value: lambda_l1=0.032970628824164745\n",
      "[LightGBM] [Warning] feature_fraction is set=0.6649630383708219, colsample_bytree=1.0 will be ignored. Current value: feature_fraction=0.6649630383708219\n",
      "[LightGBM] [Warning] lambda_l2 is set=3.0573948543555045, reg_lambda=0.0 will be ignored. Current value: lambda_l2=3.0573948543555045\n",
      "[LightGBM] [Warning] bagging_freq is set=3, subsample_freq=0 will be ignored. Current value: bagging_freq=3\n"
     ]
    },
    {
     "name": "stderr",
     "output_type": "stream",
     "text": [
      "\u001b[32m[I 2023-03-15 19:55:48,688]\u001b[0m Trial 26 finished with value: 0.7586214157984493 and parameters: {'lambda_l1': 0.032970628824164745, 'lambda_l2': 3.0573948543555045, 'num_leaves': 22, 'feature_fraction': 0.6649630383708219, 'bagging_fraction': 0.5204778972262477, 'bagging_freq': 3, 'min_child_samples': 81}. Best is trial 12 with value: 0.7794427528877289.\u001b[0m\n"
     ]
    },
    {
     "name": "stdout",
     "output_type": "stream",
     "text": [
      "[LightGBM] [Warning] bagging_fraction is set=0.5204778972262477, subsample=1.0 will be ignored. Current value: bagging_fraction=0.5204778972262477\n",
      "[LightGBM] [Warning] lambda_l1 is set=0.032970628824164745, reg_alpha=0.0 will be ignored. Current value: lambda_l1=0.032970628824164745\n",
      "[LightGBM] [Warning] feature_fraction is set=0.6649630383708219, colsample_bytree=1.0 will be ignored. Current value: feature_fraction=0.6649630383708219\n",
      "[LightGBM] [Warning] lambda_l2 is set=3.0573948543555045, reg_lambda=0.0 will be ignored. Current value: lambda_l2=3.0573948543555045\n",
      "[LightGBM] [Warning] bagging_freq is set=3, subsample_freq=0 will be ignored. Current value: bagging_freq=3\n",
      "[LightGBM] [Warning] bagging_fraction is set=0.584189012620728, subsample=1.0 will be ignored. Current value: bagging_fraction=0.584189012620728\n",
      "[LightGBM] [Warning] lambda_l1 is set=1.0209847207584102, reg_alpha=0.0 will be ignored. Current value: lambda_l1=1.0209847207584102\n",
      "[LightGBM] [Warning] feature_fraction is set=0.5755251690247161, colsample_bytree=1.0 will be ignored. Current value: feature_fraction=0.5755251690247161\n",
      "[LightGBM] [Warning] lambda_l2 is set=0.37090527816058744, reg_lambda=0.0 will be ignored. Current value: lambda_l2=0.37090527816058744\n",
      "[LightGBM] [Warning] bagging_freq is set=5, subsample_freq=0 will be ignored. Current value: bagging_freq=5\n",
      "[LightGBM] [Warning] bagging_fraction is set=0.584189012620728, subsample=1.0 will be ignored. Current value: bagging_fraction=0.584189012620728\n",
      "[LightGBM] [Warning] lambda_l1 is set=1.0209847207584102, reg_alpha=0.0 will be ignored. Current value: lambda_l1=1.0209847207584102\n",
      "[LightGBM] [Warning] feature_fraction is set=0.5755251690247161, colsample_bytree=1.0 will be ignored. Current value: feature_fraction=0.5755251690247161\n",
      "[LightGBM] [Warning] lambda_l2 is set=0.37090527816058744, reg_lambda=0.0 will be ignored. Current value: lambda_l2=0.37090527816058744\n",
      "[LightGBM] [Warning] bagging_freq is set=5, subsample_freq=0 will be ignored. Current value: bagging_freq=5\n",
      "[LightGBM] [Warning] bagging_fraction is set=0.584189012620728, subsample=1.0 will be ignored. Current value: bagging_fraction=0.584189012620728\n",
      "[LightGBM] [Warning] lambda_l1 is set=1.0209847207584102, reg_alpha=0.0 will be ignored. Current value: lambda_l1=1.0209847207584102\n",
      "[LightGBM] [Warning] feature_fraction is set=0.5755251690247161, colsample_bytree=1.0 will be ignored. Current value: feature_fraction=0.5755251690247161\n",
      "[LightGBM] [Warning] lambda_l2 is set=0.37090527816058744, reg_lambda=0.0 will be ignored. Current value: lambda_l2=0.37090527816058744\n",
      "[LightGBM] [Warning] bagging_freq is set=5, subsample_freq=0 will be ignored. Current value: bagging_freq=5\n",
      "[LightGBM] [Warning] bagging_fraction is set=0.584189012620728, subsample=1.0 will be ignored. Current value: bagging_fraction=0.584189012620728\n",
      "[LightGBM] [Warning] lambda_l1 is set=1.0209847207584102, reg_alpha=0.0 will be ignored. Current value: lambda_l1=1.0209847207584102\n",
      "[LightGBM] [Warning] feature_fraction is set=0.5755251690247161, colsample_bytree=1.0 will be ignored. Current value: feature_fraction=0.5755251690247161\n",
      "[LightGBM] [Warning] lambda_l2 is set=0.37090527816058744, reg_lambda=0.0 will be ignored. Current value: lambda_l2=0.37090527816058744\n",
      "[LightGBM] [Warning] bagging_freq is set=5, subsample_freq=0 will be ignored. Current value: bagging_freq=5\n",
      "[LightGBM] [Warning] bagging_fraction is set=0.584189012620728, subsample=1.0 will be ignored. Current value: bagging_fraction=0.584189012620728\n",
      "[LightGBM] [Warning] lambda_l1 is set=1.0209847207584102, reg_alpha=0.0 will be ignored. Current value: lambda_l1=1.0209847207584102\n",
      "[LightGBM] [Warning] feature_fraction is set=0.5755251690247161, colsample_bytree=1.0 will be ignored. Current value: feature_fraction=0.5755251690247161\n",
      "[LightGBM] [Warning] lambda_l2 is set=0.37090527816058744, reg_lambda=0.0 will be ignored. Current value: lambda_l2=0.37090527816058744\n",
      "[LightGBM] [Warning] bagging_freq is set=5, subsample_freq=0 will be ignored. Current value: bagging_freq=5\n"
     ]
    },
    {
     "name": "stderr",
     "output_type": "stream",
     "text": [
      "\u001b[32m[I 2023-03-15 19:55:49,135]\u001b[0m Trial 27 finished with value: 0.739031549258822 and parameters: {'lambda_l1': 1.0209847207584102, 'lambda_l2': 0.37090527816058744, 'num_leaves': 42, 'feature_fraction': 0.5755251690247161, 'bagging_fraction': 0.584189012620728, 'bagging_freq': 5, 'min_child_samples': 56}. Best is trial 12 with value: 0.7794427528877289.\u001b[0m\n"
     ]
    },
    {
     "name": "stdout",
     "output_type": "stream",
     "text": [
      "[LightGBM] [Warning] bagging_fraction is set=0.44288738712096315, subsample=1.0 will be ignored. Current value: bagging_fraction=0.44288738712096315\n",
      "[LightGBM] [Warning] lambda_l1 is set=0.004363987255051377, reg_alpha=0.0 will be ignored. Current value: lambda_l1=0.004363987255051377\n",
      "[LightGBM] [Warning] feature_fraction is set=0.47905096157923865, colsample_bytree=1.0 will be ignored. Current value: feature_fraction=0.47905096157923865\n",
      "[LightGBM] [Warning] lambda_l2 is set=0.0395975605241203, reg_lambda=0.0 will be ignored. Current value: lambda_l2=0.0395975605241203\n",
      "[LightGBM] [Warning] bagging_freq is set=4, subsample_freq=0 will be ignored. Current value: bagging_freq=4\n",
      "[LightGBM] [Warning] bagging_fraction is set=0.44288738712096315, subsample=1.0 will be ignored. Current value: bagging_fraction=0.44288738712096315\n",
      "[LightGBM] [Warning] lambda_l1 is set=0.004363987255051377, reg_alpha=0.0 will be ignored. Current value: lambda_l1=0.004363987255051377\n",
      "[LightGBM] [Warning] feature_fraction is set=0.47905096157923865, colsample_bytree=1.0 will be ignored. Current value: feature_fraction=0.47905096157923865\n",
      "[LightGBM] [Warning] lambda_l2 is set=0.0395975605241203, reg_lambda=0.0 will be ignored. Current value: lambda_l2=0.0395975605241203\n",
      "[LightGBM] [Warning] bagging_freq is set=4, subsample_freq=0 will be ignored. Current value: bagging_freq=4\n",
      "[LightGBM] [Warning] bagging_fraction is set=0.44288738712096315, subsample=1.0 will be ignored. Current value: bagging_fraction=0.44288738712096315\n",
      "[LightGBM] [Warning] lambda_l1 is set=0.004363987255051377, reg_alpha=0.0 will be ignored. Current value: lambda_l1=0.004363987255051377\n",
      "[LightGBM] [Warning] feature_fraction is set=0.47905096157923865, colsample_bytree=1.0 will be ignored. Current value: feature_fraction=0.47905096157923865\n",
      "[LightGBM] [Warning] lambda_l2 is set=0.0395975605241203, reg_lambda=0.0 will be ignored. Current value: lambda_l2=0.0395975605241203\n",
      "[LightGBM] [Warning] bagging_freq is set=4, subsample_freq=0 will be ignored. Current value: bagging_freq=4\n"
     ]
    },
    {
     "name": "stderr",
     "output_type": "stream",
     "text": [
      "\u001b[32m[I 2023-03-15 19:55:49,552]\u001b[0m Trial 28 finished with value: 0.7401408997700863 and parameters: {'lambda_l1': 0.004363987255051377, 'lambda_l2': 0.0395975605241203, 'num_leaves': 87, 'feature_fraction': 0.47905096157923865, 'bagging_fraction': 0.44288738712096315, 'bagging_freq': 4, 'min_child_samples': 38}. Best is trial 12 with value: 0.7794427528877289.\u001b[0m\n"
     ]
    },
    {
     "name": "stdout",
     "output_type": "stream",
     "text": [
      "[LightGBM] [Warning] bagging_fraction is set=0.44288738712096315, subsample=1.0 will be ignored. Current value: bagging_fraction=0.44288738712096315\n",
      "[LightGBM] [Warning] lambda_l1 is set=0.004363987255051377, reg_alpha=0.0 will be ignored. Current value: lambda_l1=0.004363987255051377\n",
      "[LightGBM] [Warning] feature_fraction is set=0.47905096157923865, colsample_bytree=1.0 will be ignored. Current value: feature_fraction=0.47905096157923865\n",
      "[LightGBM] [Warning] lambda_l2 is set=0.0395975605241203, reg_lambda=0.0 will be ignored. Current value: lambda_l2=0.0395975605241203\n",
      "[LightGBM] [Warning] bagging_freq is set=4, subsample_freq=0 will be ignored. Current value: bagging_freq=4\n",
      "[LightGBM] [Warning] bagging_fraction is set=0.44288738712096315, subsample=1.0 will be ignored. Current value: bagging_fraction=0.44288738712096315\n",
      "[LightGBM] [Warning] lambda_l1 is set=0.004363987255051377, reg_alpha=0.0 will be ignored. Current value: lambda_l1=0.004363987255051377\n",
      "[LightGBM] [Warning] feature_fraction is set=0.47905096157923865, colsample_bytree=1.0 will be ignored. Current value: feature_fraction=0.47905096157923865\n",
      "[LightGBM] [Warning] lambda_l2 is set=0.0395975605241203, reg_lambda=0.0 will be ignored. Current value: lambda_l2=0.0395975605241203\n",
      "[LightGBM] [Warning] bagging_freq is set=4, subsample_freq=0 will be ignored. Current value: bagging_freq=4\n",
      "[LightGBM] [Warning] bagging_fraction is set=0.6315931971609589, subsample=1.0 will be ignored. Current value: bagging_fraction=0.6315931971609589\n",
      "[LightGBM] [Warning] lambda_l1 is set=0.2399863296103323, reg_alpha=0.0 will be ignored. Current value: lambda_l1=0.2399863296103323\n",
      "[LightGBM] [Warning] feature_fraction is set=0.5282571161080545, colsample_bytree=1.0 will be ignored. Current value: feature_fraction=0.5282571161080545\n",
      "[LightGBM] [Warning] lambda_l2 is set=2.626419873471427, reg_lambda=0.0 will be ignored. Current value: lambda_l2=2.626419873471427\n",
      "[LightGBM] [Warning] bagging_freq is set=1, subsample_freq=0 will be ignored. Current value: bagging_freq=1\n",
      "[LightGBM] [Warning] bagging_fraction is set=0.6315931971609589, subsample=1.0 will be ignored. Current value: bagging_fraction=0.6315931971609589\n",
      "[LightGBM] [Warning] lambda_l1 is set=0.2399863296103323, reg_alpha=0.0 will be ignored. Current value: lambda_l1=0.2399863296103323\n",
      "[LightGBM] [Warning] feature_fraction is set=0.5282571161080545, colsample_bytree=1.0 will be ignored. Current value: feature_fraction=0.5282571161080545\n",
      "[LightGBM] [Warning] lambda_l2 is set=2.626419873471427, reg_lambda=0.0 will be ignored. Current value: lambda_l2=2.626419873471427\n",
      "[LightGBM] [Warning] bagging_freq is set=1, subsample_freq=0 will be ignored. Current value: bagging_freq=1\n",
      "[LightGBM] [Warning] bagging_fraction is set=0.6315931971609589, subsample=1.0 will be ignored. Current value: bagging_fraction=0.6315931971609589\n",
      "[LightGBM] [Warning] lambda_l1 is set=0.2399863296103323, reg_alpha=0.0 will be ignored. Current value: lambda_l1=0.2399863296103323\n",
      "[LightGBM] [Warning] feature_fraction is set=0.5282571161080545, colsample_bytree=1.0 will be ignored. Current value: feature_fraction=0.5282571161080545\n",
      "[LightGBM] [Warning] lambda_l2 is set=2.626419873471427, reg_lambda=0.0 will be ignored. Current value: lambda_l2=2.626419873471427\n",
      "[LightGBM] [Warning] bagging_freq is set=1, subsample_freq=0 will be ignored. Current value: bagging_freq=1\n",
      "[LightGBM] [Warning] bagging_fraction is set=0.6315931971609589, subsample=1.0 will be ignored. Current value: bagging_fraction=0.6315931971609589\n",
      "[LightGBM] [Warning] lambda_l1 is set=0.2399863296103323, reg_alpha=0.0 will be ignored. Current value: lambda_l1=0.2399863296103323\n",
      "[LightGBM] [Warning] feature_fraction is set=0.5282571161080545, colsample_bytree=1.0 will be ignored. Current value: feature_fraction=0.5282571161080545\n",
      "[LightGBM] [Warning] lambda_l2 is set=2.626419873471427, reg_lambda=0.0 will be ignored. Current value: lambda_l2=2.626419873471427\n",
      "[LightGBM] [Warning] bagging_freq is set=1, subsample_freq=0 will be ignored. Current value: bagging_freq=1\n"
     ]
    },
    {
     "name": "stderr",
     "output_type": "stream",
     "text": [
      "\u001b[32m[I 2023-03-15 19:55:49,950]\u001b[0m Trial 29 finished with value: 0.7510554105649799 and parameters: {'lambda_l1': 0.2399863296103323, 'lambda_l2': 2.626419873471427, 'num_leaves': 8, 'feature_fraction': 0.5282571161080545, 'bagging_fraction': 0.6315931971609589, 'bagging_freq': 1, 'min_child_samples': 69}. Best is trial 12 with value: 0.7794427528877289.\u001b[0m\n"
     ]
    },
    {
     "name": "stdout",
     "output_type": "stream",
     "text": [
      "[LightGBM] [Warning] bagging_fraction is set=0.6315931971609589, subsample=1.0 will be ignored. Current value: bagging_fraction=0.6315931971609589\n",
      "[LightGBM] [Warning] lambda_l1 is set=0.2399863296103323, reg_alpha=0.0 will be ignored. Current value: lambda_l1=0.2399863296103323\n",
      "[LightGBM] [Warning] feature_fraction is set=0.5282571161080545, colsample_bytree=1.0 will be ignored. Current value: feature_fraction=0.5282571161080545\n",
      "[LightGBM] [Warning] lambda_l2 is set=2.626419873471427, reg_lambda=0.0 will be ignored. Current value: lambda_l2=2.626419873471427\n",
      "[LightGBM] [Warning] bagging_freq is set=1, subsample_freq=0 will be ignored. Current value: bagging_freq=1\n",
      "[LightGBM] [Warning] bagging_fraction is set=0.4992266778889823, subsample=1.0 will be ignored. Current value: bagging_fraction=0.4992266778889823\n",
      "[LightGBM] [Warning] lambda_l1 is set=3.0860070820772583, reg_alpha=0.0 will be ignored. Current value: lambda_l1=3.0860070820772583\n",
      "[LightGBM] [Warning] feature_fraction is set=0.6067975102852747, colsample_bytree=1.0 will be ignored. Current value: feature_fraction=0.6067975102852747\n",
      "[LightGBM] [Warning] lambda_l2 is set=0.4603633545118012, reg_lambda=0.0 will be ignored. Current value: lambda_l2=0.4603633545118012\n",
      "[LightGBM] [Warning] bagging_freq is set=2, subsample_freq=0 will be ignored. Current value: bagging_freq=2\n",
      "[LightGBM] [Warning] bagging_fraction is set=0.4992266778889823, subsample=1.0 will be ignored. Current value: bagging_fraction=0.4992266778889823\n",
      "[LightGBM] [Warning] lambda_l1 is set=3.0860070820772583, reg_alpha=0.0 will be ignored. Current value: lambda_l1=3.0860070820772583\n",
      "[LightGBM] [Warning] feature_fraction is set=0.6067975102852747, colsample_bytree=1.0 will be ignored. Current value: feature_fraction=0.6067975102852747\n",
      "[LightGBM] [Warning] lambda_l2 is set=0.4603633545118012, reg_lambda=0.0 will be ignored. Current value: lambda_l2=0.4603633545118012\n",
      "[LightGBM] [Warning] bagging_freq is set=2, subsample_freq=0 will be ignored. Current value: bagging_freq=2\n"
     ]
    },
    {
     "name": "stderr",
     "output_type": "stream",
     "text": [
      "\u001b[32m[I 2023-03-15 19:55:50,277]\u001b[0m Trial 30 finished with value: 0.7624508930729026 and parameters: {'lambda_l1': 3.0860070820772583, 'lambda_l2': 0.4603633545118012, 'num_leaves': 110, 'feature_fraction': 0.6067975102852747, 'bagging_fraction': 0.4992266778889823, 'bagging_freq': 2, 'min_child_samples': 90}. Best is trial 12 with value: 0.7794427528877289.\u001b[0m\n"
     ]
    },
    {
     "name": "stdout",
     "output_type": "stream",
     "text": [
      "[LightGBM] [Warning] bagging_fraction is set=0.4992266778889823, subsample=1.0 will be ignored. Current value: bagging_fraction=0.4992266778889823\n",
      "[LightGBM] [Warning] lambda_l1 is set=3.0860070820772583, reg_alpha=0.0 will be ignored. Current value: lambda_l1=3.0860070820772583\n",
      "[LightGBM] [Warning] feature_fraction is set=0.6067975102852747, colsample_bytree=1.0 will be ignored. Current value: feature_fraction=0.6067975102852747\n",
      "[LightGBM] [Warning] lambda_l2 is set=0.4603633545118012, reg_lambda=0.0 will be ignored. Current value: lambda_l2=0.4603633545118012\n",
      "[LightGBM] [Warning] bagging_freq is set=2, subsample_freq=0 will be ignored. Current value: bagging_freq=2\n",
      "[LightGBM] [Warning] bagging_fraction is set=0.4992266778889823, subsample=1.0 will be ignored. Current value: bagging_fraction=0.4992266778889823\n",
      "[LightGBM] [Warning] lambda_l1 is set=3.0860070820772583, reg_alpha=0.0 will be ignored. Current value: lambda_l1=3.0860070820772583\n",
      "[LightGBM] [Warning] feature_fraction is set=0.6067975102852747, colsample_bytree=1.0 will be ignored. Current value: feature_fraction=0.6067975102852747\n",
      "[LightGBM] [Warning] lambda_l2 is set=0.4603633545118012, reg_lambda=0.0 will be ignored. Current value: lambda_l2=0.4603633545118012\n",
      "[LightGBM] [Warning] bagging_freq is set=2, subsample_freq=0 will be ignored. Current value: bagging_freq=2\n",
      "[LightGBM] [Warning] bagging_fraction is set=0.4992266778889823, subsample=1.0 will be ignored. Current value: bagging_fraction=0.4992266778889823\n",
      "[LightGBM] [Warning] lambda_l1 is set=3.0860070820772583, reg_alpha=0.0 will be ignored. Current value: lambda_l1=3.0860070820772583\n",
      "[LightGBM] [Warning] feature_fraction is set=0.6067975102852747, colsample_bytree=1.0 will be ignored. Current value: feature_fraction=0.6067975102852747\n",
      "[LightGBM] [Warning] lambda_l2 is set=0.4603633545118012, reg_lambda=0.0 will be ignored. Current value: lambda_l2=0.4603633545118012\n",
      "[LightGBM] [Warning] bagging_freq is set=2, subsample_freq=0 will be ignored. Current value: bagging_freq=2\n",
      "[LightGBM] [Warning] bagging_fraction is set=0.4033347074723424, subsample=1.0 will be ignored. Current value: bagging_fraction=0.4033347074723424\n",
      "[LightGBM] [Warning] lambda_l1 is set=1.7382361911952764, reg_alpha=0.0 will be ignored. Current value: lambda_l1=1.7382361911952764\n",
      "[LightGBM] [Warning] feature_fraction is set=0.572212642567684, colsample_bytree=1.0 will be ignored. Current value: feature_fraction=0.572212642567684\n",
      "[LightGBM] [Warning] lambda_l2 is set=9.622733990292994, reg_lambda=0.0 will be ignored. Current value: lambda_l2=9.622733990292994\n",
      "[LightGBM] [Warning] bagging_freq is set=3, subsample_freq=0 will be ignored. Current value: bagging_freq=3\n",
      "[LightGBM] [Warning] bagging_fraction is set=0.4033347074723424, subsample=1.0 will be ignored. Current value: bagging_fraction=0.4033347074723424\n",
      "[LightGBM] [Warning] lambda_l1 is set=1.7382361911952764, reg_alpha=0.0 will be ignored. Current value: lambda_l1=1.7382361911952764\n",
      "[LightGBM] [Warning] feature_fraction is set=0.572212642567684, colsample_bytree=1.0 will be ignored. Current value: feature_fraction=0.572212642567684\n",
      "[LightGBM] [Warning] lambda_l2 is set=9.622733990292994, reg_lambda=0.0 will be ignored. Current value: lambda_l2=9.622733990292994\n",
      "[LightGBM] [Warning] bagging_freq is set=3, subsample_freq=0 will be ignored. Current value: bagging_freq=3\n",
      "[LightGBM] [Warning] bagging_fraction is set=0.4033347074723424, subsample=1.0 will be ignored. Current value: bagging_fraction=0.4033347074723424\n",
      "[LightGBM] [Warning] lambda_l1 is set=1.7382361911952764, reg_alpha=0.0 will be ignored. Current value: lambda_l1=1.7382361911952764\n",
      "[LightGBM] [Warning] feature_fraction is set=0.572212642567684, colsample_bytree=1.0 will be ignored. Current value: feature_fraction=0.572212642567684\n",
      "[LightGBM] [Warning] lambda_l2 is set=9.622733990292994, reg_lambda=0.0 will be ignored. Current value: lambda_l2=9.622733990292994\n",
      "[LightGBM] [Warning] bagging_freq is set=3, subsample_freq=0 will be ignored. Current value: bagging_freq=3\n",
      "[LightGBM] [Warning] bagging_fraction is set=0.4033347074723424, subsample=1.0 will be ignored. Current value: bagging_fraction=0.4033347074723424\n",
      "[LightGBM] [Warning] lambda_l1 is set=1.7382361911952764, reg_alpha=0.0 will be ignored. Current value: lambda_l1=1.7382361911952764\n",
      "[LightGBM] [Warning] feature_fraction is set=0.572212642567684, colsample_bytree=1.0 will be ignored. Current value: feature_fraction=0.572212642567684\n",
      "[LightGBM] [Warning] lambda_l2 is set=9.622733990292994, reg_lambda=0.0 will be ignored. Current value: lambda_l2=9.622733990292994\n",
      "[LightGBM] [Warning] bagging_freq is set=3, subsample_freq=0 will be ignored. Current value: bagging_freq=3\n",
      "[LightGBM] [Warning] bagging_fraction is set=0.4033347074723424, subsample=1.0 will be ignored. Current value: bagging_fraction=0.4033347074723424\n",
      "[LightGBM] [Warning] lambda_l1 is set=1.7382361911952764, reg_alpha=0.0 will be ignored. Current value: lambda_l1=1.7382361911952764\n",
      "[LightGBM] [Warning] feature_fraction is set=0.572212642567684, colsample_bytree=1.0 will be ignored. Current value: feature_fraction=0.572212642567684\n",
      "[LightGBM] [Warning] lambda_l2 is set=9.622733990292994, reg_lambda=0.0 will be ignored. Current value: lambda_l2=9.622733990292994\n",
      "[LightGBM] [Warning] bagging_freq is set=3, subsample_freq=0 will be ignored. Current value: bagging_freq=3\n"
     ]
    },
    {
     "name": "stderr",
     "output_type": "stream",
     "text": [
      "\u001b[32m[I 2023-03-15 19:55:50,554]\u001b[0m Trial 31 finished with value: 0.7732053964111381 and parameters: {'lambda_l1': 1.7382361911952764, 'lambda_l2': 9.622733990292994, 'num_leaves': 78, 'feature_fraction': 0.572212642567684, 'bagging_fraction': 0.4033347074723424, 'bagging_freq': 3, 'min_child_samples': 95}. Best is trial 12 with value: 0.7794427528877289.\u001b[0m\n"
     ]
    },
    {
     "name": "stdout",
     "output_type": "stream",
     "text": [
      "[LightGBM] [Warning] bagging_fraction is set=0.45408708172617435, subsample=1.0 will be ignored. Current value: bagging_fraction=0.45408708172617435\n",
      "[LightGBM] [Warning] lambda_l1 is set=1.9535511707719646, reg_alpha=0.0 will be ignored. Current value: lambda_l1=1.9535511707719646\n",
      "[LightGBM] [Warning] feature_fraction is set=0.5902958969687155, colsample_bytree=1.0 will be ignored. Current value: feature_fraction=0.5902958969687155\n",
      "[LightGBM] [Warning] lambda_l2 is set=9.69949688209165, reg_lambda=0.0 will be ignored. Current value: lambda_l2=9.69949688209165\n",
      "[LightGBM] [Warning] bagging_freq is set=3, subsample_freq=0 will be ignored. Current value: bagging_freq=3\n",
      "[LightGBM] [Warning] bagging_fraction is set=0.45408708172617435, subsample=1.0 will be ignored. Current value: bagging_fraction=0.45408708172617435\n",
      "[LightGBM] [Warning] lambda_l1 is set=1.9535511707719646, reg_alpha=0.0 will be ignored. Current value: lambda_l1=1.9535511707719646\n",
      "[LightGBM] [Warning] feature_fraction is set=0.5902958969687155, colsample_bytree=1.0 will be ignored. Current value: feature_fraction=0.5902958969687155\n",
      "[LightGBM] [Warning] lambda_l2 is set=9.69949688209165, reg_lambda=0.0 will be ignored. Current value: lambda_l2=9.69949688209165\n",
      "[LightGBM] [Warning] bagging_freq is set=3, subsample_freq=0 will be ignored. Current value: bagging_freq=3\n",
      "[LightGBM] [Warning] bagging_fraction is set=0.45408708172617435, subsample=1.0 will be ignored. Current value: bagging_fraction=0.45408708172617435\n",
      "[LightGBM] [Warning] lambda_l1 is set=1.9535511707719646, reg_alpha=0.0 will be ignored. Current value: lambda_l1=1.9535511707719646\n",
      "[LightGBM] [Warning] feature_fraction is set=0.5902958969687155, colsample_bytree=1.0 will be ignored. Current value: feature_fraction=0.5902958969687155\n",
      "[LightGBM] [Warning] lambda_l2 is set=9.69949688209165, reg_lambda=0.0 will be ignored. Current value: lambda_l2=9.69949688209165\n",
      "[LightGBM] [Warning] bagging_freq is set=3, subsample_freq=0 will be ignored. Current value: bagging_freq=3\n",
      "[LightGBM] [Warning] bagging_fraction is set=0.45408708172617435, subsample=1.0 will be ignored. Current value: bagging_fraction=0.45408708172617435\n",
      "[LightGBM] [Warning] lambda_l1 is set=1.9535511707719646, reg_alpha=0.0 will be ignored. Current value: lambda_l1=1.9535511707719646\n",
      "[LightGBM] [Warning] feature_fraction is set=0.5902958969687155, colsample_bytree=1.0 will be ignored. Current value: feature_fraction=0.5902958969687155\n",
      "[LightGBM] [Warning] lambda_l2 is set=9.69949688209165, reg_lambda=0.0 will be ignored. Current value: lambda_l2=9.69949688209165\n",
      "[LightGBM] [Warning] bagging_freq is set=3, subsample_freq=0 will be ignored. Current value: bagging_freq=3\n"
     ]
    },
    {
     "name": "stderr",
     "output_type": "stream",
     "text": [
      "\u001b[32m[I 2023-03-15 19:55:50,866]\u001b[0m Trial 32 finished with value: 0.7755951517913241 and parameters: {'lambda_l1': 1.9535511707719646, 'lambda_l2': 9.69949688209165, 'num_leaves': 56, 'feature_fraction': 0.5902958969687155, 'bagging_fraction': 0.45408708172617435, 'bagging_freq': 3, 'min_child_samples': 96}. Best is trial 12 with value: 0.7794427528877289.\u001b[0m\n"
     ]
    },
    {
     "name": "stdout",
     "output_type": "stream",
     "text": [
      "[LightGBM] [Warning] bagging_fraction is set=0.45408708172617435, subsample=1.0 will be ignored. Current value: bagging_fraction=0.45408708172617435\n",
      "[LightGBM] [Warning] lambda_l1 is set=1.9535511707719646, reg_alpha=0.0 will be ignored. Current value: lambda_l1=1.9535511707719646\n",
      "[LightGBM] [Warning] feature_fraction is set=0.5902958969687155, colsample_bytree=1.0 will be ignored. Current value: feature_fraction=0.5902958969687155\n",
      "[LightGBM] [Warning] lambda_l2 is set=9.69949688209165, reg_lambda=0.0 will be ignored. Current value: lambda_l2=9.69949688209165\n",
      "[LightGBM] [Warning] bagging_freq is set=3, subsample_freq=0 will be ignored. Current value: bagging_freq=3\n",
      "[LightGBM] [Warning] bagging_fraction is set=0.40118178296479895, subsample=1.0 will be ignored. Current value: bagging_fraction=0.40118178296479895\n",
      "[LightGBM] [Warning] lambda_l1 is set=0.3407922052936041, reg_alpha=0.0 will be ignored. Current value: lambda_l1=0.3407922052936041\n",
      "[LightGBM] [Warning] feature_fraction is set=0.6403841700800476, colsample_bytree=1.0 will be ignored. Current value: feature_fraction=0.6403841700800476\n",
      "[LightGBM] [Warning] lambda_l2 is set=2.6228423727421797, reg_lambda=0.0 will be ignored. Current value: lambda_l2=2.6228423727421797\n",
      "[LightGBM] [Warning] bagging_freq is set=2, subsample_freq=0 will be ignored. Current value: bagging_freq=2\n",
      "[LightGBM] [Warning] bagging_fraction is set=0.40118178296479895, subsample=1.0 will be ignored. Current value: bagging_fraction=0.40118178296479895\n",
      "[LightGBM] [Warning] lambda_l1 is set=0.3407922052936041, reg_alpha=0.0 will be ignored. Current value: lambda_l1=0.3407922052936041\n",
      "[LightGBM] [Warning] feature_fraction is set=0.6403841700800476, colsample_bytree=1.0 will be ignored. Current value: feature_fraction=0.6403841700800476\n",
      "[LightGBM] [Warning] lambda_l2 is set=2.6228423727421797, reg_lambda=0.0 will be ignored. Current value: lambda_l2=2.6228423727421797\n",
      "[LightGBM] [Warning] bagging_freq is set=2, subsample_freq=0 will be ignored. Current value: bagging_freq=2\n",
      "[LightGBM] [Warning] bagging_fraction is set=0.40118178296479895, subsample=1.0 will be ignored. Current value: bagging_fraction=0.40118178296479895\n",
      "[LightGBM] [Warning] lambda_l1 is set=0.3407922052936041, reg_alpha=0.0 will be ignored. Current value: lambda_l1=0.3407922052936041\n",
      "[LightGBM] [Warning] feature_fraction is set=0.6403841700800476, colsample_bytree=1.0 will be ignored. Current value: feature_fraction=0.6403841700800476\n",
      "[LightGBM] [Warning] lambda_l2 is set=2.6228423727421797, reg_lambda=0.0 will be ignored. Current value: lambda_l2=2.6228423727421797\n",
      "[LightGBM] [Warning] bagging_freq is set=2, subsample_freq=0 will be ignored. Current value: bagging_freq=2\n"
     ]
    },
    {
     "name": "stderr",
     "output_type": "stream",
     "text": [
      "\u001b[32m[I 2023-03-15 19:55:51,172]\u001b[0m Trial 33 finished with value: 0.7582060350601021 and parameters: {'lambda_l1': 0.3407922052936041, 'lambda_l2': 2.6228423727421797, 'num_leaves': 34, 'feature_fraction': 0.6403841700800476, 'bagging_fraction': 0.40118178296479895, 'bagging_freq': 2, 'min_child_samples': 80}. Best is trial 12 with value: 0.7794427528877289.\u001b[0m\n"
     ]
    },
    {
     "name": "stdout",
     "output_type": "stream",
     "text": [
      "[LightGBM] [Warning] bagging_fraction is set=0.40118178296479895, subsample=1.0 will be ignored. Current value: bagging_fraction=0.40118178296479895\n",
      "[LightGBM] [Warning] lambda_l1 is set=0.3407922052936041, reg_alpha=0.0 will be ignored. Current value: lambda_l1=0.3407922052936041\n",
      "[LightGBM] [Warning] feature_fraction is set=0.6403841700800476, colsample_bytree=1.0 will be ignored. Current value: feature_fraction=0.6403841700800476\n",
      "[LightGBM] [Warning] lambda_l2 is set=2.6228423727421797, reg_lambda=0.0 will be ignored. Current value: lambda_l2=2.6228423727421797\n",
      "[LightGBM] [Warning] bagging_freq is set=2, subsample_freq=0 will be ignored. Current value: bagging_freq=2\n",
      "[LightGBM] [Warning] bagging_fraction is set=0.40118178296479895, subsample=1.0 will be ignored. Current value: bagging_fraction=0.40118178296479895\n",
      "[LightGBM] [Warning] lambda_l1 is set=0.3407922052936041, reg_alpha=0.0 will be ignored. Current value: lambda_l1=0.3407922052936041\n",
      "[LightGBM] [Warning] feature_fraction is set=0.6403841700800476, colsample_bytree=1.0 will be ignored. Current value: feature_fraction=0.6403841700800476\n",
      "[LightGBM] [Warning] lambda_l2 is set=2.6228423727421797, reg_lambda=0.0 will be ignored. Current value: lambda_l2=2.6228423727421797\n",
      "[LightGBM] [Warning] bagging_freq is set=2, subsample_freq=0 will be ignored. Current value: bagging_freq=2\n",
      "[LightGBM] [Warning] bagging_fraction is set=0.4375582420037643, subsample=1.0 will be ignored. Current value: bagging_fraction=0.4375582420037643\n",
      "[LightGBM] [Warning] lambda_l1 is set=3.2033340599373967, reg_alpha=0.0 will be ignored. Current value: lambda_l1=3.2033340599373967\n",
      "[LightGBM] [Warning] feature_fraction is set=0.548019679762633, colsample_bytree=1.0 will be ignored. Current value: feature_fraction=0.548019679762633\n",
      "[LightGBM] [Warning] lambda_l2 is set=2.5585530210722753, reg_lambda=0.0 will be ignored. Current value: lambda_l2=2.5585530210722753\n",
      "[LightGBM] [Warning] bagging_freq is set=1, subsample_freq=0 will be ignored. Current value: bagging_freq=1\n",
      "[LightGBM] [Warning] bagging_fraction is set=0.4375582420037643, subsample=1.0 will be ignored. Current value: bagging_fraction=0.4375582420037643\n",
      "[LightGBM] [Warning] lambda_l1 is set=3.2033340599373967, reg_alpha=0.0 will be ignored. Current value: lambda_l1=3.2033340599373967\n",
      "[LightGBM] [Warning] feature_fraction is set=0.548019679762633, colsample_bytree=1.0 will be ignored. Current value: feature_fraction=0.548019679762633\n",
      "[LightGBM] [Warning] lambda_l2 is set=2.5585530210722753, reg_lambda=0.0 will be ignored. Current value: lambda_l2=2.5585530210722753\n",
      "[LightGBM] [Warning] bagging_freq is set=1, subsample_freq=0 will be ignored. Current value: bagging_freq=1\n"
     ]
    },
    {
     "name": "stderr",
     "output_type": "stream",
     "text": [
      "\u001b[32m[I 2023-03-15 19:55:51,497]\u001b[0m Trial 34 finished with value: 0.7685006248403379 and parameters: {'lambda_l1': 3.2033340599373967, 'lambda_l2': 2.5585530210722753, 'num_leaves': 78, 'feature_fraction': 0.548019679762633, 'bagging_fraction': 0.4375582420037643, 'bagging_freq': 1, 'min_child_samples': 93}. Best is trial 12 with value: 0.7794427528877289.\u001b[0m\n"
     ]
    },
    {
     "name": "stdout",
     "output_type": "stream",
     "text": [
      "[LightGBM] [Warning] bagging_fraction is set=0.4375582420037643, subsample=1.0 will be ignored. Current value: bagging_fraction=0.4375582420037643\n",
      "[LightGBM] [Warning] lambda_l1 is set=3.2033340599373967, reg_alpha=0.0 will be ignored. Current value: lambda_l1=3.2033340599373967\n",
      "[LightGBM] [Warning] feature_fraction is set=0.548019679762633, colsample_bytree=1.0 will be ignored. Current value: feature_fraction=0.548019679762633\n",
      "[LightGBM] [Warning] lambda_l2 is set=2.5585530210722753, reg_lambda=0.0 will be ignored. Current value: lambda_l2=2.5585530210722753\n",
      "[LightGBM] [Warning] bagging_freq is set=1, subsample_freq=0 will be ignored. Current value: bagging_freq=1\n",
      "[LightGBM] [Warning] bagging_fraction is set=0.4375582420037643, subsample=1.0 will be ignored. Current value: bagging_fraction=0.4375582420037643\n",
      "[LightGBM] [Warning] lambda_l1 is set=3.2033340599373967, reg_alpha=0.0 will be ignored. Current value: lambda_l1=3.2033340599373967\n",
      "[LightGBM] [Warning] feature_fraction is set=0.548019679762633, colsample_bytree=1.0 will be ignored. Current value: feature_fraction=0.548019679762633\n",
      "[LightGBM] [Warning] lambda_l2 is set=2.5585530210722753, reg_lambda=0.0 will be ignored. Current value: lambda_l2=2.5585530210722753\n",
      "[LightGBM] [Warning] bagging_freq is set=1, subsample_freq=0 will be ignored. Current value: bagging_freq=1\n",
      "[LightGBM] [Warning] bagging_fraction is set=0.4375582420037643, subsample=1.0 will be ignored. Current value: bagging_fraction=0.4375582420037643\n",
      "[LightGBM] [Warning] lambda_l1 is set=3.2033340599373967, reg_alpha=0.0 will be ignored. Current value: lambda_l1=3.2033340599373967\n",
      "[LightGBM] [Warning] feature_fraction is set=0.548019679762633, colsample_bytree=1.0 will be ignored. Current value: feature_fraction=0.548019679762633\n",
      "[LightGBM] [Warning] lambda_l2 is set=2.5585530210722753, reg_lambda=0.0 will be ignored. Current value: lambda_l2=2.5585530210722753\n",
      "[LightGBM] [Warning] bagging_freq is set=1, subsample_freq=0 will be ignored. Current value: bagging_freq=1\n",
      "[LightGBM] [Warning] bagging_fraction is set=0.542246658051968, subsample=1.0 will be ignored. Current value: bagging_fraction=0.542246658051968\n",
      "[LightGBM] [Warning] lambda_l1 is set=0.08020682525895416, reg_alpha=0.0 will be ignored. Current value: lambda_l1=0.08020682525895416\n",
      "[LightGBM] [Warning] feature_fraction is set=0.68379921254942, colsample_bytree=1.0 will be ignored. Current value: feature_fraction=0.68379921254942\n",
      "[LightGBM] [Warning] lambda_l2 is set=0.8272117694308864, reg_lambda=0.0 will be ignored. Current value: lambda_l2=0.8272117694308864\n",
      "[LightGBM] [Warning] bagging_freq is set=4, subsample_freq=0 will be ignored. Current value: bagging_freq=4\n",
      "[LightGBM] [Warning] bagging_fraction is set=0.542246658051968, subsample=1.0 will be ignored. Current value: bagging_fraction=0.542246658051968\n",
      "[LightGBM] [Warning] lambda_l1 is set=0.08020682525895416, reg_alpha=0.0 will be ignored. Current value: lambda_l1=0.08020682525895416\n",
      "[LightGBM] [Warning] feature_fraction is set=0.68379921254942, colsample_bytree=1.0 will be ignored. Current value: feature_fraction=0.68379921254942\n",
      "[LightGBM] [Warning] lambda_l2 is set=0.8272117694308864, reg_lambda=0.0 will be ignored. Current value: lambda_l2=0.8272117694308864\n",
      "[LightGBM] [Warning] bagging_freq is set=4, subsample_freq=0 will be ignored. Current value: bagging_freq=4\n",
      "[LightGBM] [Warning] bagging_fraction is set=0.542246658051968, subsample=1.0 will be ignored. Current value: bagging_fraction=0.542246658051968\n",
      "[LightGBM] [Warning] lambda_l1 is set=0.08020682525895416, reg_alpha=0.0 will be ignored. Current value: lambda_l1=0.08020682525895416\n",
      "[LightGBM] [Warning] feature_fraction is set=0.68379921254942, colsample_bytree=1.0 will be ignored. Current value: feature_fraction=0.68379921254942\n",
      "[LightGBM] [Warning] lambda_l2 is set=0.8272117694308864, reg_lambda=0.0 will be ignored. Current value: lambda_l2=0.8272117694308864\n",
      "[LightGBM] [Warning] bagging_freq is set=4, subsample_freq=0 will be ignored. Current value: bagging_freq=4\n",
      "[LightGBM] [Warning] bagging_fraction is set=0.542246658051968, subsample=1.0 will be ignored. Current value: bagging_fraction=0.542246658051968\n",
      "[LightGBM] [Warning] lambda_l1 is set=0.08020682525895416, reg_alpha=0.0 will be ignored. Current value: lambda_l1=0.08020682525895416\n",
      "[LightGBM] [Warning] feature_fraction is set=0.68379921254942, colsample_bytree=1.0 will be ignored. Current value: feature_fraction=0.68379921254942\n",
      "[LightGBM] [Warning] lambda_l2 is set=0.8272117694308864, reg_lambda=0.0 will be ignored. Current value: lambda_l2=0.8272117694308864\n",
      "[LightGBM] [Warning] bagging_freq is set=4, subsample_freq=0 will be ignored. Current value: bagging_freq=4\n",
      "[LightGBM] [Warning] bagging_fraction is set=0.542246658051968, subsample=1.0 will be ignored. Current value: bagging_fraction=0.542246658051968\n",
      "[LightGBM] [Warning] lambda_l1 is set=0.08020682525895416, reg_alpha=0.0 will be ignored. Current value: lambda_l1=0.08020682525895416\n",
      "[LightGBM] [Warning] feature_fraction is set=0.68379921254942, colsample_bytree=1.0 will be ignored. Current value: feature_fraction=0.68379921254942\n",
      "[LightGBM] [Warning] lambda_l2 is set=0.8272117694308864, reg_lambda=0.0 will be ignored. Current value: lambda_l2=0.8272117694308864\n",
      "[LightGBM] [Warning] bagging_freq is set=4, subsample_freq=0 will be ignored. Current value: bagging_freq=4\n"
     ]
    },
    {
     "name": "stderr",
     "output_type": "stream",
     "text": [
      "\u001b[32m[I 2023-03-15 19:55:52,102]\u001b[0m Trial 35 finished with value: 0.7498094409577662 and parameters: {'lambda_l1': 0.08020682525895416, 'lambda_l2': 0.8272117694308864, 'num_leaves': 126, 'feature_fraction': 0.68379921254942, 'bagging_fraction': 0.542246658051968, 'bagging_freq': 4, 'min_child_samples': 75}. Best is trial 12 with value: 0.7794427528877289.\u001b[0m\n"
     ]
    },
    {
     "name": "stdout",
     "output_type": "stream",
     "text": [
      "[LightGBM] [Warning] bagging_fraction is set=0.4282354454015154, subsample=1.0 will be ignored. Current value: bagging_fraction=0.4282354454015154\n",
      "[LightGBM] [Warning] lambda_l1 is set=0.5154028725435159, reg_alpha=0.0 will be ignored. Current value: lambda_l1=0.5154028725435159\n",
      "[LightGBM] [Warning] feature_fraction is set=0.6094569215049166, colsample_bytree=1.0 will be ignored. Current value: feature_fraction=0.6094569215049166\n",
      "[LightGBM] [Warning] lambda_l2 is set=0.2014643915563808, reg_lambda=0.0 will be ignored. Current value: lambda_l2=0.2014643915563808\n",
      "[LightGBM] [Warning] bagging_freq is set=3, subsample_freq=0 will be ignored. Current value: bagging_freq=3\n",
      "[LightGBM] [Warning] bagging_fraction is set=0.4282354454015154, subsample=1.0 will be ignored. Current value: bagging_fraction=0.4282354454015154\n",
      "[LightGBM] [Warning] lambda_l1 is set=0.5154028725435159, reg_alpha=0.0 will be ignored. Current value: lambda_l1=0.5154028725435159\n",
      "[LightGBM] [Warning] feature_fraction is set=0.6094569215049166, colsample_bytree=1.0 will be ignored. Current value: feature_fraction=0.6094569215049166\n",
      "[LightGBM] [Warning] lambda_l2 is set=0.2014643915563808, reg_lambda=0.0 will be ignored. Current value: lambda_l2=0.2014643915563808\n",
      "[LightGBM] [Warning] bagging_freq is set=3, subsample_freq=0 will be ignored. Current value: bagging_freq=3\n",
      "[LightGBM] [Warning] bagging_fraction is set=0.4282354454015154, subsample=1.0 will be ignored. Current value: bagging_fraction=0.4282354454015154\n",
      "[LightGBM] [Warning] lambda_l1 is set=0.5154028725435159, reg_alpha=0.0 will be ignored. Current value: lambda_l1=0.5154028725435159\n",
      "[LightGBM] [Warning] feature_fraction is set=0.6094569215049166, colsample_bytree=1.0 will be ignored. Current value: feature_fraction=0.6094569215049166\n",
      "[LightGBM] [Warning] lambda_l2 is set=0.2014643915563808, reg_lambda=0.0 will be ignored. Current value: lambda_l2=0.2014643915563808\n",
      "[LightGBM] [Warning] bagging_freq is set=3, subsample_freq=0 will be ignored. Current value: bagging_freq=3\n",
      "[LightGBM] [Warning] bagging_fraction is set=0.4282354454015154, subsample=1.0 will be ignored. Current value: bagging_fraction=0.4282354454015154\n",
      "[LightGBM] [Warning] lambda_l1 is set=0.5154028725435159, reg_alpha=0.0 will be ignored. Current value: lambda_l1=0.5154028725435159\n",
      "[LightGBM] [Warning] feature_fraction is set=0.6094569215049166, colsample_bytree=1.0 will be ignored. Current value: feature_fraction=0.6094569215049166\n",
      "[LightGBM] [Warning] lambda_l2 is set=0.2014643915563808, reg_lambda=0.0 will be ignored. Current value: lambda_l2=0.2014643915563808\n",
      "[LightGBM] [Warning] bagging_freq is set=3, subsample_freq=0 will be ignored. Current value: bagging_freq=3\n",
      "[LightGBM] [Warning] bagging_fraction is set=0.4282354454015154, subsample=1.0 will be ignored. Current value: bagging_fraction=0.4282354454015154\n",
      "[LightGBM] [Warning] lambda_l1 is set=0.5154028725435159, reg_alpha=0.0 will be ignored. Current value: lambda_l1=0.5154028725435159\n",
      "[LightGBM] [Warning] feature_fraction is set=0.6094569215049166, colsample_bytree=1.0 will be ignored. Current value: feature_fraction=0.6094569215049166\n",
      "[LightGBM] [Warning] lambda_l2 is set=0.2014643915563808, reg_lambda=0.0 will be ignored. Current value: lambda_l2=0.2014643915563808\n",
      "[LightGBM] [Warning] bagging_freq is set=3, subsample_freq=0 will be ignored. Current value: bagging_freq=3\n"
     ]
    },
    {
     "name": "stderr",
     "output_type": "stream",
     "text": [
      "\u001b[32m[I 2023-03-15 19:55:52,816]\u001b[0m Trial 36 finished with value: 0.7349343572429696 and parameters: {'lambda_l1': 0.5154028725435159, 'lambda_l2': 0.2014643915563808, 'num_leaves': 45, 'feature_fraction': 0.6094569215049166, 'bagging_fraction': 0.4282354454015154, 'bagging_freq': 3, 'min_child_samples': 30}. Best is trial 12 with value: 0.7794427528877289.\u001b[0m\n"
     ]
    },
    {
     "name": "stdout",
     "output_type": "stream",
     "text": [
      "[LightGBM] [Warning] bagging_fraction is set=0.4923687260267892, subsample=1.0 will be ignored. Current value: bagging_fraction=0.4923687260267892\n",
      "[LightGBM] [Warning] lambda_l1 is set=2.79648825494061, reg_alpha=0.0 will be ignored. Current value: lambda_l1=2.79648825494061\n",
      "[LightGBM] [Warning] feature_fraction is set=0.6740643402906261, colsample_bytree=1.0 will be ignored. Current value: feature_fraction=0.6740643402906261\n",
      "[LightGBM] [Warning] lambda_l2 is set=3.8001352934940678, reg_lambda=0.0 will be ignored. Current value: lambda_l2=3.8001352934940678\n",
      "[LightGBM] [Warning] bagging_freq is set=4, subsample_freq=0 will be ignored. Current value: bagging_freq=4\n",
      "[LightGBM] [Warning] bagging_fraction is set=0.4923687260267892, subsample=1.0 will be ignored. Current value: bagging_fraction=0.4923687260267892\n",
      "[LightGBM] [Warning] lambda_l1 is set=2.79648825494061, reg_alpha=0.0 will be ignored. Current value: lambda_l1=2.79648825494061\n",
      "[LightGBM] [Warning] feature_fraction is set=0.6740643402906261, colsample_bytree=1.0 will be ignored. Current value: feature_fraction=0.6740643402906261\n",
      "[LightGBM] [Warning] lambda_l2 is set=3.8001352934940678, reg_lambda=0.0 will be ignored. Current value: lambda_l2=3.8001352934940678\n",
      "[LightGBM] [Warning] bagging_freq is set=4, subsample_freq=0 will be ignored. Current value: bagging_freq=4\n",
      "[LightGBM] [Warning] bagging_fraction is set=0.4923687260267892, subsample=1.0 will be ignored. Current value: bagging_fraction=0.4923687260267892\n",
      "[LightGBM] [Warning] lambda_l1 is set=2.79648825494061, reg_alpha=0.0 will be ignored. Current value: lambda_l1=2.79648825494061\n",
      "[LightGBM] [Warning] feature_fraction is set=0.6740643402906261, colsample_bytree=1.0 will be ignored. Current value: feature_fraction=0.6740643402906261\n",
      "[LightGBM] [Warning] lambda_l2 is set=3.8001352934940678, reg_lambda=0.0 will be ignored. Current value: lambda_l2=3.8001352934940678\n",
      "[LightGBM] [Warning] bagging_freq is set=4, subsample_freq=0 will be ignored. Current value: bagging_freq=4\n",
      "[LightGBM] [Warning] bagging_fraction is set=0.4923687260267892, subsample=1.0 will be ignored. Current value: bagging_fraction=0.4923687260267892\n",
      "[LightGBM] [Warning] lambda_l1 is set=2.79648825494061, reg_alpha=0.0 will be ignored. Current value: lambda_l1=2.79648825494061\n",
      "[LightGBM] [Warning] feature_fraction is set=0.6740643402906261, colsample_bytree=1.0 will be ignored. Current value: feature_fraction=0.6740643402906261\n",
      "[LightGBM] [Warning] lambda_l2 is set=3.8001352934940678, reg_lambda=0.0 will be ignored. Current value: lambda_l2=3.8001352934940678\n",
      "[LightGBM] [Warning] bagging_freq is set=4, subsample_freq=0 will be ignored. Current value: bagging_freq=4\n"
     ]
    },
    {
     "name": "stderr",
     "output_type": "stream",
     "text": [
      "\u001b[32m[I 2023-03-15 19:55:53,127]\u001b[0m Trial 37 finished with value: 0.7680111090398173 and parameters: {'lambda_l1': 2.79648825494061, 'lambda_l2': 3.8001352934940678, 'num_leaves': 102, 'feature_fraction': 0.6740643402906261, 'bagging_fraction': 0.4923687260267892, 'bagging_freq': 4, 'min_child_samples': 100}. Best is trial 12 with value: 0.7794427528877289.\u001b[0m\n"
     ]
    },
    {
     "name": "stdout",
     "output_type": "stream",
     "text": [
      "[LightGBM] [Warning] bagging_fraction is set=0.4923687260267892, subsample=1.0 will be ignored. Current value: bagging_fraction=0.4923687260267892\n",
      "[LightGBM] [Warning] lambda_l1 is set=2.79648825494061, reg_alpha=0.0 will be ignored. Current value: lambda_l1=2.79648825494061\n",
      "[LightGBM] [Warning] feature_fraction is set=0.6740643402906261, colsample_bytree=1.0 will be ignored. Current value: feature_fraction=0.6740643402906261\n",
      "[LightGBM] [Warning] lambda_l2 is set=3.8001352934940678, reg_lambda=0.0 will be ignored. Current value: lambda_l2=3.8001352934940678\n",
      "[LightGBM] [Warning] bagging_freq is set=4, subsample_freq=0 will be ignored. Current value: bagging_freq=4\n",
      "[LightGBM] [Warning] bagging_fraction is set=0.43838895467182926, subsample=1.0 will be ignored. Current value: bagging_fraction=0.43838895467182926\n",
      "[LightGBM] [Warning] lambda_l1 is set=0.007476261132794276, reg_alpha=0.0 will be ignored. Current value: lambda_l1=0.007476261132794276\n",
      "[LightGBM] [Warning] feature_fraction is set=0.5007108621906994, colsample_bytree=1.0 will be ignored. Current value: feature_fraction=0.5007108621906994\n",
      "[LightGBM] [Warning] lambda_l2 is set=0.023374442711632012, reg_lambda=0.0 will be ignored. Current value: lambda_l2=0.023374442711632012\n",
      "[LightGBM] [Warning] bagging_freq is set=1, subsample_freq=0 will be ignored. Current value: bagging_freq=1\n",
      "[LightGBM] [Warning] bagging_fraction is set=0.43838895467182926, subsample=1.0 will be ignored. Current value: bagging_fraction=0.43838895467182926\n",
      "[LightGBM] [Warning] lambda_l1 is set=0.007476261132794276, reg_alpha=0.0 will be ignored. Current value: lambda_l1=0.007476261132794276\n",
      "[LightGBM] [Warning] feature_fraction is set=0.5007108621906994, colsample_bytree=1.0 will be ignored. Current value: feature_fraction=0.5007108621906994\n",
      "[LightGBM] [Warning] lambda_l2 is set=0.023374442711632012, reg_lambda=0.0 will be ignored. Current value: lambda_l2=0.023374442711632012\n",
      "[LightGBM] [Warning] bagging_freq is set=1, subsample_freq=0 will be ignored. Current value: bagging_freq=1\n"
     ]
    },
    {
     "name": "stderr",
     "output_type": "stream",
     "text": [
      "\u001b[32m[I 2023-03-15 19:55:53,442]\u001b[0m Trial 38 finished with value: 0.7556969213667778 and parameters: {'lambda_l1': 0.007476261132794276, 'lambda_l2': 0.023374442711632012, 'num_leaves': 24, 'feature_fraction': 0.5007108621906994, 'bagging_fraction': 0.43838895467182926, 'bagging_freq': 1, 'min_child_samples': 86}. Best is trial 12 with value: 0.7794427528877289.\u001b[0m\n"
     ]
    },
    {
     "name": "stdout",
     "output_type": "stream",
     "text": [
      "[LightGBM] [Warning] bagging_fraction is set=0.43838895467182926, subsample=1.0 will be ignored. Current value: bagging_fraction=0.43838895467182926\n",
      "[LightGBM] [Warning] lambda_l1 is set=0.007476261132794276, reg_alpha=0.0 will be ignored. Current value: lambda_l1=0.007476261132794276\n",
      "[LightGBM] [Warning] feature_fraction is set=0.5007108621906994, colsample_bytree=1.0 will be ignored. Current value: feature_fraction=0.5007108621906994\n",
      "[LightGBM] [Warning] lambda_l2 is set=0.023374442711632012, reg_lambda=0.0 will be ignored. Current value: lambda_l2=0.023374442711632012\n",
      "[LightGBM] [Warning] bagging_freq is set=1, subsample_freq=0 will be ignored. Current value: bagging_freq=1\n",
      "[LightGBM] [Warning] bagging_fraction is set=0.43838895467182926, subsample=1.0 will be ignored. Current value: bagging_fraction=0.43838895467182926\n",
      "[LightGBM] [Warning] lambda_l1 is set=0.007476261132794276, reg_alpha=0.0 will be ignored. Current value: lambda_l1=0.007476261132794276\n",
      "[LightGBM] [Warning] feature_fraction is set=0.5007108621906994, colsample_bytree=1.0 will be ignored. Current value: feature_fraction=0.5007108621906994\n",
      "[LightGBM] [Warning] lambda_l2 is set=0.023374442711632012, reg_lambda=0.0 will be ignored. Current value: lambda_l2=0.023374442711632012\n",
      "[LightGBM] [Warning] bagging_freq is set=1, subsample_freq=0 will be ignored. Current value: bagging_freq=1\n",
      "[LightGBM] [Warning] bagging_fraction is set=0.43838895467182926, subsample=1.0 will be ignored. Current value: bagging_fraction=0.43838895467182926\n",
      "[LightGBM] [Warning] lambda_l1 is set=0.007476261132794276, reg_alpha=0.0 will be ignored. Current value: lambda_l1=0.007476261132794276\n",
      "[LightGBM] [Warning] feature_fraction is set=0.5007108621906994, colsample_bytree=1.0 will be ignored. Current value: feature_fraction=0.5007108621906994\n",
      "[LightGBM] [Warning] lambda_l2 is set=0.023374442711632012, reg_lambda=0.0 will be ignored. Current value: lambda_l2=0.023374442711632012\n",
      "[LightGBM] [Warning] bagging_freq is set=1, subsample_freq=0 will be ignored. Current value: bagging_freq=1\n",
      "[LightGBM] [Warning] bagging_fraction is set=0.5482670093935296, subsample=1.0 will be ignored. Current value: bagging_fraction=0.5482670093935296\n",
      "[LightGBM] [Warning] lambda_l1 is set=0.05377945822267353, reg_alpha=0.0 will be ignored. Current value: lambda_l1=0.05377945822267353\n",
      "[LightGBM] [Warning] feature_fraction is set=0.5489166680831485, colsample_bytree=1.0 will be ignored. Current value: feature_fraction=0.5489166680831485\n",
      "[LightGBM] [Warning] lambda_l2 is set=0.004140624859260781, reg_lambda=0.0 will be ignored. Current value: lambda_l2=0.004140624859260781\n",
      "[LightGBM] [Warning] bagging_freq is set=5, subsample_freq=0 will be ignored. Current value: bagging_freq=5\n",
      "[LightGBM] [Warning] bagging_fraction is set=0.5482670093935296, subsample=1.0 will be ignored. Current value: bagging_fraction=0.5482670093935296\n",
      "[LightGBM] [Warning] lambda_l1 is set=0.05377945822267353, reg_alpha=0.0 will be ignored. Current value: lambda_l1=0.05377945822267353\n",
      "[LightGBM] [Warning] feature_fraction is set=0.5489166680831485, colsample_bytree=1.0 will be ignored. Current value: feature_fraction=0.5489166680831485\n",
      "[LightGBM] [Warning] lambda_l2 is set=0.004140624859260781, reg_lambda=0.0 will be ignored. Current value: lambda_l2=0.004140624859260781\n",
      "[LightGBM] [Warning] bagging_freq is set=5, subsample_freq=0 will be ignored. Current value: bagging_freq=5\n",
      "[LightGBM] [Warning] bagging_fraction is set=0.5482670093935296, subsample=1.0 will be ignored. Current value: bagging_fraction=0.5482670093935296\n",
      "[LightGBM] [Warning] lambda_l1 is set=0.05377945822267353, reg_alpha=0.0 will be ignored. Current value: lambda_l1=0.05377945822267353\n",
      "[LightGBM] [Warning] feature_fraction is set=0.5489166680831485, colsample_bytree=1.0 will be ignored. Current value: feature_fraction=0.5489166680831485\n",
      "[LightGBM] [Warning] lambda_l2 is set=0.004140624859260781, reg_lambda=0.0 will be ignored. Current value: lambda_l2=0.004140624859260781\n",
      "[LightGBM] [Warning] bagging_freq is set=5, subsample_freq=0 will be ignored. Current value: bagging_freq=5\n",
      "[LightGBM] [Warning] bagging_fraction is set=0.5482670093935296, subsample=1.0 will be ignored. Current value: bagging_fraction=0.5482670093935296\n",
      "[LightGBM] [Warning] lambda_l1 is set=0.05377945822267353, reg_alpha=0.0 will be ignored. Current value: lambda_l1=0.05377945822267353\n",
      "[LightGBM] [Warning] feature_fraction is set=0.5489166680831485, colsample_bytree=1.0 will be ignored. Current value: feature_fraction=0.5489166680831485\n",
      "[LightGBM] [Warning] lambda_l2 is set=0.004140624859260781, reg_lambda=0.0 will be ignored. Current value: lambda_l2=0.004140624859260781\n",
      "[LightGBM] [Warning] bagging_freq is set=5, subsample_freq=0 will be ignored. Current value: bagging_freq=5\n"
     ]
    },
    {
     "name": "stderr",
     "output_type": "stream",
     "text": [
      "\u001b[32m[I 2023-03-15 19:55:53,819]\u001b[0m Trial 39 finished with value: 0.7453815323432548 and parameters: {'lambda_l1': 0.05377945822267353, 'lambda_l2': 0.004140624859260781, 'num_leaves': 187, 'feature_fraction': 0.5489166680831485, 'bagging_fraction': 0.5482670093935296, 'bagging_freq': 5, 'min_child_samples': 76}. Best is trial 12 with value: 0.7794427528877289.\u001b[0m\n"
     ]
    },
    {
     "name": "stdout",
     "output_type": "stream",
     "text": [
      "[LightGBM] [Warning] bagging_fraction is set=0.5482670093935296, subsample=1.0 will be ignored. Current value: bagging_fraction=0.5482670093935296\n",
      "[LightGBM] [Warning] lambda_l1 is set=0.05377945822267353, reg_alpha=0.0 will be ignored. Current value: lambda_l1=0.05377945822267353\n",
      "[LightGBM] [Warning] feature_fraction is set=0.5489166680831485, colsample_bytree=1.0 will be ignored. Current value: feature_fraction=0.5489166680831485\n",
      "[LightGBM] [Warning] lambda_l2 is set=0.004140624859260781, reg_lambda=0.0 will be ignored. Current value: lambda_l2=0.004140624859260781\n",
      "[LightGBM] [Warning] bagging_freq is set=5, subsample_freq=0 will be ignored. Current value: bagging_freq=5\n",
      "[LightGBM] [Warning] bagging_fraction is set=0.4707302521876172, subsample=1.0 will be ignored. Current value: bagging_fraction=0.4707302521876172\n",
      "[LightGBM] [Warning] lambda_l1 is set=4.049588091790745, reg_alpha=0.0 will be ignored. Current value: lambda_l1=4.049588091790745\n",
      "[LightGBM] [Warning] feature_fraction is set=0.49295370873276645, colsample_bytree=1.0 will be ignored. Current value: feature_fraction=0.49295370873276645\n",
      "[LightGBM] [Warning] lambda_l2 is set=0.1530971214020632, reg_lambda=0.0 will be ignored. Current value: lambda_l2=0.1530971214020632\n",
      "[LightGBM] [Warning] bagging_freq is set=3, subsample_freq=0 will be ignored. Current value: bagging_freq=3\n",
      "[LightGBM] [Warning] bagging_fraction is set=0.4707302521876172, subsample=1.0 will be ignored. Current value: bagging_fraction=0.4707302521876172\n",
      "[LightGBM] [Warning] lambda_l1 is set=4.049588091790745, reg_alpha=0.0 will be ignored. Current value: lambda_l1=4.049588091790745\n",
      "[LightGBM] [Warning] feature_fraction is set=0.49295370873276645, colsample_bytree=1.0 will be ignored. Current value: feature_fraction=0.49295370873276645\n",
      "[LightGBM] [Warning] lambda_l2 is set=0.1530971214020632, reg_lambda=0.0 will be ignored. Current value: lambda_l2=0.1530971214020632\n",
      "[LightGBM] [Warning] bagging_freq is set=3, subsample_freq=0 will be ignored. Current value: bagging_freq=3\n"
     ]
    },
    {
     "name": "stderr",
     "output_type": "stream",
     "text": [
      "\u001b[32m[I 2023-03-15 19:55:54,127]\u001b[0m Trial 40 finished with value: 0.7694091461435958 and parameters: {'lambda_l1': 4.049588091790745, 'lambda_l2': 0.1530971214020632, 'num_leaves': 69, 'feature_fraction': 0.49295370873276645, 'bagging_fraction': 0.4707302521876172, 'bagging_freq': 3, 'min_child_samples': 83}. Best is trial 12 with value: 0.7794427528877289.\u001b[0m\n"
     ]
    },
    {
     "name": "stdout",
     "output_type": "stream",
     "text": [
      "[LightGBM] [Warning] bagging_fraction is set=0.4707302521876172, subsample=1.0 will be ignored. Current value: bagging_fraction=0.4707302521876172\n",
      "[LightGBM] [Warning] lambda_l1 is set=4.049588091790745, reg_alpha=0.0 will be ignored. Current value: lambda_l1=4.049588091790745\n",
      "[LightGBM] [Warning] feature_fraction is set=0.49295370873276645, colsample_bytree=1.0 will be ignored. Current value: feature_fraction=0.49295370873276645\n",
      "[LightGBM] [Warning] lambda_l2 is set=0.1530971214020632, reg_lambda=0.0 will be ignored. Current value: lambda_l2=0.1530971214020632\n",
      "[LightGBM] [Warning] bagging_freq is set=3, subsample_freq=0 will be ignored. Current value: bagging_freq=3\n",
      "[LightGBM] [Warning] bagging_fraction is set=0.4707302521876172, subsample=1.0 will be ignored. Current value: bagging_fraction=0.4707302521876172\n",
      "[LightGBM] [Warning] lambda_l1 is set=4.049588091790745, reg_alpha=0.0 will be ignored. Current value: lambda_l1=4.049588091790745\n",
      "[LightGBM] [Warning] feature_fraction is set=0.49295370873276645, colsample_bytree=1.0 will be ignored. Current value: feature_fraction=0.49295370873276645\n",
      "[LightGBM] [Warning] lambda_l2 is set=0.1530971214020632, reg_lambda=0.0 will be ignored. Current value: lambda_l2=0.1530971214020632\n",
      "[LightGBM] [Warning] bagging_freq is set=3, subsample_freq=0 will be ignored. Current value: bagging_freq=3\n",
      "[LightGBM] [Warning] bagging_fraction is set=0.4707302521876172, subsample=1.0 will be ignored. Current value: bagging_fraction=0.4707302521876172\n",
      "[LightGBM] [Warning] lambda_l1 is set=4.049588091790745, reg_alpha=0.0 will be ignored. Current value: lambda_l1=4.049588091790745\n",
      "[LightGBM] [Warning] feature_fraction is set=0.49295370873276645, colsample_bytree=1.0 will be ignored. Current value: feature_fraction=0.49295370873276645\n",
      "[LightGBM] [Warning] lambda_l2 is set=0.1530971214020632, reg_lambda=0.0 will be ignored. Current value: lambda_l2=0.1530971214020632\n",
      "[LightGBM] [Warning] bagging_freq is set=3, subsample_freq=0 will be ignored. Current value: bagging_freq=3\n",
      "[LightGBM] [Warning] bagging_fraction is set=0.4430611430469214, subsample=1.0 will be ignored. Current value: bagging_fraction=0.4430611430469214\n",
      "[LightGBM] [Warning] lambda_l1 is set=7.0103408319694465, reg_alpha=0.0 will be ignored. Current value: lambda_l1=7.0103408319694465\n",
      "[LightGBM] [Warning] feature_fraction is set=0.5164266187875974, colsample_bytree=1.0 will be ignored. Current value: feature_fraction=0.5164266187875974\n",
      "[LightGBM] [Warning] lambda_l2 is set=1.5445768802690705, reg_lambda=0.0 will be ignored. Current value: lambda_l2=1.5445768802690705\n",
      "[LightGBM] [Warning] bagging_freq is set=2, subsample_freq=0 will be ignored. Current value: bagging_freq=2\n"
     ]
    },
    {
     "name": "stderr",
     "output_type": "stream",
     "text": [
      "\u001b[32m[I 2023-03-15 19:55:54,411]\u001b[0m Trial 41 finished with value: 0.7725149650986971 and parameters: {'lambda_l1': 7.0103408319694465, 'lambda_l2': 1.5445768802690705, 'num_leaves': 141, 'feature_fraction': 0.5164266187875974, 'bagging_fraction': 0.4430611430469214, 'bagging_freq': 2, 'min_child_samples': 91}. Best is trial 12 with value: 0.7794427528877289.\u001b[0m\n"
     ]
    },
    {
     "name": "stdout",
     "output_type": "stream",
     "text": [
      "[LightGBM] [Warning] bagging_fraction is set=0.4430611430469214, subsample=1.0 will be ignored. Current value: bagging_fraction=0.4430611430469214\n",
      "[LightGBM] [Warning] lambda_l1 is set=7.0103408319694465, reg_alpha=0.0 will be ignored. Current value: lambda_l1=7.0103408319694465\n",
      "[LightGBM] [Warning] feature_fraction is set=0.5164266187875974, colsample_bytree=1.0 will be ignored. Current value: feature_fraction=0.5164266187875974\n",
      "[LightGBM] [Warning] lambda_l2 is set=1.5445768802690705, reg_lambda=0.0 will be ignored. Current value: lambda_l2=1.5445768802690705\n",
      "[LightGBM] [Warning] bagging_freq is set=2, subsample_freq=0 will be ignored. Current value: bagging_freq=2\n",
      "[LightGBM] [Warning] bagging_fraction is set=0.4430611430469214, subsample=1.0 will be ignored. Current value: bagging_fraction=0.4430611430469214\n",
      "[LightGBM] [Warning] lambda_l1 is set=7.0103408319694465, reg_alpha=0.0 will be ignored. Current value: lambda_l1=7.0103408319694465\n",
      "[LightGBM] [Warning] feature_fraction is set=0.5164266187875974, colsample_bytree=1.0 will be ignored. Current value: feature_fraction=0.5164266187875974\n",
      "[LightGBM] [Warning] lambda_l2 is set=1.5445768802690705, reg_lambda=0.0 will be ignored. Current value: lambda_l2=1.5445768802690705\n",
      "[LightGBM] [Warning] bagging_freq is set=2, subsample_freq=0 will be ignored. Current value: bagging_freq=2\n",
      "[LightGBM] [Warning] bagging_fraction is set=0.4430611430469214, subsample=1.0 will be ignored. Current value: bagging_fraction=0.4430611430469214\n",
      "[LightGBM] [Warning] lambda_l1 is set=7.0103408319694465, reg_alpha=0.0 will be ignored. Current value: lambda_l1=7.0103408319694465\n",
      "[LightGBM] [Warning] feature_fraction is set=0.5164266187875974, colsample_bytree=1.0 will be ignored. Current value: feature_fraction=0.5164266187875974\n",
      "[LightGBM] [Warning] lambda_l2 is set=1.5445768802690705, reg_lambda=0.0 will be ignored. Current value: lambda_l2=1.5445768802690705\n",
      "[LightGBM] [Warning] bagging_freq is set=2, subsample_freq=0 will be ignored. Current value: bagging_freq=2\n",
      "[LightGBM] [Warning] bagging_fraction is set=0.4430611430469214, subsample=1.0 will be ignored. Current value: bagging_fraction=0.4430611430469214\n",
      "[LightGBM] [Warning] lambda_l1 is set=7.0103408319694465, reg_alpha=0.0 will be ignored. Current value: lambda_l1=7.0103408319694465\n",
      "[LightGBM] [Warning] feature_fraction is set=0.5164266187875974, colsample_bytree=1.0 will be ignored. Current value: feature_fraction=0.5164266187875974\n",
      "[LightGBM] [Warning] lambda_l2 is set=1.5445768802690705, reg_lambda=0.0 will be ignored. Current value: lambda_l2=1.5445768802690705\n",
      "[LightGBM] [Warning] bagging_freq is set=2, subsample_freq=0 will be ignored. Current value: bagging_freq=2\n",
      "[LightGBM] [Warning] bagging_fraction is set=0.44792849613178776, subsample=1.0 will be ignored. Current value: bagging_fraction=0.44792849613178776\n",
      "[LightGBM] [Warning] lambda_l1 is set=1.4429316951004294, reg_alpha=0.0 will be ignored. Current value: lambda_l1=1.4429316951004294\n",
      "[LightGBM] [Warning] feature_fraction is set=0.44424918869139185, colsample_bytree=1.0 will be ignored. Current value: feature_fraction=0.44424918869139185\n",
      "[LightGBM] [Warning] lambda_l2 is set=9.252915610545525, reg_lambda=0.0 will be ignored. Current value: lambda_l2=9.252915610545525\n",
      "[LightGBM] [Warning] bagging_freq is set=2, subsample_freq=0 will be ignored. Current value: bagging_freq=2\n",
      "[LightGBM] [Warning] bagging_fraction is set=0.44792849613178776, subsample=1.0 will be ignored. Current value: bagging_fraction=0.44792849613178776\n",
      "[LightGBM] [Warning] lambda_l1 is set=1.4429316951004294, reg_alpha=0.0 will be ignored. Current value: lambda_l1=1.4429316951004294\n",
      "[LightGBM] [Warning] feature_fraction is set=0.44424918869139185, colsample_bytree=1.0 will be ignored. Current value: feature_fraction=0.44424918869139185\n",
      "[LightGBM] [Warning] lambda_l2 is set=9.252915610545525, reg_lambda=0.0 will be ignored. Current value: lambda_l2=9.252915610545525\n",
      "[LightGBM] [Warning] bagging_freq is set=2, subsample_freq=0 will be ignored. Current value: bagging_freq=2\n",
      "[LightGBM] [Warning] bagging_fraction is set=0.44792849613178776, subsample=1.0 will be ignored. Current value: bagging_fraction=0.44792849613178776\n",
      "[LightGBM] [Warning] lambda_l1 is set=1.4429316951004294, reg_alpha=0.0 will be ignored. Current value: lambda_l1=1.4429316951004294\n",
      "[LightGBM] [Warning] feature_fraction is set=0.44424918869139185, colsample_bytree=1.0 will be ignored. Current value: feature_fraction=0.44424918869139185\n",
      "[LightGBM] [Warning] lambda_l2 is set=9.252915610545525, reg_lambda=0.0 will be ignored. Current value: lambda_l2=9.252915610545525\n",
      "[LightGBM] [Warning] bagging_freq is set=2, subsample_freq=0 will be ignored. Current value: bagging_freq=2\n",
      "[LightGBM] [Warning] bagging_fraction is set=0.44792849613178776, subsample=1.0 will be ignored. Current value: bagging_fraction=0.44792849613178776\n",
      "[LightGBM] [Warning] lambda_l1 is set=1.4429316951004294, reg_alpha=0.0 will be ignored. Current value: lambda_l1=1.4429316951004294\n",
      "[LightGBM] [Warning] feature_fraction is set=0.44424918869139185, colsample_bytree=1.0 will be ignored. Current value: feature_fraction=0.44424918869139185\n",
      "[LightGBM] [Warning] lambda_l2 is set=9.252915610545525, reg_lambda=0.0 will be ignored. Current value: lambda_l2=9.252915610545525\n",
      "[LightGBM] [Warning] bagging_freq is set=2, subsample_freq=0 will be ignored. Current value: bagging_freq=2\n",
      "[LightGBM] [Warning] bagging_fraction is set=0.44792849613178776, subsample=1.0 will be ignored. Current value: bagging_fraction=0.44792849613178776\n",
      "[LightGBM] [Warning] lambda_l1 is set=1.4429316951004294, reg_alpha=0.0 will be ignored. Current value: lambda_l1=1.4429316951004294\n",
      "[LightGBM] [Warning] feature_fraction is set=0.44424918869139185, colsample_bytree=1.0 will be ignored. Current value: feature_fraction=0.44424918869139185\n",
      "[LightGBM] [Warning] lambda_l2 is set=9.252915610545525, reg_lambda=0.0 will be ignored. Current value: lambda_l2=9.252915610545525\n",
      "[LightGBM] [Warning] bagging_freq is set=2, subsample_freq=0 will be ignored. Current value: bagging_freq=2\n"
     ]
    },
    {
     "name": "stderr",
     "output_type": "stream",
     "text": [
      "\u001b[32m[I 2023-03-15 19:55:54,700]\u001b[0m Trial 42 finished with value: 0.770868890545924 and parameters: {'lambda_l1': 1.4429316951004294, 'lambda_l2': 9.252915610545525, 'num_leaves': 138, 'feature_fraction': 0.44424918869139185, 'bagging_fraction': 0.44792849613178776, 'bagging_freq': 2, 'min_child_samples': 95}. Best is trial 12 with value: 0.7794427528877289.\u001b[0m\n"
     ]
    },
    {
     "name": "stdout",
     "output_type": "stream",
     "text": [
      "[LightGBM] [Warning] bagging_fraction is set=0.42499367939002447, subsample=1.0 will be ignored. Current value: bagging_fraction=0.42499367939002447\n",
      "[LightGBM] [Warning] lambda_l1 is set=9.517923564309175, reg_alpha=0.0 will be ignored. Current value: lambda_l1=9.517923564309175\n",
      "[LightGBM] [Warning] feature_fraction is set=0.4514878070984584, colsample_bytree=1.0 will be ignored. Current value: feature_fraction=0.4514878070984584\n",
      "[LightGBM] [Warning] lambda_l2 is set=2.9191277688947808, reg_lambda=0.0 will be ignored. Current value: lambda_l2=2.9191277688947808\n",
      "[LightGBM] [Warning] bagging_freq is set=2, subsample_freq=0 will be ignored. Current value: bagging_freq=2\n",
      "[LightGBM] [Warning] bagging_fraction is set=0.42499367939002447, subsample=1.0 will be ignored. Current value: bagging_fraction=0.42499367939002447\n",
      "[LightGBM] [Warning] lambda_l1 is set=9.517923564309175, reg_alpha=0.0 will be ignored. Current value: lambda_l1=9.517923564309175\n",
      "[LightGBM] [Warning] feature_fraction is set=0.4514878070984584, colsample_bytree=1.0 will be ignored. Current value: feature_fraction=0.4514878070984584\n",
      "[LightGBM] [Warning] lambda_l2 is set=2.9191277688947808, reg_lambda=0.0 will be ignored. Current value: lambda_l2=2.9191277688947808\n",
      "[LightGBM] [Warning] bagging_freq is set=2, subsample_freq=0 will be ignored. Current value: bagging_freq=2\n",
      "[LightGBM] [Warning] bagging_fraction is set=0.42499367939002447, subsample=1.0 will be ignored. Current value: bagging_fraction=0.42499367939002447\n",
      "[LightGBM] [Warning] lambda_l1 is set=9.517923564309175, reg_alpha=0.0 will be ignored. Current value: lambda_l1=9.517923564309175\n",
      "[LightGBM] [Warning] feature_fraction is set=0.4514878070984584, colsample_bytree=1.0 will be ignored. Current value: feature_fraction=0.4514878070984584\n",
      "[LightGBM] [Warning] lambda_l2 is set=2.9191277688947808, reg_lambda=0.0 will be ignored. Current value: lambda_l2=2.9191277688947808\n",
      "[LightGBM] [Warning] bagging_freq is set=2, subsample_freq=0 will be ignored. Current value: bagging_freq=2\n",
      "[LightGBM] [Warning] bagging_fraction is set=0.42499367939002447, subsample=1.0 will be ignored. Current value: bagging_fraction=0.42499367939002447\n",
      "[LightGBM] [Warning] lambda_l1 is set=9.517923564309175, reg_alpha=0.0 will be ignored. Current value: lambda_l1=9.517923564309175\n",
      "[LightGBM] [Warning] feature_fraction is set=0.4514878070984584, colsample_bytree=1.0 will be ignored. Current value: feature_fraction=0.4514878070984584\n",
      "[LightGBM] [Warning] lambda_l2 is set=2.9191277688947808, reg_lambda=0.0 will be ignored. Current value: lambda_l2=2.9191277688947808\n",
      "[LightGBM] [Warning] bagging_freq is set=2, subsample_freq=0 will be ignored. Current value: bagging_freq=2\n"
     ]
    },
    {
     "name": "stderr",
     "output_type": "stream",
     "text": [
      "\u001b[32m[I 2023-03-15 19:55:55,000]\u001b[0m Trial 43 finished with value: 0.7790785503704164 and parameters: {'lambda_l1': 9.517923564309175, 'lambda_l2': 2.9191277688947808, 'num_leaves': 166, 'feature_fraction': 0.4514878070984584, 'bagging_fraction': 0.42499367939002447, 'bagging_freq': 2, 'min_child_samples': 89}. Best is trial 12 with value: 0.7794427528877289.\u001b[0m\n"
     ]
    },
    {
     "name": "stdout",
     "output_type": "stream",
     "text": [
      "[LightGBM] [Warning] bagging_fraction is set=0.42499367939002447, subsample=1.0 will be ignored. Current value: bagging_fraction=0.42499367939002447\n",
      "[LightGBM] [Warning] lambda_l1 is set=9.517923564309175, reg_alpha=0.0 will be ignored. Current value: lambda_l1=9.517923564309175\n",
      "[LightGBM] [Warning] feature_fraction is set=0.4514878070984584, colsample_bytree=1.0 will be ignored. Current value: feature_fraction=0.4514878070984584\n",
      "[LightGBM] [Warning] lambda_l2 is set=2.9191277688947808, reg_lambda=0.0 will be ignored. Current value: lambda_l2=2.9191277688947808\n",
      "[LightGBM] [Warning] bagging_freq is set=2, subsample_freq=0 will be ignored. Current value: bagging_freq=2\n",
      "[LightGBM] [Warning] bagging_fraction is set=0.40185061254874155, subsample=1.0 will be ignored. Current value: bagging_fraction=0.40185061254874155\n",
      "[LightGBM] [Warning] lambda_l1 is set=9.62773295936816, reg_alpha=0.0 will be ignored. Current value: lambda_l1=9.62773295936816\n",
      "[LightGBM] [Warning] feature_fraction is set=0.40626437446157904, colsample_bytree=1.0 will be ignored. Current value: feature_fraction=0.40626437446157904\n",
      "[LightGBM] [Warning] lambda_l2 is set=3.7915251250888033, reg_lambda=0.0 will be ignored. Current value: lambda_l2=3.7915251250888033\n",
      "[LightGBM] [Warning] bagging_freq is set=3, subsample_freq=0 will be ignored. Current value: bagging_freq=3\n",
      "[LightGBM] [Warning] bagging_fraction is set=0.40185061254874155, subsample=1.0 will be ignored. Current value: bagging_fraction=0.40185061254874155\n",
      "[LightGBM] [Warning] lambda_l1 is set=9.62773295936816, reg_alpha=0.0 will be ignored. Current value: lambda_l1=9.62773295936816\n",
      "[LightGBM] [Warning] feature_fraction is set=0.40626437446157904, colsample_bytree=1.0 will be ignored. Current value: feature_fraction=0.40626437446157904\n",
      "[LightGBM] [Warning] lambda_l2 is set=3.7915251250888033, reg_lambda=0.0 will be ignored. Current value: lambda_l2=3.7915251250888033\n",
      "[LightGBM] [Warning] bagging_freq is set=3, subsample_freq=0 will be ignored. Current value: bagging_freq=3\n",
      "[LightGBM] [Warning] bagging_fraction is set=0.40185061254874155, subsample=1.0 will be ignored. Current value: bagging_fraction=0.40185061254874155\n",
      "[LightGBM] [Warning] lambda_l1 is set=9.62773295936816, reg_alpha=0.0 will be ignored. Current value: lambda_l1=9.62773295936816\n",
      "[LightGBM] [Warning] feature_fraction is set=0.40626437446157904, colsample_bytree=1.0 will be ignored. Current value: feature_fraction=0.40626437446157904\n",
      "[LightGBM] [Warning] lambda_l2 is set=3.7915251250888033, reg_lambda=0.0 will be ignored. Current value: lambda_l2=3.7915251250888033\n",
      "[LightGBM] [Warning] bagging_freq is set=3, subsample_freq=0 will be ignored. Current value: bagging_freq=3\n"
     ]
    },
    {
     "name": "stderr",
     "output_type": "stream",
     "text": [
      "\u001b[32m[I 2023-03-15 19:55:55,276]\u001b[0m Trial 44 finished with value: 0.7794709742676249 and parameters: {'lambda_l1': 9.62773295936816, 'lambda_l2': 3.7915251250888033, 'num_leaves': 191, 'feature_fraction': 0.40626437446157904, 'bagging_fraction': 0.40185061254874155, 'bagging_freq': 3, 'min_child_samples': 100}. Best is trial 44 with value: 0.7794709742676249.\u001b[0m\n"
     ]
    },
    {
     "name": "stdout",
     "output_type": "stream",
     "text": [
      "[LightGBM] [Warning] bagging_fraction is set=0.40185061254874155, subsample=1.0 will be ignored. Current value: bagging_fraction=0.40185061254874155\n",
      "[LightGBM] [Warning] lambda_l1 is set=9.62773295936816, reg_alpha=0.0 will be ignored. Current value: lambda_l1=9.62773295936816\n",
      "[LightGBM] [Warning] feature_fraction is set=0.40626437446157904, colsample_bytree=1.0 will be ignored. Current value: feature_fraction=0.40626437446157904\n",
      "[LightGBM] [Warning] lambda_l2 is set=3.7915251250888033, reg_lambda=0.0 will be ignored. Current value: lambda_l2=3.7915251250888033\n",
      "[LightGBM] [Warning] bagging_freq is set=3, subsample_freq=0 will be ignored. Current value: bagging_freq=3\n",
      "[LightGBM] [Warning] bagging_fraction is set=0.40185061254874155, subsample=1.0 will be ignored. Current value: bagging_fraction=0.40185061254874155\n",
      "[LightGBM] [Warning] lambda_l1 is set=9.62773295936816, reg_alpha=0.0 will be ignored. Current value: lambda_l1=9.62773295936816\n",
      "[LightGBM] [Warning] feature_fraction is set=0.40626437446157904, colsample_bytree=1.0 will be ignored. Current value: feature_fraction=0.40626437446157904\n",
      "[LightGBM] [Warning] lambda_l2 is set=3.7915251250888033, reg_lambda=0.0 will be ignored. Current value: lambda_l2=3.7915251250888033\n",
      "[LightGBM] [Warning] bagging_freq is set=3, subsample_freq=0 will be ignored. Current value: bagging_freq=3\n",
      "[LightGBM] [Warning] bagging_fraction is set=0.42690068944684617, subsample=1.0 will be ignored. Current value: bagging_fraction=0.42690068944684617\n",
      "[LightGBM] [Warning] lambda_l1 is set=0.4112432735029969, reg_alpha=0.0 will be ignored. Current value: lambda_l1=0.4112432735029969\n",
      "[LightGBM] [Warning] feature_fraction is set=0.4003496380530198, colsample_bytree=1.0 will be ignored. Current value: feature_fraction=0.4003496380530198\n",
      "[LightGBM] [Warning] lambda_l2 is set=0.6184383522409873, reg_lambda=0.0 will be ignored. Current value: lambda_l2=0.6184383522409873\n",
      "[LightGBM] [Warning] bagging_freq is set=3, subsample_freq=0 will be ignored. Current value: bagging_freq=3\n",
      "[LightGBM] [Warning] bagging_fraction is set=0.42690068944684617, subsample=1.0 will be ignored. Current value: bagging_fraction=0.42690068944684617\n",
      "[LightGBM] [Warning] lambda_l1 is set=0.4112432735029969, reg_alpha=0.0 will be ignored. Current value: lambda_l1=0.4112432735029969\n",
      "[LightGBM] [Warning] feature_fraction is set=0.4003496380530198, colsample_bytree=1.0 will be ignored. Current value: feature_fraction=0.4003496380530198\n",
      "[LightGBM] [Warning] lambda_l2 is set=0.6184383522409873, reg_lambda=0.0 will be ignored. Current value: lambda_l2=0.6184383522409873\n",
      "[LightGBM] [Warning] bagging_freq is set=3, subsample_freq=0 will be ignored. Current value: bagging_freq=3\n"
     ]
    },
    {
     "name": "stderr",
     "output_type": "stream",
     "text": [
      "\u001b[32m[I 2023-03-15 19:55:55,581]\u001b[0m Trial 45 finished with value: 0.7603189274839993 and parameters: {'lambda_l1': 0.4112432735029969, 'lambda_l2': 0.6184383522409873, 'num_leaves': 199, 'feature_fraction': 0.4003496380530198, 'bagging_fraction': 0.42690068944684617, 'bagging_freq': 3, 'min_child_samples': 87}. Best is trial 44 with value: 0.7794709742676249.\u001b[0m\n"
     ]
    },
    {
     "name": "stdout",
     "output_type": "stream",
     "text": [
      "[LightGBM] [Warning] bagging_fraction is set=0.42690068944684617, subsample=1.0 will be ignored. Current value: bagging_fraction=0.42690068944684617\n",
      "[LightGBM] [Warning] lambda_l1 is set=0.4112432735029969, reg_alpha=0.0 will be ignored. Current value: lambda_l1=0.4112432735029969\n",
      "[LightGBM] [Warning] feature_fraction is set=0.4003496380530198, colsample_bytree=1.0 will be ignored. Current value: feature_fraction=0.4003496380530198\n",
      "[LightGBM] [Warning] lambda_l2 is set=0.6184383522409873, reg_lambda=0.0 will be ignored. Current value: lambda_l2=0.6184383522409873\n",
      "[LightGBM] [Warning] bagging_freq is set=3, subsample_freq=0 will be ignored. Current value: bagging_freq=3\n",
      "[LightGBM] [Warning] bagging_fraction is set=0.42690068944684617, subsample=1.0 will be ignored. Current value: bagging_fraction=0.42690068944684617\n",
      "[LightGBM] [Warning] lambda_l1 is set=0.4112432735029969, reg_alpha=0.0 will be ignored. Current value: lambda_l1=0.4112432735029969\n",
      "[LightGBM] [Warning] feature_fraction is set=0.4003496380530198, colsample_bytree=1.0 will be ignored. Current value: feature_fraction=0.4003496380530198\n",
      "[LightGBM] [Warning] lambda_l2 is set=0.6184383522409873, reg_lambda=0.0 will be ignored. Current value: lambda_l2=0.6184383522409873\n",
      "[LightGBM] [Warning] bagging_freq is set=3, subsample_freq=0 will be ignored. Current value: bagging_freq=3\n",
      "[LightGBM] [Warning] bagging_fraction is set=0.42690068944684617, subsample=1.0 will be ignored. Current value: bagging_fraction=0.42690068944684617\n",
      "[LightGBM] [Warning] lambda_l1 is set=0.4112432735029969, reg_alpha=0.0 will be ignored. Current value: lambda_l1=0.4112432735029969\n",
      "[LightGBM] [Warning] feature_fraction is set=0.4003496380530198, colsample_bytree=1.0 will be ignored. Current value: feature_fraction=0.4003496380530198\n",
      "[LightGBM] [Warning] lambda_l2 is set=0.6184383522409873, reg_lambda=0.0 will be ignored. Current value: lambda_l2=0.6184383522409873\n",
      "[LightGBM] [Warning] bagging_freq is set=3, subsample_freq=0 will be ignored. Current value: bagging_freq=3\n",
      "[LightGBM] [Warning] bagging_fraction is set=0.4943857954494737, subsample=1.0 will be ignored. Current value: bagging_fraction=0.4943857954494737\n",
      "[LightGBM] [Warning] lambda_l1 is set=9.629151956234388, reg_alpha=0.0 will be ignored. Current value: lambda_l1=9.629151956234388\n",
      "[LightGBM] [Warning] feature_fraction is set=0.45611314575935985, colsample_bytree=1.0 will be ignored. Current value: feature_fraction=0.45611314575935985\n",
      "[LightGBM] [Warning] lambda_l2 is set=0.07598752824780904, reg_lambda=0.0 will be ignored. Current value: lambda_l2=0.07598752824780904\n",
      "[LightGBM] [Warning] bagging_freq is set=2, subsample_freq=0 will be ignored. Current value: bagging_freq=2\n",
      "[LightGBM] [Warning] bagging_fraction is set=0.4943857954494737, subsample=1.0 will be ignored. Current value: bagging_fraction=0.4943857954494737\n",
      "[LightGBM] [Warning] lambda_l1 is set=9.629151956234388, reg_alpha=0.0 will be ignored. Current value: lambda_l1=9.629151956234388\n",
      "[LightGBM] [Warning] feature_fraction is set=0.45611314575935985, colsample_bytree=1.0 will be ignored. Current value: feature_fraction=0.45611314575935985\n",
      "[LightGBM] [Warning] lambda_l2 is set=0.07598752824780904, reg_lambda=0.0 will be ignored. Current value: lambda_l2=0.07598752824780904\n",
      "[LightGBM] [Warning] bagging_freq is set=2, subsample_freq=0 will be ignored. Current value: bagging_freq=2\n",
      "[LightGBM] [Warning] bagging_fraction is set=0.4943857954494737, subsample=1.0 will be ignored. Current value: bagging_fraction=0.4943857954494737\n",
      "[LightGBM] [Warning] lambda_l1 is set=9.629151956234388, reg_alpha=0.0 will be ignored. Current value: lambda_l1=9.629151956234388\n",
      "[LightGBM] [Warning] feature_fraction is set=0.45611314575935985, colsample_bytree=1.0 will be ignored. Current value: feature_fraction=0.45611314575935985\n",
      "[LightGBM] [Warning] lambda_l2 is set=0.07598752824780904, reg_lambda=0.0 will be ignored. Current value: lambda_l2=0.07598752824780904\n",
      "[LightGBM] [Warning] bagging_freq is set=2, subsample_freq=0 will be ignored. Current value: bagging_freq=2\n",
      "[LightGBM] [Warning] bagging_fraction is set=0.4943857954494737, subsample=1.0 will be ignored. Current value: bagging_fraction=0.4943857954494737\n",
      "[LightGBM] [Warning] lambda_l1 is set=9.629151956234388, reg_alpha=0.0 will be ignored. Current value: lambda_l1=9.629151956234388\n",
      "[LightGBM] [Warning] feature_fraction is set=0.45611314575935985, colsample_bytree=1.0 will be ignored. Current value: feature_fraction=0.45611314575935985\n",
      "[LightGBM] [Warning] lambda_l2 is set=0.07598752824780904, reg_lambda=0.0 will be ignored. Current value: lambda_l2=0.07598752824780904\n",
      "[LightGBM] [Warning] bagging_freq is set=2, subsample_freq=0 will be ignored. Current value: bagging_freq=2\n",
      "[LightGBM] [Warning] bagging_fraction is set=0.4943857954494737, subsample=1.0 will be ignored. Current value: bagging_fraction=0.4943857954494737\n",
      "[LightGBM] [Warning] lambda_l1 is set=9.629151956234388, reg_alpha=0.0 will be ignored. Current value: lambda_l1=9.629151956234388\n",
      "[LightGBM] [Warning] feature_fraction is set=0.45611314575935985, colsample_bytree=1.0 will be ignored. Current value: feature_fraction=0.45611314575935985\n",
      "[LightGBM] [Warning] lambda_l2 is set=0.07598752824780904, reg_lambda=0.0 will be ignored. Current value: lambda_l2=0.07598752824780904\n",
      "[LightGBM] [Warning] bagging_freq is set=2, subsample_freq=0 will be ignored. Current value: bagging_freq=2\n"
     ]
    },
    {
     "name": "stderr",
     "output_type": "stream",
     "text": [
      "\u001b[32m[I 2023-03-15 19:55:55,894]\u001b[0m Trial 46 finished with value: 0.7747783715487064 and parameters: {'lambda_l1': 9.629151956234388, 'lambda_l2': 0.07598752824780904, 'num_leaves': 161, 'feature_fraction': 0.45611314575935985, 'bagging_fraction': 0.4943857954494737, 'bagging_freq': 2, 'min_child_samples': 70}. Best is trial 44 with value: 0.7794709742676249.\u001b[0m\n"
     ]
    },
    {
     "name": "stdout",
     "output_type": "stream",
     "text": [
      "[LightGBM] [Warning] bagging_fraction is set=0.520165553803302, subsample=1.0 will be ignored. Current value: bagging_fraction=0.520165553803302\n",
      "[LightGBM] [Warning] lambda_l1 is set=3.862826028451494, reg_alpha=0.0 will be ignored. Current value: lambda_l1=3.862826028451494\n",
      "[LightGBM] [Warning] feature_fraction is set=0.44801926291797545, colsample_bytree=1.0 will be ignored. Current value: feature_fraction=0.44801926291797545\n",
      "[LightGBM] [Warning] lambda_l2 is set=3.929295494127823, reg_lambda=0.0 will be ignored. Current value: lambda_l2=3.929295494127823\n",
      "[LightGBM] [Warning] bagging_freq is set=3, subsample_freq=0 will be ignored. Current value: bagging_freq=3\n",
      "[LightGBM] [Warning] bagging_fraction is set=0.520165553803302, subsample=1.0 will be ignored. Current value: bagging_fraction=0.520165553803302\n",
      "[LightGBM] [Warning] lambda_l1 is set=3.862826028451494, reg_alpha=0.0 will be ignored. Current value: lambda_l1=3.862826028451494\n",
      "[LightGBM] [Warning] feature_fraction is set=0.44801926291797545, colsample_bytree=1.0 will be ignored. Current value: feature_fraction=0.44801926291797545\n",
      "[LightGBM] [Warning] lambda_l2 is set=3.929295494127823, reg_lambda=0.0 will be ignored. Current value: lambda_l2=3.929295494127823\n",
      "[LightGBM] [Warning] bagging_freq is set=3, subsample_freq=0 will be ignored. Current value: bagging_freq=3\n",
      "[LightGBM] [Warning] bagging_fraction is set=0.520165553803302, subsample=1.0 will be ignored. Current value: bagging_fraction=0.520165553803302\n",
      "[LightGBM] [Warning] lambda_l1 is set=3.862826028451494, reg_alpha=0.0 will be ignored. Current value: lambda_l1=3.862826028451494\n",
      "[LightGBM] [Warning] feature_fraction is set=0.44801926291797545, colsample_bytree=1.0 will be ignored. Current value: feature_fraction=0.44801926291797545\n",
      "[LightGBM] [Warning] lambda_l2 is set=3.929295494127823, reg_lambda=0.0 will be ignored. Current value: lambda_l2=3.929295494127823\n",
      "[LightGBM] [Warning] bagging_freq is set=3, subsample_freq=0 will be ignored. Current value: bagging_freq=3\n",
      "[LightGBM] [Warning] bagging_fraction is set=0.520165553803302, subsample=1.0 will be ignored. Current value: bagging_fraction=0.520165553803302\n",
      "[LightGBM] [Warning] lambda_l1 is set=3.862826028451494, reg_alpha=0.0 will be ignored. Current value: lambda_l1=3.862826028451494\n",
      "[LightGBM] [Warning] feature_fraction is set=0.44801926291797545, colsample_bytree=1.0 will be ignored. Current value: feature_fraction=0.44801926291797545\n",
      "[LightGBM] [Warning] lambda_l2 is set=3.929295494127823, reg_lambda=0.0 will be ignored. Current value: lambda_l2=3.929295494127823\n",
      "[LightGBM] [Warning] bagging_freq is set=3, subsample_freq=0 will be ignored. Current value: bagging_freq=3\n"
     ]
    },
    {
     "name": "stderr",
     "output_type": "stream",
     "text": [
      "\u001b[32m[I 2023-03-15 19:55:56,199]\u001b[0m Trial 47 finished with value: 0.770898233876703 and parameters: {'lambda_l1': 3.862826028451494, 'lambda_l2': 3.929295494127823, 'num_leaves': 227, 'feature_fraction': 0.44801926291797545, 'bagging_fraction': 0.520165553803302, 'bagging_freq': 3, 'min_child_samples': 100}. Best is trial 44 with value: 0.7794709742676249.\u001b[0m\n"
     ]
    },
    {
     "name": "stdout",
     "output_type": "stream",
     "text": [
      "[LightGBM] [Warning] bagging_fraction is set=0.520165553803302, subsample=1.0 will be ignored. Current value: bagging_fraction=0.520165553803302\n",
      "[LightGBM] [Warning] lambda_l1 is set=3.862826028451494, reg_alpha=0.0 will be ignored. Current value: lambda_l1=3.862826028451494\n",
      "[LightGBM] [Warning] feature_fraction is set=0.44801926291797545, colsample_bytree=1.0 will be ignored. Current value: feature_fraction=0.44801926291797545\n",
      "[LightGBM] [Warning] lambda_l2 is set=3.929295494127823, reg_lambda=0.0 will be ignored. Current value: lambda_l2=3.929295494127823\n",
      "[LightGBM] [Warning] bagging_freq is set=3, subsample_freq=0 will be ignored. Current value: bagging_freq=3\n",
      "[LightGBM] [Warning] bagging_fraction is set=0.467981682487095, subsample=1.0 will be ignored. Current value: bagging_fraction=0.467981682487095\n",
      "[LightGBM] [Warning] lambda_l1 is set=0.13380817684077434, reg_alpha=0.0 will be ignored. Current value: lambda_l1=0.13380817684077434\n",
      "[LightGBM] [Warning] feature_fraction is set=0.48036149274790396, colsample_bytree=1.0 will be ignored. Current value: feature_fraction=0.48036149274790396\n",
      "[LightGBM] [Warning] lambda_l2 is set=0.8456694062398918, reg_lambda=0.0 will be ignored. Current value: lambda_l2=0.8456694062398918\n",
      "[LightGBM] [Warning] bagging_freq is set=2, subsample_freq=0 will be ignored. Current value: bagging_freq=2\n",
      "[LightGBM] [Warning] bagging_fraction is set=0.467981682487095, subsample=1.0 will be ignored. Current value: bagging_fraction=0.467981682487095\n",
      "[LightGBM] [Warning] lambda_l1 is set=0.13380817684077434, reg_alpha=0.0 will be ignored. Current value: lambda_l1=0.13380817684077434\n",
      "[LightGBM] [Warning] feature_fraction is set=0.48036149274790396, colsample_bytree=1.0 will be ignored. Current value: feature_fraction=0.48036149274790396\n",
      "[LightGBM] [Warning] lambda_l2 is set=0.8456694062398918, reg_lambda=0.0 will be ignored. Current value: lambda_l2=0.8456694062398918\n",
      "[LightGBM] [Warning] bagging_freq is set=2, subsample_freq=0 will be ignored. Current value: bagging_freq=2\n"
     ]
    },
    {
     "name": "stderr",
     "output_type": "stream",
     "text": [
      "\u001b[32m[I 2023-03-15 19:55:56,529]\u001b[0m Trial 48 finished with value: 0.7573860615726644 and parameters: {'lambda_l1': 0.13380817684077434, 'lambda_l2': 0.8456694062398918, 'num_leaves': 170, 'feature_fraction': 0.48036149274790396, 'bagging_fraction': 0.467981682487095, 'bagging_freq': 2, 'min_child_samples': 77}. Best is trial 44 with value: 0.7794709742676249.\u001b[0m\n"
     ]
    },
    {
     "name": "stdout",
     "output_type": "stream",
     "text": [
      "[LightGBM] [Warning] bagging_fraction is set=0.467981682487095, subsample=1.0 will be ignored. Current value: bagging_fraction=0.467981682487095\n",
      "[LightGBM] [Warning] lambda_l1 is set=0.13380817684077434, reg_alpha=0.0 will be ignored. Current value: lambda_l1=0.13380817684077434\n",
      "[LightGBM] [Warning] feature_fraction is set=0.48036149274790396, colsample_bytree=1.0 will be ignored. Current value: feature_fraction=0.48036149274790396\n",
      "[LightGBM] [Warning] lambda_l2 is set=0.8456694062398918, reg_lambda=0.0 will be ignored. Current value: lambda_l2=0.8456694062398918\n",
      "[LightGBM] [Warning] bagging_freq is set=2, subsample_freq=0 will be ignored. Current value: bagging_freq=2\n",
      "[LightGBM] [Warning] bagging_fraction is set=0.467981682487095, subsample=1.0 will be ignored. Current value: bagging_fraction=0.467981682487095\n",
      "[LightGBM] [Warning] lambda_l1 is set=0.13380817684077434, reg_alpha=0.0 will be ignored. Current value: lambda_l1=0.13380817684077434\n",
      "[LightGBM] [Warning] feature_fraction is set=0.48036149274790396, colsample_bytree=1.0 will be ignored. Current value: feature_fraction=0.48036149274790396\n",
      "[LightGBM] [Warning] lambda_l2 is set=0.8456694062398918, reg_lambda=0.0 will be ignored. Current value: lambda_l2=0.8456694062398918\n",
      "[LightGBM] [Warning] bagging_freq is set=2, subsample_freq=0 will be ignored. Current value: bagging_freq=2\n",
      "[LightGBM] [Warning] bagging_fraction is set=0.467981682487095, subsample=1.0 will be ignored. Current value: bagging_fraction=0.467981682487095\n",
      "[LightGBM] [Warning] lambda_l1 is set=0.13380817684077434, reg_alpha=0.0 will be ignored. Current value: lambda_l1=0.13380817684077434\n",
      "[LightGBM] [Warning] feature_fraction is set=0.48036149274790396, colsample_bytree=1.0 will be ignored. Current value: feature_fraction=0.48036149274790396\n",
      "[LightGBM] [Warning] lambda_l2 is set=0.8456694062398918, reg_lambda=0.0 will be ignored. Current value: lambda_l2=0.8456694062398918\n",
      "[LightGBM] [Warning] bagging_freq is set=2, subsample_freq=0 will be ignored. Current value: bagging_freq=2\n",
      "[LightGBM] [Warning] bagging_fraction is set=0.42277419620083323, subsample=1.0 will be ignored. Current value: bagging_fraction=0.42277419620083323\n",
      "[LightGBM] [Warning] lambda_l1 is set=1.0326971078091314, reg_alpha=0.0 will be ignored. Current value: lambda_l1=1.0326971078091314\n",
      "[LightGBM] [Warning] feature_fraction is set=0.42881844837049027, colsample_bytree=1.0 will be ignored. Current value: feature_fraction=0.42881844837049027\n",
      "[LightGBM] [Warning] lambda_l2 is set=3.3604105141051033, reg_lambda=0.0 will be ignored. Current value: lambda_l2=3.3604105141051033\n",
      "[LightGBM] [Warning] bagging_freq is set=1, subsample_freq=0 will be ignored. Current value: bagging_freq=1\n",
      "[LightGBM] [Warning] bagging_fraction is set=0.42277419620083323, subsample=1.0 will be ignored. Current value: bagging_fraction=0.42277419620083323\n",
      "[LightGBM] [Warning] lambda_l1 is set=1.0326971078091314, reg_alpha=0.0 will be ignored. Current value: lambda_l1=1.0326971078091314\n",
      "[LightGBM] [Warning] feature_fraction is set=0.42881844837049027, colsample_bytree=1.0 will be ignored. Current value: feature_fraction=0.42881844837049027\n",
      "[LightGBM] [Warning] lambda_l2 is set=3.3604105141051033, reg_lambda=0.0 will be ignored. Current value: lambda_l2=3.3604105141051033\n",
      "[LightGBM] [Warning] bagging_freq is set=1, subsample_freq=0 will be ignored. Current value: bagging_freq=1\n",
      "[LightGBM] [Warning] bagging_fraction is set=0.42277419620083323, subsample=1.0 will be ignored. Current value: bagging_fraction=0.42277419620083323\n",
      "[LightGBM] [Warning] lambda_l1 is set=1.0326971078091314, reg_alpha=0.0 will be ignored. Current value: lambda_l1=1.0326971078091314\n",
      "[LightGBM] [Warning] feature_fraction is set=0.42881844837049027, colsample_bytree=1.0 will be ignored. Current value: feature_fraction=0.42881844837049027\n",
      "[LightGBM] [Warning] lambda_l2 is set=3.3604105141051033, reg_lambda=0.0 will be ignored. Current value: lambda_l2=3.3604105141051033\n",
      "[LightGBM] [Warning] bagging_freq is set=1, subsample_freq=0 will be ignored. Current value: bagging_freq=1\n",
      "[LightGBM] [Warning] bagging_fraction is set=0.42277419620083323, subsample=1.0 will be ignored. Current value: bagging_fraction=0.42277419620083323\n",
      "[LightGBM] [Warning] lambda_l1 is set=1.0326971078091314, reg_alpha=0.0 will be ignored. Current value: lambda_l1=1.0326971078091314\n",
      "[LightGBM] [Warning] feature_fraction is set=0.42881844837049027, colsample_bytree=1.0 will be ignored. Current value: feature_fraction=0.42881844837049027\n",
      "[LightGBM] [Warning] lambda_l2 is set=3.3604105141051033, reg_lambda=0.0 will be ignored. Current value: lambda_l2=3.3604105141051033\n",
      "[LightGBM] [Warning] bagging_freq is set=1, subsample_freq=0 will be ignored. Current value: bagging_freq=1\n"
     ]
    },
    {
     "name": "stderr",
     "output_type": "stream",
     "text": [
      "\u001b[32m[I 2023-03-15 19:55:56,847]\u001b[0m Trial 49 finished with value: 0.7649792525390613 and parameters: {'lambda_l1': 1.0326971078091314, 'lambda_l2': 3.3604105141051033, 'num_leaves': 215, 'feature_fraction': 0.42881844837049027, 'bagging_fraction': 0.42277419620083323, 'bagging_freq': 1, 'min_child_samples': 89}. Best is trial 44 with value: 0.7794709742676249.\u001b[0m\n"
     ]
    },
    {
     "name": "stdout",
     "output_type": "stream",
     "text": [
      "[LightGBM] [Warning] bagging_fraction is set=0.42277419620083323, subsample=1.0 will be ignored. Current value: bagging_fraction=0.42277419620083323\n",
      "[LightGBM] [Warning] lambda_l1 is set=1.0326971078091314, reg_alpha=0.0 will be ignored. Current value: lambda_l1=1.0326971078091314\n",
      "[LightGBM] [Warning] feature_fraction is set=0.42881844837049027, colsample_bytree=1.0 will be ignored. Current value: feature_fraction=0.42881844837049027\n",
      "[LightGBM] [Warning] lambda_l2 is set=3.3604105141051033, reg_lambda=0.0 will be ignored. Current value: lambda_l2=3.3604105141051033\n",
      "[LightGBM] [Warning] bagging_freq is set=1, subsample_freq=0 will be ignored. Current value: bagging_freq=1\n",
      "[LightGBM] [Warning] bagging_fraction is set=0.5704467394605106, subsample=1.0 will be ignored. Current value: bagging_fraction=0.5704467394605106\n",
      "[LightGBM] [Warning] lambda_l1 is set=9.771305172603446, reg_alpha=0.0 will be ignored. Current value: lambda_l1=9.771305172603446\n",
      "[LightGBM] [Warning] feature_fraction is set=0.46901826013333725, colsample_bytree=1.0 will be ignored. Current value: feature_fraction=0.46901826013333725\n",
      "[LightGBM] [Warning] lambda_l2 is set=0.1852793138435572, reg_lambda=0.0 will be ignored. Current value: lambda_l2=0.1852793138435572\n",
      "[LightGBM] [Warning] bagging_freq is set=4, subsample_freq=0 will be ignored. Current value: bagging_freq=4\n",
      "[LightGBM] [Warning] bagging_fraction is set=0.5704467394605106, subsample=1.0 will be ignored. Current value: bagging_fraction=0.5704467394605106\n",
      "[LightGBM] [Warning] lambda_l1 is set=9.771305172603446, reg_alpha=0.0 will be ignored. Current value: lambda_l1=9.771305172603446\n",
      "[LightGBM] [Warning] feature_fraction is set=0.46901826013333725, colsample_bytree=1.0 will be ignored. Current value: feature_fraction=0.46901826013333725\n",
      "[LightGBM] [Warning] lambda_l2 is set=0.1852793138435572, reg_lambda=0.0 will be ignored. Current value: lambda_l2=0.1852793138435572\n",
      "[LightGBM] [Warning] bagging_freq is set=4, subsample_freq=0 will be ignored. Current value: bagging_freq=4\n",
      "[LightGBM] [Warning] bagging_fraction is set=0.5704467394605106, subsample=1.0 will be ignored. Current value: bagging_fraction=0.5704467394605106\n",
      "[LightGBM] [Warning] lambda_l1 is set=9.771305172603446, reg_alpha=0.0 will be ignored. Current value: lambda_l1=9.771305172603446\n",
      "[LightGBM] [Warning] feature_fraction is set=0.46901826013333725, colsample_bytree=1.0 will be ignored. Current value: feature_fraction=0.46901826013333725\n",
      "[LightGBM] [Warning] lambda_l2 is set=0.1852793138435572, reg_lambda=0.0 will be ignored. Current value: lambda_l2=0.1852793138435572\n",
      "[LightGBM] [Warning] bagging_freq is set=4, subsample_freq=0 will be ignored. Current value: bagging_freq=4\n"
     ]
    },
    {
     "name": "stderr",
     "output_type": "stream",
     "text": [
      "\u001b[32m[I 2023-03-15 19:55:57,148]\u001b[0m Trial 50 finished with value: 0.774246739438127 and parameters: {'lambda_l1': 9.771305172603446, 'lambda_l2': 0.1852793138435572, 'num_leaves': 183, 'feature_fraction': 0.46901826013333725, 'bagging_fraction': 0.5704467394605106, 'bagging_freq': 4, 'min_child_samples': 83}. Best is trial 44 with value: 0.7794709742676249.\u001b[0m\n"
     ]
    },
    {
     "name": "stdout",
     "output_type": "stream",
     "text": [
      "[LightGBM] [Warning] bagging_fraction is set=0.5704467394605106, subsample=1.0 will be ignored. Current value: bagging_fraction=0.5704467394605106\n",
      "[LightGBM] [Warning] lambda_l1 is set=9.771305172603446, reg_alpha=0.0 will be ignored. Current value: lambda_l1=9.771305172603446\n",
      "[LightGBM] [Warning] feature_fraction is set=0.46901826013333725, colsample_bytree=1.0 will be ignored. Current value: feature_fraction=0.46901826013333725\n",
      "[LightGBM] [Warning] lambda_l2 is set=0.1852793138435572, reg_lambda=0.0 will be ignored. Current value: lambda_l2=0.1852793138435572\n",
      "[LightGBM] [Warning] bagging_freq is set=4, subsample_freq=0 will be ignored. Current value: bagging_freq=4\n",
      "[LightGBM] [Warning] bagging_fraction is set=0.5704467394605106, subsample=1.0 will be ignored. Current value: bagging_fraction=0.5704467394605106\n",
      "[LightGBM] [Warning] lambda_l1 is set=9.771305172603446, reg_alpha=0.0 will be ignored. Current value: lambda_l1=9.771305172603446\n",
      "[LightGBM] [Warning] feature_fraction is set=0.46901826013333725, colsample_bytree=1.0 will be ignored. Current value: feature_fraction=0.46901826013333725\n",
      "[LightGBM] [Warning] lambda_l2 is set=0.1852793138435572, reg_lambda=0.0 will be ignored. Current value: lambda_l2=0.1852793138435572\n",
      "[LightGBM] [Warning] bagging_freq is set=4, subsample_freq=0 will be ignored. Current value: bagging_freq=4\n",
      "[LightGBM] [Warning] bagging_fraction is set=0.4055956979562526, subsample=1.0 will be ignored. Current value: bagging_fraction=0.4055956979562526\n",
      "[LightGBM] [Warning] lambda_l1 is set=3.428534342074072, reg_alpha=0.0 will be ignored. Current value: lambda_l1=3.428534342074072\n",
      "[LightGBM] [Warning] feature_fraction is set=0.4173079930834841, colsample_bytree=1.0 will be ignored. Current value: feature_fraction=0.4173079930834841\n",
      "[LightGBM] [Warning] lambda_l2 is set=4.840722519248651, reg_lambda=0.0 will be ignored. Current value: lambda_l2=4.840722519248651\n",
      "[LightGBM] [Warning] bagging_freq is set=3, subsample_freq=0 will be ignored. Current value: bagging_freq=3\n",
      "[LightGBM] [Warning] bagging_fraction is set=0.4055956979562526, subsample=1.0 will be ignored. Current value: bagging_fraction=0.4055956979562526\n",
      "[LightGBM] [Warning] lambda_l1 is set=3.428534342074072, reg_alpha=0.0 will be ignored. Current value: lambda_l1=3.428534342074072\n",
      "[LightGBM] [Warning] feature_fraction is set=0.4173079930834841, colsample_bytree=1.0 will be ignored. Current value: feature_fraction=0.4173079930834841\n",
      "[LightGBM] [Warning] lambda_l2 is set=4.840722519248651, reg_lambda=0.0 will be ignored. Current value: lambda_l2=4.840722519248651\n",
      "[LightGBM] [Warning] bagging_freq is set=3, subsample_freq=0 will be ignored. Current value: bagging_freq=3\n"
     ]
    },
    {
     "name": "stderr",
     "output_type": "stream",
     "text": [
      "\u001b[32m[I 2023-03-15 19:55:57,433]\u001b[0m Trial 51 finished with value: 0.7735705482715052 and parameters: {'lambda_l1': 3.428534342074072, 'lambda_l2': 4.840722519248651, 'num_leaves': 87, 'feature_fraction': 0.4173079930834841, 'bagging_fraction': 0.4055956979562526, 'bagging_freq': 3, 'min_child_samples': 96}. Best is trial 44 with value: 0.7794709742676249.\u001b[0m\n"
     ]
    },
    {
     "name": "stdout",
     "output_type": "stream",
     "text": [
      "[LightGBM] [Warning] bagging_fraction is set=0.4055956979562526, subsample=1.0 will be ignored. Current value: bagging_fraction=0.4055956979562526\n",
      "[LightGBM] [Warning] lambda_l1 is set=3.428534342074072, reg_alpha=0.0 will be ignored. Current value: lambda_l1=3.428534342074072\n",
      "[LightGBM] [Warning] feature_fraction is set=0.4173079930834841, colsample_bytree=1.0 will be ignored. Current value: feature_fraction=0.4173079930834841\n",
      "[LightGBM] [Warning] lambda_l2 is set=4.840722519248651, reg_lambda=0.0 will be ignored. Current value: lambda_l2=4.840722519248651\n",
      "[LightGBM] [Warning] bagging_freq is set=3, subsample_freq=0 will be ignored. Current value: bagging_freq=3\n",
      "[LightGBM] [Warning] bagging_fraction is set=0.4055956979562526, subsample=1.0 will be ignored. Current value: bagging_fraction=0.4055956979562526\n",
      "[LightGBM] [Warning] lambda_l1 is set=3.428534342074072, reg_alpha=0.0 will be ignored. Current value: lambda_l1=3.428534342074072\n",
      "[LightGBM] [Warning] feature_fraction is set=0.4173079930834841, colsample_bytree=1.0 will be ignored. Current value: feature_fraction=0.4173079930834841\n",
      "[LightGBM] [Warning] lambda_l2 is set=4.840722519248651, reg_lambda=0.0 will be ignored. Current value: lambda_l2=4.840722519248651\n",
      "[LightGBM] [Warning] bagging_freq is set=3, subsample_freq=0 will be ignored. Current value: bagging_freq=3\n",
      "[LightGBM] [Warning] bagging_fraction is set=0.4055956979562526, subsample=1.0 will be ignored. Current value: bagging_fraction=0.4055956979562526\n",
      "[LightGBM] [Warning] lambda_l1 is set=3.428534342074072, reg_alpha=0.0 will be ignored. Current value: lambda_l1=3.428534342074072\n",
      "[LightGBM] [Warning] feature_fraction is set=0.4173079930834841, colsample_bytree=1.0 will be ignored. Current value: feature_fraction=0.4173079930834841\n",
      "[LightGBM] [Warning] lambda_l2 is set=4.840722519248651, reg_lambda=0.0 will be ignored. Current value: lambda_l2=4.840722519248651\n",
      "[LightGBM] [Warning] bagging_freq is set=3, subsample_freq=0 will be ignored. Current value: bagging_freq=3\n",
      "[LightGBM] [Warning] bagging_fraction is set=0.4245116766587865, subsample=1.0 will be ignored. Current value: bagging_fraction=0.4245116766587865\n",
      "[LightGBM] [Warning] lambda_l1 is set=1.3027527002395436, reg_alpha=0.0 will be ignored. Current value: lambda_l1=1.3027527002395436\n",
      "[LightGBM] [Warning] feature_fraction is set=0.507409449701685, colsample_bytree=1.0 will be ignored. Current value: feature_fraction=0.507409449701685\n",
      "[LightGBM] [Warning] lambda_l2 is set=1.5770890668264124, reg_lambda=0.0 will be ignored. Current value: lambda_l2=1.5770890668264124\n",
      "[LightGBM] [Warning] bagging_freq is set=3, subsample_freq=0 will be ignored. Current value: bagging_freq=3\n"
     ]
    },
    {
     "name": "stderr",
     "output_type": "stream",
     "text": [
      "\u001b[32m[I 2023-03-15 19:55:57,722]\u001b[0m Trial 52 finished with value: 0.7731818354426011 and parameters: {'lambda_l1': 1.3027527002395436, 'lambda_l2': 1.5770890668264124, 'num_leaves': 200, 'feature_fraction': 0.507409449701685, 'bagging_fraction': 0.4245116766587865, 'bagging_freq': 3, 'min_child_samples': 99}. Best is trial 44 with value: 0.7794709742676249.\u001b[0m\n"
     ]
    },
    {
     "name": "stdout",
     "output_type": "stream",
     "text": [
      "[LightGBM] [Warning] bagging_fraction is set=0.4245116766587865, subsample=1.0 will be ignored. Current value: bagging_fraction=0.4245116766587865\n",
      "[LightGBM] [Warning] lambda_l1 is set=1.3027527002395436, reg_alpha=0.0 will be ignored. Current value: lambda_l1=1.3027527002395436\n",
      "[LightGBM] [Warning] feature_fraction is set=0.507409449701685, colsample_bytree=1.0 will be ignored. Current value: feature_fraction=0.507409449701685\n",
      "[LightGBM] [Warning] lambda_l2 is set=1.5770890668264124, reg_lambda=0.0 will be ignored. Current value: lambda_l2=1.5770890668264124\n",
      "[LightGBM] [Warning] bagging_freq is set=3, subsample_freq=0 will be ignored. Current value: bagging_freq=3\n",
      "[LightGBM] [Warning] bagging_fraction is set=0.4245116766587865, subsample=1.0 will be ignored. Current value: bagging_fraction=0.4245116766587865\n",
      "[LightGBM] [Warning] lambda_l1 is set=1.3027527002395436, reg_alpha=0.0 will be ignored. Current value: lambda_l1=1.3027527002395436\n",
      "[LightGBM] [Warning] feature_fraction is set=0.507409449701685, colsample_bytree=1.0 will be ignored. Current value: feature_fraction=0.507409449701685\n",
      "[LightGBM] [Warning] lambda_l2 is set=1.5770890668264124, reg_lambda=0.0 will be ignored. Current value: lambda_l2=1.5770890668264124\n",
      "[LightGBM] [Warning] bagging_freq is set=3, subsample_freq=0 will be ignored. Current value: bagging_freq=3\n",
      "[LightGBM] [Warning] bagging_fraction is set=0.4245116766587865, subsample=1.0 will be ignored. Current value: bagging_fraction=0.4245116766587865\n",
      "[LightGBM] [Warning] lambda_l1 is set=1.3027527002395436, reg_alpha=0.0 will be ignored. Current value: lambda_l1=1.3027527002395436\n",
      "[LightGBM] [Warning] feature_fraction is set=0.507409449701685, colsample_bytree=1.0 will be ignored. Current value: feature_fraction=0.507409449701685\n",
      "[LightGBM] [Warning] lambda_l2 is set=1.5770890668264124, reg_lambda=0.0 will be ignored. Current value: lambda_l2=1.5770890668264124\n",
      "[LightGBM] [Warning] bagging_freq is set=3, subsample_freq=0 will be ignored. Current value: bagging_freq=3\n",
      "[LightGBM] [Warning] bagging_fraction is set=0.4245116766587865, subsample=1.0 will be ignored. Current value: bagging_fraction=0.4245116766587865\n",
      "[LightGBM] [Warning] lambda_l1 is set=1.3027527002395436, reg_alpha=0.0 will be ignored. Current value: lambda_l1=1.3027527002395436\n",
      "[LightGBM] [Warning] feature_fraction is set=0.507409449701685, colsample_bytree=1.0 will be ignored. Current value: feature_fraction=0.507409449701685\n",
      "[LightGBM] [Warning] lambda_l2 is set=1.5770890668264124, reg_lambda=0.0 will be ignored. Current value: lambda_l2=1.5770890668264124\n",
      "[LightGBM] [Warning] bagging_freq is set=3, subsample_freq=0 will be ignored. Current value: bagging_freq=3\n",
      "[LightGBM] [Warning] bagging_fraction is set=0.4791782641395437, subsample=1.0 will be ignored. Current value: bagging_fraction=0.4791782641395437\n",
      "[LightGBM] [Warning] lambda_l1 is set=0.2794132404525471, reg_alpha=0.0 will be ignored. Current value: lambda_l1=0.2794132404525471\n",
      "[LightGBM] [Warning] feature_fraction is set=0.5468592587556474, colsample_bytree=1.0 will be ignored. Current value: feature_fraction=0.5468592587556474\n",
      "[LightGBM] [Warning] lambda_l2 is set=4.945252510107113, reg_lambda=0.0 will be ignored. Current value: lambda_l2=4.945252510107113\n",
      "[LightGBM] [Warning] bagging_freq is set=2, subsample_freq=0 will be ignored. Current value: bagging_freq=2\n",
      "[LightGBM] [Warning] bagging_fraction is set=0.4791782641395437, subsample=1.0 will be ignored. Current value: bagging_fraction=0.4791782641395437\n",
      "[LightGBM] [Warning] lambda_l1 is set=0.2794132404525471, reg_alpha=0.0 will be ignored. Current value: lambda_l1=0.2794132404525471\n",
      "[LightGBM] [Warning] feature_fraction is set=0.5468592587556474, colsample_bytree=1.0 will be ignored. Current value: feature_fraction=0.5468592587556474\n",
      "[LightGBM] [Warning] lambda_l2 is set=4.945252510107113, reg_lambda=0.0 will be ignored. Current value: lambda_l2=4.945252510107113\n",
      "[LightGBM] [Warning] bagging_freq is set=2, subsample_freq=0 will be ignored. Current value: bagging_freq=2\n",
      "[LightGBM] [Warning] bagging_fraction is set=0.4791782641395437, subsample=1.0 will be ignored. Current value: bagging_fraction=0.4791782641395437\n",
      "[LightGBM] [Warning] lambda_l1 is set=0.2794132404525471, reg_alpha=0.0 will be ignored. Current value: lambda_l1=0.2794132404525471\n",
      "[LightGBM] [Warning] feature_fraction is set=0.5468592587556474, colsample_bytree=1.0 will be ignored. Current value: feature_fraction=0.5468592587556474\n",
      "[LightGBM] [Warning] lambda_l2 is set=4.945252510107113, reg_lambda=0.0 will be ignored. Current value: lambda_l2=4.945252510107113\n",
      "[LightGBM] [Warning] bagging_freq is set=2, subsample_freq=0 will be ignored. Current value: bagging_freq=2\n",
      "[LightGBM] [Warning] bagging_fraction is set=0.4791782641395437, subsample=1.0 will be ignored. Current value: bagging_fraction=0.4791782641395437\n",
      "[LightGBM] [Warning] lambda_l1 is set=0.2794132404525471, reg_alpha=0.0 will be ignored. Current value: lambda_l1=0.2794132404525471\n",
      "[LightGBM] [Warning] feature_fraction is set=0.5468592587556474, colsample_bytree=1.0 will be ignored. Current value: feature_fraction=0.5468592587556474\n",
      "[LightGBM] [Warning] lambda_l2 is set=4.945252510107113, reg_lambda=0.0 will be ignored. Current value: lambda_l2=4.945252510107113\n",
      "[LightGBM] [Warning] bagging_freq is set=2, subsample_freq=0 will be ignored. Current value: bagging_freq=2\n"
     ]
    },
    {
     "name": "stderr",
     "output_type": "stream",
     "text": [
      "\u001b[32m[I 2023-03-15 19:55:58,037]\u001b[0m Trial 53 finished with value: 0.762044142725961 and parameters: {'lambda_l1': 0.2794132404525471, 'lambda_l2': 4.945252510107113, 'num_leaves': 59, 'feature_fraction': 0.5468592587556474, 'bagging_fraction': 0.4791782641395437, 'bagging_freq': 2, 'min_child_samples': 93}. Best is trial 44 with value: 0.7794709742676249.\u001b[0m\n"
     ]
    },
    {
     "name": "stdout",
     "output_type": "stream",
     "text": [
      "[LightGBM] [Warning] bagging_fraction is set=0.4791782641395437, subsample=1.0 will be ignored. Current value: bagging_fraction=0.4791782641395437\n",
      "[LightGBM] [Warning] lambda_l1 is set=0.2794132404525471, reg_alpha=0.0 will be ignored. Current value: lambda_l1=0.2794132404525471\n",
      "[LightGBM] [Warning] feature_fraction is set=0.5468592587556474, colsample_bytree=1.0 will be ignored. Current value: feature_fraction=0.5468592587556474\n",
      "[LightGBM] [Warning] lambda_l2 is set=4.945252510107113, reg_lambda=0.0 will be ignored. Current value: lambda_l2=4.945252510107113\n",
      "[LightGBM] [Warning] bagging_freq is set=2, subsample_freq=0 will be ignored. Current value: bagging_freq=2\n",
      "[LightGBM] [Warning] bagging_fraction is set=0.4001706198564959, subsample=1.0 will be ignored. Current value: bagging_fraction=0.4001706198564959\n",
      "[LightGBM] [Warning] lambda_l1 is set=4.604166502793297, reg_alpha=0.0 will be ignored. Current value: lambda_l1=4.604166502793297\n",
      "[LightGBM] [Warning] feature_fraction is set=0.6290685080533548, colsample_bytree=1.0 will be ignored. Current value: feature_fraction=0.6290685080533548\n",
      "[LightGBM] [Warning] lambda_l2 is set=0.6709476254406367, reg_lambda=0.0 will be ignored. Current value: lambda_l2=0.6709476254406367\n",
      "[LightGBM] [Warning] bagging_freq is set=3, subsample_freq=0 will be ignored. Current value: bagging_freq=3\n",
      "[LightGBM] [Warning] bagging_fraction is set=0.4001706198564959, subsample=1.0 will be ignored. Current value: bagging_fraction=0.4001706198564959\n",
      "[LightGBM] [Warning] lambda_l1 is set=4.604166502793297, reg_alpha=0.0 will be ignored. Current value: lambda_l1=4.604166502793297\n",
      "[LightGBM] [Warning] feature_fraction is set=0.6290685080533548, colsample_bytree=1.0 will be ignored. Current value: feature_fraction=0.6290685080533548\n",
      "[LightGBM] [Warning] lambda_l2 is set=0.6709476254406367, reg_lambda=0.0 will be ignored. Current value: lambda_l2=0.6709476254406367\n",
      "[LightGBM] [Warning] bagging_freq is set=3, subsample_freq=0 will be ignored. Current value: bagging_freq=3\n",
      "[LightGBM] [Warning] bagging_fraction is set=0.4001706198564959, subsample=1.0 will be ignored. Current value: bagging_fraction=0.4001706198564959\n",
      "[LightGBM] [Warning] lambda_l1 is set=4.604166502793297, reg_alpha=0.0 will be ignored. Current value: lambda_l1=4.604166502793297\n",
      "[LightGBM] [Warning] feature_fraction is set=0.6290685080533548, colsample_bytree=1.0 will be ignored. Current value: feature_fraction=0.6290685080533548\n",
      "[LightGBM] [Warning] lambda_l2 is set=0.6709476254406367, reg_lambda=0.0 will be ignored. Current value: lambda_l2=0.6709476254406367\n",
      "[LightGBM] [Warning] bagging_freq is set=3, subsample_freq=0 will be ignored. Current value: bagging_freq=3\n"
     ]
    },
    {
     "name": "stderr",
     "output_type": "stream",
     "text": [
      "\u001b[32m[I 2023-03-15 19:55:58,320]\u001b[0m Trial 54 finished with value: 0.776229399255715 and parameters: {'lambda_l1': 4.604166502793297, 'lambda_l2': 0.6709476254406367, 'num_leaves': 157, 'feature_fraction': 0.6290685080533548, 'bagging_fraction': 0.4001706198564959, 'bagging_freq': 3, 'min_child_samples': 98}. Best is trial 44 with value: 0.7794709742676249.\u001b[0m\n"
     ]
    },
    {
     "name": "stdout",
     "output_type": "stream",
     "text": [
      "[LightGBM] [Warning] bagging_fraction is set=0.4001706198564959, subsample=1.0 will be ignored. Current value: bagging_fraction=0.4001706198564959\n",
      "[LightGBM] [Warning] lambda_l1 is set=4.604166502793297, reg_alpha=0.0 will be ignored. Current value: lambda_l1=4.604166502793297\n",
      "[LightGBM] [Warning] feature_fraction is set=0.6290685080533548, colsample_bytree=1.0 will be ignored. Current value: feature_fraction=0.6290685080533548\n",
      "[LightGBM] [Warning] lambda_l2 is set=0.6709476254406367, reg_lambda=0.0 will be ignored. Current value: lambda_l2=0.6709476254406367\n",
      "[LightGBM] [Warning] bagging_freq is set=3, subsample_freq=0 will be ignored. Current value: bagging_freq=3\n",
      "[LightGBM] [Warning] bagging_fraction is set=0.4001706198564959, subsample=1.0 will be ignored. Current value: bagging_fraction=0.4001706198564959\n",
      "[LightGBM] [Warning] lambda_l1 is set=4.604166502793297, reg_alpha=0.0 will be ignored. Current value: lambda_l1=4.604166502793297\n",
      "[LightGBM] [Warning] feature_fraction is set=0.6290685080533548, colsample_bytree=1.0 will be ignored. Current value: feature_fraction=0.6290685080533548\n",
      "[LightGBM] [Warning] lambda_l2 is set=0.6709476254406367, reg_lambda=0.0 will be ignored. Current value: lambda_l2=0.6709476254406367\n",
      "[LightGBM] [Warning] bagging_freq is set=3, subsample_freq=0 will be ignored. Current value: bagging_freq=3\n",
      "[LightGBM] [Warning] bagging_fraction is set=0.4575141044820871, subsample=1.0 will be ignored. Current value: bagging_fraction=0.4575141044820871\n",
      "[LightGBM] [Warning] lambda_l1 is set=4.79550483553394, reg_alpha=0.0 will be ignored. Current value: lambda_l1=4.79550483553394\n",
      "[LightGBM] [Warning] feature_fraction is set=0.6299809336894411, colsample_bytree=1.0 will be ignored. Current value: feature_fraction=0.6299809336894411\n",
      "[LightGBM] [Warning] lambda_l2 is set=0.5928888231241758, reg_lambda=0.0 will be ignored. Current value: lambda_l2=0.5928888231241758\n",
      "[LightGBM] [Warning] bagging_freq is set=4, subsample_freq=0 will be ignored. Current value: bagging_freq=4\n",
      "[LightGBM] [Warning] bagging_fraction is set=0.4575141044820871, subsample=1.0 will be ignored. Current value: bagging_fraction=0.4575141044820871\n",
      "[LightGBM] [Warning] lambda_l1 is set=4.79550483553394, reg_alpha=0.0 will be ignored. Current value: lambda_l1=4.79550483553394\n",
      "[LightGBM] [Warning] feature_fraction is set=0.6299809336894411, colsample_bytree=1.0 will be ignored. Current value: feature_fraction=0.6299809336894411\n",
      "[LightGBM] [Warning] lambda_l2 is set=0.5928888231241758, reg_lambda=0.0 will be ignored. Current value: lambda_l2=0.5928888231241758\n",
      "[LightGBM] [Warning] bagging_freq is set=4, subsample_freq=0 will be ignored. Current value: bagging_freq=4\n",
      "[LightGBM] [Warning] bagging_fraction is set=0.4575141044820871, subsample=1.0 will be ignored. Current value: bagging_fraction=0.4575141044820871\n",
      "[LightGBM] [Warning] lambda_l1 is set=4.79550483553394, reg_alpha=0.0 will be ignored. Current value: lambda_l1=4.79550483553394\n",
      "[LightGBM] [Warning] feature_fraction is set=0.6299809336894411, colsample_bytree=1.0 will be ignored. Current value: feature_fraction=0.6299809336894411\n",
      "[LightGBM] [Warning] lambda_l2 is set=0.5928888231241758, reg_lambda=0.0 will be ignored. Current value: lambda_l2=0.5928888231241758\n",
      "[LightGBM] [Warning] bagging_freq is set=4, subsample_freq=0 will be ignored. Current value: bagging_freq=4\n",
      "[LightGBM] [Warning] bagging_fraction is set=0.4575141044820871, subsample=1.0 will be ignored. Current value: bagging_fraction=0.4575141044820871\n",
      "[LightGBM] [Warning] lambda_l1 is set=4.79550483553394, reg_alpha=0.0 will be ignored. Current value: lambda_l1=4.79550483553394\n",
      "[LightGBM] [Warning] feature_fraction is set=0.6299809336894411, colsample_bytree=1.0 will be ignored. Current value: feature_fraction=0.6299809336894411\n",
      "[LightGBM] [Warning] lambda_l2 is set=0.5928888231241758, reg_lambda=0.0 will be ignored. Current value: lambda_l2=0.5928888231241758\n",
      "[LightGBM] [Warning] bagging_freq is set=4, subsample_freq=0 will be ignored. Current value: bagging_freq=4\n"
     ]
    },
    {
     "name": "stderr",
     "output_type": "stream",
     "text": [
      "\u001b[32m[I 2023-03-15 19:55:58,863]\u001b[0m Trial 55 finished with value: 0.7519733389948702 and parameters: {'lambda_l1': 4.79550483553394, 'lambda_l2': 0.5928888231241758, 'num_leaves': 151, 'feature_fraction': 0.6299809336894411, 'bagging_fraction': 0.4575141044820871, 'bagging_freq': 4, 'min_child_samples': 15}. Best is trial 44 with value: 0.7794709742676249.\u001b[0m\n"
     ]
    },
    {
     "name": "stdout",
     "output_type": "stream",
     "text": [
      "[LightGBM] [Warning] bagging_fraction is set=0.4575141044820871, subsample=1.0 will be ignored. Current value: bagging_fraction=0.4575141044820871\n",
      "[LightGBM] [Warning] lambda_l1 is set=4.79550483553394, reg_alpha=0.0 will be ignored. Current value: lambda_l1=4.79550483553394\n",
      "[LightGBM] [Warning] feature_fraction is set=0.6299809336894411, colsample_bytree=1.0 will be ignored. Current value: feature_fraction=0.6299809336894411\n",
      "[LightGBM] [Warning] lambda_l2 is set=0.5928888231241758, reg_lambda=0.0 will be ignored. Current value: lambda_l2=0.5928888231241758\n",
      "[LightGBM] [Warning] bagging_freq is set=4, subsample_freq=0 will be ignored. Current value: bagging_freq=4\n",
      "[LightGBM] [Warning] bagging_fraction is set=0.4176847158990964, subsample=1.0 will be ignored. Current value: bagging_fraction=0.4176847158990964\n",
      "[LightGBM] [Warning] lambda_l1 is set=0.638672758554968, reg_alpha=0.0 will be ignored. Current value: lambda_l1=0.638672758554968\n",
      "[LightGBM] [Warning] feature_fraction is set=0.7070682073946101, colsample_bytree=1.0 will be ignored. Current value: feature_fraction=0.7070682073946101\n",
      "[LightGBM] [Warning] lambda_l2 is set=1.2951935428884085, reg_lambda=0.0 will be ignored. Current value: lambda_l2=1.2951935428884085\n",
      "[LightGBM] [Warning] bagging_freq is set=3, subsample_freq=0 will be ignored. Current value: bagging_freq=3\n",
      "[LightGBM] [Warning] bagging_fraction is set=0.4176847158990964, subsample=1.0 will be ignored. Current value: bagging_fraction=0.4176847158990964\n",
      "[LightGBM] [Warning] lambda_l1 is set=0.638672758554968, reg_alpha=0.0 will be ignored. Current value: lambda_l1=0.638672758554968\n",
      "[LightGBM] [Warning] feature_fraction is set=0.7070682073946101, colsample_bytree=1.0 will be ignored. Current value: feature_fraction=0.7070682073946101\n",
      "[LightGBM] [Warning] lambda_l2 is set=1.2951935428884085, reg_lambda=0.0 will be ignored. Current value: lambda_l2=1.2951935428884085\n",
      "[LightGBM] [Warning] bagging_freq is set=3, subsample_freq=0 will be ignored. Current value: bagging_freq=3\n"
     ]
    },
    {
     "name": "stderr",
     "output_type": "stream",
     "text": [
      "\u001b[32m[I 2023-03-15 19:55:59,183]\u001b[0m Trial 56 finished with value: 0.7618206155885581 and parameters: {'lambda_l1': 0.638672758554968, 'lambda_l2': 1.2951935428884085, 'num_leaves': 158, 'feature_fraction': 0.7070682073946101, 'bagging_fraction': 0.4176847158990964, 'bagging_freq': 3, 'min_child_samples': 86}. Best is trial 44 with value: 0.7794709742676249.\u001b[0m\n"
     ]
    },
    {
     "name": "stdout",
     "output_type": "stream",
     "text": [
      "[LightGBM] [Warning] bagging_fraction is set=0.4176847158990964, subsample=1.0 will be ignored. Current value: bagging_fraction=0.4176847158990964\n",
      "[LightGBM] [Warning] lambda_l1 is set=0.638672758554968, reg_alpha=0.0 will be ignored. Current value: lambda_l1=0.638672758554968\n",
      "[LightGBM] [Warning] feature_fraction is set=0.7070682073946101, colsample_bytree=1.0 will be ignored. Current value: feature_fraction=0.7070682073946101\n",
      "[LightGBM] [Warning] lambda_l2 is set=1.2951935428884085, reg_lambda=0.0 will be ignored. Current value: lambda_l2=1.2951935428884085\n",
      "[LightGBM] [Warning] bagging_freq is set=3, subsample_freq=0 will be ignored. Current value: bagging_freq=3\n",
      "[LightGBM] [Warning] bagging_fraction is set=0.4176847158990964, subsample=1.0 will be ignored. Current value: bagging_fraction=0.4176847158990964\n",
      "[LightGBM] [Warning] lambda_l1 is set=0.638672758554968, reg_alpha=0.0 will be ignored. Current value: lambda_l1=0.638672758554968\n",
      "[LightGBM] [Warning] feature_fraction is set=0.7070682073946101, colsample_bytree=1.0 will be ignored. Current value: feature_fraction=0.7070682073946101\n",
      "[LightGBM] [Warning] lambda_l2 is set=1.2951935428884085, reg_lambda=0.0 will be ignored. Current value: lambda_l2=1.2951935428884085\n",
      "[LightGBM] [Warning] bagging_freq is set=3, subsample_freq=0 will be ignored. Current value: bagging_freq=3\n",
      "[LightGBM] [Warning] bagging_fraction is set=0.4176847158990964, subsample=1.0 will be ignored. Current value: bagging_fraction=0.4176847158990964\n",
      "[LightGBM] [Warning] lambda_l1 is set=0.638672758554968, reg_alpha=0.0 will be ignored. Current value: lambda_l1=0.638672758554968\n",
      "[LightGBM] [Warning] feature_fraction is set=0.7070682073946101, colsample_bytree=1.0 will be ignored. Current value: feature_fraction=0.7070682073946101\n",
      "[LightGBM] [Warning] lambda_l2 is set=1.2951935428884085, reg_lambda=0.0 will be ignored. Current value: lambda_l2=1.2951935428884085\n",
      "[LightGBM] [Warning] bagging_freq is set=3, subsample_freq=0 will be ignored. Current value: bagging_freq=3\n",
      "[LightGBM] [Warning] bagging_fraction is set=0.4615158918305049, subsample=1.0 will be ignored. Current value: bagging_fraction=0.4615158918305049\n",
      "[LightGBM] [Warning] lambda_l1 is set=4.620493757890624, reg_alpha=0.0 will be ignored. Current value: lambda_l1=4.620493757890624\n",
      "[LightGBM] [Warning] feature_fraction is set=0.6518128653224756, colsample_bytree=1.0 will be ignored. Current value: feature_fraction=0.6518128653224756\n",
      "[LightGBM] [Warning] lambda_l2 is set=0.33457712944595386, reg_lambda=0.0 will be ignored. Current value: lambda_l2=0.33457712944595386\n",
      "[LightGBM] [Warning] bagging_freq is set=5, subsample_freq=0 will be ignored. Current value: bagging_freq=5\n",
      "[LightGBM] [Warning] bagging_fraction is set=0.4615158918305049, subsample=1.0 will be ignored. Current value: bagging_fraction=0.4615158918305049\n",
      "[LightGBM] [Warning] lambda_l1 is set=4.620493757890624, reg_alpha=0.0 will be ignored. Current value: lambda_l1=4.620493757890624\n",
      "[LightGBM] [Warning] feature_fraction is set=0.6518128653224756, colsample_bytree=1.0 will be ignored. Current value: feature_fraction=0.6518128653224756\n",
      "[LightGBM] [Warning] lambda_l2 is set=0.33457712944595386, reg_lambda=0.0 will be ignored. Current value: lambda_l2=0.33457712944595386\n",
      "[LightGBM] [Warning] bagging_freq is set=5, subsample_freq=0 will be ignored. Current value: bagging_freq=5\n",
      "[LightGBM] [Warning] bagging_fraction is set=0.4615158918305049, subsample=1.0 will be ignored. Current value: bagging_fraction=0.4615158918305049\n",
      "[LightGBM] [Warning] lambda_l1 is set=4.620493757890624, reg_alpha=0.0 will be ignored. Current value: lambda_l1=4.620493757890624\n",
      "[LightGBM] [Warning] feature_fraction is set=0.6518128653224756, colsample_bytree=1.0 will be ignored. Current value: feature_fraction=0.6518128653224756\n",
      "[LightGBM] [Warning] lambda_l2 is set=0.33457712944595386, reg_lambda=0.0 will be ignored. Current value: lambda_l2=0.33457712944595386\n",
      "[LightGBM] [Warning] bagging_freq is set=5, subsample_freq=0 will be ignored. Current value: bagging_freq=5\n",
      "[LightGBM] [Warning] bagging_fraction is set=0.4615158918305049, subsample=1.0 will be ignored. Current value: bagging_fraction=0.4615158918305049\n",
      "[LightGBM] [Warning] lambda_l1 is set=4.620493757890624, reg_alpha=0.0 will be ignored. Current value: lambda_l1=4.620493757890624\n",
      "[LightGBM] [Warning] feature_fraction is set=0.6518128653224756, colsample_bytree=1.0 will be ignored. Current value: feature_fraction=0.6518128653224756\n",
      "[LightGBM] [Warning] lambda_l2 is set=0.33457712944595386, reg_lambda=0.0 will be ignored. Current value: lambda_l2=0.33457712944595386\n",
      "[LightGBM] [Warning] bagging_freq is set=5, subsample_freq=0 will be ignored. Current value: bagging_freq=5\n"
     ]
    },
    {
     "name": "stderr",
     "output_type": "stream",
     "text": [
      "\u001b[32m[I 2023-03-15 19:55:59,497]\u001b[0m Trial 57 finished with value: 0.7707665341038548 and parameters: {'lambda_l1': 4.620493757890624, 'lambda_l2': 0.33457712944595386, 'num_leaves': 188, 'feature_fraction': 0.6518128653224756, 'bagging_fraction': 0.4615158918305049, 'bagging_freq': 5, 'min_child_samples': 93}. Best is trial 44 with value: 0.7794709742676249.\u001b[0m\n"
     ]
    },
    {
     "name": "stdout",
     "output_type": "stream",
     "text": [
      "[LightGBM] [Warning] bagging_fraction is set=0.4615158918305049, subsample=1.0 will be ignored. Current value: bagging_fraction=0.4615158918305049\n",
      "[LightGBM] [Warning] lambda_l1 is set=4.620493757890624, reg_alpha=0.0 will be ignored. Current value: lambda_l1=4.620493757890624\n",
      "[LightGBM] [Warning] feature_fraction is set=0.6518128653224756, colsample_bytree=1.0 will be ignored. Current value: feature_fraction=0.6518128653224756\n",
      "[LightGBM] [Warning] lambda_l2 is set=0.33457712944595386, reg_lambda=0.0 will be ignored. Current value: lambda_l2=0.33457712944595386\n",
      "[LightGBM] [Warning] bagging_freq is set=5, subsample_freq=0 will be ignored. Current value: bagging_freq=5\n",
      "[LightGBM] [Warning] bagging_fraction is set=0.49052831106050143, subsample=1.0 will be ignored. Current value: bagging_fraction=0.49052831106050143\n",
      "[LightGBM] [Warning] lambda_l1 is set=2.0456484430536728, reg_alpha=0.0 will be ignored. Current value: lambda_l1=2.0456484430536728\n",
      "[LightGBM] [Warning] feature_fraction is set=0.40094558247153933, colsample_bytree=1.0 will be ignored. Current value: feature_fraction=0.40094558247153933\n",
      "[LightGBM] [Warning] lambda_l2 is set=1.6799687619206554, reg_lambda=0.0 will be ignored. Current value: lambda_l2=1.6799687619206554\n",
      "[LightGBM] [Warning] bagging_freq is set=7, subsample_freq=0 will be ignored. Current value: bagging_freq=7\n",
      "[LightGBM] [Warning] bagging_fraction is set=0.49052831106050143, subsample=1.0 will be ignored. Current value: bagging_fraction=0.49052831106050143\n",
      "[LightGBM] [Warning] lambda_l1 is set=2.0456484430536728, reg_alpha=0.0 will be ignored. Current value: lambda_l1=2.0456484430536728\n",
      "[LightGBM] [Warning] feature_fraction is set=0.40094558247153933, colsample_bytree=1.0 will be ignored. Current value: feature_fraction=0.40094558247153933\n",
      "[LightGBM] [Warning] lambda_l2 is set=1.6799687619206554, reg_lambda=0.0 will be ignored. Current value: lambda_l2=1.6799687619206554\n",
      "[LightGBM] [Warning] bagging_freq is set=7, subsample_freq=0 will be ignored. Current value: bagging_freq=7\n",
      "[LightGBM] [Warning] bagging_fraction is set=0.49052831106050143, subsample=1.0 will be ignored. Current value: bagging_fraction=0.49052831106050143\n",
      "[LightGBM] [Warning] lambda_l1 is set=2.0456484430536728, reg_alpha=0.0 will be ignored. Current value: lambda_l1=2.0456484430536728\n",
      "[LightGBM] [Warning] feature_fraction is set=0.40094558247153933, colsample_bytree=1.0 will be ignored. Current value: feature_fraction=0.40094558247153933\n",
      "[LightGBM] [Warning] lambda_l2 is set=1.6799687619206554, reg_lambda=0.0 will be ignored. Current value: lambda_l2=1.6799687619206554\n",
      "[LightGBM] [Warning] bagging_freq is set=7, subsample_freq=0 will be ignored. Current value: bagging_freq=7\n"
     ]
    },
    {
     "name": "stderr",
     "output_type": "stream",
     "text": [
      "\u001b[32m[I 2023-03-15 19:55:59,775]\u001b[0m Trial 58 finished with value: 0.7697520315941369 and parameters: {'lambda_l1': 2.0456484430536728, 'lambda_l2': 1.6799687619206554, 'num_leaves': 174, 'feature_fraction': 0.40094558247153933, 'bagging_fraction': 0.49052831106050143, 'bagging_freq': 7, 'min_child_samples': 98}. Best is trial 44 with value: 0.7794709742676249.\u001b[0m\n"
     ]
    },
    {
     "name": "stdout",
     "output_type": "stream",
     "text": [
      "[LightGBM] [Warning] bagging_fraction is set=0.49052831106050143, subsample=1.0 will be ignored. Current value: bagging_fraction=0.49052831106050143\n",
      "[LightGBM] [Warning] lambda_l1 is set=2.0456484430536728, reg_alpha=0.0 will be ignored. Current value: lambda_l1=2.0456484430536728\n",
      "[LightGBM] [Warning] feature_fraction is set=0.40094558247153933, colsample_bytree=1.0 will be ignored. Current value: feature_fraction=0.40094558247153933\n",
      "[LightGBM] [Warning] lambda_l2 is set=1.6799687619206554, reg_lambda=0.0 will be ignored. Current value: lambda_l2=1.6799687619206554\n",
      "[LightGBM] [Warning] bagging_freq is set=7, subsample_freq=0 will be ignored. Current value: bagging_freq=7\n",
      "[LightGBM] [Warning] bagging_fraction is set=0.49052831106050143, subsample=1.0 will be ignored. Current value: bagging_fraction=0.49052831106050143\n",
      "[LightGBM] [Warning] lambda_l1 is set=2.0456484430536728, reg_alpha=0.0 will be ignored. Current value: lambda_l1=2.0456484430536728\n",
      "[LightGBM] [Warning] feature_fraction is set=0.40094558247153933, colsample_bytree=1.0 will be ignored. Current value: feature_fraction=0.40094558247153933\n",
      "[LightGBM] [Warning] lambda_l2 is set=1.6799687619206554, reg_lambda=0.0 will be ignored. Current value: lambda_l2=1.6799687619206554\n",
      "[LightGBM] [Warning] bagging_freq is set=7, subsample_freq=0 will be ignored. Current value: bagging_freq=7\n",
      "[LightGBM] [Warning] bagging_fraction is set=0.4215814973523705, subsample=1.0 will be ignored. Current value: bagging_fraction=0.4215814973523705\n",
      "[LightGBM] [Warning] lambda_l1 is set=0.9371359897650698, reg_alpha=0.0 will be ignored. Current value: lambda_l1=0.9371359897650698\n",
      "[LightGBM] [Warning] feature_fraction is set=0.5945556860742928, colsample_bytree=1.0 will be ignored. Current value: feature_fraction=0.5945556860742928\n",
      "[LightGBM] [Warning] lambda_l2 is set=5.455413050601203, reg_lambda=0.0 will be ignored. Current value: lambda_l2=5.455413050601203\n",
      "[LightGBM] [Warning] bagging_freq is set=2, subsample_freq=0 will be ignored. Current value: bagging_freq=2\n",
      "[LightGBM] [Warning] bagging_fraction is set=0.4215814973523705, subsample=1.0 will be ignored. Current value: bagging_fraction=0.4215814973523705\n",
      "[LightGBM] [Warning] lambda_l1 is set=0.9371359897650698, reg_alpha=0.0 will be ignored. Current value: lambda_l1=0.9371359897650698\n",
      "[LightGBM] [Warning] feature_fraction is set=0.5945556860742928, colsample_bytree=1.0 will be ignored. Current value: feature_fraction=0.5945556860742928\n",
      "[LightGBM] [Warning] lambda_l2 is set=5.455413050601203, reg_lambda=0.0 will be ignored. Current value: lambda_l2=5.455413050601203\n",
      "[LightGBM] [Warning] bagging_freq is set=2, subsample_freq=0 will be ignored. Current value: bagging_freq=2\n"
     ]
    },
    {
     "name": "stderr",
     "output_type": "stream",
     "text": [
      "\u001b[32m[I 2023-03-15 19:56:00,084]\u001b[0m Trial 59 finished with value: 0.7614303492892011 and parameters: {'lambda_l1': 0.9371359897650698, 'lambda_l2': 5.455413050601203, 'num_leaves': 118, 'feature_fraction': 0.5945556860742928, 'bagging_fraction': 0.4215814973523705, 'bagging_freq': 2, 'min_child_samples': 84}. Best is trial 44 with value: 0.7794709742676249.\u001b[0m\n"
     ]
    },
    {
     "name": "stdout",
     "output_type": "stream",
     "text": [
      "[LightGBM] [Warning] bagging_fraction is set=0.4215814973523705, subsample=1.0 will be ignored. Current value: bagging_fraction=0.4215814973523705\n",
      "[LightGBM] [Warning] lambda_l1 is set=0.9371359897650698, reg_alpha=0.0 will be ignored. Current value: lambda_l1=0.9371359897650698\n",
      "[LightGBM] [Warning] feature_fraction is set=0.5945556860742928, colsample_bytree=1.0 will be ignored. Current value: feature_fraction=0.5945556860742928\n",
      "[LightGBM] [Warning] lambda_l2 is set=5.455413050601203, reg_lambda=0.0 will be ignored. Current value: lambda_l2=5.455413050601203\n",
      "[LightGBM] [Warning] bagging_freq is set=2, subsample_freq=0 will be ignored. Current value: bagging_freq=2\n",
      "[LightGBM] [Warning] bagging_fraction is set=0.4215814973523705, subsample=1.0 will be ignored. Current value: bagging_fraction=0.4215814973523705\n",
      "[LightGBM] [Warning] lambda_l1 is set=0.9371359897650698, reg_alpha=0.0 will be ignored. Current value: lambda_l1=0.9371359897650698\n",
      "[LightGBM] [Warning] feature_fraction is set=0.5945556860742928, colsample_bytree=1.0 will be ignored. Current value: feature_fraction=0.5945556860742928\n",
      "[LightGBM] [Warning] lambda_l2 is set=5.455413050601203, reg_lambda=0.0 will be ignored. Current value: lambda_l2=5.455413050601203\n",
      "[LightGBM] [Warning] bagging_freq is set=2, subsample_freq=0 will be ignored. Current value: bagging_freq=2\n",
      "[LightGBM] [Warning] bagging_fraction is set=0.4215814973523705, subsample=1.0 will be ignored. Current value: bagging_fraction=0.4215814973523705\n",
      "[LightGBM] [Warning] lambda_l1 is set=0.9371359897650698, reg_alpha=0.0 will be ignored. Current value: lambda_l1=0.9371359897650698\n",
      "[LightGBM] [Warning] feature_fraction is set=0.5945556860742928, colsample_bytree=1.0 will be ignored. Current value: feature_fraction=0.5945556860742928\n",
      "[LightGBM] [Warning] lambda_l2 is set=5.455413050601203, reg_lambda=0.0 will be ignored. Current value: lambda_l2=5.455413050601203\n",
      "[LightGBM] [Warning] bagging_freq is set=2, subsample_freq=0 will be ignored. Current value: bagging_freq=2\n",
      "[LightGBM] [Warning] bagging_fraction is set=0.40095103635577783, subsample=1.0 will be ignored. Current value: bagging_fraction=0.40095103635577783\n",
      "[LightGBM] [Warning] lambda_l1 is set=5.238793511709803, reg_alpha=0.0 will be ignored. Current value: lambda_l1=5.238793511709803\n",
      "[LightGBM] [Warning] feature_fraction is set=0.6286278731921081, colsample_bytree=1.0 will be ignored. Current value: feature_fraction=0.6286278731921081\n",
      "[LightGBM] [Warning] lambda_l2 is set=0.08253584370724337, reg_lambda=0.0 will be ignored. Current value: lambda_l2=0.08253584370724337\n",
      "[LightGBM] [Warning] bagging_freq is set=4, subsample_freq=0 will be ignored. Current value: bagging_freq=4\n",
      "[LightGBM] [Warning] bagging_fraction is set=0.40095103635577783, subsample=1.0 will be ignored. Current value: bagging_fraction=0.40095103635577783\n",
      "[LightGBM] [Warning] lambda_l1 is set=5.238793511709803, reg_alpha=0.0 will be ignored. Current value: lambda_l1=5.238793511709803\n",
      "[LightGBM] [Warning] feature_fraction is set=0.6286278731921081, colsample_bytree=1.0 will be ignored. Current value: feature_fraction=0.6286278731921081\n",
      "[LightGBM] [Warning] lambda_l2 is set=0.08253584370724337, reg_lambda=0.0 will be ignored. Current value: lambda_l2=0.08253584370724337\n",
      "[LightGBM] [Warning] bagging_freq is set=4, subsample_freq=0 will be ignored. Current value: bagging_freq=4\n",
      "[LightGBM] [Warning] bagging_fraction is set=0.40095103635577783, subsample=1.0 will be ignored. Current value: bagging_fraction=0.40095103635577783\n",
      "[LightGBM] [Warning] lambda_l1 is set=5.238793511709803, reg_alpha=0.0 will be ignored. Current value: lambda_l1=5.238793511709803\n",
      "[LightGBM] [Warning] feature_fraction is set=0.6286278731921081, colsample_bytree=1.0 will be ignored. Current value: feature_fraction=0.6286278731921081\n",
      "[LightGBM] [Warning] lambda_l2 is set=0.08253584370724337, reg_lambda=0.0 will be ignored. Current value: lambda_l2=0.08253584370724337\n",
      "[LightGBM] [Warning] bagging_freq is set=4, subsample_freq=0 will be ignored. Current value: bagging_freq=4\n",
      "[LightGBM] [Warning] bagging_fraction is set=0.40095103635577783, subsample=1.0 will be ignored. Current value: bagging_fraction=0.40095103635577783\n",
      "[LightGBM] [Warning] lambda_l1 is set=5.238793511709803, reg_alpha=0.0 will be ignored. Current value: lambda_l1=5.238793511709803\n",
      "[LightGBM] [Warning] feature_fraction is set=0.6286278731921081, colsample_bytree=1.0 will be ignored. Current value: feature_fraction=0.6286278731921081\n",
      "[LightGBM] [Warning] lambda_l2 is set=0.08253584370724337, reg_lambda=0.0 will be ignored. Current value: lambda_l2=0.08253584370724337\n",
      "[LightGBM] [Warning] bagging_freq is set=4, subsample_freq=0 will be ignored. Current value: bagging_freq=4\n",
      "[LightGBM] [Warning] bagging_fraction is set=0.40095103635577783, subsample=1.0 will be ignored. Current value: bagging_fraction=0.40095103635577783\n",
      "[LightGBM] [Warning] lambda_l1 is set=5.238793511709803, reg_alpha=0.0 will be ignored. Current value: lambda_l1=5.238793511709803\n",
      "[LightGBM] [Warning] feature_fraction is set=0.6286278731921081, colsample_bytree=1.0 will be ignored. Current value: feature_fraction=0.6286278731921081\n",
      "[LightGBM] [Warning] lambda_l2 is set=0.08253584370724337, reg_lambda=0.0 will be ignored. Current value: lambda_l2=0.08253584370724337\n",
      "[LightGBM] [Warning] bagging_freq is set=4, subsample_freq=0 will be ignored. Current value: bagging_freq=4\n"
     ]
    },
    {
     "name": "stderr",
     "output_type": "stream",
     "text": [
      "\u001b[32m[I 2023-03-15 19:56:00,431]\u001b[0m Trial 60 finished with value: 0.7595240684355516 and parameters: {'lambda_l1': 5.238793511709803, 'lambda_l2': 0.08253584370724337, 'num_leaves': 163, 'feature_fraction': 0.6286278731921081, 'bagging_fraction': 0.40095103635577783, 'bagging_freq': 4, 'min_child_samples': 49}. Best is trial 44 with value: 0.7794709742676249.\u001b[0m\n"
     ]
    },
    {
     "name": "stdout",
     "output_type": "stream",
     "text": [
      "[LightGBM] [Warning] bagging_fraction is set=0.4417869278315539, subsample=1.0 will be ignored. Current value: bagging_fraction=0.4417869278315539\n",
      "[LightGBM] [Warning] lambda_l1 is set=1.9994810804637138, reg_alpha=0.0 will be ignored. Current value: lambda_l1=1.9994810804637138\n",
      "[LightGBM] [Warning] feature_fraction is set=0.5879278410699544, colsample_bytree=1.0 will be ignored. Current value: feature_fraction=0.5879278410699544\n",
      "[LightGBM] [Warning] lambda_l2 is set=5.651409412073777, reg_lambda=0.0 will be ignored. Current value: lambda_l2=5.651409412073777\n",
      "[LightGBM] [Warning] bagging_freq is set=3, subsample_freq=0 will be ignored. Current value: bagging_freq=3\n",
      "[LightGBM] [Warning] bagging_fraction is set=0.4417869278315539, subsample=1.0 will be ignored. Current value: bagging_fraction=0.4417869278315539\n",
      "[LightGBM] [Warning] lambda_l1 is set=1.9994810804637138, reg_alpha=0.0 will be ignored. Current value: lambda_l1=1.9994810804637138\n",
      "[LightGBM] [Warning] feature_fraction is set=0.5879278410699544, colsample_bytree=1.0 will be ignored. Current value: feature_fraction=0.5879278410699544\n",
      "[LightGBM] [Warning] lambda_l2 is set=5.651409412073777, reg_lambda=0.0 will be ignored. Current value: lambda_l2=5.651409412073777\n",
      "[LightGBM] [Warning] bagging_freq is set=3, subsample_freq=0 will be ignored. Current value: bagging_freq=3\n",
      "[LightGBM] [Warning] bagging_fraction is set=0.4417869278315539, subsample=1.0 will be ignored. Current value: bagging_fraction=0.4417869278315539\n",
      "[LightGBM] [Warning] lambda_l1 is set=1.9994810804637138, reg_alpha=0.0 will be ignored. Current value: lambda_l1=1.9994810804637138\n",
      "[LightGBM] [Warning] feature_fraction is set=0.5879278410699544, colsample_bytree=1.0 will be ignored. Current value: feature_fraction=0.5879278410699544\n",
      "[LightGBM] [Warning] lambda_l2 is set=5.651409412073777, reg_lambda=0.0 will be ignored. Current value: lambda_l2=5.651409412073777\n",
      "[LightGBM] [Warning] bagging_freq is set=3, subsample_freq=0 will be ignored. Current value: bagging_freq=3\n",
      "[LightGBM] [Warning] bagging_fraction is set=0.4417869278315539, subsample=1.0 will be ignored. Current value: bagging_fraction=0.4417869278315539\n",
      "[LightGBM] [Warning] lambda_l1 is set=1.9994810804637138, reg_alpha=0.0 will be ignored. Current value: lambda_l1=1.9994810804637138\n",
      "[LightGBM] [Warning] feature_fraction is set=0.5879278410699544, colsample_bytree=1.0 will be ignored. Current value: feature_fraction=0.5879278410699544\n",
      "[LightGBM] [Warning] lambda_l2 is set=5.651409412073777, reg_lambda=0.0 will be ignored. Current value: lambda_l2=5.651409412073777\n",
      "[LightGBM] [Warning] bagging_freq is set=3, subsample_freq=0 will be ignored. Current value: bagging_freq=3\n"
     ]
    },
    {
     "name": "stderr",
     "output_type": "stream",
     "text": [
      "\u001b[32m[I 2023-03-15 19:56:00,731]\u001b[0m Trial 61 finished with value: 0.7738753736959478 and parameters: {'lambda_l1': 1.9994810804637138, 'lambda_l2': 5.651409412073777, 'num_leaves': 50, 'feature_fraction': 0.5879278410699544, 'bagging_fraction': 0.4417869278315539, 'bagging_freq': 3, 'min_child_samples': 97}. Best is trial 44 with value: 0.7794709742676249.\u001b[0m\n"
     ]
    },
    {
     "name": "stdout",
     "output_type": "stream",
     "text": [
      "[LightGBM] [Warning] bagging_fraction is set=0.4417869278315539, subsample=1.0 will be ignored. Current value: bagging_fraction=0.4417869278315539\n",
      "[LightGBM] [Warning] lambda_l1 is set=1.9994810804637138, reg_alpha=0.0 will be ignored. Current value: lambda_l1=1.9994810804637138\n",
      "[LightGBM] [Warning] feature_fraction is set=0.5879278410699544, colsample_bytree=1.0 will be ignored. Current value: feature_fraction=0.5879278410699544\n",
      "[LightGBM] [Warning] lambda_l2 is set=5.651409412073777, reg_lambda=0.0 will be ignored. Current value: lambda_l2=5.651409412073777\n",
      "[LightGBM] [Warning] bagging_freq is set=3, subsample_freq=0 will be ignored. Current value: bagging_freq=3\n",
      "[LightGBM] [Warning] bagging_fraction is set=0.4013740644347293, subsample=1.0 will be ignored. Current value: bagging_fraction=0.4013740644347293\n",
      "[LightGBM] [Warning] lambda_l1 is set=9.25460943999764, reg_alpha=0.0 will be ignored. Current value: lambda_l1=9.25460943999764\n",
      "[LightGBM] [Warning] feature_fraction is set=0.56329562301042, colsample_bytree=1.0 will be ignored. Current value: feature_fraction=0.56329562301042\n",
      "[LightGBM] [Warning] lambda_l2 is set=2.178249332211151, reg_lambda=0.0 will be ignored. Current value: lambda_l2=2.178249332211151\n",
      "[LightGBM] [Warning] bagging_freq is set=3, subsample_freq=0 will be ignored. Current value: bagging_freq=3\n",
      "[LightGBM] [Warning] bagging_fraction is set=0.4013740644347293, subsample=1.0 will be ignored. Current value: bagging_fraction=0.4013740644347293\n",
      "[LightGBM] [Warning] lambda_l1 is set=9.25460943999764, reg_alpha=0.0 will be ignored. Current value: lambda_l1=9.25460943999764\n",
      "[LightGBM] [Warning] feature_fraction is set=0.56329562301042, colsample_bytree=1.0 will be ignored. Current value: feature_fraction=0.56329562301042\n",
      "[LightGBM] [Warning] lambda_l2 is set=2.178249332211151, reg_lambda=0.0 will be ignored. Current value: lambda_l2=2.178249332211151\n",
      "[LightGBM] [Warning] bagging_freq is set=3, subsample_freq=0 will be ignored. Current value: bagging_freq=3\n",
      "[LightGBM] [Warning] bagging_fraction is set=0.4013740644347293, subsample=1.0 will be ignored. Current value: bagging_fraction=0.4013740644347293\n",
      "[LightGBM] [Warning] lambda_l1 is set=9.25460943999764, reg_alpha=0.0 will be ignored. Current value: lambda_l1=9.25460943999764\n",
      "[LightGBM] [Warning] feature_fraction is set=0.56329562301042, colsample_bytree=1.0 will be ignored. Current value: feature_fraction=0.56329562301042\n",
      "[LightGBM] [Warning] lambda_l2 is set=2.178249332211151, reg_lambda=0.0 will be ignored. Current value: lambda_l2=2.178249332211151\n",
      "[LightGBM] [Warning] bagging_freq is set=3, subsample_freq=0 will be ignored. Current value: bagging_freq=3\n"
     ]
    },
    {
     "name": "stderr",
     "output_type": "stream",
     "text": [
      "\u001b[32m[I 2023-03-15 19:56:00,991]\u001b[0m Trial 62 finished with value: 0.7824044443063581 and parameters: {'lambda_l1': 9.25460943999764, 'lambda_l2': 2.178249332211151, 'num_leaves': 38, 'feature_fraction': 0.56329562301042, 'bagging_fraction': 0.4013740644347293, 'bagging_freq': 3, 'min_child_samples': 90}. Best is trial 62 with value: 0.7824044443063581.\u001b[0m\n"
     ]
    },
    {
     "name": "stdout",
     "output_type": "stream",
     "text": [
      "[LightGBM] [Warning] bagging_fraction is set=0.4013740644347293, subsample=1.0 will be ignored. Current value: bagging_fraction=0.4013740644347293\n",
      "[LightGBM] [Warning] lambda_l1 is set=9.25460943999764, reg_alpha=0.0 will be ignored. Current value: lambda_l1=9.25460943999764\n",
      "[LightGBM] [Warning] feature_fraction is set=0.56329562301042, colsample_bytree=1.0 will be ignored. Current value: feature_fraction=0.56329562301042\n",
      "[LightGBM] [Warning] lambda_l2 is set=2.178249332211151, reg_lambda=0.0 will be ignored. Current value: lambda_l2=2.178249332211151\n",
      "[LightGBM] [Warning] bagging_freq is set=3, subsample_freq=0 will be ignored. Current value: bagging_freq=3\n",
      "[LightGBM] [Warning] bagging_fraction is set=0.4013740644347293, subsample=1.0 will be ignored. Current value: bagging_fraction=0.4013740644347293\n",
      "[LightGBM] [Warning] lambda_l1 is set=9.25460943999764, reg_alpha=0.0 will be ignored. Current value: lambda_l1=9.25460943999764\n",
      "[LightGBM] [Warning] feature_fraction is set=0.56329562301042, colsample_bytree=1.0 will be ignored. Current value: feature_fraction=0.56329562301042\n",
      "[LightGBM] [Warning] lambda_l2 is set=2.178249332211151, reg_lambda=0.0 will be ignored. Current value: lambda_l2=2.178249332211151\n",
      "[LightGBM] [Warning] bagging_freq is set=3, subsample_freq=0 will be ignored. Current value: bagging_freq=3\n",
      "[LightGBM] [Warning] bagging_fraction is set=0.43085972093167446, subsample=1.0 will be ignored. Current value: bagging_fraction=0.43085972093167446\n",
      "[LightGBM] [Warning] lambda_l1 is set=7.799910714539653, reg_alpha=0.0 will be ignored. Current value: lambda_l1=7.799910714539653\n",
      "[LightGBM] [Warning] feature_fraction is set=0.5602319640444355, colsample_bytree=1.0 will be ignored. Current value: feature_fraction=0.5602319640444355\n",
      "[LightGBM] [Warning] lambda_l2 is set=0.8881992812813099, reg_lambda=0.0 will be ignored. Current value: lambda_l2=0.8881992812813099\n",
      "[LightGBM] [Warning] bagging_freq is set=3, subsample_freq=0 will be ignored. Current value: bagging_freq=3\n",
      "[LightGBM] [Warning] bagging_fraction is set=0.43085972093167446, subsample=1.0 will be ignored. Current value: bagging_fraction=0.43085972093167446\n",
      "[LightGBM] [Warning] lambda_l1 is set=7.799910714539653, reg_alpha=0.0 will be ignored. Current value: lambda_l1=7.799910714539653\n",
      "[LightGBM] [Warning] feature_fraction is set=0.5602319640444355, colsample_bytree=1.0 will be ignored. Current value: feature_fraction=0.5602319640444355\n",
      "[LightGBM] [Warning] lambda_l2 is set=0.8881992812813099, reg_lambda=0.0 will be ignored. Current value: lambda_l2=0.8881992812813099\n",
      "[LightGBM] [Warning] bagging_freq is set=3, subsample_freq=0 will be ignored. Current value: bagging_freq=3\n"
     ]
    },
    {
     "name": "stderr",
     "output_type": "stream",
     "text": [
      "\u001b[32m[I 2023-03-15 19:56:01,262]\u001b[0m Trial 63 finished with value: 0.777969113555238 and parameters: {'lambda_l1': 7.799910714539653, 'lambda_l2': 0.8881992812813099, 'num_leaves': 36, 'feature_fraction': 0.5602319640444355, 'bagging_fraction': 0.43085972093167446, 'bagging_freq': 3, 'min_child_samples': 89}. Best is trial 62 with value: 0.7824044443063581.\u001b[0m\n"
     ]
    },
    {
     "name": "stdout",
     "output_type": "stream",
     "text": [
      "[LightGBM] [Warning] bagging_fraction is set=0.43085972093167446, subsample=1.0 will be ignored. Current value: bagging_fraction=0.43085972093167446\n",
      "[LightGBM] [Warning] lambda_l1 is set=7.799910714539653, reg_alpha=0.0 will be ignored. Current value: lambda_l1=7.799910714539653\n",
      "[LightGBM] [Warning] feature_fraction is set=0.5602319640444355, colsample_bytree=1.0 will be ignored. Current value: feature_fraction=0.5602319640444355\n",
      "[LightGBM] [Warning] lambda_l2 is set=0.8881992812813099, reg_lambda=0.0 will be ignored. Current value: lambda_l2=0.8881992812813099\n",
      "[LightGBM] [Warning] bagging_freq is set=3, subsample_freq=0 will be ignored. Current value: bagging_freq=3\n",
      "[LightGBM] [Warning] bagging_fraction is set=0.43085972093167446, subsample=1.0 will be ignored. Current value: bagging_fraction=0.43085972093167446\n",
      "[LightGBM] [Warning] lambda_l1 is set=7.799910714539653, reg_alpha=0.0 will be ignored. Current value: lambda_l1=7.799910714539653\n",
      "[LightGBM] [Warning] feature_fraction is set=0.5602319640444355, colsample_bytree=1.0 will be ignored. Current value: feature_fraction=0.5602319640444355\n",
      "[LightGBM] [Warning] lambda_l2 is set=0.8881992812813099, reg_lambda=0.0 will be ignored. Current value: lambda_l2=0.8881992812813099\n",
      "[LightGBM] [Warning] bagging_freq is set=3, subsample_freq=0 will be ignored. Current value: bagging_freq=3\n",
      "[LightGBM] [Warning] bagging_fraction is set=0.43085972093167446, subsample=1.0 will be ignored. Current value: bagging_fraction=0.43085972093167446\n",
      "[LightGBM] [Warning] lambda_l1 is set=7.799910714539653, reg_alpha=0.0 will be ignored. Current value: lambda_l1=7.799910714539653\n",
      "[LightGBM] [Warning] feature_fraction is set=0.5602319640444355, colsample_bytree=1.0 will be ignored. Current value: feature_fraction=0.5602319640444355\n",
      "[LightGBM] [Warning] lambda_l2 is set=0.8881992812813099, reg_lambda=0.0 will be ignored. Current value: lambda_l2=0.8881992812813099\n",
      "[LightGBM] [Warning] bagging_freq is set=3, subsample_freq=0 will be ignored. Current value: bagging_freq=3\n",
      "[LightGBM] [Warning] bagging_fraction is set=0.4592726997674984, subsample=1.0 will be ignored. Current value: bagging_fraction=0.4592726997674984\n",
      "[LightGBM] [Warning] lambda_l1 is set=9.159703912259477, reg_alpha=0.0 will be ignored. Current value: lambda_l1=9.159703912259477\n",
      "[LightGBM] [Warning] feature_fraction is set=0.5384563686991543, colsample_bytree=1.0 will be ignored. Current value: feature_fraction=0.5384563686991543\n",
      "[LightGBM] [Warning] lambda_l2 is set=2.2365273242116728, reg_lambda=0.0 will be ignored. Current value: lambda_l2=2.2365273242116728\n",
      "[LightGBM] [Warning] bagging_freq is set=2, subsample_freq=0 will be ignored. Current value: bagging_freq=2\n"
     ]
    },
    {
     "name": "stderr",
     "output_type": "stream",
     "text": [
      "\u001b[32m[I 2023-03-15 19:56:01,540]\u001b[0m Trial 64 finished with value: 0.7769609112312461 and parameters: {'lambda_l1': 9.159703912259477, 'lambda_l2': 2.2365273242116728, 'num_leaves': 35, 'feature_fraction': 0.5384563686991543, 'bagging_fraction': 0.4592726997674984, 'bagging_freq': 2, 'min_child_samples': 89}. Best is trial 62 with value: 0.7824044443063581.\u001b[0m\n"
     ]
    },
    {
     "name": "stdout",
     "output_type": "stream",
     "text": [
      "[LightGBM] [Warning] bagging_fraction is set=0.4592726997674984, subsample=1.0 will be ignored. Current value: bagging_fraction=0.4592726997674984\n",
      "[LightGBM] [Warning] lambda_l1 is set=9.159703912259477, reg_alpha=0.0 will be ignored. Current value: lambda_l1=9.159703912259477\n",
      "[LightGBM] [Warning] feature_fraction is set=0.5384563686991543, colsample_bytree=1.0 will be ignored. Current value: feature_fraction=0.5384563686991543\n",
      "[LightGBM] [Warning] lambda_l2 is set=2.2365273242116728, reg_lambda=0.0 will be ignored. Current value: lambda_l2=2.2365273242116728\n",
      "[LightGBM] [Warning] bagging_freq is set=2, subsample_freq=0 will be ignored. Current value: bagging_freq=2\n",
      "[LightGBM] [Warning] bagging_fraction is set=0.4592726997674984, subsample=1.0 will be ignored. Current value: bagging_fraction=0.4592726997674984\n",
      "[LightGBM] [Warning] lambda_l1 is set=9.159703912259477, reg_alpha=0.0 will be ignored. Current value: lambda_l1=9.159703912259477\n",
      "[LightGBM] [Warning] feature_fraction is set=0.5384563686991543, colsample_bytree=1.0 will be ignored. Current value: feature_fraction=0.5384563686991543\n",
      "[LightGBM] [Warning] lambda_l2 is set=2.2365273242116728, reg_lambda=0.0 will be ignored. Current value: lambda_l2=2.2365273242116728\n",
      "[LightGBM] [Warning] bagging_freq is set=2, subsample_freq=0 will be ignored. Current value: bagging_freq=2\n",
      "[LightGBM] [Warning] bagging_fraction is set=0.4592726997674984, subsample=1.0 will be ignored. Current value: bagging_fraction=0.4592726997674984\n",
      "[LightGBM] [Warning] lambda_l1 is set=9.159703912259477, reg_alpha=0.0 will be ignored. Current value: lambda_l1=9.159703912259477\n",
      "[LightGBM] [Warning] feature_fraction is set=0.5384563686991543, colsample_bytree=1.0 will be ignored. Current value: feature_fraction=0.5384563686991543\n",
      "[LightGBM] [Warning] lambda_l2 is set=2.2365273242116728, reg_lambda=0.0 will be ignored. Current value: lambda_l2=2.2365273242116728\n",
      "[LightGBM] [Warning] bagging_freq is set=2, subsample_freq=0 will be ignored. Current value: bagging_freq=2\n",
      "[LightGBM] [Warning] bagging_fraction is set=0.4592726997674984, subsample=1.0 will be ignored. Current value: bagging_fraction=0.4592726997674984\n",
      "[LightGBM] [Warning] lambda_l1 is set=9.159703912259477, reg_alpha=0.0 will be ignored. Current value: lambda_l1=9.159703912259477\n",
      "[LightGBM] [Warning] feature_fraction is set=0.5384563686991543, colsample_bytree=1.0 will be ignored. Current value: feature_fraction=0.5384563686991543\n",
      "[LightGBM] [Warning] lambda_l2 is set=2.2365273242116728, reg_lambda=0.0 will be ignored. Current value: lambda_l2=2.2365273242116728\n",
      "[LightGBM] [Warning] bagging_freq is set=2, subsample_freq=0 will be ignored. Current value: bagging_freq=2\n",
      "[LightGBM] [Warning] bagging_fraction is set=0.47360088086185803, subsample=1.0 will be ignored. Current value: bagging_fraction=0.47360088086185803\n",
      "[LightGBM] [Warning] lambda_l1 is set=9.89480101877158, reg_alpha=0.0 will be ignored. Current value: lambda_l1=9.89480101877158\n",
      "[LightGBM] [Warning] feature_fraction is set=0.49017163982726797, colsample_bytree=1.0 will be ignored. Current value: feature_fraction=0.49017163982726797\n",
      "[LightGBM] [Warning] lambda_l2 is set=2.1702919015847817, reg_lambda=0.0 will be ignored. Current value: lambda_l2=2.1702919015847817\n",
      "[LightGBM] [Warning] bagging_freq is set=3, subsample_freq=0 will be ignored. Current value: bagging_freq=3\n",
      "[LightGBM] [Warning] bagging_fraction is set=0.47360088086185803, subsample=1.0 will be ignored. Current value: bagging_fraction=0.47360088086185803\n",
      "[LightGBM] [Warning] lambda_l1 is set=9.89480101877158, reg_alpha=0.0 will be ignored. Current value: lambda_l1=9.89480101877158\n",
      "[LightGBM] [Warning] feature_fraction is set=0.49017163982726797, colsample_bytree=1.0 will be ignored. Current value: feature_fraction=0.49017163982726797\n",
      "[LightGBM] [Warning] lambda_l2 is set=2.1702919015847817, reg_lambda=0.0 will be ignored. Current value: lambda_l2=2.1702919015847817\n",
      "[LightGBM] [Warning] bagging_freq is set=3, subsample_freq=0 will be ignored. Current value: bagging_freq=3\n",
      "[LightGBM] [Warning] bagging_fraction is set=0.47360088086185803, subsample=1.0 will be ignored. Current value: bagging_fraction=0.47360088086185803\n",
      "[LightGBM] [Warning] lambda_l1 is set=9.89480101877158, reg_alpha=0.0 will be ignored. Current value: lambda_l1=9.89480101877158\n",
      "[LightGBM] [Warning] feature_fraction is set=0.49017163982726797, colsample_bytree=1.0 will be ignored. Current value: feature_fraction=0.49017163982726797\n",
      "[LightGBM] [Warning] lambda_l2 is set=2.1702919015847817, reg_lambda=0.0 will be ignored. Current value: lambda_l2=2.1702919015847817\n",
      "[LightGBM] [Warning] bagging_freq is set=3, subsample_freq=0 will be ignored. Current value: bagging_freq=3\n",
      "[LightGBM] [Warning] bagging_fraction is set=0.47360088086185803, subsample=1.0 will be ignored. Current value: bagging_fraction=0.47360088086185803\n",
      "[LightGBM] [Warning] lambda_l1 is set=9.89480101877158, reg_alpha=0.0 will be ignored. Current value: lambda_l1=9.89480101877158\n",
      "[LightGBM] [Warning] feature_fraction is set=0.49017163982726797, colsample_bytree=1.0 will be ignored. Current value: feature_fraction=0.49017163982726797\n",
      "[LightGBM] [Warning] lambda_l2 is set=2.1702919015847817, reg_lambda=0.0 will be ignored. Current value: lambda_l2=2.1702919015847817\n",
      "[LightGBM] [Warning] bagging_freq is set=3, subsample_freq=0 will be ignored. Current value: bagging_freq=3\n",
      "[LightGBM] [Warning] bagging_fraction is set=0.47360088086185803, subsample=1.0 will be ignored. Current value: bagging_fraction=0.47360088086185803\n",
      "[LightGBM] [Warning] lambda_l1 is set=9.89480101877158, reg_alpha=0.0 will be ignored. Current value: lambda_l1=9.89480101877158\n",
      "[LightGBM] [Warning] feature_fraction is set=0.49017163982726797, colsample_bytree=1.0 will be ignored. Current value: feature_fraction=0.49017163982726797\n",
      "[LightGBM] [Warning] lambda_l2 is set=2.1702919015847817, reg_lambda=0.0 will be ignored. Current value: lambda_l2=2.1702919015847817\n",
      "[LightGBM] [Warning] bagging_freq is set=3, subsample_freq=0 will be ignored. Current value: bagging_freq=3\n"
     ]
    },
    {
     "name": "stderr",
     "output_type": "stream",
     "text": [
      "\u001b[32m[I 2023-03-15 19:56:01,818]\u001b[0m Trial 65 finished with value: 0.7787570682905611 and parameters: {'lambda_l1': 9.89480101877158, 'lambda_l2': 2.1702919015847817, 'num_leaves': 35, 'feature_fraction': 0.49017163982726797, 'bagging_fraction': 0.47360088086185803, 'bagging_freq': 3, 'min_child_samples': 88}. Best is trial 62 with value: 0.7824044443063581.\u001b[0m\n"
     ]
    },
    {
     "name": "stdout",
     "output_type": "stream",
     "text": [
      "[LightGBM] [Warning] bagging_fraction is set=0.4289721320764082, subsample=1.0 will be ignored. Current value: bagging_fraction=0.4289721320764082\n",
      "[LightGBM] [Warning] lambda_l1 is set=0.9646124761299821, reg_alpha=0.0 will be ignored. Current value: lambda_l1=0.9646124761299821\n",
      "[LightGBM] [Warning] feature_fraction is set=0.48882891802521433, colsample_bytree=1.0 will be ignored. Current value: feature_fraction=0.48882891802521433\n",
      "[LightGBM] [Warning] lambda_l2 is set=0.35026126663236873, reg_lambda=0.0 will be ignored. Current value: lambda_l2=0.35026126663236873\n",
      "[LightGBM] [Warning] bagging_freq is set=4, subsample_freq=0 will be ignored. Current value: bagging_freq=4\n",
      "[LightGBM] [Warning] bagging_fraction is set=0.4289721320764082, subsample=1.0 will be ignored. Current value: bagging_fraction=0.4289721320764082\n",
      "[LightGBM] [Warning] lambda_l1 is set=0.9646124761299821, reg_alpha=0.0 will be ignored. Current value: lambda_l1=0.9646124761299821\n",
      "[LightGBM] [Warning] feature_fraction is set=0.48882891802521433, colsample_bytree=1.0 will be ignored. Current value: feature_fraction=0.48882891802521433\n",
      "[LightGBM] [Warning] lambda_l2 is set=0.35026126663236873, reg_lambda=0.0 will be ignored. Current value: lambda_l2=0.35026126663236873\n",
      "[LightGBM] [Warning] bagging_freq is set=4, subsample_freq=0 will be ignored. Current value: bagging_freq=4\n",
      "[LightGBM] [Warning] bagging_fraction is set=0.4289721320764082, subsample=1.0 will be ignored. Current value: bagging_fraction=0.4289721320764082\n",
      "[LightGBM] [Warning] lambda_l1 is set=0.9646124761299821, reg_alpha=0.0 will be ignored. Current value: lambda_l1=0.9646124761299821\n",
      "[LightGBM] [Warning] feature_fraction is set=0.48882891802521433, colsample_bytree=1.0 will be ignored. Current value: feature_fraction=0.48882891802521433\n",
      "[LightGBM] [Warning] lambda_l2 is set=0.35026126663236873, reg_lambda=0.0 will be ignored. Current value: lambda_l2=0.35026126663236873\n",
      "[LightGBM] [Warning] bagging_freq is set=4, subsample_freq=0 will be ignored. Current value: bagging_freq=4\n",
      "[LightGBM] [Warning] bagging_fraction is set=0.4289721320764082, subsample=1.0 will be ignored. Current value: bagging_fraction=0.4289721320764082\n",
      "[LightGBM] [Warning] lambda_l1 is set=0.9646124761299821, reg_alpha=0.0 will be ignored. Current value: lambda_l1=0.9646124761299821\n",
      "[LightGBM] [Warning] feature_fraction is set=0.48882891802521433, colsample_bytree=1.0 will be ignored. Current value: feature_fraction=0.48882891802521433\n",
      "[LightGBM] [Warning] lambda_l2 is set=0.35026126663236873, reg_lambda=0.0 will be ignored. Current value: lambda_l2=0.35026126663236873\n",
      "[LightGBM] [Warning] bagging_freq is set=4, subsample_freq=0 will be ignored. Current value: bagging_freq=4\n",
      "[LightGBM] [Warning] bagging_fraction is set=0.4289721320764082, subsample=1.0 will be ignored. Current value: bagging_fraction=0.4289721320764082\n",
      "[LightGBM] [Warning] lambda_l1 is set=0.9646124761299821, reg_alpha=0.0 will be ignored. Current value: lambda_l1=0.9646124761299821\n",
      "[LightGBM] [Warning] feature_fraction is set=0.48882891802521433, colsample_bytree=1.0 will be ignored. Current value: feature_fraction=0.48882891802521433\n",
      "[LightGBM] [Warning] lambda_l2 is set=0.35026126663236873, reg_lambda=0.0 will be ignored. Current value: lambda_l2=0.35026126663236873\n",
      "[LightGBM] [Warning] bagging_freq is set=4, subsample_freq=0 will be ignored. Current value: bagging_freq=4\n"
     ]
    },
    {
     "name": "stderr",
     "output_type": "stream",
     "text": [
      "\u001b[32m[I 2023-03-15 19:56:02,098]\u001b[0m Trial 66 finished with value: 0.7639193541705505 and parameters: {'lambda_l1': 0.9646124761299821, 'lambda_l2': 0.35026126663236873, 'num_leaves': 17, 'feature_fraction': 0.48882891802521433, 'bagging_fraction': 0.4289721320764082, 'bagging_freq': 4, 'min_child_samples': 92}. Best is trial 62 with value: 0.7824044443063581.\u001b[0m\n"
     ]
    },
    {
     "name": "stdout",
     "output_type": "stream",
     "text": [
      "[LightGBM] [Warning] bagging_fraction is set=0.4794293416914662, subsample=1.0 will be ignored. Current value: bagging_fraction=0.4794293416914662\n",
      "[LightGBM] [Warning] lambda_l1 is set=2.442633905826746, reg_alpha=0.0 will be ignored. Current value: lambda_l1=2.442633905826746\n",
      "[LightGBM] [Warning] feature_fraction is set=0.5612852322551691, colsample_bytree=1.0 will be ignored. Current value: feature_fraction=0.5612852322551691\n",
      "[LightGBM] [Warning] lambda_l2 is set=1.0861008787826327, reg_lambda=0.0 will be ignored. Current value: lambda_l2=1.0861008787826327\n",
      "[LightGBM] [Warning] bagging_freq is set=3, subsample_freq=0 will be ignored. Current value: bagging_freq=3\n",
      "[LightGBM] [Warning] bagging_fraction is set=0.4794293416914662, subsample=1.0 will be ignored. Current value: bagging_fraction=0.4794293416914662\n",
      "[LightGBM] [Warning] lambda_l1 is set=2.442633905826746, reg_alpha=0.0 will be ignored. Current value: lambda_l1=2.442633905826746\n",
      "[LightGBM] [Warning] feature_fraction is set=0.5612852322551691, colsample_bytree=1.0 will be ignored. Current value: feature_fraction=0.5612852322551691\n",
      "[LightGBM] [Warning] lambda_l2 is set=1.0861008787826327, reg_lambda=0.0 will be ignored. Current value: lambda_l2=1.0861008787826327\n",
      "[LightGBM] [Warning] bagging_freq is set=3, subsample_freq=0 will be ignored. Current value: bagging_freq=3\n",
      "[LightGBM] [Warning] bagging_fraction is set=0.4794293416914662, subsample=1.0 will be ignored. Current value: bagging_fraction=0.4794293416914662\n",
      "[LightGBM] [Warning] lambda_l1 is set=2.442633905826746, reg_alpha=0.0 will be ignored. Current value: lambda_l1=2.442633905826746\n",
      "[LightGBM] [Warning] feature_fraction is set=0.5612852322551691, colsample_bytree=1.0 will be ignored. Current value: feature_fraction=0.5612852322551691\n",
      "[LightGBM] [Warning] lambda_l2 is set=1.0861008787826327, reg_lambda=0.0 will be ignored. Current value: lambda_l2=1.0861008787826327\n",
      "[LightGBM] [Warning] bagging_freq is set=3, subsample_freq=0 will be ignored. Current value: bagging_freq=3\n",
      "[LightGBM] [Warning] bagging_fraction is set=0.4794293416914662, subsample=1.0 will be ignored. Current value: bagging_fraction=0.4794293416914662\n",
      "[LightGBM] [Warning] lambda_l1 is set=2.442633905826746, reg_alpha=0.0 will be ignored. Current value: lambda_l1=2.442633905826746\n",
      "[LightGBM] [Warning] feature_fraction is set=0.5612852322551691, colsample_bytree=1.0 will be ignored. Current value: feature_fraction=0.5612852322551691\n",
      "[LightGBM] [Warning] lambda_l2 is set=1.0861008787826327, reg_lambda=0.0 will be ignored. Current value: lambda_l2=1.0861008787826327\n",
      "[LightGBM] [Warning] bagging_freq is set=3, subsample_freq=0 will be ignored. Current value: bagging_freq=3\n",
      "[LightGBM] [Warning] bagging_fraction is set=0.4794293416914662, subsample=1.0 will be ignored. Current value: bagging_fraction=0.4794293416914662\n",
      "[LightGBM] [Warning] lambda_l1 is set=2.442633905826746, reg_alpha=0.0 will be ignored. Current value: lambda_l1=2.442633905826746\n",
      "[LightGBM] [Warning] feature_fraction is set=0.5612852322551691, colsample_bytree=1.0 will be ignored. Current value: feature_fraction=0.5612852322551691\n",
      "[LightGBM] [Warning] lambda_l2 is set=1.0861008787826327, reg_lambda=0.0 will be ignored. Current value: lambda_l2=1.0861008787826327\n",
      "[LightGBM] [Warning] bagging_freq is set=3, subsample_freq=0 will be ignored. Current value: bagging_freq=3\n"
     ]
    },
    {
     "name": "stderr",
     "output_type": "stream",
     "text": [
      "\u001b[32m[I 2023-03-15 19:56:02,378]\u001b[0m Trial 67 finished with value: 0.7776542768767649 and parameters: {'lambda_l1': 2.442633905826746, 'lambda_l2': 1.0861008787826327, 'num_leaves': 3, 'feature_fraction': 0.5612852322551691, 'bagging_fraction': 0.4794293416914662, 'bagging_freq': 3, 'min_child_samples': 88}. Best is trial 62 with value: 0.7824044443063581.\u001b[0m\n"
     ]
    },
    {
     "name": "stdout",
     "output_type": "stream",
     "text": [
      "[LightGBM] [Warning] bagging_fraction is set=0.5027625137987765, subsample=1.0 will be ignored. Current value: bagging_fraction=0.5027625137987765\n",
      "[LightGBM] [Warning] lambda_l1 is set=0.3794304129462838, reg_alpha=0.0 will be ignored. Current value: lambda_l1=0.3794304129462838\n",
      "[LightGBM] [Warning] feature_fraction is set=0.5260983597944512, colsample_bytree=1.0 will be ignored. Current value: feature_fraction=0.5260983597944512\n",
      "[LightGBM] [Warning] lambda_l2 is set=1.5249570707811133, reg_lambda=0.0 will be ignored. Current value: lambda_l2=1.5249570707811133\n",
      "[LightGBM] [Warning] bagging_freq is set=3, subsample_freq=0 will be ignored. Current value: bagging_freq=3\n",
      "[LightGBM] [Warning] bagging_fraction is set=0.5027625137987765, subsample=1.0 will be ignored. Current value: bagging_fraction=0.5027625137987765\n",
      "[LightGBM] [Warning] lambda_l1 is set=0.3794304129462838, reg_alpha=0.0 will be ignored. Current value: lambda_l1=0.3794304129462838\n",
      "[LightGBM] [Warning] feature_fraction is set=0.5260983597944512, colsample_bytree=1.0 will be ignored. Current value: feature_fraction=0.5260983597944512\n",
      "[LightGBM] [Warning] lambda_l2 is set=1.5249570707811133, reg_lambda=0.0 will be ignored. Current value: lambda_l2=1.5249570707811133\n",
      "[LightGBM] [Warning] bagging_freq is set=3, subsample_freq=0 will be ignored. Current value: bagging_freq=3\n",
      "[LightGBM] [Warning] bagging_fraction is set=0.5027625137987765, subsample=1.0 will be ignored. Current value: bagging_fraction=0.5027625137987765\n",
      "[LightGBM] [Warning] lambda_l1 is set=0.3794304129462838, reg_alpha=0.0 will be ignored. Current value: lambda_l1=0.3794304129462838\n",
      "[LightGBM] [Warning] feature_fraction is set=0.5260983597944512, colsample_bytree=1.0 will be ignored. Current value: feature_fraction=0.5260983597944512\n",
      "[LightGBM] [Warning] lambda_l2 is set=1.5249570707811133, reg_lambda=0.0 will be ignored. Current value: lambda_l2=1.5249570707811133\n",
      "[LightGBM] [Warning] bagging_freq is set=3, subsample_freq=0 will be ignored. Current value: bagging_freq=3\n",
      "[LightGBM] [Warning] bagging_fraction is set=0.5027625137987765, subsample=1.0 will be ignored. Current value: bagging_fraction=0.5027625137987765\n",
      "[LightGBM] [Warning] lambda_l1 is set=0.3794304129462838, reg_alpha=0.0 will be ignored. Current value: lambda_l1=0.3794304129462838\n",
      "[LightGBM] [Warning] feature_fraction is set=0.5260983597944512, colsample_bytree=1.0 will be ignored. Current value: feature_fraction=0.5260983597944512\n",
      "[LightGBM] [Warning] lambda_l2 is set=1.5249570707811133, reg_lambda=0.0 will be ignored. Current value: lambda_l2=1.5249570707811133\n",
      "[LightGBM] [Warning] bagging_freq is set=3, subsample_freq=0 will be ignored. Current value: bagging_freq=3\n"
     ]
    },
    {
     "name": "stderr",
     "output_type": "stream",
     "text": [
      "\u001b[32m[I 2023-03-15 19:56:02,726]\u001b[0m Trial 68 finished with value: 0.7556167450306206 and parameters: {'lambda_l1': 0.3794304129462838, 'lambda_l2': 1.5249570707811133, 'num_leaves': 31, 'feature_fraction': 0.5260983597944512, 'bagging_fraction': 0.5027625137987765, 'bagging_freq': 3, 'min_child_samples': 73}. Best is trial 62 with value: 0.7824044443063581.\u001b[0m\n"
     ]
    },
    {
     "name": "stdout",
     "output_type": "stream",
     "text": [
      "[LightGBM] [Warning] bagging_fraction is set=0.5027625137987765, subsample=1.0 will be ignored. Current value: bagging_fraction=0.5027625137987765\n",
      "[LightGBM] [Warning] lambda_l1 is set=0.3794304129462838, reg_alpha=0.0 will be ignored. Current value: lambda_l1=0.3794304129462838\n",
      "[LightGBM] [Warning] feature_fraction is set=0.5260983597944512, colsample_bytree=1.0 will be ignored. Current value: feature_fraction=0.5260983597944512\n",
      "[LightGBM] [Warning] lambda_l2 is set=1.5249570707811133, reg_lambda=0.0 will be ignored. Current value: lambda_l2=1.5249570707811133\n",
      "[LightGBM] [Warning] bagging_freq is set=3, subsample_freq=0 will be ignored. Current value: bagging_freq=3\n",
      "[LightGBM] [Warning] bagging_fraction is set=0.4391018234455605, subsample=1.0 will be ignored. Current value: bagging_fraction=0.4391018234455605\n",
      "[LightGBM] [Warning] lambda_l1 is set=5.441871317649665, reg_alpha=0.0 will be ignored. Current value: lambda_l1=5.441871317649665\n",
      "[LightGBM] [Warning] feature_fraction is set=0.46590341139751257, colsample_bytree=1.0 will be ignored. Current value: feature_fraction=0.46590341139751257\n",
      "[LightGBM] [Warning] lambda_l2 is set=2.8945543953768524, reg_lambda=0.0 will be ignored. Current value: lambda_l2=2.8945543953768524\n",
      "[LightGBM] [Warning] bagging_freq is set=4, subsample_freq=0 will be ignored. Current value: bagging_freq=4\n",
      "[LightGBM] [Warning] bagging_fraction is set=0.4391018234455605, subsample=1.0 will be ignored. Current value: bagging_fraction=0.4391018234455605\n",
      "[LightGBM] [Warning] lambda_l1 is set=5.441871317649665, reg_alpha=0.0 will be ignored. Current value: lambda_l1=5.441871317649665\n",
      "[LightGBM] [Warning] feature_fraction is set=0.46590341139751257, colsample_bytree=1.0 will be ignored. Current value: feature_fraction=0.46590341139751257\n",
      "[LightGBM] [Warning] lambda_l2 is set=2.8945543953768524, reg_lambda=0.0 will be ignored. Current value: lambda_l2=2.8945543953768524\n",
      "[LightGBM] [Warning] bagging_freq is set=4, subsample_freq=0 will be ignored. Current value: bagging_freq=4\n",
      "[LightGBM] [Warning] bagging_fraction is set=0.4391018234455605, subsample=1.0 will be ignored. Current value: bagging_fraction=0.4391018234455605\n",
      "[LightGBM] [Warning] lambda_l1 is set=5.441871317649665, reg_alpha=0.0 will be ignored. Current value: lambda_l1=5.441871317649665\n",
      "[LightGBM] [Warning] feature_fraction is set=0.46590341139751257, colsample_bytree=1.0 will be ignored. Current value: feature_fraction=0.46590341139751257\n",
      "[LightGBM] [Warning] lambda_l2 is set=2.8945543953768524, reg_lambda=0.0 will be ignored. Current value: lambda_l2=2.8945543953768524\n",
      "[LightGBM] [Warning] bagging_freq is set=4, subsample_freq=0 will be ignored. Current value: bagging_freq=4\n",
      "[LightGBM] [Warning] bagging_fraction is set=0.4391018234455605, subsample=1.0 will be ignored. Current value: bagging_fraction=0.4391018234455605\n",
      "[LightGBM] [Warning] lambda_l1 is set=5.441871317649665, reg_alpha=0.0 will be ignored. Current value: lambda_l1=5.441871317649665\n",
      "[LightGBM] [Warning] feature_fraction is set=0.46590341139751257, colsample_bytree=1.0 will be ignored. Current value: feature_fraction=0.46590341139751257\n",
      "[LightGBM] [Warning] lambda_l2 is set=2.8945543953768524, reg_lambda=0.0 will be ignored. Current value: lambda_l2=2.8945543953768524\n",
      "[LightGBM] [Warning] bagging_freq is set=4, subsample_freq=0 will be ignored. Current value: bagging_freq=4\n"
     ]
    },
    {
     "name": "stderr",
     "output_type": "stream",
     "text": [
      "\u001b[32m[I 2023-03-15 19:56:03,388]\u001b[0m Trial 69 finished with value: 0.770348736855914 and parameters: {'lambda_l1': 5.441871317649665, 'lambda_l2': 2.8945543953768524, 'num_leaves': 12, 'feature_fraction': 0.46590341139751257, 'bagging_fraction': 0.4391018234455605, 'bagging_freq': 4, 'min_child_samples': 83}. Best is trial 62 with value: 0.7824044443063581.\u001b[0m\n"
     ]
    },
    {
     "name": "stdout",
     "output_type": "stream",
     "text": [
      "[LightGBM] [Warning] bagging_fraction is set=0.4391018234455605, subsample=1.0 will be ignored. Current value: bagging_fraction=0.4391018234455605\n",
      "[LightGBM] [Warning] lambda_l1 is set=5.441871317649665, reg_alpha=0.0 will be ignored. Current value: lambda_l1=5.441871317649665\n",
      "[LightGBM] [Warning] feature_fraction is set=0.46590341139751257, colsample_bytree=1.0 will be ignored. Current value: feature_fraction=0.46590341139751257\n",
      "[LightGBM] [Warning] lambda_l2 is set=2.8945543953768524, reg_lambda=0.0 will be ignored. Current value: lambda_l2=2.8945543953768524\n",
      "[LightGBM] [Warning] bagging_freq is set=4, subsample_freq=0 will be ignored. Current value: bagging_freq=4\n",
      "[LightGBM] [Warning] bagging_fraction is set=0.4159853769077955, subsample=1.0 will be ignored. Current value: bagging_fraction=0.4159853769077955\n",
      "[LightGBM] [Warning] lambda_l1 is set=0.19009234054509788, reg_alpha=0.0 will be ignored. Current value: lambda_l1=0.19009234054509788\n",
      "[LightGBM] [Warning] feature_fraction is set=0.5048085950350633, colsample_bytree=1.0 will be ignored. Current value: feature_fraction=0.5048085950350633\n",
      "[LightGBM] [Warning] lambda_l2 is set=0.25911976820145166, reg_lambda=0.0 will be ignored. Current value: lambda_l2=0.25911976820145166\n",
      "[LightGBM] [Warning] bagging_freq is set=3, subsample_freq=0 will be ignored. Current value: bagging_freq=3\n",
      "[LightGBM] [Warning] bagging_fraction is set=0.4159853769077955, subsample=1.0 will be ignored. Current value: bagging_fraction=0.4159853769077955\n",
      "[LightGBM] [Warning] lambda_l1 is set=0.19009234054509788, reg_alpha=0.0 will be ignored. Current value: lambda_l1=0.19009234054509788\n",
      "[LightGBM] [Warning] feature_fraction is set=0.5048085950350633, colsample_bytree=1.0 will be ignored. Current value: feature_fraction=0.5048085950350633\n",
      "[LightGBM] [Warning] lambda_l2 is set=0.25911976820145166, reg_lambda=0.0 will be ignored. Current value: lambda_l2=0.25911976820145166\n",
      "[LightGBM] [Warning] bagging_freq is set=3, subsample_freq=0 will be ignored. Current value: bagging_freq=3\n"
     ]
    },
    {
     "name": "stderr",
     "output_type": "stream",
     "text": [
      "\u001b[32m[I 2023-03-15 19:56:03,702]\u001b[0m Trial 70 finished with value: 0.752532156838377 and parameters: {'lambda_l1': 0.19009234054509788, 'lambda_l2': 0.25911976820145166, 'num_leaves': 41, 'feature_fraction': 0.5048085950350633, 'bagging_fraction': 0.4159853769077955, 'bagging_freq': 3, 'min_child_samples': 79}. Best is trial 62 with value: 0.7824044443063581.\u001b[0m\n"
     ]
    },
    {
     "name": "stdout",
     "output_type": "stream",
     "text": [
      "[LightGBM] [Warning] bagging_fraction is set=0.4159853769077955, subsample=1.0 will be ignored. Current value: bagging_fraction=0.4159853769077955\n",
      "[LightGBM] [Warning] lambda_l1 is set=0.19009234054509788, reg_alpha=0.0 will be ignored. Current value: lambda_l1=0.19009234054509788\n",
      "[LightGBM] [Warning] feature_fraction is set=0.5048085950350633, colsample_bytree=1.0 will be ignored. Current value: feature_fraction=0.5048085950350633\n",
      "[LightGBM] [Warning] lambda_l2 is set=0.25911976820145166, reg_lambda=0.0 will be ignored. Current value: lambda_l2=0.25911976820145166\n",
      "[LightGBM] [Warning] bagging_freq is set=3, subsample_freq=0 will be ignored. Current value: bagging_freq=3\n",
      "[LightGBM] [Warning] bagging_fraction is set=0.4159853769077955, subsample=1.0 will be ignored. Current value: bagging_fraction=0.4159853769077955\n",
      "[LightGBM] [Warning] lambda_l1 is set=0.19009234054509788, reg_alpha=0.0 will be ignored. Current value: lambda_l1=0.19009234054509788\n",
      "[LightGBM] [Warning] feature_fraction is set=0.5048085950350633, colsample_bytree=1.0 will be ignored. Current value: feature_fraction=0.5048085950350633\n",
      "[LightGBM] [Warning] lambda_l2 is set=0.25911976820145166, reg_lambda=0.0 will be ignored. Current value: lambda_l2=0.25911976820145166\n",
      "[LightGBM] [Warning] bagging_freq is set=3, subsample_freq=0 will be ignored. Current value: bagging_freq=3\n",
      "[LightGBM] [Warning] bagging_fraction is set=0.4159853769077955, subsample=1.0 will be ignored. Current value: bagging_fraction=0.4159853769077955\n",
      "[LightGBM] [Warning] lambda_l1 is set=0.19009234054509788, reg_alpha=0.0 will be ignored. Current value: lambda_l1=0.19009234054509788\n",
      "[LightGBM] [Warning] feature_fraction is set=0.5048085950350633, colsample_bytree=1.0 will be ignored. Current value: feature_fraction=0.5048085950350633\n",
      "[LightGBM] [Warning] lambda_l2 is set=0.25911976820145166, reg_lambda=0.0 will be ignored. Current value: lambda_l2=0.25911976820145166\n",
      "[LightGBM] [Warning] bagging_freq is set=3, subsample_freq=0 will be ignored. Current value: bagging_freq=3\n",
      "[LightGBM] [Warning] bagging_fraction is set=0.46876757135374275, subsample=1.0 will be ignored. Current value: bagging_fraction=0.46876757135374275\n",
      "[LightGBM] [Warning] lambda_l1 is set=2.314431843292163, reg_alpha=0.0 will be ignored. Current value: lambda_l1=2.314431843292163\n",
      "[LightGBM] [Warning] feature_fraction is set=0.5614219544715695, colsample_bytree=1.0 will be ignored. Current value: feature_fraction=0.5614219544715695\n",
      "[LightGBM] [Warning] lambda_l2 is set=0.7279516238129788, reg_lambda=0.0 will be ignored. Current value: lambda_l2=0.7279516238129788\n",
      "[LightGBM] [Warning] bagging_freq is set=3, subsample_freq=0 will be ignored. Current value: bagging_freq=3\n",
      "[LightGBM] [Warning] bagging_fraction is set=0.46876757135374275, subsample=1.0 will be ignored. Current value: bagging_fraction=0.46876757135374275\n",
      "[LightGBM] [Warning] lambda_l1 is set=2.314431843292163, reg_alpha=0.0 will be ignored. Current value: lambda_l1=2.314431843292163\n",
      "[LightGBM] [Warning] feature_fraction is set=0.5614219544715695, colsample_bytree=1.0 will be ignored. Current value: feature_fraction=0.5614219544715695\n",
      "[LightGBM] [Warning] lambda_l2 is set=0.7279516238129788, reg_lambda=0.0 will be ignored. Current value: lambda_l2=0.7279516238129788\n",
      "[LightGBM] [Warning] bagging_freq is set=3, subsample_freq=0 will be ignored. Current value: bagging_freq=3\n",
      "[LightGBM] [Warning] bagging_fraction is set=0.46876757135374275, subsample=1.0 will be ignored. Current value: bagging_fraction=0.46876757135374275\n",
      "[LightGBM] [Warning] lambda_l1 is set=2.314431843292163, reg_alpha=0.0 will be ignored. Current value: lambda_l1=2.314431843292163\n",
      "[LightGBM] [Warning] feature_fraction is set=0.5614219544715695, colsample_bytree=1.0 will be ignored. Current value: feature_fraction=0.5614219544715695\n",
      "[LightGBM] [Warning] lambda_l2 is set=0.7279516238129788, reg_lambda=0.0 will be ignored. Current value: lambda_l2=0.7279516238129788\n",
      "[LightGBM] [Warning] bagging_freq is set=3, subsample_freq=0 will be ignored. Current value: bagging_freq=3\n",
      "[LightGBM] [Warning] bagging_fraction is set=0.46876757135374275, subsample=1.0 will be ignored. Current value: bagging_fraction=0.46876757135374275\n",
      "[LightGBM] [Warning] lambda_l1 is set=2.314431843292163, reg_alpha=0.0 will be ignored. Current value: lambda_l1=2.314431843292163\n",
      "[LightGBM] [Warning] feature_fraction is set=0.5614219544715695, colsample_bytree=1.0 will be ignored. Current value: feature_fraction=0.5614219544715695\n",
      "[LightGBM] [Warning] lambda_l2 is set=0.7279516238129788, reg_lambda=0.0 will be ignored. Current value: lambda_l2=0.7279516238129788\n",
      "[LightGBM] [Warning] bagging_freq is set=3, subsample_freq=0 will be ignored. Current value: bagging_freq=3\n"
     ]
    },
    {
     "name": "stderr",
     "output_type": "stream",
     "text": [
      "\u001b[32m[I 2023-03-15 19:56:04,032]\u001b[0m Trial 71 finished with value: 0.7678939946284444 and parameters: {'lambda_l1': 2.314431843292163, 'lambda_l2': 0.7279516238129788, 'num_leaves': 18, 'feature_fraction': 0.5614219544715695, 'bagging_fraction': 0.46876757135374275, 'bagging_freq': 3, 'min_child_samples': 88}. Best is trial 62 with value: 0.7824044443063581.\u001b[0m\n"
     ]
    },
    {
     "name": "stdout",
     "output_type": "stream",
     "text": [
      "[LightGBM] [Warning] bagging_fraction is set=0.46876757135374275, subsample=1.0 will be ignored. Current value: bagging_fraction=0.46876757135374275\n",
      "[LightGBM] [Warning] lambda_l1 is set=2.314431843292163, reg_alpha=0.0 will be ignored. Current value: lambda_l1=2.314431843292163\n",
      "[LightGBM] [Warning] feature_fraction is set=0.5614219544715695, colsample_bytree=1.0 will be ignored. Current value: feature_fraction=0.5614219544715695\n",
      "[LightGBM] [Warning] lambda_l2 is set=0.7279516238129788, reg_lambda=0.0 will be ignored. Current value: lambda_l2=0.7279516238129788\n",
      "[LightGBM] [Warning] bagging_freq is set=3, subsample_freq=0 will be ignored. Current value: bagging_freq=3\n",
      "[LightGBM] [Warning] bagging_fraction is set=0.48232417777642, subsample=1.0 will be ignored. Current value: bagging_fraction=0.48232417777642\n",
      "[LightGBM] [Warning] lambda_l1 is set=2.396796832145401, reg_alpha=0.0 will be ignored. Current value: lambda_l1=2.396796832145401\n",
      "[LightGBM] [Warning] feature_fraction is set=0.5619485231807668, colsample_bytree=1.0 will be ignored. Current value: feature_fraction=0.5619485231807668\n",
      "[LightGBM] [Warning] lambda_l2 is set=9.521828445102278, reg_lambda=0.0 will be ignored. Current value: lambda_l2=9.521828445102278\n",
      "[LightGBM] [Warning] bagging_freq is set=3, subsample_freq=0 will be ignored. Current value: bagging_freq=3\n",
      "[LightGBM] [Warning] bagging_fraction is set=0.48232417777642, subsample=1.0 will be ignored. Current value: bagging_fraction=0.48232417777642\n",
      "[LightGBM] [Warning] lambda_l1 is set=2.396796832145401, reg_alpha=0.0 will be ignored. Current value: lambda_l1=2.396796832145401\n",
      "[LightGBM] [Warning] feature_fraction is set=0.5619485231807668, colsample_bytree=1.0 will be ignored. Current value: feature_fraction=0.5619485231807668\n",
      "[LightGBM] [Warning] lambda_l2 is set=9.521828445102278, reg_lambda=0.0 will be ignored. Current value: lambda_l2=9.521828445102278\n",
      "[LightGBM] [Warning] bagging_freq is set=3, subsample_freq=0 will be ignored. Current value: bagging_freq=3\n",
      "[LightGBM] [Warning] bagging_fraction is set=0.48232417777642, subsample=1.0 will be ignored. Current value: bagging_fraction=0.48232417777642\n",
      "[LightGBM] [Warning] lambda_l1 is set=2.396796832145401, reg_alpha=0.0 will be ignored. Current value: lambda_l1=2.396796832145401\n",
      "[LightGBM] [Warning] feature_fraction is set=0.5619485231807668, colsample_bytree=1.0 will be ignored. Current value: feature_fraction=0.5619485231807668\n",
      "[LightGBM] [Warning] lambda_l2 is set=9.521828445102278, reg_lambda=0.0 will be ignored. Current value: lambda_l2=9.521828445102278\n",
      "[LightGBM] [Warning] bagging_freq is set=3, subsample_freq=0 will be ignored. Current value: bagging_freq=3\n"
     ]
    },
    {
     "name": "stderr",
     "output_type": "stream",
     "text": [
      "\u001b[32m[I 2023-03-15 19:56:04,329]\u001b[0m Trial 72 finished with value: 0.7710805077431873 and parameters: {'lambda_l1': 2.396796832145401, 'lambda_l2': 9.521828445102278, 'num_leaves': 5, 'feature_fraction': 0.5619485231807668, 'bagging_fraction': 0.48232417777642, 'bagging_freq': 3, 'min_child_samples': 94}. Best is trial 62 with value: 0.7824044443063581.\u001b[0m\n"
     ]
    },
    {
     "name": "stdout",
     "output_type": "stream",
     "text": [
      "[LightGBM] [Warning] bagging_fraction is set=0.48232417777642, subsample=1.0 will be ignored. Current value: bagging_fraction=0.48232417777642\n",
      "[LightGBM] [Warning] lambda_l1 is set=2.396796832145401, reg_alpha=0.0 will be ignored. Current value: lambda_l1=2.396796832145401\n",
      "[LightGBM] [Warning] feature_fraction is set=0.5619485231807668, colsample_bytree=1.0 will be ignored. Current value: feature_fraction=0.5619485231807668\n",
      "[LightGBM] [Warning] lambda_l2 is set=9.521828445102278, reg_lambda=0.0 will be ignored. Current value: lambda_l2=9.521828445102278\n",
      "[LightGBM] [Warning] bagging_freq is set=3, subsample_freq=0 will be ignored. Current value: bagging_freq=3\n",
      "[LightGBM] [Warning] bagging_fraction is set=0.48232417777642, subsample=1.0 will be ignored. Current value: bagging_fraction=0.48232417777642\n",
      "[LightGBM] [Warning] lambda_l1 is set=2.396796832145401, reg_alpha=0.0 will be ignored. Current value: lambda_l1=2.396796832145401\n",
      "[LightGBM] [Warning] feature_fraction is set=0.5619485231807668, colsample_bytree=1.0 will be ignored. Current value: feature_fraction=0.5619485231807668\n",
      "[LightGBM] [Warning] lambda_l2 is set=9.521828445102278, reg_lambda=0.0 will be ignored. Current value: lambda_l2=9.521828445102278\n",
      "[LightGBM] [Warning] bagging_freq is set=3, subsample_freq=0 will be ignored. Current value: bagging_freq=3\n",
      "[LightGBM] [Warning] bagging_fraction is set=0.5272498993305845, subsample=1.0 will be ignored. Current value: bagging_fraction=0.5272498993305845\n",
      "[LightGBM] [Warning] lambda_l1 is set=9.974363331868929, reg_alpha=0.0 will be ignored. Current value: lambda_l1=9.974363331868929\n",
      "[LightGBM] [Warning] feature_fraction is set=0.5294365438262438, colsample_bytree=1.0 will be ignored. Current value: feature_fraction=0.5294365438262438\n",
      "[LightGBM] [Warning] lambda_l2 is set=0.9672672545133528, reg_lambda=0.0 will be ignored. Current value: lambda_l2=0.9672672545133528\n",
      "[LightGBM] [Warning] bagging_freq is set=3, subsample_freq=0 will be ignored. Current value: bagging_freq=3\n",
      "[LightGBM] [Warning] bagging_fraction is set=0.5272498993305845, subsample=1.0 will be ignored. Current value: bagging_fraction=0.5272498993305845\n",
      "[LightGBM] [Warning] lambda_l1 is set=9.974363331868929, reg_alpha=0.0 will be ignored. Current value: lambda_l1=9.974363331868929\n",
      "[LightGBM] [Warning] feature_fraction is set=0.5294365438262438, colsample_bytree=1.0 will be ignored. Current value: feature_fraction=0.5294365438262438\n",
      "[LightGBM] [Warning] lambda_l2 is set=0.9672672545133528, reg_lambda=0.0 will be ignored. Current value: lambda_l2=0.9672672545133528\n",
      "[LightGBM] [Warning] bagging_freq is set=3, subsample_freq=0 will be ignored. Current value: bagging_freq=3\n"
     ]
    },
    {
     "name": "stderr",
     "output_type": "stream",
     "text": [
      "\u001b[32m[I 2023-03-15 19:56:04,618]\u001b[0m Trial 73 finished with value: 0.7777254776058603 and parameters: {'lambda_l1': 9.974363331868929, 'lambda_l2': 0.9672672545133528, 'num_leaves': 27, 'feature_fraction': 0.5294365438262438, 'bagging_fraction': 0.5272498993305845, 'bagging_freq': 3, 'min_child_samples': 91}. Best is trial 62 with value: 0.7824044443063581.\u001b[0m\n"
     ]
    },
    {
     "name": "stdout",
     "output_type": "stream",
     "text": [
      "[LightGBM] [Warning] bagging_fraction is set=0.5272498993305845, subsample=1.0 will be ignored. Current value: bagging_fraction=0.5272498993305845\n",
      "[LightGBM] [Warning] lambda_l1 is set=9.974363331868929, reg_alpha=0.0 will be ignored. Current value: lambda_l1=9.974363331868929\n",
      "[LightGBM] [Warning] feature_fraction is set=0.5294365438262438, colsample_bytree=1.0 will be ignored. Current value: feature_fraction=0.5294365438262438\n",
      "[LightGBM] [Warning] lambda_l2 is set=0.9672672545133528, reg_lambda=0.0 will be ignored. Current value: lambda_l2=0.9672672545133528\n",
      "[LightGBM] [Warning] bagging_freq is set=3, subsample_freq=0 will be ignored. Current value: bagging_freq=3\n",
      "[LightGBM] [Warning] bagging_fraction is set=0.5272498993305845, subsample=1.0 will be ignored. Current value: bagging_fraction=0.5272498993305845\n",
      "[LightGBM] [Warning] lambda_l1 is set=9.974363331868929, reg_alpha=0.0 will be ignored. Current value: lambda_l1=9.974363331868929\n",
      "[LightGBM] [Warning] feature_fraction is set=0.5294365438262438, colsample_bytree=1.0 will be ignored. Current value: feature_fraction=0.5294365438262438\n",
      "[LightGBM] [Warning] lambda_l2 is set=0.9672672545133528, reg_lambda=0.0 will be ignored. Current value: lambda_l2=0.9672672545133528\n",
      "[LightGBM] [Warning] bagging_freq is set=3, subsample_freq=0 will be ignored. Current value: bagging_freq=3\n",
      "[LightGBM] [Warning] bagging_fraction is set=0.5272498993305845, subsample=1.0 will be ignored. Current value: bagging_fraction=0.5272498993305845\n",
      "[LightGBM] [Warning] lambda_l1 is set=9.974363331868929, reg_alpha=0.0 will be ignored. Current value: lambda_l1=9.974363331868929\n",
      "[LightGBM] [Warning] feature_fraction is set=0.5294365438262438, colsample_bytree=1.0 will be ignored. Current value: feature_fraction=0.5294365438262438\n",
      "[LightGBM] [Warning] lambda_l2 is set=0.9672672545133528, reg_lambda=0.0 will be ignored. Current value: lambda_l2=0.9672672545133528\n",
      "[LightGBM] [Warning] bagging_freq is set=3, subsample_freq=0 will be ignored. Current value: bagging_freq=3\n",
      "[LightGBM] [Warning] bagging_fraction is set=0.41613729903499513, subsample=1.0 will be ignored. Current value: bagging_fraction=0.41613729903499513\n",
      "[LightGBM] [Warning] lambda_l1 is set=5.160532978562448, reg_alpha=0.0 will be ignored. Current value: lambda_l1=5.160532978562448\n",
      "[LightGBM] [Warning] feature_fraction is set=0.5282173727238787, colsample_bytree=1.0 will be ignored. Current value: feature_fraction=0.5282173727238787\n",
      "[LightGBM] [Warning] lambda_l2 is set=3.9853812073604113, reg_lambda=0.0 will be ignored. Current value: lambda_l2=3.9853812073604113\n",
      "[LightGBM] [Warning] bagging_freq is set=3, subsample_freq=0 will be ignored. Current value: bagging_freq=3\n"
     ]
    },
    {
     "name": "stderr",
     "output_type": "stream",
     "text": [
      "\u001b[32m[I 2023-03-15 19:56:04,894]\u001b[0m Trial 74 finished with value: 0.7774768360294676 and parameters: {'lambda_l1': 5.160532978562448, 'lambda_l2': 3.9853812073604113, 'num_leaves': 26, 'feature_fraction': 0.5282173727238787, 'bagging_fraction': 0.41613729903499513, 'bagging_freq': 3, 'min_child_samples': 91}. Best is trial 62 with value: 0.7824044443063581.\u001b[0m\n"
     ]
    },
    {
     "name": "stdout",
     "output_type": "stream",
     "text": [
      "[LightGBM] [Warning] bagging_fraction is set=0.41613729903499513, subsample=1.0 will be ignored. Current value: bagging_fraction=0.41613729903499513\n",
      "[LightGBM] [Warning] lambda_l1 is set=5.160532978562448, reg_alpha=0.0 will be ignored. Current value: lambda_l1=5.160532978562448\n",
      "[LightGBM] [Warning] feature_fraction is set=0.5282173727238787, colsample_bytree=1.0 will be ignored. Current value: feature_fraction=0.5282173727238787\n",
      "[LightGBM] [Warning] lambda_l2 is set=3.9853812073604113, reg_lambda=0.0 will be ignored. Current value: lambda_l2=3.9853812073604113\n",
      "[LightGBM] [Warning] bagging_freq is set=3, subsample_freq=0 will be ignored. Current value: bagging_freq=3\n",
      "[LightGBM] [Warning] bagging_fraction is set=0.41613729903499513, subsample=1.0 will be ignored. Current value: bagging_fraction=0.41613729903499513\n",
      "[LightGBM] [Warning] lambda_l1 is set=5.160532978562448, reg_alpha=0.0 will be ignored. Current value: lambda_l1=5.160532978562448\n",
      "[LightGBM] [Warning] feature_fraction is set=0.5282173727238787, colsample_bytree=1.0 will be ignored. Current value: feature_fraction=0.5282173727238787\n",
      "[LightGBM] [Warning] lambda_l2 is set=3.9853812073604113, reg_lambda=0.0 will be ignored. Current value: lambda_l2=3.9853812073604113\n",
      "[LightGBM] [Warning] bagging_freq is set=3, subsample_freq=0 will be ignored. Current value: bagging_freq=3\n",
      "[LightGBM] [Warning] bagging_fraction is set=0.41613729903499513, subsample=1.0 will be ignored. Current value: bagging_fraction=0.41613729903499513\n",
      "[LightGBM] [Warning] lambda_l1 is set=5.160532978562448, reg_alpha=0.0 will be ignored. Current value: lambda_l1=5.160532978562448\n",
      "[LightGBM] [Warning] feature_fraction is set=0.5282173727238787, colsample_bytree=1.0 will be ignored. Current value: feature_fraction=0.5282173727238787\n",
      "[LightGBM] [Warning] lambda_l2 is set=3.9853812073604113, reg_lambda=0.0 will be ignored. Current value: lambda_l2=3.9853812073604113\n",
      "[LightGBM] [Warning] bagging_freq is set=3, subsample_freq=0 will be ignored. Current value: bagging_freq=3\n",
      "[LightGBM] [Warning] bagging_fraction is set=0.41613729903499513, subsample=1.0 will be ignored. Current value: bagging_fraction=0.41613729903499513\n",
      "[LightGBM] [Warning] lambda_l1 is set=5.160532978562448, reg_alpha=0.0 will be ignored. Current value: lambda_l1=5.160532978562448\n",
      "[LightGBM] [Warning] feature_fraction is set=0.5282173727238787, colsample_bytree=1.0 will be ignored. Current value: feature_fraction=0.5282173727238787\n",
      "[LightGBM] [Warning] lambda_l2 is set=3.9853812073604113, reg_lambda=0.0 will be ignored. Current value: lambda_l2=3.9853812073604113\n",
      "[LightGBM] [Warning] bagging_freq is set=3, subsample_freq=0 will be ignored. Current value: bagging_freq=3\n",
      "[LightGBM] [Warning] bagging_fraction is set=0.4462325661668042, subsample=1.0 will be ignored. Current value: bagging_fraction=0.4462325661668042\n",
      "[LightGBM] [Warning] lambda_l1 is set=1.1273991662088183, reg_alpha=0.0 will be ignored. Current value: lambda_l1=1.1273991662088183\n",
      "[LightGBM] [Warning] feature_fraction is set=0.4863691407149025, colsample_bytree=1.0 will be ignored. Current value: feature_fraction=0.4863691407149025\n",
      "[LightGBM] [Warning] lambda_l2 is set=2.4711058801653283, reg_lambda=0.0 will be ignored. Current value: lambda_l2=2.4711058801653283\n",
      "[LightGBM] [Warning] bagging_freq is set=4, subsample_freq=0 will be ignored. Current value: bagging_freq=4\n",
      "[LightGBM] [Warning] bagging_fraction is set=0.4462325661668042, subsample=1.0 will be ignored. Current value: bagging_fraction=0.4462325661668042\n",
      "[LightGBM] [Warning] lambda_l1 is set=1.1273991662088183, reg_alpha=0.0 will be ignored. Current value: lambda_l1=1.1273991662088183\n",
      "[LightGBM] [Warning] feature_fraction is set=0.4863691407149025, colsample_bytree=1.0 will be ignored. Current value: feature_fraction=0.4863691407149025\n",
      "[LightGBM] [Warning] lambda_l2 is set=2.4711058801653283, reg_lambda=0.0 will be ignored. Current value: lambda_l2=2.4711058801653283\n",
      "[LightGBM] [Warning] bagging_freq is set=4, subsample_freq=0 will be ignored. Current value: bagging_freq=4\n",
      "[LightGBM] [Warning] bagging_fraction is set=0.4462325661668042, subsample=1.0 will be ignored. Current value: bagging_fraction=0.4462325661668042\n",
      "[LightGBM] [Warning] lambda_l1 is set=1.1273991662088183, reg_alpha=0.0 will be ignored. Current value: lambda_l1=1.1273991662088183\n",
      "[LightGBM] [Warning] feature_fraction is set=0.4863691407149025, colsample_bytree=1.0 will be ignored. Current value: feature_fraction=0.4863691407149025\n",
      "[LightGBM] [Warning] lambda_l2 is set=2.4711058801653283, reg_lambda=0.0 will be ignored. Current value: lambda_l2=2.4711058801653283\n",
      "[LightGBM] [Warning] bagging_freq is set=4, subsample_freq=0 will be ignored. Current value: bagging_freq=4\n",
      "[LightGBM] [Warning] bagging_fraction is set=0.4462325661668042, subsample=1.0 will be ignored. Current value: bagging_fraction=0.4462325661668042\n",
      "[LightGBM] [Warning] lambda_l1 is set=1.1273991662088183, reg_alpha=0.0 will be ignored. Current value: lambda_l1=1.1273991662088183\n",
      "[LightGBM] [Warning] feature_fraction is set=0.4863691407149025, colsample_bytree=1.0 will be ignored. Current value: feature_fraction=0.4863691407149025\n",
      "[LightGBM] [Warning] lambda_l2 is set=2.4711058801653283, reg_lambda=0.0 will be ignored. Current value: lambda_l2=2.4711058801653283\n",
      "[LightGBM] [Warning] bagging_freq is set=4, subsample_freq=0 will be ignored. Current value: bagging_freq=4\n",
      "[LightGBM] [Warning] bagging_fraction is set=0.4462325661668042, subsample=1.0 will be ignored. Current value: bagging_fraction=0.4462325661668042\n",
      "[LightGBM] [Warning] lambda_l1 is set=1.1273991662088183, reg_alpha=0.0 will be ignored. Current value: lambda_l1=1.1273991662088183\n",
      "[LightGBM] [Warning] feature_fraction is set=0.4863691407149025, colsample_bytree=1.0 will be ignored. Current value: feature_fraction=0.4863691407149025\n",
      "[LightGBM] [Warning] lambda_l2 is set=2.4711058801653283, reg_lambda=0.0 will be ignored. Current value: lambda_l2=2.4711058801653283\n",
      "[LightGBM] [Warning] bagging_freq is set=4, subsample_freq=0 will be ignored. Current value: bagging_freq=4\n"
     ]
    },
    {
     "name": "stderr",
     "output_type": "stream",
     "text": [
      "\u001b[32m[I 2023-03-15 19:56:05,202]\u001b[0m Trial 75 finished with value: 0.7604261169452557 and parameters: {'lambda_l1': 1.1273991662088183, 'lambda_l2': 2.4711058801653283, 'num_leaves': 39, 'feature_fraction': 0.4863691407149025, 'bagging_fraction': 0.4462325661668042, 'bagging_freq': 4, 'min_child_samples': 86}. Best is trial 62 with value: 0.7824044443063581.\u001b[0m\n"
     ]
    },
    {
     "name": "stdout",
     "output_type": "stream",
     "text": [
      "[LightGBM] [Warning] bagging_fraction is set=0.5301983467889266, subsample=1.0 will be ignored. Current value: bagging_fraction=0.5301983467889266\n",
      "[LightGBM] [Warning] lambda_l1 is set=7.0481290587334735, reg_alpha=0.0 will be ignored. Current value: lambda_l1=7.0481290587334735\n",
      "[LightGBM] [Warning] feature_fraction is set=0.5107243550751667, colsample_bytree=1.0 will be ignored. Current value: feature_fraction=0.5107243550751667\n",
      "[LightGBM] [Warning] lambda_l2 is set=0.48947201649641425, reg_lambda=0.0 will be ignored. Current value: lambda_l2=0.48947201649641425\n",
      "[LightGBM] [Warning] bagging_freq is set=3, subsample_freq=0 will be ignored. Current value: bagging_freq=3\n",
      "[LightGBM] [Warning] bagging_fraction is set=0.5301983467889266, subsample=1.0 will be ignored. Current value: bagging_fraction=0.5301983467889266\n",
      "[LightGBM] [Warning] lambda_l1 is set=7.0481290587334735, reg_alpha=0.0 will be ignored. Current value: lambda_l1=7.0481290587334735\n",
      "[LightGBM] [Warning] feature_fraction is set=0.5107243550751667, colsample_bytree=1.0 will be ignored. Current value: feature_fraction=0.5107243550751667\n",
      "[LightGBM] [Warning] lambda_l2 is set=0.48947201649641425, reg_lambda=0.0 will be ignored. Current value: lambda_l2=0.48947201649641425\n",
      "[LightGBM] [Warning] bagging_freq is set=3, subsample_freq=0 will be ignored. Current value: bagging_freq=3\n",
      "[LightGBM] [Warning] bagging_fraction is set=0.5301983467889266, subsample=1.0 will be ignored. Current value: bagging_fraction=0.5301983467889266\n",
      "[LightGBM] [Warning] lambda_l1 is set=7.0481290587334735, reg_alpha=0.0 will be ignored. Current value: lambda_l1=7.0481290587334735\n",
      "[LightGBM] [Warning] feature_fraction is set=0.5107243550751667, colsample_bytree=1.0 will be ignored. Current value: feature_fraction=0.5107243550751667\n",
      "[LightGBM] [Warning] lambda_l2 is set=0.48947201649641425, reg_lambda=0.0 will be ignored. Current value: lambda_l2=0.48947201649641425\n",
      "[LightGBM] [Warning] bagging_freq is set=3, subsample_freq=0 will be ignored. Current value: bagging_freq=3\n",
      "[LightGBM] [Warning] bagging_fraction is set=0.5301983467889266, subsample=1.0 will be ignored. Current value: bagging_fraction=0.5301983467889266\n",
      "[LightGBM] [Warning] lambda_l1 is set=7.0481290587334735, reg_alpha=0.0 will be ignored. Current value: lambda_l1=7.0481290587334735\n",
      "[LightGBM] [Warning] feature_fraction is set=0.5107243550751667, colsample_bytree=1.0 will be ignored. Current value: feature_fraction=0.5107243550751667\n",
      "[LightGBM] [Warning] lambda_l2 is set=0.48947201649641425, reg_lambda=0.0 will be ignored. Current value: lambda_l2=0.48947201649641425\n",
      "[LightGBM] [Warning] bagging_freq is set=3, subsample_freq=0 will be ignored. Current value: bagging_freq=3\n",
      "[LightGBM] [Warning] bagging_fraction is set=0.5301983467889266, subsample=1.0 will be ignored. Current value: bagging_fraction=0.5301983467889266\n",
      "[LightGBM] [Warning] lambda_l1 is set=7.0481290587334735, reg_alpha=0.0 will be ignored. Current value: lambda_l1=7.0481290587334735\n",
      "[LightGBM] [Warning] feature_fraction is set=0.5107243550751667, colsample_bytree=1.0 will be ignored. Current value: feature_fraction=0.5107243550751667\n",
      "[LightGBM] [Warning] lambda_l2 is set=0.48947201649641425, reg_lambda=0.0 will be ignored. Current value: lambda_l2=0.48947201649641425\n",
      "[LightGBM] [Warning] bagging_freq is set=3, subsample_freq=0 will be ignored. Current value: bagging_freq=3\n"
     ]
    },
    {
     "name": "stderr",
     "output_type": "stream",
     "text": [
      "\u001b[32m[I 2023-03-15 19:56:05,497]\u001b[0m Trial 76 finished with value: 0.772361171523851 and parameters: {'lambda_l1': 7.0481290587334735, 'lambda_l2': 0.48947201649641425, 'num_leaves': 64, 'feature_fraction': 0.5107243550751667, 'bagging_fraction': 0.5301983467889266, 'bagging_freq': 3, 'min_child_samples': 96}. Best is trial 62 with value: 0.7824044443063581.\u001b[0m\n"
     ]
    },
    {
     "name": "stdout",
     "output_type": "stream",
     "text": [
      "[LightGBM] [Warning] bagging_fraction is set=0.43449430768046104, subsample=1.0 will be ignored. Current value: bagging_fraction=0.43449430768046104\n",
      "[LightGBM] [Warning] lambda_l1 is set=9.405487799330126, reg_alpha=0.0 will be ignored. Current value: lambda_l1=9.405487799330126\n",
      "[LightGBM] [Warning] feature_fraction is set=0.6032181509532079, colsample_bytree=1.0 will be ignored. Current value: feature_fraction=0.6032181509532079\n",
      "[LightGBM] [Warning] lambda_l2 is set=6.2678403959710645, reg_lambda=0.0 will be ignored. Current value: lambda_l2=6.2678403959710645\n",
      "[LightGBM] [Warning] bagging_freq is set=2, subsample_freq=0 will be ignored. Current value: bagging_freq=2\n",
      "[LightGBM] [Warning] bagging_fraction is set=0.43449430768046104, subsample=1.0 will be ignored. Current value: bagging_fraction=0.43449430768046104\n",
      "[LightGBM] [Warning] lambda_l1 is set=9.405487799330126, reg_alpha=0.0 will be ignored. Current value: lambda_l1=9.405487799330126\n",
      "[LightGBM] [Warning] feature_fraction is set=0.6032181509532079, colsample_bytree=1.0 will be ignored. Current value: feature_fraction=0.6032181509532079\n",
      "[LightGBM] [Warning] lambda_l2 is set=6.2678403959710645, reg_lambda=0.0 will be ignored. Current value: lambda_l2=6.2678403959710645\n",
      "[LightGBM] [Warning] bagging_freq is set=2, subsample_freq=0 will be ignored. Current value: bagging_freq=2\n",
      "[LightGBM] [Warning] bagging_fraction is set=0.43449430768046104, subsample=1.0 will be ignored. Current value: bagging_fraction=0.43449430768046104\n",
      "[LightGBM] [Warning] lambda_l1 is set=9.405487799330126, reg_alpha=0.0 will be ignored. Current value: lambda_l1=9.405487799330126\n",
      "[LightGBM] [Warning] feature_fraction is set=0.6032181509532079, colsample_bytree=1.0 will be ignored. Current value: feature_fraction=0.6032181509532079\n",
      "[LightGBM] [Warning] lambda_l2 is set=6.2678403959710645, reg_lambda=0.0 will be ignored. Current value: lambda_l2=6.2678403959710645\n",
      "[LightGBM] [Warning] bagging_freq is set=2, subsample_freq=0 will be ignored. Current value: bagging_freq=2\n",
      "[LightGBM] [Warning] bagging_fraction is set=0.43449430768046104, subsample=1.0 will be ignored. Current value: bagging_fraction=0.43449430768046104\n",
      "[LightGBM] [Warning] lambda_l1 is set=9.405487799330126, reg_alpha=0.0 will be ignored. Current value: lambda_l1=9.405487799330126\n",
      "[LightGBM] [Warning] feature_fraction is set=0.6032181509532079, colsample_bytree=1.0 will be ignored. Current value: feature_fraction=0.6032181509532079\n",
      "[LightGBM] [Warning] lambda_l2 is set=6.2678403959710645, reg_lambda=0.0 will be ignored. Current value: lambda_l2=6.2678403959710645\n",
      "[LightGBM] [Warning] bagging_freq is set=2, subsample_freq=0 will be ignored. Current value: bagging_freq=2\n"
     ]
    },
    {
     "name": "stderr",
     "output_type": "stream",
     "text": [
      "\u001b[32m[I 2023-03-15 19:56:05,849]\u001b[0m Trial 77 finished with value: 0.7779458114984431 and parameters: {'lambda_l1': 9.405487799330126, 'lambda_l2': 6.2678403959710645, 'num_leaves': 29, 'feature_fraction': 0.6032181509532079, 'bagging_fraction': 0.43449430768046104, 'bagging_freq': 2, 'min_child_samples': 29}. Best is trial 62 with value: 0.7824044443063581.\u001b[0m\n"
     ]
    },
    {
     "name": "stdout",
     "output_type": "stream",
     "text": [
      "[LightGBM] [Warning] bagging_fraction is set=0.43449430768046104, subsample=1.0 will be ignored. Current value: bagging_fraction=0.43449430768046104\n",
      "[LightGBM] [Warning] lambda_l1 is set=9.405487799330126, reg_alpha=0.0 will be ignored. Current value: lambda_l1=9.405487799330126\n",
      "[LightGBM] [Warning] feature_fraction is set=0.6032181509532079, colsample_bytree=1.0 will be ignored. Current value: feature_fraction=0.6032181509532079\n",
      "[LightGBM] [Warning] lambda_l2 is set=6.2678403959710645, reg_lambda=0.0 will be ignored. Current value: lambda_l2=6.2678403959710645\n",
      "[LightGBM] [Warning] bagging_freq is set=2, subsample_freq=0 will be ignored. Current value: bagging_freq=2\n",
      "[LightGBM] [Warning] bagging_fraction is set=0.43175564187762655, subsample=1.0 will be ignored. Current value: bagging_fraction=0.43175564187762655\n",
      "[LightGBM] [Warning] lambda_l1 is set=1.4446655069378005, reg_alpha=0.0 will be ignored. Current value: lambda_l1=1.4446655069378005\n",
      "[LightGBM] [Warning] feature_fraction is set=0.6148874842523384, colsample_bytree=1.0 will be ignored. Current value: feature_fraction=0.6148874842523384\n",
      "[LightGBM] [Warning] lambda_l2 is set=5.82876399954654, reg_lambda=0.0 will be ignored. Current value: lambda_l2=5.82876399954654\n",
      "[LightGBM] [Warning] bagging_freq is set=2, subsample_freq=0 will be ignored. Current value: bagging_freq=2\n",
      "[LightGBM] [Warning] bagging_fraction is set=0.43175564187762655, subsample=1.0 will be ignored. Current value: bagging_fraction=0.43175564187762655\n",
      "[LightGBM] [Warning] lambda_l1 is set=1.4446655069378005, reg_alpha=0.0 will be ignored. Current value: lambda_l1=1.4446655069378005\n",
      "[LightGBM] [Warning] feature_fraction is set=0.6148874842523384, colsample_bytree=1.0 will be ignored. Current value: feature_fraction=0.6148874842523384\n",
      "[LightGBM] [Warning] lambda_l2 is set=5.82876399954654, reg_lambda=0.0 will be ignored. Current value: lambda_l2=5.82876399954654\n",
      "[LightGBM] [Warning] bagging_freq is set=2, subsample_freq=0 will be ignored. Current value: bagging_freq=2\n",
      "[LightGBM] [Warning] bagging_fraction is set=0.43175564187762655, subsample=1.0 will be ignored. Current value: bagging_fraction=0.43175564187762655\n",
      "[LightGBM] [Warning] lambda_l1 is set=1.4446655069378005, reg_alpha=0.0 will be ignored. Current value: lambda_l1=1.4446655069378005\n",
      "[LightGBM] [Warning] feature_fraction is set=0.6148874842523384, colsample_bytree=1.0 will be ignored. Current value: feature_fraction=0.6148874842523384\n",
      "[LightGBM] [Warning] lambda_l2 is set=5.82876399954654, reg_lambda=0.0 will be ignored. Current value: lambda_l2=5.82876399954654\n",
      "[LightGBM] [Warning] bagging_freq is set=2, subsample_freq=0 will be ignored. Current value: bagging_freq=2\n",
      "[LightGBM] [Warning] bagging_fraction is set=0.43175564187762655, subsample=1.0 will be ignored. Current value: bagging_fraction=0.43175564187762655\n",
      "[LightGBM] [Warning] lambda_l1 is set=1.4446655069378005, reg_alpha=0.0 will be ignored. Current value: lambda_l1=1.4446655069378005\n",
      "[LightGBM] [Warning] feature_fraction is set=0.6148874842523384, colsample_bytree=1.0 will be ignored. Current value: feature_fraction=0.6148874842523384\n",
      "[LightGBM] [Warning] lambda_l2 is set=5.82876399954654, reg_lambda=0.0 will be ignored. Current value: lambda_l2=5.82876399954654\n",
      "[LightGBM] [Warning] bagging_freq is set=2, subsample_freq=0 will be ignored. Current value: bagging_freq=2\n",
      "[LightGBM] [Warning] bagging_fraction is set=0.43175564187762655, subsample=1.0 will be ignored. Current value: bagging_fraction=0.43175564187762655\n",
      "[LightGBM] [Warning] lambda_l1 is set=1.4446655069378005, reg_alpha=0.0 will be ignored. Current value: lambda_l1=1.4446655069378005\n",
      "[LightGBM] [Warning] feature_fraction is set=0.6148874842523384, colsample_bytree=1.0 will be ignored. Current value: feature_fraction=0.6148874842523384\n",
      "[LightGBM] [Warning] lambda_l2 is set=5.82876399954654, reg_lambda=0.0 will be ignored. Current value: lambda_l2=5.82876399954654\n",
      "[LightGBM] [Warning] bagging_freq is set=2, subsample_freq=0 will be ignored. Current value: bagging_freq=2\n"
     ]
    },
    {
     "name": "stderr",
     "output_type": "stream",
     "text": [
      "\u001b[32m[I 2023-03-15 19:56:06,247]\u001b[0m Trial 78 finished with value: 0.75789568618516 and parameters: {'lambda_l1': 1.4446655069378005, 'lambda_l2': 5.82876399954654, 'num_leaves': 54, 'feature_fraction': 0.6148874842523384, 'bagging_fraction': 0.43175564187762655, 'bagging_freq': 2, 'min_child_samples': 42}. Best is trial 62 with value: 0.7824044443063581.\u001b[0m\n"
     ]
    },
    {
     "name": "stdout",
     "output_type": "stream",
     "text": [
      "[LightGBM] [Warning] bagging_fraction is set=0.5057373425982254, subsample=1.0 will be ignored. Current value: bagging_fraction=0.5057373425982254\n",
      "[LightGBM] [Warning] lambda_l1 is set=0.6886759894121708, reg_alpha=0.0 will be ignored. Current value: lambda_l1=0.6886759894121708\n",
      "[LightGBM] [Warning] feature_fraction is set=0.6046218974226701, colsample_bytree=1.0 will be ignored. Current value: feature_fraction=0.6046218974226701\n",
      "[LightGBM] [Warning] lambda_l2 is set=2.1562902334930176, reg_lambda=0.0 will be ignored. Current value: lambda_l2=2.1562902334930176\n",
      "[LightGBM] [Warning] bagging_freq is set=2, subsample_freq=0 will be ignored. Current value: bagging_freq=2\n",
      "[LightGBM] [Warning] bagging_fraction is set=0.5057373425982254, subsample=1.0 will be ignored. Current value: bagging_fraction=0.5057373425982254\n",
      "[LightGBM] [Warning] lambda_l1 is set=0.6886759894121708, reg_alpha=0.0 will be ignored. Current value: lambda_l1=0.6886759894121708\n",
      "[LightGBM] [Warning] feature_fraction is set=0.6046218974226701, colsample_bytree=1.0 will be ignored. Current value: feature_fraction=0.6046218974226701\n",
      "[LightGBM] [Warning] lambda_l2 is set=2.1562902334930176, reg_lambda=0.0 will be ignored. Current value: lambda_l2=2.1562902334930176\n",
      "[LightGBM] [Warning] bagging_freq is set=2, subsample_freq=0 will be ignored. Current value: bagging_freq=2\n",
      "[LightGBM] [Warning] bagging_fraction is set=0.5057373425982254, subsample=1.0 will be ignored. Current value: bagging_fraction=0.5057373425982254\n",
      "[LightGBM] [Warning] lambda_l1 is set=0.6886759894121708, reg_alpha=0.0 will be ignored. Current value: lambda_l1=0.6886759894121708\n",
      "[LightGBM] [Warning] feature_fraction is set=0.6046218974226701, colsample_bytree=1.0 will be ignored. Current value: feature_fraction=0.6046218974226701\n",
      "[LightGBM] [Warning] lambda_l2 is set=2.1562902334930176, reg_lambda=0.0 will be ignored. Current value: lambda_l2=2.1562902334930176\n",
      "[LightGBM] [Warning] bagging_freq is set=2, subsample_freq=0 will be ignored. Current value: bagging_freq=2\n",
      "[LightGBM] [Warning] bagging_fraction is set=0.5057373425982254, subsample=1.0 will be ignored. Current value: bagging_fraction=0.5057373425982254\n",
      "[LightGBM] [Warning] lambda_l1 is set=0.6886759894121708, reg_alpha=0.0 will be ignored. Current value: lambda_l1=0.6886759894121708\n",
      "[LightGBM] [Warning] feature_fraction is set=0.6046218974226701, colsample_bytree=1.0 will be ignored. Current value: feature_fraction=0.6046218974226701\n",
      "[LightGBM] [Warning] lambda_l2 is set=2.1562902334930176, reg_lambda=0.0 will be ignored. Current value: lambda_l2=2.1562902334930176\n",
      "[LightGBM] [Warning] bagging_freq is set=2, subsample_freq=0 will be ignored. Current value: bagging_freq=2\n"
     ]
    },
    {
     "name": "stderr",
     "output_type": "stream",
     "text": [
      "\u001b[32m[I 2023-03-15 19:56:06,861]\u001b[0m Trial 79 finished with value: 0.7439153151473725 and parameters: {'lambda_l1': 0.6886759894121708, 'lambda_l2': 2.1562902334930176, 'num_leaves': 71, 'feature_fraction': 0.6046218974226701, 'bagging_fraction': 0.5057373425982254, 'bagging_freq': 2, 'min_child_samples': 23}. Best is trial 62 with value: 0.7824044443063581.\u001b[0m\n"
     ]
    },
    {
     "name": "stdout",
     "output_type": "stream",
     "text": [
      "[LightGBM] [Warning] bagging_fraction is set=0.5057373425982254, subsample=1.0 will be ignored. Current value: bagging_fraction=0.5057373425982254\n",
      "[LightGBM] [Warning] lambda_l1 is set=0.6886759894121708, reg_alpha=0.0 will be ignored. Current value: lambda_l1=0.6886759894121708\n",
      "[LightGBM] [Warning] feature_fraction is set=0.6046218974226701, colsample_bytree=1.0 will be ignored. Current value: feature_fraction=0.6046218974226701\n",
      "[LightGBM] [Warning] lambda_l2 is set=2.1562902334930176, reg_lambda=0.0 will be ignored. Current value: lambda_l2=2.1562902334930176\n",
      "[LightGBM] [Warning] bagging_freq is set=2, subsample_freq=0 will be ignored. Current value: bagging_freq=2\n",
      "[LightGBM] [Warning] bagging_fraction is set=0.4591721202032756, subsample=1.0 will be ignored. Current value: bagging_fraction=0.4591721202032756\n",
      "[LightGBM] [Warning] lambda_l1 is set=3.9127549281075185, reg_alpha=0.0 will be ignored. Current value: lambda_l1=3.9127549281075185\n",
      "[LightGBM] [Warning] feature_fraction is set=0.5804518177591231, colsample_bytree=1.0 will be ignored. Current value: feature_fraction=0.5804518177591231\n",
      "[LightGBM] [Warning] lambda_l2 is set=9.552607213308246, reg_lambda=0.0 will be ignored. Current value: lambda_l2=9.552607213308246\n",
      "[LightGBM] [Warning] bagging_freq is set=6, subsample_freq=0 will be ignored. Current value: bagging_freq=6\n",
      "[LightGBM] [Warning] bagging_fraction is set=0.4591721202032756, subsample=1.0 will be ignored. Current value: bagging_fraction=0.4591721202032756\n",
      "[LightGBM] [Warning] lambda_l1 is set=3.9127549281075185, reg_alpha=0.0 will be ignored. Current value: lambda_l1=3.9127549281075185\n",
      "[LightGBM] [Warning] feature_fraction is set=0.5804518177591231, colsample_bytree=1.0 will be ignored. Current value: feature_fraction=0.5804518177591231\n",
      "[LightGBM] [Warning] lambda_l2 is set=9.552607213308246, reg_lambda=0.0 will be ignored. Current value: lambda_l2=9.552607213308246\n",
      "[LightGBM] [Warning] bagging_freq is set=6, subsample_freq=0 will be ignored. Current value: bagging_freq=6\n",
      "[LightGBM] [Warning] bagging_fraction is set=0.4591721202032756, subsample=1.0 will be ignored. Current value: bagging_fraction=0.4591721202032756\n",
      "[LightGBM] [Warning] lambda_l1 is set=3.9127549281075185, reg_alpha=0.0 will be ignored. Current value: lambda_l1=3.9127549281075185\n",
      "[LightGBM] [Warning] feature_fraction is set=0.5804518177591231, colsample_bytree=1.0 will be ignored. Current value: feature_fraction=0.5804518177591231\n",
      "[LightGBM] [Warning] lambda_l2 is set=9.552607213308246, reg_lambda=0.0 will be ignored. Current value: lambda_l2=9.552607213308246\n",
      "[LightGBM] [Warning] bagging_freq is set=6, subsample_freq=0 will be ignored. Current value: bagging_freq=6\n",
      "[LightGBM] [Warning] bagging_fraction is set=0.4591721202032756, subsample=1.0 will be ignored. Current value: bagging_fraction=0.4591721202032756\n",
      "[LightGBM] [Warning] lambda_l1 is set=3.9127549281075185, reg_alpha=0.0 will be ignored. Current value: lambda_l1=3.9127549281075185\n",
      "[LightGBM] [Warning] feature_fraction is set=0.5804518177591231, colsample_bytree=1.0 will be ignored. Current value: feature_fraction=0.5804518177591231\n",
      "[LightGBM] [Warning] lambda_l2 is set=9.552607213308246, reg_lambda=0.0 will be ignored. Current value: lambda_l2=9.552607213308246\n",
      "[LightGBM] [Warning] bagging_freq is set=6, subsample_freq=0 will be ignored. Current value: bagging_freq=6\n"
     ]
    },
    {
     "name": "stderr",
     "output_type": "stream",
     "text": [
      "\u001b[32m[I 2023-03-15 19:56:07,279]\u001b[0m Trial 80 finished with value: 0.7681741371334672 and parameters: {'lambda_l1': 3.9127549281075185, 'lambda_l2': 9.552607213308246, 'num_leaves': 47, 'feature_fraction': 0.5804518177591231, 'bagging_fraction': 0.4591721202032756, 'bagging_freq': 6, 'min_child_samples': 35}. Best is trial 62 with value: 0.7824044443063581.\u001b[0m\n"
     ]
    },
    {
     "name": "stdout",
     "output_type": "stream",
     "text": [
      "[LightGBM] [Warning] bagging_fraction is set=0.4591721202032756, subsample=1.0 will be ignored. Current value: bagging_fraction=0.4591721202032756\n",
      "[LightGBM] [Warning] lambda_l1 is set=3.9127549281075185, reg_alpha=0.0 will be ignored. Current value: lambda_l1=3.9127549281075185\n",
      "[LightGBM] [Warning] feature_fraction is set=0.5804518177591231, colsample_bytree=1.0 will be ignored. Current value: feature_fraction=0.5804518177591231\n",
      "[LightGBM] [Warning] lambda_l2 is set=9.552607213308246, reg_lambda=0.0 will be ignored. Current value: lambda_l2=9.552607213308246\n",
      "[LightGBM] [Warning] bagging_freq is set=6, subsample_freq=0 will be ignored. Current value: bagging_freq=6\n",
      "[LightGBM] [Warning] bagging_fraction is set=0.41485504501466675, subsample=1.0 will be ignored. Current value: bagging_fraction=0.41485504501466675\n",
      "[LightGBM] [Warning] lambda_l1 is set=8.866465171209942, reg_alpha=0.0 will be ignored. Current value: lambda_l1=8.866465171209942\n",
      "[LightGBM] [Warning] feature_fraction is set=0.5317818529017175, colsample_bytree=1.0 will be ignored. Current value: feature_fraction=0.5317818529017175\n",
      "[LightGBM] [Warning] lambda_l2 is set=1.0604149191611592, reg_lambda=0.0 will be ignored. Current value: lambda_l2=1.0604149191611592\n",
      "[LightGBM] [Warning] bagging_freq is set=3, subsample_freq=0 will be ignored. Current value: bagging_freq=3\n",
      "[LightGBM] [Warning] bagging_fraction is set=0.41485504501466675, subsample=1.0 will be ignored. Current value: bagging_fraction=0.41485504501466675\n",
      "[LightGBM] [Warning] lambda_l1 is set=8.866465171209942, reg_alpha=0.0 will be ignored. Current value: lambda_l1=8.866465171209942\n",
      "[LightGBM] [Warning] feature_fraction is set=0.5317818529017175, colsample_bytree=1.0 will be ignored. Current value: feature_fraction=0.5317818529017175\n",
      "[LightGBM] [Warning] lambda_l2 is set=1.0604149191611592, reg_lambda=0.0 will be ignored. Current value: lambda_l2=1.0604149191611592\n",
      "[LightGBM] [Warning] bagging_freq is set=3, subsample_freq=0 will be ignored. Current value: bagging_freq=3\n"
     ]
    },
    {
     "name": "stderr",
     "output_type": "stream",
     "text": [
      "\u001b[32m[I 2023-03-15 19:56:07,568]\u001b[0m Trial 81 finished with value: 0.7784803779421005 and parameters: {'lambda_l1': 8.866465171209942, 'lambda_l2': 1.0604149191611592, 'num_leaves': 27, 'feature_fraction': 0.5317818529017175, 'bagging_fraction': 0.41485504501466675, 'bagging_freq': 3, 'min_child_samples': 66}. Best is trial 62 with value: 0.7824044443063581.\u001b[0m\n"
     ]
    },
    {
     "name": "stdout",
     "output_type": "stream",
     "text": [
      "[LightGBM] [Warning] bagging_fraction is set=0.41485504501466675, subsample=1.0 will be ignored. Current value: bagging_fraction=0.41485504501466675\n",
      "[LightGBM] [Warning] lambda_l1 is set=8.866465171209942, reg_alpha=0.0 will be ignored. Current value: lambda_l1=8.866465171209942\n",
      "[LightGBM] [Warning] feature_fraction is set=0.5317818529017175, colsample_bytree=1.0 will be ignored. Current value: feature_fraction=0.5317818529017175\n",
      "[LightGBM] [Warning] lambda_l2 is set=1.0604149191611592, reg_lambda=0.0 will be ignored. Current value: lambda_l2=1.0604149191611592\n",
      "[LightGBM] [Warning] bagging_freq is set=3, subsample_freq=0 will be ignored. Current value: bagging_freq=3\n",
      "[LightGBM] [Warning] bagging_fraction is set=0.41485504501466675, subsample=1.0 will be ignored. Current value: bagging_fraction=0.41485504501466675\n",
      "[LightGBM] [Warning] lambda_l1 is set=8.866465171209942, reg_alpha=0.0 will be ignored. Current value: lambda_l1=8.866465171209942\n",
      "[LightGBM] [Warning] feature_fraction is set=0.5317818529017175, colsample_bytree=1.0 will be ignored. Current value: feature_fraction=0.5317818529017175\n",
      "[LightGBM] [Warning] lambda_l2 is set=1.0604149191611592, reg_lambda=0.0 will be ignored. Current value: lambda_l2=1.0604149191611592\n",
      "[LightGBM] [Warning] bagging_freq is set=3, subsample_freq=0 will be ignored. Current value: bagging_freq=3\n",
      "[LightGBM] [Warning] bagging_fraction is set=0.41485504501466675, subsample=1.0 will be ignored. Current value: bagging_fraction=0.41485504501466675\n",
      "[LightGBM] [Warning] lambda_l1 is set=8.866465171209942, reg_alpha=0.0 will be ignored. Current value: lambda_l1=8.866465171209942\n",
      "[LightGBM] [Warning] feature_fraction is set=0.5317818529017175, colsample_bytree=1.0 will be ignored. Current value: feature_fraction=0.5317818529017175\n",
      "[LightGBM] [Warning] lambda_l2 is set=1.0604149191611592, reg_lambda=0.0 will be ignored. Current value: lambda_l2=1.0604149191611592\n",
      "[LightGBM] [Warning] bagging_freq is set=3, subsample_freq=0 will be ignored. Current value: bagging_freq=3\n",
      "[LightGBM] [Warning] bagging_fraction is set=0.41220950531861933, subsample=1.0 will be ignored. Current value: bagging_fraction=0.41220950531861933\n",
      "[LightGBM] [Warning] lambda_l1 is set=6.174959495155805, reg_alpha=0.0 will be ignored. Current value: lambda_l1=6.174959495155805\n",
      "[LightGBM] [Warning] feature_fraction is set=0.46077549851298505, colsample_bytree=1.0 will be ignored. Current value: feature_fraction=0.46077549851298505\n",
      "[LightGBM] [Warning] lambda_l2 is set=4.6296518151288, reg_lambda=0.0 will be ignored. Current value: lambda_l2=4.6296518151288\n",
      "[LightGBM] [Warning] bagging_freq is set=3, subsample_freq=0 will be ignored. Current value: bagging_freq=3\n"
     ]
    },
    {
     "name": "stderr",
     "output_type": "stream",
     "text": [
      "\u001b[32m[I 2023-03-15 19:56:07,873]\u001b[0m Trial 82 finished with value: 0.7723153441454877 and parameters: {'lambda_l1': 6.174959495155805, 'lambda_l2': 4.6296518151288, 'num_leaves': 18, 'feature_fraction': 0.46077549851298505, 'bagging_fraction': 0.41220950531861933, 'bagging_freq': 3, 'min_child_samples': 55}. Best is trial 62 with value: 0.7824044443063581.\u001b[0m\n"
     ]
    },
    {
     "name": "stdout",
     "output_type": "stream",
     "text": [
      "[LightGBM] [Warning] bagging_fraction is set=0.41220950531861933, subsample=1.0 will be ignored. Current value: bagging_fraction=0.41220950531861933\n",
      "[LightGBM] [Warning] lambda_l1 is set=6.174959495155805, reg_alpha=0.0 will be ignored. Current value: lambda_l1=6.174959495155805\n",
      "[LightGBM] [Warning] feature_fraction is set=0.46077549851298505, colsample_bytree=1.0 will be ignored. Current value: feature_fraction=0.46077549851298505\n",
      "[LightGBM] [Warning] lambda_l2 is set=4.6296518151288, reg_lambda=0.0 will be ignored. Current value: lambda_l2=4.6296518151288\n",
      "[LightGBM] [Warning] bagging_freq is set=3, subsample_freq=0 will be ignored. Current value: bagging_freq=3\n",
      "[LightGBM] [Warning] bagging_fraction is set=0.41220950531861933, subsample=1.0 will be ignored. Current value: bagging_fraction=0.41220950531861933\n",
      "[LightGBM] [Warning] lambda_l1 is set=6.174959495155805, reg_alpha=0.0 will be ignored. Current value: lambda_l1=6.174959495155805\n",
      "[LightGBM] [Warning] feature_fraction is set=0.46077549851298505, colsample_bytree=1.0 will be ignored. Current value: feature_fraction=0.46077549851298505\n",
      "[LightGBM] [Warning] lambda_l2 is set=4.6296518151288, reg_lambda=0.0 will be ignored. Current value: lambda_l2=4.6296518151288\n",
      "[LightGBM] [Warning] bagging_freq is set=3, subsample_freq=0 will be ignored. Current value: bagging_freq=3\n",
      "[LightGBM] [Warning] bagging_fraction is set=0.41220950531861933, subsample=1.0 will be ignored. Current value: bagging_fraction=0.41220950531861933\n",
      "[LightGBM] [Warning] lambda_l1 is set=6.174959495155805, reg_alpha=0.0 will be ignored. Current value: lambda_l1=6.174959495155805\n",
      "[LightGBM] [Warning] feature_fraction is set=0.46077549851298505, colsample_bytree=1.0 will be ignored. Current value: feature_fraction=0.46077549851298505\n",
      "[LightGBM] [Warning] lambda_l2 is set=4.6296518151288, reg_lambda=0.0 will be ignored. Current value: lambda_l2=4.6296518151288\n",
      "[LightGBM] [Warning] bagging_freq is set=3, subsample_freq=0 will be ignored. Current value: bagging_freq=3\n",
      "[LightGBM] [Warning] bagging_fraction is set=0.41220950531861933, subsample=1.0 will be ignored. Current value: bagging_fraction=0.41220950531861933\n",
      "[LightGBM] [Warning] lambda_l1 is set=6.174959495155805, reg_alpha=0.0 will be ignored. Current value: lambda_l1=6.174959495155805\n",
      "[LightGBM] [Warning] feature_fraction is set=0.46077549851298505, colsample_bytree=1.0 will be ignored. Current value: feature_fraction=0.46077549851298505\n",
      "[LightGBM] [Warning] lambda_l2 is set=4.6296518151288, reg_lambda=0.0 will be ignored. Current value: lambda_l2=4.6296518151288\n",
      "[LightGBM] [Warning] bagging_freq is set=3, subsample_freq=0 will be ignored. Current value: bagging_freq=3\n",
      "[LightGBM] [Warning] bagging_fraction is set=0.43249368704212987, subsample=1.0 will be ignored. Current value: bagging_fraction=0.43249368704212987\n",
      "[LightGBM] [Warning] lambda_l1 is set=2.99646602724385, reg_alpha=0.0 will be ignored. Current value: lambda_l1=2.99646602724385\n",
      "[LightGBM] [Warning] feature_fraction is set=0.5958735832313478, colsample_bytree=1.0 will be ignored. Current value: feature_fraction=0.5958735832313478\n",
      "[LightGBM] [Warning] lambda_l2 is set=2.005833176707583, reg_lambda=0.0 will be ignored. Current value: lambda_l2=2.005833176707583\n",
      "[LightGBM] [Warning] bagging_freq is set=2, subsample_freq=0 will be ignored. Current value: bagging_freq=2\n",
      "[LightGBM] [Warning] bagging_fraction is set=0.43249368704212987, subsample=1.0 will be ignored. Current value: bagging_fraction=0.43249368704212987\n",
      "[LightGBM] [Warning] lambda_l1 is set=2.99646602724385, reg_alpha=0.0 will be ignored. Current value: lambda_l1=2.99646602724385\n",
      "[LightGBM] [Warning] feature_fraction is set=0.5958735832313478, colsample_bytree=1.0 will be ignored. Current value: feature_fraction=0.5958735832313478\n",
      "[LightGBM] [Warning] lambda_l2 is set=2.005833176707583, reg_lambda=0.0 will be ignored. Current value: lambda_l2=2.005833176707583\n",
      "[LightGBM] [Warning] bagging_freq is set=2, subsample_freq=0 will be ignored. Current value: bagging_freq=2\n",
      "[LightGBM] [Warning] bagging_fraction is set=0.43249368704212987, subsample=1.0 will be ignored. Current value: bagging_fraction=0.43249368704212987\n",
      "[LightGBM] [Warning] lambda_l1 is set=2.99646602724385, reg_alpha=0.0 will be ignored. Current value: lambda_l1=2.99646602724385\n",
      "[LightGBM] [Warning] feature_fraction is set=0.5958735832313478, colsample_bytree=1.0 will be ignored. Current value: feature_fraction=0.5958735832313478\n",
      "[LightGBM] [Warning] lambda_l2 is set=2.005833176707583, reg_lambda=0.0 will be ignored. Current value: lambda_l2=2.005833176707583\n",
      "[LightGBM] [Warning] bagging_freq is set=2, subsample_freq=0 will be ignored. Current value: bagging_freq=2\n",
      "[LightGBM] [Warning] bagging_fraction is set=0.43249368704212987, subsample=1.0 will be ignored. Current value: bagging_fraction=0.43249368704212987\n",
      "[LightGBM] [Warning] lambda_l1 is set=2.99646602724385, reg_alpha=0.0 will be ignored. Current value: lambda_l1=2.99646602724385\n",
      "[LightGBM] [Warning] feature_fraction is set=0.5958735832313478, colsample_bytree=1.0 will be ignored. Current value: feature_fraction=0.5958735832313478\n",
      "[LightGBM] [Warning] lambda_l2 is set=2.005833176707583, reg_lambda=0.0 will be ignored. Current value: lambda_l2=2.005833176707583\n",
      "[LightGBM] [Warning] bagging_freq is set=2, subsample_freq=0 will be ignored. Current value: bagging_freq=2\n"
     ]
    },
    {
     "name": "stderr",
     "output_type": "stream",
     "text": [
      "\u001b[32m[I 2023-03-15 19:56:08,192]\u001b[0m Trial 83 finished with value: 0.7611904244081277 and parameters: {'lambda_l1': 2.99646602724385, 'lambda_l2': 2.005833176707583, 'num_leaves': 34, 'feature_fraction': 0.5958735832313478, 'bagging_fraction': 0.43249368704212987, 'bagging_freq': 2, 'min_child_samples': 82}. Best is trial 62 with value: 0.7824044443063581.\u001b[0m\n"
     ]
    },
    {
     "name": "stdout",
     "output_type": "stream",
     "text": [
      "[LightGBM] [Warning] bagging_fraction is set=0.43249368704212987, subsample=1.0 will be ignored. Current value: bagging_fraction=0.43249368704212987\n",
      "[LightGBM] [Warning] lambda_l1 is set=2.99646602724385, reg_alpha=0.0 will be ignored. Current value: lambda_l1=2.99646602724385\n",
      "[LightGBM] [Warning] feature_fraction is set=0.5958735832313478, colsample_bytree=1.0 will be ignored. Current value: feature_fraction=0.5958735832313478\n",
      "[LightGBM] [Warning] lambda_l2 is set=2.005833176707583, reg_lambda=0.0 will be ignored. Current value: lambda_l2=2.005833176707583\n",
      "[LightGBM] [Warning] bagging_freq is set=2, subsample_freq=0 will be ignored. Current value: bagging_freq=2\n",
      "[LightGBM] [Warning] bagging_fraction is set=0.4140947653159871, subsample=1.0 will be ignored. Current value: bagging_fraction=0.4140947653159871\n",
      "[LightGBM] [Warning] lambda_l1 is set=6.768875399869932, reg_alpha=0.0 will be ignored. Current value: lambda_l1=6.768875399869932\n",
      "[LightGBM] [Warning] feature_fraction is set=0.5422329360455869, colsample_bytree=1.0 will be ignored. Current value: feature_fraction=0.5422329360455869\n",
      "[LightGBM] [Warning] lambda_l2 is set=3.1288501181763686, reg_lambda=0.0 will be ignored. Current value: lambda_l2=3.1288501181763686\n",
      "[LightGBM] [Warning] bagging_freq is set=2, subsample_freq=0 will be ignored. Current value: bagging_freq=2\n",
      "[LightGBM] [Warning] bagging_fraction is set=0.4140947653159871, subsample=1.0 will be ignored. Current value: bagging_fraction=0.4140947653159871\n",
      "[LightGBM] [Warning] lambda_l1 is set=6.768875399869932, reg_alpha=0.0 will be ignored. Current value: lambda_l1=6.768875399869932\n",
      "[LightGBM] [Warning] feature_fraction is set=0.5422329360455869, colsample_bytree=1.0 will be ignored. Current value: feature_fraction=0.5422329360455869\n",
      "[LightGBM] [Warning] lambda_l2 is set=3.1288501181763686, reg_lambda=0.0 will be ignored. Current value: lambda_l2=3.1288501181763686\n",
      "[LightGBM] [Warning] bagging_freq is set=2, subsample_freq=0 will be ignored. Current value: bagging_freq=2\n"
     ]
    },
    {
     "name": "stderr",
     "output_type": "stream",
     "text": [
      "\u001b[32m[I 2023-03-15 19:56:08,496]\u001b[0m Trial 84 finished with value: 0.7722681359044995 and parameters: {'lambda_l1': 6.768875399869932, 'lambda_l2': 3.1288501181763686, 'num_leaves': 80, 'feature_fraction': 0.5422329360455869, 'bagging_fraction': 0.4140947653159871, 'bagging_freq': 2, 'min_child_samples': 65}. Best is trial 62 with value: 0.7824044443063581.\u001b[0m\n"
     ]
    },
    {
     "name": "stdout",
     "output_type": "stream",
     "text": [
      "[LightGBM] [Warning] bagging_fraction is set=0.4140947653159871, subsample=1.0 will be ignored. Current value: bagging_fraction=0.4140947653159871\n",
      "[LightGBM] [Warning] lambda_l1 is set=6.768875399869932, reg_alpha=0.0 will be ignored. Current value: lambda_l1=6.768875399869932\n",
      "[LightGBM] [Warning] feature_fraction is set=0.5422329360455869, colsample_bytree=1.0 will be ignored. Current value: feature_fraction=0.5422329360455869\n",
      "[LightGBM] [Warning] lambda_l2 is set=3.1288501181763686, reg_lambda=0.0 will be ignored. Current value: lambda_l2=3.1288501181763686\n",
      "[LightGBM] [Warning] bagging_freq is set=2, subsample_freq=0 will be ignored. Current value: bagging_freq=2\n",
      "[LightGBM] [Warning] bagging_fraction is set=0.4140947653159871, subsample=1.0 will be ignored. Current value: bagging_fraction=0.4140947653159871\n",
      "[LightGBM] [Warning] lambda_l1 is set=6.768875399869932, reg_alpha=0.0 will be ignored. Current value: lambda_l1=6.768875399869932\n",
      "[LightGBM] [Warning] feature_fraction is set=0.5422329360455869, colsample_bytree=1.0 will be ignored. Current value: feature_fraction=0.5422329360455869\n",
      "[LightGBM] [Warning] lambda_l2 is set=3.1288501181763686, reg_lambda=0.0 will be ignored. Current value: lambda_l2=3.1288501181763686\n",
      "[LightGBM] [Warning] bagging_freq is set=2, subsample_freq=0 will be ignored. Current value: bagging_freq=2\n",
      "[LightGBM] [Warning] bagging_fraction is set=0.4140947653159871, subsample=1.0 will be ignored. Current value: bagging_fraction=0.4140947653159871\n",
      "[LightGBM] [Warning] lambda_l1 is set=6.768875399869932, reg_alpha=0.0 will be ignored. Current value: lambda_l1=6.768875399869932\n",
      "[LightGBM] [Warning] feature_fraction is set=0.5422329360455869, colsample_bytree=1.0 will be ignored. Current value: feature_fraction=0.5422329360455869\n",
      "[LightGBM] [Warning] lambda_l2 is set=3.1288501181763686, reg_lambda=0.0 will be ignored. Current value: lambda_l2=3.1288501181763686\n",
      "[LightGBM] [Warning] bagging_freq is set=2, subsample_freq=0 will be ignored. Current value: bagging_freq=2\n",
      "[LightGBM] [Warning] bagging_fraction is set=0.45400600029987415, subsample=1.0 will be ignored. Current value: bagging_fraction=0.45400600029987415\n",
      "[LightGBM] [Warning] lambda_l1 is set=3.0273842195270864, reg_alpha=0.0 will be ignored. Current value: lambda_l1=3.0273842195270864\n",
      "[LightGBM] [Warning] feature_fraction is set=0.4793401761815154, colsample_bytree=1.0 will be ignored. Current value: feature_fraction=0.4793401761815154\n",
      "[LightGBM] [Warning] lambda_l2 is set=1.194394659106173, reg_lambda=0.0 will be ignored. Current value: lambda_l2=1.194394659106173\n",
      "[LightGBM] [Warning] bagging_freq is set=1, subsample_freq=0 will be ignored. Current value: bagging_freq=1\n",
      "[LightGBM] [Warning] bagging_fraction is set=0.45400600029987415, subsample=1.0 will be ignored. Current value: bagging_fraction=0.45400600029987415\n",
      "[LightGBM] [Warning] lambda_l1 is set=3.0273842195270864, reg_alpha=0.0 will be ignored. Current value: lambda_l1=3.0273842195270864\n",
      "[LightGBM] [Warning] feature_fraction is set=0.4793401761815154, colsample_bytree=1.0 will be ignored. Current value: feature_fraction=0.4793401761815154\n",
      "[LightGBM] [Warning] lambda_l2 is set=1.194394659106173, reg_lambda=0.0 will be ignored. Current value: lambda_l2=1.194394659106173\n",
      "[LightGBM] [Warning] bagging_freq is set=1, subsample_freq=0 will be ignored. Current value: bagging_freq=1\n",
      "[LightGBM] [Warning] bagging_fraction is set=0.45400600029987415, subsample=1.0 will be ignored. Current value: bagging_fraction=0.45400600029987415\n",
      "[LightGBM] [Warning] lambda_l1 is set=3.0273842195270864, reg_alpha=0.0 will be ignored. Current value: lambda_l1=3.0273842195270864\n",
      "[LightGBM] [Warning] feature_fraction is set=0.4793401761815154, colsample_bytree=1.0 will be ignored. Current value: feature_fraction=0.4793401761815154\n",
      "[LightGBM] [Warning] lambda_l2 is set=1.194394659106173, reg_lambda=0.0 will be ignored. Current value: lambda_l2=1.194394659106173\n",
      "[LightGBM] [Warning] bagging_freq is set=1, subsample_freq=0 will be ignored. Current value: bagging_freq=1\n"
     ]
    },
    {
     "name": "stderr",
     "output_type": "stream",
     "text": [
      "\u001b[32m[I 2023-03-15 19:56:08,983]\u001b[0m Trial 85 finished with value: 0.7557264373053847 and parameters: {'lambda_l1': 3.0273842195270864, 'lambda_l2': 1.194394659106173, 'num_leaves': 13, 'feature_fraction': 0.4793401761815154, 'bagging_fraction': 0.45400600029987415, 'bagging_freq': 1, 'min_child_samples': 23}. Best is trial 62 with value: 0.7824044443063581.\u001b[0m\n"
     ]
    },
    {
     "name": "stdout",
     "output_type": "stream",
     "text": [
      "[LightGBM] [Warning] bagging_fraction is set=0.45400600029987415, subsample=1.0 will be ignored. Current value: bagging_fraction=0.45400600029987415\n",
      "[LightGBM] [Warning] lambda_l1 is set=3.0273842195270864, reg_alpha=0.0 will be ignored. Current value: lambda_l1=3.0273842195270864\n",
      "[LightGBM] [Warning] feature_fraction is set=0.4793401761815154, colsample_bytree=1.0 will be ignored. Current value: feature_fraction=0.4793401761815154\n",
      "[LightGBM] [Warning] lambda_l2 is set=1.194394659106173, reg_lambda=0.0 will be ignored. Current value: lambda_l2=1.194394659106173\n",
      "[LightGBM] [Warning] bagging_freq is set=1, subsample_freq=0 will be ignored. Current value: bagging_freq=1\n",
      "[LightGBM] [Warning] bagging_fraction is set=0.45400600029987415, subsample=1.0 will be ignored. Current value: bagging_fraction=0.45400600029987415\n",
      "[LightGBM] [Warning] lambda_l1 is set=3.0273842195270864, reg_alpha=0.0 will be ignored. Current value: lambda_l1=3.0273842195270864\n",
      "[LightGBM] [Warning] feature_fraction is set=0.4793401761815154, colsample_bytree=1.0 will be ignored. Current value: feature_fraction=0.4793401761815154\n",
      "[LightGBM] [Warning] lambda_l2 is set=1.194394659106173, reg_lambda=0.0 will be ignored. Current value: lambda_l2=1.194394659106173\n",
      "[LightGBM] [Warning] bagging_freq is set=1, subsample_freq=0 will be ignored. Current value: bagging_freq=1\n",
      "[LightGBM] [Warning] bagging_fraction is set=0.436632538831545, subsample=1.0 will be ignored. Current value: bagging_fraction=0.436632538831545\n",
      "[LightGBM] [Warning] lambda_l1 is set=1.63577609297589, reg_alpha=0.0 will be ignored. Current value: lambda_l1=1.63577609297589\n",
      "[LightGBM] [Warning] feature_fraction is set=0.4371824272864986, colsample_bytree=1.0 will be ignored. Current value: feature_fraction=0.4371824272864986\n",
      "[LightGBM] [Warning] lambda_l2 is set=7.01588167124862, reg_lambda=0.0 will be ignored. Current value: lambda_l2=7.01588167124862\n",
      "[LightGBM] [Warning] bagging_freq is set=4, subsample_freq=0 will be ignored. Current value: bagging_freq=4\n",
      "[LightGBM] [Warning] bagging_fraction is set=0.436632538831545, subsample=1.0 will be ignored. Current value: bagging_fraction=0.436632538831545\n",
      "[LightGBM] [Warning] lambda_l1 is set=1.63577609297589, reg_alpha=0.0 will be ignored. Current value: lambda_l1=1.63577609297589\n",
      "[LightGBM] [Warning] feature_fraction is set=0.4371824272864986, colsample_bytree=1.0 will be ignored. Current value: feature_fraction=0.4371824272864986\n",
      "[LightGBM] [Warning] lambda_l2 is set=7.01588167124862, reg_lambda=0.0 will be ignored. Current value: lambda_l2=7.01588167124862\n",
      "[LightGBM] [Warning] bagging_freq is set=4, subsample_freq=0 will be ignored. Current value: bagging_freq=4\n",
      "[LightGBM] [Warning] bagging_fraction is set=0.436632538831545, subsample=1.0 will be ignored. Current value: bagging_fraction=0.436632538831545\n",
      "[LightGBM] [Warning] lambda_l1 is set=1.63577609297589, reg_alpha=0.0 will be ignored. Current value: lambda_l1=1.63577609297589\n",
      "[LightGBM] [Warning] feature_fraction is set=0.4371824272864986, colsample_bytree=1.0 will be ignored. Current value: feature_fraction=0.4371824272864986\n",
      "[LightGBM] [Warning] lambda_l2 is set=7.01588167124862, reg_lambda=0.0 will be ignored. Current value: lambda_l2=7.01588167124862\n",
      "[LightGBM] [Warning] bagging_freq is set=4, subsample_freq=0 will be ignored. Current value: bagging_freq=4\n",
      "[LightGBM] [Warning] bagging_fraction is set=0.436632538831545, subsample=1.0 will be ignored. Current value: bagging_fraction=0.436632538831545\n",
      "[LightGBM] [Warning] lambda_l1 is set=1.63577609297589, reg_alpha=0.0 will be ignored. Current value: lambda_l1=1.63577609297589\n",
      "[LightGBM] [Warning] feature_fraction is set=0.4371824272864986, colsample_bytree=1.0 will be ignored. Current value: feature_fraction=0.4371824272864986\n",
      "[LightGBM] [Warning] lambda_l2 is set=7.01588167124862, reg_lambda=0.0 will be ignored. Current value: lambda_l2=7.01588167124862\n",
      "[LightGBM] [Warning] bagging_freq is set=4, subsample_freq=0 will be ignored. Current value: bagging_freq=4\n"
     ]
    },
    {
     "name": "stderr",
     "output_type": "stream",
     "text": [
      "\u001b[32m[I 2023-03-15 19:56:09,320]\u001b[0m Trial 86 finished with value: 0.7552107714189054 and parameters: {'lambda_l1': 1.63577609297589, 'lambda_l2': 7.01588167124862, 'num_leaves': 106, 'feature_fraction': 0.4371824272864986, 'bagging_fraction': 0.436632538831545, 'bagging_freq': 4, 'min_child_samples': 52}. Best is trial 62 with value: 0.7824044443063581.\u001b[0m\n"
     ]
    },
    {
     "name": "stdout",
     "output_type": "stream",
     "text": [
      "[LightGBM] [Warning] bagging_fraction is set=0.436632538831545, subsample=1.0 will be ignored. Current value: bagging_fraction=0.436632538831545\n",
      "[LightGBM] [Warning] lambda_l1 is set=1.63577609297589, reg_alpha=0.0 will be ignored. Current value: lambda_l1=1.63577609297589\n",
      "[LightGBM] [Warning] feature_fraction is set=0.4371824272864986, colsample_bytree=1.0 will be ignored. Current value: feature_fraction=0.4371824272864986\n",
      "[LightGBM] [Warning] lambda_l2 is set=7.01588167124862, reg_lambda=0.0 will be ignored. Current value: lambda_l2=7.01588167124862\n",
      "[LightGBM] [Warning] bagging_freq is set=4, subsample_freq=0 will be ignored. Current value: bagging_freq=4\n",
      "[LightGBM] [Warning] bagging_fraction is set=0.41779402974326446, subsample=1.0 will be ignored. Current value: bagging_fraction=0.41779402974326446\n",
      "[LightGBM] [Warning] lambda_l1 is set=0.5613472447798623, reg_alpha=0.0 will be ignored. Current value: lambda_l1=0.5613472447798623\n",
      "[LightGBM] [Warning] feature_fraction is set=0.49226097704764826, colsample_bytree=1.0 will be ignored. Current value: feature_fraction=0.49226097704764826\n",
      "[LightGBM] [Warning] lambda_l2 is set=0.14033221094796083, reg_lambda=0.0 will be ignored. Current value: lambda_l2=0.14033221094796083\n",
      "[LightGBM] [Warning] bagging_freq is set=3, subsample_freq=0 will be ignored. Current value: bagging_freq=3\n",
      "[LightGBM] [Warning] bagging_fraction is set=0.41779402974326446, subsample=1.0 will be ignored. Current value: bagging_fraction=0.41779402974326446\n",
      "[LightGBM] [Warning] lambda_l1 is set=0.5613472447798623, reg_alpha=0.0 will be ignored. Current value: lambda_l1=0.5613472447798623\n",
      "[LightGBM] [Warning] feature_fraction is set=0.49226097704764826, colsample_bytree=1.0 will be ignored. Current value: feature_fraction=0.49226097704764826\n",
      "[LightGBM] [Warning] lambda_l2 is set=0.14033221094796083, reg_lambda=0.0 will be ignored. Current value: lambda_l2=0.14033221094796083\n",
      "[LightGBM] [Warning] bagging_freq is set=3, subsample_freq=0 will be ignored. Current value: bagging_freq=3\n",
      "[LightGBM] [Warning] bagging_fraction is set=0.41779402974326446, subsample=1.0 will be ignored. Current value: bagging_fraction=0.41779402974326446\n",
      "[LightGBM] [Warning] lambda_l1 is set=0.5613472447798623, reg_alpha=0.0 will be ignored. Current value: lambda_l1=0.5613472447798623\n",
      "[LightGBM] [Warning] feature_fraction is set=0.49226097704764826, colsample_bytree=1.0 will be ignored. Current value: feature_fraction=0.49226097704764826\n",
      "[LightGBM] [Warning] lambda_l2 is set=0.14033221094796083, reg_lambda=0.0 will be ignored. Current value: lambda_l2=0.14033221094796083\n",
      "[LightGBM] [Warning] bagging_freq is set=3, subsample_freq=0 will be ignored. Current value: bagging_freq=3\n",
      "[LightGBM] [Warning] bagging_fraction is set=0.41779402974326446, subsample=1.0 will be ignored. Current value: bagging_fraction=0.41779402974326446\n",
      "[LightGBM] [Warning] lambda_l1 is set=0.5613472447798623, reg_alpha=0.0 will be ignored. Current value: lambda_l1=0.5613472447798623\n",
      "[LightGBM] [Warning] feature_fraction is set=0.49226097704764826, colsample_bytree=1.0 will be ignored. Current value: feature_fraction=0.49226097704764826\n",
      "[LightGBM] [Warning] lambda_l2 is set=0.14033221094796083, reg_lambda=0.0 will be ignored. Current value: lambda_l2=0.14033221094796083\n",
      "[LightGBM] [Warning] bagging_freq is set=3, subsample_freq=0 will be ignored. Current value: bagging_freq=3\n",
      "[LightGBM] [Warning] bagging_fraction is set=0.41779402974326446, subsample=1.0 will be ignored. Current value: bagging_fraction=0.41779402974326446\n",
      "[LightGBM] [Warning] lambda_l1 is set=0.5613472447798623, reg_alpha=0.0 will be ignored. Current value: lambda_l1=0.5613472447798623\n",
      "[LightGBM] [Warning] feature_fraction is set=0.49226097704764826, colsample_bytree=1.0 will be ignored. Current value: feature_fraction=0.49226097704764826\n",
      "[LightGBM] [Warning] lambda_l2 is set=0.14033221094796083, reg_lambda=0.0 will be ignored. Current value: lambda_l2=0.14033221094796083\n",
      "[LightGBM] [Warning] bagging_freq is set=3, subsample_freq=0 will be ignored. Current value: bagging_freq=3\n"
     ]
    },
    {
     "name": "stderr",
     "output_type": "stream",
     "text": [
      "\u001b[32m[I 2023-03-15 19:56:10,210]\u001b[0m Trial 87 finished with value: 0.7355663608055952 and parameters: {'lambda_l1': 0.5613472447798623, 'lambda_l2': 0.14033221094796083, 'num_leaves': 40, 'feature_fraction': 0.49226097704764826, 'bagging_fraction': 0.41779402974326446, 'bagging_freq': 3, 'min_child_samples': 8}. Best is trial 62 with value: 0.7824044443063581.\u001b[0m\n"
     ]
    },
    {
     "name": "stdout",
     "output_type": "stream",
     "text": [
      "[LightGBM] [Warning] bagging_fraction is set=0.4758264728654672, subsample=1.0 will be ignored. Current value: bagging_fraction=0.4758264728654672\n",
      "[LightGBM] [Warning] lambda_l1 is set=6.796558089392016, reg_alpha=0.0 will be ignored. Current value: lambda_l1=6.796558089392016\n",
      "[LightGBM] [Warning] feature_fraction is set=0.5643986533531316, colsample_bytree=1.0 will be ignored. Current value: feature_fraction=0.5643986533531316\n",
      "[LightGBM] [Warning] lambda_l2 is set=0.5644085985451285, reg_lambda=0.0 will be ignored. Current value: lambda_l2=0.5644085985451285\n",
      "[LightGBM] [Warning] bagging_freq is set=3, subsample_freq=0 will be ignored. Current value: bagging_freq=3\n",
      "[LightGBM] [Warning] bagging_fraction is set=0.4758264728654672, subsample=1.0 will be ignored. Current value: bagging_fraction=0.4758264728654672\n",
      "[LightGBM] [Warning] lambda_l1 is set=6.796558089392016, reg_alpha=0.0 will be ignored. Current value: lambda_l1=6.796558089392016\n",
      "[LightGBM] [Warning] feature_fraction is set=0.5643986533531316, colsample_bytree=1.0 will be ignored. Current value: feature_fraction=0.5643986533531316\n",
      "[LightGBM] [Warning] lambda_l2 is set=0.5644085985451285, reg_lambda=0.0 will be ignored. Current value: lambda_l2=0.5644085985451285\n",
      "[LightGBM] [Warning] bagging_freq is set=3, subsample_freq=0 will be ignored. Current value: bagging_freq=3\n",
      "[LightGBM] [Warning] bagging_fraction is set=0.4758264728654672, subsample=1.0 will be ignored. Current value: bagging_fraction=0.4758264728654672\n",
      "[LightGBM] [Warning] lambda_l1 is set=6.796558089392016, reg_alpha=0.0 will be ignored. Current value: lambda_l1=6.796558089392016\n",
      "[LightGBM] [Warning] feature_fraction is set=0.5643986533531316, colsample_bytree=1.0 will be ignored. Current value: feature_fraction=0.5643986533531316\n",
      "[LightGBM] [Warning] lambda_l2 is set=0.5644085985451285, reg_lambda=0.0 will be ignored. Current value: lambda_l2=0.5644085985451285\n",
      "[LightGBM] [Warning] bagging_freq is set=3, subsample_freq=0 will be ignored. Current value: bagging_freq=3\n"
     ]
    },
    {
     "name": "stderr",
     "output_type": "stream",
     "text": [
      "\u001b[32m[I 2023-03-15 19:56:11,343]\u001b[0m Trial 88 finished with value: 0.7728443008347314 and parameters: {'lambda_l1': 6.796558089392016, 'lambda_l2': 0.5644085985451285, 'num_leaves': 60, 'feature_fraction': 0.5643986533531316, 'bagging_fraction': 0.4758264728654672, 'bagging_freq': 3, 'min_child_samples': 64}. Best is trial 62 with value: 0.7824044443063581.\u001b[0m\n"
     ]
    },
    {
     "name": "stdout",
     "output_type": "stream",
     "text": [
      "[LightGBM] [Warning] bagging_fraction is set=0.4758264728654672, subsample=1.0 will be ignored. Current value: bagging_fraction=0.4758264728654672\n",
      "[LightGBM] [Warning] lambda_l1 is set=6.796558089392016, reg_alpha=0.0 will be ignored. Current value: lambda_l1=6.796558089392016\n",
      "[LightGBM] [Warning] feature_fraction is set=0.5643986533531316, colsample_bytree=1.0 will be ignored. Current value: feature_fraction=0.5643986533531316\n",
      "[LightGBM] [Warning] lambda_l2 is set=0.5644085985451285, reg_lambda=0.0 will be ignored. Current value: lambda_l2=0.5644085985451285\n",
      "[LightGBM] [Warning] bagging_freq is set=3, subsample_freq=0 will be ignored. Current value: bagging_freq=3\n",
      "[LightGBM] [Warning] bagging_fraction is set=0.4758264728654672, subsample=1.0 will be ignored. Current value: bagging_fraction=0.4758264728654672\n",
      "[LightGBM] [Warning] lambda_l1 is set=6.796558089392016, reg_alpha=0.0 will be ignored. Current value: lambda_l1=6.796558089392016\n",
      "[LightGBM] [Warning] feature_fraction is set=0.5643986533531316, colsample_bytree=1.0 will be ignored. Current value: feature_fraction=0.5643986533531316\n",
      "[LightGBM] [Warning] lambda_l2 is set=0.5644085985451285, reg_lambda=0.0 will be ignored. Current value: lambda_l2=0.5644085985451285\n",
      "[LightGBM] [Warning] bagging_freq is set=3, subsample_freq=0 will be ignored. Current value: bagging_freq=3\n",
      "[LightGBM] [Warning] bagging_fraction is set=0.4017750291964485, subsample=1.0 will be ignored. Current value: bagging_fraction=0.4017750291964485\n",
      "[LightGBM] [Warning] lambda_l1 is set=9.842902967724292, reg_alpha=0.0 will be ignored. Current value: lambda_l1=9.842902967724292\n",
      "[LightGBM] [Warning] feature_fraction is set=0.5146365811946195, colsample_bytree=1.0 will be ignored. Current value: feature_fraction=0.5146365811946195\n",
      "[LightGBM] [Warning] lambda_l2 is set=3.563139034900169, reg_lambda=0.0 will be ignored. Current value: lambda_l2=3.563139034900169\n",
      "[LightGBM] [Warning] bagging_freq is set=2, subsample_freq=0 will be ignored. Current value: bagging_freq=2\n",
      "[LightGBM] [Warning] bagging_fraction is set=0.4017750291964485, subsample=1.0 will be ignored. Current value: bagging_fraction=0.4017750291964485\n",
      "[LightGBM] [Warning] lambda_l1 is set=9.842902967724292, reg_alpha=0.0 will be ignored. Current value: lambda_l1=9.842902967724292\n",
      "[LightGBM] [Warning] feature_fraction is set=0.5146365811946195, colsample_bytree=1.0 will be ignored. Current value: feature_fraction=0.5146365811946195\n",
      "[LightGBM] [Warning] lambda_l2 is set=3.563139034900169, reg_lambda=0.0 will be ignored. Current value: lambda_l2=3.563139034900169\n",
      "[LightGBM] [Warning] bagging_freq is set=2, subsample_freq=0 will be ignored. Current value: bagging_freq=2\n",
      "[LightGBM] [Warning] bagging_fraction is set=0.4017750291964485, subsample=1.0 will be ignored. Current value: bagging_fraction=0.4017750291964485\n",
      "[LightGBM] [Warning] lambda_l1 is set=9.842902967724292, reg_alpha=0.0 will be ignored. Current value: lambda_l1=9.842902967724292\n",
      "[LightGBM] [Warning] feature_fraction is set=0.5146365811946195, colsample_bytree=1.0 will be ignored. Current value: feature_fraction=0.5146365811946195\n",
      "[LightGBM] [Warning] lambda_l2 is set=3.563139034900169, reg_lambda=0.0 will be ignored. Current value: lambda_l2=3.563139034900169\n",
      "[LightGBM] [Warning] bagging_freq is set=2, subsample_freq=0 will be ignored. Current value: bagging_freq=2\n",
      "[LightGBM] [Warning] bagging_fraction is set=0.4017750291964485, subsample=1.0 will be ignored. Current value: bagging_fraction=0.4017750291964485\n",
      "[LightGBM] [Warning] lambda_l1 is set=9.842902967724292, reg_alpha=0.0 will be ignored. Current value: lambda_l1=9.842902967724292\n",
      "[LightGBM] [Warning] feature_fraction is set=0.5146365811946195, colsample_bytree=1.0 will be ignored. Current value: feature_fraction=0.5146365811946195\n",
      "[LightGBM] [Warning] lambda_l2 is set=3.563139034900169, reg_lambda=0.0 will be ignored. Current value: lambda_l2=3.563139034900169\n",
      "[LightGBM] [Warning] bagging_freq is set=2, subsample_freq=0 will be ignored. Current value: bagging_freq=2\n",
      "[LightGBM] [Warning] bagging_fraction is set=0.4017750291964485, subsample=1.0 will be ignored. Current value: bagging_fraction=0.4017750291964485\n",
      "[LightGBM] [Warning] lambda_l1 is set=9.842902967724292, reg_alpha=0.0 will be ignored. Current value: lambda_l1=9.842902967724292\n",
      "[LightGBM] [Warning] feature_fraction is set=0.5146365811946195, colsample_bytree=1.0 will be ignored. Current value: feature_fraction=0.5146365811946195\n",
      "[LightGBM] [Warning] lambda_l2 is set=3.563139034900169, reg_lambda=0.0 will be ignored. Current value: lambda_l2=3.563139034900169\n",
      "[LightGBM] [Warning] bagging_freq is set=2, subsample_freq=0 will be ignored. Current value: bagging_freq=2\n"
     ]
    },
    {
     "name": "stderr",
     "output_type": "stream",
     "text": [
      "\u001b[32m[I 2023-03-15 19:56:11,664]\u001b[0m Trial 89 finished with value: 0.773730037904679 and parameters: {'lambda_l1': 9.842902967724292, 'lambda_l2': 3.563139034900169, 'num_leaves': 30, 'feature_fraction': 0.5146365811946195, 'bagging_fraction': 0.4017750291964485, 'bagging_freq': 2, 'min_child_samples': 31}. Best is trial 62 with value: 0.7824044443063581.\u001b[0m\n"
     ]
    },
    {
     "name": "stdout",
     "output_type": "stream",
     "text": [
      "[LightGBM] [Warning] bagging_fraction is set=0.4519396472118823, subsample=1.0 will be ignored. Current value: bagging_fraction=0.4519396472118823\n",
      "[LightGBM] [Warning] lambda_l1 is set=3.6529539265985953, reg_alpha=0.0 will be ignored. Current value: lambda_l1=3.6529539265985953\n",
      "[LightGBM] [Warning] feature_fraction is set=0.45262304015776406, colsample_bytree=1.0 will be ignored. Current value: feature_fraction=0.45262304015776406\n",
      "[LightGBM] [Warning] lambda_l2 is set=0.9676341068774862, reg_lambda=0.0 will be ignored. Current value: lambda_l2=0.9676341068774862\n",
      "[LightGBM] [Warning] bagging_freq is set=3, subsample_freq=0 will be ignored. Current value: bagging_freq=3\n",
      "[LightGBM] [Warning] bagging_fraction is set=0.4519396472118823, subsample=1.0 will be ignored. Current value: bagging_fraction=0.4519396472118823\n",
      "[LightGBM] [Warning] lambda_l1 is set=3.6529539265985953, reg_alpha=0.0 will be ignored. Current value: lambda_l1=3.6529539265985953\n",
      "[LightGBM] [Warning] feature_fraction is set=0.45262304015776406, colsample_bytree=1.0 will be ignored. Current value: feature_fraction=0.45262304015776406\n",
      "[LightGBM] [Warning] lambda_l2 is set=0.9676341068774862, reg_lambda=0.0 will be ignored. Current value: lambda_l2=0.9676341068774862\n",
      "[LightGBM] [Warning] bagging_freq is set=3, subsample_freq=0 will be ignored. Current value: bagging_freq=3\n",
      "[LightGBM] [Warning] bagging_fraction is set=0.4519396472118823, subsample=1.0 will be ignored. Current value: bagging_fraction=0.4519396472118823\n",
      "[LightGBM] [Warning] lambda_l1 is set=3.6529539265985953, reg_alpha=0.0 will be ignored. Current value: lambda_l1=3.6529539265985953\n",
      "[LightGBM] [Warning] feature_fraction is set=0.45262304015776406, colsample_bytree=1.0 will be ignored. Current value: feature_fraction=0.45262304015776406\n",
      "[LightGBM] [Warning] lambda_l2 is set=0.9676341068774862, reg_lambda=0.0 will be ignored. Current value: lambda_l2=0.9676341068774862\n",
      "[LightGBM] [Warning] bagging_freq is set=3, subsample_freq=0 will be ignored. Current value: bagging_freq=3\n",
      "[LightGBM] [Warning] bagging_fraction is set=0.4519396472118823, subsample=1.0 will be ignored. Current value: bagging_fraction=0.4519396472118823\n",
      "[LightGBM] [Warning] lambda_l1 is set=3.6529539265985953, reg_alpha=0.0 will be ignored. Current value: lambda_l1=3.6529539265985953\n",
      "[LightGBM] [Warning] feature_fraction is set=0.45262304015776406, colsample_bytree=1.0 will be ignored. Current value: feature_fraction=0.45262304015776406\n",
      "[LightGBM] [Warning] lambda_l2 is set=0.9676341068774862, reg_lambda=0.0 will be ignored. Current value: lambda_l2=0.9676341068774862\n",
      "[LightGBM] [Warning] bagging_freq is set=3, subsample_freq=0 will be ignored. Current value: bagging_freq=3\n"
     ]
    },
    {
     "name": "stderr",
     "output_type": "stream",
     "text": [
      "\u001b[32m[I 2023-03-15 19:56:11,997]\u001b[0m Trial 90 finished with value: 0.7657387269827461 and parameters: {'lambda_l1': 3.6529539265985953, 'lambda_l2': 0.9676341068774862, 'num_leaves': 246, 'feature_fraction': 0.45262304015776406, 'bagging_fraction': 0.4519396472118823, 'bagging_freq': 3, 'min_child_samples': 68}. Best is trial 62 with value: 0.7824044443063581.\u001b[0m\n"
     ]
    },
    {
     "name": "stdout",
     "output_type": "stream",
     "text": [
      "[LightGBM] [Warning] bagging_fraction is set=0.4519396472118823, subsample=1.0 will be ignored. Current value: bagging_fraction=0.4519396472118823\n",
      "[LightGBM] [Warning] lambda_l1 is set=3.6529539265985953, reg_alpha=0.0 will be ignored. Current value: lambda_l1=3.6529539265985953\n",
      "[LightGBM] [Warning] feature_fraction is set=0.45262304015776406, colsample_bytree=1.0 will be ignored. Current value: feature_fraction=0.45262304015776406\n",
      "[LightGBM] [Warning] lambda_l2 is set=0.9676341068774862, reg_lambda=0.0 will be ignored. Current value: lambda_l2=0.9676341068774862\n",
      "[LightGBM] [Warning] bagging_freq is set=3, subsample_freq=0 will be ignored. Current value: bagging_freq=3\n",
      "[LightGBM] [Warning] bagging_fraction is set=0.4300220409634823, subsample=1.0 will be ignored. Current value: bagging_fraction=0.4300220409634823\n",
      "[LightGBM] [Warning] lambda_l1 is set=9.56497081222117, reg_alpha=0.0 will be ignored. Current value: lambda_l1=9.56497081222117\n",
      "[LightGBM] [Warning] feature_fraction is set=0.535899218221667, colsample_bytree=1.0 will be ignored. Current value: feature_fraction=0.535899218221667\n",
      "[LightGBM] [Warning] lambda_l2 is set=1.3239431023877786, reg_lambda=0.0 will be ignored. Current value: lambda_l2=1.3239431023877786\n",
      "[LightGBM] [Warning] bagging_freq is set=3, subsample_freq=0 will be ignored. Current value: bagging_freq=3\n",
      "[LightGBM] [Warning] bagging_fraction is set=0.4300220409634823, subsample=1.0 will be ignored. Current value: bagging_fraction=0.4300220409634823\n",
      "[LightGBM] [Warning] lambda_l1 is set=9.56497081222117, reg_alpha=0.0 will be ignored. Current value: lambda_l1=9.56497081222117\n",
      "[LightGBM] [Warning] feature_fraction is set=0.535899218221667, colsample_bytree=1.0 will be ignored. Current value: feature_fraction=0.535899218221667\n",
      "[LightGBM] [Warning] lambda_l2 is set=1.3239431023877786, reg_lambda=0.0 will be ignored. Current value: lambda_l2=1.3239431023877786\n",
      "[LightGBM] [Warning] bagging_freq is set=3, subsample_freq=0 will be ignored. Current value: bagging_freq=3\n"
     ]
    },
    {
     "name": "stderr",
     "output_type": "stream",
     "text": [
      "\u001b[32m[I 2023-03-15 19:56:12,291]\u001b[0m Trial 91 finished with value: 0.7767959844514868 and parameters: {'lambda_l1': 9.56497081222117, 'lambda_l2': 1.3239431023877786, 'num_leaves': 25, 'feature_fraction': 0.535899218221667, 'bagging_fraction': 0.4300220409634823, 'bagging_freq': 3, 'min_child_samples': 59}. Best is trial 62 with value: 0.7824044443063581.\u001b[0m\n"
     ]
    },
    {
     "name": "stdout",
     "output_type": "stream",
     "text": [
      "[LightGBM] [Warning] bagging_fraction is set=0.4300220409634823, subsample=1.0 will be ignored. Current value: bagging_fraction=0.4300220409634823\n",
      "[LightGBM] [Warning] lambda_l1 is set=9.56497081222117, reg_alpha=0.0 will be ignored. Current value: lambda_l1=9.56497081222117\n",
      "[LightGBM] [Warning] feature_fraction is set=0.535899218221667, colsample_bytree=1.0 will be ignored. Current value: feature_fraction=0.535899218221667\n",
      "[LightGBM] [Warning] lambda_l2 is set=1.3239431023877786, reg_lambda=0.0 will be ignored. Current value: lambda_l2=1.3239431023877786\n",
      "[LightGBM] [Warning] bagging_freq is set=3, subsample_freq=0 will be ignored. Current value: bagging_freq=3\n",
      "[LightGBM] [Warning] bagging_fraction is set=0.4300220409634823, subsample=1.0 will be ignored. Current value: bagging_fraction=0.4300220409634823\n",
      "[LightGBM] [Warning] lambda_l1 is set=9.56497081222117, reg_alpha=0.0 will be ignored. Current value: lambda_l1=9.56497081222117\n",
      "[LightGBM] [Warning] feature_fraction is set=0.535899218221667, colsample_bytree=1.0 will be ignored. Current value: feature_fraction=0.535899218221667\n",
      "[LightGBM] [Warning] lambda_l2 is set=1.3239431023877786, reg_lambda=0.0 will be ignored. Current value: lambda_l2=1.3239431023877786\n",
      "[LightGBM] [Warning] bagging_freq is set=3, subsample_freq=0 will be ignored. Current value: bagging_freq=3\n",
      "[LightGBM] [Warning] bagging_fraction is set=0.4300220409634823, subsample=1.0 will be ignored. Current value: bagging_fraction=0.4300220409634823\n",
      "[LightGBM] [Warning] lambda_l1 is set=9.56497081222117, reg_alpha=0.0 will be ignored. Current value: lambda_l1=9.56497081222117\n",
      "[LightGBM] [Warning] feature_fraction is set=0.535899218221667, colsample_bytree=1.0 will be ignored. Current value: feature_fraction=0.535899218221667\n",
      "[LightGBM] [Warning] lambda_l2 is set=1.3239431023877786, reg_lambda=0.0 will be ignored. Current value: lambda_l2=1.3239431023877786\n",
      "[LightGBM] [Warning] bagging_freq is set=3, subsample_freq=0 will be ignored. Current value: bagging_freq=3\n",
      "[LightGBM] [Warning] bagging_fraction is set=0.4490554279842221, subsample=1.0 will be ignored. Current value: bagging_fraction=0.4490554279842221\n",
      "[LightGBM] [Warning] lambda_l1 is set=9.723816861028173, reg_alpha=0.0 will be ignored. Current value: lambda_l1=9.723816861028173\n",
      "[LightGBM] [Warning] feature_fraction is set=0.5792303034607308, colsample_bytree=1.0 will be ignored. Current value: feature_fraction=0.5792303034607308\n",
      "[LightGBM] [Warning] lambda_l2 is set=5.762098677344314, reg_lambda=0.0 will be ignored. Current value: lambda_l2=5.762098677344314\n",
      "[LightGBM] [Warning] bagging_freq is set=3, subsample_freq=0 will be ignored. Current value: bagging_freq=3\n"
     ]
    },
    {
     "name": "stderr",
     "output_type": "stream",
     "text": [
      "\u001b[32m[I 2023-03-15 19:56:12,573]\u001b[0m Trial 92 finished with value: 0.7794324827219563 and parameters: {'lambda_l1': 9.723816861028173, 'lambda_l2': 5.762098677344314, 'num_leaves': 45, 'feature_fraction': 0.5792303034607308, 'bagging_fraction': 0.4490554279842221, 'bagging_freq': 3, 'min_child_samples': 85}. Best is trial 62 with value: 0.7824044443063581.\u001b[0m\n"
     ]
    },
    {
     "name": "stdout",
     "output_type": "stream",
     "text": [
      "[LightGBM] [Warning] bagging_fraction is set=0.4490554279842221, subsample=1.0 will be ignored. Current value: bagging_fraction=0.4490554279842221\n",
      "[LightGBM] [Warning] lambda_l1 is set=9.723816861028173, reg_alpha=0.0 will be ignored. Current value: lambda_l1=9.723816861028173\n",
      "[LightGBM] [Warning] feature_fraction is set=0.5792303034607308, colsample_bytree=1.0 will be ignored. Current value: feature_fraction=0.5792303034607308\n",
      "[LightGBM] [Warning] lambda_l2 is set=5.762098677344314, reg_lambda=0.0 will be ignored. Current value: lambda_l2=5.762098677344314\n",
      "[LightGBM] [Warning] bagging_freq is set=3, subsample_freq=0 will be ignored. Current value: bagging_freq=3\n",
      "[LightGBM] [Warning] bagging_fraction is set=0.4490554279842221, subsample=1.0 will be ignored. Current value: bagging_fraction=0.4490554279842221\n",
      "[LightGBM] [Warning] lambda_l1 is set=9.723816861028173, reg_alpha=0.0 will be ignored. Current value: lambda_l1=9.723816861028173\n",
      "[LightGBM] [Warning] feature_fraction is set=0.5792303034607308, colsample_bytree=1.0 will be ignored. Current value: feature_fraction=0.5792303034607308\n",
      "[LightGBM] [Warning] lambda_l2 is set=5.762098677344314, reg_lambda=0.0 will be ignored. Current value: lambda_l2=5.762098677344314\n",
      "[LightGBM] [Warning] bagging_freq is set=3, subsample_freq=0 will be ignored. Current value: bagging_freq=3\n",
      "[LightGBM] [Warning] bagging_fraction is set=0.4490554279842221, subsample=1.0 will be ignored. Current value: bagging_fraction=0.4490554279842221\n",
      "[LightGBM] [Warning] lambda_l1 is set=9.723816861028173, reg_alpha=0.0 will be ignored. Current value: lambda_l1=9.723816861028173\n",
      "[LightGBM] [Warning] feature_fraction is set=0.5792303034607308, colsample_bytree=1.0 will be ignored. Current value: feature_fraction=0.5792303034607308\n",
      "[LightGBM] [Warning] lambda_l2 is set=5.762098677344314, reg_lambda=0.0 will be ignored. Current value: lambda_l2=5.762098677344314\n",
      "[LightGBM] [Warning] bagging_freq is set=3, subsample_freq=0 will be ignored. Current value: bagging_freq=3\n",
      "[LightGBM] [Warning] bagging_fraction is set=0.4490554279842221, subsample=1.0 will be ignored. Current value: bagging_fraction=0.4490554279842221\n",
      "[LightGBM] [Warning] lambda_l1 is set=9.723816861028173, reg_alpha=0.0 will be ignored. Current value: lambda_l1=9.723816861028173\n",
      "[LightGBM] [Warning] feature_fraction is set=0.5792303034607308, colsample_bytree=1.0 will be ignored. Current value: feature_fraction=0.5792303034607308\n",
      "[LightGBM] [Warning] lambda_l2 is set=5.762098677344314, reg_lambda=0.0 will be ignored. Current value: lambda_l2=5.762098677344314\n",
      "[LightGBM] [Warning] bagging_freq is set=3, subsample_freq=0 will be ignored. Current value: bagging_freq=3\n",
      "[LightGBM] [Warning] bagging_fraction is set=0.44552936202735915, subsample=1.0 will be ignored. Current value: bagging_fraction=0.44552936202735915\n",
      "[LightGBM] [Warning] lambda_l1 is set=4.947330133515466, reg_alpha=0.0 will be ignored. Current value: lambda_l1=4.947330133515466\n",
      "[LightGBM] [Warning] feature_fraction is set=0.5791172112629979, colsample_bytree=1.0 will be ignored. Current value: feature_fraction=0.5791172112629979\n",
      "[LightGBM] [Warning] lambda_l2 is set=5.837877907528585, reg_lambda=0.0 will be ignored. Current value: lambda_l2=5.837877907528585\n",
      "[LightGBM] [Warning] bagging_freq is set=3, subsample_freq=0 will be ignored. Current value: bagging_freq=3\n",
      "[LightGBM] [Warning] bagging_fraction is set=0.44552936202735915, subsample=1.0 will be ignored. Current value: bagging_fraction=0.44552936202735915\n",
      "[LightGBM] [Warning] lambda_l1 is set=4.947330133515466, reg_alpha=0.0 will be ignored. Current value: lambda_l1=4.947330133515466\n",
      "[LightGBM] [Warning] feature_fraction is set=0.5791172112629979, colsample_bytree=1.0 will be ignored. Current value: feature_fraction=0.5791172112629979\n",
      "[LightGBM] [Warning] lambda_l2 is set=5.837877907528585, reg_lambda=0.0 will be ignored. Current value: lambda_l2=5.837877907528585\n",
      "[LightGBM] [Warning] bagging_freq is set=3, subsample_freq=0 will be ignored. Current value: bagging_freq=3\n",
      "[LightGBM] [Warning] bagging_fraction is set=0.44552936202735915, subsample=1.0 will be ignored. Current value: bagging_fraction=0.44552936202735915\n",
      "[LightGBM] [Warning] lambda_l1 is set=4.947330133515466, reg_alpha=0.0 will be ignored. Current value: lambda_l1=4.947330133515466\n",
      "[LightGBM] [Warning] feature_fraction is set=0.5791172112629979, colsample_bytree=1.0 will be ignored. Current value: feature_fraction=0.5791172112629979\n",
      "[LightGBM] [Warning] lambda_l2 is set=5.837877907528585, reg_lambda=0.0 will be ignored. Current value: lambda_l2=5.837877907528585\n",
      "[LightGBM] [Warning] bagging_freq is set=3, subsample_freq=0 will be ignored. Current value: bagging_freq=3\n",
      "[LightGBM] [Warning] bagging_fraction is set=0.44552936202735915, subsample=1.0 will be ignored. Current value: bagging_fraction=0.44552936202735915\n",
      "[LightGBM] [Warning] lambda_l1 is set=4.947330133515466, reg_alpha=0.0 will be ignored. Current value: lambda_l1=4.947330133515466\n",
      "[LightGBM] [Warning] feature_fraction is set=0.5791172112629979, colsample_bytree=1.0 will be ignored. Current value: feature_fraction=0.5791172112629979\n",
      "[LightGBM] [Warning] lambda_l2 is set=5.837877907528585, reg_lambda=0.0 will be ignored. Current value: lambda_l2=5.837877907528585\n",
      "[LightGBM] [Warning] bagging_freq is set=3, subsample_freq=0 will be ignored. Current value: bagging_freq=3\n"
     ]
    },
    {
     "name": "stderr",
     "output_type": "stream",
     "text": [
      "\u001b[32m[I 2023-03-15 19:56:12,897]\u001b[0m Trial 93 finished with value: 0.7742268895378943 and parameters: {'lambda_l1': 4.947330133515466, 'lambda_l2': 5.837877907528585, 'num_leaves': 54, 'feature_fraction': 0.5791172112629979, 'bagging_fraction': 0.44552936202735915, 'bagging_freq': 3, 'min_child_samples': 78}. Best is trial 62 with value: 0.7824044443063581.\u001b[0m\n"
     ]
    },
    {
     "name": "stdout",
     "output_type": "stream",
     "text": [
      "[LightGBM] [Warning] bagging_fraction is set=0.44552936202735915, subsample=1.0 will be ignored. Current value: bagging_fraction=0.44552936202735915\n",
      "[LightGBM] [Warning] lambda_l1 is set=4.947330133515466, reg_alpha=0.0 will be ignored. Current value: lambda_l1=4.947330133515466\n",
      "[LightGBM] [Warning] feature_fraction is set=0.5791172112629979, colsample_bytree=1.0 will be ignored. Current value: feature_fraction=0.5791172112629979\n",
      "[LightGBM] [Warning] lambda_l2 is set=5.837877907528585, reg_lambda=0.0 will be ignored. Current value: lambda_l2=5.837877907528585\n",
      "[LightGBM] [Warning] bagging_freq is set=3, subsample_freq=0 will be ignored. Current value: bagging_freq=3\n",
      "[LightGBM] [Warning] bagging_fraction is set=0.413130019945476, subsample=1.0 will be ignored. Current value: bagging_fraction=0.413130019945476\n",
      "[LightGBM] [Warning] lambda_l1 is set=1.5570029441767677, reg_alpha=0.0 will be ignored. Current value: lambda_l1=1.5570029441767677\n",
      "[LightGBM] [Warning] feature_fraction is set=0.5553801185060969, colsample_bytree=1.0 will be ignored. Current value: feature_fraction=0.5553801185060969\n",
      "[LightGBM] [Warning] lambda_l2 is set=2.181243495056649, reg_lambda=0.0 will be ignored. Current value: lambda_l2=2.181243495056649\n",
      "[LightGBM] [Warning] bagging_freq is set=3, subsample_freq=0 will be ignored. Current value: bagging_freq=3\n",
      "[LightGBM] [Warning] bagging_fraction is set=0.413130019945476, subsample=1.0 will be ignored. Current value: bagging_fraction=0.413130019945476\n",
      "[LightGBM] [Warning] lambda_l1 is set=1.5570029441767677, reg_alpha=0.0 will be ignored. Current value: lambda_l1=1.5570029441767677\n",
      "[LightGBM] [Warning] feature_fraction is set=0.5553801185060969, colsample_bytree=1.0 will be ignored. Current value: feature_fraction=0.5553801185060969\n",
      "[LightGBM] [Warning] lambda_l2 is set=2.181243495056649, reg_lambda=0.0 will be ignored. Current value: lambda_l2=2.181243495056649\n",
      "[LightGBM] [Warning] bagging_freq is set=3, subsample_freq=0 will be ignored. Current value: bagging_freq=3\n",
      "[LightGBM] [Warning] bagging_fraction is set=0.413130019945476, subsample=1.0 will be ignored. Current value: bagging_fraction=0.413130019945476\n",
      "[LightGBM] [Warning] lambda_l1 is set=1.5570029441767677, reg_alpha=0.0 will be ignored. Current value: lambda_l1=1.5570029441767677\n",
      "[LightGBM] [Warning] feature_fraction is set=0.5553801185060969, colsample_bytree=1.0 will be ignored. Current value: feature_fraction=0.5553801185060969\n",
      "[LightGBM] [Warning] lambda_l2 is set=2.181243495056649, reg_lambda=0.0 will be ignored. Current value: lambda_l2=2.181243495056649\n",
      "[LightGBM] [Warning] bagging_freq is set=3, subsample_freq=0 will be ignored. Current value: bagging_freq=3\n"
     ]
    },
    {
     "name": "stderr",
     "output_type": "stream",
     "text": [
      "\u001b[32m[I 2023-03-15 19:56:13,188]\u001b[0m Trial 94 finished with value: 0.7640756505589043 and parameters: {'lambda_l1': 1.5570029441767677, 'lambda_l2': 2.181243495056649, 'num_leaves': 47, 'feature_fraction': 0.5553801185060969, 'bagging_fraction': 0.413130019945476, 'bagging_freq': 3, 'min_child_samples': 85}. Best is trial 62 with value: 0.7824044443063581.\u001b[0m\n"
     ]
    },
    {
     "name": "stdout",
     "output_type": "stream",
     "text": [
      "[LightGBM] [Warning] bagging_fraction is set=0.413130019945476, subsample=1.0 will be ignored. Current value: bagging_fraction=0.413130019945476\n",
      "[LightGBM] [Warning] lambda_l1 is set=1.5570029441767677, reg_alpha=0.0 will be ignored. Current value: lambda_l1=1.5570029441767677\n",
      "[LightGBM] [Warning] feature_fraction is set=0.5553801185060969, colsample_bytree=1.0 will be ignored. Current value: feature_fraction=0.5553801185060969\n",
      "[LightGBM] [Warning] lambda_l2 is set=2.181243495056649, reg_lambda=0.0 will be ignored. Current value: lambda_l2=2.181243495056649\n",
      "[LightGBM] [Warning] bagging_freq is set=3, subsample_freq=0 will be ignored. Current value: bagging_freq=3\n",
      "[LightGBM] [Warning] bagging_fraction is set=0.413130019945476, subsample=1.0 will be ignored. Current value: bagging_fraction=0.413130019945476\n",
      "[LightGBM] [Warning] lambda_l1 is set=1.5570029441767677, reg_alpha=0.0 will be ignored. Current value: lambda_l1=1.5570029441767677\n",
      "[LightGBM] [Warning] feature_fraction is set=0.5553801185060969, colsample_bytree=1.0 will be ignored. Current value: feature_fraction=0.5553801185060969\n",
      "[LightGBM] [Warning] lambda_l2 is set=2.181243495056649, reg_lambda=0.0 will be ignored. Current value: lambda_l2=2.181243495056649\n",
      "[LightGBM] [Warning] bagging_freq is set=3, subsample_freq=0 will be ignored. Current value: bagging_freq=3\n",
      "[LightGBM] [Warning] bagging_fraction is set=0.4917513999408041, subsample=1.0 will be ignored. Current value: bagging_fraction=0.4917513999408041\n",
      "[LightGBM] [Warning] lambda_l1 is set=2.972722773165681, reg_alpha=0.0 will be ignored. Current value: lambda_l1=2.972722773165681\n",
      "[LightGBM] [Warning] feature_fraction is set=0.5935262928271007, colsample_bytree=1.0 will be ignored. Current value: feature_fraction=0.5935262928271007\n",
      "[LightGBM] [Warning] lambda_l2 is set=7.094886517979191, reg_lambda=0.0 will be ignored. Current value: lambda_l2=7.094886517979191\n",
      "[LightGBM] [Warning] bagging_freq is set=2, subsample_freq=0 will be ignored. Current value: bagging_freq=2\n",
      "[LightGBM] [Warning] bagging_fraction is set=0.4917513999408041, subsample=1.0 will be ignored. Current value: bagging_fraction=0.4917513999408041\n",
      "[LightGBM] [Warning] lambda_l1 is set=2.972722773165681, reg_alpha=0.0 will be ignored. Current value: lambda_l1=2.972722773165681\n",
      "[LightGBM] [Warning] feature_fraction is set=0.5935262928271007, colsample_bytree=1.0 will be ignored. Current value: feature_fraction=0.5935262928271007\n",
      "[LightGBM] [Warning] lambda_l2 is set=7.094886517979191, reg_lambda=0.0 will be ignored. Current value: lambda_l2=7.094886517979191\n",
      "[LightGBM] [Warning] bagging_freq is set=2, subsample_freq=0 will be ignored. Current value: bagging_freq=2\n",
      "[LightGBM] [Warning] bagging_fraction is set=0.4917513999408041, subsample=1.0 will be ignored. Current value: bagging_fraction=0.4917513999408041\n",
      "[LightGBM] [Warning] lambda_l1 is set=2.972722773165681, reg_alpha=0.0 will be ignored. Current value: lambda_l1=2.972722773165681\n",
      "[LightGBM] [Warning] feature_fraction is set=0.5935262928271007, colsample_bytree=1.0 will be ignored. Current value: feature_fraction=0.5935262928271007\n",
      "[LightGBM] [Warning] lambda_l2 is set=7.094886517979191, reg_lambda=0.0 will be ignored. Current value: lambda_l2=7.094886517979191\n",
      "[LightGBM] [Warning] bagging_freq is set=2, subsample_freq=0 will be ignored. Current value: bagging_freq=2\n",
      "[LightGBM] [Warning] bagging_fraction is set=0.4917513999408041, subsample=1.0 will be ignored. Current value: bagging_fraction=0.4917513999408041\n",
      "[LightGBM] [Warning] lambda_l1 is set=2.972722773165681, reg_alpha=0.0 will be ignored. Current value: lambda_l1=2.972722773165681\n",
      "[LightGBM] [Warning] feature_fraction is set=0.5935262928271007, colsample_bytree=1.0 will be ignored. Current value: feature_fraction=0.5935262928271007\n",
      "[LightGBM] [Warning] lambda_l2 is set=7.094886517979191, reg_lambda=0.0 will be ignored. Current value: lambda_l2=7.094886517979191\n",
      "[LightGBM] [Warning] bagging_freq is set=2, subsample_freq=0 will be ignored. Current value: bagging_freq=2\n",
      "[LightGBM] [Warning] bagging_fraction is set=0.4917513999408041, subsample=1.0 will be ignored. Current value: bagging_fraction=0.4917513999408041\n",
      "[LightGBM] [Warning] lambda_l1 is set=2.972722773165681, reg_alpha=0.0 will be ignored. Current value: lambda_l1=2.972722773165681\n",
      "[LightGBM] [Warning] feature_fraction is set=0.5935262928271007, colsample_bytree=1.0 will be ignored. Current value: feature_fraction=0.5935262928271007\n",
      "[LightGBM] [Warning] lambda_l2 is set=7.094886517979191, reg_lambda=0.0 will be ignored. Current value: lambda_l2=7.094886517979191\n",
      "[LightGBM] [Warning] bagging_freq is set=2, subsample_freq=0 will be ignored. Current value: bagging_freq=2\n"
     ]
    },
    {
     "name": "stderr",
     "output_type": "stream",
     "text": [
      "\u001b[32m[I 2023-03-15 19:56:13,542]\u001b[0m Trial 95 finished with value: 0.7689090149616465 and parameters: {'lambda_l1': 2.972722773165681, 'lambda_l2': 7.094886517979191, 'num_leaves': 209, 'feature_fraction': 0.5935262928271007, 'bagging_fraction': 0.4917513999408041, 'bagging_freq': 2, 'min_child_samples': 81}. Best is trial 62 with value: 0.7824044443063581.\u001b[0m\n"
     ]
    },
    {
     "name": "stdout",
     "output_type": "stream",
     "text": [
      "[LightGBM] [Warning] bagging_fraction is set=0.4664347130377661, subsample=1.0 will be ignored. Current value: bagging_fraction=0.4664347130377661\n",
      "[LightGBM] [Warning] lambda_l1 is set=6.065335409411812, reg_alpha=0.0 will be ignored. Current value: lambda_l1=6.065335409411812\n",
      "[LightGBM] [Warning] feature_fraction is set=0.6131986900367893, colsample_bytree=1.0 will be ignored. Current value: feature_fraction=0.6131986900367893\n",
      "[LightGBM] [Warning] lambda_l2 is set=4.071723047609254, reg_lambda=0.0 will be ignored. Current value: lambda_l2=4.071723047609254\n",
      "[LightGBM] [Warning] bagging_freq is set=3, subsample_freq=0 will be ignored. Current value: bagging_freq=3\n",
      "[LightGBM] [Warning] bagging_fraction is set=0.4664347130377661, subsample=1.0 will be ignored. Current value: bagging_fraction=0.4664347130377661\n",
      "[LightGBM] [Warning] lambda_l1 is set=6.065335409411812, reg_alpha=0.0 will be ignored. Current value: lambda_l1=6.065335409411812\n",
      "[LightGBM] [Warning] feature_fraction is set=0.6131986900367893, colsample_bytree=1.0 will be ignored. Current value: feature_fraction=0.6131986900367893\n",
      "[LightGBM] [Warning] lambda_l2 is set=4.071723047609254, reg_lambda=0.0 will be ignored. Current value: lambda_l2=4.071723047609254\n",
      "[LightGBM] [Warning] bagging_freq is set=3, subsample_freq=0 will be ignored. Current value: bagging_freq=3\n",
      "[LightGBM] [Warning] bagging_fraction is set=0.4664347130377661, subsample=1.0 will be ignored. Current value: bagging_fraction=0.4664347130377661\n",
      "[LightGBM] [Warning] lambda_l1 is set=6.065335409411812, reg_alpha=0.0 will be ignored. Current value: lambda_l1=6.065335409411812\n",
      "[LightGBM] [Warning] feature_fraction is set=0.6131986900367893, colsample_bytree=1.0 will be ignored. Current value: feature_fraction=0.6131986900367893\n",
      "[LightGBM] [Warning] lambda_l2 is set=4.071723047609254, reg_lambda=0.0 will be ignored. Current value: lambda_l2=4.071723047609254\n",
      "[LightGBM] [Warning] bagging_freq is set=3, subsample_freq=0 will be ignored. Current value: bagging_freq=3\n",
      "[LightGBM] [Warning] bagging_fraction is set=0.4664347130377661, subsample=1.0 will be ignored. Current value: bagging_fraction=0.4664347130377661\n",
      "[LightGBM] [Warning] lambda_l1 is set=6.065335409411812, reg_alpha=0.0 will be ignored. Current value: lambda_l1=6.065335409411812\n",
      "[LightGBM] [Warning] feature_fraction is set=0.6131986900367893, colsample_bytree=1.0 will be ignored. Current value: feature_fraction=0.6131986900367893\n",
      "[LightGBM] [Warning] lambda_l2 is set=4.071723047609254, reg_lambda=0.0 will be ignored. Current value: lambda_l2=4.071723047609254\n",
      "[LightGBM] [Warning] bagging_freq is set=3, subsample_freq=0 will be ignored. Current value: bagging_freq=3\n"
     ]
    },
    {
     "name": "stderr",
     "output_type": "stream",
     "text": [
      "\u001b[32m[I 2023-03-15 19:56:14,108]\u001b[0m Trial 96 finished with value: 0.7774112450547858 and parameters: {'lambda_l1': 6.065335409411812, 'lambda_l2': 4.071723047609254, 'num_leaves': 93, 'feature_fraction': 0.6131986900367893, 'bagging_fraction': 0.4664347130377661, 'bagging_freq': 3, 'min_child_samples': 100}. Best is trial 62 with value: 0.7824044443063581.\u001b[0m\n"
     ]
    },
    {
     "name": "stdout",
     "output_type": "stream",
     "text": [
      "[LightGBM] [Warning] bagging_fraction is set=0.4664347130377661, subsample=1.0 will be ignored. Current value: bagging_fraction=0.4664347130377661\n",
      "[LightGBM] [Warning] lambda_l1 is set=6.065335409411812, reg_alpha=0.0 will be ignored. Current value: lambda_l1=6.065335409411812\n",
      "[LightGBM] [Warning] feature_fraction is set=0.6131986900367893, colsample_bytree=1.0 will be ignored. Current value: feature_fraction=0.6131986900367893\n",
      "[LightGBM] [Warning] lambda_l2 is set=4.071723047609254, reg_lambda=0.0 will be ignored. Current value: lambda_l2=4.071723047609254\n",
      "[LightGBM] [Warning] bagging_freq is set=3, subsample_freq=0 will be ignored. Current value: bagging_freq=3\n",
      "[LightGBM] [Warning] bagging_fraction is set=0.42970060671910515, subsample=1.0 will be ignored. Current value: bagging_fraction=0.42970060671910515\n",
      "[LightGBM] [Warning] lambda_l1 is set=2.2721048296547055, reg_alpha=0.0 will be ignored. Current value: lambda_l1=2.2721048296547055\n",
      "[LightGBM] [Warning] feature_fraction is set=0.5532211110962141, colsample_bytree=1.0 will be ignored. Current value: feature_fraction=0.5532211110962141\n",
      "[LightGBM] [Warning] lambda_l2 is set=0.2537792267716766, reg_lambda=0.0 will be ignored. Current value: lambda_l2=0.2537792267716766\n",
      "[LightGBM] [Warning] bagging_freq is set=4, subsample_freq=0 will be ignored. Current value: bagging_freq=4\n",
      "[LightGBM] [Warning] bagging_fraction is set=0.42970060671910515, subsample=1.0 will be ignored. Current value: bagging_fraction=0.42970060671910515\n",
      "[LightGBM] [Warning] lambda_l1 is set=2.2721048296547055, reg_alpha=0.0 will be ignored. Current value: lambda_l1=2.2721048296547055\n",
      "[LightGBM] [Warning] feature_fraction is set=0.5532211110962141, colsample_bytree=1.0 will be ignored. Current value: feature_fraction=0.5532211110962141\n",
      "[LightGBM] [Warning] lambda_l2 is set=0.2537792267716766, reg_lambda=0.0 will be ignored. Current value: lambda_l2=0.2537792267716766\n",
      "[LightGBM] [Warning] bagging_freq is set=4, subsample_freq=0 will be ignored. Current value: bagging_freq=4\n",
      "[LightGBM] [Warning] bagging_fraction is set=0.42970060671910515, subsample=1.0 will be ignored. Current value: bagging_fraction=0.42970060671910515\n",
      "[LightGBM] [Warning] lambda_l1 is set=2.2721048296547055, reg_alpha=0.0 will be ignored. Current value: lambda_l1=2.2721048296547055\n",
      "[LightGBM] [Warning] feature_fraction is set=0.5532211110962141, colsample_bytree=1.0 will be ignored. Current value: feature_fraction=0.5532211110962141\n",
      "[LightGBM] [Warning] lambda_l2 is set=0.2537792267716766, reg_lambda=0.0 will be ignored. Current value: lambda_l2=0.2537792267716766\n",
      "[LightGBM] [Warning] bagging_freq is set=4, subsample_freq=0 will be ignored. Current value: bagging_freq=4\n"
     ]
    },
    {
     "name": "stderr",
     "output_type": "stream",
     "text": [
      "\u001b[32m[I 2023-03-15 19:56:14,514]\u001b[0m Trial 97 finished with value: 0.7640632227952803 and parameters: {'lambda_l1': 2.2721048296547055, 'lambda_l2': 0.2537792267716766, 'num_leaves': 38, 'feature_fraction': 0.5532211110962141, 'bagging_fraction': 0.42970060671910515, 'bagging_freq': 4, 'min_child_samples': 94}. Best is trial 62 with value: 0.7824044443063581.\u001b[0m\n"
     ]
    },
    {
     "name": "stdout",
     "output_type": "stream",
     "text": [
      "[LightGBM] [Warning] bagging_fraction is set=0.42970060671910515, subsample=1.0 will be ignored. Current value: bagging_fraction=0.42970060671910515\n",
      "[LightGBM] [Warning] lambda_l1 is set=2.2721048296547055, reg_alpha=0.0 will be ignored. Current value: lambda_l1=2.2721048296547055\n",
      "[LightGBM] [Warning] feature_fraction is set=0.5532211110962141, colsample_bytree=1.0 will be ignored. Current value: feature_fraction=0.5532211110962141\n",
      "[LightGBM] [Warning] lambda_l2 is set=0.2537792267716766, reg_lambda=0.0 will be ignored. Current value: lambda_l2=0.2537792267716766\n",
      "[LightGBM] [Warning] bagging_freq is set=4, subsample_freq=0 will be ignored. Current value: bagging_freq=4\n",
      "[LightGBM] [Warning] bagging_fraction is set=0.42970060671910515, subsample=1.0 will be ignored. Current value: bagging_fraction=0.42970060671910515\n",
      "[LightGBM] [Warning] lambda_l1 is set=2.2721048296547055, reg_alpha=0.0 will be ignored. Current value: lambda_l1=2.2721048296547055\n",
      "[LightGBM] [Warning] feature_fraction is set=0.5532211110962141, colsample_bytree=1.0 will be ignored. Current value: feature_fraction=0.5532211110962141\n",
      "[LightGBM] [Warning] lambda_l2 is set=0.2537792267716766, reg_lambda=0.0 will be ignored. Current value: lambda_l2=0.2537792267716766\n",
      "[LightGBM] [Warning] bagging_freq is set=4, subsample_freq=0 will be ignored. Current value: bagging_freq=4\n",
      "[LightGBM] [Warning] bagging_fraction is set=0.40896443419915307, subsample=1.0 will be ignored. Current value: bagging_fraction=0.40896443419915307\n",
      "[LightGBM] [Warning] lambda_l1 is set=0.9240776592953627, reg_alpha=0.0 will be ignored. Current value: lambda_l1=0.9240776592953627\n",
      "[LightGBM] [Warning] feature_fraction is set=0.5753992356565527, colsample_bytree=1.0 will be ignored. Current value: feature_fraction=0.5753992356565527\n",
      "[LightGBM] [Warning] lambda_l2 is set=1.8292057486251017, reg_lambda=0.0 will be ignored. Current value: lambda_l2=1.8292057486251017\n",
      "[LightGBM] [Warning] bagging_freq is set=3, subsample_freq=0 will be ignored. Current value: bagging_freq=3\n",
      "[LightGBM] [Warning] bagging_fraction is set=0.40896443419915307, subsample=1.0 will be ignored. Current value: bagging_fraction=0.40896443419915307\n",
      "[LightGBM] [Warning] lambda_l1 is set=0.9240776592953627, reg_alpha=0.0 will be ignored. Current value: lambda_l1=0.9240776592953627\n",
      "[LightGBM] [Warning] feature_fraction is set=0.5753992356565527, colsample_bytree=1.0 will be ignored. Current value: feature_fraction=0.5753992356565527\n",
      "[LightGBM] [Warning] lambda_l2 is set=1.8292057486251017, reg_lambda=0.0 will be ignored. Current value: lambda_l2=1.8292057486251017\n",
      "[LightGBM] [Warning] bagging_freq is set=3, subsample_freq=0 will be ignored. Current value: bagging_freq=3\n",
      "[LightGBM] [Warning] bagging_fraction is set=0.40896443419915307, subsample=1.0 will be ignored. Current value: bagging_fraction=0.40896443419915307\n",
      "[LightGBM] [Warning] lambda_l1 is set=0.9240776592953627, reg_alpha=0.0 will be ignored. Current value: lambda_l1=0.9240776592953627\n",
      "[LightGBM] [Warning] feature_fraction is set=0.5753992356565527, colsample_bytree=1.0 will be ignored. Current value: feature_fraction=0.5753992356565527\n",
      "[LightGBM] [Warning] lambda_l2 is set=1.8292057486251017, reg_lambda=0.0 will be ignored. Current value: lambda_l2=1.8292057486251017\n",
      "[LightGBM] [Warning] bagging_freq is set=3, subsample_freq=0 will be ignored. Current value: bagging_freq=3\n",
      "[LightGBM] [Warning] bagging_fraction is set=0.40896443419915307, subsample=1.0 will be ignored. Current value: bagging_fraction=0.40896443419915307\n",
      "[LightGBM] [Warning] lambda_l1 is set=0.9240776592953627, reg_alpha=0.0 will be ignored. Current value: lambda_l1=0.9240776592953627\n",
      "[LightGBM] [Warning] feature_fraction is set=0.5753992356565527, colsample_bytree=1.0 will be ignored. Current value: feature_fraction=0.5753992356565527\n",
      "[LightGBM] [Warning] lambda_l2 is set=1.8292057486251017, reg_lambda=0.0 will be ignored. Current value: lambda_l2=1.8292057486251017\n",
      "[LightGBM] [Warning] bagging_freq is set=3, subsample_freq=0 will be ignored. Current value: bagging_freq=3\n",
      "[LightGBM] [Warning] bagging_fraction is set=0.40896443419915307, subsample=1.0 will be ignored. Current value: bagging_fraction=0.40896443419915307\n",
      "[LightGBM] [Warning] lambda_l1 is set=0.9240776592953627, reg_alpha=0.0 will be ignored. Current value: lambda_l1=0.9240776592953627\n",
      "[LightGBM] [Warning] feature_fraction is set=0.5753992356565527, colsample_bytree=1.0 will be ignored. Current value: feature_fraction=0.5753992356565527\n",
      "[LightGBM] [Warning] lambda_l2 is set=1.8292057486251017, reg_lambda=0.0 will be ignored. Current value: lambda_l2=1.8292057486251017\n",
      "[LightGBM] [Warning] bagging_freq is set=3, subsample_freq=0 will be ignored. Current value: bagging_freq=3\n"
     ]
    },
    {
     "name": "stderr",
     "output_type": "stream",
     "text": [
      "\u001b[32m[I 2023-03-15 19:56:14,851]\u001b[0m Trial 98 finished with value: 0.7593082223464999 and parameters: {'lambda_l1': 0.9240776592953627, 'lambda_l2': 1.8292057486251017, 'num_leaves': 195, 'feature_fraction': 0.5753992356565527, 'bagging_fraction': 0.40896443419915307, 'bagging_freq': 3, 'min_child_samples': 75}. Best is trial 62 with value: 0.7824044443063581.\u001b[0m\n"
     ]
    },
    {
     "name": "stdout",
     "output_type": "stream",
     "text": [
      "[LightGBM] [Warning] bagging_fraction is set=0.448485641853016, subsample=1.0 will be ignored. Current value: bagging_fraction=0.448485641853016\n",
      "[LightGBM] [Warning] lambda_l1 is set=4.185169175636314, reg_alpha=0.0 will be ignored. Current value: lambda_l1=4.185169175636314\n",
      "[LightGBM] [Warning] feature_fraction is set=0.5429792429790566, colsample_bytree=1.0 will be ignored. Current value: feature_fraction=0.5429792429790566\n",
      "[LightGBM] [Warning] lambda_l2 is set=2.7525862759465975, reg_lambda=0.0 will be ignored. Current value: lambda_l2=2.7525862759465975\n",
      "[LightGBM] [Warning] bagging_freq is set=2, subsample_freq=0 will be ignored. Current value: bagging_freq=2\n",
      "[LightGBM] [Warning] bagging_fraction is set=0.448485641853016, subsample=1.0 will be ignored. Current value: bagging_fraction=0.448485641853016\n",
      "[LightGBM] [Warning] lambda_l1 is set=4.185169175636314, reg_alpha=0.0 will be ignored. Current value: lambda_l1=4.185169175636314\n",
      "[LightGBM] [Warning] feature_fraction is set=0.5429792429790566, colsample_bytree=1.0 will be ignored. Current value: feature_fraction=0.5429792429790566\n",
      "[LightGBM] [Warning] lambda_l2 is set=2.7525862759465975, reg_lambda=0.0 will be ignored. Current value: lambda_l2=2.7525862759465975\n",
      "[LightGBM] [Warning] bagging_freq is set=2, subsample_freq=0 will be ignored. Current value: bagging_freq=2\n",
      "[LightGBM] [Warning] bagging_fraction is set=0.448485641853016, subsample=1.0 will be ignored. Current value: bagging_fraction=0.448485641853016\n",
      "[LightGBM] [Warning] lambda_l1 is set=4.185169175636314, reg_alpha=0.0 will be ignored. Current value: lambda_l1=4.185169175636314\n",
      "[LightGBM] [Warning] feature_fraction is set=0.5429792429790566, colsample_bytree=1.0 will be ignored. Current value: feature_fraction=0.5429792429790566\n",
      "[LightGBM] [Warning] lambda_l2 is set=2.7525862759465975, reg_lambda=0.0 will be ignored. Current value: lambda_l2=2.7525862759465975\n",
      "[LightGBM] [Warning] bagging_freq is set=2, subsample_freq=0 will be ignored. Current value: bagging_freq=2\n",
      "[LightGBM] [Warning] bagging_fraction is set=0.448485641853016, subsample=1.0 will be ignored. Current value: bagging_fraction=0.448485641853016\n",
      "[LightGBM] [Warning] lambda_l1 is set=4.185169175636314, reg_alpha=0.0 will be ignored. Current value: lambda_l1=4.185169175636314\n",
      "[LightGBM] [Warning] feature_fraction is set=0.5429792429790566, colsample_bytree=1.0 will be ignored. Current value: feature_fraction=0.5429792429790566\n",
      "[LightGBM] [Warning] lambda_l2 is set=2.7525862759465975, reg_lambda=0.0 will be ignored. Current value: lambda_l2=2.7525862759465975\n",
      "[LightGBM] [Warning] bagging_freq is set=2, subsample_freq=0 will be ignored. Current value: bagging_freq=2\n"
     ]
    },
    {
     "name": "stderr",
     "output_type": "stream",
     "text": [
      "\u001b[32m[I 2023-03-15 19:56:15,156]\u001b[0m Trial 99 finished with value: 0.767373409418864 and parameters: {'lambda_l1': 4.185169175636314, 'lambda_l2': 2.7525862759465975, 'num_leaves': 84, 'feature_fraction': 0.5429792429790566, 'bagging_fraction': 0.448485641853016, 'bagging_freq': 2, 'min_child_samples': 89}. Best is trial 62 with value: 0.7824044443063581.\u001b[0m\n"
     ]
    },
    {
     "name": "stdout",
     "output_type": "stream",
     "text": [
      "[LightGBM] [Warning] bagging_fraction is set=0.448485641853016, subsample=1.0 will be ignored. Current value: bagging_fraction=0.448485641853016\n",
      "[LightGBM] [Warning] lambda_l1 is set=4.185169175636314, reg_alpha=0.0 will be ignored. Current value: lambda_l1=4.185169175636314\n",
      "[LightGBM] [Warning] feature_fraction is set=0.5429792429790566, colsample_bytree=1.0 will be ignored. Current value: feature_fraction=0.5429792429790566\n",
      "[LightGBM] [Warning] lambda_l2 is set=2.7525862759465975, reg_lambda=0.0 will be ignored. Current value: lambda_l2=2.7525862759465975\n",
      "[LightGBM] [Warning] bagging_freq is set=2, subsample_freq=0 will be ignored. Current value: bagging_freq=2\n"
     ]
    },
    {
     "data": {
      "text/plain": [
       "{'lambda_l1': 9.25460943999764,\n",
       " 'lambda_l2': 2.178249332211151,\n",
       " 'num_leaves': 38,\n",
       " 'feature_fraction': 0.56329562301042,\n",
       " 'bagging_fraction': 0.4013740644347293,\n",
       " 'bagging_freq': 3,\n",
       " 'min_child_samples': 90}"
      ]
     },
     "execution_count": 8,
     "metadata": {},
     "output_type": "execute_result"
    }
   ],
   "source": [
    "study = run_study(X_train, y_train)\n",
    "study.best_params"
   ]
  },
  {
   "cell_type": "code",
   "execution_count": 9,
   "id": "902e9d85",
   "metadata": {
    "execution": {
     "iopub.execute_input": "2023-03-15T19:56:15.212847Z",
     "iopub.status.busy": "2023-03-15T19:56:15.212554Z",
     "iopub.status.idle": "2023-03-15T19:56:15.276076Z",
     "shell.execute_reply": "2023-03-15T19:56:15.271781Z"
    },
    "papermill": {
     "duration": 0.088014,
     "end_time": "2023-03-15T19:56:15.279015",
     "exception": false,
     "start_time": "2023-03-15T19:56:15.191001",
     "status": "completed"
    },
    "tags": []
   },
   "outputs": [
    {
     "name": "stdout",
     "output_type": "stream",
     "text": [
      "[LightGBM] [Warning] bagging_fraction is set=0.4013740644347293, subsample=1.0 will be ignored. Current value: bagging_fraction=0.4013740644347293\n",
      "[LightGBM] [Warning] lambda_l1 is set=9.25460943999764, reg_alpha=0.0 will be ignored. Current value: lambda_l1=9.25460943999764\n",
      "[LightGBM] [Warning] feature_fraction is set=0.56329562301042, colsample_bytree=1.0 will be ignored. Current value: feature_fraction=0.56329562301042\n",
      "[LightGBM] [Warning] lambda_l2 is set=2.178249332211151, reg_lambda=0.0 will be ignored. Current value: lambda_l2=2.178249332211151\n",
      "[LightGBM] [Warning] bagging_freq is set=3, subsample_freq=0 will be ignored. Current value: bagging_freq=3\n",
      "Brier Score: 0.15803938620525926\n",
      "ROC AUC: 0.8614969135802469\n",
      "Parameters\n",
      "- boosting_type: gbdt\n",
      "- class_weight: None\n",
      "- colsample_bytree: 1.0\n",
      "- importance_type: split\n",
      "- learning_rate: 0.1\n",
      "- max_depth: -1\n",
      "- min_child_samples: 90\n",
      "- min_child_weight: 0.001\n",
      "- min_split_gain: 0.0\n",
      "- n_estimators: 100\n",
      "- n_jobs: -1\n",
      "- num_leaves: 38\n",
      "- objective: binary\n",
      "- random_state: None\n",
      "- reg_alpha: 0.0\n",
      "- reg_lambda: 0.0\n",
      "- silent: warn\n",
      "- subsample: 1.0\n",
      "- subsample_for_bin: 200000\n",
      "- subsample_freq: 0\n",
      "- metric: roc_auc\n",
      "- verbosity: -1\n",
      "- lambda_l1: 9.25460943999764\n",
      "- lambda_l2: 2.178249332211151\n",
      "- feature_fraction: 0.56329562301042\n",
      "- bagging_fraction: 0.4013740644347293\n",
      "- bagging_freq: 3\n",
      "Features\n",
      "- OrdinalRankDiff: 28\n",
      "- SeedDiff: 26\n",
      "- FGMRegDiff: 13\n",
      "- TOTouDiff: 13\n",
      "- ScoreOppTouDiff: 11\n",
      "- OROppTouDiff: 11\n",
      "- ScoreOppRegDiff: 10\n",
      "- ScoreTouDiff: 10\n",
      "- ScoreRegDiff: 9\n",
      "- DROppRegDiff: 9\n",
      "- FGARegDiff: 8\n",
      "- FGPRegDiff: 8\n",
      "- FGAOppTouDiff: 7\n",
      "- FGA3RegDiff: 6\n",
      "- BlkRegDiff: 6\n",
      "- AstTouDiff: 6\n",
      "- AstRegDiff: 5\n",
      "- AstOppRegDiff: 5\n",
      "- FGP3OppRegDiff: 5\n",
      "- FTMTouDiff: 5\n",
      "- TOOppTouDiff: 5\n",
      "- FGAOppRegDiff: 4\n",
      "- FTMOppRegDiff: 4\n",
      "- OROppRegDiff: 4\n",
      "- FTPOppRegDiff: 4\n",
      "- FGA3TouDiff: 4\n",
      "- DRTouDiff: 4\n",
      "- FTPTouDiff: 4\n",
      "- FTPOppTouDiff: 4\n",
      "- FTAOppRegDiff: 3\n",
      "- TOOppRegDiff: 3\n",
      "- FGMTouDiff: 3\n",
      "- FGATouDiff: 3\n",
      "- FGP3TouDiff: 3\n",
      "- FGPOppTouDiff: 3\n",
      "- FGP3OppTouDiff: 3\n",
      "- FGM3RegDiff: 2\n",
      "- ORRegDiff: 2\n",
      "- DRRegDiff: 2\n",
      "- FGMOppRegDiff: 2\n",
      "- FGA3OppRegDiff: 2\n",
      "- FGP3RegDiff: 2\n",
      "- FTATouDiff: 2\n",
      "- StlTouDiff: 2\n",
      "- PFTouDiff: 2\n",
      "- FTAOppTouDiff: 2\n",
      "- BlkOppTouDiff: 2\n",
      "- FTMRegDiff: 1\n",
      "- FTARegDiff: 1\n",
      "- PFRegDiff: 1\n",
      "- PFOppRegDiff: 1\n",
      "- FTPRegDiff: 1\n",
      "- ORTouDiff: 1\n",
      "- BlkTouDiff: 1\n",
      "- FGA3OppTouDiff: 1\n",
      "- DROppTouDiff: 1\n",
      "- AstOppTouDiff: 1\n",
      "- StlOppTouDiff: 1\n",
      "- FGPTouDiff: 1\n",
      "- NumOTRegDiff: 0\n",
      "- TORegDiff: 0\n",
      "- StlRegDiff: 0\n",
      "- FGM3OppRegDiff: 0\n",
      "- StlOppRegDiff: 0\n",
      "- BlkOppRegDiff: 0\n",
      "- FGPOppRegDiff: 0\n",
      "- NumOTTouDiff: 0\n",
      "- FGM3TouDiff: 0\n",
      "- FGMOppTouDiff: 0\n",
      "- FGM3OppTouDiff: 0\n",
      "- FTMOppTouDiff: 0\n",
      "- PFOppTouDiff: 0\n"
     ]
    }
   ],
   "source": [
    "model = train_optimized_model(study, X_train, y_train)\n",
    "preds = model.predict_proba(X_valid)[:,1]\n",
    "print(\"Brier Score:\", brier_score_loss(y_valid, preds))\n",
    "print(\"ROC AUC:\", roc_auc_score(y_valid, preds))\n",
    "print(\"Parameters\")\n",
    "print(*(f\"- {key}: {value}\" for key, value in model.get_params(deep=True).items()), sep=\"\\n\")\n",
    "print(\"Features\")\n",
    "print(*(f\"- {name}: {imp}\" for name, imp in sorted(zip(model.feature_name_, model.feature_importances_), key=lambda x: x[1], reverse=True)), sep=\"\\n\")\n"
   ]
  },
  {
   "cell_type": "markdown",
   "id": "db3d00dd",
   "metadata": {
    "papermill": {
     "duration": 0.021071,
     "end_time": "2023-03-15T19:56:15.323073",
     "exception": false,
     "start_time": "2023-03-15T19:56:15.302002",
     "status": "completed"
    },
    "tags": []
   },
   "source": [
    "# Submit to the competition\n",
    "\n",
    "We\"ll begin by using the trained model to generate predictions, which we\"ll save to a CSV file."
   ]
  },
  {
   "cell_type": "code",
   "execution_count": 10,
   "id": "9f9ac79a",
   "metadata": {
    "execution": {
     "iopub.execute_input": "2023-03-15T19:56:15.365521Z",
     "iopub.status.busy": "2023-03-15T19:56:15.365229Z",
     "iopub.status.idle": "2023-03-15T19:56:17.787252Z",
     "shell.execute_reply": "2023-03-15T19:56:17.786017Z"
    },
    "papermill": {
     "duration": 2.446438,
     "end_time": "2023-03-15T19:56:17.790125",
     "exception": false,
     "start_time": "2023-03-15T19:56:15.343687",
     "status": "completed"
    },
    "tags": []
   },
   "outputs": [
    {
     "name": "stdout",
     "output_type": "stream",
     "text": [
      "[LightGBM] [Warning] bagging_fraction is set=0.4013740644347293, subsample=1.0 will be ignored. Current value: bagging_fraction=0.4013740644347293\n",
      "[LightGBM] [Warning] lambda_l1 is set=9.25460943999764, reg_alpha=0.0 will be ignored. Current value: lambda_l1=9.25460943999764\n",
      "[LightGBM] [Warning] feature_fraction is set=0.56329562301042, colsample_bytree=1.0 will be ignored. Current value: feature_fraction=0.56329562301042\n",
      "[LightGBM] [Warning] lambda_l2 is set=2.178249332211151, reg_lambda=0.0 will be ignored. Current value: lambda_l2=2.178249332211151\n",
      "[LightGBM] [Warning] bagging_freq is set=3, subsample_freq=0 will be ignored. Current value: bagging_freq=3\n",
      "(614319, 2)\n"
     ]
    },
    {
     "data": {
      "text/html": [
       "<div>\n",
       "<style scoped>\n",
       "    .dataframe tbody tr th:only-of-type {\n",
       "        vertical-align: middle;\n",
       "    }\n",
       "\n",
       "    .dataframe tbody tr th {\n",
       "        vertical-align: top;\n",
       "    }\n",
       "\n",
       "    .dataframe thead th {\n",
       "        text-align: right;\n",
       "    }\n",
       "</style>\n",
       "<table border=\"1\" class=\"dataframe\">\n",
       "  <thead>\n",
       "    <tr style=\"text-align: right;\">\n",
       "      <th></th>\n",
       "      <th>Pred</th>\n",
       "    </tr>\n",
       "  </thead>\n",
       "  <tbody>\n",
       "    <tr>\n",
       "      <th>count</th>\n",
       "      <td>614319.000000</td>\n",
       "    </tr>\n",
       "    <tr>\n",
       "      <th>mean</th>\n",
       "      <td>0.500449</td>\n",
       "    </tr>\n",
       "    <tr>\n",
       "      <th>std</th>\n",
       "      <td>0.021560</td>\n",
       "    </tr>\n",
       "    <tr>\n",
       "      <th>min</th>\n",
       "      <td>0.061142</td>\n",
       "    </tr>\n",
       "    <tr>\n",
       "      <th>25%</th>\n",
       "      <td>0.500430</td>\n",
       "    </tr>\n",
       "    <tr>\n",
       "      <th>50%</th>\n",
       "      <td>0.500430</td>\n",
       "    </tr>\n",
       "    <tr>\n",
       "      <th>75%</th>\n",
       "      <td>0.500430</td>\n",
       "    </tr>\n",
       "    <tr>\n",
       "      <th>max</th>\n",
       "      <td>0.948891</td>\n",
       "    </tr>\n",
       "  </tbody>\n",
       "</table>\n",
       "</div>"
      ],
      "text/plain": [
       "                Pred\n",
       "count  614319.000000\n",
       "mean        0.500449\n",
       "std         0.021560\n",
       "min         0.061142\n",
       "25%         0.500430\n",
       "50%         0.500430\n",
       "75%         0.500430\n",
       "max         0.948891"
      ]
     },
     "execution_count": 10,
     "metadata": {},
     "output_type": "execute_result"
    }
   ],
   "source": [
    "# Use the model to generate predictions\n",
    "model.fit(X, y)\n",
    "predictions = model.predict_proba(X_submission)[:,1]\n",
    "\n",
    "# Save the predictions to a CSV file\n",
    "output = pd.DataFrame({\"ID\": X_submission.index,\n",
    "                       \"Pred\": predictions})\n",
    "output.to_csv(\"submission.csv\", index=False)\n",
    "print(output.shape)\n",
    "output.describe()"
   ]
  },
  {
   "cell_type": "code",
   "execution_count": null,
   "id": "b57405e9",
   "metadata": {
    "papermill": {
     "duration": 0.021243,
     "end_time": "2023-03-15T19:56:17.833516",
     "exception": false,
     "start_time": "2023-03-15T19:56:17.812273",
     "status": "completed"
    },
    "tags": []
   },
   "outputs": [],
   "source": []
  }
 ],
 "metadata": {
  "kernelspec": {
   "display_name": "Python 3",
   "language": "python",
   "name": "python3"
  },
  "language_info": {
   "codemirror_mode": {
    "name": "ipython",
    "version": 3
   },
   "file_extension": ".py",
   "mimetype": "text/x-python",
   "name": "python",
   "nbconvert_exporter": "python",
   "pygments_lexer": "ipython3",
   "version": "3.7.12"
  },
  "papermill": {
   "default_parameters": {},
   "duration": 103.11088,
   "end_time": "2023-03-15T19:56:18.776912",
   "environment_variables": {},
   "exception": null,
   "input_path": "__notebook__.ipynb",
   "output_path": "__notebook__.ipynb",
   "parameters": {},
   "start_time": "2023-03-15T19:54:35.666032",
   "version": "2.4.0"
  }
 },
 "nbformat": 4,
 "nbformat_minor": 5
}
